{
 "metadata": {
  "name": "",
  "signature": "sha256:a83e61ee6dfab02f1f7f17de523386745be9038a57dc49ea703bf0d5ea55354b"
 },
 "nbformat": 3,
 "nbformat_minor": 0,
 "worksheets": [
  {
   "cells": [
    {
     "cell_type": "heading",
     "level": 1,
     "metadata": {},
     "source": [
      "Notebooks et interpr\u00e9teur python"
     ]
    },
    {
     "cell_type": "markdown",
     "metadata": {},
     "source": [
      "Pour illustrer les vid\u00e9os du MOOC, nous avons choisi d'utiliser ipython pour vous r\u00e9diger les documents \"mixtes\" contenant du texte et du code python, qu'on appelle des \"notebooks\", et dont le pr\u00e9sent document est un exemple."
     ]
    },
    {
     "cell_type": "heading",
     "level": 3,
     "metadata": {},
     "source": [
      "Avantages des notebooks"
     ]
    },
    {
     "cell_type": "markdown",
     "metadata": {},
     "source": [
      "Par rapport \u00e0 du code python \"brut\", les notebooks pr\u00e9sentent le premier avantage d'\u00eatre beaucoup plus lisible, car les parties textuelles peuvent \u00eatre mises en forme. \n",
      "\n",
      "En second lieu, le code python ins\u00e9r\u00e9 dans un notebook est interpr\u00e9t\u00e9 au travers d'une page web, sur une machine distante, ce qui vous permet de faire vos premiers pas avant m\u00eame d'avoir proc\u00e9d\u00e9 \u00e0 l'installation de python sur votre propre ordinateur."
     ]
    },
    {
     "cell_type": "heading",
     "level": 3,
     "metadata": {},
     "source": [
      "Attention \u00e0 bien \u00e9valuer le code dans le bon ordre"
     ]
    },
    {
     "cell_type": "markdown",
     "metadata": {},
     "source": [
      "XXX section \u00e0 v\u00e9rifier en fonction du d\u00e9ploiement FUN XXX\n",
      "\n",
      "Un notebook est constitu\u00e9 d'une suite de cellules, soit textuelles, soit contenant du code. Les cellules de code sont reconnaissables, elles sont pr\u00e9c\u00e9d\u00e9es de $\\texttt{In []:}$.\n",
      "\n",
      "Pour voir le r\u00e9sultat d'une cellule de code, il faut la s\u00e9lectionner; puis \n",
      "vous disposez d'un bouton en forme de fl\u00eache triangulaire (play) vers la droite, qui vous fait passer d'une cellule \u00e0 la suivante, en \u00e9valuant le code. Pour \"ex\u00e9cuter\" l'ensemble du notebook, on part de la premi\u00e8re cellule, et on clique le bouton \"Play\" jusqu'au bout du notebook. Alternativement vous pouvez taper simplement $\\textbf{\"Shift+Enter\"}$ pour obtenir le m\u00eame effet.\n",
      "\n",
      "Entrainez-vous avec la cellule de code suivante:"
     ]
    },
    {
     "cell_type": "code",
     "collapsed": false,
     "input": [
      "20 * 30"
     ],
     "language": "python",
     "metadata": {},
     "outputs": []
    },
    {
     "cell_type": "markdown",
     "metadata": {},
     "source": [
      "Lorsqu'une cellule de code a bien \u00e9t\u00e9 \u00e9valu\u00e9e, ipython ajoute le r\u00e9sultat de l'\u00e9valuation un nombre entre les crochets pour afficher, par exemple ci-dessus, $\\texttt{In [1]:}$. Vous devez aussi avoir une ligne commen\u00e7ant par $\\texttt{Out[1]:}$ qui s'affiche avec le r\u00e9sultat de la ligne de code, soit 600."
     ]
    },
    {
     "cell_type": "heading",
     "level": 3,
     "metadata": {},
     "source": [
      "Attention \u00e0 bien \u00e9valuer les cellules dans l'ordre"
     ]
    },
    {
     "cell_type": "markdown",
     "metadata": {},
     "source": [
      "Il est important que les cellules de code soient \u00e9valu\u00e9es dans le bon ordre. \n",
      "\n",
      "Si vous ne respectez pas l'ordre dans lequel les cellules de code sont pr\u00e9sent\u00e9es, le r\u00e9sultat peut \u00eatre diff\u00e9rent de celui pr\u00e9vu lors de la r\u00e9daction du notebook. \n",
      "\n",
      "C'est une question de bon sens, et cela vous appara\u00eetra nettement tr\u00e8s bient\u00f4t; \u00e9valuer un programme sous forme de notebook revient \u00e0 le d\u00e9couper en petits fragments, et si on \u00e9value ces fragments dans le d\u00e9sordre on obtient naturellement un programme diff\u00e9rent."
     ]
    },
    {
     "cell_type": "heading",
     "level": 3,
     "metadata": {},
     "source": [
      "Une seule passe"
     ]
    },
    {
     "cell_type": "markdown",
     "metadata": {},
     "source": [
      "XXX \u00e0 v\u00e9rifier \u00e9galement XXX\n",
      "On peut \u00e9galement \u00e9valuer tout le notebook en une seule passe une bonne fois pour toutes en utilisant le menu \"Cell -> Run All\".\n",
      "\n",
      "Attention toutefois que certains de nos notebooks peuvent contenir, surtout au d\u00e9but du cours, des constructions intentionnellement incorrectes, et dans ce cas la fonction \"Run All\" va s'arr\u00eater \u00e0 cette cellule."
     ]
    },
    {
     "cell_type": "heading",
     "level": 3,
     "metadata": {},
     "source": [
      "\\texttt{print} ou pas \\texttt{print}"
     ]
    },
    {
     "cell_type": "markdown",
     "metadata": {},
     "source": [
      "Lorsqu'on utilise l'interpr\u00e9teur, \u00e0 chaque fois que l'on tape une ligne, le r\u00e9sultat est calcul\u00e9 (on dit \"\u00e9valu\u00e9\") $\\texttt{et imprim\u00e9}$\n",
      "\n",
      "Par contre lorsqu'on \u00e9crit tout un programme, on ne peut plus imprimer le r\u00e9sultat de toutes les lignes, ce qui produirait un flot d'impression beaucoup trop important. C'est ce qui se passe d'ailleurs ici dans un \"notebook\", seul le dernier r\u00e9sultat est imprim\u00e9. "
     ]
    },
    {
     "cell_type": "code",
     "collapsed": false,
     "input": [
      "10 * 10\n",
      "20 * 20\n",
      "30 * 30"
     ],
     "language": "python",
     "metadata": {},
     "outputs": []
    },
    {
     "cell_type": "markdown",
     "metadata": {},
     "source": [
      "Ceci est \u00e0 mettre en contraste avec l'interpr\u00e9teur python; si on faisait la m\u00eame chose avec lui, on obtiendrait"
     ]
    },
    {
     "cell_type": "raw",
     "metadata": {},
     "source": [
      "~ $ python\n",
      "Python 2.7.7 (default, Jun  2 2014, 01:41:14)\n",
      "[GCC 4.2.1 Compatible Apple LLVM 5.1 (clang-503.0.40)] on darwin\n",
      "Type \"help\", \"copyright\", \"credits\" or \"license\" for more information.\n",
      ">>> 10 * 10\n",
      "100\n",
      ">>> 20 * 20\n",
      "400\n",
      ">>> 30 * 30\n",
      "900"
     ]
    },
    {
     "cell_type": "markdown",
     "metadata": {},
     "source": [
      "Si maintenant on ex\u00e9cutait le m\u00eame code sous forme de programme python termin\u00e9 et en ordre de bataille, on n'obtiendrait cette fois .. aucune impression."
     ]
    },
    {
     "cell_type": "raw",
     "metadata": {},
     "source": [
      "~ $ cat > foo.py\n",
      "10 * 10\n",
      "20 * 20\n",
      "30 * 30\n",
      "~ $ python foo.py"
     ]
    },
    {
     "cell_type": "markdown",
     "metadata": {},
     "source": [
      "XXXX finir de mettre en forme\n",
      "j'aime bien cette idee de montrer les 3 outils\n",
      "il faut sans doute juste trouver le bon ordre...\n",
      "puis on peut bien conclure par l'introduction de print comme ceci:"
     ]
    },
    {
     "cell_type": "markdown",
     "metadata": {},
     "source": [
      "Ainsi pour afficher un r\u00e9sultat interm\u00e9diaire, on utilise la fonction \\texttt{print}. Nous verrons cette fonction plus en d\u00e9tail, mais en guise d'introduction disons seulement qu'on lui passe une liste d'expressions comme ceci:"
     ]
    },
    {
     "cell_type": "code",
     "collapsed": false,
     "input": [
      "print a,b"
     ],
     "language": "python",
     "metadata": {},
     "outputs": []
    },
    {
     "cell_type": "markdown",
     "metadata": {},
     "source": [
      "On peut naturellement m\u00e9langer des objets de plusieurs types, et donc m\u00e9langer des strings et des nombres pour obtenir un r\u00e9sultat un peu plus lisible; en effet lorsque le programme devient gros, il est important de savoir \u00e0 quoi correspond une ligne dans le flot de toutes les impressions:"
     ]
    },
    {
     "cell_type": "code",
     "collapsed": false,
     "input": [
      "print \"a=\",a,\"et b=\",b"
     ],
     "language": "python",
     "metadata": {},
     "outputs": []
    }
   ],
   "metadata": {}
  }
 ]
}