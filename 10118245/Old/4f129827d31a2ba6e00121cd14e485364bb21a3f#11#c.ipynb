{
 "metadata": {
  "notebookname": "packages",
  "signature": "sha256:b7c2967f74289e0e18570c222b8d7bcb597d35b4faf4ffc1482f685cfc3b04a8",
  "version": "1.0"
 },
 "nbformat": 3,
 "nbformat_minor": 0,
 "worksheets": [
  {
   "cells": [
    {
     "cell_type": "heading",
     "level": 1,
     "metadata": {},
     "source": [
      "La notion de package"
     ]
    },
    {
     "cell_type": "heading",
     "level": 2,
     "metadata": {},
     "source": [
      "Compl\u00e9ment - niveau basique"
     ]
    },
    {
     "cell_type": "markdown",
     "metadata": {},
     "source": [
      "Dans ce compl\u00e9ment, nous approfondissons la notion de module, qui a \u00e9t\u00e9 introduite dans la vid\u00e9o, et nous d\u00e9crivons la notion de *package* qui permet de cr\u00e9er des librairies plus structur\u00e9es qu'avec un simple module."
     ]
    },
    {
     "cell_type": "markdown",
     "metadata": {},
     "source": [
      "Pour ce notebook nous aurons besoin de deux utilitaires pour voir le code correspondant aux modules et packages que nous manipulons"
     ]
    },
    {
     "cell_type": "code",
     "collapsed": false,
     "input": [
      "from modtools import show_module, show_package"
     ],
     "language": "python",
     "metadata": {},
     "outputs": [],
     "prompt_number": 1
    },
    {
     "cell_type": "heading",
     "level": 3,
     "metadata": {},
     "source": [
      "Rappel sur les modules"
     ]
    },
    {
     "cell_type": "markdown",
     "metadata": {},
     "source": [
      "Nous avons vu dans la vid\u00e9o qu'on peut charger une librairie, lorsqu'elle se pr\u00e9sente sous la forme d'un seul fichier source, au travers d'un objet python de type **module**. "
     ]
    },
    {
     "cell_type": "markdown",
     "metadata": {},
     "source": [
      "Chargeons un module \"jouet\""
     ]
    },
    {
     "cell_type": "code",
     "collapsed": false,
     "input": [
      "import module_simple"
     ],
     "language": "python",
     "metadata": {},
     "outputs": [
      {
       "output_type": "stream",
       "stream": "stdout",
       "text": [
        "Chargement du module module_simple\n"
       ]
      }
     ],
     "prompt_number": 2
    },
    {
     "cell_type": "markdown",
     "metadata": {},
     "source": [
      "Voyons \u00e0 quoi ressemble ce module:"
     ]
    },
    {
     "cell_type": "code",
     "collapsed": false,
     "input": [
      "show_module(module_simple)"
     ],
     "language": "python",
     "metadata": {},
     "outputs": [
      {
       "output_type": "stream",
       "stream": "stdout",
       "text": [
        "Fichier C:\\Backup\\Edu\\Python\\Mooc\\flotpython\\modules\\module_simple.py\n",
        "----------------------------------------\n",
        "|# -*- coding: iso-8859-15 -*-\n",
        "|\n",
        "|print \"Chargement du module\",__name__\n",
        "|\n",
        "|def spam (n):\n",
        "|    \"Le polynome (n+1)*(n-3)\"\n",
        "|    return n**2 - 2*n - 3\n"
       ]
      }
     ],
     "prompt_number": 3
    },
    {
     "cell_type": "markdown",
     "metadata": {},
     "source": [
      "Il est important de bien voir que le module joue le r\u00f4le d'**espace de nom**, dans le sens o\u00f9:"
     ]
    },
    {
     "cell_type": "code",
     "collapsed": false,
     "input": [
      "# on peut d\u00e9finir sans rique un variable globale 'spam'\n",
      "spam = 'eggs'\n",
      "# qui est ind\u00e9pendante de celle d\u00e9finie dans le module\n",
      "print \"spam globale\", spam\n",
      "print \"spam du module\", module_simple.spam"
     ],
     "language": "python",
     "metadata": {},
     "outputs": [
      {
       "output_type": "stream",
       "stream": "stdout",
       "text": [
        "spam globale eggs\n",
        "spam du module <function spam at 0x02D55230>\n"
       ]
      }
     ],
     "prompt_number": 4
    },
    {
     "cell_type": "markdown",
     "metadata": {},
     "source": [
      "Pour r\u00e9sumer, un module est donc un objet python qui correspond \u00e0 la fois \u00e0\n",
      " * un (seul) **fichier** sur le disque\n",
      " * un **espace de nom** pour les variables du programme"
     ]
    },
    {
     "cell_type": "heading",
     "level": 3,
     "metadata": {},
     "source": [
      "La notion de package"
     ]
    },
    {
     "cell_type": "markdown",
     "metadata": {},
     "source": [
      "Lorsqu'il s'agit d'impl\u00e9menter une tr\u00e8s grosse librairie, il n'est pas concevable de tout concentrer en un seul fichier. C'est l\u00e0 qu'intervient la notion de **package**, qui est un peu au **r\u00e9pertoires** ce que que le **module** est aux **fichiers**."
     ]
    },
    {
     "cell_type": "markdown",
     "metadata": {},
     "source": [
      "On importe un package exactement comme un module"
     ]
    },
    {
     "cell_type": "code",
     "collapsed": false,
     "input": [
      "import package_jouet"
     ],
     "language": "python",
     "metadata": {},
     "outputs": [
      {
       "output_type": "stream",
       "stream": "stdout",
       "text": [
        "chargement du package package_jouet\n"
       ]
      }
     ],
     "prompt_number": 5
    },
    {
     "cell_type": "markdown",
     "metadata": {},
     "source": [
      "Pour d\u00e9finir un package, il faut obligatoirement cr\u00e9er dans le r\u00e9pertoire (celui, donc, que l'on veut exposer \u00e0 python), un fichier nomm\u00e9 `__init__.py`. Voil\u00e0 comment a \u00e9t\u00e9 impl\u00e9ment\u00e9 le package que nous venons d'importer"
     ]
    },
    {
     "cell_type": "code",
     "collapsed": false,
     "input": [
      "show_package(package_jouet)"
     ],
     "language": "python",
     "metadata": {},
     "outputs": [
      {
       "output_type": "stream",
       "stream": "stdout",
       "text": [
        "Fichier C:\\Backup\\Edu\\Python\\Mooc\\flotpython\\modules\\package_jouet\\__init__.py\n",
        "----------------------------------------\n",
        "|# -*- coding: iso-8859-15 -*-\n",
        "|\n",
        "|print \"chargement du package\", __name__\n",
        "|\n",
        "|spam = range(3)\n",
        "|\n",
        "|__all__ = [ 'module_jouet' ]\n"
       ]
      }
     ],
     "prompt_number": 6
    },
    {
     "cell_type": "markdown",
     "metadata": {},
     "source": [
      "Comme on le voit, importer un package revient essentiellement \u00e0 charger le fichier `__init__.py` correspondant. Le package se pr\u00e9sente aussi comme un espace de nom, \u00e0 pr\u00e9sent on a une troisi\u00e8me variable `spam` qui est encore diff\u00e9rente des deux autres:"
     ]
    },
    {
     "cell_type": "code",
     "collapsed": false,
     "input": [
      "package_jouet.spam"
     ],
     "language": "python",
     "metadata": {},
     "outputs": [
      {
       "metadata": {},
       "output_type": "pyout",
       "prompt_number": 7,
       "text": [
        "[0, 1, 2]"
       ]
      }
     ],
     "prompt_number": 7
    },
    {
     "cell_type": "markdown",
     "metadata": {},
     "source": [
      "L'avantage principal du package par rapport au module est qu'il peut contenir d'autres packages ou modules. Dans notre cas, package \"jouet\" vient avec un module qu'on peut importer en utilisant un attribut du package, c'est-\u00e0-dire comme ceci:"
     ]
    },
    {
     "cell_type": "code",
     "collapsed": false,
     "input": [
      "import package_jouet.module_jouet"
     ],
     "language": "python",
     "metadata": {},
     "outputs": [
      {
       "output_type": "stream",
       "stream": "stdout",
       "text": [
        "Chargement du module package_jouet.module_jouet dans le package 'package_jouet'\n"
       ]
      }
     ],
     "prompt_number": 8
    },
    {
     "cell_type": "markdown",
     "metadata": {},
     "source": [
      "\u00c0 nouveau regardons comment cela est impl\u00e9ment\u00e9; le fichier correspondant au module se trouve naturellement \u00e0 l'int\u00e9rieur du r\u00e9pertoire correspondant au package, c'\u00e9tait le but du jeu au d\u00e9part:"
     ]
    },
    {
     "cell_type": "code",
     "collapsed": false,
     "input": [
      "show_module(package_jouet.module_jouet)"
     ],
     "language": "python",
     "metadata": {},
     "outputs": [
      {
       "output_type": "stream",
       "stream": "stdout",
       "text": [
        "Fichier C:\\Backup\\Edu\\Python\\Mooc\\flotpython\\modules\\package_jouet\\module_jouet.py\n",
        "----------------------------------------\n",
        "|# -*- coding: iso-8859-15 -*-\n",
        "|\n",
        "|print \"Chargement du module\",__name__,\"dans le package 'package_jouet'\"\n",
        "|\n",
        "|spam = 2**10\n"
       ]
      }
     ],
     "prompt_number": 9
    },
    {
     "cell_type": "heading",
     "level": 3,
     "metadata": {},
     "source": [
      "\u00c0 quoi sert `__init__.py` ?"
     ]
    },
    {
     "cell_type": "markdown",
     "metadata": {},
     "source": [
      "Le code plac\u00e9 dans `__init__.py` est charg\u00e9 d'initialiser la librairie. Le fichier **peut \u00eatre vide** mais **doit absolument exister**. Nous vous mettons en garde car c'est une erreur fr\u00e9quente de l'oublier. Sans lui vous ne pourrez importer ni le package, ni les modules ou sous-packages qu'il contient."
     ]
    },
    {
     "cell_type": "heading",
     "level": 2,
     "metadata": {},
     "source": [
      "Compl\u00e9ment - niveau avanc\u00e9"
     ]
    },
    {
     "cell_type": "heading",
     "level": 3,
     "metadata": {},
     "source": [
      "Variables sp\u00e9ciales"
     ]
    },
    {
     "cell_type": "markdown",
     "metadata": {},
     "source": [
      "Comme on le voit dans les exemples, certaines variables *sp\u00e9ciales* peuvent \u00eatre lues ou \u00e9crites dans les modules ou packages. Voici les plus utilis\u00e9es."
     ]
    },
    {
     "cell_type": "heading",
     "level": 5,
     "metadata": {},
     "source": [
      "`__name__`"
     ]
    },
    {
     "cell_type": "code",
     "collapsed": false,
     "input": [
      "print package_jouet.__name__, package_jouet.module_jouet.__name__"
     ],
     "language": "python",
     "metadata": {},
     "outputs": [
      {
       "output_type": "stream",
       "stream": "stdout",
       "text": [
        "package_jouet package_jouet.module_jouet\n"
       ]
      }
     ],
     "prompt_number": 10
    },
    {
     "cell_type": "markdown",
     "metadata": {},
     "source": [
      "Remarquons \u00e0 cet \u00e9gard que le **point d'entr\u00e9e** du programme (c'est-\u00e0-dire, on le rappelle, le fichier qui est pass\u00e9 directement \u00e0 l'interpr\u00e9teur python) est consid\u00e9r\u00e9 comme un module dont l'attribut `__name__` vaut la cha\u00eene `\"__main__\"`"
     ]
    },
    {
     "cell_type": "markdown",
     "metadata": {},
     "source": [
      "C'est pourquoi [(et c'est \u00e9galement expliqu\u00e9 ici)](https://docs.python.org/2/tutorial/modules.html#executing-modules-as-scripts) les scripts python se terminent g\u00e9n\u00e9ralement par une phrase du genre de"
     ]
    },
    {
     "cell_type": "raw",
     "metadata": {},
     "source": [
      "if __name__ == \"__main__\":\n",
      "    <faire vraiment quelque chose>"
     ]
    },
    {
     "cell_type": "heading",
     "level": 5,
     "metadata": {},
     "source": [
      "`__file__`\n"
     ]
    },
    {
     "cell_type": "code",
     "collapsed": false,
     "input": [
      "print package_jouet.__file__ \n",
      "print package_jouet.module_jouet.__file__"
     ],
     "language": "python",
     "metadata": {},
     "outputs": [
      {
       "output_type": "stream",
       "stream": "stdout",
       "text": [
        "C:\\Backup\\Edu\\Python\\Mooc\\flotpython\\modules\\package_jouet\\__init__.py\n",
        "C:\\Backup\\Edu\\Python\\Mooc\\flotpython\\modules\\package_jouet\\module_jouet.py\n"
       ]
      }
     ],
     "prompt_number": 11
    },
    {
     "cell_type": "heading",
     "level": 5,
     "metadata": {},
     "source": [
      "`__all__`"
     ]
    },
    {
     "cell_type": "markdown",
     "metadata": {},
     "source": [
      "Il est possible de red\u00e9finir dans un package la variable `__all__`, de fa\u00e7on \u00e0 ne pas exposer certaines parties du package qui ont vocation \u00e0 rester priv\u00e9es, [comme c'est d\u00e9crit ici](https://docs.python.org/2/tutorial/modules.html#importing-from-a-package)."
     ]
    },
    {
     "cell_type": "heading",
     "level": 3,
     "metadata": {},
     "source": [
      "Pour en savoir plus"
     ]
    },
    {
     "cell_type": "markdown",
     "metadata": {},
     "source": [
      "Voir la [section sur les modules](https://docs.python.org/2/tutorial/modules.html) dans la documentation python, et notamment la [section sur les packages](https://docs.python.org/2/tutorial/modules.html#packages).\n",
      "\n"
     ]
    }
   ],
   "metadata": {}
  }
 ]
}