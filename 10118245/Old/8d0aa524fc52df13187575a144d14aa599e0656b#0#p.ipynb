{
 "metadata": {
  "notebookname": "It\u00e9rateurs",
  "signature": "sha256:6d79ae185fe4d3f75adb80b3f5e300e88b14e81660298ab186066ff28345d330",
  "version": "1.0"
 },
 "nbformat": 3,
 "nbformat_minor": 0,
 "worksheets": [
  {
   "cells": [
    {
     "cell_type": "heading",
     "level": 1,
     "metadata": {},
     "source": [
      "It\u00e9rateurs"
     ]
    }
   ],
   "metadata": {}
  }
 ]
}