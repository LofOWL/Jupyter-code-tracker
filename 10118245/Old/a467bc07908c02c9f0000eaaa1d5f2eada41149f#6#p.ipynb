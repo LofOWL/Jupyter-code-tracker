{
 "metadata": {
  "name": "",
  "signature": "sha256:40b2dec243bd03272ebc91e9d0fff5a46b14a01ef58680dc92eeb47044c99b77"
 },
 "nbformat": 3,
 "nbformat_minor": 0,
 "worksheets": [
  {
   "cells": [
    {
     "cell_type": "heading",
     "level": 1,
     "metadata": {},
     "source": [
      "Slicing avec pas"
     ]
    },
    {
     "cell_type": "heading",
     "level": 3,
     "metadata": {},
     "source": [
      "deprecated : d\u00e9j\u00e0 trait\u00e9 dans le powerpoint..."
     ]
    },
    {
     "cell_type": "markdown",
     "metadata": {},
     "source": [
      "Donnons nous pour illustrer ce compl\u00e9ment la cha\u00eene suivante"
     ]
    },
    {
     "cell_type": "code",
     "collapsed": false,
     "input": [
      "chaine = \"abcdefghijklmnopqrstuvwxyz\" ; print chaine"
     ],
     "language": "python",
     "metadata": {},
     "outputs": []
    },
    {
     "cell_type": "markdown",
     "metadata": {},
     "source": [
      "On a vu en cours qu'une slice permet de d\u00e9signer toute une plage d'\u00e9l\u00e9ments d'une s\u00e9quence. Ainsi on peut \u00e9crire"
     ]
    },
    {
     "cell_type": "code",
     "collapsed": false,
     "input": [
      "chaine [ 3 : -3 ]"
     ],
     "language": "python",
     "metadata": {},
     "outputs": []
    },
    {
     "cell_type": "markdown",
     "metadata": {},
     "source": [
      "Il est \u00e9galement possible de pr\u00e9ciser un 'pas', de fa\u00e7on \u00e0 ne choisir, dans la plage donn\u00e9e, que par exemple un \u00e9l\u00e9ment sur deux. Par exemple:"
     ]
    },
    {
     "cell_type": "code",
     "collapsed": false,
     "input": [
      "chaine [ 3 : -3 : 2 ]"
     ],
     "language": "python",
     "metadata": {},
     "outputs": []
    },
    {
     "cell_type": "markdown",
     "metadata": {},
     "source": [
      "Comme on le devine, le troisi\u00e8me \u00e9l\u00e9ment de la slice, ici '2', d\u00e9termine le pas. On ne retient donc, dans la chaine \"def...\" que \"d\", puis \"f\", et ainsi de suite.\n",
      "\n",
      "On peut pr\u00e9ciser du coup la borne de fin (ici -3) avec un peu de libert\u00e9 puisqu'on obtiendrait un r\u00e9sultat identique avec -4:"
     ]
    },
    {
     "cell_type": "code",
     "collapsed": false,
     "input": [
      "chaine [ 3 : -4 : 2 ]"
     ],
     "language": "python",
     "metadata": {},
     "outputs": []
    },
    {
     "cell_type": "heading",
     "level": 3,
     "metadata": {},
     "source": [
      "Pas n\u00e9gatif"
     ]
    },
    {
     "cell_type": "markdown",
     "metadata": {},
     "source": [
      "Il est m\u00eame possible de sp\u00e9cifier un pas n\u00e9gatif. Dans ce cas, de mani\u00e8re un peu contre-intuitive, il faut pr\u00e9ciser un d\u00e9but (le premier indice de la slice) qui soit \"plus \u00e0 droite\" que la fin (le second indice).\n",
      "\n",
      "Pour prendre un exemple, comme l'\u00e9l\u00e9ment \"-3\" i.e. 'x' est plus \u00e0 droite que l'\u00e9l\u00e9ment que l'\u00e9l\u00e9ment \"3\" i.e. 'd', \u00e9videmment on obtiendrait une liste vide si on ne pr\u00e9cisait pas le pas"
     ]
    },
    {
     "cell_type": "code",
     "collapsed": false,
     "input": [
      "chaine [ -3 : 3 ]"
     ],
     "language": "python",
     "metadata": {},
     "outputs": []
    },
    {
     "cell_type": "markdown",
     "metadata": {},
     "source": [
      "Si maintenant on pr\u00e9cise un pas n\u00e9gatif, on obtient cette fois"
     ]
    },
    {
     "cell_type": "code",
     "collapsed": false,
     "input": [
      "chaine [ -3 : 3 : -2 ]"
     ],
     "language": "python",
     "metadata": {},
     "outputs": []
    },
    {
     "cell_type": "markdown",
     "metadata": {},
     "source": [
      "Remarquons que cette liste n'est pas tout simplement l'inverse de celle obtenue ci-dessus avec un pas positif."
     ]
    }
   ],
   "metadata": {}
  }
 ]
}