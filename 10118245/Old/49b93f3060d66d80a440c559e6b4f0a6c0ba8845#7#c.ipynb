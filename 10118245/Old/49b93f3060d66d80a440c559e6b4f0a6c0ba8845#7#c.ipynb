{
 "cells": [
  {
   "cell_type": "markdown",
   "metadata": {},
   "source": [
    "<span style=\"float:left;\">Licence CC BY-NC-ND</span><span style=\"float:right;\">Thierry Parmentelat &amp; Arnaud Legout&nbsp;<img src=\"media/both-logos-small-alpha.png\" style=\"display:inline\"></span><br/>"
   ]
  },
  {
   "cell_type": "markdown",
   "metadata": {
    "slideshow": {
     "slide_type": "slide"
    }
   },
   "source": [
    "# boucle d'événements `asyncio`"
   ]
  },
  {
   "cell_type": "code",
   "execution_count": null,
   "metadata": {
    "collapsed": true,
    "slideshow": {
     "slide_type": "fragment"
    }
   },
   "outputs": [],
   "source": [
    "import asyncio"
   ]
  },
  {
   "cell_type": "markdown",
   "metadata": {
    "slideshow": {
     "slide_type": "slide"
    }
   },
   "source": [
    "# utilitaire"
   ]
  },
  {
   "cell_type": "markdown",
   "metadata": {},
   "source": [
    "fonctions synchrones (traditionnelles)"
   ]
  },
  {
   "cell_type": "code",
   "execution_count": null,
   "metadata": {
    "collapsed": true
   },
   "outputs": [],
   "source": [
    "from asynchelpers import start_timer, show_timer"
   ]
  },
  {
   "cell_type": "code",
   "execution_count": null,
   "metadata": {
    "cell_style": "center"
   },
   "outputs": [],
   "source": [
    "import time\n",
    "\n",
    "start_timer()\n",
    "time.sleep(1)\n",
    "show_timer('un message')"
   ]
  },
  {
   "cell_type": "markdown",
   "metadata": {
    "slideshow": {
     "slide_type": "slide"
    }
   },
   "source": [
    "# déjà vu"
   ]
  },
  {
   "cell_type": "markdown",
   "metadata": {
    "cell_style": "split",
    "slideshow": {
     "slide_type": "fragment"
    }
   },
   "source": [
    "`loop.run_until_complete()`\n",
    "\n",
    "* exactement un argument"
   ]
  },
  {
   "cell_type": "markdown",
   "metadata": {
    "cell_style": "split",
    "slideshow": {
     "slide_type": "fragment"
    }
   },
   "source": [
    "```\n",
    "asyncio.get_event_loop().run_until_complete(\n",
    "    asyncio.gather(coro1, coro2, ...)\n",
    "))\n",
    "```"
   ]
  },
  {
   "cell_type": "markdown",
   "metadata": {
    "cell_style": "center",
    "slideshow": {
     "slide_type": "slide"
    }
   },
   "source": [
    "# ajout de traitements"
   ]
  },
  {
   "cell_type": "markdown",
   "metadata": {
    "cell_style": "split",
    "slideshow": {
     "slide_type": "fragment"
    }
   },
   "source": [
    "`asyncio.ensure_future(coro)`\n",
    "\n",
    "* exactement un argument\n",
    "* ajoute une coroutine dans la boucle\n",
    "* **avant** ou **après** le lancement de la boucle"
   ]
  },
  {
   "cell_type": "markdown",
   "metadata": {
    "cell_style": "split",
    "slideshow": {
     "slide_type": "fragment"
    }
   },
   "source": [
    "`loop.run_forever()`\n",
    "\n",
    "* sans argument\n",
    "* travaille sur le contenu courant de la boucle\n",
    "* suppose l'utilisation de `ensure_future()`"
   ]
  },
  {
   "cell_type": "markdown",
   "metadata": {
    "slideshow": {
     "slide_type": "slide"
    }
   },
   "source": [
    "# *fork*"
   ]
  },
  {
   "cell_type": "markdown",
   "metadata": {
    "slideshow": {}
   },
   "source": [
    "![figure fork](w8-s6-av-fig1.png)"
   ]
  },
  {
   "cell_type": "code",
   "execution_count": null,
   "metadata": {
    "cell_style": "split",
    "collapsed": true,
    "slideshow": {
     "slide_type": "slide"
    }
   },
   "outputs": [],
   "source": [
    "async def c1():\n",
    "    show_timer(\">>> c1\")\n",
    "    await asyncio.sleep(1)\n",
    "    show_timer(\"forking\")\n",
    "    # fork\n",
    "    asyncio.ensure_future(c2())\n",
    "    await asyncio.sleep(1)\n",
    "    show_timer(\"<<< c1\")"
   ]
  },
  {
   "cell_type": "code",
   "execution_count": null,
   "metadata": {
    "cell_style": "split",
    "collapsed": true,
    "slideshow": {
     "slide_type": "fragment"
    }
   },
   "outputs": [],
   "source": [
    "# sera forkée par c1() après une seconde\n",
    "\n",
    "async def c2():\n",
    "    show_timer(\">>> c2\")\n",
    "    await asyncio.sleep(2)\n",
    "    show_timer(\"<<< c2\")\n",
    "    \n",
    "    "
   ]
  },
  {
   "cell_type": "code",
   "execution_count": null,
   "metadata": {
    "cell_style": "split",
    "slideshow": {
     "slide_type": "fragment"
    }
   },
   "outputs": [],
   "source": [
    "asyncio.ensure_future(c1())"
   ]
  },
  {
   "cell_type": "code",
   "execution_count": null,
   "metadata": {
    "cell_style": "split",
    "slideshow": {
     "slide_type": "fragment"
    }
   },
   "outputs": [],
   "source": [
    "start_timer()\n",
    "\n",
    "# interrompre après 2s\n",
    "try:\n",
    "    asyncio.get_event_loop().run_forever()\n",
    "except KeyboardInterrupt:\n",
    "    print(\"bye\")"
   ]
  },
  {
   "cell_type": "markdown",
   "metadata": {
    "slideshow": {
     "slide_type": "slide"
    }
   },
   "source": [
    "# réinitialisation de la boucle"
   ]
  },
  {
   "cell_type": "code",
   "execution_count": null,
   "metadata": {
    "collapsed": true,
    "slideshow": {
     "slide_type": ""
    }
   },
   "outputs": [],
   "source": [
    "asyncio.set_event_loop(asyncio.new_event_loop())"
   ]
  },
  {
   "cell_type": "markdown",
   "metadata": {},
   "source": [
    "*je vous demande de l'admettre pour l'instant*"
   ]
  },
  {
   "cell_type": "markdown",
   "metadata": {
    "slideshow": {
     "slide_type": "slide"
    }
   },
   "source": [
    "# `loop.stop()`"
   ]
  },
  {
   "cell_type": "code",
   "execution_count": null,
   "metadata": {
    "cell_style": "split",
    "collapsed": true
   },
   "outputs": [],
   "source": [
    "async def c1_stop():\n",
    "    show_timer(\">>> c1\")\n",
    "    await asyncio.sleep(1)\n",
    "    show_timer(\"forking\")\n",
    "    # fork\n",
    "    asyncio.ensure_future(c2_stop())\n",
    "    await asyncio.sleep(1)\n",
    "    show_timer(\"<<< c1\")"
   ]
  },
  {
   "cell_type": "code",
   "execution_count": null,
   "metadata": {
    "cell_style": "split",
    "collapsed": true
   },
   "outputs": [],
   "source": [
    "# sera forkée par c1() après une seconde\n",
    "\n",
    "async def c2_stop():\n",
    "    show_timer(\">>> c2\")\n",
    "    await asyncio.sleep(2)\n",
    "    show_timer(\"<<< c2\")\n",
    "    # attention c'est une méthode bloquante\n",
    "    asyncio.get_event_loop().stop()"
   ]
  },
  {
   "cell_type": "code",
   "execution_count": null,
   "metadata": {
    "cell_style": "split"
   },
   "outputs": [],
   "source": [
    "asyncio.ensure_future(c1_stop())"
   ]
  },
  {
   "cell_type": "code",
   "execution_count": null,
   "metadata": {
    "cell_style": "split"
   },
   "outputs": [],
   "source": [
    "start_timer()\n",
    "\n",
    "# s'arrête tout seul\n",
    "try:\n",
    "    asyncio.get_event_loop().run_forever()\n",
    "except KeyboardInterrupt:\n",
    "    print(\"bye\")\n",
    "    \n",
    "print(\"done\")"
   ]
  },
  {
   "cell_type": "markdown",
   "metadata": {
    "slideshow": {
     "slide_type": "slide"
    }
   },
   "source": [
    "# `run_until_complete` sur une boucle non-vide "
   ]
  },
  {
   "cell_type": "code",
   "execution_count": null,
   "metadata": {
    "collapsed": true,
    "slideshow": {
     "slide_type": "fragment"
    }
   },
   "outputs": [],
   "source": [
    "asyncio.set_event_loop(asyncio.new_event_loop())"
   ]
  },
  {
   "cell_type": "code",
   "execution_count": null,
   "metadata": {
    "cell_style": "center",
    "collapsed": true,
    "slideshow": {
     "slide_type": "fragment"
    }
   },
   "outputs": [],
   "source": [
    "# on simule un job asynchrone de durée duration\n",
    "async def job(name, duration):\n",
    "    show_timer(f\">>> {name}\")\n",
    "    await asyncio.sleep(duration)\n",
    "    show_timer(f\"<<< {name}\")    "
   ]
  },
  {
   "cell_type": "code",
   "execution_count": null,
   "metadata": {
    "cell_style": "split",
    "collapsed": true,
    "slideshow": {
     "slide_type": "fragment"
    }
   },
   "outputs": [],
   "source": [
    "async def short():\n",
    "    await job(\"short\", 1)"
   ]
  },
  {
   "cell_type": "code",
   "execution_count": null,
   "metadata": {
    "cell_style": "split",
    "collapsed": true,
    "slideshow": {
     "slide_type": ""
    }
   },
   "outputs": [],
   "source": [
    "async def long():\n",
    "    await job(\"long\", 2)"
   ]
  },
  {
   "cell_type": "code",
   "execution_count": null,
   "metadata": {
    "slideshow": {
     "slide_type": "fragment"
    }
   },
   "outputs": [],
   "source": [
    "# on remplit la boucle\n",
    "asyncio.ensure_future(long())"
   ]
  },
  {
   "cell_type": "code",
   "execution_count": null,
   "metadata": {
    "cell_style": "split",
    "slideshow": {
     "slide_type": "fragment"
    }
   },
   "outputs": [],
   "source": [
    "# et on appelle run_until_complete\n",
    "start_timer()\n",
    "\n",
    "asyncio.get_event_loop().run_until_complete(short())\n",
    "print(\"done\")"
   ]
  },
  {
   "cell_type": "code",
   "execution_count": null,
   "metadata": {
    "cell_style": "split",
    "slideshow": {
     "slide_type": "fragment"
    }
   },
   "outputs": [],
   "source": [
    "# il reste des choses à faire dans la boucle\n",
    "start_timer()\n",
    "\n",
    "# interrompre après 1s\n",
    "try:\n",
    "    asyncio.get_event_loop().run_forever()\n",
    "except KeyboardInterrupt:\n",
    "    print(\"bye\")"
   ]
  },
  {
   "cell_type": "markdown",
   "metadata": {
    "slideshow": {
     "slide_type": "slide"
    }
   },
   "source": [
    "# `run_until_complete` vs `run_forever`"
   ]
  },
  {
   "cell_type": "markdown",
   "metadata": {
    "cell_style": "center",
    "slideshow": {
     "slide_type": "fragment"
    }
   },
   "source": [
    "* `run_until_complete`\n",
    "\n",
    "   * prend exactement un argument\n",
    "   * retourne la valeur\n",
    "   * insérer un fragment asynchrone au milieu d'un code synchrone\n"
   ]
  },
  {
   "cell_type": "markdown",
   "metadata": {
    "slideshow": {
     "slide_type": "fragment"
    }
   },
   "source": [
    "* `run_forever`\n",
    "  * ne prend pas d'argument\n",
    "  * ne retourne pas (sauf en cas de `stop()`)\n",
    "  * orienté traitement massivement asynchrone"
   ]
  },
  {
   "cell_type": "markdown",
   "metadata": {
    "slideshow": {
     "slide_type": "slide"
    }
   },
   "source": [
    "# `get_event_loop()`"
   ]
  },
  {
   "cell_type": "markdown",
   "metadata": {},
   "source": [
    "* modèle mental\n",
    "  * 1 thread = 1 boucle"
   ]
  },
  {
   "cell_type": "markdown",
   "metadata": {},
   "source": [
    "* `get_event_loop()` \n",
    "  * boucle par défaut du thread courant\n",
    "  * utile pour référencer \"la bonne boucle\" - voir e.g. le code de `c2_stop()`\n",
    "  * inutile de passer une instance de boucle\n",
    "  * ne *crée pas* de boucle en dehors du thread principal  "
   ]
  },
  {
   "cell_type": "markdown",
   "metadata": {
    "slideshow": {
     "slide_type": "slide"
    }
   },
   "source": [
    "# `new_event_loop()` et `set_event_loop()`"
   ]
  },
  {
   "cell_type": "markdown",
   "metadata": {
    "cell_style": "split"
   },
   "source": [
    "* `new_event_loop()`\n",
    "  * crée une nouvelle boucle\n",
    "  * nécessaire dans un thread supplémentaire"
   ]
  },
  {
   "cell_type": "markdown",
   "metadata": {
    "cell_style": "split"
   },
   "source": [
    "* set_event_loop(loop)\n",
    "  * installe cet objet comme boucle par défaut"
   ]
  },
  {
   "cell_type": "markdown",
   "metadata": {
    "slideshow": {
     "slide_type": "slide"
    }
   },
   "source": [
    "# résumé"
   ]
  },
  {
   "cell_type": "markdown",
   "metadata": {
    "slideshow": {
     "slide_type": "fragment"
    }
   },
   "source": [
    "* `ensure_future()`"
   ]
  },
  {
   "cell_type": "markdown",
   "metadata": {
    "slideshow": {
     "slide_type": "fragment"
    }
   },
   "source": [
    "* `run_until_complete()` et `run_forever()`"
   ]
  },
  {
   "cell_type": "markdown",
   "metadata": {
    "slideshow": {
     "slide_type": "fragment"
    }
   },
   "source": [
    "* `get_event_loop()` \n",
    "  * accéde à la boucle (du thread) courant(e)\n",
    "  * `new_event_loop()` et `set_event_loop()`"
   ]
  },
  {
   "cell_type": "markdown",
   "metadata": {},
   "source": [
    "* `loop.stop()`"
   ]
  }
 ],
 "metadata": {
  "celltoolbar": "Slideshow",
  "kernelspec": {
   "display_name": "Python 3",
   "language": "python",
   "name": "python3"
  },
  "language_info": {
   "codemirror_mode": {
    "name": "ipython",
    "version": 3
   },
   "file_extension": ".py",
   "mimetype": "text/x-python",
   "name": "python",
   "nbconvert_exporter": "python",
   "pygments_lexer": "ipython3",
   "version": "3.6.2"
  },
  "livereveal": {
   "auto_select": "code",
   "auto_select_fragment": true,
   "autolaunch": true,
   "backimage": "media/nologo.png",
   "controls": false,
   "height": "100%",
   "slideNumber": false,
   "start_slideshow_at": "selected",
   "theme": "simple",
   "transition": "fade",
   "width": "100%"
  },
  "notebookname": "Boucles d'événements",
  "version": "3.0"
 },
 "nbformat": 4,
 "nbformat_minor": 2
}