{
 "metadata": {
  "notebookname": "Mini-projets",
  "signature": "sha256:699357c4bfecc0a2ff4da4264394a7f7f483cac17cfb90b32abf5a360c8c8ee5",
  "version": "1.0"
 },
 "nbformat": 3,
 "nbformat_minor": 0,
 "worksheets": [
  {
   "cells": [
    {
     "cell_type": "heading",
     "level": 1,
     "metadata": {},
     "source": [
      "Mini-projets"
     ]
    },
    {
     "cell_type": "markdown",
     "metadata": {},
     "source": [
      "Mentionner le point d'entr\u00e9e dans la doc pour voir le contenu de toute la librairie standard&nbsp;:\n",
      "https://docs.python.org/2/library/index.html"
     ]
    }
   ],
   "metadata": {}
  }
 ]
}