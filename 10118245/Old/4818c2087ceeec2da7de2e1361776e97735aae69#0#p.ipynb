{
 "metadata": {
  "notebookname": "Disk usage",
  "signature": "sha256:f5de90b7f574365436c1d49d5efb13bab72e553f7bc0f2f9c92fac170b8c5ccc",
  "version": "1.0"
 },
 "nbformat": 3,
 "nbformat_minor": 0,
 "worksheets": [
  {
   "cells": [
    {
     "cell_type": "heading",
     "level": 1,
     "metadata": {},
     "source": [
      "Utilisation du disque dur"
     ]
    },
    {
     "cell_type": "heading",
     "level": 2,
     "metadata": {},
     "source": [
      "Mini-Projet"
     ]
    },
    {
     "cell_type": "heading",
     "level": 3,
     "metadata": {},
     "source": [
      "Introduction"
     ]
    },
    {
     "cell_type": "markdown",
     "metadata": {},
     "source": [
      "De temps en temps vous vous rendez compte que votre disque dur est plein ou que vous avez rempli votre quota.\n",
      "En application de la loi de Murphy, en g\u00e9n\u00e9ral c'est \u00e0 un mauvais moment; il est vrai qu'on a toujours mieux \u00e0 faire que de nettoyer un disque."
     ]
    },
    {
     "cell_type": "heading",
     "level": 3,
     "metadata": {},
     "source": [
      "Objectifs"
     ]
    },
    {
     "cell_type": "markdown",
     "metadata": {},
     "source": [
      "Dans ce mini-projet nous allons \u00e9crire un utilitaire permettant de nous aider dans ce genre de situations. Les objectifs que l'on pourrait avoir sont&nbsp;:\n",
      " * de trouver rapidement les gros r\u00e9pertoires, en partant d'une racine ou d'un r\u00e9pertoire utilisateur;\n",
      " * de stocker les donn\u00e9es de taille de fa\u00e7on \u00e0 ne pas avoir \u00e0 attendre plusieurs minutes \u00e0 recalculer sans cesse les tailles des diff\u00e9rents morceaux;\n",
      " * et notamment de pouvoir lancer toutes les nuits un scan silencieux, de fa\u00e7on \u00e0 avoir imm\u00e9diatement, dans la journ\u00e9e, acc\u00e8s \u00e0 des informations - m\u00eame approch\u00e9es - de nature \u00e0 identifier le ou les r\u00e9pertoires qui pose probl\u00e8me ou qui a un fort potentiel de lib\u00e9ration d'espace."
     ]
    },
    {
     "cell_type": "heading",
     "level": 3,
     "metadata": {},
     "source": [
      "Approche"
     ]
    },
    {
     "cell_type": "markdown",
     "metadata": {},
     "source": [
      "Pour cela on con\u00e7oit un syst\u00e8me simple qui fonctionne en deux passes&nbsp;:\n",
      " * une premi\u00e8re passe de type *batch* qui stocke dans chaque r\u00e9pertoire, dans un fichier sp\u00e9cial (nous avons utilis\u00e9 le nom `.du`) la taille totale de ce r\u00e9pertoire,\n",
      " * une seconde passe interactive, qui peut\n",
      "   * afficher les tailles des sous-r\u00e9pertoires tri\u00e9s, pr\u00e9cis\u00e9ment, par taille,\n",
      "   * naviguer dans les r\u00e9pertoires sur cette base,\n",
      "   * et proc\u00e9der au nettoyage proprement dit."
     ]
    },
    {
     "cell_type": "heading",
     "level": 3,
     "metadata": {},
     "source": [
      "Exemple d'utilisation"
     ]
    }
   ],
   "metadata": {}
  }
 ]
}