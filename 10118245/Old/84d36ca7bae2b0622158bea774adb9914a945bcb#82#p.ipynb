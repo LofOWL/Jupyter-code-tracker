{
 "metadata": {
  "notebookname": "Passage d'arguments",
  "signature": "97a86918aa75403e95732dd2e5b7db22d2a1cd96d5de06ae15941212e7f8f856",
  "version": "1.0"
 },
 "nbformat": 3,
 "nbformat_minor": 0,
 "worksheets": [
  {
   "cells": [
    {
     "cell_type": "heading",
     "level": 1,
     "metadata": {},
     "source": [
      "Passage d'arguments"
     ]
    },
    {
     "cell_type": "heading",
     "level": 2,
     "metadata": {},
     "source": [
      "Exercice - niveau basique"
     ]
    },
    {
     "cell_type": "markdown",
     "metadata": {},
     "source": [
      "Vous devez \u00e9crire une fonction `distance` qui prend un nombre quelconque d'arguments num\u00e9riques non complexes, et qui retourne la racine carr\u00e9e de la somme des carr\u00e9s des arguments. \n",
      "\n",
      "Plus pr\u00e9cis\u00e9ment :\n",
      "$distance$ ($x_1$, .. $x_n$) = $\\sqrt{\\sum x_i^2}$\n",
      "\n",
      "Par convention on fixe que $ distance() = 0. $"
     ]
    },
    {
     "cell_type": "code",
     "collapsed": false,
     "input": [
      "# des exemples\n",
      "from corrections.w4_fun_args import exo_distance\n",
      "exo_distance.exemple ()"
     ],
     "language": "python",
     "metadata": {},
     "outputs": []
    },
    {
     "cell_type": "code",
     "collapsed": false,
     "input": [
      "# ATTENTION vous devez aussi d\u00e9finir les arguments de la fonction\n",
      "def distance (votre, signature):\n",
      "    \"<votre code>\""
     ],
     "language": "python",
     "metadata": {},
     "outputs": []
    },
    {
     "cell_type": "code",
     "collapsed": false,
     "input": [
      "# la correction\n",
      "exo_distance.correction (distance)"
     ],
     "language": "python",
     "metadata": {},
     "outputs": []
    },
    {
     "cell_type": "heading",
     "level": 2,
     "metadata": {},
     "source": [
      "Exercice - niveau interm\u00e9daire"
     ]
    },
    {
     "cell_type": "markdown",
     "metadata": {},
     "source": [
      "On vous demande d'\u00e9crire une fonction qui prend en argument\n",
      " * une fonction `f`, dont vous savez seulement que le premier argument est num\u00e9rique, et qu'elle ne prend **que des arguments positionnels** (sans valeur par d\u00e9faut)\n",
      " * un nombre quelconque - mais au moins 1 - d'arguments positionnels `args`, dont on sait qu'ils pourraient \u00eatre pass\u00e9s \u00e0 `f`\n",
      " \n",
      "Et on attend en retour le r\u00e9sultat de `f` appliqu\u00e9s \u00e0 tous ces arguments, mais avec le premier d'entre eux multipl\u00e9 par deux.\n",
      "\n",
      "Formellement: doubler_premier (f, $x_1$, ... $x_n$) = f (2*x_1, .. $x_n$)"
     ]
    },
    {
     "cell_type": "code",
     "collapsed": false,
     "input": [
      "# quelques exemples de ce qui est attendu\n",
      "# add et mul sont les op\u00e9rateurs binaires du module operator, \n",
      "# soit l'addition et la multiplication respectivement\n",
      "# distance est la fonction de l'exercice pr\u00e9c\u00e9dent\n",
      "from corrections.w4_fun_args import exo_doubler_premier\n",
      "exo_doubler_premier.exemple ()"
     ],
     "language": "python",
     "metadata": {},
     "outputs": []
    },
    {
     "cell_type": "code",
     "collapsed": false,
     "input": [
      "# ATTENTION vous devez aussi d\u00e9finir les arguments de la fonction\n",
      "def doubler_premier (votre_signature):\n",
      "    \"<votre_code>\""
     ],
     "language": "python",
     "metadata": {},
     "outputs": []
    },
    {
     "cell_type": "code",
     "collapsed": false,
     "input": [
      "def doubler_premier (f, first, *args):\n",
      "    return f (2*first, *args)\n",
      "from corrections.w4_fun_args import doubler_premier_bis as doubler_premier"
     ],
     "language": "python",
     "metadata": {},
     "outputs": []
    },
    {
     "cell_type": "code",
     "collapsed": false,
     "input": [
      "exo_doubler_premier.correction (doubler_premier)"
     ],
     "language": "python",
     "metadata": {},
     "outputs": []
    },
    {
     "cell_type": "heading",
     "level": 2,
     "metadata": {},
     "source": [
      "Exercice - niveau interm\u00e9daire"
     ]
    },
    {
     "cell_type": "markdown",
     "metadata": {},
     "source": [
      "Vous devez maintenant \u00e9crire une deuxi\u00e8me version qui peut fonctionner avec une fonction quelconque (elle peut avoir des arguments nomm\u00e9s (avec valeur par d\u00e9faut)"
     ]
    },
    {
     "cell_type": "code",
     "collapsed": false,
     "input": [
      "# quelques exemples de ce qui est attendu\n",
      "# avec ces deux fonctions \n",
      "\n",
      "def addn (x, y=0):\n",
      "    return x+y\n",
      "\n",
      "def muln (x=1, y=1):\n",
      "    return x+y\n",
      "\n",
      "from corrections.w4_fun_args import exo_doubler_premier2\n",
      "exo_doubler_premier2.exemple ()"
     ],
     "language": "python",
     "metadata": {},
     "outputs": []
    },
    {
     "cell_type": "code",
     "collapsed": false,
     "input": [
      "# ATTENTION vous devez aussi d\u00e9finir les arguments de la fonction\n",
      "def doubler_premier2 (votre, signature):\n",
      "    \"<votre code>\""
     ],
     "language": "python",
     "metadata": {},
     "outputs": []
    },
    {
     "cell_type": "code",
     "collapsed": false,
     "input": [
      "exo_doubler_premier2.correction (doubler_premier2)"
     ],
     "language": "python",
     "metadata": {},
     "outputs": []
    },
    {
     "cell_type": "heading",
     "level": 2,
     "metadata": {},
     "source": [
      "Exercice - niveau avanc\u00e9"
     ]
    },
    {
     "cell_type": "heading",
     "level": 3,
     "metadata": {},
     "source": [
      "`validation` revisit\u00e9e"
     ]
    },
    {
     "cell_type": "markdown",
     "metadata": {},
     "source": [
      "Nous avons d\u00e9j\u00e0 fait un peu plus t\u00f4t cette semaine, au sujet de la programmation fonctionnelle, un exercice au sujet d'une fonction `validation` qui comparait le r\u00e9sultat de deux fonctions, toutes deux \u00e0 un argument, sur une liste de valeurs d'entr\u00e9e."
     ]
    },
    {
     "cell_type": "markdown",
     "metadata": {},
     "source": [
      "Nous reprenons ici la m\u00eame id\u00e9e, mais en levant l'hypoth\u00e8se que les deux fonctions attendent un seul argument. Il faut \u00e9crire une nouvelle version de la fonction `validation` qui prend en entr\u00e9e\n",
      " * deux fonctions `f` et `g` comme la derni\u00e8re fois,\n",
      " * mais cette fois une liste (ou un tuple) `argument_tuples` de **tuples** d'arguments d'entr\u00e9e\n",
      " \n",
      " Et comme la fois pr\u00e9c\u00e9dente on attend en retour une liste `retour` de bool\u00e9ens, de m\u00eame taille que `argument_tuples`, telle que, si `len(argument_tuples)` vaut $n$:\n",
      " \n",
      "$\\forall i \\in \\{1,..n\\}$, si `argument_tuples[i]` == [ $a_1$, .. $a_j$ ], alors\n",
      "\n",
      "`return(i) == True` $\\Longleftrightarrow$  f ($a_1$, .. $a_j$) == g ($a_1$, .. $a_j$)"
     ]
    },
    {
     "cell_type": "code",
     "collapsed": false,
     "input": [
      "from corrections.w4_fun_args import exo_validation\n",
      "exo_validation.exemple ()"
     ],
     "language": "python",
     "metadata": {},
     "outputs": []
    },
    {
     "cell_type": "code",
     "collapsed": false,
     "input": [
      "# ATTENTION vous devez aussi d\u00e9finir les arguments de la fonction\n",
      "def validation (votre, signature):\n",
      "    \"<votre_code>\""
     ],
     "language": "python",
     "metadata": {},
     "outputs": []
    },
    {
     "cell_type": "code",
     "collapsed": true,
     "input": [
      "exo_validation.correction (validation)"
     ],
     "language": "python",
     "metadata": {},
     "outputs": []
    },
    {
     "cell_type": "markdown",
     "metadata": {},
     "source": [
      "Pour information:\n",
      " * `factorial` correspond \u00e0 `math.factorial`\n",
      " * `fact` et `broken_fact` sont des fonctions impl\u00e9ment\u00e9es par nos soins, la premi\u00e8re est correcte alors que la seconde retourne 0 au lieu de 1 pour l'entr\u00e9e 0.\n",
      " * `add` correspond \u00e0 l'addition binaire `operator.add`\n",
      " * `plus` et `broken_plus` sont des additions binaires \u00e9crites par nous, l'une \u00e9tant correcte et l'autre \u00e9tant fausse lorsque le premier argument est nul."
     ]
    }
   ],
   "metadata": {}
  }
 ]
}