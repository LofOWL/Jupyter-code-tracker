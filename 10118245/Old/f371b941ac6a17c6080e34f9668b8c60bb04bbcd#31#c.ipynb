{
 "cells": [
  {
   "cell_type": "markdown",
   "metadata": {},
   "source": [
    "<style>div.title-slide {    width: 100%;    display: flex;    flex-direction: row;            /* default value; can be omitted */    flex-wrap: nowrap;              /* default value; can be omitted */    justify-content: space-between;}</style><div class=\"title-slide\">\n",
    "<span style=\"float:left;\">Licence CC BY-NC-ND</span>\n",
    "<span>Thierry Parmentelat &amp; Arnaud Legout</span>\n",
    "<span><img src=\"media/both-logos-small-alpha.png\" style=\"display:inline\" /></span>\n",
    "</div>"
   ]
  },
  {
   "cell_type": "markdown",
   "metadata": {},
   "source": [
    "# Nouveautés de Python-3.7 dans `asyncio`"
   ]
  },
  {
   "cell_type": "markdown",
   "metadata": {},
   "source": [
    "## Complément - niveau intermédiaire"
   ]
  },
  {
   "cell_type": "markdown",
   "metadata": {},
   "source": [
    "Comme on l'a signalé au début de la semaine, `asyncio` a subi quelques modifications dans Python-3.7, que nous allons rapidement illustrer dans ce complément.\n",
    "\n",
    "Nous verrons aussi par ailleurs une curiosité liée à la  version de "
   ]
  },
  {
   "cell_type": "markdown",
   "metadata": {},
   "source": [
    "### Documentation"
   ]
  },
  {
   "cell_type": "markdown",
   "metadata": {},
   "source": [
    "L'évolution la plus radicale est une refonte totale de la documentation. \n",
    "\n",
    "C'est une très bonne nouvelle, car de ll'aveu même de Guido van Rossum, la documentation en place pour les versions 3.5 et 3.6 était particulièrement obscure; [voici comment il l'a annoncé](https://twitter.com/gvanrossum/status/1041889574052429826?lang=en) :\n",
    "\n",
    "> Finally the asyncio docs are not an embarrassment to us all.\n",
    "\n",
    "Si vous avez déjà eu l'occasion de parcourir ces anciennes documentations, et que vous les avez trouvées imbittables, sachez que vous n'êtes pas seul dans ce cas ;) Dans tous les cas je vous invite à [parcourir la nouvelle version](https://docs.python.org/3/library/asyncio.html), qui a le mérite d'apporter plus de réponses qu'elle ne soulève d'interrogations. Ce n'était pas vraiment le cas avant."
   ]
  },
  {
   "cell_type": "markdown",
   "metadata": {},
   "source": [
    "### Accès plus facile"
   ]
  },
  {
   "cell_type": "markdown",
   "metadata": {},
   "source": [
    "Un certain nombre de changements ont été apportés à la librairie pour en rendre l'accès plus facile. \n",
    "\n",
    "**XXX**"
   ]
  },
  {
   "cell_type": "markdown",
   "metadata": {},
   "source": [
    "### Pas de changement de fond"
   ]
  },
  {
   "cell_type": "markdown",
   "metadata": {},
   "source": [
    "Par ailleurs en terme de l'utilisation de la librairie, \n",
    "\n",
    "**XXX**"
   ]
  },
  {
   "cell_type": "markdown",
   "metadata": {},
   "source": [
    "### `await` dans ipython-7\n",
    "\n",
    "Cette section ne s'applique pas *stricto sensu* à Python-3.7, mais à la version 7 de IPython.\n",
    "\n",
    "Le sujet, c'est ici encore de raccourcir le *boilerplate* nécessaire pour faire tourner une coroutine."
   ]
  },
  {
   "cell_type": "markdown",
   "metadata": {},
   "source": [
    "##### Python standard"
   ]
  },
  {
   "cell_type": "markdown",
   "metadata": {},
   "source": [
    "Voici d'abord ce qui se passe avec l'interpréteur Python standard :"
   ]
  },
  {
   "cell_type": "markdown",
   "metadata": {},
   "source": [
    "```python\n",
    "$ python3\n",
    "Python 3.7.0 (default, Jun 29 2018, 20:14:27)\n",
    "[Clang 9.0.0 (clang-900.0.39.2)] on darwin\n",
    "Type \"help\", \"copyright\", \"credits\" or \"license\" for more information.\n",
    ">>> import asyncio\n",
    ">>> async def foo(message, duree):\n",
    "...    await asyncio.sleep(duree)\n",
    "...    print(message)\n",
    "...\n",
    ">>> await(foo(\"hello\", 1))\n",
    "  File \"<stdin>\", line 1\n",
    "SyntaxError: 'await' outside function\n",
    "```"
   ]
  },
  {
   "cell_type": "markdown",
   "metadata": {},
   "source": [
    "La syntaxe de Python nous interdit en effet d'utiliser `await` en dehors du code d'une coroutine, on l'a vu dans une des vidéos."
   ]
  },
  {
   "cell_type": "markdown",
   "metadata": {},
   "source": [
    "##### IPython-7"
   ]
  },
  {
   "cell_type": "markdown",
   "metadata": {},
   "source": [
    "Pour **simplifier encore** la mise en place de code asynchrone, depuis ipython-7, on peut carrément déclencher une coroutine en invoquant `await` dans la boucle principale de l'interpréteur :"
   ]
  },
  {
   "cell_type": "markdown",
   "metadata": {},
   "source": [
    "```python\n",
    "$ ipython3\n",
    "Python 3.7.0 (default, Jun 29 2018, 20:14:27)\n",
    "Type 'copyright', 'credits' or 'license' for more information\n",
    "IPython 7.0.1 -- An enhanced Interactive Python. Type '?' for help.\n",
    "\n",
    "In [1]: import asyncio\n",
    "\n",
    "In [2]: async def foo(message, duree):\n",
    "   ...:     await asyncio.sleep(duree)\n",
    "   ...:     print(message)\n",
    "\n",
    "In [3]: await(foo(\"hello\", 0.5))\n",
    "hello\n",
    "\n",
    "In [4]: await(asyncio.gather(foo(\"hello\", 0.5), foo(\"world\", 1)))\n",
    "hello\n",
    "world\n",
    "Out[4]: [None, None]\n",
    "```"
   ]
  },
  {
   "cell_type": "markdown",
   "metadata": {},
   "source": [
    "Du coup cette façon de faire fonctionnera aussi dans un notebook, si vous avez la bonne version de IPython en dessous de Jupyter."
   ]
  },
  {
   "cell_type": "markdown",
   "metadata": {},
   "source": [
    "### Pour en savoir plus\n",
    "\n",
    "https://docs.python.org/3/whatsnew/3.7.html#whatsnew37-asyncio"
   ]
  }
 ],
 "metadata": {
  "kernelspec": {
   "display_name": "Python 3",
   "language": "python",
   "name": "python3"
  },
  "language_info": {
   "codemirror_mode": {
    "name": "ipython",
    "version": 3
   },
   "file_extension": ".py",
   "mimetype": "text/x-python",
   "name": "python",
   "nbconvert_exporter": "python",
   "pygments_lexer": "ipython3",
   "version": "3.7.0"
  },
  "livereveal": {
   "auto_select": "code",
   "auto_select_fragment": true,
   "autolaunch": false,
   "backimage": "media/nologo.png",
   "height": "100%",
   "start_slideshow_at": "selected",
   "theme": "simple",
   "transition": "fade",
   "width": "100%"
  },
  "notebookname": "Nouveautés en Python-3.7",
  "version": "3.0"
 },
 "nbformat": 4,
 "nbformat_minor": 2
}
