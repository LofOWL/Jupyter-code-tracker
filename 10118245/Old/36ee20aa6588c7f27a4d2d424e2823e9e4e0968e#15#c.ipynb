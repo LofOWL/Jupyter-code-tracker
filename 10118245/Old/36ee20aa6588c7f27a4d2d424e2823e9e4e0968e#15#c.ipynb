{
 "metadata": {
  "name": "Utiliser python comme une calculette",
  "notebookname": "Utiliser python comme une calculette",
  "signature": "0eec96fe067954385351858b97c9ef1d65219332d1671a3a331b156798aca0ee",
  "version": "1.0"
 },
 "nbformat": 3,
 "nbformat_minor": 0,
 "worksheets": [
  {
   "cells": [
    {
     "cell_type": "heading",
     "level": 1,
     "metadata": {},
     "source": [
      "Utiliser python comme une calculette"
     ]
    },
    {
     "cell_type": "markdown",
     "metadata": {},
     "source": [
      "Lorsque vous d\u00e9marrez l'interpr\u00e9te python, vous disposez en fait d'une calculette; par exemple vous pouvez taper"
     ]
    },
    {
     "cell_type": "code",
     "collapsed": false,
     "input": [
      "20 * 60"
     ],
     "language": "python",
     "metadata": {},
     "outputs": []
    },
    {
     "cell_type": "markdown",
     "metadata": {},
     "source": [
      "Les r\u00e8gles de \"priorit\u00e9\" entre les op\u00e9rateurs sont habituelles, les produits et division sont \u00e9valu\u00e9es en premier, ensuite les sommes et soustractions:"
     ]
    },
    {
     "cell_type": "code",
     "collapsed": false,
     "input": [
      " 2 * 30 + 10 * 5"
     ],
     "language": "python",
     "metadata": {},
     "outputs": []
    },
    {
     "cell_type": "markdown",
     "metadata": {},
     "source": [
      "De mani\u00e8re g\u00e9n\u00e9rale, en cas de doute il est recommand\u00e9 de bien parenth\u00e9ser ses expressions, et donc d'\u00e9crire plut\u00f4t"
     ]
    },
    {
     "cell_type": "code",
     "collapsed": false,
     "input": [
      "(2 * 30) + (10 * 5)"
     ],
     "language": "python",
     "metadata": {},
     "outputs": []
    },
    {
     "cell_type": "markdown",
     "metadata": {},
     "source": [
      "Rappelez vous des op\u00e9rateurs suivants qui sont tr\u00e8s pratiques\n",
      "\n",
      "<table>\n",
      "<thead><tr><th>signe</th><th>op\u00e9ration</th></tr></thead>\n",
      "<tbody>\n",
      "<tr><td>`/`</td><td>quotient</td></tr>\n",
      "<tr><td>`%`</td><td>modulo</td></tr>\n",
      "<tr><td>`**`</td><td>puissance</td></tr>\n",
      "</tbody>\n",
      "</table>"
     ]
    },
    {
     "cell_type": "code",
     "collapsed": false,
     "input": [
      "48 / 5"
     ],
     "language": "python",
     "metadata": {},
     "outputs": []
    },
    {
     "cell_type": "code",
     "collapsed": false,
     "input": [
      "48 % 5"
     ],
     "language": "python",
     "metadata": {},
     "outputs": []
    },
    {
     "cell_type": "code",
     "collapsed": false,
     "input": [
      "2 ** 10"
     ],
     "language": "python",
     "metadata": {},
     "outputs": []
    },
    {
     "cell_type": "markdown",
     "metadata": {},
     "source": [
      "Vous pouvez facilement faire aussi des calculs sur les complexes; souvenez vous seulement que la constante complexe que nous notons en fran\u00e7ais `i` se note en anglais `j`"
     ]
    },
    {
     "cell_type": "code",
     "collapsed": false,
     "input": [
      "(2 + 3j) * 2j"
     ],
     "language": "python",
     "metadata": {},
     "outputs": []
    },
    {
     "cell_type": "markdown",
     "metadata": {},
     "source": [
      "Aussi pour entrer ce nombre complexe `j` il faut toujours le faire pr\u00e9c\u00e9der d'un nombre, donc ne pas entrer simplement `j` (qui serait compris comme un nom de variable, nous allons vois \u00e7a tout de suite) mais plut\u00f4t `1j` comme ceci"
     ]
    },
    {
     "cell_type": "code",
     "collapsed": false,
     "input": [
      "1j * 1j"
     ],
     "language": "python",
     "metadata": {},
     "outputs": []
    },
    {
     "cell_type": "heading",
     "level": 3,
     "metadata": {},
     "source": [
      "Utiliser des variables"
     ]
    },
    {
     "cell_type": "markdown",
     "metadata": {},
     "source": [
      "Il peut \u00eatre utile de stocker un r\u00e9sultat qui sera utilis\u00e9 plus tard, ou de d\u00e9finir une valeur constante; pour cela on utilise tout simplement une affectation comme ceci:"
     ]
    },
    {
     "cell_type": "code",
     "collapsed": false,
     "input": [
      "largeur = 5"
     ],
     "language": "python",
     "metadata": {},
     "outputs": []
    },
    {
     "cell_type": "markdown",
     "metadata": {},
     "source": [
      "Puis"
     ]
    },
    {
     "cell_type": "code",
     "collapsed": false,
     "input": [
      "largeur * 20"
     ],
     "language": "python",
     "metadata": {},
     "outputs": []
    },
    {
     "cell_type": "code",
     "collapsed": false,
     "input": [
      "largeur * 10"
     ],
     "language": "python",
     "metadata": {},
     "outputs": []
    },
    {
     "cell_type": "markdown",
     "metadata": {},
     "source": [
      "Pour les symboles math\u00e9matiques, on peut utiliser la m\u00eame technique"
     ]
    },
    {
     "cell_type": "code",
     "collapsed": false,
     "input": [
      "pi = 3.14159\n",
      "2 * pi * 10"
     ],
     "language": "python",
     "metadata": {},
     "outputs": []
    },
    {
     "cell_type": "markdown",
     "metadata": {},
     "source": [
      "Ou encore plus simplement, utiliser les valeurs pr\u00e9d\u00e9finies par la librairie math\u00e9matique de python. En anticipant un peu sur la notion d'importation que nous approfondirons plus tard, on peut \u00e9crire:"
     ]
    },
    {
     "cell_type": "code",
     "collapsed": false,
     "input": [
      "from math import e, pi"
     ],
     "language": "python",
     "metadata": {},
     "outputs": []
    },
    {
     "cell_type": "markdown",
     "metadata": {},
     "source": [
      "Et ainsi imprimer les racines troisi\u00e8mes de l'unit\u00e9 par la formule\n",
      "\n",
      "$r_n = e^{2i\\pi \\frac{n}{3}},$ pour $n\\in \\{0,1,2\\}$"
     ]
    },
    {
     "cell_type": "code",
     "collapsed": false,
     "input": [
      "n=0\n",
      "print \"n=\",n,\"racine = \", e**((2*pi*1j*n)/3)\n",
      "n=1\n",
      "print \"n=\",n,\"racine = \", e**((2*pi*1j*n)/3)\n",
      "n=2\n",
      "print \"n=\",n,\"racine = \", e**((2*pi*1j*n)/3)"
     ],
     "language": "python",
     "metadata": {},
     "outputs": []
    },
    {
     "cell_type": "markdown",
     "metadata": {},
     "source": [
      "**Remarque:** bien entendu il sera possible de faire ceci plus simplement lorsque nous aurons vu les boucles `for`"
     ]
    },
    {
     "cell_type": "heading",
     "level": 3,
     "metadata": {},
     "source": [
      "Attention aux types"
     ]
    },
    {
     "cell_type": "markdown",
     "metadata": {},
     "source": [
      "Ce qui change par rapport \u00e0 une calculatrice standard est le fait que les valeurs sont typ\u00e9es (essentiellement, entier ou flottant). Il est important de bien suivre mentalement le type de l'op\u00e9ration:"
     ]
    },
    {
     "cell_type": "code",
     "collapsed": false,
     "input": [
      "100 / 6"
     ],
     "language": "python",
     "metadata": {},
     "outputs": []
    },
    {
     "cell_type": "markdown",
     "metadata": {},
     "source": [
      "Ici nous avions affaire \u00e0 deux entiers, la division `/` est alors une division *enti\u00e8re* (c'est-\u00e0-dire un quotient), alors que si l'une des valeurs est flottantes comme ici"
     ]
    },
    {
     "cell_type": "code",
     "collapsed": false,
     "input": [
      "100. /6"
     ],
     "language": "python",
     "metadata": {},
     "outputs": []
    },
    {
     "cell_type": "markdown",
     "metadata": {},
     "source": [
      "alors python va faire une \"vraie\" division et retourner un r\u00e9sultat flottant."
     ]
    },
    {
     "cell_type": "heading",
     "level": 3,
     "metadata": {},
     "source": [
      "Conversions"
     ]
    },
    {
     "cell_type": "markdown",
     "metadata": {},
     "source": [
      "Comme on le voit il peut \u00eatre n\u00e9cessaire de faire volontairement une conversion de type"
     ]
    },
    {
     "cell_type": "code",
     "collapsed": false,
     "input": [
      "a=100\n",
      "a/6"
     ],
     "language": "python",
     "metadata": {},
     "outputs": []
    },
    {
     "cell_type": "markdown",
     "metadata": {},
     "source": [
      "Comme dans ce cas on ne peut pas ajouter '.' \u00e0 l'expression `a` pour la transformer en floattant, on peut faire dans ce cas"
     ]
    },
    {
     "cell_type": "code",
     "collapsed": false,
     "input": [
      "float(a)/6"
     ],
     "language": "python",
     "metadata": {},
     "outputs": []
    },
    {
     "cell_type": "markdown",
     "metadata": {},
     "source": [
      "De mani\u00e8re plus g\u00e9n\u00e9rale, pour convertir un objet en un entier, un flottant, ou un string, on peut simplement appeler une fonction built-in qui porte le m\u00eame nom que le type cible:\n",
      "\n",
      "<table>\n",
      "<thead><tr><th>Type</th><th>Fonction</th></tr></thead>\n",
      "<tbody>\n",
      "<tr><td>Entier</td><td>`int`</td></tr>\n",
      "<tr><td>Flottant</td><td>`float`</td></tr>\n",
      "<tr><td>Complexe</td><td>`complex`</td></tr>\n",
      "<tr><td>Cha\u00eene</td><td>`str`</td></tr>\n",
      "</tbody>\n",
      "</table>\n",
      "\n",
      "Ainsi dans l'exemple pr\u00e9c\u00e9dent, `float(a)` repr\u00e9sente la conversion de `a` en flottant, soit `100.`\n",
      "\n",
      "On a illustr\u00e9 cette m\u00eame technique dans les exemples suivants:"
     ]
    },
    {
     "cell_type": "code",
     "collapsed": false,
     "input": [
      "# imaginons que l'utilisateur a entr\u00e9 un entier en tapant '100'\n",
      "chaine = '100'\n",
      "# on voudrait le mettre au carr\u00e9; mais ceci ne fonctionne pas:\n",
      "chaine**2"
     ],
     "language": "python",
     "metadata": {},
     "outputs": []
    },
    {
     "cell_type": "code",
     "collapsed": false,
     "input": [
      "# pour pouvoir faire des calculs, il nous faut d'abord en faire un entier\n",
      "entier = int (chaine)\n",
      "print 'entier=',entier,'de type',type(entier)\n",
      "print \"au carr\u00e9\",entier**2\n",
      "# ou pour convertir la meme chaine en un nombre complexe\n",
      "complexe = complex (chaine)\n",
      "print \"converti en complexe\",complexe,\"de type\",type(complexe)"
     ],
     "language": "python",
     "metadata": {},
     "outputs": []
    },
    {
     "cell_type": "heading",
     "level": 3,
     "metadata": {},
     "source": [
      "Entiers et bases"
     ]
    },
    {
     "cell_type": "markdown",
     "metadata": {},
     "source": [
      "Les calculettes scientifiques permettent habituellement d'entrer les entiers dans d'autres bases que la base 10. \n",
      "\n",
      "En python, on peut aussi entrer un entier sous forme binaire comme ceci"
     ]
    },
    {
     "cell_type": "code",
     "collapsed": false,
     "input": [
      "deux_cents = 0b11001000 ; print deux_cents"
     ],
     "language": "python",
     "metadata": {},
     "outputs": []
    },
    {
     "cell_type": "markdown",
     "metadata": {},
     "source": [
      "Ou encore sous forme octale (en base 8) comme ceci"
     ]
    },
    {
     "cell_type": "code",
     "collapsed": false,
     "input": [
      "deux_cents = 0o310 ; print deux_cents"
     ],
     "language": "python",
     "metadata": {},
     "outputs": []
    },
    {
     "cell_type": "markdown",
     "metadata": {},
     "source": [
      "Ou enfin encore en hexadecimal (base 16) comme ceci"
     ]
    },
    {
     "cell_type": "code",
     "collapsed": false,
     "input": [
      "deux_cents = 0xc8 ; print deux_cents"
     ],
     "language": "python",
     "metadata": {},
     "outputs": []
    },
    {
     "cell_type": "markdown",
     "metadata": {},
     "source": [
      "Pour d'autres bases, on peut utiliser la fonction de conversion 'int' en lui passant un argument suppl\u00e9mentaire:"
     ]
    },
    {
     "cell_type": "code",
     "collapsed": false,
     "input": [
      "deux_cents = int ('3020',4) ; print deux_cents"
     ],
     "language": "python",
     "metadata": {},
     "outputs": []
    },
    {
     "cell_type": "heading",
     "level": 3,
     "metadata": {},
     "source": [
      "Fonctions math\u00e9matiques"
     ]
    },
    {
     "cell_type": "markdown",
     "metadata": {},
     "source": [
      "python fournit naturellement un ensemble tr\u00e8s complet d'op\u00e9rateurs math\u00e9matiques pour les fonctions exponentielles, trigonom\u00e9triques, et autres, mais leur utilisation ne nous est pas encore accessible \u00e0 ce stade et nous les verrons ult\u00e9rieurement."
     ]
    }
   ],
   "metadata": {}
  }
 ]
}