{
 "metadata": {
  "name": "",
  "notebookname": "\"Notebooks\" IPython",
  "signature": "f06b05acc233421efbee2792f1c18e42e126da1a16b9c9f9483def3f9ef1e44b",
  "version": "1.0"
 },
 "nbformat": 3,
 "nbformat_minor": 0,
 "worksheets": [
  {
   "cells": [
    {
     "cell_type": "heading",
     "level": 1,
     "metadata": {},
     "source": [
      "\"Notebooks\" IPython comme support de cours"
     ]
    },
    {
     "cell_type": "markdown",
     "metadata": {},
     "source": [
      "Pour illustrer les vid\u00e9os du MOOC, nous avons choisi d'utiliser IPython pour vous r\u00e9diger les documents \"mixtes\" contenant du texte et du code python, qu'on appelle des \"notebooks\", et dont le pr\u00e9sent document est un exemple."
     ]
    },
    {
     "cell_type": "heading",
     "level": 3,
     "metadata": {},
     "source": [
      "Avantages des notebooks"
     ]
    },
    {
     "cell_type": "markdown",
     "metadata": {},
     "source": [
      "Comme vous le voyez, ce support permet un format plus lisible que des commentaires dans un fichier de code. "
     ]
    },
    {
     "cell_type": "markdown",
     "metadata": {},
     "source": [
      "Les fragmentes de code peuvent \u00eatre \u00e9valu\u00e9s et modifi\u00e9s. \n",
      "\n",
      "Notez bien \u00e9galement que le code python est interpr\u00e9t\u00e9 **sur une machine distante**, ce qui vous permet de faire vos premiers pas avant m\u00eame d'avoir proc\u00e9d\u00e9 \u00e0 l'installation de python sur votre propre ordinateur."
     ]
    },
    {
     "cell_type": "heading",
     "level": 3,
     "metadata": {},
     "source": [
      "Comment utiliser les notebooks"
     ]
    },
    {
     "cell_type": "markdown",
     "metadata": {},
     "source": [
      "Un notebook est constitu\u00e9 d'une suite de cellules, soit textuelles, soit contenant du code. Les cellules de code sont facilement reconnaissables, elles sont pr\u00e9c\u00e9d\u00e9es de $\\texttt{In []:}$.\n",
      "\n",
      "Pour voir le r\u00e9sultat d'une cellule de code, il faut la s\u00e9lectionner; puis \n",
      "vous disposez d'un bouton en forme de fl\u00eache triangulaire (Play) vers la droite, qui vous fait passer d'une cellule \u00e0 la suivante, en \u00e9valuant le code. Pour \"ex\u00e9cuter\" l'ensemble du notebook, on part de la premi\u00e8re cellule, et on clique le bouton \"Play\" jusqu'au bout du notebook. \n",
      "\n",
      "Alternativement vous pouvez simplement taper au clavier  $\\textbf{\"Shift+Enter\"}$ pour obtenir le m\u00eame effet. \n",
      "\n",
      "Entrainez-vous avec la cellule de code suivante:"
     ]
    },
    {
     "cell_type": "code",
     "collapsed": false,
     "input": [
      "20 * 30"
     ],
     "language": "python",
     "metadata": {},
     "outputs": [],
     "prompt_number": 1
    },
    {
     "cell_type": "markdown",
     "metadata": {},
     "source": [
      "Lorsqu'une cellule de code a \u00e9t\u00e9 \u00e9valu\u00e9e, ipython ajoute sous la cellule $\\texttt{In}$ une cellule $\\texttt{Out}$ qui donne le r\u00e9sultat du fragment python, soit ci-dessus 600.\n",
      "\n",
      "ipython ajoute \u00e9galement un nombre entre les crochets pour afficher, par exemple ci-dessus, $\\texttt{In [1]:}$. Ce nombre vous permet de retrouver l'ordre dans lequel les cellules ont \u00e9t\u00e9 \u00e9valu\u00e9es."
     ]
    },
    {
     "cell_type": "markdown",
     "metadata": {},
     "source": [
      "Vous pouvez naturellement modifier ces cellules de code pour faire des essais; ainsi vous pouvez vous servir du mod\u00e8le di-dessous pour calculer la racine carr\u00e9e de 3, ou essayer la fonction sur un nombre n\u00e9gatif et voir comment est signal\u00e9e l'erreur:"
     ]
    },
    {
     "cell_type": "code",
     "collapsed": false,
     "input": [
      "# math.sqrt (pour square root) calcule la racine carr\u00e9e\n",
      "import math\n",
      "math.sqrt(2) "
     ],
     "language": "python",
     "metadata": {},
     "outputs": [],
     "prompt_number": 2
    },
    {
     "cell_type": "markdown",
     "metadata": {},
     "source": [
      "On peut \u00e9galement \u00e9valuer tout le notebook en une seule fois en utilisant le menu *Cell -> Run All*"
     ]
    },
    {
     "cell_type": "heading",
     "level": 3,
     "metadata": {},
     "source": [
      "Attention \u00e0 bien \u00e9valuer les cellules dans l'ordre"
     ]
    },
    {
     "cell_type": "markdown",
     "metadata": {},
     "source": [
      "Il est important que les cellules de code soient \u00e9valu\u00e9es dans le bon ordre. Si vous ne respectez pas l'ordre dans lequel les cellules de code sont pr\u00e9sent\u00e9es, le r\u00e9sultat peut \u00eatre inattendu. \n",
      "\n",
      "C'est une question de bon sens; \u00e9valuer un programme sous forme de notebook revient \u00e0 le d\u00e9couper en petits fragments, et si on ex\u00e9cute ces fragments dans le d\u00e9sordre, on obtient naturellement un programme diff\u00e9rent."
     ]
    },
    {
     "cell_type": "markdown",
     "metadata": {},
     "source": [
      "On le voit sur cet exemple"
     ]
    },
    {
     "cell_type": "code",
     "collapsed": false,
     "input": [
      "message = \"Il faut faire attention \u00e0 l'ordre dans lequel on \u00e9value les notebooks\""
     ],
     "language": "python",
     "metadata": {},
     "outputs": [],
     "prompt_number": 23
    },
    {
     "cell_type": "code",
     "collapsed": false,
     "input": [
      "print message"
     ],
     "language": "python",
     "metadata": {},
     "outputs": [],
     "prompt_number": 26
    },
    {
     "cell_type": "markdown",
     "metadata": {},
     "source": [
      "Si un peu plus loin dans le notebook on fait par exemple"
     ]
    },
    {
     "cell_type": "code",
     "collapsed": false,
     "input": [
      "del message"
     ],
     "language": "python",
     "metadata": {},
     "outputs": [],
     "prompt_number": 25
    },
    {
     "cell_type": "markdown",
     "metadata": {},
     "source": [
      "qui rend le symbole \"message\" ind\u00e9fini, alors bien s\u00fbr on ne peut plus \u00e9valuer la seconde cellule.."
     ]
    },
    {
     "cell_type": "heading",
     "level": 3,
     "metadata": {},
     "source": [
      "R\u00e9initialiser l'interpr\u00e9teur"
     ]
    },
    {
     "cell_type": "markdown",
     "metadata": {},
     "source": [
      "Si vous faites trope de modifications, ou perdez le fil de ce que vous avez evalue ou pas, il peut \u00eatre utile de redemarrer votre interpreteur. Le menu *Kernel -> Restart* vous permet de faire cela, un peu \u00e0 la mani\u00e8re de IDLE qui repart d'un interpr\u00e9teur vierge lorsque vous utilisez la fonction F5."
     ]
    },
    {
     "cell_type": "markdown",
     "metadata": {},
     "source": [
      "Le menu *Kernel -> Interrupt* peut \u00eatre quant \u00e0 lui utilis\u00e9 si votre fragment prend trop longtemps \u00e0 s'ex\u00e9cuter (par exemple vous avez \u00e9crit une boucle dont la logique est cass\u00e9e et qui ne termine pas)"
     ]
    },
    {
     "cell_type": "heading",
     "level": 3,
     "metadata": {},
     "source": [
      "Workflow des notebooks - Annuler les modifications"
     ]
    },
    {
     "cell_type": "markdown",
     "metadata": {},
     "source": [
      "Un des avantages principaux des notebooks est de vous permettre de modifier le code que nous avons \u00e9crit, et de voir par vous m\u00eames comment se comporte le code modifi\u00e9.\n",
      "\n",
      "Pour cette raison chaque \u00e9l\u00e8ve dispose de sa **propre copie** de chaque notebook, vous pouvez bien s\u00fbr donc apporter toutes les modifications que vous souhaitez \u00e0 vos notebooks sans affecter les autres \u00e9tudiants."
     ]
    },
    {
     "cell_type": "markdown",
     "metadata": {},
     "source": [
      "Vous pouvez toujours revenir \u00e0 la version \"du cours\" gr\u00e2ce au menu "
     ]
    },
    {
     "cell_type": "raw",
     "metadata": {},
     "source": [
      "File -> Reset from Origin"
     ]
    },
    {
     "cell_type": "markdown",
     "metadata": {},
     "source": [
      "Attention toutefois qu'avec cette fonction vous restaurez **tout le notebook** et donc **vous perdez vos modifications pr\u00e9c\u00e9dentes**."
     ]
    },
    {
     "cell_type": "heading",
     "level": 3,
     "metadata": {},
     "source": [
      "T\u00e9l\u00e9charger au format python"
     ]
    },
    {
     "cell_type": "markdown",
     "metadata": {},
     "source": [
      "Vous pouvez t\u00e9l\u00e9charger un notebook au format python sur votre ordinateur gr\u00e2ce au menu"
     ]
    },
    {
     "cell_type": "raw",
     "metadata": {},
     "source": [
      "File -> Download as -> python"
     ]
    },
    {
     "cell_type": "markdown",
     "metadata": {},
     "source": [
      "Les cellules de texte sont pr\u00e9serv\u00e9es dans le r\u00e9sultat sous forme de commentaires python\n"
     ]
    },
    {
     "cell_type": "heading",
     "level": 3,
     "metadata": {},
     "source": [
      "Partager un notebook en lecture seule"
     ]
    },
    {
     "cell_type": "markdown",
     "metadata": {},
     "source": [
      "Enfin avec le menu"
     ]
    },
    {
     "cell_type": "raw",
     "metadata": {},
     "source": [
      "File -> Share static version"
     ]
    },
    {
     "cell_type": "markdown",
     "metadata": {},
     "source": [
      "vous pouvez publier une version en lecture seule de votre notebook; vous obtenez une URL que vous pouvez publier par exemple pour demander de l'aide sur le forum; comme ceci les autres \u00e9tudiants peuvent acc\u00e9der en lecture seule \u00e0 votre code."
     ]
    },
    {
     "cell_type": "heading",
     "level": 3,
     "metadata": {},
     "source": [
      "Ajouter des cellules"
     ]
    },
    {
     "cell_type": "markdown",
     "metadata": {},
     "source": [
      "Lorsque vous arrivez \u00e0 la fin du document, une nouvelle cellule est cr\u00e9\u00e9e chaque fois que vous \u00e9valuez la derni\u00e8re cellule; de cette fa\u00e7on vous disposez d'un brouillon pour vos propres essais.\n",
      "\n",
      "\u00c0 vous de jouer.."
     ]
    }
   ],
   "metadata": {}
  }
 ]
}