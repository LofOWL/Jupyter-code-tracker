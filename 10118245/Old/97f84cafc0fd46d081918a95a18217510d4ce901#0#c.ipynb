{
 "metadata": {
  "name": "",
  "signature": "sha256:77fac91822a6cd855d7b1073198008d2e9af6e81b2fb9e320716f9bda3b0ae35"
 },
 "nbformat": 3,
 "nbformat_minor": 0,
 "worksheets": [
  {
   "cells": [
    {
     "cell_type": "heading",
     "level": 1,
     "metadata": {},
     "source": [
      "Tris de listes"
     ]
    },
    {
     "cell_type": "markdown",
     "metadata": {},
     "source": [
      "python fournit une fonction standard pour trier une liste, qui s'appelle, sans grande surprise, $\\texttt{sort}$ "
     ]
    },
    {
     "cell_type": "heading",
     "level": 3,
     "metadata": {},
     "source": [
      "Utilisation basique"
     ]
    },
    {
     "cell_type": "markdown",
     "metadata": {},
     "source": [
      "Voyons comment se comporte $\\texttt{sort}$ sur un exemple simple"
     ]
    },
    {
     "cell_type": "code",
     "collapsed": false,
     "input": [
      "liste = [ 8, 7, 4, 3, 2, 9, 1, 5, 6]\n",
      "print 'avant tri', liste\n",
      "liste.sort()\n",
      "print 'apres tri', liste"
     ],
     "language": "python",
     "metadata": {},
     "outputs": []
    },
    {
     "cell_type": "markdown",
     "metadata": {},
     "source": [
      "On retrouve ici, avec l'instruction $\\texttt{liste.sort()}$ un cas d'appel de m\u00e9thode (ici $\\texttt{sort}$) sur un objet (ici $\\texttt{liste}$), comme on l'avait vu dans la vid\u00e9o sur la notion d'objet.\n",
      "\n",
      "La premi\u00e8re chose \u00e0 remarquer est que la liste d'entr\u00e9e a \u00e9t\u00e9 modifi\u00e9e, on dit \"en place\", ou encore \"par effet de bord\".\n",
      "\n",
      "On aurait pu imaginer que la liste d'entr\u00e9e soit rest\u00e9e inchang\u00e9e, et que la m\u00e9thode de tri renvoie une copie tri\u00e9e de la liste, ce n'est pas le choix qui a \u00e9t\u00e9 fait. De cette fa\u00e7on, c'est \u00e0 l'utilisateur de la m\u00e9thode de r\u00e9aliser au pr\u00e9alable une copie de la liste initiale si c'est n\u00e9cessaire dans son cas d'usage. On \u00e9vite ainsi d'imposer une op\u00e9ration de copie, qui peut \u00eatre co\u00fbteuse en m\u00e9moire, lorsque ce n'est pas utile."
     ]
    },
    {
     "cell_type": "heading",
     "level": 3,
     "metadata": {},
     "source": [
      "Tri d\u00e9croissant"
     ]
    },
    {
     "cell_type": "markdown",
     "metadata": {},
     "source": [
      "On remarque aussi que la liste est tri\u00e9e par ordre croissant. Si vous souhaitez au contraire l'ordre d\u00e9croissant, vous pouvez le faire comme ceci:"
     ]
    },
    {
     "cell_type": "code",
     "collapsed": false,
     "input": [
      "liste = [ 8, 7, 4, 3, 2, 9, 1, 5, 6]\n",
      "print 'avant tri', liste\n",
      "liste.sort(reverse=True)\n",
      "print 'apres tri d\u00e9croissant', liste"
     ],
     "language": "python",
     "metadata": {},
     "outputs": []
    },
    {
     "cell_type": "markdown",
     "metadata": {},
     "source": [
      "Nous n'avons pas encore vu \u00e0 quoi correspond cette formule $\\texttt{reverse=True}$ dans l'appel \u00e0 la m\u00e9thode, ceci sera approfondi dans le chapitre sur les appels de fonction, mais dans l'imm\u00e9diat vous pouvez utiliser cette technique telle quelle."
     ]
    },
    {
     "cell_type": "heading",
     "level": 3,
     "metadata": {},
     "source": [
      "Cha\u00eenes de caract\u00e8res"
     ]
    },
    {
     "cell_type": "markdown",
     "metadata": {},
     "source": [
      "Cette technique fonctionne tr\u00e8s bien sur tous les types num\u00e9riques (enfin, \u00e0 l'exception des complexes, pourquoi ?), ainsi que sur les cha\u00eenes de caract\u00e8res:"
     ]
    },
    {
     "cell_type": "code",
     "collapsed": false,
     "input": [
      "liste = [ 'spam', 'egg', 'bacon', 'beef' ]\n",
      "liste.sort()\n",
      "print 'apr\u00e8s tri', liste"
     ],
     "language": "python",
     "metadata": {},
     "outputs": []
    },
    {
     "cell_type": "markdown",
     "metadata": {},
     "source": [
      "Comme on s'y attend, il s'agit cette fois d'un tri lexicographique, d\u00e9riv\u00e9 de l'ordre total sur les caract\u00e8res. Il faut souligner toutefois, pour les personnes n'ayant jamais \u00e9t\u00e9 expos\u00e9es \u00e0 l'informatique, que cet ordre, quoique d\u00e9terministe, est arbitraire en dehors des lettres de l'alphabet."
     ]
    },
    {
     "cell_type": "markdown",
     "metadata": {},
     "source": [
      "Ainsi par exemple:"
     ]
    },
    {
     "cell_type": "code",
     "collapsed": false,
     "input": [
      "'a' < 'z'"
     ],
     "language": "python",
     "metadata": {},
     "outputs": []
    },
    {
     "cell_type": "markdown",
     "metadata": {},
     "source": [
      "bon; mais par contre"
     ]
    },
    {
     "cell_type": "code",
     "collapsed": false,
     "input": [
      "'Z' < 'a'"
     ],
     "language": "python",
     "metadata": {},
     "outputs": []
    },
    {
     "cell_type": "markdown",
     "metadata": {},
     "source": [
      "Ce qui explique ceci"
     ]
    },
    {
     "cell_type": "code",
     "collapsed": false,
     "input": [
      "liste = [ 'abc', 'Zoo' ]\n",
      "liste.sort()\n",
      "print liste"
     ],
     "language": "python",
     "metadata": {},
     "outputs": []
    },
    {
     "cell_type": "markdown",
     "metadata": {},
     "source": [
      "Et lorsque les chaines contiennent des espaces ou autres ponctuations, le r\u00e9sultat du tri peut para\u00eetre surprenant:"
     ]
    },
    {
     "cell_type": "code",
     "collapsed": false,
     "input": [
      "liste = [ ' zoo', 'ane' ]\n",
      "liste.sort()\n",
      "print liste"
     ],
     "language": "python",
     "metadata": {},
     "outputs": []
    },
    {
     "cell_type": "markdown",
     "metadata": {},
     "source": [
      "Le codage ASCII, d'o\u00f9 d\u00e9rive l'ordre total sur les caract\u00e8res, peut \u00eatre consult\u00e9 en googlant \"ASCII\", par exemple ici http://www.ascii-code.com"
     ]
    },
    {
     "cell_type": "markdown",
     "metadata": {},
     "source": [
      "*Remarque*: nous avons d\u00e9lib\u00e9r\u00e9ment dans cette discussion ignor\u00e9 le cas des caract\u00e8res accentu\u00e9s, sur lequel nous reviendrons plus tard."
     ]
    },
    {
     "cell_type": "heading",
     "level": 3,
     "metadata": {},
     "source": [
      "Cas g\u00e9n\u00e9ral"
     ]
    },
    {
     "cell_type": "markdown",
     "metadata": {},
     "source": [
      "XXX je mets ceci pour \u00eatre complet par rapport \u00e0 la demande d'Arnaud mais \u00e7a n\u00e9cessite de passer une fonction en argument \u00e0 une autre fonction, qui peut sembler pr\u00e9matur\u00e9; On pourra toujours d\u00e9couper \u00e7a en deux et remettre la fin dans un autre notebook pr\u00e9sent\u00e9 + tard XXX"
     ]
    },
    {
     "cell_type": "markdown",
     "metadata": {},
     "source": [
      "Dans le cas g\u00e9n\u00e9ral, on est souvent amen\u00e9 \u00e0 trier des objets selon un crit\u00e8re propre \u00e0 l'application. Imaginons par exemple que l'on dispose d'une liste de tuples \u00e0 deux \u00e9l\u00e9ments, dont le premier est la latitude et le second la longitude"
     ]
    },
    {
     "cell_type": "code",
     "collapsed": false,
     "input": [
      "coordonnees = [ (43, 7), (46, -7), (46, 0) ]"
     ],
     "language": "python",
     "metadata": {},
     "outputs": []
    },
    {
     "cell_type": "markdown",
     "metadata": {},
     "source": [
      "Il est possible d'utiliser la m\u00e9thode $\\texttt{sort}$ pour faire cela, mais il va falloir l'aider un peu plus, et lui expliquer comment comparer deux \u00e9l\u00e9ments de la liste.\n",
      "\n",
      "Voyons comment on pourrait proc\u00e9der pour trier par longitude"
     ]
    },
    {
     "cell_type": "code",
     "collapsed": false,
     "input": [
      "def longitude (element): return element[1]\n",
      "coordonnees.sort (key=longitude)\n",
      "print \"coordonn\u00e9es tri\u00e9es par longitude\",coordonnees"
     ],
     "language": "python",
     "metadata": {},
     "outputs": []
    },
    {
     "cell_type": "markdown",
     "metadata": {},
     "source": [
      "Comme on le devine, le proc\u00e9d\u00e9 ici consiste \u00e0 indiquer \u00e0 $\\texttt{sort}$ comment calculer, \u00e0 partir de chaque \u00e9l\u00e9ment, une valeur num\u00e9rique qui sert de base au tri. \n",
      "\n",
      "Pour cela on passe \u00e0 la m\u00e9thode $\\texttt{sort}$ un argument $\\texttt{key}$ qui d\u00e9signe une fonction, qui lorsqu'elle est appliqu\u00e9e \u00e0 un \u00e9l\u00e9ment de la liste, retourne la valeur qui doit servir de base au tri (ici donc dans notre exemple, la fonction $\\texttt{longitude}$, qui renvoie le second \u00e9l\u00e9ment du tuple."
     ]
    },
    {
     "cell_type": "heading",
     "level": 3,
     "metadata": {},
     "source": [
      "Fonction de commodit\u00e9 : $\\texttt{sorted}$"
     ]
    },
    {
     "cell_type": "markdown",
     "metadata": {},
     "source": [
      "On a vu que $\\texttt{sort}$ r\u00e9alise le tri de la liste \"en place\". Pour les cas ou une copie est n\u00e9cessaire, python fournit \u00e9galement une fonction de commodit\u00e9, qui permet pr\u00e9cis\u00e9ment de renvoyer la copie tri\u00e9e d'une liste d'entr\u00e9e. Cette fonction est baptis\u00e9e $\\texttt{sorted}$, elle s'utilise par exemple comme ceci, sachant que les arguments $\\texttt{reverse}$ et $\\texttt{key}$ peuvent \u00eatre mentionn\u00e9s comme avec $\\texttt{sort}$"
     ]
    },
    {
     "cell_type": "code",
     "collapsed": false,
     "input": [
      "liste = [ 8, 7, 4, 3, 2, 9, 1, 5, 6]\n",
      "triee = sorted(liste, reverse=True)\n",
      "print 'liste tri\u00e9e tri', triee\n",
      "print 'la liste initiale est intacte', liste"
     ],
     "language": "python",
     "metadata": {},
     "outputs": []
    },
    {
     "cell_type": "markdown",
     "metadata": {},
     "source": [
      "Nous avons qualifi\u00e9 $\\texttt{sorted}$ de fonction de commodit\u00e9 car il est tr\u00e8s facile de s'en passer; en effet on aurait pu \u00e9crire \u00e0 la place du fragment pr\u00e9c\u00e9dent:"
     ]
    },
    {
     "cell_type": "code",
     "collapsed": false,
     "input": [
      "liste = [ 8, 7, 4, 3, 2, 9, 1, 5, 6]\n",
      "triee = liste [:]\n",
      "triee.sort (reverse=True)\n",
      "print 'liste tri\u00e9e tri', triee\n",
      "print 'la liste initiale est intacte', liste"
     ],
     "language": "python",
     "metadata": {},
     "outputs": []
    }
   ],
   "metadata": {}
  }
 ]
}
