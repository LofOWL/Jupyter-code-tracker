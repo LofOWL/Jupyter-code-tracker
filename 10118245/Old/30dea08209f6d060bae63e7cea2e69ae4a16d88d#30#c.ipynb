{
 "cells": [
  {
   "cell_type": "markdown",
   "metadata": {},
   "source": [
    "<span style=\"float:left;\">Licence CC BY-NC-ND</span><span style=\"float:right;\">Thierry Parmentelat &amp; Arnaud Legout&nbsp;<img src=\"media/inria-25.png\" style=\"display:inline\"></span><br/>"
   ]
  },
  {
   "cell_type": "markdown",
   "metadata": {},
   "source": [
    "# Construction de liste par compréhension"
   ]
  },
  {
   "cell_type": "markdown",
   "metadata": {},
   "source": [
    "## Complément - niveau basique"
   ]
  },
  {
   "cell_type": "markdown",
   "metadata": {},
   "source": [
    "Ce mécanisme très pratique permet de construire simplement une liste à partir d'une autre (ou de **tout autre type iterable** en réalité, mais nous y viendrons).\n",
    "\n",
    "Pour l'introduire en deux mots, disons que la compréhension de liste est à l'instruction `for` ce que l'expression conditionnelle est à l'instruction  `if`, c'est-à-dire qu'il s'agit d'une **expression à part entière**."
   ]
  },
  {
   "cell_type": "markdown",
   "metadata": {},
   "source": [
    "### Cas le plus simple"
   ]
  },
  {
   "cell_type": "markdown",
   "metadata": {},
   "source": [
    "Voyons tout de suite un exemple"
   ]
  },
  {
   "cell_type": "code",
   "execution_count": null,
   "metadata": {},
   "outputs": [],
   "source": [
    "depart = [-5, -3, 0, 3, 5, 10]\n",
    "arrivee = [x**2 for x in depart]\n",
    "arrivee"
   ]
  },
  {
   "cell_type": "markdown",
   "metadata": {},
   "source": [
    "Le résultat de cette expression est donc une liste, dont les éléments sont les résultats de l'expression `x**2` pour `x` prenant toutes les valeurs de `depart`."
   ]
  },
  {
   "cell_type": "markdown",
   "metadata": {},
   "source": [
    "**Remarque**: si on prend un point de vue un peu plus mathématique, ceci revient donc à appliquer une certaine fonction (ici $x \\rightarrow x^2$) à une collection de valeurs, et à retourner la liste des résultats. Dans les langages fonctionnels, cette opération est connue sous le nom de `map`."
   ]
  },
  {
   "cell_type": "code",
   "execution_count": null,
   "metadata": {
    "collapsed": true
   },
   "outputs": [],
   "source": [
    "# profitons de cette occasion pour voir \n",
    "# comment tracer une courbe avec matplotlib\n",
    "%matplotlib inline\n",
    "import matplotlib.pyplot as plt\n",
    "plt.ion()"
   ]
  },
  {
   "cell_type": "code",
   "execution_count": null,
   "metadata": {},
   "outputs": [],
   "source": [
    "# si on met le depart et l'arrivee \n",
    "# en abscisse et en ordonnee, on trace\n",
    "# une version tronquée de la courbe de f: x -> x**2\n",
    "plt.plot(depart, arrivee);"
   ]
  },
  {
   "cell_type": "markdown",
   "metadata": {},
   "source": [
    "### Restriction à certains éléments"
   ]
  },
  {
   "cell_type": "markdown",
   "metadata": {},
   "source": [
    "Il est possible également de ne prendre en compte que certains des éléments de la liste de départ, comme ceci"
   ]
  },
  {
   "cell_type": "code",
   "execution_count": null,
   "metadata": {},
   "outputs": [],
   "source": [
    "[x**2 for x in depart if x%2 == 0]"
   ]
  },
  {
   "cell_type": "markdown",
   "metadata": {},
   "source": [
    "qui cette fois ne contient que les carrés des éléments pairs de `depart`. "
   ]
  },
  {
   "cell_type": "markdown",
   "metadata": {},
   "source": [
    "**Remarque**: pour prolonger la remarque précédente, cette opération s'appelle fréquemment `filter` dans les langages de programmation."
   ]
  },
  {
   "cell_type": "markdown",
   "metadata": {},
   "source": [
    "### Autres types"
   ]
  },
  {
   "cell_type": "markdown",
   "metadata": {},
   "source": [
    "On peut fabriquer une compréhension à partir de tout objet itérable, pas forcément une liste, mais le résultat est toujours une liste, comme on le voit sur ces quelques exemples:"
   ]
  },
  {
   "cell_type": "code",
   "execution_count": null,
   "metadata": {},
   "outputs": [],
   "source": [
    "[ord(x) for x in 'abc']"
   ]
  },
  {
   "cell_type": "code",
   "execution_count": null,
   "metadata": {},
   "outputs": [],
   "source": [
    "[chr(x) for x in (97, 98, 99)]"
   ]
  },
  {
   "cell_type": "markdown",
   "metadata": {},
   "source": [
    "Nous verrons très bientôt que des mécanismes similaires sont disponibles avec les dictionnaires et les ensembles."
   ]
  },
  {
   "cell_type": "markdown",
   "metadata": {},
   "source": [
    "## Complément - niveau intermédiaire"
   ]
  },
  {
   "cell_type": "markdown",
   "metadata": {},
   "source": [
    "### Imbrications"
   ]
  },
  {
   "cell_type": "markdown",
   "metadata": {},
   "source": [
    "On peut également imbriquer plusieurs niveaux pour ne construire qu'une seule liste, comme par exemple"
   ]
  },
  {
   "cell_type": "code",
   "execution_count": null,
   "metadata": {},
   "outputs": [],
   "source": [
    "[n + p for n in [2, 4] for p in [10, 20, 30]]"
   ]
  },
  {
   "cell_type": "markdown",
   "metadata": {},
   "source": [
    "Bien sûr on peut aussi restreindre ces compréhensions, comme par exemple"
   ]
  },
  {
   "cell_type": "code",
   "execution_count": null,
   "metadata": {},
   "outputs": [],
   "source": [
    "[n + p for n in [2, 4] for p in [10, 20, 30] if n*p >= 40]"
   ]
  },
  {
   "cell_type": "markdown",
   "metadata": {},
   "source": [
    "Observez surtout que le résultat ci-dessus est une liste simple (de profondeur 1), à comparer avec "
   ]
  },
  {
   "cell_type": "code",
   "execution_count": null,
   "metadata": {},
   "outputs": [],
   "source": [
    "[[n + p for n in [2, 4]] for p in [10, 20, 30]]"
   ]
  },
  {
   "cell_type": "markdown",
   "metadata": {},
   "source": [
    "qui est de profondeur 2, et où les résultats atomiques apparaissent dans un ordre différent "
   ]
  },
  {
   "cell_type": "markdown",
   "metadata": {},
   "source": [
    "Un moyen mnémotechnique pour se souvenir dans quel ordre les compréhensions imbriquées produisent leur résultat, est de penser à la version \"naïve\" du code qui produirait le même résultat; dans ce code les clause `for` et `if` apparaissent **dans le même ordre** que dans la compréhension"
   ]
  },
  {
   "cell_type": "code",
   "execution_count": null,
   "metadata": {},
   "outputs": [],
   "source": [
    "# notre exemple:\n",
    "# [n + p for n in [2, 4] for p in [10, 20, 30] if n*p >= 40]\n",
    "# est équivalent à ceci:\n",
    "\n",
    "resultat = []\n",
    "for n in [2, 4]:\n",
    "    for p in [10, 20, 30]:\n",
    "        if n*p >= 40:\n",
    "            resultat.append(n + p)\n",
    "resultat"
   ]
  },
  {
   "cell_type": "markdown",
   "metadata": {},
   "source": [
    "### Compréhension *vs* expression génératrice"
   ]
  },
  {
   "cell_type": "markdown",
   "metadata": {},
   "source": [
    "#### Digression : liste *vs* itérateur"
   ]
  },
  {
   "cell_type": "markdown",
   "metadata": {},
   "source": [
    "En python3, nous avons déjà rencontré la fonction `range` qui retourne les premiers entiers.\n",
    "\n",
    "Depuis python3 toutefois, cette fonction exhibe un comportement un peu étrange, en ce sens que:"
   ]
  },
  {
   "cell_type": "code",
   "execution_count": null,
   "metadata": {},
   "outputs": [],
   "source": [
    "# on peut parcourir un range comme si c'était une liste\n",
    "for i in range(4):\n",
    "    print(i)"
   ]
  },
  {
   "cell_type": "code",
   "execution_count": null,
   "metadata": {},
   "outputs": [],
   "source": [
    "# mais en fait la fonction range ne renvoie PAS une liste (depuis python3)\n",
    "range(4)"
   ]
  },
  {
   "cell_type": "code",
   "execution_count": null,
   "metadata": {},
   "outputs": [],
   "source": [
    "range(4) == [0, 1, 2, 3]"
   ]
  },
  {
   "cell_type": "markdown",
   "metadata": {},
   "source": [
    "La raison de fond pour ceci, c'est que **le fait de construire une liste** est une opération relativement coûteuse - toutes proportions gardées - car il est nécessaire d'allouer de la mémoire pour **stocker tous les éléments** de la liste à un instant donné; alors qu'en fait dans l'immense majorité des cas, on n'a **pas réellement besoin** de cette place mémoire, tout ce dont on a besoin c'est d'itérer sur un certain nombre de valeurs mais **qui peuvent être calculées** au fur et à mesure que l'on parcourt la liste. "
   ]
  },
  {
   "cell_type": "markdown",
   "metadata": {},
   "source": [
    "#### Compréhensions et expression génératrice"
   ]
  },
  {
   "cell_type": "markdown",
   "metadata": {},
   "source": [
    "À la lumière de ce qui vient d'être dit, on peut voir qu'une compréhension n'est **pas toujours le bon choix**, car par définition elle **construit une liste** de résultats - de la fonction appliquée successivment aux entrées.\n",
    "\n",
    "Or dans les cas où, comme pour `range`, on n'a pas réellement besoin de cette liste **en temps que telle** mais seulement de cet artefact pour pouvoir itérer sur la liste des résultats, il est préférable d'utiliser une **expression génératrice**.\n",
    "\n",
    "Voyons tout de suite sur un exemple à quoi cela ressemblerait."
   ]
  },
  {
   "cell_type": "code",
   "execution_count": null,
   "metadata": {},
   "outputs": [],
   "source": [
    "# dans le premier calcul de arrivee \n",
    "# dans lequel, pour rappel, la compréhension est entre []\n",
    "# on peut écrire presque la même chose avec des () à la place \n",
    "arrivee2 = (x**2 for x in depart)\n",
    "arrivee2"
   ]
  },
  {
   "cell_type": "markdown",
   "metadata": {},
   "source": [
    "Comme pour `range`, le résultat de l'expression génératrice ne se laisse pas regarder avec `print`, mais comme pour `range`, on peut itérer sur le résultat:"
   ]
  },
  {
   "cell_type": "code",
   "execution_count": null,
   "metadata": {},
   "outputs": [],
   "source": [
    "for x, y in zip(depart, arrivee2):\n",
    "    print(\"x={} => y={}\".format(x, y))"
   ]
  },
  {
   "cell_type": "markdown",
   "metadata": {},
   "source": [
    "Il n'est pas **toujours** possible de remplacer une compréhension par une expression génératrice, mais c'est **souvent souhaitable**, car de cette façon on peut faire de substantielles économies en termes de performances. On peut le faire dès lors que l'on a seulement besoin d'itérer sur les résultats."
   ]
  },
  {
   "cell_type": "markdown",
   "metadata": {},
   "source": [
    "## Complément - niveau avancé"
   ]
  },
  {
   "cell_type": "markdown",
   "metadata": {},
   "source": [
    "### Note sur `map` et `filter`"
   ]
  },
  {
   "cell_type": "markdown",
   "metadata": {},
   "source": [
    "Avant que les compréhensions ne soient introduites, on utilisait deux fonctions built-in intitulées `map` (nom qui provient à l'origine de Lisp) et `filter`. Leur usage est à présent déconseillé, car le code est moins lisible. On les trouve encore dans du code existant."
   ]
  },
  {
   "cell_type": "markdown",
   "metadata": {},
   "source": [
    "Pour donner un aperçu de ces fonctions, au cas où vous en rencontriez dans du code existant, voici comment on écrirait"
   ]
  },
  {
   "cell_type": "code",
   "execution_count": null,
   "metadata": {},
   "outputs": [],
   "source": [
    "[x**2 for x in depart if x%2 == 0]"
   ]
  },
  {
   "cell_type": "markdown",
   "metadata": {},
   "source": [
    "Avec `map` et `filter` cela donnerait"
   ]
  },
  {
   "cell_type": "code",
   "execution_count": null,
   "metadata": {},
   "outputs": [],
   "source": [
    "def pair(x): \n",
    "    return x%2 == 0\n",
    "\n",
    "def carre(x): \n",
    "    return x**2\n",
    "\n",
    "list(map(carre, list(filter(pair, depart))))"
   ]
  },
  {
   "cell_type": "markdown",
   "metadata": {},
   "source": [
    "Ou encore, sur une ligne"
   ]
  },
  {
   "cell_type": "code",
   "execution_count": null,
   "metadata": {},
   "outputs": [],
   "source": [
    "list(map(lambda x: x**2, [x for x in depart if x%2 == 0]))"
   ]
  },
  {
   "cell_type": "markdown",
   "metadata": {},
   "source": [
    "**Remarque**: l'instruction `lambda` permet permet de définir une fonction, que l'on appelle fonction lambda, à la volée et sans la nommer. Nous reviendrons dessus dans les semaines à venir. Mais à notre avis au moins, les fonctions lambda ont perdu beaucoup de leur intérêt depuis, précisément, l'introduction des compréhensions. Aussi nous ne recommandons pas non plus de les utiliser dans du code nouveau."
   ]
  },
  {
   "cell_type": "markdown",
   "metadata": {},
   "source": [
    "### Pour en savoir plus"
   ]
  },
  {
   "cell_type": "markdown",
   "metadata": {},
   "source": [
    "Voyez [la section sur les compréhensions de liste](https://docs.python.org/3.5/tutorial/datastructures.html#list-comprehensions) dans la documentation python."
   ]
  }
 ],
 "metadata": {
  "kernelspec": {
   "display_name": "Python 3",
   "language": "python",
   "name": "python3"
  },
  "language_info": {
   "codemirror_mode": {
    "name": "ipython",
    "version": 3
   },
   "file_extension": ".py",
   "mimetype": "text/x-python",
   "name": "python",
   "nbconvert_exporter": "python",
   "pygments_lexer": "ipython3",
   "version": "3.5.1"
  },
  "notebookname": "Compréhension de liste",
  "version": "2.0"
 },
 "nbformat": 4,
 "nbformat_minor": 1
}