{
 "cells": [
  {
   "cell_type": "markdown",
   "metadata": {},
   "source": [
    "<span style=\"float:left;\">Licence CC BY-NC-ND</span><span style=\"float:right;\">Thierry Parmentelat &amp; Arnaud Legout&nbsp;<img src=\"media/inria-25.png\" style=\"display:inline\"></span><br/>"
   ]
  },
  {
   "cell_type": "markdown",
   "metadata": {},
   "source": [
    "# Formatage de chaînes de caractères"
   ]
  },
  {
   "cell_type": "markdown",
   "metadata": {},
   "source": [
    "## Complément - niveau basique"
   ]
  },
  {
   "cell_type": "markdown",
   "metadata": {},
   "source": [
    "On désigne par formatage les outils qui permettent d'obtenir une présentation fine des résultats, que ce soit pour améliorer la lisibilité lorsqu'on s'adresse à des humains, ou pour respecter la syntaxe d'un outil auquel on veut passer les données pour un traitement ultérieur."
   ]
  },
  {
   "cell_type": "markdown",
   "metadata": {},
   "source": [
    "### L'instruction `print`"
   ]
  },
  {
   "cell_type": "markdown",
   "metadata": {},
   "source": [
    "Nous avons jusqu'à maintenant presque toujours utilisé l'instruction `print` pour afficher nos résultats. Comme on l'a vu, celle-ci réalise un formatage sommaire, en ceci qu'elle insère un espace entre les valeurs qui lui sont passées."
   ]
  },
  {
   "cell_type": "markdown",
   "metadata": {},
   "source": [
    "La seule subtilité notable concernant `print` est que par défaut, elle ajoute un saut de ligne à la fin; pour éviter ce comportement, on peut passer à la fonction un argument `end`, qui sera inséré *au lieu* du saut de ligne. Ainsi par exemple:"
   ]
  },
  {
   "cell_type": "code",
   "execution_count": null,
   "metadata": {},
   "outputs": [],
   "source": [
    "# une première ligne\n",
    "print(\"une\", \"seule\", \"ligne\")\n",
    "# une deuxième ligne en deux appels à print\n",
    "print(\"une\", \"autre\", end=' ')\n",
    "print(\"ligne\")"
   ]
  },
  {
   "cell_type": "markdown",
   "metadata": {},
   "source": [
    "Il faut remarquer aussi que `print` est capable d'imprimer **n'importe quel objet**; nous l'avons déjà fait avec les listes et les tuples, voici par exemple un module:"
   ]
  },
  {
   "cell_type": "code",
   "execution_count": null,
   "metadata": {},
   "outputs": [],
   "source": [
    "# on peut imprimer par exemple un objet 'module' \n",
    "import math\n",
    "\n",
    "print('le module math est', math)"
   ]
  },
  {
   "cell_type": "markdown",
   "metadata": {},
   "source": [
    "En antipant un peu, voici comment `print` présente les instances de classe:"
   ]
  },
  {
   "cell_type": "code",
   "execution_count": null,
   "metadata": {},
   "outputs": [],
   "source": [
    "# ou une instance de classe (que nous verrons dans une semaine ultérieure)\n",
    "class Personne: \n",
    "    pass\n",
    "\n",
    "personne = Personne()\n",
    "print(personne)"
   ]
  },
  {
   "cell_type": "markdown",
   "metadata": {},
   "source": [
    "### La méthode `format`"
   ]
  },
  {
   "cell_type": "markdown",
   "metadata": {},
   "source": [
    "On rencontre assez vite les limites de `print`. D'une part, il peut être nécessaire de formater une chaîne de caractères sans nécessairement vouloir l'imprimer, ou en tous cas pas immédiatement. D'autre part les espaces ajoutés peuvent être plus néfastes qu'utiles."
   ]
  },
  {
   "cell_type": "markdown",
   "metadata": {},
   "source": [
    "On peut dans ces cas-là recourir à la méthode `format`, qui est définie sur les objets `str`, et qui s'utilise comme suit. Mais définissons d'abord quelques données à afficher."
   ]
  },
  {
   "cell_type": "code",
   "execution_count": null,
   "metadata": {},
   "outputs": [],
   "source": [
    "age = 35\n",
    "nom = \"Lambert\"\n",
    "prenom = \"Jacques\""
   ]
  },
  {
   "cell_type": "markdown",
   "metadata": {},
   "source": [
    "Nous avons choisi des objets simples, mais exactement comme avec `print`, `format` peut accepter n'importe quel type d'objet."
   ]
  },
  {
   "cell_type": "markdown",
   "metadata": {},
   "source": [
    "On peut alors préparer une mise en forme de ces données comme ceci:"
   ]
  },
  {
   "cell_type": "code",
   "execution_count": null,
   "metadata": {},
   "outputs": [],
   "source": [
    "\"{}, {}, {}ans\".format(nom, prenom, age)"
   ]
  },
  {
   "cell_type": "markdown",
   "metadata": {},
   "source": [
    "Dans cet exemple le plus simple, les données sont affichées en lieu et place des `{}`, dans l'ordre où elles sont fournies. "
   ]
  },
  {
   "cell_type": "markdown",
   "metadata": {},
   "source": [
    "Cela convient bien lorsqu'on a peu de données; si par la suite on veut changer l'ordre par exemple des nom et prénom, on peut bien sûr échanger l'ordre des arguments passés à format, ou encore utiliser la **liaison par position**, comme ceci&nbsp;:"
   ]
  },
  {
   "cell_type": "code",
   "execution_count": null,
   "metadata": {},
   "outputs": [],
   "source": [
    "\"{1}, {0}, {2}ans\".format(nom, prenom, age)"
   ]
  },
  {
   "cell_type": "markdown",
   "metadata": {},
   "source": [
    "Dans la pratique toutefois, cette forme est assez peu utile, on lui préfère souvent la **liaison par nom** qui se présente comme ceci:"
   ]
  },
  {
   "cell_type": "code",
   "execution_count": null,
   "metadata": {},
   "outputs": [],
   "source": [
    "\"{le_prenom}, {le_nom}, {l_age}ans\".format(le_nom=nom, le_prenom=prenom, l_age=age)"
   ]
  },
  {
   "cell_type": "markdown",
   "metadata": {},
   "source": [
    "Dans ce premier exemple de liaison par nom, nous avons délibérément utilisé des noms différents pour les données externes et pour les noms apparaissant dans le format, pour bien illustrer comment la liaison est résolue; mais on peut aussi bien faire tout simplement&nbsp;:"
   ]
  },
  {
   "cell_type": "code",
   "execution_count": null,
   "metadata": {},
   "outputs": [],
   "source": [
    "\"{prenom}, {nom}, {age}ans\".format(nom=nom, prenom=prenom, age=age)"
   ]
  },
  {
   "cell_type": "markdown",
   "metadata": {},
   "source": [
    "Il est possible de mélanger la liaison par position et la liaison par nom comme ceci&nbsp;:"
   ]
  },
  {
   "cell_type": "code",
   "execution_count": null,
   "metadata": {},
   "outputs": [],
   "source": [
    "\"{1}, {0}, {age}ans\".format(nom, prenom, age=age)"
   ]
  },
  {
   "cell_type": "markdown",
   "metadata": {},
   "source": [
    "avec la réserve, toutefois que les arguments nommés (ceux avec un `=`) doivent apparaître **après** les arguments liés par position (ceux sans `=`); les raisons pour ceci vous apparaîtront clairement dans quelque temps; ainsi la forme suivante n'est pas acceptée&nbsp;:"
   ]
  },
  {
   "cell_type": "markdown",
   "metadata": {},
   "source": [
    "    # il faut donner à format les arguments sans noms\n",
    "    # AVANT les arguments nommés \n",
    "    \"{1}, {0}, {age}ans\".format(age=age, nom, prenom)\n",
    "    \n",
    "    File \"<ipython-input-46-9a8e8e541bf2>\", line 1\n",
    "        \"{1}, {0}, {age}ans\".format(age=age, nom, prenom)\n",
    "    SyntaxError: positional argument follows keyword argument"
   ]
  },
  {
   "cell_type": "markdown",
   "metadata": {},
   "source": [
    "Voici qui conclut notre courte introduction à la méthode `format`, dont on rappelle toutefois pour être bien clair qu'elle **ne réalise pas d'impression**, il faut donc la coupler à `print` si l'impression est souhaitée."
   ]
  },
  {
   "cell_type": "markdown",
   "metadata": {},
   "source": [
    "### Imprimer les instances de classe"
   ]
  },
  {
   "cell_type": "markdown",
   "metadata": {},
   "source": [
    "Voici enfin, toujours en légère anticipation, nous avons vu un peu plus haut comment sont présentées par défaut les instances de classe. Pour améliorer la lisibilité, voici comment utiliser `format` pour redéfinir la façon de présenter les instances d'une classe (nous reverrons cela plus en détails à propos des classes):"
   ]
  },
  {
   "cell_type": "code",
   "execution_count": null,
   "metadata": {},
   "outputs": [],
   "source": [
    "# pour redéfinir le comportement de print \n",
    "# sur les instances de classe\n",
    "class Vector:\n",
    "    # constructeur \n",
    "    def __init__(self, x, y):\n",
    "        self.x = x\n",
    "        self.y = y\n",
    "    \n",
    "    # redéfinir la façon d'imprimer\n",
    "    def __repr__(self):\n",
    "        return \"[Vecteur {} x {}]\".format(self.x, self.y)\n",
    "\n",
    "v = Vector(3, 10)\n",
    "print(v)"
   ]
  },
  {
   "cell_type": "markdown",
   "metadata": {},
   "source": [
    "## Complément - niveau intermédiaire"
   ]
  },
  {
   "cell_type": "markdown",
   "metadata": {},
   "source": [
    "### La version précédente du formatage : l'opérateur `%`"
   ]
  },
  {
   "cell_type": "markdown",
   "metadata": {},
   "source": [
    "`format` a été en fait introduite relativement tardivement dans python, pour remplacer la technique que nous allons présenter maintenant. \n",
    "\n",
    "Il est conseillé d'utiliser exclusivement `format` pour le code que vous écrirez, mais étant donné le volume de code qui a été écrit avec l'opérateur `%`, il nous a semblé important d'introduire brièvement cette construction ici."
   ]
  },
  {
   "cell_type": "markdown",
   "metadata": {},
   "source": [
    "Le principe de l'opérateur % est le suivant. On élabore comme ci-dessus un \"format\" c'est-à-dire le patron de ce qui doit être rendu, auquel on passe des arguments pour \"remplir\" les trous. Voyons les exemples de tout à l'heure rendus avec l'opérateur `%`"
   ]
  },
  {
   "cell_type": "code",
   "execution_count": null,
   "metadata": {},
   "outputs": [],
   "source": [
    "# l'ancienne façon de formatter les chaînes avec %\n",
    "# est souvent moins lisible\n",
    "\"%s, %s, %sans\" % (nom, prenom, age)"
   ]
  },
  {
   "cell_type": "markdown",
   "metadata": {},
   "source": [
    "Les personnes ayant été exposées à C et C++ verront d'où venait cette conception des formats. Reconnaissons toutefois que le code en question n'est pas très lisible, dans l'exemple ci-dessus on peut avoir du mal à analyser le terme `sans` qui apparaît à première vue comme un mot à afficher. \n",
    "\n",
    "Quoi qu'il en soit, on pouvait également avec cet opérateur recourir à un mécanisme de liaison par nommage, en passant par un dictionnaire. Pour anticiper un tout petit peu sur cette notion que nous verrons très bientôt, voici comment:"
   ]
  },
  {
   "cell_type": "code",
   "execution_count": null,
   "metadata": {},
   "outputs": [],
   "source": [
    "variables =  {'le_nom' : nom, 'le_prenom' : prenom, 'l_age' : age}\n",
    "\"%(le_nom)s, %(le_prenom)s, %(l_age)sans\" % variables"
   ]
  },
  {
   "cell_type": "markdown",
   "metadata": {},
   "source": [
    "## Complément - niveau avancé"
   ]
  },
  {
   "cell_type": "markdown",
   "metadata": {},
   "source": [
    "De retour à la fonction `format`, il arrive qu'on ait besoin de spécifier plus finement la façon dont une valeur doit être affichée."
   ]
  },
  {
   "cell_type": "markdown",
   "metadata": {},
   "source": [
    "### Précision des arrondis"
   ]
  },
  {
   "cell_type": "markdown",
   "metadata": {},
   "source": [
    "C'est typiquement le cas avec les valeurs flottantes, pour lesquelles la précision avec laquelle on les montre vient au détriment de la lisibilité. Voici deux formes équivalentes pour obtenir une valeur de pi arrondie&nbsp;:"
   ]
  },
  {
   "cell_type": "code",
   "execution_count": null,
   "metadata": {},
   "outputs": [],
   "source": [
    "from math import pi"
   ]
  },
  {
   "cell_type": "code",
   "execution_count": null,
   "metadata": {},
   "outputs": [],
   "source": [
    "# le plus simple\n",
    "\"pi avec seulement 2 chiffres apres la virgule {:.2f}\"\\\n",
    "    .format(pi)"
   ]
  },
  {
   "cell_type": "code",
   "execution_count": null,
   "metadata": {},
   "outputs": [],
   "source": [
    "# liaison par nom\n",
    "\"pi avec seulement 3 chiffres apres la virgule {flottant:.3f}\"\\\n",
    "    .format(flottant=pi)"
   ]
  },
  {
   "cell_type": "markdown",
   "metadata": {},
   "source": [
    "### Largeur fixe"
   ]
  },
  {
   "cell_type": "markdown",
   "metadata": {},
   "source": [
    "Dans certains cas on a besoin d'afficher des données en colonnes de largeurs fixes; `format` permet de le faire, et de justifier la valeur à droite ou à gauche dans la largeur impartie, par exemple comme ceci&nbsp;:"
   ]
  },
  {
   "cell_type": "code",
   "execution_count": null,
   "metadata": {},
   "outputs": [],
   "source": [
    "# les données à afficher\n",
    "comptes = [\n",
    " ('Apollin', 'Dupont', 127),\n",
    " ('Myrtille', 'Lamartine', 25432),\n",
    " ('Prune', 'Soc', 827465),\n",
    "]\n",
    "\n",
    "for prenom, nom, solde in comptes:\n",
    "    print(\"{prenom:<10} -- {nom:12} -- {solde:>8} €\"\\\n",
    "        .format(prenom=prenom, nom=nom, solde=solde))"
   ]
  },
  {
   "cell_type": "markdown",
   "metadata": {},
   "source": [
    "### Voir aussi"
   ]
  },
  {
   "cell_type": "markdown",
   "metadata": {},
   "source": [
    "Nous vous invitons à vous reporter [à la documentation de `format`](https://docs.python.org/2.7/library/string.html#formatstrings) pour plus de détails sur les formats disponibles, et notamment aux [nombreux exemples](https://docs.python.org/2.7/library/string.html#format-examples) qui y figurent."
   ]
  }
 ],
 "metadata": {
  "kernelspec": {
   "display_name": "Python 3",
   "language": "python",
   "name": "python3"
  },
  "language_info": {
   "codemirror_mode": {
    "name": "ipython",
    "version": 3
   },
   "file_extension": ".py",
   "mimetype": "text/x-python",
   "name": "python",
   "nbconvert_exporter": "python",
   "pygments_lexer": "ipython3",
   "version": "3.5.1"
  },
  "notebookname": "Formatage de chaînes",
  "version": "3.0"
 },
 "nbformat": 4,
 "nbformat_minor": 1
}