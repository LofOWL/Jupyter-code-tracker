{
 "metadata": {
  "notebookname": "Fichiers et utilitaires",
  "signature": "e49ce34215befed1e888a4f0b94674d537d86b7216d45a0650a79be96660615c",
  "version": "1.0"
 },
 "nbformat": 3,
 "nbformat_minor": 0,
 "worksheets": [
  {
   "cells": [
    {
     "cell_type": "heading",
     "level": 1,
     "metadata": {},
     "source": [
      "Fichiers et utilitaires"
     ]
    },
    {
     "cell_type": "markdown",
     "metadata": {},
     "source": [
      "Nous pr\u00e9sentons dans ces compl\u00e9ments quelques utilitaires autour des fichiers. Il ne s'agit pas d'outils li\u00e9s au type `file` \u00e0 proprement parler, mais qui sont utiles malgr\u00e9 tout dans le contexte de la manipulation de fichiers."
     ]
    },
    {
     "cell_type": "heading",
     "level": 2,
     "metadata": {},
     "source": [
      "Compl\u00e9ment - niveau basique"
     ]
    },
    {
     "cell_type": "heading",
     "level": 3,
     "metadata": {},
     "source": [
      "Manipulations de noms de fichier"
     ]
    },
    {
     "cell_type": "markdown",
     "metadata": {},
     "source": [
      "Pour commencer, nous vous recommandons d'utiliser le module `os.path` pour manipuler les noms de fichier, ou plus largement pour obtenir des informations sur des fichiers, surtout si vous \u00e9crivez du code multi-plateforme."
     ]
    },
    {
     "cell_type": "code",
     "collapsed": false,
     "input": [
      "import os.path\n",
      "\n",
      "os.path.getsize('data/chiffres')"
     ],
     "language": "python",
     "metadata": {},
     "outputs": []
    },
    {
     "cell_type": "markdown",
     "metadata": {},
     "source": [
      "Reportez-vous \u00e0 la [documentation compl\u00e8te de `os.path`](https://docs.python.org/2/library/os.path.html) pour plus de d\u00e9tails sur ce module."
     ]
    },
    {
     "cell_type": "heading",
     "level": 3,
     "metadata": {},
     "source": [
      "Recherches de noms de fichiers"
     ]
    },
    {
     "cell_type": "markdown",
     "metadata": {},
     "source": [
      "xxx le module glob"
     ]
    },
    {
     "cell_type": "heading",
     "level": 2,
     "metadata": {},
     "source": [
      "Compl\u00e9ment - niveau interm\u00e9diaire"
     ]
    },
    {
     "cell_type": "heading",
     "level": 3,
     "metadata": {},
     "source": [
      "Informations sur un fichier"
     ]
    },
    {
     "cell_type": "markdown",
     "metadata": {},
     "source": [
      " * https://docs.python.org/2/library/os.html#os.stat\n"
     ]
    },
    {
     "cell_type": "markdown",
     "metadata": {},
     "source": [
      "xxx le module stat"
     ]
    }
   ],
   "metadata": {}
  }
 ]
}