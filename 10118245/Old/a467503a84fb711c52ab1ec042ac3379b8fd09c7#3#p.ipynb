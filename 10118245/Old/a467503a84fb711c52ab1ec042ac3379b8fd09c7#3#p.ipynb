{
 "metadata": {
  "kernelspec": {
   "display_name": "Python 2",
   "language": "python",
   "name": "python2"
  },
  "notebookname": "Gestion de la m\u00e9moire",
  "signature": "sha256:45424fe869e0cff69460eda9c310209b6c524ad4d63d05dd4ba05d420f17b896",
  "version": "2.0"
 },
 "nbformat": 3,
 "nbformat_minor": 0,
 "worksheets": [
  {
   "cells": [
    {
     "cell_type": "markdown",
     "metadata": {},
     "source": [
      "<span style=\"float:left;\">Licence CC BY-NC-ND</span><span style=\"float:right;\">Thierry Parmentelat &amp; Arnaud Legout,<img src=\"media/inria-25.png\" style=\"display:inline\"></span>"
     ]
    },
    {
     "cell_type": "heading",
     "level": 1,
     "metadata": {},
     "source": [
      "Gestion de la m\u00e9moire"
     ]
    },
    {
     "cell_type": "heading",
     "level": 2,
     "metadata": {},
     "source": [
      "Compl\u00e9ment - niveau basique"
     ]
    },
    {
     "cell_type": "markdown",
     "metadata": {},
     "source": [
      "L'objet de ce compl\u00e9ment est de vous montrer qu'avec python, vous n'avez pas \u00e0 vous pr\u00e9occuper de la m\u00e9moire. Pour cela toutefois il nous faut donner un certain nombre de d\u00e9tails sur d'autres langages comme C et C++. Si vous souhaitez suivre ce cours \u00e0 un niveau basique vous pouvez ignorer ce compl\u00e9ment, et seulement retenir que python se charge de tout pour vous."
     ]
    },
    {
     "cell_type": "heading",
     "level": 2,
     "metadata": {},
     "source": [
      "Compl\u00e9ment - niveau interm\u00e9diaire"
     ]
    },
    {
     "cell_type": "heading",
     "level": 3,
     "metadata": {},
     "source": [
      "Langages de bas niveau"
     ]
    },
    {
     "cell_type": "markdown",
     "metadata": {},
     "source": [
      "Dans un langage traditionnel de bas niveau comme C ou C++, le programmeur est en charge de l'allocation - et donc de la lib\u00e9ration - de la m\u00e9moire. \n",
      "\n",
      "Ce qui signifie que, sauf pour les valeurs stock\u00e9es dans la pile, le programmeur est amen\u00e9\n",
      " * \u00e0 r\u00e9clamer de la m\u00e9moire \u00e0 l'OS en appelant explicitement `malloc` (C) ou `new` (C++)\n",
      " * et r\u00e9ciproquement \u00e0 rendre cette m\u00e9moire \u00e0 l'OS lorsqu'elle n'est plus utilis\u00e9e, en appelant `free` (C) ou `delete` (C++)"
     ]
    },
    {
     "cell_type": "markdown",
     "metadata": {},
     "source": [
      "Avec ce genre de langage, la gestion de la m\u00e9moire est un aspect important de la programmation, qui l\u00e0 encore offre une grande flexibilit\u00e9 mais au prix d'un co\u00fbt \u00e9lev\u00e9 en termes de vitesse de d\u00e9veloppement.\n",
      "\n",
      "Il est en effet assez facile d'oublier de lib\u00e9rer la m\u00e9moire apr\u00e8s usage, ce qui peut conduire \u00e0 \u00e9puiser les ressources disponibles. \u00c0 l'inverse utiliser une zone m\u00e9moire non allou\u00e9e peut conduire \u00e0 des bugs tr\u00e8s difficiles \u00e0 localiser."
     ]
    },
    {
     "cell_type": "heading",
     "level": 3,
     "metadata": {},
     "source": [
      "Langages de haut niveau"
     ]
    },
    {
     "cell_type": "markdown",
     "metadata": {},
     "source": [
      "Pour toutes ces raisons, avec un langage de plus haut niveau comme python, le programmeur est lib\u00e9r\u00e9 de cet aspect de la programmation.\n",
      "\n",
      "Pour anticiper un peu sur le cours des semaines suivantes, voici ce qu'il peut \u00eatre utile de garder en t\u00eate s'agissant de la gestion m\u00e9moire en python:\n",
      " * vous cr\u00e9ez vos objets au fur et \u00e0 mesure de vos besoins\n",
      " * vous n'avez pas besoin de les lib\u00e9rer explicitement, le \"*Garbage Collector*\" de python va s'en charger pour, comme le nom le sugg\u00e8re, recycler la m\u00e9moire lorsque c'est possible\n",
      "\n",
      "\n",
      " * python a tendance \u00e0 \u00eatre assez gourmand en m\u00e9moire, compar\u00e9 \u00e0 un langage de bas niveau, car tout est objet; et chaque objet est assorti de *m\u00e9ta-informations* qui occupent une place non n\u00e9gligeable. Par exemple, chaque objet poss\u00e8de notamment\n",
      "   * une r\u00e9f\u00e9rence vers son type - c'est le prix du typage dynamique;\n",
      "   * un compteur de r\u00e9f\u00e9rences - le nombre d'autres valeurs (variables ou objets) qui pointent vers l'objet. Cette information est notamment utilis\u00e9e, pr\u00e9cis\u00e9ment, par le *Garbage Collector* pour d\u00e9terminer si la place utilis\u00e9e par un objet peut \u00eatre lib\u00e9r\u00e9e ou non;\n",
      "   * cette liste est non exhaustive...\n",
      " * un certain nombre de types pr\u00e9d\u00e9finis et non mutables sont impl\u00e9ment\u00e9s en python comme des *singletons*, c'est-\u00e0-dire qu'un seul objet est cr\u00e9\u00e9 et partag\u00e9; c'est le cas par exemple pour les petits entiers, et les cha\u00eenes de caract\u00e8res;\n",
      " * lorsqu'on impl\u00e9mente une classe il est possible de lui conf\u00e9rer cette caract\u00e9ristique de singleton, de mani\u00e8re \u00e0 optimiser la m\u00e9moire n\u00e9cessaire pour ex\u00e9cuter un programme."
     ]
    }
   ],
   "metadata": {}
  }
 ]
}