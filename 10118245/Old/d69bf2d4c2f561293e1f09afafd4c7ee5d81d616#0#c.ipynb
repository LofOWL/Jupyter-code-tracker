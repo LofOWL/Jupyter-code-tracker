{
 "metadata": {
  "notebookname": "Fichiers",
  "signature": "3213f29f44801880aa31029e10b89b88c19de935b9c8f9287c1ba45b29a09db8",
  "version": "1.0"
 },
 "nbformat": 3,
 "nbformat_minor": 0,
 "worksheets": [
  {
   "cells": [
    {
     "cell_type": "heading",
     "level": 1,
     "metadata": {},
     "source": [
      "Fichiers"
     ]
    },
    {
     "cell_type": "heading",
     "level": 2,
     "metadata": {},
     "source": [
      "Exercices - niveau basique"
     ]
    },
    {
     "cell_type": "heading",
     "level": 3,
     "metadata": {},
     "source": [
      "Calcul du nombre de lignes, de mots et de caract\u00e8res"
     ]
    },
    {
     "cell_type": "markdown",
     "metadata": {},
     "source": [
      "On se propose d'\u00e9crire une * moulinette* qui annote un fichier avec des nombres de lignes, de mots et de caract\u00e8res.\n",
      "\n",
      "Le but de l'exercice est d'\u00e9crire une fonction `comptage`:\n",
      " * qui prenne en argument un nom de fichier d'entr\u00e9e (on suppose qu'il existe) et un nom de fichier de sortie (on suppose qu'on a le droit de l'\u00e9crire)\n",
      " * le fichier d'entr\u00e9e est laiss\u00e9 intact\n",
      " *  pour chaque ligne en entr\u00e9e, le fichier de sortie comporte une ligne qui donne le num\u00e9ro de ligne, le nombre de mots (s\u00e9par\u00e9s par des espaces), le nombre de caract\u00e8res (y compris la fin de ligne), et la ligne d'origine\n",
      " * et enfin le fichier de sortie comporte une derni\u00e8re ligne avec les nombres totaux de lignes, de mots et de caract\u00e8res."
     ]
    },
    {
     "cell_type": "code",
     "collapsed": false,
     "input": [
      "# un exemple de ce qui est attendu\n",
      "#xxxfrom corrections.w4_files import exo_comptage\n",
      "#exo_comptage.exemple ()\n",
      "from corrections.w4_files import exemple_comptage\n",
      "exemple_comptage()"
     ],
     "language": "python",
     "metadata": {},
     "outputs": []
    },
    {
     "cell_type": "code",
     "collapsed": false,
     "input": [
      "# votre code\n",
      "def comptage (in_filename, out_filename):\n",
      "#    print 'in',in_filename\n",
      "#    print 'out',out_filename\n",
      "    \"<votre_code>\""
     ],
     "language": "python",
     "metadata": {},
     "outputs": []
    },
    {
     "cell_type": "code",
     "collapsed": false,
     "input": [
      "# pour v\u00e9rifier votre code\n",
      "#exo_comptage.correction (comptage)\n",
      "from corrections.w4_files import correction_comptage\n",
      "correction_comptage(comptage)"
     ],
     "language": "python",
     "metadata": {},
     "outputs": []
    },
    {
     "cell_type": "code",
     "collapsed": false,
     "input": [
      "# debugging\n",
      "from corrections.w4_files import debug_comptage\n",
      "debug_comptage(comptage)"
     ],
     "language": "python",
     "metadata": {},
     "outputs": []
    }
   ],
   "metadata": {}
  }
 ]
}