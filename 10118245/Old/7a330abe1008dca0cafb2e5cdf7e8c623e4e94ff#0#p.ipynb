{
 "metadata": {
  "notebookname": "NO HEADING 1 found",
  "signature": "sha256:57123fe0f531277b3f3e2ef86ca1c28b830aa61430902e41a27094a97df38e07",
  "version": "1.0"
 },
 "nbformat": 3,
 "nbformat_minor": 0,
 "worksheets": [
  {
   "cells": [
    {
     "cell_type": "heading",
     "level": 2,
     "metadata": {},
     "source": [
      "Expressions r\u00e9guli\u00e8res"
     ]
    }
   ],
   "metadata": {}
  }
 ]
}