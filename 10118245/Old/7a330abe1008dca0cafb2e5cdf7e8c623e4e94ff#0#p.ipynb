{
 "metadata": {
  "notebookname": "Expressions r\u00e9guli\u00e8res",
  "signature": "sha256:6a1ea987dc9e5ca32cb462a77c0266af63e644e7927bd8dc8506c04eac8a209e",
  "version": "1.0"
 },
 "nbformat": 3,
 "nbformat_minor": 0,
 "worksheets": [
  {
   "cells": [
    {
     "cell_type": "heading",
     "level": 1,
     "metadata": {},
     "source": [
      "Expressions r\u00e9guli\u00e8res"
     ]
    },
    {
     "cell_type": "heading",
     "level": 2,
     "metadata": {},
     "source": [
      "Compl\u00e9ment - niveau interm\u00e9diaire"
     ]
    },
    {
     "cell_type": "markdown",
     "metadata": {},
     "source": [
      "Le langage perl avait \u00e9t\u00e9 le premier \u00e0 populariser l'utilisation des expressions r\u00e9guli\u00e8res, en en faisant un \"citoyen de premi\u00e8re classe\" dans le langage (c'est-\u00e0-dire support\u00e9 nativement dans le langage, et non au travers d'une librairie).\n",
      "\n",
      "En python, les expressions r\u00e9guli\u00e8res sont disponibles de mani\u00e8re plus traditionnelle, via le module `re` de la librairie standard, dont nous allons dire quelques mots."
     ]
    },
    {
     "cell_type": "heading",
     "level": 3,
     "metadata": {},
     "source": [
      "Avertissement"
     ]
    },
    {
     "cell_type": "code",
     "collapsed": false,
     "input": [
      "xxx d\u00e9pendant du locale"
     ],
     "language": "python",
     "metadata": {},
     "outputs": []
    },
    {
     "cell_type": "heading",
     "level": 3,
     "metadata": {},
     "source": [
      "Un exemple simple"
     ]
    },
    {
     "cell_type": "markdown",
     "metadata": {},
     "source": [
      "Je vous conseille d'avoir sous la main la [documentation du module `re`](https://docs.python.org/2/library/re.html) pendant que vous lisez ce compl\u00e9ment."
     ]
    },
    {
     "cell_type": "code",
     "collapsed": false,
     "input": [
      "import re"
     ],
     "language": "python",
     "metadata": {},
     "outputs": []
    },
    {
     "cell_type": "code",
     "collapsed": false,
     "input": [
      "sentences = [u'Lacus donec vitae porta gravida proin donec sociis.', u'Neque ipsum rhoncus cras quam.']\n",
      "l1, l2 = sentences"
     ],
     "language": "python",
     "metadata": {},
     "outputs": []
    },
    {
     "cell_type": "markdown",
     "metadata": {},
     "source": [
      "On peut chercher toutes les mots se terminant par a ou e dans une ligne en faisant&nbsp;:"
     ]
    },
    {
     "cell_type": "code",
     "collapsed": false,
     "input": [
      "re.findall (r\"\\w+[ae][^\\w]\", l1)"
     ],
     "language": "python",
     "metadata": {},
     "outputs": []
    },
    {
     "cell_type": "markdown",
     "metadata": {},
     "source": [
      "Ce code permer de chercher dans la cha\u00eene `l1` toutes (`findall`) les occurrences de l'expression r\u00e9guli\u00e8re, qui ici est le *raw-string* c'est-\u00e0-dire la cha\u00eene\n",
      "\n",
      "    `r\"\\w+[ae][^\\w]\"`. \n",
      "    \n",
      "Nous verrons tout \u00e0 l'heure comment fabriquer des expressions r\u00e9guli\u00e8res plus en d\u00e9tail, mais pour d\u00e9mystifier au moins celle-ci&nbsp;:\n",
      " * `\\w+` : il nous faut trouver une sous-cha\u00eene qui commence par un nombre quelconque, mais au moins \u00e9gal \u00e0 1, de "
     ]
    }
   ],
   "metadata": {}
  }
 ]
}