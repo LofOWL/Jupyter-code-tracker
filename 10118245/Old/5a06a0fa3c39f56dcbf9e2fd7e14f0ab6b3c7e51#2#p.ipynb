{
 "metadata": {
  "notebookname": "globals et locals",
  "signature": "sha256:d26e5b0059433a5bd07e896715ad9c0cd0dc6036b6d2716e74b4b4390021e667",
  "version": "1.0"
 },
 "nbformat": 3,
 "nbformat_minor": 0,
 "worksheets": [
  {
   "cells": [
    {
     "cell_type": "heading",
     "level": 1,
     "metadata": {},
     "source": [
      "Les fonctions `globals` et `locals`"
     ]
    },
    {
     "cell_type": "heading",
     "level": 2,
     "metadata": {},
     "source": [
      "Compl\u00e9ment - niveau interm\u00e9diaire"
     ]
    },
    {
     "cell_type": "heading",
     "level": 3,
     "metadata": {},
     "source": [
      "Un exemple"
     ]
    },
    {
     "cell_type": "markdown",
     "metadata": {},
     "source": [
      "python fournit un acc\u00e8s \u00e0 la liste des noms et valeurs des variables visibles \u00e0 cet endroit du code. Dans le jargon des langages de programmation on appelle ceci **l'environnement**.\n",
      "\n",
      "Cela est fait gr\u00e2ce aux fonctions *builtin* `globals` et `locals`, que nous allons commencer par essayer sur quelques exemples. Nous avons pour cela \u00e9crit un module d\u00e9di\u00e9:"
     ]
    },
    {
     "cell_type": "code",
     "collapsed": false,
     "input": [
      "import env_locals_globals"
     ],
     "language": "python",
     "metadata": {},
     "outputs": [],
     "prompt_number": 1
    },
    {
     "cell_type": "markdown",
     "metadata": {},
     "source": [
      "-----\n",
      "\n",
      "Dont voici le code"
     ]
    },
    {
     "cell_type": "code",
     "collapsed": false,
     "input": [
      "from modtools import show_module\n",
      "show_module(env_locals_globals)"
     ],
     "language": "python",
     "metadata": {},
     "outputs": [
      {
       "output_type": "stream",
       "stream": "stdout",
       "text": [
        "Fichier C:\\Backup\\Edu\\Python\\Mooc\\flotpython\\modules\\env_locals_globals.py\n",
        "----------------------------------------\n",
        "|# -*- coding: utf-8 -*-\n",
        "|\n",
        "|\"\"\"\n",
        "|un module pour illustrer les fonctions globals et locals\n",
        "|\"\"\"\n",
        "|\n",
        "|globale = \"variable globale au module\"\n",
        "|\n",
        "|def environnement (env):\n",
        "|    \"\"\"\n",
        "|    affiche un environnement\n",
        "|    pour faire court on affiche juste le type de chaque nom\n",
        "|    \"\"\"\n",
        "|    for variable,valeur in env.items():\n",
        "|        print variable.ljust(20),\":\",type(valeur).__name__\n",
        "|\n",
        "|def temoin (x):\n",
        "|    \"la fonction t\u00e9moin\"\n",
        "|    y = x ** 2\n",
        "|    print 20*'-','globals:'\n",
        "|    environnement(globals())\n",
        "|    print 20*'-','locals:'\n",
        "|    environnement(locals())\n",
        "|\n",
        "|class Foo:\n",
        "|    \"une classe vide\"\n"
       ]
      }
     ],
     "prompt_number": 2
    },
    {
     "cell_type": "markdown",
     "metadata": {},
     "source": [
      "-----\n",
      "\n",
      "et voici ce qu'on obtient lorsqu'on appelle "
     ]
    },
    {
     "cell_type": "code",
     "collapsed": false,
     "input": [
      "env_locals_globals.temoin(10)"
     ],
     "language": "python",
     "metadata": {},
     "outputs": [
      {
       "output_type": "stream",
       "stream": "stdout",
       "text": [
        "-------------------- globals:\n",
        "environnement        : function\n",
        "globale              : str\n",
        "__builtins__         : dict\n",
        "__file__             : str\n",
        "__package__          : NoneType\n",
        "temoin               : function\n",
        "__name__             : str\n",
        "Foo                  : classobj\n",
        "__doc__              : str\n",
        "-------------------- locals:\n",
        "y                    : int\n",
        "x                    : int\n"
       ]
      }
     ],
     "prompt_number": 3
    },
    {
     "cell_type": "heading",
     "level": 3,
     "metadata": {},
     "source": [
      "Interpr\u00e9tation"
     ]
    },
    {
     "cell_type": "markdown",
     "metadata": {},
     "source": [
      "Que nous montre cet exemple ?\n",
      "\n",
      "D'une part la fonction **`globals`** nous donne la liste des symboles d\u00e9finis au niveau de **l'espace de noms du module**. Il s'agit \u00e9videmment du module dans lequel est d\u00e9finie la fonction, pas celui dans lequel elle est appel\u00e9e. Vous remarquerez que ceci englobe **tous** les symboles du modules et non pas seulement ceux d\u00e9finis avant `temoin`, c'est-\u00e0-dire la variable `globale`, les deux fonctions, et la classe `Foo`. \n",
      "\n",
      "D'autre part **`locals`** nous donne les variables locales qui sont accessibles **\u00e0 cet endroit du code**, comme le montre ce second exemple qui se concentre sur `locals` \u00e0 diff\u00e9rents points d'une m\u00eame fonction. "
     ]
    },
    {
     "cell_type": "code",
     "collapsed": false,
     "input": [
      "import env_locals\n",
      "\n",
      "# le code de ce module \n",
      "show_module(env_locals)"
     ],
     "language": "python",
     "metadata": {},
     "outputs": [
      {
       "output_type": "stream",
       "stream": "stdout",
       "text": [
        "Fichier C:\\Backup\\Edu\\Python\\Mooc\\flotpython\\modules\\env_locals.py\n",
        "----------------------------------------\n",
        "|# -*- coding: utf-8 -*-\n",
        "|\n",
        "|\"\"\"\n",
        "|un module pour illustrer la fonction locals\n",
        "|\"\"\"\n",
        "|\n",
        "|# pour afficher\n",
        "|from env_locals_globals import environnement\n",
        "|\n",
        "|def temoin (x):\n",
        "|    \"la fonction t\u00e9moin\"\n",
        "|    y = x ** 2\n",
        "|    print 20*'-','locals - entr\u00e9e:'\n",
        "|    environnement(locals())\n",
        "|\n",
        "|    for i in [1]:\n",
        "|        for j in [1]:\n",
        "|            print 20*'-','locals - boucle:'\n",
        "|            environnement(locals())\n",
        "|            \n"
       ]
      }
     ],
     "prompt_number": 4
    },
    {
     "cell_type": "code",
     "collapsed": false,
     "input": [
      "env_locals.temoin(10)"
     ],
     "language": "python",
     "metadata": {},
     "outputs": [
      {
       "output_type": "stream",
       "stream": "stdout",
       "text": [
        "-------------------- locals - entr\u00e9e:\n",
        "y                    : int\n",
        "x                    : int\n",
        "-------------------- locals - boucle:\n",
        "y                    : int\n",
        "x                    : int\n",
        "j                    : int\n",
        "i                    : int\n"
       ]
      }
     ],
     "prompt_number": 5
    },
    {
     "cell_type": "heading",
     "level": 3,
     "metadata": {},
     "source": [
      "Usage pour le formatage de cha\u00eenes"
     ]
    },
    {
     "cell_type": "markdown",
     "metadata": {},
     "source": [
      "Ces deux fonctions ne sont pas d'une utilisation tr\u00e8s fr\u00e9quente. Elles peuvent cependant \u00eatre utiles dans le contexte du formatage de cha\u00eenes, comme ou peut le voir dans les deux exemples ci-dessous."
     ]
    },
    {
     "cell_type": "heading",
     "level": 5,
     "metadata": {},
     "source": [
      "Avec `format`"
     ]
    },
    {
     "cell_type": "markdown",
     "metadata": {},
     "source": [
      "On peut utiliser `format` qui s'attend \u00e0 quelque chose comme "
     ]
    },
    {
     "cell_type": "code",
     "collapsed": false,
     "input": [
      "\"{nom}\".format(nom=\"Dupont\")"
     ],
     "language": "python",
     "metadata": {},
     "outputs": [
      {
       "metadata": {},
       "output_type": "pyout",
       "prompt_number": 6,
       "text": [
        "'Dupont'"
       ]
      }
     ],
     "prompt_number": 6
    },
    {
     "cell_type": "markdown",
     "metadata": {},
     "source": [
      "que l'on peut obtenir de mani\u00e8re \u00e9quivalente, avec le passage d'arguments en `**`, comme on l'a vu en fin de semaine pass\u00e9e:"
     ]
    },
    {
     "cell_type": "code",
     "collapsed": false,
     "input": [
      "\"{nom}\".format(**{'nom': 'Dupont'})"
     ],
     "language": "python",
     "metadata": {},
     "outputs": [
      {
       "metadata": {},
       "output_type": "pyout",
       "prompt_number": 7,
       "text": [
        "'Dupont'"
       ]
      }
     ],
     "prompt_number": 7
    },
    {
     "cell_type": "markdown",
     "metadata": {},
     "source": [
      "En versant la fonction `locals` dans cette formule on obtient une forme relativement \u00e9l\u00e9gante"
     ]
    },
    {
     "cell_type": "code",
     "collapsed": false,
     "input": [
      "def format_et_locals(nom, prenom, civilite, telephone):\n",
      "    return \"{civilite} {prenom} {nom} : Poste {telephone}\".format(**locals())\n",
      "\n",
      "format_et_locals('Dupont', 'Jean', 'Mr', '7748')"
     ],
     "language": "python",
     "metadata": {},
     "outputs": [
      {
       "metadata": {},
       "output_type": "pyout",
       "prompt_number": 8,
       "text": [
        "'Mr Jean Dupont : Poste 7748'"
       ]
      }
     ],
     "prompt_number": 8
    },
    {
     "cell_type": "heading",
     "level": 5,
     "metadata": {},
     "source": [
      "Avec l'op\u00e9rateur `%`"
     ]
    },
    {
     "cell_type": "markdown",
     "metadata": {},
     "source": [
      "De mani\u00e8re similaire, avec l'op\u00e9rateur `%` - dont nous rappelons qu'il est obsol\u00e8te - on peut \u00e9crire"
     ]
    },
    {
     "cell_type": "code",
     "collapsed": false,
     "input": [
      "def pourcent_et_locals(nom, prenom, civilite, telephone):\n",
      "    return \"%(civilite)s %(prenom)s %(nom)s : Poste %(telephone)s\"%locals()\n",
      "\n",
      "pourcent_et_locals('Dupont', 'Jean', 'Mr', '7748')"
     ],
     "language": "python",
     "metadata": {},
     "outputs": [
      {
       "metadata": {},
       "output_type": "pyout",
       "prompt_number": 9,
       "text": [
        "'Mr Jean Dupont : Poste 7748'"
       ]
      }
     ],
     "prompt_number": 9
    },
    {
     "cell_type": "code",
     "collapsed": false,
     "input": [],
     "language": "python",
     "metadata": {},
     "outputs": []
    }
   ],
   "metadata": {}
  }
 ]
}