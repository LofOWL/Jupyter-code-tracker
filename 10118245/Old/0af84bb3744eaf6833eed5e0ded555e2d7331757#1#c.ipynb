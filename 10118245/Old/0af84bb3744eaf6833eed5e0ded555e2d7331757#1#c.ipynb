{
 "metadata": {
  "notebookname": "Les cha\u00eenes",
  "signature": "sha256:ee93e0474ccd18feca335bdc4e20c8fd3d28f32da86bc90b8699cba2f9e98056",
  "version": "1.0"
 },
 "nbformat": 3,
 "nbformat_minor": 0,
 "worksheets": [
  {
   "cells": [
    {
     "cell_type": "heading",
     "level": 1,
     "metadata": {},
     "source": [
      "Les cha\u00eenes de caract\u00e8res"
     ]
    },
    {
     "cell_type": "heading",
     "level": 2,
     "metadata": {},
     "source": [
      "Exercice - niveau basique"
     ]
    },
    {
     "cell_type": "heading",
     "level": 3,
     "metadata": {},
     "source": [
      "Analyse et mise en forme"
     ]
    },
    {
     "cell_type": "code",
     "collapsed": false,
     "input": [
      "# pour la correction, et l'exemple\n",
      "from corrections.w2s8_strings import exo_libelle"
     ],
     "language": "python",
     "metadata": {},
     "outputs": [],
     "prompt_number": 4
    },
    {
     "cell_type": "markdown",
     "metadata": {},
     "source": [
      "Un fichier contient, dans chaque ligne, des informations (champs) s\u00e9par\u00e9es par des virgules. Les espaces et tabulations pr\u00e9sents dans la ligne ne sont pas significatifs et doivent \u00eatre ignor\u00e9s. \n",
      "\n",
      "Dans cet exercice de niveau basique, on suppose que chaque ligne a exactement 3 champs, qui repr\u00e9sentent respectivement le nom, le pr\u00e9nom, et le rang d'une personne dans un classement. Une fois les espaces et tabulations ignor\u00e9s, on ne fait pas de v\u00e9rification sur le contenu des 3 champs. \n",
      "\n",
      "On vous demande d'\u00e9crire la fonction `libelle`, qui sera appel\u00e9e pour chaque ligne du fichier. Cette fonction&nbsp;:\n",
      " * prend en argument une ligne (cha\u00eene de caract\u00e8res)\n",
      " * retourne une cha\u00eene de caract\u00e8res mise en forme (voir plus bas)\n",
      " * ou bien retourne None si la ligne n'a pas pu \u00eatre analys\u00e9e, parce qu'elle ne v\u00e9rifie pas les hypoth\u00e8ses ci-dessus (c'est notamment le cas si on ne trouve pas exactement les 3 champs)\n",
      " \n"
     ]
    },
    {
     "cell_type": "markdown",
     "metadata": {},
     "source": [
      " La mise en forme consiste \u00e0 retourner \n",
      " \n",
      "    Nom.Prenom (message)\n",
      "     \n",
      " le *message* \u00e9tant lui-m\u00eame le *rang* mis en forme pour afficher '1er', '2nd' ou '*n*-eme' selon le cas. Voici quelques exemples"
     ]
    },
    {
     "cell_type": "code",
     "collapsed": false,
     "input": [
      "# voici quelques exemples de ce qui est attendu\n",
      "exo_libelle.exemple()"
     ],
     "language": "python",
     "metadata": {},
     "outputs": [
      {
       "output_type": "stream",
       "stream": "stdout",
       "text": [
        "Using columns=(24, 28)\n"
       ]
      },
      {
       "html": [
        "<table style='font-family:monospace;font-size:small;'><tr style='font-family:monospace;font-size:medium;'><th style='text-align: center;'>Arguments</th><th style='text-align: center;'>R\u00e9sultat Attendu</th></tr><tr><td>'Joseph, Dupont, 4'</td><td><pre>\n",
        "'Dupont.Joseph (4-eme)'</pre></td></tr><tr><td>'Jean'</td><td><pre>\n",
        "None</pre></td></tr></table>"
       ],
       "metadata": {},
       "output_type": "pyout",
       "prompt_number": 7,
       "text": [
        "<IPython.core.display.HTML at 0x10915ad10>"
       ]
      }
     ],
     "prompt_number": 7
    },
    {
     "cell_type": "code",
     "collapsed": false,
     "input": [
      "# \u00e9crivez votre code ici\n",
      "def libelle(ligne):\n",
      "    \"<votre_code>\""
     ],
     "language": "python",
     "metadata": {},
     "outputs": [],
     "prompt_number": 8
    },
    {
     "cell_type": "code",
     "collapsed": false,
     "input": [
      "# pour le v\u00e9rifier\n",
      "exo_libelle.correction(libelle)"
     ],
     "language": "python",
     "metadata": {},
     "outputs": [
      {
       "output_type": "stream",
       "stream": "stdout",
       "text": [
        "Using columns=(24, 28, 28)\n"
       ]
      },
      {
       "html": [
        "<table style='font-family:monospace;font-size:small;'><tr style='font-family:monospace;font-size:medium;'><th style='text-align: center;'>Arguments</th><th style='text-align: center;'>Attendu</th><th style='text-align: center;'>Obtenu</th><th style='text-align: center;'></th></tr><tr style='background-color:#efd6d6;'><td>'Joseph, Dupont, 4'</td><td><pre>\n",
        "'Dupont.Joseph (4-eme)'</pre></td><td><pre>\n",
        "None</pre></td><td>KO</td></tr><tr style='background-color:#d6e9ce;'><td>'Jean'</td><td><pre>\n",
        "None</pre></td><td><pre>\n",
        "None</pre></td><td>OK</td></tr><tr style='background-color:#efd6d6;'><td>'Jules , Durand, 1'</td><td><pre>\n",
        "'Durand.Jules (1er)'</pre></td><td><pre>\n",
        "None</pre></td><td>KO</td></tr><tr style='background-color:#efd6d6;'><td>' Ted, Mosby, 2,'</td><td><pre>\n",
        "'Mosby.Ted (2nd)'</pre></td><td><pre>\n",
        "None</pre></td><td>KO</td></tr><tr style='background-color:#efd6d6;'><td><pre>  ' Jacques , Martin, 3 \\t'</pre></td><td><pre>\n",
        "'Martin.Jacques (3-eme)'</pre></td><td><pre>\n",
        "None</pre></td><td>KO</td></tr><tr style='background-color:#efd6d6;'><td>'Sheldon, Cooper ,5,  '</td><td><pre>\n",
        "'Cooper.Sheldon (5-eme)'</pre></td><td><pre>\n",
        "None</pre></td><td>KO</td></tr><tr style='background-color:#d6e9ce;'><td>'\\t John, Doe\\t, '</td><td><pre>\n",
        "None</pre></td><td><pre>\n",
        "None</pre></td><td>OK</td></tr></table>"
       ],
       "metadata": {},
       "output_type": "pyout",
       "prompt_number": 9,
       "text": [
        "<IPython.core.display.HTML at 0x10915af10>"
       ]
      }
     ],
     "prompt_number": 9
    },
    {
     "cell_type": "heading",
     "level": 2,
     "metadata": {},
     "source": [
      "Exercice - niveau interm\u00e9diaire"
     ]
    },
    {
     "cell_type": "heading",
     "level": 3,
     "metadata": {},
     "source": [
      "Mise au carr\u00e9"
     ]
    },
    {
     "cell_type": "code",
     "collapsed": false,
     "input": [
      "# chargement de l'exercice\n",
      "from corrections.w2s8_strings import exo_carre"
     ],
     "language": "python",
     "metadata": {},
     "outputs": [],
     "prompt_number": 10
    },
    {
     "cell_type": "markdown",
     "metadata": {},
     "source": [
      "On vous demande \u00e0 pr\u00e9sent d'\u00e9crire une fonction dans le m\u00eame esprit que ci-dessus.\n",
      "Cette fois, chaque ligne contient, s\u00e9par\u00e9s par des point-virgules, une liste d'entiers, et on veut obtenir une nouvelle cha\u00eene avec les carr\u00e9s de ces entiers, s\u00e9par\u00e9s par des deux-points.\n",
      "\n",
      "\u00c0 nouveau les lignes peuvent \u00eatre remplies de mani\u00e8re approximative, avec des espaces, des tabulations, ou m\u00eame des points-virgules en trop, que ce soit au d\u00e9but, \u00e0 la fin, ou au milieu d'une ligne."
     ]
    },
    {
     "cell_type": "code",
     "collapsed": false,
     "input": [
      "# exemples\n",
      "exo_carre.exemple()"
     ],
     "language": "python",
     "metadata": {},
     "outputs": [
      {
       "output_type": "stream",
       "stream": "stdout",
       "text": [
        "Using columns=(24, 28)\n"
       ]
      },
      {
       "html": [
        "<table style='font-family:monospace;font-size:small;'><tr style='font-family:monospace;font-size:medium;'><th style='text-align: center;'>Appel</th><th style='text-align: center;'>R\u00e9sultat Attendu</th></tr><tr><td>carre('1;2;3')</td><td><pre>\n",
        "'1:4:9'</pre></td></tr><tr><td>carre(' 2 ;  5;6;')</td><td><pre>\n",
        "'4:25:36'</pre></td></tr><tr><td><pre>carre(\n",
        "  '; 12 ;  -23;\\t60; 1\\t')\n",
        "</pre></td><td><pre>\n",
        "'144:529:3600:1'</pre></td></tr><tr><td><pre>carre(\n",
        "  '; -12 ; ; -23; 1 ;;\\t')\n",
        "</pre></td><td><pre>\n",
        "'144:529:1'</pre></td></tr></table>"
       ],
       "metadata": {},
       "output_type": "pyout",
       "prompt_number": 11,
       "text": [
        "<IPython.core.display.HTML at 0x10915ae50>"
       ]
      }
     ],
     "prompt_number": 11
    },
    {
     "cell_type": "code",
     "collapsed": false,
     "input": [
      "# \u00e9crivez votre code ici\n",
      "def carre(ligne):\n",
      "    \"<votre_code>\""
     ],
     "language": "python",
     "metadata": {},
     "outputs": [],
     "prompt_number": 12
    },
    {
     "cell_type": "code",
     "collapsed": false,
     "input": [
      "# pour corriger\n",
      "exo_carre.correction(carre)"
     ],
     "language": "python",
     "metadata": {},
     "outputs": [
      {
       "output_type": "stream",
       "stream": "stdout",
       "text": [
        "Using columns=(24, 28, 28)\n"
       ]
      },
      {
       "html": [
        "<table style='font-family:monospace;font-size:small;'><tr style='font-family:monospace;font-size:medium;'><th style='text-align: center;'>Appel</th><th style='text-align: center;'>Attendu</th><th style='text-align: center;'>Obtenu</th><th style='text-align: center;'></th></tr><tr style='background-color:#efd6d6;'><td>carre('1;2;3')</td><td><pre>\n",
        "'1:4:9'</pre></td><td><pre>\n",
        "None</pre></td><td>KO</td></tr><tr style='background-color:#efd6d6;'><td>carre(' 2 ;  5;6;')</td><td><pre>\n",
        "'4:25:36'</pre></td><td><pre>\n",
        "None</pre></td><td>KO</td></tr><tr style='background-color:#efd6d6;'><td><pre>carre(\n",
        "  '; 12 ;  -23;\\t60; 1\\t')\n",
        "</pre></td><td><pre>\n",
        "'144:529:3600:1'</pre></td><td><pre>\n",
        "None</pre></td><td>KO</td></tr><tr style='background-color:#efd6d6;'><td><pre>carre(\n",
        "  '; -12 ; ; -23; 1 ;;\\t')\n",
        "</pre></td><td><pre>\n",
        "'144:529:1'</pre></td><td><pre>\n",
        "None</pre></td><td>KO</td></tr></table>"
       ],
       "metadata": {},
       "output_type": "pyout",
       "prompt_number": 13,
       "text": [
        "<IPython.core.display.HTML at 0x1091bb250>"
       ]
      }
     ],
     "prompt_number": 13
    },
    {
     "cell_type": "code",
     "collapsed": false,
     "input": [],
     "language": "python",
     "metadata": {},
     "outputs": []
    }
   ],
   "metadata": {}
  }
 ]
}