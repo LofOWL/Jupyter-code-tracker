{
 "metadata": {
  "name": "",
  "signature": "sha256:01db2dcb42d2e4162cfbd779b750c948735ba99159e3af35561f68eae29270fa"
 },
 "nbformat": 3,
 "nbformat_minor": 0,
 "worksheets": [
  {
   "cells": [
    {
     "cell_type": "heading",
     "level": 1,
     "metadata": {},
     "source": [
      "Le type `unicode`"
     ]
    },
    {
     "cell_type": "heading",
     "level": 3,
     "metadata": {},
     "source": [
      "Encodage"
     ]
    },
    {
     "cell_type": "markdown",
     "metadata": {},
     "source": [
      "Comme vous le savez, une m\u00e9moire d'ordinateur ne peut contenir que des valeurs binaires. Aussi lorsqu'on manipule du texte, il faut d'une mani\u00e8re ou d'une autre \u00e9tablir une \u00e9quivalence entre cha\u00eenes de caract\u00e8res, lisibles par un humain, et suite binaire pour l'ordinateur. On appelle cette \u00e9quivalence un **encodage**."
     ]
    },
    {
     "cell_type": "heading",
     "level": 3,
     "metadata": {},
     "source": [
      "Histoire"
     ]
    },
    {
     "cell_type": "markdown",
     "metadata": {},
     "source": [
      "En 1968 a \u00e9t\u00e9 [d\u00e9fini](http://en.wikipedia.org/wiki/Ascii) un encodage connu sous le nom de **code ASCII**. Essentiellement celui-ci associe un caract\u00e8re \u00e0 chaque entier de 0 \u00e0 127. Ce qui permet d'encoder les caract\u00e8res non accentu\u00e9s utilis\u00e9s en anglais, ainsi que les chiffres et signes de ponctuation. L'id\u00e9e \u00e9tant de stocker un caract\u00e8re par octet en m\u00e9moire, le dernier bit pouvant \u00eatre utilis\u00e9 pour un code correcteur d'erreur."
     ]
    },
    {
     "cell_type": "markdown",
     "metadata": {},
     "source": [
      "Dans les ann\u00e9es 1980, pour \u00e9tendre ce mod\u00e8le aux langages europ\u00e9ens, on a d\u00e9fini plusieurs encodages, qui \u00e9tendent le spectre \u00e0 8 bits (de 0 \u00e0 255 donc); cette famille d'encodages est connue sous le nom g\u00e9n\u00e9rique de **ISO/latin**, ou encore [ISO-8859](http://en.wikipedia.org/wiki/ISO/IEC_8859)\n",
      "\n",
      "Pour les caract\u00e8res fran\u00e7ais, on recommande [ISO-latin-15](http://en.wikipedia.org/wiki/ISO/IEC_8859-15), qui est une \u00e9volution de ISO-latin-1, notamment pour supporter le symbole de l'euro `\u20ac` \n",
      "   \n",
      "\u00c0 ce stade, le mod\u00e8le mental qui \u00e9tait, avec le code ASCII, de _un caract\u00e8re_ pour _un octet_ en m\u00e9moire, est pr\u00e9serv\u00e9. Avec ISO-latin on a pu commencer \u00e0 manipuler du texte \u00e9crit en fran\u00e7ais, et non des s\u00e9quences plus ou moins absconses et d\u00e9pendant de l'application.\n",
      "\n",
      "N\u00e9anmoins cela posait encore de nombreux probl\u00e8mes. Avec 128 caract\u00e8res en plus de l'ASCII de base, on ne pouvait pas encoder tous les langages europ\u00e9ens, c'est pourquoi il y a fallu plusieurs encodages distincts. On ne pouvait pas m\u00e9langer dans le m\u00eame document des caract\u00e8res fran\u00e7ais et russes par exemple. Pour ne pas parler des graphies asiatiques..."
     ]
    },
    {
     "cell_type": "code",
     "collapsed": false,
     "input": [],
     "language": "python",
     "metadata": {},
     "outputs": []
    }
   ],
   "metadata": {}
  }
 ]
}