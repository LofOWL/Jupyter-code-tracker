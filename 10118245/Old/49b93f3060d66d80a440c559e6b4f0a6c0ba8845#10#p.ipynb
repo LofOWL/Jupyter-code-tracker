{
 "cells": [
  {
   "cell_type": "markdown",
   "metadata": {},
   "source": [
    "<span style=\"float:left;\">Licence CC BY-NC-ND</span><span style=\"float:right;\">Thierry Parmentelat &amp; Arnaud Legout&nbsp;<img src=\"media/both-logos-small-alpha.png\" style=\"display:inline\"></span><br/>"
   ]
  },
  {
   "cell_type": "markdown",
   "metadata": {
    "slideshow": {
     "slide_type": "slide"
    }
   },
   "source": [
    "# écueils classiques"
   ]
  },
  {
   "cell_type": "code",
   "execution_count": null,
   "metadata": {
    "slideshow": {
     "slide_type": "fragment"
    }
   },
   "outputs": [],
   "source": [
    "import asyncio"
   ]
  },
  {
   "cell_type": "markdown",
   "metadata": {
    "slideshow": {
     "slide_type": "slide"
    }
   },
   "source": [
    "## écueil n°1 :  fonction coroutine *vs* coroutine"
   ]
  },
  {
   "cell_type": "code",
   "execution_count": null,
   "metadata": {
    "cell_style": "split"
   },
   "outputs": [],
   "source": [
    "# une fonction coroutine\n",
    "async def foo(delay):\n",
    "    await asyncio.sleep(1)\n",
    "    print(\"foo\")"
   ]
  },
  {
   "cell_type": "code",
   "execution_count": null,
   "metadata": {
    "cell_style": "split"
   },
   "outputs": [],
   "source": [
    "# renvoie un objet coroutine\n",
    "# si on l'appelle normalement\n",
    "# il ne se passe rien\n",
    "foo(4)"
   ]
  },
  {
   "cell_type": "code",
   "execution_count": null,
   "metadata": {
    "cell_style": "split",
    "slideshow": {
     "slide_type": "fragment"
    }
   },
   "outputs": [],
   "source": [
    "# c'est exactement comme \n",
    "# une fonction génératrice\n",
    "def squares(scope):\n",
    "    for i in scope:\n",
    "        print(i)\n",
    "        yield i**2 "
   ]
  },
  {
   "cell_type": "code",
   "execution_count": null,
   "metadata": {
    "cell_style": "split"
   },
   "outputs": [],
   "source": [
    "# qui retourne un\n",
    "# itérateur, et là encore\n",
    "# il ne se passe rien\n",
    "squares(4)"
   ]
  },
  {
   "cell_type": "markdown",
   "metadata": {
    "slideshow": {
     "slide_type": "slide"
    }
   },
   "source": [
    "### tous les scénarios"
   ]
  },
  {
   "cell_type": "code",
   "execution_count": null,
   "metadata": {
    "cell_style": "split"
   },
   "outputs": [],
   "source": [
    "def synchro():\n",
    "    pass"
   ]
  },
  {
   "cell_type": "code",
   "execution_count": null,
   "metadata": {
    "cell_style": "split"
   },
   "outputs": [],
   "source": [
    "async def asynchro():\n",
    "    pass"
   ]
  },
  {
   "cell_type": "code",
   "execution_count": null,
   "metadata": {
    "cell_style": "split",
    "slideshow": {
     "slide_type": "fragment"
    }
   },
   "outputs": [],
   "source": [
    "def foo(): \n",
    "    synchro()        # 1 # OK\n",
    "    asynchro()       # 2 # ** ATTENTION **\n",
    "    await synchro()  # 3 # SyntaxError\n",
    "    await asynchro   # 4 # SyntaxError"
   ]
  },
  {
   "cell_type": "code",
   "execution_count": null,
   "metadata": {
    "cell_style": "split",
    "slideshow": {
     "slide_type": "fragment"
    }
   },
   "outputs": [],
   "source": [
    "async def afoo():\n",
    "    synchro()        # 5 # OK\n",
    "    await asynchro() # 6 # OK\n",
    "    asynchro()       # 7 # ** ATTENTION **\n",
    "    await synchro()  # 8 # ** ATTENTION **"
   ]
  },
  {
   "cell_type": "markdown",
   "metadata": {
    "slideshow": {
     "slide_type": "slide"
    }
   },
   "source": [
    "### cas n°2"
   ]
  },
  {
   "cell_type": "markdown",
   "metadata": {
    "cell_style": "split"
   },
   "source": [
    "* une fonction appelle une coroutine sans `await`\n",
    "* ➠ avertissement "
   ]
  },
  {
   "cell_type": "code",
   "execution_count": null,
   "metadata": {
    "cell_style": "split"
   },
   "outputs": [],
   "source": [
    "!cat calls2.py"
   ]
  },
  {
   "cell_type": "code",
   "execution_count": null,
   "metadata": {},
   "outputs": [],
   "source": [
    "!python calls2.py "
   ]
  },
  {
   "cell_type": "markdown",
   "metadata": {
    "slideshow": {
     "slide_type": "slide"
    }
   },
   "source": [
    "### cas n°7"
   ]
  },
  {
   "cell_type": "markdown",
   "metadata": {
    "cell_style": "split"
   },
   "source": [
    "* une coroutine appelle une autre coroutine sans `await`\n",
    "* idem : avertissement"
   ]
  },
  {
   "cell_type": "code",
   "execution_count": null,
   "metadata": {
    "cell_style": "split"
   },
   "outputs": [],
   "source": [
    "# avec until_complete\n",
    "!cat calls7.py"
   ]
  },
  {
   "cell_type": "code",
   "execution_count": null,
   "metadata": {
    "cell_style": "center",
    "slideshow": {}
   },
   "outputs": [],
   "source": [
    "!python calls7.py"
   ]
  },
  {
   "cell_type": "markdown",
   "metadata": {
    "cell_style": "center",
    "slideshow": {
     "slide_type": "slide"
    }
   },
   "source": [
    "### cas n°8"
   ]
  },
  {
   "cell_type": "code",
   "execution_count": null,
   "metadata": {},
   "outputs": [],
   "source": [
    "async def asynchro():\n",
    "    await synchro()"
   ]
  },
  {
   "cell_type": "markdown",
   "metadata": {
    "slideshow": {
     "slide_type": "-"
    }
   },
   "source": [
    "* ***peut*** être légitime - si `synchro()` retourne un awaitable\n",
    "\n",
    "* mais en général, c'est suspect !"
   ]
  },
  {
   "cell_type": "code",
   "execution_count": null,
   "metadata": {
    "slideshow": {
     "slide_type": "fragment"
    }
   },
   "outputs": [],
   "source": [
    "import inspect\n",
    "inspect.isawaitable(synchro())"
   ]
  },
  {
   "cell_type": "markdown",
   "metadata": {
    "slideshow": {
     "slide_type": "slide"
    }
   },
   "source": [
    "## écueil n°2 : code trop bloquant"
   ]
  },
  {
   "cell_type": "code",
   "execution_count": null,
   "metadata": {
    "cell_style": "split",
    "slideshow": {
     "slide_type": "fragment"
    }
   },
   "outputs": [],
   "source": [
    "async def countdown(n, period):\n",
    "    while n >= 0:\n",
    "        print('.', end='', flush=True)\n",
    "        await asyncio.sleep(period)\n",
    "        n -= 1"
   ]
  },
  {
   "cell_type": "code",
   "execution_count": null,
   "metadata": {
    "cell_style": "split"
   },
   "outputs": [],
   "source": [
    "import time\n",
    "async def compute(n, period):\n",
    "    for i in range(n):\n",
    "        # on simule un calcul\n",
    "        time.sleep(period)\n",
    "        print('x', end='', flush=True)"
   ]
  },
  {
   "cell_type": "code",
   "execution_count": null,
   "metadata": {},
   "outputs": [],
   "source": [
    "from asynchelpers import reset_loop\n",
    "reset_loop()\n",
    "asyncio.get_event_loop().run_until_complete(\n",
    "    asyncio.gather(countdown(10, .05), compute(10, .05)))"
   ]
  },
  {
   "cell_type": "markdown",
   "metadata": {
    "slideshow": {
     "slide_type": "slide"
    }
   },
   "source": [
    "### faites respirer votre code"
   ]
  },
  {
   "cell_type": "code",
   "execution_count": null,
   "metadata": {
    "cell_style": "split"
   },
   "outputs": [],
   "source": [
    "async def countdown(n, period):\n",
    "    while n >= 0:\n",
    "        print('.', end='', flush=True)\n",
    "        await asyncio.sleep(period)\n",
    "        n -= 1"
   ]
  },
  {
   "cell_type": "code",
   "execution_count": null,
   "metadata": {
    "cell_style": "split"
   },
   "outputs": [],
   "source": [
    "import time\n",
    "async def compute(n, period):\n",
    "    for i in range(n):\n",
    "        # on simule un calcul\n",
    "        time.sleep(period)\n",
    "        print('x', end='', flush=True)\n",
    "        # await None n'est pas valide\n",
    "        await asyncio.sleep(0)"
   ]
  },
  {
   "cell_type": "code",
   "execution_count": null,
   "metadata": {},
   "outputs": [],
   "source": [
    "reset_loop()\n",
    "asyncio.get_event_loop().run_until_complete(\n",
    "    asyncio.gather(countdown(10, .05), compute(10, .05)))"
   ]
  },
  {
   "cell_type": "markdown",
   "metadata": {
    "slideshow": {
     "slide_type": "slide"
    }
   },
   "source": [
    "# écueil n°3 "
   ]
  },
  {
   "cell_type": "markdown",
   "metadata": {
    "cell_style": "split"
   },
   "source": [
    "* exceptions non lues"
   ]
  },
  {
   "cell_type": "code",
   "execution_count": null,
   "metadata": {
    "cell_style": "split",
    "slideshow": {}
   },
   "outputs": [],
   "source": [
    "!cat raise.py"
   ]
  },
  {
   "cell_type": "code",
   "execution_count": null,
   "metadata": {},
   "outputs": [],
   "source": [
    "# interrompre avec ii\n",
    "!python raise.py"
   ]
  },
  {
   "cell_type": "markdown",
   "metadata": {
    "slideshow": {
     "slide_type": "slide"
    }
   },
   "source": [
    "# bonnes pratiques de développement"
   ]
  },
  {
   "cell_type": "markdown",
   "metadata": {},
   "source": [
    "* voir davantage de recettes de debug ici:\n",
    "  https://docs.python.org/3/library/asyncio-dev.html\n",
    "\n",
    "* notamment variable d'environnement `PYTHONASYNCIODEBUG`"
   ]
  },
  {
   "cell_type": "markdown",
   "metadata": {
    "slideshow": {
     "slide_type": "slide"
    }
   },
   "source": [
    "# résumé"
   ]
  },
  {
   "cell_type": "markdown",
   "metadata": {},
   "source": [
    "* bien utiliser `await` avec les coroutines\n",
    "* appels synchrones: oui mais brefs \n",
    "* lire les exceptions une fois la boucle terminée\n",
    "* penser à activer le mode debug en cas de souci"
   ]
  },
  {
   "cell_type": "markdown",
   "metadata": {
    "slideshow": {
     "slide_type": "slide"
    }
   },
   "source": [
    "# conclusion"
   ]
  },
  {
   "cell_type": "markdown",
   "metadata": {
    "cell_style": "split"
   },
   "source": [
    "* (`async def` et `await`) + `asyncio`\n",
    "\n",
    "  = une interface de programmation unifiée pour\n",
    "  * les accès réseau\n",
    "  * les processus externes\n",
    "  * objets utilitaires asynchrones"
   ]
  },
  {
   "cell_type": "markdown",
   "metadata": {
    "cell_style": "split"
   },
   "source": [
    "* technologie récente\n",
    "\n",
    "  * très gros potentiel\n",
    "  * évolutions à prévoir"
   ]
  },
  {
   "cell_type": "markdown",
   "metadata": {
    "slideshow": {
     "slide_type": "slide"
    }
   },
   "source": [
    "************ Suppléments"
   ]
  },
  {
   "cell_type": "markdown",
   "metadata": {
    "slideshow": {
     "slide_type": "slide"
    }
   },
   "source": [
    "# quel type de fonction ?"
   ]
  },
  {
   "cell_type": "code",
   "execution_count": null,
   "metadata": {
    "cell_style": "split",
    "slideshow": {}
   },
   "outputs": [],
   "source": [
    "from inspect import iscoroutinefunction\n",
    "iscoroutinefunction(synchro)"
   ]
  },
  {
   "cell_type": "code",
   "execution_count": null,
   "metadata": {
    "cell_style": "split"
   },
   "outputs": [],
   "source": [
    "iscoroutinefunction(asynchro)"
   ]
  },
  {
   "cell_type": "markdown",
   "metadata": {
    "slideshow": {
     "slide_type": "fragment"
    }
   },
   "source": [
    "##### attention toutefois"
   ]
  },
  {
   "cell_type": "code",
   "execution_count": null,
   "metadata": {
    "cell_style": "split"
   },
   "outputs": [],
   "source": [
    "# une vraie fonction qui renvoie un awaitable\n",
    "iscoroutinefunction(asyncio.gather)"
   ]
  },
  {
   "cell_type": "code",
   "execution_count": null,
   "metadata": {
    "cell_style": "split"
   },
   "outputs": [],
   "source": [
    "# ditto\n",
    "iscoroutinefunction(asyncio.wait)"
   ]
  }
 ],
 "metadata": {
  "celltoolbar": "Slideshow",
  "kernelspec": {
   "display_name": "Python 3",
   "language": "python",
   "name": "python3"
  },
  "language_info": {
   "codemirror_mode": {
    "name": "ipython",
    "version": 3
   },
   "file_extension": ".py",
   "mimetype": "text/x-python",
   "name": "python",
   "nbconvert_exporter": "python",
   "pygments_lexer": "ipython3",
   "version": "3.6.2"
  },
  "livereveal": {
   "auto_select": "code",
   "auto_select_fragment": true,
   "autolaunch": true,
   "backimage": "media/nologo.png",
   "controls": false,
   "height": "100%",
   "slideNumber": false,
   "start_slideshow_at": "selected",
   "theme": "simple",
   "transition": "fade",
   "width": "100%"
  },
  "notebookname": "Écueils classiques",
  "version": "3.0"
 },
 "nbformat": 4,
 "nbformat_minor": 2
}
