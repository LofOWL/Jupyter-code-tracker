{
 "metadata": {
  "notebookname": "Expressions r\u00e9guli\u00e8res",
  "signature": "sha256:a69a8aa925fe55c363682049828c53b9beb25e8a8a208f92c26666be6b4b1039",
  "version": "1.0"
 },
 "nbformat": 3,
 "nbformat_minor": 0,
 "worksheets": [
  {
   "cells": [
    {
     "cell_type": "heading",
     "level": 1,
     "metadata": {},
     "source": [
      "Expressions r\u00e9guli\u00e8res"
     ]
    }
   ],
   "metadata": {}
  }
 ]
}