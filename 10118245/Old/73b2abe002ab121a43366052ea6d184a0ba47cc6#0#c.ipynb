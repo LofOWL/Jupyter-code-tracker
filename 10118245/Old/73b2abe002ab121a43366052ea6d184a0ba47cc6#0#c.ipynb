{
 "metadata": {
  "notebookname": "H\u00e9ritage multiple",
  "signature": "sha256:be0f4f371bac68069215d2e8f51061422c7da4cdb460655aef38b9beaa84b46c",
  "version": "1.0"
 },
 "nbformat": 3,
 "nbformat_minor": 0,
 "worksheets": [
  {
   "cells": [
    {
     "cell_type": "heading",
     "level": 1,
     "metadata": {},
     "source": [
      "H\u00e9ritage multiple"
     ]
    },
    {
     "cell_type": "heading",
     "level": 2,
     "metadata": {},
     "source": [
      "Compl\u00e9ment - niveau avanc\u00e9"
     ]
    },
    {
     "cell_type": "heading",
     "level": 3,
     "metadata": {},
     "source": [
      "Avertissement - toutes les classes concern\u00e9es sont *new-style*"
     ]
    },
    {
     "cell_type": "markdown",
     "metadata": {},
     "source": [
      "Toutes les classes consid\u00e9r\u00e9es dans ce compl\u00e9ment sont suppos\u00e9es *new-style*. Pour les anciennes classes, le m\u00e9canisme d'h\u00e9ritagle multiple est plus rudimentaire, vous en trouverez le d\u00e9tail dans la r\u00e9f\u00e9rence au blog de Guido van Rossum (voir derni\u00e8re section). \n",
      "\n",
      "Il est, \u00e0 nouveau, tr\u00e8s fortement conseill\u00e9 d'utiliser des classes *new-style* si vous \u00e9crivez du nouveau code, car c'est la seule sorte de classe qui reste disponible en python3."
     ]
    },
    {
     "cell_type": "heading",
     "level": 3,
     "metadata": {},
     "source": [
      "Rappels"
     ]
    },
    {
     "cell_type": "markdown",
     "metadata": {},
     "source": [
      "L'h\u00e9ritage en python consiste donc principalement en l'algorithme de recherche d'un attribut d'une instance; celui-ci regarde :\n",
      "1. d'abord dans l'instance,\n",
      "1. ensuite dans la classe,\n",
      "1. ensuite dans les super-classes."
     ]
    },
    {
     "cell_type": "heading",
     "level": 3,
     "metadata": {},
     "source": [
      "Le probl\u00e8me"
     ]
    },
    {
     "cell_type": "markdown",
     "metadata": {},
     "source": [
      "Les deux premiers points ne posent pas de probl\u00e8me de d\u00e9finition, puisque l'objet lui-m\u00eame et sa classe sont **d\u00e9finis de mani\u00e8re unique**. \n",
      "\n",
      "Par contre lorsqu'on utilise l'h\u00e9ritage multiple, on peut imaginer trouver l'attribut recherch\u00e9 dans **plusieurs superclasses**. Il est donc important de pr\u00e9ciser, dans le cas o\u00f9 plusieurs superclasses poss\u00e8dent l'attribut recherch\u00e9, quel est celui qui est retenu. "
     ]
    },
    {
     "cell_type": "heading",
     "level": 3,
     "metadata": {},
     "source": [
      "Ordre sur les superclasses"
     ]
    },
    {
     "cell_type": "markdown",
     "metadata": {},
     "source": [
      "Le probl\u00e8me revient donc \u00e0 d\u00e9finir un ordre sur l'ensemble des super-classes. On parle bien, naturellement, de **toutes** les super-classes, pas seulement celles dont on h\u00e9rite directement - en termes savants on dirait qu'on s'int\u00e9resse \u00e0 la fermeture transitive de la relation d'h\u00e9ritage.\n",
      "\n",
      "Apr\u00e8s quelques errements, d\u00e9crits dans la premi\u00e8re r\u00e9f\u00e9rence (voir ci-dessous la derni\u00e8re section, \"Pour en savoir plus\"), l'algorithme qui a \u00e9t\u00e9 choisi pour d\u00e9terminer l'ordre des superclasses, qui est en service depuis la version 2.3, est connu sous le nom de **lin\u00e9arisation C3**.\n",
      "\n",
      "Nous ne d\u00e9crirons pas l'algorithme lui-m\u00eame dans le d\u00e9tail; par contre nous allons&nbsp;:\n",
      " * dans un premier temps essayer de r\u00e9sumer **les raisons** qui ont guid\u00e9 ce choix, ainsi que les **limitations** qui en d\u00e9coulent;\n",
      " * et voir l'ordre obtenu sur un exemple concret de hi\u00e9rarchie de classes.\n",
      " \n",
      "Vous trouverez dans les r\u00e9f\u00e9rences (voir ci-dessous la derni\u00e8re section, \"Pour en savoir plus\") des liens vers des documents plus techniques si vous souhaitez creuser le sujet."
     ]
    },
    {
     "cell_type": "heading",
     "level": 3,
     "metadata": {},
     "source": [
      "Les bonnes propri\u00e9t\u00e9s attendues"
     ]
    },
    {
     "cell_type": "markdown",
     "metadata": {},
     "source": [
      "Il y a un certain nombre de bonnes propri\u00e9t\u00e9s que l'on attend de cet algorithme."
     ]
    },
    {
     "cell_type": "heading",
     "level": 5,
     "metadata": {},
     "source": [
      "Priorit\u00e9 \u00e0 gauche"
     ]
    },
    {
     "cell_type": "markdown",
     "metadata": {},
     "source": [
      "Lorsqu'on utilise l'h\u00e9ritage multiple, on mentionne les classes m\u00e8res dans un certain ordre, qui n'est pas anodin. Les classes mentionn\u00e9es en premier sont bien entendu celles desquelles on veut h\u00e9riter en priorit\u00e9."
     ]
    },
    {
     "cell_type": "heading",
     "level": 5,
     "metadata": {},
     "source": [
      "Priorit\u00e9 au sp\u00e9cifique"
     ]
    },
    {
     "cell_type": "markdown",
     "metadata": {},
     "source": [
      "De la m\u00eame fa\u00e7on, lorsqu'une classe A h\u00e9rite d'une classe B, on s'attend \u00e0 ce que les m\u00e9thodes d\u00e9finies sur B, qui sont en principe plus sp\u00e9cifiques, soient utilis\u00e9es de pr\u00e9f\u00e9rence \u00e0 celles d\u00e9finies sur A."
     ]
    },
    {
     "cell_type": "heading",
     "level": 5,
     "metadata": {},
     "source": [
      "De mani\u00e8re un peu plus formelle"
     ]
    },
    {
     "cell_type": "markdown",
     "metadata": {},
     "source": [
      "Pour reformuler les deux points ci-dessus d'une mani\u00e8re un peu plus formelle&nbsp;:\n",
      " * on se donne un objet *o* de la classe *O*\n",
      " * on consid\u00e8re l'ensemble $\\cal{S}$ des superclasses de *O* (qui contient *O*), \n",
      " * et on cherche \u00e0 construire la MRO (Method Resolution Order), c'est-\u00e0-dire la liste $\\cal{MRO}$ ordonn\u00e9e des \u00e9l\u00e9ments de $\\cal{S}$ dans lesquelles chercher les attributs de *o*."
     ]
    },
    {
     "cell_type": "markdown",
     "metadata": {},
     "source": [
      "Les deux r\u00e8gles ci-dessus s'\u00e9crivent alors comme ceci&nbsp;:\n",
      "\n",
      " * $ \\forall A,B \\in \\cal{S}$,  A h\u00e9rite de B $\\Rightarrow$ A est avant B dans $\\cal{MRO}$\n",
      "\n",
      " * $ \\forall B,C,D \\in \\cal{S}$, B h\u00e9rite de C puis de D $\\Rightarrow$ B est avant C qui est avant D dans $\\cal{MRO}$\n",
      " \n",
      "La formule \"B h\u00e9rite de C puis de D\" est \u00e0 prendre ici au sens large; B peut h\u00e9riter de plus de deux classes, tout ce qui est demand\u00e9 est que C et D apparaissent, avec en premier dans la liste des classes m\u00e8res.\n"
     ]
    },
    {
     "cell_type": "heading",
     "level": 5,
     "metadata": {},
     "source": [
      "Ce n'est pas tout : la monotonie"
     ]
    },
    {
     "cell_type": "code",
     "collapsed": false,
     "input": [
      "xxx monotonie"
     ],
     "language": "python",
     "metadata": {},
     "outputs": []
    },
    {
     "cell_type": "heading",
     "level": 3,
     "metadata": {},
     "source": [
      "Un exemple tr\u00e8s simple"
     ]
    },
    {
     "cell_type": "markdown",
     "metadata": {},
     "source": [
      "On se donne la hi\u00e9rarchie suivante."
     ]
    },
    {
     "cell_type": "code",
     "collapsed": false,
     "input": [
      "class LeftTop (object):\n",
      "    def attribut(self): return \"LeftTop.attribut\"\n",
      "class LeftMiddle(LeftTop): pass\n",
      "class Left(LeftMiddle): pass\n",
      "class Middle (object): pass\n",
      "class Right (object):\n",
      "    def attribut(self): return \"Right.attribut\"\n",
      "\n",
      "class Class (Left,Middle,Right): pass\n",
      "\n",
      "instance = Class()"
     ],
     "language": "python",
     "metadata": {},
     "outputs": []
    },
    {
     "cell_type": "markdown",
     "metadata": {},
     "source": [
      "qui donne en version dessin\u00e9e, avec les deux points repr\u00e9sentant les deux d\u00e9finitions de la m\u00e9thode `attribut`:\n",
      "\n",
      "<img src=\"media/heritage-multiple01.png\" height=\"40\">"
     ]
    },
    {
     "cell_type": "markdown",
     "metadata": {},
     "source": [
      "Les deux r\u00e8gles, telles que nous les avons \u00e9nonc\u00e9es en premier lieu (priorit\u00e9 \u00e0 gauche, priorit\u00e9 au sp\u00e9cifique) sont un peu contradictoires ici. En fait c'est la m\u00e9thode de `LeftTop` qui est h\u00e9rit\u00e9e dans `Class`, comme on le voit ici&nbsp;:"
     ]
    },
    {
     "cell_type": "code",
     "collapsed": false,
     "input": [
      "print instance.attribut() == \"LeftTop.attribut\""
     ],
     "language": "python",
     "metadata": {},
     "outputs": []
    },
    {
     "cell_type": "heading",
     "level": 3,
     "metadata": {},
     "source": [
      "Un exemple un peu plus compliqu\u00e9"
     ]
    },
    {
     "cell_type": "markdown",
     "metadata": {},
     "source": [
      "Voici un exemple tir\u00e9 de la deuxi\u00e8me r\u00e9f\u00e9rence (voir ci-dessous la derni\u00e8re section, \"Pour en savoir plus\"). Cet exemple utilise des classes *new-style*."
     ]
    },
    {
     "cell_type": "code",
     "collapsed": false,
     "input": [
      "O = object\n",
      "class F(O): pass\n",
      "class E(O): pass\n",
      "class D(O): pass\n",
      "class C(D,F): pass\n",
      "class B(E,D): pass\n",
      "class A(B,C): pass"
     ],
     "language": "python",
     "metadata": {},
     "outputs": []
    },
    {
     "cell_type": "markdown",
     "metadata": {},
     "source": [
      "Cette hi\u00e9rarchie nous donne, en partant de A, l'ordre suivant"
     ]
    },
    {
     "cell_type": "raw",
     "metadata": {},
     "source": [
      "                           6\n",
      "                          ---\n",
      "Level 3                  | O |\n",
      "                       /  ---  \\\n",
      "                      /    |    \\\n",
      "                     /     |     \\\n",
      "                    /      |      \\\n",
      "                  ---     ---    ---\n",
      "Level 2        2 | E | 4 | D |  | F | 5\n",
      "                  ---     ---    ---\n",
      "                   \\      / \\     /\n",
      "                    \\    /   \\   /\n",
      "                     \\  /     \\ /\n",
      "                      ---     ---\n",
      "Level 1            1 | B |   | C | 3\n",
      "                      ---     ---\n",
      "                       \\       /\n",
      "                        \\     /\n",
      "                          ---\n",
      "Level 0                0 | A |\n",
      "                          ---\n"
     ]
    },
    {
     "cell_type": "markdown",
     "metadata": {},
     "source": [
      "Que l'on peut calculer, sous l'interpr\u00e9teur python, avec la m\u00e9thode `mro` sur la classe de d\u00e9part&nbsp;:"
     ]
    },
    {
     "cell_type": "code",
     "collapsed": false,
     "input": [
      "A.mro()"
     ],
     "language": "python",
     "metadata": {},
     "outputs": []
    },
    {
     "cell_type": "heading",
     "level": 3,
     "metadata": {},
     "source": [
      "Un exemple qui ne peut pas \u00eatre trait\u00e9"
     ]
    },
    {
     "cell_type": "markdown",
     "metadata": {},
     "source": [
      "Voici enfin un exemple de hi\u00e9rarchie pour laquelle on ne peut pas trouver d'ordre qui respecte les bonnes propri\u00e9t\u00e9s que l'on a vues tout \u00e0 l'heure. D'abord en version dessin\u00e9e\n",
      "\n",
      "<img src=\"media/heritage-multiple02.png\">"
     ]
    },
    {
     "cell_type": "code",
     "collapsed": false,
     "input": [
      "# en version code\n",
      "class X(object): pass\n",
      "class Y(object): pass\n",
      "class XY (X,Y): pass\n",
      "class YX (Y,X): pass\n",
      "\n",
      "# on essaie de cr\u00e9er une sous-classe de XY et YX\n",
      "try:\n",
      "    class Class(XY,YX): pass \n",
      "# mais ce n'est pas possible\n",
      "except Exception as e:\n",
      "    print \"On ne peut pas cr\u00e9er Class\"\n",
      "    print e\n"
     ],
     "language": "python",
     "metadata": {},
     "outputs": []
    },
    {
     "cell_type": "heading",
     "level": 3,
     "metadata": {},
     "source": [
      "Pour en savoir plus"
     ]
    },
    {
     "cell_type": "markdown",
     "metadata": {},
     "source": [
      " 1. Un [blog de Guido Van Rossum](http://python-history.blogspot.fr/2010/06/method-resolution-order.html\n",
      ") qui retrace l'historique des diff\u00e9rents essais qui ont \u00e9t\u00e9 faits avant de converger sur le mod\u00e8le actuel,\n",
      " 1. Un [article technique](https://www.python.org/download/releases/2.3/mro/) qui d\u00e9crit le fonctionnement de l'algorithme de calcul de la MRO, et donne des exemples;\n",
      " 1. L'[article de wikipedia](http://en.wikipedia.org/wiki/C3_linearization) sur l'algorithme C3."
     ]
    }
   ],
   "metadata": {}
  }
 ]
}