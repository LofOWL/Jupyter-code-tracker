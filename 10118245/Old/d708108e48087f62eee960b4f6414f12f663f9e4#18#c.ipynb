{
 "metadata": {
  "notebookname": "\u00e9valuation des tests",
  "signature": "sha256:dfcf95a9673ff7689f8b5031351712d6a8eb77d9d4ff8e44a6e558f12b7c4906",
  "version": "1.0"
 },
 "nbformat": 3,
 "nbformat_minor": 0,
 "worksheets": [
  {
   "cells": [
    {
     "cell_type": "heading",
     "level": 1,
     "metadata": {},
     "source": [
      "\u00c9valuation des tests"
     ]
    },
    {
     "cell_type": "heading",
     "level": 2,
     "metadata": {},
     "source": [
      "Compl\u00e9ment - niveau basique"
     ]
    },
    {
     "cell_type": "markdown",
     "metadata": {},
     "source": [
      "On a vu dans la vid\u00e9o que l'instruction conditionnelle `if` permet d'impl\u00e9menter simplement des branchements \u00e0 plusieurs choix, comme dans cet exemple:"
     ]
    },
    {
     "cell_type": "code",
     "collapsed": false,
     "input": [
      "entree = 'bag'\n",
      "if 'a' not in entree:\n",
      "    print 'sans a'\n",
      "elif 'b' not in entree:\n",
      "    print 'sans b'\n",
      "else:\n",
      "    print 'avec a et avec b'"
     ],
     "language": "python",
     "metadata": {},
     "outputs": []
    },
    {
     "cell_type": "markdown",
     "metadata": {},
     "source": [
      "Comme on s'en doute, les expressions conditionnelles **sont \u00e9valu\u00e9es jusqu'\u00e0 obtenir un r\u00e9sultat vrai** - ou consid\u00e9r\u00e9 comme vrai -, et le bloc correspondant est alors ex\u00e9cut\u00e9. Le point important ici est qu'une fois qu'on a obtenu un r\u00e9sultat vrai, on sort de l'expression conditionnelle **sans \u00e9valuer les autres conditions**."
     ]
    },
    {
     "cell_type": "markdown",
     "metadata": {},
     "source": [
      "Dans l'exemple ci-dessus, les conditions elles-m\u00eames ne sont pas *actives*. On veut dire par l\u00e0: la valeur de `entree` reste *identique*, que l'on *\u00e9value ou non* les deux expressions:\n",
      " * `'a' not in entree`\n",
      " * `'b' not in entree`\n",
      "\n",
      "Mais nous allons voir ci-dessous qu'il est relativement facile d'\u00e9crire des conditions qui **modifient** les objets mutables sur lesquelles elles op\u00e8rent. On dit dans ce cas qu'elles font un **effet de bord**; et c'est pourquoi il est important de bien assimiler la r\u00e8gle des \u00e9valuations des expressions dans un `if`. "
     ]
    },
    {
     "cell_type": "heading",
     "level": 2,
     "metadata": {},
     "source": [
      "Compl\u00e9ment - niveau interm\u00e9diaire"
     ]
    },
    {
     "cell_type": "heading",
     "level": 3,
     "metadata": {},
     "source": [
      "Rappel sur la m\u00e9thode `pop`\n"
     ]
    },
    {
     "cell_type": "markdown",
     "metadata": {},
     "source": [
      "Pour illustrer la notions d'**effet de bord**, nous revenons sur la m\u00e9thode de liste `pop()` qui, on le rappelle, renvoie un \u00e9l\u00e9ment de liste apr\u00e8s l'avoir effac\u00e9 de la liste. "
     ]
    },
    {
     "cell_type": "code",
     "collapsed": false,
     "input": [
      "# on se donne une liste\n",
      "liste = ['premier', 'deuxieme', 'troisieme']\n",
      "print \"liste\", liste"
     ],
     "language": "python",
     "metadata": {},
     "outputs": [
      {
       "output_type": "stream",
       "stream": "stdout",
       "text": [
        "liste ['premier', 'deuxieme', 'troisieme']\n"
       ]
      }
     ],
     "prompt_number": 2
    },
    {
     "cell_type": "code",
     "collapsed": false,
     "input": [
      "# pop(0) renvoie le premier element de la liste, et raccourcit la liste\n",
      "element = liste.pop(0)\n",
      "print \"apr\u00e8s pop(0):\", \"\u00e9l\u00e9ment=\", element, \"et liste=\", liste"
     ],
     "language": "python",
     "metadata": {},
     "outputs": [
      {
       "output_type": "stream",
       "stream": "stdout",
       "text": [
        "apr\u00e8s pop(0): \u00e9l\u00e9ment= premier et liste= ['deuxieme', 'troisieme']\n"
       ]
      }
     ],
     "prompt_number": 3
    },
    {
     "cell_type": "code",
     "collapsed": false,
     "input": [
      "# et ainsi de suite\n",
      "element = liste.pop(0)\n",
      "print \"apr\u00e8s pop(0):\", \"\u00e9l\u00e9ment=\", element, \"et liste=\", liste"
     ],
     "language": "python",
     "metadata": {},
     "outputs": [
      {
       "output_type": "stream",
       "stream": "stdout",
       "text": [
        "apr\u00e8s pop(0): \u00e9l\u00e9ment= deuxieme et liste= ['troisieme']\n"
       ]
      }
     ],
     "prompt_number": 4
    },
    {
     "cell_type": "heading",
     "level": 3,
     "metadata": {},
     "source": [
      "Conditions avec effet de bord"
     ]
    },
    {
     "cell_type": "markdown",
     "metadata": {},
     "source": [
      "Une fois ce rappel fait, voyons maintenant l'exemple suivant:"
     ]
    },
    {
     "cell_type": "code",
     "collapsed": false,
     "input": [
      "liste = range(5)\n",
      "print 'liste en entree:', liste, 'de taille', len(liste)\n",
      "if liste.pop(0) <= 0:\n",
      "    print 'cas 1'\n",
      "elif liste.pop(0) <= 1:\n",
      "    print 'cas 2'\n",
      "elif liste.pop(0) <= 2:\n",
      "    print 'cas 3'\n",
      "else:\n",
      "    print 'cas 4'\n",
      "print 'liste en sortie de taille', len(liste)"
     ],
     "language": "python",
     "metadata": {},
     "outputs": [
      {
       "output_type": "stream",
       "stream": "stdout",
       "text": [
        "liste en entree: [0, 1, 2, 3, 4] de taille 5\n",
        "cas 1\n",
        "liste en sortie de taille 4\n"
       ]
      }
     ],
     "prompt_number": 5
    },
    {
     "cell_type": "markdown",
     "metadata": {},
     "source": [
      "Avec cette entr\u00e9e, le premier test est positif (car `pop(0)` renvoie 0), aussi on n'ex\u00e9cute en tout `pop()` qu'**une seule fois**, et donc \u00e0 la sortie la liste n'a \u00e9t\u00e9 raccourcie que d'un \u00e9l\u00e9ment.\n",
      "\n",
      "Ex\u00e9cutons \u00e0 pr\u00e9sent le m\u00eame code avec une entr\u00e9e diff\u00e9rente (vivement les fonctions !)"
     ]
    },
    {
     "cell_type": "code",
     "collapsed": false,
     "input": [
      "liste = range(5,10)\n",
      "print 'liste en entree:', liste, 'de taille', len(liste)\n",
      "if liste.pop(0) <= 0:\n",
      "    print 'cas 1'\n",
      "elif liste.pop(0) <= 1:\n",
      "    print 'cas 2'\n",
      "elif liste.pop(0) <= 2:\n",
      "    print 'cas 3'\n",
      "else:\n",
      "    print 'cas 4'\n",
      "print 'liste en sortie de taille', len(liste)"
     ],
     "language": "python",
     "metadata": {},
     "outputs": [
      {
       "output_type": "stream",
       "stream": "stdout",
       "text": [
        "liste en entree: [5, 6, 7, 8, 9] de taille 5\n",
        "cas 4\n",
        "liste en sortie de taille 2\n"
       ]
      }
     ],
     "prompt_number": 6
    },
    {
     "cell_type": "markdown",
     "metadata": {},
     "source": [
      "On observe que cette fois la liste a \u00e9t\u00e9 raccourcie 3 fois, car les trois tests se sont r\u00e9v\u00e9l\u00e9s n\u00e9gatifs."
     ]
    },
    {
     "cell_type": "markdown",
     "metadata": {},
     "source": [
      "Cet exemple vous montre qu'il faut \u00eatre attentif avec des conditions qui font des effets de bord. Bien entendu, ce type de pratique est de mani\u00e8re g\u00e9n\u00e9rale **vivement d\u00e9conseill\u00e9**."
     ]
    },
    {
     "cell_type": "heading",
     "level": 3,
     "metadata": {},
     "source": [
      "*Short-circuit*"
     ]
    },
    {
     "cell_type": "markdown",
     "metadata": {},
     "source": [
      "La r\u00e8gle d'\u00e9valuation des expressions dans un `if` peut \u00eatre mise en rapport avec ce qui se passe en g\u00e9n\u00e9ral dans l'\u00e9valuation d'une expression bool\u00e9enne, mais en dehors du contexte d'un `if`\n",
      "\n",
      "Voyons un exemple tr\u00e8s voisin de ce qui pr\u00e9c\u00e8de"
     ]
    },
    {
     "cell_type": "code",
     "collapsed": false,
     "input": [
      "liste = range(5)\n",
      "print 'liste en entree de taille', len(liste)\n",
      "\n",
      "print liste.pop(0) <= 0 or liste.pop(0) <= 1 or liste.pop(0) <= 2\n",
      "print 'liste en sortie de taille', len(liste)"
     ],
     "language": "python",
     "metadata": {},
     "outputs": []
    },
    {
     "cell_type": "markdown",
     "metadata": {},
     "source": [
      "On voit ici que pour \u00e9valuer l'expression "
     ]
    },
    {
     "cell_type": "raw",
     "metadata": {},
     "source": [
      "liste.pop(0) <= 0 or liste.pop(0) <= 1 or liste.pop(0) <= 2"
     ]
    },
    {
     "cell_type": "markdown",
     "metadata": {},
     "source": [
      "on a commenc\u00e9 par \u00e9valuer le premier terme, qui s'est av\u00e9r\u00e9 vrai, il n'\u00e9tait pas n\u00e9cessaire d'\u00e9valuer les autres termes, on ne l'a donc pas fait du tout, c'est pourquoi la liste en sortie n'a \u00e9t\u00e9 raccourcie que d'un \u00e9l\u00e9ment."
     ]
    },
    {
     "cell_type": "markdown",
     "metadata": {},
     "source": [
      "Ce comportement est connu sous le nom de * short-circuit*; seules les \u00e9valuations strictement n\u00e9cessaires \u00e0 l'obtention du r\u00e9sultat sont r\u00e9alis\u00e9es. En python, les instructions `and` et `or` font du *short-circuit*. Regardons un exemple avec `and` maintenant"
     ]
    },
    {
     "cell_type": "code",
     "collapsed": false,
     "input": [
      "liste = range(1)\n",
      "print 'liste en entree de taille', len(liste)\n",
      "\n",
      "print False and liste.pop(0) <= 1 and liste.pop(0) <= 2\n",
      "print 'liste en sortie de taille', len(liste)"
     ],
     "language": "python",
     "metadata": {},
     "outputs": []
    },
    {
     "cell_type": "markdown",
     "metadata": {},
     "source": [
      "Comme un seul `False` est suffisant pour que toute l'expression soit fausse, les `list.pop(0)` ne sont pas \u00e9valu\u00e9s. "
     ]
    }
   ],
   "metadata": {}
  }
 ]
}