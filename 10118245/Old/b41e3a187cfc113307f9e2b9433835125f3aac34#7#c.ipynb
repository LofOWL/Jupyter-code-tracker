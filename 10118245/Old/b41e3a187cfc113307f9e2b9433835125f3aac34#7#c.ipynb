{
 "metadata": {
  "notebookname": "Estimer le plus petit et le plus grand flottant",
  "signature": "sha256:a6eb884a3bb59e80e8da8e35f10f98d75db73e83a9ad30b54fc600b1fe47f481",
  "version": "1.0"
 },
 "nbformat": 3,
 "nbformat_minor": 0,
 "worksheets": [
  {
   "cells": [
    {
     "cell_type": "heading",
     "level": 1,
     "metadata": {},
     "source": [
      "Estimer le plus petit et le plus grand flottant"
     ]
    },
    {
     "cell_type": "heading",
     "level": 2,
     "metadata": {},
     "source": [
      "Exercice - niveau basique"
     ]
    },
    {
     "cell_type": "heading",
     "level": 3,
     "metadata": {},
     "source": [
      "Le plus petit flottant"
     ]
    },
    {
     "cell_type": "markdown",
     "metadata": {},
     "source": [
      "En corollaire de la discussion sur la pr\u00e9cision des flottants, il faut savoir que le syst\u00e8me de codage en m\u00e9moire impose aussi une limite. Les r\u00e9els tr\u00e8s petits, ou tr\u00e8s grands, ne peuvent plus \u00eatre repr\u00e9sent\u00e9s de cette mani\u00e8re.\n",
      "\n",
      "C'est notamment tr\u00e8s g\u00eanant si vous impl\u00e9mentez un logiciel probabiliste, comme des graphes de markov, o\u00f9 les probabilit\u00e9s d'occurrence de s\u00e9quences tr\u00e8s longues tendent tr\u00e8s rapidement vers des valeurs extr\u00eamement petites."
     ]
    },
    {
     "cell_type": "markdown",
     "metadata": {},
     "source": [
      "Le but de cet exercice est d'estimer la valeur du plus petit flottant qui peut \u00eatre repr\u00e9sent\u00e9 comme un flottant. Pour vous aider, voici deux valeurs:"
     ]
    },
    {
     "cell_type": "code",
     "collapsed": false,
     "input": [
      "1e-320"
     ],
     "language": "python",
     "metadata": {},
     "outputs": []
    },
    {
     "cell_type": "code",
     "collapsed": false,
     "input": [
      "1e-330"
     ],
     "language": "python",
     "metadata": {},
     "outputs": []
    },
    {
     "cell_type": "markdown",
     "metadata": {},
     "source": [
      "Comme on le voit, $10^{-320}$ est correctement imprim\u00e9, alors que $10^{-330}$ est, de mani\u00e8re erron\u00e9e, rapport\u00e9 comme \u00e9tant nul."
     ]
    },
    {
     "cell_type": "markdown",
     "metadata": {},
     "source": [
      "\u00c0 ce stade du cours, pour estimer le plus petit flottant, proc\u00e9dez simplement par approximations successives."
     ]
    },
    {
     "cell_type": "markdown",
     "metadata": {},
     "source": [
      "**Note** Sans utiliser de boucle, la pr\u00e9cision que vous pourrez obtenir n'est que fonction .. de votre patience; ne d\u00e9passez pas 4 \u00e0 5 it\u00e9rations successives :)"
     ]
    },
    {
     "cell_type": "markdown",
     "metadata": {},
     "source": [
      "Il est par contre pertinent d'utiliser une approche rationnelle pour d\u00e9terminer l'it\u00e9ration suivante (par opposition \u00e0 une approche \"au petit bonheur\"). Pour ceux qui ne connaissent pas, nous vous recommandons de vous documenter sur l'algorithme de **dichotomie**."
     ]
    },
    {
     "cell_type": "code",
     "collapsed": false,
     "input": [
      "1e-325"
     ],
     "language": "python",
     "metadata": {},
     "outputs": []
    },
    {
     "cell_type": "markdown",
     "metadata": {},
     "source": [
      "Voici quelques cellule de code vides; vous pouvez en cr\u00e9er autant de cellules que n\u00e9cessaire, le plus simple \u00e9tant de taper `Alt+Enter`, ou d'utiliser le menu _\"Insert -> Insert Cell Below\"_"
     ]
    },
    {
     "cell_type": "code",
     "collapsed": false,
     "input": [
      "<>"
     ],
     "language": "python",
     "metadata": {},
     "outputs": []
    },
    {
     "cell_type": "code",
     "collapsed": false,
     "input": [
      "<>"
     ],
     "language": "python",
     "metadata": {},
     "outputs": []
    },
    {
     "cell_type": "code",
     "collapsed": false,
     "input": [
      "<>"
     ],
     "language": "python",
     "metadata": {},
     "outputs": []
    },
    {
     "cell_type": "code",
     "collapsed": false,
     "input": [
      "<>"
     ],
     "language": "python",
     "metadata": {},
     "outputs": []
    },
    {
     "cell_type": "heading",
     "level": 3,
     "metadata": {},
     "source": [
      "Le plus grand flottant"
     ]
    },
    {
     "cell_type": "markdown",
     "metadata": {},
     "source": [
      "La m\u00eame limitation s'applique sur les grands nombres. Toutefois cela est un peu moins \u00e9vident, car comme toujours il faut faire attention aux types"
     ]
    },
    {
     "cell_type": "code",
     "collapsed": false,
     "input": [
      "10 ** 450"
     ],
     "language": "python",
     "metadata": {},
     "outputs": [
      {
       "metadata": {},
       "output_type": "pyout",
       "prompt_number": 2,
       "text": [
        "1000000000000000000000000000000000000000000000000000000000000000000000000000000000000000000000000000000000000000000000000000000000000000000000000000000000000000000000000000000000000000000000000000000000000000000000000000000000000000000000000000000000000000000000000000000000000000000000000000000000000000000000000000000000000000000000000000000000000000000000000000000000000000000000000000000000000000000000000000000000000000000000000000000000000000000L"
       ]
      }
     ],
     "prompt_number": 2
    },
    {
     "cell_type": "markdown",
     "metadata": {},
     "source": [
      "Ce qui se passe tr\u00e8s bien car on obtient un `long`, alors que si on pr\u00e9cise bien qu'on veut un flottant on obtient une erreur"
     ]
    },
    {
     "cell_type": "code",
     "collapsed": false,
     "input": [
      "10 ** 450.0"
     ],
     "language": "python",
     "metadata": {},
     "outputs": [
      {
       "ename": "OverflowError",
       "evalue": "(34, 'Result too large')",
       "output_type": "pyerr",
       "traceback": [
        "\u001b[1;31m---------------------------------------------------------------------------\u001b[0m\n\u001b[1;31mOverflowError\u001b[0m                             Traceback (most recent call last)",
        "\u001b[1;32m<ipython-input-1-782b214024a0>\u001b[0m in \u001b[0;36m<module>\u001b[1;34m()\u001b[0m\n\u001b[1;32m----> 1\u001b[1;33m \u001b[1;36m10\u001b[0m \u001b[1;33m**\u001b[0m \u001b[1;36m450.0\u001b[0m\u001b[1;33m\u001b[0m\u001b[0m\n\u001b[0m",
        "\u001b[1;31mOverflowError\u001b[0m: (34, 'Result too large')"
       ]
      }
     ],
     "prompt_number": 1
    },
    {
     "cell_type": "markdown",
     "metadata": {},
     "source": [
      "On peut d'ailleurs remarquer que le comportement ici n'est pas extr\u00eamement coh\u00e9rent, car avec les petits nombres python nous a silencieusement transform\u00e9 $10\u02c6{-330}$ en $0$, alors que pour les grands nombres il l\u00e8ve une exception (nous verrons les exceptions plus tard, mais vous pouvez d\u00e8s maintenant remarquer que le comportement est diff\u00e9rent dans les deux cas)."
     ]
    },
    {
     "cell_type": "markdown",
     "metadata": {},
     "source": [
      "Quoi qu'il en soit, la limite pour les grands nombres se situe entre les deux valeurs $10^{300}$ et $10^{310}$. On vous demande \u00e0 nouveau d'estimer comme ci-dessus une valeur approch\u00e9e du plus grand nombre qu'il est possible de repr\u00e9senter comme un flottant."
     ]
    },
    {
     "cell_type": "code",
     "collapsed": false,
     "input": [
      "<>"
     ],
     "language": "python",
     "metadata": {},
     "outputs": []
    },
    {
     "cell_type": "code",
     "collapsed": false,
     "input": [
      "<>"
     ],
     "language": "python",
     "metadata": {},
     "outputs": []
    },
    {
     "cell_type": "code",
     "collapsed": false,
     "input": [
      "<>"
     ],
     "language": "python",
     "metadata": {},
     "outputs": []
    },
    {
     "cell_type": "code",
     "collapsed": false,
     "input": [
      "<>"
     ],
     "language": "python",
     "metadata": {},
     "outputs": []
    },
    {
     "cell_type": "heading",
     "level": 2,
     "metadata": {},
     "source": [
      "Compl\u00e9ment - niveau avanc\u00e9"
     ]
    },
    {
     "cell_type": "markdown",
     "metadata": {},
     "source": [
      "En fait, on peut acc\u00e9der \u00e0 ces valeurs minimales et maximales pour les flottants comme ceci"
     ]
    },
    {
     "cell_type": "code",
     "collapsed": false,
     "input": [
      "import sys\n",
      "print sys.float_info"
     ],
     "language": "python",
     "metadata": {},
     "outputs": [
      {
       "output_type": "stream",
       "stream": "stdout",
       "text": [
        "sys.float_info(max=1.7976931348623157e+308, max_exp=1024, max_10_exp=308, min=2.2250738585072014e-308, min_exp=-1021, min_10_exp=-307, dig=15, mant_dig=53, epsilon=2.220446049250313e-16, radix=2, rounds=1)\n"
       ]
      }
     ],
     "prompt_number": 3
    },
    {
     "cell_type": "markdown",
     "metadata": {},
     "source": [
      "Et notamment, [comme expliqu\u00e9 ici](https://docs.python.org/2/library/sys.html#sys.float_info)"
     ]
    },
    {
     "cell_type": "code",
     "collapsed": false,
     "input": [
      "print \"Flottant minimum\",sys.float_info.min\n",
      "print \"Flottant maximum\",sys.float_info.max"
     ],
     "language": "python",
     "metadata": {},
     "outputs": [
      {
       "output_type": "stream",
       "stream": "stdout",
       "text": [
        "Flottant minimum 2.22507385851e-308\n",
        "Flottant maximum 1.79769313486e+308\n"
       ]
      }
     ],
     "prompt_number": 4
    },
    {
     "cell_type": "markdown",
     "metadata": {},
     "source": [
      "*Sauf que*: vous devez avoir trouv\u00e9 un maximum voisin de cette valeur, mais le minimum observ\u00e9 exp\u00e9rimentalement ne correspond pas bien \u00e0 cette valeur.\n",
      "\n",
      "Pour ceux que cela int\u00e9resse, l'explication \u00e0 cette apparente contradiction r\u00e9side dans l'utilisation de [nombres d\u00e9normaux](http://en.wikipedia.org/wiki/Denormal%5Fnumber)."
     ]
    }
   ],
   "metadata": {}
  }
 ]
}