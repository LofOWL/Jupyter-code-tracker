{
 "cells": [
  {
   "cell_type": "markdown",
   "metadata": {},
   "source": [
    "# Indentations en python"
   ]
  },
  {
   "cell_type": "markdown",
   "metadata": {},
   "source": [
    "Comme on l'a vu dans la vidéo, on python on utilise les indentations pour structurer le code."
   ]
  },
  {
   "cell_type": "markdown",
   "metadata": {},
   "source": [
    "### Imbrications"
   ]
  },
  {
   "cell_type": "markdown",
   "metadata": {},
   "source": [
    "Nous l'avons signalé également dans la vidéo, la pratique la plus courante est d'utiliser systématiquement une marge de 4 espaces"
   ]
  },
  {
   "cell_type": "code",
   "execution_count": null,
   "metadata": {},
   "outputs": [],
   "source": [
    "if 'g' in 'egg':\n",
    "    print 'OUI'\n",
    "else:\n",
    "    print 'NON'"
   ]
  },
  {
   "cell_type": "markdown",
   "metadata": {},
   "source": [
    "Voyons tout de suite comment on pourrait écrire plusieurs tests imbriqués"
   ]
  },
  {
   "cell_type": "code",
   "execution_count": null,
   "metadata": {},
   "outputs": [],
   "source": [
    "entree='spam'\n",
    "if 'a' in entree:\n",
    "    if 'b' in entree:\n",
    "        cas11 = True\n",
    "        print 'a et b'\n",
    "    else:\n",
    "        cas12 = True\n",
    "        print 'a mais pas b'\n",
    "else:\n",
    "    if 'b' in entree:\n",
    "        cas21 = True\n",
    "        print 'b mais pas a'\n",
    "    else:\n",
    "        cas22 = True\n",
    "        print 'ni a ni b'"
   ]
  },
  {
   "cell_type": "markdown",
   "metadata": {},
   "source": [
    "Comme vous le voyez, cette construction est assez simple; remarquez bien le point virgule à chaque début de bloc, c'est-à-dire à chaque fin de ligne 'if' ou 'else'"
   ]
  },
  {
   "cell_type": "markdown",
   "metadata": {},
   "source": [
    "### Espaces vs tabulations"
   ]
  },
  {
   "cell_type": "markdown",
   "metadata": {},
   "source": [
    "Cette façon d'organiser le code peut paraître très étrange, notamment aux gens habitués à un autre langage de programmation, puisqu'en général les syntaxes des langages sont conçues de manière à être insensibles aux espaces et à la présentation. \n",
    "\n",
    "Comme vous le constaterez à l'usage cependant, une fois qu'on s'y est habitué cette pratique est très agréable, une fois qu'on a écrit la dernière ligne du code, on n'a pas à réfléchir à refermer le bon nombre d'accolades ou de 'END'. \n",
    "\n",
    "Par ailleurs, comme pour tous les langages, votre éditeur favori connaît cette syntaxe et va vous aider à respecter la règle des 4 caractères. Nous ne pouvons pas publier ici une liste des commandes disponibles par éditeur, nous vous invitons le cas échéant à échanger entre vous sur le forum pour partager les recettes que vous utilisez avec votre éditeur / environnement de programmation."
   ]
  },
  {
   "cell_type": "markdown",
   "metadata": {},
   "source": [
    "Il nous faut par contre donner quelques détails sur un problème, que l'on rencontre fréquemment sur du code partagé entre plusieurs personnes quand celles-ci utilisent des environnement différents.\n",
    "\n",
    "Pour faire court, ce problème est $\\textbf{susceptible d'apparaître dès qu'on utilise des tabulations} plutôt que des espaces pour implémenter les indentations. Aussi, le message à retenir ici est: $\\textbt{de ne jamais utiliser de tabulations dans votre code python}$"
   ]
  },
  {
   "cell_type": "markdown",
   "metadata": {},
   "source": [
    "En version longue, il existe un code ASCII (aka Control-I) pour un caractère qui s'appelle 'Tabulation'; l'interprétation de ce caractère n'étant pas spécifié, on peut se retrouver dans une situation comme la suivante"
   ]
  },
  {
   "cell_type": "markdown",
   "metadata": {},
   "source": [
    "Bernard utilise l'éditeur vim; sous cet éditeur il lui est possible de mettre des tabulations dans son code, et de choisir la valeur de ces tabulations. Aussi il va dans les préférences de vim, choisit Tabulation=4, et écrit un programme qu'il voit comme ceci"
   ]
  },
  {
   "cell_type": "code",
   "execution_count": null,
   "metadata": {},
   "outputs": [],
   "source": [
    "if 'a' in entree:\n",
    "    if 'b' in entree:\n",
    "        cas11 = True\n",
    "        print 'a et b'\n",
    "    else:\n",
    "        cas12 = True\n",
    "        print 'a mais pas b'"
   ]
  },
  {
   "cell_type": "markdown",
   "metadata": {},
   "source": [
    "Sauf qu'en fait, il a mis un mélange de tabulations et d'espaces, et en fait le fichier contient (avec ^I pour tabulation)"
   ]
  },
  {
   "cell_type": "raw",
   "metadata": {},
   "source": [
    "if 'a' in entree:\n",
    "^Iif 'b' in entree:\n",
    "^I^Icas11 = True\n",
    "    ^Iprint 'a et b'\n",
    "^Ielse:\n",
    "^I^Icas12 = True\n",
    "    ^Iprint 'a mais pas b'"
   ]
  },
  {
   "cell_type": "markdown",
   "metadata": {},
   "source": [
    "Bernard envoie son code à Alice qui utilise emacs. Dans son environnement, emacs affiche une tabulation comme 8 caractères. Du coup Alice \"voit\" le code suivant"
   ]
  },
  {
   "cell_type": "raw",
   "metadata": {},
   "source": [
    "if 'a' in entree:\n",
    "        if 'b' in entree:\n",
    "                cas11 = True\n",
    "            print 'a et b'\n",
    "    else:\n",
    "        cas12 = True\n",
    "            print 'a mais pas b'"
   ]
  },
  {
   "cell_type": "markdown",
   "metadata": {},
   "source": [
    "Bref, c'est la confusion la plus totale. Aussi répétons-le, $\\textbt{n'utilisez jamais de tabulations dans votre code python}$"
   ]
  },
  {
   "cell_type": "markdown",
   "metadata": {},
   "source": [
    "### Utiliser des indentations de 4 espaces"
   ]
  },
  {
   "cell_type": "markdown",
   "metadata": {},
   "source": [
    "##### Pour faire simple: Utilisez toujours des indentations de 4 espaces."
   ]
  },
  {
   "cell_type": "markdown",
   "metadata": {},
   "source": [
    "Toutefois pour les curieux, ou si vous rencontrez un code qui ne respecte pas cette convention, il nous faut, pour être tout à fait précis sur ce que python accepte ou non, préciser ce qui est réellement requis par python. \n",
    "\n",
    "$\\textbf{Nous vous invitons toutefois à sauter ce passage en première lecture.}$"
   ]
  },
  {
   "cell_type": "markdown",
   "metadata": {},
   "source": [
    "La règle utilisée pour analyser votre code, c'est que toutes les instructions dans un même bloc sont présentées avec au même niveau d'indentation. Si deux lignes successives - modulo les blocs imbriqués - ont la même indentation, elles sont dans le même bloc.\n",
    "\n",
    "Voyons quelques exemples. Tout d'abord le code suivant est légal, quoique, redisons-le pour la dernière fois, pas du tout recommandé"
   ]
  },
  {
   "cell_type": "code",
   "execution_count": null,
   "metadata": {},
   "outputs": [],
   "source": [
    "if 'a' in 'pas du tout recommande':\n",
    "  succes = True\n",
    "  print 'OUI'\n",
    "else:\n",
    "      print 'NON'"
   ]
  },
  {
   "cell_type": "markdown",
   "metadata": {},
   "source": [
    "En effet les deux blocs sont des blocs distincts, ils sont libres d'utiliser deux indentations différentes (ici 2 et 6)"
   ]
  },
  {
   "cell_type": "markdown",
   "metadata": {},
   "source": [
    "Par contre la construction ci-dessous n'est pas légale"
   ]
  },
  {
   "cell_type": "code",
   "execution_count": null,
   "metadata": {},
   "outputs": [],
   "source": [
    "if 'a' in entree:\n",
    "    if 'b' in entree:\n",
    "        cas11 = True\n",
    "        print 'a et b'\n",
    "      else:\n",
    "        cas12 = True\n",
    "        print 'a mais pas b'"
   ]
  },
  {
   "cell_type": "markdown",
   "metadata": {},
   "source": [
    "En effet les deux lignes 'if' et 'else' font logiquement partie du même bloc, elles $\\textbf{doivent}$ avoir la même indentation. Avec cette présentation le lecteur python émet une erreur et ne peut pas interpréter le code."
   ]
  }
 ],
 "metadata": {
  "kernelspec": {
   "display_name": "Python 3",
   "language": "python",
   "name": "python3"
  },
  "language_info": {
   "codemirror_mode": {
    "name": "ipython",
    "version": 3
   },
   "file_extension": ".py",
   "mimetype": "text/x-python",
   "name": "python",
   "nbconvert_exporter": "python",
   "pygments_lexer": "ipython3",
   "version": "3.7.3"
  }
 },
 "nbformat": 4,
 "nbformat_minor": 1
}
