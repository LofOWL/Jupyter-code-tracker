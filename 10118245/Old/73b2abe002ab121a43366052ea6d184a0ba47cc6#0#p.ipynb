{
 "metadata": {
  "notebookname": "H\u00e9ritage multiple",
  "signature": "6db8a58bd40355aedf6f19405fda64f8020d88ef87aa0ad86da5d436d11c9986",
  "version": "1.0"
 },
 "nbformat": 3,
 "nbformat_minor": 0,
 "worksheets": [
  {
   "cells": [
    {
     "cell_type": "heading",
     "level": 1,
     "metadata": {},
     "source": [
      "H\u00e9ritage multiple"
     ]
    },
    {
     "cell_type": "heading",
     "level": 2,
     "metadata": {},
     "source": [
      "Compl\u00e9ment - niveau interm\u00e9diaire"
     ]
    },
    {
     "cell_type": "heading",
     "level": 3,
     "metadata": {},
     "source": [
      "Rappels"
     ]
    },
    {
     "cell_type": "markdown",
     "metadata": {},
     "source": [
      "L'h\u00e9ritage en python consiste donc principalement en l'algorithme de recherche d'un attribut d'une instance; celui-ci regarde :\n",
      "1. d'abord dans l'instance,\n",
      "1. ensuite dans la classe,\n",
      "1. ensuite dans les super-classes."
     ]
    },
    {
     "cell_type": "heading",
     "level": 3,
     "metadata": {},
     "source": [
      "Le probl\u00e8me"
     ]
    },
    {
     "cell_type": "markdown",
     "metadata": {},
     "source": [
      "Les deux premiers points ne posent pas de probl\u00e8me de d\u00e9finition, puisque l'objet lui-m\u00eame et sa classe sont **d\u00e9finis de mani\u00e8re unique**. \n",
      "\n",
      "Par contre lorsqu'on utilise l'h\u00e9ritage multiple, on peut imaginer trouver l'attribut recherch\u00e9 dans **plusieurs superclasses**. Il est donc important de pr\u00e9ciser, dans le cas o\u00f9 plusieurs superclasses poss\u00e8dent l'attribut recherch\u00e9, quel est celui qui est retenu. "
     ]
    },
    {
     "cell_type": "heading",
     "level": 3,
     "metadata": {},
     "source": [
      "Ordre sur les superclasses"
     ]
    },
    {
     "cell_type": "markdown",
     "metadata": {},
     "source": [
      "Le probl\u00e8me revient donc \u00e0 d\u00e9finir un ordre sur l'ensemble des super-classes. On parle bien de **toutes** les super-classes, pas seulement celles dont h\u00e9rite la classe de l'objet - en termes savants on dirait la fermeture transitive de la relation d'h\u00e9ritage.\n",
      "\n",
      "Apr\u00e8s quelques errements, d\u00e9crits dans la premi\u00e8re r\u00e9f\u00e9rence ci-dessous, section \"Pour en savoir plus\", l'algorithme qui a \u00e9t\u00e9 choisi pour d\u00e9terminer l'ordre des superclasses, en service depuis la version 2.3, est connue sous le nom de **lin\u00e9arisation C3**.\n",
      "\n",
      "Nous ne d\u00e9crirons pas l'algorithme lui-m\u00eame dans le d\u00e9tail, nous vous renvoyons aux r\u00e9f\u00e9rences pour cela si vous \u00eates int\u00e9ress\u00e9s. Par contre il peut \u00eatre int\u00e9ressant de r\u00e9sumer **les raisons** qui ont guid\u00e9 ce choix, ainsi que les **limitations** qui en d\u00e9coulent."
     ]
    },
    {
     "cell_type": "markdown",
     "metadata": {},
     "source": [
      "xxx \u00e0 finir xxx"
     ]
    },
    {
     "cell_type": "heading",
     "level": 3,
     "metadata": {},
     "source": [
      "Un exemple"
     ]
    },
    {
     "cell_type": "markdown",
     "metadata": {},
     "source": [
      "Voici un exemple tir\u00e9 de la deuxi\u00e8me r\u00e9f\u00e9rence ci-dessous - section \"Pour en savoir plus\". Cet exemple utilise des classes *new-style*."
     ]
    },
    {
     "cell_type": "code",
     "collapsed": false,
     "input": [
      "O = object\n",
      "class F(O): pass\n",
      "class E(O): pass\n",
      "class D(O): pass\n",
      "class C(D,F): pass\n",
      "class B(E,D): pass\n",
      "class A(B,C): pass"
     ],
     "language": "python",
     "metadata": {},
     "outputs": []
    },
    {
     "cell_type": "markdown",
     "metadata": {},
     "source": [
      "Cette hi\u00e9rarchie nous donne, en partant de A, l'ordre suivant"
     ]
    },
    {
     "cell_type": "raw",
     "metadata": {},
     "source": [
      "                           6\n",
      "                          ---\n",
      "Level 3                  | O |\n",
      "                       /  ---  \\\n",
      "                      /    |    \\\n",
      "                     /     |     \\\n",
      "                    /      |      \\\n",
      "                  ---     ---    ---\n",
      "Level 2        2 | E | 4 | D |  | F | 5\n",
      "                  ---     ---    ---\n",
      "                   \\      / \\     /\n",
      "                    \\    /   \\   /\n",
      "                     \\  /     \\ /\n",
      "                      ---     ---\n",
      "Level 1            1 | B |   | C | 3\n",
      "                      ---     ---\n",
      "                       \\       /\n",
      "                        \\     /\n",
      "                          ---\n",
      "Level 0                0 | A |\n",
      "                          ---\n"
     ]
    },
    {
     "cell_type": "markdown",
     "metadata": {},
     "source": [
      "Que l'on peut \u00e9galement calculer avec la m\u00e9thode `mro` sur la classe de d\u00e9part&nbsp;:"
     ]
    },
    {
     "cell_type": "code",
     "collapsed": false,
     "input": [
      "A.mro()"
     ],
     "language": "python",
     "metadata": {},
     "outputs": []
    },
    {
     "cell_type": "heading",
     "level": 3,
     "metadata": {},
     "source": [
      "Pour en savoir plus"
     ]
    },
    {
     "cell_type": "markdown",
     "metadata": {},
     "source": [
      " 1. Un [blog de Guido Van Rossum](http://python-history.blogspot.fr/2010/06/method-resolution-order.html\n",
      ") qui retrace l'historique des diff\u00e9rents essais qui ont \u00e9t\u00e9 faits avant de converger sur le mod\u00e8le actuel,\n",
      " 1. Un [article technique](https://www.python.org/download/releases/2.3/mro/) qui explique la MRO et donne des exemples;\n",
      " 1. L'[article de wikipedia](http://en.wikipedia.org/wiki/C3_linearization) sur l'algorithme C3."
     ]
    }
   ],
   "metadata": {}
  }
 ]
}