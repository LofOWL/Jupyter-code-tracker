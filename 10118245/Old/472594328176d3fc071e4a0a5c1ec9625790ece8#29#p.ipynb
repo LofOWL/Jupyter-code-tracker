{
 "metadata": {
  "notebookname": "Slicing",
  "signature": "sha256:f49524d018e548229a652c6d27e3ba30051004bd4645b30979a80d4cb2cddabe",
  "version": "1.0"
 },
 "nbformat": 3,
 "nbformat_minor": 0,
 "worksheets": [
  {
   "cells": [
    {
     "cell_type": "heading",
     "level": 1,
     "metadata": {},
     "source": [
      "Les slices en python"
     ]
    },
    {
     "cell_type": "heading",
     "level": 2,
     "metadata": {},
     "source": [
      "Compl\u00e9ment - niveau basique"
     ]
    },
    {
     "cell_type": "markdown",
     "metadata": {},
     "source": [
      "Ce support de cours reprend les notions de \"slicing\" vues dans la vid\u00e9o."
     ]
    },
    {
     "cell_type": "markdown",
     "metadata": {},
     "source": [
      "Nous allons illustrer les slices sur la chaine suivante; rappelez-vous toutefois que ce m\u00e9canisme fonctionne avec toutes les s\u00e9quences comme les listes ou les tuples."
     ]
    },
    {
     "cell_type": "code",
     "collapsed": false,
     "input": [
      "chaine = \"abcdefghijklmnopqrstuvwxyz\" ; print chaine"
     ],
     "language": "python",
     "metadata": {},
     "outputs": []
    },
    {
     "cell_type": "heading",
     "level": 3,
     "metadata": {},
     "source": [
      "Slice sans pas"
     ]
    },
    {
     "cell_type": "markdown",
     "metadata": {},
     "source": [
      "On a vu en cours qu'une slice permet de d\u00e9signer toute une plage d'\u00e9l\u00e9ments d'une s\u00e9quence. Ainsi on peut \u00e9crire"
     ]
    },
    {
     "cell_type": "code",
     "collapsed": false,
     "input": [
      "chaine[2:6]"
     ],
     "language": "python",
     "metadata": {},
     "outputs": []
    },
    {
     "cell_type": "markdown",
     "metadata": {},
     "source": [
      "Les d\u00e9butants ont parfois du mal avec les bornes. Il faut se souvenir que\n",
      "\n",
      "* les indices commencent comme toujours \u00e0 z\u00e9ro\n",
      "* le premier indice `debut` est inclus\n",
      "* le second indice `fin` est exclu\n",
      "* on obtient en tout `fin-debut` items dans le r\u00e9sultat\n",
      "\n",
      "Ainsi ci-dessus le r\u00e9sultat contient 4 \u00e9l\u00e9ments = 6-2\n",
      " "
     ]
    },
    {
     "cell_type": "markdown",
     "metadata": {},
     "source": [
      "On peut omettre une borne"
     ]
    },
    {
     "cell_type": "code",
     "collapsed": false,
     "input": [
      "chaine[:6]"
     ],
     "language": "python",
     "metadata": {},
     "outputs": []
    },
    {
     "cell_type": "markdown",
     "metadata": {},
     "source": [
      "et utiliser des indices n\u00e9gatifs pour compter \u00e0 partir de la fin,"
     ]
    },
    {
     "cell_type": "code",
     "collapsed": false,
     "input": [
      "chaine[3:-3]"
     ],
     "language": "python",
     "metadata": {},
     "outputs": []
    },
    {
     "cell_type": "code",
     "collapsed": false,
     "input": [
      "chaine[-3:]"
     ],
     "language": "python",
     "metadata": {},
     "outputs": []
    },
    {
     "cell_type": "heading",
     "level": 3,
     "metadata": {},
     "source": [
      "Slice avec pas"
     ]
    },
    {
     "cell_type": "markdown",
     "metadata": {},
     "source": [
      "Il est \u00e9galement possible de pr\u00e9ciser un 'pas', de fa\u00e7on \u00e0 ne choisir, dans la plage donn\u00e9e, que par exemple un \u00e9l\u00e9ment sur deux. Par exemple:"
     ]
    },
    {
     "cell_type": "code",
     "collapsed": false,
     "input": [
      "chaine[3:-3:2]"
     ],
     "language": "python",
     "metadata": {},
     "outputs": []
    },
    {
     "cell_type": "markdown",
     "metadata": {},
     "source": [
      "Comme on le devine, le troisi\u00e8me \u00e9l\u00e9ment de la slice, ici '2', d\u00e9termine le pas. On ne retient donc, dans la chaine \"def...\" que \"d\", puis \"f\", et ainsi de suite.\n",
      "\n",
      "On peut pr\u00e9ciser du coup la borne de fin (ici -3) avec un peu de libert\u00e9 puisqu'on obtiendrait un r\u00e9sultat identique avec -4:"
     ]
    },
    {
     "cell_type": "code",
     "collapsed": false,
     "input": [
      "chaine[3:-4:2]"
     ],
     "language": "python",
     "metadata": {},
     "outputs": []
    },
    {
     "cell_type": "heading",
     "level": 3,
     "metadata": {},
     "source": [
      "Pas n\u00e9gatif"
     ]
    },
    {
     "cell_type": "markdown",
     "metadata": {},
     "source": [
      "Il est m\u00eame possible de sp\u00e9cifier un pas n\u00e9gatif. Dans ce cas, de mani\u00e8re un peu contre-intuitive, il faut pr\u00e9ciser un d\u00e9but (le premier indice de la slice) qui soit \"plus \u00e0 droite\" que la fin (le second indice).\n",
      "\n",
      "Pour prendre un exemple, comme l'\u00e9l\u00e9ment \"-3\" i.e. 'x' est plus \u00e0 droite que l'\u00e9l\u00e9ment \"3\" i.e. 'd', \u00e9videmment on obtiendrait une liste vide si on ne pr\u00e9cisait pas le pas"
     ]
    },
    {
     "cell_type": "code",
     "collapsed": false,
     "input": [
      "chaine[-3:3]"
     ],
     "language": "python",
     "metadata": {},
     "outputs": []
    },
    {
     "cell_type": "markdown",
     "metadata": {},
     "source": [
      "Si maintenant on pr\u00e9cise un pas n\u00e9gatif, on obtient cette fois"
     ]
    },
    {
     "cell_type": "code",
     "collapsed": false,
     "input": [
      "chaine[-3:3:-2]"
     ],
     "language": "python",
     "metadata": {},
     "outputs": []
    }
   ],
   "metadata": {}
  }
 ]
}