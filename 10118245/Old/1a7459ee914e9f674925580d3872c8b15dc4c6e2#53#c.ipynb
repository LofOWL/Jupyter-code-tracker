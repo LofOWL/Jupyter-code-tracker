{
 "metadata": {
  "notebookname": "R\u00e9cap import",
  "signature": "4d4110118d97fa1339876b6868c381dbdc2758da378ef2efcf3224927a8d7c52",
  "version": "1.0"
 },
 "nbformat": 3,
 "nbformat_minor": 0,
 "worksheets": [
  {
   "cells": [
    {
     "cell_type": "heading",
     "level": 1,
     "metadata": {},
     "source": [
      "R\u00e9capitulatif sur `import`"
     ]
    },
    {
     "cell_type": "heading",
     "level": 2,
     "metadata": {},
     "source": [
      "Compl\u00e9ment - niveau basique"
     ]
    },
    {
     "cell_type": "markdown",
     "metadata": {},
     "source": [
      "Nous allons r\u00e9capituler les diff\u00e9rentes formes d'importation, et introduire la clause `import *` - et voir pourquoi il est d\u00e9conseill\u00e9 de l'utiliser."
     ]
    },
    {
     "cell_type": "heading",
     "level": 3,
     "metadata": {},
     "source": [
      "Importer tout un module"
     ]
    },
    {
     "cell_type": "markdown",
     "metadata": {},
     "source": [
      "L'import le plus simple consiste donc \u00e0 uniquement mentionner le nom du module"
     ]
    },
    {
     "cell_type": "code",
     "collapsed": false,
     "input": [
      "import un_deux"
     ],
     "language": "python",
     "metadata": {},
     "outputs": []
    },
    {
     "cell_type": "markdown",
     "metadata": {},
     "source": [
      "Ce module se contente de d\u00e9finir deux fonctions de noms `un` et `deux`. Une fois l'import r\u00e9alis\u00e9 de cette fa\u00e7on on peut acc\u00e9der au contenu du module en utilisant un nom de variable complet:"
     ]
    },
    {
     "cell_type": "code",
     "collapsed": false,
     "input": [
      "print un_deux.un\n",
      "\n",
      "un_deux.un()"
     ],
     "language": "python",
     "metadata": {},
     "outputs": []
    },
    {
     "cell_type": "markdown",
     "metadata": {},
     "source": [
      "Mais bien s\u00fbr on n'a pas de cette fa\u00e7on d\u00e9fini de nouvelle variable `un`; la seule nouvelle variable dans la port\u00e9e courante est donc `un_deux`"
     ]
    },
    {
     "cell_type": "code",
     "collapsed": false,
     "input": [
      "# dans le scope courant on peut acc\u00e9der au module lui-m\u00eame\n",
      "print un_deux"
     ],
     "language": "python",
     "metadata": {},
     "outputs": []
    },
    {
     "cell_type": "code",
     "collapsed": false,
     "input": [
      "# mais pas \u00e0 la variable `un`\n",
      "try:\n",
      "    print un\n",
      "except NameError: \n",
      "    print \"La variable 'un' n'est pas d\u00e9finie\"\n"
     ],
     "language": "python",
     "metadata": {},
     "outputs": []
    },
    {
     "cell_type": "heading",
     "level": 3,
     "metadata": {},
     "source": [
      "Importer une variable sp\u00e9cifique d'un module"
     ]
    },
    {
     "cell_type": "markdown",
     "metadata": {},
     "source": [
      "On peut \u00e9galement importer un ou plusieurs symboles sp\u00e9cifiques d'un module en faisant maintenant (avec un nouveau module du m\u00eame tonneau)"
     ]
    },
    {
     "cell_type": "code",
     "collapsed": false,
     "input": [
      "from un_deux_trois import un, deux"
     ],
     "language": "python",
     "metadata": {},
     "outputs": []
    },
    {
     "cell_type": "markdown",
     "metadata": {},
     "source": [
      "\u00c0 pr\u00e9sent nous avons deux nouvelles variables dans la port\u00e9e locale"
     ]
    },
    {
     "cell_type": "code",
     "collapsed": false,
     "input": [
      "un()\n",
      "deux()"
     ],
     "language": "python",
     "metadata": {},
     "outputs": []
    },
    {
     "cell_type": "markdown",
     "metadata": {},
     "source": [
      "Mais le module lui m\u00eame n'est pas accessible"
     ]
    },
    {
     "cell_type": "code",
     "collapsed": false,
     "input": [
      "try:\n",
      "    print un_deux_trois\n",
      "except NameError:\n",
      "    print \"La variable 'un_deux_trois' n'est pas d\u00e9finie\""
     ],
     "language": "python",
     "metadata": {},
     "outputs": []
    },
    {
     "cell_type": "markdown",
     "metadata": {},
     "source": [
      "Il est important de voir que la variable locale ainsi cr\u00e9\u00e9e, un peu comme dans le cas d'un appel de fonction, est une **nouvelle variable** qui est initialis\u00e9e avec l'objet du module. Ainsi si on importe le module **et** une variable du module comme ceci"
     ]
    },
    {
     "cell_type": "code",
     "collapsed": false,
     "input": [
      "import un_deux_trois"
     ],
     "language": "python",
     "metadata": {},
     "outputs": []
    },
    {
     "cell_type": "markdown",
     "metadata": {},
     "source": [
      "Nous avons maintenant **deux variables diff\u00e9rentes** qui d\u00e9signent la fonction `un` dans le module"
     ]
    },
    {
     "cell_type": "code",
     "collapsed": false,
     "input": [
      "print un_deux_trois.un\n",
      "print un"
     ],
     "language": "python",
     "metadata": {},
     "outputs": []
    },
    {
     "cell_type": "markdown",
     "metadata": {},
     "source": [
      "En on peut modifier l'une **sans affecter** l'autre"
     ]
    },
    {
     "cell_type": "code",
     "collapsed": false,
     "input": [
      "# les deux variables sont diff\u00e9rentes, un n'est pas un 'alias' vers un_deux_trois.un\n",
      "un = 1\n",
      "print un_deux_trois.un\n",
      "print un"
     ],
     "language": "python",
     "metadata": {},
     "outputs": []
    },
    {
     "cell_type": "heading",
     "level": 3,
     "metadata": {},
     "source": [
      "`import *`"
     ]
    },
    {
     "cell_type": "markdown",
     "metadata": {},
     "source": [
      "La derni\u00e8re forme d'`import` consiste \u00e0 importer toutes les variables d'un module comme ceci"
     ]
    },
    {
     "cell_type": "code",
     "collapsed": false,
     "input": [
      "from un_deux_trois_quatre import *"
     ],
     "language": "python",
     "metadata": {},
     "outputs": []
    },
    {
     "cell_type": "markdown",
     "metadata": {},
     "source": [
      "Cette forme, pratique en apparence, va donc cr\u00e9er dans le scope courant les variables"
     ]
    },
    {
     "cell_type": "code",
     "collapsed": false,
     "input": [
      "un()\n",
      "deux()\n",
      "trois()\n",
      "quatre()"
     ],
     "language": "python",
     "metadata": {},
     "outputs": []
    },
    {
     "cell_type": "heading",
     "level": 3,
     "metadata": {},
     "source": [
      "Quand utiliser telle ou telle forme"
     ]
    },
    {
     "cell_type": "markdown",
     "metadata": {},
     "source": [
      "Les deux premi\u00e8res formes - import de tout un module ou de variables sp\u00e9cifiques - peuvent \u00eatre utilis\u00e9es indiff\u00e9remment; souvent lorsqu'une variable est utilis\u00e9e tr\u00e8s souvent dans le code on pourra pr\u00e9f\u00e9rer la deuxi\u00e8me forme pour raccourcir le code. "
     ]
    },
    {
     "cell_type": "markdown",
     "metadata": {},
     "source": [
      "\u00c0 cet \u00e9gard, citons des variantes de ces deux formes qui permettent d'utiliser des noms plus courts. Vous trouverez par exemple tr\u00e8s souvent\n",
      "\n",
      "    import numpy as np\n",
      "    \n",
      "qui permet d'importer le module numpy mais de l'utiliser sous un nom plus court - car avec numpy on ne cesse d'utiliser des symboles dans le module."
     ]
    },
    {
     "cell_type": "markdown",
     "metadata": {},
     "source": [
      "**Avertissement:** par contre nous vous recommandons de **ne pas utiliser la derni\u00e8re forme `import *`** - sauf cas tr\u00e8s particuliers, car cela peut gravement nuire \u00e0 la lisibilit\u00e9 de votre code."
     ]
    },
    {
     "cell_type": "markdown",
     "metadata": {},
     "source": [
      "python est un langage \u00e0 liaison statique; cela signifie que lorsque vous concentrez votre attention sur un (votre) module, et que vous voyez une r\u00e9f\u00e9rence en lecture \u00e0 un variable `spam` disons \u00e0 la ligne 201, vous devez forc\u00e9ment trouver dans les deux cents premi\u00e8res lignes quelque chose comme une d\u00e9claration de `spam`, qui vous indique en gros d'o\u00f9 elle vient.\n",
      "\n",
      "`import *` est une construction qui casse cette bonne propri\u00e9t\u00e9 (pour \u00eatre tout \u00e0 fait exhaustif, cette bonne propri\u00e9t\u00e9 n'est pas non plus remplie avec les fonctions *built-in* comme `len`, mais il faut vivre avec...) \n",
      "\n",
      "Mais le point important ici est que si dans un module vous faites plusieurs `import *` \n",
      "\n",
      "    from django.db import *\n",
      "    from django.conf.urls import *\n",
      "    \n",
      "alors lorsque vous voyez une variable `patterns` vous n'avez plus aucune id\u00e9e de quel module elle provient, sauf \u00e0 aller lire le code correspondant...\n"
     ]
    },
    {
     "cell_type": "heading",
     "level": 2,
     "metadata": {},
     "source": [
      "Compl\u00e9ment - niveau avanc\u00e9"
     ]
    },
    {
     "cell_type": "heading",
     "level": 3,
     "metadata": {},
     "source": [
      "`import` de mani\u00e8re \"programmative\""
     ]
    },
    {
     "cell_type": "markdown",
     "metadata": {},
     "source": [
      "\u00c9tant donn\u00e9 la fa\u00e7on dont est con\u00e7ue l'instruction `import`, on rencontre une limitation lorsqu'on veut, par exemple, **calculer le nom d'un module** avant de l'importer.\n",
      "\n",
      "Si vous \u00eates dans ce genre de situation, reportez-vous au module [`importlib`](https://docs.python.org/2/library/importlib.html)\n",
      "et notamment sa fonction `import_module` qui, cette fois, accepte en argument une cha\u00eene."
     ]
    },
    {
     "cell_type": "markdown",
     "metadata": {},
     "source": [
      "Voici une illustration dans un cas simple. Nous allons importer le module `modtools` (qui fait partie de ce MOOC) de deux fa\u00e7ons diff\u00e9rentes et montrer que le r\u00e9sultat est le m\u00eame:"
     ]
    },
    {
     "cell_type": "code",
     "collapsed": false,
     "input": [
      "# on importe la fonction 'import_module'du module 'importlib'\n",
      "from importlib import import_module\n",
      "imported_modtools = import_module('mod' + 'tools')\n",
      "\n",
      "# on peut aussi importer modtools \"normalement\"\n",
      "import modtools\n",
      "\n",
      "# les deux objets sont identiques\n",
      "imported_modtools is modtools"
     ],
     "language": "python",
     "metadata": {},
     "outputs": []
    },
    {
     "cell_type": "heading",
     "level": 3,
     "metadata": {},
     "source": [
      "`import` de mani\u00e8re \"programmative\" en python-2.6 et avant"
     ]
    },
    {
     "cell_type": "markdown",
     "metadata": {},
     "source": [
      "En python-2.7, il est pr\u00e9f\u00e9rable d'utiliser `importlib.import_module` plut\u00f4t que la fonction *built-in* `__import__` dont l'usage est r\u00e9serv\u00e9. \n",
      "\n",
      "Signalons toutefois que jusqu'\u00e0 python-2.6, pour faire une importation de mani\u00e8re programmative, on n'avait pas beaucoup de choix:\n",
      " * soit utiliser, pr\u00e9cis\u00e9ment, `__import__`\n",
      " * soit utiliser `exec`, qui quelque part est encore plus vilain..."
     ]
    }
   ],
   "metadata": {}
  }
 ]
}