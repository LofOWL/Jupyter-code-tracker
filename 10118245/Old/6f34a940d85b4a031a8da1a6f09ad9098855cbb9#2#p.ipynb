{
 "metadata": {
  "notebookname": "S\u00e9quences",
  "signature": "0eea50e5278a17791b9945415a71e1e69574fc82fdf445a8d65499956b7a75f1",
  "version": "1.0"
 },
 "nbformat": 3,
 "nbformat_minor": 0,
 "worksheets": [
  {
   "cells": [
    {
     "cell_type": "heading",
     "level": 1,
     "metadata": {},
     "source": [
      "S\u00e9quences"
     ]
    },
    {
     "cell_type": "heading",
     "level": 2,
     "metadata": {},
     "source": [
      "Exercice - niveau basique"
     ]
    },
    {
     "cell_type": "heading",
     "level": 3,
     "metadata": {},
     "source": [
      "Slicing"
     ]
    },
    {
     "cell_type": "markdown",
     "metadata": {},
     "source": [
      "Commen\u00e7ons par cr\u00e9er une cha\u00eene de caract\u00e8res. Ne vous inqui\u00e9tez pas si vous ne comprenez pas encore le code d'initialisation pr\u00e9sent\u00e9 ci-dessous. \n",
      "\n",
      "Pour les plus curieux, l'instruction `import`  permet de charger dans votre programme une bo\u00eete \u00e0 outils que l'on appelle un module. Python vient avec de nombreux modules qui forment la librairie standard. Le plus difficile avec les modules de la librairie standard est de savoir qu'ils existent. En effet, il y en a un grand nombre et bien souvent il existe un module pour faire ce que vous souhaitez. \n",
      "\n",
      "Pour vous familiariser avec les modules de la librairie standard et vous montrer qu'ils peuvent vous faire gagner du temps, nous en introduisons tr\u00e8s t\u00f4t certains. N'h\u00e9sitez pas \u00e0 regarder l'aide Python qui d\u00e9crit en d\u00e9tail tous les modules de la librairie standard, et en particulier le module `string` que l'on utilise ci-dessous."
     ]
    },
    {
     "cell_type": "code",
     "collapsed": false,
     "input": [
      "import string\n",
      "chaine = string.lowercase\n",
      "print chaine"
     ],
     "language": "python",
     "metadata": {},
     "outputs": []
    },
    {
     "cell_type": "markdown",
     "metadata": {},
     "source": [
      "Pour chacune des sous-cha\u00eenes ci-dessous, \u00e9crire une expression de slicing sur `chaine` qui renvoie la sous-cha\u00eene. La cellule de code doit retourner `True`"
     ]
    },
    {
     "cell_type": "markdown",
     "metadata": {},
     "source": [
      "Par exemple pour obtenir \"def\":"
     ]
    },
    {
     "cell_type": "code",
     "collapsed": false,
     "input": [
      "chaine [3:6] == \"def\""
     ],
     "language": "python",
     "metadata": {},
     "outputs": []
    },
    {
     "cell_type": "markdown",
     "metadata": {},
     "source": [
      "1) Pour obtenir \"vwx\" (n'h\u00e9sitez pas \u00e0 utiliser les indices n\u00e9gatifs)"
     ]
    },
    {
     "cell_type": "code",
     "collapsed": false,
     "input": [
      "chaine [ <votre_code> ] == \"vwx\""
     ],
     "language": "python",
     "metadata": {},
     "outputs": []
    },
    {
     "cell_type": "markdown",
     "metadata": {},
     "source": [
      "2) Pour obtenir \"wxyz\" (avec une seule constante)"
     ]
    },
    {
     "cell_type": "code",
     "collapsed": false,
     "input": [
      "chaine [ <votre_code> ] == \"wxyz\""
     ],
     "language": "python",
     "metadata": {},
     "outputs": []
    },
    {
     "cell_type": "markdown",
     "metadata": {},
     "source": [
      "3) Pour obtenir \"dfhjlnprtvxz\" (avec deux constantes)"
     ]
    },
    {
     "cell_type": "code",
     "collapsed": false,
     "input": [
      "chaine [ <votre_code> ] == \"dfhjlnprtvxz\""
     ],
     "language": "python",
     "metadata": {},
     "outputs": []
    },
    {
     "cell_type": "markdown",
     "metadata": {},
     "source": [
      "4) Pour obtenir \"xurolifc\" (avec deux constantes)"
     ]
    },
    {
     "cell_type": "code",
     "collapsed": false,
     "input": [
      "chaine [ <votre_code> ] == \"xurolifc\""
     ],
     "language": "python",
     "metadata": {},
     "outputs": []
    },
    {
     "cell_type": "heading",
     "level": 2,
     "metadata": {},
     "source": [
      "Exercice - niveau interm\u00e9diaire"
     ]
    },
    {
     "cell_type": "heading",
     "level": 3,
     "metadata": {},
     "source": [
      "Longueur"
     ]
    },
    {
     "cell_type": "markdown",
     "metadata": {},
     "source": [
      "On vous donne une cha\u00eene `composite`, dont on sait qu'elle a \u00e9t\u00e9 calcul\u00e9e \u00e0 partir de deux cha\u00eenes `inconnue` et `connue` comme ceci:"
     ]
    },
    {
     "cell_type": "raw",
     "metadata": {},
     "source": [
      "composite = connue + inconnue + connue"
     ]
    },
    {
     "cell_type": "markdown",
     "metadata": {},
     "source": [
      "L'exercice consiste \u00e0 retrouver la valeur de `inconnue` \u00e0 partir de celles de `composite` et `connue`."
     ]
    },
    {
     "cell_type": "code",
     "collapsed": false,
     "input": [
      "from corrections.w2_slicing import connue, composite\n",
      "print \"connue=\", connue\n",
      "print \"composite=\", composite"
     ],
     "language": "python",
     "metadata": {},
     "outputs": []
    },
    {
     "cell_type": "markdown",
     "metadata": {},
     "source": [
      "\u00c0 vous d'\u00e9crire du code pour retrouver `inconnue` \u00e0 partir de `composite` et `connue`."
     ]
    },
    {
     "cell_type": "code",
     "collapsed": false,
     "input": [
      "# vous pouvez bien s\u00fbr utiliser plusieurs lignes\n",
      "\n",
      "inconnue = \"votre_code\""
     ],
     "language": "python",
     "metadata": {},
     "outputs": []
    },
    {
     "cell_type": "markdown",
     "metadata": {},
     "source": [
      "Le code de la correction recalcule une valeur de `composite` \u00e0 partir de `connue` et de votre code pour `inconnue`, et compare le r\u00e9sultat avec la valeur cible pour `composite`."
     ]
    },
    {
     "cell_type": "code",
     "collapsed": false,
     "input": [
      "# correction\n",
      "from corrections.w2_slicing import exo_inconnue\n",
      "exo_inconnue.correction(inconnue)"
     ],
     "language": "python",
     "metadata": {},
     "outputs": []
    }
   ],
   "metadata": {}
  }
 ]
}