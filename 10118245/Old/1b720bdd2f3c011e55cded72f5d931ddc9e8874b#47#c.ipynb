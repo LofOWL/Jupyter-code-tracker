{
 "metadata": {
  "kernelspec": {
   "display_name": "Python 2", 
   "language": "python", 
   "name": "python2"
  }, 
  "name": "", 
  "notebookname": "Les diff\u00e9rentes copies", 
  "version": "2.0"
 }, 
 "nbformat": 2, 
 "nbformat_minor": 0, 
 "orig_nbformat": 4, 
 "orig_nbformat_minor": 0, 
 "worksheets": [
  {
   "cells": [
    {
     "cell_type": "markdown", 
     "metadata": {}, 
     "source": [
      "<span style=\"float:left;\">Licence CC BY-NC-ND</span><span style=\"float:right;\">Thierry Parmentelat &amp; Arnaud Legout&nbsp;<img src=\"media/inria-25.png\" style=\"display:inline\"></span><br/>"
     ]
    }, 
    {
     "cell_type": "markdown", 
     "metadata": {}, 
     "source": [
      "# Les diff\u00e9rentes copies"
     ]
    }, 
    {
     "cell_type": "markdown", 
     "metadata": {}, 
     "source": [
      "## Compl\u00e9ment - niveau basique"
     ]
    }, 
    {
     "cell_type": "markdown", 
     "metadata": {}, 
     "source": [
      "### Deux types de copie"
     ]
    }, 
    {
     "cell_type": "markdown", 
     "metadata": {}, 
     "source": [
      "Pour r\u00e9sumer les deux grands types de copie que l'on a vues dans la vid\u00e9o: ", 
      " * La *shallow copy* - de l'anglais *shallow* qui signifie superficiel", 
      " * La *deep copy* - de *deep* qui signifie profond"
     ]
    }, 
    {
     "cell_type": "markdown", 
     "metadata": {}, 
     "source": [
      "### Le module `copy`"
     ]
    }, 
    {
     "cell_type": "markdown", 
     "metadata": {}, 
     "source": [
      "Pour r\u00e9aliser une copie, la m\u00e9thode la plus simple, en ceci qu'elle fonctionne avec tous les types de mani\u00e8re identique, consiste \u00e0 utiliser [le module standard `copy`](https://docs.python.org/2/library/copy.html), et notamment", 
      " * `copy.copy` pour une copie superficielle", 
      " * `copy.deepcopy` pour une copie en profondeur"
     ]
    }, 
    {
     "cell_type": "code", 
     "collapsed": false, 
     "input": [
      "import copy", 
      "#help(copy.copy)", 
      "#help(copy.deepcopy)"
     ], 
     "language": "python", 
     "metadata": {}, 
     "outputs": [], 
     "prompt_number": null
    }, 
    {
     "cell_type": "markdown", 
     "metadata": {}, 
     "source": [
      "### Un exemple"
     ]
    }, 
    {
     "cell_type": "code", 
     "collapsed": false, 
     "input": [
      "# On se donne un objet de d\u00e9part", 
      "", 
      "source = [ ", 
      "    [1, 2, 3],  # le premier \u00e9l\u00e9ment est une liste", 
      "    {1, 2, 3},  # un ensemble", 
      "    (1, 2, 3),  # un tuple", 
      "    '123',       # un string", 
      "    123,         # un entier", 
      "]", 
      "", 
      "# et on en fait deux copies", 
      "shallow_copy = copy.copy(source)", 
      "deep_copy = copy.deepcopy(source)"
     ], 
     "language": "python", 
     "metadata": {}, 
     "outputs": [], 
     "prompt_number": null
    }, 
    {
     "cell_type": "markdown", 
     "metadata": {}, 
     "source": [
      "## Compl\u00e9ment - niveau interm\u00e9diaire"
     ]
    }, 
    {
     "cell_type": "markdown", 
     "metadata": {}, 
     "source": [
      "### Objets *\u00e9gaux* au sens logique"
     ]
    }, 
    {
     "cell_type": "markdown", 
     "metadata": {}, 
     "source": [
      "Bien s\u00fbr ces trois objets se ressemblent si on fait une comparaison *logique*"
     ]
    }, 
    {
     "cell_type": "code", 
     "collapsed": false, 
     "input": [
      "print 'source == shallow_copy:', source == shallow_copy", 
      "print 'source == deep_copy:', source == deep_copy"
     ], 
     "language": "python", 
     "metadata": {}, 
     "outputs": [], 
     "prompt_number": null
    }, 
    {
     "cell_type": "markdown", 
     "metadata": {}, 
     "source": [
      "### Inspectons les objets de premier niveau"
     ]
    }, 
    {
     "cell_type": "markdown", 
     "metadata": {}, 
     "source": [
      "Mais par contre si on compare **l'identit\u00e9** des objets de premier niveau, on voit que `source` et `shallow_copy` partagent leurs objets:"
     ]
    }, 
    {
     "cell_type": "code", 
     "collapsed": false, 
     "input": [
      "for i in range(len(source)):", 
      "    print \"source[{}] is shallow_copy[{}]\".format(i, i),\\", 
      "           source[i] is shallow_copy[i]"
     ], 
     "language": "python", 
     "metadata": {}, 
     "outputs": [], 
     "prompt_number": null
    }, 
    {
     "cell_type": "markdown", 
     "metadata": {}, 
     "source": [
      "Alors que naturellement ce **n'est pas le cas** avec la copie en profondeur"
     ]
    }, 
    {
     "cell_type": "code", 
     "collapsed": false, 
     "input": [
      "for i in range(len(source)):", 
      "    print \"source[{}] is deep_copy[{}]\".format(i, i),\\", 
      "           source[i] is deep_copy[i]"
     ], 
     "language": "python", 
     "metadata": {}, 
     "outputs": [], 
     "prompt_number": null
    }, 
    {
     "cell_type": "markdown", 
     "metadata": {}, 
     "source": [
      "On remarque  tout de suite que les trois derniers objets n'ont pas \u00e9t\u00e9 dupliqu\u00e9s comme on aurait pu s'y attendre; cela est d\u00fb, ici encore, \u00e0 l'optimisation qui est mise en place dans python pour impl\u00e9menter les types immuables comme des singletons lorsque c'est possible. Cela a \u00e9t\u00e9 vu en d\u00e9tail dans le compl\u00e9ment consacr\u00e9 \u00e0 l'op\u00e9rateur `is`."
     ]
    }, 
    {
     "cell_type": "markdown", 
     "metadata": {}, 
     "source": [
      "### On modifie la source"
     ]
    }, 
    {
     "cell_type": "markdown", 
     "metadata": {}, 
     "source": [
      "Il doit \u00eatre clair \u00e0 pr\u00e9sent que, pr\u00e9cis\u00e9ment parce que `deep_copy` est une copie en profondeur, on peut modifier `source` sans impacter du tout `deep_copy`."
     ]
    }, 
    {
     "cell_type": "markdown", 
     "metadata": {}, 
     "source": [
      "S'agissant de `shallow_copy`, par contre, seuls les \u00e9l\u00e9ments de premier niveau ont \u00e9t\u00e9 copi\u00e9s. Aussi si on fait une modification par exemple **\u00e0 l'int\u00e9rieur** de la liste qui est le premier fils de `source`, cela sera **r\u00e9percut\u00e9** dans `shallow_copy`"
     ]
    }, 
    {
     "cell_type": "code", 
     "collapsed": false, 
     "input": [
      "print \"avant, source      \", source", 
      "print \"avant, shallow_copy\", shallow_copy", 
      "source[0].append(4)", 
      "print \"apr\u00e8s, source      \", source", 
      "print \"apr\u00e8s, shallow_copy\", shallow_copy"
     ], 
     "language": "python", 
     "metadata": {}, 
     "outputs": [], 
     "prompt_number": null
    }, 
    {
     "cell_type": "markdown", 
     "metadata": {}, 
     "source": [
      "Si par contre on remplace compl\u00e8tement un \u00e9l\u00e9ment de premier niveau dans la source, cela ne sera pas r\u00e9percut\u00e9 dans la copie superficielle"
     ]
    }, 
    {
     "cell_type": "code", 
     "collapsed": false, 
     "input": [
      "print \"avant, source      \", source", 
      "print \"avant, shallow_copy\", shallow_copy", 
      "source[0] = 'remplacement'", 
      "print \"apr\u00e8s, source      \", source", 
      "print \"apr\u00e8s, shallow_copy\", shallow_copy"
     ], 
     "language": "python", 
     "metadata": {}, 
     "outputs": [], 
     "prompt_number": null
    }, 
    {
     "cell_type": "markdown", 
     "metadata": {}, 
     "source": [
      "### Copie et circularit\u00e9"
     ]
    }, 
    {
     "cell_type": "markdown", 
     "metadata": {}, 
     "source": [
      " Le module `copy` est semble-t-il capable de copier - m\u00eame en profondeur - des objets contenant des r\u00e9f\u00e9rences circulaires."
     ]
    }, 
    {
     "cell_type": "code", 
     "collapsed": false, 
     "input": [
      "l = [None] ", 
      "l[0] = l", 
      "l"
     ], 
     "language": "python", 
     "metadata": {}, 
     "outputs": [], 
     "prompt_number": null
    }, 
    {
     "cell_type": "code", 
     "collapsed": false, 
     "input": [
      "copy.copy(l)"
     ], 
     "language": "python", 
     "metadata": {}, 
     "outputs": [], 
     "prompt_number": null
    }, 
    {
     "cell_type": "code", 
     "collapsed": false, 
     "input": [
      "copy.deepcopy(l)"
     ], 
     "language": "python", 
     "metadata": {}, 
     "outputs": [], 
     "prompt_number": null
    }, 
    {
     "cell_type": "markdown", 
     "metadata": {}, 
     "source": [
      "### Pour en savoir plus"
     ]
    }, 
    {
     "cell_type": "markdown", 
     "metadata": {}, 
     "source": [
      "On peut se reporter \u00e0 [la section sur le module `copy`](https://docs.python.org/2/library/copy.html) dans la documentation python.", 
      "", 
      "Signalons \u00e9galement [pythontutor.com](http://www.pythontutor.com) qui est un site tr\u00e8s utile pour comprendre comment python impl\u00e9mente les objets, les r\u00e9f\u00e9rences et les partages. ", 
      "Toutefois `pythontutor.com` ne supporte pas le module `copy` ce qui est un peu dommage.", 
      "On peut toutefois exp\u00e9rimenter avec des listes en utilisant le slicing `[:]` pour des copies superficielles.", 
      "", 
      "<img src=\"media/pt_shallow_copy.png\" />"
     ]
    }
   ], 
   "metadata": {}
  }
 ]
}
