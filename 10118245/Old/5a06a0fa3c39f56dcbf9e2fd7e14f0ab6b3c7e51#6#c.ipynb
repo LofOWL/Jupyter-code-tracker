{
 "metadata": {
  "notebookname": "Le module datetime",
  "signature": "21a6f41d2bc8113b8fe2a8bea468bf32e5bfe3b1335ff2963939b0efc37e894e",
  "version": "1.0"
 },
 "nbformat": 3,
 "nbformat_minor": 0,
 "worksheets": [
  {
   "cells": [
    {
     "cell_type": "heading",
     "level": 1,
     "metadata": {},
     "source": [
      "Un exemple de classes de la librairie standard"
     ]
    },
    {
     "cell_type": "heading",
     "level": 2,
     "metadata": {},
     "source": [
      "Compl\u00e9ment - niveau basique"
     ]
    },
    {
     "cell_type": "heading",
     "level": 3,
     "metadata": {},
     "source": [
      "Le module `time`"
     ]
    },
    {
     "cell_type": "markdown",
     "metadata": {},
     "source": [
      "En semaine 3, lorsque nous avons \u00e9tudi\u00e9 la performance des it\u00e9rateurs, nous avions introduit le module `time`. Il s'agit d'une interface de tr\u00e8s bas niveau avec l'OS, et en guise de rappel voici comment on peut calculer un d\u00e9lai"
     ]
    },
    {
     "cell_type": "code",
     "collapsed": false,
     "input": [
      "import time\n",
      "\n",
      "# on obtient l'heure courante sous la forme d'un flottant\n",
      "t_now = time.time()\n",
      "# et pour calculer l'heure qu'il sera dans deux heures on fait\n",
      "t_later = t_now + 2 * 3600"
     ],
     "language": "python",
     "metadata": {},
     "outputs": []
    },
    {
     "cell_type": "markdown",
     "metadata": {},
     "source": [
      "Nous sommes donc ici clairement dans une approche non orient\u00e9e objet; on manipule des types de base"
     ]
    },
    {
     "cell_type": "code",
     "collapsed": false,
     "input": [
      "print 'dans deux heures',t_now"
     ],
     "language": "python",
     "metadata": {},
     "outputs": []
    },
    {
     "cell_type": "markdown",
     "metadata": {},
     "source": [
      "Et comme on le voit les calculs se font sous une forme plus ou moins claire ou lisible."
     ]
    },
    {
     "cell_type": "markdown",
     "metadata": {},
     "source": [
      "Pour les rendre lisible on utilise des conversions plus ou moins explicites, comme"
     ]
    },
    {
     "cell_type": "code",
     "collapsed": false,
     "input": [
      "time.gmtime(t_later)"
     ],
     "language": "python",
     "metadata": {},
     "outputs": []
    },
    {
     "cell_type": "code",
     "collapsed": false,
     "input": [
      "time.strftime(\"%D\",time.gmtime(t_later))"
     ],
     "language": "python",
     "metadata": {},
     "outputs": []
    },
    {
     "cell_type": "markdown",
     "metadata": {},
     "source": [
      "---"
     ]
    },
    {
     "cell_type": "heading",
     "level": 3,
     "metadata": {},
     "source": [
      "Le module datetime"
     ]
    },
    {
     "cell_type": "markdown",
     "metadata": {},
     "source": [
      "Voyons \u00e0 pr\u00e9sent, par comparaison, comment ce genre de calculs se pr\u00e9sente lorsqu'on utilise la programmation par objets.\n",
      "\n",
      "Le [module `datetime`](https://docs.python.org/2/library/datetime.html) expose un certain nombre de classes, que nous illustrer bri\u00e8vement avec les classes `datetime` (qui mod\u00e9lise la date et l'heure d'un instant) et `timedelta` (qui mod\u00e9lise une dur\u00e9e).\n",
      "\n",
      "La premi\u00e8re remarque qu'on peut faire, c'est qu'avec le module `time` on manipulait un flottant pour repr\u00e9senter ces deux sortes d'objet (instant et dur\u00e9e); avec deux classes diff\u00e9rentes notre code va \u00eatre plus clair quant \u00e0 ce qui est r\u00e9ellement repr\u00e9sent\u00e9."
     ]
    },
    {
     "cell_type": "markdown",
     "metadata": {},
     "source": [
      "Le code ci-dessus s'\u00e9crirait alors, en utilisant le module `datetime`"
     ]
    },
    {
     "cell_type": "code",
     "collapsed": false,
     "input": [
      "from datetime import datetime, timedelta\n",
      "\n",
      "dt_now = datetime.now()\n",
      "dt_later = dt_now + timedelta(hours = 2)"
     ],
     "language": "python",
     "metadata": {},
     "outputs": []
    },
    {
     "cell_type": "markdown",
     "metadata": {},
     "source": [
      "Vous remarquez que c'est d\u00e9j\u00e0 un peu plus clair.\n",
      "\n",
      "Voyez aussi qu'on n'a d\u00e9j\u00e0 moins besoin de s'escrimer pour en avoir un aper\u00e7u lisible"
     ]
    },
    {
     "cell_type": "code",
     "collapsed": false,
     "input": [
      "print 'maintenant',dt_now"
     ],
     "language": "python",
     "metadata": {},
     "outputs": []
    },
    {
     "cell_type": "code",
     "collapsed": false,
     "input": [
      "print dt_later.strftime(\"%D\")"
     ],
     "language": "python",
     "metadata": {},
     "outputs": []
    },
    {
     "cell_type": "heading",
     "level": 3,
     "metadata": {},
     "source": [
      "Conclusion"
     ]
    },
    {
     "cell_type": "markdown",
     "metadata": {},
     "source": [
      "Une partie des inconv\u00e9nients du module `time` vient certainement du parti-pris de l'efficacit\u00e9. De plus c'est un module tr\u00e8s ancien, mais auquel on ne peut gu\u00e8re toucher pour des raisons de compatibilit\u00e9 ascendante.\n",
      "\n",
      "Quoi qu'il en soit, ceci vous procure tout de m\u00eame un premier exemple de classes expos\u00e9es par la librairie standard, et vous montre, nous l'esp\u00e9rons, certains des avantages de la programmation oerient\u00e9e objet en g\u00e9n\u00e9ral, et des classes de python en particulier.\n",
      "\n",
      "Si vous devez manipuler des dates ou des heures, le module `datetime` constitue tr\u00e8s certainement un bon candidat; voyez la [documentation compl\u00e8te du module](https://docs.python.org/2/library/datetime.html) pour plus de pr\u00e9cisions sur ce module."
     ]
    },
    {
     "cell_type": "heading",
     "level": 2,
     "metadata": {},
     "source": [
      "Compl\u00e9ment - niveau interm\u00e9diaire"
     ]
    },
    {
     "cell_type": "heading",
     "level": 3,
     "metadata": {},
     "source": [
      "Fuseaux horaires et temps local"
     ]
    },
    {
     "cell_type": "markdown",
     "metadata": {},
     "source": [
      "Le temps nous manque pour traiter ce sujet dans toute sa profondeur.\n",
      "\n",
      "En substance c'est un sujet assez voisin, finalement, de celui des accents, en ce sens que lors d'\u00e9changes d'informations de type *timestamp* entre deux ordinateurs, il faut \u00e9changer d'une part une valeur (l'heure et la date), et d'autre part le r\u00e9f\u00e9rentiel (s'agit-il de temps UTC, ou bien de l'heure dans un fuseau horaire, et si oui lequel).\n",
      "\n",
      "La complexit\u00e9 est tout de m\u00eame moindre que dans le cas des accents; on s'en sort en g\u00e9n\u00e9ral en convenant d'\u00e9changer syst\u00e9matiquement des heures UTC. Par contre il existe une r\u00e9elle diversit\u00e9 quant au format utilis\u00e9 pour \u00e9changer ce type d'information, et cela reste une source d'erreurs assez fr\u00e9quente."
     ]
    },
    {
     "cell_type": "heading",
     "level": 3,
     "metadata": {},
     "source": [
      "Classes et *marshalling*"
     ]
    },
    {
     "cell_type": "markdown",
     "metadata": {},
     "source": [
      "Ceci nous procure une transition pour un sujet beaucoup plus g\u00e9n\u00e9ral.\n",
      "\n",
      "Nous avons \u00e9voqu\u00e9, en d\u00e9but de semaine 4, les formats comme JSON pour \u00e9changer les donn\u00e9es entre applications, au travers de fichiers ou d'un r\u00e9seau.\n",
      "\n",
      "On a vu par exemple que JSON est un format \"proche des langages\" en ce sens qu'il est capable d'\u00e9changer des objets de base comme des listes ou des dictionnaires, entre plusieurs langages comme JavaScript, python, ruby et autres. EN XML on a davantage de flexibilit\u00e9 puisqu'on peut d\u00e9finir une syntaxe sur les donn\u00e9es \u00e9chang\u00e9es.\n",
      "\n",
      "Mais il faut \u00eatre bien lucide sur le fait que, aussi bien pour JSON que pour XML, il n'est **pas  possible** d'\u00e9changer entre applications des **objets** en tant que tel. Ce que nous voulons dire, c'est que ces technologies de *marshalling* prennent bien en charge le *contenu* en termes de donn\u00e9es, mais pas les informations de type, et *a fortiori* pas non plus le code qui appartient \u00e0 la classe.\n",
      "\n",
      "On peut toujours, naturellement, s'en sortir en utilisant JSON pour \u00e9changer les donn\u00e9es d'un objet, et en reconstruisant plus ou moins \u00e0 la main les objets \u00e0 l'autre extr\u00e9mit\u00e9 de l'\u00e9change.\n",
      "\n",
      "Mais il peut \u00eatre important d'\u00eatre conscient de cette limitation lorsqu'on fait des choix de conception, notamment lorsqu'on est amen\u00e9 \u00e0 choisir entre classe et dictionnaire pour l'impl\u00e9mentation de telle ou telle abstraction."
     ]
    }
   ],
   "metadata": {}
  }
 ]
}