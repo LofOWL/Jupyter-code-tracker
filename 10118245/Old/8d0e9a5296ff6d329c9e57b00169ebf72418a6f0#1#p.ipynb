{
 "metadata": {
  "notebookname": "Compr\u00e9hensions",
  "signature": "d1070409059b3bfe240b2954baca773ccf3ac9f427f501a14831905a1d2f1936",
  "version": "1.0"
 },
 "nbformat": 3,
 "nbformat_minor": 0,
 "worksheets": [
  {
   "cells": [
    {
     "cell_type": "heading",
     "level": 1,
     "metadata": {},
     "source": [
      "Compr\u00e9hensions"
     ]
    },
    {
     "cell_type": "heading",
     "level": 2,
     "metadata": {},
     "source": [
      "Exercice - niveau basique"
     ]
    },
    {
     "cell_type": "markdown",
     "metadata": {},
     "source": [
      "Il vous est demand\u00e9 d'\u00e9crire une fonction `aplatir` qui prend en argument `l_conteneurs` (ou plus g\u00e9n\u00e9ralement un it\u00e9rable)  de conteneurs, et qui retourne la liste ordonn\u00e9e de tous les \u00e9l\u00e9ment de tous les conteneurs."
     ]
    },
    {
     "cell_type": "code",
     "collapsed": false,
     "input": [
      "# par exemple\n",
      "from corrections.w4_comprehensions import exemple_aplatir\n",
      "exemple_aplatir()"
     ],
     "language": "python",
     "metadata": {},
     "outputs": []
    },
    {
     "cell_type": "code",
     "collapsed": false,
     "input": [
      "def aplatir (conteneurs):\n",
      "    \"<votre_code>\""
     ],
     "language": "python",
     "metadata": {},
     "outputs": []
    },
    {
     "cell_type": "code",
     "collapsed": false,
     "input": [
      "# v\u00e9rifier votre code\n",
      "from corrections.w4_comprehensions import correction_aplatir\n",
      "correction_aplatir(aplatir)"
     ],
     "language": "python",
     "metadata": {},
     "outputs": []
    },
    {
     "cell_type": "heading",
     "level": 2,
     "metadata": {},
     "source": [
      "Exercice - niveau interm\u00e9diaire"
     ]
    },
    {
     "cell_type": "markdown",
     "metadata": {},
     "source": [
      "\u00c0 pr\u00e9sent on attend en argument deux conteneurs (deux it\u00e9rables) `c1` et `c2` de m\u00eame taille et la fonction `alternat` doit construire une liste contenant les \u00e9l\u00e9ments pris alternativement dans `c1` et de `c2`."
     ]
    },
    {
     "cell_type": "code",
     "collapsed": false,
     "input": [
      "# exemple\n",
      "from corrections.w4_comprehensions import exemple_alternat\n",
      "exemple_alternat()"
     ],
     "language": "python",
     "metadata": {},
     "outputs": []
    },
    {
     "cell_type": "code",
     "collapsed": false,
     "input": [
      "def alternat (c1, c2):\n",
      "    \"<votre_code>\""
     ],
     "language": "python",
     "metadata": {},
     "outputs": []
    },
    {
     "cell_type": "code",
     "collapsed": false,
     "input": [
      "# pour v\u00e9rifier votre code\n",
      "from corrections.w4_comprehensions import correction_alternat\n",
      "correction_alternat(alternat)"
     ],
     "language": "python",
     "metadata": {},
     "outputs": []
    },
    {
     "cell_type": "heading",
     "level": 2,
     "metadata": {},
     "source": [
      "Exercice - niveau interm\u00e9diaire"
     ]
    },
    {
     "cell_type": "markdown",
     "metadata": {},
     "source": [
      "On se donne deux ensembles A et B de tuples de la forme\n",
      "\n",
      "    (entier, valeur)\n",
      "\n",
      "On vous demande d'\u00e9crire une fonction `intersect` qui retourne l'ensemble des objets `valeur` associ\u00e9s (dans A ou dans B) \u00e0 un entier qui soit pr\u00e9sent dans (un tuple de) A *et* dans B."
     ]
    },
    {
     "cell_type": "code",
     "collapsed": false,
     "input": [
      "# un exemple\n",
      "from corrections.w4_comprehensions import exemple_intersect\n",
      "exemple_intersect()"
     ],
     "language": "python",
     "metadata": {},
     "outputs": []
    },
    {
     "cell_type": "code",
     "collapsed": false,
     "input": [
      "def intersect (A,B):\n",
      "    \"<votre_code>\""
     ],
     "language": "python",
     "metadata": {},
     "outputs": []
    },
    {
     "cell_type": "code",
     "collapsed": false,
     "input": [
      "# pour v\u00e9rifier votre code\n",
      "from corrections.w4_comprehensions import correction_intersect\n",
      "correction_intersect (intersect)"
     ],
     "language": "python",
     "metadata": {},
     "outputs": []
    }
   ],
   "metadata": {}
  }
 ]
}