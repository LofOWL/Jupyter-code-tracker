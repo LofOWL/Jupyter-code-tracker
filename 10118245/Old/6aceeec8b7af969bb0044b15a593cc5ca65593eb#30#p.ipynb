{
 "metadata": {
  "notebookname": "Compr\u00e9hension de liste",
  "signature": "08761be3d4c7f0c2e69f89c32e204137beffb0b74d562f37384415ac2e9aeabc",
  "version": "1.0"
 },
 "nbformat": 3,
 "nbformat_minor": 0,
 "worksheets": [
  {
   "cells": [
    {
     "cell_type": "heading",
     "level": 1,
     "metadata": {},
     "source": [
      "Construction de liste par compr\u00e9hension"
     ]
    },
    {
     "cell_type": "heading",
     "level": 2,
     "metadata": {},
     "source": [
      "Compl\u00e9ment - niveau basique"
     ]
    },
    {
     "cell_type": "markdown",
     "metadata": {},
     "source": [
      "Ce m\u00e9canisme tr\u00e8s pratique permet de construire simplement une liste \u00e0 partir d'une autre (ou de tout autre type iterable en r\u00e9alit\u00e9, mais nous y viendrons).\n",
      "\n",
      "Pour l'introduire en deux mots, disons que la compr\u00e9hension de liste est \u00e0 l'instruction `for` ce que l'expression conditionnelle est \u00e0 l'instruction  `if`, c'est-\u00e0-dire qu'il s'agit d'une **expression \u00e0 part enti\u00e8re**."
     ]
    },
    {
     "cell_type": "heading",
     "level": 3,
     "metadata": {},
     "source": [
      "Cas le plus simple"
     ]
    },
    {
     "cell_type": "markdown",
     "metadata": {},
     "source": [
      "Voyons tout de suite un exemple"
     ]
    },
    {
     "cell_type": "code",
     "collapsed": false,
     "input": [
      "depart = [3, 7, 14, 28]\n",
      "[x**2 for x in depart]"
     ],
     "language": "python",
     "metadata": {},
     "outputs": []
    },
    {
     "cell_type": "markdown",
     "metadata": {},
     "source": [
      "Comme vous l'avez sans doute devin\u00e9, le r\u00e9sultat de cette expression est une liste, dont les \u00e9l\u00e9ments sont les r\u00e9sultats de l'expression `x**2` pour `x` prenant toutes les valeurs de `depart`"
     ]
    },
    {
     "cell_type": "heading",
     "level": 3,
     "metadata": {},
     "source": [
      "Restriction \u00e0 certains \u00e9l\u00e9ments"
     ]
    },
    {
     "cell_type": "markdown",
     "metadata": {},
     "source": [
      "Il est possible \u00e9galement de ne prendre en compte que certains des \u00e9l\u00e9ments de la liste de d\u00e9part, comme ceci"
     ]
    },
    {
     "cell_type": "code",
     "collapsed": false,
     "input": [
      "[x**2 for x in depart if x%2 == 0]"
     ],
     "language": "python",
     "metadata": {},
     "outputs": []
    },
    {
     "cell_type": "markdown",
     "metadata": {},
     "source": [
      "qui cette fois ne contient que les carr\u00e9s des \u00e9l\u00e9ments pairs de `depart`"
     ]
    },
    {
     "cell_type": "heading",
     "level": 3,
     "metadata": {},
     "source": [
      "Autres types"
     ]
    },
    {
     "cell_type": "markdown",
     "metadata": {},
     "source": [
      "Naturellement il n'est pas n\u00e9cessaire que l'objet de d\u00e9part soit une liste, ce pourrait \u00eatre aussi bien une cha\u00eene de caract\u00e8res, un tuple, ou autre chose."
     ]
    },
    {
     "cell_type": "markdown",
     "metadata": {},
     "source": [
      "Nous verrons tr\u00e8s bient\u00f4t que des m\u00e9canismes similaires sont disponibles avec les dictionnaires et les ensembles."
     ]
    },
    {
     "cell_type": "heading",
     "level": 2,
     "metadata": {},
     "source": [
      "Compl\u00e9ment - niveau interm\u00e9diaire"
     ]
    },
    {
     "cell_type": "heading",
     "level": 3,
     "metadata": {},
     "source": [
      "Imbrications"
     ]
    },
    {
     "cell_type": "markdown",
     "metadata": {},
     "source": [
      "On peut \u00e9galement imbriquer plusieurs niveaux pour ne construire qu'une seule liste, comme par exemple"
     ]
    },
    {
     "cell_type": "code",
     "collapsed": false,
     "input": [
      "[n + p for n in [2,4] for p in [10, 20, 30]]"
     ],
     "language": "python",
     "metadata": {},
     "outputs": []
    },
    {
     "cell_type": "markdown",
     "metadata": {},
     "source": [
      "Bien s\u00fbr on peut aussi restreindre ces compr\u00e9hensions, comme par exemple"
     ]
    },
    {
     "cell_type": "code",
     "collapsed": false,
     "input": [
      "[n + p for n in [2, 4] for p in [10, 20, 30] if n*p >= 40]"
     ],
     "language": "python",
     "metadata": {},
     "outputs": []
    },
    {
     "cell_type": "markdown",
     "metadata": {},
     "source": [
      "Observez surtout que le r\u00e9sultat ci-dessus est une liste simple (de profondeur 1), \u00e0 comparer avec "
     ]
    },
    {
     "cell_type": "code",
     "collapsed": false,
     "input": [
      "[[n + p for n in [2, 4]] for p in [10, 20, 30]]"
     ],
     "language": "python",
     "metadata": {},
     "outputs": []
    },
    {
     "cell_type": "markdown",
     "metadata": {},
     "source": [
      "qui est de profondeur 2, et o\u00f9 les r\u00e9sultats atomiques apparaissent dans un ordre diff\u00e9rent "
     ]
    },
    {
     "cell_type": "markdown",
     "metadata": {},
     "source": [
      "Un moyen mn\u00e9motechnique pour se souvenir dans quel ordre les compr\u00e9hensions imbriqu\u00e9es produisent leur r\u00e9sultat, est de penser \u00e0 la version \"na\u00efve\" du code qui produirait le m\u00eame r\u00e9sultat; dans ce code les clause `for` et `if` apparaissent **dans le m\u00eame ordre** que dans la compr\u00e9hension"
     ]
    },
    {
     "cell_type": "code",
     "collapsed": false,
     "input": [
      "resultat=[]\n",
      "for n in [2, 4]:\n",
      "    for p in [10, 20, 30]:\n",
      "        if n*p >= 40:\n",
      "            resultat.append(n+p)\n",
      "resultat"
     ],
     "language": "python",
     "metadata": {},
     "outputs": []
    },
    {
     "cell_type": "heading",
     "level": 2,
     "metadata": {},
     "source": [
      "Compl\u00e9ment - niveau avanc\u00e9"
     ]
    },
    {
     "cell_type": "heading",
     "level": 3,
     "metadata": {},
     "source": [
      "Note sur `map` et `filter`\n"
     ]
    },
    {
     "cell_type": "markdown",
     "metadata": {},
     "source": [
      "Avant que les compr\u00e9hensions ne soient introduites, on utilisait deux fonctions built-in intitul\u00e9es `map` (nom qui provient \u00e0 l'origine de Lisp) et `filter`. Leur usage est \u00e0 pr\u00e9sent d\u00e9conseill\u00e9, car le code est moins lisible. On les trouve encore dans du code existant."
     ]
    },
    {
     "cell_type": "markdown",
     "metadata": {},
     "source": [
      "Pour donner un aper\u00e7u de ces fonctions, au cas o\u00f9 vous en rencontriez dans du code existant, voici comment on \u00e9crirait"
     ]
    },
    {
     "cell_type": "code",
     "collapsed": false,
     "input": [
      "[x**2 for x in depart if x%2 == 0]"
     ],
     "language": "python",
     "metadata": {},
     "outputs": []
    },
    {
     "cell_type": "markdown",
     "metadata": {},
     "source": [
      "Avec `map` et `filter` cela donnerait"
     ]
    },
    {
     "cell_type": "code",
     "collapsed": false,
     "input": [
      "def pair (x): \n",
      "    return x%2 == 0\n",
      "\n",
      "def carre (x): \n",
      "    return x**2\n",
      "\n",
      "map (carre, filter(pair, depart))"
     ],
     "language": "python",
     "metadata": {},
     "outputs": []
    },
    {
     "cell_type": "markdown",
     "metadata": {},
     "source": [
      "Ou encore, sur une ligne"
     ]
    },
    {
     "cell_type": "code",
     "collapsed": false,
     "input": [
      "map(lambda x: x**2, filter(lambda x: x%2 == 0, depart))"
     ],
     "language": "python",
     "metadata": {},
     "outputs": []
    },
    {
     "cell_type": "markdown",
     "metadata": {},
     "source": [
      "**Remarque**: l'instruction `lambda` permet permet de d\u00e9finir une fonction, que l'on appelle fonction lambda, \u00e0 la vol\u00e9e et sans la nommer. Nous reviendrons dessus dans les semaines \u00e0 venir. Mais \u00e0 notre avis au moins, les fonctions lambda ont perdu beaucoup de leur int\u00e9r\u00eat depuis, pr\u00e9cis\u00e9ment, l'introduction des compr\u00e9hensions. Aussi nous ne recommandons pas non plus de les utiliser dans du code nouveau."
     ]
    },
    {
     "cell_type": "heading",
     "level": 3,
     "metadata": {},
     "source": [
      "Pour en savoir plus"
     ]
    },
    {
     "cell_type": "markdown",
     "metadata": {},
     "source": [
      "La [section sur les compr\u00e9hensions de liste](https://docs.python.org/2/tutorial/datastructures.html#list-comprehensions) dans la documentation python"
     ]
    }
   ],
   "metadata": {}
  }
 ]
}