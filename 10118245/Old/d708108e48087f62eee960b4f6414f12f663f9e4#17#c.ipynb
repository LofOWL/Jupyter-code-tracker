{
 "metadata": {
  "notebookname": "L'instruction `pass`",
  "signature": "sha256:3e539ac5716a4e4c17e2ee0ffbcc1fef4e9f880a5d9f0e2b94b14c6a47d7ae4d",
  "version": "1.0"
 },
 "nbformat": 3,
 "nbformat_minor": 0,
 "worksheets": [
  {
   "cells": [
    {
     "cell_type": "heading",
     "level": 1,
     "metadata": {},
     "source": [
      "L'instruction `pass`"
     ]
    },
    {
     "cell_type": "heading",
     "level": 2,
     "metadata": {},
     "source": [
      "Compl\u00e9ment - niveau basique"
     ]
    },
    {
     "cell_type": "markdown",
     "metadata": {},
     "source": [
      "Nous avons vu qu'en python les blocs de code sont d\u00e9finis par leur indentation. "
     ]
    },
    {
     "cell_type": "heading",
     "level": 3,
     "metadata": {},
     "source": [
      "Une fonction vide"
     ]
    },
    {
     "cell_type": "markdown",
     "metadata": {},
     "source": [
      "Cette convention a une limitation lorsqu'on essaie de d\u00e9finir un bloc vide. Voyons par exemple comment on d\u00e9finirait en C une fonction qui ne fait rien"
     ]
    },
    {
     "cell_type": "raw",
     "metadata": {},
     "source": [
      "/* une fonction C qui ne fait rien */\n",
      "int foo () {}"
     ]
    },
    {
     "cell_type": "markdown",
     "metadata": {},
     "source": [
      "Comme en python on n'a pas d'accolade pour d\u00e9limiter les blocs de code, il existe en python une instruction `pass`, qui ne fait rien. \u00c0 l'aide de cette instruction on peut \u00e0 pr\u00e9sent d\u00e9finir une fonction vide comme ceci"
     ]
    },
    {
     "cell_type": "code",
     "collapsed": false,
     "input": [
      "# une fonction python qui ne fait rien\n",
      "def foo():\n",
      "    pass"
     ],
     "language": "python",
     "metadata": {},
     "outputs": []
    },
    {
     "cell_type": "heading",
     "level": 3,
     "metadata": {},
     "source": [
      "Une boucle vide"
     ]
    },
    {
     "cell_type": "markdown",
     "metadata": {},
     "source": [
      "Pour prendre un second exemple un peu plus pratique, et pour anticiper un peu sur l'instruction `while` que nous verrons tr\u00e8s bient\u00f4t, voici un exemple d'une boucle vide, c'est \u00e0 dire sans corps, qui permet de \"d\u00e9piler\" dans une liste jusqu'\u00e0 l'obtention d'une certaine valeur:"
     ]
    },
    {
     "cell_type": "code",
     "collapsed": false,
     "input": [
      "liste = range(10)\n",
      "print 'avant', liste\n",
      "while liste.pop() != 5:\n",
      "    pass\n",
      "print 'avant', liste"
     ],
     "language": "python",
     "metadata": {},
     "outputs": [
      {
       "output_type": "stream",
       "stream": "stdout",
       "text": [
        "avant [0, 1, 2, 3, 4, 5, 6, 7, 8, 9]\n",
        "avant [0, 1, 2, 3, 4]\n"
       ]
      }
     ],
     "prompt_number": 1
    },
    {
     "cell_type": "markdown",
     "metadata": {},
     "source": [
      "On voit qu'ici encore l'instruction `pass` a toute son utilit\u00e9"
     ]
    },
    {
     "cell_type": "heading",
     "level": 2,
     "metadata": {},
     "source": [
      "Compl\u00e9ment - niveau interm\u00e9diaire"
     ]
    },
    {
     "cell_type": "heading",
     "level": 3,
     "metadata": {},
     "source": [
      "Un `if` sans `then`"
     ]
    },
    {
     "cell_type": "code",
     "collapsed": false,
     "input": [
      "from math import sin"
     ],
     "language": "python",
     "metadata": {},
     "outputs": [],
     "prompt_number": 2
    },
    {
     "cell_type": "markdown",
     "metadata": {},
     "source": [
      "Imaginons qu'on parte d'un code hypoth\u00e9tique qui fasse ceci"
     ]
    },
    {
     "cell_type": "code",
     "collapsed": false,
     "input": [
      "# la version initiale\n",
      "if sin(0) != 0.:\n",
      "    print \"non\"\n",
      "else:\n",
      "    print \"bingo\""
     ],
     "language": "python",
     "metadata": {},
     "outputs": [
      {
       "output_type": "stream",
       "stream": "stdout",
       "text": [
        "bingo\n"
       ]
      }
     ],
     "prompt_number": 3
    },
    {
     "cell_type": "markdown",
     "metadata": {},
     "source": [
      "et que l'on veuille modifier ce code pour simplement supprimer l'impression de `non`. La syntaxe du langage ne permet pas de simplement commenter le premier `print`:"
     ]
    },
    {
     "cell_type": "code",
     "collapsed": false,
     "input": [
      "# la version initiale\n",
      "if sin(0) != 0.:\n",
      "#    print \"non\"\n",
      "else:\n",
      "    print \"bingo\""
     ],
     "language": "python",
     "metadata": {},
     "outputs": [
      {
       "ename": "IndentationError",
       "evalue": "expected an indented block (<ipython-input-4-0669b71ef6b8>, line 4)",
       "output_type": "pyerr",
       "traceback": [
        "\u001b[1;36m  File \u001b[1;32m\"<ipython-input-4-0669b71ef6b8>\"\u001b[1;36m, line \u001b[1;32m4\u001b[0m\n\u001b[1;33m    else:\u001b[0m\n\u001b[1;37m       ^\u001b[0m\n\u001b[1;31mIndentationError\u001b[0m\u001b[1;31m:\u001b[0m expected an indented block\n"
       ]
      }
     ],
     "prompt_number": 4
    },
    {
     "cell_type": "markdown",
     "metadata": {},
     "source": [
      "\u00c9videmment ceci pourrait \u00eatre r\u00e9crit autrement en inversant la condition, mais parfois on s'efforce de limiter au maximum l'impact d'une modification sur le code. Dans ce genre de situation on pr\u00e9f\u00e9rera \u00e9crire plut\u00f4t"
     ]
    },
    {
     "cell_type": "code",
     "collapsed": false,
     "input": [
      "# la version initiale\n",
      "if sin(0) != 0.:\n",
      "#    print \"non\"\n",
      "    pass\n",
      "else:\n",
      "    print \"bingo\""
     ],
     "language": "python",
     "metadata": {},
     "outputs": [
      {
       "output_type": "stream",
       "stream": "stdout",
       "text": [
        "bingo\n"
       ]
      }
     ],
     "prompt_number": 5
    },
    {
     "cell_type": "heading",
     "level": 2,
     "metadata": {},
     "source": [
      "Compl\u00e9ment - niveau avanc\u00e9"
     ]
    },
    {
     "cell_type": "heading",
     "level": 3,
     "metadata": {},
     "source": [
      "Une classe vide"
     ]
    },
    {
     "cell_type": "markdown",
     "metadata": {},
     "source": [
      "Pour anticiper encore un peu plus sur les classes que nous verrons en cinqui\u00e8me semaine, on peut aussi utiliser `pass` pour d\u00e9finir une classe vide comme ceci"
     ]
    },
    {
     "cell_type": "code",
     "collapsed": false,
     "input": [
      "class Foo:\n",
      "    pass"
     ],
     "language": "python",
     "metadata": {},
     "outputs": [],
     "prompt_number": 6
    },
    {
     "cell_type": "code",
     "collapsed": false,
     "input": [
      "foo = Foo()"
     ],
     "language": "python",
     "metadata": {},
     "outputs": [],
     "prompt_number": 7
    }
   ],
   "metadata": {}
  }
 ]
}