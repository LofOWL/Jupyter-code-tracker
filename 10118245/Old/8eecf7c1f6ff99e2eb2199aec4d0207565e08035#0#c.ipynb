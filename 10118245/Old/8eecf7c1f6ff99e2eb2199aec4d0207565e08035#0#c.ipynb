{
 "metadata": {
  "notebookname": "Classes new style",
  "signature": "0cf9ad979c2b03cd7d380e51859c1055b78bc8dfc33170fb1b67fc810aeea611",
  "version": "1.0"
 },
 "nbformat": 3,
 "nbformat_minor": 0,
 "worksheets": [
  {
   "cells": [
    {
     "cell_type": "heading",
     "level": 1,
     "metadata": {},
     "source": [
      "Classes new style"
     ]
    },
    {
     "cell_type": "heading",
     "level": 2,
     "metadata": {},
     "source": [
      "Compl\u00e9ment - niveau interm\u00e9diaire"
     ]
    },
    {
     "cell_type": "heading",
     "level": 3,
     "metadata": {},
     "source": [
      "La classe `object`"
     ]
    },
    {
     "cell_type": "markdown",
     "metadata": {},
     "source": [
      "Vous pouvez trouver du code dans lequel les classes h\u00e9ritent de la classe `object`, comme dans cet exemple tir\u00e9 du module standard `zipfile` :"
     ]
    },
    {
     "cell_type": "code",
     "collapsed": false,
     "input": [
      "from modtools import show_module\n",
      "import zipfile\n",
      "show_module(zipfile,beg='class ZipFile(', end=\"file:\")"
     ],
     "language": "python",
     "metadata": {},
     "outputs": []
    },
    {
     "cell_type": "markdown",
     "metadata": {},
     "source": [
      "Ceci nous donne l'occasion de citer le module `zipfile`, qui permet de lire ou \u00e9crire, de mani\u00e8re transparente, des fichiers compress\u00e9s au format `zip`. "
     ]
    },
    {
     "cell_type": "heading",
     "level": 3,
     "metadata": {},
     "source": [
      "Les classes *new-style*"
     ]
    },
    {
     "cell_type": "markdown",
     "metadata": {},
     "source": [
      "Mais le sujet de ce compl\u00e9ment est l'h\u00e9ritage entre `ZipFile` et la classe `object`. Voici ce qu'il faut en retenir en version courte.\n",
      "\n",
      "Aux alentours de la version 2.2 - 2.3 de python, on a am\u00e9lior\u00e9 le langage pour r\u00e9gler quelques probl\u00e8mes qui existaient dans le syst\u00e8me de types. En substance, et pour rester synth\u00e9tique :\n",
      "\n",
      " * Il n'\u00e9tait pas possible dans les anciennes versions de sp\u00e9cialier un type pr\u00e9d\u00e9fini. Par exemple si vous vous souvenez de la classe `collections.OrderedDict`, il s'agit d'une sp\u00e9cialisation du type *builtin* `dict`. Il n'aurait pas \u00e9t\u00e9 possible d'impl\u00e9menter cette classe avec les anciennes versions du langage.\n",
      " \n",
      " * Dans l'ancien mod\u00e8le mental, les classes et les types jouent un r\u00f4le diff\u00e9rent. Or dans la logique d'un langage orient\u00e9 objet, le type d'une instance, c'est sa classe. Nous allons y revenir avec des exemples."
     ]
    },
    {
     "cell_type": "markdown",
     "metadata": {},
     "source": [
      "Pour am\u00e9liorer le langage, on a alors introduit la notion de classe *new-style*. \n",
      "\n",
      "Pour **ne pas casser la compatibilit\u00e9 ascendante**, on a convenu que pour qu'une classe soit ***new-style***, il faut qu'elle **h\u00e9rite** - directement ou indirectement - de la classe *builtin* `object`."
     ]
    },
    {
     "cell_type": "heading",
     "level": 3,
     "metadata": {},
     "source": [
      "Illustration"
     ]
    },
    {
     "cell_type": "markdown",
     "metadata": {},
     "source": [
      "Une instance d'une classe *old-style* a pour type le type `instance` :"
     ]
    },
    {
     "cell_type": "code",
     "collapsed": false,
     "input": [
      "# une classe old-style\n",
      "class OldStyle: pass\n",
      "# une instance\n",
      "old_style = OldStyle()\n",
      "# son type est juste 'instance'\n",
      "type(old_style)"
     ],
     "language": "python",
     "metadata": {},
     "outputs": []
    },
    {
     "cell_type": "markdown",
     "metadata": {},
     "source": [
      "Par contre une instance d'une classe *new-style* a pour type la classe qu'on a utilis\u00e9e pour cr\u00e9er l'objet :"
     ]
    },
    {
     "cell_type": "code",
     "collapsed": false,
     "input": [
      "# une classe new-style : elle h\u00e9rite de 'object'\n",
      "class NewStyle(object): pass\n",
      "# une instance\n",
      "new_style = NewStyle()\n",
      "# le type de l'instance est bien la classe\n",
      "type(new_style) is NewStyle"
     ],
     "language": "python",
     "metadata": {},
     "outputs": []
    },
    {
     "cell_type": "heading",
     "level": 3,
     "metadata": {},
     "source": [
      "Digression sur python3"
     ]
    },
    {
     "cell_type": "markdown",
     "metadata": {},
     "source": [
      "En python 3, toutes les classes sont maintenant *new-style*, qu'elles h\u00e9ritent ou non de `object`. C'est pourquoi il est **conseill\u00e9**, dans vos programmes python2, de **syst\u00e9matiquement \u00e9crire des classes new-style**."
     ]
    },
    {
     "cell_type": "heading",
     "level": 2,
     "metadata": {},
     "source": [
      "Compl\u00e9ment - niveau avanc\u00e9"
     ]
    },
    {
     "cell_type": "heading",
     "level": 3,
     "metadata": {},
     "source": [
      "Pour en savoir plus"
     ]
    },
    {
     "cell_type": "markdown",
     "metadata": {},
     "source": [
      "Si ce sujet vous int\u00e9resse, vous pouvez commencer par [l'article initial de Guido Van Rossum](https://www.python.org/download/releases/2.2.3/descrintro) au sujet de la nouvelle impl\u00e9mentation. "
     ]
    }
   ],
   "metadata": {}
  }
 ]
}