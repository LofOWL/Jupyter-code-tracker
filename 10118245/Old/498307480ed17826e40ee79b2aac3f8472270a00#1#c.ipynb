{
 "metadata": {
  "notebookname": "D\u00e9corateurs",
  "signature": "sha256:c812ab3a5115516bd086d3d1e90c7a9df5e890648f9362b6e96c758031931b74",
  "version": "1.0"
 },
 "nbformat": 3,
 "nbformat_minor": 0,
 "worksheets": [
  {
   "cells": [
    {
     "cell_type": "heading",
     "level": 1,
     "metadata": {},
     "source": [
      "D\u00e9corateurs"
     ]
    },
    {
     "cell_type": "heading",
     "level": 2,
     "metadata": {},
     "source": [
      "Compl\u00e9ment - niveau avanc\u00e9"
     ]
    },
    {
     "cell_type": "markdown",
     "metadata": {},
     "source": [
      "Dans la vid\u00e9o on a vu l'exemple du d\u00e9corateur de fonction `NbAppel`, un d\u00e9corateur de fonction impl\u00e9ment\u00e9 comme une classe; dans ce compl\u00e9ment nous allons voir d'autres exemples de d\u00e9corateurs..."
     ]
    }
   ],
   "metadata": {}
  }
 ]
}