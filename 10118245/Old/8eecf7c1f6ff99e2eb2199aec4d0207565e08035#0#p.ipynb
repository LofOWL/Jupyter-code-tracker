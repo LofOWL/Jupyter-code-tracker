{
 "metadata": {
  "notebookname": "Classes new style",
  "signature": "e04000b3bcacb99fa121a4159f428b7f0aa1f6d6d8216b7b1aa94179efa50992",
  "version": "1.0"
 },
 "nbformat": 3,
 "nbformat_minor": 0,
 "worksheets": [
  {
   "cells": [
    {
     "cell_type": "heading",
     "level": 1,
     "metadata": {},
     "source": [
      "Classes new style"
     ]
    }
   ],
   "metadata": {}
  }
 ]
}