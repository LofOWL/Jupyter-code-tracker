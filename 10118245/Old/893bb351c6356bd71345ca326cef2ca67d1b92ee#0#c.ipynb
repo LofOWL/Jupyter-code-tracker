{
 "metadata": {
  "notebookname": "module this",
  "signature": "sha256:73f5a537b3ba816edbd326ded9cd706928ec802b845b631b59b478e3435c42a3",
  "version": "1.0"
 },
 "nbformat": 3,
 "nbformat_minor": 0,
 "worksheets": [
  {
   "cells": [
    {
     "cell_type": "heading",
     "level": 1,
     "metadata": {},
     "source": [
      "D\u00e9coder le module `this`"
     ]
    },
    {
     "cell_type": "heading",
     "level": 2,
     "metadata": {},
     "source": [
      "Exercice - niveau interm\u00e9diaire"
     ]
    },
    {
     "cell_type": "heading",
     "level": 3,
     "metadata": {},
     "source": [
      "Le module `this` et le *zen de python*"
     ]
    },
    {
     "cell_type": "markdown",
     "metadata": {},
     "source": [
      "Nous avons d\u00e9j\u00e0 eu l'occasion de parler du *zen de python*; on peut lire ce texte en important le module `this` comme ceci"
     ]
    },
    {
     "cell_type": "code",
     "collapsed": false,
     "input": [
      "import this"
     ],
     "language": "python",
     "metadata": {},
     "outputs": [
      {
       "output_type": "stream",
       "stream": "stdout",
       "text": [
        "The Zen of Python, by Tim Peters\n",
        "\n",
        "Beautiful is better than ugly.\n",
        "Explicit is better than implicit.\n",
        "Simple is better than complex.\n",
        "Complex is better than complicated.\n",
        "Flat is better than nested.\n",
        "Sparse is better than dense.\n",
        "Readability counts.\n",
        "Special cases aren't special enough to break the rules.\n",
        "Although practicality beats purity.\n",
        "Errors should never pass silently.\n",
        "Unless explicitly silenced.\n",
        "In the face of ambiguity, refuse the temptation to guess.\n",
        "There should be one-- and preferably only one --obvious way to do it.\n",
        "Although that way may not be obvious at first unless you're Dutch.\n",
        "Now is better than never.\n",
        "Although never is often better than *right* now.\n",
        "If the implementation is hard to explain, it's a bad idea.\n",
        "If the implementation is easy to explain, it may be a good idea.\n",
        "Namespaces are one honking great idea -- let's do more of those!\n"
       ]
      }
     ],
     "prompt_number": 1
    },
    {
     "cell_type": "markdown",
     "metadata": {},
     "source": [
      "Il suit du cours qu'une fois cet import effectu\u00e9 nous avons acc\u00e8s \u00e0 une variable `this`, de type module:"
     ]
    },
    {
     "cell_type": "code",
     "collapsed": false,
     "input": [
      "this"
     ],
     "language": "python",
     "metadata": {},
     "outputs": [
      {
       "metadata": {},
       "output_type": "pyout",
       "prompt_number": 2,
       "text": [
        "<module 'this' from '/opt/local/Library/Frameworks/Python.framework/Versions/2.7/lib/python2.7/this.pyc'>"
       ]
      }
     ],
     "prompt_number": 2
    },
    {
     "cell_type": "heading",
     "level": 3,
     "metadata": {},
     "source": [
      "But de l'exercice"
     ]
    },
    {
     "cell_type": "markdown",
     "metadata": {},
     "source": [
      "Le but de l'exercice est de deviner le contenu du module, et d'\u00e9crire une fonction `decode_this`, qui retourne le texte du manifeste:"
     ]
    },
    {
     "cell_type": "code",
     "collapsed": false,
     "input": [
      "def decode_this (this):\n",
      "    \"<votre code>\""
     ],
     "language": "python",
     "metadata": {},
     "outputs": [],
     "prompt_number": 3
    },
    {
     "cell_type": "heading",
     "level": 3,
     "metadata": {},
     "source": [
      "Correction"
     ]
    },
    {
     "cell_type": "code",
     "collapsed": false,
     "input": [
      "from corrections.w3_decode_zen import correction_decode_this\n",
      "from corrections.w3_decode_zen import decode_this2 as decode_this\n",
      "correction_decode_this (decode_this,this)"
     ],
     "language": "python",
     "metadata": {},
     "outputs": [
      {
       "html": [
        "<table style='font-family:monospace;'><tr><th>Entr\u00e9e</th><th>Attendu</th><th>Obtenu</th><th></th></tr><tr style='background-color:#66CC66;'><td><module 'this' from '/opt/l...</td><td>\"The Zen of Python, by Tim Peters\\n\\n...</td><td>\"The Zen of Python, by Tim Peters\\n\\n...</td><td>OK</td></table>"
       ],
       "metadata": {},
       "output_type": "pyout",
       "prompt_number": 4,
       "text": [
        "<IPython.core.display.HTML at 0x106503a50>"
       ]
      }
     ],
     "prompt_number": 4
    },
    {
     "cell_type": "heading",
     "level": 3,
     "metadata": {},
     "source": [
      "Indices"
     ]
    },
    {
     "cell_type": "markdown",
     "metadata": {},
     "source": [
      "Cet exercice peut para\u00eetre un peu d\u00e9concertant; voici quelques indices si vous \u00eates bloqu\u00e9:"
     ]
    },
    {
     "cell_type": "code",
     "collapsed": false,
     "input": [
      "# le r\u00e9sultat attendu\n",
      "from corrections.w3_decode_zen import resultat_decode_this\n",
      "resultat = resultat_decode_this (this)"
     ],
     "language": "python",
     "metadata": {},
     "outputs": [],
     "prompt_number": 5
    },
    {
     "cell_type": "code",
     "collapsed": false,
     "input": [
      "dir(this)"
     ],
     "language": "python",
     "metadata": {},
     "outputs": [
      {
       "metadata": {},
       "output_type": "pyout",
       "prompt_number": 6,
       "text": [
        "['__builtins__',\n",
        " '__doc__',\n",
        " '__file__',\n",
        " '__name__',\n",
        " '__package__',\n",
        " 'c',\n",
        " 'd',\n",
        " 'i',\n",
        " 's']"
       ]
      }
     ],
     "prompt_number": 6
    },
    {
     "cell_type": "code",
     "collapsed": false,
     "input": [
      "len (this.s) == len (resultat)"
     ],
     "language": "python",
     "metadata": {},
     "outputs": [
      {
       "metadata": {},
       "output_type": "pyout",
       "prompt_number": 7,
       "text": [
        "True"
       ]
      }
     ],
     "prompt_number": 7
    },
    {
     "cell_type": "code",
     "collapsed": false,
     "input": [
      "this.d[this.s[0]] == resultat [0]"
     ],
     "language": "python",
     "metadata": {},
     "outputs": [
      {
       "metadata": {},
       "output_type": "pyout",
       "prompt_number": 8,
       "text": [
        "True"
       ]
      }
     ],
     "prompt_number": 8
    }
   ],
   "metadata": {}
  }
 ]
}