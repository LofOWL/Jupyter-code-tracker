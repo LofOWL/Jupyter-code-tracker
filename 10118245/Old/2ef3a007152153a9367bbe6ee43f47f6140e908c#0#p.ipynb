{
 "metadata": {
  "notebookname": "Fibonacci (suite)",
  "signature": "sha256:f075623fc7cc39f37e17e4409f6a4831b0e213459d562f66e67c9bf350fd76a9",
  "version": "2.0"
 },
 "nbformat": 3,
 "nbformat_minor": 0,
 "worksheets": [
  {
   "cells": [
    {
     "cell_type": "heading",
     "level": 1,
     "metadata": {},
     "source": [
      "La suite de Fibonacci (suite)"
     ]
    },
    {
     "cell_type": "heading",
     "level": 2,
     "metadata": {},
     "source": [
      "Compl\u00e9ment - niveau interm\u00e9diaire"
     ]
    },
    {
     "cell_type": "markdown",
     "metadata": {},
     "source": [
      "Nous reprenons le cas de la fonction `fibonacci` que nous avons vue d\u00e9j\u00e0, mais cette fois nous voulons que l'utilisateur puisse entrer l'entier en entr\u00e9e de l'algorithme, non plus en r\u00e9pondant une question, mais sur la ligne de commande, c'est-\u00e0-dire en tapant\n",
      "\n",
      "    $ python fibonacci.py 12"
     ]
    },
    {
     "cell_type": "markdown",
     "metadata": {},
     "source": [
      "**Avertissement** \n",
      "Attention cette version-ci **ne fonctionne pas dans ce notebook** sous IPython, justement car on n'a pas de moyen dans un notebook d'invoquer un programme en lui passant des arguments de cette fa\u00e7on. Ce notebook est r\u00e9dig\u00e9 pour vous permettre de vous entra\u00eener avec la fonction de t\u00e9l\u00e9chargement au format python, qu'on a vu dans la vid\u00e9o, et de faire tourner ce programme sur votre propre ordinateur."
     ]
    },
    {
     "cell_type": "markdown",
     "metadata": {},
     "source": [
      "Cette fois nous importons le module `argparse` qui va nous permettre d'interpr\u00e9ter les arguments pass\u00e9s \u00e0 la ligne de commande"
     ]
    },
    {
     "cell_type": "code",
     "collapsed": false,
     "input": [
      "from argparse import ArgumentParser"
     ],
     "language": "python",
     "metadata": {},
     "outputs": []
    },
    {
     "cell_type": "markdown",
     "metadata": {},
     "source": [
      "Puis nous r\u00e9p\u00e9tons la fonction `fibonacci`"
     ]
    },
    {
     "cell_type": "code",
     "collapsed": false,
     "input": [
      "def fibonacci(n):\n",
      "    \"retourne le nombre de fibonacci pour l'entier n\"\n",
      "    # pour les petites valeurs de n il n'y a rien a calculer\n",
      "    if n <= 1: \n",
      "        return 1\n",
      "    # sinon on initialise f1 pour n-1 et f2 pour n-2\n",
      "    f2, f1 = 1, 1\n",
      "    # et on it\u00e8re n-1 fois pour additionner\n",
      "    for i in range(2, n + 1):\n",
      "        f2, f1 = f1, f1 + f2\n",
      "#        print i, f2, f1\n",
      "    # le r\u00e9sultat est dans f1\n",
      "    return f1"
     ],
     "language": "python",
     "metadata": {},
     "outputs": []
    },
    {
     "cell_type": "markdown",
     "metadata": {},
     "source": [
      "*Remarque* Certains d'entre vous auront \u00e9videmment remarqu\u00e9 qu'on aurait pu \u00e9viter de copier-coller la fonction `fibonacci` comme cela; c'est \u00e0 \u00e7a que servent les modules mais nous n'en sommes pas l\u00e0."
     ]
    },
    {
     "cell_type": "markdown",
     "metadata": {},
     "source": [
      "\u00c0 pr\u00e9sent nous utilisons le module `argparse` pour lui dire qu'on attend exactement un argument sur la ligne de commande, qui doit \u00eatre un entier. Ici encore ne vous inqui\u00e9tez pas si vous ne comprenez pas tout le code, l'objectif est de vous donner un morceau de code utilisable tout de suite pour jouer avec les notebooks."
     ]
    },
    {
     "cell_type": "code",
     "collapsed": false,
     "input": [
      "parser = ArgumentParser()\n",
      "parser.add_argument(dest=\"entier\", type=int, \n",
      "                    help=\"entier d'entree\")\n",
      "input_args = parser.parse_args()\n",
      "entier = input_args.entier"
     ],
     "language": "python",
     "metadata": {},
     "outputs": []
    },
    {
     "cell_type": "markdown",
     "metadata": {},
     "source": [
      "Nous pouvons \u00e0 pr\u00e9sent afficher le r\u00e9sultat"
     ]
    },
    {
     "cell_type": "code",
     "collapsed": false,
     "input": [
      "print \"fibonacci({}) = {}\".format(entier, fibonacci(entier))"
     ],
     "language": "python",
     "metadata": {},
     "outputs": []
    },
    {
     "cell_type": "markdown",
     "metadata": {},
     "source": [
      "Vous pouvez donc \u00e0 pr\u00e9sent\n",
      " * t\u00e9l\u00e9charger ce code sur votre disque comme un fichier `fibonacci.py` en utilisant le menu *\"File -> Download as -> python\"*\n",
      " * l'ex\u00e9cuter avec simplement python comme ceci\n",
      " \n",
      "     `$ python fibonacci.py 56` "
     ]
    }
   ],
   "metadata": {}
  }
 ]
}