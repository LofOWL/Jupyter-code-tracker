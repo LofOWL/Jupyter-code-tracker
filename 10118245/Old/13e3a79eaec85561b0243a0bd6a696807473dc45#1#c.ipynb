{
 "metadata": {
  "notebookname": "exercice: if et def",
  "signature": "06716d069fef234a373b349adb5eff4b8496523a4eb9f7ec3db51f37a74899cc",
  "version": "1.0"
 },
 "nbformat": 3,
 "nbformat_minor": 0,
 "worksheets": [
  {
   "cells": [
    {
     "cell_type": "heading",
     "level": 1,
     "metadata": {},
     "source": [
      "Instruction conditionnelle `if` et fonction `def`"
     ]
    },
    {
     "cell_type": "heading",
     "level": 2,
     "metadata": {},
     "source": [
      "Exercices - niveau basique"
     ]
    },
    {
     "cell_type": "heading",
     "level": 3,
     "metadata": {},
     "source": [
      "Fonction de divisibilit\u00e9"
     ]
    },
    {
     "cell_type": "markdown",
     "metadata": {},
     "source": [
      "L'exercice consiste \u00e0 \u00e9crire une fonction baptis\u00e9e `divisible` qui retourne une valeur bool\u00e9enne qui indique si un des deux arguments est divisible par l'autre."
     ]
    },
    {
     "cell_type": "code",
     "collapsed": false,
     "input": [
      "def divisible (a,b):\n",
      "    <votre\n",
      "    ...\n",
      "    code>"
     ],
     "language": "python",
     "metadata": {},
     "outputs": []
    },
    {
     "cell_type": "markdown",
     "metadata": {},
     "source": [
      "Vous pouvez \u00e0 pr\u00e9sent tester votre code en \u00e9valuant ceci, qui \u00e9crira un message d'erreur si un des jeux de test ne donne pas le r\u00e9sultat attendu. Vous avez d'ailleurs \u00e0 pr\u00e9sent toutes les comp\u00e9tences pour comprendre ce code si le coaur vous en dit"
     ]
    },
    {
     "cell_type": "code",
     "collapsed": false,
     "input": [
      "# correction\n",
      "import corrections.w2_if\n",
      "corrections.w2_if.correction_divisible(divisible)"
     ],
     "language": "python",
     "metadata": {},
     "outputs": []
    },
    {
     "cell_type": "markdown",
     "metadata": {},
     "source": [
      "**Remarque.** Vu comme le probl\u00e8me est pos\u00e9 il est assez naturel d'utiliser un `if` pour \u00e9crire 'divisible'. Vous remarquerez toutefois qu'un `if` n'est pas strictement indispensable, et nous vous invitons \u00e0 exhiber une version sans `if` qui est .. plus pythonique"
     ]
    }
   ],
   "metadata": {}
  }
 ]
}