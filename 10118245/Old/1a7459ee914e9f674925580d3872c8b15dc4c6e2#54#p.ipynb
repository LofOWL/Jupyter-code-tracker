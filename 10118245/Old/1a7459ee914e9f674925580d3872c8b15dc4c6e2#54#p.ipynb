{
 "metadata": {
  "notebookname": "le module collections",
  "signature": "b0a031dcd6c5665859dbd7529fe9776d9ce286ed1304450bff19fd7bd74e727b",
  "version": "1.0"
 },
 "nbformat": 3,
 "nbformat_minor": 0,
 "worksheets": [
  {
   "cells": [
    {
     "cell_type": "heading",
     "level": 1,
     "metadata": {},
     "source": [
      "Le module `collections`"
     ]
    },
    {
     "cell_type": "heading",
     "level": 2,
     "metadata": {},
     "source": [
      "Compl\u00e9ment - niveau interm\u00e9diaire"
     ]
    },
    {
     "cell_type": "markdown",
     "metadata": {},
     "source": [
      "Maintenant que nous avons termin\u00e9 le tour des types de base fournis par le langage, vous pourrez trouver dans [le module `collections`](https://docs.python.org/2/library/collections.html) quelques types \u00e9tendus, qui fournissent des extensions souvent commodes des types de base. Nous allons en voir quelques exemples."
     ]
    },
    {
     "cell_type": "heading",
     "level": 3,
     "metadata": {},
     "source": [
      "[`OrderedDict`](https://docs.python.org/2/library/collections.html#collections.OrderedDict) : un dictionnaire avec m\u00e9moire"
     ]
    },
    {
     "cell_type": "markdown",
     "metadata": {},
     "source": [
      "Nous avons vu que le dictionnaire n'est pas une structure ordonn\u00e9e"
     ]
    },
    {
     "cell_type": "code",
     "collapsed": false,
     "input": [
      "cluedo = {}\n",
      "cluedo['olive'] = 'green'\n",
      "cluedo['moutarde'] = 'mustard'\n",
      "cluedo['rose'] = 'scarlett'\n",
      "cluedo['pervenche'] = 'peacock'\n",
      "for cle, valeur in cluedo.items():\n",
      "    print cle,valeur"
     ],
     "language": "python",
     "metadata": {},
     "outputs": []
    },
    {
     "cell_type": "markdown",
     "metadata": {},
     "source": [
      "Avec le type `OrderedDict`, on peut conserver l'ordre dans lequel les cl\u00e9s sont entr\u00e9es:"
     ]
    },
    {
     "cell_type": "code",
     "collapsed": false,
     "input": [
      "from collections import OrderedDict\n",
      "\n",
      "cluedo = OrderedDict()\n",
      "cluedo['olive'] = 'green'\n",
      "cluedo['moutarde'] = 'mustard'\n",
      "cluedo['rose'] = 'scarlett'\n",
      "cluedo['pervenche'] = 'peacock'\n",
      "for cle, valeur in cluedo.items():\n",
      "    print cle,valeur"
     ],
     "language": "python",
     "metadata": {},
     "outputs": []
    },
    {
     "cell_type": "heading",
     "level": 3,
     "metadata": {},
     "source": [
      "[`defaultdict`](https://docs.python.org/2/library/collections.html#defaultdict-objects) : un dictionnaire avec initialisation automatique"
     ]
    },
    {
     "cell_type": "markdown",
     "metadata": {},
     "source": [
      "`defaultdict` est une sp\u00e9cialisation du type dictionnaire. Par opposition avec le type `dict` standard, lorsqu'on fait r\u00e9f\u00e9rence \u00e0 une cl\u00e9 manquante, un m\u00e9canisme de `factory` entre en jeu pour initialiser la valeur associ\u00e9e \u00e0 la cl\u00e9.\n",
      "\n",
      "Par exemple, supposons qu'on ait besoin de g\u00e9rer un dictionnaire dont les valeurs sont des listes. "
     ]
    },
    {
     "cell_type": "code",
     "collapsed": false,
     "input": [
      "# on dispose d'enregistrements comme par exemple\n",
      "enregistrements = [('a', 10), ('b', 20), ('a', 30), ('b', 40)]\n",
      "\n",
      "# on veut construire un dictionnaire qui \n",
      "# avec ces entr\u00e9es ressemblerait \u00e0\n",
      "# { 'a' : [10, 30], 'b' : [20, 40]}"
     ],
     "language": "python",
     "metadata": {},
     "outputs": []
    },
    {
     "cell_type": "markdown",
     "metadata": {},
     "source": [
      "Avec le type `dict` standard, il faut se livrer \u00e0 une petite gymnastique du genre de:"
     ]
    },
    {
     "cell_type": "code",
     "collapsed": false,
     "input": [
      "cumul = {}\n",
      "for cle,valeur in enregistrements:\n",
      "    if cle not in cumul:\n",
      "        cumul[cle] = []\n",
      "    cumul[cle].append(valeur)\n",
      "print cumul"
     ],
     "language": "python",
     "metadata": {},
     "outputs": []
    },
    {
     "cell_type": "markdown",
     "metadata": {},
     "source": [
      "Ou encore, un peu mieux, toujours avec `dict` mais en utilisant `setdefault`:"
     ]
    },
    {
     "cell_type": "code",
     "collapsed": false,
     "input": [
      "cumul = {}\n",
      "for cle, valeur in enregistrements:\n",
      "    cumul.setdefault(cle,[]).append(valeur)\n",
      "print cumul"
     ],
     "language": "python",
     "metadata": {},
     "outputs": []
    },
    {
     "cell_type": "markdown",
     "metadata": {},
     "source": [
      "*****"
     ]
    },
    {
     "cell_type": "markdown",
     "metadata": {},
     "source": [
      "Avec `defaultdict` on peut pr\u00e9ciser comment les valeurs doivent \u00eatre initialis\u00e9es, le code est plus lisible:"
     ]
    },
    {
     "cell_type": "code",
     "collapsed": false,
     "input": [
      "from collections import defaultdict\n",
      "\n",
      "# la valeur par d\u00e9faut est une liste vide\n",
      "cumul = defaultdict(list)\n",
      "for cle, valeur in enregistrements:\n",
      "    cumul[cle].append(valeur)\n",
      "print cumul"
     ],
     "language": "python",
     "metadata": {},
     "outputs": []
    },
    {
     "cell_type": "heading",
     "level": 2,
     "metadata": {},
     "source": [
      "Compl\u00e9ment - niveau avanc\u00e9"
     ]
    },
    {
     "cell_type": "heading",
     "level": 3,
     "metadata": {},
     "source": [
      "Autres types"
     ]
    },
    {
     "cell_type": "markdown",
     "metadata": {},
     "source": [
      "R\u00e9f\u00e9rez-vous \u00e0 la section sur le [module `collections`](https://docs.python.org/2/library/collections.html) dans la documentation standard pour davantage de d\u00e9tails sur les autres types offerts par ce module, comme\n",
      " * [`Counter`](https://docs.python.org/2/library/collections.html#collections.Counter)\n",
      "une autre sp\u00e9cialisation du type `dict`, dont les valeurs sont des entiers, sp\u00e9cialis\u00e9e pour compter des occurrences;\n",
      " * [deque](https://docs.python.org/2/library/collections.html#collections.deque) une sp\u00e9cialisation du type `list` optimis\u00e9e pour ajouter/enlever des \u00e9l\u00e9ments aux deux extr\u00e9mit\u00e9s de la liste;\n",
      " * [namedtuple](https://docs.python.org/2/library/collections.html#collections.namedtuple) ici il ne s'agit pas d'un type \u00e0 proprement parler, mais d'une fonction qui permet de cr\u00e9er des types. "
     ]
    }
   ],
   "metadata": {}
  }
 ]
}