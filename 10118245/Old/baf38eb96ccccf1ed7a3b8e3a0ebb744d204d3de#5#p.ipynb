{
 "metadata": {
  "notebookname": "Exercice sur les ensembles",
  "signature": "sha256:fa38b8ed71877075fd34144dfce5d0d52407975571a38c105e31ef1a93355270",
  "version": "1.0"
 },
 "nbformat": 3,
 "nbformat_minor": 0,
 "worksheets": [
  {
   "cells": [
    {
     "cell_type": "heading",
     "level": 1,
     "metadata": {},
     "source": [
      "Exercice sur les ensembles"
     ]
    },
    {
     "cell_type": "heading",
     "level": 2,
     "metadata": {},
     "source": [
      "Exercice - niveau interm\u00e9diaire"
     ]
    },
    {
     "cell_type": "heading",
     "level": 3,
     "metadata": {},
     "source": [
      "Chargement des donn\u00e9es"
     ]
    },
    {
     "cell_type": "markdown",
     "metadata": {},
     "source": [
      "Nous reprenons le m\u00eame genre de donn\u00e9es marines en provenance de MarineTraffic que nous avons vues dans l'exercice pr\u00e9c\u00e9dent."
     ]
    },
    {
     "cell_type": "code",
     "collapsed": false,
     "input": [
      "# load data from files\n",
      "import json\n",
      "\n",
      "with open(\"data/marine-e2-ext.json\") as feed:\n",
      "    extended = json.load(feed)\n",
      "    \n",
      "with open(\"data/marine-e2-abb.json\") as feed:\n",
      "    abbreviated = json.load(feed)"
     ],
     "language": "python",
     "metadata": {},
     "outputs": [
      {
       "ename": "IOError",
       "evalue": "[Errno 2] No such file or directory: 'data/marine-e2-ext.json'",
       "output_type": "pyerr",
       "traceback": [
        "\u001b[1;31m---------------------------------------------------------------------------\u001b[0m\n\u001b[1;31mIOError\u001b[0m                                   Traceback (most recent call last)",
        "\u001b[1;32m<ipython-input-1-6ea4c2cad394>\u001b[0m in \u001b[0;36m<module>\u001b[1;34m()\u001b[0m\n\u001b[0;32m      2\u001b[0m \u001b[1;32mimport\u001b[0m \u001b[0mjson\u001b[0m\u001b[1;33m\u001b[0m\u001b[0m\n\u001b[0;32m      3\u001b[0m \u001b[1;33m\u001b[0m\u001b[0m\n\u001b[1;32m----> 4\u001b[1;33m \u001b[1;32mwith\u001b[0m \u001b[0mopen\u001b[0m\u001b[1;33m(\u001b[0m\u001b[1;34m\"data/marine-e2-ext.json\"\u001b[0m\u001b[1;33m)\u001b[0m \u001b[1;32mas\u001b[0m \u001b[0mfeed\u001b[0m\u001b[1;33m:\u001b[0m\u001b[1;33m\u001b[0m\u001b[0m\n\u001b[0m\u001b[0;32m      5\u001b[0m     \u001b[0mextended\u001b[0m \u001b[1;33m=\u001b[0m \u001b[0mjson\u001b[0m\u001b[1;33m.\u001b[0m\u001b[0mload\u001b[0m\u001b[1;33m(\u001b[0m\u001b[0mfeed\u001b[0m\u001b[1;33m)\u001b[0m\u001b[1;33m\u001b[0m\u001b[0m\n\u001b[0;32m      6\u001b[0m \u001b[1;33m\u001b[0m\u001b[0m\n",
        "\u001b[1;31mIOError\u001b[0m: [Errno 2] No such file or directory: 'data/marine-e2-ext.json'"
       ]
      }
     ],
     "prompt_number": 1
    },
    {
     "cell_type": "heading",
     "level": 3,
     "metadata": {},
     "source": [
      "Rappels sur les formats"
     ]
    },
    {
     "cell_type": "markdown",
     "metadata": {},
     "source": [
      "    \u00e9tendu: [id, latitude, longitude, date_heure, nom_bateau, code_pays...]\n",
      "    abr\u00e9g\u00e9: [id, latitude, longitude, date_heure]"
     ]
    },
    {
     "cell_type": "code",
     "collapsed": false,
     "input": [
      "print \"extended has {} entries\".format(len(extended))\n",
      "print extended[12]"
     ],
     "language": "python",
     "metadata": {},
     "outputs": []
    },
    {
     "cell_type": "code",
     "collapsed": false,
     "input": [
      "print \"abbreviated has {} entries\".format(len(abbreviated))\n",
      "print abbreviated[0]"
     ],
     "language": "python",
     "metadata": {},
     "outputs": []
    },
    {
     "cell_type": "heading",
     "level": 3,
     "metadata": {},
     "source": [
      "But de l'exercice"
     ]
    },
    {
     "cell_type": "markdown",
     "metadata": {},
     "source": [
      "Sauf que cette fois il n'y a plus correspondance entre les bateaux rapport\u00e9s dans les donn\u00e9es \u00e9tendues et abr\u00e9g\u00e9es. On vous demande d'\u00e9crire une fonction qui retourne un tuple \u00e0 trois \u00e9l\u00e9ments\n",
      " * l'ensemble des noms des bateaux pr\u00e9sents dans `extended` mais pas dans abbreviated\n",
      " * l'ensemble des noms des bateaux pr\u00e9sents dans `extended` et dans abbreviated\n",
      " * l'ensemble des `id` des bateaux pr\u00e9sents dans `abbreviated`\n",
      " mais pas dans `extended`"
     ]
    },
    {
     "cell_type": "code",
     "collapsed": false,
     "input": [
      "# le r\u00e9sultat attendu\n",
      "from corrections.w3_marine_set import resultat_diff\n",
      "result = resultat_diff(extended, abbreviated)\n",
      "\n",
      "# combien de bateaux sont concern\u00e9s\n",
      "def show_result(result):\n",
      "    extended_only, both, abbreviated_only = result\n",
      "    print 'dans extended mais pas dans abbreviated', len(extended_only)\n",
      "    print 'dans les deux', len(both)\n",
      "    print 'dans abbreviated mais pas dans extended', len(abbreviated_only)\n",
      "\n",
      "show_result(result)"
     ],
     "language": "python",
     "metadata": {},
     "outputs": []
    },
    {
     "cell_type": "heading",
     "level": 3,
     "metadata": {},
     "source": [
      "Votre code"
     ]
    },
    {
     "cell_type": "code",
     "collapsed": false,
     "input": [
      "def diff(extended, abbreviated):\n",
      "    \"<votre_code>\""
     ],
     "language": "python",
     "metadata": {},
     "outputs": []
    },
    {
     "cell_type": "heading",
     "level": 3,
     "metadata": {},
     "source": [
      "Validation"
     ]
    },
    {
     "cell_type": "code",
     "collapsed": false,
     "input": [
      "from corrections.w3_marine_set import correction_diff\n",
      "correction_diff(diff, extended, abbreviated)"
     ],
     "language": "python",
     "metadata": {},
     "outputs": []
    },
    {
     "cell_type": "heading",
     "level": 3,
     "metadata": {},
     "source": [
      "Debugging\n"
     ]
    },
    {
     "cell_type": "code",
     "collapsed": false,
     "input": [
      "# pour utiliser ceci il faut que votre fonction renvoie un 3-tuple\n",
      "my_result = diff(extended, abbreviated)\n",
      "show_result(my_result)"
     ],
     "language": "python",
     "metadata": {},
     "outputs": []
    }
   ],
   "metadata": {}
  }
 ]
}