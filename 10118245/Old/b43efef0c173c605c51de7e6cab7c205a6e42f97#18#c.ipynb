{
 "metadata": {
  "notebookname": "if .. else if .. else ..",
  "signature": "sha256:6305809dfcba2aee7860db7aef4be2f670e6e6b48ba225d05f2b09047f7c8784",
  "version": "1.0"
 },
 "nbformat": 3,
 "nbformat_minor": 0,
 "worksheets": [
  {
   "cells": [
    {
     "cell_type": "heading",
     "level": 1,
     "metadata": {},
     "source": [
      "if .. else if .. else .."
     ]
    },
    {
     "cell_type": "heading",
     "level": 2,
     "metadata": {},
     "source": [
      "Compl\u00e9ment - niveau basique"
     ]
    },
    {
     "cell_type": "markdown",
     "metadata": {},
     "source": [
      "Pour \u00eatre tout \u00e0 fait exhaustif sur l'instruction conditionnelle, signalons qu'elle permet d'impl\u00e9menter simplement des branchements \u00e0 plusieurs choix, comme dans cet exemple:"
     ]
    },
    {
     "cell_type": "code",
     "collapsed": false,
     "input": [
      "entree = 'bag'\n",
      "if 'a' not in entree:\n",
      "    print 'sans a'\n",
      "elif 'b' not in entree:\n",
      "    print 'sans b'\n",
      "elif 'c' in entree:\n",
      "    print 'avec c'\n",
      "else:\n",
      "    print 'avec a, avec b, et sans c'"
     ],
     "language": "python",
     "metadata": {},
     "outputs": []
    },
    {
     "cell_type": "markdown",
     "metadata": {},
     "source": [
      "Comme on s'en doute, les expressions conditionnelles sont \u00e9valu\u00e9es jusqu'\u00e0 obtenir un r\u00e9sultat vrai, et le bloc correspondant est alors ex\u00e9cut\u00e9, puis on sort de l'expression conditionnelle sans \u00e9valuer les autres conditions. "
     ]
    },
    {
     "cell_type": "heading",
     "level": 2,
     "metadata": {},
     "source": [
      "Compl\u00e9ment - niveau interm\u00e9diaire"
     ]
    },
    {
     "cell_type": "heading",
     "level": 3,
     "metadata": {},
     "source": [
      "\u00c9valuation des conditions"
     ]
    },
    {
     "cell_type": "markdown",
     "metadata": {},
     "source": [
      "Il est important de bien assimiler ce que cela signifie de dire dans la phrase ci-dessus que \"les expressions conditionnelles sont \u00e9valu\u00e9es\". Cela signifie effectivement que si le premier test est vrai, on ne cherche pas du tout \u00e0 savoir ce que donnerait le second. \n",
      "\n",
      "Ceci n'a en g\u00e9n\u00e9ral pas grande importance, sauf dans le cas o\u00f9 l'\u00e9valuation des ces expressions bool\u00e9ennes donne lieu \u00e0 des **effets de bord**. Pour illustrer ce point, nous revenons sur la m\u00e9thode `pop()` qui, on le rappelle, renvoie un \u00e9l\u00e9ment de liste apr\u00e8s l'avoir effac\u00e9 de la liste. "
     ]
    },
    {
     "cell_type": "code",
     "collapsed": false,
     "input": [
      "# rappel sur la m\u00e9thode pop\n",
      "liste = ['premier', 'deuxieme', 'troisieme']\n",
      "print \"liste\", liste\n",
      "\n",
      "# pop(0) renvoie le premier element de la liste, et raccourcit la liste\n",
      "element = liste.pop(0)\n",
      "print \"apr\u00e8s pop(0):\", \"\u00e9l\u00e9ment=\", element,\"liste=\", liste"
     ],
     "language": "python",
     "metadata": {},
     "outputs": []
    },
    {
     "cell_type": "code",
     "collapsed": false,
     "input": [
      "# et ainsi de suite\n",
      "print \"liste\", liste\n",
      "element = liste.pop(0)\n",
      "print \"apr\u00e8s pop(0):\", \"\u00e9l\u00e9ment=\", element, \"liste=\", liste"
     ],
     "language": "python",
     "metadata": {},
     "outputs": []
    },
    {
     "cell_type": "markdown",
     "metadata": {},
     "source": [
      "Une fois ce rappel fait, nous consid\u00e9rons \u00e0 pr\u00e9sent l'exemple suivant:"
     ]
    },
    {
     "cell_type": "code",
     "collapsed": false,
     "input": [
      "liste = range(5)\n",
      "print 'liste en entree:', liste, 'de taille', len(liste)\n",
      "if liste.pop(0) <= 0:\n",
      "    print 'cas 1'\n",
      "elif liste.pop(0) <= 1:\n",
      "    print 'cas 2'\n",
      "elif liste.pop(0) <= 2:\n",
      "    print 'cas 3'\n",
      "else:\n",
      "    print 'cas 4'\n",
      "print 'liste en sortie de taille', len(liste)"
     ],
     "language": "python",
     "metadata": {},
     "outputs": []
    },
    {
     "cell_type": "markdown",
     "metadata": {},
     "source": [
      "Avec cette entr\u00e9e, le premier test est positif (car `pop(0)` renvoie 0), aussi on n'ex\u00e9cute en tout `pop()` qu'une seule fois, et donc \u00e0 la sortie la liste n'a \u00e9t\u00e9 raccourcie que d'un \u00e9l\u00e9ment.\n",
      "\n",
      "Ex\u00e9cutons \u00e0 pr\u00e9sent le m\u00eame code avec une entr\u00e9e diff\u00e9rente (vivement les fonctions !)"
     ]
    },
    {
     "cell_type": "code",
     "collapsed": false,
     "input": [
      "liste = range(5,10)\n",
      "print 'liste en entree:', liste, 'de taille', len(liste)\n",
      "if liste.pop(0) <= 0:\n",
      "    print 'cas 1'\n",
      "elif liste.pop(0) <= 1:\n",
      "    print 'cas 2'\n",
      "elif liste.pop(0) <= 2:\n",
      "    print 'cas 3'\n",
      "else:\n",
      "    print 'cas 4'\n",
      "print 'liste en sortie de taille', len(liste)"
     ],
     "language": "python",
     "metadata": {},
     "outputs": []
    },
    {
     "cell_type": "markdown",
     "metadata": {},
     "source": [
      "On observe que cette fois la liste a \u00e9t\u00e9 raccourcie 3 fois, car les trois tests se sont r\u00e9v\u00e9l\u00e9s n\u00e9gatifs."
     ]
    },
    {
     "cell_type": "heading",
     "level": 3,
     "metadata": {},
     "source": [
      "\u00c9valuation paresseuse"
     ]
    },
    {
     "cell_type": "markdown",
     "metadata": {},
     "source": [
      "Ce comportement est d'ailleurs \u00e0 mettre en rapport avec ce qui se passe en g\u00e9n\u00e9ral dans l'\u00e9valuation d'une expression bool\u00e9enne, mais en dehors du contexte d'un `if`\n",
      "\n",
      "Voyons un exemple tr\u00e8s voisin de ce qui pr\u00e9c\u00e8de"
     ]
    },
    {
     "cell_type": "code",
     "collapsed": false,
     "input": [
      "liste = range(5)\n",
      "print 'liste en entree de taille', len(liste)\n",
      "\n",
      "print liste.pop(0) <= 0 or liste.pop(0) <= 1 or liste.pop(0) <= 2\n",
      "print 'liste en sortie de taille', len(liste)"
     ],
     "language": "python",
     "metadata": {},
     "outputs": []
    },
    {
     "cell_type": "markdown",
     "metadata": {},
     "source": [
      "On voit ici que pour \u00e9valuer l'expression "
     ]
    },
    {
     "cell_type": "raw",
     "metadata": {},
     "source": [
      "liste.pop(0) <= 0 or liste.pop(0) <= 1 or liste.pop(0) <= 2"
     ]
    },
    {
     "cell_type": "markdown",
     "metadata": {},
     "source": [
      "on a commenc\u00e9 par \u00e9valuer le premier terme, qui s'est av\u00e9r\u00e9 vrai, il n'\u00e9tait pas n\u00e9cessaire d'\u00e9valuer les autres termes, on ne l'a donc pas fait du tout, c'est pourquoi la liste en sortie n'a \u00e9t\u00e9 raccourcie que d'un \u00e9l\u00e9ment."
     ]
    },
    {
     "cell_type": "markdown",
     "metadata": {},
     "source": [
      "Ce comportement est connu sous le nom d'\u00e9valuation paresseuse, en ce sens que seules les \u00e9valuations strictement n\u00e9cessaires \u00e0 l'obtention du r\u00e9sultat sont r\u00e9alis\u00e9es. En python, les instructions `and` et `or` font de l'\u00e9valuation paresseuse. Regardons un exemple avec `and` maintenant"
     ]
    },
    {
     "cell_type": "code",
     "collapsed": false,
     "input": [
      "liste = range(1)\n",
      "print 'liste en entree de taille', len(liste)\n",
      "\n",
      "print False and liste.pop(0) <= 1 and liste.pop(0) <= 2\n",
      "print 'liste en sortie de taille', len(liste)"
     ],
     "language": "python",
     "metadata": {},
     "outputs": [
      {
       "output_type": "stream",
       "stream": "stdout",
       "text": [
        "liste en entree de taille 1\n",
        "False\n",
        "liste en sortie de taille 1\n"
       ]
      }
     ],
     "prompt_number": 4
    },
    {
     "cell_type": "markdown",
     "metadata": {},
     "source": [
      "Comme un seul `False` est suffisant pour que toute l'expression soit fausse, les `list.pop(0)` ne sont pas \u00e9valu\u00e9s. "
     ]
    }
   ],
   "metadata": {}
  }
 ]
}