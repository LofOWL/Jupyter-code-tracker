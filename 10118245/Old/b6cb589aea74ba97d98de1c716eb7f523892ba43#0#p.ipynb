{
 "metadata": {
  "notebookname": "exercice: if et def",
  "signature": "d9694fa5e4aaa950eb6acb16b802e38b60d97aaa0bb380a0bbad1d481a4ef838",
  "version": "1.0"
 },
 "nbformat": 3,
 "nbformat_minor": 0,
 "worksheets": [
  {
   "cells": [
    {
     "cell_type": "heading",
     "level": 1,
     "metadata": {},
     "source": [
      "Instruction conditionnelle `if` et fonction `def`"
     ]
    },
    {
     "cell_type": "heading",
     "level": 2,
     "metadata": {},
     "source": [
      "Exercices - niveau basique"
     ]
    },
    {
     "cell_type": "code",
     "collapsed": false,
     "input": [
      "# pour la correction\n",
      "import corrections.w2_if"
     ],
     "language": "python",
     "metadata": {},
     "outputs": []
    },
    {
     "cell_type": "heading",
     "level": 3,
     "metadata": {},
     "source": [
      "Fonction de divisibilit\u00e9"
     ]
    },
    {
     "cell_type": "markdown",
     "metadata": {},
     "source": [
      "L'exercice consiste \u00e0 \u00e9crire une fonction baptis\u00e9e `divisible` qui retourne une valeur bool\u00e9enne qui indique si un des deux arguments est divisible par l'autre."
     ]
    },
    {
     "cell_type": "code",
     "collapsed": false,
     "input": [
      "def divisible(a, b):\n",
      "    \"<votre_code>\""
     ],
     "language": "python",
     "metadata": {},
     "outputs": []
    },
    {
     "cell_type": "markdown",
     "metadata": {},
     "source": [
      "Vous pouvez \u00e0 pr\u00e9sent tester votre code en \u00e9valuant ceci, qui \u00e9crira un message d'erreur si un des jeux de test ne donne pas le r\u00e9sultat attendu. Vous avez d'ailleurs \u00e0 pr\u00e9sent toutes les comp\u00e9tences pour comprendre ce code si vous le souhaitez."
     ]
    },
    {
     "cell_type": "code",
     "collapsed": false,
     "input": [
      "# tester votre code\n",
      "corrections.w2_if.correction_divisible(divisible)"
     ],
     "language": "python",
     "metadata": {},
     "outputs": []
    },
    {
     "cell_type": "markdown",
     "metadata": {},
     "source": [
      "**Remarque.** Vu comme le probl\u00e8me est pos\u00e9, il est assez naturel d'utiliser un `if` pour \u00e9crire 'divisible'. Vous remarquerez toutefois qu'un `if` n'est pas strictement indispensable, et nous vous invitons \u00e0 exhiber une version sans `if` qui est plus pythonique."
     ]
    },
    {
     "cell_type": "heading",
     "level": 3,
     "metadata": {},
     "source": [
      "Manipulation de liste"
     ]
    },
    {
     "cell_type": "code",
     "collapsed": false,
     "input": [
      "# pour la correction\n",
      "import corrections.w2_if"
     ],
     "language": "python",
     "metadata": {},
     "outputs": []
    },
    {
     "cell_type": "markdown",
     "metadata": {},
     "source": [
      "Cet exercice consiste \u00e0 \u00e9crire une fonction `spam`, qui prend en argument une liste, et qui retourne la liste modifi\u00e9e comme suit:\n",
      " * si la liste est de taille paire, on intervertit les deux premiers \u00e9l\u00e9ments de la liste,\n",
      " * si elle est de taille impaire, on lui retire son dernier \u00e9l\u00e9ment."
     ]
    },
    {
     "cell_type": "code",
     "collapsed": false,
     "input": [
      "# voici quelques exemples de ce qui est attendu\n",
      "corrections.w2_if.exemple_spam()"
     ],
     "language": "python",
     "metadata": {},
     "outputs": []
    },
    {
     "cell_type": "code",
     "collapsed": false,
     "input": [
      "# ecrivez votre code \n",
      "def spam(liste):\n",
      "    \"<votre_code>\""
     ],
     "language": "python",
     "metadata": {},
     "outputs": []
    },
    {
     "cell_type": "code",
     "collapsed": false,
     "input": [
      "# pour le v\u00e9rifier, \u00e9valuez cette cellule\n",
      "corrections.w2_if.correction_spam(spam)"
     ],
     "language": "python",
     "metadata": {},
     "outputs": []
    }
   ],
   "metadata": {}
  }
 ]
}