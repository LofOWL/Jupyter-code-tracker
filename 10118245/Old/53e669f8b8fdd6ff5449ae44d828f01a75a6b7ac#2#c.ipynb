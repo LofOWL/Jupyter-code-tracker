{
 "metadata": {
  "notebookname": "Surcharge op\u00e9rateurs (1)",
  "signature": "sha256:e720fbeadd0223dbb823e6469fba46468cf1e80c323940608eee73b9f1937ff1",
  "version": "1.0"
 },
 "nbformat": 3,
 "nbformat_minor": 0,
 "worksheets": [
  {
   "cells": [
    {
     "cell_type": "heading",
     "level": 1,
     "metadata": {},
     "source": [
      "Surcharge d'op\u00e9rateurs (1)"
     ]
    },
    {
     "cell_type": "heading",
     "level": 2,
     "metadata": {},
     "source": [
      "Compl\u00e9ment - niveau interm\u00e9diaire"
     ]
    },
    {
     "cell_type": "markdown",
     "metadata": {},
     "source": [
      "Ce compl\u00e9ment vise \u00e0 illustrer certaines des possibilit\u00e9s de surcharge d'op\u00e9rateurs. Comme annonc\u00e9 dans la vid\u00e9o, il existe un total de pr\u00e8s de 80 m\u00e9thodes dans ce syst\u00e8me de surcharges, aussi il n'est pas question ici d'\u00eatre exhaustif. Vous trouverez [dans ce document une liste compl\u00e8te de ces possibilit\u00e9s](http://docs.python.org/2/reference/datamodel.html#special-method-names).\n",
      "\n",
      "Il nous faut \u00e9galement signaler que les m\u00e9canismes mis en jeu ici sont **de difficult\u00e9s assez variables**. Dans le cas le plus simple il suffit de d\u00e9finir une m\u00e9thode sur la classe pour obtenir le r\u00e9sultat (par exemple, d\u00e9finir `__call__` pour rendre un objet callable). Mais parfois on parle d'un ensemble de m\u00e9thodes qui doivent \u00eatre coh\u00e9rentes, voyez par exemple les [descriptors](https://docs.python.org/2/reference/datamodel.html#invoking-descriptors) qui mettent en jeu les m\u00e9thodes `__get__`, `__set__` et `__delete__`, et qui sont particuli\u00e8rement cryptiques. \n",
      "\n",
      "Nous vous conseillons de commencer par des choses simples, et surtout de n'utiliser ces techniques que lorsqu'elles apportent vraiment quelque chose. Le constructeur et l'affichage sont pratiquement toujours d\u00e9finis, mais pour tout le reste il convient d'utiliser ces traits avec le plus grand discernement. Dans tous les cas \u00e9crivez votre code avec la documentation sous les yeux, c'est plus prudent :)"
     ]
    },
    {
     "cell_type": "markdown",
     "metadata": {},
     "source": [
      "Nous avons essay\u00e9 de pr\u00e9senter cette s\u00e9lection par difficult\u00e9 croissante. \n",
      "Par ailleurs, et pour all\u00e9ger la pr\u00e9sentation, cet expos\u00e9 a \u00e9t\u00e9 coup\u00e9 en deux notebooks diff\u00e9rents."
     ]
    },
    {
     "cell_type": "markdown",
     "metadata": {},
     "source": [
      "*****"
     ]
    },
    {
     "cell_type": "heading",
     "level": 3,
     "metadata": {},
     "source": [
      "Rappels (1)"
     ]
    },
    {
     "cell_type": "markdown",
     "metadata": {},
     "source": [
      "Pour rappel, on a vu dans la vid\u00e9o&nbsp;:\n",
      " * la m\u00e9thode `__init__` pour d\u00e9finir un **constructeur**, \n",
      " * et la m\u00e9thode `__str__` pour d\u00e9finir comment une instance s'imprime avec `print`."
     ]
    },
    {
     "cell_type": "heading",
     "level": 3,
     "metadata": {},
     "source": [
      "Affichage : `__repr__` et `__str__`"
     ]
    },
    {
     "cell_type": "markdown",
     "metadata": {},
     "source": [
      "Nous commen\u00e7ons par signaler la m\u00e9thode `__repr__` qui est assez voisine de `__str__`, et qui donc doit retourner un objet de type cha\u00eene de caract\u00e8res, sauf que&nbsp;:\n",
      " * `__str__` est utilis\u00e9 par `print` (affichage orient\u00e9 utilisateur du programme; priorit\u00e9 au confort visuel),\n",
      " * alors que `__repr__` est utilis\u00e9e par la fonction `repr()` (affichage orient\u00e9 programmeur, aussi peu ambig\u00fc que possible);\n",
      " * il faut savoir que `__repr__` est utilis\u00e9 **aussi** par `print` si `__str__` n'est pas d\u00e9fini.\n",
      "\n",
      "Pour cette seconde raison, on trouve dans la nature `__repr__` plut\u00f4t plus souvent que `__str__`; voyez [ce lien](https://docs.python.org/2/reference/datamodel.html#object.__repr__) pour davantage de d\u00e9tails. "
     ]
    },
    {
     "cell_type": "heading",
     "level": 5,
     "metadata": {},
     "source": [
      "Quand est utilis\u00e9e `repr()`"
     ]
    },
    {
     "cell_type": "markdown",
     "metadata": {},
     "source": [
      "`repr()` est utilis\u00e9e massivement dans les informations de debugging comme les traces de pile lorsqu'une exception est lev\u00e9e. Elle est aussi utilis\u00e9e lorsque vous affichez un objet sans passer par `print`, c'est-\u00e0-dire par exemple&nbsp;: "
     ]
    },
    {
     "cell_type": "code",
     "collapsed": false,
     "input": [
      "class Foo: pass\n",
      "foo = Foo()\n",
      "# lorsque vous affichez un objet comme ceci\n",
      "foo\n",
      "# en fait vous utilisez repr()"
     ],
     "language": "python",
     "metadata": {},
     "outputs": []
    },
    {
     "cell_type": "heading",
     "level": 5,
     "metadata": {},
     "source": [
      "Deux exemples"
     ]
    },
    {
     "cell_type": "markdown",
     "metadata": {},
     "source": [
      "Voici deux exemples simples de classes; dans le premier on on n'a d\u00e9fini que `__repr__`, dans le second on a red\u00e9fini les deux m\u00e9thodes&nbsp;:"
     ]
    },
    {
     "cell_type": "code",
     "collapsed": false,
     "input": [
      "# une classe qui ne d\u00e9finit que __repr__\n",
      "class Point (object):\n",
      "    \"premi\u00e8re version de Point - on ne d\u00e9finit que __repr__\"\n",
      "    def __init__(self, x, y):\n",
      "        self.x = x\n",
      "        self.y = y\n",
      "    def __repr__(self):\n",
      "        return \"Point({x},{y})\".format(**vars(self))\n",
      "    \n",
      "point = Point (0,100)\n",
      "\n",
      "print \"avec print\", point\n",
      "\n",
      "# si vous affichez un objet sans passer par print\n",
      "# vous utilisez repr()\n",
      "point\n"
     ],
     "language": "python",
     "metadata": {},
     "outputs": []
    },
    {
     "cell_type": "code",
     "collapsed": false,
     "input": [
      "# la m\u00eame chose mais o\u00f9 on red\u00e9finit __str__ et __repr__\n",
      "class Point2 (object):\n",
      "    \"seconde version de Point - on d\u00e9finit __repr__ et __str__\"\n",
      "    def __init__(self, x, y):\n",
      "        self.x = x\n",
      "        self.y = y\n",
      "    def __repr__(self):\n",
      "        return \"Point2({x},{y})\".format(**vars(self))\n",
      "    def __str__(self):\n",
      "        return \"({x},{y})\".format(**vars(self))\n",
      "    \n",
      "point2 = Point2 (0,100)\n",
      "\n",
      "print \"avec print\", point2\n",
      "\n",
      "# format utilise aussi __str__\n",
      "print \"avec format {}\".format(point2)\n",
      "\n",
      "# si vous affichez un objet sans passer par print\n",
      "# vous utilisez repr()\n",
      "point2"
     ],
     "language": "python",
     "metadata": {},
     "outputs": []
    },
    {
     "cell_type": "markdown",
     "metadata": {},
     "source": [
      "*****"
     ]
    },
    {
     "cell_type": "heading",
     "level": 3,
     "metadata": {},
     "source": [
      "`__nonzero__`"
     ]
    },
    {
     "cell_type": "markdown",
     "metadata": {},
     "source": [
      "Vous vous souvenez que la condition d'un test dans un `if` peut ne pas retourner un bool\u00e9en (nous avons vu cela en Semaine 2, S\u00e9quence \"Introduction aux tests if/else\"). Nous avions not\u00e9 que pour les types pr\u00e9d\u00e9finis, sont consid\u00e9r\u00e9s comme *faux* `None`, la liste vide, un tuple vide, etc...\n",
      "\n",
      "Avec `__nonzero__` on peut red\u00e9finir le comportement des objets d'une classe vis-\u00e0-vis des conditions. \n",
      "\n",
      "**Attention** pour \u00e9viter les comportements impr\u00e9vus, comme on est en train de red\u00e9finir le comportement des conditions, il **faut** renvoyer un **bool\u00e9en** (ou \u00e0 la rigueur 0 ou 1), on ne peut pas dans ce contexte retourner d'autres types d'objet.\n",
      "\n",
      "Nous allons illustrer cette m\u00e9thode dans un petit moment."
     ]
    },
    {
     "cell_type": "heading",
     "level": 3,
     "metadata": {},
     "source": [
      "`__mul__` et apparent\u00e9s (`__add__`, `__sub__`, `__div__`, `__and__`, etc..)"
     ]
    },
    {
     "cell_type": "markdown",
     "metadata": {},
     "source": [
      "On peut \u00e9galement red\u00e9finir les op\u00e9rateurs arithm\u00e9tiques et logiques. Dans l'exemple qui suit nous allons l'illustrer sur la multiplication de matrices. Pour m\u00e9moire&nbsp;:\n",
      "\n",
      "$ \\left( \\begin{array}{cc} a_{11} & a_{12} \\\\\n",
      "a_{21} & a_{22}\\end{array} \\right) \n",
      "\\times\n",
      "\\left( \\begin{array}{cc} b_{11} & b_{12} \\\\\n",
      "b_{21} & b_{22}\\end{array} \\right) \n",
      "= \n",
      "\\left( \\begin{array}{cc} a_{11}b_{11}+a_{12}b_{21} & a_{11}b_{12}+a_{12}b_{22} \\\\\n",
      "a_{21}b_{11}+a_{22}b_{21} & a_{21}b_{12}+a_{22}b_{22}\\end{array} \\right) $"
     ]
    },
    {
     "cell_type": "markdown",
     "metadata": {},
     "source": [
      "Voici un exemple sur notre classe de matrices 2x2. Bien que ce ne soit pas le sujet, cette impl\u00e9mentation illustre aussi la possibilit\u00e9 de construire la matrice \u00e0 partir&nbsp;:\n",
      " * soit des 4 coefficients \n",
      " * soit d'une s\u00e9quence des 4 coeffcients"
     ]
    },
    {
     "cell_type": "code",
     "collapsed": false,
     "input": [
      "# notre classe Matrix2 avec encore une autre impl\u00e9mentation\n",
      "class Matrix2 (object):\n",
      "    def __init__(self, *args):\n",
      "        # on veut pouvoir cr\u00e9er l'objet \u00e0 partir des 4 coefficients\n",
      "        if len(args) == 4:\n",
      "            self.coefs = tuple(args)\n",
      "        # ou bien d'une s\u00e9quence de 4 coefficients\n",
      "        elif len(args) == 1:\n",
      "            self.coefs = tuple(*args)\n",
      "    def __repr__(self):\n",
      "        return \"[\" + \", \".join([\"{}\".format(c) for c in self.coefs]) + \"]\"\n",
      "    def __mul__(self, m1):\n",
      "        self.coefs[0],self.coefs[1],self.coefs[2],self.coefs[3] = \\\n",
      "            self.coefs[0]*m.coefs[]\n",
      "            xxx\n",
      "    def __nonzero__(self):\n",
      "        # on consid\u00e8re que la matrice est non nulle \n",
      "        # si un au moins de ses coefficients est non nul\n",
      "        # ATTENTION le retour doit \u00eatre un bool\u00e9en ou \u00e0 la rigueur 0 ou 1\n",
      "        # cette version-ci n'est pas correcte !\n",
      "        # return [coef for coef in self.coefs if coef != 0.]\n",
      "        return len([coef for coef in self.coefs if coef != 0.])!=0"
     ],
     "language": "python",
     "metadata": {},
     "outputs": []
    },
    {
     "cell_type": "markdown",
     "metadata": {},
     "source": [
      "On peut \u00e0 pr\u00e9sent cr\u00e9er deux objets et v\u00e9rifier que la matrice nulle se comporte bien comme attendu&nbsp;:"
     ]
    },
    {
     "cell_type": "code",
     "collapsed": false,
     "input": [
      "matrice = Matrix2 (1,2,3,4)\n",
      "zero    = Matrix2 ([0,0,0,0])\n",
      "\n",
      "if matrice: \n",
      "    print matrice,\"n'est pas nulle\"\n",
      "if not zero: \n",
      "    print zero,\"est nul\"\n"
     ],
     "language": "python",
     "metadata": {},
     "outputs": []
    },
    {
     "cell_type": "heading",
     "level": 3,
     "metadata": {},
     "source": [
      "Rappels (2) : `__iter__`"
     ]
    },
    {
     "cell_type": "markdown",
     "metadata": {},
     "source": [
      "Nous avons vu en semaine 3, derni\u00e8re s\u00e9quence \"Les boucles `for` et les it\u00e9rateurs\", qu'un objet peut \u00eatre utilis\u00e9 par le langage comme un ***it\u00e9rable*** s'il poss\u00e8de une m\u00e9thode `__iter__` qui renvoie un it\u00e9rateur. On rappelle qu'un it\u00e9rable peut notamment \u00eatre l'objet d'une boucle `for`, mais aussi dans les fonctions comme `zip` ou `map`."
     ]
    },
    {
     "cell_type": "heading",
     "level": 3,
     "metadata": {},
     "source": [
      "`__call__`"
     ]
    },
    {
     "cell_type": "markdown",
     "metadata": {},
     "source": [
      "Le langage introduit \u00e9galement la notion de ***callable*** - litt\u00e9ralement, qui peut \u00eatre appel\u00e9.\n",
      "L'id\u00e9e est tr\u00e8s simple, on cherche \u00e0 donner un sens \u00e0 un fragment de code du genre de&nbsp;:"
     ]
    },
    {
     "cell_type": "raw",
     "metadata": {},
     "source": [
      "# on cr\u00e9e une instance\n",
      "objet = Classe (arguments)\n",
      "# et on l'utilise comme une fonction\n",
      "objet (arg1, arg2)"
     ]
    },
    {
     "cell_type": "markdown",
     "metadata": {},
     "source": [
      "Le protocole ici est tr\u00e8s simple; cette derni\u00e8re ligne a un sens en python d\u00e8s lors que&nbsp;:\n",
      " * `objet` poss\u00e8de une m\u00e9thode `__call__`,\n",
      " * et que celle-ci peut \u00eatre appel\u00e9e sur `objet` avec les arguments `arg1, arg2`, pour nous donner le r\u00e9sultat associ\u00e9 \u00e0 `objet (arg1, arg2)`."
     ]
    },
    {
     "cell_type": "markdown",
     "metadata": {},
     "source": [
      "Voyons cela sur un exemple&nbsp;:"
     ]
    },
    {
     "cell_type": "code",
     "collapsed": false,
     "input": [
      "class PlusClosure (object):\n",
      "    \"\"\"Une classe callable qui permet de faire un peu comme la \n",
      "    fonction built-in sum mais avec en ajoutant une valeur initiale\"\"\"\n",
      "    def __init__ (self, initial):\n",
      "        self.initial = initial\n",
      "    def __call__ (self, *args):\n",
      "        return self.initial+sum(args)\n",
      "    \n",
      "# on cr\u00e9e une instance avec une valeur initiale 2 pour la somme\n",
      "plus2 = PlusClosure (2)\n",
      "\n",
      "# on peut maintenant utiliser cet objet \n",
      "# comme une fonction qui fait sum(*arg)+2\n",
      "\n",
      "print '[] ->', plus2()\n",
      "\n",
      "print '1 ->', plus2(1)\n",
      "\n",
      "print '1,2 ->', plus2(1,2)"
     ],
     "language": "python",
     "metadata": {},
     "outputs": []
    },
    {
     "cell_type": "markdown",
     "metadata": {},
     "source": [
      "Pour ceux qui connaissent, nous avons choisi \u00e0 dessein un exemple qui s'apparente \u00e0 [une cl\u00f4ture](http://en.wikipedia.org/wiki/Closure_%28computer_programming%29). Nous reviendrons sur cette notion de *callable* lorsque nous verrons les d\u00e9corateurs en semaine 7. "
     ]
    },
    {
     "cell_type": "markdown",
     "metadata": {},
     "source": [
      "***"
     ]
    },
    {
     "cell_type": "heading",
     "level": 3,
     "metadata": {},
     "source": [
      "`__contains__`"
     ]
    },
    {
     "cell_type": "code",
     "collapsed": false,
     "input": [
      "class DualQueue (object):\n",
      "    \"\"\"Une double file d'attente FIFO\"\"\"\n",
      "    def __init__(self):\n",
      "        self.inputs = []\n",
      "        self.outputs = []\n",
      "    def __repr__ (self):\n",
      "        return \"<DualQueue, inputs={inputs}, outputs={outputs}>\".format(**vars(self))\n",
      "    def add_input(self, item):\n",
      "        self.inputs.insert(0,item)\n",
      "    def emit_output (self):\n",
      "        return self.outputs.pop()\n",
      "    def move_input_to_output (self):\n",
      "        self.outputs.insert(0,self.inputs.pop())\n",
      "    def __contains__(self, item):\n",
      "        # __contains__ doit retourner un bool\u00e9en qui indique\n",
      "        # si item est dans la queue\n",
      "        return item in self.inputs or item in self.outputs"
     ],
     "language": "python",
     "metadata": {},
     "outputs": []
    },
    {
     "cell_type": "code",
     "collapsed": false,
     "input": [
      "q = DualQueue ()\n",
      "q.add_input ('foo')\n",
      "q.move_input_to_output()\n",
      "q.add_input ('bar')\n",
      "print q\n",
      "print \"foo appartient-il ?\", 'foo' in q\n",
      "print \"None appartient-il ?\", None in q"
     ],
     "language": "python",
     "metadata": {},
     "outputs": []
    },
    {
     "cell_type": "heading",
     "level": 3,
     "metadata": {},
     "source": [
      "`__getitem__` et apparent\u00e9s"
     ]
    },
    {
     "cell_type": "heading",
     "level": 3,
     "metadata": {},
     "source": [
      "`__getattr__` et apparent\u00e9s"
     ]
    },
    {
     "cell_type": "heading",
     "level": 3,
     "metadata": {},
     "source": [
      "op\u00e9rations arithm\u00e9tiques"
     ]
    }
   ],
   "metadata": {}
  }
 ]
}