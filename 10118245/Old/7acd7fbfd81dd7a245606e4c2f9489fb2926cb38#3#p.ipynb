{
 "metadata": {
  "notebookname": "type-checking",
  "signature": "sha256:7bfa043829858e01f99849237d6d4a19c476013b11935603af2d64588012ce07",
  "version": "1.0"
 },
 "nbformat": 3,
 "nbformat_minor": 0,
 "worksheets": [
  {
   "cells": [
    {
     "cell_type": "heading",
     "level": 1,
     "metadata": {},
     "source": [
      "Langages typ\u00e9s ou non"
     ]
    },
    {
     "cell_type": "heading",
     "level": 1,
     "metadata": {},
     "source": [
      "Typages statique et dynamique"
     ]
    },
    {
     "cell_type": "heading",
     "level": 2,
     "metadata": {},
     "source": [
      "Compl\u00e9ment - niveau interm\u00e9diaire"
     ]
    },
    {
     "cell_type": "markdown",
     "metadata": {},
     "source": [
      "Il est de tradition de distinguer, parmi les langages, ceux qui sont typ\u00e9s ou non. On parle aussi de langage \u00e0 typage statique ou \u00e0 typage dynamique. Ce notebook tente d'\u00e9claircir ces notions pour ceux qui n'y sont pas familiers."
     ]
    },
    {
     "cell_type": "heading",
     "level": 3,
     "metadata": {},
     "source": [
      "Typage statique"
     ]
    },
    {
     "cell_type": "markdown",
     "metadata": {},
     "source": [
      "\u00c0 une extr\u00e9mit\u00e9 du spectre, on trouve les langages dits fortement typ\u00e9s, comme par exemple C/C++. \n",
      "\n",
      "En C on \u00e9crira, par exemple, une version simpliste de la fonction factoriel comme ceci"
     ]
    },
    {
     "cell_type": "markdown",
     "metadata": {},
     "source": [
      "    #include <stdio.h>\n",
      "    \n",
      "    int factoriel (int n) {\n",
      "      int result = 1;\n",
      "      int loop;\n",
      "      for (loop = 1; loop <= n; loop ++) {\n",
      "        result *= loop;\n",
      "      }\n",
      "      return result;\n",
      "    }"
     ]
    },
    {
     "cell_type": "markdown",
     "metadata": {},
     "source": [
      "Comme vous pouvez le voir - ou le deviner - toutes les variables utilis\u00e9es ici (comme par exemple `n`, `result` et `loop`) sont typ\u00e9es.\n",
      " * On doit appeler `factoriel` avec un argument `n` qui doit \u00eatre un entier (`int` est le nom du type entier).\n",
      " * Les variables internes `result` et `loop` sont de type entier.\n",
      " * `factoriel` retourne une valeur de type entier."
     ]
    },
    {
     "cell_type": "markdown",
     "metadata": {},
     "source": [
      "C'est pourquoi on dit que C est fortement typ\u00e9. Ces informations de type ont essentiellement trois fonctions.\n",
      " * En premier lieu, elles sont n\u00e9cessaires au compilateur; en C si le programmeur ne pr\u00e9cisait pas que `result` est de type entier, le compilateur n'aurait pas suffisamment d'\u00e9l\u00e9ments pour g\u00e9n\u00e9rer le code assembleur correspondant.\n",
      " * En contrepartie, le programmeur a un contr\u00f4le tr\u00e8s fin de l'usage qu'il fait de la m\u00e9moire et du hardware. Il peut choisir d'utiliser un entier sur 32 ou 64 bits, sign\u00e9 ou pas, ou construire avec `struct` et `union` un arrangement de ses donn\u00e9es.\n",
      " * Enfin, et surtout, ces informations de type permettent de faire un contr\u00f4le *a priori* de la validit\u00e9 du programme; par exemple si \u00e0 un autre endroit dans le code on trouve"
     ]
    },
    {
     "cell_type": "markdown",
     "metadata": {},
     "source": [
      "    int main (int argc, char *argv[]) {\n",
      "      /* le premier argument de la ligne de commande est argv[1] */\n",
      "      char *input = argv[1];\n",
      "      /* calculer son factoriel et afficher le resultat */\n",
      "      printf (\"Factoriel (%s) = %d\\n\",input,factoriel(input));\n",
      "      /*                                               ^^^                */\n",
      "      /* ici on appelle factoriel avec une entree 'chaine de caractere'   */\n",
      "      return 0;\n",
      "    }"
     ]
    },
    {
     "cell_type": "markdown",
     "metadata": {},
     "source": [
      "alors le compilateur va remarquer qu'on essaie d'appeler `factoriel` avec comme argument `input` qui, pour faire simple, est une cha\u00eene de caract\u00e8res; et comme `factoriel` s'attend \u00e0 recevoir un entier ce programme n'a aucune chance de fonctionner.\n",
      "\n",
      "On parle alors aussi de **typage statique**, en ce sens que chaque variable a exactement un type, qui est d\u00e9fini par le programmeur une bonne fois pour toutes."
     ]
    },
    {
     "cell_type": "markdown",
     "metadata": {},
     "source": [
      "C'est ce qu'on appelle le **contr\u00f4le de type**, ou *type-checking* en anglais. Si on ignore le point sur le contr\u00f4le fin de la m\u00e9moire, qui n'est pas crucial \u00e0 notre sujet, le contr\u00f4le de type pr\u00e9sente \n",
      " * l'**inconv\u00e9nient** de demander davantage au programmeur, \n",
      " * et l'**avantage** de permettre un contr\u00f4le \u00e9tendu, et surtout pr\u00e9coce (avant m\u00eame de l'ex\u00e9cuter) de la bonne correction du programme."
     ]
    },
    {
     "cell_type": "markdown",
     "metadata": {},
     "source": [
      "Cela \u00e9tant dit, le typage statique en C n'emp\u00eache pas le programmeur d\u00e9butant d'essayer d'\u00e9crire dans la m\u00e9moire \u00e0 partir d'un pointeur `NULL` - et le programme de s'interrompre brutalement. Il faut \u00eatre conscient des limites du typage statique."
     ]
    },
    {
     "cell_type": "heading",
     "level": 3,
     "metadata": {},
     "source": [
      "Typage dynamique"
     ]
    },
    {
     "cell_type": "markdown",
     "metadata": {},
     "source": [
      "\u00c0 l'autre bout du spectre, on trouve des langages comme, eh bien, python. "
     ]
    },
    {
     "cell_type": "markdown",
     "metadata": {},
     "source": [
      "Pour comprendre cette notion de typage dynamique, regardons la fonction suivante `somme`:"
     ]
    },
    {
     "cell_type": "code",
     "collapsed": false,
     "input": [
      "def somme(*largs):\n",
      "    \"retourne la somme de tous ses arguments\"\n",
      "    if not largs:\n",
      "        return 0\n",
      "    elif len(largs) == 1:\n",
      "        return largs[0]\n",
      "    else:\n",
      "        result = largs[0] + largs[1]\n",
      "        for i in range(2, len(largs)):\n",
      "            result += largs[i]\n",
      "        return result"
     ],
     "language": "python",
     "metadata": {},
     "outputs": []
    },
    {
     "cell_type": "markdown",
     "metadata": {},
     "source": [
      "Naturellement vous n'\u00eates pas \u00e0 ce stade en mesure de comprendre le fonctionnement intime de la fonction. Mais vous pouvez tout de m\u00eame l'utiliser."
     ]
    },
    {
     "cell_type": "code",
     "collapsed": false,
     "input": [
      "somme(12, 14, 300)"
     ],
     "language": "python",
     "metadata": {},
     "outputs": []
    },
    {
     "cell_type": "code",
     "collapsed": false,
     "input": [
      "l1 = ['a', 'b', 'c']\n",
      "l2 = [0, 20, 30]\n",
      "l3 = ['spam', 'eggs']\n",
      "somme(l1, l2, l3)"
     ],
     "language": "python",
     "metadata": {},
     "outputs": []
    },
    {
     "cell_type": "markdown",
     "metadata": {},
     "source": [
      "Vous pouvez donc constater que `somme` peut fonctionner avec des objets de types diff\u00e9rents. En fait, telle qu'elle est \u00e9crite, elle va fonctionner si il est possible de faire `+` entre ses arguments. Ainsi par exemple on pourrait m\u00eame faire"
     ]
    },
    {
     "cell_type": "code",
     "collapsed": false,
     "input": [
      "somme('abc', 'def')"
     ],
     "language": "python",
     "metadata": {},
     "outputs": []
    },
    {
     "cell_type": "markdown",
     "metadata": {},
     "source": [
      "Mais par contre on ne pourrait pas faire"
     ]
    },
    {
     "cell_type": "code",
     "collapsed": false,
     "input": [
      "# ceci va d\u00e9clencher une exception \u00e0 run-time\n",
      "somme(12, [1, 2, 3]) "
     ],
     "language": "python",
     "metadata": {},
     "outputs": []
    },
    {
     "cell_type": "markdown",
     "metadata": {},
     "source": [
      "On voit qu'on se trouve dans une situation tr\u00e8s diff\u00e9rente de celle du programmeur C++ en ce sens que\n",
      " * \u00e0 l'\u00e9criture du programme il n'y aucun des surco\u00fbts qu'on trouve avec C ou C++ en terme de d\u00e9finition de type,\n",
      " * aucun contr\u00f4le de type n'est effecu\u00e9 *a priori* par le langage au moment de la d\u00e9finition de la fonction `somme`,\n",
      " * par contre au moment de l'\u00e9x\u00e9cution, si on retrouve en situation de faire une somme entre deux types qui ne peuvent pas \u00eatre additionn\u00e9s, comme ci-dessus avec un entier et une liste, le programme ne pourra pas se d\u00e9rouler correctement."
     ]
    },
    {
     "cell_type": "markdown",
     "metadata": {},
     "source": [
      "Il y a deux points de vue vis \u00e0 vis de la question du typage. \n",
      "\n",
      "Les gens habitu\u00e9s au typage statique se plaignent du typage dynamique en disant qu'on peut \u00e9crire des programmes faux et qu'on s'en rend compte trop tard - \u00e0 l'ex\u00e9cution, en insistant sur les parties qui traitent des cas particuliers, qui sont moins fr\u00e9quemment utilis\u00e9es, et qui donc n\u00e9cessitent des tests plus approfondis pour s'assurer que la couverture des tests est compl\u00e8te.\n",
      "\n",
      "\u00c0 l'inverse les gens habitu\u00e9s au typage dynamique font valoir que le typage statique est tr\u00e8s partiel; par exemple en C si on essaie d'\u00e9crire au bout d'un pointeur nul, l'OS ne le permet pas et le programme sort tout aussi brutalement. "
     ]
    },
    {
     "cell_type": "markdown",
     "metadata": {},
     "source": [
      "Selon le point de vue le typage dynamique est v\u00e9cu comme un inconv\u00e9nient (pas assez de bonnes propri\u00e9t\u00e9s d\u00e9tect\u00e9es par le langage) ou comme un avantage (pas besoin de passer du temps \u00e0 d\u00e9clarer le type des variables, ni \u00e0 faire des conversions pour satisfaire le compilateur)."
     ]
    },
    {
     "cell_type": "heading",
     "level": 3,
     "metadata": {},
     "source": [
      "Inf\u00e9rence de type"
     ]
    },
    {
     "cell_type": "markdown",
     "metadata": {},
     "source": [
      "Une approche, qu'on peut qualifier d'hybride entre ces deux approches, est connue sous le nom d'inf\u00e9rence de type, et a \u00e9t\u00e9 mise en \u0153uvre notamment dans le langage ML. L'id\u00e9e est de laisser au langage le soin de d\u00e9terminer le - ou les - type(s) qui sont permis \u00e0 un endroit du code en fonction du contexte.\n",
      "\n",
      "Pour ceux que ce sujet int\u00e9resse, sachez qu'il existe un projet baptis\u00e9 [`mypy`](http://www.mypy-lang.org) qui vise \u00e0 creuser cette voie pour python. \n",
      "\n",
      "Guido van Rossum a expos\u00e9 [son avis sur cette proposition](https://mail.python.org/pipermail/python-ideas/2014-August/028618.html); il semble qu'on puisse s'attendre dans le futur (mais dans le cadre de python-3) \u00e0 avoir la possibilit\u00e9 (optionnelle) d'annoter le code d'une fonction avec des informations de type. On pourrait alors par exemple utiliser un outil comme `mypy` pour calculer de telles annotations."
     ]
    }
   ],
   "metadata": {}
  }
 ]
}