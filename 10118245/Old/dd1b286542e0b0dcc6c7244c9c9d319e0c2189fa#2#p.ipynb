{
 "metadata": {
  "name": "",
  "signature": "sha256:b75e6b32c364a269999c95f79c59e39673a9d3f92eefa61a97a31f8832fae578"
 },
 "nbformat": 3,
 "nbformat_minor": 0,
 "worksheets": [
  {
   "cells": [
    {
     "cell_type": "heading",
     "level": 1,
     "metadata": {},
     "source": [
      "Exercice : estimer le plus petit flottant"
     ]
    },
    {
     "cell_type": "markdown",
     "metadata": {},
     "source": [
      "En corollaire de la discussion sur la pr\u00e9cision des flottants, il faut savoir que le syst\u00e8me de codage en m\u00e9moire impose aussi une limite. Les r\u00e9els tr\u00e8s petits, ou tr\u00e8s grands, ne peuvent plus \u00eatre repr\u00e9sent\u00e9s de cette mani\u00e8re.\n",
      "\n",
      "C'est notamment tr\u00e8s g\u00eanant si vous impl\u00e9mentez un logiciel probabiliste, comme des graphes de markov, o\u00f9 les probabilit\u00e9s d'occurrence de s\u00e9quences tr\u00e8s longues tendent tr\u00e8s rapidement vers des valeurs extr\u00eamement petites."
     ]
    },
    {
     "cell_type": "markdown",
     "metadata": {},
     "source": [
      "Pour vous aider, voici deux valeurs:"
     ]
    },
    {
     "cell_type": "code",
     "collapsed": false,
     "input": [
      "10 ** -320"
     ],
     "language": "python",
     "metadata": {},
     "outputs": []
    },
    {
     "cell_type": "code",
     "collapsed": false,
     "input": [
      "10 ** -330"
     ],
     "language": "python",
     "metadata": {},
     "outputs": []
    },
    {
     "cell_type": "markdown",
     "metadata": {},
     "source": [
      "Comme on le voit, $10^{-320}$ est correctement imprim\u00e9, alors que $10^{-330}$ est de mani\u00e8re erron\u00e9e rapport\u00e9 comme \u00e9tant nul."
     ]
    },
    {
     "cell_type": "markdown",
     "metadata": {},
     "source": [
      "Il vous est demand\u00e9 ici d'estimer un peu plus pr\u00e9cis\u00e9ment la plus petite valeur qu'il est possible d'encoder dans un flottant. Pour cela, \u00e0 ce stade du cours, proc\u00e9dez simplement par approximations successives."
     ]
    },
    {
     "cell_type": "code",
     "collapsed": false,
     "input": [
      "10 ** -325"
     ],
     "language": "python",
     "metadata": {},
     "outputs": []
    },
    {
     "cell_type": "markdown",
     "metadata": {},
     "source": [
      "Voici quelques cellule de code vides; vous pouvez en cr\u00e9er autant de cellules que n\u00e9cessaire, le plus simple \u00e9tant de taper `Alt+Enter`, ou d'utiliser le menu _\"Insert -> Insert Cell Below\"_"
     ]
    },
    {
     "cell_type": "code",
     "collapsed": false,
     "input": [],
     "language": "python",
     "metadata": {},
     "outputs": []
    },
    {
     "cell_type": "code",
     "collapsed": false,
     "input": [],
     "language": "python",
     "metadata": {},
     "outputs": []
    },
    {
     "cell_type": "code",
     "collapsed": false,
     "input": [],
     "language": "python",
     "metadata": {},
     "outputs": []
    },
    {
     "cell_type": "code",
     "collapsed": false,
     "input": [],
     "language": "python",
     "metadata": {},
     "outputs": []
    },
    {
     "cell_type": "heading",
     "level": 1,
     "metadata": {},
     "source": [
      "Exercice : estimer le plus grand flottant"
     ]
    },
    {
     "cell_type": "markdown",
     "metadata": {},
     "source": [
      "La m\u00eame limitation s'applique sur les grands nombres. Toutefois cela est un peu moins \u00e9vident:"
     ]
    },
    {
     "cell_type": "code",
     "collapsed": false,
     "input": [
      "10 ** 300"
     ],
     "language": "python",
     "metadata": {},
     "outputs": []
    },
    {
     "cell_type": "code",
     "collapsed": false,
     "input": [
      "10 ** 310"
     ],
     "language": "python",
     "metadata": {},
     "outputs": []
    },
    {
     "cell_type": "markdown",
     "metadata": {},
     "source": [
      "La limite se situe pourtant bien entre les deux valeurs de $10^{300}$ et $10^{310}$. Pouvez-vous expliquer pourquoi les deux tests ci-dessus fonctionnent 'normalement' ? (Indice : attention aux types)"
     ]
    },
    {
     "cell_type": "markdown",
     "metadata": {},
     "source": [
      "Une fois que vous aurez trouv\u00e9 la r\u00e9ponse, estimez \u00e0 nouveau le plus grand nombre que l'on peut encoder avec un flottant, en utilisant les cellules ci-dessous"
     ]
    },
    {
     "cell_type": "code",
     "collapsed": false,
     "input": [],
     "language": "python",
     "metadata": {},
     "outputs": []
    },
    {
     "cell_type": "code",
     "collapsed": false,
     "input": [],
     "language": "python",
     "metadata": {},
     "outputs": []
    },
    {
     "cell_type": "code",
     "collapsed": false,
     "input": [],
     "language": "python",
     "metadata": {},
     "outputs": []
    },
    {
     "cell_type": "code",
     "collapsed": false,
     "input": [],
     "language": "python",
     "metadata": {},
     "outputs": []
    },
    {
     "cell_type": "heading",
     "level": 1,
     "metadata": {},
     "source": [
      "Notes"
     ]
    },
    {
     "cell_type": "markdown",
     "metadata": {},
     "source": [
      "\u00c0 ce stade du cours, la pr\u00e9cision que vous pourrez obtenir n'est que fonction .. de votre patience; ne d\u00e9passez pas 4 \u00e0 5 it\u00e9rations successives :)"
     ]
    },
    {
     "cell_type": "markdown",
     "metadata": {},
     "source": [
      "Il est par contre pertinent d'utiliser une approche rationnelle pour d\u00e9terminer l'it\u00e9ration suivante (par opposition \u00e0 une approche \"au petit bonheur\"). Pour ceux qui ne connaissent pas nous vous recommandons de vous documenter sur l'algorithme de **dichotomie**."
     ]
    }
   ],
   "metadata": {}
  }
 ]
}
