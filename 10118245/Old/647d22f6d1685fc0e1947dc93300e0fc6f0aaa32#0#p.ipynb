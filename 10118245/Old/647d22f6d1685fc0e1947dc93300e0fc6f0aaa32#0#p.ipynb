{
 "metadata": {
  "notebookname": "Exp. g\u00e9n\u00e9ratrices",
  "signature": "sha256:445276af952d641f203f75372e6c9d46078e5f16948f1ded611fb50cf921ef3c",
  "version": "1.0"
 },
 "nbformat": 3,
 "nbformat_minor": 0,
 "worksheets": [
  {
   "cells": [
    {
     "cell_type": "heading",
     "level": 1,
     "metadata": {},
     "source": [
      "Expressions g\u00e9n\u00e9ratrices"
     ]
    },
    {
     "cell_type": "heading",
     "level": 2,
     "metadata": {},
     "source": [
      "Compl\u00e9ment - niveau basique"
     ]
    },
    {
     "cell_type": "heading",
     "level": 3,
     "metadata": {},
     "source": [
      "Comment transformer une compr\u00e9hension de liste en it\u00e9rateur ?"
     ]
    },
    {
     "cell_type": "markdown",
     "metadata": {},
     "source": [
      "Nous venons de voir les fonctions g\u00e9n\u00e9ratrices qui sont un puissant outil pour cr\u00e9er facilement des it\u00e9rateurs. Nous verrons prochainement comment utiliser ces fonctions g\u00e9n\u00e9ratrices pour tranformer en quelques lignes de code vos propres objets en it\u00e9rateurs. \n",
      "\n",
      "Vous savez maintenant qu'en python on favorise la notion d'it\u00e9rateurs puisqu'ils se manipulent comme des objets it\u00e9rables et qu'ils sont en g\u00e9n\u00e9ral beaucoup plus compacts en m\u00e9moire que l'it\u00e9rable correspondant. \n",
      "\n",
      "Comme les compr\u00e9hensions de listes sont fr\u00e9quement utilis\u00e9es en python, mais qu'elles sont des it\u00e9rables potentiellement gourmands en ressources m\u00e9moire, on souhaiterait pouvoir cr\u00e9er un it\u00e9rateur directement \u00e0 partir d'une compr\u00e9hension de liste. C'est possible et tr\u00e8s facile en python. Il suffit de remplacer les crochets par des parenth\u00e8ses, regardons cela.\n"
     ]
    },
    {
     "cell_type": "code",
     "collapsed": false,
     "input": [
      "# c'est une compr\u00e9hension de liste\n",
      "c = [x**2 for x in xrange(500) if x%17==0] \n",
      "print c"
     ],
     "language": "python",
     "metadata": {},
     "outputs": []
    },
    {
     "cell_type": "code",
     "collapsed": false,
     "input": [
      "# c'est une expression g\u00e9n\u00e9ratrice\n",
      "g = (x**2 for x in xrange(500) if x%17==0) \n",
      "print g"
     ],
     "language": "python",
     "metadata": {},
     "outputs": []
    },
    {
     "cell_type": "markdown",
     "metadata": {},
     "source": [
      "Ensuite pour utiliser une expression g\u00e9n\u00e9ratrice, c'est tr\u00e8s simple, on l'utilise comme n'importe quel it\u00e9rateur."
     ]
    },
    {
     "cell_type": "code",
     "collapsed": false,
     "input": [
      "g is iter(g) # g est bien un it\u00e9rateur"
     ],
     "language": "python",
     "metadata": {},
     "outputs": []
    },
    {
     "cell_type": "code",
     "collapsed": false,
     "input": [
      "# affiche les 30 premiers carr\u00e9s multiples de 17\n",
      "for count, carre in enumerate(g):\n",
      "    print '{}: carr\u00e9 mutiple de 17{}'.format(count+1, carre)"
     ],
     "language": "python",
     "metadata": {},
     "outputs": []
    },
    {
     "cell_type": "markdown",
     "metadata": {},
     "source": [
      "Avec une expression g\u00e9n\u00e9ratrice on n'est plus limit\u00e9 comme avec les compr\u00e9hensions par le nombre d'\u00e9l\u00e9ments"
     ]
    },
    {
     "cell_type": "code",
     "collapsed": false,
     "input": [
      "# trop grand pour une compr\u00e9hension\n",
      "g = (x**2-1 for x in xrange(1000000000) if x%17==0) \n",
      "print g"
     ],
     "language": "python",
     "metadata": {},
     "outputs": []
    },
    {
     "cell_type": "heading",
     "level": 2,
     "metadata": {},
     "source": [
      "Compl\u00e9ment - niveau avanc\u00e9"
     ]
    },
    {
     "cell_type": "markdown",
     "metadata": {},
     "source": [
      "Il est important de comprendre que l'objet expression g\u00e9n\u00e9ratrice se comporte comme une fonction, notamment vis-\u00e0-vis des espaces de nommage et de la port\u00e9e des variables. C'est donc un objet tr\u00e8s diff\u00e9rent des compr\u00e9hensions. Regardons un exemple."
     ]
    },
    {
     "cell_type": "code",
     "collapsed": false,
     "input": [
      "class A:\n",
      "    val = 10\n",
      "    liste = [a + val for a in range(10)]"
     ],
     "language": "python",
     "metadata": {},
     "outputs": []
    },
    {
     "cell_type": "markdown",
     "metadata": {},
     "source": [
      "Il n'y a pas de difficult\u00e9s particuli\u00e8res ici, on peut regarder l'attribut liste de l'objet classe A."
     ]
    },
    {
     "cell_type": "code",
     "collapsed": false,
     "input": [
      "print A.liste"
     ],
     "language": "python",
     "metadata": {},
     "outputs": []
    },
    {
     "cell_type": "markdown",
     "metadata": {},
     "source": [
      "Rempla\u00e7ons maintenant la compr\u00e9hension par une expression g\u00e9n\u00e9ratrice."
     ]
    },
    {
     "cell_type": "code",
     "collapsed": false,
     "input": [
      "class B:\n",
      "    val = 10\n",
      "    liste = (a + val for a in range(10))"
     ],
     "language": "python",
     "metadata": {},
     "outputs": []
    },
    {
     "cell_type": "code",
     "collapsed": false,
     "input": [
      "print B.liste"
     ],
     "language": "python",
     "metadata": {},
     "outputs": []
    },
    {
     "cell_type": "markdown",
     "metadata": {},
     "source": [
      "Cela fonctionne toujours. Que se passe-t-il si l'on transforme maintenant imm\u00e9diatement notre expression g\u00e9n\u00e9tratrice en liste (notons que losrque l'expression g\u00e9n\u00e9ratrice est pass\u00e9e \u00e0 une fonction, on peut omettre les parenth\u00e8ses autour de l'expression). \n"
     ]
    },
    {
     "cell_type": "code",
     "collapsed": false,
     "input": [
      "class C:\n",
      "    val = 10\n",
      "    liste = list(a + val for a in range(10))"
     ],
     "language": "python",
     "metadata": {},
     "outputs": []
    },
    {
     "cell_type": "markdown",
     "metadata": {},
     "source": [
      "On obtient ici une exception qui nous dit que la variable globale `val` n'est pas d\u00e9finie. Quelles sont les diff\u00e9rences entre les classes `A`, `B` et `C` ?\n",
      "Je vous rappelle que l'objet classe est cr\u00e9\u00e9 au moment du chargement du module (ici, au moment de l'\u00e9valuation de la cellule), mais que les objets fonctions (donc les expressions g\u00e9n\u00e9ratrices) ne sont \u00e9valu\u00e9s qu'au moment de l'appel. \n",
      "\n",
      "Dans le cas de la classe `A`, la compr\u00e9hension de liste est \u00e9valu\u00e9e au moment de la cr\u00e9ation de l'objet classe `A`, lorsque l'on arrive sur la compr\u00e9hension, la variable `var` est d\u00e9finie et vaut 10. \n",
      "\n",
      "Dans le cas de la classe `B`, on a remplac\u00e9 la compr\u00e9hension par une expression g\u00e9n\u00e9ratrice. Cela \u00e0 deux impacts : l'expression g\u00e9n\u00e9ratrice ne sera \u00e9valu\u00e9e qu'\u00e0 son premier appel, l'expression g\u00e9n\u00e9tratrice \u00e9tant une foncion, elle ne peut pas acc\u00e9der \u00e0 l'espace de nommage de la classe. Donc, l'objet classe `B` a bien \u00e9t\u00e9 cr\u00e9\u00e9, mais l'appel de la fonction g\u00e9n\u00e9tratrice devrait \u00e9chouer parqu'elle ne peut pas avoir acc\u00e8s \u00e0 l'attribute `var` de la classe. Verifions cela"
     ]
    },
    {
     "cell_type": "code",
     "collapsed": false,
     "input": [
      "B.liste.next()"
     ],
     "language": "python",
     "metadata": {},
     "outputs": []
    },
    {
     "cell_type": "markdown",
     "metadata": {},
     "source": [
      "Effectivement, on obtient bien une exception. Dans le cas de `C`, on a imm\u00e9diatement une exception parce que dans la classe on transforme imm\u00e9diatement la compr\u00e9hension en liste avec le contructeur `list`. C'est donc un appel \u00e0 l'expression g\u00e9n\u00e9ratrice qui force l'evaluation de son code au moment de la cr\u00e9ation de la classe. \n",
      "\n",
      "Mais alors, comment peut-on faire marcher ce code ? On pourrait utiliser `C.val` dans l'expression, regardons cela.\n"
     ]
    },
    {
     "cell_type": "code",
     "collapsed": false,
     "input": [
      "class C:\n",
      "    val = 10\n",
      "    liste = list(a + C.val for a in range(10))"
     ],
     "language": "python",
     "metadata": {},
     "outputs": []
    },
    {
     "cell_type": "markdown",
     "metadata": {},
     "source": [
      "\u00c7a ne fonctionne toujours pas avec une erreur \u00e9trange... Le nom global `C` n'existe pas lorsque l'on fait `C.var`. En y r\u00e9flichissant, c'est tout \u00e0 fait normal. L'objet classe `C` ne sera cr\u00e9\u00e9 qu'\u00e0 la fin de l'\u00e9valuation de son bloc de code, or lorsque l'on appel C.var, on est toujours en cours d'\u00e9valuation du bloc de code de la classe. \n",
      "\n",
      "Comment s'en sortir alors ? Il y a principalement deux possibilit\u00e9s. Soit on utilise la contruction avec une compr\u00e9hension de liste qui, comme on l'a vu avec la classe `A`, fonctionne bien. Soit, on met notre expression g\u00e9n\u00e9ratrice \u00e0 l'int\u00e9rieur d'une fonction que l'on appelera plus tard apr\u00e8s la cr\u00e9ation de l'objet classe. "
     ]
    }
   ],
   "metadata": {}
  }
 ]
}