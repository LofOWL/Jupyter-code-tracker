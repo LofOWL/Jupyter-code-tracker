{
 "metadata": {
  "notebookname": "NO HEADING 1 found",
  "signature": "ec512aa3ab338f440c2116ee2dede310fde72eaf9bf34f530e422a214fbcb4b8",
  "version": "1.0"
 },
 "nbformat": 3,
 "nbformat_minor": 0,
 "worksheets": [
  {
   "cells": [
    {
     "cell_type": "markdown",
     "metadata": {},
     "source": [
      "Je simule un exercice d\u00e9bile, on demande aux \u00e9tudiants d'\u00e9crire une fonction\n",
      "\n",
      "$ curve (a,b) \\Longrightarrow a^2 + 3ab + 12 $"
     ]
    },
    {
     "cell_type": "markdown",
     "metadata": {},
     "source": [
      "L'\u00e9tudiant \u00e9crit son code dans la fonction `curve`, quand il arrive on lui pr\u00e9sente\n",
      "\n",
      "    def curve (a,b):\n",
      "        <...>"
     ]
    },
    {
     "cell_type": "code",
     "collapsed": false,
     "input": [
      "# cette fonction est cass\u00e9e expr\u00e8s ...\n",
      "def curve (a, b):\n",
      "    return a ** 2 + 3 * a * b + 12 if (a+b)%4 != 0 else False"
     ],
     "language": "python",
     "metadata": {},
     "outputs": []
    },
    {
     "cell_type": "markdown",
     "metadata": {},
     "source": [
      "Et voici la cellule pour corriger "
     ]
    },
    {
     "cell_type": "code",
     "collapsed": false,
     "input": [
      "from corrections.w2_sample import correction_curve\n",
      "correction_curve (curve)"
     ],
     "language": "python",
     "metadata": {},
     "outputs": []
    },
    {
     "cell_type": "markdown",
     "metadata": {},
     "source": [
      "Voici enfin comment la correction est \u00e9crite"
     ]
    },
    {
     "cell_type": "code",
     "collapsed": false,
     "input": [
      "from modtools import show_module\n",
      "import corrections.w2_sample\n",
      "show_module(corrections.w2_sample)"
     ],
     "language": "python",
     "metadata": {},
     "outputs": []
    }
   ],
   "metadata": {}
  }
 ]
}