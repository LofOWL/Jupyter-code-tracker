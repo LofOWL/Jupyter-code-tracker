{
 "metadata": {
  "notebookname": "packages",
  "signature": "1cf7b3c953423cb1056556a36c6812dee201ce5ede03863bf0231299703cea08",
  "version": "1.0"
 },
 "nbformat": 3,
 "nbformat_minor": 0,
 "worksheets": [
  {
   "cells": [
    {
     "cell_type": "heading",
     "level": 1,
     "metadata": {},
     "source": [
      "La notion de package"
     ]
    },
    {
     "cell_type": "heading",
     "level": 2,
     "metadata": {},
     "source": [
      "Compl\u00e9ment - niveau basique"
     ]
    },
    {
     "cell_type": "code",
     "collapsed": false,
     "input": [
      "Dans ce compl\u00e9ment nous allons d\u00e9crire la notion de `package`"
     ],
     "language": "python",
     "metadata": {},
     "outputs": []
    }
   ],
   "metadata": {}
  }
 ]
}