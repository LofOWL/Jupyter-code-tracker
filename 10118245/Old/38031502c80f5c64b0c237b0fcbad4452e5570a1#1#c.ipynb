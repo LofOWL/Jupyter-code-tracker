{
 "metadata": {
  "notebookname": "D\u00e9corateurs",
  "signature": "sha256:3c372e7e28f9c1567a5fca0c67b584bab4bd054f9633af973f336bcf3f1c7d27",
  "version": "1.0"
 },
 "nbformat": 3,
 "nbformat_minor": 0,
 "worksheets": [
  {
   "cells": [
    {
     "cell_type": "heading",
     "level": 1,
     "metadata": {},
     "source": [
      "D\u00e9corateurs"
     ]
    },
    {
     "cell_type": "heading",
     "level": 2,
     "metadata": {},
     "source": [
      "Compl\u00e9ment - niveau avanc\u00e9"
     ]
    }
   ],
   "metadata": {}
  }
 ]
}