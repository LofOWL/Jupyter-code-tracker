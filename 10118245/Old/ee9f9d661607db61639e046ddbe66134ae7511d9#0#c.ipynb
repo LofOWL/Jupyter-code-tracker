{
 "metadata": {
  "name": "",
  "signature": "sha256:28f7450fb955948a0fe475a31663c4762852ddb09cc96d5c84e11f026ef4c6d7"
 },
 "nbformat": 3,
 "nbformat_minor": 0,
 "worksheets": [
  {
   "cells": [
    {
     "cell_type": "markdown",
     "metadata": {},
     "source": [
      "Je simule un exercice d\u00e9bile, on demande aux \u00e9tudiants d'\u00e9crire une fonction\n",
      "\n",
      "$ curve (a,b) \\Longrightarrow a^2 + 3ab + 12 $"
     ]
    },
    {
     "cell_type": "markdown",
     "metadata": {},
     "source": [
      "L'\u00e9tudiant \u00e9crit son code dans la fonction `curve`, quand il arrive on lui pr\u00e9sente\n",
      "\n",
      "    def curve (a,b):\n",
      "        <...>"
     ]
    },
    {
     "cell_type": "code",
     "collapsed": false,
     "input": [
      "# cette fonction est cass\u00e9e expr\u00e8s ...\n",
      "def curve (a, b):\n",
      "    return a ** 2 + 3 * a * b + 12 if (a+b)%4 != 0 else False"
     ],
     "language": "python",
     "metadata": {},
     "outputs": [],
     "prompt_number": 1
    },
    {
     "cell_type": "markdown",
     "metadata": {},
     "source": [
      "Et voici la cellule pour corriger "
     ]
    },
    {
     "cell_type": "code",
     "collapsed": false,
     "input": [
      "from exo_sample import correction_curve\n",
      "correction_curve (curve)"
     ],
     "language": "python",
     "metadata": {},
     "outputs": [
      {
       "html": [
        "<table><tr><th>Entr\u00e9e(s)</th><th>Attendu</th><th>Obtenu</th><th></th></tr><tr style='background-color:#66CC66;'><td>(0, 1)</td><td>12</td><td>12</td><td>OK</td><tr style='background-color:#66CC66;'><td>(0, 2)</td><td>12</td><td>12</td><td>OK</td><tr style='background-color:#66CC66;'><td>(0, 3)</td><td>12</td><td>12</td><td>OK</td><tr style='background-color:#CC3300;color:#e8e8e8;'><td>(0, 4)</td><td>12</td><td>False</td><td>KO</td><tr style='background-color:#66CC66;'><td>(1, 2)</td><td>19</td><td>19</td><td>OK</td><tr style='background-color:#CC3300;color:#e8e8e8;'><td>(1, 3)</td><td>22</td><td>False</td><td>KO</td><tr style='background-color:#66CC66;'><td>(1, 4)</td><td>25</td><td>25</td><td>OK</td><tr style='background-color:#66CC66;'><td>(1, 5)</td><td>28</td><td>28</td><td>OK</td></table>"
       ],
       "metadata": {},
       "output_type": "pyout",
       "prompt_number": 2,
       "text": [
        "<IPython.core.display.HTML at 0x10b35ad90>"
       ]
      }
     ],
     "prompt_number": 2
    },
    {
     "cell_type": "markdown",
     "metadata": {},
     "source": [
      "Voici enfin comment la correction est \u00e9crite"
     ]
    },
    {
     "cell_type": "code",
     "collapsed": false,
     "input": [
      "from modtools import show_module\n",
      "import exo_sample\n",
      "show_module(exo_sample)"
     ],
     "language": "python",
     "metadata": {},
     "outputs": [
      {
       "output_type": "stream",
       "stream": "stdout",
       "text": [
        "Fichier /Users/parmentelat/git/flotpython/modules/exo_sample.py\n",
        "----------------------------------------\n",
        "from corrections import correction_as_table\n",
        "\n",
        "# example how to use\n",
        "# \n",
        "def good_curve (a,b):\n",
        "    return a ** 2 + 3 * a * b + 12\n",
        "curve_sets = [ (0,1), (0,2), (0,3), (0,4), (1,2), (1,3), (1,4), (1,5) ]\n",
        "\n",
        "def correction_curve (student_curve):\n",
        "    return correction_as_table (student_curve, good_curve, curve_sets)\n"
       ]
      }
     ],
     "prompt_number": 4
    }
   ],
   "metadata": {}
  }
 ]
}