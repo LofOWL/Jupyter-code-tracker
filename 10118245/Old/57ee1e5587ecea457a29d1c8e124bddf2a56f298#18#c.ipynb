{
 "metadata": {
  "kernelspec": {
   "display_name": "Python 2", 
   "language": "python", 
   "name": "python2"
  }, 
  "name": "", 
  "notebookname": "Op\u00e9rations bitwise", 
  "version": "2.0"
 }, 
 "nbformat": 2, 
 "nbformat_minor": 0, 
 "orig_nbformat": 4, 
 "orig_nbformat_minor": 0, 
 "worksheets": [
  {
   "cells": [
    {
     "cell_type": "markdown", 
     "metadata": {}, 
     "source": [
      "<span style=\"float:left;\">Licence CC BY-NC-ND</span><span style=\"float:right;\">Thierry Parmentelat &amp; Arnaud Legout,<img src=\"media/inria-25.png\" style=\"display:inline\"></span><br/>"
     ]
    }, 
    {
     "cell_type": "markdown", 
     "metadata": {}, 
     "source": [
      "# Op\u00e9rations *bitwise*"
     ]
    }, 
    {
     "cell_type": "markdown", 
     "metadata": {}, 
     "source": [
      "## Compl\u00e9ments - niveau avanc\u00e9 "
     ]
    }, 
    {
     "cell_type": "markdown", 
     "metadata": {}, 
     "source": [
      "Les compl\u00e9ments ci-dessous expliquent des fonctions \u00e9volu\u00e9es sur les entiers; les d\u00e9butants en programmation peuvent sans souci sauter cette partie en cas de difficult\u00e9s."
     ]
    }, 
    {
     "cell_type": "markdown", 
     "metadata": {}, 
     "source": [
      "### Op\u00e9rations logiques : ET `&`, OU `|` et OU exclusif `^`"
     ]
    }, 
    {
     "cell_type": "markdown", 
     "metadata": {}, 
     "source": [
      "Il est possible aussi de faire des op\u00e9rations \"bit-\u00e0-bit\" sur les nombres entiers. ", 
      "Le plus simple est de penser \u00e0 l'\u00e9criture du nombre en base 2", 
      "", 
      "Consid\u00e9rons par exemple deux entiers constants dans cet exercice:"
     ]
    }, 
    {
     "cell_type": "code", 
     "collapsed": false, 
     "input": [
      "x49 = 49", 
      "y81 = 81"
     ], 
     "language": "python", 
     "metadata": {}, 
     "outputs": [], 
     "prompt_number": null
    }, 
    {
     "cell_type": "markdown", 
     "metadata": {}, 
     "source": [
      "Ce qui nous donne comme d\u00e9composition binaire ", 
      "", 
      "$\\begin{array}{rcccccc}", 
      "x49&=&49&=&32 + 16 + 1 &\\rightarrow&(0,1,1,0,0,0,1) \\\\", 
      "y81&=&81&=&64 + 16 + 1 &\\rightarrow&(1,0,1,0,0,0,1)", 
      "\\end{array}", 
      "$"
     ]
    }, 
    {
     "cell_type": "markdown", 
     "metadata": {}, 
     "source": [
      "Pour comprendre comment passer de $32 + 16 + 1$ \u00e0 $(0,1,1,0,0,0,1)$ il suffit d'observer que ", 
      "", 
      "$32 + 16 + 1 = \\textbf{0}*2^6 + ", 
      "\\textbf{1}*2^5 + \\textbf{1}*2^4 + \\textbf{0}*2^3 ", 
      "+ \\textbf{0}*2^2 + \\textbf{0}*2^1 + \\textbf{1}* 2^0$"
     ]
    }, 
    {
     "cell_type": "markdown", 
     "metadata": {}, 
     "source": [
      "##### Et logique : op\u00e9rateur `&`"
     ]
    }, 
    {
     "cell_type": "markdown", 
     "metadata": {}, 
     "source": [
      "L'op\u00e9ration logique `&` va faire un 'et' logique bit \u00e0 bit entre les op\u00e9randes, ainsi"
     ]
    }, 
    {
     "cell_type": "code", 
     "collapsed": false, 
     "input": [
      "x49 & y81"
     ], 
     "language": "python", 
     "metadata": {}, 
     "outputs": [], 
     "prompt_number": null
    }, 
    {
     "cell_type": "markdown", 
     "metadata": {}, 
     "source": [
      "Et en effet", 
      "$\\begin{array}{rcl}", 
      "x49 & \\rightarrow & (0,1,1,0,0,0,1) \\\\", 
      "y81 & \\rightarrow & (1,0,1,0,0,0,1) \\\\", 
      "x49\\ \\&\\ y81 & \\rightarrow & (0,0,1,0,0,0,1) \\rightarrow 17", 
      "\\end{array}$"
     ]
    }, 
    {
     "cell_type": "markdown", 
     "metadata": {}, 
     "source": [
      "##### Ou logique : op\u00e9rateur `|`"
     ]
    }, 
    {
     "cell_type": "markdown", 
     "metadata": {}, 
     "source": [
      "De m\u00eame, l'op\u00e9rateur logique `|` fait simplement un 'ou' logique, comme ceci"
     ]
    }, 
    {
     "cell_type": "code", 
     "collapsed": false, 
     "input": [
      "x49 | y81"
     ], 
     "language": "python", 
     "metadata": {}, 
     "outputs": [], 
     "prompt_number": null
    }, 
    {
     "cell_type": "markdown", 
     "metadata": {}, 
     "source": [
      "On s'y retrouve parce que", 
      "", 
      "$\\begin{array}{rcl}", 
      "x49 & \\rightarrow & (0,1,1,0,0,0,1) \\\\", 
      "y81 & \\rightarrow & (1,0,1,0,0,0,1) \\\\", 
      "x49\\ |\\ y81 & \\rightarrow & (1,1,1,0,0,0,1) \\rightarrow 64+32+16+1 \\rightarrow 113", 
      "\\end{array}$"
     ]
    }, 
    {
     "cell_type": "markdown", 
     "metadata": {}, 
     "source": [
      "##### Ou exclusif : op\u00e9rateur ^"
     ]
    }, 
    {
     "cell_type": "markdown", 
     "metadata": {}, 
     "source": [
      "Enfin on peut \u00e9galement faire la m\u00eame op\u00e9ration \u00e0 base de 'ou exclusif' avec l'op\u00e9rateur '\u02c6'"
     ]
    }, 
    {
     "cell_type": "code", 
     "collapsed": false, 
     "input": [
      "x49 ^ y81"
     ], 
     "language": "python", 
     "metadata": {}, 
     "outputs": [], 
     "prompt_number": null
    }, 
    {
     "cell_type": "markdown", 
     "metadata": {}, 
     "source": [
      "### D\u00e9calages"
     ]
    }, 
    {
     "cell_type": "markdown", 
     "metadata": {}, 
     "source": [
      "Un d\u00e9calage '\u00e0 gauche' de, par exemple, 4 positions, revient \u00e0 d\u00e9caler tout le champ de bits de 4 cases \u00e0 gauche (les 4 nouveaux bits ins\u00e9r\u00e9s sont toujours des 0); c'est donc \u00e9quivalent \u00e0 une multiplication par $2^4=16$"
     ]
    }, 
    {
     "cell_type": "code", 
     "collapsed": false, 
     "input": [
      "x49 << 4"
     ], 
     "language": "python", 
     "metadata": {}, 
     "outputs": [], 
     "prompt_number": null
    }, 
    {
     "cell_type": "markdown", 
     "metadata": {}, 
     "source": [
      "$\\begin{array}{rcl}", 
      "x49 & \\rightarrow & (0,1,1,0,0,0,1) \\\\", 
      "x49 << 4 & \\rightarrow & (0,1,1,0,0,0,1,0,0,0,0) \\rightarrow 512+256+16 \\rightarrow 784 ", 
      "\\end{array}$"
     ]
    }, 
    {
     "cell_type": "markdown", 
     "metadata": {}, 
     "source": [
      "De la m\u00eame fa\u00e7on le d\u00e9calage \u00e0 droite de $n$ revient \u00e0 une", 
      "division par $2^n$ (en fait, plus pr\u00e9cis\u00e9ment, le quotient de la division)"
     ]
    }, 
    {
     "cell_type": "code", 
     "collapsed": false, 
     "input": [
      "x49 >> 4"
     ], 
     "language": "python", 
     "metadata": {}, 
     "outputs": [], 
     "prompt_number": null
    }, 
    {
     "cell_type": "markdown", 
     "metadata": {}, 
     "source": [
      "$\\begin{array}{rcl}", 
      "x49 & \\rightarrow & (0,1,1,0,0,0,1) \\\\", 
      "x49 >> 4 & \\rightarrow & (0,0,0,0,0,1,1) \\rightarrow 2+1 \\rightarrow 3", 
      "\\end{array}$"
     ]
    }, 
    {
     "cell_type": "markdown", 
     "metadata": {}, 
     "source": [
      "### Une astuce"
     ]
    }, 
    {
     "cell_type": "markdown", 
     "metadata": {}, 
     "source": [
      "On peut utiliser la fonction *built-in* `bin` ", 
      "pour calculer la repr\u00e9sentation binaire d'un entier; attention la valeur de retour est une cha\u00eene de caract\u00e8res de type `str`"
     ]
    }, 
    {
     "cell_type": "code", 
     "collapsed": false, 
     "input": [
      "bin(x49)"
     ], 
     "language": "python", 
     "metadata": {}, 
     "outputs": [], 
     "prompt_number": null
    }, 
    {
     "cell_type": "markdown", 
     "metadata": {}, 
     "source": [
      "Dans l'autre sens, on peut aussi entrer un entier directement en base 2 comme ceci; ici comme on le voit $x49bis$ est bien un entier"
     ]
    }, 
    {
     "cell_type": "code", 
     "collapsed": false, 
     "input": [
      "x49bis = 0b110001", 
      "x49bis == x49"
     ], 
     "language": "python", 
     "metadata": {}, 
     "outputs": [], 
     "prompt_number": null
    }, 
    {
     "cell_type": "markdown", 
     "metadata": {}, 
     "source": [
      "### Pour en savoir plus"
     ]
    }, 
    {
     "cell_type": "markdown", 
     "metadata": {}, 
     "source": [
      "[Section de la documentation python](https://docs.python.org/2/library/stdtypes.html#bitwise-operations-on-integer-types)"
     ]
    }
   ], 
   "metadata": {}
  }
 ]
}
