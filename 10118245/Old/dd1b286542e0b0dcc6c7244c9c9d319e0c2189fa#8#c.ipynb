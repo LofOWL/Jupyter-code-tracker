{
 "metadata": {
  "name": "",
  "signature": "sha256:6f227f96c4bd48a1cccd51ea3ca6b376000c960bde1bfa69c5d5aa69f13d0117"
 },
 "nbformat": 3,
 "nbformat_minor": 0,
 "worksheets": [
  {
   "cells": [
    {
     "cell_type": "heading",
     "level": 1,
     "metadata": {},
     "source": [
      "L'op\u00e9rateur $\\texttt{is}$ et la fonction $\\texttt{id}$"
     ]
    },
    {
     "cell_type": "markdown",
     "metadata": {},
     "source": [
      "Python fournit un op\u00e9rateur $\\texttt{is}$ qui permet de savoir si deux valeurs correspondent au m\u00eame objet en m\u00e9moire.\n",
      "\n",
      "Attention, il ne s'agit pas d'un test de comparaison habituel, comme le fait l'op\u00e9rateur $\\texttt{==}$ que nous avons d\u00e9j\u00e0 rencontr\u00e9, mais r\u00e9ellement de savoir si les deux valeurs correspondent \u00e0 la m\u00eame instance. \n",
      "\n",
      "Pour bien comprendre le fonctionnement de $\\texttt{is}$ nous allons voir la fonction $\\texttt{id}$ qui retourne l'identificateur unique d'un objet (un mod\u00e8le mental acceptable est celui d'adresse m\u00e9moire)."
     ]
    },
    {
     "cell_type": "code",
     "collapsed": false,
     "input": [
      "id(True)"
     ],
     "language": "python",
     "metadata": {},
     "outputs": []
    },
    {
     "cell_type": "markdown",
     "metadata": {},
     "source": [
      "Voyons maintenant ce que cela nous donne avec des objets un peu moins banals"
     ]
    },
    {
     "cell_type": "code",
     "collapsed": false,
     "input": [
      "a = (1,)\n",
      "b = (1,)\n",
      "a == b"
     ],
     "language": "python",
     "metadata": {},
     "outputs": []
    },
    {
     "cell_type": "markdown",
     "metadata": {},
     "source": [
      "Bon, jusqu'ici tout est clair; voyons ce que nous renvoie $\\texttt{id}$ sur ces deux objets"
     ]
    },
    {
     "cell_type": "code",
     "collapsed": false,
     "input": [
      "print 'id(a)=',id(a),'id(b)=',id(b)"
     ],
     "language": "python",
     "metadata": {},
     "outputs": []
    },
    {
     "cell_type": "markdown",
     "metadata": {},
     "source": [
      "Ces deux objets sont donc install\u00e9s \u00e0 des endroits diff\u00e9rents de la m\u00e9moire.\n",
      "\n",
      "L'op\u00e9rateur $\\texttt{is}$ se contente de comparer la valeur de $\\texttt{id}$ sur ses deux op\u00e9randes\n",
      "\n",
      "C'est pourquoi on observe ici que"
     ]
    },
    {
     "cell_type": "code",
     "collapsed": false,
     "input": [
      "a is b"
     ],
     "language": "python",
     "metadata": {},
     "outputs": []
    },
    {
     "cell_type": "markdown",
     "metadata": {},
     "source": [
      "Voyons ce que cela nous donne avec des entiers "
     ]
    },
    {
     "cell_type": "code",
     "collapsed": false,
     "input": [
      "a = 3\n",
      "b = 3\n",
      "print 'a',id(a),'b',id(b)"
     ],
     "language": "python",
     "metadata": {},
     "outputs": []
    },
    {
     "cell_type": "markdown",
     "metadata": {},
     "source": [
      "Tiens c'est curieux, nous avons ici deux objets, que l'on pourrait penser diff\u00e9rents, mais en fait on observe ici que"
     ]
    },
    {
     "cell_type": "code",
     "collapsed": false,
     "input": [
      "a is b"
     ],
     "language": "python",
     "metadata": {},
     "outputs": []
    },
    {
     "cell_type": "markdown",
     "metadata": {},
     "source": [
      "Il se trouve que, dans le cas des petits entiers, python r\u00e9alise une optimisation de l'utilisation de la m\u00e9moire. Quel que soit le nombre de variables dont la valeur est '3', un seul objet correspondant \u00e0 l'entier '3' est allou\u00e9, pour \u00e9viter d'engorger la m\u00e9moire. On dit que l'entier '3' est impl\u00e9ment\u00e9 comme un singleton."
     ]
    },
    {
     "cell_type": "markdown",
     "metadata": {},
     "source": [
      "Cette optimisation ce concerne pas la grande majorit\u00e9 des types en python. Par exemple ici avec deux listes apparemment identiques, cela n'est plus le cas:"
     ]
    },
    {
     "cell_type": "code",
     "collapsed": false,
     "input": [
      "a = [1,2]\n",
      "b = [1,2]\n",
      "a is b"
     ],
     "language": "python",
     "metadata": {},
     "outputs": []
    }
   ],
   "metadata": {}
  }
 ]
}