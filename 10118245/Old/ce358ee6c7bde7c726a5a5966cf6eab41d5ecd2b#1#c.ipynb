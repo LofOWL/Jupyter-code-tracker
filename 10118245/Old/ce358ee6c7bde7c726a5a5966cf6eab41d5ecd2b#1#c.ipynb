{
 "metadata": {
  "notebookname": "exercices sur if",
  "signature": "sha256:6ed5756f8be78f4c012ad31d0c8832dbb184cad22cc31e3e051976833b68f932",
  "version": "1.0"
 },
 "nbformat": 3,
 "nbformat_minor": 0,
 "worksheets": [
  {
   "cells": [
    {
     "cell_type": "heading",
     "level": 1,
     "metadata": {},
     "source": [
      "L'instruction `if`"
     ]
    },
    {
     "cell_type": "heading",
     "level": 2,
     "metadata": {},
     "source": [
      "Exercice - niveau basique"
     ]
    },
    {
     "cell_type": "heading",
     "level": 3,
     "metadata": {},
     "source": [
      "R\u00e9partiteur (1)"
     ]
    },
    {
     "cell_type": "markdown",
     "metadata": {},
     "source": [
      "On vous demande d'\u00e9crire une fonction `dispatch1` qui prend en argument deux entiers `a` et `b` et qui renvoie selon les cas"
     ]
    },
    {
     "cell_type": "markdown",
     "metadata": {},
     "source": [
      "$\\begin{array}{c|c|c}\n",
      "\\ & a\\  pair & a\\ impair \\\\\n",
      "\\hline\n",
      "b\\ pair & a^2+b^2 & (a-1)*b\\\\\n",
      "\\hline\n",
      "b\\ impair & a*(b-1)& a^2-b^2\\\\\n",
      "\\end{array}\n",
      "$"
     ]
    },
    {
     "cell_type": "code",
     "collapsed": false,
     "input": [
      "def dispatch1(a, b):\n",
      "    \"<votre_code>\""
     ],
     "language": "python",
     "metadata": {},
     "outputs": []
    },
    {
     "cell_type": "code",
     "collapsed": false,
     "input": [
      "# pour v\u00e9rifier votre code\n",
      "from corrections.w3_if import correction_dispatch1\n",
      "correction_dispatch1(dispatch1)"
     ],
     "language": "python",
     "metadata": {},
     "outputs": []
    },
    {
     "cell_type": "heading",
     "level": 3,
     "metadata": {},
     "source": [
      "R\u00e9partiteur (2)"
     ]
    },
    {
     "cell_type": "markdown",
     "metadata": {},
     "source": [
      "Dans une seconde version de cet exercice, on vous demande d'\u00e9crire une fonction `dispatch2` qui prend en arguments\n",
      " * `a` et `b` deux entiers\n",
      " * `A` et `B` deux ensembles (chacun pouvant \u00eatre mat\u00e9rialis\u00e9 par un ensemble, une liste ou un tuple)\n",
      "\n",
      "et qui renvoie selons les cas\n",
      "\n",
      "$\\begin{array}{c|c|c}\n",
      "\\ & a \\in A & a\\notin A \\\\\n",
      "\\hline\n",
      "b\\in B & a^2+b^2 & (a-1)*b\\\\\n",
      "\\hline\n",
      "b\\notin B & a*(b-1)& a^2+b^2\\\\\n",
      "\\end{array}\n",
      "$"
     ]
    },
    {
     "cell_type": "code",
     "collapsed": false,
     "input": [
      "def dispatch2 (a,b,A,B):\n",
      "    \"<votre_code>\""
     ],
     "language": "python",
     "metadata": {},
     "outputs": []
    },
    {
     "cell_type": "code",
     "collapsed": false,
     "input": [
      "# pour v\u00e9rifier votre code\n",
      "from corrections.w3_if import correction_dispatch2\n",
      "correction_dispatch2 (dispatch2)"
     ],
     "language": "python",
     "metadata": {},
     "outputs": []
    }
   ],
   "metadata": {}
  }
 ]
}