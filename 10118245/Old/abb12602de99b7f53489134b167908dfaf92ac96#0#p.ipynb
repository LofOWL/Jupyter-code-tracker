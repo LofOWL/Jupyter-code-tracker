{
 "metadata": {
  "notebookname": "Donn\u00e9es m\u00e9t\u00e9o",
  "signature": "sha256:54ea91fc9358695863fafe30227cfc530a5dfb0a13b88d6fbd24ca3af58f80a7",
  "version": "1.0"
 },
 "nbformat": 3,
 "nbformat_minor": 0,
 "worksheets": [
  {
   "cells": [
    {
     "cell_type": "heading",
     "level": 1,
     "metadata": {},
     "source": [
      "Visualisation de donn\u00e9es m\u00e9t\u00e9o"
     ]
    },
    {
     "cell_type": "heading",
     "level": 2,
     "metadata": {},
     "source": [
      "Mini-Projet"
     ]
    },
    {
     "cell_type": "heading",
     "level": 3,
     "metadata": {},
     "source": [
      "Introduction"
     ]
    },
    {
     "cell_type": "markdown",
     "metadata": {},
     "source": [
      "Ce mini-projet vise \u00e0 vous donner acc\u00e8s \u00e0 des donn\u00e9es assez riches pour vous permettre d'exp\u00e9rimenter avec `matplotlib`, et mettre en oeuvre une visualisation de donn\u00e9es en 2D et en 3D."
     ]
    },
    {
     "cell_type": "markdown",
     "metadata": {},
     "source": [
      "Nous allons pour cela travailler avec des donn\u00e9es obtenues aupr\u00e8s de [OpenWeatherMap](https://openweathermap.desk.com). \n",
      "\n",
      "Sp\u00e9cifiquement, ce site publie un \u00e9chantillon statique de donn\u00e9es qui est disponible \u00e0 cette URL \n",
      "\n",
      "    http://78.46.48.103/sample/daily_14.json.gz\n",
      "    \n",
      "Comme nous le verrons plus bas, il n'est pas n\u00e9cessaire pour vous d'aller chercher ces donn\u00e9es chez OpenWeatherMap, nous les republions \u00e0 plusieurs \u00e9chelles. L'\u00e9chantillon complet couvre le monde entier et expose des donn\u00e9es m\u00e9t\u00e9o sur une p\u00e9riode d'environ deux semaines en Mars 2014. "
     ]
    },
    {
     "cell_type": "heading",
     "level": 3,
     "metadata": {},
     "source": [
      "Les donn\u00e9es"
     ]
    },
    {
     "cell_type": "markdown",
     "metadata": {},
     "source": [
      "Une fois d\u00e9compress\u00e9 et d\u00e9cod\u00e9, l'\u00e9chantillon contient, pour un grand nombre de villes (22631 exactement), des donn\u00e9es de type&nbsp;:\n",
      " * champ `city` : position g\u00e9ographique, nom, etc..\n",
      " * champ `time` : date (vous pouvez ignorer ce champ pour l'exercice)\n",
      " * champ `data` : une liste de mesures disponibles concernant ce point, sous la forme d'une liste de mesures; l'\u00e9chantillon contient en moyenne 16 mesures par point;\n",
      " * \u00e9l\u00e9ment de `data` : une mesure correspond \u00e0 un jour donn\u00e9, et vient comme un dictionnaire contenant typiquement une valeur pour \n",
      "   * l'heure des mesures (champ `dt`, pour data time) - voir aussi plus bas, \n",
      "   * la vitesse et la direction du vent (`speed` et `deg`)\n",
      "   * l'humidit\u00e9 et la pression\n",
      "   * et s'agissant de la temp\u00e9rature, \u00e0 nouveau un dictionnaire pour d\u00e9crire les temp\u00e9ratures \u00e0 divers moments de la journ\u00e9e\n",
      "   \n",
      "Je vous laisse deviner les unit\u00e9s utilis\u00e9es - je rappelle juste que \n",
      "\n",
      "$ 0\u00b0C = 273.15\u00b0K $\n",
      " "
     ]
    },
    {
     "cell_type": "markdown",
     "metadata": {},
     "source": [
      "Pour \u00eatre plus explicite encore, voici un pretty-print d'un objet correspondant \u00e0 une ville (Cayenne en Guyanne), en ne montrant que la premi\u00e8re mesure&nbsp;:"
     ]
    },
    {
     "cell_type": "raw",
     "metadata": {},
     "source": [
      "{u'city': {u'coord': {u'lat': 49.558578, u'lon': 1.62803},\n",
      "           u'country': u'FR',\n",
      "           u'id': 3028097,\n",
      "           u'name': u'Cayenne'},\n",
      " u'data': [{u'clouds': 80,\n",
      "            u'deg': 330,\n",
      "            u'dt': 1394884800,\n",
      "            u'humidity': 85,\n",
      "            u'pressure': 1028.47,\n",
      "            u'speed': 5.41,\n",
      "            u'temp': {u'day': 282.3,\n",
      "                      u'eve': 282.86,\n",
      "                      u'max': 283.22,\n",
      "                      u'min': 279.7,\n",
      "                      u'morn': 279.7,\n",
      "                      u'night': 281.96},\n",
      "            u'weather': [{u'description': u'broken clouds',\n",
      "                          u'icon': u'04d',\n",
      "                          u'id': 803,\n",
      "                          u'main': u'Clouds'}]},\n",
      "           '... other similar dicts ...'],\n",
      " u'time': 1394865585}"
     ]
    },
    {
     "cell_type": "heading",
     "level": 5,
     "metadata": {},
     "source": [
      "Format concret"
     ]
    },
    {
     "cell_type": "markdown",
     "metadata": {},
     "source": [
      "L'\u00e9chantillon complet d\u00e9compress\u00e9 contient autant de lignes que de villes (22631 lignes donc), et chaque ligne est un encodage JSON de la structure que nous venons de voir. \n",
      "Vous pouvez donc charger un fichier en quelques lignes de code qui combinent \n",
      " * un fichier d'entr\u00e9e consid\u00e9r\u00e9 comme un it\u00e9rable,\n",
      " * et les fonctions du module `json`; vous remarquerez \u00e0 cet \u00e9gard la diff\u00e9rence entre `load` et `loads`"
     ]
    },
    {
     "cell_type": "heading",
     "level": 5,
     "metadata": {},
     "source": [
      "Rappel sur les dates"
     ]
    },
    {
     "cell_type": "markdown",
     "metadata": {},
     "source": [
      "S'agissant des dates, on retrouve ici notre nombre de secondes depuis le $1^{er}$ Janvier 1970, et voici comment vous pouvez afficher ce genre de valeurs."
     ]
    },
    {
     "cell_type": "code",
     "collapsed": false,
     "input": [
      "import time\n",
      "# *Y*ear *m*onth *d*ay *H*our *M*inute\n",
      "date_format=\"%Y-%m-%d:%H-%M UTC\"\n",
      "\n",
      "# city['city']['data'][0]['dt']\n",
      "dt = 1394884800\n",
      "\n",
      "# gmtime pour afficher en heure UTC (formerly GMT)\n",
      "print 'champ dt', time.strftime(date_format, time.gmtime(dt))\n"
     ],
     "language": "python",
     "metadata": {},
     "outputs": []
    },
    {
     "cell_type": "heading",
     "level": 3,
     "metadata": {},
     "source": [
      "Mise en place"
     ]
    },
    {
     "cell_type": "markdown",
     "metadata": {},
     "source": [
      "Comme l'\u00e9chantillon est tr\u00e8s gros, je vous ai pr\u00e9par\u00e9 des versions de plus en plus petites&nbsp;:\n",
      "\n",
      " * Monde entier (\u00e9chantillon complet) \n",
      "   * [cities_world.json.gz](data/cities_world.json.gz) (11 Mb)\n",
      "   * [cities_world.json](data/cities_world.json) (98 Mb)\n",
      " * Europe (62, 33, 34, -11) (limites nord, est, sud, et ouest)\n",
      "   * [cities_europe.json.gz](data/cities_europe.json.gz) (3 Mb)\n",
      "   * [cities_europe.json](data/cities_europe.json) (31 Mb)\n",
      " * France (51.2, 8.3, 42.3, -5.3) \n",
      "   * [cities_france.json.gz](data/cities_france.json.gz) (480 kb)\n",
      "   * [cities_france.json](data/cities_france.json) (6 Mb)\n",
      " * Ile-de-France (49, 2.75, 48.5, 2) \n",
      "   * [cities_idf.json.gz](data/cities_idf.json.gz) (17 kb)\n",
      "   * [cities_idf.json](data/cities_idf.json) (900 kb)"
     ]
    },
    {
     "cell_type": "markdown",
     "metadata": {},
     "source": [
      "Sachant que pour mette au point il est tr\u00e8s conseill\u00e9 de commencer avec un petit fichier car le chargement du fichier complet peut prendre dans les 10 secondes."
     ]
    },
    {
     "cell_type": "markdown",
     "metadata": {},
     "source": [
      "***"
     ]
    },
    {
     "cell_type": "markdown",
     "metadata": {},
     "source": [
      "***"
     ]
    },
    {
     "cell_type": "code",
     "collapsed": false,
     "input": [
      "import numpy as np\n",
      "\n",
      "import matplotlib.pyplot as plot"
     ],
     "language": "python",
     "metadata": {},
     "outputs": []
    },
    {
     "cell_type": "code",
     "collapsed": false,
     "input": [
      "np.linspace(0, 10, 21)"
     ],
     "language": "python",
     "metadata": {},
     "outputs": []
    },
    {
     "cell_type": "code",
     "collapsed": false,
     "input": [
      "x = np.linspace (0, 2*np.pi, 101 )\n",
      "\n",
      "plot.plot (x, np.sin(x))"
     ],
     "language": "python",
     "metadata": {},
     "outputs": []
    },
    {
     "cell_type": "markdown",
     "metadata": {},
     "source": [
      "Plot 2D\n",
      "\n",
      "http://matplotlib.org/api/pyplot_api.html?highlight=scatter\n",
      "\n",
      "http://matplotlib.org/api/pyplot_api.html"
     ]
    },
    {
     "cell_type": "code",
     "collapsed": false,
     "input": [
      "import xkcd"
     ],
     "language": "python",
     "metadata": {},
     "outputs": []
    },
    {
     "cell_type": "code",
     "collapsed": false,
     "input": [
      "from inspect import getsource"
     ],
     "language": "python",
     "metadata": {},
     "outputs": []
    },
    {
     "cell_type": "code",
     "collapsed": false,
     "input": [
      "for line in getsource(xkcd).split(\"\\n\"): \n",
      "    print line"
     ],
     "language": "python",
     "metadata": {},
     "outputs": []
    }
   ],
   "metadata": {}
  }
 ]
}