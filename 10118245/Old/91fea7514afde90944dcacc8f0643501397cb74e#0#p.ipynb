{
 "cells": [
  {
   "cell_type": "markdown",
   "metadata": {},
   "source": [
    "<span style=\"float:left;\">Licence CC BY-NC-ND</span><span style=\"float:right;\">Thierry Parmentelat &amp; Arnaud Legout&nbsp;<img src=\"media/inria-25.png\" style=\"display:inline\"></span><br/>"
   ]
  },
  {
   "cell_type": "markdown",
   "metadata": {},
   "source": [
    "# Obtenir une réponse de l'utilisateur"
   ]
  },
  {
   "cell_type": "markdown",
   "metadata": {},
   "source": [
    "## Complément - niveau basique"
   ]
  },
  {
   "cell_type": "markdown",
   "metadata": {},
   "source": [
    "Occasionnellement, il peut être utile de poser une question à l'utilisateur."
   ]
  },
  {
   "cell_type": "markdown",
   "metadata": {},
   "source": [
    "### La fonction nput()"
   ]
  },
  {
   "cell_type": "markdown",
   "metadata": {},
   "source": [
    "C'est le propos de la fonction `input` (qui pour information s'appelait `raw_input` en python2). Par exemple:"
   ]
  },
  {
   "cell_type": "code",
   "execution_count": null,
   "metadata": {},
   "outputs": [],
   "source": [
    "nom_ville = input(\"entrez le nom de la ville : \")\n",
    "print(\"après saisie: nom_ville\", nom_ville)"
   ]
  },
  {
   "cell_type": "markdown",
   "metadata": {},
   "source": [
    "Vous venez de voir comment cette fonction est implémentée dans un notebook. "
   ]
  },
  {
   "cell_type": "markdown",
   "metadata": {},
   "source": [
    "### Utilitaire `readline`"
   ]
  },
  {
   "cell_type": "markdown",
   "metadata": {},
   "source": [
    "Nous vous conseillons d'essayer également cette fonction dans un terminal avec l'interpréteur python."
   ]
  },
  {
   "cell_type": "markdown",
   "metadata": {},
   "source": [
    "Lorsqu'elle est utilisée dans un terminal, il est utile d'associer à `input` le module `readline`, ainsi l'utilisateur peut utiliser les flèches pour éditer sa réponse, pour revenir en arrière ou remonter dans l'historique de ses réponses, comme ceci **(à exécuter dans un terminal)**:"
   ]
  },
  {
   "cell_type": "markdown",
   "metadata": {},
   "source": [
    "```\n",
    "# utile seulement dans un terminal\n",
    "# \n",
    "# avec readline vous pouvez utiliser les flêches\n",
    "# pour éditer votre saisie ou remonter dans votre historique\n",
    "import readline\n",
    "\n",
    "entree = list(range(3))\n",
    "for i in range(3):\n",
    "    entree[i] = int(input(\"entrez le nombre numéro {} \".format(i)))\n",
    "```"
   ]
  },
  {
   "cell_type": "markdown",
   "metadata": {},
   "source": [
    "Après quoi vous pouvez voir le résultat\n",
    "\n",
    "```\n",
    "print(\"entree\", entree)\n",
    "```"
   ]
  },
  {
   "cell_type": "markdown",
   "metadata": {},
   "source": [
    "### Attention à bien vérifier/convertir"
   ]
  },
  {
   "cell_type": "markdown",
   "metadata": {},
   "source": [
    "Notez bien que `input` renvoie **une chaîne**; c'est assez évident, mais il est très facile de l'oublier et de passer cette chaîne directement à une fonction qui s'attend à recevoir, par exemple, un nombre entier, auquel cas les choses se passent mal:"
   ]
  },
  {
   "cell_type": "markdown",
   "metadata": {},
   "source": [
    "    >>> range(input(\"nombre de lignes: \"))\n",
    "    nombre de lignes: 4\n",
    "    Traceback (most recent call last):\n",
    "      File \"<stdin>\", line 1, in <module>\n",
    "    TypeError: 'str' object cannot be interpreted as an integer"
   ]
  },
  {
   "cell_type": "markdown",
   "metadata": {},
   "source": [
    "Dans ce cas il faut appeler la fonction `int` pour convertir le résultat en un entier:"
   ]
  },
  {
   "cell_type": "code",
   "execution_count": null,
   "metadata": {},
   "outputs": [],
   "source": [
    "range(int(input( \"nombre de lignes: \" )))"
   ]
  },
  {
   "cell_type": "markdown",
   "metadata": {},
   "source": [
    "### Limitations"
   ]
  },
  {
   "cell_type": "markdown",
   "metadata": {},
   "source": [
    "Cette fonction nous sera utile pour nos premiers pas en python.\n",
    "\n",
    "En pratique toutefois, on utilise assez peu cette fonction, car les applications \"réelles\" viennent avec leur propre interface utilisateur, souvent graphique, et disposent donc d'autres moyens que celui-ci pour interagir avec l'utilisateur.\n",
    "\n",
    "Les applications destinées à fonctionner dans un terminal, quant à elles, reçoivent traditionnellement leurs données de la ligne de commande. C'est le propos du module `argparse` que nous verrons ultérieurement."
   ]
  }
 ],
 "metadata": {
  "kernelspec": {
   "display_name": "Python 3",
   "language": "python",
   "name": "python3"
  },
  "language_info": {
   "codemirror_mode": {
    "name": "ipython",
    "version": 3
   },
   "file_extension": ".py",
   "mimetype": "text/x-python",
   "name": "python",
   "nbconvert_exporter": "python",
   "pygments_lexer": "ipython3",
   "version": "3.5.1"
  },
  "notebookname": "La fonction input",
  "version": "3.0"
 },
 "nbformat": 4,
 "nbformat_minor": 1
}