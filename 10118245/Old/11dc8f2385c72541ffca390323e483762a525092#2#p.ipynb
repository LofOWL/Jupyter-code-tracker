{
 "metadata": {
  "kernelspec": {
   "display_name": "Python 2", 
   "language": "python", 
   "name": "python2"
  }, 
  "language_info": {
   "codemirror_mode": {
    "name": "ipython", 
    "version": 2
   }, 
   "file_extension": ".py", 
   "mimetype": "text/x-python", 
   "name": "python", 
   "nbconvert_exporter": "python", 
   "pygments_lexer": "ipython2", 
   "version": "2.7.12"
  }, 
  "name": "", 
  "notebookname": "Donn\u00e9es m\u00e9t\u00e9o", 
  "version": "2.0"
 }, 
 "nbformat": 2, 
 "nbformat_minor": 0, 
 "orig_nbformat": 4, 
 "orig_nbformat_minor": 1, 
 "worksheets": [
  {
   "cells": [
    {
     "cell_type": "markdown", 
     "metadata": {}, 
     "source": [
      "<span style=\"float:left;\">Licence CC BY-NC-ND</span><span style=\"float:right;\">Thierry Parmentelat &amp; Arnaud Legout&nbsp;<img src=\"media/inria-25.png\" style=\"display:inline\"></span><br/>"
     ]
    }, 
    {
     "cell_type": "markdown", 
     "metadata": {}, 
     "source": [
      "# Visualisation de donn\u00e9es m\u00e9t\u00e9o"
     ]
    }, 
    {
     "cell_type": "markdown", 
     "metadata": {}, 
     "source": [
      "## Mini-Projet"
     ]
    }, 
    {
     "cell_type": "markdown", 
     "metadata": {}, 
     "source": [
      "### Introduction"
     ]
    }, 
    {
     "cell_type": "markdown", 
     "metadata": {}, 
     "source": [
      "Ce mini-projet vise \u00e0 vous donner acc\u00e8s \u00e0 des donn\u00e9es assez riches pour vous permettre d'exp\u00e9rimenter avec `matplotlib`, et mettre en oeuvre une visualisation de donn\u00e9es en 2D et en 3D."
     ]
    }, 
    {
     "cell_type": "markdown", 
     "metadata": {}, 
     "source": [
      "Nous allons pour cela travailler avec des donn\u00e9es obtenues aupr\u00e8s de [OpenWeatherMap](https://openweathermap.desk.com). ", 
      "", 
      "Sp\u00e9cifiquement, ce site publie un \u00e9chantillon statique de donn\u00e9es qui est disponible \u00e0 cette URL ", 
      "", 
      "    http://78.46.48.103/sample/daily_14.json.gz", 
      "    ", 
      "Comme nous le verrons plus bas, il n'est pas n\u00e9cessaire pour vous d'aller chercher ces donn\u00e9es chez OpenWeatherMap, nous les republions \u00e0 plusieurs \u00e9chelles. L'\u00e9chantillon complet couvre le monde entier et expose des donn\u00e9es m\u00e9t\u00e9o sur une p\u00e9riode d'environ deux semaines en Mars 2014. "
     ]
    }, 
    {
     "cell_type": "markdown", 
     "metadata": {}, 
     "source": [
      "***"
     ]
    }, 
    {
     "cell_type": "markdown", 
     "metadata": {}, 
     "source": [
      "### `matplotlib`"
     ]
    }, 
    {
     "cell_type": "markdown", 
     "metadata": {}, 
     "source": [
      "Par manque de temps nous n'avons pas pu introduire `matplotlib` dans une vid\u00e9o ou un compl\u00e9ment. Nous allons en dire quelques mots (tr\u00e8s rapides), si vous n'avez aucune id\u00e9e de comment l'utiliser."
     ]
    }, 
    {
     "cell_type": "markdown", 
     "metadata": {}, 
     "source": [
      "Que vous choisissiez ce sujet ou non, le point important ici est qu'une fois que vous avez obtenu des donn\u00e9es avec votre programme python - et pourvu que vous ayez install\u00e9 `matplotlib` qui ne fait pas partie de la librairie standard -, vous avez \u00e0 votre disposition un outil tr\u00e8s puissant et vraiment tr\u00e8s simple pour visualiser tr\u00e8s rapidement ces donn\u00e9es sous des formes diverses."
     ]
    }, 
    {
     "cell_type": "markdown", 
     "metadata": {}, 
     "source": [
      "Pour toute la suite je vous recommande d'avoir sous la main", 
      " * [le tutoriel matplotlib](http://matplotlib.org/users/pyplot_tutorial.html)", 
      " * [la documentation `matplotlib`](http://matplotlib.org/api/pyplot_api.html)", 
      " * [le tutorial pour les visualisation 3D](http://matplotlib.org/mpl_toolkits/mplot3d/tutorial.html)"
     ]
    }, 
    {
     "cell_type": "markdown", 
     "metadata": {}, 
     "source": [
      "Toutes les fonctions de visualisation attendent en argument des listes de valeurs pour X, pour Y, et le cas \u00e9ch\u00e9ant pour Z. La plupart du temps vous pouvez obtenir une visualisation simplement en choissisant la fonction (par exemple `plot` affiche les donn\u00e9es avec une courbe standard, `bar` affiche les donn\u00e9es en barres ..) et en passant X et Y; voyons cela&nbsp;:"
     ]
    }, 
    {
     "cell_type": "code", 
     "collapsed": false, 
     "input": [
      "import matplotlib.pyplot as plot", 
      "", 
      "import math"
     ], 
     "language": "python", 
     "metadata": {}, 
     "outputs": [], 
     "prompt_number": null
    }, 
    {
     "cell_type": "code", 
     "collapsed": false, 
     "input": [
      "# on d\u00e9coupe \u00e0 la main l'intervalle [0, 6.3] en pas de 0.1", 
      "X = [ 0.1 * x for x in range (64)]", 
      "# les valeurs de sin() correspondantes", 
      "Y = [ math.sin(x) for x in X]", 
      "", 
      "# une courbe qui repr\u00e9sente sin(x) entre 0 et 2.pi", 
      "plot.plot(X, Y)"
     ], 
     "language": "python", 
     "metadata": {}, 
     "outputs": [], 
     "prompt_number": null
    }, 
    {
     "cell_type": "markdown", 
     "metadata": {}, 
     "source": [
      "Vous voyez que `matplotlib` s'occupe de montrer les \u00e9chelles, etc... Vous avez la possiblit\u00e9 de modifier ce rendu par d\u00e9faut mais dans la plupart des cas, vous obtenez de cette fa\u00e7on quelque chose de raisonnablement bien pr\u00e9sent\u00e9."
     ]
    }, 
    {
     "cell_type": "markdown", 
     "metadata": {}, 
     "source": [
      "##### `show()`"
     ]
    }, 
    {
     "cell_type": "markdown", 
     "metadata": {}, 
     "source": [
      "Dans le contexte des notebooks cela n'est pas n\u00e9cessaire mais dans votre application n'oubliez pas d'invoquer la m\u00e9thode `matplotlib.pyplot.show()` pour que votre illustration s'affiche."
     ]
    }, 
    {
     "cell_type": "markdown", 
     "metadata": {}, 
     "source": [
      "### `numpy`"
     ]
    }, 
    {
     "cell_type": "markdown", 
     "metadata": {}, 
     "source": [
      "Comme vous le voyez il n'est pas n\u00e9cessaire d'utiliser `numpy` pour visualiser des donn\u00e9es.", 
      "", 
      "Nous n'utilisons pas du tout `numpy` dans cet exercice, mais sachez tout de m\u00eame, si par ailleurs vous utilisez d\u00e9j\u00e0 `numpy`, que le m\u00e9canisme de passage de donn\u00e9es est tr\u00e8s commode avec `numpy`, qui manipule d\u00e9j\u00e0 nativement les donn\u00e9es sous cette forme."
     ]
    }, 
    {
     "cell_type": "code", 
     "collapsed": false, 
     "input": [
      "import numpy"
     ], 
     "language": "python", 
     "metadata": {}, 
     "outputs": [], 
     "prompt_number": null
    }, 
    {
     "cell_type": "code", 
     "collapsed": false, 
     "input": [
      "# avec la m\u00e9thode `numpy.linspace` ", 
      "# on peut facilement d\u00e9couper ", 
      "# un intervalle en morceaux", 
      "numpy.linspace(0, 10, 21)"
     ], 
     "language": "python", 
     "metadata": {}, 
     "outputs": [], 
     "prompt_number": null
    }, 
    {
     "cell_type": "code", 
     "collapsed": false, 
     "input": [
      "# aussi pour afficher une fonction", 
      "# sur un intervalle c'est extr\u00eamement simple", 
      "", 
      "X = numpy.linspace (0, 2*numpy.pi, 101 )", 
      "", 
      "# d'autant que les fonctions numpy ", 
      "# font implicitement l'\u00e9quivalent de `map`", 
      "# sur la liste d'entr\u00e9e", 
      "", 
      "plot.plot (X, numpy.sin(X))"
     ], 
     "language": "python", 
     "metadata": {}, 
     "outputs": [], 
     "prompt_number": null
    }, 
    {
     "cell_type": "markdown", 
     "metadata": {}, 
     "source": [
      "### En 3D"
     ]
    }, 
    {
     "cell_type": "markdown", 
     "metadata": {}, 
     "source": [
      "On peut tout aussi simplement visualiser des donn\u00e9es en 3D, voici un exemple de visualisation en 3D d'une gaussienne, que nous montrons ici \u00e0 un \u00e9chelle 6 pour simplifier le code", 
      "", 
      "$ z = e^{-(x^2+y^2)/36}$"
     ]
    }, 
    {
     "cell_type": "code", 
     "collapsed": false, 
     "input": [
      "import math", 
      "from itertools import product", 
      "", 
      "# la grille de d\u00e9part en X et en Y", 
      "xscale = range ( -10, 11 )", 
      "yscale = range ( -10, 11 )", 
      "", 
      "# tous les points X,Y (soit 21 x 21 = 441 au total )", 
      "# il faut recr\u00e9er un it\u00e9rateur pour chaque boucle", 
      "def XY():", 
      "    return product(xscale, yscale)", 
      "", 
      "# on calcule les tableaux d'entr\u00e9e pour matplotlib", 
      "X = [ x for x, y in XY() ]", 
      "Y = [ y for x, y in XY() ]", 
      "Z = [ math.exp(-(x**2+y**2)/36.) for x, y in XY() ]"
     ], 
     "language": "python", 
     "metadata": {}, 
     "outputs": [], 
     "prompt_number": null
    }, 
    {
     "cell_type": "markdown", 
     "metadata": {}, 
     "source": [
      "Ici encore, il y a une diff\u00e9rence de comportement entre le rendu dans un notebook qui est statique, et ce que vous obtenez sur votre ordinateur; dans ce dernier cas vous pouvez \"faire tourner\" la figure en 3D pour la voir sous l'angle que vous voulez."
     ]
    }, 
    {
     "cell_type": "code", 
     "collapsed": false, 
     "input": [
      "### la visu ", 
      "from mpl_toolkits.mplot3d import Axes3D", 
      "from matplotlib import cm", 
      "import matplotlib.pyplot as plot", 
      "", 
      "figure = plot.figure()", 
      "axes = figure.gca(projection='3d')", 
      "", 
      "# on fixe cmap pour des couleurs plus gaies", 
      "axes.plot_trisurf(X, Y, Z, cmap=cm.jet, linewidth=0.2)", 
      "", 
      "plot.show()"
     ], 
     "language": "python", 
     "metadata": {}, 
     "outputs": [], 
     "prompt_number": null
    }, 
    {
     "cell_type": "markdown", 
     "metadata": {}, 
     "source": [
      "***"
     ]
    }, 
    {
     "cell_type": "markdown", 
     "metadata": {}, 
     "source": [
      "### `matplotlib` *vs* `gnuplot`"
     ]
    }, 
    {
     "cell_type": "markdown", 
     "metadata": {}, 
     "source": [
      "En guise de digression, signalons que `gnuplot` est un outil de visualisation assez ancien et qui a fait ses preuves. Si vous connaissez et ma\u00eetrisez bien cet outil, vous pouvez parfaitement faire le miniprojet en utilisant `gnuplot` plut\u00f4t que `matplotlib`. je vous invite \u00e0 regarder [`Gnuplot.py`](http://gnuplot-py.sourceforge.net), vous \u00e9viterez ainsi l'erreur qui consiste \u00e0 g\u00e9n\u00e9rer directement des fichiers pour `gnuplot`. Par ailleurs `gnuplot` est un programme ind\u00e9pendant de python, qu'il faut naturellement donc avoir install\u00e9 s\u00e9par\u00e9ment."
     ]
    }, 
    {
     "cell_type": "markdown", 
     "metadata": {}, 
     "source": [
      "***"
     ]
    }, 
    {
     "cell_type": "markdown", 
     "metadata": {}, 
     "source": [
      "### Les donn\u00e9es"
     ]
    }, 
    {
     "cell_type": "markdown", 
     "metadata": {}, 
     "source": [
      "Pour revenir \u00e0 l'\u00e9chantillon de OpenWeatherMap, une fois d\u00e9compress\u00e9 et d\u00e9cod\u00e9, il contient, pour un grand nombre de villes (22631 exactement), des donn\u00e9es de type&nbsp;:", 
      " * champ `city` : position g\u00e9ographique, nom, etc..", 
      " * champ `time` : date (vous pouvez ignorer ce champ pour l'exercice)", 
      " * champ `data` : une liste de mesures disponibles concernant ce point, sous la forme d'une liste de mesures; l'\u00e9chantillon contient en moyenne 16 mesures par point;", 
      " * \u00e9l\u00e9ment de `data` : une mesure correspond \u00e0 un jour donn\u00e9, et vient comme un dictionnaire contenant typiquement une valeur pour ", 
      "   * l'heure des mesures (champ `dt`, pour data time) - voir aussi plus bas, ", 
      "   * la vitesse et la direction du vent (`speed` et `deg`)", 
      "   * l'humidit\u00e9 et la pression", 
      "   * et s'agissant de la temp\u00e9rature, \u00e0 nouveau un dictionnaire pour d\u00e9crire les temp\u00e9ratures \u00e0 divers moments de la journ\u00e9e", 
      "   ", 
      "Je vous laisse deviner les unit\u00e9s utilis\u00e9es - je rappelle juste que ", 
      "", 
      "$ 0\u00b0C = 273.15\u00b0K $", 
      " "
     ]
    }, 
    {
     "cell_type": "markdown", 
     "metadata": {}, 
     "source": [
      "Pour \u00eatre plus explicite encore, voici un pretty-print d'un objet correspondant \u00e0 une ville (Cayenne en Guyanne), en ne montrant que la premi\u00e8re mesure&nbsp;:"
     ]
    }, 
    {
     "cell_type": "markdown", 
     "metadata": {}, 
     "source": [
      "    {u'city': {u'coord': {u'lat': 49.558578, u'lon': 1.62803},", 
      "               u'country': u'FR',", 
      "               u'id': 3028097,", 
      "               u'name': u'Cayenne'},", 
      "     u'data': [{u'clouds': 80,", 
      "                u'deg': 330,", 
      "                u'dt': 1394884800,", 
      "                u'humidity': 85,", 
      "                u'pressure': 1028.47,", 
      "                u'speed': 5.41,", 
      "                u'temp': {u'day': 282.3,", 
      "                          u'eve': 282.86,", 
      "                          u'max': 283.22,", 
      "                          u'min': 279.7,", 
      "                          u'morn': 279.7,", 
      "                          u'night': 281.96},", 
      "                u'weather': [{u'description': u'broken clouds',", 
      "                              u'icon': u'04d',", 
      "                              u'id': 803,", 
      "                              u'main': u'Clouds'}]},", 
      "               '... other similar dicts ...'],", 
      "     u'time': 1394865585}"
     ]
    }, 
    {
     "cell_type": "markdown", 
     "metadata": {}, 
     "source": [
      "##### Format concret"
     ]
    }, 
    {
     "cell_type": "markdown", 
     "metadata": {}, 
     "source": [
      "L'\u00e9chantillon complet d\u00e9compress\u00e9 contient autant de lignes que de villes (22631 lignes donc), et chaque ligne est un encodage JSON de la structure que nous venons de voir. ", 
      "Vous pouvez donc charger un fichier en quelques lignes de code qui combinent ", 
      " * un fichier d'entr\u00e9e consid\u00e9r\u00e9 comme un it\u00e9rable,", 
      " * et les fonctions du module `json`; vous remarquerez \u00e0 cet \u00e9gard la diff\u00e9rence entre `load` et `loads`"
     ]
    }, 
    {
     "cell_type": "markdown", 
     "metadata": {}, 
     "source": [
      "##### Rappel sur les dates"
     ]
    }, 
    {
     "cell_type": "markdown", 
     "metadata": {}, 
     "source": [
      "S'agissant des dates, on retrouve ici notre nombre de secondes depuis le $1^{er}$ Janvier 1970, et voici comment vous pouvez afficher ce genre de valeurs."
     ]
    }, 
    {
     "cell_type": "code", 
     "collapsed": false, 
     "input": [
      "import time", 
      "# *Y*ear *m*onth *d*ay *H*our *M*inute", 
      "date_format=\"%Y-%m-%d:%H-%M UTC\"", 
      "", 
      "# city['city']['data'][0]['dt']", 
      "dt = 1394884800", 
      "", 
      "# gmtime pour afficher en heure UTC (formerly GMT)", 
      "print 'champ dt', time.strftime(date_format, time.gmtime(dt))"
     ], 
     "language": "python", 
     "metadata": {}, 
     "outputs": [], 
     "prompt_number": null
    }, 
    {
     "cell_type": "markdown", 
     "metadata": {}, 
     "source": [
      "### Mise en place"
     ]
    }, 
    {
     "cell_type": "markdown", 
     "metadata": {}, 
     "source": [
      "Comme l'\u00e9chantillon est tr\u00e8s gros, je vous ai pr\u00e9par\u00e9 des versions de plus en plus petites&nbsp;:", 
      "", 
      " * Monde entier (\u00e9chantillon complet) ", 
      "   * [cities_world.json.gz](data/cities_world.json.gz) (11 Mb)", 
      "   * [cities_world.json](data/cities_world.json) (98 Mb)", 
      " * Europe (62, 33, 34, -11) (limites nord, est, sud, et ouest)", 
      "   * [cities_europe.json.gz](data/cities_europe.json.gz) (3 Mb)", 
      "   * [cities_europe.json](data/cities_europe.json) (31 Mb)", 
      " * France (51.2, 8.3, 42.3, -5.3) ", 
      "   * [cities_france.json.gz](data/cities_france.json.gz) (480 kb)", 
      "   * [cities_france.json](data/cities_france.json) (6 Mb)", 
      " * Ile-de-France (49, 2.75, 48.5, 2) ", 
      "   * [cities_idf.json.gz](data/cities_idf.json.gz) (17 kb)", 
      "   * [cities_idf.json](data/cities_idf.json) (900 kb)", 
      "   ", 
      "En cas de souci notamment sur windows, essayez aussi ce zip qui contient les 4 json", 
      "", 
      "  * [all-cities.zip](data/all-cities.zip)"
     ]
    }, 
    {
     "cell_type": "markdown", 
     "metadata": {}, 
     "source": [
      "Sachant que pour mette au point il est tr\u00e8s conseill\u00e9 de commencer avec un petit fichier car le chargement du fichier complet peut prendre dans les 10 secondes."
     ]
    }, 
    {
     "cell_type": "markdown", 
     "metadata": {}, 
     "source": [
      "***"
     ]
    }, 
    {
     "cell_type": "markdown", 
     "metadata": {}, 
     "source": [
      "### Le sujet"
     ]
    }, 
    {
     "cell_type": "markdown", 
     "metadata": {}, 
     "source": [
      "Le programme que nous avons \u00e9crit s'utilise de la mani\u00e8re suivante&nbsp;:", 
      "", 
      "$ ./meteodata.py --help", 
      "usage: meteodata.py [-h] [-c CROP] [-n SELECT_NAMES] [-a] [-l] \\", 
      "                         [-1] [-2] [-3] filename", 
      "", 
      "positional arguments:", 
      "  filename              input JSON file - might be gzipped", 
      "", 
      "optional arguments:", 
      "  -h, --help            show this help message and exit", 
      "  -c CROP, --crop CROP  specify a region for cropping regions are rectangular", 
      "                        areas and can be specified as a comma-separated list", 
      "                        of 4 numbers for north, east, south, west", 
      "  -n SELECT_NAMES, --name SELECT_NAMES", 
      "                        cumulative - select cities by this name(s)", 
      "  -a, --all             select all cities", 
      "  -l, --list            If set, selected city names get listed", 
      "", 
      "  -1, --1d              Display a bar chart for the pressure in the first", 
      "                        selected city", 
      "  -2, --2d              Display a 2D diagram of the positions of selected", 
      "                        cities", 
      "  -3, --3d              Display a 3D diagram of the pressure in all cities"
     ]
    }, 
    {
     "cell_type": "markdown", 
     "metadata": {}, 
     "source": [
      "### Entr\u00e9es"
     ]
    }, 
    {
     "cell_type": "markdown", 
     "metadata": {}, 
     "source": [
      " * il faut donner au programme un des fichiers d'entr\u00e9e (le param\u00e8tre obligatoire `filename`)", 
      " * on peut aussi avec l'option `-c` restreindre \u00e0 un rectangle, ici par exemple les USA (on y reviendra); lorsqu'on utilise cette option les villes qui ne sont pas dans la zone sont **compl\u00e8tement ignor\u00e9es**&nbsp;:", 
      " ", 
      "     $ ./meteodata.py -c 50,-70,25,-125 data/cities_world.json", 
      "    ---------- From data/cities_world.json", 
      "    \tdealing with 22631 cities", 
      "    ---------- After cropping with Top 50.0 Right -70.0 Bottom 25.0 Left -125.0", 
      "    \tdealing with 3146 cities", 
      "    ---------- No city selected", 
      "", 
      " * avec l'option -n (que vous pouvez r\u00e9p\u00e9ter) vous pouvez **s\u00e9lectionner** des villes par leur nom; vous pouvez r\u00e9p\u00e9ter l'option pour en s\u00e9lectionner plusieurs; ", 
      " ", 
      "Les deux m\u00e9canismes sont ind\u00e9pendants; on consid\u00e8re toutes les villes qui sont dans la r\u00e9gion, et parmi elles celles qui sont s\u00e9lectionn\u00e9es seront mises en \u00e9vidence&nbsp;:", 
      "", 
      "    $ ./meteodata.py -c 50,-70,25,-125 -n 'new york' -n dallas data/cities_world.json", 
      "    ---------- From data/cities_world.json", 
      "    \tdealing with 22631 cities", 
      "    ---------- After cropping with Top 50.0 Right -70.0 Bottom 25.0 Left -125.0", 
      "    \tdealing with 3146 cities", 
      "    ---------- Selected 3 cities", 
      "    \t[u'New York', u'New York', u'Dallas']        ", 
      "Dans cet exemple on va travailler sur un total de 3146 villes, dont trois sont s\u00e9lectionn\u00e9es (deux s'appellent 'New York' et une s'appelle 'Dallas')", 
      "", 
      "Les options `-a` et `-l` sont tr\u00e8s accessoires vous n'\u00eates pas oblig\u00e9s de vous en occuper."
     ]
    }, 
    {
     "cell_type": "markdown", 
     "metadata": {}, 
     "source": [
      "### Visualisations"
     ]
    }, 
    {
     "cell_type": "markdown", 
     "metadata": {}, 
     "source": [
      "Les 3 autres options (-1, -2 et -3) correspondent \u00e0 trois modes de visualisation. Comme vous allez le voir ce sont des choix tr\u00e8s arbitraires, n'h\u00e9sitez pas \u00e0 broder et \u00e0 changer les sp\u00e9cifications."
     ]
    }, 
    {
     "cell_type": "markdown", 
     "metadata": {}, 
     "source": [
      "##### Visualiser les temp\u00e9rateures dans une ville donn\u00e9e (option -1)"
     ]
    }, 
    {
     "cell_type": "markdown", 
     "metadata": {}, 
     "source": [
      "Avec l'option -1, le programme affiche sous forme de diagramme \u00e0 barres, les temp\u00e9ratures de la premi\u00e8re ville s\u00e9lectionn\u00e9e, et ce sur l'ensemble de la p\u00e9riode.", 
      "", 
      "Pour chaque date on affiche, dans l'ordre, les champs suivants de `temp` dans `data`", 
      "", 
      "    'morn', 'day', 'eve', 'night'", 
      "    ", 
      "Ainsi par exemple", 
      "", 
      "    ./meteodata.py -1 -n brest data/cities_france.json", 
      "    ", 
      "affiche le diagramme", 
      "", 
      "<img src='media/meteodata-1.png'>"
     ]
    }, 
    {
     "cell_type": "markdown", 
     "metadata": {}, 
     "source": [
      "Pour l'impl\u00e9mentation de l'option -1 nous avons utilis\u00e9 [matplotlib.pyplot.bar](http://matplotlib.org/api/pyplot_api.html#matplotlib.pyplot.bar)"
     ]
    }, 
    {
     "cell_type": "markdown", 
     "metadata": {}, 
     "source": [
      "***"
     ]
    }, 
    {
     "cell_type": "markdown", 
     "metadata": {}, 
     "source": [
      "##### Visualiser les villes par leur position en 2 dimensions"
     ]
    }, 
    {
     "cell_type": "markdown", 
     "metadata": {}, 
     "source": [
      "Avec l'option -2, le programme affiche l'ensemble des villes par leur position, en mettant en \u00e9vidence les villes s\u00e9lectionn\u00e9es avec une taille plus importante et une couleur diff\u00e9rente.", 
      "", 
      "Ainsi par exemple", 
      "", 
      "    ./meteodata.py -2 -n nice -n toulouse -n bordeaux -n brest -n 'le havre'  -n strasbourg data/cities_france.json", 
      "    ", 
      "montre ceci", 
      "", 
      "<img src=\"media/meteodata-2-1.png\">", 
      "", 
      "alors que", 
      "", 
      "    ./meteodata.py -2 -n paris -n berlin -n roma  data/cities_europe.json", 
      "    ", 
      "affiche ceci", 
      "", 
      "<img src=\"media/meteodata-2-2.png\">", 
      "", 
      "o\u00f9 vous pouvez voir que la densit\u00e9 de couverture n'est pas uniforme dans tous les pays europ\u00e9ens - ni sur tout le territoire fran\u00e7ais d'ailleurs."
     ]
    }, 
    {
     "cell_type": "markdown", 
     "metadata": {}, 
     "source": [
      "Pour l'impl\u00e9mentation de l'option -2 nous avons utilis\u00e9 [matplotlib.pyplot.scatter](http://matplotlib.org/api/pyplot_api.html#matplotlib.pyplot.scatter)"
     ]
    }, 
    {
     "cell_type": "markdown", 
     "metadata": {}, 
     "source": [
      "***"
     ]
    }, 
    {
     "cell_type": "markdown", 
     "metadata": {}, 
     "source": [
      "##### Visualiser la pression en 3D"
     ]
    }, 
    {
     "cell_type": "markdown", 
     "metadata": {}, 
     "source": [
      "Enfin avec l'option -3 notre programme affiche la pression mesur\u00e9e sur la zone en 3D. Il n'y a dans ces donn\u00e9es aucune garantie que toutes les villes ont des mesures pour exactement les m\u00eames dates. Cependant pour faire simple et comme notre but ici est uniquement d'exp\u00e9rimenter avec la visualisaion&nbsp;:", 
      " * on a pris pour chaque ville la pression dans la premi\u00e8re mesure list\u00e9e,", 
      " * et on a calcul\u00e9 la date sur la base de la premi\u00e8re mesure de la premi\u00e8re ville list\u00e9e.", 
      " ", 
      "Par exemple si on lance", 
      "", 
      "    ./meteodata.py -3 data/cities_europe.json", 
      "    ", 
      "on obtient une visu en 3D qui selon le point de vue ressemble \u00e0 ceci ", 
      "", 
      "<img src=\"media/meteodata-3-1.png\">", 
      "", 
      "ceci", 
      "", 
      "<img src=\"media/meteodata-3-2.png\">", 
      "", 
      "o\u00f9 vous devinez les contours de l'Europe avec, \u00e0 nouveau, un peu d'imagination et de bonne volont\u00e9, sachant que la zone en bleu correspond aux Alpes, o\u00f9 la pression est plus faible tr\u00e8s vraisemblablement \u00e0 cause de l'altitude."
     ]
    }, 
    {
     "cell_type": "markdown", 
     "metadata": {}, 
     "source": [
      "Pour l'impl\u00e9mentation de l'option -3 nous avons utilis\u00e9 [plot_trisurf](http://matplotlib.org/mpl_toolkits/mplot3d/api.html)"
     ]
    }, 
    {
     "cell_type": "markdown", 
     "metadata": {}, 
     "source": [
      "***"
     ]
    }, 
    {
     "cell_type": "markdown", 
     "metadata": {}, 
     "source": [
      "### \u00c9pilogue : le visuel du MOOC"
     ]
    }, 
    {
     "cell_type": "markdown", 
     "metadata": {}, 
     "source": [
      "Le visuel du MOOC a \u00e9t\u00e9 r\u00e9alis\u00e9 enti\u00e8rement en `matplotlib`. Si cela vous int\u00e9resse vous pouvez voir le code ci-dessous. ", 
      "", 
      "Remarquez notamment [le style `xkcd`](http://matplotlib.org/xkcd/examples/showcase/xkcd.html) qui donne le petit cot\u00e9 amusant. Pour que cela rende correctement toutefois, il faut avoir install\u00e9 les bonnes fontes sur son ordinateur - ce qui n'est pas le cas de la plateforme qui h\u00e9berge les notebooks malheureusement :)"
     ]
    }, 
    {
     "cell_type": "code", 
     "collapsed": false, 
     "input": [
      "import xkcd"
     ], 
     "language": "python", 
     "metadata": {}, 
     "outputs": [], 
     "prompt_number": null
    }, 
    {
     "cell_type": "code", 
     "collapsed": false, 
     "input": [
      "from inspect import getsource", 
      "", 
      "for line in getsource(xkcd).split(\"\\n\"): ", 
      "    print line"
     ], 
     "language": "python", 
     "metadata": {}, 
     "outputs": [], 
     "prompt_number": null
    }, 
    {
     "cell_type": "markdown", 
     "metadata": {}, 
     "source": [
      "***"
     ]
    }
   ], 
   "metadata": {}
  }
 ]
}
