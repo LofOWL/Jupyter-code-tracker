{
 "metadata": {
  "notebookname": "It\u00e9rateurs",
  "signature": "sha256:188aa6354a37b0e7ba924bde1900e18eaeb79cb3ea97ae6cd4d5db75cd334fca",
  "version": "1.0"
 },
 "nbformat": 3,
 "nbformat_minor": 0,
 "worksheets": [
  {
   "cells": [
    {
     "cell_type": "heading",
     "level": 1,
     "metadata": {},
     "source": [
      "It\u00e9rateurs"
     ]
    },
    {
     "cell_type": "heading",
     "level": 2,
     "metadata": {},
     "source": [
      "Compl\u00e9ment - niveau avanc\u00e9"
     ]
    },
    {
     "cell_type": "markdown",
     "metadata": {},
     "source": [
      "Dans ce compl\u00e9ment nous allons&nbsp;:\n",
      " * tout d'abord voir un autre exemple d'it\u00e9rateurs, et impl\u00e9menter notre propre it\u00e9rateurs des permutations d'un ensemble fini,\n",
      " * et dire quelques mots du module `itertools` qui fournit des it\u00e9rateurs communs, comme par exemple, justement, les permutations, les combinaisons, et autres outils combinatoires usuels."
     ]
    },
    {
     "cell_type": "heading",
     "level": 3,
     "metadata": {},
     "source": [
      "Les permutations"
     ]
    },
    {
     "cell_type": "heading",
     "level": 5,
     "metadata": {},
     "source": [
      "C'est quoi d\u00e9j\u00e0 les permutations ?"
     ]
    },
    {
     "cell_type": "markdown",
     "metadata": {},
     "source": [
      "En guise de rappel, l'ensemble des permutations d'un ensemble fini correspond \u00e0 toutes les fa\u00e7ons d'ordonner ses \u00e9l\u00e9ments; si l'ensemble est de cardinal $n$ il poss\u00e8de $n!$ permutations, on a $n$ fa\u00e7ons de choisir le premier \u00e9l\u00e9ment, $n-1$ fa\u00e7ons de choisir le second, etc."
     ]
    },
    {
     "cell_type": "markdown",
     "metadata": {},
     "source": [
      "Comme on vient de le dire, un it\u00e9rateur sur les permutations est disponible au travers du module standard `itertools`. Cependant il nous a sembl\u00e9 int\u00e9ressant de vous montrer comment on pourrait \u00e9crire nous-m\u00eames cette fonctionnalit\u00e9, de mani\u00e8re relativement simple."
     ]
    },
    {
     "cell_type": "markdown",
     "metadata": {},
     "source": [
      "Pour illustrer le concept, \u00e0 quoi ressemblent les 6 permutations d'un ensemble \u00e0 trois \u00e9l\u00e9ments&nbsp;:"
     ]
    },
    {
     "cell_type": "code",
     "collapsed": false,
     "input": [
      "from itertools import permutations"
     ],
     "language": "python",
     "metadata": {},
     "outputs": []
    },
    {
     "cell_type": "code",
     "collapsed": false,
     "input": [
      "set = {1,2,3}\n",
      "\n",
      "for p in permutations (set):\n",
      "    print p"
     ],
     "language": "python",
     "metadata": {},
     "outputs": []
    },
    {
     "cell_type": "heading",
     "level": 5,
     "metadata": {},
     "source": [
      "Une impl\u00e9mentation "
     ]
    },
    {
     "cell_type": "markdown",
     "metadata": {},
     "source": [
      "Voici une impl\u00e9mentation possible pour un it\u00e9rateur de permutations&nbsp;:"
     ]
    },
    {
     "cell_type": "code",
     "collapsed": false,
     "input": [
      "# pour factorial\n",
      "import math\n",
      "\n",
      "class Permutations:\n",
      "    \"\"\"\n",
      "    Un it\u00e9rateur qui \u00e9num\u00e8re les permutations de n\n",
      "    sous la forme d'une liste d'indices commen\u00e7ant \u00e0 0\n",
      "    \"\"\"\n",
      "    def __init__ (self, n):\n",
      "        # le constructeur bien s\u00fbr ne fait (presque) rien\n",
      "        self.n=n\n",
      "        # le compteur va aller de 0 \u00e0 n-1\n",
      "        # puis comme \u00e7a en boucle sans fin\n",
      "        self.counter=0\n",
      "        # on se contente d'allouer un iterateur de rang n-1\n",
      "        # si bien qu'une fois qu'on a fini de construire\n",
      "        # l'objet d'ordre n on a n objets Permutations en tout\n",
      "        if n>=2:\n",
      "            self.subiterator=Permutations(n-1)\n",
      "\n",
      "    # pour satisfaire le protocole de l'iterable\n",
      "    def __iter__ (self):\n",
      "        return self\n",
      "\n",
      "    # c'est ici bien s\u00fbr que se fait tout le travail\n",
      "    def next (self):\n",
      "\n",
      "        # pour n ==1\n",
      "        # le travail est tr\u00e8s simple\n",
      "        if self.n==1:\n",
      "            # on doit renvoyer une fois la liste [0]\n",
      "            # car les indices commencent \u00e0 0\n",
      "            if self.counter==0: \n",
      "                self.counter +=1\n",
      "                return [0]\n",
      "            # et ensuite c'est termin\u00e9\n",
      "            else:\n",
      "                raise StopIteration\n",
      "\n",
      "        # pour n >= 2\n",
      "        # lorsque counter est nul,\n",
      "        # on traite la permutation d'ordre n-1 suivante \n",
      "        if self.counter==0:\n",
      "            self.subsequence = self.subiterator.next()\n",
      "        #\n",
      "        # dans laquelle\n",
      "        # on va ins\u00e9rer n \n",
      "        # \u00e0 n places diff\u00e9rentes\n",
      "        # on ins\u00e8re alors n-1 (car les indices commencent \u00e0 0)\n",
      "        # successivement dans la sous-sequence \u00e0 l'indice counter\n",
      "        #\n",
      "        # naivement on \u00e9crirait\n",
      "        # result = self.subsequence[0:self.counter] \\\n",
      "        #    + [ self.n - 1 ] \\\n",
      "        #    + self.subsequence [self.counter:self.n-1]\n",
      "        # mais c'est mettre le nombre le plus \u00e9lev\u00e9 en premier\n",
      "        # et donc \u00e0 it\u00e9rer les permutations dans le mauvais ordre,\n",
      "        # en commen\u00e7ant par la fin\n",
      "        #\n",
      "        # donc on fait plut\u00f4t une sym\u00e9trie\n",
      "        # pour ins\u00e9rer en commen\u00e7ant par la fin\n",
      "        cutter = self.n-1 - self.counter\n",
      "        result = self.subsequence[0:cutter] + [ self.n - 1 ] \\\n",
      "                 + self.subsequence[cutter:self.n-1]\n",
      "        # \n",
      "        # on n'oublie pas de maintenir le compteur et de\n",
      "        # le remettre \u00e0 z\u00e9ro tous les n tours\n",
      "        self.counter = (self.counter+1) % self.n\n",
      "        return result\n",
      "\n",
      "    # la longeur de cet it\u00e9rateur est connue\n",
      "    def __len__ (self):\n",
      "        return math.factorial(self.n)\n"
     ],
     "language": "python",
     "metadata": {},
     "outputs": []
    }
   ],
   "metadata": {}
  }
 ]
}