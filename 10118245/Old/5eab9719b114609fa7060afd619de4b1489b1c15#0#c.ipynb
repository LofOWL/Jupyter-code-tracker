{
 "metadata": {
  "notebookname": "Expressions r\u00e9guli\u00e8res",
  "signature": "sha256:dfc0e1cf3211f4c7da514cdb10547d608ba4173fd9807595af5ed25eea946095",
  "version": "1.0"
 },
 "nbformat": 3,
 "nbformat_minor": 0,
 "worksheets": [
  {
   "cells": [
    {
     "cell_type": "heading",
     "level": 1,
     "metadata": {},
     "source": [
      "Expressions r\u00e9guli\u00e8res"
     ]
    },
    {
     "cell_type": "heading",
     "level": 2,
     "metadata": {},
     "source": [
      "Compl\u00e9ment - niveau interm\u00e9diaire"
     ]
    },
    {
     "cell_type": "markdown",
     "metadata": {},
     "source": [
      "Le langage perl avait \u00e9t\u00e9 le premier \u00e0 populariser l'utilisation des expressions r\u00e9guli\u00e8res, en en faisant un \"citoyen de premi\u00e8re classe\" dans le langage (c'est-\u00e0-dire support\u00e9 nativement dans le langage, et non au travers d'une librairie).\n",
      "\n",
      "En python, les expressions r\u00e9guli\u00e8res sont disponibles de mani\u00e8re plus traditionnelle, via le module `re` de la librairie standard, dont nous allons dire quelques mots."
     ]
    },
    {
     "cell_type": "code",
     "collapsed": false,
     "input": [
      "import re"
     ],
     "language": "python",
     "metadata": {},
     "outputs": []
    },
    {
     "cell_type": "markdown",
     "metadata": {},
     "source": [
      "Je vous conseille d'avoir sous la main la [documentation du module `re`](https://docs.python.org/2/library/re.html) pendant que vous lisez ce compl\u00e9ment."
     ]
    },
    {
     "cell_type": "heading",
     "level": 3,
     "metadata": {},
     "source": [
      "Avertissement"
     ]
    },
    {
     "cell_type": "markdown",
     "metadata": {},
     "source": [
      "Dans ce compl\u00e9ment nous serons amen\u00e9s \u00e0 utiliser des traits qui d\u00e9pendent du LOCALE, c'est-\u00e0-dire pour faire simple de comment un ordinateur est configur\u00e9 vis-\u00e0-vis de la langue. \n",
      "\n",
      "Tant que vous ex\u00e9cutez ceci dans le notebook sur la plateforme, en principe tout le monde verra exactement la m\u00eame chose. Par contre si vous faites tourner le m\u00eame code sur votre ordinateur, il se peut que vous obteniez des r\u00e9sultats diff\u00e9rents."
     ]
    },
    {
     "cell_type": "heading",
     "level": 3,
     "metadata": {},
     "source": [
      "Un exemple simple"
     ]
    },
    {
     "cell_type": "markdown",
     "metadata": {},
     "source": [
      "Voici deux exemples de cha\u00eenes."
     ]
    },
    {
     "cell_type": "code",
     "collapsed": false,
     "input": [
      "sentences = ['Lacus a donec, vitae porta gravida:; proin donec sociis.', \n",
      "             'Neque ipsum! rhoncus cras quam.']"
     ],
     "language": "python",
     "metadata": {},
     "outputs": []
    },
    {
     "cell_type": "heading",
     "level": 5,
     "metadata": {},
     "source": [
      "`findall`"
     ]
    },
    {
     "cell_type": "markdown",
     "metadata": {},
     "source": [
      "On peut chercher tous les mots se terminant par a ou m dans une cha\u00eene en faisant&nbsp;:"
     ]
    },
    {
     "cell_type": "code",
     "collapsed": false,
     "input": [
      "for sentence in sentences:\n",
      "    print 4*'-','dans >{}<'.format(sentence)\n",
      "    print re.findall (r\"\\w*[am]\\W\", sentence)"
     ],
     "language": "python",
     "metadata": {},
     "outputs": []
    },
    {
     "cell_type": "markdown",
     "metadata": {},
     "source": [
      "Ce code permet de chercher toutes (`findall`) les occurrences de l'expression r\u00e9guli\u00e8re, qui ici est le *raw-string* c'est-\u00e0-dire la cha\u00eene\n",
      "\n",
      "    `r\"\\w*[am]\\W\"`\n",
      "    \n",
      "Nous verrons tout \u00e0 l'heure comment fabriquer des expressions r\u00e9guli\u00e8res plus en d\u00e9tail, mais pour d\u00e9mystifier au moins celle-ci, on a mis bout \u00e0 bout des morceaux d'expression r\u00e9guli\u00e8res&nbsp;:\n",
      " * `\\w*` : il nous faut trouver une sous-cha\u00eene qui commence par un nombre quelconque, y compris nul, de caract\u00e8res alphanum\u00e9riques; ceci est d\u00e9fini en fonction de votre LOCALE, on y reviendra;\n",
      " * `[am]` : imm\u00e9diatement apr\u00e8s, il nous faut trouver un carat\u00e8re `a` ou `m`;\n",
      " * `\\W` : et enfin, il nous faut un caract\u00e8re qui ne soit pas alphanum\u00e9rique."
     ]
    },
    {
     "cell_type": "heading",
     "level": 5,
     "metadata": {},
     "source": [
      "`split`"
     ]
    },
    {
     "cell_type": "markdown",
     "metadata": {},
     "source": [
      "Une autre forme simple d'utilisation des regexps est `re.split`, qui fournit une fonctionnalit\u00e9 voisine de `str.split` qu'on a vue en semaine 2, mais ou les s\u00e9parateurs sont exprim\u00e9s comme une expression r\u00e9guli\u00e8re; ou encore on peut le voir un peu comme la n\u00e9gation de `findall`&nbsp;:"
     ]
    },
    {
     "cell_type": "code",
     "collapsed": false,
     "input": [
      "for sentence in sentences:\n",
      "    print 4*'-','dans >{}<'.format(sentence)\n",
      "    print re.split (r\"\\W+\", sentence)"
     ],
     "language": "python",
     "metadata": {},
     "outputs": []
    },
    {
     "cell_type": "markdown",
     "metadata": {},
     "source": [
      "Ici l'expression r\u00e9guli\u00e8re, qui donc d\u00e9crit le s\u00e9parateur, est simplement `\\W+` c'est-\u00e0-dire toute suite d'au moins caract\u00e8re non alphanum\u00e9rique."
     ]
    },
    {
     "cell_type": "heading",
     "level": 5,
     "metadata": {},
     "source": [
      "Pourquoi un *raw-string* ?"
     ]
    },
    {
     "cell_type": "markdown",
     "metadata": {},
     "source": [
      "En guise de digression, il n'y a aucune obligation \u00e0 utiliser un *raw-string*; d'ailleurs il n'y a pas de diff\u00e9rence de nature entre un *raw-string* et une cha\u00eene usuelle&nbsp;:"
     ]
    },
    {
     "cell_type": "code",
     "collapsed": false,
     "input": [
      "raw = r'abc'\n",
      "regular = 'abc'\n",
      "# comme on a pris une 'petite' cha\u00eene ce sont les m\u00eames objets\n",
      "print 'is', raw is regular\n",
      "# et donc a fortiori\n",
      "print '==', raw == regular"
     ],
     "language": "python",
     "metadata": {},
     "outputs": []
    },
    {
     "cell_type": "markdown",
     "metadata": {},
     "source": [
      "Il se trouve que, comme dans notre premier exemple, le *backslash* `\\` \u00e0 l'int\u00e9rieur des expressions r\u00e9guli\u00e8res est d'un usage assez courant. C'est pourquoi on **utilise fr\u00e9quemment un *raw-string*** pour d\u00e9crire une expression r\u00e9guli\u00e8re. "
     ]
    },
    {
     "cell_type": "heading",
     "level": 3,
     "metadata": {},
     "source": [
      "Un deuxi\u00e8me exemple"
     ]
    },
    {
     "cell_type": "markdown",
     "metadata": {},
     "source": [
      "Nous allons maintenant voir comment on peut, d'abord v\u00e9rifier si une cha\u00eene est conforme au crit\u00e8re d\u00e9fini par l'expression r\u00e9guli\u00e8re, mais aussi *extraire* les morceaux de la cha\u00eene qui correspondent aux diff\u00e9rentes parties de l'expression. \n",
      "\n",
      "Pour cela supposons qu'on s'int\u00e9resse aux cha\u00eenes qui comportent 5 parties, une suite de chiffres, une suite de lettres, des chiffres \u00e0 nouveau, des lettres, et enfin de nouveau des chiffres."
     ]
    },
    {
     "cell_type": "markdown",
     "metadata": {},
     "source": [
      "Avec ces deux chaines en entr\u00e9e&nbsp;:"
     ]
    },
    {
     "cell_type": "code",
     "collapsed": false,
     "input": [
      "inputs = [ '890hj000nnm890',    # cette entr\u00e9e convient\n",
      "           '123abc456def789',   # celle-ci aussi\n",
      "           '8090abababab879',   # celle-ci non\n",
      "           ]"
     ],
     "language": "python",
     "metadata": {},
     "outputs": []
    },
    {
     "cell_type": "markdown",
     "metadata": {},
     "source": [
      "Pour commencer, voyons que l'on peut facilement v\u00e9rifier si une cha\u00eene v\u00e9rifie ou non ce crit\u00e8re&nbsp;:"
     ]
    },
    {
     "cell_type": "code",
     "collapsed": false,
     "input": [
      "regexp1 = \"[0-9]+[A-Za-z]+[0-9]+[A-Za-z]+[0-9]+\""
     ],
     "language": "python",
     "metadata": {},
     "outputs": []
    },
    {
     "cell_type": "markdown",
     "metadata": {},
     "source": [
      "Ce qui nous donne"
     ]
    },
    {
     "cell_type": "code",
     "collapsed": false,
     "input": [
      "for input in inputs:\n",
      "    print '---> input',input\n",
      "    print re.match(regexp1, input)"
     ],
     "language": "python",
     "metadata": {},
     "outputs": []
    },
    {
     "cell_type": "markdown",
     "metadata": {},
     "source": [
      "Ici plut\u00f4t que d'utiliser les raccourcis comme `\\w` j'ai pr\u00e9f\u00e9r\u00e9 \u00e9crire explicitement les ensembles de caract\u00e8res en jeu; ce cette fa\u00e7on on rend son code ind\u00e9pendant du LOCALE si c'est ce qu'on veut faire. Il y a deux morceaux qui interviennent tour \u00e0 tour&nbsp;:\n",
      " * `[0-9]+` signifie une suite de au moins un caract\u00e8re dans l'intervalle `[0-9]`,\n",
      " * `[A-Za-z]+` pour une suite d'au moins un caract\u00e8re dans l'intervalle `[A-Z]` ou dans l'intervalle `[a-z]`. "
     ]
    },
    {
     "cell_type": "heading",
     "level": 5,
     "metadata": {},
     "source": [
      "Nommer un morceau (un groupe)"
     ]
    },
    {
     "cell_type": "code",
     "collapsed": false,
     "input": [
      "# on se concentre sur une entr\u00e9e correcte\n",
      "haystack = inputs[1]\n",
      "haystack"
     ],
     "language": "python",
     "metadata": {},
     "outputs": []
    },
    {
     "cell_type": "markdown",
     "metadata": {},
     "source": [
      "Maintenant, on va m\u00eame pouvoir donner un nom \u00e0 un morceau de la regexp, ici `needle`"
     ]
    },
    {
     "cell_type": "code",
     "collapsed": false,
     "input": [
      "# la m\u00eame regexp, mais on donne un nom \u00e0 un morceau\n",
      "regexp2 = \"[0-9]+[A-Za-z]+(?P<needle>[0-9]+)[A-Za-z]+[0-9]+\""
     ],
     "language": "python",
     "metadata": {},
     "outputs": []
    },
    {
     "cell_type": "markdown",
     "metadata": {},
     "source": [
      "Et une fois que c'est fait on peut demander \u00e0 l'outil de nous retrouver la partie correspondante dans la chaine initiale&nbsp;:"
     ]
    },
    {
     "cell_type": "code",
     "collapsed": false,
     "input": [
      "print re.match(regexp2, haystack).group('needle')"
     ],
     "language": "python",
     "metadata": {},
     "outputs": []
    },
    {
     "cell_type": "markdown",
     "metadata": {},
     "source": [
      "Dans cette expression on a utilis\u00e9 un **groupe nomm\u00e9** `(?P<needle>[0-9]+)`."
     ]
    },
    {
     "cell_type": "heading",
     "level": 3,
     "metadata": {},
     "source": [
      "Un troisi\u00e8me exemple"
     ]
    },
    {
     "cell_type": "markdown",
     "metadata": {},
     "source": [
      "Enfin, et c'est un trait qui n'est pas pr\u00e9sent dans tous les langages, on peut restreindre un morceau de cha\u00eene \u00e0 \u00eatre identique \u00e0 un groupe d\u00e9j\u00e0 vu avant dans la cha\u00eene; dans l'exemple ci-dessus on pourrait ajouter comme contrainte que le premier et le dernier groupes de chiffres soient identiques comme ceci&nbsp;:"
     ]
    },
    {
     "cell_type": "code",
     "collapsed": false,
     "input": [
      "regexp = \"(?P<id>[0-9]+)[A-Za-z]+(?P<needle>[0-9]+)[A-Za-z]+(?P=id)\""
     ],
     "language": "python",
     "metadata": {},
     "outputs": []
    },
    {
     "cell_type": "markdown",
     "metadata": {},
     "source": [
      "Avec les m\u00eames entr\u00e9es que tout \u00e0 l'heure"
     ]
    },
    {
     "cell_type": "code",
     "collapsed": false,
     "input": [
      "for input in inputs:\n",
      "    print '---> input',input\n",
      "    print re.match(regexp, input)"
     ],
     "language": "python",
     "metadata": {},
     "outputs": []
    },
    {
     "cell_type": "markdown",
     "metadata": {},
     "source": [
      "La nouveaut\u00e9 ici est la **backreference** `(?P=id)`."
     ]
    },
    {
     "cell_type": "heading",
     "level": 3,
     "metadata": {},
     "source": [
      "Comment construire une expression r\u00e9guli\u00e8re"
     ]
    },
    {
     "cell_type": "markdown",
     "metadata": {},
     "source": [
      "Nous pouvons \u00e0 pr\u00e9sent refaire une liste des constructions qui permettent d'\u00e9laborer une expression r\u00e9guli\u00e8re, en restant toutefois synth\u00e9tique puisque la [documentation du module `re`](https://docs.python.org/2/library/re.html) en donne une version exhaustive."
     ]
    },
    {
     "cell_type": "heading",
     "level": 5,
     "metadata": {},
     "source": [
      "La brique de base : le caract\u00e8re"
     ]
    },
    {
     "cell_type": "markdown",
     "metadata": {},
     "source": [
      "Au commencement il faut sp\u00e9cifier des caract\u00e8res&nbsp;:\n",
      " * **un seul** caract\u00e8re : vous le citez tel quel, en le pr\u00e9c\u00e9dent d'un backslash `\\` s'il a par ailleurs un sens sp\u00e9cial dans le micro-langage de regexps (comme `+`, `*`, `[` et autres ...);\n",
      " * **un ensemble** de caract\u00e8res avec la notation `[...]` qui permet de d\u00e9crire\n",
      "   * ex. `[a1=]` : un ensemble in extenso, ici un caract\u00e8re parmi les 3: `a`, `1`, ou `=`,\n",
      "   * ex. `[a-z]` : un intervalle de caract\u00e8res\n",
      "   * ex. `[15e-g]` : un m\u00e9lange des deux, qui contiendrait ici `1`, `5`, `e`, `f` et `g`\n",
      "   * ex. `[^15e-g]` : une n\u00e9gation, qui a `^` comme premier caract\u00e8re dans les `[]`, ici tout sauf l'ensemble pr\u00e9c\u00e9dent;\n",
      " * un ensemble de caract\u00e8res pr\u00e9d\u00e9fini, qui peuvent alors d\u00e9pendre de l'environnement (i.e. UNICODE et LOCALE) avec les notations&nbsp;:\n",
      "   * `\\w` les caract\u00e8res alphanum\u00e9riques, et `\\W` (les autres),\n",
      "   * `\\s` les caract\u00e8res \"blancs\" - espace, tabulation, saut de ligne, etc..., et `\\S` (les autres),\n",
      "   * `\\d` pour les chiffres, et `\\D` (les autres),\n",
      " "
     ]
    },
    {
     "cell_type": "heading",
     "level": 5,
     "metadata": {},
     "source": [
      "En s\u00e9rie ou en parall\u00e8le"
     ]
    },
    {
     "cell_type": "markdown",
     "metadata": {},
     "source": [
      "Si je fais une analogie avec les montages \u00e9lectriques, jusqu'ici on a vu le montage en s\u00e9rie&nbsp;: on met des expressions r\u00e9guli\u00e8res bout \u00e0 bout, qui matchent la chaine en entr\u00e9e s\u00e9quentiellement du d\u00e9but \u00e0 la fin. On a *un peu* de marge pour sp\u00e9cifier des alternatives, lorsqu'on fait par exemple\n",
      "\n",
      "    \"ab[cd]ef\"\n",
      "    \n",
      "mais c'est limit\u00e9 \u00e0 **un seul** caract\u00e8re. Si on veut reconnaitre deux mots qui n'ont pas grand-chose \u00e0 voir comme `abc` **ou** `def`, il faut en quelque sorte mettre deux regexps en parall\u00e8le, et c'est ce que permet l'op\u00e9rateur `|`"
     ]
    },
    {
     "cell_type": "code",
     "collapsed": false,
     "input": [
      "for input in [ 'abc', 'def', 'xxx' ]:\n",
      "    print input, re.match(\"abc|def\", input)"
     ],
     "language": "python",
     "metadata": {},
     "outputs": []
    },
    {
     "cell_type": "heading",
     "level": 5,
     "metadata": {},
     "source": [
      "Fin(s) de cha\u00eene"
     ]
    },
    {
     "cell_type": "markdown",
     "metadata": {},
     "source": [
      "Selon que vous utilisez `match` ou `search`, vous pr\u00e9cisez si vous vous int\u00e9ressez uniquement \u00e0 un match en d\u00e9but (`match`) ou n'importe o\u00f9 (`search`) dans la cha\u00eene.\n",
      "\n",
      "Mais ind\u00e9pendamment de cela, il peut \u00eatre int\u00e9ressant de \"coller\" l'expression en d\u00e9but ou en fin de ligne, et pour \u00e7a il existe des caract\u00e8res sp\u00e9ciaux&nbsp:;\n",
      " * `^` lorsqu'il est utilis\u00e9 comme un caract\u00e8re (c'est \u00e0 dire pas en d\u00e9but de `[]`) signifie un d\u00e9but de cha\u00eene;\n",
      " * `\\A` a le m\u00eame sens (sauf en mode MULTILINE), et je le recommande de pr\u00e9f\u00e9rence \u00e0 `^`qui est d\u00e9j\u00e0 pas mal surcharg\u00e9;\n",
      " * `$` matche une fin de ligne;\n",
      " * `\\Z` est voisin mais pas tout \u00e0 fait identique.\n",
      "\n",
      "Reportez-vous \u00e0 la documentation pour le d\u00e9tails des diff\u00e9rences."
     ]
    },
    {
     "cell_type": "heading",
     "level": 5,
     "metadata": {},
     "source": [
      "Parenth\u00e9ser - (grouper)"
     ]
    },
    {
     "cell_type": "markdown",
     "metadata": {},
     "source": [
      "Du coup pour pouvoir faire des montages \u00e9labor\u00e9s il faut pouvoir parenth\u00e9ser&nbsp;:"
     ]
    },
    {
     "cell_type": "code",
     "collapsed": false,
     "input": [
      "for input in [ 'abcf', 'adef', 'abf' ]:\n",
      "    print input, re.match(\"a(bc|de)f\", input)"
     ],
     "language": "python",
     "metadata": {},
     "outputs": []
    },
    {
     "cell_type": "heading",
     "level": 5,
     "metadata": {},
     "source": [
      "Comment compter"
     ]
    },
    {
     "cell_type": "markdown",
     "metadata": {},
     "source": [
      "Vous disposez des op\u00e9rateurs suivants&nbsp;:\n",
      " * ex. `(ab)*` l'\u00e9toile `*` qui signifie n'importe quel nombre, m\u00eame nul, d'occurrences,\n",
      " * ex. `(ab)+` le plus `+` qui signifie au moins une occurrence\n",
      " * ex. `(ab){3}` pour exactement 3 occurrences de `(ab)`, ici ce serait exactement \u00e9quivalent \u00e0 `ababab`\n",
      " * ex. `(ab){3,4}` entre 3 et 4 fois"
     ]
    },
    {
     "cell_type": "code",
     "collapsed": false,
     "input": [
      "inputs = [ n*'ab'for n in [0, 1, 3, 4]] + [ 'foo' ]\n",
      "\n",
      "for regexp in [ '(ab)*', '(ab)+', '(ab){3}', '(ab){3,4}' ]:\n",
      "    # on ajoute \\A \\Z pour matcher toute la chaine\n",
      "    line_regexp = r\"\\A{}\\Z\".format(regexp)\n",
      "    for input in inputs:\n",
      "        print 'RE', line_regexp, 'INPUT', input, '->', re.match(line_regexp, input)"
     ],
     "language": "python",
     "metadata": {},
     "outputs": []
    },
    {
     "cell_type": "heading",
     "level": 3,
     "metadata": {},
     "source": [
      "Greedy *vs* non-greedy"
     ]
    },
    {
     "cell_type": "markdown",
     "metadata": {},
     "source": [
      "****"
     ]
    },
    {
     "cell_type": "markdown",
     "metadata": {},
     "source": [
      "On peut mettre un \"\\n\" comme caract\u00e8re (et faire des RE multilignes)"
     ]
    },
    {
     "cell_type": "code",
     "collapsed": false,
     "input": [
      "lexer + parser "
     ],
     "language": "python",
     "metadata": {},
     "outputs": []
    }
   ],
   "metadata": {}
  }
 ]
}