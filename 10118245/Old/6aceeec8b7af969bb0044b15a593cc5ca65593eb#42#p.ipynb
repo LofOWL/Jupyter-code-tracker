{
 "metadata": {
  "notebookname": "G\u00e9rer des enregistrements",
  "signature": "70647208067242b191688df2cac80db3e938a7d310a1566d530a9d79c1e4d33e",
  "version": "1.0"
 },
 "nbformat": 3,
 "nbformat_minor": 0,
 "worksheets": [
  {
   "cells": [
    {
     "cell_type": "heading",
     "level": 1,
     "metadata": {},
     "source": [
      "G\u00e9rer des enregistrements"
     ]
    },
    {
     "cell_type": "heading",
     "level": 2,
     "metadata": {},
     "source": [
      "Compl\u00e9ment - niveau interm\u00e9diaire"
     ]
    },
    {
     "cell_type": "heading",
     "level": 3,
     "metadata": {},
     "source": [
      "Le dictionnaire comme enregistrement"
     ]
    },
    {
     "cell_type": "markdown",
     "metadata": {},
     "source": [
      "Il nous faut faire le lien entre dictionnaire python et la notion d'enregistrement, c'est-\u00e0-dire une donn\u00e9e composite qui contient plusieurs champs. (\u00c0 cette notion correspond, selon les langages, ce qu'on appelle un `struct` ou un `record`)\n",
      "\n",
      "Imaginons qu'on veuille manipuler un ensemble de donn\u00e9es concernant des personnes; chaque personne est suppos\u00e9e avoir un nom, un age et une adresse mail. \n",
      "\n",
      "Il est possible, et assez fr\u00e9quent, d'utiliser le dictionnaire comme support pour mod\u00e9liser ces donn\u00e9es comme ceci"
     ]
    },
    {
     "cell_type": "code",
     "collapsed": false,
     "input": [
      "personnes = [\n",
      "   {'nom': 'pierre',  'age': 25, 'email': 'pierre@foo.com'},\n",
      "   {'nom': 'paul',    'age': 18, 'email': 'paul@bar.com'},\n",
      "   {'nom': 'jacques', 'age': 52, 'email': 'jacques@cool.com'},\n",
      "]"
     ],
     "language": "python",
     "metadata": {},
     "outputs": []
    },
    {
     "cell_type": "markdown",
     "metadata": {},
     "source": [
      "Bon, tr\u00e8s bien, nous avons nos donn\u00e9es, il est facile de les utiliser.\n",
      "\n",
      "Par exemple, pour l'anniversaire de pierre on fera:"
     ]
    },
    {
     "cell_type": "code",
     "collapsed": false,
     "input": [
      "personnes[0]['age'] += 1"
     ],
     "language": "python",
     "metadata": {},
     "outputs": []
    },
    {
     "cell_type": "markdown",
     "metadata": {},
     "source": [
      "Ce qui nous donne "
     ]
    },
    {
     "cell_type": "code",
     "collapsed": false,
     "input": [
      "for personne in personnes:\n",
      "    print 10*\"=\"\n",
      "    for info, valeur in personne.items():\n",
      "        print \"{} -> {}\".format(info,valeur)"
     ],
     "language": "python",
     "metadata": {},
     "outputs": []
    },
    {
     "cell_type": "heading",
     "level": 3,
     "metadata": {},
     "source": [
      "Un dictionnaire de dictionnaires"
     ]
    },
    {
     "cell_type": "markdown",
     "metadata": {},
     "source": [
      "Cela dit, il est bien clair que cette fa\u00e7on de faire n'est pas tr\u00e8s pratique; pour marquer l'anniversaire de pierre on ne sait bien entendu pas que son enregistrement est le premier dans la liste. C'est pourquoi il est plus adapt\u00e9, pour mod\u00e9liser ces informations, d'utiliser non pas une liste, mais \u00e0 nouveau... un dictionnaire.\n",
      "\n",
      "Si on imagine qu'on a commenc\u00e9 par lire ces donn\u00e9es s\u00e9quentiellement dans un fichier, et qu'on a calcul\u00e9 l'objet `personnes` comme la liste qu'on a vue ci-dessus, alors il est possible de construire un index de ces dictionnaires, qui sera ensuite accessible par le nom de la personne.\n",
      "\n",
      "C'est-\u00e0-dire"
     ]
    },
    {
     "cell_type": "code",
     "collapsed": false,
     "input": [
      "index_par_nom = {personne['nom']: personne for personne in personnes}\n",
      "\n",
      "print \"enregistrement pour pierre\", index_par_nom ['pierre']"
     ],
     "language": "python",
     "metadata": {},
     "outputs": []
    },
    {
     "cell_type": "markdown",
     "metadata": {},
     "source": [
      "Attardons nous un tout petit peu; nous avons construit un dictionnaire par compr\u00e9hension, en cr\u00e9ant autant d'entr\u00e9es que de personnes. Nous aborderons en d\u00e9tail la notion de compr\u00e9hension en semaine 4, donc si cette notation vous para\u00eet \u00e9trange pour le moment, pas d'inqui\u00e9tude. \n",
      "\n",
      "Le r\u00e9sultat est donc un dictionnaire qu'on peut afficher comme ceci:"
     ]
    },
    {
     "cell_type": "code",
     "collapsed": false,
     "input": [
      "for nom, record in index_par_nom.iteritems():\n",
      "    print \"Nom : {} -> enregistrement : {}\".format(nom,record)"
     ],
     "language": "python",
     "metadata": {},
     "outputs": []
    },
    {
     "cell_type": "markdown",
     "metadata": {},
     "source": [
      "Dans cet exemple, le premier niveau de dictionnaire permet de trouver rapidement un objet \u00e0 partir d'un nom; dans le second niveau au contraire on utilise le dictionnaire pour impl\u00e9menter un enregistrement, \u00e0 la fa\u00e7on d'un `struct` en C."
     ]
    },
    {
     "cell_type": "heading",
     "level": 3,
     "metadata": {},
     "source": [
      "Techniques similaires"
     ]
    },
    {
     "cell_type": "markdown",
     "metadata": {},
     "source": [
      "Notons enfin qu'il existe aussi, en python, un autre m\u00e9canisme qui peut \u00eatre utilis\u00e9 pour g\u00e9rer ce genre d'objets composites, ce sont les classes que nous verrons en semaine 5, et qui permettent de d\u00e9finir de nouveaux `types` plut\u00f4t que, comme nous l'avons fait ici, d'utiliser un type pr\u00e9d\u00e9fini. Dans ce sens, l'utilisation d'une classe permet davantage de souplesse, au prix de davantage d'effort."
     ]
    }
   ],
   "metadata": {}
  }
 ]
}