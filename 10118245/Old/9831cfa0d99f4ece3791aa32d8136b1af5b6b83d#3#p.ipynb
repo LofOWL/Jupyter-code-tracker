{
 "cells": [
  {
   "cell_type": "markdown",
   "metadata": {},
   "source": [
    "<style>div.title-slide {    width: 100%;    display: flex;    flex-direction: row;            /* default value; can be omitted */    flex-wrap: nowrap;              /* default value; can be omitted */    justify-content: space-between;}</style><div class=\"title-slide\">\n",
    "<span style=\"float:left;\">Licence CC BY-NC-ND</span>\n",
    "<span>Thierry Parmentelat &amp; Arnaud Legout</span>\n",
    "<span><img src=\"media/both-logos-small-alpha.png\" style=\"display:inline\" /></span>\n",
    "</div>"
   ]
  },
  {
   "cell_type": "markdown",
   "metadata": {},
   "source": [
    "# Le module `collections`"
   ]
  },
  {
   "cell_type": "markdown",
   "metadata": {},
   "source": [
    "## Complément - niveau intermédiaire"
   ]
  },
  {
   "cell_type": "markdown",
   "metadata": {},
   "source": [
    "Maintenant que nous avons terminé le tour des types de base fournis par le langage, vous pourrez trouver dans [le module `collections`](https://docs.python.org/3/library/collections.html) quelques types étendus, qui fournissent des extensions souvent commodes des types de base. Nous allons en voir quelques exemples."
   ]
  },
  {
   "cell_type": "markdown",
   "metadata": {},
   "source": [
    "### [`OrderedDict`](https://docs.python.org/3/library/collections.html#collections.OrderedDict) : un dictionnaire avec mémoire"
   ]
  },
  {
   "cell_type": "markdown",
   "metadata": {},
   "source": [
    "Nous avons vu que le dictionnaire n'est pas une structure ordonnée:"
   ]
  },
  {
   "cell_type": "code",
   "execution_count": null,
   "metadata": {
    "collapsed": true
   },
   "outputs": [],
   "source": [
    "cluedo = {}\n",
    "cluedo['olive'] = 'green'\n",
    "cluedo['moutarde'] = 'mustard'\n",
    "cluedo['rose'] = 'scarlett'\n",
    "cluedo['pervenche'] = 'peacock'\n",
    "for cle, valeur in list(cluedo.items()):\n",
    "    print(cle, valeur)"
   ]
  },
  {
   "cell_type": "markdown",
   "metadata": {},
   "source": [
    "Avec le type `OrderedDict`, on peut conserver l'ordre dans lequel les clés sont entrées, au prix naturellement d'un surcoût en termes d'occupation mémoire :"
   ]
  },
  {
   "cell_type": "code",
   "execution_count": null,
   "metadata": {
    "collapsed": true
   },
   "outputs": [],
   "source": [
    "from collections import OrderedDict\n",
    "\n",
    "cluedo = OrderedDict()\n",
    "cluedo['olive'] = 'green'\n",
    "cluedo['moutarde'] = 'mustard'\n",
    "cluedo['rose'] = 'scarlett'\n",
    "cluedo['pervenche'] = 'peacock'\n",
    "for cle, valeur in list(cluedo.items()):\n",
    "    print(cle, valeur)"
   ]
  },
  {
   "cell_type": "markdown",
   "metadata": {},
   "source": [
    "### [`defaultdict`](https://docs.python.org/3/library/collections.html#defaultdict-objects) : un dictionnaire avec initialisation automatique"
   ]
  },
  {
   "cell_type": "markdown",
   "metadata": {},
   "source": [
    "`defaultdict` est une spécialisation du type dictionnaire. Par opposition avec le type `dict` standard, lorsqu'on fait référence à une clé manquante, un [mécanisme de `factory`](http://en.wikipedia.org/wiki/Factory_%28object-oriented_programming%29) entre en jeu pour initialiser la valeur associée à la clé.\n",
    "\n",
    "Par exemple, supposons qu'on ait besoin de gérer un dictionnaire dont les valeurs sont des ensembles. "
   ]
  },
  {
   "cell_type": "code",
   "execution_count": null,
   "metadata": {
    "collapsed": true
   },
   "outputs": [],
   "source": [
    "# on dispose d'enregistrements comme par exemple\n",
    "enregistrements = [('a', 10), ('b', 20), ('a', 30), ('b', 40)]\n",
    "\n",
    "# on veut construire un dictionnaire qui \n",
    "# avec ces entrées ressemblerait à\n",
    "# {'a' : {10, 30}, 'b' : {20, 40}}"
   ]
  },
  {
   "cell_type": "markdown",
   "metadata": {},
   "source": [
    "Avec le type `dict` standard, il faut se livrer à une petite gymnastique du genre de :"
   ]
  },
  {
   "cell_type": "code",
   "execution_count": null,
   "metadata": {
    "collapsed": true
   },
   "outputs": [],
   "source": [
    "cumul = {}\n",
    "for cle, valeur in enregistrements:\n",
    "    if cle not in cumul:\n",
    "        cumul[cle] = set()\n",
    "    cumul[cle].add(valeur)\n",
    "print(cumul)"
   ]
  },
  {
   "cell_type": "markdown",
   "metadata": {},
   "source": [
    "Ou encore, un peu mieux, toujours avec `dict` mais en utilisant `setdefault` :"
   ]
  },
  {
   "cell_type": "code",
   "execution_count": null,
   "metadata": {
    "collapsed": true
   },
   "outputs": [],
   "source": [
    "cumul = {}\n",
    "for cle, valeur in enregistrements:\n",
    "    cumul.setdefault(cle, set()).add(valeur)\n",
    "print(cumul)"
   ]
  },
  {
   "cell_type": "markdown",
   "metadata": {},
   "source": [
    "*****"
   ]
  },
  {
   "cell_type": "markdown",
   "metadata": {},
   "source": [
    "Avec `defaultdict` on peut préciser comment les valeurs doivent être initialisées, le code est plus lisible :"
   ]
  },
  {
   "cell_type": "code",
   "execution_count": null,
   "metadata": {
    "collapsed": true
   },
   "outputs": [],
   "source": [
    "from collections import defaultdict\n",
    "\n",
    "# la valeur par défaut est une liste vide\n",
    "cumul = defaultdict(set)\n",
    "for cle, valeur in enregistrements:\n",
    "    cumul[cle].add(valeur)\n",
    "print(cumul)"
   ]
  },
  {
   "cell_type": "markdown",
   "metadata": {},
   "source": [
    "## Complément - niveau avancé"
   ]
  },
  {
   "cell_type": "markdown",
   "metadata": {},
   "source": [
    "### Autres types"
   ]
  },
  {
   "cell_type": "markdown",
   "metadata": {},
   "source": [
    "Référez-vous à la section sur le [module `collections`](https://docs.python.org/3/library/collections.html) dans la documentation standard pour davantage de détails sur les autres types offerts par ce module, comme\n",
    " * [`Counter`](https://docs.python.org/3/library/collections.html#collections.Counter)\n",
    "une autre spécialisation du type `dict`, dont les valeurs sont des entiers, spécialisée pour compter des occurrences;\n",
    " * [deque](https://docs.python.org/3/library/collections.html#collections.deque) une spécialisation du type `list` optimisée pour ajouter/enlever des éléments aux deux extrémités de la liste;\n",
    " * [namedtuple](https://docs.python.org/3/library/collections.html#collections.namedtuple) ici il ne s'agit pas d'un type à proprement parler, mais d'une fonction qui permet de créer des types; nous y reviendrons en semaine 6 lorsque nous aborderons l'héritage."
   ]
  }
 ],
 "metadata": {
  "kernelspec": {
   "display_name": "Python 3",
   "language": "python",
   "name": "python3"
  },
  "language_info": {
   "codemirror_mode": {
    "name": "ipython",
    "version": 3
   },
   "file_extension": ".py",
   "mimetype": "text/x-python",
   "name": "python",
   "nbconvert_exporter": "python",
   "pygments_lexer": "ipython3",
   "version": "3.6.2"
  },
  "livereveal": {
   "auto_select": "code",
   "auto_select_fragment": true,
   "autolaunch": false,
   "backimage": "media/nologo.png",
   "height": "100%",
   "slideNumber": "c",
   "start_slideshow_at": "selected",
   "theme": "simple",
   "transition": "fade",
   "width": "100%"
  },
  "notebookname": "le module collections",
  "version": "3.0"
 },
 "nbformat": 4,
 "nbformat_minor": 1
}