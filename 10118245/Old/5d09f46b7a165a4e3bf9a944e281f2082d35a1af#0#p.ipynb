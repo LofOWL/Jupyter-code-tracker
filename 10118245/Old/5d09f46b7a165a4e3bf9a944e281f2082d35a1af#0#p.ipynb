{
 "metadata": {
  "name": "",
  "signature": "sha256:38626b901deadac90a334a14b91d2c6f4292e29d013db0830901d4a3556346d7"
 },
 "nbformat": 3,
 "nbformat_minor": 0,
 "worksheets": [
  {
   "cells": [
    {
     "cell_type": "heading",
     "level": 1,
     "metadata": {},
     "source": [
      "Indentations en python"
     ]
    },
    {
     "cell_type": "markdown",
     "metadata": {},
     "source": [
      "Comme on l'a vu dans la vid\u00e9o, on python on utilise les indentations pour structurer le code."
     ]
    },
    {
     "cell_type": "heading",
     "level": 3,
     "metadata": {},
     "source": [
      "Imbrications"
     ]
    },
    {
     "cell_type": "markdown",
     "metadata": {},
     "source": [
      "Nous l'avons signal\u00e9 \u00e9galement dans la vid\u00e9o, la pratique la plus courante est d'utiliser syst\u00e9matiquement une marge de 4 espaces"
     ]
    },
    {
     "cell_type": "code",
     "collapsed": false,
     "input": [
      "if 'g' in 'egg':\n",
      "    print 'OUI'\n",
      "else:\n",
      "    print 'NON'"
     ],
     "language": "python",
     "metadata": {},
     "outputs": []
    },
    {
     "cell_type": "markdown",
     "metadata": {},
     "source": [
      "Voyons tout de suite comment on pourrait \u00e9crire plusieurs tests imbriqu\u00e9s"
     ]
    },
    {
     "cell_type": "code",
     "collapsed": false,
     "input": [
      "entree='spam'\n",
      "if 'a' in entree:\n",
      "    if 'b' in entree:\n",
      "        cas11 = True\n",
      "        print 'a et b'\n",
      "    else:\n",
      "        cas12 = True\n",
      "        print 'a mais pas b'\n",
      "else:\n",
      "    if 'b' in entree:\n",
      "        cas21 = True\n",
      "        print 'b mais pas a'\n",
      "    else:\n",
      "        cas22 = True\n",
      "        print 'ni a ni b'"
     ],
     "language": "python",
     "metadata": {},
     "outputs": []
    },
    {
     "cell_type": "markdown",
     "metadata": {},
     "source": [
      "Comme vous le voyez, cette construction est assez simple; remarquez bien les deux points **:** \u00e0 chaque d\u00e9but de bloc, c'est-\u00e0-dire \u00e0 chaque fin de ligne `if` ou `else`"
     ]
    },
    {
     "cell_type": "heading",
     "level": 3,
     "metadata": {},
     "source": [
      "Espaces *vs* tabulations"
     ]
    },
    {
     "cell_type": "markdown",
     "metadata": {},
     "source": [
      "Cette fa\u00e7on d'organiser le code peut para\u00eetre tr\u00e8s \u00e9trange, notamment aux gens habitu\u00e9s \u00e0 un autre langage de programmation, puisqu'en g\u00e9n\u00e9ral les syntaxes des langages sont con\u00e7ues de mani\u00e8re \u00e0 \u00eatre insensibles aux espaces et \u00e0 la pr\u00e9sentation. \n",
      "\n",
      "Comme vous le constaterez \u00e0 l'usage cependant, une fois qu'on s'y est habitu\u00e9 cette pratique est tr\u00e8s agr\u00e9able, une fois qu'on a \u00e9crit la derni\u00e8re ligne du code, on n'a pas \u00e0 r\u00e9fl\u00e9chir \u00e0 refermer le bon nombre d'accolades ou de 'END'. \n",
      "\n",
      "Par ailleurs, comme pour tous les langages, votre \u00e9diteur favori conna\u00eet cette syntaxe et va vous aider \u00e0 respecter la r\u00e8gle des 4 caract\u00e8res. Nous ne pouvons pas publier ici une liste des commandes disponibles par \u00e9diteur, nous vous invitons le cas \u00e9ch\u00e9ant \u00e0 \u00e9changer entre vous sur le forum pour partager les recettes que vous utilisez avec votre \u00e9diteur / environnement de programmation."
     ]
    },
    {
     "cell_type": "markdown",
     "metadata": {},
     "source": [
      "Il nous faut par contre donner quelques d\u00e9tails sur un probl\u00e8me, que l'on rencontre fr\u00e9quemment sur du code partag\u00e9 entre plusieurs personnes quand celles-ci utilisent des environnement diff\u00e9rents.\n",
      "\n",
      "Pour faire court, ce probl\u00e8me est **susceptible d'appara\u00eetre d\u00e8s qu'on utilise des tabulations** plut\u00f4t que des espaces pour impl\u00e9menter les indentations. Aussi, le message \u00e0 retenir ici est **de ne jamais utiliser de tabulations dans votre code python**"
     ]
    },
    {
     "cell_type": "markdown",
     "metadata": {},
     "source": [
      "En version longue, il existe un code ASCII pour un caract\u00e8re qui s'appelle 'Tabulation' (alias Control-I); l'interpr\u00e9tation de ce caract\u00e8re n'\u00e9tant pas clairement sp\u00e9cifi\u00e9, on peut se retrouver dans une situation comme la suivante."
     ]
    },
    {
     "cell_type": "markdown",
     "metadata": {},
     "source": [
      "Bernard utilise l'\u00e9diteur vim; sous cet \u00e9diteur il lui est possible de mettre des tabulations dans son code, et de choisir la valeur de ces tabulations. Aussi il va dans les pr\u00e9f\u00e9rences de vim, choisit Tabulation=4, et \u00e9crit un programme qu'il voit comme ceci"
     ]
    },
    {
     "cell_type": "code",
     "collapsed": false,
     "input": [
      "if 'a' in entree:\n",
      "    if 'b' in entree:\n",
      "        cas11 = True\n",
      "        print 'a et b'\n",
      "    else:\n",
      "        cas12 = True\n",
      "        print 'a mais pas b'"
     ],
     "language": "python",
     "metadata": {},
     "outputs": []
    },
    {
     "cell_type": "markdown",
     "metadata": {},
     "source": [
      "Sauf qu'en fait, il a mis un m\u00e9lange de tabulations et d'espaces, et en fait le fichier contient (avec ^I pour tabulation)"
     ]
    },
    {
     "cell_type": "raw",
     "metadata": {},
     "source": [
      "if 'a' in entree:\n",
      "^Iif 'b' in entree:\n",
      "^I^Icas11 = True\n",
      "    ^Iprint 'a et b'\n",
      "^Ielse:\n",
      "^I^Icas12 = True\n",
      "    ^Iprint 'a mais pas b'"
     ]
    },
    {
     "cell_type": "markdown",
     "metadata": {},
     "source": [
      "Bernard envoie son code \u00e0 Alice qui utilise emacs. Dans son environnement, emacs affiche une tabulation comme 8 caract\u00e8res. Du coup Alice \"voit\" le code suivant"
     ]
    },
    {
     "cell_type": "raw",
     "metadata": {},
     "source": [
      "if 'a' in entree:\n",
      "        if 'b' in entree:\n",
      "                cas11 = True\n",
      "            print 'a et b'\n",
      "    else:\n",
      "        cas12 = True\n",
      "            print 'a mais pas b'"
     ]
    },
    {
     "cell_type": "markdown",
     "metadata": {},
     "source": [
      "Bref, c'est la confusion la plus totale. Aussi r\u00e9p\u00e9tons-le, **n'utilisez jamais de tabulations dans votre code python**"
     ]
    },
    {
     "cell_type": "heading",
     "level": 3,
     "metadata": {},
     "source": [
      "Utiliser des indentations de 4 espaces"
     ]
    },
    {
     "cell_type": "heading",
     "level": 5,
     "metadata": {},
     "source": [
      "En version courte: **Utilisez toujours des indentations de 4 espaces**."
     ]
    },
    {
     "cell_type": "markdown",
     "metadata": {},
     "source": [
      "EN version longue, et pour les curieux, ou si vous rencontrez un code qui ne respecte pas cette convention, il nous faut, pour \u00eatre tout \u00e0 fait pr\u00e9cis sur ce que python accepte ou non, pr\u00e9ciser ce qui est r\u00e9ellement requis par python. "
     ]
    },
    {
     "cell_type": "markdown",
     "metadata": {},
     "source": [
      "La r\u00e8gle utilis\u00e9e pour analyser votre code, c'est que toutes les instructions dans un m\u00eame bloc sont pr\u00e9sent\u00e9es avec au m\u00eame niveau d'indentation. Si deux lignes successives - modulo les blocs imbriqu\u00e9s - ont la m\u00eame indentation, elles sont dans le m\u00eame bloc.\n",
      "\n",
      "Voyons quelques exemples. Tout d'abord le code suivant est **l\u00e9gal**, quoique, redisons-le pour la derni\u00e8re fois, **pas du tout recommand\u00e9**"
     ]
    },
    {
     "cell_type": "code",
     "collapsed": false,
     "input": [
      "if 'a' in 'pas du tout recommande':\n",
      "  succes = True\n",
      "  print 'OUI'\n",
      "else:\n",
      "      print 'NON'"
     ],
     "language": "python",
     "metadata": {},
     "outputs": []
    },
    {
     "cell_type": "markdown",
     "metadata": {},
     "source": [
      "En effet les deux blocs sont des blocs distincts, ils sont libres d'utiliser deux indentations diff\u00e9rentes (ici 2 et 6)"
     ]
    },
    {
     "cell_type": "markdown",
     "metadata": {},
     "source": [
      "Par contre la construction ci-dessous n'est pas l\u00e9gale"
     ]
    },
    {
     "cell_type": "code",
     "collapsed": false,
     "input": [
      "if 'a' in entree:\n",
      "    if 'b' in entree:\n",
      "        cas11 = True\n",
      "        print 'a et b'\n",
      "      else:\n",
      "        cas12 = True\n",
      "        print 'a mais pas b'"
     ],
     "language": "python",
     "metadata": {},
     "outputs": []
    },
    {
     "cell_type": "markdown",
     "metadata": {},
     "source": [
      "En effet les deux lignes 'if' et 'else' font logiquement partie du m\u00eame bloc, elles **doivent** avoir la m\u00eame indentation. Avec cette pr\u00e9sentation le lecteur python \u00e9met une erreur et ne peut pas interpr\u00e9ter le code."
     ]
    }
   ],
   "metadata": {}
  }
 ]
}
