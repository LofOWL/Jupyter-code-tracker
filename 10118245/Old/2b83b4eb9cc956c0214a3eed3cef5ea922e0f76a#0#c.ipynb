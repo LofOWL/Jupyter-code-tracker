{
 "metadata": {
  "kernelspec": {
   "display_name": "Python 2", 
   "language": "python", 
   "name": "python2"
  }, 
  "language_info": {
   "codemirror_mode": {
    "name": "ipython", 
    "version": 2
   }, 
   "file_extension": ".py", 
   "mimetype": "text/x-python", 
   "name": "python", 
   "nbconvert_exporter": "python", 
   "pygments_lexer": "ipython2", 
   "version": "2.7.11"
  }, 
  "name": "", 
  "notebookname": "De la lecture", 
  "version": "2.0"
 }, 
 "nbformat": 2, 
 "nbformat_minor": 0, 
 "orig_nbformat": 4, 
 "orig_nbformat_minor": 0, 
 "worksheets": [
  {
   "cells": [
    {
     "cell_type": "markdown", 
     "metadata": {}, 
     "source": [
      "<span style=\"float:left;\">Licence CC BY-NC-ND</span><span style=\"float:right;\">Thierry Parmentelat &amp; Arnaud Legout&nbsp;<img src=\"media/inria-25.png\" style=\"display:inline\"></span><br/>"
     ]
    }, 
    {
     "cell_type": "markdown", 
     "metadata": {}, 
     "source": [
      "# Un peu de lecture"
     ]
    }, 
    {
     "cell_type": "markdown", 
     "metadata": {}, 
     "source": [
      "## Compl\u00e9ment - niveau basique"
     ]
    }, 
    {
     "cell_type": "markdown", 
     "metadata": {}, 
     "source": [
      "### Le zen de python"
     ]
    }, 
    {
     "cell_type": "markdown", 
     "metadata": {}, 
     "source": [
      "Vous pouvez lire le zen de python \u00e0 partir de python en important le module `this` comme ceci (n'oubliez pas d'\u00e9valuer cette cellule dans votre notebook)"
     ]
    }, 
    {
     "cell_type": "code", 
     "collapsed": false, 
     "input": [
      "import this"
     ], 
     "language": "python", 
     "metadata": {}, 
     "outputs": [], 
     "prompt_number": null
    }, 
    {
     "cell_type": "markdown", 
     "metadata": {}, 
     "source": [
      "Vous remarquerez que si vous \u00e9valuez cette cellule une deuxi\u00e8me fois, le texte dispara\u00eet; c'est le comportement normal de `import` comme on le verra en semaine 3. Red\u00e9marrez l'interpr\u00e9teur python du notebook (*Kernel -> Restart*) pour revenir \u00e0 l'\u00e9tat de d\u00e9part, et \u00e9valuez la cellule \u00e0 nouveau."
     ]
    }, 
    {
     "cell_type": "markdown", 
     "metadata": {}, 
     "source": [
      "### Documentation"
     ]
    }, 
    {
     "cell_type": "markdown", 
     "metadata": {}, 
     "source": [
      " * On peut commencer par citer l'[article de wikipedia sur python en fran\u00e7ais](http://fr.wikipedia.org/wiki/Python_%28langage%29)", 
      "", 
      " * La [page sur le langage en fran\u00e7ais](https://wiki.python.org/moin/FrenchLanguage)", 
      " ", 
      " * La [documentation originale](https://docs.python.org/2.7/) de python-2.7 - donc, en anglais - est un tr\u00e8s bon point d'entr\u00e9e lorsqu'on cherche un sujet particulier, mais (beaucoup) trop abondante pour \u00eatre lue d'un seul trait. Pour chercher de la documentation sur un module particulier: le plus simple est encore d'utiliser google - ou votre moteur de recherche favori - qui vous redirigera dans la grande majorit\u00e9 des cas vers la page qui va bien dans, pr\u00e9cis\u00e9ment, la documentation python."
     ]
    }, 
    {
     "cell_type": "markdown", 
     "metadata": {}, 
     "source": [
      "### Historique et survol"
     ]
    }, 
    {
     "cell_type": "markdown", 
     "metadata": {}, 
     "source": [
      " * L'article de wikipedia (en anglais) sur l'[historique du langage](http://en.wikipedia.org/wiki/History_of_Python)", 
      " * Sur wikip\u00e9dia, un article (en anglais) sur [la syntaxe et la s\u00e9mantique de python](http://en.wikipedia.org/wiki/Python_syntax_and_semantics) "
     ]
    }, 
    {
     "cell_type": "markdown", 
     "metadata": {}, 
     "source": [
      "### Un peu de folklore"
     ]
    }, 
    {
     "cell_type": "markdown", 
     "metadata": {}, 
     "source": [
      " * Le [discours de Guido van Rossum \u00e0 PyCon 2012](https://www.youtube.com/watch?v=EBRMq2Ioxsc)", 
      " * Le [discours de Guido van Rossum \u00e0 PyCon 2016](https://www.youtube.com/watch?v=YgtL4S7Hrwo)", 
      " * Sur youtube: le [sketch des monty python](https://www.youtube.com/watch?v=anwy2MPT5RE) d'o\u00f9 provient les termes `spam`, `eggs` et autres `beans` qu'on utilise traditionnellement dans les exemples en python plut\u00f4t que `foo` et `bar`", 
      " * et l'[article wikipedia correspondant](http://en.wikipedia.org/wiki/Spam_%28Monty_Python%29), qui cite le langage python"
     ]
    }, 
    {
     "cell_type": "markdown", 
     "metadata": {}, 
     "source": [
      "## Compl\u00e9ment - niveau interm\u00e9diaire"
     ]
    }, 
    {
     "cell_type": "markdown", 
     "metadata": {}, 
     "source": [
      "### Licence"
     ]
    }, 
    {
     "cell_type": "markdown", 
     "metadata": {}, 
     "source": [
      "* La [licence d'utilisation est disponible ici](https://docs.python.org/2/license.html). Vous remarquerez qu'elle a \u00e9t\u00e9 modifi\u00e9e r\u00e9cemment pour la 2.7.8", 
      "* La page de la [Python Software Foundation](https://www.python.org/psf/), qui est une entit\u00e9 l\u00e9gale similaire \u00e0 nos associations de 1901, \u00e0 but non lucratif; elle poss\u00e8de les droits sur le langage"
     ]
    }, 
    {
     "cell_type": "markdown", 
     "metadata": {}, 
     "source": [
      "### Le processus de d\u00e9veloppement"
     ]
    }, 
    {
     "cell_type": "markdown", 
     "metadata": {}, 
     "source": [
      " * Discussion sur les choix de conception du langage", 
      "   * http://python-history.blogspot.com", 
      " * Comment les choix d'\u00e9volution sont propos\u00e9s et discut\u00e9s, au travers des PEP (Python Enhacement Proposal)", 
      "   * http://en.wikipedia.org/wiki/Python_(programming_language)#Development", 
      " * Le premier PEP d\u00e9crit en d\u00e9tail .. le cycle de vie des PEPs", 
      "   * http://legacy.python.org/dev/peps/pep-0001/", 
      " * L'index de tous les PEPs", 
      "   * http://legacy.python.org/dev/peps/        "
     ]
    }
   ], 
   "metadata": {}
  }
 ]
}
