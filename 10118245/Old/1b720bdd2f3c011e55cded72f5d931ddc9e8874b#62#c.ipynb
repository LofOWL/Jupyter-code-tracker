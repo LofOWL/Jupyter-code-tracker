{
 "metadata": {
  "kernelspec": {
   "display_name": "Python 2", 
   "language": "python", 
   "name": "python2"
  }, 
  "name": "", 
  "notebookname": "Limite de la boucle for", 
  "version": "2.0"
 }, 
 "nbformat": 2, 
 "nbformat_minor": 0, 
 "orig_nbformat": 4, 
 "orig_nbformat_minor": 0, 
 "worksheets": [
  {
   "cells": [
    {
     "cell_type": "markdown", 
     "metadata": {}, 
     "source": [
      "<span style=\"float:left;\">Licence CC BY-NC-ND</span><span style=\"float:right;\">Thierry Parmentelat &amp; Arnaud Legout&nbsp;<img src=\"media/inria-25.png\" style=\"display:inline\"></span><br/>"
     ]
    }, 
    {
     "cell_type": "markdown", 
     "metadata": {}, 
     "source": [
      "# Une limite de la boucle `for`"
     ]
    }, 
    {
     "cell_type": "markdown", 
     "metadata": {}, 
     "source": [
      "## Compl\u00e9ment - niveau basique"
     ]
    }, 
    {
     "cell_type": "markdown", 
     "metadata": {}, 
     "source": [
      "Pour ceux qui veulent suivre le cours au niveau basique, retenez seulement que dans une boucle `for` sur un objet mutable, **il ne faut pas modifier le sujet** de la boucle.", 
      "", 
      "Ainsi par exemple il ne **faut pas faire** quelque chose comme ceci:"
     ]
    }, 
    {
     "cell_type": "code", 
     "collapsed": false, 
     "input": [
      "# on veut enlever de l'ensemble toutes les chaines ", 
      "# qui ne commencent pas par 'a'", 
      "ensemble = {'marc', 'albert'}", 
      "", 
      "# ceci semble une bonne id\u00e9e mais ne fonctionne pas", 
      "for valeur in ensemble:", 
      "    if valeur[0] != 'a':", 
      "        ensemble.discard(valeur)"
     ], 
     "language": "python", 
     "metadata": {}, 
     "outputs": [], 
     "prompt_number": null
    }, 
    {
     "cell_type": "markdown", 
     "metadata": {}, 
     "source": [
      "### Comment faire alors ?"
     ]
    }, 
    {
     "cell_type": "markdown", 
     "metadata": {}, 
     "source": [
      "Lorsqu'on est dans ce cas de figure, il suffit de faire la boucle sur une *shallow copy* de l'objet."
     ]
    }, 
    {
     "cell_type": "code", 
     "collapsed": false, 
     "input": [
      "from copy import copy", 
      "# on veut enlever de l'ensemble toutes les chaines ", 
      "# qui ne commencent pas par 'a'", 
      "ensemble = {'marc', 'albert'}", 
      "", 
      "# si on fait d'abord une copie tout va bien", 
      "for valeur in copy(ensemble):", 
      "    if valeur[0] != 'a':", 
      "        ensemble.discard(valeur)", 
      "        ", 
      "print ensemble"
     ], 
     "language": "python", 
     "metadata": {}, 
     "outputs": [], 
     "prompt_number": null
    }, 
    {
     "cell_type": "markdown", 
     "metadata": {}, 
     "source": [
      "### Avertissement"
     ]
    }, 
    {
     "cell_type": "markdown", 
     "metadata": {}, 
     "source": [
      "Dans l'exemple ci-dessus, on voit que l'interpr\u00e9teur se rend compte que l'on est en train de modifier l'objet de la boucle, et nous le signifie.", 
      "", 
      "Ne vous fiez pas forc\u00e9ment \u00e0 cet exemple, il existe des cas -- nous en verrons plus loin dans ce document -- o\u00f9 l'interpr\u00e9teur peut accepter votre code alors qu'il n'ob\u00e9it pas \u00e0 cette r\u00e8gle, et du coup essentiellement se mettre \u00e0 faire n'importe quoi."
     ]
    }, 
    {
     "cell_type": "markdown", 
     "metadata": {}, 
     "source": [
      "### Pr\u00e9cisons bien la limite"
     ]
    }, 
    {
     "cell_type": "markdown", 
     "metadata": {}, 
     "source": [
      "Pour \u00eatre tout \u00e0 fait clair, lorsqu'on dit qu'il ne faut pas modifier l'objet de la boucle `for`, il ne s'agit que du premier niveau. ", 
      "", 
      "On ne doit pas modifier la **composition de l'objet en tant qu'it\u00e9rable**, mais on peut sans souci modifier chacun des objets qui constituent l'it\u00e9ration.", 
      "", 
      "Ainsi par exemple cette construction par contre est tout \u00e0 fait valide"
     ]
    }, 
    {
     "cell_type": "code", 
     "collapsed": false, 
     "input": [
      "liste = [[i] for i in range(3)]", 
      "print 'avant', liste", 
      "for sous_liste in liste:", 
      "    sous_liste.append(None)", 
      "print 'apr\u00e8s', liste"
     ], 
     "language": "python", 
     "metadata": {}, 
     "outputs": [], 
     "prompt_number": null
    }, 
    {
     "cell_type": "markdown", 
     "metadata": {}, 
     "source": [
      "Dans cet exemple, les modifications ont lieu sur les \u00e9l\u00e9ments de `liste`, et non sur l'objet `liste` lui-m\u00eame, c'est donc tout \u00e0 fait l\u00e9gal."
     ]
    }, 
    {
     "cell_type": "markdown", 
     "metadata": {}, 
     "source": [
      "## Compl\u00e9ment - niveau interm\u00e9diaire"
     ]
    }, 
    {
     "cell_type": "markdown", 
     "metadata": {}, 
     "source": [
      "Pour bien comprendre la nature de cette limitation, il faut bien voir que cela soul\u00e8ve deux types de probl\u00e8mes distincts."
     ]
    }, 
    {
     "cell_type": "markdown", 
     "metadata": {}, 
     "source": [
      "### Difficult\u00e9 d'ordre s\u00e9mantique"
     ]
    }, 
    {
     "cell_type": "markdown", 
     "metadata": {}, 
     "source": [
      "D'un point de vue s\u00e9mantique, si l'on voulait autoriser ce genre de choses, il faudrait d\u00e9finir tr\u00e8s pr\u00e9cis\u00e9ment le comportement attendu.", 
      "", 
      "Consid\u00e9rons par exemple la situation d'une liste qui a 10 \u00e9l\u00e9ments, sur laquelle on ferait une boucle et que, par exemple au 5\u00e8me \u00e9l\u00e9ment, on enl\u00e8ve le 8\u00e8me \u00e9l\u00e9ment. Quel serait le comportement attendu dans ce cas ? Faut-il ou non que la boucle envisage alors le 8-\u00e8me \u00e9l\u00e9ment ?", 
      "", 
      "La situation serait encore pire pour les dictionnaires et ensembles pour lesquels l'ordre de parcours n'est pas sp\u00e9cifi\u00e9; ainsi on pourrait \u00e9crire du code totalement ind\u00e9terministe si le parcours d'un ensemble essayait:", 
      " * d'enlever l'\u00e9l\u00e9ment 'b' lorsqu'on parcourt l'\u00e9l\u00e9ment 'a'", 
      " * d'enlever l'\u00e9l\u00e9ment 'a' lorsqu'on parcourt l'\u00e9l\u00e9ment 'b'", 
      " ", 
      "On le voit, il n'est d\u00e9j\u00e0 pas tr\u00e8s simple d'expliciter sans ambigu\u00eft\u00e9 le comportement attendu d'une boucle for qui serait autoris\u00e9e \u00e0 modifier son propre sujet. En fait, l'apparente limitation qui consiste \u00e0 interdir de modifier l'objet sur lequel on it\u00e8re permet d'avoir un comportement plus facile \u00e0 comprendre. "
     ]
    }, 
    {
     "cell_type": "markdown", 
     "metadata": {}, 
     "source": [
      "### Difficult\u00e9 d'impl\u00e9mentation"
     ]
    }, 
    {
     "cell_type": "markdown", 
     "metadata": {}, 
     "source": [
      "Voyons maintenant un exemple de code qui ne respecte pas la r\u00e8gle, et qui modifie le sujet de la boucle en lui ajoutant des valeurs"
     ]
    }, 
    {
     "cell_type": "markdown", 
     "metadata": {}, 
     "source": [
      "    # cette boucle ne termine pas", 
      "    liste = [1, 2, 3]", 
      "    for c in liste:", 
      "        if c == 3:", 
      "            liste.append(c)"
     ]
    }, 
    {
     "cell_type": "markdown", 
     "metadata": {}, 
     "source": [
      "Nous avons volontairement mis ce code **dans une cellule de texte** et non de code: vous **ne pouvez pas l'ex\u00e9cuter** dans le notebook. Si vous essayez de l'ex\u00e9cuter sur votre ordinateur vous constaterez qu'elle ne termine pas, en fait \u00e0 chaque it\u00e9ration on ajoute un nouvel \u00e9l\u00e9ment dans la liste, et du coup la boucle a un \u00e9l\u00e9ment de plus \u00e0 balayer; ce programme ne termine jamais."
     ]
    }
   ], 
   "metadata": {}
  }
 ]
}
