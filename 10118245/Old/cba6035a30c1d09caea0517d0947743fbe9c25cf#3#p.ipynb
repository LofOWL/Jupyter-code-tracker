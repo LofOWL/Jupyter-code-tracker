{
 "metadata": {
  "notebookname": "R\u00e9f\u00e9rences circulaires",
  "signature": "7140defd2f41c1f6a6cda400c17f3de51a6b5f3edfc74d4877b0f6f832d06a81",
  "version": "1.0"
 },
 "nbformat": 3,
 "nbformat_minor": 0,
 "worksheets": [
  {
   "cells": [
    {
     "cell_type": "heading",
     "level": 1,
     "metadata": {},
     "source": [
      "Listes infinies & r\u00e9f\u00e9rences circulaires"
     ]
    },
    {
     "cell_type": "heading",
     "level": 2,
     "metadata": {},
     "source": [
      "Compl\u00e9ment - niveau interm\u00e9diaire"
     ]
    },
    {
     "cell_type": "markdown",
     "metadata": {},
     "source": [
      "Nous allons maintenant construire un objet un peu abscons. Cet exemple pr\u00e9cis n'a aucune utilit\u00e9 pratique, mais permet de bien comprendre la logique du langage. "
     ]
    },
    {
     "cell_type": "markdown",
     "metadata": {},
     "source": [
      "Construisons une liste \u00e0 un seul \u00e9l\u00e9ment, peu importe quoi:"
     ]
    },
    {
     "cell_type": "code",
     "collapsed": false,
     "input": [
      "infini_1 = [ None ]"
     ],
     "language": "python",
     "metadata": {},
     "outputs": []
    },
    {
     "cell_type": "markdown",
     "metadata": {},
     "source": [
      "\u00c0 pr\u00e9sent nous allons remplacer le premier et seul \u00e9l\u00e9ment de la liste par .. la liste elle-m\u00eame"
     ]
    },
    {
     "cell_type": "code",
     "collapsed": false,
     "input": [
      "infini_1[0] = infini_1 ; print infini_1"
     ],
     "language": "python",
     "metadata": {},
     "outputs": []
    },
    {
     "cell_type": "markdown",
     "metadata": {},
     "source": [
      "Nous vous conseillons d'\u00e9valuer cette s\u00e9quence sous pythontutor.com pour bien visualiser ce qui se passe. \n",
      "\n",
      "Pour essayer de d\u00e9crire l'objet liste ainsi obtenu, on pourrait dire qu'il s'agit d'une liste de taille 1 et de profondeur infinie, une sorte de fil infini en quelque sorte.\n",
      "\n",
      "Naturellement, l'objet obtenu est difficile \u00e0 imprimer de mani\u00e8re convaincante. Pour faire en sorte que cet objet soit tout de m\u00eame imprimable, et \u00e9viter une boucle infinie, python utilise l'\u00e9lipse `...` pour indiquer ce qu'on appelle une r\u00e9f\u00e9rence circulaire. Si on n'y prenait pas garde en effet, il faudrait \u00e9crire `[[[[ etc.. ]]]]` avec une infinit\u00e9 de crochets...\n",
      "\n",
      "Toutes les fonctions de python ne sont pas aussi intelligentes. Bien qu'on puisse comparer cette liste avec elle-m\u00eame:"
     ]
    },
    {
     "cell_type": "code",
     "collapsed": false,
     "input": [
      "infini_1 == infini_1"
     ],
     "language": "python",
     "metadata": {},
     "outputs": []
    },
    {
     "cell_type": "markdown",
     "metadata": {},
     "source": [
      "il n'en est pas de m\u00eame si on la compare avec un objet analogue mais pas identique:"
     ]
    },
    {
     "cell_type": "code",
     "collapsed": false,
     "input": [
      "infini_2 = [ 0 ]\n",
      "infini_2[0] = infini_2; print infini_2\n",
      "infini_1 == infini_2"
     ],
     "language": "python",
     "metadata": {},
     "outputs": []
    },
    {
     "cell_type": "heading",
     "level": 3,
     "metadata": {},
     "source": [
      "G\u00e9n\u00e9ralisation aux r\u00e9f\u00e9rences circulaires"
     ]
    },
    {
     "cell_type": "markdown",
     "metadata": {},
     "source": [
      "On obtient un ph\u00e9nom\u00e8ne \u00e9quivalent d\u00e8s lors qu'un \u00e9l\u00e9ment contenu dans un objet fait r\u00e9f\u00e9rence \u00e0 l'objet lui-m\u00eame. Voici par exemple comment on peut construire un dictionnaire qui contient une r\u00e9f\u00e9rence circulaire:"
     ]
    },
    {
     "cell_type": "code",
     "collapsed": false,
     "input": [
      "collection_de_points = [\n",
      "    {'x':10,'y':20},\n",
      "    {'x':30,'y':50},\n",
      "# imaginez plein de points\n",
      "]                   \n",
      "\n",
      "# on rajoute dans chaque dictionnaire une cl\u00e9 'points' \n",
      "# qui r\u00e9f\u00e9rence la collection compl\u00e8te\n",
      "for point in collection_de_points:\n",
      "    point ['points'] = collection_de_points\n",
      "\n",
      "# la structure poss\u00e8de maintenant des r\u00e9f\u00e9rences circulaires\n",
      "print collection_de_points    "
     ],
     "language": "python",
     "metadata": {},
     "outputs": []
    },
    {
     "cell_type": "markdown",
     "metadata": {},
     "source": [
      "On voit \u00e0 nouveau r\u00e9appara\u00eetre les \u00e9lipses, qui indiquent que pour chaque point, le nouveau champ 'points' est un objet qui a d\u00e9j\u00e0 \u00e9t\u00e9 imprim\u00e9. \n",
      "\n",
      "Cette technique est cette fois tr\u00e8s utile et tr\u00e8s utilis\u00e9e dans la pratique, d\u00e8s lors qu'on a besoin de naviguer de mani\u00e8re arbitraire dans une structure de donn\u00e9es compliqu\u00e9e. Dans cet exemple, pas tr\u00e8s r\u00e9aliste naturellement, on pourait \u00e0 pr\u00e9sent acc\u00e9der depuis un point \u00e0 tous les autres points de la collection dont il fait partie.\n",
      "\n",
      "\u00c0 nouveau il peut \u00eatre int\u00e9ressant de voir le comportement de cet exemple avec http://pythontutor.com pour bien comprendre ce qui se passe, si cela ne vous semble pas clair \u00e0 premi\u00e8re vue.\n",
      "\n",
      "Voici d'ailleurs comment pythontutor pr\u00e9senterait la situation \u00e0 la fin de ce fragment de code\n",
      "\n",
      "<img src=\"http://planete.inria.fr/Thierry.Parmentelat/mooc/pt_references_circulaires.png\" />\n"
     ]
    }
   ],
   "metadata": {}
  }
 ]
}