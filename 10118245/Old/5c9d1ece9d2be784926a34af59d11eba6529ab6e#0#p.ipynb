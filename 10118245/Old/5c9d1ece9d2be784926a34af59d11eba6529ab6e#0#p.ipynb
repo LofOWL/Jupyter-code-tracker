{
 "metadata": {
  "notebookname": "print en python-2 et -3",
  "signature": "3322c349ef45dfa94336b424bba6899fc751572095d557a63390136eef2a1605",
  "version": "1.0"
 },
 "nbformat": 3,
 "nbformat_minor": 0,
 "worksheets": [
  {
   "cells": [
    {
     "cell_type": "heading",
     "level": 1,
     "metadata": {},
     "source": [
      "`print` entre python2 et python3"
     ]
    },
    {
     "cell_type": "heading",
     "level": 2,
     "metadata": {},
     "source": [
      "Compl\u00e9ment - niveau avanc\u00e9"
     ]
    },
    {
     "cell_type": "markdown",
     "metadata": {},
     "source": [
      "Ce compl\u00e9ment est destin\u00e9 aux \u00e9tudiants qui s'int\u00e9ressent \u00e0 python3, et qui voudraient d\u00e8s le d\u00e9part prendre l'habitude d'utiliser `print` comme elle existe en python3, c'est-\u00e0-dire comme une fonction.\n",
      "\n",
      "N'h\u00e9sitez pas \u00e0 passer ce compl\u00e9ment si vous n'\u00eates pas concern\u00e9 par ce sujet."
     ]
    },
    {
     "cell_type": "markdown",
     "metadata": {},
     "source": [
      "**Notez toutefois** que les diff\u00e9rences entre python2 et python3 ne se limitent pas \u00e0 `print`. Si vous commencez python aujourd'hui, il peut en effet \u00eatre une bonne id\u00e9e d'utiliser `print` comme une fonction, mais restez conscient que ce cours est sur python2, et qu\u00edl ne suffit pas de mettre des parenth\u00e8ses autour de `print` pour transformer votre code en python3."
     ]
    },
    {
     "cell_type": "heading",
     "level": 3,
     "metadata": {},
     "source": [
      "Les comportements de `print`"
     ]
    },
    {
     "cell_type": "markdown",
     "metadata": {},
     "source": [
      "Apr\u00e8s ce pr\u00e9ambule, sachez que la diff\u00e9rence la plus visible entre python2 et python3 est certainement avec `print`:"
     ]
    },
    {
     "cell_type": "markdown",
     "metadata": {},
     "source": [
      "En python2 c'est une **instruction**"
     ]
    },
    {
     "cell_type": "raw",
     "metadata": {},
     "source": [
      ">>> import sys\n",
      ">>> sys.version\n",
      "'2.7.7 (default, Jun  2 2014, 01:41:14) \\n[GCC 4.2.1 Compatible Apple LLVM 5.1 (clang-503.0.40)]'\n",
      ">>>\n",
      ">>> print \"Hello\",\"World\"\n",
      "Hello World\n",
      ">>> 0 == print \"Hello\",\"World\"\n",
      "  File \"<stdin>\", line 1\n",
      "    None is print \"Hello\",\"World\"\n",
      "                ^\n",
      "SyntaxError: invalid syntax"
     ]
    },
    {
     "cell_type": "markdown",
     "metadata": {},
     "source": [
      "alors qu'en python3 c'est une **fonction** (et donc une **expression**)"
     ]
    },
    {
     "cell_type": "raw",
     "metadata": {},
     "source": [
      ">>> import sys\n",
      ">>> sys.version\n",
      "'3.4.1 (default, May 21 2014, 01:39:38) \\n[GCC 4.2.1 Compatible Apple LLVM 5.1 (clang-503.0.40)]'\n",
      ">>>\n",
      ">>> print (\"Hello\",\"World\")\n",
      "Hello World\n",
      ">>> 0 == print (\"Hello\",\"World\")\n",
      "Hello World\n",
      "True"
     ]
    },
    {
     "cell_type": "heading",
     "level": 3,
     "metadata": {},
     "source": [
      "Compatibilit\u00e9 avec `__future__`"
     ]
    },
    {
     "cell_type": "markdown",
     "metadata": {},
     "source": [
      "Il existe en python2 une couche de compatibilit\u00e9, le module `__future__`, dont le but est de gommer les diff\u00e9rences entre les deux versions. Ainsi si vous le souhaitez vous pouvez \u00e9crire du code python2 qui \"voit\" `print` comme une fonction en important ceci"
     ]
    },
    {
     "cell_type": "raw",
     "metadata": {},
     "source": [
      "from __future__ import print_function"
     ]
    },
    {
     "cell_type": "markdown",
     "metadata": {},
     "source": [
      "Apr\u00e8s quoi vous pouver utilisez `print` comme si vous \u00e9criviez du python3"
     ]
    },
    {
     "cell_type": "raw",
     "metadata": {},
     "source": [
      ">>> import sys\n",
      ">>> sys.version\n",
      "'2.7.7 (default, Jun  2 2014, 01:41:14) \\n[GCC 4.2.1 Compatible Apple LLVM 5.1 (clang-503.0.40)]'\n",
      ">>>\n",
      ">>> from __future__ import print_function\n",
      ">>>\n",
      ">>> print (\"Hello\",\"World\")\n",
      "Hello World"
     ]
    },
    {
     "cell_type": "heading",
     "level": 3,
     "metadata": {},
     "source": [
      "Remarque"
     ]
    },
    {
     "cell_type": "markdown",
     "metadata": {},
     "source": [
      "Si vous utilisez python2 et que **vous ne mentionnez pas cet import**, vous pouvez avoir l'**impression** qu'il est inutile:"
     ]
    },
    {
     "cell_type": "raw",
     "metadata": {},
     "source": [
      ">>> import sys\n",
      ">>> sys.version\n",
      "'2.7.7 (default, Jun  2 2014, 01:41:14) \\n[GCC 4.2.1 Compatible Apple LLVM 5.1 (clang-503.0.40)]'\n",
      ">>>\n",
      ">>> print (\"Hello\")\n",
      "Hello"
     ]
    },
    {
     "cell_type": "markdown",
     "metadata": {},
     "source": [
      "En fait ce qui se passe ici, c'est que les parenth\u00e8ses sont consid\u00e9r\u00e9es dans leur r\u00f4le habituel de groupement dans les expressions; cela rejoint la discussion que l'on aura sur les tuples; en fait les parenth\u00e8ses ne jouent aucun r\u00f4le ici, exactement comme dans"
     ]
    },
    {
     "cell_type": "code",
     "collapsed": false,
     "input": [
      "(\"Hello\")"
     ],
     "language": "python",
     "metadata": {},
     "outputs": []
    },
    {
     "cell_type": "markdown",
     "metadata": {},
     "source": [
      "Si bien qu'avec plusieurs arguments - plus exactement avec l'illusion d'appeler `print` avec plusieurs arguments:"
     ]
    },
    {
     "cell_type": "code",
     "collapsed": false,
     "input": [
      "print (\"Hello\",\"World\")"
     ],
     "language": "python",
     "metadata": {},
     "outputs": []
    },
    {
     "cell_type": "markdown",
     "metadata": {},
     "source": [
      "les parenth\u00e8ses pr\u00e9sentes dans la sortie vous indiquent qu'en fait on a contruit un objet qui est un tuple, et qu'on l'a pass\u00e9 \u00e0 l'**instruction** `print`; on ne peut pas utiliser `print` dans une expression"
     ]
    },
    {
     "cell_type": "code",
     "collapsed": false,
     "input": [
      "None is print (\"Hello\",\"World\")"
     ],
     "language": "python",
     "metadata": {},
     "outputs": []
    },
    {
     "cell_type": "markdown",
     "metadata": {},
     "source": [
      "Une fois l'import charg\u00e9, tout fonctionne vraiment comme en python3"
     ]
    },
    {
     "cell_type": "code",
     "collapsed": false,
     "input": [
      "from __future__ import print_function\n",
      "\n",
      "None is print (\"Hello\",\"World\")"
     ],
     "language": "python",
     "metadata": {},
     "outputs": []
    }
   ],
   "metadata": {}
  }
 ]
}