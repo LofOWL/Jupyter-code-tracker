{
 "metadata": {
  "name": "Notions sur la pr\u00e9cision des calculs flottants",
  "notebookname": "Notions sur la pr\u00e9cision des calculs flottants",
  "signature": "a9e22b899893ec5a1a33b29bb0dd57a4253b3f629039ad2bcde3cb7ced16b844",
  "version": "1.0"
 },
 "nbformat": 3,
 "nbformat_minor": 0,
 "worksheets": [
  {
   "cells": [
    {
     "cell_type": "heading",
     "level": 1,
     "metadata": {},
     "source": [
      "Notions sur la pr\u00e9cision des calculs flottants"
     ]
    },
    {
     "cell_type": "heading",
     "level": 2,
     "metadata": {},
     "source": [
      "Compl\u00e9ment - niveau avanc\u00e9"
     ]
    },
    {
     "cell_type": "heading",
     "level": 3,
     "metadata": {},
     "source": [
      "Le probl\u00e8me"
     ]
    },
    {
     "cell_type": "markdown",
     "metadata": {},
     "source": [
      "Comme pour les entiers, les calculs sur les flottants sont, \n",
      "naturellement, r\u00e9alis\u00e9s par le processeur.\n",
      "Cependant contrairement au cas des entiers o\u00f9 \n",
      "les calculs sont toujours exacts, les flottants posent un \n",
      "probl\u00e8me de pr\u00e9cision. Cela n'est pas propre au langage python, mais \n",
      "est d\u00fb \u00e0 la technique de codage des nombres flottants sous forme binaire. "
     ]
    },
    {
     "cell_type": "markdown",
     "metadata": {},
     "source": [
      "Voyons tout d'abord comment se mat\u00e9rialise le probl\u00e8me:"
     ]
    },
    {
     "cell_type": "code",
     "collapsed": false,
     "input": [
      "0.2 + 0.4"
     ],
     "language": "python",
     "metadata": {},
     "outputs": []
    },
    {
     "cell_type": "markdown",
     "metadata": {},
     "source": [
      "Il faut retenir que lorsqu'on \u00e9crit un nombre flottant sous forme d\u00e9cimale,\n",
      "la valeur utilis\u00e9e en m\u00e9moire pour repr\u00e9senter ce nombre, parce que \n",
      "cette valeur est cod\u00e9e en binaire, ne repr\u00e9sente \n",
      "**pas toujours exactement** le nombre entr\u00e9."
     ]
    },
    {
     "cell_type": "code",
     "collapsed": false,
     "input": [
      "0.3 - 0.1 == 0.2"
     ],
     "language": "python",
     "metadata": {},
     "outputs": []
    },
    {
     "cell_type": "markdown",
     "metadata": {},
     "source": [
      "Aussi comme on le voit les diff\u00e9rentes erreurs d'arrondi qui se produisent \u00e0 chaque \u00e9tape du calcul s'accumulent et produisent un r\u00e9sultat parfois surprenant."
     ]
    },
    {
     "cell_type": "markdown",
     "metadata": {},
     "source": [
      "Dans une grande majorit\u00e9 des cas, ces erreurs d'arrondi ne sont pas p\u00e9nalisantes. \n",
      "Il faut toutefois en \u00eatre conscient car cela peut expliquer des comportements curieux. "
     ]
    },
    {
     "cell_type": "heading",
     "level": 3,
     "metadata": {},
     "source": [
      "Une solution : penser en termes de nombres rationnels"
     ]
    },
    {
     "cell_type": "markdown",
     "metadata": {},
     "source": [
      "Tout d'abord si votre probl\u00e8me se pose bien en termes de nombres rationnels, il est alors tout \u00e0 fait possible de le r\u00e9soudre avec exactitude."
     ]
    },
    {
     "cell_type": "markdown",
     "metadata": {},
     "source": [
      "Autant il n'est pas possible d'\u00e9crire exactement $3/10$ en base 2, ni d'ailleurs $1/3$ en base 10, on peut repr\u00e9senter **exactement** ces nombres d\u00e8s lors qu'on les consid\u00e8re comme des fractions et qu'on les encode avec deux nombres entiers."
     ]
    },
    {
     "cell_type": "markdown",
     "metadata": {},
     "source": [
      "Python fournit en standard le module `fractions` qui permet de r\u00e9soudre le probl\u00e8me. Voici comment on pourrait l'utiliser pour v\u00e9rifier, cette fois avec succ\u00e8s, que $0.3 - 0.1$ vaut bien $0.2$"
     ]
    },
    {
     "cell_type": "markdown",
     "metadata": {},
     "source": [
      "En anticipant un tout petit peu sur l'utilisation des modules et des classes en Python, voici comment on pourrait cr\u00e9er des objets de type `Fraction` pour faire de mani\u00e8re *exacte* le calcul ci-dessus:"
     ]
    },
    {
     "cell_type": "code",
     "collapsed": false,
     "input": [
      "from fractions import Fraction\n",
      "\n",
      "Fraction(3,10) - Fraction (1,10) == Fraction(2,10)"
     ],
     "language": "python",
     "metadata": {},
     "outputs": []
    },
    {
     "cell_type": "markdown",
     "metadata": {},
     "source": [
      "Ou encore aussi"
     ]
    },
    {
     "cell_type": "code",
     "collapsed": false,
     "input": [
      "Fraction('0.3') - Fraction ('0.1') == Fraction('2/10')"
     ],
     "language": "python",
     "metadata": {},
     "outputs": []
    },
    {
     "cell_type": "heading",
     "level": 3,
     "metadata": {},
     "source": [
      "Une autre solution : le module decimal"
     ]
    },
    {
     "cell_type": "markdown",
     "metadata": {},
     "source": [
      "Si par contre vous ne manipulez pas des nombres rationnels et que la repr\u00e9sentation sous forme de fractions ne peut pas convenir dans votre cas, signalons l'existence du module standard `decimal` qui offre des fonctionnalit\u00e9s tr\u00e8s voisines du type `float`, tout en \u00e9liminant la plupart des inconv\u00e9nients, au prix naturellement d'une consommation m\u00e9moire sup\u00e9rieure."
     ]
    },
    {
     "cell_type": "markdown",
     "metadata": {},
     "source": [
      "Pour reprendre l'exemple de d\u00e9part, mais en utilisant le module decimal, on \u00e9crirait alors"
     ]
    },
    {
     "cell_type": "code",
     "collapsed": false,
     "input": [
      "from decimal import Decimal\n",
      "\n",
      "Decimal ('0.3') - Decimal ('0.1') == Decimal ('0.2')"
     ],
     "language": "python",
     "metadata": {},
     "outputs": []
    },
    {
     "cell_type": "heading",
     "level": 3,
     "metadata": {},
     "source": [
      "Pour aller plus loin"
     ]
    },
    {
     "cell_type": "markdown",
     "metadata": {},
     "source": [
      "Tous ces documents sont en anglais\n",
      "\n",
      " * Un [tutoriel sur les nombres flottants](https://docs.python.org/2/tutorial/floatingpoint.html)\n",
      "\n",
      " * La [documentation sur la classe Fraction](https://docs.python.org/2/library/fractions.html)\n",
      " \n",
      " * La [documentation sur la classe Decimal](https://docs.python.org/2/library/decimal.html)"
     ]
    }
   ],
   "metadata": {}
  }
 ]
}