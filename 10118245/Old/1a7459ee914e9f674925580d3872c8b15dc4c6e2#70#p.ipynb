{
 "metadata": {
  "notebookname": "PGCD",
  "signature": "e28c883612341d04903f02ad74b418acab03360bc653b5249df7de691d6afb1c",
  "version": "1.0"
 },
 "nbformat": 3,
 "nbformat_minor": 0,
 "worksheets": [
  {
   "cells": [
    {
     "cell_type": "heading",
     "level": 1,
     "metadata": {},
     "source": [
      "Calculer le PGCD"
     ]
    },
    {
     "cell_type": "heading",
     "level": 2,
     "metadata": {},
     "source": [
      "Exercice - niveau basique"
     ]
    },
    {
     "cell_type": "markdown",
     "metadata": {},
     "source": [
      "On vous demande d'\u00e9crire une fonction qui calcule le pgcd de deux entiers, en utilisant [l'algorithme d'Euclide](http://fr.wikipedia.org/wiki/Algorithme_d'Euclide)."
     ]
    },
    {
     "cell_type": "code",
     "collapsed": false,
     "input": [
      "def pgcd (a,b):\n",
      "    \"<votre code>\""
     ],
     "language": "python",
     "metadata": {},
     "outputs": []
    },
    {
     "cell_type": "code",
     "collapsed": false,
     "input": [
      "# pour v\u00e9rifier votre code\n",
      "from corrections.w4_pgcd import exo_pgcd\n",
      "exo_pgcd.correction (pgcd)"
     ],
     "language": "python",
     "metadata": {},
     "outputs": []
    }
   ],
   "metadata": {}
  }
 ]
}