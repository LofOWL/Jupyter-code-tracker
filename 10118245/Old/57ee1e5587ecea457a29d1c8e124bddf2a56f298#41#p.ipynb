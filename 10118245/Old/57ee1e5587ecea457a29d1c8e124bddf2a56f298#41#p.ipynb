{
 "metadata": {
  "kernelspec": {
   "display_name": "Python 2", 
   "language": "python", 
   "name": "python2"
  }, 
  "name": "", 
  "notebookname": "record et dict", 
  "version": "2.0"
 }, 
 "nbformat": 2, 
 "nbformat_minor": 0, 
 "orig_nbformat": 4, 
 "orig_nbformat_minor": 0, 
 "worksheets": [
  {
   "cells": [
    {
     "cell_type": "markdown", 
     "metadata": {}, 
     "source": [
      "<span style=\"float:left;\">Licence CC BY-NC-ND</span><span style=\"float:right;\">Thierry Parmentelat &amp; Arnaud Legout&nbsp;<img src=\"media/inria-25.png\" style=\"display:inline\"></span><br/>"
     ]
    }, 
    {
     "cell_type": "markdown", 
     "metadata": {}, 
     "source": [
      "# G\u00e9rer des enregistrements"
     ]
    }, 
    {
     "cell_type": "markdown", 
     "metadata": {}, 
     "source": [
      "## Compl\u00e9ment - niveau interm\u00e9diaire"
     ]
    }, 
    {
     "cell_type": "markdown", 
     "metadata": {}, 
     "source": [
      "### Impl\u00e9menter un enregistrement comme un dictionnaire"
     ]
    }, 
    {
     "cell_type": "markdown", 
     "metadata": {}, 
     "source": [
      "Il nous faut faire le lien entre dictionnaire python et la notion d'enregistrement, c'est-\u00e0-dire une donn\u00e9e composite qui contient plusieurs champs. (\u00c0 cette notion correspond, selon les langages, ce qu'on appelle un `struct` ou un `record`)", 
      "", 
      "Imaginons qu'on veuille manipuler un ensemble de donn\u00e9es concernant des personnes; chaque personne est suppos\u00e9e avoir un nom, un age et une adresse mail. ", 
      "", 
      "Il est possible, et assez fr\u00e9quent, d'utiliser le dictionnaire comme support pour mod\u00e9liser ces donn\u00e9es comme ceci"
     ]
    }, 
    {
     "cell_type": "code", 
     "collapsed": false, 
     "input": [
      "personnes = [", 
      "   {'nom': 'pierre',  'age': 25, 'email': 'pierre@foo.com'},", 
      "   {'nom': 'paul',    'age': 18, 'email': 'paul@bar.com'},", 
      "   {'nom': 'jacques', 'age': 52, 'email': 'jacques@cool.com'},", 
      "]"
     ], 
     "language": "python", 
     "metadata": {}, 
     "outputs": [], 
     "prompt_number": null
    }, 
    {
     "cell_type": "markdown", 
     "metadata": {}, 
     "source": [
      "Bon, tr\u00e8s bien, nous avons nos donn\u00e9es, il est facile de les utiliser.", 
      "", 
      "Par exemple, pour l'anniversaire de pierre on fera:"
     ]
    }, 
    {
     "cell_type": "code", 
     "collapsed": false, 
     "input": [
      "personnes[0]['age'] += 1"
     ], 
     "language": "python", 
     "metadata": {}, 
     "outputs": [], 
     "prompt_number": null
    }, 
    {
     "cell_type": "markdown", 
     "metadata": {}, 
     "source": [
      "Ce qui nous donne "
     ]
    }, 
    {
     "cell_type": "code", 
     "collapsed": false, 
     "input": [
      "for personne in personnes:", 
      "    print 10*\"=\"", 
      "    for info, valeur in personne.items():", 
      "        print \"{} -> {}\".format(info, valeur)"
     ], 
     "language": "python", 
     "metadata": {}, 
     "outputs": [], 
     "prompt_number": null
    }, 
    {
     "cell_type": "markdown", 
     "metadata": {}, 
     "source": [
      "### Un dictionnaire pour indexer les enregistrements"
     ]
    }, 
    {
     "cell_type": "markdown", 
     "metadata": {}, 
     "source": [
      "Cela dit, il est bien clair que cette fa\u00e7on de faire n'est pas tr\u00e8s pratique; pour marquer l'anniversaire de pierre on ne sait bien entendu pas que son enregistrement est le premier dans la liste. C'est pourquoi il est plus adapt\u00e9, pour mod\u00e9liser ces informations, d'utiliser non pas une liste, mais \u00e0 nouveau... un dictionnaire.", 
      "", 
      "Si on imagine qu'on a commenc\u00e9 par lire ces donn\u00e9es s\u00e9quentiellement dans un fichier, et qu'on a calcul\u00e9 l'objet `personnes` comme la liste qu'on a vue ci-dessus, alors il est possible de construire un index de ces dictionnaires, (un dictionnaire de dictionnaires, donc).", 
      "", 
      "C'est-\u00e0-dire"
     ]
    }, 
    {
     "cell_type": "code", 
     "collapsed": false, 
     "input": [
      "index_par_nom = {personne['nom']: personne for personne in personnes}", 
      "", 
      "print \"enregistrement pour pierre\", index_par_nom['pierre']"
     ], 
     "language": "python", 
     "metadata": {}, 
     "outputs": [], 
     "prompt_number": null
    }, 
    {
     "cell_type": "markdown", 
     "metadata": {}, 
     "source": [
      "Attardons nous un tout petit peu; nous avons construit un dictionnaire par compr\u00e9hension, en cr\u00e9ant autant d'entr\u00e9es que de personnes. Nous aborderons en d\u00e9tail la notion de compr\u00e9hension en semaine 4, donc si cette notation vous para\u00eet \u00e9trange pour le moment, pas d'inqui\u00e9tude. ", 
      "", 
      "Le r\u00e9sultat est donc un dictionnaire qu'on peut afficher comme ceci:"
     ]
    }, 
    {
     "cell_type": "code", 
     "collapsed": false, 
     "input": [
      "for nom, record in index_par_nom.iteritems():", 
      "    print \"Nom : {} -> enregistrement : {}\".format(nom, record)"
     ], 
     "language": "python", 
     "metadata": {}, 
     "outputs": [], 
     "prompt_number": null
    }, 
    {
     "cell_type": "markdown", 
     "metadata": {}, 
     "source": [
      "Dans cet exemple, le premier niveau de dictionnaire permet de trouver rapidement un objet \u00e0 partir d'un nom; dans le second niveau au contraire on utilise le dictionnaire pour impl\u00e9menter un enregistrement, \u00e0 la fa\u00e7on d'un `struct` en C."
     ]
    }, 
    {
     "cell_type": "markdown", 
     "metadata": {}, 
     "source": [
      "### Techniques similaires"
     ]
    }, 
    {
     "cell_type": "markdown", 
     "metadata": {}, 
     "source": [
      "Notons enfin qu'il existe aussi, en python, un autre m\u00e9canisme qui peut \u00eatre utilis\u00e9 pour g\u00e9rer ce genre d'objets composites, ce sont les classes que nous verrons en semaine 5, et qui permettent de d\u00e9finir de nouveaux `types` plut\u00f4t que, comme nous l'avons fait ici, d'utiliser un type pr\u00e9d\u00e9fini. Dans ce sens, l'utilisation d'une classe permet davantage de souplesse, au prix de davantage d'effort."
     ]
    }
   ], 
   "metadata": {}
  }
 ]
}
