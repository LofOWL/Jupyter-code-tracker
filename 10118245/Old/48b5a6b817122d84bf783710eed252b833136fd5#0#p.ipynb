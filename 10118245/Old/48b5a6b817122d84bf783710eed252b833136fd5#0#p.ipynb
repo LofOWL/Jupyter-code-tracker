{
 "metadata": {
  "name": "",
  "signature": "sha256:c6350c1c7d1c7ce39133925fbf39e7297845ad7de25fde4e6bef31ee8aa32db4"
 },
 "nbformat": 3,
 "nbformat_minor": 0,
 "worksheets": [
  {
   "cells": [
    {
     "cell_type": "heading",
     "level": 1,
     "metadata": {},
     "source": [
      "Compl\u00e9ments sur la construction de tuples"
     ]
    },
    {
     "cell_type": "heading",
     "level": 3,
     "metadata": {},
     "source": [
      "Les tuples et la virgule terminale"
     ]
    },
    {
     "cell_type": "markdown",
     "metadata": {},
     "source": [
      "Comme on l'a vu on peut construire un couple indiff\u00e9remment comme ceci"
     ]
    },
    {
     "cell_type": "code",
     "collapsed": false,
     "input": [
      "couple1 = 1,2\n",
      "couple2 = (1,2)\n",
      "couple1 == couple2"
     ],
     "language": "python",
     "metadata": {},
     "outputs": []
    },
    {
     "cell_type": "markdown",
     "metadata": {},
     "source": [
      "En r\u00e9alit\u00e9 la parenth\u00e8se est tout \u00e0 fait superf\u00e9tatoire, il se trouve toutefois qu'elle est largement utilis\u00e9e pour am\u00e9liorer la lisibilit\u00e9 des programmes.\n",
      "\n",
      "Ajoutons que la derni\u00e8re virgule est optionnelle - en g\u00e9n\u00e9ral, c'est-\u00e0-dire pour les tuples \u00e0 au moins 2 \u00e9l\u00e9ments. C'est-\u00e0-dire qu'on peut aussi bien \u00e9crire aussi:"
     ]
    },
    {
     "cell_type": "code",
     "collapsed": false,
     "input": [
      "couple3 = 1,2,\n",
      "couple4 = (1,2,)\n",
      "couple3 == couple4"
     ],
     "language": "python",
     "metadata": {},
     "outputs": []
    },
    {
     "cell_type": "markdown",
     "metadata": {},
     "source": [
      "Qui est bien \u00e9quivalent aussi aux deux premi\u00e8res formes"
     ]
    },
    {
     "cell_type": "code",
     "collapsed": false,
     "input": [
      "couple1 == couple3"
     ],
     "language": "python",
     "metadata": {},
     "outputs": []
    },
    {
     "cell_type": "heading",
     "level": 3,
     "metadata": {},
     "source": [
      "Conseil pour la pr\u00e9sentation sur plusieurs lignes"
     ]
    },
    {
     "cell_type": "markdown",
     "metadata": {},
     "source": [
      "En g\u00e9n\u00e9ral d'ailleurs, la forme avec virgule terminale est plus pratique. Consid\u00e9rez par exemple l'initialisation suivante; on veut cr\u00e9er un tuple qui contient des listes (naturellement un tuple peut contenir n'importe quel objet python), et comme c'est assez long on pr\u00e9f\u00e8re mettre un \u00e9l\u00e9ment du tuple par ligne:"
     ]
    },
    {
     "cell_type": "code",
     "collapsed": false,
     "input": [
      "mon_tuple = ( [1,2,3],\n",
      "              [4,5,6],\n",
      "              [7,8,9],\n",
      "            )"
     ],
     "language": "python",
     "metadata": {},
     "outputs": []
    },
    {
     "cell_type": "markdown",
     "metadata": {},
     "source": [
      "L'avantage lorsqu'on choisit cette forme (avec parenth\u00e8ses, et avec virgule terminale), c'est que d'abord il n'est pas n\u00e9cessaire de mettre un backslash \u00e0 la fin de chaque ligne; parce que l'on est \u00e0 l'int\u00e9rieur d'une zone parenth\u00e9s\u00e9e, l'interpr\u00e9teur python \"sait\" que l'instruction n'est pas termin\u00e9e et va se continuer sur la ligne suivante. \n",
      "\n",
      "Deuxi\u00e8mement, si on doit ult\u00e9rieurement ajouter ou enlever un \u00e9l\u00e9ment dans le tuple, il suffira d'enlever ou d'ajouter toute une ligne, sans avoir \u00e0 s'occuper des virgules; si on avait choisi de ne pas faire figurer la virgule terminale, alors pour ajouter un item dans le tuple apr\u00e8s le dernier, il ne faut pas oublier d'ajouter une virgule \u00e0 la ligne pr\u00e9c\u00e9dente, etc... Cette simplicit\u00e9 se r\u00e9percute au niveau du getionnaire de code source, ou les diff\u00e9rences dans le code sont plus faciles \u00e0 visualiser.\n",
      "\n",
      "Signalons enfin que ceci n'est pas propre aux tuples. La virgule terminale est \u00e9galement optionnelle pour les listes, ainsi d'ailleurs que pour tous les types python o\u00f9 cela fait du sens, comme les dictionnaires et les ensembles que nous verrons bient\u00f4t. Et dans tous les cas o\u00f9 on opte pour une pr\u00e9sentation multi-lignes, il est conseill\u00e9 de faire figurer une virgule terminale."
     ]
    },
    {
     "cell_type": "heading",
     "level": 3,
     "metadata": {},
     "source": [
      "Tuples \u00e0 un \u00e9l\u00e9ment"
     ]
    },
    {
     "cell_type": "markdown",
     "metadata": {},
     "source": [
      "Pour revenir \u00e0 pr\u00e9sent sur le cas des tuples \u00e0 un seul \u00e9l\u00e9ment, c'est un cas particulier; parmi les 4 syntaxes qu'on a vues ci-dessus, on obtiendrait dans ce cas"
     ]
    },
    {
     "cell_type": "code",
     "collapsed": false,
     "input": [
      "simple1 = 1\n",
      "simple2 = (1)\n",
      "simple3 = 1,\n",
      "simple4 = (1,)"
     ],
     "language": "python",
     "metadata": {},
     "outputs": []
    },
    {
     "cell_type": "markdown",
     "metadata": {},
     "source": [
      "Il est bien \u00e9vident que la premi\u00e8re forme ne cr\u00e9e pas de tuple; en fait la seconde non plus, python lit ceci comme une expression parenth\u00e9s\u00e9e, et en fait ces deux formes cr\u00e9ent un entier simple:"
     ]
    },
    {
     "cell_type": "code",
     "collapsed": false,
     "input": [
      "type(simple2)"
     ],
     "language": "python",
     "metadata": {},
     "outputs": []
    },
    {
     "cell_type": "markdown",
     "metadata": {},
     "source": [
      "Les deux autres formes cr\u00e9ent par contre toutes les deux un tuple \u00e0 un \u00e9l\u00e9ment comme on cherchait \u00e0 le faire:"
     ]
    },
    {
     "cell_type": "code",
     "collapsed": false,
     "input": [
      "type(simple3)"
     ],
     "language": "python",
     "metadata": {},
     "outputs": []
    },
    {
     "cell_type": "code",
     "collapsed": false,
     "input": [
      "simple3 == simple4"
     ],
     "language": "python",
     "metadata": {},
     "outputs": []
    },
    {
     "cell_type": "markdown",
     "metadata": {},
     "source": [
      "Pour conclure, disons donc qu'il est conseill\u00e9 de $\\textbf{toujours mentionner une virgule terminale}$ lorsqu'on construit des tuples"
     ]
    },
    {
     "cell_type": "heading",
     "level": 3,
     "metadata": {},
     "source": [
      "Parenth\u00e8se parfois obligatoire"
     ]
    },
    {
     "cell_type": "markdown",
     "metadata": {},
     "source": [
      "Dans certains cas vous vous apercevrez que la parenth\u00e8se est obligatoire. Par exemple on peut \u00e9crire"
     ]
    },
    {
     "cell_type": "code",
     "collapsed": false,
     "input": [
      "x = (1,)\n",
      "(1,) == x"
     ],
     "language": "python",
     "metadata": {},
     "outputs": []
    },
    {
     "cell_type": "markdown",
     "metadata": {},
     "source": [
      "Mais si on essaie d'\u00e9crire le m\u00eame test sans les parenth\u00e8ses:"
     ]
    },
    {
     "cell_type": "code",
     "collapsed": false,
     "input": [
      "1, == x"
     ],
     "language": "python",
     "metadata": {},
     "outputs": []
    },
    {
     "cell_type": "markdown",
     "metadata": {},
     "source": [
      "python l\u00e8ve une erreur de syntaxe. Encore une bonne raison pour utiliser les parenth\u00e8ses."
     ]
    },
    {
     "cell_type": "heading",
     "level": 3,
     "metadata": {},
     "source": [
      "Addition de tuples"
     ]
    },
    {
     "cell_type": "markdown",
     "metadata": {},
     "source": [
      "Bien que le type tuple est immuable, il est tout \u00e0 fait l\u00e9gal d'addition deux tuples"
     ]
    },
    {
     "cell_type": "code",
     "collapsed": false,
     "input": [
      "tuple1 = (1,2,)\n",
      "tuple2 = (3,4,)\n",
      "print 'addition',tuple1+tuple2"
     ],
     "language": "python",
     "metadata": {},
     "outputs": []
    },
    {
     "cell_type": "markdown",
     "metadata": {},
     "source": [
      "Ainsi on peut \u00e9galement utiliser avec un tuple l'op\u00e9rateur +="
     ]
    },
    {
     "cell_type": "code",
     "collapsed": false,
     "input": [
      "tuple1 = (1,2,)\n",
      "tuple1 += (3,4,)\n",
      "print 'apres ajout', tuple1"
     ],
     "language": "python",
     "metadata": {},
     "outputs": []
    },
    {
     "cell_type": "heading",
     "level": 3,
     "metadata": {},
     "source": [
      "Construire des tuples \u00e9labor\u00e9s"
     ]
    },
    {
     "cell_type": "markdown",
     "metadata": {},
     "source": [
      "Malgr\u00e9 la possibilit\u00e9 de proc\u00e9der par additions successives, la construction d'un tuple peut s'av\u00e9rer fastidieuse. "
     ]
    },
    {
     "cell_type": "markdown",
     "metadata": {},
     "source": [
      "Une astuce utile consiste \u00e0 penser aux fonctions de conversion, pour construire un tuple \u00e0 partir de - par exemple - une liste"
     ]
    },
    {
     "cell_type": "markdown",
     "metadata": {},
     "source": [
      "Ainsi il est tout \u00e0 fait possible par exemple de faire ceci"
     ]
    },
    {
     "cell_type": "code",
     "collapsed": false,
     "input": [
      "# on fabrique une liste pas \u00e0 pas\n",
      "liste = range (10)\n",
      "liste[9]='Inconnu'\n",
      "del liste [2:5]\n",
      "print 'la liste', liste\n",
      "# on convertit le r\u00e9sultat en tuple\n",
      "mon_tuple = tuple (liste)\n",
      "print 'le tuple', mon_tuple"
     ],
     "language": "python",
     "metadata": {},
     "outputs": []
    },
    {
     "cell_type": "heading",
     "level": 3,
     "metadata": {},
     "source": [
      "Digression sur les noms de fonctions pr\u00e9d\u00e9finies"
     ]
    },
    {
     "cell_type": "markdown",
     "metadata": {},
     "source": [
      "$\\textit{Remarque}$. Vous avez peut-\u00eatre observ\u00e9 que nous avons choisi de ne pas appeler notre tuple simplement $\\texttt{tuple}$. C'est une bonne pratique en g\u00e9n\u00e9ral d'\u00e9viter les noms de fonctions pr\u00e9d\u00e9finies par python. \n",
      "\n",
      "Ces variables en effet sont des variables \"comme les autres\". Imaginez qu'on ait en fait deux tuples \u00e0 construire comme ci-dessus, voici ce qu'on obtiendrait si on n'avait pas pris cette pr\u00e9caution"
     ]
    },
    {
     "cell_type": "code",
     "collapsed": false,
     "input": [
      "liste = range(10)\n",
      "tuple = tuple(liste)\n",
      "autre_liste = range(100)\n",
      "autre_tuple = tuple (autre_liste)                    "
     ],
     "language": "python",
     "metadata": {},
     "outputs": []
    },
    {
     "cell_type": "markdown",
     "metadata": {},
     "source": [
      "Ce qui s'est pass\u00e9 ici c'est que nous avons remplac\u00e9 (ligne 2) la valeur de la variable 'tuple', qui au d\u00e9part pointait vers la fonction de conversion, par un objet tuple. Ainsi en ligne 4, lorsqu'on appelle \u00e0 nouveau 'tuple', on essaie d'ex\u00e9cuter un objet qui n'est pas 'appelable' (not callable en anglais).\n",
      "\n",
      "D'un autre cot\u00e9, l'erreur est relativement facile \u00e0 trouver dans ce cas, en cherchant toutes les occurences de 'tuple' dans notre propre code on voit assez vite le probl\u00e8me."
     ]
    }
   ],
   "metadata": {}
  }
 ]
}