{
 "metadata": {
  "kernelspec": {
   "display_name": "Python 2", 
   "language": "python", 
   "name": "python2"
  }, 
  "name": "", 
  "notebookname": "It\u00e9rateurs et performances", 
  "version": "2.0"
 }, 
 "nbformat": 2, 
 "nbformat_minor": 0, 
 "orig_nbformat": 4, 
 "orig_nbformat_minor": 0, 
 "worksheets": [
  {
   "cells": [
    {
     "cell_type": "markdown", 
     "metadata": {}, 
     "source": [
      "<span style=\"float:left;\">Licence CC BY-NC-ND</span><span style=\"float:right;\">Thierry Parmentelat &amp; Arnaud Legout&nbsp;<img src=\"media/inria-25.png\" style=\"display:inline\"></span><br/>"
     ]
    }, 
    {
     "cell_type": "markdown", 
     "metadata": {}, 
     "source": [
      "# It\u00e9rateur et performances"
     ]
    }, 
    {
     "cell_type": "markdown", 
     "metadata": {}, 
     "source": [
      "## Compl\u00e9ment - niveau basique"
     ]
    }, 
    {
     "cell_type": "markdown", 
     "metadata": {}, 
     "source": [
      "Dans ce compl\u00e9ment, nous allons voir pourquoi il est bien souvent pref\u00e9rable d'utiliser un it\u00e9rateur comme sujet d'une boucle `for`, plut\u00f4t que d'it\u00e9rer sur une \u00e9num\u00e9ration explicite comme une liste."
     ]
    }, 
    {
     "cell_type": "markdown", 
     "metadata": {}, 
     "source": [
      "### Digression sur le module `time`"
     ]
    }, 
    {
     "cell_type": "markdown", 
     "metadata": {}, 
     "source": [
      "Dans ce compl\u00e9ment, nous allons faire un peu de mesures de temps d'ex\u00e9cutution et pour cela nous allons utiliser [le module `time`](https://docs.python.org/2/library/time.html).", 
      "", 
      "En fait nous n'aurons besoin que d'une seule des fonctions du module, qui retourne l'heure de l'horloge interne, en secondes&nbsp;:"
     ]
    }, 
    {
     "cell_type": "code", 
     "collapsed": false, 
     "input": [
      "import time", 
      "print time.time()"
     ], 
     "language": "python", 
     "metadata": {}, 
     "outputs": [], 
     "prompt_number": null
    }, 
    {
     "cell_type": "markdown", 
     "metadata": {}, 
     "source": [
      "Pour les curieux ce nombre correspond au nombre de secondes \u00e9coul\u00e9es depuis le 1$^{er}$ Janvier 1970.", 
      "", 
      "Le point important ici est que, pour savoir combien de temps prend une op\u00e9ration, on peut faire quelque chose comme"
     ]
    }, 
    {
     "cell_type": "code", 
     "collapsed": false, 
     "input": [
      "from time import time", 
      "# on enregistre l'heure au d\u00e9but ", 
      "debut = time()", 
      "# uniquement pour illustrer notre m\u00e9thode de mesure, ", 
      "# nous utilisons time.sleep, qui attend \u00e0 ne rien faire pendant la dur\u00e9e indiqu\u00e9e", 
      "from time import sleep", 
      "sleep(0.8)", 
      "# on enregistre l'heure \u00e0 la fin", 
      "fin = time()", 
      "# si tout se passe bien, la dur\u00e9e observ\u00e9e: fin-debut", 
      "# doit nous donner environ 0.8 seconde", 
      "print \"Dur\u00e9e observ\u00e9e pour sleep {}s\".format(fin-debut)"
     ], 
     "language": "python", 
     "metadata": {}, 
     "outputs": [], 
     "prompt_number": null
    }, 
    {
     "cell_type": "markdown", 
     "metadata": {}, 
     "source": [
      "### Calculs non-instantan\u00e9s dans un notebook"
     ]
    }, 
    {
     "cell_type": "markdown", 
     "metadata": {}, 
     "source": [
      "Vous remarquerez d'ailleurs que pendant le temps du `sleep`, le nombre en face du label `In[]` est remplac\u00e9 par une \u00e9toile, qui indique que votre interpr\u00e9teur python est occup\u00e9.", 
      "", 
      "Si en manipulant les exemples vous lancez par erreur un calcul trop long, l'interpr\u00e9teur reste occup\u00e9 jusqu'\u00e0 en avoir fini avec ce calcul, et ne pourra pas \u00e9valuer d'autres cellules tant qu'il n'aura pas fini. Pensez dans ce cas \u00e0 faire dans votre notebook *Kernel* -> *Restart* pour red\u00e9marrer votre interpr\u00e9teur."
     ]
    }, 
    {
     "cell_type": "markdown", 
     "metadata": {}, 
     "source": [
      "### `range` *vs* `xrange`"
     ]
    }, 
    {
     "cell_type": "markdown", 
     "metadata": {}, 
     "source": [
      "Reprenons notre comparaison entre boucles `for` sur liste et sur it\u00e9rateur. Pour cela, commen\u00e7ons par un cas tr\u00e8s simple. Nous avons vu d\u00e9j\u00e0 \u00e0 de nombreuses reprises la fonction `range`. Il existe \u00e9galement une fonction `xrange` qui renvoie un **it\u00e9rateur** \u00e9quivalent, et non pas une liste&nbsp;:"
     ]
    }, 
    {
     "cell_type": "code", 
     "collapsed": false, 
     "input": [
      "for i in range(3):", 
      "    print 'range', i", 
      "", 
      "for i in xrange(3):", 
      "    print 'xrange', i    "
     ], 
     "language": "python", 
     "metadata": {}, 
     "outputs": [], 
     "prompt_number": null
    }, 
    {
     "cell_type": "markdown", 
     "metadata": {}, 
     "source": [
      "### Quelle diff\u00e9rence alors ?"
     ]
    }, 
    {
     "cell_type": "markdown", 
     "metadata": {}, 
     "source": [
      "Imaginez maintenant qu'au lieu de 3 \u00e9l\u00e9ments on en ait beaucoup plus; nous allons exp\u00e9rimenter avec plusieurs tailles"
     ]
    }, 
    {
     "cell_type": "code", 
     "collapsed": false, 
     "input": [
      "# de 100.000 \u00e0 50 millions", 
      "tailles = [10**5, 10**6, 10**7, 5*10**7]"
     ], 
     "language": "python", 
     "metadata": {}, 
     "outputs": [], 
     "prompt_number": null
    }, 
    {
     "cell_type": "markdown", 
     "metadata": {}, 
     "source": [
      "Voyons le temps que prend uniquement la **construction** d'une grosse liste."
     ]
    }, 
    {
     "cell_type": "code", 
     "collapsed": false, 
     "input": [
      "import time", 
      "", 
      "for taille in tailles:", 
      "    beg = time.time()", 
      "    liste = range(taille)", 
      "    end = time.time()", 
      "    print \"Cr\u00e9ation de la liste de taille {}: {}s\".format(taille,end-beg)"
     ], 
     "language": "python", 
     "metadata": {}, 
     "outputs": [], 
     "prompt_number": null
    }, 
    {
     "cell_type": "markdown", 
     "metadata": {}, 
     "source": [
      "Si maintenant on construit un it\u00e9rateur \u00e9quivalent on mesure un temps beaucoup plus court&nbsp;:"
     ]
    }, 
    {
     "cell_type": "code", 
     "collapsed": false, 
     "input": [
      "import time", 
      "", 
      "for taille in tailles:", 
      "    beg = time.time()", 
      "    iterateur = xrange(taille)", 
      "    end = time.time()", 
      "    print \"Cr\u00e9ation de l'it\u00e9rateur de taille {}: {}s\".format(taille,end-beg)"
     ], 
     "language": "python", 
     "metadata": {}, 
     "outputs": [], 
     "prompt_number": null
    }, 
    {
     "cell_type": "markdown", 
     "metadata": {}, 
     "source": [
      "On peut voir que, en tendance, la **cr\u00e9ation d'un it\u00e9rateur** de type `xrange` est quasiment **instantan\u00e9e** quelle que soit la taille, alors que la cr\u00e9ation d'une liste \u00e9quivalente prend **un temps beaucoup plus important** et d'autant plus long que la liste est grande."
     ]
    }, 
    {
     "cell_type": "markdown", 
     "metadata": {}, 
     "source": [
      "### Ce qu'il faut retenir"
     ]
    }, 
    {
     "cell_type": "markdown", 
     "metadata": {}, 
     "source": [
      "Pour r\u00e9sumer ce compl\u00e9ment, retenez que&nbsp;: ", 
      "", 
      " * la **construction d'une liste**, surtout si elle est tr\u00e8s longue, peut avoir un **co\u00fbt non n\u00e9gligeable** en temps et en m\u00e9moire;", 
      " * aussi c'est une bonne id\u00e9e de s'efforcer de **ne cr\u00e9er une liste** que lorsque c'est **r\u00e9ellement n\u00e9cessaire**;", 
      " * et dans tous les autres cas, c'est \u00e0 dire \u00e0 chaque fois que la liste n'est qu'un **accessoire de calcul**, et ne repr\u00e9sente pas une fin en soi, il faut **pr\u00e9f\u00e9rer** l'utilisation d'**it\u00e9rateurs**."
     ]
    }, 
    {
     "cell_type": "markdown", 
     "metadata": {}, 
     "source": [
      "## Compl\u00e9ment - niveau interm\u00e9diaire"
     ]
    }, 
    {
     "cell_type": "markdown", 
     "metadata": {}, 
     "source": [
      "### Allouer et initialiser de la m\u00e9moire prend du temps"
     ]
    }, 
    {
     "cell_type": "markdown", 
     "metadata": {}, 
     "source": [
      "Ce ph\u00e9nom\u00e8ne peut vous para\u00eetre surprenant si vous n'\u00eates pas familier avec l'informatique. \u00c0 premi\u00e8re vue, si on juge superficiellement, on peut se demander ce qui se passe. ", 
      "", 
      "En fait, pour cr\u00e9er la liste des `taille` premiers entiers, il faut", 
      " * d'abord allouer suffisamment de m\u00e9moire pour tous les ranger", 
      " * et ensuite remplir les `taille` cases de la liste avec les valeurs", 
      "", 
      "Ces deux op\u00e9rations semblent banales, mais elles prennent n\u00e9anmoins un peu de temps, qui \u00e0 grande \u00e9chelle devient sensible, comme nous venons de l'exp\u00e9rimenter."
     ]
    }, 
    {
     "cell_type": "markdown", 
     "metadata": {}, 
     "source": [
      "### Un it\u00e9rateur est un objet minuscule"
     ]
    }, 
    {
     "cell_type": "markdown", 
     "metadata": {}, 
     "source": [
      "A contrario, un it\u00e9rateur du type `xrange` ne **contient presque rien**. Cela sera approfondi en semaine 6, mais pour anticiper un peu la fonction d'un iterateur `xrange` consiste uniquement \u00e0 m\u00e9moriser les param\u00e8tres de la boucle, et \u00e0 quelle \u00e9tape on en est rendu \u00e0 un moment donn\u00e9. ", 
      "", 
      "Ce qui explique le temps tr\u00e8s faible, et constant en fonction de `taille`, que l'on a observ\u00e9 pour la cr\u00e9ation de nos it\u00e9rateurs."
     ]
    }, 
    {
     "cell_type": "markdown", 
     "metadata": {}, 
     "source": [
      "### Des it\u00e9rateurs pour tout"
     ]
    }, 
    {
     "cell_type": "markdown", 
     "metadata": {}, 
     "source": [
      "Au fur et \u00e0 mesure de l'\u00e9volution de python-2, on a petit \u00e0 petit ajout\u00e9 des utilitaires pour calculer des it\u00e9rateurs plut\u00f4t que des listes. C'est le cas par exemple avec les fonctions et m\u00e9thodes suivantes&nbsp;:", 
      "", 
      "<table>", 
      "<tr> <th>Original</th>  <th>Am\u00e9lior\u00e9</th>  </tr>", 
      "<tr> <td>`range`</td>  <td>`xrange`</td>  </tr>", 
      "<tr> <td>`dict.keys`</td>  <td>`dict.iterkeys`</td>  </tr>", 
      "<tr> <td>`dict.values`</td>  <td>`dict.itervalues`</td>  </tr>", 
      "<tr> <td>`dict.items`</td>  <td>`dict.iteritems`</td>  </tr>", 
      "</table>"
     ]
    }, 
    {
     "cell_type": "markdown", 
     "metadata": {}, 
     "source": [
      "### python-3"
     ]
    }, 
    {
     "cell_type": "markdown", 
     "metadata": {}, 
     "source": [
      "Parmi les grandes diff\u00e9rences entre python-2 et python-3, il y a ceci&nbsp;: pour toutes les m\u00e9thodes ci-dessus, la s\u00e9mantique est syt\u00e9matiquement de retourner un it\u00e9rateur. ", 
      "", 
      "Ainsi en python-3, `range(10)` retourne un objet it\u00e9rateur. Et il n'y a pas de fonction `xrange`, sachant qu'on peut toujours construire une liste liste en appelant explicitement la fonction `list` comme ceci&nbsp;:"
     ]
    }, 
    {
     "cell_type": "markdown", 
     "metadata": {}, 
     "source": [
      "    ~ $ python3", 
      "    Python 3.4.1 (default, Sep 20 2014, 19:44:17)", 
      "    [GCC 4.2.1 Compatible Apple LLVM 5.1 (clang-503.0.40)] on darwin", 
      "    Type \"help\", \"copyright\", \"credits\" or \"license\" for more information.", 
      "    >>>", 
      "    >>> range(10)", 
      "    range(0, 10)", 
      "    >>>", 
      "    >>> xrange(10)", 
      "    Traceback (most recent call last):", 
      "      File \"<stdin>\", line 1, in <module>", 
      "    NameError: name 'xrange' is not defined", 
      "    >>>", 
      "    >>> list(range(10))", 
      "    [0, 1, 2, 3, 4, 5, 6, 7, 8, 9]", 
      "    >>>"
     ]
    }, 
    {
     "cell_type": "markdown", 
     "metadata": {}, 
     "source": [
      "## Compl\u00e9ment - niveau avanc\u00e9"
     ]
    }, 
    {
     "cell_type": "markdown", 
     "metadata": {}, 
     "source": [
      "Pour finir, et pour revenir sur les mesures de performances, voici une astuce qui permet de lancer  de petits benchmarkes dans un terminal&nbsp;:"
     ]
    }, 
    {
     "cell_type": "markdown", 
     "metadata": {}, 
     "source": [
      "    $ python -m timeit 'liste=range(10**6)' 'for x in liste: x+1'", 
      "    10 loops, best of 3: 50.5 msec per loop"
     ]
    }, 
    {
     "cell_type": "markdown", 
     "metadata": {}, 
     "source": [
      "Ceci met en jeu un certain nombre de choses nouvelles:", 
      " * python avec l'option -m permet d'importer un module, en l'occurrence ici [le module `timeit`](https://docs.python.org/2/library/timeit.html);", 
      " * avec cette forme on peut passer \u00e0 `timeit` plusieurs instructions; ici nous avons deux instructions, une pour initialiser `liste`, la seconde pour lancer la boucle `for`;", 
      " * il est possible d'\u00e9crire des instructions sur une seule ligne. Ici le dernier argument pass\u00e9 \u00e0 python est ", 
      " ", 
      "    for x in liste: x+1", 
      "    ", 
      "   qui est interpr\u00e9t\u00e9 comme une seule ligne. Cette pratique doit absolument rester limit\u00e9e \u00e0 de tels usages sp\u00e9cifiques."
     ]
    }, 
    {
     "cell_type": "markdown", 
     "metadata": {}, 
     "source": [
      "Cette forme est pratique notamment parce que `timeit` fait, comme on le voit, plusieurs essais successifs qui donnent un r\u00e9sultat plus repr\u00e9sentatif. C'est pourquoi vous la trouverez fr\u00e9quemment utilis\u00e9e dans les forums de discussion autour de python."
     ]
    }
   ], 
   "metadata": {}
  }
 ]
}
