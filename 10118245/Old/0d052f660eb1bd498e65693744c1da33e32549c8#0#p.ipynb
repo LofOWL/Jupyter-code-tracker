{
 "metadata": {
  "kernelspec": {
   "display_name": "Python 2", 
   "language": "python", 
   "name": "python2"
  }, 
  "name": "", 
  "notebookname": "It\u00e9rateurs", 
  "version": "2.0"
 }, 
 "nbformat": 2, 
 "nbformat_minor": 0, 
 "orig_nbformat": 4, 
 "orig_nbformat_minor": 0, 
 "worksheets": [
  {
   "cells": [
    {
     "cell_type": "markdown", 
     "metadata": {}, 
     "source": [
      "<span style=\"float:left;\">Licence CC BY-NC-ND</span><span style=\"float:right;\">Thierry Parmentelat &amp; Arnaud Legout&nbsp;<img src=\"media/inria-25.png\" style=\"display:inline\"></span><br/>"
     ]
    }, 
    {
     "cell_type": "markdown", 
     "metadata": {}, 
     "source": [
      "# It\u00e9rateurs"
     ]
    }, 
    {
     "cell_type": "markdown", 
     "metadata": {}, 
     "source": [
      "## Compl\u00e9ment - niveau interm\u00e9daire"
     ]
    }, 
    {
     "cell_type": "markdown", 
     "metadata": {}, 
     "source": [
      "Dans ce compl\u00e9ment nous allons&nbsp;:", 
      " * tout d'abord dire quelques mots du module `itertools` qui fournit sous forme d'it\u00e9rateurs des utilitaires communs qui peuvent \u00eatre tr\u00e8s utiles&nbsp;;", 
      " * puis dans la partie avanc\u00e9e du compl\u00e9ment nous allons voir, comme un autre exemple d'it\u00e9rateurs, comment impl\u00e9menter notre propre it\u00e9rateur des permutations d'un ensemble fini."
     ]
    }, 
    {
     "cell_type": "markdown", 
     "metadata": {}, 
     "source": [
      "### Le module `itertools`"
     ]
    }, 
    {
     "cell_type": "markdown", 
     "metadata": {}, 
     "source": [
      "\u00c0 ce stade, j'esp\u00e8re que vous savez trouver [la documentation du module](https://docs.python.org/2/library/itertools.html) que je vous invite \u00e0 avoir sous la main."
     ]
    }, 
    {
     "cell_type": "code", 
     "collapsed": false, 
     "input": [
      "import itertools"
     ], 
     "language": "python", 
     "metadata": {}, 
     "outputs": [], 
     "prompt_number": null
    }, 
    {
     "cell_type": "markdown", 
     "metadata": {}, 
     "source": [
      "Comme vous le voyez dans la doc, les fonctionnalit\u00e9s de `itertools` tombent dans 3 cat\u00e9gories&nbsp;:", 
      " * des it\u00e9rateurs infinis, comme par exemple `cycle`,", 
      " * des it\u00e9rateurs pour \u00e9num\u00e9rer les combinatoires usuelles en math\u00e9matiques, comme les permutations, les combinaisons, le produit cart\u00e9sien, etc.,", 
      " * et enfin des it\u00e9rateurs correspondants \u00e0 des traits que nous avons d\u00e9j\u00e0 rencontr\u00e9s, mais impl\u00e9ment\u00e9s sous forme d'it\u00e9rateurs.", 
      " ", 
      "\u00c0 nouveau, toutes ces fonctionnalit\u00e9s sont offertes **sous la forme d'it\u00e9rateurs**."
     ]
    }, 
    {
     "cell_type": "markdown", 
     "metadata": {}, 
     "source": [
      "Pour d\u00e9tailler un tout petit peu cette derni\u00e8re famille, signalons&nbsp;:"
     ]
    }, 
    {
     "cell_type": "markdown", 
     "metadata": {}, 
     "source": [
      " * `chain` qui permet de **concat\u00e9ner** plusieurs it\u00e9rables sous la forme d'un **it\u00e9rateur**&nbsp;:"
     ]
    }, 
    {
     "cell_type": "code", 
     "collapsed": false, 
     "input": [
      "for x in itertools.chain((1, 2), [3, 4]):", 
      "    print x"
     ], 
     "language": "python", 
     "metadata": {}, 
     "outputs": [], 
     "prompt_number": null
    }, 
    {
     "cell_type": "markdown", 
     "metadata": {}, 
     "source": [
      " * `izip` qui comme son nom l'indique fait comme `zip` mais sous la forme d'un it\u00e9rateur&nbsp;:"
     ]
    }, 
    {
     "cell_type": "code", 
     "collapsed": false, 
     "input": [
      "for a,b in itertools.izip((1, 2), [3, 4]):", 
      "    print a, b"
     ], 
     "language": "python", 
     "metadata": {}, 
     "outputs": [], 
     "prompt_number": null
    }, 
    {
     "cell_type": "markdown", 
     "metadata": {}, 
     "source": [
      " * `islice` qui est une g\u00e9n\u00e9ralisation de `xrange`. Vous vous souvenez que `xrange` est similaire \u00e0 `range` mais renvoie d\u00e9j\u00e0 un it\u00e9rateur. `islice` permet de travailler sur une s\u00e9quence qui n'est pas les premiers entiers&nbsp;:"
     ]
    }, 
    {
     "cell_type": "code", 
     "collapsed": false, 
     "input": [
      "import string", 
      "support = string.ascii_lowercase", 
      "print 'rappel string.ascii_lowercase=', support", 
      "", 
      "# range", 
      "for x in range(2):", 
      "    print x", 
      "# islice", 
      "for x in itertools.islice(support, 2):", 
      "    print x"
     ], 
     "language": "python", 
     "metadata": {}, 
     "outputs": [], 
     "prompt_number": null
    }, 
    {
     "cell_type": "markdown", 
     "metadata": {}, 
     "source": [
      " * `imap` et `ifilter` qui sont les \u00e9quivalents de `filter` et `map`. Ces deux-l\u00e0 sont donc \u00e0 mettre en rapport avec les fonctions g\u00e9n\u00e9ratrices que l'on a vues dans la s\u00e9quence pr\u00e9c\u00e9dente, dans le sens que nous allons expliciter.", 
      " ", 
      " Vous vous souvenez que `map` et `filter` sont devenus obsol\u00e8tes avec les compr\u00e9hensions de liste. Sauf que, les compr\u00e9hensions retournent, eh bien justement, une liste. Alors qu'en fait, une fois qu'on s'est habitu\u00e9s \u00e0 penser en termes d'it\u00e9rateurs, on r\u00e9alise que c'est souvent dommage que les compr\u00e9hensions ne retournent pas plut\u00f4t un it\u00e9rateur aussi.", 
      " ", 
      " Dans tous les cas, vous voyez que `imap` et `ifilter` sont un peu aux expressions g\u00e9n\u00e9ratrices   ce que `map` et `filter` sont aux compr\u00e9hensions de liste."
     ]
    }, 
    {
     "cell_type": "markdown", 
     "metadata": {}, 
     "source": [
      "## Compl\u00e9ment - niveau avanc\u00e9"
     ]
    }, 
    {
     "cell_type": "markdown", 
     "metadata": {}, 
     "source": [
      "### Impl\u00e9menter un it\u00e9rateur de permutations"
     ]
    }, 
    {
     "cell_type": "markdown", 
     "metadata": {}, 
     "source": [
      "##### C'est quoi d\u00e9j\u00e0 les permutations ?"
     ]
    }, 
    {
     "cell_type": "markdown", 
     "metadata": {}, 
     "source": [
      "En guise de rappel, l'ensemble des permutations d'un ensemble fini correspond \u00e0 toutes les fa\u00e7ons d'ordonner ses \u00e9l\u00e9ments&nbsp;; si l'ensemble est de cardinal $n$, il poss\u00e8de $n!$ permutations&nbsp;: on a $n$ fa\u00e7ons de choisir le premier \u00e9l\u00e9ment, $n-1$ fa\u00e7ons de choisir le second, etc."
     ]
    }, 
    {
     "cell_type": "markdown", 
     "metadata": {}, 
     "source": [
      "Un it\u00e9rateur sur les permutations est disponible au travers du module standard `itertools`. Cependant il nous a sembl\u00e9 int\u00e9ressant de vous montrer comment on pourrait \u00e9crire nous-m\u00eames cette fonctionnalit\u00e9, de mani\u00e8re relativement simple."
     ]
    }, 
    {
     "cell_type": "markdown", 
     "metadata": {}, 
     "source": [
      "Pour illustrer le concept, voici \u00e0 quoi ressemblent les 6 permutations d'un ensemble \u00e0 trois \u00e9l\u00e9ments&nbsp;:"
     ]
    }, 
    {
     "cell_type": "code", 
     "collapsed": false, 
     "input": [
      "from itertools import permutations"
     ], 
     "language": "python", 
     "metadata": {}, 
     "outputs": [], 
     "prompt_number": null
    }, 
    {
     "cell_type": "code", 
     "collapsed": false, 
     "input": [
      "set = {1, 2, 3}", 
      "", 
      "for p in permutations(set):", 
      "    print p"
     ], 
     "language": "python", 
     "metadata": {}, 
     "outputs": [], 
     "prompt_number": null
    }, 
    {
     "cell_type": "markdown", 
     "metadata": {}, 
     "source": [
      "##### Une impl\u00e9mentation "
     ]
    }, 
    {
     "cell_type": "markdown", 
     "metadata": {}, 
     "source": [
      "Voici une impl\u00e9mentation possible pour un it\u00e9rateur de permutations&nbsp;:"
     ]
    }, 
    {
     "cell_type": "code", 
     "collapsed": false, 
     "input": [
      "class Permutations:", 
      "    \"\"\"", 
      "    Un it\u00e9rateur qui \u00e9num\u00e8re les permutations de n", 
      "    sous la forme d'une liste d'indices commen\u00e7ant \u00e0 0", 
      "    \"\"\"", 
      "    def __init__(self, n):", 
      "        # le constructeur bien s\u00fbr ne fait (presque) rien", 
      "        self.n = n", 
      "        # au fur et \u00e0 mesure des it\u00e9rations", 
      "        # le compteur va aller de 0 \u00e0 n-1", 
      "        # puis retour \u00e0 0 et comme \u00e7a en boucle sans fin", 
      "        self.counter = 0", 
      "        # on se contente d'allouer un iterateur de rang n-1", 
      "        # si bien qu'une fois qu'on a fini de construire", 
      "        # l'objet d'ordre n on a n objets Permutations en tout", 
      "        if n >= 2:", 
      "            self.subiterator = Permutations(n-1)", 
      "", 
      "    # pour satisfaire le protocole de l'it\u00e9rable", 
      "    def __iter__(self):", 
      "        return self", 
      "", 
      "    # c'est ici bien s\u00fbr que se fait tout le travail", 
      "    def next(self):", 
      "", 
      "        # pour n == 1", 
      "        # le travail est tr\u00e8s simple", 
      "        if self.n == 1:", 
      "            # on doit renvoyer une fois la liste [0]", 
      "            # car les indices commencent \u00e0 0", 
      "            if self.counter == 0: ", 
      "                self.counter += 1", 
      "                return [0]", 
      "            # et ensuite c'est termin\u00e9", 
      "            else:", 
      "                raise StopIteration", 
      "", 
      "        # pour n >= 2", 
      "        # lorsque counter est nul,", 
      "        # on traite la permutation d'ordre n-1 suivante", 
      "        # si next() l\u00e8ve StopIteration on n'a qu'\u00e0 laisser passer", 
      "        # car en effet c'est qu'on a termin\u00e9", 
      "        if self.counter == 0:", 
      "            self.subsequence = self.subiterator.next()", 
      "        #", 
      "        # on ins\u00e8re alors n-1 (car les indices commencent \u00e0 0)", 
      "        # successivement dans la sous-sequence", 
      "        #", 
      "        # naivement on \u00e9crirait", 
      "        # result = self.subsequence[0:self.counter] \\", 
      "        #    + [self.n - 1] \\", 
      "        #    + self.subsequence[self.counter:self.n-1]", 
      "        # mais c'est mettre le nombre le plus \u00e9lev\u00e9 en premier", 
      "        # et donc \u00e0 it\u00e9rer les permutations dans le mauvais ordre,", 
      "        # en commen\u00e7ant par la fin", 
      "        #", 
      "        # donc on fait plut\u00f4t une sym\u00e9trie", 
      "        # pour ins\u00e9rer en commen\u00e7ant par la fin", 
      "        cutter = self.n-1 - self.counter", 
      "        result = self.subsequence[0:cutter] + [self.n - 1] \\", 
      "                 + self.subsequence[cutter:self.n-1]", 
      "        # ", 
      "        # on n'oublie pas de maintenir le compteur et de", 
      "        # le remettre \u00e0 z\u00e9ro tous les n tours", 
      "        self.counter = (self.counter+1) % self.n", 
      "        return result", 
      "", 
      "    # la longeur de cet it\u00e9rateur est connue", 
      "    def __len__(self):", 
      "        import math", 
      "        return math.factorial(self.n)"
     ], 
     "language": "python", 
     "metadata": {}, 
     "outputs": [], 
     "prompt_number": null
    }, 
    {
     "cell_type": "markdown", 
     "metadata": {}, 
     "source": [
      "Ce qu'on a essay\u00e9 d'expliquer dans les commentaires, c'est qu'on proc\u00e8de en fin de compte par r\u00e9currence. Un objet `Permutations` de rang `n` poss\u00e8de un sous-it\u00e9rateur de rang `n-1` qu'on cr\u00e9e dans le constructeur. Ensuite l'objet de rang `n` va faire successivement (c'est-\u00e0-dire \u00e0 chaque appel de `next()`)&nbsp;:", 
      " * appel *0* : ", 
      "   * demander \u00e0 son sous-it\u00e9rateur une permutation de rang `n-1` (en lui envoyant `next`),", 
      "   * la stocker dans l'objet de rang `n`, ce sera utilis\u00e9 par les *n* premier appels,", 
      "   * et construire une liste de taille `n` en ins\u00e9rant `n-1` \u00e0 la fin de la s\u00e9quence de taille `n-1`,", 
      " * appel *1* : ", 
      "   * ins\u00e9rer `n-1` dans la m\u00eame s\u00e9quence de rang `n-1` mais cette fois 1 cran avant la fin,", 
      " * ...", 
      " * appel *n-1* :", 
      "   * ins\u00e9rer `n-1` au d\u00e9but de la s\u00e9quence de rang `n-1`,", 
      " * appel *n* :", 
      "    * refaire `next()` sur le sous-it\u00e9rateur pour traiter une nouvelle sous-s\u00e9quence,", 
      "    * la stocker dans l'objet de rang `n`, comme \u00e0 l'appel *0*, pour ce bloc de n appels,", 
      "    * et construire la permutation en ins\u00e9rant *n-1* \u00e0 la fin, comme \u00e0 l'appel 0,", 
      " * ..."
     ]
    }, 
    {
     "cell_type": "markdown", 
     "metadata": {}, 
     "source": [
      "On voit donc le caract\u00e8re cyclique d'ordre *n* qui est mat\u00e9rialis\u00e9 par `counter`, que l'on incr\u00e9mente \u00e0 chaque boucle mais modulo *n* - notez d'ailleurs que pour ce genre de comportement on dispose aussi de `itertools.cycle` comme on le verra dans une deuxi\u00e8me version, mais pour l'instant j'ai pr\u00e9f\u00e9r\u00e9 ne pas l'utiliser pour ne pas tout embrouiller ;) ", 
      "", 
      "La terminaison se g\u00e8re tr\u00e8s simplement, car une fois que l'on a trait\u00e9 toutes les s\u00e9quences d'ordre *n-1* eh bien on a fini, on n'a m\u00eame pas besoin de lever StopIteration explicitement, sauf bien s\u00fbr dans le cas *n=1*.", 
      "", 
      "Le seul point un peu d\u00e9licat, si on veut avoir les permutations dans le \"bon\" ordre, consiste \u00e0 commencer \u00e0 ins\u00e9rer `n-1` par la droite (la fin de la sous-s\u00e9quence)."
     ]
    }, 
    {
     "cell_type": "markdown", 
     "metadata": {}, 
     "source": [
      "##### Discussion"
     ]
    }, 
    {
     "cell_type": "markdown", 
     "metadata": {}, 
     "source": [
      "Il existe certainement des tas d'autres fa\u00e7ons de faire bien entendu. Le point important ici, et qui donne toute sa puissance \u00e0 la notion d'it\u00e9rateur, c'est **qu'\u00e0 aucun moment on ne construit** une liste ou une s\u00e9quence quelconque de** $n!$ termes**. ", 
      "", 
      "C'est une erreur fr\u00e9quente chez les d\u00e9butants que de calculer une telle liste dans le constructeur, mais proc\u00e9der de cette fa\u00e7on c'est aller exactement \u00e0 l'oppos\u00e9 de ce pourquoi les it\u00e9rateurs ont \u00e9t\u00e9 con\u00e7us&nbsp;; au contraire, on veut \u00e9viter \u00e0 tout prix le co\u00fbt d'une telle construction.", 
      "", 
      "On peut le voir sur un code qui n'utiliserait que les 20 premi\u00e8res valeurs de l'it\u00e9rateur, vous constatez que ce code est imm\u00e9diat&nbsp;:"
     ]
    }, 
    {
     "cell_type": "code", 
     "collapsed": false, 
     "input": [
      "def show_first_items(iterable, nb_items):", 
      "    \"\"\"", 
      "    montre les <nb_items> premiers items de iterable", 
      "    \"\"\"", 
      "    print \"Il y a {} items dans l'iterable\".format(len(iterable))", 
      "    for i,item in enumerate(iterable):", 
      "        print item", 
      "        if i >= nb_items:", 
      "            print '....'", 
      "            break"
     ], 
     "language": "python", 
     "metadata": {}, 
     "outputs": [], 
     "prompt_number": null
    }, 
    {
     "cell_type": "code", 
     "collapsed": false, 
     "input": [
      "show_first_items(Permutations(12), 20)"
     ], 
     "language": "python", 
     "metadata": {}, 
     "outputs": [], 
     "prompt_number": null
    }, 
    {
     "cell_type": "markdown", 
     "metadata": {}, 
     "source": [
      "Ce tableau vous montre par ailleurs sous un autre angle comment fonctionne l'algorithme, si vous observez le `11` qui balaie en diagonale les 12 premi\u00e8res lignes, puis les 12 suivantes, etc.."
     ]
    }, 
    {
     "cell_type": "markdown", 
     "metadata": {}, 
     "source": [
      "##### Ultimes am\u00e9liorations"
     ]
    }, 
    {
     "cell_type": "markdown", 
     "metadata": {}, 
     "source": [
      "Derni\u00e8res remarques, sur des am\u00e9liorations possibles - mais tout \u00e0 fait optionnelles&nbsp;:", 
      " * le lecteur attentif aura remarqu\u00e9 qu'au lieu d'un entier `counter` on aurait pu profitablement utiliser une instance de `itertools.cycle`, ce qui aurait eu l'avantage d'\u00eatre plus clair sur le propos de ce compteur;", 
      " * aussi dans le m\u00eame mouvement, au lieu de se livrer \u00e0 la gymnastique qui calcule `cutter` \u00e0 partir de `counter`, on pourrait d\u00e8s le d\u00e9part cr\u00e9er dans le cycle les bonnes valeurs en commen\u00e7ant \u00e0 `n-1`."
     ]
    }, 
    {
     "cell_type": "markdown", 
     "metadata": {}, 
     "source": [
      "C'est ce qu'on a fait dans cette deuxi\u00e8me version; apr\u00e8s avoir enlev\u00e9 la loghorr\u00e9e de commentaires \u00e7a redevient presque lisible ;)"
     ]
    }, 
    {
     "cell_type": "code", 
     "collapsed": false, 
     "input": [
      "import itertools", 
      "", 
      "class Permutations2:", 
      "    \"\"\"", 
      "    Un it\u00e9rateur qui \u00e9num\u00e8re les permutations de n", 
      "    sous la forme d'une liste d'indices commen\u00e7ant \u00e0 0", 
      "    \"\"\"", 
      "    def __init__(self, n):", 
      "        self.n = n", 
      "        # on commence \u00e0 ins\u00e9rer \u00e0 la fin ", 
      "        self.cycle = itertools.cycle(range(n)[::-1])", 
      "        if n >= 2:", 
      "            self.subiterator = Permutations(n-1)", 
      "        # pour savoir quand terminer le cas n==1", 
      "        if n == 1:", 
      "            self.done = False", 
      "", 
      "    def __iter__(self):", 
      "        return self", 
      "", 
      "    def next(self):", 
      "        cutter = self.cycle.next()", 
      "", 
      "        # quand n==1 on a toujours la m\u00eame valeur 0", 
      "        if self.n == 1:", 
      "            if not self.done:", 
      "                self.done = True", 
      "                return [0]", 
      "            else:", 
      "                raise StopIteration", 
      "", 
      "        # au d\u00e9but de chaque s\u00e9quence de n appels", 
      "        # il faut appeler une nouvelle sous-s\u00e9quence", 
      "        if cutter == self.n-1:", 
      "            self.subsequence = self.subiterator.next()", 
      "        # dans laquelle on ins\u00e9re n-1", 
      "        return self.subsequence[0:cutter] + [self.n-1] \\", 
      "                 + self.subsequence[cutter:self.n-1]", 
      "", 
      "    # la longeur de cet it\u00e9rateur est connue", 
      "    def __len__(self):", 
      "        import math", 
      "        return math.factorial(self.n)"
     ], 
     "language": "python", 
     "metadata": {}, 
     "outputs": [], 
     "prompt_number": null
    }, 
    {
     "cell_type": "code", 
     "collapsed": false, 
     "input": [
      "show_first_items(Permutations2(5), 20)"
     ], 
     "language": "python", 
     "metadata": {}, 
     "outputs": [], 
     "prompt_number": null
    }
   ], 
   "metadata": {}
  }
 ]
}
