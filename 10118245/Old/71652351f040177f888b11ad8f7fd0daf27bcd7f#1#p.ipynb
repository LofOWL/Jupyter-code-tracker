{
 "metadata": {
  "notebookname": "Les mots-cl\u00e9s de python",
  "signature": "62d6e85453986085ea8cf408cce01a2d20fe6f386f4c5ae9e32ca53c3d6a57ca",
  "version": "1.0"
 },
 "nbformat": 3,
 "nbformat_minor": 0,
 "worksheets": [
  {
   "cells": [
    {
     "cell_type": "heading",
     "level": 1,
     "metadata": {},
     "source": [
      "Les mots-cl\u00e9s de python"
     ]
    },
    {
     "cell_type": "heading",
     "level": 3,
     "metadata": {},
     "source": [
      "Mots r\u00e9serv\u00e9s"
     ]
    },
    {
     "cell_type": "markdown",
     "metadata": {},
     "source": [
      "Il existe en python certains mots sp\u00e9ciaux, qu'on appelle des mots-cl\u00e9s, ou `keywords` en anglais, qui sont r\u00e9serv\u00e9s et **ne peuvent pas \u00eatre utilis\u00e9s** comme identifiants, c'est-\u00e0-dire comme un nom de variable."
     ]
    },
    {
     "cell_type": "markdown",
     "metadata": {},
     "source": [
      "C'est le cas par exemple pour l'instruction `print`, que nous verrons prochainement, et qui comme son mon l'indique imprime un r\u00e9sultat"
     ]
    },
    {
     "cell_type": "code",
     "collapsed": false,
     "input": [
      "print \"Hello world !\""
     ],
     "language": "python",
     "metadata": {},
     "outputs": []
    },
    {
     "cell_type": "markdown",
     "metadata": {},
     "source": [
      "\u00c0 cause de la pr\u00e9sence de cette instruction dans le langage, il n'est pas autoris\u00e9 d'appeler une variable `print`:"
     ]
    },
    {
     "cell_type": "code",
     "collapsed": false,
     "input": [
      "# interdit\n",
      "print = 1"
     ],
     "language": "python",
     "metadata": {},
     "outputs": []
    },
    {
     "cell_type": "heading",
     "level": 3,
     "metadata": {},
     "source": [
      "Liste compl\u00e8te"
     ]
    },
    {
     "cell_type": "markdown",
     "metadata": {},
     "source": [
      "Voici la liste compl\u00e8te des mots-cl\u00e9s:"
     ]
    },
    {
     "cell_type": "markdown",
     "metadata": {},
     "source": [
      "<table border=\"0\"><tbody>\n",
      "<tr><td>`and`</td>       <td>`del`</td>       <td>`from`</td>      <td>`not`</td>       <td>`while`</td></tr>\n",
      "<tr><td>`as`</td>        <td>`elif`</td>      <td>`global`</td>    <td>`or`</td>        <td>`with`</td></tr>\n",
      "<tr><td>`assert`</td>    <td>`else`</td>      <td>`if`</td>        <td>`pass`</td>      <td>`yield`</td></tr>\n",
      "<tr><td>`break`</td>     <td>`except`</td>    <td>`import`</td>    <td>`print`</td> <td></td> </tr>\n",
      "<tr><td>`class`</td>     <td>`exec`</td>      <td>`in`</td>        <td>`raise`</td> <td></td> </tr>\n",
      "<tr><td>`continue`</td>  <td>`finally`</td>   <td>`is`</td>        <td>`return`</td> <td></td> </tr>\n",
      "<tr><td>`def`</td>       <td>`for`</td>       <td>`lambda`</td>    <td>`try`</td> <td></td> </tr>\n",
      "</tbody></table>"
     ]
    },
    {
     "cell_type": "markdown",
     "metadata": {},
     "source": [
      "Il vous faudra donc y pr\u00eater attention, surtout au d\u00e9but; avec un tout petit peu d'habitude vous saurez rapidement les \u00e9viter."
     ]
    },
    {
     "cell_type": "heading",
     "level": 3,
     "metadata": {},
     "source": [
      "Pour en savoir plus"
     ]
    },
    {
     "cell_type": "markdown",
     "metadata": {},
     "source": [
      "On peut se reporter \u00e0 cette page\n",
      "\n",
      "https://docs.python.org/2/reference/lexical_analysis.html#keywords"
     ]
    }
   ],
   "metadata": {}
  }
 ]
}