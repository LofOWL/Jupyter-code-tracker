{
 "metadata": {
  "name": "",
  "signature": "sha256:bf40cc22bde3c32f4132d73922b4aa7653ece2dceb8dc0d0cbe63a1145998c6b"
 },
 "nbformat": 3,
 "nbformat_minor": 0,
 "worksheets": [
  {
   "cells": [
    {
     "cell_type": "heading",
     "level": 1,
     "metadata": {},
     "source": [
      "Mini-projets"
     ]
    }
   ],
   "metadata": {}
  }
 ]
}