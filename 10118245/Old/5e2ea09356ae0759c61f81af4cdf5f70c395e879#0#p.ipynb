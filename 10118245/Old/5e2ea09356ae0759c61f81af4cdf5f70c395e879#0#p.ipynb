{
 "metadata": {
  "name": "",
  "signature": "sha256:a9fdb126d895716a6c2540e538673b2afed7ed4c5549364edb26969efca84d2a"
 },
 "nbformat": 3,
 "nbformat_minor": 0,
 "worksheets": [
  {
   "cells": [
    {
     "cell_type": "heading",
     "level": 1,
     "metadata": {},
     "source": [
      "Quelques op\u00e9rations utiles sur les nombres"
     ]
    },
    {
     "cell_type": "heading",
     "level": 2,
     "metadata": {},
     "source": [
      "Op\u00e9rations 'bitwise'"
     ]
    },
    {
     "cell_type": "markdown",
     "metadata": {},
     "source": [
      "Il est possible aussi de faire des op\u00e9rations \"bit-\u00e0-bit\" sur les nombres entiers. \\\\\n",
      "le plus simple est de penser \u00e0 l'\u00e9criture du nombre en base 2"
     ]
    },
    {
     "cell_type": "markdown",
     "metadata": {},
     "source": [
      "Par exemple\n",
      "\n",
      "$x = 49 = 32 + 16 + 1 \\rightarrow (0,1,1,0,0,0,1) $\n",
      "\n",
      "$y = 81 = 64 + 16 + 1 \\rightarrow (1,0,1,0,0,0,1) $\n",
      "\n"
     ]
    },
    {
     "cell_type": "code",
     "collapsed": false,
     "input": [
      "x=49\n",
      "y=81"
     ],
     "language": "python",
     "metadata": {},
     "outputs": [],
     "prompt_number": 1
    },
    {
     "cell_type": "markdown",
     "metadata": {},
     "source": [
      "L'op\u00e9ration logique '&' va faire un 'et' logique bit \u00e0 bit entre les op\u00e9randes, ainsi"
     ]
    },
    {
     "cell_type": "code",
     "collapsed": false,
     "input": [
      "x&y"
     ],
     "language": "python",
     "metadata": {},
     "outputs": [
      {
       "metadata": {},
       "output_type": "pyout",
       "prompt_number": 4,
       "text": [
        "17"
       ]
      }
     ],
     "prompt_number": 4
    },
    {
     "cell_type": "markdown",
     "metadata": {},
     "source": [
      "Et en effet\n",
      "\n",
      "$(0,1,1,0,0,0,1) $\n",
      "\n",
      "$(1,0,1,0,0,0,1) $\n",
      "\n",
      "$(0,0,1,0,0,0,1) \\rightarrow 17$\n"
     ]
    },
    {
     "cell_type": "markdown",
     "metadata": {},
     "source": [
      "De m\u00eame, l'op\u00e9ration logique '|' fait simplement un 'ou' logique, comme ceci"
     ]
    },
    {
     "cell_type": "code",
     "collapsed": false,
     "input": [
      "x|y"
     ],
     "language": "python",
     "metadata": {},
     "outputs": [
      {
       "metadata": {},
       "output_type": "pyout",
       "prompt_number": 5,
       "text": [
        "113"
       ]
      }
     ],
     "prompt_number": 5
    },
    {
     "cell_type": "markdown",
     "metadata": {},
     "source": [
      "On s'y retrouve parce que\n",
      "\n",
      "$(0,1,1,0,0,0,1) $\n",
      "\n",
      "$(1,0,1,0,0,0,1) $\n",
      "\n",
      "$(1,1,1,0,0,0,1) \\rightarrow 64+32+16+1$\n"
     ]
    },
    {
     "cell_type": "code",
     "collapsed": false,
     "input": [],
     "language": "python",
     "metadata": {},
     "outputs": []
    }
   ],
   "metadata": {}
  }
 ]
}