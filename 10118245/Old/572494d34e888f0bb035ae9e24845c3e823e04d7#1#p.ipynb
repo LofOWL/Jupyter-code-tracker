{
 "metadata": {
  "kernelspec": {
   "display_name": "Python 2", 
   "language": "python", 
   "name": "python2"
  }, 
  "name": "", 
  "notebookname": "Les boucles `for`", 
  "version": "2.0"
 }, 
 "nbformat": 2, 
 "nbformat_minor": 0, 
 "orig_nbformat": 4, 
 "orig_nbformat_minor": 0, 
 "worksheets": [
  {
   "cells": [
    {
     "cell_type": "markdown", 
     "metadata": {}, 
     "source": [
      "<span style=\"float:left;\">Licence CC BY-NC-ND</span><span style=\"float:right;\">Thierry Parmentelat &amp; Arnaud Legout,<img src=\"media/inria-25.png\" style=\"display:inline\"></span><br/>"
     ]
    }, 
    {
     "cell_type": "markdown", 
     "metadata": {}, 
     "source": [
      "# Les boucles `for`"
     ]
    }, 
    {
     "cell_type": "markdown", 
     "metadata": {}, 
     "source": [
      "## Exercice - niveau basique"
     ]
    }, 
    {
     "cell_type": "markdown", 
     "metadata": {}, 
     "source": [
      "### Liste des valeurs d'une fonction"
     ]
    }, 
    {
     "cell_type": "code", 
     "collapsed": false, 
     "input": [
      "# Pour charger l'exercice", 
      "from corrections.w2s7_for import exo_liste_P"
     ], 
     "language": "python", 
     "metadata": {}, 
     "outputs": [], 
     "prompt_number": null
    }, 
    {
     "cell_type": "markdown", 
     "metadata": {}, 
     "source": [
      "On se donne une fonction polynomiale", 
      "", 
      "$P(x) = 2x^2 -3x -2$"
     ]
    }, 
    {
     "cell_type": "markdown", 
     "metadata": {}, 
     "source": [
      "On vous demande d'\u00e9crire une fonction `liste_P` qui prend en argument une liste de nombres r\u00e9els $x$ et qui retourne la liste des valeurs $P(x)$."
     ]
    }, 
    {
     "cell_type": "code", 
     "collapsed": false, 
     "input": [
      "# voici un exemple de ce qui est attendu", 
      "exo_liste_P.example()"
     ], 
     "language": "python", 
     "metadata": {}, 
     "outputs": [], 
     "prompt_number": null
    }, 
    {
     "cell_type": "markdown", 
     "metadata": {}, 
     "source": [
      "\u00c9crivez votre code dans la cellule suivante (*On vous sugg\u00e8re d'\u00e9crire une fonction P qui impl\u00e9mente le poyn\u00f4me mais \u00e7a n'est pas strictement indispensable, seul le r\u00e9sultat de `liste_P` compte*):"
     ]
    }, 
    {
     "cell_type": "code", 
     "collapsed": false, 
     "input": [
      "def P(x):", 
      "    \"<votre code>\"", 
      "", 
      "def liste_P(liste_x): ", 
      "    \"<votre_code>\""
     ], 
     "language": "python", 
     "metadata": {}, 
     "outputs": [], 
     "prompt_number": null
    }, 
    {
     "cell_type": "markdown", 
     "metadata": {}, 
     "source": [
      "Et vous pouvez le v\u00e9rifier en \u00e9valuant cette cellule:"
     ]
    }, 
    {
     "cell_type": "code", 
     "collapsed": false, 
     "input": [
      "# pour v\u00e9rifier votre code", 
      "exo_liste_P.correction(liste_P)"
     ], 
     "language": "python", 
     "metadata": {}, 
     "outputs": [], 
     "prompt_number": null
    }, 
    {
     "cell_type": "markdown", 
     "metadata": {}, 
     "source": [
      "******"
     ]
    }, 
    {
     "cell_type": "markdown", 
     "metadata": {}, 
     "source": [
      "## Exercice - niveau basique"
     ]
    }, 
    {
     "cell_type": "markdown", 
     "metadata": {}, 
     "source": [
      "### Tri de plusieurs listes"
     ]
    }, 
    {
     "cell_type": "code", 
     "collapsed": false, 
     "input": [
      "# pour charger l'exercice", 
      "from corrections.w2s7_for import exo_multi_tri"
     ], 
     "language": "python", 
     "metadata": {}, 
     "outputs": [], 
     "prompt_number": null
    }, 
    {
     "cell_type": "markdown", 
     "metadata": {}, 
     "source": [
      "\u00c9crivez une fonction qui", 
      " * accepte en argument une liste de listes,", 
      " * et qui retourne **la m\u00eame liste**, mais avec toutes les sous-listes **tri\u00e9es en place**."
     ]
    }, 
    {
     "cell_type": "code", 
     "collapsed": false, 
     "input": [
      "# voici un exemple de ce qui est attendu", 
      "exo_multi_tri.example()"
     ], 
     "language": "python", 
     "metadata": {}, 
     "outputs": [], 
     "prompt_number": null
    }, 
    {
     "cell_type": "markdown", 
     "metadata": {}, 
     "source": [
      "\u00c9crivez votre code ici"
     ]
    }, 
    {
     "cell_type": "code", 
     "collapsed": false, 
     "input": [
      "def multi_tri(listes): ", 
      "    \"<votre_code>\""
     ], 
     "language": "python", 
     "metadata": {}, 
     "outputs": [], 
     "prompt_number": null
    }, 
    {
     "cell_type": "code", 
     "collapsed": false, 
     "input": [
      "# pour v\u00e9rifier votre code", 
      "exo_multi_tri.correction(multi_tri)"
     ], 
     "language": "python", 
     "metadata": {}, 
     "outputs": [], 
     "prompt_number": null
    }, 
    {
     "cell_type": "markdown", 
     "metadata": {}, 
     "source": [
      "## Exercice - niveau interm\u00e9diaire"
     ]
    }, 
    {
     "cell_type": "markdown", 
     "metadata": {}, 
     "source": [
      "### Tri de plusieurs listes, dans des directions diff\u00e9rentes"
     ]
    }, 
    {
     "cell_type": "code", 
     "collapsed": false, 
     "input": [
      "# pour charger l'exercice", 
      "from corrections.w2s7_for import exo_multi_tri_reverse"
     ], 
     "language": "python", 
     "metadata": {}, 
     "outputs": [], 
     "prompt_number": null
    }, 
    {
     "cell_type": "markdown", 
     "metadata": {}, 
     "source": [
      "Modifiez votre code pour qu'il accepte cette fois **deux** arguments listes que l'on suppose de tailles \u00e9gales. ", 
      "", 
      "Comme tout \u00e0 l'heure le premier argument est une liste de listes \u00e0 trier.", 
      "", 
      "\u00c0 pr\u00e9sent le second argument est une liste (ou un tuple) de bool\u00e9ens, de m\u00eame cardinal que le premier argument, et qui indiquent l'ordre dans lequel on veut trier la liste d'entr\u00e8e de m\u00eame rang. `True` signifie un tri descendant, `False` un tri ascendant.", 
      "", 
      "Comme dans l'exercice `multi_tri`, il s'agit de modifier en place les donn\u00e9es en entr\u00e9e, et de retourner la liste de d\u00e9part."
     ]
    }, 
    {
     "cell_type": "code", 
     "collapsed": false, 
     "input": [
      "# Pour \u00eatre un peu plus clair, voici \u00e0 quoi on s'attend", 
      "exo_multi_tri_reverse.example()"
     ], 
     "language": "python", 
     "metadata": {}, 
     "outputs": [], 
     "prompt_number": null
    }, 
    {
     "cell_type": "markdown", 
     "metadata": {}, 
     "source": [
      "\u00c0 vous de jouer"
     ]
    }, 
    {
     "cell_type": "code", 
     "collapsed": false, 
     "input": [
      "def multi_tri_reverse(listes, reverses):", 
      "    \"<votre_code>\" "
     ], 
     "language": "python", 
     "metadata": {}, 
     "outputs": [], 
     "prompt_number": null
    }, 
    {
     "cell_type": "code", 
     "collapsed": false, 
     "input": [
      "# et pour v\u00e9rifier votre code", 
      "exo_multi_tri_reverse.correction(multi_tri_reverse)"
     ], 
     "language": "python", 
     "metadata": {}, 
     "outputs": [], 
     "prompt_number": null
    }, 
    {
     "cell_type": "markdown", 
     "metadata": {}, 
     "source": [
      "******"
     ]
    }, 
    {
     "cell_type": "markdown", 
     "metadata": {}, 
     "source": [
      "## Exercice - niveau interm\u00e9diaire"
     ]
    }, 
    {
     "cell_type": "markdown", 
     "metadata": {}, 
     "source": [
      "### Produit scalaire"
     ]
    }, 
    {
     "cell_type": "code", 
     "collapsed": false, 
     "input": [
      "# Pour charger l'exercice", 
      "from corrections.w2s7_for import exo_produit_scalaire"
     ], 
     "language": "python", 
     "metadata": {}, 
     "outputs": [], 
     "prompt_number": null
    }, 
    {
     "cell_type": "markdown", 
     "metadata": {}, 
     "source": [
      "On veut \u00e9crire une fonction qui retourne le produit scalaire de deux vecteurs. Pour ceci on va mat\u00e9rialiser les deux vecteurs en entr\u00e9e par deux listes que l'on suppose de m\u00eame taille. Cela est tout \u00e0 fait possible avec le bagage que nous avons appris jusqu'ici - bien que nous verrons plus tard d'autres techniques pour faire ceci de mani\u00e8re plus \u00e9l\u00e9gante.", 
      "", 
      "On rappelle que le produit de X et Y vaut", 
      "", 
      "$\\sum_{i} X_i * Y_i$", 
      "", 
      "On posera que le produit scalaire de deux listes vides vaut `0`."
     ]
    }, 
    {
     "cell_type": "code", 
     "collapsed": false, 
     "input": [
      "# un petit exemple", 
      "exo_produit_scalaire.example()"
     ], 
     "language": "python", 
     "metadata": {}, 
     "outputs": [], 
     "prompt_number": null
    }, 
    {
     "cell_type": "markdown", 
     "metadata": {}, 
     "source": [
      "Vous devez donc \u00e9crire"
     ]
    }, 
    {
     "cell_type": "code", 
     "collapsed": false, 
     "input": [
      "def produit_scalaire(X,Y): ", 
      "    \"\"\"retourne le produit scalaire de deux listes de m\u00eame taille\"\"\"", 
      "    \"<votre_code>\""
     ], 
     "language": "python", 
     "metadata": {}, 
     "outputs": [], 
     "prompt_number": null
    }, 
    {
     "cell_type": "code", 
     "collapsed": false, 
     "input": [
      "# pour v\u00e9rifier votre code", 
      "exo_produit_scalaire.correction(produit_scalaire)"
     ], 
     "language": "python", 
     "metadata": {}, 
     "outputs": [], 
     "prompt_number": null
    }, 
    {
     "cell_type": "markdown", 
     "metadata": {}, 
     "source": [
      "*****"
     ]
    }, 
    {
     "cell_type": "markdown", 
     "metadata": {}, 
     "source": [
      "## R\u00e9cr\u00e9ation"
     ]
    }, 
    {
     "cell_type": "markdown", 
     "metadata": {}, 
     "source": [
      "Si vous avez correctement impl\u00e9ment\u00e9 la fonction `liste_P` telle que demand\u00e9 dans le premier exercice, vous pouvez visualiser le polyn\u00f4me `P` en utilisant `matplotlib` avec le code suivant&nbsp;:"
     ]
    }, 
    {
     "cell_type": "code", 
     "collapsed": false, 
     "input": [
      "from pylab import arange, plot", 
      "", 
      "# on prend les X de -10 \u00e0 10 par pas de 1/2 ", 
      "x = arange (-10., 10., 0.5)", 
      "# on calcule la valeur de P sur chaque point", 
      "y = liste_P(x)", 
      "# et on peut plotter avec pylab", 
      "plot (x, y)"
     ], 
     "language": "python", 
     "metadata": {}, 
     "outputs": [], 
     "prompt_number": null
    }
   ], 
   "metadata": {}
  }
 ]
}
