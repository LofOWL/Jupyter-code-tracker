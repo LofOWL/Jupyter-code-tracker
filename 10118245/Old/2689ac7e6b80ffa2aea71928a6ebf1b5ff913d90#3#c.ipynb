{
 "metadata": {
  "notebookname": "Mini-projets",
  "signature": "sha256:7d8b7f225ad43b4aba129ca4c78a2b7cdf82011c599f27a540125ad395a060e8",
  "version": "1.0"
 },
 "nbformat": 3,
 "nbformat_minor": 0,
 "worksheets": [
  {
   "cells": [
    {
     "cell_type": "heading",
     "level": 1,
     "metadata": {},
     "source": [
      "Mini-projets"
     ]
    }
   ],
   "metadata": {}
  }
 ]
}