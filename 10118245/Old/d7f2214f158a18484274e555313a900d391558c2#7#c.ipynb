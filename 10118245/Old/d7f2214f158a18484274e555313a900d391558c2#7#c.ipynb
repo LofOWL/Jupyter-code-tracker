{
 "metadata": {
  "notebookname": "Intro. classes",
  "signature": "sha256:a93ad2986b595d5b5b6fedf9dcb818ec323bac9f698ef401ee01e0e6a092548e",
  "version": "1.0"
 },
 "nbformat": 3,
 "nbformat_minor": 0,
 "worksheets": [
  {
   "cells": [
    {
     "cell_type": "heading",
     "level": 1,
     "metadata": {},
     "source": [
      "\u00c0 quoi servent les classes ?"
     ]
    },
    {
     "cell_type": "heading",
     "level": 2,
     "metadata": {},
     "source": [
      "Compl\u00e9ment - niveau basique"
     ]
    },
    {
     "cell_type": "heading",
     "level": 3,
     "metadata": {},
     "source": [
      "Un exemple simpliste"
     ]
    },
    {
     "cell_type": "markdown",
     "metadata": {},
     "source": [
      "On d\u00e9finit une classe lorsqu'on a besoin de se cr\u00e9er un type sp\u00e9cifique au contexte de l'application. Il faut donc voir une classe au m\u00eame niveau qu'un type *builtin* comme `list` ou `dict`. "
     ]
    },
    {
     "cell_type": "markdown",
     "metadata": {},
     "source": [
      "Par exemple imaginons qu'on a besoin de manipuler des matrices $2\\times 2$\n",
      "\n",
      "$ A = \\left( \\begin{array}{cc} a_{11} & a_{12} \\\\\n",
      "a_{21} & a_{22}\\end{array} \\right) $\n",
      "\n",
      "Et en guise d'illustration nous allons utiliser le d\u00e9terminant; c'est juste un pr\u00e9texte pour impl\u00e9menter une m\u00e9thode sur cette classe, ne vous inqui\u00e9tez pas si le terme ne vous dit rien, ou vous rappelle de mauvais souvenirs. Tout ce qu'on a besoin de savoir c'est que, sur une matrice de ce type le d\u00e9terminant vaut\n",
      "\n",
      "$ det (A) = a_{11}.a_{22} - a_{12}.a_{21}$"
     ]
    },
    {
     "cell_type": "markdown",
     "metadata": {},
     "source": [
      "Dans la pratique on utiliserait la classe `matrix` de `numpy`.  \n",
      "\n",
      "Mais comme premier exemple de classe, nous allons \u00e9crire **notre propre classe `Matrix2`** pour voir les m\u00e9canismes de base des classes de python en action sur cet exemple concret. Naturellement il s'agit d'une  impl\u00e9mentation jouet."
     ]
    },
    {
     "cell_type": "code",
     "collapsed": false,
     "input": [
      "class Matrix2:\n",
      "    \"Une impl\u00e9mentation sommaire de matrice carr\u00e9e 2x2\"\n",
      "\n",
      "    def __init__ (self, a):\n",
      "        \"\"\"\n",
      "        l'entr\u00e9e 'a' doit \u00eatre une liste - ou tuple \n",
      "        des coefficients a11, a12, a21, a22\n",
      "        \"\"\"\n",
      "        # on *copie* les entr\u00e9es dans un tuple \n",
      "        # pour ne pas partager l'entr\u00e9e 'aij' \n",
      "        # que l'appelant pourrait modifier apr\u00e8s coup \n",
      "        # (si c'est une liste)\n",
      "        self.a = tuple(a)\n",
      "        \n",
      "    def determinant (self):\n",
      "        return self.a[0] * self.a[3] - self.a[1] * self.a[2]"
     ],
     "language": "python",
     "metadata": {},
     "outputs": []
    },
    {
     "cell_type": "heading",
     "level": 3,
     "metadata": {},
     "source": [
      "La premi\u00e8re version de `Matrix2`"
     ]
    },
    {
     "cell_type": "markdown",
     "metadata": {},
     "source": [
      "La classe d\u00e9finit deux m\u00e9thodes, nomm\u00e9es `__init__` et `determinant`. \n",
      "\n",
      "La m\u00e9thode **`__init__`**, comme toutes celles qui ont un nom en `__nom__`, est une **m\u00e9thode sp\u00e9ciale**. En l'occurrence, il s'agit de ce qu'on appelle le **constructeur** de la classe, c'est-\u00e0-dire le code qui va \u00eatre appel\u00e9 lorsqu'on cr\u00e9e une instance. Voyons cela tout de suite sur un exemple."
     ]
    },
    {
     "cell_type": "code",
     "collapsed": false,
     "input": [
      "coefficients = [1, 0, 0, 1]\n",
      "identite = Matrix2 ( coefficients )"
     ],
     "language": "python",
     "metadata": {},
     "outputs": []
    },
    {
     "cell_type": "markdown",
     "metadata": {},
     "source": [
      "Vous remarquez que `__init__` s'attend \u00e0 recevoir *deux arguments* que nous avons choisi de nommer `self` et `a`. Le **premier** de ces arguments correspond \u00e0 l'**instance en cours de cr\u00e9ation**, et comme pour toutes les m\u00e9thodes de classe, la **convention** est de le nommer **`self`**."
     ]
    },
    {
     "cell_type": "markdown",
     "metadata": {},
     "source": [
      "On voit \u00e9galement que le constructeur dans le cas de `Matrix2` se contente de m\u00e9moriser **\u00e0 l'int\u00e9rieur de l'instance** les attributs qu'on lui passe. C'est un cas extr\u00eamement fr\u00e9quent; de mani\u00e8re g\u00e9n\u00e9rale il est recommand\u00e9 d'\u00e9crire des constructeurs passifs de ce genre; dit autrement, on \u00e9vite de faire trop de traitements dans le constructeur. On trouve donc tr\u00e8s souvent des classes qui ont le type de **profil** qu'on voit ci-dessous."
     ]
    },
    {
     "cell_type": "markdown",
     "metadata": {},
     "source": [
      "<table>\n",
      "<tr><td>\n",
      "<pre>\n",
      "# class definition\n",
      "class Foo:\n",
      "    def __init__ (self, id, name):\n",
      "        self.id = id\n",
      "        self.name = name\n",
      "</pre>\n",
      "</td>\n",
      "<td>\n",
      "<pre>\n",
      "# instance creation \n",
      "foo = Foo (3, 'John')\n",
      "</pre>\n",
      "</td>\n",
      "</tr>\n",
      "</table>"
     ]
    },
    {
     "cell_type": "markdown",
     "metadata": {},
     "source": [
      "Dans le cas de `Matrix2` toutefois, nous avons pris garde de convertir la donn\u00e9e d'entr\u00e9e en un `tuple`. L'id\u00e9e \u00e9tant que l'objet `a` qu'on passe au constructeur ne nous appartient pas, et donc l'appelant peut le modifier apr\u00e8s coup, comme ceci"
     ]
    },
    {
     "cell_type": "code",
     "collapsed": false,
     "input": [
      "print 'avant modification',identite.a\n",
      "coefficients[1] = 1\n",
      "print 'apr\u00e8s modification',identite.a"
     ],
     "language": "python",
     "metadata": {},
     "outputs": []
    },
    {
     "cell_type": "markdown",
     "metadata": {},
     "source": [
      "Notre classe est donc r\u00e9sistante \u00e0 ce genre d'usage."
     ]
    },
    {
     "cell_type": "markdown",
     "metadata": {},
     "source": [
      "La classe d\u00e9finit aussi la m\u00e9thode 'determinant', qu'on utiliserait comme ceci"
     ]
    },
    {
     "cell_type": "code",
     "collapsed": false,
     "input": [
      "print \"Determinant =\", identite.determinant()"
     ],
     "language": "python",
     "metadata": {},
     "outputs": []
    },
    {
     "cell_type": "markdown",
     "metadata": {},
     "source": [
      "Vous voyez que la **syntaxe** pour envoyer une m\u00e9thode sur un objet est exactement **identique** \u00e0 celle que nous avons utilis\u00e9e jusqu'ici avec **les types de base**.\n",
      "Nous verrons dans quelques s\u00e9quences comment on peut pousser beaucoup plus loin la similitude, pour pouvoir par exemple calcule le **produit** de deux objets de la classe `Matrix2` avec l'op\u00e9rateur `*`, mais n'anticipons pas."
     ]
    },
    {
     "cell_type": "heading",
     "level": 3,
     "metadata": {},
     "source": [
      "\u00c0 quoi \u00e7a sert ?"
     ]
    },
    {
     "cell_type": "markdown",
     "metadata": {},
     "source": [
      "Ce cours n'est pas consacr\u00e9 \u00e0 la Programmation Orient\u00e9e Objet (OOP) en tant que telle. Voici toutefois quelques-uns des avantages qui sont g\u00e9n\u00e9ralement mis en avant."
     ]
    },
    {
     "cell_type": "heading",
     "level": 5,
     "metadata": {},
     "source": [
      "Passer un objet plut\u00f4t qu'une collection d'attributs"
     ]
    },
    {
     "cell_type": "markdown",
     "metadata": {},
     "source": [
      "Il est plus facile, et plus parlant, de passer entre les diff\u00e9rents composants du code *un seul* objet plut\u00f4t que ses diff\u00e9rents morceaux. \n",
      "\n",
      "Ainsi dans le cas "
     ]
    },
    {
     "cell_type": "heading",
     "level": 5,
     "metadata": {},
     "source": [
      "Encapsulation"
     ]
    },
    {
     "cell_type": "markdown",
     "metadata": {},
     "source": [
      "Le fait de d\u00e9finir une classe permet de regrouper dans une seule entit\u00e9 tous les d\u00e9tails d'impl\u00e9mentation. On peut modifier une classe dans son impl\u00e9mentation sans changer son interface (les diff\u00e9rentes m\u00e9thodes), de sorte que les utilisateurs de ce code n'ont pas \u00e0 se soucier des changements \n",
      "\n",
      "xxx \n",
      "Passer un objet unique qui contient tout pour d\u00e9crire une donn\u00e9e; la liaison \u00e0 la classe permet aussi de trouver les m\u00e9thodes \u00e0 run-time et selon la logique d'h\u00e9ritage qu'on a esquiss\u00e9e dans la vid\u00e9o (instance -> classe -> superclasse \u00e9ventuelle)"
     ]
    },
    {
     "cell_type": "markdown",
     "metadata": {},
     "source": [
      "xxx mentionner datetime\n",
      "timedelta\n"
     ]
    }
   ],
   "metadata": {}
  }
 ]
}