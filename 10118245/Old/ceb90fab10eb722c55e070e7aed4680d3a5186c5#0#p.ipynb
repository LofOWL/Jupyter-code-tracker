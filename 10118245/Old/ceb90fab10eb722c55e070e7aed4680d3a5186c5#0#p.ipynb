{
 "cells": [
  {
   "cell_type": "markdown",
   "metadata": {},
   "source": [
    "<style>div.title-slide {    width: 100%;    display: flex;    flex-direction: row;            /* default value; can be omitted */    flex-wrap: nowrap;              /* default value; can be omitted */    justify-content: space-between;}</style><div class=\"title-slide\">\n",
    "<span style=\"float:left;\">Licence CC BY-NC-ND</span>\n",
    "<span>Thierry Parmentelat &amp; Arnaud Legout</span>\n",
    "<span><img src=\"media/both-logos-small-alpha.png\" style=\"display:inline\" /></span>\n",
    "</div>"
   ]
  },
  {
   "cell_type": "markdown",
   "metadata": {},
   "source": [
    "\n",
    "# La data science en général et en Python en particulier"
   ]
  },
  {
   "cell_type": "markdown",
   "metadata": {},
   "source": [
    "## Complément - niveau intermédiaire"
   ]
  },
  {
   "cell_type": "markdown",
   "metadata": {},
   "source": [
    "### Qu'est-ce qu'un data scientist&nbsp;?"
   ]
  },
  {
   "cell_type": "markdown",
   "metadata": {},
   "source": [
    "J'aimerais commencer cette séquence par quelques réflexions générales sur ce qu'on appelle data science. Ce mot valise, récemment devenu à la mode, et que tout le monde veut ajouter à son CV, est un domaine qui regroupe tous les champs de l'analyse scientifique des données. Cela demande donc, pour être fait sérieusement, de maîtriser :\n",
    "\n",
    " 1. un large champ de connaissances scientifiques, notamment des notions de statistiques appliquées ;\n",
    " 2. les données que vous manipulez ;\n",
    " 3. un langage de programmation pour automatiser les traitements. "
   ]
  },
  {
   "cell_type": "markdown",
   "metadata": {},
   "source": [
    "#### Statistiques appliquées"
   ]
  },
  {
   "cell_type": "markdown",
   "metadata": {},
   "source": [
    "Pour illustrer le premier point, pour quelque chose d'aussi simple qu'une moyenne, il est déjà possible de faire des erreurs. Quel intérêt de considérer une moyenne d'une distribution bi-modale&nbsp;? \n",
    "\n",
    "Par exemple, j'ai deux groupes de personnes et je veux savoir lequel a le plus de chance de gagner à une épreuve de tir à la corde. L'âge moyen de mon groupe A est de 55 ans, l'âge moyen de mon groupe B est de 30 ans. Il me semble alors pouvoir affirmer que le groupe B a plus de chances de gagner. \n",
    "Seulement, dans le groupe B il y a 10 enfants de 5 ans et 10 personnes de 55 ans et dans le groupe A j'ai une population homogène de 20 personnes ayant 55 ans. Finalement, ça sera sans doute le groupe A qui va gagner. \n",
    "\n",
    "Quelle erreur ai-je faite ? J'ai utilisé un outil statistique qui n'était pas adapté à l'analyse de mes groupes de personnes. Cette erreur peut vous paraître stupide, mais ces erreurs peuvent être très subtiles voire extrêmement difficiles à identifier. \n"
   ]
  },
  {
   "cell_type": "markdown",
   "metadata": {},
   "source": [
    "#### Connaissance des données "
   ]
  },
  {
   "cell_type": "markdown",
   "metadata": {},
   "source": [
    "C'est une des parties les plus importantes, mais largement sous\n",
    "estimées : analyser des données sur lesquels on n'a pas d'expertise\n",
    "est une aberration. Le risque principal risque est d'ignorer l'existence\n",
    "d'un facteur caché, ou de supposer à tort l'indépendance des\n",
    "données (sachant que nombre d'outils statistiques ne fonctionnent que\n",
    "sur des données indépendantes). Sans rentrer plus dans le détail, je\n",
    "vous conseille de lire cet article de [David Louapre sur le paradoxe\n",
    "de Simpson](https://sciencetonnante.wordpress.com/2013/04/29/le-paradoxe-de-simpson/)\n",
    "et [la vidéo associée](https://www.youtube.com/watch?v=vs_Zzf_vL2I),\n",
    "pour vous donner l'intuition que travailler sur des données qu'on ne\n",
    "maîtrise pas peut conduire à d'importantes erreurs d'interprétation. "
   ]
  },
  {
   "cell_type": "markdown",
   "metadata": {},
   "source": [
    "#### Maitrise d'un langage de programmation"
   ]
  },
  {
   "cell_type": "markdown",
   "metadata": {},
   "source": [
    "Comme vous l'avez sans doute compris, le succès grandissant de la\n",
    "data science est dû à la démocratisation d'outils informatiques comme\n",
    "R, ou la suite d'outils disponibles dans Python, dont nous abordons\n",
    "certains aspects cette semaine.\n",
    "\n",
    "Il y a ici cependant de nouveau des difficultés. Comme nous allons le\n",
    "voir il est très facile de faire des erreurs qui seront totalement\n",
    "silencieuses, par conséquent, vous obtiendrez presque toujours un\n",
    "résultat, mais totalement faux. Sans une profonde compréhension des\n",
    "mécanismes et des implémentations, vous avez la garantie de faire\n",
    "n'importe quoi.\n",
    "\n",
    "Vous le voyez, je ne suis pas très encourageant, pour faire de la data\n",
    "science vous devrez maîtriser la bases des outils statistiques,\n",
    "comprendre les données que vous manipulez et maîtriser parfaitement\n",
    "les outils que vous utilisez. Beaucoup de gens pensent qu'en faisant un\n",
    "peu de R ou de Python on peut s'affirmer data scientist, c'est faux,\n",
    "et si vous êtes, par exemple, journaliste ou économiste et que vos\n",
    "résultats ont un impact politique, vous avez une vraie responsabilité \n",
    "et vos erreurs peuvent avoir d'importantes conséquences."
   ]
  },
  {
   "cell_type": "markdown",
   "metadata": {},
   "source": [
    "### Présentation de pandas"
   ]
  },
  {
   "cell_type": "markdown",
   "metadata": {},
   "source": [
    "Numpy est l'outil qui permet de manipuler des tableaux en Python, et\n",
    "pandas est l'outil qui permet d'ajouter des indexes à ces\n",
    "tableaux. Par conséquent, pandas repose entièrement sur numpy et\n",
    "toutes les données que vous manipulez en pandas sont des tableaux\n",
    "numpy. "
   ]
  },
  {
   "cell_type": "markdown",
   "metadata": {},
   "source": [
    "Il est important de comprendre que le monde\n",
    "de la data science en Python suit un autre paradigme que Python. Là où\n",
    "Python favorise la clarté, la simplicité et l'uniformité, numpy and\n",
    "pandas favorisent l'efficacité. La conséquence est une augmentation de\n",
    "la complexité et une moins bonne uniformité. Aussi, personne ne joue\n",
    "dans la communauté data science en Python le rôle de BDFL de Guido van Rossum.\n",
    "Nous entrons donc largement dans une autre philosophie que celle de Python."
   ]
  },
  {
   "cell_type": "markdown",
   "metadata": {},
   "source": [
    "#### Erreurs classiques en numpy"
   ]
  },
  {
   "cell_type": "markdown",
   "metadata": {},
   "source": [
    "Commençons par revenir rapidement sur numpy et en particulier sur des\n",
    "erreurs fréquentes. "
   ]
  },
  {
   "cell_type": "code",
   "execution_count": null,
   "metadata": {
    "collapsed": true
   },
   "outputs": [],
   "source": [
    "import numpy as np"
   ]
  },
  {
   "cell_type": "code",
   "execution_count": null,
   "metadata": {
    "collapsed": true
   },
   "outputs": [],
   "source": [
    "x = np.ones((3, 3), dtype=np.uint8)\n",
    "print(x)"
   ]
  },
  {
   "cell_type": "code",
   "execution_count": null,
   "metadata": {
    "collapsed": true
   },
   "outputs": [],
   "source": [
    "# changeons la première ligne de ce tableau\n",
    "x[0,:] = [255, 256, 12.532]\n",
    "print(x)"
   ]
  },
  {
   "cell_type": "markdown",
   "metadata": {},
   "source": [
    "Comme on a créé un tableau d'entiers codés sur 8 bits,\n",
    "chaque entier ne peut prendre qu'une valeur entre 0 et 255. Si on\n",
    "dépasse 255, alors il n'y aura pas de message d'erreur, mais le calcul \n",
    "est fait silencieusement modulo 255. Vous remarquez aussi que si vous ajoutez un\n",
    "float à un tableau d'entier, le float sera simplement tronqué pour\n",
    "obtenir un entier. À nouveau, vous ne veoyez aucun avertissement, aucune erreur. \n",
    "\n",
    "Regardons maintenant ces autres cas :"
   ]
  },
  {
   "cell_type": "code",
   "execution_count": null,
   "metadata": {
    "collapsed": true
   },
   "outputs": [],
   "source": [
    "# on peut ajouter une représentation str d'un entier \n",
    "# à un tableau d'entiers\n",
    "x[0, 0] = '8'\n",
    "print(x, x.dtype)"
   ]
  },
  {
   "cell_type": "code",
   "execution_count": null,
   "metadata": {
    "collapsed": true
   },
   "outputs": [],
   "source": [
    "try:\n",
    "    x[0, 0] = '8.1'\n",
    "except ValueError as e:\n",
    "    print(f\"on ne peut pas ajouter une représentation sous forme\" \n",
    "          f\" de str d'un float: {e}\")"
   ]
  },
  {
   "cell_type": "code",
   "execution_count": null,
   "metadata": {
    "collapsed": true
   },
   "outputs": [],
   "source": [
    "try:\n",
    "    x[0, 0] = 'c'\n",
    "except ValueError as e:\n",
    "    print(f\"ni une chaîne de caractères: {e}\")"
   ]
  },
  {
   "cell_type": "markdown",
   "metadata": {},
   "source": [
    "Une autre erreur classique est d'utiliser les opérateurs logiques\n",
    "booléens pour former un masque au lieu des opérateurs bitwises. Le\n",
    "moyen mnémotechnique est de penser qu'un masque est formé de bits et\n",
    "donc qu'il faut utiliser un opérateur logique bitwise, mais bon, ça aurait pu être implémenté autrement, et ce choix est discutable. "
   ]
  },
  {
   "cell_type": "code",
   "execution_count": null,
   "metadata": {
    "collapsed": true
   },
   "outputs": [],
   "source": [
    "a = np.random.randint(1, 10, size=(3, 3))\n",
    "print(a)"
   ]
  },
  {
   "cell_type": "code",
   "execution_count": null,
   "metadata": {
    "collapsed": true
   },
   "outputs": [],
   "source": [
    "# combien d'éléments pairs et supérieurs à 5\n",
    "\n",
    "# l'opérateur logique booléen and ne marche pas\n",
    "try:\n",
    "    np.sum((a % 2 == 0) and (a > 5))\n",
    "except ValueError as e:\n",
    "    print(f\"and ne marche pas ici : {e}\")\n",
    "\n",
    "# il faut utiliser l'opérateur bitwise et ne pas oublier les parenthèses\n",
    "np.sum((a % 2 == 0) & (a > 5))"
   ]
  },
  {
   "cell_type": "markdown",
   "metadata": {},
   "source": [
    "#### Les structures de données en pandas"
   ]
  },
  {
   "cell_type": "markdown",
   "metadata": {},
   "source": [
    "Il y a deux structures de données principales en pandas, les Series et\n",
    "les DataFrame. Une Series est un tableau à une dimension où chaque\n",
    "élément est indexé avec essentiellement un autre array (souvent de\n",
    "chaînes de caractères), et une DataFrame est un tableau à deux\n",
    "dimensions ou les lignes et les colonnes sont indexées. La clef ici\n",
    "est de comprendre que l'intérêt de pandas est de pouvoir manipuler les\n",
    "tableaux numpy qui sont indexés, et le travail de pandas est de rendre\n",
    "les opérations sur ces indexes très efficaces."
   ]
  },
  {
   "cell_type": "markdown",
   "metadata": {},
   "source": [
    "Vous pouvez bien sûr vous demander à quoi cela sert, alors regardons un petit exemple. Nous allons revenir sur les notions utilisées dans cet exemple, notre but ici est de vous montrer l'utilité de pandas sur un exemple."
   ]
  },
  {
   "cell_type": "code",
   "execution_count": null,
   "metadata": {
    "collapsed": true
   },
   "outputs": [],
   "source": [
    "# seaborn est un module pour dessiner des courbes qui améliore \n",
    "# sensiblement matplotlib, mais ça n'est pas ce qui nous intéresse ici.\n",
    "# seaborn vient avec quelques jeux de données sur lesquels on peut jouer. \n",
    "import seaborn as sns\n",
    "\n",
    "# chargeons un jeu de données qui représente des pourboires\n",
    "tips = sns.load_dataset('tips')\n",
    "\n",
    "# voici a quoi ressemble ces données. On a la note totale (total_bill), \n",
    "# le pourboire (tip), le sexe de la personne qui a fait le pourboire,\n",
    "# si la personne est fumeur ou non fumeur (smoker), le jour du repas,\n",
    "# le moment du repas (time) et le nombre de personnes à table (size)\n",
    "tips.head()"
   ]
  },
  {
   "cell_type": "markdown",
   "metadata": {},
   "source": [
    "On voit donc un exemple de données indexées, à la fois par des labels sur les\n",
    "colonnes, et par un rang entier sur les lignes dans une DataFrame. C'est\n",
    "l'utilisation de ces indexes qui va nous permettre de faire des\n",
    "requêtes expressives sur ces données. "
   ]
  },
  {
   "cell_type": "code",
   "execution_count": null,
   "metadata": {
    "collapsed": true
   },
   "outputs": [],
   "source": [
    "# commençons par une rapide description statistique de ces données\n",
    "tips.describe()"
   ]
  },
  {
   "cell_type": "code",
   "execution_count": null,
   "metadata": {
    "collapsed": true
   },
   "outputs": [],
   "source": [
    "# prenons la moyennes par sexe\n",
    "tips.groupby('sex').mean()"
   ]
  },
  {
   "cell_type": "code",
   "execution_count": null,
   "metadata": {
    "collapsed": true
   },
   "outputs": [],
   "source": [
    "# et maintenant la moyenne par jour\n",
    "tips.groupby('day').mean()"
   ]
  },
  {
   "cell_type": "code",
   "execution_count": null,
   "metadata": {
    "collapsed": true
   },
   "outputs": [],
   "source": [
    "# et pour finir la moyenne par moment du repas\n",
    "tips.groupby('time').mean()"
   ]
  },
  {
   "cell_type": "markdown",
   "metadata": {},
   "source": [
    "Vous voyez qu'en quelques requêtes simples et intuitives (nous\n",
    "reviendrons bien sûr sur ces notions) on peut grâce à la notion\n",
    "d'index, obtenir des informations précieuses sur nos données. Vous\n",
    "voyez qu'en l'occurrence, travailler directement sur le tableau numpy\n",
    "aurait été beaucoup moins aisé. "
   ]
  },
  {
   "cell_type": "markdown",
   "metadata": {},
   "source": [
    "### Conclusion"
   ]
  },
  {
   "cell_type": "markdown",
   "metadata": {},
   "source": [
    "Nous avons que la data science est une discipline complexe qui demande de nombreuses compétences. Une de ces compétences est la maîtrise d'un langage de programmation, et à cet égard la suite data science de Python qui se base sur numpy et pandas offre une solution très performante. \n",
    "\n",
    "Une dernière question à aborder&nbsp;: R ou la suite data science de Python&nbsp;?\n",
    "\n",
    "Notre préférence va bien évidemment à la suite data science de Python parce qu'elle bénéficie de toute la puissance de Python. R est un langage dédié à la statistique qui n'offre pas la puissance d'un langage générique comme Python. Mais dans le contexte de la data science, R et la suite data science de Python sont deux excellentes solutions. À très grosse maille, la syntaxe de R est plus complexe que celle de Python, par contre, R est très utilisé par les statisticiens, il peut donc avoir une implémentation d'un nouvel algorithme de l'état de l'art plus rapidement que la suite data science de Python. "
   ]
  }
 ],
 "metadata": {
  "kernelspec": {
   "display_name": "Python 3",
   "language": "python",
   "name": "python3"
  },
  "language_info": {
   "codemirror_mode": {
    "name": "ipython",
    "version": 3
   },
   "file_extension": ".py",
   "mimetype": "text/x-python",
   "name": "python",
   "nbconvert_exporter": "python",
   "pygments_lexer": "ipython3",
   "version": "3.6.3"
  },
  "livereveal": {
   "auto_select": "code",
   "auto_select_fragment": true,
   "autolaunch": false,
   "backimage": "media/nologo.png",
   "height": "100%",
   "start_slideshow_at": "selected",
   "theme": "simple",
   "transition": "fade",
   "width": "100%"
  },
  "notebookname": "NO HEADING 1 found",
  "version": "3.0"
 },
 "nbformat": 4,
 "nbformat_minor": 2
}
