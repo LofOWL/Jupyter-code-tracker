{
 "metadata": {
  "notebookname": "Les cha\u00eenes",
  "signature": "6a0b5c9f92a7c8a50572e566aa0b380df001baaea271fc221859b2316e3cc11e",
  "version": "1.0"
 },
 "nbformat": 3,
 "nbformat_minor": 0,
 "worksheets": [
  {
   "cells": [
    {
     "cell_type": "heading",
     "level": 1,
     "metadata": {},
     "source": [
      "Les cha\u00eenes de caract\u00e8res"
     ]
    },
    {
     "cell_type": "heading",
     "level": 2,
     "metadata": {},
     "source": [
      "Exercices - niveau basique"
     ]
    },
    {
     "cell_type": "heading",
     "level": 3,
     "metadata": {},
     "source": [
      "Analyse et mise en forme"
     ]
    },
    {
     "cell_type": "markdown",
     "metadata": {},
     "source": [
      "Un fichier contient, dans chaque ligne, des informations (champs) s\u00e9par\u00e9es par des virgules. \n",
      "Les espaces et tabulations pr\u00e9sentes dans la ligne ne sont pas significatifs et doivent \u00eatre ignor\u00e9s. Il arrive que certaines lignes se terminent par une virgule, une fois les espaces ignor\u00e9s.\n",
      "\n",
      "Le premier et deuxi\u00e8me champs repr\u00e9sentent le pr\u00e9nom et le nom de la personne, respectivement. Lorsque la ligne contient au moins 4 champs, alors ce 4\u00e8me champs repr\u00e9sente l'\u00e2ge de la personne.\n",
      "\n",
      "On vous demande d'\u00e9crire la fonction `affichage`, qui analyse une ligne, et qui\n",
      " * prend en argument une ligne (cha\u00eene de caract\u00e8res)\n",
      " * retourne une cha\u00eene de caract\u00e8res mise en forme (voir exemples)\n",
      " * ou bien retourne None si la ligne n'a pas pu \u00eatre analys\u00e9e"
     ]
    },
    {
     "cell_type": "code",
     "collapsed": false,
     "input": [
      "# pour la correction, et l'exemple\n",
      "from corrections.w2_strings import exo_affichage"
     ],
     "language": "python",
     "metadata": {},
     "outputs": []
    },
    {
     "cell_type": "code",
     "collapsed": false,
     "input": [
      "# voici quelques exemples de ce qui est attendu\n",
      "exo_affichage.exemple ()"
     ],
     "language": "python",
     "metadata": {},
     "outputs": []
    },
    {
     "cell_type": "code",
     "collapsed": false,
     "input": [
      "# \u00e9crivez votre code ici\n",
      "def affichage(ligne):\n",
      "    \"<votre_code>\""
     ],
     "language": "python",
     "metadata": {},
     "outputs": []
    },
    {
     "cell_type": "code",
     "collapsed": false,
     "input": [
      "# pour le v\u00e9rifier\n",
      "exo_affichage.correction (affichage)"
     ],
     "language": "python",
     "metadata": {},
     "outputs": []
    },
    {
     "cell_type": "heading",
     "level": 3,
     "metadata": {},
     "source": [
      "Mise au carr\u00e9"
     ]
    },
    {
     "cell_type": "markdown",
     "metadata": {},
     "source": [
      "On vous demande \u00e0 pr\u00e9sent d'\u00e9crire une fonction dans le m\u00eame esprit que ci-dessus.\n",
      "Cette fois, chaque ligne contient, s\u00e9par\u00e9s par des point-virgules, une liste d'entiers, et on veut obtenir une nouvelle cha\u00eene avec les carr\u00e9s de ces entiers, s\u00e9par\u00e9s par des deux-points.\n",
      "\n",
      "Comme ci-dessus les lignes peuvent \u00eatre remplies de mani\u00e8re approximative, avec des points-virgules en trop, que ce soit au d\u00e9but, \u00e0 la fin, ou au milieu d'une ligne"
     ]
    },
    {
     "cell_type": "code",
     "collapsed": false,
     "input": [
      "# pour la correction, et l'exemple\n",
      "from corrections.w2_strings import exo_carre"
     ],
     "language": "python",
     "metadata": {},
     "outputs": []
    },
    {
     "cell_type": "code",
     "collapsed": false,
     "input": [
      "# exemples\n",
      "exo_carre.exemple ()"
     ],
     "language": "python",
     "metadata": {},
     "outputs": []
    },
    {
     "cell_type": "code",
     "collapsed": false,
     "input": [
      "# \u00e9crivez votre code ici\n",
      "def carre(ligne):\n",
      "    \"<votre_code>\""
     ],
     "language": "python",
     "metadata": {},
     "outputs": []
    },
    {
     "cell_type": "code",
     "collapsed": false,
     "input": [
      "# pour corriger\n",
      "exo_carre.correction (carre)"
     ],
     "language": "python",
     "metadata": {},
     "outputs": []
    }
   ],
   "metadata": {}
  }
 ]
}