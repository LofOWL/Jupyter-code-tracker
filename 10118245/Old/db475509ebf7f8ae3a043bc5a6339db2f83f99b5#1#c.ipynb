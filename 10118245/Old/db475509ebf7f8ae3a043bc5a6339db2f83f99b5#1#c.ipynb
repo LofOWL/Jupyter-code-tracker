{
 "cells": [
  {
   "cell_type": "markdown",
   "metadata": {},
   "source": [
    "<span style=\"float:left;\">Licence CC BY-NC-ND</span><span style=\"float:right;\">Thierry Parmentelat &amp; Arnaud Legout&nbsp;<img src=\"media/both-logos-small-alpha.png\" style=\"display:inline\"></span><br/>"
   ]
  },
  {
   "cell_type": "code",
   "execution_count": null,
   "metadata": {},
   "outputs": [],
   "source": [
    "import asyncio\n",
    "\n",
    "from asynchelpers import start_timer, show_timer"
   ]
  },
  {
   "cell_type": "code",
   "execution_count": null,
   "metadata": {},
   "outputs": [],
   "source": [
    "async def countdown(ticks, quotient, period=1):\n",
    "    \"\"\"\n",
    "    affiche un compte à rebours de ticks periodes\n",
    "    puis retourne 1/quotient\n",
    "    \"\"\"\n",
    "    n = ticks\n",
    "    while n > 0:\n",
    "        show_timer(f\"tick{n}({quotient})\")\n",
    "        n -= 1\n",
    "        await asyncio.sleep(period)\n",
    "    show_timer(f\"countdown ({ticks} x {period}) done\")\n",
    "    return 1 / quotient"
   ]
  },
  {
   "cell_type": "code",
   "execution_count": null,
   "metadata": {},
   "outputs": [],
   "source": [
    "async def monitor_tasks(tasks, period):\n",
    "    \"\"\"\n",
    "    Affiche toutes les <period> un état de toutes\n",
    "    les taches dans tasks, \n",
    "    et retourne lorsqu'elles sont toutes terminées\n",
    "    \"\"\"\n",
    "    while True:\n",
    "        message = \"monitor:\"\n",
    "        alive = 0\n",
    "        for i, task in enumerate(tasks):\n",
    "            message += f\" {i} -> {task.done()}\"\n",
    "            if not task.done():\n",
    "                alive += 1\n",
    "        # s'il n'en reste qu'une c'est le monitor\n",
    "        show_timer(message)\n",
    "        if alive == 0:\n",
    "            show_timer(\"exiting\")\n",
    "            return\n",
    "        await asyncio.sleep(period)"
   ]
  },
  {
   "cell_type": "code",
   "execution_count": null,
   "metadata": {},
   "outputs": [],
   "source": [
    "tasks = [\n",
    "    # va terminer normalement\n",
    "    asyncio.ensure_future(countdown(2, quotient=1)),\n",
    "    # lève une exception\n",
    "    asyncio.ensure_future(countdown(3, quotient=0)),\n",
    "]"
   ]
  },
  {
   "cell_type": "code",
   "execution_count": null,
   "metadata": {},
   "outputs": [],
   "source": [
    "start_timer()\n",
    "asyncio.get_event_loop().run_until_complete(\n",
    "    monitor_tasks(tasks, .8)\n",
    ")"
   ]
  },
  {
   "cell_type": "code",
   "execution_count": null,
   "metadata": {},
   "outputs": [],
   "source": [
    "show_timer(\"cleaning up\")\n",
    "for i, task in enumerate(tasks):\n",
    "    if not task.done():\n",
    "        # monitor_task should exit only when all tasks are done\n",
    "        show_timer(\"OOPS, this is unexpected\")\n",
    "    elif task.exception():\n",
    "        show_timer(f\"task: {i} has raised exception {task.exception()}\")\n",
    "    else:\n",
    "        show_timer(f\"task: {i} has returned {task.result()}\")"
   ]
  }
 ],
 "metadata": {
  "celltoolbar": "Slideshow",
  "kernelspec": {
   "display_name": "Python 3",
   "language": "python",
   "name": "python3"
  },
  "language_info": {
   "codemirror_mode": {
    "name": "ipython",
    "version": 3
   },
   "file_extension": ".py",
   "mimetype": "text/x-python",
   "name": "python",
   "nbconvert_exporter": "python",
   "pygments_lexer": "ipython3",
   "version": "3.6.2"
  },
  "livereveal": {
   "auto_select": "code",
   "auto_select_fragment": true,
   "autolaunch": true,
   "backimage": "media/nologo.png",
   "controls": false,
   "height": "100%",
   "slideNumber": false,
   "start_slideshow_at": "selected",
   "theme": "simple",
   "transition": "fade",
   "width": "100%"
  },
  "notebookname": "NO HEADING 1 found",
  "version": "3.0"
 },
 "nbformat": 4,
 "nbformat_minor": 2
}
