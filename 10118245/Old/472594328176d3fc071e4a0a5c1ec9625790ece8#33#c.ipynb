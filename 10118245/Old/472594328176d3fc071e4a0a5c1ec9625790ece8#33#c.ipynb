{
 "metadata": {
  "notebookname": "Valeurs de retour",
  "signature": "929dd6aad8f1ab31183cf8d4d8150712443f108763833e1c5b914028cdad2fdc",
  "version": "1.0"
 },
 "nbformat": 3,
 "nbformat_minor": 0,
 "worksheets": [
  {
   "cells": [
    {
     "cell_type": "heading",
     "level": 1,
     "metadata": {},
     "source": [
      "Fonctions avec ou sans valeur de retour"
     ]
    },
    {
     "cell_type": "heading",
     "level": 2,
     "metadata": {},
     "source": [
      "Compl\u00e9ment - niveau basique"
     ]
    },
    {
     "cell_type": "heading",
     "level": 3,
     "metadata": {},
     "source": [
      "Le style proc\u00e9dural"
     ]
    },
    {
     "cell_type": "markdown",
     "metadata": {},
     "source": [
      "Une proc\u00e9dure est une fonction qui se contente de d\u00e9rouler des instructions. Prenons un exemple d'une telle fonction"
     ]
    },
    {
     "cell_type": "code",
     "collapsed": false,
     "input": [
      "def affiche_carre(n):\n",
      "    print \"le carre de\", n, \"vaut\", n*n"
     ],
     "language": "python",
     "metadata": {},
     "outputs": []
    },
    {
     "cell_type": "markdown",
     "metadata": {},
     "source": [
      "qui s'utiliserait comme ceci"
     ]
    },
    {
     "cell_type": "code",
     "collapsed": false,
     "input": [
      "affiche_carre(12)"
     ],
     "language": "python",
     "metadata": {},
     "outputs": []
    },
    {
     "cell_type": "heading",
     "level": 3,
     "metadata": {},
     "source": [
      "Le style fonctionnel"
     ]
    },
    {
     "cell_type": "markdown",
     "metadata": {},
     "source": [
      "Mais en fait, il serait dans notre cas beaucoup plus commode de d\u00e9finir une fonction qui retourne le carr\u00e9 d'un nombre, afin de pouvoir \u00e9crire quelque chose comme"
     ]
    },
    {
     "cell_type": "raw",
     "metadata": {},
     "source": [
      "carre15 = carre(15)"
     ]
    },
    {
     "cell_type": "markdown",
     "metadata": {},
     "source": [
      "quitte \u00e0 imprimer cette valeur ensuite si n\u00e9cessaire - m\u00eame si jusqu'ici nous avons fait beaucoup appel \u00e0 `print`, dans la pratique, imprimer n'est pas un but en soi, au contraire bien souvent."
     ]
    },
    {
     "cell_type": "heading",
     "level": 3,
     "metadata": {},
     "source": [
      "L'instruction `return`"
     ]
    },
    {
     "cell_type": "markdown",
     "metadata": {},
     "source": [
      "Voici comment on pourrait \u00e9crire une fonction `carre` qui renvoie le carr\u00e9 de son argument:"
     ]
    },
    {
     "cell_type": "code",
     "collapsed": false,
     "input": [
      "def carre(n):\n",
      "    return n*n\n",
      "\n",
      "if carre(8) <= 100: \n",
      "    print 'petit appartement'"
     ],
     "language": "python",
     "metadata": {},
     "outputs": []
    },
    {
     "cell_type": "markdown",
     "metadata": {},
     "source": [
      "La s\u00e9mantique (le mot savant pour \"comportement\") de l'instruction `return` est assez simple. La fonction qui est en cours d'ex\u00e9cution s'ach\u00e8ve tout de suite, et l'objet pass\u00e9 en argument \u00e0 `return` est retourn\u00e9 \u00e0 l'appelant, qui peut utiliser cette valeur comme n'importe quelle expression. "
     ]
    },
    {
     "cell_type": "heading",
     "level": 3,
     "metadata": {},
     "source": [
      "Le singleton `None`"
     ]
    },
    {
     "cell_type": "markdown",
     "metadata": {},
     "source": [
      "Le terme m\u00eame de fonction, si vous vous rappelez vos souvenirs de math\u00e9matiques, sugg\u00e8re qu'on calcule un r\u00e9sultat \u00e0 partir de valeurs d'entr\u00e9e. Dans la pratique il est assez rare qu'on d\u00e9finisse une fonction qui ne retourne rien."
     ]
    },
    {
     "cell_type": "markdown",
     "metadata": {},
     "source": [
      "En fait **toutes** les fonctions retournent quelque chose. Lorsque le programmeur n'a pas pr\u00e9vu d'instruction `return`, python retourne un objet sp\u00e9cial, baptis\u00e9 `None`. Voici par exemple ce qu'on obtient si on essaie d'afficher la valeur de retour de notre premi\u00e8re fonction, qui, on le rappelle, ne retourne rien:"
     ]
    },
    {
     "cell_type": "code",
     "collapsed": false,
     "input": [
      "carre15 = affiche_carre(15)\n",
      "print 'carre15=', carre15"
     ],
     "language": "python",
     "metadata": {},
     "outputs": []
    },
    {
     "cell_type": "markdown",
     "metadata": {},
     "source": [
      "Ceci est notre premi\u00e8re rencontre avec l'objet `None`, qui est un singleton pr\u00e9d\u00e9fini par python, un peu comme `True` et `False`. Ce n'est pas par contre une valeur bool\u00e9enne, nous aurons l'occasion d'en reparler."
     ]
    },
    {
     "cell_type": "heading",
     "level": 3,
     "metadata": {},
     "source": [
      "Un exemple un peu plus r\u00e9aliste"
     ]
    },
    {
     "cell_type": "markdown",
     "metadata": {},
     "source": [
      "Pour illustrer l'utilisation de `return` sur un exemple plus utile, voyons le code suivant"
     ]
    },
    {
     "cell_type": "code",
     "collapsed": false,
     "input": [
      "def premier(n):\n",
      "    \"\"\"Retourne un bool\u00e9en selon que n est premier ou non\n",
      "Retourne None pour les entr\u00e9es n\u00e9gatives ou nulles\"\"\"\n",
      "    # retourner None pour les entr\u00e9es non valides\n",
      "    if n <= 0:\n",
      "        return\n",
      "    # traiter le cas singulier\n",
      "    elif n == 1:\n",
      "        return False\n",
      "    # chercher un diviseur dans [2..n-1]\n",
      "    else:\n",
      "        for i in range(2,n):\n",
      "            if n%i == 0:\n",
      "                # on a trouve un diviseur\n",
      "                return False\n",
      "    # a ce stade c'est que le nombre est bien premier\n",
      "    return True"
     ],
     "language": "python",
     "metadata": {},
     "outputs": []
    },
    {
     "cell_type": "markdown",
     "metadata": {},
     "source": [
      "Cette fonction teste si un entier est premier ou non; il s'agit naturellement d'une version d'\u00e9cole, il existe bien entendu d'autres m\u00e9thodes beaucoup plus adapt\u00e9es \u00e0 cette t\u00e2che. On peut toutefois v\u00e9rifier que cette version est fonctionnelle pour de petits entiers comme suit. On rappelle que 1 n'est pas consid\u00e9r\u00e9 comme un nombre premier:"
     ]
    },
    {
     "cell_type": "code",
     "collapsed": false,
     "input": [
      "for test in [-2, 1, 2, 4, 19, 35]:\n",
      "    print \"n\", test, \"premier\", premier(test)"
     ],
     "language": "python",
     "metadata": {},
     "outputs": []
    },
    {
     "cell_type": "heading",
     "level": 5,
     "metadata": {},
     "source": [
      "`return` sans valeur "
     ]
    },
    {
     "cell_type": "markdown",
     "metadata": {},
     "source": [
      "Pour les besoins de cette discussion, nous avons choisi de retourner `None` pour les entiers n\u00e9gatifs ou nuls, une mani\u00e8re comme une autre de signaler que la valeur en entr\u00e9e n'est pas valide. \n",
      "\n",
      "Ceci n'est pas forc\u00e9ment une bonne pratique, mais elle nous permet ici d'illustrer que dans le cas ou on ne mentionne pas de valeur de retour, python retourne `None`. "
     ]
    },
    {
     "cell_type": "heading",
     "level": 5,
     "metadata": {},
     "source": [
      "`return` interrompt la fonction"
     ]
    },
    {
     "cell_type": "markdown",
     "metadata": {},
     "source": [
      "Comme on peut s'en convaincre en instrumentant le code - que vous pouvez faire \u00e0 titre d'exercice, dans le cas d'un nombre qui n'est pas premier la boucle for ne va pas jusqu'\u00e0 son terme"
     ]
    },
    {
     "cell_type": "markdown",
     "metadata": {},
     "source": [
      "On aurait pu d'ailleurs tirer profit de cette propri\u00e9t\u00e9 pour \u00e9crire la fonction de mani\u00e8re l\u00e9g\u00e8rement diff\u00e9rente comme ceci"
     ]
    },
    {
     "cell_type": "code",
     "collapsed": false,
     "input": [
      "def premier_bis(n):\n",
      "    \"\"\"Retourne un bool\u00e9en selon que n est premier ou non\n",
      "Retourne None pour les entr\u00e9es n\u00e9gatives ou nulles\"\"\"\n",
      "    # retourner None pour les entr\u00e9es non valides\n",
      "    if n <= 0:\n",
      "        return\n",
      "    # traiter le cas singulier\n",
      "    if n == 1:\n",
      "        return False\n",
      "    # chercher un diviseur dans [2..n-1]\n",
      "    for i in range(2, n):\n",
      "        if n%i == 0:\n",
      "            # on a trouve un diviseur\n",
      "            return False\n",
      "    # a ce stade c'est que le nombre est bien premier\n",
      "    return True"
     ],
     "language": "python",
     "metadata": {},
     "outputs": []
    },
    {
     "cell_type": "markdown",
     "metadata": {},
     "source": [
      "Ici encore c'est une question de style et de go\u00fbt. En tous cas, les deux versions sont tout \u00e0 fait \u00e9quivalentes, comme on le voit ici"
     ]
    },
    {
     "cell_type": "code",
     "collapsed": false,
     "input": [
      "for test in [-2, 2, 4, 19, 35]:\n",
      "    print \"n\", test, premier(test) == premier_bis(test)"
     ],
     "language": "python",
     "metadata": {},
     "outputs": []
    }
   ],
   "metadata": {}
  }
 ]
}