{
 "metadata": {
  "name": "",
  "signature": "sha256:cdc3573260fd577af0624cbca3d8f5af1988b07d2b46d72e5bed4082ca6e0bd0"
 },
 "nbformat": 3,
 "nbformat_minor": 0,
 "worksheets": [
  {
   "cells": [
    {
     "cell_type": "heading",
     "level": 1,
     "metadata": {},
     "source": [
      "Exercice sur les s\u00e9quences"
     ]
    },
    {
     "cell_type": "heading",
     "level": 3,
     "metadata": {},
     "source": [
      "Slicing"
     ]
    },
    {
     "cell_type": "markdown",
     "metadata": {},
     "source": [
      "On se donne une cha\u00eene de caract\u00e8res:"
     ]
    },
    {
     "cell_type": "code",
     "collapsed": false,
     "input": [
      "chaine = \"01234567890987654321\" ; print chaine"
     ],
     "language": "python",
     "metadata": {},
     "outputs": []
    },
    {
     "cell_type": "markdown",
     "metadata": {},
     "source": [
      "Pour chacune des sous-cha\u00eenes ci-dessous, \u00e9crire une expression de slicing sur $\\texttt{chaine}$ qui renvoie la sous-cha\u00eene."
     ]
    },
    {
     "cell_type": "markdown",
     "metadata": {},
     "source": [
      "Par exemple pour obtenir \"345\":"
     ]
    },
    {
     "cell_type": "code",
     "collapsed": false,
     "input": [
      "chaine [ 3:6 ] == \"345\""
     ],
     "language": "python",
     "metadata": {},
     "outputs": []
    },
    {
     "cell_type": "markdown",
     "metadata": {},
     "source": [
      "Pour obtenir \"543\""
     ]
    },
    {
     "cell_type": "code",
     "collapsed": false,
     "input": [
      "<votre code> == \"543\""
     ],
     "language": "python",
     "metadata": {},
     "outputs": []
    },
    {
     "cell_type": "markdown",
     "metadata": {},
     "source": [
      "Pour obtenir \"909\""
     ]
    },
    {
     "cell_type": "code",
     "collapsed": false,
     "input": [
      "<votre code> == \"909\""
     ],
     "language": "python",
     "metadata": {},
     "outputs": []
    },
    {
     "cell_type": "markdown",
     "metadata": {},
     "source": [
      "Pour obtenir \"01234\" (de pr\u00e9f\u00e9rence en n'utilisant qu'une constante)"
     ]
    },
    {
     "cell_type": "code",
     "collapsed": false,
     "input": [
      "<votre code> == \"54321\""
     ],
     "language": "python",
     "metadata": {},
     "outputs": []
    },
    {
     "cell_type": "markdown",
     "metadata": {},
     "source": [
      "On rappelle qu'il est possible d'utiliser des indices n\u00e9gatifs:"
     ]
    },
    {
     "cell_type": "code",
     "collapsed": false,
     "input": [
      "chaine[-1]"
     ],
     "language": "python",
     "metadata": {},
     "outputs": []
    },
    {
     "cell_type": "heading",
     "level": 3,
     "metadata": {},
     "source": [
      "Longueur"
     ]
    },
    {
     "cell_type": "markdown",
     "metadata": {},
     "source": [
      "On vous donne une cha\u00eene \"composite\", dont on sait qu'elle a \u00e9t\u00e9 calcul\u00e9e \u00e0 partir de deux cha\u00eenes \"inconnue\" et \"connue\" comme ceci:"
     ]
    },
    {
     "cell_type": "raw",
     "metadata": {},
     "source": [
      "composite = connue + inconnue + connue"
     ]
    },
    {
     "cell_type": "markdown",
     "metadata": {},
     "source": [
      "L'exercice consiste \u00e0 retrouver la valeur de \"inconnue\" \u00e0 partir de celles de \"composite\" et \"connue\"\n",
      "\n",
      "Ne vous inqui\u00e9tez pas si vous ne comprenez pas encore le code d'initialisation :)"
     ]
    },
    {
     "cell_type": "code",
     "collapsed": false,
     "input": [
      "alphabet = \"0123456789abcdef\"\n",
      "# on calcule connue comme une chaine aleatoire\n",
      "import random\n",
      "connue = \"\".join(random.sample(alphabet, random.randint(5,10)))\n",
      "print \"connue=\",connue\n",
      "# pareil pour inconnue, a vous de retrouver savaleur\n",
      "composite = connue + \"\".join(random.sample(alphabet, random.randint(5,10))) + connue\n",
      "print \"composite=\",composite"
     ],
     "language": "python",
     "metadata": {},
     "outputs": []
    },
    {
     "cell_type": "markdown",
     "metadata": {},
     "source": [
      "\u00c0 vous de retrouver \"inconnue\""
     ]
    },
    {
     "cell_type": "code",
     "collapsed": false,
     "input": [
      "inconnue = <votre code>"
     ],
     "language": "python",
     "metadata": {},
     "outputs": []
    },
    {
     "cell_type": "markdown",
     "metadata": {},
     "source": [
      "Rappel: la fonction len() permet de calculer la longueur d'une s\u00e9quence"
     ]
    },
    {
     "cell_type": "markdown",
     "metadata": {},
     "source": [
      "Indice: nous avons jusqu'\u00e0 maintenant toujours utilis\u00e9 des indices constants, mais vous pouvez utiliser aussi des expressions, bien entendu:"
     ]
    },
    {
     "cell_type": "code",
     "collapsed": false,
     "input": [
      "composite [ :len(connue) ] == connue"
     ],
     "language": "python",
     "metadata": {},
     "outputs": []
    }
   ],
   "metadata": {}
  }
 ]
}