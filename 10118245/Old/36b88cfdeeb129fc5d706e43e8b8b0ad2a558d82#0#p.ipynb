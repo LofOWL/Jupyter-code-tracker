{
 "metadata": {
  "name": "",
  "notebookname": "NO HEADING 1 found",
  "signature": "57a857ab150bac7ce0feb87a2116c4ff6e812d776299d9ce7dae10001af8ba0a",
  "version": "1.0"
 },
 "nbformat": 3,
 "nbformat_minor": 0,
 "worksheets": [
  {
   "cells": [
    {
     "cell_type": "heading",
     "level": 1,
     "metadata": {},
     "source": [
      "Liens utiles"
     ]
    },
    {
     "cell_type": "markdown",
     "metadata": {},
     "source": [
      "Vous pouvez lire le zen de python \u00e0 partir de python en important le module `this` comme ceci (n'oubliez pas d'\u00e9valuer cette cellule dans votre notebook)"
     ]
    },
    {
     "cell_type": "code",
     "collapsed": false,
     "input": [
      "import this"
     ],
     "language": "python",
     "metadata": {},
     "outputs": [],
     "prompt_number": 1
    },
    {
     "cell_type": "markdown",
     "metadata": {},
     "source": [
      " * Documentation\n",
      "   * https://docs.python.org/2.7/ \n",
      " * La licence \n",
      "   * http://docs.python.org/2/license.html \n",
      " * La Python Software Foundation est une entit\u00e9 l\u00e9gale similaire \u00e0 nos associations de 1901, \u00e0 but non lucratif; elle poss\u00e8de les droits sur le langage:\n",
      "    * https://www.python.org/psf/\n",
      " * Description g\u00e9n\u00e9rale\n",
      "   * http://fr.wikipedia.org/wiki/Python_%28langage%29\n",
      " * Historique\n",
      "   * http://en.wikipedia.org/wiki/History_of_Python\n",
      " * Discussion sur les choix de conception du langage\n",
      "   * http://python-history.blogspot.com\n",
      " * Fran\u00e7ais\n",
      "   * https://wiki.python.org/moin/FrenchLanguage\n",
      " * Le discours de Guido van Rossum \u00e0 PyCon 2014\n",
      "   * https://www.youtube.com/watch?v=EBRMq2Ioxsc\n",
      " * Le sketch des monty python d'o\u00f9 provient les termes `eggs`, `spam`et autres `beans` qu'on utilise facilement dans les exemples.\n",
      "   * https://www.youtube.com/watch?v=anwy2MPT5RE\n",
      "\n",
      "\n",
      "\n",
      "\n",
      "\n"
     ]
    },
    {
     "cell_type": "heading",
     "level": 3,
     "metadata": {},
     "source": [
      "The development process & PEPs"
     ]
    },
    {
     "cell_type": "markdown",
     "metadata": {},
     "source": [
      " * Comment les choix d'\u00e9volution sont propos\u00e9s et discut\u00e9s, au travers des PEP (Python Enhacement Proposal)\n",
      "   * http://en.wikipedia.org/wiki/Python_(programming_language)#Development\n",
      " * Le premier PEP d\u00e9crit en d\u00e9tail .. le cycle de vie des PEPs\n",
      "   * http://legacy.python.org/dev/peps/pep-0001/\n",
      " * L'index de tous les PEPs\n",
      "   * http://legacy.python.org/dev/peps/        "
     ]
    },
    {
     "cell_type": "code",
     "collapsed": false,
     "input": [],
     "language": "python",
     "metadata": {},
     "outputs": []
    }
   ],
   "metadata": {}
  }
 ]
}