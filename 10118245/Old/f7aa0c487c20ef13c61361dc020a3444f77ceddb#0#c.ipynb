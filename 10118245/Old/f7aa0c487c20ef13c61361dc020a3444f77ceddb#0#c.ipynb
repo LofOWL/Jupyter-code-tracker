{
 "metadata": {
  "notebookname": "python3 vs python2",
  "signature": "sha256:764a962db487389a6a1de457d5c26804ddc049efd774f37696d8e0e508162443",
  "version": "1.0"
 },
 "nbformat": 3,
 "nbformat_minor": 0,
 "worksheets": [
  {
   "cells": [
    {
     "cell_type": "heading",
     "level": 1,
     "metadata": {},
     "source": [
      "python3 vs python2"
     ]
    },
    {
     "cell_type": "heading",
     "level": 2,
     "metadata": {},
     "source": [
      "Compl\u00e9ment - niveau interm\u00e9diaire"
     ]
    },
    {
     "cell_type": "markdown",
     "metadata": {},
     "source": [
      "Comme promis en Semaine 1, et maintenant que vous avez une vision d'ensemble de python2, voici un compl\u00e9ment consacr\u00e9 \u00e0 python3. Nous aborderons cette question selon deux angles&nbsp;:\n",
      " * pour commencer nous ferons un r\u00e9sum\u00e9 des diff\u00e9rences entre les deux langages, \n",
      " * et nous tenterons de faire le point sur la migration entre les deux versions. "
     ]
    },
    {
     "cell_type": "markdown",
     "metadata": {},
     "source": [
      "Dans l'introduction de la Semaine 1, nous avons indiqu\u00e9 avoir choisi de concentrer le cours sur python2 car c'est encore aujourd'hui la version dominante du langage. Vous [pourrez lire ici](https://wiki.python.org/moin/2.x-vs-3.x-survey?action=AttachFile&do=view&target=2013-2014+Python+2.x-3.x+survey.pdf)\n",
      " les r\u00e9sultats d'[un sondage fait fin 2013/d\u00e9but 2014](https://wiki.python.org/moin/2.x-vs-3.x-survey) qui le d\u00e9montre assez nettement, m\u00eame si les choses semblent bouger comme on le verra plus bas."
     ]
    },
    {
     "cell_type": "heading",
     "level": 3,
     "metadata": {},
     "source": [
      "Les diff\u00e9rences"
     ]
    },
    {
     "cell_type": "markdown",
     "metadata": {},
     "source": [
      "Pendant toute la maturation de python, au moins depuis l'introduction de python2 en 2000, toutes les \u00e9volutions ont \u00e9t\u00e9 faites avec compatibilit\u00e9 ascendante, et vous pouvez en th\u00e9orie faire tourner du code 2.1 dans un interpr\u00e8teur 2.7. Avec cette approche il n'est naturellement pas possible d'enlever ou de changer les traits du langages qui ont \u00e9t\u00e9 rat\u00e9s :)\n",
      "\n",
      "La d\u00e9cision de cr\u00e9er python3 a \u00e9t\u00e9 prise dans le but de corriger ce genre de d\u00e9fauts, avec en contrepartie la n\u00e9cessit\u00e9 de migrer tout la base de code. Commen\u00e7ons par faire un survol des changements, avant de voir dans la deuxi\u00e8me partie comment se passe cette migration."
     ]
    },
    {
     "cell_type": "heading",
     "level": 5,
     "metadata": {},
     "source": [
      "`print`"
     ]
    },
    {
     "cell_type": "markdown",
     "metadata": {},
     "source": [
      "On a d\u00e9j\u00e0 eu l'occasion de l'\u00e9voquer, la diff\u00e9rence la plus visible entre les deux versions du langage est que\n",
      " * dans python2 `print` est une **instruction** et ne prend pas de parenth\u00e8se,\n",
      " * alors qu'en python3 c'est une **fonction** et donc requiert des parenth\u00e8ses."
     ]
    },
    {
     "cell_type": "markdown",
     "metadata": {},
     "source": [
      "Comme on l'avait signal\u00e9 en Semaine 1 (S\u00e9quence \"Pourquoi python ?\"), vous avez la possibilit\u00e9 d'\u00e9crire du code python2 qui utilise `print` avec la syntaxe de python3 en mentionnant\n",
      "\n",
      "    from __future__ import print_function"
     ]
    },
    {
     "cell_type": "markdown",
     "metadata": {},
     "source": [
      "Cela dit, `print` est une construction tr\u00e8s visible pendant la p\u00e9riode d'apprentissage, mais dans du vrai code son usage est **beaucoup moins r\u00e9pandu** qu'on ne pourrait le penser, on utilise la plupart du temps des modules de `logging` ou autres fonctions d'\u00e9criture sur fichier, aussi l'\u00e9volution de `print` est en r\u00e9alit\u00e9 beaucoup moins cruciale qu'il n'y para\u00eet."
     ]
    },
    {
     "cell_type": "heading",
     "level": 5,
     "metadata": {},
     "source": [
      "types `str` et `unicode`"
     ]
    },
    {
     "cell_type": "markdown",
     "metadata": {},
     "source": [
      "Le changement le plus radical, dans le sens, le changement auquel il est le plus d\u00e9licat de s'adapter, est sans doute celui qui "
     ]
    },
    {
     "cell_type": "markdown",
     "metadata": {},
     "source": [
      "<pre style=\"font-size:small;background-color:'#ccc';\">\n",
      "Everything you thought you knew about binary data and Unicode has changed.\n",
      "</pre>\n"
     ]
    },
    {
     "cell_type": "heading",
     "level": 5,
     "metadata": {},
     "source": [
      "types `int` et `long`"
     ]
    },
    {
     "cell_type": "heading",
     "level": 5,
     "metadata": {},
     "source": [
      "classes *new-style*"
     ]
    },
    {
     "cell_type": "markdown",
     "metadata": {},
     "source": [
      "https://docs.python.org/3/whatsnew/3.0.html#text-vs-data-instead-of-unicode-vs-8-bit"
     ]
    },
    {
     "cell_type": "heading",
     "level": 5,
     "metadata": {},
     "source": [
      "Variables locales \u00e0 une boucle `for`"
     ]
    },
    {
     "cell_type": "heading",
     "level": 5,
     "metadata": {},
     "source": [
      "Autres changements"
     ]
    },
    {
     "cell_type": "markdown",
     "metadata": {},
     "source": [
      "Citons \u00e9galement, en vrac&nbsp;:\n",
      " * la possibilit\u00e9 d'annoter au niveau syntaxique les arguments et valeur de retour des fonctions ([voir PEP3107](http://www.python.org/dev/peps/pep-3107)); dans l'\u00e9tat actuel il s'agit d'annotations \u00e0 vocation **surtout documentaire** et il ne semble pas que le langage se dirige vers un contr\u00f4le de type plus strict dans ce domaine;\n",
      " * une nouvelle notation pour sp\u00e9cifier la m\u00e9taclasse;\n",
      " * et tout un tas d'autres am\u00e9liorations moins significatives, dont vous trouverez [une liste plus exhaustive ici](https://docs.python.org/3/whatsnew/3.0.html).\n",
      " \n",
      "Signalons enfin l'existence d'un [guide pour le portage de python2 \u00e0 python3](https://docs.python.org/3/howto/pyporting.html)"
     ]
    },
    {
     "cell_type": "heading",
     "level": 3,
     "metadata": {},
     "source": [
      "Un point sur la migration"
     ]
    },
    {
     "cell_type": "heading",
     "level": 5,
     "metadata": {},
     "source": [
      "2to3"
     ]
    },
    {
     "cell_type": "heading",
     "level": 5,
     "metadata": {},
     "source": [
      "six"
     ]
    },
    {
     "cell_type": "heading",
     "level": 5,
     "metadata": {},
     "source": [
      "timeframe"
     ]
    },
    {
     "cell_type": "heading",
     "level": 5,
     "metadata": {},
     "source": [
      "django/numpy available (since when ?)"
     ]
    },
    {
     "cell_type": "heading",
     "level": 3,
     "metadata": {},
     "source": [
      "Pour en savoir plus"
     ]
    },
    {
     "cell_type": "markdown",
     "metadata": {},
     "source": [
      " * https://wiki.python.org/moin/Python2orPython3\n"
     ]
    }
   ],
   "metadata": {}
  }
 ]
}