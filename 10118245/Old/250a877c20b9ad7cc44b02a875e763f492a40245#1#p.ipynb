{
 "metadata": {
  "name": "",
  "signature": "sha256:403cf5af31ee379e5f958cbbade47f9e812ff56bb452e0def8cae932ad453855"
 },
 "nbformat": 3,
 "nbformat_minor": 0,
 "worksheets": [
  {
   "cells": [
    {
     "cell_type": "heading",
     "level": 1,
     "metadata": {},
     "source": [
      "Affectations & Op\u00e9rations"
     ]
    },
    {
     "cell_type": "heading",
     "level": 3,
     "metadata": {},
     "source": [
      "Incr\u00e9mentation"
     ]
    },
    {
     "cell_type": "markdown",
     "metadata": {},
     "source": [
      "On peut facilement faire des effets de bord sur les variables num\u00e9riques comme ceci"
     ]
    },
    {
     "cell_type": "code",
     "collapsed": false,
     "input": [
      "entier = 10\n",
      "\n",
      "entier += 2\n",
      "print 'entier',entier"
     ],
     "language": "python",
     "metadata": {},
     "outputs": []
    },
    {
     "cell_type": "markdown",
     "metadata": {},
     "source": [
      "Comme on le devine peut-\u00eatre, ceci serait \u00e9quivalent \u00e0 "
     ]
    },
    {
     "cell_type": "code",
     "collapsed": false,
     "input": [
      "entier = entier + 2\n",
      "print 'entier',entier"
     ],
     "language": "python",
     "metadata": {},
     "outputs": []
    },
    {
     "cell_type": "heading",
     "level": 3,
     "metadata": {},
     "source": [
      "Autres op\u00e9rateurs courants"
     ]
    },
    {
     "cell_type": "markdown",
     "metadata": {},
     "source": [
      "Cette forme qui combine op\u00e9ration sur une variable, et r\u00e9affectation du r\u00e9sultat \u00e0 la m\u00eame variable, est disponible avec tous les op\u00e9rateurs courants"
     ]
    },
    {
     "cell_type": "code",
     "collapsed": false,
     "input": [
      "entier -= 4\n",
      "print 'apr\u00e8s d\u00e9cr\u00e9ment',entier\n",
      "entier *= 2\n",
      "print 'apr\u00e8s doublement',entier\n",
      "entier /= 2\n",
      "print 'mis \u00e0 moiti\u00e9',entier\n"
     ],
     "language": "python",
     "metadata": {},
     "outputs": []
    },
    {
     "cell_type": "heading",
     "level": 3,
     "metadata": {},
     "source": [
      "Types non num\u00e9riques"
     ]
    },
    {
     "cell_type": "markdown",
     "metadata": {},
     "source": [
      "En r\u00e9alit\u00e9 cette construction est disponible sur tous les types qui supportent l'op\u00e9rateur en question. Par exemple les listes qui peuvent \u00eatre additionn\u00e9es entre elles:"
     ]
    },
    {
     "cell_type": "code",
     "collapsed": false,
     "input": [
      "liste = range(3)\n",
      "print 'liste',liste\n",
      "\n",
      "liste += liste\n",
      "print 'apr\u00e9s d\u00e9doublement',liste"
     ],
     "language": "python",
     "metadata": {},
     "outputs": []
    },
    {
     "cell_type": "markdown",
     "metadata": {},
     "source": [
      "Beaucoup de types supportent l'op\u00e9rateur +, qui est sans doute de loin celui qui est le plus utilis\u00e9 avec cette construction."
     ]
    },
    {
     "cell_type": "heading",
     "level": 3,
     "metadata": {},
     "source": [
      "Op\u00e9rateurs plus abscons"
     ]
    },
    {
     "cell_type": "markdown",
     "metadata": {},
     "source": [
      "Signalons enfin qu'on trouve cette construction aussi avec d'autres op\u00e9rateurs moins fr\u00e9quents, par exemple"
     ]
    },
    {
     "cell_type": "code",
     "collapsed": false,
     "input": [
      "entier = 2\n",
      "print 'entier',entier\n",
      "entier **= 10\n",
      "print '\u00e0 la puissance dix',entier\n",
      "entier %= 5\n",
      "print 'modulo 5:',entier\n",
      "entier <<= 2\n",
      "print 'double d\u00e9calage gauche',entier"
     ],
     "language": "python",
     "metadata": {},
     "outputs": []
    }
   ],
   "metadata": {}
  }
 ]
}