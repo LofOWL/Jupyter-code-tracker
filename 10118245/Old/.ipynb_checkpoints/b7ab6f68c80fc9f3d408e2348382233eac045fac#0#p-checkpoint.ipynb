{
 "cells": [
  {
   "cell_type": "markdown",
   "metadata": {},
   "source": [
    "# Exercice sur l'utilisation des classes"
   ]
  },
  {
   "cell_type": "markdown",
   "metadata": {},
   "source": [
    "### Introduction"
   ]
  },
  {
   "cell_type": "markdown",
   "metadata": {},
   "source": [
    "##### Objectifs de l'exercice"
   ]
  },
  {
   "cell_type": "markdown",
   "metadata": {},
   "source": [
    "Maintenant que vous avez un bagage qui couvre toutes les bases du langage, cette semaine nous ne ferons qu'un seul exercice de taille un peu plus réaliste. Vous devez écrire quelques classes, que vous intégrez ensuite dans un code écrit pas nos soins. \n",
    "\n",
    "L'exercice comporte donc autant une part lecture qu'une part écriture. Vous êtes également incités à améliorer autant que possible votre environnement de travail sur votre ordinateur."
   ]
  },
  {
   "cell_type": "markdown",
   "metadata": {},
   "source": [
    "##### Objectifs de l'application"
   ]
  },
  {
   "cell_type": "markdown",
   "metadata": {},
   "source": [
    "Dans le prolongement des exercices de la semaine 3 sur les données maritimes, l'application dont il est question ici fait principalement ceci&nbsp;:\n",
    " * agréger des données obtenues auprès de marinetraffic,\n",
    " * et produire en sortie\n",
    "   * un fichier texte qui liste par ordre alphabétique les bateaux concernés, et le nombre de positions trouvées pour chacun,\n",
    "   * et un fichier KML, pour exposer les trajectoires trouvées à google earth, maps ou autre outil similaire."
   ]
  },
  {
   "cell_type": "markdown",
   "metadata": {},
   "source": [
    "Voici à quoi ressemble le fichier KML obtenu avec les données que nous fournissons, une fois ouvert sous google earth&nbsp;:\n",
    "\n",
    "<img src=\"media/ships-in-earth.png\">"
   ]
  },
  {
   "cell_type": "markdown",
   "metadata": {},
   "source": [
    "##### Choix d'implémentation"
   ]
  },
  {
   "cell_type": "markdown",
   "metadata": {},
   "source": [
    "En particulier, dans cet exercice nous allons voir comment on peut gérer des données sous forme d'instances de classes plutôt que de types de base. Ce qui résonne avec la discussion commencée en Semaine 3, Séquence \"Les dictionnaires\", dans le complément \"record-et-dictionnaire\". \n",
    "\n",
    "Dans les exercices de cette semaine-là nous avions uniquement utilisé des types 'standard' comme listes, tuples et dictionnaires pour modéliser les données, dans cette application nous allons faire le choix inverse et utiliser plus souvent des (instances de) classes."
   ]
  },
  {
   "cell_type": "markdown",
   "metadata": {},
   "source": [
    "##### Correction"
   ]
  },
  {
   "cell_type": "markdown",
   "metadata": {},
   "source": [
    "L'application vient avec son propre système de vérification; c'est-à-dire qu'une fois les fichiers produits, ils sont comparés avec le résultat de l'implémentation de référence. \n",
    "\n",
    "Du coup le fait de disposer de google earth sur votre ordinateur n'est pas strictement nécessaire, on ne s'en sert pas pour l'exercice. "
   ]
  },
  {
   "cell_type": "markdown",
   "metadata": {},
   "source": [
    "***"
   ]
  },
  {
   "cell_type": "markdown",
   "metadata": {},
   "source": [
    "### Mise en place"
   ]
  },
  {
   "cell_type": "markdown",
   "metadata": {},
   "source": [
    "##### Partez d'un directory vierge"
   ]
  },
  {
   "cell_type": "markdown",
   "metadata": {},
   "source": [
    "Pour commencer créez-vous un répertoire pour travailler à cet exercice"
   ]
  },
  {
   "cell_type": "markdown",
   "metadata": {},
   "source": [
    "##### Les données"
   ]
  },
  {
   "cell_type": "markdown",
   "metadata": {},
   "source": [
    "Commencez par y installer les donneés que nous publions dans les formats suivants&nbsp;:\n",
    " * [format tar](data/ships-json.tar)\n",
    " * [format tgz](data/ships-json.tgz)\n",
    " * [format zip](data/ships-json.zip)\n",
    "\n",
    "Une fois installées, ces données doivent se trouver dans un sous-répertoire [json/] qui contient 133 fichiers \n",
    "\n",
    "    2013-10-01-00-00--t=10--ext.json\n",
    "    ...\n",
    "    2013-10-01-23-50--t=10.json    "
   ]
  },
  {
   "cell_type": "markdown",
   "metadata": {},
   "source": [
    "Comme vous pouvez le deviner il s'agit de données sur le mouvement des bateaux dans la zone en date du 10 Octobre 2013; et comme vous le voyez également on a quelques exemplaires de données étendues, mais dans la plupart des cas il s'agit de données abrégées."
   ]
  },
  {
   "cell_type": "markdown",
   "metadata": {},
   "source": [
    "##### Les résultats de référence"
   ]
  },
  {
   "cell_type": "markdown",
   "metadata": {},
   "source": [
    "De même il vous faut installer les résultats de référence que vous trouvez ici&nbsp;:\n",
    " * [format tar](data/ships-ref.tar)\n",
    " * [format tgz](data/ships-ref.tgz)\n",
    " * [format zip](data/ships-ref.zip)\n",
    "\n",
    "ce qui vous doit vous donner trois fichiers \n",
    "\n",
    "    ALL_SHIPS.kml.ref\n",
    "    ALL_SHIPS.txt.ref    \n",
    "    ALL_SHIPS-v.txt.ref    \n"
   ]
  },
  {
   "cell_type": "markdown",
   "metadata": {},
   "source": [
    "### xxx niveaux de difficulté à définir if time permits"
   ]
  },
  {
   "cell_type": "markdown",
   "metadata": {},
   "source": [
    "Prendre le `main` et choisir quels fichiers on veut écrire"
   ]
  },
  {
   "cell_type": "markdown",
   "metadata": {},
   "source": [
    "##### Comment lancer l'application"
   ]
  },
  {
   "cell_type": "markdown",
   "metadata": {},
   "source": [
    "Lorsque le programme est complet, on le lance comme ceci&nbsp;:\n",
    "\n",
    "    $ python merger.py json/*\n",
    "    Opening ALL_SHIPS.txt for listing all named ships\n",
    "    Opening ALL_SHIPS.kml for ship ALL_SHIPS\n",
    "    Comparing ALL_SHIPS.txt and ALL_SHIPS.txt.ref -> OK\n",
    "    Comparing ALL_SHIPS.kml and ALL_SHIPS.kml.ref -> OK\n",
    "    \n",
    "qui comme on le voit produit\n",
    "\n",
    " * `ALL_SHIPS.txt` qui résume, par ordre alphabétique les bateaux qu'on a trouvés et le nombre de positions pour chacun, et \n",
    " * `ALL_SHIPS.kml` qui est le fichier au format `KML` qui contient toutes les trajectoires."
   ]
  },
  {
   "cell_type": "markdown",
   "metadata": {},
   "source": [
    "##### Comment est structurée l'application"
   ]
  },
  {
   "cell_type": "markdown",
   "metadata": {},
   "source": [
    "Le point d'entrée s'appelle, donc, `merger.py`\n",
    "\n",
    "Il utilise trois autres modules annexes, qui sont\n",
    "\n",
    " * `shipdict.py`, qui implémente les classes\n",
    "   * `Position` qui contient une latitude, une longitude, et un timestamp,\n",
    "   * `Ship` qui modélise un bateau `partir de son `id` et optionnellement un `name` et `country`\n",
    "   * `ShipDict`, qui maintient un index des bateaux (essentiellement un dictionnaire\n",
    " * `compare.py` qui implémente  \n",
    "   * la classe `Compare` qui se charge de comparer les fichiers résultat avec leur version de référence,\n",
    " * `kml.py` qui implémente \n",
    "   * la classe `KML` dans laquelle sont concentrées les fonctions liées à la génération de KML."
   ]
  }
 ],
 "metadata": {
  "kernelspec": {
   "display_name": "Python 3",
   "language": "python",
   "name": "python3"
  },
  "language_info": {
   "codemirror_mode": {
    "name": "ipython",
    "version": 3
   },
   "file_extension": ".py",
   "mimetype": "text/x-python",
   "name": "python",
   "nbconvert_exporter": "python",
   "pygments_lexer": "ipython3",
   "version": "3.7.3"
  },
  "notebookname": "exo. classes",
  "version": "1.0"
 },
 "nbformat": 4,
 "nbformat_minor": 1
}
