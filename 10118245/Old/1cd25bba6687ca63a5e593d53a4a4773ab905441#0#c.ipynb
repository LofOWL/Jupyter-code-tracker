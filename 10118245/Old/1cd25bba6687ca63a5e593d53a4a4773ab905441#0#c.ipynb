{
 "cells": [
  {
   "cell_type": "code",
   "execution_count": 1,
   "metadata": {},
   "outputs": [],
   "source": [
    "import asyncio"
   ]
  },
  {
   "cell_type": "code",
   "execution_count": 3,
   "metadata": {},
   "outputs": [
    {
     "name": "stdout",
     "output_type": "stream",
     "text": [
      "W john\n",
      "S mary\n",
      "E john\n",
      "E mary\n",
      "E mary\n",
      "W mary\n",
      "E mary\n",
      "S john\n",
      "E mary\n",
      "W mary\n",
      "W john\n",
      "S mary\n",
      "N mary\n",
      "S john\n",
      "E mary\n",
      "N mary\n",
      "E john\n",
      "E john\n",
      "N mary\n",
      "N mary\n"
     ]
    }
   ],
   "source": [
    "!data/players.py"
   ]
  },
  {
   "cell_type": "markdown",
   "metadata": {},
   "source": [
    "Pour aller plus loin\n",
    "\n",
    "https://7webpages.com/blog/writing-online-multiplayer-game-with-python-asyncio-getting-asynchronous/"
   ]
  }
 ],
 "metadata": {
  "kernelspec": {
   "display_name": "Python 3",
   "language": "python",
   "name": "python3"
  },
  "language_info": {
   "codemirror_mode": {
    "name": "ipython",
    "version": 3
   },
   "file_extension": ".py",
   "mimetype": "text/x-python",
   "name": "python",
   "nbconvert_exporter": "python",
   "pygments_lexer": "ipython3",
   "version": "3.6.3"
  }
 },
 "nbformat": 4,
 "nbformat_minor": 2
}
