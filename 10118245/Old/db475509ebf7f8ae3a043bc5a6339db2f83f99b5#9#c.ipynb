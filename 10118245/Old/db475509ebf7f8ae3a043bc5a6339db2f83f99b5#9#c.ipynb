{
 "cells": [
  {
   "cell_type": "markdown",
   "metadata": {},
   "source": [
    "<span style=\"float:left;\">Licence CC BY-NC-ND</span><span style=\"float:right;\">Thierry Parmentelat &amp; Arnaud Legout&nbsp;<img src=\"media/both-logos-small-alpha.png\" style=\"display:inline\"></span><br/>"
   ]
  },
  {
   "cell_type": "markdown",
   "metadata": {
    "slideshow": {
     "slide_type": "slide"
    }
   },
   "source": [
    "# la librairie `asyncio`"
   ]
  },
  {
   "cell_type": "markdown",
   "metadata": {
    "slideshow": {
     "slide_type": "fragment"
    }
   },
   "source": [
    "* boucle d'événements"
   ]
  },
  {
   "cell_type": "markdown",
   "metadata": {
    "slideshow": {
     "slide_type": "fragment"
    }
   },
   "source": [
    "* synchronisation: `Queue`, `Lock` et `Semaphore`"
   ]
  },
  {
   "cell_type": "markdown",
   "metadata": {
    "slideshow": {
     "slide_type": "fragment"
    }
   },
   "source": [
    "* interaction avec les processus:\n",
    "  * package `asyncio.subprocess`"
   ]
  },
  {
   "cell_type": "markdown",
   "metadata": {
    "slideshow": {
     "slide_type": "fragment"
    }
   },
   "source": [
    "* `Transport` et `Protocol` \n",
    "* `Streams`"
   ]
  },
  {
   "cell_type": "code",
   "execution_count": null,
   "metadata": {
    "slideshow": {
     "slide_type": "slide"
    }
   },
   "outputs": [],
   "source": [
    "import asyncio\n",
    "\n",
    "from asynchelpers import start_timer, show_timer"
   ]
  },
  {
   "cell_type": "markdown",
   "metadata": {
    "slideshow": {
     "slide_type": "slide"
    }
   },
   "source": [
    "# synchronisation avec une queue"
   ]
  },
  {
   "cell_type": "code",
   "execution_count": null,
   "metadata": {
    "cell_style": "split"
   },
   "outputs": [],
   "source": [
    "asyncio.Queue?"
   ]
  },
  {
   "cell_type": "code",
   "execution_count": null,
   "metadata": {
    "cell_style": "split",
    "slideshow": {}
   },
   "outputs": [],
   "source": [
    "queue = asyncio.Queue(maxsize=1)"
   ]
  },
  {
   "cell_type": "code",
   "execution_count": null,
   "metadata": {
    "cell_style": "split",
    "slideshow": {
     "slide_type": "fragment"
    }
   },
   "outputs": [],
   "source": [
    "async def producer(queue):\n",
    "    count = 1\n",
    "    while True:\n",
    "        await queue.put(f'tick{count}')\n",
    "        count += 1\n",
    "        await asyncio.sleep(1)"
   ]
  },
  {
   "cell_type": "code",
   "execution_count": null,
   "metadata": {
    "cell_style": "split",
    "slideshow": {
     "slide_type": "fragment"
    }
   },
   "outputs": [],
   "source": [
    "async def consumer(queue):\n",
    "    while True:\n",
    "        received = await queue.get()\n",
    "        show_timer(f\"got {received}\")\n",
    "        "
   ]
  },
  {
   "cell_type": "code",
   "execution_count": null,
   "metadata": {
    "slideshow": {
     "slide_type": "fragment"
    }
   },
   "outputs": [],
   "source": [
    "# on ajoute les coroutines dans la boucle\n",
    "asyncio.ensure_future(producer(queue))\n",
    "asyncio.ensure_future(consumer(queue))"
   ]
  },
  {
   "cell_type": "code",
   "execution_count": null,
   "metadata": {
    "slideshow": {
     "slide_type": "slide"
    }
   },
   "outputs": [],
   "source": [
    "start_timer()\n",
    "\n",
    "# interrompre avec la touche 'i' \n",
    "# plusieurs fois si nécessaire\n",
    "\n",
    "try:\n",
    "    asyncio.get_event_loop().run_forever()\n",
    "except KeyboardInterrupt as e:\n",
    "    print(\"bye\")"
   ]
  },
  {
   "cell_type": "markdown",
   "metadata": {
    "slideshow": {
     "slide_type": "slide"
    }
   },
   "source": [
    "# limiter le parallèlisme avec `Queue`"
   ]
  },
  {
   "cell_type": "code",
   "execution_count": null,
   "metadata": {
    "cell_style": "split",
    "slideshow": {
     "slide_type": "fragment"
    }
   },
   "outputs": [],
   "source": [
    "asyncio.set_event_loop(asyncio.new_event_loop())"
   ]
  },
  {
   "cell_type": "code",
   "execution_count": null,
   "metadata": {
    "cell_style": "split"
   },
   "outputs": [],
   "source": [
    "window = asyncio.Queue(maxsize = 4)"
   ]
  },
  {
   "cell_type": "code",
   "execution_count": null,
   "metadata": {},
   "outputs": [],
   "source": [
    "async def job(i):\n",
    "    # prendre un jeton dans la queue\n",
    "    await window.put(None)\n",
    "    # pas tout le monde la même durée\n",
    "    duration = (i % 3) + 1\n",
    "    message = f\"job{i} - duration {duration}\"\n",
    "    show_timer(\">>>\", message)\n",
    "    await asyncio.sleep(duration)\n",
    "    show_timer(\"<<<\", message)\n",
    "    # libérer le jeton\n",
    "    await window.get()"
   ]
  },
  {
   "cell_type": "code",
   "execution_count": null,
   "metadata": {
    "cell_style": "split",
    "slideshow": {
     "slide_type": "slide"
    }
   },
   "outputs": [],
   "source": [
    "for i in range(8):\n",
    "    asyncio.ensure_future(job(i))\n",
    "\n",
    "start_timer()\n",
    "try:\n",
    "    asyncio.get_event_loop().run_forever()\n",
    "except:\n",
    "    print('bye')"
   ]
  },
  {
   "cell_type": "markdown",
   "metadata": {
    "cell_style": "split",
    "slideshow": {
     "slide_type": "-"
    }
   },
   "source": [
    "### Séquencement des jobs\n",
    "\n",
    "|     | j0 (1) | j1(2) | j2(3) | j3(1) | j4(2) | j5(3) | j6(1) | j7(2) |\n",
    "|-----|--------|-------|-------|-------|-------|-------|-------|-------|\n",
    "| 0-1 | `*`    | `*`   | `*`   | `*`   |       |       |       |       |\n",
    "| 1-2 |        | `*`   | `*`   |       | `*`   | `*`   |       |       |\n",
    "| 2-3 |        |       | `*`   |       | `*`   | `*`   | `*`   |       |\n",
    "| 3-4 |        |       |       |       |       | `*`   |       | `*`   |\n",
    "| 4-5 |        |       |       |       |       |       |       | `*`   |"
   ]
  },
  {
   "cell_type": "markdown",
   "metadata": {
    "slideshow": {
     "slide_type": "slide"
    }
   },
   "source": [
    "# valeur ajoutée"
   ]
  },
  {
   "cell_type": "markdown",
   "metadata": {
    "cell_style": "split"
   },
   "source": [
    "* boucle d'événements complice avec:\n",
    "  * `sleep()`,\n",
    "  * `subprocess.*`\n",
    "  * les classes abstraites:\n",
    "  \n",
    "    `Transport`, `Protocol`, `Stream`"
   ]
  },
  {
   "cell_type": "markdown",
   "metadata": {
    "cell_style": "split",
    "slideshow": {
     "slide_type": "fragment"
    }
   },
   "source": [
    "* tire profit de l'OS\n",
    "  * *signal()* : interruptions\n",
    "  * *select()* : événements liés aux entrée-sorties\n",
    "  * ..."
   ]
  },
  {
   "cell_type": "markdown",
   "metadata": {
    "slideshow": {
     "slide_type": "slide"
    }
   },
   "source": [
    "# usage"
   ]
  },
  {
   "cell_type": "markdown",
   "metadata": {
    "cell_style": "split",
    "slideshow": {
     "slide_type": "fragment"
    }
   },
   "source": [
    "* commencer avec les librairies de haut niveau\n",
    "  * HTTP (`aoihttp`) \n",
    "  * ssh (`asyncssh`)\n",
    "  * telnet (`telnetlib3`) \n",
    "  * BdD's - ..."
   ]
  }
 ],
 "metadata": {
  "celltoolbar": "Slideshow",
  "kernelspec": {
   "display_name": "Python 3",
   "language": "python",
   "name": "python3"
  },
  "language_info": {
   "codemirror_mode": {
    "name": "ipython",
    "version": 3
   },
   "file_extension": ".py",
   "mimetype": "text/x-python",
   "name": "python",
   "nbconvert_exporter": "python",
   "pygments_lexer": "ipython3",
   "version": "3.6.2"
  },
  "livereveal": {
   "auto_select": "code",
   "auto_select_fragment": true,
   "autolaunch": true,
   "backimage": "media/nologo.png",
   "controls": false,
   "height": "100%",
   "slideNumber": false,
   "start_slideshow_at": "selected",
   "theme": "simple",
   "transition": "fade",
   "width": "100%"
  },
  "notebookname": "librairie asyncio",
  "version": "3.0"
 },
 "nbformat": 4,
 "nbformat_minor": 2
}
