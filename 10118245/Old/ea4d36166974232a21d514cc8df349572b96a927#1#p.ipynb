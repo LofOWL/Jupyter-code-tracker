{
 "metadata": {
  "kernelspec": {
   "display_name": "Python 2", 
   "language": "python", 
   "name": "python2"
  }, 
  "language_info": {
   "codemirror_mode": {
    "name": "ipython", 
    "version": 2
   }, 
   "file_extension": ".py", 
   "mimetype": "text/x-python", 
   "name": "python", 
   "nbconvert_exporter": "python", 
   "pygments_lexer": "ipython2", 
   "version": "2.7.12"
  }, 
  "name": "", 
  "notebookname": "Une calculette", 
  "version": "2.0"
 }, 
 "nbformat": 2, 
 "nbformat_minor": 0, 
 "orig_nbformat": 4, 
 "orig_nbformat_minor": 1, 
 "worksheets": [
  {
   "cells": [
    {
     "cell_type": "markdown", 
     "metadata": {}, 
     "source": [
      "<span style=\"float:left;\">Licence CC BY-NC-ND</span><span style=\"float:right;\">Thierry Parmentelat &amp; Arnaud Legout&nbsp;<img src=\"media/inria-25.png\" style=\"display:inline\"></span><br/>"
     ]
    }, 
    {
     "cell_type": "markdown", 
     "metadata": {}, 
     "source": [
      "# Utiliser python comme une calculette"
     ]
    }, 
    {
     "cell_type": "markdown", 
     "metadata": {}, 
     "source": [
      "Lorsque vous d\u00e9marrez l'interpr\u00e8te python, vous disposez en fait d'une calculette; par exemple vous pouvez taper"
     ]
    }, 
    {
     "cell_type": "code", 
     "collapsed": false, 
     "input": [
      "20 * 60"
     ], 
     "language": "python", 
     "metadata": {}, 
     "outputs": [], 
     "prompt_number": null
    }, 
    {
     "cell_type": "markdown", 
     "metadata": {}, 
     "source": [
      "Les r\u00e8gles de \"priorit\u00e9\" entre les op\u00e9rateurs sont habituelles, les produits et divisions sont \u00e9valu\u00e9s en premier, ensuite les sommes et soustractions:"
     ]
    }, 
    {
     "cell_type": "code", 
     "collapsed": false, 
     "input": [
      " 2 * 30 + 10 * 5"
     ], 
     "language": "python", 
     "metadata": {}, 
     "outputs": [], 
     "prompt_number": null
    }, 
    {
     "cell_type": "markdown", 
     "metadata": {}, 
     "source": [
      "De mani\u00e8re g\u00e9n\u00e9rale, il est recommand\u00e9 de bien parenth\u00e9ser ses expressions. De plus, les parenth\u00e8ses facilitent la lecture d'expressions complexes. Par exemple, il vaut mieux \u00e9crire"
     ]
    }, 
    {
     "cell_type": "code", 
     "collapsed": false, 
     "input": [
      "(2 * 30) + (10 * 5)"
     ], 
     "language": "python", 
     "metadata": {}, 
     "outputs": [], 
     "prompt_number": null
    }, 
    {
     "cell_type": "markdown", 
     "metadata": {}, 
     "source": [
      "Rappelez-vous des op\u00e9rateurs suivants qui sont tr\u00e8s pratiques", 
      "", 
      "<table>", 
      "<thead><tr><th>signe</th><th>op\u00e9ration</th></tr></thead>", 
      "<tbody>", 
      "<tr><td>`/`</td><td>quotient</td></tr>", 
      "<tr><td>`%`</td><td>modulo</td></tr>", 
      "<tr><td>`**`</td><td>puissance</td></tr>", 
      "</tbody>", 
      "</table>"
     ]
    }, 
    {
     "cell_type": "code", 
     "collapsed": false, 
     "input": [
      "48 / 5"
     ], 
     "language": "python", 
     "metadata": {}, 
     "outputs": [], 
     "prompt_number": null
    }, 
    {
     "cell_type": "code", 
     "collapsed": false, 
     "input": [
      "48 % 5"
     ], 
     "language": "python", 
     "metadata": {}, 
     "outputs": [], 
     "prompt_number": null
    }, 
    {
     "cell_type": "code", 
     "collapsed": false, 
     "input": [
      "2 ** 10"
     ], 
     "language": "python", 
     "metadata": {}, 
     "outputs": [], 
     "prompt_number": null
    }, 
    {
     "cell_type": "markdown", 
     "metadata": {}, 
     "source": [
      "Vous pouvez facilement faire aussi des calculs sur les complexes; souvenez-vous seulement que la constante complexe que nous notons en fran\u00e7ais `i` se note en python `j`, ce choix a \u00e9t\u00e9 fait par le BDFL - alias Guido van Rossum - pour des raisons de lisibilit\u00e9&nbsp;:"
     ]
    }, 
    {
     "cell_type": "code", 
     "collapsed": false, 
     "input": [
      "(2 + 3j) * 2.5j"
     ], 
     "language": "python", 
     "metadata": {}, 
     "outputs": [], 
     "prompt_number": null
    }, 
    {
     "cell_type": "markdown", 
     "metadata": {}, 
     "source": [
      "Aussi pour entrer ce nombre complexe `j` il faut toujours le faire pr\u00e9c\u00e9der d'un nombre, donc ne pas entrer simplement `j` (qui serait compris comme un nom de variable, nous allons voir \u00e7a tout de suite) mais plut\u00f4t `1j` ou encore `1.j`, comme ceci"
     ]
    }, 
    {
     "cell_type": "code", 
     "collapsed": false, 
     "input": [
      "1j * 1.j"
     ], 
     "language": "python", 
     "metadata": {}, 
     "outputs": [], 
     "prompt_number": null
    }, 
    {
     "cell_type": "markdown", 
     "metadata": {}, 
     "source": [
      "### Utiliser des variables"
     ]
    }, 
    {
     "cell_type": "markdown", 
     "metadata": {}, 
     "source": [
      "Il peut \u00eatre utile de stocker un r\u00e9sultat qui sera utilis\u00e9 plus tard, ou de d\u00e9finir une valeur constante; pour cela on utilise tout simplement une affectation comme ceci:"
     ]
    }, 
    {
     "cell_type": "code", 
     "collapsed": false, 
     "input": [
      "largeur = 5"
     ], 
     "language": "python", 
     "metadata": {}, 
     "outputs": [], 
     "prompt_number": null
    }, 
    {
     "cell_type": "markdown", 
     "metadata": {}, 
     "source": [
      "Puis"
     ]
    }, 
    {
     "cell_type": "code", 
     "collapsed": false, 
     "input": [
      "largeur * 20"
     ], 
     "language": "python", 
     "metadata": {}, 
     "outputs": [], 
     "prompt_number": null
    }, 
    {
     "cell_type": "code", 
     "collapsed": false, 
     "input": [
      "largeur * 10"
     ], 
     "language": "python", 
     "metadata": {}, 
     "outputs": [], 
     "prompt_number": null
    }, 
    {
     "cell_type": "markdown", 
     "metadata": {}, 
     "source": [
      "Pour les symboles math\u00e9matiques, on peut utiliser la m\u00eame technique"
     ]
    }, 
    {
     "cell_type": "code", 
     "collapsed": false, 
     "input": [
      "pi = 3.14159", 
      "2 * pi * 10"
     ], 
     "language": "python", 
     "metadata": {}, 
     "outputs": [], 
     "prompt_number": null
    }, 
    {
     "cell_type": "markdown", 
     "metadata": {}, 
     "source": [
      "Ou encore plus simplement, utiliser les valeurs pr\u00e9d\u00e9finies par la librairie math\u00e9matique de python. En anticipant un peu sur la notion d'importation que nous approfondirons plus tard, on peut \u00e9crire:"
     ]
    }, 
    {
     "cell_type": "code", 
     "collapsed": false, 
     "input": [
      "from math import e, pi"
     ], 
     "language": "python", 
     "metadata": {}, 
     "outputs": [], 
     "prompt_number": null
    }, 
    {
     "cell_type": "markdown", 
     "metadata": {}, 
     "source": [
      "Et ainsi imprimer les racines troisi\u00e8mes de l'unit\u00e9 par la formule", 
      "", 
      "$r_n = e^{2i\\pi \\frac{n}{3}},$ pour $n\\in \\{0,1,2\\}$"
     ]
    }, 
    {
     "cell_type": "code", 
     "collapsed": false, 
     "input": [
      "n = 0", 
      "print \"n=\", n, \"racine = \", e**((2*pi*1j*n)/3)", 
      "n = 1", 
      "print \"n=\", n, \"racine = \", e**((2*pi*1j*n)/3)", 
      "n = 2", 
      "print \"n=\", n, \"racine = \", e**((2*pi*1j*n)/3)"
     ], 
     "language": "python", 
     "metadata": {}, 
     "outputs": [], 
     "prompt_number": null
    }, 
    {
     "cell_type": "markdown", 
     "metadata": {}, 
     "source": [
      "**Remarque:** bien entendu il sera possible de faire ceci plus simplement lorsque nous aurons vu les boucles `for`."
     ]
    }, 
    {
     "cell_type": "markdown", 
     "metadata": {}, 
     "source": [
      "### Attention aux types"
     ]
    }, 
    {
     "cell_type": "markdown", 
     "metadata": {}, 
     "source": [
      "Ce qui change par rapport \u00e0 une calculatrice standard est le fait que les valeurs sont typ\u00e9es (essentiellement, entier ou flottant). Il est important de bien suivre mentalement le type de l'op\u00e9ration."
     ]
    }, 
    {
     "cell_type": "code", 
     "collapsed": false, 
     "input": [
      "100 / 6"
     ], 
     "language": "python", 
     "metadata": {}, 
     "outputs": [], 
     "prompt_number": null
    }, 
    {
     "cell_type": "markdown", 
     "metadata": {}, 
     "source": [
      "Ici nous avions affaire \u00e0 deux entiers, la division `/` est alors une division *enti\u00e8re* (c'est-\u00e0-dire un quotient), alors que si l'une des valeurs est flottante comme ici"
     ]
    }, 
    {
     "cell_type": "code", 
     "collapsed": false, 
     "input": [
      "100. / 6"
     ], 
     "language": "python", 
     "metadata": {}, 
     "outputs": [], 
     "prompt_number": null
    }, 
    {
     "cell_type": "markdown", 
     "metadata": {}, 
     "source": [
      "alors python va faire une \"vraie\" division et retourner un r\u00e9sultat flottant."
     ]
    }, 
    {
     "cell_type": "markdown", 
     "metadata": {}, 
     "source": [
      "### Conversions"
     ]
    }, 
    {
     "cell_type": "markdown", 
     "metadata": {}, 
     "source": [
      "Comme on le voit, il peut \u00eatre n\u00e9cessaire de faire volontairement une conversion de type"
     ]
    }, 
    {
     "cell_type": "code", 
     "collapsed": false, 
     "input": [
      "a = 100", 
      "a / 6"
     ], 
     "language": "python", 
     "metadata": {}, 
     "outputs": [], 
     "prompt_number": null
    }, 
    {
     "cell_type": "markdown", 
     "metadata": {}, 
     "source": [
      "Comme dans ce cas on ne peut pas ajouter '.' \u00e0 l'expression `a` pour la transformer en flottant, on peut faire&nbsp;:"
     ]
    }, 
    {
     "cell_type": "code", 
     "collapsed": false, 
     "input": [
      "float(a) / 6"
     ], 
     "language": "python", 
     "metadata": {}, 
     "outputs": [], 
     "prompt_number": null
    }, 
    {
     "cell_type": "markdown", 
     "metadata": {}, 
     "source": [
      "De mani\u00e8re plus g\u00e9n\u00e9rale, pour convertir un objet en un entier, un flottant, ou un string, on peut simplement appeler une fonction built-in qui porte le m\u00eame nom que le type cible:", 
      "", 
      "<table>", 
      "<thead><tr><th>Type</th><th>Fonction</th></tr></thead>", 
      "<tbody>", 
      "<tr><td>Entier</td><td>`int`</td></tr>", 
      "<tr><td>Flottant</td><td>`float`</td></tr>", 
      "<tr><td>Complexe</td><td>`complex`</td></tr>", 
      "<tr><td>Cha\u00eene</td><td>`str`</td></tr>", 
      "</tbody>", 
      "</table>", 
      "", 
      "Ainsi dans l'exemple pr\u00e9c\u00e9dent, `float(a)` repr\u00e9sente la conversion de `a` en flottant, soit `100.`", 
      "", 
      "On a illustr\u00e9 cette m\u00eame technique dans les exemples suivants:"
     ]
    }, 
    {
     "cell_type": "code", 
     "collapsed": false, 
     "input": [
      "# imaginons que l'utilisateur a entr\u00e9 un entier en tapant '100'", 
      "chaine = '100'", 
      "", 
      "# on voudrait le mettre au carr\u00e9, mais ceci ne fonctionne pas:", 
      "try:", 
      "    chaine**2", 
      "except:", 
      "    print \"OOPS, une erreur se produit\""
     ], 
     "language": "python", 
     "metadata": {}, 
     "outputs": [], 
     "prompt_number": null
    }, 
    {
     "cell_type": "code", 
     "collapsed": false, 
     "input": [
      "# pour pouvoir faire des calculs, ", 
      "# il nous faut d'abord en faire un entier", 
      "entier = int(chaine)", 
      "print 'entier=', entier, 'de type', type(entier)", 
      "print \"au carr\u00e9\", entier**2", 
      "", 
      "# ou pour convertir la m\u00eame chaine en un nombre complexe", 
      "complexe = complex(chaine)", 
      "print \"converti en complexe\", complexe, \"de type\", type(complexe)"
     ], 
     "language": "python", 
     "metadata": {}, 
     "outputs": [], 
     "prompt_number": null
    }, 
    {
     "cell_type": "markdown", 
     "metadata": {}, 
     "source": [
      "### Entiers et bases"
     ]
    }, 
    {
     "cell_type": "markdown", 
     "metadata": {}, 
     "source": [
      "Les calculettes scientifiques permettent habituellement d'entrer les entiers dans d'autres bases que la base 10. ", 
      "", 
      "En python, on peut aussi entrer un entier sous forme binaire comme ceci"
     ]
    }, 
    {
     "cell_type": "code", 
     "collapsed": false, 
     "input": [
      "deux_cents = 0b11001000 ; print deux_cents"
     ], 
     "language": "python", 
     "metadata": {}, 
     "outputs": [], 
     "prompt_number": null
    }, 
    {
     "cell_type": "markdown", 
     "metadata": {}, 
     "source": [
      "Ou encore sous forme octale (en base 8) comme ceci"
     ]
    }, 
    {
     "cell_type": "code", 
     "collapsed": false, 
     "input": [
      "deux_cents = 0o310 ; print deux_cents"
     ], 
     "language": "python", 
     "metadata": {}, 
     "outputs": [], 
     "prompt_number": null
    }, 
    {
     "cell_type": "markdown", 
     "metadata": {}, 
     "source": [
      "Ou enfin encore en hexadecimal (base 16) comme ceci"
     ]
    }, 
    {
     "cell_type": "code", 
     "collapsed": false, 
     "input": [
      "deux_cents = 0xc8 ; print deux_cents"
     ], 
     "language": "python", 
     "metadata": {}, 
     "outputs": [], 
     "prompt_number": null
    }, 
    {
     "cell_type": "markdown", 
     "metadata": {}, 
     "source": [
      "Pour d'autres bases, on peut utiliser la fonction de conversion 'int' en lui passant un argument suppl\u00e9mentaire:"
     ]
    }, 
    {
     "cell_type": "code", 
     "collapsed": false, 
     "input": [
      "deux_cents = int('3020', 4) ; print deux_cents"
     ], 
     "language": "python", 
     "metadata": {}, 
     "outputs": [], 
     "prompt_number": null
    }, 
    {
     "cell_type": "markdown", 
     "metadata": {}, 
     "source": [
      "### Fonctions math\u00e9matiques"
     ]
    }, 
    {
     "cell_type": "markdown", 
     "metadata": {}, 
     "source": [
      "python fournit naturellement un ensemble tr\u00e8s complet d'op\u00e9rateurs math\u00e9matiques pour les fonctions exponentielles, trigonom\u00e9triques et autres, mais leur utilisation ne nous est pas encore accessible \u00e0 ce stade et nous les verrons ult\u00e9rieurement."
     ]
    }
   ], 
   "metadata": {}
  }
 ]
}
