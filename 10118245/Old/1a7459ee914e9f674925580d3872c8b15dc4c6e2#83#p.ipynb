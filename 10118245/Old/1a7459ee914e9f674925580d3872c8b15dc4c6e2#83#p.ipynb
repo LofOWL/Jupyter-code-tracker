{
 "metadata": {
  "notebookname": "Donn\u00e9es m\u00e9t\u00e9o",
  "signature": "49322b3145442263b0517e54114e42453e32fb36fe950f7447b5b9fc5b6764a7",
  "version": "1.0"
 },
 "nbformat": 3,
 "nbformat_minor": 0,
 "worksheets": [
  {
   "cells": [
    {
     "cell_type": "heading",
     "level": 1,
     "metadata": {},
     "source": [
      "Premiers pas avec des donn\u00e9es m\u00e9t\u00e9o"
     ]
    },
    {
     "cell_type": "heading",
     "level": 2,
     "metadata": {},
     "source": [
      "Exercice - niveau interm\u00e9diaire"
     ]
    },
    {
     "cell_type": "markdown",
     "metadata": {},
     "source": [
      "Nous allons \u00e0 pr\u00e9sent travailler avec des donn\u00e9es obtenues aupr\u00e8s de [OpenWeatherMap](https://openweathermap.desk.com) \u00e0 cette URL http://78.46.48.103/sample/daily_14.json.gz - en fait un sous-ensemble de celles-ci pour des raisons de taille.\n",
      "\n",
      "Nous verrons plus tard comment on aurait pu utiliser python pour nous procurer ces donn\u00e9es directement aupr\u00e8s de OpenWeatherMap, mais pour le moment contentons-nous d'utiliser une copie locale; vous avez d\u00e8s maintenant acc\u00e8s \u00e0 un fichier qui s'appelle `data/meteo_france.json`.\n",
      "\n",
      "Ici encore nous utilisont le module [module `json`](https://docs.python.org/2/library/json.html) pour charger ces donn\u00e9es en m\u00e9moire."
     ]
    },
    {
     "cell_type": "code",
     "collapsed": false,
     "input": [
      "# le module json\n",
      "import json\n",
      "\n",
      "# chargement des donn\u00e9es au format json\n",
      "with open('data/meteo_france.json') as feed:\n",
      "    raw_data = all_cities = json.load(feed)"
     ],
     "language": "python",
     "metadata": {},
     "outputs": []
    },
    {
     "cell_type": "code",
     "collapsed": false,
     "input": [
      "city=raw_data[0]\n",
      "import pprint\n",
      "pprint.pprint(city)"
     ],
     "language": "python",
     "metadata": {},
     "outputs": []
    },
    {
     "cell_type": "code",
     "collapsed": false,
     "input": [
      "print city.keys()"
     ],
     "language": "python",
     "metadata": {},
     "outputs": []
    },
    {
     "cell_type": "code",
     "collapsed": false,
     "input": [
      "city['time']"
     ],
     "language": "python",
     "metadata": {},
     "outputs": []
    },
    {
     "cell_type": "raw",
     "metadata": {},
     "source": []
    }
   ],
   "metadata": {}
  }
 ]
}