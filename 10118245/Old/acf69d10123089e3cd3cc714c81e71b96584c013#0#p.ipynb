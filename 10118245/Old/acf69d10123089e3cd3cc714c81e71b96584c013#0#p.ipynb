{
 "metadata": {
  "name": "",
  "notebookname": "NO HEADING 1 found",
  "signature": "sha256:cadc8baa5ba9967a17fe4b51c263a6f9b9a04e13e12c8b4acbc472cbd7fe866f",
  "version": "1.0"
 },
 "nbformat": 3,
 "nbformat_minor": 0,
 "worksheets": [
  {
   "cells": [
    {
     "cell_type": "heading",
     "level": 1,
     "metadata": {},
     "source": [
      "Up peu de lecture"
     ]
    },
    {
     "cell_type": "heading",
     "level": 2,
     "metadata": {},
     "source": [
      "Compl\u00e9ment - niveau basique"
     ]
    },
    {
     "cell_type": "heading",
     "level": 3,
     "metadata": {},
     "source": [
      "Le zen de python"
     ]
    },
    {
     "cell_type": "markdown",
     "metadata": {},
     "source": [
      "Vous pouvez lire le zen de python \u00e0 partir de python en important le module `this` comme ceci (n'oubliez pas d'\u00e9valuer cette cellule dans votre notebook)"
     ]
    },
    {
     "cell_type": "code",
     "collapsed": false,
     "input": [
      "import this"
     ],
     "language": "python",
     "metadata": {},
     "outputs": [],
     "prompt_number": 6
    },
    {
     "cell_type": "heading",
     "level": 3,
     "metadata": {},
     "source": [
      "Documentation"
     ]
    },
    {
     "cell_type": "markdown",
     "metadata": {},
     "source": [
      " * On peut commencer par citer l'[article de wikipedia sur python en fran\u00e7ais](http://fr.wikipedia.org/wiki/Python_%28langage%29)\n",
      "\n",
      " * Une documentation en fran\u00e7ais xxx\n",
      "\n",
      " * La [documentation originale](https://docs.python.org/2.7/) de python-2.7 - donc, en anglais - est un tr\u00e8s bon point d'entr\u00e9e lorsqu'on cherche un sujet particulier, mais (beaucoup) trop abondante pour \u00eatre lue d'un seul trait. Pour chercher de la documentation sur un module particulier: le plus simple est encore d'utiliser google - ou votre moteur de recherche favori - qui vous redirigera dans la grande majorit\u00e9 des cas vers la page qui va bien dans, pr\u00e9cis\u00e9ment, la documentation python."
     ]
    },
    {
     "cell_type": "heading",
     "level": 3,
     "metadata": {},
     "source": [
      "Historique"
     ]
    },
    {
     "cell_type": "markdown",
     "metadata": {},
     "source": [
      " * L'article de wikipedia Historique\n",
      "   * http://en.wikipedia.org/wiki/History_of_Python"
     ]
    },
    {
     "cell_type": "heading",
     "level": 3,
     "metadata": {},
     "source": [
      "Licence"
     ]
    },
    {
     "cell_type": "markdown",
     "metadata": {},
     "source": [
      "* La [licence d'utilisation est disponible ici](https://docs.python.org/2/license.html). Vous remarquerez qu'elle a \u00e9t\u00e9 modifi\u00e9e recemment pour la 2.7.8\n",
      "* La page de la [Python Software Foundation](https://www.python.org/psf/), qui est une entit\u00e9 l\u00e9gale similaire \u00e0 nos associations de 1901, \u00e0 but non lucratif; elle poss\u00e8de les droits sur le langage"
     ]
    },
    {
     "cell_type": "markdown",
     "metadata": {},
     "source": [
      " \n",
      " * \n",
      " * Discussion sur les choix de conception du langage\n",
      "   * http://python-history.blogspot.com\n",
      " * Fran\u00e7ais\n",
      "   * https://wiki.python.org/moin/FrenchLanguage\n",
      " * Le discours de Guido van Rossum \u00e0 PyCon 2014\n",
      "   * https://www.youtube.com/watch?v=EBRMq2Ioxsc\n",
      " * Le sketch des monty python d'o\u00f9 provient les termes `eggs`, `spam`et autres `beans` qu'on utilise facilement dans les exemples.\n",
      "   * https://www.youtube.com/watch?v=anwy2MPT5RE\n",
      "\n",
      "\n",
      "\n",
      "\n",
      "\n"
     ]
    },
    {
     "cell_type": "heading",
     "level": 3,
     "metadata": {},
     "source": [
      "The development process & PEPs"
     ]
    },
    {
     "cell_type": "markdown",
     "metadata": {},
     "source": [
      " * Comment les choix d'\u00e9volution sont propos\u00e9s et discut\u00e9s, au travers des PEP (Python Enhacement Proposal)\n",
      "   * http://en.wikipedia.org/wiki/Python_(programming_language)#Development\n",
      " * Le premier PEP d\u00e9crit en d\u00e9tail .. le cycle de vie des PEPs\n",
      "   * http://legacy.python.org/dev/peps/pep-0001/\n",
      " * L'index de tous les PEPs\n",
      "   * http://legacy.python.org/dev/peps/        "
     ]
    },
    {
     "cell_type": "code",
     "collapsed": false,
     "input": [],
     "language": "python",
     "metadata": {},
     "outputs": []
    }
   ],
   "metadata": {}
  }
 ]
}