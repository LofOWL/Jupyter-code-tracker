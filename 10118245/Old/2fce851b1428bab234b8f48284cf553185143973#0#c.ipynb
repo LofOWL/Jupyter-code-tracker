{
 "metadata": {
  "notebookname": "exercices sur if",
  "signature": "7cf27d1e2b8207b31e3253f882c9eea3bb4c1880ead7a7c26116a9ccabed90d4",
  "version": "1.0"
 },
 "nbformat": 3,
 "nbformat_minor": 0,
 "worksheets": [
  {
   "cells": [
    {
     "cell_type": "heading",
     "level": 1,
     "metadata": {},
     "source": [
      "L'instruction `if`"
     ]
    },
    {
     "cell_type": "heading",
     "level": 2,
     "metadata": {},
     "source": [
      "Exercice - niveau basique"
     ]
    },
    {
     "cell_type": "heading",
     "level": 3,
     "metadata": {},
     "source": [
      "R\u00e9partiteur (1)"
     ]
    },
    {
     "cell_type": "markdown",
     "metadata": {},
     "source": [
      "On vous demande d'\u00e9crire une fonction `dispatch1` qui prend en argument deux entiers `a` et `b` et qui renvoie selon les cas"
     ]
    },
    {
     "cell_type": "markdown",
     "metadata": {},
     "source": [
      "$\\begin{array}{c|c|c}\n",
      "\\ & a\\  pair & a\\ impair \\\\\n",
      "\\hline\n",
      "b\\ pair & a^2+b^2 & (a-1)*b\\\\\n",
      "\\hline\n",
      "b\\ impair & a*(b-1)& a^2-b^2\\\\\n",
      "\\end{array}\n",
      "$"
     ]
    },
    {
     "cell_type": "code",
     "collapsed": false,
     "input": [
      "def dispatch1 (a,b):\n",
      "    \"<votre_code>\""
     ],
     "language": "python",
     "metadata": {},
     "outputs": []
    },
    {
     "cell_type": "code",
     "collapsed": false,
     "input": [
      "# pour v\u00e9rifier votre code\n",
      "from corrections.w3_if import correction_dispatch1, dispatch1\n",
      "correction_dispatch1 (dispatch1)"
     ],
     "language": "python",
     "metadata": {},
     "outputs": []
    }
   ],
   "metadata": {}
  }
 ]
}