{
 "metadata": {
  "notebookname": "Pr\u00e9sentation du code",
  "signature": "8b9e2eb88fe2fa843ae2cad5bf1655db7956bb4236c798f6d7fc0d4676b3dee3",
  "version": "1.0"
 },
 "nbformat": 3,
 "nbformat_minor": 0,
 "worksheets": [
  {
   "cells": [
    {
     "cell_type": "heading",
     "level": 1,
     "metadata": {},
     "source": [
      "Bonnes pratiques de pr\u00e9sentation de code"
     ]
    },
    {
     "cell_type": "heading",
     "level": 2,
     "metadata": {},
     "source": [
      "Compl\u00e9ment - niveau basique"
     ]
    },
    {
     "cell_type": "heading",
     "level": 3,
     "metadata": {},
     "source": [
      "La PEP-008"
     ]
    },
    {
     "cell_type": "markdown",
     "metadata": {},
     "source": [
      "On trouve [dans la PEP-008 (en anglais)](http://legacy.python.org/dev/peps/pep-0008/) les conventions de codage qui s'appliquent \u00e0 toute la librairie standard, et qui sont certainement un bon point de d\u00e9part pour vous aider \u00e0 trouver le style de pr\u00e9sentation qui vous convient. \n",
      "\n",
      "Nous vous recommandons en particulier les sections sur\n",
      " * [l'indentation](http://legacy.python.org/dev/peps/pep-0008/#code-lay-out)\n",
      " * [les espaces](http://legacy.python.org/dev/peps/pep-0008/#whitespace-in-expressions-and-statements) \n",
      " * [les commentaires](http://legacy.python.org/dev/peps/pep-0008/#comments)\n",
      "\n"
     ]
    },
    {
     "cell_type": "heading",
     "level": 3,
     "metadata": {},
     "source": [
      "Un peu de lecture : le module `pprint`"
     ]
    },
    {
     "cell_type": "markdown",
     "metadata": {},
     "source": [
      "Voici par exemple le code du module `pprint` (comme PrettyPrint) de la librairie standard, que nous avons d\u00e9j\u00e0 rencontr\u00e9 et qui permet d'imprimer des donn\u00e9es. \n",
      "\n",
      "La fonction du module - le pretty printing - est \u00e9videmment accessoire ici, mais vous pouvez y voir illustr\u00e9\n",
      " * le *docstring* pour le module, jusqu'en ligne 35\n",
      " * les indentations, comme nous l'avons d\u00e9j\u00e0 mentionn\u00e9 sont \u00e0 4 espaces, et sans tabulation\n",
      " * l'utilisation des espaces, notamment autour des affectations et op\u00e9rateurs, des d\u00e9finitions de fonction, des appels de fonctions...\n",
      " * les lignes qui restent dans une largeur \"raisonnable\" (79 caract\u00e8res); vous pouvez voir notamment\n",
      " * la fa\u00e7on de couper les lignes pour respecter cette limite en largeur\n",
      " "
     ]
    },
    {
     "cell_type": "code",
     "collapsed": false,
     "input": [
      "from modtools import show_module_html\n",
      "import pprint\n",
      "show_module_html(pprint, lineno_width=3)"
     ],
     "language": "python",
     "metadata": {},
     "outputs": []
    },
    {
     "cell_type": "heading",
     "level": 3,
     "metadata": {},
     "source": [
      "Coupures de ligne"
     ]
    },
    {
     "cell_type": "markdown",
     "metadata": {},
     "source": [
      "Nous allons zoomer dans ce module pour voir quelques exemples de coupure de ligne.\n",
      "\n",
      "****"
     ]
    },
    {
     "cell_type": "heading",
     "level": 5,
     "metadata": {},
     "source": [
      "Coupure de ligne sans *backslash* (\\\\)"
     ]
    },
    {
     "cell_type": "code",
     "collapsed": false,
     "input": [
      "show_module_html(pprint, \n",
      "                 beg=\"def pprint\",\n",
      "                 end=\"def pformat\",\n",
      "                 lineno_width=3)"
     ],
     "language": "python",
     "metadata": {},
     "outputs": []
    },
    {
     "cell_type": "markdown",
     "metadata": {},
     "source": [
      "La fonction `pprint` (ligne ~55) est une commodit\u00e9 (qui cr\u00e9e une instance de `PrettyPrinter`, sur lequel on envoie la m\u00e9thode `pprint`).\n",
      "\n",
      "Vous voyez ici qu'il n'est pas n\u00e9cessaire d'ins\u00e9rer un backslash (`\\`) \u00e0 la fin de la ligne 57 car il y a une parenth\u00e8se ouvrante qui n'est pas ferm\u00e9e\n",
      "\n",
      "\n",
      "*****"
     ]
    },
    {
     "cell_type": "heading",
     "level": 5,
     "metadata": {},
     "source": [
      "Coupure de ligne avec *backslash* (\\\\)"
     ]
    },
    {
     "cell_type": "code",
     "collapsed": false,
     "input": [
      "show_module_html(pprint, \n",
      "                 beg=\"components), readable, recursive\", \n",
      "                 end=\"elif _len(object) \", \n",
      "                 lineno_width=3)"
     ],
     "language": "python",
     "metadata": {},
     "outputs": []
    },
    {
     "cell_type": "markdown",
     "metadata": {},
     "source": [
      "Dans ce fragment au contraire, vous voyez en ligne 290 qu'il a fallu cette fois ins\u00e9rer un *backslash* `\\` comme caract\u00e8re de continuation pour que l'instruction puisse se poursuive en ligne 291.\n",
      "\n",
      "****"
     ]
    },
    {
     "cell_type": "heading",
     "level": 2,
     "metadata": {},
     "source": [
      "Compl\u00e9ment - niveau interm\u00e9diaire"
     ]
    },
    {
     "cell_type": "heading",
     "level": 3,
     "metadata": {},
     "source": [
      "Les deux-points ':'"
     ]
    },
    {
     "cell_type": "markdown",
     "metadata": {},
     "source": [
      "Vous pouvez [vous reporter \u00e0 ce lien](https://docs.python.org/2/faq/design.html#why-are-colons-required-for-the-if-while-def-class-statements) si vous \u00eates int\u00e9ress\u00e9 par la question de savoir pourquoi on a choisi un d\u00e9limiteur (le caract\u00e8re deux-points `:`) pour terminer les instructions comme `if`, `for` et `def`."
     ]
    },
    {
     "cell_type": "heading",
     "level": 2,
     "metadata": {},
     "source": [
      "Compl\u00e9ment - niveau avanc\u00e9"
     ]
    },
    {
     "cell_type": "markdown",
     "metadata": {},
     "source": [
      "Signalons enfin, pour ceux qui sont int\u00e9ress\u00e9s par les conventions de codage, que tout ceci ne s'applique bien entendu qu'\u00e0 python. Pour quelques exemples qui s'appliqueraient au langage C, vous pouvez par curiosit\u00e9 voir le [CodingStyle pour le noyau linux](https://www.kernel.org/doc/Documentation/CodingStyle) , qui lui-m\u00eame fait r\u00e9f\u00e9rence - et pas en bien - aux [Gnu Coding Standards](http://www.gnu.org/prep/standards/standards.html). \n",
      "\n",
      "M\u00eame si le langage est diff\u00e9rent, le but des conventions de codage est toujours le m\u00eame, il s'agit d'am\u00e9liorer la lisibilit\u00e9, et il peut \u00eatre int\u00e9ressant de voir ce que Linus Torvalds a \u00e0 dire, dans le style qui est le sien, sur les indentations (le tout premier chapitre)."
     ]
    }
   ],
   "metadata": {}
  }
 ]
}