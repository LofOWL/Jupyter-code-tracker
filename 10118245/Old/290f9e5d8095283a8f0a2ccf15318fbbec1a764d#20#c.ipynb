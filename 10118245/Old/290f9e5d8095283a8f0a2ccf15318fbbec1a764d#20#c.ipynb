{
 "metadata": {
  "name": "Obtenir une r\u00e9ponse de l'utilisateur",
  "signature": "a90235db2da67a08fc218884bfa97c836c82cd5b076cc7e429437ff53dc1b401"
 },
 "nbformat": 3,
 "nbformat_minor": 0,
 "worksheets": [
  {
   "cells": [
    {
     "cell_type": "heading",
     "level": 1,
     "metadata": {},
     "source": [
      "Obtenir une r\u00e9ponse de l'utilisateur"
     ]
    },
    {
     "cell_type": "markdown",
     "metadata": {},
     "source": [
      "Occsionnellement il peut \u00eatre utile de poser une question \u00e0 l'utilisateur.\n",
      "\n",
      "Imaginez que vous avez \u00e9crit un programme qui calcule la hauteur des mar\u00e9es sur les c\u00f4tes fran\u00e7aises, mais pour \u00eatre utile il faut que l'utilisateur vous dise \u00e0 quelle date et en quel lieu il veut savoir la hauteur des mar\u00e9es."
     ]
    },
    {
     "cell_type": "heading",
     "level": 3,
     "metadata": {},
     "source": [
      "La fonction raw_input()"
     ]
    },
    {
     "cell_type": "markdown",
     "metadata": {},
     "source": [
      "C'est exactment le propos de la fonction `raw_input`. Par exemple"
     ]
    },
    {
     "cell_type": "code",
     "collapsed": false,
     "input": [
      "nom_ville = raw_input (\"entrez le nom de la ville \")\n",
      "print \"nom_ville\",nom_ville"
     ],
     "language": "python",
     "metadata": {},
     "outputs": []
    },
    {
     "cell_type": "markdown",
     "metadata": {},
     "source": [
      "Vous pouvez voir ici comment cette fonction est impl\u00e9ment\u00e9e dans un notebook. "
     ]
    },
    {
     "cell_type": "heading",
     "level": 3,
     "metadata": {},
     "source": [
      "Attention \u00e0 bien v\u00e9rifier/convertir"
     ]
    },
    {
     "cell_type": "markdown",
     "metadata": {},
     "source": [
      "Notez bien que `raw_input` renvoie une cha\u00eene; c'est assez \u00e9vident; mais il est tr\u00e8s facile de l'oublier et de passer cette cha\u00eene directement \u00e0 une fonction qui s'attend \u00e0 recevoir un entier, auquel cas les choses se passent mal."
     ]
    },
    {
     "cell_type": "heading",
     "level": 3,
     "metadata": {},
     "source": [
      "Utilitaire `readline`"
     ]
    },
    {
     "cell_type": "markdown",
     "metadata": {},
     "source": [
      "Signalons enfin qu'il est parfois utile d'associer \u00e0 `raw_input` le module `readline`, ainsi l'utilisateur peut utiliser les fl\u00eaches pour \u00e9diter sa r\u00e9ponse, comme ceci"
     ]
    },
    {
     "cell_type": "code",
     "collapsed": false,
     "input": [
      "import readline\n",
      "\n",
      "entree = range (3)\n",
      "for i in range (3):\n",
      "    entree[i] = int ( raw_input (\"entrez le nombre num\u00e9ro {} \".format(i)))\n",
      "print \"entree\",entree"
     ],
     "language": "python",
     "metadata": {},
     "outputs": []
    },
    {
     "cell_type": "heading",
     "level": 3,
     "metadata": {},
     "source": [
      "Interpr\u00e9teur python"
     ]
    },
    {
     "cell_type": "markdown",
     "metadata": {},
     "source": [
      "Nous vous conseillons d'essayer cette fonction avec l'interpr\u00e9teur python, qui doit alors vous poser la question \u00e0 l'int\u00e9rieur du terminal ou tourne python. Vous pourrez alors voir l'int\u00e9r\u00eat du module `readline`, qui n'est pas forc\u00e9ment visible lorsque `raw_input` est utilis\u00e9 depuis un notebook.\n",
      "\n",
      "Essentiellement, sans `readline` vous ne pouvez pas remonter dans l'historique, ou utiliser les fl\u00eaches pour revenir en arri\u00e8re."
     ]
    },
    {
     "cell_type": "heading",
     "level": 3,
     "metadata": {},
     "source": [
      "Limites"
     ]
    },
    {
     "cell_type": "markdown",
     "metadata": {},
     "source": [
      "En pratique on n'utilise pas ou tr\u00e8s peu cette fonction, car les applications \"r\u00e9elles\" viennent avec leur propre UI, et utilisent d'autres moyens que celui-ci, qui est on le voit tr\u00e8s rustique, pour interagir avec l'utilisateur.\n",
      "\n",
      "Toutefois cette fonction nous sera utile pour nos premiers pas en python."
     ]
    }
   ],
   "metadata": {}
  }
 ]
}