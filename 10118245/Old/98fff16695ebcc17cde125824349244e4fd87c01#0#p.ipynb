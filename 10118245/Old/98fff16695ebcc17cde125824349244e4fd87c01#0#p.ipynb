{
 "metadata": {
  "notebookname": "Disk usage",
  "signature": "sha256:bc12e924afe825ac122bfae727733d0fad4fbcd85779269fae1b3f4b04bcd763",
  "version": "1.0"
 },
 "nbformat": 3,
 "nbformat_minor": 0,
 "worksheets": [
  {
   "cells": [
    {
     "cell_type": "heading",
     "level": 1,
     "metadata": {},
     "source": [
      "Utilisation du disque dur"
     ]
    },
    {
     "cell_type": "heading",
     "level": 2,
     "metadata": {},
     "source": [
      "Mini-Projet"
     ]
    },
    {
     "cell_type": "heading",
     "level": 3,
     "metadata": {},
     "source": [
      "Introduction"
     ]
    },
    {
     "cell_type": "markdown",
     "metadata": {},
     "source": [
      "De temps en temps vous vous rendez compte que votre disque dur est plein ou que vous avez rempli votre quota.\n",
      "En application de la loi de Murphy, en g\u00e9n\u00e9ral c'est \u00e0 un mauvais moment; il est vrai qu'on a toujours mieux \u00e0 faire que de nettoyer un disque."
     ]
    },
    {
     "cell_type": "heading",
     "level": 3,
     "metadata": {},
     "source": [
      "Objectifs"
     ]
    },
    {
     "cell_type": "markdown",
     "metadata": {},
     "source": [
      "Dans ce mini-projet nous allons \u00e9crire un utilitaire permettant de nous aider dans ce genre de situations. Les objectifs que l'on pourrait avoir sont&nbsp;:\n",
      " * de trouver rapidement les gros r\u00e9pertoires, en partant d'une racine ou d'un r\u00e9pertoire utilisateur;\n",
      " * de stocker les donn\u00e9es de taille de fa\u00e7on \u00e0 ne pas avoir \u00e0 attendre plusieurs minutes \u00e0 recalculer sans cesse les tailles des diff\u00e9rents morceaux;\n",
      " * et notamment de pouvoir lancer toutes les nuits un scan silencieux, de fa\u00e7on \u00e0 avoir imm\u00e9diatement, dans la journ\u00e9e, acc\u00e8s \u00e0 des informations - m\u00eame approch\u00e9es - de nature \u00e0 identifier le ou les r\u00e9pertoires qui pose probl\u00e8me ou qui a un fort potentiel de lib\u00e9ration d'espace."
     ]
    },
    {
     "cell_type": "heading",
     "level": 3,
     "metadata": {},
     "source": [
      "Approche"
     ]
    },
    {
     "cell_type": "markdown",
     "metadata": {},
     "source": [
      "Pour cela on con\u00e7oit un syst\u00e8me simple qui fonctionne en deux passes&nbsp;:\n",
      " * une premi\u00e8re passe de type *batch* qui stocke dans chaque r\u00e9pertoire, dans un fichier sp\u00e9cial (nous avons utilis\u00e9 le nom `.du`) la taille totale de ce r\u00e9pertoire,\n",
      " * une seconde passe interactive, qui peut\n",
      "   * afficher les tailles des sous-r\u00e9pertoires tri\u00e9s, pr\u00e9cis\u00e9ment, par taille,\n",
      "   * naviguer dans les r\u00e9pertoires sur cette base,\n",
      "   * et proc\u00e9der au nettoyage proprement dit."
     ]
    },
    {
     "cell_type": "markdown",
     "metadata": {},
     "source": [
      "Aussi voici les choix que j'ai faits pour mon impl\u00e9mentation&nbsp;:\n",
      " * un seul module qui contient tout le programme, et qui s'appelle `diskusage.py`\n",
      " * par d\u00e9faut le programme ne lance que la seconde passe\n",
      " * on peut ne lancer que la premi\u00e8re passe avec l'option `-1`\n",
      " * ou les deux passes en s\u00e9quence avec l'option `--both`\n",
      " \n",
      "Voici l'aide en ligne\n",
      "\n",
      "***\n",
      "\n",
      "    $ diskusage.py --help\n",
      "    usage: diskusage.py [-h] [-1] [-b] [-v] dir\n",
      "    \n",
      "    positional arguments:\n",
      "      dir\n",
      "    \n",
      "    optional arguments:\n",
      "      -h, --help         show this help message and exit\n",
      "      -1, --pass1        Run pass1, that computes .du in all subdirs\n",
      "      -b, --both-passes  Run pass1, that computes .du in all subdirs, \n",
      "                         and then pass2 that is interactive\n",
      "      -v, --verbose      turn on verbose output\n",
      "      \n",
      "***      "
     ]
    },
    {
     "cell_type": "markdown",
     "metadata": {},
     "source": [
      "Vous reconnaissez sans doute l'utilisation \u00e0 nouveau de `ArgumentParser` import\u00e9 du module `argparse` pour la d\u00e9finition de la syntaxe d'appel de `diskusage.py`"
     ]
    },
    {
     "cell_type": "heading",
     "level": 3,
     "metadata": {},
     "source": [
      "Exemple d'utilisation"
     ]
    },
    {
     "cell_type": "markdown",
     "metadata": {},
     "source": [
      "Nous publions un directory de test pour vous permettre de v\u00e9rifier vos r\u00e9sultats, comme d'habitude\n",
      "dans les formats suivants&nbsp;:\n",
      " * [format tar](data/diskusage-spam.tar)\n",
      " * [format tgz](data/diskusage-spam.tgz)\n",
      " * [format zip](data/diskusage-spam.zip)\n",
      "\n",
      "qui donne une structure de fichiers telles que ceci&nbsp;:\n",
      "\n",
      "<img src=\"media/diskusage-spam.png\">"
     ]
    },
    {
     "cell_type": "heading",
     "level": 5,
     "metadata": {},
     "source": [
      "La premi\u00e8re passe"
     ]
    },
    {
     "cell_type": "markdown",
     "metadata": {},
     "source": [
      "Si j'installe cette structure sur mon propre disque, voici ce que j'obtiens&nbsp;:\n",
      "\n",
      "    % diskusage.py spam\n",
      "    Welcome to inspection of path spam\n",
      "    -------- Path spam has a total size of xxx 0 xxx\n",
      "    1    xxx 0 xxx   big\n",
      "    2    xxx 0 xxx   little\n",
      "    3    xxx 0 xxx   medium\n",
      "    4    xxx 0 xxx   small\n",
      "    Enter number (h for help) q\n",
      "    %"
     ]
    },
    {
     "cell_type": "markdown",
     "metadata": {},
     "source": [
      "Ce qui est 'normal' ou en tous cas attendu, car je n'ai pas lanc\u00e9 la premi\u00e8re passe:\n",
      "\n",
      "    % find spam -name .du\n",
      "    % diskusage.py -1 spam\n",
      "    % "
     ]
    },
    {
     "cell_type": "heading",
     "level": 5,
     "metadata": {},
     "source": [
      "La deuxi\u00e8me passe"
     ]
    },
    {
     "cell_type": "markdown",
     "metadata": {},
     "source": [
      "Maintenant si je recommence, l'outil me montre les directories tri\u00e9s par taille, le plus gros en dernier - parce que c'est sans doute celui qui m'int\u00e9resse le plus&nbsp;:\n",
      "\n",
      "    % diskusage.py spam\n",
      "    Welcome to inspection of path spam\n",
      "    -------- Path spam has a total size of 3.16 MiB\n",
      "    1     1.15 KiB   little\n",
      "    2   139.73 KiB   small\n",
      "    3     1.09 MiB   medium\n",
      "    4     1.93 MiB   big\n",
      "    Enter number (h for help)    "
     ]
    },
    {
     "cell_type": "markdown",
     "metadata": {},
     "source": [
      "\u00c0 ce stade-l\u00e0 je peux naviguer dans l'arbre en utilisant&nbsp;:"
     ]
    },
    {
     "cell_type": "markdown",
     "metadata": {},
     "source": [
      " * soit un nombre pour me d\u00e9placer dans l'arbre"
     ]
    },
    {
     "cell_type": "markdown",
     "metadata": {},
     "source": [
      "    Enter number (h for help) 2\n",
      "    -------- Path spam/small has a total size of 139.73 KiB\n",
      "    Enter number (h for help)"
     ]
    },
    {
     "cell_type": "markdown",
     "metadata": {},
     "source": [
      " * soit `u` ou `..` pour remonter"
     ]
    },
    {
     "cell_type": "markdown",
     "metadata": {},
     "source": [
      "    Enter number (h for help) u\n",
      "    -------- Path spam has a total size of 3.16 MiB\n",
      "    1     1.15 KiB   little\n",
      "    2   139.73 KiB   small\n",
      "    3     1.09 MiB   medium\n",
      "    4     1.93 MiB   big\n",
      "    Enter number (h for help) "
     ]
    },
    {
     "cell_type": "markdown",
     "metadata": {},
     "source": [
      " * soit '+' (ou une ligne vide) pour choisir le r\u00e9pertoire le plus gros"
     ]
    },
    {
     "cell_type": "markdown",
     "metadata": {},
     "source": [
      "     Enter number (h for help)\n",
      "    -------- Path spam/big has a total size of 1.93 MiB\n",
      "    1         68 B   empty\n",
      "    2     4.60 KiB   f\n",
      "    3   126.17 KiB   d\n",
      "    4   252.17 KiB   b\n",
      "    5   558.23 KiB   a\n",
      "    6  1008.17 KiB   c\n",
      "    Enter number (h for help)"
     ]
    },
    {
     "cell_type": "markdown",
     "metadata": {},
     "source": [
      " * soit `l` pour lister les **fichiers** (jusqu'ici la commande n'a list\u00e9 que des r\u00e9pertoires)"
     ]
    },
    {
     "cell_type": "markdown",
     "metadata": {},
     "source": [
      "     Enter number (h for help) l\n",
      "    ---- Plain files in spam/big\n",
      "    F          8 B   .du\n",
      "    F        576 B   zfile-01\n",
      "    F     1.12 KiB   zfile-02\n",
      "    F     2.25 KiB   zfile-03\n",
      "    F     4.50 KiB   zfile-04\n",
      "    F     6.00 KiB   .DS_Store\n",
      "    F        9 KiB   zfile-05\n",
      "    Enter number (h for help)"
     ]
    },
    {
     "cell_type": "markdown",
     "metadata": {},
     "source": [
      " * voici d'ailleurs l'aide en ligne"
     ]
    },
    {
     "cell_type": "markdown",
     "metadata": {},
     "source": [
      "    Enter number (h for help) h\n",
      "    num\tgo to listed directory\n",
      "    +\t(default) go to last (and thus biggest) directory\n",
      "    u\tgo one step up - can be also '0' or '..'\n",
      "    l\tlist files in the current directory\n",
      "    .\tcome again (stay in place)\n",
      "    !\tre-run pass1\n",
      "    v\ttoggle verbose on and off\n",
      "    q\tquit\n",
      "    h\tthis help"
     ]
    },
    {
     "cell_type": "heading",
     "level": 3,
     "metadata": {},
     "source": [
      "Que faut-il faire au juste ?"
     ]
    },
    {
     "cell_type": "markdown",
     "metadata": {},
     "source": [
      "Tout ce qui pr\u00e9c\u00e8de vous est donn\u00e9 \u00e0 titre purement indicatif, pour vous d\u00e9crire ce que fait l'impl\u00e9mentation qui sera donn\u00e9e comme corrig\u00e9 de cet exercice.\n",
      "\n",
      "Gardez bien pr\u00e9sent \u00e0 l'esprit toutefois qu'il ne s'agit pas d'une \u00e9valuation, aussi vous pouvez librement vous inspirer de cette impl\u00e9mentation. Dans l'\u00e9tat que je viens de d\u00e9crire, l'outil est passif (il ne permet pas de d\u00e9truire des fichiers), mais relativement exhaustif (vous pouvez voir toutes les tailles de tous les r\u00e9pertoires et de tous les fichiers). \u00c0 vous de choisir l'\u00e9tendue de ce que vous voulez faire.\n",
      "\n",
      "Une variante **plus simple** consisterait \u00e0 se contenter de ne montrer que les r\u00e9pertoires, puisqu'en g\u00e9n\u00e9ral une fois qu'on a isol\u00e9 le r\u00e9pertoire on peut utiliser un navigateur de fichiers plus classique.\n",
      "\n",
      "Une variante **plus compliqu\u00e9e** consisterait \u00e0 permettre des destructions de fichiers ou de r\u00e9pertoires nativement dans l'outil. Dans ce cas il serait bon de mettre \u00e0 jour les tailles enregistr\u00e9es dans les `.du`. \n",
      "\n",
      "De m\u00eame ma version incorpore un mode bavard (*verbose*); lorsqu'il est activ\u00e9 on peut montrer plus de d\u00e9tails sur le fonctionnement interne de l'outil, par exemple en imprimant une ligne \u00e0 chaque fois qu'on calcule vraiment la taille d'un r\u00e9pertoire - pour mieux comprendre ce qui se passe. Bien entendu pour commencer vous ne pr\u00e9voyez pas de mode bavard. \n",
      "\n",
      "De m\u00eame vous voyez dans l'aide en ligne quelques utilitaires suppl\u00e9mentaires, comme notamment `!` pour recalculer les tailles \u00e0 partir de l'\u00e9tat du disque. En principe, ajouter ce genre de features ne prend que quelques lignes de code, mais l\u00e0 encore c'est \u00e0 vous de voir.\n",
      "\n",
      "Enfin, le code \u00e9tant extr\u00eamement basique en termes d'utilisation de librairies, je vous propose si vous avez le temps d'essayer de faire fonctionner votre code aussi en python3 - c'est-\u00e0-dire, une fois que votre code fonctionne en python2, d'essayer de le modifier \u00e0 la marge pour obtenir un code unique qui fonctionne avec les deux versions. Pour cela attendez tout de m\u00eame d'avoir lu le compl\u00e9ment que nous consacrons \u00e0 ce sujet en Semaine 7."
     ]
    },
    {
     "cell_type": "heading",
     "level": 3,
     "metadata": {},
     "source": [
      "Quelques indices"
     ]
    },
    {
     "cell_type": "markdown",
     "metadata": {},
     "source": [
      "Une des difficult\u00e9s de cet exercice est de g\u00e9rer le fait que le syst\u00e8me est 'vivant' pendant la sesssion; aussi les donn\u00e9es cach\u00e9es dans les `.du` peuvent \u00eatre anciennes. Ces deux facteurs font qu'il se peut que certains r\u00e9pertoires ont un `.du` et pas d'autres. Ici j'ai adopt\u00e9 une strat\u00e9gie simple qui est de retourner une taille nulle (pour pouvoir tout de m\u00eame afficher le r\u00e9sultat de la somme) et de faire en sorte que l'impression d'une taille nulle attire l'oeil (voir le tout premier exemple ci-dessus).\n",
      "\n",
      "Notez aussi, pour ceux qui n'y sont pas habitu\u00e9s, qu'**un r\u00e9pertoire a une taille propre**. Du point de vue de l'utilisateur un r\u00e9pertoire ne contient 'rien' mais il faut de la place pour ranger les noms des fichiers. C'est en g\u00e9n\u00e9ral n\u00e9gligeable, mais avec un grand nombre de petits fichiers c'est mieux d'en tenir compte. \n",
      "\n",
      "Si vous voulez aborder l'exercice dans une optique 'niveau avanc\u00e9', vous pouvez vous arr\u00eater l\u00e0, et essayer d'impl\u00e9menter l'outil sans plus d'indications. "
     ]
    },
    {
     "cell_type": "heading",
     "level": 5,
     "metadata": {},
     "source": [
      "Librairies"
     ]
    },
    {
     "cell_type": "markdown",
     "metadata": {},
     "source": [
      "En termes de librairies tierces, c'est difficile de faire plus simple; mon impl\u00e9mentation utilise uniquement&nbsp;:\n",
      " * `os` et sp\u00e9cifiquement `os.walk`, `os.listdir`, \n",
      " * `os.path` et dans ce module `join`, `getsize`, `exists`, `isdir`, `isfile`, `dirname`,\n",
      " * et donc `argparse.ArgumentParser`."
     ]
    }
   ],
   "metadata": {}
  }
 ]
}