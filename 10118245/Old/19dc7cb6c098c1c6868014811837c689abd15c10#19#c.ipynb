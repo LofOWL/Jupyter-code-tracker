{
 "metadata": {
  "notebookname": "Une forme alternative du `if`",
  "signature": "401bdf1216521ecdce8a24a54e7a05bbbf3e73da96174cbfe5f043c9a38542f1",
  "version": "1.0"
 },
 "nbformat": 3,
 "nbformat_minor": 0,
 "worksheets": [
  {
   "cells": [
    {
     "cell_type": "heading",
     "level": 1,
     "metadata": {},
     "source": [
      "Une forme alternative du `if`"
     ]
    },
    {
     "cell_type": "heading",
     "level": 2,
     "metadata": {},
     "source": [
      "Compl\u00e9ment - niveau interm\u00e9diaire"
     ]
    },
    {
     "cell_type": "heading",
     "level": 3,
     "metadata": {},
     "source": [
      "Expressions et instructions"
     ]
    },
    {
     "cell_type": "markdown",
     "metadata": {},
     "source": [
      "M\u00eame si cela n'a pas \u00e9t\u00e9 \"sous-titr\u00e9\" jusqu'\u00e0 pr\u00e9sent, vous aurez peut-\u00eatre remarqu\u00e9 que les constructions python que nous avons vues jusqu'ici peuvent se ranger en deux familles. \n",
      "\n",
      "D'une part les **expressions** sont les fragments de code qui **retournent une valeur**; c'est le cas lorsqu'on invoque n'importe quel op\u00e9rateur num\u00e9rique ou pour les appels de fonctions.\n",
      "\n",
      "D'autre part les **instructions**; dans cette famille, jusqu'ici nous avons vu `print`, l'affectation, et `if`, et nous en verrons bien d'autres.\n",
      "\n",
      "La diff\u00e9rence essentielle est que les expressions peuvent \u00eatre combin\u00e9es entre elles pour faire des expressions arbitrairement grosses. Aussi si vous avez un doute pour savoir si vous avez affaire \u00e0 une expression ou \u00e0 une instruction, demandez vous si vous pourriez utiliser ce code **comme membre droit d'une affectation**. Si oui, vous avez une expression.\n",
      "    "
     ]
    },
    {
     "cell_type": "heading",
     "level": 3,
     "metadata": {},
     "source": [
      "`if` est une instruction"
     ]
    },
    {
     "cell_type": "markdown",
     "metadata": {},
     "source": [
      "La forme du `if` qui vous a \u00e9t\u00e9 pr\u00e9sent\u00e9e pendant la vid\u00e9o ne peut donc pas servir \u00e0 renvoyer une valeur. Nous allons voir ce que cela implique pour \u00e9crire quelque chose d'aussi simple que *\"affecter \u00e0 y la valeur 12 ou 35, selon que x est vrai ou non\"*."
     ]
    },
    {
     "cell_type": "markdown",
     "metadata": {},
     "source": [
      "En python donc, `if ` n'est pas une expression, donc on ne peut pas l'utiliser pour \u00e9crire quelque chose comme : "
     ]
    },
    {
     "cell_type": "raw",
     "metadata": {},
     "source": [
      "# ceci n'est pas du python\n",
      "y = ( if x : 12 ; else 35 )"
     ]
    },
    {
     "cell_type": "markdown",
     "metadata": {},
     "source": [
      "Avec les notions introduites jusqu'ici, il nous faudrait \u00e9crire ceci:"
     ]
    },
    {
     "cell_type": "code",
     "collapsed": false,
     "input": [
      "x = True\n",
      "if x:\n",
      "    y = 12\n",
      "else:\n",
      "    y = 35\n",
      "print y"
     ],
     "language": "python",
     "metadata": {},
     "outputs": []
    },
    {
     "cell_type": "heading",
     "level": 3,
     "metadata": {},
     "source": [
      "Expression conditionnelle"
     ]
    },
    {
     "cell_type": "markdown",
     "metadata": {},
     "source": [
      "On trouve dans de nombreux langages l'\u00e9valuation conditionnelle comme une expression; par exemple en C, pour ceux qui connaissent, avec la forme\n",
      "\n",
      "    y = ( x ? 12 : 35 ) /* version C */\n",
      "    \n",
      "Aussi, avec la version 2.5 de python a \u00e9t\u00e9 introduite la forme dite d'expression conditionnelle, qui est une **expression \u00e0 part enti\u00e8re**, avec la syntaxe\n",
      "\n",
      "    <si_vrai> if <condition> else <si_faux> # version python\n",
      "    \n",
      "Ainsi on pourrait \u00e9crire l'exemple ci-dessus de mani\u00e8re plus simple et plus concise comme ceci"
     ]
    },
    {
     "cell_type": "code",
     "collapsed": false,
     "input": [
      "y = 12 if x else 35\n",
      "print y"
     ],
     "language": "python",
     "metadata": {},
     "outputs": []
    },
    {
     "cell_type": "markdown",
     "metadata": {},
     "source": [
      "Nous aurons l'occasion de voir de nombreux exemples o\u00f9 cette construction rend le style de programmation plus fonctionnel et plus fluide."
     ]
    },
    {
     "cell_type": "heading",
     "level": 3,
     "metadata": {},
     "source": [
      "Pour en savoir plus"
     ]
    },
    {
     "cell_type": "markdown",
     "metadata": {},
     "source": [
      "La section sur les [Expressions conditionnelles](https://docs.python.org/2/reference/expressions.html#conditional-expressions) de la documentation python\n",
      "\n",
      "Le [PEP308](http://legacy.python.org/dev/peps/pep-0308/) qui r\u00e9sume les discussions ayant donn\u00e9 lieu au choix de la syntaxe adopt\u00e9e\n",
      "\n",
      "De mani\u00e8re g\u00e9n\u00e9rale, les PEP rassembles les discussions pr\u00e9alables \u00e0 toutes les \u00e9volutions majeures du langage python."
     ]
    }
   ],
   "metadata": {}
  }
 ]
}