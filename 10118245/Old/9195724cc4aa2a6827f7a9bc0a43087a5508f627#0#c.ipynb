{
 "metadata": {
  "notebookname": "Iterateurs et performances",
  "signature": "06d64aa96086518626a82b67b1c98a80aa2b2d8b437e94bd3364bfd9fa7be4fd",
  "version": "1.0"
 },
 "nbformat": 3,
 "nbformat_minor": 0,
 "worksheets": [
  {
   "cells": [
    {
     "cell_type": "heading",
     "level": 1,
     "metadata": {},
     "source": [
      "It\u00e9rateur et performances"
     ]
    },
    {
     "cell_type": "heading",
     "level": 2,
     "metadata": {},
     "source": [
      "Compl\u00e9ment - niveau basique"
     ]
    },
    {
     "cell_type": "markdown",
     "metadata": {},
     "source": [
      "Dans ce compl\u00e9ment nous allons voir pourquoi il est bien souvent pref\u00e9rable d'utiliser un it\u00e9rateur comme sujet d'une boucle `for`, plut\u00f4t que d'it\u00e9rer sur une \u00e9num\u00e9ration explicite comme une liste."
     ]
    },
    {
     "cell_type": "heading",
     "level": 3,
     "metadata": {},
     "source": [
      "Digression sur le module `time`"
     ]
    },
    {
     "cell_type": "markdown",
     "metadata": {},
     "source": [
      "Dans ce compl\u00e9ment nous allons faire un peu de mesures de temps d'ex\u00e9cutution et pour cela nous allons utiliser [le module `time`](https://docs.python.org/2/library/time.html).\n",
      "\n",
      "En fait nous n'aurons besoin que d'une seule des fonctions du module, qui retourne l'horloge interne en secondes:"
     ]
    },
    {
     "cell_type": "code",
     "collapsed": false,
     "input": [
      "import time\n",
      "print time.time()"
     ],
     "language": "python",
     "metadata": {},
     "outputs": []
    },
    {
     "cell_type": "markdown",
     "metadata": {},
     "source": [
      "Pour les curieux ce nombre correspond au nombre de secondes \u00e9coul\u00e9es depuis le 1$^{er}$ Janvier 1970.\n",
      "\n",
      "Le point important ici est que pour savoir combien de temps prend une op\u00e9ration on peut faire quelque chose comme"
     ]
    },
    {
     "cell_type": "code",
     "collapsed": false,
     "input": [
      "from time import time, sleep\n",
      "# on enregistre l'heure au d\u00e9but \n",
      "debut = time()\n",
      "# uniquement pour illustrer notre m\u00e9thode de mesure, \n",
      "# nous utilisons time.sleep, qui attend \u00e0 ne rien faire pendant la dur\u00e9e indiqu\u00e9e\n",
      "sleep (0.8)\n",
      "# on enregistre l'heure \u00e0 la fin\n",
      "fin = time()\n",
      "# si tout ce passe bien, la dur\u00e9e observ\u00e9e: fin-debut\n",
      "# doit nous donner un tout petit peu plus que 0.8 seconde\n",
      "print \"Dur\u00e9e observ\u00e9e pour sleep {}s\".format(fin-debut)"
     ],
     "language": "python",
     "metadata": {},
     "outputs": []
    },
    {
     "cell_type": "heading",
     "level": 3,
     "metadata": {},
     "source": [
      "Calculs non-instantan\u00e9s dans un notebook"
     ]
    },
    {
     "cell_type": "markdown",
     "metadata": {},
     "source": [
      "Vous remarquerez d'ailleurs que pendant le temps du `sleep`, le nombre en face du label `In[]` est remplac\u00e9 par une \u00e9toile, qui indique que votre interpr\u00e9teur python est occup\u00e9.\n",
      "\n",
      "Si en manipulant vous lancez par erreur un calcul trop long, l'interpr\u00e9teur reste occup\u00e9 jusqu'\u00e0 en avoir fini avec ce calcul, et ne pourra donc pas jusque l\u00e0 \u00e9valuer d'autres cellules. Pensez dans ce cas \u00e0 faire dans votre notebook *Kernel* -> *Restart* pour red\u00e9marrer votre interpr\u00e9teur."
     ]
    },
    {
     "cell_type": "heading",
     "level": 3,
     "metadata": {},
     "source": [
      "`range` *vs* `xrange`"
     ]
    },
    {
     "cell_type": "markdown",
     "metadata": {},
     "source": [
      "Reprenons notre comparaison entre boucles `for` sur liste et sur it\u00e9rateur. Pour cela, commen\u00e7ons par un cas tr\u00e8s simple. Nous avons vu d\u00e9j\u00e0 \u00e0 de nombreuses reprises la fonction `range`. Il existe \u00e9galement une fonction `xrange` qui renvoie un **it\u00e9rateur** \u00e9quivalent, et non pas une liste:"
     ]
    },
    {
     "cell_type": "code",
     "collapsed": false,
     "input": [
      "for i in range (3):\n",
      "    print 'range',i\n",
      "\n",
      "for i in xrange (3):\n",
      "    print 'xrange',i    "
     ],
     "language": "python",
     "metadata": {},
     "outputs": []
    },
    {
     "cell_type": "heading",
     "level": 3,
     "metadata": {},
     "source": [
      "Quelle diff\u00e9rence alors ?"
     ]
    },
    {
     "cell_type": "markdown",
     "metadata": {},
     "source": [
      "Imaginez maintenant qu'au lieu de 3 \u00e9l\u00e9ments on en ait beaucoup plus; nous allons exp\u00e9rimenter avec plusieurs tailles"
     ]
    },
    {
     "cell_type": "code",
     "collapsed": false,
     "input": [
      "tailles = [ 10**7, 5*10**7, 10**8, 10**9]"
     ],
     "language": "python",
     "metadata": {},
     "outputs": []
    },
    {
     "cell_type": "markdown",
     "metadata": {},
     "source": [
      "Voyons le temps que prend uniquement la **construction** d'une grosse liste."
     ]
    },
    {
     "cell_type": "code",
     "collapsed": false,
     "input": [
      "import time\n",
      "\n",
      "for taille in tailles:\n",
      "    beg=time.time()\n",
      "    liste=range(10**7)\n",
      "    end=time.time()\n",
      "    print \"Cr\u00e9ation de la liste de taille {}: {}s\".format(taille,end-beg)"
     ],
     "language": "python",
     "metadata": {},
     "outputs": []
    },
    {
     "cell_type": "markdown",
     "metadata": {},
     "source": [
      "Si maintenant on construit un it\u00e9rateur \u00e9quivalent on mesure un temps beaucoup plus court"
     ]
    },
    {
     "cell_type": "code",
     "collapsed": false,
     "input": [
      "import time\n",
      "\n",
      "for taille in tailles:\n",
      "    beg=time.time()\n",
      "    iterateur=xrange(10**7)\n",
      "    end=time.time()\n",
      "    print \"Cr\u00e9ation de l'it\u00e9rateur de taille {}: {}s\".format(taille,end-beg)"
     ],
     "language": "python",
     "metadata": {},
     "outputs": []
    }
   ],
   "metadata": {}
  }
 ]
}