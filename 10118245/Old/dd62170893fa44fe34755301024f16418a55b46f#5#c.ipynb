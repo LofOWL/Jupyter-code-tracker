{
 "metadata": {
  "notebookname": "#!/usr/bin/env python",
  "signature": "sha256:88600150f5644ddd833ae11fbe5911364502fd24605bd5841d9c1135ce052148",
  "version": "2.0"
 },
 "nbformat": 3,
 "nbformat_minor": 0,
 "worksheets": [
  {
   "cells": [
    {
     "cell_type": "heading",
     "level": 1,
     "metadata": {},
     "source": [
      "La ligne *shebang*"
     ]
    },
    {
     "cell_type": "markdown",
     "metadata": {},
     "source": [
      "    #!/usr/bin/env python"
     ]
    },
    {
     "cell_type": "heading",
     "level": 2,
     "metadata": {},
     "source": [
      "Compl\u00e9ment - niveau avanc\u00e9"
     ]
    },
    {
     "cell_type": "markdown",
     "metadata": {},
     "source": [
      "Ce compl\u00e9ment est uniquement valable pour MacOS et linux"
     ]
    },
    {
     "cell_type": "heading",
     "level": 3,
     "metadata": {},
     "source": [
      "Le besoin"
     ]
    },
    {
     "cell_type": "markdown",
     "metadata": {},
     "source": [
      "Nous avons vu dans la vid\u00e9o que pour lancer un programme python on fait essentiellement depuis le terminal"
     ]
    },
    {
     "cell_type": "markdown",
     "metadata": {},
     "source": [
      "    $ python mon_module.py"
     ]
    },
    {
     "cell_type": "markdown",
     "metadata": {},
     "source": [
      "Lorsqu'il s'agit d'un programme qu'on utilise fr\u00e9quemment, on n'est pas forc\u00e9ment dans le m\u00eame r\u00e9pertoire que l\u00e0 o\u00f9 se trouve le programme python, aussi dans ce cas on peut utiliser un chemin \"absolu\", c'est-\u00e0-dire \u00e0 partir de la racine des noms de fichiers, comme par exemple"
     ]
    },
    {
     "cell_type": "markdown",
     "metadata": {},
     "source": [
      "    $ python /le/chemin/jusqu/a/mon_module.py"
     ]
    },
    {
     "cell_type": "markdown",
     "metadata": {},
     "source": [
      "Sauf que si effectivement on utilise cela souvent, c'est tr\u00e8s malcommode de devoir s'y prendre de cette fa\u00e7on"
     ]
    },
    {
     "cell_type": "heading",
     "level": 3,
     "metadata": {},
     "source": [
      "La solution"
     ]
    },
    {
     "cell_type": "markdown",
     "metadata": {},
     "source": [
      "Sur linux et MacOS, il existe une astuce utile pour simplifier cela. Voyons comment s'y prendre, avec par exemple le programme `fibonacci.py` que vous pouvez [t\u00e9l\u00e9charger ici](data/fibonacci.py) (nous verrons ce code en d\u00e9tail dans les deux prochains compl\u00e9ments). Commencez par sauver ce code sur votre ordinateur dans un fichier qui s'appelle, bien entendu, `fibonacci.py`."
     ]
    },
    {
     "cell_type": "markdown",
     "metadata": {},
     "source": [
      "On commence par \u00e9diter le tout d\u00e9but du fichier pour lui ajouter une **premi\u00e8re ligne**; il faut faire attention que la ligne contenant le **coding:** soit bien en deuxi\u00e8me position:"
     ]
    },
    {
     "cell_type": "markdown",
     "metadata": {},
     "source": [
      "    #!/usr/bin/env python\n",
      "    # coding: utf-8\n",
      "    \n",
      "    ## La suite de Fibonacci (Suite)\n",
      "    ...etc..."
     ]
    },
    {
     "cell_type": "markdown",
     "metadata": {},
     "source": [
      "Cette premi\u00e8re ligne s'appelle un [Shebang](http://en.wikipedia.org/wiki/Shebang_%28Unix%29) dans le jargon Unix. Unix stipule que le Shebang doit \u00eatre en **premi\u00e8re position** dans le fichier. C'est d'ailleurs pourquoi, on l'a vu pr\u00e9c\u00e9demment au sujet des caract\u00e8res accentu\u00e9s, la ligne d\u00e9crivant l'encodage avec `coding:` peut \u00eatre mise dans un fichier python en premi\u00e8re **ou deuxi\u00e8me** position dans le fichier."
     ]
    },
    {
     "cell_type": "markdown",
     "metadata": {},
     "source": [
      "Ensuite on rajoute au fichier, depuis le terminal, le caract\u00e8re ex\u00e9cutable comme ceci:"
     ]
    },
    {
     "cell_type": "markdown",
     "metadata": {},
     "source": [
      "    $ pwd\n",
      "    /le/chemin/jusqu/a/"
     ]
    },
    {
     "cell_type": "markdown",
     "metadata": {},
     "source": [
      "    $ chmod +x fibonacci.py"
     ]
    },
    {
     "cell_type": "markdown",
     "metadata": {},
     "source": [
      "\u00c0 partir de l\u00e0 vous pouvez utiliser le fichier `fibonacci.py` comme une commande, sans avoir \u00e0 mentionner `python`, qui sera invoqu\u00e9 au travers du shebang."
     ]
    },
    {
     "cell_type": "markdown",
     "metadata": {},
     "source": [
      "    $ /le/chemin/jusqu/a/fibonacci.py 20\n",
      "    fibonacci(20) = 10946"
     ]
    },
    {
     "cell_type": "markdown",
     "metadata": {},
     "source": [
      "Et donc vous pouvez aussi le d\u00e9placer dans un r\u00e9pertoire qui est dans votre variable `PATH`, et le rendre ainsi accessible depuis n'importe quel r\u00e9pertoire en faisant simplement"
     ]
    },
    {
     "cell_type": "markdown",
     "metadata": {},
     "source": [
      "    $ cd /tmp"
     ]
    },
    {
     "cell_type": "markdown",
     "metadata": {},
     "source": [
      "    $ fibonacci.py 20\n",
      "    fibonacci(20) = 10946"
     ]
    },
    {
     "cell_type": "markdown",
     "metadata": {},
     "source": [
      "**Remarque** tout ceci fonctionne tr\u00e8s bien tant que votre point d'entr\u00e9e - ici `fibonacci.py` - n'utilise que des modules standard. Dans le cas o\u00f9 le point d'entr\u00e9e vient avec au moins un module, il est \u00e9galement n\u00e9cessaire d'installer ces modules quelque part, et d'indiquer au point d'entr\u00e9e comment les trouver, nous y reviendrons avec la vid\u00e9o sur les modules."
     ]
    }
   ],
   "metadata": {}
  }
 ]
}