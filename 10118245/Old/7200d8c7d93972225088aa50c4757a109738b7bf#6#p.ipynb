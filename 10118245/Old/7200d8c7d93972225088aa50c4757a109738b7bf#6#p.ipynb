{
 "cells": [
  {
   "cell_type": "markdown",
   "metadata": {},
   "source": [
    "<span style=\"float:left;\">Licence CC BY-NC-ND</span><span style=\"float:right;\">Thierry Parmentelat &amp; Arnaud Legout&nbsp;<img src=\"media/inria-25-alpha.png\" style=\"display:inline\"></span><br/>"
   ]
  },
  {
   "cell_type": "markdown",
   "metadata": {
    "slideshow": {
     "slide_type": "slide"
    }
   },
   "source": [
    "# Écueils classiques"
   ]
  },
  {
   "cell_type": "code",
   "execution_count": null,
   "metadata": {
    "collapsed": true
   },
   "outputs": [],
   "source": [
    "import asyncio"
   ]
  },
  {
   "cell_type": "markdown",
   "metadata": {
    "slideshow": {
     "slide_type": "slide"
    }
   },
   "source": [
    "## Écueil #1 :  fonction coroutine *vs* coroutine"
   ]
  },
  {
   "cell_type": "code",
   "execution_count": null,
   "metadata": {
    "cell_style": "split",
    "collapsed": true
   },
   "outputs": [],
   "source": [
    "# une fonction coroutine\n",
    "async def foo(delay):\n",
    "    await asyncio.sleep(1)\n",
    "    print(\"foo\")"
   ]
  },
  {
   "cell_type": "code",
   "execution_count": null,
   "metadata": {
    "cell_style": "split"
   },
   "outputs": [],
   "source": [
    "# renvoie un objet coroutine\n",
    "# si on l'appelle normalement\n",
    "# il ne se passe rien\n",
    "foo(4)"
   ]
  },
  {
   "cell_type": "code",
   "execution_count": null,
   "metadata": {
    "cell_style": "split",
    "collapsed": true,
    "slideshow": {
     "slide_type": "fragment"
    }
   },
   "outputs": [],
   "source": [
    "# c'est exactement comme \n",
    "# une fonction génératrice\n",
    "def squares(n):\n",
    "    for i in range(n):\n",
    "        print(i)\n",
    "        yield i**2"
   ]
  },
  {
   "cell_type": "code",
   "execution_count": null,
   "metadata": {
    "cell_style": "split"
   },
   "outputs": [],
   "source": [
    "# qui retourne un\n",
    "# itérateur, et là encore\n",
    "# il ne se passe rien\n",
    "squares(4)"
   ]
  },
  {
   "cell_type": "markdown",
   "metadata": {
    "slideshow": {
     "slide_type": "slide"
    }
   },
   "source": [
    "### tous les scénarios"
   ]
  },
  {
   "cell_type": "code",
   "execution_count": null,
   "metadata": {
    "cell_style": "split",
    "collapsed": true
   },
   "outputs": [],
   "source": [
    "def synchro():\n",
    "    pass"
   ]
  },
  {
   "cell_type": "code",
   "execution_count": null,
   "metadata": {
    "cell_style": "split",
    "collapsed": true
   },
   "outputs": [],
   "source": [
    "async def asynchro():\n",
    "    pass"
   ]
  },
  {
   "cell_type": "code",
   "execution_count": null,
   "metadata": {
    "cell_style": "split",
    "slideshow": {
     "slide_type": "fragment"
    }
   },
   "outputs": [],
   "source": [
    "def foo(): \n",
    "    synchro()        # 1 # OK\n",
    "    asynchro()       # 2 # ** ATTENTION **\n",
    "    await synchro()  # 3 # SyntaxError\n",
    "    await asynchro   # 4 # SyntaxError"
   ]
  },
  {
   "cell_type": "code",
   "execution_count": null,
   "metadata": {
    "cell_style": "split",
    "collapsed": true,
    "slideshow": {
     "slide_type": "fragment"
    }
   },
   "outputs": [],
   "source": [
    "async def afoo():\n",
    "    synchro()        # 5 # OK\n",
    "    await asynchro() # 6 # OK\n",
    "    asynchro()       # 7 # ** ATTENTION **\n",
    "    await synchro()  # 8 # ** ATTENTION **"
   ]
  },
  {
   "cell_type": "markdown",
   "metadata": {
    "slideshow": {
     "slide_type": "slide"
    }
   },
   "source": [
    "### cas n°2"
   ]
  },
  {
   "cell_type": "markdown",
   "metadata": {
    "cell_style": "split"
   },
   "source": [
    "* une fonction appelle une coroutine sans `await`\n",
    "* ➠ avertissement "
   ]
  },
  {
   "cell_type": "code",
   "execution_count": null,
   "metadata": {
    "cell_style": "split"
   },
   "outputs": [],
   "source": [
    "!cat calls2.py"
   ]
  },
  {
   "cell_type": "code",
   "execution_count": null,
   "metadata": {},
   "outputs": [],
   "source": [
    "!python calls2.py"
   ]
  },
  {
   "cell_type": "markdown",
   "metadata": {
    "slideshow": {
     "slide_type": "slide"
    }
   },
   "source": [
    "### cas n°7"
   ]
  },
  {
   "cell_type": "markdown",
   "metadata": {
    "cell_style": "split"
   },
   "source": [
    "* une coroutine appelle une autre coroutine sans `await`\n",
    "* idem : avertissement"
   ]
  },
  {
   "cell_type": "code",
   "execution_count": null,
   "metadata": {
    "cell_style": "split"
   },
   "outputs": [],
   "source": [
    "# avec until_complete\n",
    "!cat calls7.py"
   ]
  },
  {
   "cell_type": "code",
   "execution_count": null,
   "metadata": {
    "cell_style": "center",
    "slideshow": {}
   },
   "outputs": [],
   "source": [
    "!python calls7.py"
   ]
  },
  {
   "cell_type": "markdown",
   "metadata": {
    "cell_style": "center",
    "slideshow": {
     "slide_type": "slide"
    }
   },
   "source": [
    "# Cas n°8"
   ]
  },
  {
   "cell_type": "code",
   "execution_count": null,
   "metadata": {
    "collapsed": true
   },
   "outputs": [],
   "source": [
    "async def asynchro():\n",
    "    await synchro()"
   ]
  },
  {
   "cell_type": "markdown",
   "metadata": {
    "cell_style": "center",
    "slideshow": {
     "slide_type": "fragment"
    }
   },
   "source": [
    "##### Protocole awaitable"
   ]
  },
  {
   "cell_type": "markdown",
   "metadata": {
    "cell_style": "center"
   },
   "source": [
    "| Instruction | classe d'objets  | protocole | exemple | \n",
    "|-------------|------------------|-----------|---------|\n",
    "|   `for`     |   itérables      |  `__iter__` | liste, ensemble |\n",
    "|   `with`    | context managers | `__enter__` & `__exit__` | fichier |\n",
    "|   `await`   |   awaitables     | `__await__` | objet coroutine |\n"
   ]
  },
  {
   "cell_type": "code",
   "execution_count": null,
   "metadata": {
    "collapsed": true,
    "slideshow": {
     "slide_type": "slide"
    }
   },
   "outputs": [],
   "source": [
    "async def asynchro():\n",
    "    await synchro()"
   ]
  },
  {
   "cell_type": "markdown",
   "metadata": {
    "slideshow": {
     "slide_type": "-"
    }
   },
   "source": [
    "* ***peut*** être légitime - si `synchro()` retourne un awaitable\n",
    "\n",
    "* mais en général, c'est suspect !"
   ]
  },
  {
   "cell_type": "code",
   "execution_count": null,
   "metadata": {
    "slideshow": {
     "slide_type": "slide"
    }
   },
   "outputs": [],
   "source": [
    "import inspect\n",
    "inspect.iscoroutinefunction(synchro)"
   ]
  },
  {
   "cell_type": "code",
   "execution_count": null,
   "metadata": {},
   "outputs": [],
   "source": [
    "inspect.iscoroutinefunction(asynchro)"
   ]
  },
  {
   "cell_type": "markdown",
   "metadata": {
    "slideshow": {
     "slide_type": "slide"
    }
   },
   "source": [
    "## Écueil #2 : code trop bloquant"
   ]
  },
  {
   "cell_type": "code",
   "execution_count": null,
   "metadata": {
    "cell_style": "split",
    "collapsed": true
   },
   "outputs": [],
   "source": [
    "async def countdown(n, period):\n",
    "    while n >= 0:\n",
    "        print('.', end='', flush=True)\n",
    "        await asyncio.sleep(period)\n",
    "        n -= 1"
   ]
  },
  {
   "cell_type": "code",
   "execution_count": null,
   "metadata": {
    "cell_style": "split",
    "collapsed": true
   },
   "outputs": [],
   "source": [
    "import time\n",
    "async def compute(n, period):\n",
    "    for i in range(n):\n",
    "        # on simule un calcul\n",
    "        time.sleep(period)\n",
    "        print('x', end='', flush=True)"
   ]
  },
  {
   "cell_type": "code",
   "execution_count": null,
   "metadata": {},
   "outputs": [],
   "source": [
    "from asynchelpers import reset_loop\n",
    "reset_loop()\n",
    "asyncio.get_event_loop().run_until_complete(\n",
    "    asyncio.gather(countdown(20, .05), compute(20, .05)))"
   ]
  },
  {
   "cell_type": "markdown",
   "metadata": {
    "slideshow": {
     "slide_type": "slide"
    }
   },
   "source": [
    "# Faites respirer votre code"
   ]
  },
  {
   "cell_type": "code",
   "execution_count": null,
   "metadata": {
    "cell_style": "split",
    "collapsed": true
   },
   "outputs": [],
   "source": [
    "async def countdown(n, period):\n",
    "    while n >= 0:\n",
    "        #print(f\"tick{n}\")\n",
    "        print('.', end='', flush=True)\n",
    "        await asyncio.sleep(period)\n",
    "        n -= 1"
   ]
  },
  {
   "cell_type": "code",
   "execution_count": null,
   "metadata": {
    "cell_style": "split",
    "collapsed": true
   },
   "outputs": [],
   "source": [
    "import time\n",
    "async def compute(wait, n, period):\n",
    "    await asyncio.sleep(wait)\n",
    "    for i in range(n):\n",
    "        # on simule un calcul\n",
    "        time.sleep(period)\n",
    "        print('x', end='', flush=True)\n",
    "        # await None n'est pas valide\n",
    "        await asyncio.sleep(0)"
   ]
  },
  {
   "cell_type": "code",
   "execution_count": null,
   "metadata": {},
   "outputs": [],
   "source": [
    "reset_loop()\n",
    "asyncio.get_event_loop().run_until_complete(\n",
    "    asyncio.gather(countdown(20, .05), compute(.1, 20, .05)))"
   ]
  },
  {
   "cell_type": "markdown",
   "metadata": {
    "slideshow": {
     "slide_type": "slide"
    }
   },
   "source": [
    "# Vidéo # 2"
   ]
  },
  {
   "cell_type": "markdown",
   "metadata": {
    "slideshow": {
     "slide_type": "slide"
    }
   },
   "source": [
    "# Écueil #3 - gestion des exceptions"
   ]
  },
  {
   "cell_type": "markdown",
   "metadata": {},
   "source": [
    "La boucle, les piles et les exceptions : [Animation](loop-stacks/index.html)"
   ]
  },
  {
   "cell_type": "code",
   "execution_count": null,
   "metadata": {
    "collapsed": true,
    "slideshow": {
     "slide_type": "slide"
    }
   },
   "outputs": [],
   "source": [
    "!PYTHONASYNCIODEBUG=1 python3 calls7.py"
   ]
  },
  {
   "cell_type": "markdown",
   "metadata": {
    "slideshow": {}
   },
   "source": [
    "Voir davantage de recettes de debug ici:\n",
    "\n",
    "https://docs.python.org/3/library/asyncio-dev.html#develop-with-asyncio"
   ]
  },
  {
   "cell_type": "markdown",
   "metadata": {},
   "source": [
    "https://docs.python.org/3/library/asyncio-dev.html\n"
   ]
  }
 ],
 "metadata": {
  "celltoolbar": "Slideshow",
  "kernelspec": {
   "display_name": "Python 3",
   "language": "python",
   "name": "python3"
  },
  "language_info": {
   "codemirror_mode": {
    "name": "ipython",
    "version": 3
   },
   "file_extension": ".py",
   "mimetype": "text/x-python",
   "name": "python",
   "nbconvert_exporter": "python",
   "pygments_lexer": "ipython3",
   "version": "3.6.2"
  },
  "livereveal": {
   "auto_select": "code",
   "auto_select_fragment": true,
   "autolaunch": true,
   "height": "100%",
   "slideNumber": "c",
   "start_slideshow_at": "selected",
   "theme": "simple",
   "transition": "cube",
   "width": "100%"
  },
  "notebookname": "Écueils classiques",
  "version": "3.0"
 },
 "nbformat": 4,
 "nbformat_minor": 2
}