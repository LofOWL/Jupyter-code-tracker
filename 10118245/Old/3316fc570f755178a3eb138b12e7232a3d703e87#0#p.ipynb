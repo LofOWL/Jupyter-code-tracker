{
 "metadata": {
  "notebookname": "exo. classes",
  "signature": "sha256:ca81f14f1e1273c1b9cb077f2ec8baef17c28c0eac1934e5e8b6e611c41c169f",
  "version": "1.0"
 },
 "nbformat": 3,
 "nbformat_minor": 0,
 "worksheets": [
  {
   "cells": [
    {
     "cell_type": "heading",
     "level": 1,
     "metadata": {},
     "source": [
      "Exercice sur l'utilisation des classes"
     ]
    },
    {
     "cell_type": "heading",
     "level": 3,
     "metadata": {},
     "source": [
      "Introduction"
     ]
    },
    {
     "cell_type": "heading",
     "level": 5,
     "metadata": {},
     "source": [
      "Objectifs de l'exercice"
     ]
    },
    {
     "cell_type": "markdown",
     "metadata": {},
     "source": [
      "Cette semaine nous ne ferons qu'un seul exercice. \n",
      "\n",
      "Maintenant que vous avez un bagage qui couvre toutes les bases du langage, vous devez \u00e9crire quelques classes que vous int\u00e9grez ensuite dans un code \u00e9crit pas nos soins. \n",
      "\n",
      "L'exercice comporte donc autant une part lecture qu'une part \u00e9criture. Vous \u00eates \u00e9galement incit\u00e9s \u00e0 am\u00e9liorer autant que possible votre environnement de travail sur votre ordinateur."
     ]
    },
    {
     "cell_type": "heading",
     "level": 5,
     "metadata": {},
     "source": [
      "Objectifs de l'application"
     ]
    },
    {
     "cell_type": "markdown",
     "metadata": {},
     "source": [
      "Dans le prolongement des exercices de la semaine 3 sur les donn\u00e9es maritimes, l'application dont il est question ici fait principalement ceci&nbsp;:\n",
      " * agr\u00e9ger des donn\u00e9es obtenues aupr\u00e8s de marinetraffic,\n",
      " * et produire en sortie\n",
      "   * un fichier KML, pour exposer les chemins de tous les bateaux concern\u00e9s \u00e0 google earth, maps ou autre outil similaire,\n",
      "   * et un fichier texte qui r\u00e9sume les bateaux concern\u00e9s et le nombre de positions trouv\u00e9es pour chacun."
     ]
    },
    {
     "cell_type": "markdown",
     "metadata": {},
     "source": [
      "Voici \u00e0 quoi ressemble le fichier KML obtenu avec les donn\u00e9es que nous fournissons, une fois ouvert sous google earth&nbsp;:\n",
      "\n",
      "<img src=\"media/ships-in-earth.png\">"
     ]
    },
    {
     "cell_type": "heading",
     "level": 5,
     "metadata": {},
     "source": [
      "Choix d'impl\u00e9mentation"
     ]
    },
    {
     "cell_type": "markdown",
     "metadata": {},
     "source": [
      "En particulier, dans cet exercice nous allons voir comment on peut g\u00e9rer des donn\u00e9es sous forme d'instances de classes plut\u00f4t que de types de base. Ce qui r\u00e9sonne avec la discussion commenc\u00e9e en Semaine 3, S\u00e9quence \"Les dictionnaires\", dans le compl\u00e9ment \"record-et-dictionnaire\". \n",
      "\n",
      "Dans les exercices de cette semaine-l\u00e0 nous avions uniquement utilis\u00e9 des types 'standard' comme listes, tuples et dictionnaires pour mod\u00e9liser les donn\u00e9es, dans cette application nous allons faire le choix inverse et utiliser plus souvent des (instances de) classes."
     ]
    },
    {
     "cell_type": "heading",
     "level": 5,
     "metadata": {},
     "source": [
      "Correction"
     ]
    },
    {
     "cell_type": "markdown",
     "metadata": {},
     "source": [
      "L'application vient avec son propre syst\u00e8me de v\u00e9rification; c'est-\u00e0-dire qu'une fois les fichiers produits, ils sont compar\u00e9s avec le r\u00e9sultat de l'impl\u00e9mentation de r\u00e9f\u00e9rence. \n",
      "\n",
      "Du coup le fait de disposer de google earth sur votre ordinateur n'est pas strictement n\u00e9cessaire, on ne s'en sert pas pour l'exercice."
     ]
    },
    {
     "cell_type": "heading",
     "level": 3,
     "metadata": {},
     "source": [
      "Mise en place"
     ]
    },
    {
     "cell_type": "heading",
     "level": 5,
     "metadata": {},
     "source": [
      "Partez d'un directory vierge"
     ]
    },
    {
     "cell_type": "markdown",
     "metadata": {},
     "source": [
      "Pour commencer cr\u00e9ez-vous un r\u00e9pertoire pour travailler \u00e0 cet exercice"
     ]
    },
    {
     "cell_type": "heading",
     "level": 5,
     "metadata": {},
     "source": [
      "Les donn\u00e9es"
     ]
    },
    {
     "cell_type": "markdown",
     "metadata": {},
     "source": [
      "Commencez par y installer les donne\u00e9s que nous publions dans les formats suivants&nbsp;:\n",
      " * [format tar](data/ships-json.tar)\n",
      " * [format tgz](data/ships-json.tgz)\n",
      " * [format zip](data/ships-json.zip)\n",
      "\n",
      "Une fois install\u00e9es, ces donn\u00e9es doivent se trouver dans un sous-r\u00e9pertoire [json/] qui contient 133 fichiers \n",
      "\n",
      "    2013-10-01-00-00--t=10--ext.json\n",
      "    ...\n",
      "    2013-10-01-23-50--t=10.json    "
     ]
    },
    {
     "cell_type": "markdown",
     "metadata": {},
     "source": [
      "Comme vous pouvez le deviner il s'agit de donn\u00e9es sur le mouvement des bateaux dans la zone en date du 10 Octobre 2013; et comme vous le voyez \u00e9galement on a quelques exemplaires de donn\u00e9es \u00e9tendues, mais dans la plupart des cas il s'agit de donn\u00e9es abr\u00e9g\u00e9es."
     ]
    },
    {
     "cell_type": "heading",
     "level": 5,
     "metadata": {},
     "source": [
      "Les r\u00e9sultats de r\u00e9f\u00e9rence"
     ]
    },
    {
     "cell_type": "markdown",
     "metadata": {},
     "source": [
      "De m\u00eame il vous faut installer les r\u00e9sultats de r\u00e9f\u00e9rence que vous trouvez ici&nbsp;:\n",
      " * [format tar](data/ships-ref.tar)\n",
      " * [format zip](data/ships-ref.zip)\n",
      "\n",
      "ce qui vous doit vous donner deux fichiers \n",
      "\n",
      "    ALL_SHIPS.kml.ref\n",
      "    ALL_SHIPS.txt.ref    \n"
     ]
    },
    {
     "cell_type": "heading",
     "level": 3,
     "metadata": {},
     "source": [
      "xxx niveaux de difficult\u00e9 \u00e0 d\u00e9finir if time permits"
     ]
    },
    {
     "cell_type": "markdown",
     "metadata": {},
     "source": [
      "Prendre le `main` et choisir quels fichiers on veut \u00e9crire"
     ]
    },
    {
     "cell_type": "heading",
     "level": 5,
     "metadata": {},
     "source": [
      "Comment lancer l'application"
     ]
    },
    {
     "cell_type": "markdown",
     "metadata": {},
     "source": [
      "Lorsque le programme est complet, on le lance comme ceci&nbsp;:\n",
      "\n",
      "    $ python ships.py json/*\n",
      "    \n",
      "qui produit\n",
      "\n",
      " * `ALL_SHIPS.txt` qui r\u00e9sume, par ordre alphab\u00e9tique les bateaux qu'on a trouv\u00e9s et le nombre de positions pour chacun, et \n",
      " * `ALL_SHIPS.kml` qui est le fichier au format `KML` qui contient toutes les trajectoires."
     ]
    }
   ],
   "metadata": {}
  }
 ]
}