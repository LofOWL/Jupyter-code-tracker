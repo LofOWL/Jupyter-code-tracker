{
 "cells": [
  {
   "cell_type": "markdown",
   "metadata": {},
   "source": [
    "# Listes infinies & références circulaires"
   ]
  },
  {
   "cell_type": "markdown",
   "metadata": {},
   "source": [
    "Nous allons maintenant construire un objet un peu abscons. Ceci n'a bien évidemment aucune utilité pratique mais permet de bien comprendre la logique du langage. "
   ]
  },
  {
   "cell_type": "markdown",
   "metadata": {},
   "source": [
    "Construisons une liste à un seul élément, peu importe quoi:"
   ]
  },
  {
   "cell_type": "code",
   "execution_count": null,
   "metadata": {},
   "outputs": [],
   "source": [
    "infini_1 = [ 0 ]"
   ]
  },
  {
   "cell_type": "markdown",
   "metadata": {},
   "source": [
    "À présent nous allons remplacer le premier et seul élément de la liste par .. la liste elle-même"
   ]
  },
  {
   "cell_type": "code",
   "execution_count": null,
   "metadata": {},
   "outputs": [],
   "source": [
    "infini_1[0] = infini_1 ; print infini_1"
   ]
  },
  {
   "cell_type": "markdown",
   "metadata": {},
   "source": [
    "Nous vous conseillons d'évaluer cette séquence sous pythontutor.com pour bien visualiser ce qui se passe. \n",
    "\n",
    "Pour essayer de décrire l'objet liste ainsi obtenu, on pourrait dire qu'il s'agit d'une liste de taille 1 et de profondeur infinie, une sorte de fil infini en quelque sorte.\n",
    "\n",
    "Naturellement, l'objet obtenu est difficile à imprimer de manière convaincante. Pour faire en sorte que cet objet soit tout de même imprimable, et éviter une boucle infinie, python utilise l'élipse \"$\\texttt{...}$\" pour indiquer ce qu'on appelle une référence circulaire. Si on n'y prenait pas garde en effet il faudrait écrire $\\texttt{[[[[ etc.. ]]]]}$ avec une infinité de crochets...\n",
    "\n",
    "Toutes les fonctions de python ne sont pas aussi intelligentes. Bien qu'on puisse comparer cette liste avec elle-même:"
   ]
  },
  {
   "cell_type": "code",
   "execution_count": null,
   "metadata": {},
   "outputs": [],
   "source": [
    "infini_1 == infini_1"
   ]
  },
  {
   "cell_type": "markdown",
   "metadata": {},
   "source": [
    "il n'en est pas de même si on la compare avec un objet analogue mais pas identique:"
   ]
  },
  {
   "cell_type": "code",
   "execution_count": null,
   "metadata": {},
   "outputs": [],
   "source": [
    "infini_2 = [ 0 ]\n",
    "infini_2[0] = infini_2; print infini_2\n",
    "infini_1 == infini_2"
   ]
  },
  {
   "cell_type": "markdown",
   "metadata": {},
   "source": [
    "### Généralisation aux références circulaires"
   ]
  },
  {
   "cell_type": "markdown",
   "metadata": {},
   "source": [
    "On obtient un phénomène équivalent dès lors qu'un élément contenu dans un objet fait référence à l'objet lui-même. Ceci n'est naturellement pas propre aux listes, voici par exemple comment on peut construire un dictionnaire qui contient une référence circulaire:"
   ]
  },
  {
   "cell_type": "code",
   "execution_count": null,
   "metadata": {},
   "outputs": [],
   "source": [
    "collection_de_points = [\n",
    "    {'x':10,'y':20},\n",
    "    {'x':30,'y':50},\n",
    "# imaginez plein de points\n",
    "]                   \n",
    "\n",
    "# on rajoute dans chaque dictionnaire une clé 'contexte' qui référence la collection complète\n",
    "for point in collection_de_points:\n",
    "    point ['contexte'] = collection_de_points\n",
    "\n",
    "# la structure possède maintenant des références circulaires\n",
    "print collection_de_points    "
   ]
  },
  {
   "cell_type": "markdown",
   "metadata": {},
   "source": [
    "On voit à nouveau réapparaître les élipses, qui indiquent que pour chaque point, le nouveau champ 'contexte' est un objet qui a déjà été imprimé. \n",
    "\n",
    "Cette technique est cette fois très utile et très utilisée dans la pratique, dès lors qu'on a besoin de naviguer de manière arbitraire dans une structure de données compliquée. Dans cet exemple, pas très réaliste naturellement, on pourait à présent accéder depuis un point à tous les autres points de la collection dont il fait partie.\n",
    "\n",
    "À nouveau il peut être intéressant de voir le comportement de cet exemple avec http://pythontutor.com pour bien comprendre ce qui se passe, si cela ne vous semble pas clair à première vue."
   ]
  }
 ],
 "metadata": {
  "kernelspec": {
   "display_name": "Python 3",
   "language": "python",
   "name": "python3"
  },
  "language_info": {
   "codemirror_mode": {
    "name": "ipython",
    "version": 3
   },
   "file_extension": ".py",
   "mimetype": "text/x-python",
   "name": "python",
   "nbconvert_exporter": "python",
   "pygments_lexer": "ipython3",
   "version": "3.7.3"
  }
 },
 "nbformat": 4,
 "nbformat_minor": 1
}
