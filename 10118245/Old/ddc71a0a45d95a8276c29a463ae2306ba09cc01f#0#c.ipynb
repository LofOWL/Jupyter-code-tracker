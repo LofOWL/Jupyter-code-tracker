{
 "metadata": {
  "notebookname": "packages",
  "signature": "559c9879b7393f49eb36d42c33b40e86235f917caf5b525d35b5f48bb449742e",
  "version": "1.0"
 },
 "nbformat": 3,
 "nbformat_minor": 0,
 "worksheets": [
  {
   "cells": [
    {
     "cell_type": "heading",
     "level": 1,
     "metadata": {},
     "source": [
      "La notion de package"
     ]
    },
    {
     "cell_type": "heading",
     "level": 2,
     "metadata": {},
     "source": [
      "Compl\u00e9ment - niveau basique"
     ]
    },
    {
     "cell_type": "markdown",
     "metadata": {},
     "source": [
      "Dans ce compl\u00e9ment nous d\u00e9crivons la notion de *package* qui permet de cr\u00e9er des librairies plus structur\u00e9es qu'avec un simple module."
     ]
    },
    {
     "cell_type": "heading",
     "level": 3,
     "metadata": {},
     "source": [
      "Rappel sur les modules"
     ]
    },
    {
     "cell_type": "markdown",
     "metadata": {},
     "source": [
      "Nous avons vu dans la vid\u00e9o qu'on peut charger une librairie, lorsqu'elle se pr\u00e9sente sous la forme d'un seul fichier source, au travers d'un objet python de type **module**."
     ]
    },
    {
     "cell_type": "code",
     "collapsed": false,
     "input": [
      "# commen\u00e7ons par charger un petit utilitaire \n",
      "from modtools import show_module, show_package"
     ],
     "language": "python",
     "metadata": {},
     "outputs": []
    },
    {
     "cell_type": "markdown",
     "metadata": {},
     "source": [
      "Maintenant nous chargons un module \"jouet\""
     ]
    },
    {
     "cell_type": "code",
     "collapsed": false,
     "input": [
      "import module_simple\n",
      "\n",
      "# voici a quoi ressemble ce module\n",
      "show_module (module_simple)"
     ],
     "language": "python",
     "metadata": {},
     "outputs": []
    },
    {
     "cell_type": "markdown",
     "metadata": {},
     "source": [
      "Il est important de voir que le module joue le r\u00f4le d'**espace de nom**, dans le sens o\u00f9:"
     ]
    },
    {
     "cell_type": "code",
     "collapsed": false,
     "input": [
      "# on peut d\u00e9finir sans rique un variable globale 'spam'\n",
      "spam = 'eggs'\n",
      "# qui est ind\u00e9pendante de celle d\u00e9finie dans le module\n",
      "print \"spam globale\",spam\n",
      "print \"spam du module\",module_simple.spam"
     ],
     "language": "python",
     "metadata": {},
     "outputs": []
    },
    {
     "cell_type": "markdown",
     "metadata": {},
     "source": [
      "Pour r\u00e9sumer donc, un module est donc un objet python qui correspond \u00e0 la fois \u00e0\n",
      " * un (seul) **fichier** sur le disque\n",
      " * un **espace de nom**\n"
     ]
    },
    {
     "cell_type": "heading",
     "level": 3,
     "metadata": {},
     "source": [
      "La notion de package"
     ]
    },
    {
     "cell_type": "markdown",
     "metadata": {},
     "source": [
      "Lorsqu'il s'agit d'impl\u00e9menter une tr\u00e8s grosse librairie, il n'est pas concevable de tout concentrer en un seul fichier. C'est l\u00e0 qu'intervient la notion de **package**, qui est un peu au **r\u00e9pertoires** ce que que le **module** est aux **fichiers**."
     ]
    },
    {
     "cell_type": "markdown",
     "metadata": {},
     "source": [
      "Pour d\u00e9finir un package, il faut obligatoirement cr\u00e9er dans le r\u00e9pertoire (celui, donc, que l'on veut exposer \u00e0 python), un fichier nomm\u00e9 `__init__.py`. Voil\u00e0 comment cela se pr\u00e9sente dans un cas simple"
     ]
    },
    {
     "cell_type": "code",
     "collapsed": false,
     "input": [
      "import package_jouet"
     ],
     "language": "python",
     "metadata": {},
     "outputs": []
    },
    {
     "cell_type": "code",
     "collapsed": false,
     "input": [
      "show_package (package_jouet)"
     ],
     "language": "python",
     "metadata": {},
     "outputs": []
    }
   ],
   "metadata": {}
  }
 ]
}