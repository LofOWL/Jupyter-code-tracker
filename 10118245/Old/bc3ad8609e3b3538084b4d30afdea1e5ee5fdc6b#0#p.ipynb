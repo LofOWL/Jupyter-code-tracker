{
 "metadata": {
  "notebookname": "module this",
  "signature": "d6202c2297a8612eae705096907d809ed42608a471a3d329c1079c430b78ca68",
  "version": "1.0"
 },
 "nbformat": 3,
 "nbformat_minor": 0,
 "worksheets": [
  {
   "cells": [
    {
     "cell_type": "heading",
     "level": 1,
     "metadata": {},
     "source": [
      "D\u00e9coder le module `this`"
     ]
    },
    {
     "cell_type": "heading",
     "level": 2,
     "metadata": {},
     "source": [
      "Exercice - niveau interm\u00e9diaire"
     ]
    },
    {
     "cell_type": "heading",
     "level": 3,
     "metadata": {},
     "source": [
      "Le module `this` et le *zen de python*"
     ]
    },
    {
     "cell_type": "markdown",
     "metadata": {},
     "source": [
      "Nous avons d\u00e9j\u00e0 eu l'occasion de parler du *zen de python*; on peut lire ce texte en important le module `this` comme ceci"
     ]
    },
    {
     "cell_type": "code",
     "collapsed": false,
     "input": [
      "import this"
     ],
     "language": "python",
     "metadata": {},
     "outputs": []
    },
    {
     "cell_type": "markdown",
     "metadata": {},
     "source": [
      "Il suit du cours qu'une fois cet import effectu\u00e9 nous avons acc\u00e8s \u00e0 une variable `this`, de type module:"
     ]
    },
    {
     "cell_type": "code",
     "collapsed": false,
     "input": [
      "this"
     ],
     "language": "python",
     "metadata": {},
     "outputs": []
    },
    {
     "cell_type": "heading",
     "level": 3,
     "metadata": {},
     "source": [
      "But de l'exercice"
     ]
    },
    {
     "cell_type": "markdown",
     "metadata": {},
     "source": [
      "Le but de l'exercice est de deviner le contenu du module, et d'\u00e9crire une fonction `decode_zen`, qui retourne le texte du manifeste."
     ]
    },
    {
     "cell_type": "code",
     "collapsed": false,
     "input": [
      "from corrections.w3_decode_zen import exo_decode_zen"
     ],
     "language": "python",
     "metadata": {},
     "outputs": []
    },
    {
     "cell_type": "heading",
     "level": 3,
     "metadata": {},
     "source": [
      "Indices"
     ]
    },
    {
     "cell_type": "markdown",
     "metadata": {},
     "source": [
      "Cet exercice peut para\u00eetre un peu d\u00e9concertant; voici quelques indices optionnels :"
     ]
    },
    {
     "cell_type": "code",
     "collapsed": false,
     "input": [
      "dir(this)"
     ],
     "language": "python",
     "metadata": {},
     "outputs": []
    },
    {
     "cell_type": "markdown",
     "metadata": {},
     "source": [
      "Vous pouvez ignorer `this.c` et `this.i`, les deux autres variables du module sont importantes pour nous."
     ]
    },
    {
     "cell_type": "code",
     "collapsed": false,
     "input": [
      "# le r\u00e9sultat attendu\n",
      "resultat = exo_decode_zen.resultat(this)"
     ],
     "language": "python",
     "metadata": {},
     "outputs": []
    },
    {
     "cell_type": "markdown",
     "metadata": {},
     "source": [
      "Ceci devrait vous donner une id\u00e9e de comment utiliser une des deux variables du module"
     ]
    },
    {
     "cell_type": "code",
     "collapsed": false,
     "input": [
      "len(this.s) == len(resultat)"
     ],
     "language": "python",
     "metadata": {},
     "outputs": []
    },
    {
     "cell_type": "markdown",
     "metadata": {},
     "source": [
      "\u00c0 quoi peut bien servir l'autre ?"
     ]
    },
    {
     "cell_type": "code",
     "collapsed": false,
     "input": [
      "this.d[this.s[0]] == resultat[0]"
     ],
     "language": "python",
     "metadata": {},
     "outputs": []
    },
    {
     "cell_type": "markdown",
     "metadata": {},
     "source": [
      "Le texte comporte certes des caract\u00e8res alphab\u00e9tiques"
     ]
    },
    {
     "cell_type": "code",
     "collapsed": false,
     "input": [
      "len(this.d)"
     ],
     "language": "python",
     "metadata": {},
     "outputs": []
    },
    {
     "cell_type": "markdown",
     "metadata": {},
     "source": [
      "mais pas seulement; les autres sont pr\u00e9serv\u00e9s."
     ]
    },
    {
     "cell_type": "heading",
     "level": 3,
     "metadata": {},
     "source": [
      "\u00c0 vous de jouer"
     ]
    },
    {
     "cell_type": "code",
     "collapsed": false,
     "input": [
      "def decode_zen(this):\n",
      "    \"<votre code>\""
     ],
     "language": "python",
     "metadata": {},
     "outputs": []
    },
    {
     "cell_type": "heading",
     "level": 3,
     "metadata": {},
     "source": [
      "Correction"
     ]
    },
    {
     "cell_type": "code",
     "collapsed": false,
     "input": [
      "exo_decode_zen.correction(decode_zen, this)"
     ],
     "language": "python",
     "metadata": {},
     "outputs": []
    }
   ],
   "metadata": {}
  }
 ]
}