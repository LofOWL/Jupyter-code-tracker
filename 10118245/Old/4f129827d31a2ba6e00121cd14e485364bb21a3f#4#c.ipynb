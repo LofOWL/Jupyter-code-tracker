{
 "metadata": {
  "notebookname": "Ensembles",
  "signature": "sha256:7de931b6b2ae23a2b1696d1b0f8f3ba19d7fb332796f13f1d6d4f63cbbe9f3ab",
  "version": "1.0"
 },
 "nbformat": 3,
 "nbformat_minor": 0,
 "worksheets": [
  {
   "cells": [
    {
     "cell_type": "heading",
     "level": 1,
     "metadata": {},
     "source": [
      "Ensembles"
     ]
    },
    {
     "cell_type": "heading",
     "level": 2,
     "metadata": {},
     "source": [
      "Compl\u00e9ment - niveau basique"
     ]
    },
    {
     "cell_type": "markdown",
     "metadata": {},
     "source": [
      "Ce document r\u00e9sume les op\u00e9rations courantes disponibles sur le type `set`.\n",
      "On rappelle que le type `set` est un type **mutable**."
     ]
    },
    {
     "cell_type": "heading",
     "level": 3,
     "metadata": {},
     "source": [
      "Cr\u00e9ation en extension"
     ]
    },
    {
     "cell_type": "markdown",
     "metadata": {},
     "source": [
      "On cr\u00e9e un ensemble avec les accolades, comme les dictionnaires (mais sans utiliser le caract\u00e8re `:`) et cela donne par exemple"
     ]
    },
    {
     "cell_type": "code",
     "collapsed": false,
     "input": [
      "heteroclite = {'marc', 12, 'pierre', (1, 2, 3), 'pierre'}\n",
      "print heteroclite"
     ],
     "language": "python",
     "metadata": {},
     "outputs": [
      {
       "output_type": "stream",
       "stream": "stdout",
       "text": [
        "set(['marc', 12, 'pierre', (1, 2, 3)])\n"
       ]
      }
     ],
     "prompt_number": 1
    },
    {
     "cell_type": "heading",
     "level": 3,
     "metadata": {},
     "source": [
      "Cr\u00e9ation - la fonction `set`"
     ]
    },
    {
     "cell_type": "markdown",
     "metadata": {},
     "source": [
      "Il devrait \u00eatre clair \u00e0 ce stade que, le nom du type \u00e9tant `set`, la fonction `set` est un constructeur d'ensembles. On aurait donc aussi bien pu faire"
     ]
    },
    {
     "cell_type": "code",
     "collapsed": false,
     "input": [
      "heteroclite2 = set (['marc', 12, 'pierre', (1,2,3), 'pierre' ])\n",
      "print heteroclite2"
     ],
     "language": "python",
     "metadata": {},
     "outputs": [
      {
       "output_type": "stream",
       "stream": "stdout",
       "text": [
        "set([(1, 2, 3), 12, 'pierre', 'marc'])\n"
       ]
      }
     ],
     "prompt_number": 25
    },
    {
     "cell_type": "heading",
     "level": 3,
     "metadata": {},
     "source": [
      "Un \u00e9l\u00e9ment dans un ensemble doit \u00eatre globalement immuable"
     ]
    },
    {
     "cell_type": "markdown",
     "metadata": {},
     "source": [
      "On a vu pr\u00e9c\u00e9demment que les cl\u00e9s dans un dictionnaire doivent \u00eatre globalement immuables. Pour exactement les m\u00eames raisons, les \u00e9l\u00e9ments d'un ensemble doivent aussi \u00eatre globalement immuables."
     ]
    },
    {
     "cell_type": "raw",
     "metadata": {},
     "source": [
      "# on ne peut pas ins\u00e9rer un tuple qui contient une liste\n",
      ">>> ensemble = {(1, 2, [3, 4])}\n",
      "Traceback (most recent call last):\n",
      "  File \"<stdin>\", line 1, in <module>\n",
      "TypeError: unhashable type: 'list'"
     ]
    },
    {
     "cell_type": "markdown",
     "metadata": {},
     "source": [
      "Le type `set` \u00e9tant lui-m\u00eame mutable, on ne peut pas cr\u00e9er un ensemble d'ensembles"
     ]
    },
    {
     "cell_type": "raw",
     "metadata": {},
     "source": [
      ">>> ensemble = {{1, 2}}\n",
      "Traceback (most recent call last):\n",
      "  File \"<stdin>\", line 1, in <module>\n",
      "TypeError: unhashable type: 'set'"
     ]
    },
    {
     "cell_type": "markdown",
     "metadata": {},
     "source": [
      "Et c'est une des raisons d'\u00eatre du type `frozenset`."
     ]
    },
    {
     "cell_type": "heading",
     "level": 3,
     "metadata": {},
     "source": [
      "Cr\u00e9ation - la fonction `frozenset`"
     ]
    },
    {
     "cell_type": "markdown",
     "metadata": {},
     "source": [
      "Il n'existe pas de raccourci syntaxique comme les `{}` pour cr\u00e9er un ensemble immuable, qui doit \u00eatre cr\u00e9\u00e9 avec la fonction `frozenset`. Toutes les op\u00e9rations document\u00e9es dans ce notebook, et qui n'ont pas besoin de modifier l'ensemble, sont disponibles sur un `frozenset`. \n",
      "\n",
      "Parmi les fonctions exclues sur un `frozenset`, on peut citer:  `update`, `pop`, `clear`, `remove`, `discard`..."
     ]
    },
    {
     "cell_type": "heading",
     "level": 3,
     "metadata": {},
     "source": [
      "Op\u00e9rations simples"
     ]
    },
    {
     "cell_type": "heading",
     "level": 5,
     "metadata": {},
     "source": [
      "Test d'appartenance"
     ]
    },
    {
     "cell_type": "code",
     "collapsed": false,
     "input": [
      "(1, 2, 3) in heteroclite"
     ],
     "language": "python",
     "metadata": {},
     "outputs": [
      {
       "metadata": {},
       "output_type": "pyout",
       "prompt_number": 2,
       "text": [
        "True"
       ]
      }
     ],
     "prompt_number": 2
    },
    {
     "cell_type": "heading",
     "level": 5,
     "metadata": {},
     "source": [
      "Cardinal"
     ]
    },
    {
     "cell_type": "code",
     "collapsed": false,
     "input": [
      "len(heteroclite)"
     ],
     "language": "python",
     "metadata": {},
     "outputs": [
      {
       "metadata": {},
       "output_type": "pyout",
       "prompt_number": 3,
       "text": [
        "4"
       ]
      }
     ],
     "prompt_number": 3
    },
    {
     "cell_type": "heading",
     "level": 5,
     "metadata": {},
     "source": [
      "Manipulations"
     ]
    },
    {
     "cell_type": "code",
     "collapsed": false,
     "input": [
      "ensemble = {1, 2, 1}\n",
      "ensemble"
     ],
     "language": "python",
     "metadata": {},
     "outputs": [
      {
       "metadata": {},
       "output_type": "pyout",
       "prompt_number": 4,
       "text": [
        "{1, 2}"
       ]
      }
     ],
     "prompt_number": 4
    },
    {
     "cell_type": "code",
     "collapsed": false,
     "input": [
      "# pour nettoyer\n",
      "ensemble.clear()\n",
      "ensemble"
     ],
     "language": "python",
     "metadata": {},
     "outputs": [
      {
       "metadata": {},
       "output_type": "pyout",
       "prompt_number": 5,
       "text": [
        "set()"
       ]
      }
     ],
     "prompt_number": 5
    },
    {
     "cell_type": "code",
     "collapsed": false,
     "input": [
      "# ajouter un element\n",
      "ensemble.add(1)\n",
      "ensemble"
     ],
     "language": "python",
     "metadata": {},
     "outputs": [
      {
       "metadata": {},
       "output_type": "pyout",
       "prompt_number": 6,
       "text": [
        "{1}"
       ]
      }
     ],
     "prompt_number": 6
    },
    {
     "cell_type": "code",
     "collapsed": false,
     "input": [
      "# ajouter tous les elements d'un autre *ensemble*\n",
      "ensemble.update({2, (1, 2, 3), (1, 3, 5)})\n",
      "ensemble"
     ],
     "language": "python",
     "metadata": {},
     "outputs": [
      {
       "metadata": {},
       "output_type": "pyout",
       "prompt_number": 7,
       "text": [
        "{1, 2, (1, 2, 3), (1, 3, 5)}"
       ]
      }
     ],
     "prompt_number": 7
    },
    {
     "cell_type": "code",
     "collapsed": false,
     "input": [
      "# enlever un element avec discard\n",
      "ensemble.discard((1, 3, 5))\n",
      "ensemble"
     ],
     "language": "python",
     "metadata": {},
     "outputs": [
      {
       "metadata": {},
       "output_type": "pyout",
       "prompt_number": 8,
       "text": [
        "{1, 2, (1, 2, 3)}"
       ]
      }
     ],
     "prompt_number": 8
    },
    {
     "cell_type": "code",
     "collapsed": false,
     "input": [
      "# discard fonctionne m\u00eame si l'\u00e9l\u00e9ment n'est pas pr\u00e9sent\n",
      "ensemble.discard('foo')\n",
      "ensemble"
     ],
     "language": "python",
     "metadata": {},
     "outputs": [
      {
       "metadata": {},
       "output_type": "pyout",
       "prompt_number": 9,
       "text": [
        "{1, 2, (1, 2, 3)}"
       ]
      }
     ],
     "prompt_number": 9
    },
    {
     "cell_type": "code",
     "collapsed": false,
     "input": [
      "# enlever un \u00e9l\u00e9ment avec remove\n",
      "ensemble.remove((1, 2, 3))\n",
      "ensemble"
     ],
     "language": "python",
     "metadata": {},
     "outputs": [
      {
       "metadata": {},
       "output_type": "pyout",
       "prompt_number": 10,
       "text": [
        "{1, 2}"
       ]
      }
     ],
     "prompt_number": 10
    },
    {
     "cell_type": "code",
     "collapsed": false,
     "input": [
      "# contrairement \u00e0 discard, l'\u00e9l\u00e9ment doit \u00eatre pr\u00e9sent, \n",
      "# sinon il y a une exception\n",
      "try:\n",
      "    ensemble.remove('foo')\n",
      "except KeyError as e:\n",
      "    print \"remove a lev\u00e9 l'exception\", e"
     ],
     "language": "python",
     "metadata": {},
     "outputs": [
      {
       "output_type": "stream",
       "stream": "stdout",
       "text": [
        "remove a lev\u00e9 l'exception 'foo'\n"
       ]
      }
     ],
     "prompt_number": 14
    },
    {
     "cell_type": "markdown",
     "metadata": {},
     "source": [
      "La capture d'exception avec `try` et `except`  sert \u00e0 capturer une erreur d'ex\u00e9cution du programme (qu'on appelle exception) pour continuer le programme. Le but de cet exemple est simplement de montrer (d'une mani\u00e8re plus \u00e9l\u00e9gante que de voir simplement le programme planter avec une exception non captur\u00e9e) que l'expression `ensemble.remove('foo')` g\u00e9n\u00e8re une exception. Si ce concept vous para\u00eet obscure, pas d'inqui\u00e9tude, nous reviendrons dessus en d\u00e9tail en semaine 6. "
     ]
    },
    {
     "cell_type": "code",
     "collapsed": false,
     "input": [
      "# pop() ressemble \u00e0 la m\u00e9thode \u00e9ponyme sur les listes\n",
      "# sauf qu'il n'y a pas d'ordre dans un ensemble\n",
      "while ensemble:\n",
      "    element = ensemble.pop()\n",
      "    print \"element\",element\n",
      "print \"et bien s\u00fbr maintenant l'ensemble est vide\", ensemble"
     ],
     "language": "python",
     "metadata": {},
     "outputs": [
      {
       "output_type": "stream",
       "stream": "stdout",
       "text": [
        "element 1\n",
        "element 2\n",
        "et bien s\u00fbr maintenant l'ensemble est vide set([])\n"
       ]
      }
     ],
     "prompt_number": 13
    },
    {
     "cell_type": "heading",
     "level": 3,
     "metadata": {},
     "source": [
      "Op\u00e9rations classiques sur les ensembles"
     ]
    },
    {
     "cell_type": "markdown",
     "metadata": {},
     "source": [
      "Donnons nous deux ensembles simples."
     ]
    },
    {
     "cell_type": "code",
     "collapsed": false,
     "input": [
      "A2 = set([0, 2, 4, 6])\n",
      "print 'A2', A2\n",
      "A3 = set([0, 3, 6])\n",
      "print 'A3', A3"
     ],
     "language": "python",
     "metadata": {},
     "outputs": [
      {
       "output_type": "stream",
       "stream": "stdout",
       "text": [
        "A2 set([0, 2, 4, 6])\n",
        "A3 set([0, 3, 6])\n"
       ]
      }
     ],
     "prompt_number": 17
    },
    {
     "cell_type": "markdown",
     "metadata": {},
     "source": [
      "N'oubliez pas que les ensembles, comme les dictionnaires, ne sont **pas ordonn\u00e9s**."
     ]
    },
    {
     "cell_type": "markdown",
     "metadata": {},
     "source": [
      "**Remarques** \n",
      " * Les notations des op\u00e9rateurs sur les ensembles rappellent les op\u00e9rateurs \"bit-\u00e0-bit\" sur les entiers.\n",
      " * Ces op\u00e9rateurs sont \u00e9galement disponibles sous la forme de m\u00e9thodes"
     ]
    },
    {
     "cell_type": "heading",
     "level": 5,
     "metadata": {},
     "source": [
      "Union"
     ]
    },
    {
     "cell_type": "code",
     "collapsed": false,
     "input": [
      "A2 | A3"
     ],
     "language": "python",
     "metadata": {},
     "outputs": [
      {
       "metadata": {},
       "output_type": "pyout",
       "prompt_number": 18,
       "text": [
        "{0, 2, 3, 4, 6}"
       ]
      }
     ],
     "prompt_number": 18
    },
    {
     "cell_type": "heading",
     "level": 5,
     "metadata": {},
     "source": [
      "Intersection"
     ]
    },
    {
     "cell_type": "code",
     "collapsed": false,
     "input": [
      "A2 & A3"
     ],
     "language": "python",
     "metadata": {},
     "outputs": [
      {
       "metadata": {},
       "output_type": "pyout",
       "prompt_number": 19,
       "text": [
        "{0, 6}"
       ]
      }
     ],
     "prompt_number": 19
    },
    {
     "cell_type": "heading",
     "level": 5,
     "metadata": {},
     "source": [
      "Diff\u00e9rence"
     ]
    },
    {
     "cell_type": "code",
     "collapsed": false,
     "input": [
      "A2 - A3"
     ],
     "language": "python",
     "metadata": {},
     "outputs": [
      {
       "metadata": {},
       "output_type": "pyout",
       "prompt_number": 20,
       "text": [
        "{2, 4}"
       ]
      }
     ],
     "prompt_number": 20
    },
    {
     "cell_type": "code",
     "collapsed": false,
     "input": [
      "A3 - A2"
     ],
     "language": "python",
     "metadata": {},
     "outputs": [
      {
       "metadata": {},
       "output_type": "pyout",
       "prompt_number": 21,
       "text": [
        "{3}"
       ]
      }
     ],
     "prompt_number": 21
    },
    {
     "cell_type": "heading",
     "level": 5,
     "metadata": {},
     "source": [
      "Diff\u00e9rence sym\u00e9trique"
     ]
    },
    {
     "cell_type": "markdown",
     "metadata": {},
     "source": [
      "On rappelle que $ A \\Delta B = (A - B) \\cup (B - A) $ "
     ]
    },
    {
     "cell_type": "code",
     "collapsed": false,
     "input": [
      "A2 ^ A3"
     ],
     "language": "python",
     "metadata": {},
     "outputs": [
      {
       "metadata": {},
       "output_type": "pyout",
       "prompt_number": 22,
       "text": [
        "{2, 3, 4}"
       ]
      }
     ],
     "prompt_number": 22
    },
    {
     "cell_type": "heading",
     "level": 3,
     "metadata": {},
     "source": [
      "Comparaisons"
     ]
    },
    {
     "cell_type": "markdown",
     "metadata": {},
     "source": [
      "Ici encore on se donne deux ensembles"
     ]
    },
    {
     "cell_type": "code",
     "collapsed": false,
     "input": [
      "superset = {0, 1, 2, 3}\n",
      "print 'superset', superset\n",
      "subset =  {1, 3}\n",
      "print 'subset', subset"
     ],
     "language": "python",
     "metadata": {},
     "outputs": [
      {
       "output_type": "stream",
       "stream": "stdout",
       "text": [
        "superset set([0, 1, 2, 3])\n",
        "subset set([1, 3])\n"
       ]
      }
     ],
     "prompt_number": 23
    },
    {
     "cell_type": "heading",
     "level": 5,
     "metadata": {},
     "source": [
      "\u00c9galit\u00e9"
     ]
    },
    {
     "cell_type": "code",
     "collapsed": false,
     "input": [
      "heteroclite == heteroclite2"
     ],
     "language": "python",
     "metadata": {},
     "outputs": [
      {
       "metadata": {},
       "output_type": "pyout",
       "prompt_number": 26,
       "text": [
        "True"
       ]
      }
     ],
     "prompt_number": 26
    },
    {
     "cell_type": "heading",
     "level": 5,
     "metadata": {},
     "source": [
      "Inclusion"
     ]
    },
    {
     "cell_type": "code",
     "collapsed": false,
     "input": [
      "subset <= superset"
     ],
     "language": "python",
     "metadata": {},
     "outputs": [
      {
       "metadata": {},
       "output_type": "pyout",
       "prompt_number": 27,
       "text": [
        "True"
       ]
      }
     ],
     "prompt_number": 27
    },
    {
     "cell_type": "code",
     "collapsed": false,
     "input": [
      "subset < superset"
     ],
     "language": "python",
     "metadata": {},
     "outputs": [
      {
       "metadata": {},
       "output_type": "pyout",
       "prompt_number": 28,
       "text": [
        "True"
       ]
      }
     ],
     "prompt_number": 28
    },
    {
     "cell_type": "code",
     "collapsed": false,
     "input": [
      "heteroclite < heteroclite2"
     ],
     "language": "python",
     "metadata": {},
     "outputs": [
      {
       "metadata": {},
       "output_type": "pyout",
       "prompt_number": 30,
       "text": [
        "False"
       ]
      }
     ],
     "prompt_number": 30
    },
    {
     "cell_type": "heading",
     "level": 5,
     "metadata": {},
     "source": [
      "Ensembles disjoints"
     ]
    },
    {
     "cell_type": "code",
     "collapsed": false,
     "input": [
      "heteroclite.isdisjoint(A3)"
     ],
     "language": "python",
     "metadata": {},
     "outputs": [
      {
       "metadata": {},
       "output_type": "pyout",
       "prompt_number": 31,
       "text": [
        "True"
       ]
      }
     ],
     "prompt_number": 31
    },
    {
     "cell_type": "heading",
     "level": 3,
     "metadata": {},
     "source": [
      "Pour en savoir plus"
     ]
    },
    {
     "cell_type": "markdown",
     "metadata": {},
     "source": [
      "Reportez vous \u00e0 [la section sur les ensembles](https://docs.python.org/2/library/stdtypes.html#set-types-set-frozenset) dans la documentation python"
     ]
    }
   ],
   "metadata": {}
  }
 ]
}