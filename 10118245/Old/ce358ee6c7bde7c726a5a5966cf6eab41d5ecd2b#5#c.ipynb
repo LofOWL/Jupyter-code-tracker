{
 "metadata": {
  "notebookname": "iterateur et iterable",
  "signature": "sha256:7287b0ddf5384881d3c293eb427ec42452cdef5a1282859e0ee1aa40a1bacb23",
  "version": "1.0"
 },
 "nbformat": 3,
 "nbformat_minor": 0,
 "worksheets": [
  {
   "cells": [
    {
     "cell_type": "heading",
     "level": 1,
     "metadata": {},
     "source": [
      "It\u00e9rable et it\u00e9rateur"
     ]
    },
    {
     "cell_type": "heading",
     "level": 2,
     "metadata": {},
     "source": [
      "Compl\u00e9ment - niveau basique"
     ]
    },
    {
     "cell_type": "markdown",
     "metadata": {},
     "source": [
      "Nous r\u00e9sumons dans ce compl\u00e9ment les notions d'iterable et d'it\u00e9rateur."
     ]
    },
    {
     "cell_type": "heading",
     "level": 3,
     "metadata": {},
     "source": [
      "It\u00e9rable"
     ]
    },
    {
     "cell_type": "markdown",
     "metadata": {},
     "source": [
      "On appelle **it\u00e9rable** un objet qui peut \u00eatre **l'objet d'une boucle `for`**\n",
      "\n",
      "Pour qu'un objet soit it\u00e9rable il faut  \n",
      " * qu'il dispose d'une m\u00e9thode `__iter__()` qui renvoie un **it\u00e9rateur**\n",
      " * ou qu'il dispose d'une m\u00e9thode `__getitem__()` qui permette un acc\u00e8s s\u00e9quentiel par des indices commen\u00e7ant \u00e0 0. \n",
      "    \n",
      "Le second point s'applique \u00e0 quelques types builtin comme `str` (qui donc n'a pas de m\u00e9thode `__iter__()`), mais en r\u00e8gle g\u00e9n\u00e9rale on est dans le premier cas, et nous y reviendrons en semaine 6 lorsque nous verrons comment rendre nos objets it\u00e9rables."
     ]
    },
    {
     "cell_type": "heading",
     "level": 3,
     "metadata": {},
     "source": [
      "It\u00e9rateur"
     ]
    },
    {
     "cell_type": "markdown",
     "metadata": {},
     "source": [
      "Un it\u00e9rateur est donc **attach\u00e9 \u00e0 un it\u00e9rable**, et sa fonction est de **m\u00e9moriser l'\u00e9tat d'une it\u00e9ration** sur cet it\u00e9rable.\n",
      "\n",
      "La fa\u00e7on usuelle d'impl\u00e9menter un it\u00e9rable consiste \u00e0 exposer une m\u00e9thode `next()` qui renvoie l'item suivant \u00e0 balayer lors de l'it\u00e9ration, ou de lever l'exception `StopIteration` en fin de boucle.\n",
      "\n",
      "Notez qu'en python3 on a renomm\u00e9 `next` en `__next__`, ce qui est plus en accord avec la convention de nommage des m\u00e9thodes qui permettent de red\u00e9finir le comportement du langage sur des types utilisateur."
     ]
    },
    {
     "cell_type": "markdown",
     "metadata": {},
     "source": [
      "De mani\u00e8re \u00e0 rendre un it\u00e9rateur it\u00e9rable, on adopte la convention qu'un it\u00e9rateur doit \u00e9galement impl\u00e9menter la m\u00e9thode `__iter__()` et dans ce cas-l\u00e0 naturellement l'it\u00e9rateur est son propre it\u00e9rateur. "
     ]
    },
    {
     "cell_type": "heading",
     "level": 2,
     "metadata": {},
     "source": [
      "Compl\u00e9ment - niveau avanc\u00e9"
     ]
    },
    {
     "cell_type": "markdown",
     "metadata": {},
     "source": [
      "Voyons tout ceci sur un exemple simple"
     ]
    },
    {
     "cell_type": "code",
     "collapsed": false,
     "input": [
      "iterable = range(2)\n",
      "\n",
      "# on calcule un it\u00e9rateur pour la liste\n",
      "iterator = iterable.__iter__()\n",
      "\n",
      "# v\u00e9rifions si cet it\u00e9rateur est it\u00e9rable:\n",
      "# il a une m\u00e9thode __iter__() \n",
      "# et il se trouve qu'elle renvoie bien l'iterateur lui-m\u00eame\n",
      "print iterator.__iter__() is iterator"
     ],
     "language": "python",
     "metadata": {},
     "outputs": [
      {
       "output_type": "stream",
       "stream": "stdout",
       "text": [
        "True\n"
       ]
      }
     ],
     "prompt_number": 1
    },
    {
     "cell_type": "code",
     "collapsed": false,
     "input": [
      "# ce qui fait qu'on peut aussi bien faire une boucle sur l'iterable lui-m\u00eame\n",
      "for i in iterable:\n",
      "    print 'iterable', i\n",
      "\n",
      "# que sur l'iterateur\n",
      "for i in iterator:\n",
      "    print 'iterable', i"
     ],
     "language": "python",
     "metadata": {},
     "outputs": [
      {
       "output_type": "stream",
       "stream": "stdout",
       "text": [
        "iterable 0\n",
        "iterable 1\n",
        "iterable 0\n",
        "iterable 1\n"
       ]
      }
     ],
     "prompt_number": 2
    },
    {
     "cell_type": "markdown",
     "metadata": {},
     "source": [
      "Il y a une diff\u00e9rence de taille toutefois, c'est qu'\u00e0 chaque fois qu'on fait une boucle sur l'it\u00e9rable on rappelle `__iter__()`, ce qui a pour r\u00e9sultat de cr\u00e9er un nouvel it\u00e9rateur:"
     ]
    },
    {
     "cell_type": "code",
     "collapsed": false,
     "input": [
      "# on peut imbriquer deux boucles sur la liste - l'it\u00e9rable \n",
      "for i in iterable:\n",
      "    for j in iterable:\n",
      "        print 'iterable', i, 'x', j"
     ],
     "language": "python",
     "metadata": {},
     "outputs": [
      {
       "output_type": "stream",
       "stream": "stdout",
       "text": [
        "iterable 0 x 0\n",
        "iterable 0 x 1\n",
        "iterable 1 x 0\n",
        "iterable 1 x 1\n"
       ]
      }
     ],
     "prompt_number": 3
    },
    {
     "cell_type": "code",
     "collapsed": false,
     "input": [
      "# si on fait la m\u00eame chose avec un iterateur\n",
      "# que l'on cr\u00e9e \u00e0 la main, on a une mauvaise surprise\n",
      "iterator = iterable.__iter__()\n",
      "for i in iterator:\n",
      "    for j in iterator:\n",
      "        print 'iterator', i, 'x', j        "
     ],
     "language": "python",
     "metadata": {},
     "outputs": [
      {
       "output_type": "stream",
       "stream": "stdout",
       "text": [
        "iterator 0 x 1\n"
       ]
      }
     ],
     "prompt_number": 4
    },
    {
     "cell_type": "markdown",
     "metadata": {},
     "source": [
      "En fait, l'iterateur a \u00e9t\u00e9 mis \u00e0 contribution deux fois et a signal\u00e9 la fin de la boucle. En pratique, on n'appelle pas soit m\u00eame `__iter__()`, c'est la boucle for, par exemple, qui cr\u00e9e l'it\u00e9rateur. Dans ce cas, on aura bien un nouvel it\u00e9rateur pour chaque boucle comme dans l'exemple pr\u00e9c\u00e9dent. "
     ]
    }
   ],
   "metadata": {}
  }
 ]
}