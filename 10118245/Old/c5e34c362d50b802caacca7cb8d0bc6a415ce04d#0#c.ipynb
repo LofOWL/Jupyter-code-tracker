{
 "metadata": {
  "notebookname": "exo. classes",
  "signature": "sha256:c737bfa8a3f560bdd8c866222ad61d1f234d172d92120e717859d01ecd8a877d",
  "version": "1.0"
 },
 "nbformat": 3,
 "nbformat_minor": 0,
 "worksheets": [
  {
   "cells": [
    {
     "cell_type": "heading",
     "level": 1,
     "metadata": {},
     "source": [
      "Exercice sur l'utilisation des classes"
     ]
    },
    {
     "cell_type": "heading",
     "level": 3,
     "metadata": {},
     "source": [
      "Introduction"
     ]
    },
    {
     "cell_type": "heading",
     "level": 5,
     "metadata": {},
     "source": [
      "Objectifs de l'exercice"
     ]
    },
    {
     "cell_type": "markdown",
     "metadata": {},
     "source": [
      "Cette semaine nous ne ferons qu'un seul exercice. \n",
      "\n",
      "Maintenant que vous avez un bagage qui couvre toutes les bases du langage, vous devez \u00e9crire quelques classes que vous int\u00e9grez ensuite dans un code \u00e9crit pas nos soins. \n",
      "\n",
      "L'exercice comporte donc autant une part lecture qu'une part \u00e9criture. Vous \u00eates \u00e9galement incit\u00e9s \u00e0 am\u00e9liorer autant que possible votre environnement de travail sur votre ordinateur."
     ]
    },
    {
     "cell_type": "heading",
     "level": 5,
     "metadata": {},
     "source": [
      "Objectifs de l'application"
     ]
    },
    {
     "cell_type": "markdown",
     "metadata": {},
     "source": [
      "Dans le prolongement des exercices de la semaine 3 sur les donn\u00e9es maritimes, l'application dont il est question ici fait principalement ceci&nbsp;:\n",
      " * agr\u00e9ger des donn\u00e9es obtenues aupr\u00e8s de marinetraffic,\n",
      " * et produire en sortie\n",
      "   * un fichier KML, pour exposer les chemins de tous les bateaux concern\u00e9s \u00e0 google earth, maps ou autre outil similaire,\n",
      "   * et un fichier texte qui r\u00e9sume les bateaux concern\u00e9s et le nombre de positions trouv\u00e9es pour chacun."
     ]
    },
    {
     "cell_type": "markdown",
     "metadata": {},
     "source": [
      "Voici \u00e0 quoi ressemble le fichier KML obtenu avec les donn\u00e9es que nous fournissons, une fois ouvert sous google earth&nbsp;:\n",
      "\n",
      "<img src=\"media/ships-in-earth.png\">"
     ]
    },
    {
     "cell_type": "heading",
     "level": 5,
     "metadata": {},
     "source": [
      "Choix d'impl\u00e9mentation"
     ]
    },
    {
     "cell_type": "markdown",
     "metadata": {},
     "source": [
      "En particulier, dans cet exercice nous allons voir comment on peut g\u00e9rer des donn\u00e9es sous forme d'instances de classes plut\u00f4t que de types de base. Ce qui r\u00e9sonne avec la discussion commenc\u00e9e en Semaine 3, S\u00e9quence \"Les dictionnaires\", dans le compl\u00e9ment \"record-et-dictionnaire\". \n",
      "\n",
      "Dans les exercices de cette semaine-l\u00e0 nous avions uniquement utilis\u00e9 des types 'standard' comme listes, tuples et dictionnaires pour mod\u00e9liser les donn\u00e9es, dans cette application nous allons faire le choix inverse et utiliser plus souvent des (instances de) classes."
     ]
    },
    {
     "cell_type": "heading",
     "level": 5,
     "metadata": {},
     "source": [
      "Correction"
     ]
    },
    {
     "cell_type": "markdown",
     "metadata": {},
     "source": [
      "L'application vient avec son propre syst\u00e8me de v\u00e9rification; c'est-\u00e0-dire qu'une fois les fichiers produits, ils sont compar\u00e9s avec le r\u00e9sultat de l'impl\u00e9mentation de r\u00e9f\u00e9rence. \n",
      "\n",
      "Du coup le fait de disposer de google earth sur votre ordinateur n'est pas strictement n\u00e9cessaire, on ne s'en sert pas pour l'exercice."
     ]
    },
    {
     "cell_type": "code",
     "collapsed": false,
     "input": [],
     "language": "python",
     "metadata": {},
     "outputs": []
    }
   ],
   "metadata": {}
  }
 ]
}