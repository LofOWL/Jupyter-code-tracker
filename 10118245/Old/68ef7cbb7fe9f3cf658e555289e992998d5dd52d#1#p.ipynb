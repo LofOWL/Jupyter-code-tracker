{
 "metadata": {
  "notebookname": "Passage par r\u00e9f\u00e9rence",
  "signature": "sha256:c202795d3fb63df23db6a9bf99b17e81096e2228a31d5a7cfc00db2d98491b65",
  "version": "1.0"
 },
 "nbformat": 3,
 "nbformat_minor": 0,
 "worksheets": [
  {
   "cells": [
    {
     "cell_type": "heading",
     "level": 1,
     "metadata": {},
     "source": [
      "Passage d'arguments par r\u00e9f\u00e9rence"
     ]
    },
    {
     "cell_type": "heading",
     "level": 2,
     "metadata": {},
     "source": [
      "Compl\u00e9ment - niveau interm\u00e9diaire"
     ]
    },
    {
     "cell_type": "markdown",
     "metadata": {},
     "source": [
      "Entre le code qui appelle une fonction, et le code de la fonction elle-m\u00eame:"
     ]
    },
    {
     "cell_type": "code",
     "collapsed": false,
     "input": [
      "def ma_fonction(dans_fonction):\n",
      "    print dans_fonction\n",
      "    \n",
      "dans_appelant = 12\n",
      "ma_fonction(dans_appelant)"
     ],
     "language": "python",
     "metadata": {},
     "outputs": []
    },
    {
     "cell_type": "markdown",
     "metadata": {},
     "source": [
      "on peut se demander quel est exactement la nature de la relation entre l'appelant et l'appel\u00e9, c'est-\u00e0-dire ici `dans_appelant` et `dans_fonction`. \n",
      "\n",
      "C'est l'objet de ce compl\u00e9ment."
     ]
    },
    {
     "cell_type": "heading",
     "level": 3,
     "metadata": {},
     "source": [
      "Passage par valeur - passage par r\u00e9f\u00e9rence "
     ]
    },
    {
     "cell_type": "markdown",
     "metadata": {},
     "source": [
      "Si vous avez appris d'autres langages de programmation comme C ou C++, on a pu vous parler de deux modes de passage de param\u00e8tres:\n",
      " * par valeur: cela signifie qu'on communique \u00e0 la fonction, non pas l'entit\u00e9 dans l'appelant, mais seulement **sa valeur**; en clair, **une copie**;\n",
      " * par r\u00e9f\u00e9rence: cela signifie qu'on passe \u00e0 la fonction une **r\u00e9f\u00e9rence** \u00e0 l'argument dans l'appelant, donc essentiellement les deux codes **partagent** la m\u00eame m\u00e9moire."
     ]
    },
    {
     "cell_type": "heading",
     "level": 3,
     "metadata": {},
     "source": [
      "python fait du passage par r\u00e9f\u00e9rence"
     ]
    },
    {
     "cell_type": "markdown",
     "metadata": {},
     "source": [
      "Certains langages comme Pascal - et C++ si on veut - proposent ces deux modes. En python, tous les passage de param\u00e8tres se font **par r\u00e9f\u00e9rence**.\n",
      "\n",
      "Ce qui signifie qu'on peut voir le code ci-dessus comme \u00e9tant - pour simplifier - \u00e9quivalent \u00e0 ceci"
     ]
    },
    {
     "cell_type": "code",
     "collapsed": false,
     "input": [
      "dans_appelant = 12\n",
      "# ma_fonction (dans_appelant)\n",
      "# -> on entre dans la fonction\n",
      "dans_fonction = dans_appelant\n",
      "print dans_fonction"
     ],
     "language": "python",
     "metadata": {},
     "outputs": []
    },
    {
     "cell_type": "markdown",
     "metadata": {},
     "source": [
      "On peut le voir en instrumentant le code comme ceci (on rappelle que la fonction built-in `id` retourne l'adresse m\u00e9moire d'un objet)"
     ]
    },
    {
     "cell_type": "code",
     "collapsed": false,
     "input": [
      "def ma_fonction(dans_fonction):\n",
      "    print 'dans ma_fonction', id(dans_fonction)\n",
      "    \n",
      "dans_appelant = 12\n",
      "print 'dans appelant', dans_appelant, id(dans_appelant)\n",
      "ma_fonction(dans_appelant)"
     ],
     "language": "python",
     "metadata": {},
     "outputs": []
    },
    {
     "cell_type": "heading",
     "level": 3,
     "metadata": {},
     "source": [
      "Des r\u00e9f\u00e9rences partag\u00e9es"
     ]
    },
    {
     "cell_type": "markdown",
     "metadata": {},
     "source": [
      "Et notamment, tout ce que l'on a vu la semaine pass\u00e9e sur les r\u00e9f\u00e9rences partag\u00e9es s'applique \u00e0 l'identique."
     ]
    },
    {
     "cell_type": "code",
     "collapsed": false,
     "input": [
      "# on ne peut pas modifier un immuable dans une fonction\n",
      "def increment(n):\n",
      "    n += 1\n",
      "\n",
      "compteur = 10\n",
      "increment(compteur)\n",
      "print compteur"
     ],
     "language": "python",
     "metadata": {},
     "outputs": []
    },
    {
     "cell_type": "code",
     "collapsed": false,
     "input": [
      "# on peut par contre ajouter dans une liste\n",
      "def insert(liste, valeur):\n",
      "    liste.append(valeur)\n",
      "    \n",
      "liste = range(3)\n",
      "insert(liste, 3)\n",
      "print liste"
     ],
     "language": "python",
     "metadata": {},
     "outputs": []
    },
    {
     "cell_type": "markdown",
     "metadata": {},
     "source": [
      "Pour cette raison, il est important de bien pr\u00e9ciser, quand vous documentez une fonction, si elle fait des effets de bord sur ses arguments (c'est-\u00e0-dire qu'elle modifie ses arguments), ou si elle produit une copie. Rappelez-vous par exemple le cas de la m\u00e9thode `sort` sur les listes, et de la fonction de commodit\u00e9 `sorted`, que nous avions vues en semaine 2.\n",
      "\n",
      "De cette fa\u00e7on, on saura s'il faut ou non copier l'argument avant de le passer \u00e0 votre fonction."
     ]
    }
   ],
   "metadata": {}
  }
 ]
}