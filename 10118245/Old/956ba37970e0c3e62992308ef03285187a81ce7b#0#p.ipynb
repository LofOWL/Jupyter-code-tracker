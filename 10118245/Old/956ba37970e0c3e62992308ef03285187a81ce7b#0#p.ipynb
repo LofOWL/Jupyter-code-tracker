{
 "cells": [
  {
   "cell_type": "markdown",
   "metadata": {},
   "source": [
    "<style>div.title-slide {    width: 100%;    display: flex;    flex-direction: row;            /* default value; can be omitted */    flex-wrap: nowrap;              /* default value; can be omitted */    justify-content: space-between;}</style><div class=\"title-slide\">\n",
    "<span style=\"float:left;\">Licence CC BY-NC-ND</span>\n",
    "<span>Thierry Parmentelat &amp; Arnaud Legout</span>\n",
    "<span><img src=\"media/both-logos-small-alpha.png\" style=\"display:inline\" /></span>\n",
    "</div>"
   ]
  },
  {
   "cell_type": "markdown",
   "metadata": {},
   "source": [
    "# Essayez vous-même"
   ]
  },
  {
   "cell_type": "markdown",
   "metadata": {},
   "source": [
    "## Complément - niveau avancé"
   ]
  },
  {
   "cell_type": "markdown",
   "metadata": {},
   "source": [
    "Pour des raisons techniques, il ne nous est pas possible de mettre en ligne un notebook qui vous permette de reproduire les exemples de la vidéo."
   ]
  },
  {
   "cell_type": "markdown",
   "metadata": {},
   "source": [
    "C'est pourquoi, si vous êtes intéressés à reproduire vous-même les expériences de la vidéo - à savoir, aller chercher plusieurs URLs de manière séquentielle ou en parallèle - [vous pouvez télécharger le code fourni dans ce lien](data/async_http.py)."
   ]
  },
  {
   "cell_type": "markdown",
   "metadata": {},
   "source": [
    "Il s'agit d'un simple script, qui reprend les 3 approches de la vidéo :\n",
    "\n",
    "* accès en séquence ;\n",
    "* accès asynchrones avec `fetch` ;\n",
    "* accès asynchrones avec `fetch2` (qui pour rappel provoque un tick à chaque ligne qui revient d'un des serveurs web).\n",
    "\n",
    "À part pour l'appel à `sys.stdout.flush()`, ce code est rigoureusement identique à celui utilisé dans la vidéo. On doit faire ici cet appel à `flush()`, dans le mode avec `fetch2`, car sinon les sorties de notre script sont bufferisées, et apparaissent toutes ensemble à la fin du programme, c'est beaucoup moins drôle."
   ]
  },
  {
   "cell_type": "markdown",
   "metadata": {},
   "source": [
    "Voici son mode d'emploi :"
   ]
  },
  {
   "cell_type": "markdown",
   "metadata": {},
   "source": [
    "```\n",
    "$ python3 async_http.py --help\n",
    "usage: async_http.py [-h] [-s] [-d] [urls [urls ...]]\n",
    "\n",
    "positional arguments:\n",
    "  urls              URL's to be fetched\n",
    "\n",
    "optional arguments:\n",
    "  -h, --help        show this help message and exit\n",
    "  -s, --sequential  run sequentially\n",
    "  -d, --details     show details of lines as they show up (using fetch2)\n",
    "```"
   ]
  },
  {
   "cell_type": "markdown",
   "metadata": {},
   "source": [
    "Et voici les chiffres que j'obtiens lorsque je l'utilise dans une configuration réseau plus stable que dans la vidéo (qui donne pour cette raison montre un résultat un peu décevant) :"
   ]
  },
  {
   "cell_type": "markdown",
   "metadata": {
    "cell_style": "center"
   },
   "source": [
    "```\n",
    "$ python3 async_http.py -s\n",
    "Running sequential mode on 4 URLs\n",
    "http://www.irs.gov/pub/irs-pdf/f1040.pdf returned 179940 chars\n",
    "http://www.irs.gov/pub/irs-pdf/f1040ez.pdf returned 113242 chars\n",
    "http://www.irs.gov/pub/irs-pdf/f1040es.pdf returned 395201 chars\n",
    "http://www.irs.gov/pub/irs-pdf/f1040sb.pdf returned 73189 chars\n",
    "duration = 9.80829906463623s\n",
    "```"
   ]
  },
  {
   "cell_type": "markdown",
   "metadata": {
    "cell_style": "center"
   },
   "source": [
    "```\n",
    "$ python3 async_http.py\n",
    "Running simple mode (fetch) on 4 URLs\n",
    "fetching http://www.irs.gov/pub/irs-pdf/f1040.pdf\n",
    "fetching http://www.irs.gov/pub/irs-pdf/f1040sb.pdf\n",
    "fetching http://www.irs.gov/pub/irs-pdf/f1040es.pdf\n",
    "fetching http://www.irs.gov/pub/irs-pdf/f1040ez.pdf\n",
    "http://www.irs.gov/pub/irs-pdf/f1040.pdf response status 200\n",
    "http://www.irs.gov/pub/irs-pdf/f1040ez.pdf response status 200\n",
    "http://www.irs.gov/pub/irs-pdf/f1040sb.pdf response status 200\n",
    "http://www.irs.gov/pub/irs-pdf/f1040es.pdf response status 200\n",
    "http://www.irs.gov/pub/irs-pdf/f1040sb.pdf returned 75864 bytes\n",
    "http://www.irs.gov/pub/irs-pdf/f1040.pdf returned 186928 bytes\n",
    "http://www.irs.gov/pub/irs-pdf/f1040ez.pdf returned 117807 bytes\n",
    "http://www.irs.gov/pub/irs-pdf/f1040es.pdf returned 409193 bytes\n",
    "duration = 2.211031913757324s\n",
    "```"
   ]
  },
  {
   "cell_type": "markdown",
   "metadata": {},
   "source": [
    "N'hésitez pas à utiliser ceci comme base pour expérimenter.\n",
    "\n",
    "Nous verrons en fin de semaine un autre exemple qui cette fois illustrera l'interaction avec les sous-processus."
   ]
  }
 ],
 "metadata": {
  "kernelspec": {
   "display_name": "Python 3",
   "language": "python",
   "name": "python3"
  },
  "language_info": {
   "codemirror_mode": {
    "name": "ipython",
    "version": 3
   },
   "file_extension": ".py",
   "mimetype": "text/x-python",
   "name": "python",
   "nbconvert_exporter": "python",
   "pygments_lexer": "ipython3",
   "version": "3.6.4"
  },
  "livereveal": {
   "auto_select": "code",
   "auto_select_fragment": true,
   "autolaunch": false,
   "backimage": "media/nologo.png",
   "height": "100%",
   "start_slideshow_at": "selected",
   "theme": "simple",
   "transition": "fade",
   "width": "100%"
  },
  "notebookname": "Essayez vous-même",
  "version": "3.0"
 },
 "nbformat": 4,
 "nbformat_minor": 2
}
