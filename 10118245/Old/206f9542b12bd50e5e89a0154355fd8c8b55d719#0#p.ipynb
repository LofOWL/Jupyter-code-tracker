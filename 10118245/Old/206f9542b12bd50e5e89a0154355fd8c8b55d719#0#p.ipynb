{
 "metadata": {
  "name": "Dessiner un carr\u00e9",
  "notebookname": "Dessiner un carr\u00e9",
  "signature": "fab59ce0ac5de0a95e22704464a418401e4a1b99787dc062d76756e219a5a09d",
  "version": "1.0"
 },
 "nbformat": 3,
 "nbformat_minor": 0,
 "worksheets": [
  {
   "cells": [
    {
     "cell_type": "heading",
     "level": 1,
     "metadata": {},
     "source": [
      "Dessiner un carr\u00e9"
     ]
    },
    {
     "cell_type": "heading",
     "level": 2,
     "metadata": {},
     "source": [
      "Compl\u00e9ment - niveau basique"
     ]
    },
    {
     "cell_type": "markdown",
     "metadata": {},
     "source": [
      "Voici un tout petit programme qui dessine un carr\u00e9\n",
      "\n",
      "Il utilise le module `turtle`, con\u00e7u pr\u00e9cis\u00e9ment \u00e0 des fins p\u00e9dagogiques"
     ]
    },
    {
     "cell_type": "markdown",
     "metadata": {},
     "source": [
      "Pour des raisons techniques, le module `turtle` n'est pas disponible au travers de la plateforme FUN. L'objectif de ce compl\u00e9ment est de vous entra\u00eener \u00e0 t\u00e9l\u00e9charger ce programme en utilisant le menu *\"File -> Download as -> python\"*, puis \u00e0 le charger dans votre IDLE pour l'ex\u00e9cuter sur votre machine."
     ]
    },
    {
     "cell_type": "code",
     "collapsed": false,
     "input": [
      "import turtle"
     ],
     "language": "python",
     "metadata": {},
     "outputs": []
    },
    {
     "cell_type": "markdown",
     "metadata": {},
     "source": [
      "On commence par d\u00e9finir une fonction qui dessine un carr\u00e9 de cot\u00e9 `length`"
     ]
    },
    {
     "cell_type": "code",
     "collapsed": false,
     "input": [
      "def square (length):\n",
      "    \"a procedure to draw a square of side length\"\n",
      "    for side in range (4):\n",
      "        turtle.forward (length)\n",
      "        turtle.left (90)"
     ],
     "language": "python",
     "metadata": {},
     "outputs": []
    },
    {
     "cell_type": "markdown",
     "metadata": {},
     "source": [
      "Maintenant on commence par initialiser la tortue"
     ]
    },
    {
     "cell_type": "code",
     "collapsed": false,
     "input": [
      "turtle.reset()"
     ],
     "language": "python",
     "metadata": {},
     "outputs": []
    },
    {
     "cell_type": "markdown",
     "metadata": {},
     "source": [
      "On peut alors dessiner notre carr\u00e9"
     ]
    },
    {
     "cell_type": "code",
     "collapsed": false,
     "input": [
      "square (100)"
     ],
     "language": "python",
     "metadata": {},
     "outputs": []
    },
    {
     "cell_type": "markdown",
     "metadata": {},
     "source": [
      "Et pour finir on attend que l'utilisateur clique dans la fen\u00eatre de la tortue, et alors on termine"
     ]
    },
    {
     "cell_type": "code",
     "collapsed": false,
     "input": [
      "turtle.exitonclick()"
     ],
     "language": "python",
     "metadata": {},
     "outputs": []
    }
   ],
   "metadata": {}
  }
 ]
}