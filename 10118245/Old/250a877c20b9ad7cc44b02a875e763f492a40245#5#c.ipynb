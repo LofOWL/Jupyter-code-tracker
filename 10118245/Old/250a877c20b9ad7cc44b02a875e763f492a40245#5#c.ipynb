{
 "metadata": {
  "name": "",
  "signature": "sha256:586b28ea300a29f968ef926f3cc81116ac32a88b2384d00d7b06ea86ba961a8b"
 },
 "nbformat": 3,
 "nbformat_minor": 0,
 "worksheets": [
  {
   "cells": [
    {
     "cell_type": "heading",
     "level": 1,
     "metadata": {},
     "source": [
      "Les fonctions avec valeur de retour"
     ]
    },
    {
     "cell_type": "heading",
     "level": 3,
     "metadata": {},
     "source": [
      "Le style proc\u00e9dural"
     ]
    },
    {
     "cell_type": "markdown",
     "metadata": {},
     "source": [
      "La vid\u00e9o a introduit une fonction simple qui se contente de d\u00e9rouler des instructions. Reprenons un autre exemple d'une telle fonction"
     ]
    },
    {
     "cell_type": "code",
     "collapsed": false,
     "input": [
      "def affiche_carre (n):\n",
      "    print \"le carre de\",n,\"vaut\",n*n"
     ],
     "language": "python",
     "metadata": {},
     "outputs": []
    },
    {
     "cell_type": "markdown",
     "metadata": {},
     "source": [
      "qui s'utiliserait comme ceci"
     ]
    },
    {
     "cell_type": "code",
     "collapsed": false,
     "input": [
      "affiche_carre (12)"
     ],
     "language": "python",
     "metadata": {},
     "outputs": []
    },
    {
     "cell_type": "heading",
     "level": 3,
     "metadata": {},
     "source": [
      "Le style fonctionnel"
     ]
    },
    {
     "cell_type": "markdown",
     "metadata": {},
     "source": [
      "Cependant nous avons vu plusieurs fonctions \"builtin\", comme par exemple \"len\", dont on peut utiliser la valeur de retour, c'est \u00e0 dire qu'on peut ecrire"
     ]
    },
    {
     "cell_type": "code",
     "collapsed": false,
     "input": [
      "longueur = len ( [1,2,3] )"
     ],
     "language": "python",
     "metadata": {},
     "outputs": []
    },
    {
     "cell_type": "markdown",
     "metadata": {},
     "source": [
      "Il serait dans notre cas beaucoup plus commode de d\u00e9finir une fonction qui $\\textbf{retourne}$ le carr\u00e9 d'un nombre, afin de pouvoir \u00e9crire quelque chose comme"
     ]
    },
    {
     "cell_type": "raw",
     "metadata": {},
     "source": [
      "carre15 = carre(15)"
     ]
    },
    {
     "cell_type": "markdown",
     "metadata": {},
     "source": [
      "quitte \u00e0 imprimer cette valeur ensuite si n\u00e9cessaire - m\u00eame si jusqu'ici nous avons fait beaucoup appel \u00e0 $\\texttt{print}$, dans la pratique, imprimer n'est pas un but en soi, au contraire bien souvent."
     ]
    },
    {
     "cell_type": "heading",
     "level": 3,
     "metadata": {},
     "source": [
      "L'instruction $\\texttt{return}$"
     ]
    },
    {
     "cell_type": "markdown",
     "metadata": {},
     "source": [
      "Voici comment on pourrait \u00e9crire une fonction 'carre' "
     ]
    },
    {
     "cell_type": "code",
     "collapsed": false,
     "input": [
      "def carre (n):\n",
      "    return n*n\n",
      "\n",
      "if carre(8) <= 100 : print 'petit appartement'"
     ],
     "language": "python",
     "metadata": {},
     "outputs": []
    },
    {
     "cell_type": "markdown",
     "metadata": {},
     "source": [
      "La s\u00e9mantique (le mot savant pour \"comportement\") de l'instruction $\\texttt{return}$ est assez simple. La fonction qui est en cours d'ex\u00e9cution s'ach\u00e8ve tout de suite, et l'objet pass\u00e9 en argument \u00e0 return est .. retourn\u00e9 \u00e0 l'appelant, qui peut utiliser cette valeur comme n'importe quelle expression. "
     ]
    },
    {
     "cell_type": "heading",
     "level": 3,
     "metadata": {},
     "source": [
      "Le singleton $\\texttt{None}$"
     ]
    },
    {
     "cell_type": "markdown",
     "metadata": {},
     "source": [
      "Le terme m\u00eame de fonction, si vous vous rappelez vos souvenirs de math\u00e9matiques, sugg\u00e8re qu'on calcule un r\u00e9sultat \u00e0 partir de valeurs d'entr\u00e9e. C'est pourquoi en python une fonction a toujours une valeur de retour, et dans la pratique il est extr\u00eamement rare qu'on d\u00e9finisse une fonction qui ne retourne rien."
     ]
    },
    {
     "cell_type": "markdown",
     "metadata": {},
     "source": [
      "En fait $\\textbf{toutes}$ les fonctions retournent quelque chose. Lorsque le programmeur n'a pas pr\u00e9vu d'instruction $\\texttt{return}$, python utilise un objet sp\u00e9cial, baptis\u00e9 $\\texttt{None}$. Voici par exemple ce qu'on obtient si on essaie d'afficher la valeur de retour de notre premi\u00e8re fonction, qui ne retourne rien"
     ]
    },
    {
     "cell_type": "code",
     "collapsed": false,
     "input": [
      "carre15 = affiche_carre(15)\n",
      "print 'carre15=', carre15"
     ],
     "language": "python",
     "metadata": {},
     "outputs": []
    },
    {
     "cell_type": "markdown",
     "metadata": {},
     "source": [
      "Ceci est notre premi\u00e8re rencontre avec l'objet \"None\", qui est un singleton pr\u00e9d\u00e9fini par python, un peu comme $\\texttt{True}$ et $\\texttt{False}$. Ce n'est pas par contre une valeur bool\u00e9enne, nous auraons l'occasion d'en reparler."
     ]
    },
    {
     "cell_type": "heading",
     "level": 3,
     "metadata": {},
     "source": [
      "Un exemple un peu plus r\u00e9aliste"
     ]
    },
    {
     "cell_type": "markdown",
     "metadata": {},
     "source": [
      "XXX v\u00e9rifier si 1 est consid\u00e9r\u00e9 comme premier ou pas\n",
      "\n",
      "XXX envisager de couper en deux dans un second notebook\n",
      "\n",
      "Pour illustrer l'utilisation de $\\texttt{return}$ sur un exemple plus utile, voyons le code suivant"
     ]
    },
    {
     "cell_type": "code",
     "collapsed": false,
     "input": [
      "def premier (n):\n",
      "    \"\"\"Retourne un bool\u00e9en selon que n est premier ou non\n",
      "Retourne None pour les entr\u00e9es n\u00e9gatives ou nulles\"\"\"\n",
      "    # retourner None pour les entr\u00e9es non valides\n",
      "    if n <= 0:\n",
      "        return\n",
      "    # traiter les cas singuliers\n",
      "    elif n in [1,2,3]:\n",
      "        return True\n",
      "    # chercher un diviseur dans [2..n-1]\n",
      "    else:\n",
      "        for i in range (2,n):\n",
      "            if n%i == 0:\n",
      "                # on a trouve un diviseur\n",
      "                return False\n",
      "    # a ce stade c'est que le nombre est bien premier\n",
      "    return True"
     ],
     "language": "python",
     "metadata": {},
     "outputs": []
    },
    {
     "cell_type": "markdown",
     "metadata": {},
     "source": [
      "Cette fonction teste si un entier est premier ou non; il s'agit naturellement d'une version d'\u00e9cole, il existe bien entendu d'autres m\u00e9thodes beaucoup plus adapt\u00e9es \u00e0 cette t\u00e2che. On peut toutefois v\u00e9rifier que cette version est fonctionnelle pour de petits entiers:"
     ]
    },
    {
     "cell_type": "code",
     "collapsed": false,
     "input": [
      "for test in [-2, 2, 4, 19, 35]:\n",
      "    print \"n\",test,\"premier\",premier(test)"
     ],
     "language": "python",
     "metadata": {},
     "outputs": []
    },
    {
     "cell_type": "heading",
     "level": 5,
     "metadata": {},
     "source": [
      "$\\texttt{return}$ sans valeur "
     ]
    },
    {
     "cell_type": "markdown",
     "metadata": {},
     "source": [
      "Pour les besoins de cette discussion, nous avons choisi de retourner \"None\" pour les entiers n\u00e9gatifs ou nuls, une mani\u00e8re comme une autre de signaler que la valeur en entr\u00e9e n'est pas valide. \n",
      "\n",
      "Ceci n'est pas forc\u00e9ment une bonne pratique, mais nous permet ici d'illustrer que dans le cas ou on ne mentionne pas de valeur de retour, python retourne $\\texttt{None}$. "
     ]
    },
    {
     "cell_type": "heading",
     "level": 5,
     "metadata": {},
     "source": [
      "$\\texttt{return}$ interrompt la fonction"
     ]
    },
    {
     "cell_type": "markdown",
     "metadata": {},
     "source": [
      "Comme on peut s'en convaincre en instrumentant le code - que vous pouvez faire \u00e0 titre d'exercice, dans le cas d'un nombre qui n'est pas premier la boucle for ne va pas jusqu'\u00e0 son terme"
     ]
    },
    {
     "cell_type": "markdown",
     "metadata": {},
     "source": [
      "On aurait pu d'ailleurs tirer profit de cette propri\u00e9t\u00e9 pour \u00e9crire la fonction de mani\u00e8re l\u00e9g\u00e8rement diff\u00e9rente comme ceci"
     ]
    },
    {
     "cell_type": "code",
     "collapsed": false,
     "input": [
      "def premier_bis (n):\n",
      "    \"\"\"Retourne un bool\u00e9en selon que n est premier ou non\n",
      "Retourne None pour les entr\u00e9es n\u00e9gatives ou nulles\"\"\"\n",
      "    # retourner None pour les entr\u00e9es non valides\n",
      "    if n <= 0:\n",
      "        return\n",
      "    # traiter les cas singuliers\n",
      "    if n in [1,2,3]:\n",
      "        return True\n",
      "    # chercher un diviseur dans [2..n-1]\n",
      "    for i in range (2,n):\n",
      "        if n%i == 0:\n",
      "            # on a trouve un diviseur\n",
      "            return False\n",
      "    # a ce stade c'est que le nombre est bien premier\n",
      "    return True"
     ],
     "language": "python",
     "metadata": {},
     "outputs": []
    },
    {
     "cell_type": "markdown",
     "metadata": {},
     "source": [
      "Ici encore c'est une question de style et de go\u00fbt. En tous cas les deux versions sont tout \u00e0 fait \u00e9quivalentes, comme on le voit ici"
     ]
    },
    {
     "cell_type": "code",
     "collapsed": false,
     "input": [
      "for test in [-2, 2, 4, 19, 35]:\n",
      "    print \"n\",test,premier(test)==premier_bis(test)"
     ],
     "language": "python",
     "metadata": {},
     "outputs": []
    }
   ],
   "metadata": {}
  }
 ]
}