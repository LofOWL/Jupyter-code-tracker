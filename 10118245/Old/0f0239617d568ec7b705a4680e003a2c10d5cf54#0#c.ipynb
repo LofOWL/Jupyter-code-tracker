{
 "cells": [
  {
   "cell_type": "markdown",
   "metadata": {},
   "source": [
    "<span style=\"float:left;\">Licence CC BY-NC-ND</span><span style=\"float:right;\">Thierry Parmentelat &amp; Arnaud Legout&nbsp;<img src=\"media/inria-25-alpha.png\" style=\"display:inline\"></span><br/>"
   ]
  },
  {
   "cell_type": "markdown",
   "metadata": {},
   "source": [
    "# Itérateur et performances"
   ]
  },
  {
   "cell_type": "markdown",
   "metadata": {},
   "source": [
    "XXX couper en deux pour faire \n",
    "\n",
    "* un truc sur la mesure de performances \n",
    "* un truc sur les itérateurs\n",
    "\n",
    " Voir aussi `ONGOING-py3.md`"
   ]
  },
  {
   "cell_type": "markdown",
   "metadata": {},
   "source": [
    "## Complément - niveau basique"
   ]
  },
  {
   "cell_type": "markdown",
   "metadata": {},
   "source": [
    "Dans ce complément, nous allons voir pourquoi il est bien souvent preférable d'utiliser un itérateur comme sujet d'une boucle `for`, plutôt que d'itérer sur une énumération explicite comme une liste."
   ]
  },
  {
   "cell_type": "markdown",
   "metadata": {},
   "source": [
    "### Calculs non-instantanés dans un notebook\n",
    "\n",
    "Si en manipulant les exemples vous lancez par erreur un calcul trop long, l'interpréteur reste occupé jusqu'à en avoir fini avec ce calcul, et ne pourra pas évaluer d'autres cellules tant qu'il n'aura pas fini. Simulons ça avec un petit bout de programme qui attend bêtement pendant 5 secondes."
   ]
  },
  {
   "cell_type": "code",
   "execution_count": 7,
   "metadata": {},
   "outputs": [
    {
     "data": {
      "text/plain": [
       "'fini'"
      ]
     },
     "execution_count": 7,
     "metadata": {},
     "output_type": "execute_result"
    }
   ],
   "source": [
    "from time import sleep\n",
    "sleep(5)\n",
    "\"c'est fini\""
   ]
  },
  {
   "cell_type": "markdown",
   "metadata": {},
   "source": [
    "Vous remarquez que pendant le temps du `sleep`, le nombre en face du label `In[]` est remplacé par une étoile, qui indique que votre interpréteur python est occupé.\n",
    "\n",
    "Si cela vous arrive suite à une fausse manœuvre (vous lancez une boucle qui ne termine pas), ou si vous n'êtes pas assez patient pour attendre, pensez à faire, via les menus du notebook:\n",
    "* *Kernel* → *Interrupt* pour interrompre le traitement, ou encore\n",
    "* *Kernel* → *Restart* pour redémarrer votre interpréteur."
   ]
  },
  {
   "cell_type": "markdown",
   "metadata": {},
   "source": [
    "### Utilitaire `%%timeit`"
   ]
  },
  {
   "cell_type": "markdown",
   "metadata": {},
   "source": [
    "À l'intérieur d'un notebook, lorsqu'on a besoin de mesurer le temps d'exécution d'un fragment de code, il est pratique d'utiliser l'astuce suivante:"
   ]
  },
  {
   "cell_type": "code",
   "execution_count": null,
   "metadata": {
    "collapsed": true
   },
   "outputs": [],
   "source": [
    "%%timeit\n",
    "for i in range(10**3):\n",
    "    j = i**2"
   ]
  },
  {
   "cell_type": "markdown",
   "metadata": {},
   "source": [
    "La première ligne de cette cellule utilise ce qu'on appelle une *magic* ipython, et elle permet de mesurer avec le module `timeit` le temps d'exécution du code dans le reste de la cellule."
   ]
  },
  {
   "cell_type": "markdown",
   "metadata": {},
   "source": [
    "Dans mon environnement, après avoir évalué cette cellule le système m'affiche ceci:\n",
    "\n",
    "```\n",
    "310 µs ± 6.44 µs per loop (mean ± std. dev. of 7 runs, 1000 loops each)\n",
    "```\n",
    "\n",
    "qui prend quelques secondes, car la mesure du temps est faite en exécutant le code plusieurs fois. Ici en l'occurrence le chiffre qui nous intéresse est le tout premier, qui nous dit que pour exécuter toute la boucle il nous a fallu en moyenne 310 µs."
   ]
  },
  {
   "cell_type": "markdown",
   "metadata": {},
   "source": [
    "##### `%%timeit -n`"
   ]
  },
  {
   "cell_type": "markdown",
   "metadata": {},
   "source": [
    "Nous utiliserons parfois l'option `-n` qui nous permet de fixer le nombre de fois où le code est exécuté, pour fluidifier le notebook, cela se présente comme ceci:"
   ]
  },
  {
   "cell_type": "code",
   "execution_count": 3,
   "metadata": {},
   "outputs": [
    {
     "name": "stdout",
     "output_type": "stream",
     "text": [
      "33.1 ms ± 1.22 ms per loop (mean ± std. dev. of 7 runs, 10 loops each)\n"
     ]
    }
   ],
   "source": [
    "%%timeit -n 10\n",
    "# sans rien préciser ça prend vraiment longtemps\n",
    "# ça vous donne l'occasion de faire un Kernel .. Interrupt :)\n",
    "for i in range(10**5):\n",
    "    j = i**2"
   ]
  },
  {
   "cell_type": "markdown",
   "metadata": {},
   "source": [
    "### Le module `time`"
   ]
  },
  {
   "cell_type": "markdown",
   "metadata": {},
   "source": [
    "Une autre façon de mesurer les temps d'exécution, plus basique mais moins fiable que `timeit`, consiste à utiliser la fonction `time.time()`, qui retourne l'heure de l'horloge interne, en secondes. On peut donc faire quelque chose comme:"
   ]
  },
  {
   "cell_type": "code",
   "execution_count": 8,
   "metadata": {},
   "outputs": [
    {
     "name": "stdout",
     "output_type": "stream",
     "text": [
      "Durée observée 0.04228615760803223\n"
     ]
    }
   ],
   "source": [
    "from time import time\n",
    "\n",
    "# on enregistre l'heure au début\n",
    "debut = time()\n",
    "\n",
    "# on fait un traitement\n",
    "for i in range(10**5):\n",
    "    j = i**2\n",
    "\n",
    "# on enregistre l'heure à la fin\n",
    "fin = time()\n",
    "\n",
    "# on peut calculer la durée observée\n",
    "print(f\"Durée observée {fin-debut}\")"
   ]
  },
  {
   "cell_type": "markdown",
   "metadata": {},
   "source": [
    "### La fonction `range()`"
   ]
  },
  {
   "cell_type": "markdown",
   "metadata": {},
   "source": [
    "La fonction *builtin* `range`, qu'on a déjà rencontré plusieurs fois, permet d'itérer sur un intervalle d'entiers:"
   ]
  },
  {
   "cell_type": "code",
   "execution_count": 22,
   "metadata": {
    "cell_style": "center"
   },
   "outputs": [
    {
     "name": "stdout",
     "output_type": "stream",
     "text": [
      "0\n",
      "1\n",
      "2\n"
     ]
    }
   ],
   "source": [
    "for i in range(3):\n",
    "    print(i)"
   ]
  },
  {
   "cell_type": "markdown",
   "metadata": {},
   "source": [
    "En fait elle prend jusqu'à trois arguments, et comme vous l'avez peut-être remarqué ou deviné, elle se comporte presque exactement comme les indices dans une slice, c'est-à dire:"
   ]
  },
  {
   "cell_type": "code",
   "execution_count": 16,
   "metadata": {
    "collapsed": true
   },
   "outputs": [],
   "source": [
    "s = \"0123456789\""
   ]
  },
  {
   "cell_type": "code",
   "execution_count": 23,
   "metadata": {
    "cell_style": "split"
   },
   "outputs": [
    {
     "data": {
      "text/plain": [
       "[3, 4, 5, 6]"
      ]
     },
     "execution_count": 23,
     "metadata": {},
     "output_type": "execute_result"
    }
   ],
   "source": [
    "list(range(3, 7))"
   ]
  },
  {
   "cell_type": "code",
   "execution_count": 21,
   "metadata": {
    "cell_style": "split"
   },
   "outputs": [
    {
     "data": {
      "text/plain": [
       "'3456'"
      ]
     },
     "execution_count": 21,
     "metadata": {},
     "output_type": "execute_result"
    }
   ],
   "source": [
    "s[3:7]"
   ]
  },
  {
   "cell_type": "code",
   "execution_count": 25,
   "metadata": {
    "cell_style": "split"
   },
   "outputs": [
    {
     "data": {
      "text/plain": [
       "[3, 5, 7]"
      ]
     },
     "execution_count": 25,
     "metadata": {},
     "output_type": "execute_result"
    }
   ],
   "source": [
    "list(range(3, 9, 2))"
   ]
  },
  {
   "cell_type": "code",
   "execution_count": 24,
   "metadata": {
    "cell_style": "split"
   },
   "outputs": [
    {
     "data": {
      "text/plain": [
       "'357'"
      ]
     },
     "execution_count": 24,
     "metadata": {},
     "output_type": "execute_result"
    }
   ],
   "source": [
    "s[3:9:2]"
   ]
  },
  {
   "cell_type": "code",
   "execution_count": 26,
   "metadata": {
    "cell_style": "split"
   },
   "outputs": [
    {
     "data": {
      "text/plain": [
       "[9, 7, 5, 3]"
      ]
     },
     "execution_count": 26,
     "metadata": {},
     "output_type": "execute_result"
    }
   ],
   "source": [
    "list(range(9, 1, -2))"
   ]
  },
  {
   "cell_type": "code",
   "execution_count": 29,
   "metadata": {
    "cell_style": "split"
   },
   "outputs": [
    {
     "data": {
      "text/plain": [
       "'9753'"
      ]
     },
     "execution_count": 29,
     "metadata": {},
     "output_type": "execute_result"
    }
   ],
   "source": [
    "s[9:1:-2]"
   ]
  },
  {
   "cell_type": "markdown",
   "metadata": {},
   "source": [
    "### Pourquoi `list(range())` ?"
   ]
  },
  {
   "cell_type": "markdown",
   "metadata": {},
   "source": [
    "Vous pouvez vous demander pourquoi dans les exemples ci-dessus on a toujours appelé `list()` sur le résultat de `range()`, et voici pourquoi:"
   ]
  },
  {
   "cell_type": "code",
   "execution_count": 36,
   "metadata": {},
   "outputs": [
    {
     "data": {
      "text/plain": [
       "range(0, 3)"
      ]
     },
     "execution_count": 36,
     "metadata": {},
     "output_type": "execute_result"
    }
   ],
   "source": [
    "r = range(3)\n",
    "r"
   ]
  },
  {
   "cell_type": "markdown",
   "metadata": {},
   "source": [
    "Comme vous le voyez, le retour de la fonction est un objet de type `range`, qui est un itérateur et non pas une liste (comme c'était d'ailleurs le cas en python2).\n",
    "\n",
    "Dans nos exemples, nous voulions voir le contenu de ce range, et un moyen simple pour faire cela est de passer l'itérateur à la fonction `list`, qui construit effectivement une liste contenant les objet énumérés par l'itérateur, et ainsi on peut les voir facilement."
   ]
  },
  {
   "cell_type": "markdown",
   "metadata": {},
   "source": [
    "La différence entre les deux approches, c'est-à-dire le fait que `range` renvoye un itérateur plutôt qu'une liste, est représentative, car de nombreuses autres fonctions *builtin* sont dans le même cas, comme par exemple:"
   ]
  },
  {
   "cell_type": "code",
   "execution_count": 47,
   "metadata": {
    "cell_style": "split"
   },
   "outputs": [
    {
     "data": {
      "text/plain": [
       "<zip at 0x10f725948>"
      ]
     },
     "execution_count": 47,
     "metadata": {},
     "output_type": "execute_result"
    }
   ],
   "source": [
    "z = zip ( ('a', 'b'), ('c', 'd'))\n",
    "z"
   ]
  },
  {
   "cell_type": "code",
   "execution_count": 48,
   "metadata": {
    "cell_style": "split"
   },
   "outputs": [
    {
     "data": {
      "text/plain": [
       "[('a', 'c'), ('b', 'd')]"
      ]
     },
     "execution_count": 48,
     "metadata": {},
     "output_type": "execute_result"
    }
   ],
   "source": [
    "# qui contient\n",
    "list(z)"
   ]
  },
  {
   "cell_type": "code",
   "execution_count": 49,
   "metadata": {
    "cell_style": "split"
   },
   "outputs": [
    {
     "data": {
      "text/plain": [
       "<enumerate at 0x10f4ad318>"
      ]
     },
     "execution_count": 49,
     "metadata": {},
     "output_type": "execute_result"
    }
   ],
   "source": [
    "e = enumerate( ('a', 'b', 'c'))\n",
    "e"
   ]
  },
  {
   "cell_type": "code",
   "execution_count": 51,
   "metadata": {
    "cell_style": "split"
   },
   "outputs": [
    {
     "data": {
      "text/plain": [
       "[]"
      ]
     },
     "execution_count": 51,
     "metadata": {},
     "output_type": "execute_result"
    }
   ],
   "source": [
    "# qui contient\n",
    "list(e)"
   ]
  },
  {
   "cell_type": "markdown",
   "metadata": {},
   "source": [
    "C'est vrai aussi de pas mal de méthodes sur types *builtin*:"
   ]
  },
  {
   "cell_type": "code",
   "execution_count": 52,
   "metadata": {
    "collapsed": true
   },
   "outputs": [],
   "source": [
    "d = { 'a' : 'un', 'b': 'deux' }"
   ]
  },
  {
   "cell_type": "code",
   "execution_count": 53,
   "metadata": {
    "cell_style": "split"
   },
   "outputs": [
    {
     "data": {
      "text/plain": [
       "dict_keys(['a', 'b'])"
      ]
     },
     "execution_count": 53,
     "metadata": {},
     "output_type": "execute_result"
    }
   ],
   "source": [
    "k = d.keys()\n",
    "k"
   ]
  },
  {
   "cell_type": "code",
   "execution_count": 54,
   "metadata": {
    "cell_style": "split"
   },
   "outputs": [
    {
     "data": {
      "text/plain": [
       "['a', 'b']"
      ]
     },
     "execution_count": 54,
     "metadata": {},
     "output_type": "execute_result"
    }
   ],
   "source": [
    "# qui contient\n",
    "list(k)"
   ]
  },
  {
   "cell_type": "markdown",
   "metadata": {},
   "source": [
    "### Pourquoi des itérateurs partout ?"
   ]
  },
  {
   "cell_type": "markdown",
   "metadata": {},
   "source": [
    "Nous allons mesurer le temps qu'il faut pour **simplement construire** un objet liste, lorsque les tailles commencent à devenir substantielles:"
   ]
  },
  {
   "cell_type": "code",
   "execution_count": 55,
   "metadata": {
    "collapsed": true
   },
   "outputs": [],
   "source": [
    "# de 100.000 à 50 millions\n",
    "tailles = [10**5, 10**6, 10**7, 5*10**7]"
   ]
  },
  {
   "cell_type": "markdown",
   "metadata": {},
   "source": [
    "Voyons le temps que prend uniquement la **construction** d'une grosse liste."
   ]
  },
  {
   "cell_type": "code",
   "execution_count": 60,
   "metadata": {},
   "outputs": [
    {
     "name": "stdout",
     "output_type": "stream",
     "text": [
      "Création de la liste de taille 100000: 0.0025811195373535156s\n",
      "Création de la liste de taille 1000000: 0.02711319923400879s\n",
      "Création de la liste de taille 10000000: 0.28140783309936523s\n",
      "Création de la liste de taille 50000000: 1.8900179862976074s\n"
     ]
    }
   ],
   "source": [
    "import time\n",
    "\n",
    "for taille in tailles:\n",
    "    beg = time.time()\n",
    "    liste = list(range(taille))\n",
    "    end = time.time()\n",
    "    print(f\"Création de la liste de taille {taille}: {end-beg}s\")"
   ]
  },
  {
   "cell_type": "markdown",
   "metadata": {},
   "source": [
    "Si maintenant on construit un itérateur équivalent on mesure un temps beaucoup plus court:"
   ]
  },
  {
   "cell_type": "code",
   "execution_count": 61,
   "metadata": {},
   "outputs": [
    {
     "name": "stdout",
     "output_type": "stream",
     "text": [
      "Création de l'itérateur de taille 100000: 2.86102294921875e-06s\n",
      "Création de l'itérateur de taille 1000000: 3.0994415283203125e-06s\n",
      "Création de l'itérateur de taille 10000000: 1.1920928955078125e-06s\n",
      "Création de l'itérateur de taille 50000000: 2.86102294921875e-06s\n"
     ]
    }
   ],
   "source": [
    "import time\n",
    "\n",
    "for taille in tailles:\n",
    "    beg = time.time()\n",
    "    iterateur = range(taille)\n",
    "    end = time.time()\n",
    "    print(f\"Création de l'itérateur de taille {taille}: {end-beg}s\")"
   ]
  },
  {
   "cell_type": "markdown",
   "metadata": {},
   "source": [
    "Vous pouvez remarquer que:\n",
    "* les ordres de grandeur sont complètement différents\n",
    "* en tendance, la **création d'un itérateur** de type `range` est quasiment **instantanée** quelle que soit la taille,\n",
    "* alors que la création d'une liste équivalente prend **un temps beaucoup plus important**\n",
    "* et d'autant plus long que la liste est grande."
   ]
  },
  {
   "cell_type": "markdown",
   "metadata": {},
   "source": [
    "Si on regarde la mémoire occupée (avec [sys.getsizeof](https://docs.python.org/3/library/sys.html#sys.getsizeof)) par les deux sortes d'objet, c'est également très différent:"
   ]
  },
  {
   "cell_type": "code",
   "execution_count": 65,
   "metadata": {},
   "outputs": [
    {
     "name": "stdout",
     "output_type": "stream",
     "text": [
      "liste de taille 100000 = 900112 bytes\n",
      "liste de taille 1000000 = 9000112 bytes\n",
      "liste de taille 10000000 = 90000112 bytes\n",
      "liste de taille 50000000 = 450000112 bytes\n"
     ]
    },
    {
     "data": {
      "text/plain": [
       "450000112"
      ]
     },
     "execution_count": 65,
     "metadata": {},
     "output_type": "execute_result"
    }
   ],
   "source": [
    "import sys\n",
    "\n",
    "for taille in tailles:\n",
    "    liste = list(range(taille))\n",
    "    print(f\"liste de taille {taille} = {sys.getsizeof(liste)} bytes\")"
   ]
  },
  {
   "cell_type": "code",
   "execution_count": 68,
   "metadata": {},
   "outputs": [
    {
     "name": "stdout",
     "output_type": "stream",
     "text": [
      "iterateur de taille 100000 = 48 bytes\n",
      "iterateur de taille 1000000 = 48 bytes\n",
      "iterateur de taille 10000000 = 48 bytes\n",
      "iterateur de taille 50000000 = 48 bytes\n"
     ]
    }
   ],
   "source": [
    "import sys\n",
    "\n",
    "for taille in tailles:\n",
    "    iterateur = range(taille)\n",
    "    print(f\"iterateur de taille {taille} = {sys.getsizeof(iterateur)} bytes\")"
   ]
  },
  {
   "cell_type": "markdown",
   "metadata": {},
   "source": [
    "Là encore, on a une totale disproportion des ressources utilisées."
   ]
  },
  {
   "cell_type": "markdown",
   "metadata": {},
   "source": [
    "Or, et c'est le point important, la plupart du temps on **n'a pas du tout besoin** de cette liste de valeurs sur lesquelles itérer, car on la jette quasiment immédiatement, comme vous pouvez le voir si vous exécutez les deux animations suivantes dans pythontutor:"
   ]
  },
  {
   "cell_type": "code",
   "execution_count": null,
   "metadata": {
    "collapsed": true
   },
   "outputs": [],
   "source": [
    "%load_ext ipythontutor"
   ]
  },
  {
   "cell_type": "code",
   "execution_count": 79,
   "metadata": {
    "cell_style": "center"
   },
   "outputs": [
    {
     "data": {
      "application/vnd.jupyter.widget-view+json": {
       "model_id": "ac4fd98fe56b4d39ae020f4a6af780bd"
      }
     },
     "metadata": {},
     "output_type": "display_data"
    }
   ],
   "source": [
    "%%ipythontutor curInstr=3\n",
    "taille = 10\n",
    "iterateur = range(taille)\n",
    "counter = sum(iterateur)    "
   ]
  },
  {
   "cell_type": "code",
   "execution_count": 81,
   "metadata": {
    "cell_style": "center"
   },
   "outputs": [
    {
     "data": {
      "application/vnd.jupyter.widget-view+json": {
       "model_id": "fc5e5a8427834f1e90290a1da87629f2"
      }
     },
     "metadata": {},
     "output_type": "display_data"
    }
   ],
   "source": [
    "%%ipythontutor curInstr=3\n",
    "taille = 10\n",
    "liste = list(range(taille))\n",
    "counter = sum(liste)    "
   ]
  },
  {
   "cell_type": "markdown",
   "metadata": {},
   "source": [
    "### Ce qu'il faut retenir"
   ]
  },
  {
   "cell_type": "markdown",
   "metadata": {},
   "source": [
    "Pour résumer ce complément, retenez que: \n",
    "\n",
    " * la **construction d'une liste**, surtout si elle est très longue, peut avoir un **coût non négligeable** en temps, et aussi en mémoire;\n",
    " * c'est pourquoi il convient de s'efforcer de **ne créer une liste** que lorsque c'est **réellement nécessaire**;\n",
    " * et dans tous les autres cas - c'est à dire à chaque fois que la liste n'est qu'un **accessoire de calcul**, et ne représente pas une fin en soi - il faut **préférer** l'utilisation d'**itérateurs**."
   ]
  },
  {
   "cell_type": "markdown",
   "metadata": {},
   "source": [
    "## Complément - niveau intermédiaire"
   ]
  },
  {
   "cell_type": "markdown",
   "metadata": {},
   "source": [
    "### Allouer et initialiser de la mémoire prend du temps"
   ]
  },
  {
   "cell_type": "markdown",
   "metadata": {},
   "source": [
    "Ce phénomène peut vous paraître surprenant si vous n'êtes pas familier avec l'informatique. À première vue, si on juge superficiellement, on peut se demander ce qui se passe. \n",
    "\n",
    "En fait, pour créer la liste des `taille` premiers entiers, il faut\n",
    " * d'abord allouer suffisamment de mémoire pour tous les ranger\n",
    " * et ensuite remplir les `taille` cases de la liste avec les valeurs\n",
    "\n",
    "Ces deux opérations semblent banales, mais elles prennent néanmoins un peu de temps, qui à grande échelle devient sensible, comme nous venons de l'expérimenter."
   ]
  },
  {
   "cell_type": "markdown",
   "metadata": {},
   "source": [
    "### Un itérateur est un objet minuscule"
   ]
  },
  {
   "cell_type": "markdown",
   "metadata": {},
   "source": [
    "A contrario, un itérateur du type `range` ne **contient presque rien**. Cela sera approfondi en semaine 6, mais pour anticiper un peu la fonction d'un iterateur `range` consiste uniquement à mémoriser les paramètres de la boucle, et à quelle étape on en est rendu à un moment donné. \n",
    "\n",
    "Ce qui explique le temps très faible, et constant en fonction de `taille`, que l'on a observé pour la création de nos itérateurs."
   ]
  },
  {
   "cell_type": "markdown",
   "metadata": {},
   "source": [
    "## Complément - niveau avancé"
   ]
  },
  {
   "cell_type": "markdown",
   "metadata": {},
   "source": [
    "Pour finir, et pour revenir sur les mesures de performances, voici une astuce qui permet de lancer  de petits benchmarkes dans un terminal&nbsp;:"
   ]
  },
  {
   "cell_type": "markdown",
   "metadata": {},
   "source": [
    "    $ python -m timeit 'liste=range(10**6)' 'for x in liste: x+1'\n",
    "    10 loops, best of 3: 50.5 msec per loop"
   ]
  },
  {
   "cell_type": "markdown",
   "metadata": {},
   "source": [
    "Ceci met en jeu un certain nombre de choses nouvelles:\n",
    " * python avec l'option -m permet d'importer un module, en l'occurrence ici [le module `timeit`](https://docs.python.org/3/library/timeit.html);\n",
    " * avec cette forme on peut passer à `timeit` plusieurs instructions; ici nous avons deux instructions, une pour initialiser `liste`, la seconde pour lancer la boucle `for`;\n",
    " * il est possible d'écrire des instructions sur une seule ligne. Ici le dernier argument passé à python est \n",
    " \n",
    "    for x in liste: x+1\n",
    "    \n",
    "   qui est interprété comme une seule ligne. Cette pratique doit absolument rester limitée à de tels usages spécifiques.\n"
   ]
  },
  {
   "cell_type": "markdown",
   "metadata": {},
   "source": [
    "Cette forme est pratique notamment parce que `timeit` fait, comme on le voit, plusieurs essais successifs qui donnent un résultat plus représentatif. C'est pourquoi vous la trouverez fréquemment utilisée dans les forums de discussion autour de python."
   ]
  }
 ],
 "metadata": {
  "kernelspec": {
   "display_name": "Python 3",
   "language": "python",
   "name": "python3"
  },
  "language_info": {
   "codemirror_mode": {
    "name": "ipython",
    "version": 3
   },
   "file_extension": ".py",
   "mimetype": "text/x-python",
   "name": "python",
   "nbconvert_exporter": "python",
   "pygments_lexer": "ipython3",
   "version": "3.6.2"
  },
  "notebookname": "Itérateurs et performances",
  "version": "3.0"
 },
 "nbformat": 4,
 "nbformat_minor": 1
}
