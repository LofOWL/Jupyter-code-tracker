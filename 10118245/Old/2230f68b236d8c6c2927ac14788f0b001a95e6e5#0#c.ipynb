{
 "metadata": {
  "notebookname": "Mini-projets",
  "signature": "sha256:3afad037b3083f523ac023c846e200117537cd3bf853c438b483967f1743d08d",
  "version": "1.0"
 },
 "nbformat": 3,
 "nbformat_minor": 0,
 "worksheets": [
  {
   "cells": [
    {
     "cell_type": "heading",
     "level": 1,
     "metadata": {},
     "source": [
      "Mini-projets"
     ]
    },
    {
     "cell_type": "markdown",
     "metadata": {},
     "source": [
      "\u00c0 l'issue de la semaine 5, vous avez \u00e0 pr\u00e9sent un bagage tr\u00e8s complet en ce qui concerne les notions usuelles du langage. \n",
      "\n",
      "Pour les deux derni\u00e8res semaines, les cours vont adresser des points plus sp\u00e9cifiques ou avanc\u00e9s. Nous vous proposons pour ces deux semaines un programme d'exercices volontairement r\u00e9duit, pour vous donner le temps de vous investir dans un mini-projet."
     ]
    },
    {
     "cell_type": "markdown",
     "metadata": {},
     "source": [
      "Apr\u00e8s avoir \u00e9crit tout d'abord de tous petits fragments de code dans les semaines 2 \u00e0 4, puis un module entier avec quelques classes en Semaine 5, il est temps pour vous de vous essayer \u00e0 \u00e9crire une petite application compl\u00e8te."
     ]
    },
    {
     "cell_type": "markdown",
     "metadata": {},
     "source": [
      "Pour vous donner des id\u00e9es dans ce sens, nous vous proposons de choisir un (ou plusieurs, naturellement) sujets parmi ces trois-ci&nbsp;:\n",
      "\n",
      " * `diskusage.py` est un outil orient\u00e9 *Command-Line*, qui peut \u00eatre utile dans la vie de tous les jours lorsqu'il s'agit de faire le m\u00e9nage dans un disque trop plein. Ce sujet vous permettra de voir de plus pr\u00e8s un exemple de `script`, comparable en gros \u00e0 ce qu'on pourrait faire en shell;\n",
      " \n",
      " * `webcrawler.py` est un prototype de robot qui aspire les pages web \u00e0 partir d'une URL qui sert de point d'entr\u00e9e;\n",
      " \n",
      " * `meteodata.py` est un exemple de code qui extrait des donn\u00e9es m\u00e9t\u00e9o fournies par un service Internet, qui servent ensuite de pr\u00e9texte pour faire un peu de visualisation avec `matplotlib`.\n",
      " "
     ]
    },
    {
     "cell_type": "markdown",
     "metadata": {},
     "source": [
      "Chacun de ces sujets de mini-projet est d\u00e9taill\u00e9 dans un notebook s\u00e9par\u00e9."
     ]
    },
    {
     "cell_type": "markdown",
     "metadata": {},
     "source": [
      "Pour chaque sujet, l'esprit g\u00e9n\u00e9ral consiste pour nous \u00e0 expliquer le contexte, vous donner quelques pistes pour l'impl\u00e9mentation, et vous montrer les diff\u00e9rentes *features* que nous avons impl\u00e9ment\u00e9es, pour vous donner des id\u00e9es. Mais naturellement tout ceci est \u00e0 titre indicatif, \u00e0 vous de choisir les *features* qui vous int\u00e9ressent."
     ]
    },
    {
     "cell_type": "markdown",
     "metadata": {},
     "source": [
      "En parall\u00e8le du mini-projet, un objectif de l'exercice est de vous donner l'occasion de jeter un coup d'oeil \u00e0 la librairie standard python, que vous pouvez parcourir \u00e0 partir de ce point d'entr\u00e9e\n",
      "\n",
      "https://docs.python.org/2/library/index.html\n",
      "\n",
      "Vous y retrouverez les modules dont nous avons d\u00e9j\u00e0 parl\u00e9, et bien d'autres."
     ]
    },
    {
     "cell_type": "markdown",
     "metadata": {},
     "source": [
      "Enfin, en guise de corrig\u00e9s, nous publierons vers la fin du MOOC nos codes source pour chacun des trois sujets. \n",
      "\n",
      "\u00c0 vous de jouer donc. Comme toujours n'h\u00e9sitez pas \u00e0 \u00e9changer vos probl\u00e8mes et solutions sur le forum."
     ]
    }
   ],
   "metadata": {}
  }
 ]
}