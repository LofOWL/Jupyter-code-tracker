{
 "metadata": {
  "notebookname": "La suite de Fibonacci",
  "signature": "00bb87851a2e6c0ff07b25b7e42c478bab658ebb87cdbe91b9513eefd3372372",
  "version": "1.0"
 },
 "nbformat": 3,
 "nbformat_minor": 0,
 "worksheets": [
  {
   "cells": [
    {
     "cell_type": "heading",
     "level": 1,
     "metadata": {},
     "source": [
      "La suite de Fibonacci"
     ]
    },
    {
     "cell_type": "heading",
     "level": 2,
     "metadata": {},
     "source": [
      "Compl\u00e9ment - niveau basique"
     ]
    },
    {
     "cell_type": "markdown",
     "metadata": {},
     "source": [
      "Voici un premier exemple de code que vous pouvez utiliser dans ce notebook, mais aussi t\u00e9l\u00e9charger sur votre ordinateur en utilisant le menu *\"File -> Download as -> python\"*, pour l'ex\u00e9cuter gr\u00e2ce \u00e0 IDLE ou `python`."
     ]
    },
    {
     "cell_type": "markdown",
     "metadata": {},
     "source": [
      "Le but de ce programme est de calculer la fonction de Fibonacci, qui comme vous vous en souvenez s\u00fbrement est  d\u00e9finie comme\n",
      "\n",
      "$ u_0 = 1 $\n",
      "\n",
      "$ u_1 = 1 $\n",
      "\n",
      "$ u_{n+2} = u_{n+1} + u_{n} $\n",
      "\n",
      "Ce qui donne pour les premi\u00e8res valeurs\n",
      "\n",
      "<table>\n",
      "<thead><tr><th>n</th><td>fibonacci(n)</td></tr></thead>\n",
      "<tr><td>0</td><td>1</td></tr>\n",
      "<tr><td>1</td><td>1</td></tr>\n",
      "<tr><td>2</td><td>2</td></tr>\n",
      "<tr><td>3</td><td>3</td></tr>\n",
      "<tr><td>4</td><td>5</td></tr>\n",
      "<tr><td>5</td><td>8</td></tr>\n",
      "</table>\n"
     ]
    },
    {
     "cell_type": "markdown",
     "metadata": {},
     "source": [
      "On commence par d\u00e9finir la fonction `fibonacci` comme suit. Naturellement vous n'avez pas encore tout le bagage pour lire ce code, ne vous inqui\u00e9tez pas nous allons vous expliquer tout \u00e7a dans les prochaines semaines."
     ]
    },
    {
     "cell_type": "code",
     "collapsed": false,
     "input": [
      "def fibonacci (n):\n",
      "    \"retourne le nombre de fibonacci pour l'entier n\"\n",
      "    # pour les petites valeurs de n il n'y a rien a calculer\n",
      "    if n <= 1 : \n",
      "        return 1\n",
      "    # sinon on initialise f1 pour n-1 et f2 pour n-2\n",
      "    f2, f1 = 1, 1\n",
      "    # et on iterere n-1 fois pour additionner\n",
      "    for i in range (2,n+1):\n",
      "        f2, f1 = f1, f1+f2\n",
      "#        print i, f2, f1\n",
      "    # le r\u00e9sultat est dans f1\n",
      "    return f1"
     ],
     "language": "python",
     "metadata": {},
     "outputs": []
    },
    {
     "cell_type": "markdown",
     "metadata": {},
     "source": [
      "Pour en faire un programme utilisable on va demander \u00e0 l'utilisateur de rentrer un nombre; il faut le convertir en entier car `raw_input`renvoie une cha\u00eene de caract\u00e8res"
     ]
    },
    {
     "cell_type": "code",
     "collapsed": false,
     "input": [
      "entier = int ( raw_input (\"Entrer un entier \"))"
     ],
     "language": "python",
     "metadata": {},
     "outputs": []
    },
    {
     "cell_type": "markdown",
     "metadata": {},
     "source": [
      "On imprime le r\u00e9sultat"
     ]
    },
    {
     "cell_type": "code",
     "collapsed": false,
     "input": [
      "print \"fibonacci({}) = {}\".format(entier, fibonacci (entier))"
     ],
     "language": "python",
     "metadata": {},
     "outputs": []
    },
    {
     "cell_type": "heading",
     "level": 3,
     "metadata": {},
     "source": [
      "Exercice"
     ]
    },
    {
     "cell_type": "markdown",
     "metadata": {},
     "source": [
      "Vous pouvez donc \u00e0 pr\u00e9sent\n",
      " * ex\u00e9cuter le code dans ce notebook\n",
      " * t\u00e9l\u00e9charger ce code sur votre disque comme un fichier `fibonacci_prompt.py`\n",
      " * l'ex\u00e9cuter sous idle\n",
      " * le modifier, par exemple pour afficher les r\u00e9sultats interm\u00e9diaires\n",
      " * l'ex\u00e9cuter avec simplement python comme ceci\n",
      " \n",
      "     `$ python fibonacci_prompt.py`\n",
      "     "
     ]
    },
    {
     "cell_type": "markdown",
     "metadata": {},
     "source": [
      "Pour ne pas alourdir le code vous verrez que ce programme se comporte mal si vous n'entrez pas un entier positif"
     ]
    },
    {
     "cell_type": "markdown",
     "metadata": {},
     "source": [
      "Nous allons voir tout de suite une version l\u00e9g\u00e8rement diff\u00e9rente qui vous permet de sp\u00e9cifier la valeur d'entr\u00e9e sur la ligne de commande"
     ]
    }
   ],
   "metadata": {}
  }
 ]
}