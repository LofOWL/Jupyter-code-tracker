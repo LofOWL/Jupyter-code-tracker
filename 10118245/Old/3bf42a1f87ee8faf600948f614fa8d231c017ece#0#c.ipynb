{
 "metadata": {
  "name": "",
  "signature": "sha256:559c6fb08e99e290449887f613bcd729c91952230676f8435e4d4d2a7f453038"
 },
 "nbformat": 3,
 "nbformat_minor": 0,
 "worksheets": [
  {
   "cells": [
    {
     "cell_type": "heading",
     "level": 1,
     "metadata": {},
     "source": [
      "Typage dynamique"
     ]
    },
    {
     "cell_type": "markdown",
     "metadata": {},
     "source": [
      "Revenons un peu sur la notion de typage dynamique. \n",
      "Comme on l'a vu dans la premi\u00e8re vid\u00e9o, \n",
      "le type en python est attach\u00e9 \u00e0 la valeur et non \u00e0 la variable"
     ]
    },
    {
     "cell_type": "heading",
     "level": 3,
     "metadata": {},
     "source": [
      "La fonction $\\texttt{type}$"
     ]
    },
    {
     "cell_type": "markdown",
     "metadata": {},
     "source": [
      "La fonction \"built-in\" $\\texttt{type}$ permet d'obtenir le type d'une valeur"
     ]
    },
    {
     "cell_type": "code",
     "collapsed": false,
     "input": [
      "a=3\n",
      "type(a)"
     ],
     "language": "python",
     "metadata": {},
     "outputs": [
      {
       "metadata": {},
       "output_type": "pyout",
       "prompt_number": 1,
       "text": [
        "int"
       ]
      }
     ],
     "prompt_number": 1
    },
    {
     "cell_type": "code",
     "collapsed": false,
     "input": [
      "a='spam'\n",
      "type(a)"
     ],
     "language": "python",
     "metadata": {},
     "outputs": [
      {
       "metadata": {},
       "output_type": "pyout",
       "prompt_number": 2,
       "text": [
        "str"
       ]
      }
     ],
     "prompt_number": 2
    },
    {
     "cell_type": "markdown",
     "metadata": {},
     "source": [
      "$\\textit{Remarque.}$ Ceci est en opposition compl\u00e8te avec les langages compil\u00e9s comme C et C++, o\u00f9 une variable donn\u00e9e a un type d\u00e9termin\u00e9 une bonne fois pour toutes au moment de la compilation. C'est pourquoi on dit que ces langages sont \u00e0 typage statique."
     ]
    },
    {
     "cell_type": "heading",
     "level": 3,
     "metadata": {},
     "source": [
      "Tout est objet"
     ]
    },
    {
     "cell_type": "markdown",
     "metadata": {},
     "source": [
      "Notamment les types $\\texttt{int}$ et $\\texttt{str}$ sont aussi des objets dont on peut calculer le type"
     ]
    },
    {
     "cell_type": "code",
     "collapsed": false,
     "input": [
      "type(type(3))"
     ],
     "language": "python",
     "metadata": {},
     "outputs": [
      {
       "metadata": {},
       "output_type": "pyout",
       "prompt_number": 3,
       "text": [
        "type"
       ]
      }
     ],
     "prompt_number": 3
    },
    {
     "cell_type": "code",
     "collapsed": false,
     "input": [
      "type(type('spam'))"
     ],
     "language": "python",
     "metadata": {},
     "outputs": [
      {
       "metadata": {},
       "output_type": "pyout",
       "prompt_number": 4,
       "text": [
        "type"
       ]
      }
     ],
     "prompt_number": 4
    },
    {
     "cell_type": "heading",
     "level": 3,
     "metadata": {},
     "source": [
      "L'op\u00e9rateur $\\texttt{is}$ -- la fonction $\\texttt{id}$"
     ]
    },
    {
     "cell_type": "markdown",
     "metadata": {},
     "source": [
      "Python fournit un op\u00e9rateur $\\texttt{is}$ qui permet de savoir si deux valeurs correspondent au m\u00eame objet en m\u00e9moire.\n",
      "\n",
      "Attention, il ne s'agit d'un test de comparaison habituel, mais r\u00e9ellement de savoir si les deux valeurs correspondent \u00e0 la m\u00eame instance. Nous verrons plus tard des op\u00e9rateurs logiques comme $\\texttt{==}$ permettant de faire des tests d'\u00e9galit\u00e9.\n",
      "\n",
      "Pour bien comprendre le fonctionnement de $\\texttt{is}$ nous allons voir la fonction $\\texttt{id}$ qui retourne l'identificateur unique d'un objet (un mod\u00e8le mental acceptable est celui d'adresse m\u00e9moire)."
     ]
    },
    {
     "cell_type": "code",
     "collapsed": false,
     "input": [
      "id(None)"
     ],
     "language": "python",
     "metadata": {},
     "outputs": [
      {
       "metadata": {},
       "output_type": "pyout",
       "prompt_number": 5,
       "text": [
        "4527785848"
       ]
      }
     ],
     "prompt_number": 5
    },
    {
     "cell_type": "markdown",
     "metadata": {},
     "source": [
      "L'op\u00e9rateur $\\texttt{is}$ se contente de comparer la valeur de $\\texttt{id}$ sur ses deux op\u00e9randes"
     ]
    },
    {
     "cell_type": "markdown",
     "metadata": {},
     "source": [
      "Voyons ce que cela nous donne avec des entiers "
     ]
    },
    {
     "cell_type": "code",
     "collapsed": false,
     "input": [
      "a=3\n",
      "b=3\n",
      "print 'a',id(a),'b',id(b)"
     ],
     "language": "python",
     "metadata": {},
     "outputs": [
      {
       "output_type": "stream",
       "stream": "stdout",
       "text": [
        "a 140406704621656 b 140406704621656\n"
       ]
      }
     ],
     "prompt_number": 6
    },
    {
     "cell_type": "markdown",
     "metadata": {},
     "source": [
      "On remarque que dans le cas des entiers, python r\u00e9alise une optimisation de l'utilisation de la m\u00e9moire. Quel que soit le nombre de variables dont la valeur est '3', un seul objet correspondant \u00e0 l'entier '3' est allou\u00e9, pour \u00e9viter d'engorger la m\u00e9moire. On dit que l'entier '3' est impl\u00e9ment\u00e9 comme un singleton.\n",
      "\n",
      "C'est pour cette raison que l'on a:"
     ]
    },
    {
     "cell_type": "code",
     "collapsed": false,
     "input": [
      "a=3\n",
      "b=3\n",
      "a is b"
     ],
     "language": "python",
     "metadata": {},
     "outputs": [
      {
       "metadata": {},
       "output_type": "pyout",
       "prompt_number": 7,
       "text": [
        "True"
       ]
      }
     ],
     "prompt_number": 7
    },
    {
     "cell_type": "markdown",
     "metadata": {},
     "source": [
      "Cette optimisation ce concerne pas la grande majorit\u00e9 des types en python. Par exemple ici avec deux listes apparemment identiques, cela n'est plus le cas:"
     ]
    },
    {
     "cell_type": "code",
     "collapsed": false,
     "input": [
      "a=[1,2]\n",
      "b=[1,2]\n",
      "a is b"
     ],
     "language": "python",
     "metadata": {},
     "outputs": [
      {
       "metadata": {},
       "output_type": "pyout",
       "prompt_number": 8,
       "text": [
        "False"
       ]
      }
     ],
     "prompt_number": 8
    },
    {
     "cell_type": "heading",
     "level": 3,
     "metadata": {},
     "source": [
      "Comparaison de types"
     ]
    },
    {
     "cell_type": "markdown",
     "metadata": {},
     "source": [
      "\u00c9videmment 3 et 'spam' ne sont pas de m\u00eame type"
     ]
    },
    {
     "cell_type": "code",
     "collapsed": false,
     "input": [
      "type(3) is type('spam')"
     ],
     "language": "python",
     "metadata": {},
     "outputs": [
      {
       "metadata": {},
       "output_type": "pyout",
       "prompt_number": 9,
       "text": [
        "False"
       ]
      }
     ],
     "prompt_number": 9
    },
    {
     "cell_type": "markdown",
     "metadata": {},
     "source": [
      "Mais par contre 'int' et 'str' eux sont tous les deux des types et ils sont donc .. de m\u00eame type"
     ]
    },
    {
     "cell_type": "code",
     "collapsed": false,
     "input": [
      "type(type(3)) is type(type('spam'))"
     ],
     "language": "python",
     "metadata": {},
     "outputs": [
      {
       "metadata": {},
       "output_type": "pyout",
       "prompt_number": 10,
       "text": [
        "True"
       ]
      }
     ],
     "prompt_number": 10
    }
   ],
   "metadata": {}
  }
 ]
}