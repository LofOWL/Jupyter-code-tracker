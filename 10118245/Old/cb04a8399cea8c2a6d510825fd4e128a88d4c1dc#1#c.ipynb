{
 "metadata": {
  "notebookname": "L'exception `UnboundLocalError`",
  "signature": "6ebcf71d978690769a205066cd14d4678604b78db6427d1b1a70d5e026852587",
  "version": "1.0"
 },
 "nbformat": 3,
 "nbformat_minor": 0,
 "worksheets": [
  {
   "cells": [
    {
     "cell_type": "heading",
     "level": 1,
     "metadata": {},
     "source": [
      "L'exception `UnboundLocalError`"
     ]
    },
    {
     "cell_type": "heading",
     "level": 2,
     "metadata": {},
     "source": [
      "Compl\u00e9ment - niveau interm\u00e9diaire"
     ]
    },
    {
     "cell_type": "markdown",
     "metadata": {},
     "source": [
      "Nous r\u00e9sumons ici quelques cas simples de port\u00e9e de variables"
     ]
    },
    {
     "cell_type": "heading",
     "level": 3,
     "metadata": {},
     "source": [
      "Variable locale"
     ]
    },
    {
     "cell_type": "markdown",
     "metadata": {},
     "source": [
      "Les **arguments** attendus par la fonction sont consid\u00e9r\u00e9s comme des variables **locales**. \n",
      "\n",
      "Pour d\u00e9finir une autre variable locale, il suffit de la d\u00e9finir (l'affecter), elle devient accessible en lecture"
     ]
    },
    {
     "cell_type": "code",
     "collapsed": false,
     "input": [
      "def ma_fonction ():\n",
      "    variable1 = \"locale\"\n",
      "    print variable1\n",
      "ma_fonction()"
     ],
     "language": "python",
     "metadata": {},
     "outputs": []
    },
    {
     "cell_type": "markdown",
     "metadata": {},
     "source": [
      "et ceci que l'on ait ou non une variable globale de m\u00eame nom"
     ]
    },
    {
     "cell_type": "code",
     "collapsed": false,
     "input": [
      "variable2 = \"globale\"\n",
      "\n",
      "def ma_fonction ():\n",
      "    variable2 = \"locale\"\n",
      "    print variable2\n",
      "ma_fonction()"
     ],
     "language": "python",
     "metadata": {},
     "outputs": []
    },
    {
     "cell_type": "heading",
     "level": 3,
     "metadata": {},
     "source": [
      "Variable globale"
     ]
    },
    {
     "cell_type": "markdown",
     "metadata": {},
     "source": [
      "On peut acc\u00e9der **en lecture**  \u00e0 une variable globale sans pr\u00e9caution particuli\u00e8re"
     ]
    },
    {
     "cell_type": "code",
     "collapsed": false,
     "input": [
      "variable3 = \"globale\"\n",
      "def ma_fonction ():\n",
      "    print variable3\n",
      "ma_fonction()"
     ],
     "language": "python",
     "metadata": {},
     "outputs": []
    },
    {
     "cell_type": "heading",
     "level": 3,
     "metadata": {},
     "source": [
      "Mais il faut choisir !"
     ]
    },
    {
     "cell_type": "markdown",
     "metadata": {},
     "source": [
      "Par contre on ne **peut pas** faire la chose suivante, o\u00f9 on utilise **d'abord** une variable comme une **globale**, **puis** on essaie de l'affecter localement - ce qui signifie la d\u00e9clarer comme une **locale**:"
     ]
    },
    {
     "cell_type": "code",
     "collapsed": false,
     "input": [
      "# cet exemple ne fonctionne pas et leve UnboundLocalError\n",
      "variable4 = \"globale\"\n",
      "def ma_fonction ():\n",
      "    # on r\u00e9f\u00e9rence la variable globale\n",
      "    print variable4\n",
      "    # et maintenant on cr\u00e9e un variable locale\n",
      "    variable4 = \"locale\"\n",
      "\n",
      "# on \"attrape\" l'exception\n",
      "try:\n",
      "    ma_fonction()\n",
      "except Exception as e:\n",
      "    print type(e)\n",
      "    print e"
     ],
     "language": "python",
     "metadata": {},
     "outputs": []
    },
    {
     "cell_type": "heading",
     "level": 3,
     "metadata": {},
     "source": [
      "Comment faire alors ?"
     ]
    },
    {
     "cell_type": "markdown",
     "metadata": {},
     "source": [
      "Vous vous demandez peut-\u00eatre \u00e0 ce stade, mais comment fait-on alors pour modifier une variable globale depuis une fonction ?"
     ]
    },
    {
     "cell_type": "markdown",
     "metadata": {},
     "source": [
      "Pour cela il faut utiliser l'instruction `global` comme ceci"
     ]
    },
    {
     "cell_type": "code",
     "collapsed": false,
     "input": [
      "# Pour r\u00e9soudre ce conflit il faut explicitement\n",
      "# d\u00e9clarer la variable  comme globale\n",
      "variable5 = \"globale\"\n",
      "def ma_fonction ():\n",
      "    global variable5\n",
      "    # on r\u00e9f\u00e9rence la variable globale\n",
      "    print \"dans la fonction\", variable5\n",
      "    # et maintenant on cr\u00e9e un variable locale\n",
      "    variable5 = \"change\u00e9 localement\"\n",
      "\n",
      "ma_fonction()\n",
      "print \"apr\u00e8s la fonction\", variable5"
     ],
     "language": "python",
     "metadata": {},
     "outputs": []
    },
    {
     "cell_type": "heading",
     "level": 3,
     "metadata": {},
     "source": [
      "Bonne pratique"
     ]
    },
    {
     "cell_type": "markdown",
     "metadata": {},
     "source": [
      "Cela \u00e9tant dit, l'utilisation de variables globales est g\u00e9n\u00e9ralement consid\u00e9r\u00e9e comme une mauvaise pratique. \n",
      "Il est recommand\u00e9, au contraire, de passer en argument \u00e0 une fonction tout le contexte dont elle a besoin pour travailler.\n",
      "\n",
      "Le fait d'utiliser une variable globale en *lecture seule* reste acceptable, pour mat\u00e9rialiser une constante qu'il est facile de changer.\n",
      "\n",
      "Toutefois si votre code doit recourir \u00e0 l'utilisation de l'instruction `global`, c'est tr\u00e8s probablement que quelque chose peut \u00eatre am\u00e9lior\u00e9."
     ]
    }
   ],
   "metadata": {}
  }
 ]
}