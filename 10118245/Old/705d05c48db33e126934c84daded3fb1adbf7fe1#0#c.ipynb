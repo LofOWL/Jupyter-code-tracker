{
 "metadata": {
  "notebookname": "Expressions r\u00e9guli\u00e8res",
  "signature": "sha256:6a33187b569dbaa63328d51fd007313f7e78a5b28549c2ab877625cce1b02cb5",
  "version": "1.0"
 },
 "nbformat": 3,
 "nbformat_minor": 0,
 "worksheets": [
  {
   "cells": [
    {
     "cell_type": "heading",
     "level": 1,
     "metadata": {},
     "source": [
      "Expressions r\u00e9guli\u00e8res"
     ]
    },
    {
     "cell_type": "heading",
     "level": 2,
     "metadata": {},
     "source": [
      "Compl\u00e9ment - niveau interm\u00e9diaire"
     ]
    },
    {
     "cell_type": "markdown",
     "metadata": {},
     "source": [
      "Le langage perl avait \u00e9t\u00e9 le premier \u00e0 populariser l'utilisation des expressions r\u00e9guli\u00e8res, en en faisant un \"citoyen de premi\u00e8re classe\" dans le langage (c'est-\u00e0-dire support\u00e9 nativement dans le langage, et non au travers d'une librairie).\n",
      "\n",
      "En python, les expressions r\u00e9guli\u00e8res sont disponibles de mani\u00e8re plus traditionnelle, via le module `re` de la librairie standard, dont nous allons dire quelques mots."
     ]
    },
    {
     "cell_type": "code",
     "collapsed": false,
     "input": [
      "import re"
     ],
     "language": "python",
     "metadata": {},
     "outputs": []
    },
    {
     "cell_type": "markdown",
     "metadata": {},
     "source": [
      "Je vous conseille d'avoir sous la main la [documentation du module `re`](https://docs.python.org/2/library/re.html) pendant que vous lisez ce compl\u00e9ment."
     ]
    },
    {
     "cell_type": "heading",
     "level": 3,
     "metadata": {},
     "source": [
      "Avertissement"
     ]
    },
    {
     "cell_type": "markdown",
     "metadata": {},
     "source": [
      "Dans ce compl\u00e9ment nous serons amen\u00e9s \u00e0 utiliser des traits qui d\u00e9pendent du LOCALE, c'est-\u00e0-dire pour faire simple de comment un ordinateur est configur\u00e9 vis-\u00e0-vis de la langue. \n",
      "\n",
      "Tant que vous ex\u00e9cutez ceci dans le notebook sur la plateforme, en principe tout le monde verra exactement la m\u00eame chose. Par contre si vous faites tourner le m\u00eame code sur votre ordinateur, il se peut que vous obteniez des r\u00e9sultats diff\u00e9rents."
     ]
    },
    {
     "cell_type": "heading",
     "level": 3,
     "metadata": {},
     "source": [
      "Un exemple simple"
     ]
    },
    {
     "cell_type": "code",
     "collapsed": false,
     "input": [
      "sentences = [u'Lacus a donec vitae porta gravida proin donec sociis.', \n",
      "             u'Neque ipsum rhoncus cras quam.']"
     ],
     "language": "python",
     "metadata": {},
     "outputs": []
    },
    {
     "cell_type": "markdown",
     "metadata": {},
     "source": [
      "On peut chercher toutes les mots se terminant par a ou m dans une cha\u00eene en faisant&nbsp;:"
     ]
    },
    {
     "cell_type": "code",
     "collapsed": false,
     "input": [
      "for sentence in sentences:\n",
      "    print 4*'-','dans >{}<'.format(sentence)\n",
      "    print re.findall (r\"\\w*[am]\\W\", sentence)"
     ],
     "language": "python",
     "metadata": {},
     "outputs": []
    },
    {
     "cell_type": "markdown",
     "metadata": {},
     "source": [
      "Ce code permet de chercher toutes (`findall`) les occurrences de l'expression r\u00e9guli\u00e8re, qui ici est le *raw-string* c'est-\u00e0-dire la cha\u00eene\n",
      "\n",
      "    `r\"\\w*[am]\\W\"`\n",
      "    \n",
      "Nous verrons tout \u00e0 l'heure comment fabriquer des expressions r\u00e9guli\u00e8res plus en d\u00e9tail, mais pour d\u00e9mystifier au moins celle-ci, on a mis bout \u00e0 bout des morceaux d'expression r\u00e9guli\u00e8res&nbsp;:\n",
      " * `\\w*` : il nous faut trouver une sous-cha\u00eene qui commence par un nombre quelconque, y compris nul, de caract\u00e8res alphanum\u00e9riques; ceci est d\u00e9fini en fonction de votre LOCALE, on y reviendra;\n",
      " * `[am]` : imm\u00e9diatement apr\u00e8s, il nous faut trouver un carat\u00e8re `a` ou `m`;\n",
      " * `\\W` : et enfin, il nous faut un caract\u00e8re qui ne soit pas alphanum\u00e9rique."
     ]
    },
    {
     "cell_type": "heading",
     "level": 5,
     "metadata": {},
     "source": [
      "Pourquoi un *raw-string* ?"
     ]
    },
    {
     "cell_type": "markdown",
     "metadata": {},
     "source": [
      "En guise de digression, il n'y a aucune obligation \u00e0 utiliser un *raw-string*; d'ailleurs il n'y a pas de diff\u00e9rence de nature entre un *raw-string* et une cha\u00eene usuelle&nbsp;:"
     ]
    },
    {
     "cell_type": "code",
     "collapsed": false,
     "input": [
      "raw = r'abc'\n",
      "regular = 'abc'\n",
      "# comme on a pris une 'petite' cha\u00eene ce sont les m\u00eames objets\n",
      "print 'is', raw is regular\n",
      "# et donc a fortiori\n",
      "print '==', raw == regular"
     ],
     "language": "python",
     "metadata": {},
     "outputs": []
    },
    {
     "cell_type": "markdown",
     "metadata": {},
     "source": [
      "Il se trouve que, comme dans notre premier exemple, le *backslash* `\\` \u00e0 l'int\u00e9rieur des expressions r\u00e9guli\u00e8res est d'un usage assez courant. C'est pourquoi on **utilise fr\u00e9quemment un *raw-string*** pour d\u00e9crire une expression r\u00e9guli\u00e8re. "
     ]
    },
    {
     "cell_type": "heading",
     "level": 3,
     "metadata": {},
     "source": [
      "Un deuxi\u00e8me exemple"
     ]
    },
    {
     "cell_type": "markdown",
     "metadata": {},
     "source": [
      "Nous allons maintenant voir comment on peut, v\u00e9rifier si une cha\u00eene est conforme au crit\u00e8re d\u00e9fini par l'expression r\u00e9guli\u00e8re, mais aussi *extraire* les morceaux de la cha\u00eene qui correspondent aux diff\u00e9rentes parties de l'expression. \n",
      "\n",
      "Pour cela supposons qu'on s'int\u00e9resse aux cha\u00eenes qui comportent 5 parties, une suite de chiffres, une suite de lettres, des chiffres \u00e0 nouveau, des lettres, et enfin de nouveau des chiffres."
     ]
    },
    {
     "cell_type": "markdown",
     "metadata": {},
     "source": [
      "Avec ces deux chaines en entr\u00e9e&nbsp;:"
     ]
    },
    {
     "cell_type": "code",
     "collapsed": false,
     "input": [
      "inputs = [ '890hj000nnm890',    # cette entr\u00e9e convient\n",
      "           '8090abababab879',   # celle-ci non\n",
      "           ]"
     ],
     "language": "python",
     "metadata": {},
     "outputs": []
    },
    {
     "cell_type": "markdown",
     "metadata": {},
     "source": [
      "Pour commencer, voyons que l'on peut facilement v\u00e9rifier si une cha\u00eene v\u00e9rifie ou non ce crit\u00e8re&nbsp;:"
     ]
    },
    {
     "cell_type": "code",
     "collapsed": false,
     "input": [
      "regexp = \"[0-9]+[A-Za-z]+[0-9]+[A-Za-z]+[0-9]+\"\n",
      "\n",
      "for input in inputs:\n",
      "    print '---> input',input\n",
      "    print re.match(regexp, input)"
     ],
     "language": "python",
     "metadata": {},
     "outputs": []
    },
    {
     "cell_type": "markdown",
     "metadata": {},
     "source": [
      "Ici plut\u00f4t que d'utiliser les raccourcis comme `\\w` j'ai pr\u00e9f\u00e9r\u00e9 \u00e9crire explicitement les ensembles de caract\u00e8res en jeu; ce cette fa\u00e7on on rend son code ind\u00e9pendant du LOCALE si c'est ce qu'on veut faire. Il y a deux morceaux qui interviennent tour \u00e0 tour&nbsp;:\n",
      " * `[0-9]+` signifie une suite de au moins un caract\u00e8re dans l'intervalle `[0-9]`,\n",
      " * `[A-Za-z]+` pour une suite d'au moins un caract\u00e8re dans l'intervalle `[A-Z]` ou dans l'intervalle `[a-z]`. "
     ]
    },
    {
     "cell_type": "heading",
     "level": 5,
     "metadata": {},
     "source": [
      "Nommer un morceau"
     ]
    },
    {
     "cell_type": "code",
     "collapsed": false,
     "input": [
      "# on se concentre sur l'entr\u00e9e correcte\n",
      "haystack = inputs[0]"
     ],
     "language": "python",
     "metadata": {},
     "outputs": []
    },
    {
     "cell_type": "markdown",
     "metadata": {},
     "source": [
      "Maintenant, on va m\u00eame pouvoir donner un nom \u00e0 un morceau de la regexp, ici `needle`. "
     ]
    },
    {
     "cell_type": "code",
     "collapsed": false,
     "input": [
      "# la m\u00eame regexp, mais on donne un nom \u00e0 un morceau\n",
      "regexp = \"[0-9]+[A-Za-z]+(?P<needle>[0-9]+)[A-Za-z]+[0-9]+\""
     ],
     "language": "python",
     "metadata": {},
     "outputs": []
    },
    {
     "cell_type": "markdown",
     "metadata": {},
     "source": [
      "Et une fois que c'est fait on peut demander \u00e0 l'outil de nous retrouver la partie correspondante dans la chaine initiale&nbsp;:"
     ]
    },
    {
     "cell_type": "code",
     "collapsed": false,
     "input": [
      "print re.match(regexp, haystack).group('needle')"
     ],
     "language": "python",
     "metadata": {},
     "outputs": []
    },
    {
     "cell_type": "markdown",
     "metadata": {},
     "source": [
      "****"
     ]
    },
    {
     "cell_type": "markdown",
     "metadata": {},
     "source": [
      "On peut mettre un \"\\n\" comme caract\u00e8re (et faire des RE multilignes)"
     ]
    }
   ],
   "metadata": {}
  }
 ]
}