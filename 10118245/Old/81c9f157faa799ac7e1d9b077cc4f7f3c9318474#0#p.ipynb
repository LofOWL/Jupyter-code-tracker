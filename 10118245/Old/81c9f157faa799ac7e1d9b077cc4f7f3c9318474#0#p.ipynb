{
 "cells": [
  {
   "cell_type": "markdown",
   "metadata": {},
   "source": [
    "<span style=\"float:left;\">Licence CC BY-NC-ND</span><span style=\"float:right;\">Thierry Parmentelat&nbsp;<img src=\"../media/inria-25.png\" style=\"display:inline\"></span><br/>"
   ]
  },
  {
   "cell_type": "markdown",
   "metadata": {},
   "source": [
    "# Note on the environment"
   ]
  },
  {
   "cell_type": "markdown",
   "metadata": {},
   "source": [
    "See `runserver.sh` so that this example notebook has its `PYTHONPATH` set up properly in a standalone jupyter run."
   ]
  },
  {
   "cell_type": "markdown",
   "metadata": {},
   "source": [
    "# A sample exercice with functions"
   ]
  },
  {
   "cell_type": "markdown",
   "metadata": {},
   "source": [
    "Let us start with a simple exercise that involves a basic one-argument function."
   ]
  },
  {
   "cell_type": "markdown",
   "metadata": {},
   "source": [
    "## Explain the problem"
   ]
  },
  {
   "cell_type": "code",
   "execution_count": 1,
   "metadata": {
    "collapsed": false
   },
   "outputs": [],
   "source": [
    "# you need to evaluate this cell\n",
    "# for the notebook to work properly\n",
    "from exercises.percentages import exo_percentages"
   ]
  },
  {
   "cell_type": "markdown",
   "metadata": {},
   "source": [
    "You are of course expected to describe in plain text what the exercise is all about. In our case we want the student to write a function that expects a string containing only uppercase letters among `ACGT`, and return a dictionary containing their respective percentages."
   ]
  },
  {
   "cell_type": "code",
   "execution_count": 2,
   "metadata": {
    "collapsed": false
   },
   "outputs": [
    {
     "data": {
      "text/html": [
       "<table style='font-family:monospace;font-size:small;'><tr style='font-family:monospace;font-size:medium;'><th style='text-align: center;'>Appel</th><th style='text-align: center;'>Resultat Attendu</th></tr><tr><td>percentages('ACGTACGA')</td><td><pre>\n",
       "{ 'A': 37.5,\n",
       "  'C': 25.0,\n",
       "  'G': 25.0,\n",
       "  'T': 12.5}</pre></td></tr></table>"
      ],
      "text/plain": [
       "<IPython.core.display.HTML object>"
      ]
     },
     "execution_count": 2,
     "metadata": {},
     "output_type": "execute_result"
    }
   ],
   "source": [
    "# an example of the expected outcome of your (correct) function\n",
    "exo_percentages.exemple()"
   ]
  },
  {
   "cell_type": "markdown",
   "metadata": {
    "collapsed": true
   },
   "source": [
    "## Tell the student to write their own code"
   ]
  },
  {
   "cell_type": "markdown",
   "metadata": {},
   "source": [
    "As a rule of thumb, it is advisable to provide something that is syntaxically correct. This way it won't break complete evaluation of the notebook, which can come in handy when doublecheking."
   ]
  },
  {
   "cell_type": "code",
   "execution_count": 3,
   "metadata": {
    "collapsed": true
   },
   "outputs": [],
   "source": [
    "# write your own implementation here\n",
    "def percentages(adn):\n",
    "    return \"your-code-here\""
   ]
  },
  {
   "cell_type": "markdown",
   "metadata": {},
   "source": [
    "## Auto correction"
   ]
  },
  {
   "cell_type": "markdown",
   "metadata": {},
   "source": [
    "At this point you just need to insert a cell like the following, and students just need to evaluate\n",
    " * their code\n",
    " * the correction cell\n",
    "as many times as they want until it is all green."
   ]
  },
  {
   "cell_type": "code",
   "execution_count": 4,
   "metadata": {
    "collapsed": false
   },
   "outputs": [
    {
     "data": {
      "text/html": [
       "<table style='font-family:monospace;font-size:small;'><tr style='font-family:monospace;font-size:medium;'><th style='text-align: center;'>Appel</th><th style='text-align: center;'>Attendu</th><th style='text-align: center;'>Obtenu</th><th style='text-align: center;'></th></tr><tr style='background-color:#efd6d6;'><td>percentages('ACGTACGA')</td><td><pre>\n",
       "{ 'A': 37.5,\n",
       "  'C': 25.0,\n",
       "  'G': 25.0,\n",
       "  'T': 12.5}</pre></td><td><pre>\n",
       "'your-code-here'</pre></td><td>KO</td></tr><tr style='background-color:#efd6d6;'><td><pre>percentages(\n",
       "  'ACGTACGATCGATCGATGCTCGTTGCTCGTAGCGCT')\n",
       "</pre></td><td><pre>\n",
       "{ 'A': 16.666666666666668,\n",
       "  'C': 27.77777777777778,\n",
       "  'G': 27.77777777777778,\n",
       "  'T': 27.77777777777778}</pre></td><td><pre>\n",
       "'your-code-here'</pre></td><td>KO</td></tr></table>"
      ],
      "text/plain": [
       "<IPython.core.display.HTML object>"
      ]
     },
     "execution_count": 4,
     "metadata": {},
     "output_type": "execute_result"
    }
   ],
   "source": [
    "# validez votre code en évaluant cette cellule\n",
    "exo_percentages.correction(percentages)"
   ]
  },
  {
   "cell_type": "markdown",
   "metadata": {},
   "source": [
    "# Under the hood"
   ]
  },
  {
   "cell_type": "markdown",
   "metadata": {},
   "source": [
    "Below is what the python code in `percentages.py` looks like; once comments are trimmed down, this amounts to about a dozen lines&nbsp;:"
   ]
  },
  {
   "cell_type": "code",
   "execution_count": 5,
   "metadata": {
    "collapsed": false
   },
   "outputs": [
    {
     "name": "stdout",
     "output_type": "stream",
     "text": [
      "# -*- coding: utf-8 -*-\r\n",
      "\r\n",
      "# importing the ExerciceFunction class\r\n",
      "from nbautoeval.exercice_function import ExerciceFunction\r\n",
      "# the Args object is for defining inputs \r\n",
      "from nbautoeval.args import Args\r\n",
      "\r\n",
      "# \r\n",
      "nucleotides = 'CAGT'\r\n",
      "\r\n",
      "# As a side note, I also have a simple tool for collecting corrections\r\n",
      "# and publish them in pdf format.\r\n",
      "# This is what the @BEG@ / @END@ thingy is for, just ignore this for now\r\n",
      "\r\n",
      "########## step 1\r\n",
      "# You need to define the correct function \r\n",
      "\r\n",
      "# @BEG@ name=percentages\r\n",
      "def percentages(adn):\r\n",
      "    \"calcule des percentages de CAGT dans un adn\"\r\n",
      "    total = len(adn)\r\n",
      "    return {\r\n",
      "        nucleotide : len([p for p in adn if p == nucleotide])*100./total\r\n",
      "        for nucleotide in nucleotides\r\n",
      "    }\r\n",
      "# @END@\r\n",
      "\r\n",
      "# xxx to be clarified : there may be some code that uses this\r\n",
      "# but I can't remember it off the top of my head\r\n",
      "#def percentages_ko():\r\n",
      "#    return { p:0.25 for p in nucleotides }\r\n",
      "\r\n",
      "########## step 2\r\n",
      "# You need to provide datasets<\r\n",
      "# This is expected to be a list of Args instances\r\n",
      "# each one describes all the arguments to be passed\r\n",
      "# to the function\r\n",
      "# in this particular case we define 2 input sets, so\r\n",
      "# the correction will have 2 meaningful rows\r\n",
      "inputs_percentages = [\r\n",
      "    Args('ACGTACGA'),\r\n",
      "    Args('ACGTACGATCGATCGATGCTCGTTGCTCGTAGCGCT'),\r\n",
      "]\r\n",
      "\r\n",
      "########## step 3\r\n",
      "# finally we create the exercise object\r\n",
      "# NOTE on names:\r\n",
      "# \r\n",
      "# this is the only name that should be imported from this module\r\n",
      "exo_percentages = ExerciceFunction(\r\n",
      "    # first argument is the 'correct' function\r\n",
      "    # it is recommended to use the same name as in the notebook, as the\r\n",
      "    # python function name is used in HTML rendering \r\n",
      "    percentages,\r\n",
      "    # the inputs\r\n",
      "    inputs_percentages,\r\n",
      "    # various tweaks on how to display input arguments\r\n",
      "    layout='pprint',\r\n",
      "    # in particular here, the widths of the first 3 columns in the correction table\r\n",
      "    layout_args=(40, 25, 25),\r\n",
      ")\r\n"
     ]
    }
   ],
   "source": [
    "%cat ../exercises/percentages.py"
   ]
  }
 ],
 "metadata": {
  "kernelspec": {
   "display_name": "Python 2",
   "language": "python",
   "name": "python2"
  },
  "language_info": {
   "codemirror_mode": {
    "name": "ipython",
    "version": 2
   },
   "file_extension": ".py",
   "mimetype": "text/x-python",
   "name": "python",
   "nbconvert_exporter": "python",
   "pygments_lexer": "ipython2",
   "version": "2.7.11"
  },
  "notebookname": "NO HEADING 1 found",
  "version": "1.0"
 },
 "nbformat": 4,
 "nbformat_minor": 0
}
