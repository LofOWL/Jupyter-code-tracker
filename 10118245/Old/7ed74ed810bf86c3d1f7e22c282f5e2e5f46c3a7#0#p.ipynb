{
 "metadata": {
  "notebookname": "Passage d'arguments",
  "signature": "362fcf73fc1247bf051acee388d6567d102b05b390d01ad8593b1bc483aad717",
  "version": "1.0"
 },
 "nbformat": 3,
 "nbformat_minor": 0,
 "worksheets": [
  {
   "cells": [
    {
     "cell_type": "heading",
     "level": 1,
     "metadata": {},
     "source": [
      "Passage d'arguments"
     ]
    },
    {
     "cell_type": "heading",
     "level": 2,
     "metadata": {},
     "source": [
      "Exercice - niveau interm\u00e9daire"
     ]
    },
    {
     "cell_type": "markdown",
     "metadata": {},
     "source": [
      "On vous demande d'\u00e9crire une fonction qui prend en argument\n",
      " * une fonction `f`, dont vous savez seulement que le premier argument est num\u00e9rique, et qu'elle ne prend que des arguments positionnels (sans valeur par d\u00e9faut)\n",
      " * un nombre quelconque d'arguments `args`, mais dont on sait qu'ils pourraient \u00eatre pass\u00e9s \u00e0 `f`\n",
      " \n",
      "Et on attend en retour le r\u00e9sultat de `f` appliqu\u00e9s \u00e0 tous ces arguments, mais avec le premier d'entre eux multipl\u00e9 par deux."
     ]
    },
    {
     "cell_type": "code",
     "collapsed": false,
     "input": [
      "# quelques exemples de ce qui est attendu\n",
      "# add et mul sont les op\u00e9rateurs binaires du module operator, \n",
      "# soit l'addition et la multiplication respectivement\n",
      "from corrections.w4_fun_args import exo_doubler_premier\n",
      "exo_doubler_premier.exemple ()"
     ],
     "language": "python",
     "metadata": {},
     "outputs": []
    },
    {
     "cell_type": "code",
     "collapsed": false,
     "input": [
      "def doubler_premier (votre_signature):\n",
      "    \"<votre_code>\""
     ],
     "language": "python",
     "metadata": {},
     "outputs": []
    },
    {
     "cell_type": "code",
     "collapsed": false,
     "input": [
      "exo_doubler_premier.correction (doubler_premier)"
     ],
     "language": "python",
     "metadata": {},
     "outputs": []
    },
    {
     "cell_type": "heading",
     "level": 2,
     "metadata": {},
     "source": [
      "Exercice - niveau avanc\u00e9"
     ]
    },
    {
     "cell_type": "heading",
     "level": 3,
     "metadata": {},
     "source": [
      "`validation` revisit\u00e9e"
     ]
    },
    {
     "cell_type": "markdown",
     "metadata": {},
     "source": [
      "Nous avons d\u00e9j\u00e0 fait un peu plus t\u00f4t cette semaine, au sujet de la programmation fonctionnelle, un exercice au sujet d'une fonction `validation` qui comparait le r\u00e9sultat de deux fonctions, toutes deux \u00e0 un argument, sur une liste de valeurs d'entr\u00e9e."
     ]
    },
    {
     "cell_type": "markdown",
     "metadata": {},
     "source": [
      "Nous reprenons ici la m\u00eame id\u00e9e, mais en levant l'hypoth\u00e8se que les deux fonctions attendent un seul argument. Il faut \u00e9crire une nouvelle version de la fonction `validation` qui prend en entr\u00e9e\n",
      " * deux fonctions `f` et `g` comme la derni\u00e8re fois,\n",
      " * mais cette fois une liste (ou un tuple) `argument_tuples` de **tuples** d'arguments d'entr\u00e9e\n",
      " \n",
      " Et comme la fois pr\u00e9c\u00e9dente on attend en retour une liste `retour` de bool\u00e9ens, de m\u00eame taille que `argument_tuples`, telle que, si `len(argument_tuples)` vaut $n$:\n",
      " \n",
      "$\\forall i \\in \\{1,..n\\}$, si `argument_tuples[i]` == [ $a_1$, .. $a_j$ ], alors\n",
      "\n",
      "`return(i) == True` $\\Longleftrightarrow$  f ($a_1$, .. $a_j$) == g ($a_1$, .. $a_j$)"
     ]
    },
    {
     "cell_type": "code",
     "collapsed": false,
     "input": [
      "def validation (f, g, argument_tuples):\n",
      "    \"<votre_code>\""
     ],
     "language": "python",
     "metadata": {},
     "outputs": []
    },
    {
     "cell_type": "code",
     "collapsed": true,
     "input": [
      "from corrections.w4_fun_args import exo_validation\n",
      "exo_validation.correction (validation)"
     ],
     "language": "python",
     "metadata": {},
     "outputs": []
    },
    {
     "cell_type": "markdown",
     "metadata": {},
     "source": [
      "Pour information:\n",
      " * `factorial` correspond \u00e0 `math.factorial`\n",
      " * `fact` et `broken_fact` sont des fonctions impl\u00e9ment\u00e9es par nos soins, la premi\u00e8re est correcte alors que la seconde retourne 0 au lieu de 1 pour l'entr\u00e9e 0.\n",
      " * `add` correspond \u00e0 l'addition binaire `operator.add`\n",
      " * `plus` et `broken_plus` sont des additions binaires \u00e9crites par nous, l'une \u00e9tant correcte et l'autre \u00e9tant fausse lorsque le premier argument est nul."
     ]
    }
   ],
   "metadata": {}
  }
 ]
}