{
 "metadata": {
  "kernelspec": {
   "display_name": "Python 2", 
   "language": "python", 
   "name": "python2"
  }, 
  "name": "", 
  "notebookname": "Affectation simultan\u00e9e", 
  "version": "2.0"
 }, 
 "nbformat": 2, 
 "nbformat_minor": 0, 
 "orig_nbformat": 4, 
 "orig_nbformat_minor": 0, 
 "worksheets": [
  {
   "cells": [
    {
     "cell_type": "markdown", 
     "metadata": {}, 
     "source": [
      "<span style=\"float:left;\">Licence CC BY-NC-ND</span><span style=\"float:right;\">Thierry Parmentelat &amp; Arnaud Legout&nbsp;<img src=\"media/inria-25.png\" style=\"display:inline\"></span><br/>"
     ]
    }, 
    {
     "cell_type": "markdown", 
     "metadata": {}, 
     "source": [
      "# Affectation simultan\u00e9e"
     ]
    }, 
    {
     "cell_type": "markdown", 
     "metadata": {}, 
     "source": [
      "## Compl\u00e9ment - niveau basique"
     ]
    }, 
    {
     "cell_type": "markdown", 
     "metadata": {}, 
     "source": [
      "Nous avons d\u00e9j\u00e0 parl\u00e9 de l'affectation par *sequence unpacking* (en Semaine 2, s\u00e9quence \"Les tuples\"), qui consiste \u00e0 affecter \u00e0 plusieurs variables des \"morceaux\" d'un objet, comme dans&nbsp;:"
     ]
    }, 
    {
     "cell_type": "code", 
     "collapsed": false, 
     "input": [
      "x, y = ['spam', 'egg']"
     ], 
     "language": "python", 
     "metadata": {}, 
     "outputs": [], 
     "prompt_number": null
    }, 
    {
     "cell_type": "markdown", 
     "metadata": {}, 
     "source": [
      "Dans ce compl\u00e9ment nous allons voir une autre forme de l'affectation, qui consiste \u00e0 affecter **le m\u00eame objet** \u00e0 plusieurs variables. Commen\u00e7ons par un exemple simple&nbsp;:"
     ]
    }, 
    {
     "cell_type": "code", 
     "collapsed": false, 
     "input": [
      "a = b = 1", 
      "print 'a', a, 'b', b"
     ], 
     "language": "python", 
     "metadata": {}, 
     "outputs": [], 
     "prompt_number": null
    }, 
    {
     "cell_type": "markdown", 
     "metadata": {}, 
     "source": [
      "La raison pour laquelle nous abordons cette construction maintenant est qu'elle a une forte relation avec les r\u00e9f\u00e9rences partag\u00e9es; pour bien le voir, nous allons utiliser une valeur mutable comme valeur \u00e0 affecter&nbsp;:"
     ]
    }, 
    {
     "cell_type": "code", 
     "collapsed": false, 
     "input": [
      "# on affecte a et b au m\u00eame objet liste vide", 
      "a = b = []"
     ], 
     "language": "python", 
     "metadata": {}, 
     "outputs": [], 
     "prompt_number": null
    }, 
    {
     "cell_type": "markdown", 
     "metadata": {}, 
     "source": [
      "D\u00e8s lors nous sommes dans le cas typique d'une r\u00e9f\u00e9rence partag\u00e9e; une modification de  `a` va se r\u00e9percuter sur `b` puisque ces deux variables d\u00e9signent **le m\u00eame objet**&nbsp;:"
     ]
    }, 
    {
     "cell_type": "code", 
     "collapsed": false, 
     "input": [
      "a.append(1)", 
      "print 'a', a, 'b', b"
     ], 
     "language": "python", 
     "metadata": {}, 
     "outputs": [], 
     "prompt_number": null
    }, 
    {
     "cell_type": "markdown", 
     "metadata": {}, 
     "source": [
      "Ceci est \u00e0 mettre en contraste avec plusieurs affectations s\u00e9par\u00e9es&nbsp;:"
     ]
    }, 
    {
     "cell_type": "code", 
     "collapsed": false, 
     "input": [
      "# si on utilise deux affectations diff\u00e9rentes", 
      "a = []", 
      "b = []", 
      "", 
      "# alors on peut changer a sans changer b", 
      "a.append(1)", 
      "print 'a', a, 'b', b"
     ], 
     "language": "python", 
     "metadata": {}, 
     "outputs": [], 
     "prompt_number": null
    }, 
    {
     "cell_type": "markdown", 
     "metadata": {}, 
     "source": [
      "On voit que dans ce cas chaque affectation cr\u00e9e une liste vide diff\u00e9rente, et les deux variables ne partagent plus de donn\u00e9e. "
     ]
    }, 
    {
     "cell_type": "markdown", 
     "metadata": {}, 
     "source": [
      "D'une mani\u00e8re g\u00e9n\u00e9rale, utiliser l'affectation simultan\u00e9e vers un objet mutable cr\u00e9e m\u00e9caniquement des **r\u00e9f\u00e9rences partag\u00e9es**, aussi v\u00e9rifiez bien dans ce cas que c'est votre intention. "
     ]
    }
   ], 
   "metadata": {}
  }
 ]
}
