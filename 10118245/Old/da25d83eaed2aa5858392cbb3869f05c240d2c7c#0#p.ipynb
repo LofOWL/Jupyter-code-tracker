{
 "metadata": {
  "notebookname": "Pr\u00e9sentation du code",
  "signature": "sha256:13e21f624e45bed4f3778835d24449fd1c884e6b453a8c0a4d6a191fd647a1c4",
  "version": "2.0"
 },
 "nbformat": 3,
 "nbformat_minor": 0,
 "worksheets": [
  {
   "cells": [
    {
     "cell_type": "heading",
     "level": 1,
     "metadata": {},
     "source": [
      "Bonnes pratiques de pr\u00e9sentation de code"
     ]
    },
    {
     "cell_type": "heading",
     "level": 2,
     "metadata": {},
     "source": [
      "Compl\u00e9ment - niveau basique"
     ]
    },
    {
     "cell_type": "heading",
     "level": 3,
     "metadata": {},
     "source": [
      "La PEP-008"
     ]
    },
    {
     "cell_type": "markdown",
     "metadata": {},
     "source": [
      "On trouve [dans la PEP-008 (en anglais)](http://legacy.python.org/dev/peps/pep-0008/) les conventions de codage qui s'appliquent \u00e0 toute la librairie standard, et qui sont certainement un bon point de d\u00e9part pour vous aider \u00e0 trouver le style de pr\u00e9sentation qui vous convient. \n",
      "\n",
      "Nous vous recommandons en particulier les sections sur\n",
      " * [l'indentation](http://legacy.python.org/dev/peps/pep-0008/#code-lay-out)\n",
      " * [les espaces](http://legacy.python.org/dev/peps/pep-0008/#whitespace-in-expressions-and-statements) \n",
      " * [les commentaires](http://legacy.python.org/dev/peps/pep-0008/#comments)\n",
      "\n"
     ]
    },
    {
     "cell_type": "heading",
     "level": 3,
     "metadata": {},
     "source": [
      "Un peu de lecture : le module `pprint`"
     ]
    },
    {
     "cell_type": "markdown",
     "metadata": {},
     "source": [
      "Voici par exemple le code du module `pprint` (comme PrettyPrint) de la librairie standard, que nous avons d\u00e9j\u00e0 rencontr\u00e9 et qui permet d'imprimer des donn\u00e9es. \n",
      "\n",
      "La fonction du module - le pretty printing - est \u00e9videmment accessoire ici, mais vous pouvez y voir illustr\u00e9\n",
      " * le *docstring* pour le module, jusqu'en ligne 35,\n",
      " * les indentations, comme nous l'avons d\u00e9j\u00e0 mentionn\u00e9 sont \u00e0 4 espaces, et sans tabulation,\n",
      " * l'utilisation des espaces, notamment autour des affectations et op\u00e9rateurs, des d\u00e9finitions de fonction, des appels de fonctions...\n",
      " * les lignes qui restent dans une largeur \"raisonnable\" (79 caract\u00e8res)\n",
      " * vous pouvez regarder notamment la fa\u00e7on de couper les lignes pour respecter cette limite en largeur."
     ]
    },
    {
     "cell_type": "code",
     "collapsed": false,
     "input": [
      "from modtools import show_module_html\n",
      "import pprint\n",
      "show_module_html(pprint, lineno_width=3)"
     ],
     "language": "python",
     "metadata": {},
     "outputs": []
    },
    {
     "cell_type": "heading",
     "level": 3,
     "metadata": {},
     "source": [
      "Espaces"
     ]
    },
    {
     "cell_type": "markdown",
     "metadata": {},
     "source": [
      "Comme vous pouvez le voir dans `pprint.py`, les r\u00e8gles principales concernant les espaces sont les suivantes."
     ]
    },
    {
     "cell_type": "markdown",
     "metadata": {},
     "source": [
      "* S'agissant des **affectations** et **op\u00e9rateurs**, on fera\n",
      "\n",
      "    `x = y + z` \n",
      "    \n",
      "  Et non pas\n",
      "    \n",
      "    ~~`x=y+z`~~\n",
      "    \n",
      "  Ni \n",
      "    \n",
      "    ~~`x = y+z`~~\n",
      "    \n",
      "  Ni encore \n",
      "    \n",
      "    ~~``x=y + z`~~\n",
      "    \n",
      "L'id\u00e9e \u00e9tant d'a\u00e9rer de mani\u00e8re homog\u00e8ne pour faciliter la lecture."
     ]
    },
    {
     "cell_type": "markdown",
     "metadata": {},
     "source": [
      "* On **d\u00e9clare une fonction** comme ceci\n",
      "\n",
      "    `def foo(x, y, z):`\n",
      "    \n",
      "   Et non pas comme ceci, (qu'on pourrait \u00eatre tent\u00e9 de faire)\n",
      "   \n",
      "    ~~`def foo (x, y, z):`~~\n",
      "\n",
      "   Ni surtout comme ceci\n",
      "\n",
      "    ~~`def foo (x,y,z):`~~"
     ]
    },
    {
     "cell_type": "markdown",
     "metadata": {},
     "source": [
      "* La m\u00eame r\u00e8gle s'applique naturellement aux **appels de fonction**&nbsp;: `foo(x, y, z)` et non pas ~~`foo (x,y,z)`~~ ou ~~`def foo (x, y, z):`~~"
     ]
    },
    {
     "cell_type": "markdown",
     "metadata": {},
     "source": [
      "Il est important de noter qu'il s'agit ici de **r\u00e8gles d'usage** et non pas de r\u00e8gles syntgaxiques; tous les exemples barr\u00e9s ci-dessus sont en fait **syntaxiquement correct**, l'interpr\u00e9teur les accepterait sans souci; mais ces r\u00e8gles sont **tr\u00e8s largement adopt\u00e9es**, et obligatoires pour int\u00e9grer du code dans la librairie standard."
     ]
    },
    {
     "cell_type": "heading",
     "level": 3,
     "metadata": {},
     "source": [
      "Coupures de ligne"
     ]
    },
    {
     "cell_type": "markdown",
     "metadata": {},
     "source": [
      "Nous allons \u00e0 pr\u00e9sent zoomer dans ce module pour voir quelques exemples de coupure de ligne. Par contraste avec ce qui pr\u00e9c\u00e8de, il s'agit cette fois surtout de **r\u00e8gles syntaxiques**, qui peuvent rendre un code non valide si elles ne sont pas suivies."
     ]
    },
    {
     "cell_type": "heading",
     "level": 5,
     "metadata": {},
     "source": [
      "Coupure de ligne sans *backslash* (\\\\)"
     ]
    },
    {
     "cell_type": "code",
     "collapsed": false,
     "input": [
      "show_module_html(pprint, \n",
      "                 beg=\"def pprint\",\n",
      "                 end=\"def pformat\",\n",
      "                 lineno_width=3)"
     ],
     "language": "python",
     "metadata": {},
     "outputs": []
    },
    {
     "cell_type": "markdown",
     "metadata": {},
     "source": [
      "La fonction `pprint` (ligne ~55) est une commodit\u00e9 (qui cr\u00e9e une instance de `PrettyPrinter`, sur lequel on envoie la m\u00e9thode `pprint`).\n",
      "\n",
      "Vous voyez ici qu'il n'est **pas n\u00e9cessaire** d'ins\u00e9rer un *backslash* (`\\`) \u00e0 la fin de la ligne 57, car il y a une parenth\u00e8se ouvrante qui n'est pas ferm\u00e9e \u00e0 ce stade.\n",
      "\n",
      "De mani\u00e8re g\u00e9n\u00e9rale, lorsqu'un parenth\u00e8se ouvrante `(` - idem avec les crochets `[` et accolades `{` - n'est pas ferm\u00e9e sur la m\u00eame ligne, l'interpr\u00e9teur suppose qu'elle sera ferm\u00e9e plus loin et n'impose pas de *backslash*."
     ]
    },
    {
     "cell_type": "markdown",
     "metadata": {},
     "source": [
      "Ainsi par exemple on peut \u00e9crire sans *backslash*:\n",
      "\n",
      "    valeurs = [ \n",
      "       1,\n",
      "       2,\n",
      "       3,\n",
      "       5,\n",
      "       7,\n",
      "    ]\n",
      "    \n",
      "Ou encore\n",
      "\n",
      "    x = un_nom_de_fonction_tres_tres_long(\n",
      "           argument1, argument2,\n",
      "           argument3, argument4,\n",
      "        )        "
     ]
    },
    {
     "cell_type": "markdown",
     "metadata": {},
     "source": [
      "***"
     ]
    },
    {
     "cell_type": "heading",
     "level": 5,
     "metadata": {},
     "source": [
      "Coupure de ligne avec *backslash* (\\\\)"
     ]
    },
    {
     "cell_type": "markdown",
     "metadata": {},
     "source": [
      "Par contre il est des cas o\u00f9 le backslash est n\u00e9cessaire&nbsp;:"
     ]
    },
    {
     "cell_type": "code",
     "collapsed": false,
     "input": [
      "show_module_html(pprint, \n",
      "                 beg=\"components), readable, recursive\", \n",
      "                 end=\"elif _len(object) \", \n",
      "                 lineno_width=3)"
     ],
     "language": "python",
     "metadata": {},
     "outputs": []
    },
    {
     "cell_type": "markdown",
     "metadata": {},
     "source": [
      "Dans ce fragment au contraire, vous voyez en ligne 290 qu'**il a fallu cette fois** ins\u00e9rer un *backslash* `\\` comme caract\u00e8re de continuation pour que l'instruction puisse se poursuivre en ligne 291. "
     ]
    },
    {
     "cell_type": "heading",
     "level": 5,
     "metadata": {},
     "source": [
      "Coupures de lignes - fin"
     ]
    },
    {
     "cell_type": "markdown",
     "metadata": {},
     "source": [
      "Dans tous le cas o\u00f9 une instruction est r\u00e9partie sur plusieurs lignes, c'est naturellement l'indentation de **la premi\u00e8re ligne** qui est significative pour savoir \u00e0 quel bloc rattacher cette instruction."
     ]
    },
    {
     "cell_type": "markdown",
     "metadata": {},
     "source": [
      "Notez bien enfin qu'on peut toujours mettre un backslash m\u00eame lorsque ce n'est pas n\u00e9cessaire, mais on \u00e9vite cette pratique en r\u00e8gle g\u00e9n\u00e9rale car les *backslash* nuisent \u00e0 la lisibilit\u00e9."
     ]
    },
    {
     "cell_type": "heading",
     "level": 2,
     "metadata": {},
     "source": [
      "Compl\u00e9ment - niveau interm\u00e9diaire"
     ]
    },
    {
     "cell_type": "heading",
     "level": 3,
     "metadata": {},
     "source": [
      "Les deux-points ':'"
     ]
    },
    {
     "cell_type": "markdown",
     "metadata": {},
     "source": [
      "Vous pouvez [vous reporter \u00e0 ce lien](https://docs.python.org/2/faq/design.html#why-are-colons-required-for-the-if-while-def-class-statements) si vous \u00eates int\u00e9ress\u00e9 par la question de savoir pourquoi on a choisi un d\u00e9limiteur (le caract\u00e8re deux-points `:`) pour terminer les instructions comme `if`, `for` et `def`."
     ]
    },
    {
     "cell_type": "heading",
     "level": 2,
     "metadata": {},
     "source": [
      "Compl\u00e9ment - niveau avanc\u00e9"
     ]
    },
    {
     "cell_type": "markdown",
     "metadata": {},
     "source": [
      "Signalons enfin, pour ceux qui sont int\u00e9ress\u00e9s par les conventions de codage, que tout ceci ne s'applique bien entendu qu'\u00e0 python. Pour quelques exemples qui s'appliqueraient au langage C, vous pouvez par curiosit\u00e9 voir le [CodingStyle pour le noyau linux](https://www.kernel.org/doc/Documentation/CodingStyle) , qui lui-m\u00eame fait r\u00e9f\u00e9rence - et pas en bien - aux [Gnu Coding Standards](http://www.gnu.org/prep/standards/standards.html). \n",
      "\n",
      "M\u00eame si le langage est diff\u00e9rent, le but des conventions de codage est toujours le m\u00eame, il s'agit d'am\u00e9liorer la lisibilit\u00e9, et il peut \u00eatre int\u00e9ressant de voir ce que Linus Torvalds a \u00e0 dire, dans le style qui est le sien, sur les indentations (le tout premier chapitre)."
     ]
    }
   ],
   "metadata": {}
  }
 ]
}