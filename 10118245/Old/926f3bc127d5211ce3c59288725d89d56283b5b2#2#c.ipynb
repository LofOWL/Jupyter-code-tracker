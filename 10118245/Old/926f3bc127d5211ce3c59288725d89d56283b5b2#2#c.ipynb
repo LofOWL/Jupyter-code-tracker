{
 "metadata": {
  "name": "",
  "signature": "sha256:98ea32a7e360499a20194aa9fa9e04b9ccdf23afb220f19ed573b3a9411c3be6"
 },
 "nbformat": 3,
 "nbformat_minor": 0,
 "worksheets": [
  {
   "cells": [
    {
     "cell_type": "heading",
     "level": 1,
     "metadata": {},
     "source": [
      "D\u00e9corateurs"
     ]
    },
    {
     "cell_type": "heading",
     "level": 2,
     "metadata": {},
     "source": [
      "Compl\u00e9ment - niveau avanc\u00e9"
     ]
    },
    {
     "cell_type": "code",
     "collapsed": false,
     "input": [],
     "language": "python",
     "metadata": {},
     "outputs": []
    }
   ],
   "metadata": {}
  }
 ]
}