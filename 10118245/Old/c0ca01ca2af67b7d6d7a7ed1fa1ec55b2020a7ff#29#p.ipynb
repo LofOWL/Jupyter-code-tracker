{
 "metadata": {
  "kernelspec": {
   "display_name": "Python 2",
   "language": "python",
   "name": "python2"
  },
  "notebookname": "Une boucle, plusieurs variables",
  "signature": "sha256:8ef39c48583ad108c67e60d2fb8a5e3a3dbc1beeb59936556c0628ac7ee352e9",
  "version": "2.0"
 },
 "nbformat": 3,
 "nbformat_minor": 0,
 "worksheets": [
  {
   "cells": [
    {
     "cell_type": "markdown",
     "metadata": {},
     "source": [
      "<span style=\"float:left;\">Licence CC BY-NC-ND</span><span style=\"float:right;\">Thierry Parmentelat &amp; Arnaud Legout,<img src=\"media/inria-25.png\" style=\"display:inline\"></span><br/>"
     ]
    },
    {
     "cell_type": "heading",
     "level": 1,
     "metadata": {},
     "source": [
      "Plusieurs variables dans une boucle `for`"
     ]
    },
    {
     "cell_type": "heading",
     "level": 2,
     "metadata": {},
     "source": [
      "Compl\u00e9ment - niveau basique"
     ]
    },
    {
     "cell_type": "markdown",
     "metadata": {},
     "source": [
      "Nous avons vu pr\u00e9c\u00e9demment (s\u00e9quence 'Les tuples', compl\u00e9ment 'Sequence unpacking') la possibilit\u00e9 d'affecter plusieurs variables par filtrage \u00e0 partir d'un seul objet, comme ceci&nbsp;:"
     ]
    },
    {
     "cell_type": "code",
     "collapsed": false,
     "input": [
      "item = (1, 2)\n",
      "a, b = item\n",
      "print 'a', a, 'b', b"
     ],
     "language": "python",
     "metadata": {},
     "outputs": []
    },
    {
     "cell_type": "markdown",
     "metadata": {},
     "source": [
      "D'une fa\u00e7on analogue, il est possible de faire une boucle `for` qui it\u00e8re sur une seule liste mais qui 'agit' sur plusieurs variables, comme ceci&nbsp;:"
     ]
    },
    {
     "cell_type": "code",
     "collapsed": false,
     "input": [
      "entrees = [(1, 2), (3, 4), (5, 6)]\n",
      "for a, b in entrees:\n",
      "    print 'a', a, 'b', b"
     ],
     "language": "python",
     "metadata": {},
     "outputs": []
    },
    {
     "cell_type": "markdown",
     "metadata": {},
     "source": [
      "Chaque it\u00e9ration retourne un tuple, et les variables `a` et `b` vont \u00eatre affect\u00e9es \u00e0, repectivement, le premier et le deuxi\u00e8me \u00e9l\u00e9ment du tuple. Cette m\u00e9canique est massivement utilis\u00e9e en python. "
     ]
    },
    {
     "cell_type": "heading",
     "level": 2,
     "metadata": {},
     "source": [
      "Compl\u00e9ment - niveau interm\u00e9diaire"
     ]
    },
    {
     "cell_type": "heading",
     "level": 3,
     "metadata": {},
     "source": [
      "La fonction `zip`"
     ]
    },
    {
     "cell_type": "markdown",
     "metadata": {},
     "source": [
      "Voici un exemple tr\u00e8s simple qui utilise la technique qu'on vient de voir."
     ]
    },
    {
     "cell_type": "markdown",
     "metadata": {},
     "source": [
      "Imaginons qu'on dispose de deux listes de longueurs \u00e9gales, dont on sait que les entr\u00e9es correspondent une \u00e0 une, comme par exemple&nbsp;:"
     ]
    },
    {
     "cell_type": "code",
     "collapsed": false,
     "input": [
      "villes = [\"Paris\", \"Nice\", \"Lyon\"]\n",
      "populations = [2*10**6, 4*10**5, 10**6]"
     ],
     "language": "python",
     "metadata": {},
     "outputs": []
    },
    {
     "cell_type": "markdown",
     "metadata": {},
     "source": [
      "Afin d'\u00e9crire facilement un code qui \"associe\" les deux listes entre elles, python fournit une fonction *built-in* baptis\u00e9e `zip`; voyons ce qu'elle peut nous apporter sur cet exemple&nbsp;:"
     ]
    },
    {
     "cell_type": "code",
     "collapsed": false,
     "input": [
      "zip(villes, populations)"
     ],
     "language": "python",
     "metadata": {},
     "outputs": []
    },
    {
     "cell_type": "markdown",
     "metadata": {},
     "source": [
      "On le voit, on obtient en retour une liste compos\u00e9e de tuples. On peut \u00e0 pr\u00e9sent \u00e9crire une boucle `for` comme ceci"
     ]
    },
    {
     "cell_type": "code",
     "collapsed": false,
     "input": [
      "for ville, population in zip(villes, populations):\n",
      "    print population, \"habitants a\", ville"
     ],
     "language": "python",
     "metadata": {},
     "outputs": []
    },
    {
     "cell_type": "markdown",
     "metadata": {},
     "source": [
      "Qui est, il nous semble, beaucoup plus lisible que ce que l'on serait amen\u00e9 \u00e0 \u00e9crire avec des langages plus traditionnels. \n",
      "\n",
      "Tout ceci se g\u00e9n\u00e9ralise naturellement \u00e0 plus de deux variables."
     ]
    },
    {
     "cell_type": "code",
     "collapsed": false,
     "input": [
      "for i, j, k in zip(range(3), range(100, 103), range(200, 203)):\n",
      "    print 'i', i, 'j', j, 'k', k"
     ],
     "language": "python",
     "metadata": {},
     "outputs": []
    },
    {
     "cell_type": "markdown",
     "metadata": {},
     "source": [
      "**Remarque** lorsqu'on passe \u00e0 `zip` des listes de tailles diff\u00e9rentes, le r\u00e9sultat est tronqu\u00e9 et la liste retourn\u00e9e a la taille de la plus petite liste en entr\u00e9e."
     ]
    },
    {
     "cell_type": "heading",
     "level": 3,
     "metadata": {},
     "source": [
      "La fonction `enumerate`"
     ]
    },
    {
     "cell_type": "markdown",
     "metadata": {},
     "source": [
      "Une fonction utile permet d'it\u00e9rer sur une liste avec l'indice dans la liste, il s'agit de `enumerate`"
     ]
    },
    {
     "cell_type": "code",
     "collapsed": false,
     "input": [
      "for i, ville in enumerate(villes):\n",
      "    print i, ville"
     ],
     "language": "python",
     "metadata": {},
     "outputs": []
    },
    {
     "cell_type": "markdown",
     "metadata": {},
     "source": [
      "Cette forme est plus simple et plus lisible que les formes suivantes qui sont \u00e9quivalentes, mais qui ne sont pas pythoniques"
     ]
    },
    {
     "cell_type": "code",
     "collapsed": false,
     "input": [
      "for i in range(len(villes)):\n",
      "    print i, villes[i]"
     ],
     "language": "python",
     "metadata": {},
     "outputs": []
    },
    {
     "cell_type": "code",
     "collapsed": false,
     "input": [
      "for i, ville in zip(range(len(villes)), villes):\n",
      "    print i, ville"
     ],
     "language": "python",
     "metadata": {},
     "outputs": []
    }
   ],
   "metadata": {}
  }
 ]
}