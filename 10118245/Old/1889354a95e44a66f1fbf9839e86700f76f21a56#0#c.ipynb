{
 "metadata": {
  "notebookname": "Fichiers et utilitaires",
  "signature": "4ae9015a018735b56fd5c2a9dee5853e65e6b2eebd5dbf2609e7e9b6cc4f456c",
  "version": "1.0"
 },
 "nbformat": 3,
 "nbformat_minor": 0,
 "worksheets": [
  {
   "cells": [
    {
     "cell_type": "heading",
     "level": 1,
     "metadata": {},
     "source": [
      "Fichiers et utilitaires"
     ]
    },
    {
     "cell_type": "markdown",
     "metadata": {},
     "source": [
      "Nous pr\u00e9sentons dans ces compl\u00e9ments quelques utilitaires autour des fichiers. Il ne s'agit pas d'outils li\u00e9s au type `file` \u00e0 proprement parler, mais qui sont utiles malgr\u00e9 tout dans le contexte de la manipulation de fichiers."
     ]
    },
    {
     "cell_type": "heading",
     "level": 2,
     "metadata": {},
     "source": [
      "Compl\u00e9ment - niveau basique"
     ]
    },
    {
     "cell_type": "heading",
     "level": 3,
     "metadata": {},
     "source": [
      "Manipulations de noms de fichier"
     ]
    },
    {
     "cell_type": "markdown",
     "metadata": {},
     "source": [
      "xxx le module os.path"
     ]
    },
    {
     "cell_type": "heading",
     "level": 3,
     "metadata": {},
     "source": [
      "Recherches de noms de fichiers"
     ]
    },
    {
     "cell_type": "markdown",
     "metadata": {},
     "source": [
      "xxx le module glob"
     ]
    },
    {
     "cell_type": "heading",
     "level": 2,
     "metadata": {},
     "source": [
      "Compl\u00e9ment - niveau interm\u00e9diaire"
     ]
    },
    {
     "cell_type": "heading",
     "level": 3,
     "metadata": {},
     "source": [
      "Informations sur un fichier"
     ]
    },
    {
     "cell_type": "markdown",
     "metadata": {},
     "source": [
      " * https://docs.python.org/2/library/os.html#os.stat\n"
     ]
    },
    {
     "cell_type": "markdown",
     "metadata": {},
     "source": [
      "xxx le module stat"
     ]
    }
   ],
   "metadata": {}
  }
 ]
}