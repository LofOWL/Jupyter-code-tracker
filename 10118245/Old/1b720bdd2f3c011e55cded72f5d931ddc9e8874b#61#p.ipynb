{
 "metadata": {
  "kernelspec": {
   "display_name": "Python 2", 
   "language": "python", 
   "name": "python2"
  }, 
  "name": "", 
  "notebookname": "break et continue", 
  "version": "2.0"
 }, 
 "nbformat": 2, 
 "nbformat_minor": 0, 
 "orig_nbformat": 4, 
 "orig_nbformat_minor": 0, 
 "worksheets": [
  {
   "cells": [
    {
     "cell_type": "markdown", 
     "metadata": {}, 
     "source": [
      "<span style=\"float:left;\">Licence CC BY-NC-ND</span><span style=\"float:right;\">Thierry Parmentelat &amp; Arnaud Legout,<img src=\"media/inria-25.png\" style=\"display:inline\"></span><br/>"
     ]
    }, 
    {
     "cell_type": "markdown", 
     "metadata": {}, 
     "source": [
      "# Les instructions `break` et `continue`"
     ]
    }, 
    {
     "cell_type": "markdown", 
     "metadata": {}, 
     "source": [
      "## Compl\u00e9ment - niveau basique"
     ]
    }, 
    {
     "cell_type": "markdown", 
     "metadata": {}, 
     "source": [
      "### `break` et `continue`"
     ]
    }, 
    {
     "cell_type": "markdown", 
     "metadata": {}, 
     "source": [
      "python propose deux instructions tr\u00e8s pratiques permettant de contr\u00f4ler l'ex\u00e9cution \u00e0 l'int\u00e9rieur des boucles de r\u00e9p\u00e9tition (`for` ou `while`)", 
      "", 
      " * `continue` : pour abandonner l'it\u00e9ration courante et passer \u00e0 la suivante", 
      " * `break` : pour abandonner compl\u00e8tement la boucle", 
      " ", 
      "Voici un exemple simple d'utilisation de ces deux instructions"
     ]
    }, 
    {
     "cell_type": "code", 
     "collapsed": false, 
     "input": [
      "for entier in range(1000):", 
      "    # on ignore les nombres non multiples de 10", 
      "    if entier % 10 != 0:", 
      "        continue", 
      "    print \"On traite l'entier {}\".format(entier)", 
      "    # on s'arr\u00eate \u00e0 50", 
      "    if entier >= 50:", 
      "        break", 
      "print \"on est sorti de la boucle\"    "
     ], 
     "language": "python", 
     "metadata": {}, 
     "outputs": [], 
     "prompt_number": null
    }, 
    {
     "cell_type": "markdown", 
     "metadata": {}, 
     "source": [
      "Pour aller plus loin, vous pouvez lire [cette documentation](https://docs.python.org/2.7/tutorial/controlflow.html?highlight=break#break-and-continue-statements-and-else-clauses-on-loops)."
     ]
    }
   ], 
   "metadata": {}
  }
 ]
}
