{
 "metadata": {
  "notebookname": "variables de boucle",
  "signature": "sha256:cf4452f1d8068b3df2d5087975a0ef56fa10bad6c8bff074a31033b4a1c270f3",
  "version": "1.0"
 },
 "nbformat": 3,
 "nbformat_minor": 0,
 "worksheets": [
  {
   "cells": [
    {
     "cell_type": "heading",
     "level": 1,
     "metadata": {},
     "source": [
      "variables de boucle"
     ]
    }
   ],
   "metadata": {}
  }
 ]
}