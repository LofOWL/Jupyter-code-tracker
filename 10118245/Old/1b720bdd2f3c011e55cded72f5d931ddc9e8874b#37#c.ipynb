{
 "metadata": {
  "kernelspec": {
   "display_name": "Python 2", 
   "language": "python", 
   "name": "python2"
  }, 
  "name": "", 
  "notebookname": "La fonction raw_input", 
  "version": "2.0"
 }, 
 "nbformat": 2, 
 "nbformat_minor": 0, 
 "orig_nbformat": 4, 
 "orig_nbformat_minor": 0, 
 "worksheets": [
  {
   "cells": [
    {
     "cell_type": "markdown", 
     "metadata": {}, 
     "source": [
      "<span style=\"float:left;\">Licence CC BY-NC-ND</span><span style=\"float:right;\">Thierry Parmentelat &amp; Arnaud Legout&nbsp;<img src=\"media/inria-25.png\" style=\"display:inline\"></span><br/>"
     ]
    }, 
    {
     "cell_type": "markdown", 
     "metadata": {}, 
     "source": [
      "# Obtenir une r\u00e9ponse de l'utilisateur"
     ]
    }, 
    {
     "cell_type": "markdown", 
     "metadata": {}, 
     "source": [
      "## Compl\u00e9ment - niveau basique"
     ]
    }, 
    {
     "cell_type": "markdown", 
     "metadata": {}, 
     "source": [
      "Occasionnellement, il peut \u00eatre utile de poser une question \u00e0 l'utilisateur."
     ]
    }, 
    {
     "cell_type": "markdown", 
     "metadata": {}, 
     "source": [
      "### La fonction raw_input()"
     ]
    }, 
    {
     "cell_type": "markdown", 
     "metadata": {}, 
     "source": [
      "C'est le propos de la fonction `raw_input`. Par exemple:"
     ]
    }, 
    {
     "cell_type": "code", 
     "collapsed": false, 
     "input": [
      "nom_ville = raw_input(\"entrez le nom de la ville : \")", 
      "print \"nom_ville\", nom_ville"
     ], 
     "language": "python", 
     "metadata": {}, 
     "outputs": [], 
     "prompt_number": null
    }, 
    {
     "cell_type": "markdown", 
     "metadata": {}, 
     "source": [
      "Vous pouvez voir ici comment cette fonction est impl\u00e9ment\u00e9e dans un notebook."
     ]
    }, 
    {
     "cell_type": "markdown", 
     "metadata": {}, 
     "source": [
      "### Utilitaire `readline`"
     ]
    }, 
    {
     "cell_type": "markdown", 
     "metadata": {}, 
     "source": [
      "Nous vous conseillons d'essayer \u00e9galement cette fonction dans un terminal avec l'interpr\u00e9teur python."
     ]
    }, 
    {
     "cell_type": "markdown", 
     "metadata": {}, 
     "source": [
      "Lorsqu'elle est utilis\u00e9e dans un terminal, il est utile d'associer \u00e0 `raw_input` le module `readline`, ainsi l'utilisateur peut utiliser les fl\u00eaches pour \u00e9diter sa r\u00e9ponse, pour revenir en arri\u00e8re ou remonter dans l'historique de ses r\u00e9ponses, comme ceci"
     ]
    }, 
    {
     "cell_type": "code", 
     "collapsed": false, 
     "input": [
      "# utile seulement dans un terminal", 
      "import readline", 
      "", 
      "entree = range(3)", 
      "for i in range(3):", 
      "    entree[i] = int(raw_input(\"entrez le nombre num\u00e9ro {} \".format(i)))", 
      "print \"entree\", entree"
     ], 
     "language": "python", 
     "metadata": {}, 
     "outputs": [], 
     "prompt_number": null
    }, 
    {
     "cell_type": "markdown", 
     "metadata": {}, 
     "source": [
      "### Attention \u00e0 bien v\u00e9rifier/convertir"
     ]
    }, 
    {
     "cell_type": "markdown", 
     "metadata": {}, 
     "source": [
      "Notez bien que `raw_input` renvoie **une cha\u00eene**; c'est assez \u00e9vident, mais il est tr\u00e8s facile de l'oublier et de passer cette cha\u00eene directement \u00e0 une fonction qui s'attend \u00e0 recevoir, par exemple, un nombre entier, auquel cas les choses se passent mal:"
     ]
    }, 
    {
     "cell_type": "markdown", 
     "metadata": {}, 
     "source": [
      "    >>> range(raw_input(\"nombre de lignes: \"))", 
      "    nombre de lignes: 4", 
      "    Traceback (most recent call last):", 
      "      File \"<stdin>\", line 1, in <module>", 
      "    TypeError: range() integer end argument expected, got str."
     ]
    }, 
    {
     "cell_type": "markdown", 
     "metadata": {}, 
     "source": [
      "Dans ce cas il faut appeler la fonction `int` pour convertir le r\u00e9sultat en un entier:"
     ]
    }, 
    {
     "cell_type": "code", 
     "collapsed": false, 
     "input": [
      "range(int(raw_input( \"nombre de lignes: \" )))"
     ], 
     "language": "python", 
     "metadata": {}, 
     "outputs": [], 
     "prompt_number": null
    }, 
    {
     "cell_type": "markdown", 
     "metadata": {}, 
     "source": [
      "### Limitations"
     ]
    }, 
    {
     "cell_type": "markdown", 
     "metadata": {}, 
     "source": [
      "Cette fonction nous sera utile pour nos premiers pas en python.", 
      "", 
      "En pratique toutefois, on utilise assez peu cette fonction, car les applications \"r\u00e9elles\" viennent avec leur propre interface utilisateur, souvent graphique, et disposent donc d'autres moyens que celui-ci pour interagir avec l'utilisateur.", 
      "", 
      "Les applications destin\u00e9es \u00e0 fonctionner dans un terminal, quant \u00e0 elle, re\u00e7oivent traditionnellement leurs donn\u00e9es de la ligne de commande. C'est le propos du module `argparse` que nous verrons ult\u00e9rieurement."
     ]
    }
   ], 
   "metadata": {}
  }
 ]
}
