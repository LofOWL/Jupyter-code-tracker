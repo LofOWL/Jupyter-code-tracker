{
 "cells": [
  {
   "cell_type": "markdown",
   "metadata": {},
   "source": [
    "<style>div.title-slide {    width: 100%;    display: flex;    flex-direction: row;            /* default value; can be omitted */    flex-wrap: nowrap;              /* default value; can be omitted */    justify-content: space-between;}</style><div class=\"title-slide\">\n",
    "<span style=\"float:left;\">Licence CC BY-NC-ND</span>\n",
    "<span>Thierry Parmentelat &amp; Arnaud Legout</span>\n",
    "<span><img src=\"media/both-logos-small-alpha.png\" style=\"display:inline\" /></span>\n",
    "</div>"
   ]
  },
  {
   "cell_type": "markdown",
   "metadata": {},
   "source": [
    "#  Avertissement relatif à `asyncio` et Python-3.7"
   ]
  },
  {
   "cell_type": "markdown",
   "metadata": {},
   "source": [
    "## Complément - niveau intermédiaire"
   ]
  },
  {
   "cell_type": "markdown",
   "metadata": {},
   "source": [
    "### Le cours se concentre sur Python-3.6"
   ]
  },
  {
   "cell_type": "markdown",
   "metadata": {},
   "source": [
    "Comme on l'a dit en préambule du cours, notre version de **référence** est **Python-3.6**. C'est la version utilisée à la fois dans les vidéos, et dans les notebooks.\n",
    "\n",
    "Puisque cette semaine est consacrée à **`asyncio`**, il faut savoir que cette brique technologique est **relativement récente**, et qu'elle est du coup, plus que d'autres aspects de Python, **sujette à des évolutions**."
   ]
  },
  {
   "cell_type": "markdown",
   "metadata": {},
   "source": [
    "### Un résumé des nouveautés"
   ]
  },
  {
   "cell_type": "markdown",
   "metadata": {},
   "source": [
    "Vous trouverez à la fin de la semaine, dans la séquence consacrée aux bonnes pratiques, un résumé des améliorations  apportées depuis la version 3.6."
   ]
  },
  {
   "cell_type": "markdown",
   "metadata": {},
   "source": [
    "### L'essentiel est toujours d'actualité"
   ]
  },
  {
   "cell_type": "markdown",
   "metadata": {},
   "source": [
    "Cela étant dit, nos buts ici étaient principalement:\n",
    "\n",
    "* de vous faire découvrir ce nouveau paradigme,\n",
    "* de vous faire sentir dans quelles applications cela peut avoir un apport très précieux,\n",
    "* de bien vous faire comprendre ce qui se passe à l'exécution,\n",
    "* et de vous donner un aperçu de la façon dont tout cela est implémenté."
   ]
  },
  {
   "cell_type": "markdown",
   "metadata": {},
   "source": [
    "Les plus grosses différences concernent la prise en main. Comme nous allons bientôt le voir, le *\"hello world\"* en `asyncio` était en Python-3.6 un peu *awkward*, c'est-à-dire que pour faire fonctionner une coroutine, il fallait faire faire quelque chose comme :\n",
    "\n",
    "    \n",
    "\n",
    "; impact beaucoup plus limité sur du code de production.\n",
    "**XXX**\n",
    "\n",
    "donner un exemple rapide - en anticipant "
   ]
  }
 ],
 "metadata": {
  "kernelspec": {
   "display_name": "Python 3",
   "language": "python",
   "name": "python3"
  },
  "language_info": {
   "codemirror_mode": {
    "name": "ipython",
    "version": 3
   },
   "file_extension": ".py",
   "mimetype": "text/x-python",
   "name": "python",
   "nbconvert_exporter": "python",
   "pygments_lexer": "ipython3",
   "version": "3.7.0"
  },
  "livereveal": {
   "auto_select": "code",
   "auto_select_fragment": true,
   "autolaunch": false,
   "backimage": "media/nologo.png",
   "height": "100%",
   "start_slideshow_at": "selected",
   "theme": "simple",
   "transition": "fade",
   "width": "100%"
  },
  "notebookname": "asyncio et Python-3.7",
  "version": "3.0"
 },
 "nbformat": 4,
 "nbformat_minor": 2
}