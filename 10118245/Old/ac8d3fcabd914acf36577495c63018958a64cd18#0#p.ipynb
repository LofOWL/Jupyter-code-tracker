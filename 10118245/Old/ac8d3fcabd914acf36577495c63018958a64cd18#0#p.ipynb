{
 "metadata": {
  "notebookname": "NO HEADING 1 found",
  "signature": "sha256:defbd7deb6342f8188061131351e59c53a99293ee4c14abe4a2bfc5bba1ced14",
  "version": "1.0"
 },
 "nbformat": 3,
 "nbformat_minor": 0,
 "worksheets": [
  {
   "cells": [
    {
     "cell_type": "markdown",
     "metadata": {},
     "source": [
      "Je simule un exercice d\u00e9bile, on demande aux \u00e9tudiants d'\u00e9crire une classe `Fifo`\n",
      "    \n",
      "qui impl\u00e9mente \n",
      "* un constructeur `Fifo()`\n",
      "* une m\u00e9thode `incoming(obj)`\n",
      "* une m\u00e9thode `outgoing()`\n",
      "\n",
      "qui rende simplement les objets dans le m\u00eame ordre o\u00f9 ils ont \u00e9t\u00e9 rang\u00e9s"
     ]
    },
    {
     "cell_type": "markdown",
     "metadata": {},
     "source": [
      "L'\u00e9tudiant est invit\u00e9 \u00e0 \u00e9crire son code dans la class `Fifo`;\n",
      "\n",
      "On lui propose en arrivant une cellule vide comme ceci"
     ]
    },
    {
     "cell_type": "code",
     "collapsed": false,
     "input": [
      "class Fifo(object):\n",
      "    def __init__(self):\n",
      "        pass\n",
      "    def incoming(self, obj):\n",
      "        pass\n",
      "    def outgoing(self):\n",
      "        pass"
     ],
     "language": "python",
     "metadata": {},
     "outputs": [],
     "prompt_number": 1
    },
    {
     "cell_type": "markdown",
     "metadata": {},
     "source": [
      "Il la modifie, imaginons que \u00e7a donne cela"
     ]
    },
    {
     "cell_type": "code",
     "collapsed": false,
     "input": [
      "# cette classe est cass\u00e9e expr\u00e8s ...\n",
      "class Fifo(object):\n",
      "    def __init__(self):\n",
      "        self.items = []\n",
      "    def incoming(self, obj):\n",
      "        self.items.append(obj)\n",
      "    def outgoing(self):\n",
      "        if len(self.items)%2 == 0:\n",
      "            raise Exception(\"even length ->{}\".format(self.items.pop()))\n",
      "        return self.items.pop()\n",
      "    # et en option pour le debug\n",
      "    def __repr__(self):\n",
      "        return \"<StudentFifo [{}]>\".format(\" \".join([\"{}\".format(i) for i in self.items]))"
     ],
     "language": "python",
     "metadata": {},
     "outputs": [],
     "prompt_number": 2
    },
    {
     "cell_type": "markdown",
     "metadata": {},
     "source": [
      "Et voici la cellule pour corriger "
     ]
    },
    {
     "cell_type": "code",
     "collapsed": false,
     "input": [
      "from corrections.ww_class import exo_fifo\n",
      "exo_fifo.correction(Fifo)"
     ],
     "language": "python",
     "metadata": {},
     "outputs": [
      {
       "html": [
        "<table style='font-family:monospace;font-size:small;'><tr style='font-family:monospace;font-size:medium;'><th colspan='4' style='text-align:center'>Sc\u00e9nario 1</th></tr><tr><th>Appel</th><th>Attendu</th><th>Obtenu</th><th></th></tr><tr style='background-color:#d6e9ce;'><td>o=Fifo()</td><td>-</td><td>-</td><td>OK</td></tr><tr style='background-color:#d6e9ce;'><td>o.incoming(1)</td><td><pre>\n",
        "None</pre></td><td><pre>\n",
        "None</pre></td><td>OK</td></tr><tr style='background-color:#d6e9ce;'><td>o.incoming(2)</td><td><pre>\n",
        "None</pre></td><td><pre>\n",
        "None</pre></td><td>OK</td></tr><tr style='background-color:#efd6d6;'><td>o.outgoing()</td><td><pre>\n",
        "1</pre></td><td><pre>\n",
        "'Exception even length ->2'</pre></td><td>KO</td></tr><tr style='background-color:#d6e9ce;'><td>o.incoming(3)</td><td><pre>\n",
        "None</pre></td><td><pre>\n",
        "None</pre></td><td>OK</td></tr><tr style='background-color:#d6e9ce;'><td>o.incoming(4)</td><td><pre>\n",
        "None</pre></td><td><pre>\n",
        "None</pre></td><td>OK</td></tr><tr style='background-color:#efd6d6;'><td>o.outgoing()</td><td><pre>\n",
        "2</pre></td><td><pre>\n",
        "4</pre></td><td>KO</td></tr><tr style='background-color:#efd6d6;'><td>o.outgoing()</td><td><pre>\n",
        "3</pre></td><td><pre>\n",
        "'Exception even length ->3'</pre></td><td>KO</td></tr><tr style='font-family:monospace;font-size:medium;'><th colspan='4' style='text-align:center'>Sc\u00e9nario 2</th></tr><tr><th>Appel</th><th>Attendu</th><th>Obtenu</th><th></th></tr><tr style='background-color:#d6e9ce;'><td>o=Fifo()</td><td>-</td><td>-</td><td>OK</td></tr><tr style='background-color:#d6e9ce;'><td>o.incoming(1)</td><td><pre>\n",
        "None</pre></td><td><pre>\n",
        "None</pre></td><td>OK</td></tr><tr style='background-color:#d6e9ce;'><td>o.incoming(2)</td><td><pre>\n",
        "None</pre></td><td><pre>\n",
        "None</pre></td><td>OK</td></tr><tr style='background-color:#d6e9ce;'><td>o.incoming(3)</td><td><pre>\n",
        "None</pre></td><td><pre>\n",
        "None</pre></td><td>OK</td></tr><tr style='background-color:#d6e9ce;'><td>o.incoming(4)</td><td><pre>\n",
        "None</pre></td><td><pre>\n",
        "None</pre></td><td>OK</td></tr><tr style='background-color:#efd6d6;'><td>o.outgoing()</td><td><pre>\n",
        "1</pre></td><td><pre>\n",
        "'Exception even length ->4'</pre></td><td>KO</td></tr></table>"
       ],
       "metadata": {},
       "output_type": "pyout",
       "prompt_number": 3,
       "text": [
        "<IPython.core.display.HTML at 0x108789b90>"
       ]
      }
     ],
     "prompt_number": 3
    },
    {
     "cell_type": "code",
     "collapsed": false,
     "input": [
      "exo_fifo.exemple()"
     ],
     "language": "python",
     "metadata": {},
     "outputs": [
      {
       "html": [
        "<table style='font-family:monospace;font-size:small;'><tr style='font-family:monospace;font-size:medium;'><th colspan='4' style='text-align:center'>Sc\u00e9nario 1</th></tr><tr><th>Appel</th><th>Attendu</th></tr><tr><td>o=Fifo()</td><td>-</td></tr><tr><td>o.incoming(1)</td><td><pre>\n",
        "None</pre></td></tr><tr><td>o.incoming(2)</td><td><pre>\n",
        "None</pre></td></tr><tr><td>o.outgoing()</td><td><pre>\n",
        "1</pre></td></tr><tr><td>o.incoming(3)</td><td><pre>\n",
        "None</pre></td></tr><tr><td>o.incoming(4)</td><td><pre>\n",
        "None</pre></td></tr><tr><td>o.outgoing()</td><td><pre>\n",
        "2</pre></td></tr><tr><td>o.outgoing()</td><td><pre>\n",
        "3</pre></td></tr></table>"
       ],
       "metadata": {},
       "output_type": "pyout",
       "prompt_number": 4,
       "text": [
        "<IPython.core.display.HTML at 0x108bb3350>"
       ]
      }
     ],
     "prompt_number": 4
    },
    {
     "cell_type": "markdown",
     "metadata": {},
     "source": [
      "*********"
     ]
    }
   ],
   "metadata": {}
  }
 ]
}