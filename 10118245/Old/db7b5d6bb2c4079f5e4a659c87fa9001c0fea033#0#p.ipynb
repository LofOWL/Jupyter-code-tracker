{
 "metadata": {
  "notebookname": "exo. classes",
  "signature": "sha256:9baca2bc2a3763d9a48ef379000323f2e42663cc6f6dfa0431ffdd1fe9a63bab",
  "version": "1.0"
 },
 "nbformat": 3,
 "nbformat_minor": 0,
 "worksheets": [
  {
   "cells": [
    {
     "cell_type": "heading",
     "level": 1,
     "metadata": {},
     "source": [
      "Exercice sur l'utilisation des classes"
     ]
    },
    {
     "cell_type": "heading",
     "level": 3,
     "metadata": {},
     "source": [
      "Introduction"
     ]
    },
    {
     "cell_type": "heading",
     "level": 5,
     "metadata": {},
     "source": [
      "Objectifs de l'exercice"
     ]
    },
    {
     "cell_type": "markdown",
     "metadata": {},
     "source": [
      "Maintenant que vous avez un bagage qui couvre toutes les bases du langage, cette semaine nous ne ferons qu'un seul exercice de taille un peu plus r\u00e9aliste. Vous devez \u00e9crire quelques classes, que vous int\u00e9grez ensuite dans un code \u00e9crit pas nos soins. \n",
      "\n",
      "L'exercice comporte donc autant une part lecture qu'une part \u00e9criture. Vous \u00eates \u00e9galement incit\u00e9s \u00e0 am\u00e9liorer autant que possible votre environnement de travail sur votre ordinateur."
     ]
    },
    {
     "cell_type": "heading",
     "level": 5,
     "metadata": {},
     "source": [
      "Objectifs de l'application"
     ]
    },
    {
     "cell_type": "markdown",
     "metadata": {},
     "source": [
      "Dans le prolongement des exercices de la semaine 3 sur les donn\u00e9es maritimes, l'application dont il est question ici fait principalement ceci&nbsp;:\n",
      " * agr\u00e9ger des donn\u00e9es obtenues aupr\u00e8s de marinetraffic,\n",
      " * et produire en sortie\n",
      "   * un fichier texte qui liste par ordre alphab\u00e9tique les bateaux concern\u00e9s, et le nombre de positions trouv\u00e9es pour chacun,\n",
      "   * et un fichier KML, pour exposer les trajectoires trouv\u00e9es \u00e0 google earth, maps ou autre outil similaire."
     ]
    },
    {
     "cell_type": "markdown",
     "metadata": {},
     "source": [
      "Voici \u00e0 quoi ressemble le fichier KML obtenu avec les donn\u00e9es que nous fournissons, une fois ouvert sous google earth&nbsp;:\n",
      "\n",
      "<img src=\"media/ships-in-earth.png\">"
     ]
    },
    {
     "cell_type": "heading",
     "level": 5,
     "metadata": {},
     "source": [
      "Choix d'impl\u00e9mentation"
     ]
    },
    {
     "cell_type": "markdown",
     "metadata": {},
     "source": [
      "En particulier, dans cet exercice nous allons voir comment on peut g\u00e9rer des donn\u00e9es sous forme d'instances de classes plut\u00f4t que de types de base. Ce qui r\u00e9sonne avec la discussion commenc\u00e9e en Semaine 3, S\u00e9quence \"Les dictionnaires\", dans le compl\u00e9ment \"record-et-dictionnaire\". \n",
      "\n",
      "Dans les exercices de cette semaine-l\u00e0 nous avions uniquement utilis\u00e9 des types 'standard' comme listes, tuples et dictionnaires pour mod\u00e9liser les donn\u00e9es, cette semaine nous allons faire le choix inverse et utiliser plus souvent des (instances de) classes."
     ]
    },
    {
     "cell_type": "heading",
     "level": 5,
     "metadata": {},
     "source": [
      "Principe de l'exercice"
     ]
    },
    {
     "cell_type": "markdown",
     "metadata": {},
     "source": [
      "On a \u00e9crit une application compl\u00e8te, constitu\u00e9e de 4 modules; on vous donne le code de 3 de ces modules et vous devez \u00e9crire le module manquant. "
     ]
    },
    {
     "cell_type": "heading",
     "level": 5,
     "metadata": {},
     "source": [
      "Correction"
     ]
    },
    {
     "cell_type": "markdown",
     "metadata": {},
     "source": [
      "Tout d'abord nous fournissons un jeu de donn\u00e9es d'entr\u00e9es. De plus l'application vient avec son propre syst\u00e8me de v\u00e9rification, qui est tr\u00e8s rustique et qui consiste \u00e0 comparer, une fois les sorties produites, leur contenu avec les sorties de r\u00e9f\u00e9rence, qui ont \u00e9t\u00e9 obtenues avec notre version de l'application. \n",
      "\n",
      "Du coup le fait de disposer de google earth sur votre ordinateur n'est pas strictement n\u00e9cessaire, on ne s'en sert pas \u00e0 proprement parler pour l'exercice. "
     ]
    },
    {
     "cell_type": "markdown",
     "metadata": {},
     "source": [
      "***"
     ]
    },
    {
     "cell_type": "heading",
     "level": 3,
     "metadata": {},
     "source": [
      "Mise en place"
     ]
    },
    {
     "cell_type": "heading",
     "level": 5,
     "metadata": {},
     "source": [
      "Partez d'un directory vierge"
     ]
    },
    {
     "cell_type": "markdown",
     "metadata": {},
     "source": [
      "Pour commencer cr\u00e9ez-vous un r\u00e9pertoire pour travailler \u00e0 cet exercice"
     ]
    },
    {
     "cell_type": "heading",
     "level": 5,
     "metadata": {},
     "source": [
      "Les donn\u00e9es"
     ]
    },
    {
     "cell_type": "markdown",
     "metadata": {},
     "source": [
      "Commencez par y installer les donn\u00e9es que nous publions dans les formats suivants&nbsp;:\n",
      " * [format tar](data/ships-json.tar)\n",
      " * [format tgz](data/ships-json.tgz)\n",
      " * [format zip](data/ships-json.zip)\n",
      "\n",
      "Une fois install\u00e9es, ces donn\u00e9es doivent se trouver dans un sous-r\u00e9pertoire `json/` qui contient 133 fichiers \n",
      "\n",
      "    json/2013-10-01-00-00--t=10--ext.json\n",
      "    ...\n",
      "    json/2013-10-01-23-50--t=10.json    "
     ]
    },
    {
     "cell_type": "markdown",
     "metadata": {},
     "source": [
      "Comme vous pouvez le deviner il s'agit de donn\u00e9es sur le mouvement des bateaux dans la zone en date du 10 Octobre 2013; et comme vous le voyez \u00e9galement on a quelques exemplaires de donn\u00e9es \u00e9tendues, mais dans la plupart des cas il s'agit de donn\u00e9es abr\u00e9g\u00e9es."
     ]
    },
    {
     "cell_type": "heading",
     "level": 5,
     "metadata": {},
     "source": [
      "Les r\u00e9sultats de r\u00e9f\u00e9rence"
     ]
    },
    {
     "cell_type": "markdown",
     "metadata": {},
     "source": [
      "De m\u00eame il vous faut installer les r\u00e9sultats de r\u00e9f\u00e9rence que vous trouvez ici&nbsp;:\n",
      " * [format tar](data/ships-ref.tar)\n",
      " * [format tgz](data/ships-ref.tgz)\n",
      " * [format zip](data/ships-ref.zip)\n",
      "\n",
      "ce qui vous doit vous donner trois fichiers \n",
      "\n",
      "    ALL_SHIPS.kml.ref\n",
      "    ALL_SHIPS.txt.ref    \n",
      "    ALL_SHIPS-v.txt.ref    \n"
     ]
    },
    {
     "cell_type": "heading",
     "level": 5,
     "metadata": {},
     "source": [
      "Le code"
     ]
    },
    {
     "cell_type": "markdown",
     "metadata": {},
     "source": [
      "Vous pouvez \u00e0 pr\u00e9sent aller chercher les 3 modules suivants&nbsp;:\n",
      " * [`merger.py`](data/merger.py)\n",
      " * [`compare.py`](data/compare.py)\n",
      " * [`kml.py`](data/kml.py)\n",
      " \n",
      "et les sauver dans le m\u00eame r\u00e9pertoire.\n",
      "\n",
      "Votre but dans cet exercice est d'\u00e9crire le module manquant `shipdict.py` qui permettra \u00e0 l'application de fonctionner comme attendu."
     ]
    },
    {
     "cell_type": "markdown",
     "metadata": {},
     "source": [
      "***"
     ]
    },
    {
     "cell_type": "heading",
     "level": 3,
     "metadata": {},
     "source": [
      "Fonctionnement de l'application"
     ]
    },
    {
     "cell_type": "heading",
     "level": 5,
     "metadata": {},
     "source": [
      "Comment est structur\u00e9e l'application"
     ]
    },
    {
     "cell_type": "markdown",
     "metadata": {},
     "source": [
      "Le point d'entr\u00e9e s'appelle `merger.py`\n",
      "\n",
      "Il utilise donc trois autres modules annexes, qui sont\n",
      "\n",
      " * `shipdict.py`, qui impl\u00e9mente les classes\n",
      "   * `Position` qui contient une latitude, une longitude, et un timestamp,\n",
      "   * `Ship` qui mod\u00e9lise un bateau `partir de son `id` et optionnellement un `name` et `country`\n",
      "   * `ShipDict`, qui maintient un index des bateaux (essentiellement un dictionnaire\n",
      " * `compare.py` qui impl\u00e9mente  \n",
      "   * la classe `Compare` qui se charge de comparer les fichiers r\u00e9sultat avec leur version de r\u00e9f\u00e9rence,\n",
      " * `kml.py` qui impl\u00e9mente \n",
      "   * la classe `KML` dans laquelle sont concentr\u00e9es les fonctions li\u00e9es \u00e0 la g\u00e9n\u00e9ration de KML; c'est notamment en fonction de nos objectifs p\u00e9dagogiques que ce choix a \u00e9t\u00e9 fait."
     ]
    },
    {
     "cell_type": "heading",
     "level": 5,
     "metadata": {},
     "source": [
      "Lancement"
     ]
    },
    {
     "cell_type": "markdown",
     "metadata": {},
     "source": [
      "Lorsque le programme est complet et qu'il fonctionne correctement, on le lance comme ceci&nbsp;:\n",
      "\n",
      "    $ python merger.py json/*\n",
      "    Opening ALL_SHIPS.txt for listing all named ships\n",
      "    Opening ALL_SHIPS.kml for ship ALL_SHIPS\n",
      "    Comparing ALL_SHIPS.txt and ALL_SHIPS.txt.ref -> OK\n",
      "    Comparing ALL_SHIPS.kml and ALL_SHIPS.kml.ref -> OK\n",
      "    \n",
      "qui comme on le voit produit\n",
      "\n",
      " * `ALL_SHIPS.txt` qui r\u00e9sume, par ordre alphab\u00e9tique les bateaux qu'on a trouv\u00e9s et le nombre de positions pour chacun, et \n",
      " * `ALL_SHIPS.kml` qui est le fichier au format `KML` qui contient toutes les trajectoires."
     ]
    },
    {
     "cell_type": "heading",
     "level": 5,
     "metadata": {},
     "source": [
      "Mode bavard"
     ]
    },
    {
     "cell_type": "markdown",
     "metadata": {},
     "source": [
      "On peut \u00e9galement lancer l'application avec l'option `--verbose` ou simplement `-v` sur la ligne de commande, ce qui donne un r\u00e9sultat plus d\u00e9taill\u00e9. Le code KML g\u00e9n\u00e9r\u00e9 reste inchang\u00e9, mais la sortie sur le terminal et le fichier de r\u00e9sum\u00e9 sont plus \u00e9toff\u00e9s&nbsp;:\n",
      "\n",
      "    $ python merger.py -v json/*.json\n",
      "    Opening json/2013-10-01-00-00--t=10--ext.json for parsing JSON\n",
      "    Opening json/2013-10-01-00-10--t=10.json for parsing JSON\n",
      "    ...\n",
      "    Opening json/2013-10-01-23-40--t=10.json for parsing JSON\n",
      "    Opening json/2013-10-01-23-50--t=10.json for parsing JSON\n",
      "    Opening ALL_SHIPS-v.txt for listing all named ships\n",
      "    Opening ALL_SHIPS.kml for ship ALL_SHIPS\n",
      "    Comparing ALL_SHIPS-v.txt and ALL_SHIPS-v.txt.ref -> OK\n",
      "    Comparing ALL_SHIPS.kml and ALL_SHIPS.kml.ref -> OK\n",
      "    \n",
      "\u00c0 noter que dans le mode bavard toutes les positions sont list\u00e9es dans le r\u00e9sum\u00e9 au format texte, ce qui le rend beaucoup plus bavard comme vous pouvez le voir en inspectant la taille des deux fichiers de r\u00e9f\u00e9rence&nbsp;:\n",
      "\n",
      "    $ ls -l ALL_SHIPS.txt.ref ALL_SHIPS-v.txt.ref\n",
      "    -rw-r--r--  1 parmentelat  staff  1335127 Nov 30 17:02 ALL_SHIPS-v.txt.ref\n",
      "    -rw-r--r--  1 parmentelat  staff    15273 Nov 30 08:55 ALL_SHIPS.txt.ref    "
     ]
    },
    {
     "cell_type": "heading",
     "level": 5,
     "metadata": {},
     "source": [
      "Un mot sur les donn\u00e9es"
     ]
    },
    {
     "cell_type": "markdown",
     "metadata": {},
     "source": [
      "**Attention** que le contenu d\u00e9taill\u00e9 des champs `extended` et `abbreviated` peut \u00eatre l\u00e9g\u00e8rement diff\u00e9rent de ce qu'on avait pour les exercices de la semaine 3. \n",
      "\n",
      "Voici ce avec quoi on travaille cette fois-ci&nbsp;:\n",
      "\n",
      "    >>> extended[0]\n",
      "    [228317000, 48.76829, -4.334262, 75, 333, u'2013-09-30T21:54:00', u'MA GONDOLE', 30, 0, u'FGSA', u'FR', u'', u'', u'', u'CLASS B', u'', 13, 3, 0, u'', u'', u'']\n",
      "    \n",
      "c'est-\u00e0-dire \n",
      "\n",
      "    [ *id*, *latitude*, *longitude*, _, _, *timestamp*, *name*, _, _, _, *country*, ...]\n",
      "    \n",
      "et en ce qui concerne les donn\u00e9es abr\u00e9g\u00e9es\n",
      "\n",
      "    >>> abbreviated[0]\n",
      "    [232005670, 49.39331, -5.939922, 33, 269, 3, u'2013-10-01T06:08:00']\n",
      "    \n",
      "c'est-\u00e0-dire \n",
      "\n",
      "    [ *id*, *latitude*, *longitude*, _, _, _, *timestamp*]"
     ]
    },
    {
     "cell_type": "markdown",
     "metadata": {},
     "source": [
      "Il y a unicit\u00e9 des `id` bien entendu (deux relev\u00e9s qui portent le m\u00eame `id` concernent le m\u00eame bateau. \n",
      "\n",
      "Par ailleurs les donn\u00e9es sont tout \u00e0 fait authentiques et n'ont subi aucun filtrage. \n",
      "Pour cette raison il serait sans doute hasardeux de supposer l'unicit\u00e9 des noms de bateaux - en clair deux bateaux diff\u00e9rents peuvent porter le m\u00eame nom."
     ]
    },
    {
     "cell_type": "markdown",
     "metadata": {},
     "source": [
      "***"
     ]
    },
    {
     "cell_type": "heading",
     "level": 2,
     "metadata": {},
     "source": [
      "Niveaux pour l'exercice"
     ]
    },
    {
     "cell_type": "markdown",
     "metadata": {},
     "source": [
      "Quelque soit le niveau auquel vous choisissez de faire l'exercice, nous vous conseillons de commencer par lire int\u00e9gralement les 3 modules qui sont \u00e0 votre disposition, dans l'ordre\n",
      " * `merger.py` qui est le chef d'orchestre de toute cette affaire,\n",
      " * `compare.py` qui est tr\u00e8s simple,\n",
      " * `kml.py` qui ne pr\u00e9sente pas grand int\u00e9r\u00eat en soi si ce n'est pour l'utilisation de [la classe `string.Template`](https://docs.python.org/2/library/string.html#template-strings) qui peut \u00eatre utile dans d'autres contextes \u00e9galement."
     ]
    },
    {
     "cell_type": "markdown",
     "metadata": {},
     "source": [
      "En **mode avanc\u00e9** l'\u00e9nonc\u00e9 pourrait s'arr\u00eater l\u00e0; vous lisez le code qui est fourni et vous en d\u00e9duisez ce qui manque pour faire fonctionner le tout."
     ]
    },
    {
     "cell_type": "markdown",
     "metadata": {},
     "source": [
      "Vous pouvez consid\u00e9rer que vous avez achev\u00e9 l'exercice lorsque les deux appels suivants affichent les deux derni\u00e8rs lignes avec OK\n",
      "\n",
      "    $ python merger.py json/*\n",
      "    ...\n",
      "    Comparing ALL_SHIPS.txt and ALL_SHIPS.txt.ref -> OK\n",
      "    Comparing ALL_SHIPS.kml and ALL_SHIPS.kml.ref -> OK\n",
      "\n",
      "\n",
      "\n",
      "    $ python merger.py -v json/*.json\n",
      "    ...\n",
      "    Comparing ALL_SHIPS-v.txt and ALL_SHIPS-v.txt.ref -> OK\n",
      "    Comparing ALL_SHIPS.kml and ALL_SHIPS.kml.ref -> OK\n"
     ]
    },
    {
     "cell_type": "markdown",
     "metadata": {},
     "source": [
      "***"
     ]
    },
    {
     "cell_type": "markdown",
     "metadata": {},
     "source": [
      "En **mode interm\u00e9diaire** nous vous donnons ci-dessous un extrait de ce que donne `help` sur les classes manquantes de mani\u00e8re \u00e0 vous donner une indication de ce que vous devez \u00e9crire."
     ]
    },
    {
     "cell_type": "heading",
     "level": 5,
     "metadata": {},
     "source": [
      "Classe `Position`"
     ]
    },
    {
     "cell_type": "markdown",
     "metadata": {},
     "source": [
      "    Help on class Position in module shipdict:\n",
      "    \n",
      "    class Position(__builtin__.object)\n",
      "     |  a position atom with timestamp attached\n",
      "     |  \n",
      "     |  Methods defined here:\n",
      "     |  \n",
      "     |  __init__(self, latitude, longitude, timestamp)\n",
      "     |      constructor\n",
      "     |  \n",
      "     |  __repr__(self)\n",
      "     |  "
     ]
    },
    {
     "cell_type": "markdown",
     "metadata": {},
     "source": [
      "**Notes**\n",
      " * certaines autres classes comme `KML` sont \u00e9galement suscpetibles d'acc\u00e9der aux champs internes d'une instance de la classe `Position` en faisant simplement `position.latitude`\n",
      " * La classe `Position` red\u00e9finit `__repr__`, ceci est utilis\u00e9 uniquement dans la sortie en mode bavard.\n"
     ]
    },
    {
     "cell_type": "heading",
     "level": 5,
     "metadata": {},
     "source": [
      "Classe `Ship`"
     ]
    },
    {
     "cell_type": "markdown",
     "metadata": {},
     "source": [
      "    Help on class Ship in module shipdict:\n",
      "    \n",
      "    class Ship(__builtin__.object)\n",
      "     |  a ship object, that requires a ship id, \n",
      "     |  and optionnally a ship name and country\n",
      "     |  which can also be set later on\n",
      "     |  \n",
      "     |  this object also manages a list of known positions\n",
      "     |  \n",
      "     |  Methods defined here:\n",
      "     |  \n",
      "     |  __init__(self, id, name=None, country=None)\n",
      "     |      constructor\n",
      "     |  \n",
      "     |  add_position(self, position)\n",
      "     |      insert a position relating to this ship\n",
      "     |      positions are not kept in order so you need \n",
      "     |      to call `sort_positions` once you're done\n",
      "     |  \n",
      "     |  sort_positions(self)\n",
      "     |      sort list of positions by chronological order\n"
     ]
    },
    {
     "cell_type": "heading",
     "level": 3,
     "metadata": {},
     "source": [
      "Classe `Shipdict`"
     ]
    },
    {
     "cell_type": "markdown",
     "metadata": {},
     "source": [
      "    Help on class ShipDict in module shipdict:\n",
      "    \n",
      "    class ShipDict(__builtin__.dict)\n",
      "     |  a repository for storing all ships that we know about\n",
      "     |  indexed by their id\n",
      "     |  \n",
      "     |  Method resolution order:\n",
      "     |      ShipDict\n",
      "     |      __builtin__.dict\n",
      "     |      __builtin__.object\n",
      "     |  \n",
      "     |  Methods defined here:\n",
      "     |  \n",
      "     |  __init__(self)\n",
      "     |      constructor\n",
      "     |  \n",
      "     |  __repr__(self)\n",
      "     |  \n",
      "     |  is_abbreviated(self, chunk)\n",
      "     |      depending on the size of the incoming data chunk, \n",
      "     |      guess if it is an abbreviated or extended data\n",
      "     |  \n",
      "     |  add_abbreviated(self, chunk)\n",
      "     |      adds an abbreviated data chunk to the repository\n",
      "     |  \n",
      "     |  add_chunk(self, chunk)\n",
      "     |      chunk is a plain list coming from the JSON data and can be either\n",
      "     |      extended or abbreviated\n",
      "     |      \n",
      "     |      based on the result of is_abbreviated(), that chunk gets dealt with\n",
      "     |      using add_extended or add_abbreviated\n",
      "     |  \n",
      "     |  add_extended(self, chunk)\n",
      "     |      adds an extended data chunk to the repository\n",
      "     |  \n",
      "     |  all_ships(self)\n",
      "     |      returns a list of all ships known to us\n",
      "     |  \n",
      "     |  clean_unnamed(self)\n",
      "     |      Because we enter abbreviated and extended data in no particular order,\n",
      "     |      and for any time period, we might have ship instances with no name attached\n",
      "     |      This method removes such entries from the dict\n",
      "     |  \n",
      "     |  ships_by_name(self, name)\n",
      "     |      returns a list of all known ships with name <name>\n",
      "     |  \n",
      "     |  sort(self)\n",
      "     |      makes sure all the ships have their positions in chronological order\n",
      "     |  \n"
     ]
    }
   ],
   "metadata": {}
  }
 ]
}