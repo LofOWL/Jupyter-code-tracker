{
 "metadata": {
  "name": "Affectation multiple",
  "signature": "6e775a59d4a32f9f39f659f2ca440303b49fa5c4d309fd7ca365c78a902ca65f"
 },
 "nbformat": 3,
 "nbformat_minor": 0,
 "worksheets": [
  {
   "cells": [
    {
     "cell_type": "heading",
     "level": 1,
     "metadata": {},
     "source": [
      "Affectation multiple"
     ]
    },
    {
     "cell_type": "heading",
     "level": 2,
     "metadata": {},
     "source": [
      "Compl\u00e9ment - niveau basique"
     ]
    },
    {
     "cell_type": "heading",
     "level": 3,
     "metadata": {},
     "source": [
      "Un exemple simple"
     ]
    },
    {
     "cell_type": "markdown",
     "metadata": {},
     "source": [
      "L'affectation dans python peut concerner plusieurs variables \u00e0 la fois. Commen\u00e7ons par un exemple simple \u00e0 base de tuple. Imaginons qu'on dispose d'un tuple `couple` dont on sait qu'il a deux \u00e9l\u00e9ments"
     ]
    },
    {
     "cell_type": "code",
     "collapsed": false,
     "input": [
      "couple = ( 100, 'spam' )"
     ],
     "language": "python",
     "metadata": {},
     "outputs": []
    },
    {
     "cell_type": "markdown",
     "metadata": {},
     "source": [
      "On souhaite \u00e0 pr\u00e9sent extraire les deux valeurs pour les affecter \u00e0 deux variables. Une solution na\u00efve consiste bien s\u00fbr \u00e0 faire simplement"
     ]
    },
    {
     "cell_type": "code",
     "collapsed": false,
     "input": [
      "gauche = couple[0]\n",
      "droite = couple[1]\n",
      "print 'gauche',gauche,'droite',droite"
     ],
     "language": "python",
     "metadata": {},
     "outputs": []
    },
    {
     "cell_type": "markdown",
     "metadata": {},
     "source": [
      "Cela fonctionne naturellement tr\u00e8s bien, mais n'est pas tr\u00e8s pythonique - comme on dit ;)\n",
      "\n",
      "On pr\u00e9f\u00e8rera la formulation \u00e9quivalente suivante:"
     ]
    },
    {
     "cell_type": "code",
     "collapsed": false,
     "input": [
      "( gauche, droite ) = couple\n",
      "print 'gauche',gauche,'droite',droite"
     ],
     "language": "python",
     "metadata": {},
     "outputs": []
    },
    {
     "cell_type": "markdown",
     "metadata": {},
     "source": [
      "La logique ici consiste \u00e0 dire, affecter les deux variables de sorte que le tuple `(gauche, droite )` soit \u00e9gal \u00e0 `couple`\n",
      "\n",
      "Remarquons que les parenth\u00e8ses ici sont optionnelles, on peut tout aussi bien \u00e9crire"
     ]
    },
    {
     "cell_type": "code",
     "collapsed": false,
     "input": [
      "gauche, droite, = couple\n",
      "print 'gauche',gauche,'droite',droite"
     ],
     "language": "python",
     "metadata": {},
     "outputs": []
    },
    {
     "cell_type": "heading",
     "level": 3,
     "metadata": {},
     "source": [
      "Autres types"
     ]
    },
    {
     "cell_type": "markdown",
     "metadata": {},
     "source": [
      "Cette technique fonctionne aussi bien avec d'autres types. Par exemple"
     ]
    },
    {
     "cell_type": "code",
     "collapsed": false,
     "input": [
      "liste = [1,2,3]\n",
      "[ gauche, milieu, droit ] = liste\n",
      "print 'gauche',gauche,'milieu',milieu,'droit',droit"
     ],
     "language": "python",
     "metadata": {},
     "outputs": []
    },
    {
     "cell_type": "markdown",
     "metadata": {},
     "source": [
      "En fait c'est m\u00eame encore plus flexible que \u00e7a puisqu'on pourrait m\u00eame \u00e9crire"
     ]
    },
    {
     "cell_type": "code",
     "collapsed": false,
     "input": [
      "liste = [1,2,3]\n",
      "gauche, milieu, droit = liste\n",
      "print 'gauche',gauche,'milieu',milieu,'droit',droit"
     ],
     "language": "python",
     "metadata": {},
     "outputs": []
    },
    {
     "cell_type": "markdown",
     "metadata": {},
     "source": [
      "C'est presque magique, on a compar\u00e9 un tuple avec une liste !"
     ]
    },
    {
     "cell_type": "markdown",
     "metadata": {},
     "source": [
      "En r\u00e9alit\u00e9, les seules contraintes fix\u00e9es par `python` sont que\n",
      " * le terme \u00e0 droite du signe *=* est un *iterable* (tuple, liste, string, ...)\n",
      " * le terme \u00e0 gauche soit \u00e9crit comme un tuple ou une liste\n",
      " * les deux termes ont la m\u00eame longueur"
     ]
    },
    {
     "cell_type": "heading",
     "level": 3,
     "metadata": {},
     "source": [
      "En profondeur"
     ]
    },
    {
     "cell_type": "markdown",
     "metadata": {},
     "source": [
      "Le filtrage ne se limite au premier niveau dans les structures, on peut extraire des donn\u00e9es plus profond\u00e9ment imbriqu\u00e9es dans la structure de d\u00e9part; par exemple avec en entr\u00e9e la liste:"
     ]
    },
    {
     "cell_type": "code",
     "collapsed": false,
     "input": [
      "structure = ['abc', [(1,2), ([3], 4)], 5]"
     ],
     "language": "python",
     "metadata": {},
     "outputs": []
    },
    {
     "cell_type": "markdown",
     "metadata": {},
     "source": [
      "Si on souhaite extraire la valeur qui se trouve \u00e0 l'emplacement de 3, on peut \u00e9crire"
     ]
    },
    {
     "cell_type": "code",
     "collapsed": false,
     "input": [
      "(a,(b,((trois,),c)),d) = structure\n",
      "print 'trois',trois"
     ],
     "language": "python",
     "metadata": {},
     "outputs": []
    },
    {
     "cell_type": "markdown",
     "metadata": {},
     "source": [
      "Ou encore, sans doute un peu plus lisible"
     ]
    },
    {
     "cell_type": "code",
     "collapsed": false,
     "input": [
      "(a,(b,([trois],c)),d) = structure\n",
      "print 'trois',trois"
     ],
     "language": "python",
     "metadata": {},
     "outputs": []
    },
    {
     "cell_type": "markdown",
     "metadata": {},
     "source": [
      "Naturellement on aurait aussi bien pu \u00e9crire ici quelque chose comme"
     ]
    },
    {
     "cell_type": "code",
     "collapsed": false,
     "input": [
      "trois = structure[1][1][0][0]\n",
      "print 'trois',trois"
     ],
     "language": "python",
     "metadata": {},
     "outputs": []
    },
    {
     "cell_type": "markdown",
     "metadata": {},
     "source": [
      "Affaire de go\u00fbt \u00e9videmment.."
     ]
    },
    {
     "cell_type": "heading",
     "level": 3,
     "metadata": {},
     "source": [
      "Plusieurs occurrences d'une m\u00eame variable"
     ]
    },
    {
     "cell_type": "markdown",
     "metadata": {},
     "source": [
      "On peut \u00e9galement utiliser **plusieurs fois** la m\u00eame variable dans la partie gauche de l'affectation. "
     ]
    },
    {
     "cell_type": "code",
     "collapsed": false,
     "input": [
      "entree = [ 1,2,3 ]\n",
      "a,a,a = entree\n",
      "print 'a',a"
     ],
     "language": "python",
     "metadata": {},
     "outputs": []
    },
    {
     "cell_type": "markdown",
     "metadata": {},
     "source": [
      "*Attention* toutefois, comme on le voit ici, python n'impose pas que les diff\u00e9rentes occurrences de `a` correspondent \u00e0 des valeurs identiques (en langage savant, on dirait que cela ne permet pas de faire de l'unification). De mani\u00e8re beaucoup plus pragmatique, l'interpr\u00e9teur se contente de faire comme s'il faisait l'affectation plusieurs fois de gauche \u00e0 droite, c'est-\u00e0-dire comme si il faisait "
     ]
    },
    {
     "cell_type": "code",
     "collapsed": false,
     "input": [
      "a=1; a=2; a=3"
     ],
     "language": "python",
     "metadata": {},
     "outputs": []
    },
    {
     "cell_type": "markdown",
     "metadata": {},
     "source": [
      "Cette technique n'est utilis\u00e9e en pratique que pour les parties de la structure dont on n'a que faire dans le contexte. Dans ces cas-l\u00e0 il arrive qu'on utilise le nom de variable `_`, dont on rappelle qu'il est l\u00e9gal, ou tout autre nom comme `ignored` pour manifester le fait que cette partie de la structure ne sera pas utilis\u00e9, par exemple"
     ]
    },
    {
     "cell_type": "code",
     "collapsed": false,
     "input": [
      "entree = [ 1,2,3 ]\n",
      "\n",
      "_,milieu,_ = entree\n",
      "print 'milieu',milieu\n",
      "\n",
      "ignored,ignored,right = entree\n",
      "print 'right',right"
     ],
     "language": "python",
     "metadata": {},
     "outputs": []
    }
   ],
   "metadata": {}
  }
 ]
}