{
 "metadata": {
  "kernelspec": {
   "display_name": "Python 2", 
   "language": "python", 
   "name": "python2"
  }, 
  "name": "", 
  "notebookname": "Ensembles", 
  "version": "2.0"
 }, 
 "nbformat": 2, 
 "nbformat_minor": 0, 
 "orig_nbformat": 4, 
 "orig_nbformat_minor": 0, 
 "worksheets": [
  {
   "cells": [
    {
     "cell_type": "markdown", 
     "metadata": {}, 
     "source": [
      "<span style=\"float:left;\">Licence CC BY-NC-ND</span><span style=\"float:right;\">Thierry Parmentelat &amp; Arnaud Legout&nbsp;<img src=\"media/inria-25.png\" style=\"display:inline\"></span><br/>"
     ]
    }, 
    {
     "cell_type": "markdown", 
     "metadata": {}, 
     "source": [
      "# Ensembles"
     ]
    }, 
    {
     "cell_type": "markdown", 
     "metadata": {}, 
     "source": [
      "## Compl\u00e9ment - niveau basique"
     ]
    }, 
    {
     "cell_type": "markdown", 
     "metadata": {}, 
     "source": [
      "Ce document r\u00e9sume les op\u00e9rations courantes disponibles sur le type `set`.", 
      "On rappelle que le type `set` est un type **mutable**."
     ]
    }, 
    {
     "cell_type": "markdown", 
     "metadata": {}, 
     "source": [
      "### Cr\u00e9ation en extension"
     ]
    }, 
    {
     "cell_type": "markdown", 
     "metadata": {}, 
     "source": [
      "On cr\u00e9e un ensemble avec les accolades, comme les dictionnaires (mais sans utiliser le caract\u00e8re `:`) et cela donne par exemple"
     ]
    }, 
    {
     "cell_type": "code", 
     "collapsed": false, 
     "input": [
      "heteroclite = {'marc', 12, 'pierre', (1, 2, 3), 'pierre'}", 
      "print heteroclite"
     ], 
     "language": "python", 
     "metadata": {}, 
     "outputs": [], 
     "prompt_number": null
    }, 
    {
     "cell_type": "markdown", 
     "metadata": {}, 
     "source": [
      "### Cr\u00e9ation - la fonction `set`"
     ]
    }, 
    {
     "cell_type": "markdown", 
     "metadata": {}, 
     "source": [
      "Il devrait \u00eatre clair \u00e0 ce stade que, le nom du type \u00e9tant `set`, la fonction `set` est un constructeur d'ensembles. On aurait donc aussi bien pu faire"
     ]
    }, 
    {
     "cell_type": "code", 
     "collapsed": false, 
     "input": [
      "heteroclite2 = set(['marc', 12, 'pierre', (1, 2, 3), 'pierre'])", 
      "print heteroclite2"
     ], 
     "language": "python", 
     "metadata": {}, 
     "outputs": [], 
     "prompt_number": null
    }, 
    {
     "cell_type": "markdown", 
     "metadata": {}, 
     "source": [
      "### Cr\u00e9er un ensemble vide"
     ]
    }, 
    {
     "cell_type": "markdown", 
     "metadata": {}, 
     "source": [
      "Il faut remarquer que l'on ne peut pas cr\u00e9er un ensemble vide en extension. En effet "
     ]
    }, 
    {
     "cell_type": "code", 
     "collapsed": false, 
     "input": [
      "type({})"
     ], 
     "language": "python", 
     "metadata": {}, 
     "outputs": [], 
     "prompt_number": null
    }, 
    {
     "cell_type": "markdown", 
     "metadata": {}, 
     "source": [
      "Ceci est li\u00e9 \u00e0 des raisons historiques, les ensembles n'ayant fait leur apparition que tardivement dans le langage en tant que <em>citoyen de premi\u00e8re classe</em>."
     ]
    }, 
    {
     "cell_type": "markdown", 
     "metadata": {}, 
     "source": [
      "Pour cr\u00e9er un ensemble vide, la pratique la plus courante est celle-ci&nbsp;:"
     ]
    }, 
    {
     "cell_type": "code", 
     "collapsed": false, 
     "input": [
      "ensemble_vide = set()", 
      "print type(ensemble_vide)"
     ], 
     "language": "python", 
     "metadata": {}, 
     "outputs": [], 
     "prompt_number": null
    }, 
    {
     "cell_type": "markdown", 
     "metadata": {}, 
     "source": [
      "Ou \u00e9galement, moins \u00e9l\u00e9gant mais que l'on trouve parfois dans du vieux code&nbsp;:"
     ]
    }, 
    {
     "cell_type": "code", 
     "collapsed": false, 
     "input": [
      "autre_ensemble_vide = set([])", 
      "print type(autre_ensemble_vide)"
     ], 
     "language": "python", 
     "metadata": {}, 
     "outputs": [], 
     "prompt_number": null
    }, 
    {
     "cell_type": "markdown", 
     "metadata": {}, 
     "source": [
      "### Un \u00e9l\u00e9ment dans un ensemble doit \u00eatre globalement immuable"
     ]
    }, 
    {
     "cell_type": "markdown", 
     "metadata": {}, 
     "source": [
      "On a vu pr\u00e9c\u00e9demment que les cl\u00e9s dans un dictionnaire doivent \u00eatre globalement immuables. Pour exactement les m\u00eames raisons, les \u00e9l\u00e9ments d'un ensemble doivent aussi \u00eatre globalement immuables."
     ]
    }, 
    {
     "cell_type": "markdown", 
     "metadata": {}, 
     "source": [
      "    # on ne peut pas ins\u00e9rer un tuple qui contient une liste", 
      "    >>> ensemble = {(1, 2, [3, 4])}", 
      "    Traceback (most recent call last):", 
      "      File \"<stdin>\", line 1, in <module>", 
      "    TypeError: unhashable type: 'list'"
     ]
    }, 
    {
     "cell_type": "markdown", 
     "metadata": {}, 
     "source": [
      "Le type `set` \u00e9tant lui-m\u00eame mutable, on ne peut pas cr\u00e9er un ensemble d'ensembles"
     ]
    }, 
    {
     "cell_type": "markdown", 
     "metadata": {}, 
     "source": [
      "    >>> ensemble = {{1, 2}}", 
      "    Traceback (most recent call last):", 
      "      File \"<stdin>\", line 1, in <module>", 
      "    TypeError: unhashable type: 'set'"
     ]
    }, 
    {
     "cell_type": "markdown", 
     "metadata": {}, 
     "source": [
      "Et c'est une des raisons d'\u00eatre du type `frozenset`."
     ]
    }, 
    {
     "cell_type": "markdown", 
     "metadata": {}, 
     "source": [
      "### Cr\u00e9ation - la fonction `frozenset`"
     ]
    }, 
    {
     "cell_type": "markdown", 
     "metadata": {}, 
     "source": [
      "Un `frozenset` est un ensemble qu'on ne peut pas modifier, et qui donc peut servir de cl\u00e9 dans un dictionnaire, ou \u00eatre inclus dans un autre ensemble (mutable ou pas)."
     ]
    }, 
    {
     "cell_type": "markdown", 
     "metadata": {}, 
     "source": [
      "Il n'existe pas de raccourci syntaxique comme les `{}` pour cr\u00e9er un ensemble immuable, qui doit \u00eatre cr\u00e9\u00e9 avec la fonction `frozenset`. Toutes les op\u00e9rations document\u00e9es dans ce notebook, et qui n'ont pas besoin de modifier l'ensemble, sont disponibles sur un `frozenset`. ", 
      "", 
      "Parmi les fonctions exclues sur un `frozenset`, on peut citer:  `update`, `pop`, `clear`, `remove`, `discard`..."
     ]
    }, 
    {
     "cell_type": "markdown", 
     "metadata": {}, 
     "source": [
      "### Op\u00e9rations simples"
     ]
    }, 
    {
     "cell_type": "markdown", 
     "metadata": {}, 
     "source": [
      "##### Test d'appartenance"
     ]
    }, 
    {
     "cell_type": "code", 
     "collapsed": false, 
     "input": [
      "(1, 2, 3) in heteroclite"
     ], 
     "language": "python", 
     "metadata": {}, 
     "outputs": [], 
     "prompt_number": null
    }, 
    {
     "cell_type": "markdown", 
     "metadata": {}, 
     "source": [
      "##### Cardinal"
     ]
    }, 
    {
     "cell_type": "code", 
     "collapsed": false, 
     "input": [
      "len(heteroclite)"
     ], 
     "language": "python", 
     "metadata": {}, 
     "outputs": [], 
     "prompt_number": null
    }, 
    {
     "cell_type": "markdown", 
     "metadata": {}, 
     "source": [
      "##### Manipulations"
     ]
    }, 
    {
     "cell_type": "code", 
     "collapsed": false, 
     "input": [
      "ensemble = {1, 2, 1}", 
      "ensemble"
     ], 
     "language": "python", 
     "metadata": {}, 
     "outputs": [], 
     "prompt_number": null
    }, 
    {
     "cell_type": "code", 
     "collapsed": false, 
     "input": [
      "# pour nettoyer", 
      "ensemble.clear()", 
      "ensemble"
     ], 
     "language": "python", 
     "metadata": {}, 
     "outputs": [], 
     "prompt_number": null
    }, 
    {
     "cell_type": "code", 
     "collapsed": false, 
     "input": [
      "# ajouter un element", 
      "ensemble.add(1)", 
      "ensemble"
     ], 
     "language": "python", 
     "metadata": {}, 
     "outputs": [], 
     "prompt_number": null
    }, 
    {
     "cell_type": "code", 
     "collapsed": false, 
     "input": [
      "# ajouter tous les elements d'un autre *ensemble*", 
      "ensemble.update({2, (1, 2, 3), (1, 3, 5)})", 
      "ensemble"
     ], 
     "language": "python", 
     "metadata": {}, 
     "outputs": [], 
     "prompt_number": null
    }, 
    {
     "cell_type": "code", 
     "collapsed": false, 
     "input": [
      "# enlever un element avec discard", 
      "ensemble.discard((1, 3, 5))", 
      "ensemble"
     ], 
     "language": "python", 
     "metadata": {}, 
     "outputs": [], 
     "prompt_number": null
    }, 
    {
     "cell_type": "code", 
     "collapsed": false, 
     "input": [
      "# discard fonctionne m\u00eame si l'\u00e9l\u00e9ment n'est pas pr\u00e9sent", 
      "ensemble.discard('foo')", 
      "ensemble"
     ], 
     "language": "python", 
     "metadata": {}, 
     "outputs": [], 
     "prompt_number": null
    }, 
    {
     "cell_type": "code", 
     "collapsed": false, 
     "input": [
      "# enlever un \u00e9l\u00e9ment avec remove", 
      "ensemble.remove((1, 2, 3))", 
      "ensemble"
     ], 
     "language": "python", 
     "metadata": {}, 
     "outputs": [], 
     "prompt_number": null
    }, 
    {
     "cell_type": "code", 
     "collapsed": false, 
     "input": [
      "# contrairement \u00e0 discard, l'\u00e9l\u00e9ment doit \u00eatre pr\u00e9sent, ", 
      "# sinon il y a une exception", 
      "try:", 
      "    ensemble.remove('foo')", 
      "except KeyError as e:", 
      "    print \"remove a lev\u00e9 l'exception\", e"
     ], 
     "language": "python", 
     "metadata": {}, 
     "outputs": [], 
     "prompt_number": null
    }, 
    {
     "cell_type": "markdown", 
     "metadata": {}, 
     "source": [
      "La capture d'exception avec `try` et `except`  sert \u00e0 capturer une erreur d'ex\u00e9cution du programme (qu'on appelle exception) pour continuer le programme. Le but de cet exemple est simplement de montrer (d'une mani\u00e8re plus \u00e9l\u00e9gante que de voir simplement le programme planter avec une exception non captur\u00e9e) que l'expression `ensemble.remove('foo')` g\u00e9n\u00e8re une exception. Si ce concept vous para\u00eet obscur, pas d'inqui\u00e9tude, nous reviendrons dessus en d\u00e9tail en semaine 6. "
     ]
    }, 
    {
     "cell_type": "code", 
     "collapsed": false, 
     "input": [
      "# pop() ressemble \u00e0 la m\u00e9thode \u00e9ponyme sur les listes", 
      "# sauf qu'il n'y a pas d'ordre dans un ensemble", 
      "while ensemble:", 
      "    element = ensemble.pop()", 
      "    print \"element\", element", 
      "print \"et bien s\u00fbr maintenant l'ensemble est vide\", ensemble"
     ], 
     "language": "python", 
     "metadata": {}, 
     "outputs": [], 
     "prompt_number": null
    }, 
    {
     "cell_type": "markdown", 
     "metadata": {}, 
     "source": [
      "### Op\u00e9rations classiques sur les ensembles"
     ]
    }, 
    {
     "cell_type": "markdown", 
     "metadata": {}, 
     "source": [
      "Donnons nous deux ensembles simples."
     ]
    }, 
    {
     "cell_type": "code", 
     "collapsed": false, 
     "input": [
      "A2 = set([0, 2, 4, 6])", 
      "print 'A2', A2", 
      "A3 = set([0, 3, 6])", 
      "print 'A3', A3"
     ], 
     "language": "python", 
     "metadata": {}, 
     "outputs": [], 
     "prompt_number": null
    }, 
    {
     "cell_type": "markdown", 
     "metadata": {}, 
     "source": [
      "N'oubliez pas que les ensembles, comme les dictionnaires, ne sont **pas ordonn\u00e9s**."
     ]
    }, 
    {
     "cell_type": "markdown", 
     "metadata": {}, 
     "source": [
      "**Remarques** ", 
      " * Les notations des op\u00e9rateurs sur les ensembles rappellent les op\u00e9rateurs \"bit-\u00e0-bit\" sur les entiers.", 
      " * Ces op\u00e9rateurs sont \u00e9galement disponibles sous la forme de m\u00e9thodes"
     ]
    }, 
    {
     "cell_type": "markdown", 
     "metadata": {}, 
     "source": [
      "##### Union"
     ]
    }, 
    {
     "cell_type": "code", 
     "collapsed": false, 
     "input": [
      "A2 | A3"
     ], 
     "language": "python", 
     "metadata": {}, 
     "outputs": [], 
     "prompt_number": null
    }, 
    {
     "cell_type": "markdown", 
     "metadata": {}, 
     "source": [
      "##### Intersection"
     ]
    }, 
    {
     "cell_type": "code", 
     "collapsed": false, 
     "input": [
      "A2 & A3"
     ], 
     "language": "python", 
     "metadata": {}, 
     "outputs": [], 
     "prompt_number": null
    }, 
    {
     "cell_type": "markdown", 
     "metadata": {}, 
     "source": [
      "##### Diff\u00e9rence"
     ]
    }, 
    {
     "cell_type": "code", 
     "collapsed": false, 
     "input": [
      "A2 - A3"
     ], 
     "language": "python", 
     "metadata": {}, 
     "outputs": [], 
     "prompt_number": null
    }, 
    {
     "cell_type": "code", 
     "collapsed": false, 
     "input": [
      "A3 - A2"
     ], 
     "language": "python", 
     "metadata": {}, 
     "outputs": [], 
     "prompt_number": null
    }, 
    {
     "cell_type": "markdown", 
     "metadata": {}, 
     "source": [
      "##### Diff\u00e9rence sym\u00e9trique"
     ]
    }, 
    {
     "cell_type": "markdown", 
     "metadata": {}, 
     "source": [
      "On rappelle que $A \\Delta B = (A - B) \\cup (B - A)$"
     ]
    }, 
    {
     "cell_type": "code", 
     "collapsed": false, 
     "input": [
      "A2 ^ A3"
     ], 
     "language": "python", 
     "metadata": {}, 
     "outputs": [], 
     "prompt_number": null
    }, 
    {
     "cell_type": "markdown", 
     "metadata": {}, 
     "source": [
      "### Comparaisons"
     ]
    }, 
    {
     "cell_type": "markdown", 
     "metadata": {}, 
     "source": [
      "Ici encore on se donne deux ensembles"
     ]
    }, 
    {
     "cell_type": "code", 
     "collapsed": false, 
     "input": [
      "superset = {0, 1, 2, 3}", 
      "print 'superset', superset", 
      "subset =  {1, 3}", 
      "print 'subset', subset"
     ], 
     "language": "python", 
     "metadata": {}, 
     "outputs": [], 
     "prompt_number": null
    }, 
    {
     "cell_type": "markdown", 
     "metadata": {}, 
     "source": [
      "##### \u00c9galit\u00e9"
     ]
    }, 
    {
     "cell_type": "code", 
     "collapsed": false, 
     "input": [
      "heteroclite == heteroclite2"
     ], 
     "language": "python", 
     "metadata": {}, 
     "outputs": [], 
     "prompt_number": null
    }, 
    {
     "cell_type": "markdown", 
     "metadata": {}, 
     "source": [
      "##### Inclusion"
     ]
    }, 
    {
     "cell_type": "code", 
     "collapsed": false, 
     "input": [
      "subset <= superset"
     ], 
     "language": "python", 
     "metadata": {}, 
     "outputs": [], 
     "prompt_number": null
    }, 
    {
     "cell_type": "code", 
     "collapsed": false, 
     "input": [
      "subset < superset"
     ], 
     "language": "python", 
     "metadata": {}, 
     "outputs": [], 
     "prompt_number": null
    }, 
    {
     "cell_type": "code", 
     "collapsed": false, 
     "input": [
      "heteroclite < heteroclite2"
     ], 
     "language": "python", 
     "metadata": {}, 
     "outputs": [], 
     "prompt_number": null
    }, 
    {
     "cell_type": "markdown", 
     "metadata": {}, 
     "source": [
      "##### Ensembles disjoints"
     ]
    }, 
    {
     "cell_type": "code", 
     "collapsed": false, 
     "input": [
      "heteroclite.isdisjoint(A3)"
     ], 
     "language": "python", 
     "metadata": {}, 
     "outputs": [], 
     "prompt_number": null
    }, 
    {
     "cell_type": "markdown", 
     "metadata": {}, 
     "source": [
      "### Pour en savoir plus"
     ]
    }, 
    {
     "cell_type": "markdown", 
     "metadata": {}, 
     "source": [
      "Reportez vous \u00e0 [la section sur les ensembles](https://docs.python.org/2/library/stdtypes.html#set-types-set-frozenset) dans la documentation python"
     ]
    }
   ], 
   "metadata": {}
  }
 ]
}
