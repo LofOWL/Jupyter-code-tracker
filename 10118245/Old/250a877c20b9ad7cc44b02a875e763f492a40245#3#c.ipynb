{
 "metadata": {
  "name": "",
  "signature": "sha256:7d705f57834a3b0aa034a2c5cdecb560c2f22474ad35c539caab1c115e005bc9"
 },
 "nbformat": 3,
 "nbformat_minor": 0,
 "worksheets": [
  {
   "cells": [
    {
     "cell_type": "heading",
     "level": 1,
     "metadata": {},
     "source": [
      "Exercices sur les boucles for"
     ]
    },
    {
     "cell_type": "heading",
     "level": 3,
     "metadata": {},
     "source": [
      "Tri de plusieurs listes"
     ]
    },
    {
     "cell_type": "markdown",
     "metadata": {},
     "source": [
      "\u00c9crivez une fontion qui accepte en argument une liste de listes, et qui retourne la m\u00eame liste mais avec toutes les sous-listes tri\u00e9es."
     ]
    },
    {
     "cell_type": "code",
     "collapsed": false,
     "input": [
      "def multi_tri (listes):\n",
      "    <votre \n",
      "    ...\n",
      "    code>"
     ],
     "language": "python",
     "metadata": {},
     "outputs": []
    },
    {
     "cell_type": "markdown",
     "metadata": {},
     "source": [
      "Vous pouvez la tester en v\u00e9rifiant que ceci renvoie True"
     ]
    },
    {
     "cell_type": "code",
     "collapsed": false,
     "input": [
      "listes = [ [ 40, 12, 25], [ 'spam', 'egg', 'bacon' ], [ 57, 22, 43 ], ]\n",
      "triees = [ [ 12, 25, 40], [ 'bacon', 'egg', 'spam' ], [ 22, 43, 57 ], ]\n",
      "multi_tri (listes ) == triees"
     ],
     "language": "python",
     "metadata": {},
     "outputs": []
    },
    {
     "cell_type": "heading",
     "level": 3,
     "metadata": {},
     "source": [
      "Tri de plusieurs listes, dans des directions diff\u00e9rentes"
     ]
    },
    {
     "cell_type": "markdown",
     "metadata": {},
     "source": [
      "Modifiez votre code pour qu'il accepte cette fois deux arguments, tous les deux des listes, que l'on suppose de tailles \u00e9gales. \n",
      "\n",
      "Comme tout \u00e0 l'heure le premier argument est une liste de listes \u00e0 trier.\n",
      "\n",
      "\u00c0 pr\u00e9sent le second argument est une liste de bool\u00e9ens, qui indiquent l'ordre dans lequel on veut trier la liste d'entr\u00e8e de m\u00eame rang. True signifie un tri descendant, False un tri ascendant"
     ]
    },
    {
     "cell_type": "raw",
     "metadata": {},
     "source": [
      "Pour \u00eatre un peu plus clair, on s'attend \u00e0 ce que\n",
      "multi_tri_reverse ( [ [1,2], [3,4] ], [ True, False] )\n",
      "renvoie\n",
      "[[2, 1], [3, 4]]"
     ]
    },
    {
     "cell_type": "code",
     "collapsed": false,
     "input": [
      "def multi_tri_reverse (listes, reverses):\n",
      "    <votre \n",
      "    ...\n",
      "    code>"
     ],
     "language": "python",
     "metadata": {},
     "outputs": []
    },
    {
     "cell_type": "markdown",
     "metadata": {},
     "source": [
      "\u00c0 nouveau vous pouvez la tester ici (doit afficher True)"
     ]
    },
    {
     "cell_type": "code",
     "collapsed": false,
     "input": [
      "directions = [ True, False, True ]\n",
      "triees2 = [[40, 25, 12], ['bacon', 'egg', 'spam'], [57, 43, 22]]\n",
      "multi_tri_reverse (listes, directions) == triees2"
     ],
     "language": "python",
     "metadata": {},
     "outputs": []
    },
    {
     "cell_type": "heading",
     "level": 3,
     "metadata": {},
     "source": [
      "Produit scalaire"
     ]
    },
    {
     "cell_type": "markdown",
     "metadata": {},
     "source": [
      "On veut \u00e9crire une fonction qui retourne le produit scalaire de deux vecteurs. Pour ceci on va mat\u00e9rialiser les deux vecteurs en entr\u00e9e par deux listes que l'on suppose de m\u00eame taille. Cela est tout \u00e0 fait possible avec le bagage que nous avons appris jusqu'ici - bien que nous verrons plus tard d'autres techniques pour faire ceci de mani\u00e8re plus \u00e9l\u00e9gante.\n",
      "\n",
      "On rappelle que le produit de X et Y vaut\n",
      "\n",
      "$\\sum_{i} X_i * Y_i$\n",
      "\n",
      "Vous devez donc \u00e9crire"
     ]
    },
    {
     "cell_type": "code",
     "collapsed": false,
     "input": [
      "def produit_scalaire (X,Y):\n",
      "    \"\"\"retourne le produit scalaire de deux listes de m\u00eame taille\"\"\"\n",
      "    <votre\n",
      "    ...\n",
      "    code>"
     ],
     "language": "python",
     "metadata": {},
     "outputs": []
    },
    {
     "cell_type": "markdown",
     "metadata": {},
     "source": [
      "Pour v\u00e9rifier (ne doit rien afficher)"
     ]
    },
    {
     "cell_type": "code",
     "collapsed": false,
     "input": [
      "from fractions import Fraction\n",
      "inputs = [ \n",
      "    ( range(3,13), range (5,15), 795 ),\n",
      "    ( [ -2, 10] , [20, 4], 0. ),\n",
      "    ( [ Fraction (2,15), Fraction (3,4) ],\n",
      "      [ Fraction (-7,19), Fraction (4,13) ], \n",
      "      Fraction('673/3705') ),\n",
      "]\n",
      "for (x,y,expected) in inputs:\n",
      "    if produit_scalaire (x,y) != expected:\n",
      "        print \"ERREUR avec \",x,y,\"attendu\",expected,\"obtenu\",produit_scalaire(x,y)\n"
     ],
     "language": "python",
     "metadata": {},
     "outputs": []
    }
   ],
   "metadata": {}
  }
 ]
}