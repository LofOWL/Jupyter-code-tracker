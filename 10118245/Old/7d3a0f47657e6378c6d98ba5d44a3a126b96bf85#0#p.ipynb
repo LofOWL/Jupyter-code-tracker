{
 "cells": [
  {
   "cell_type": "markdown",
   "metadata": {},
   "source": [
    "<span style=\"float:left;\">Licence CC BY-NC-ND</span><span style=\"float:right;\">Thierry Parmentelat &amp; Arnaud Legout&nbsp;<img src=\"media/both-logos-small-alpha.png\" style=\"display:inline\"></span><br/>"
   ]
  },
  {
   "cell_type": "markdown",
   "metadata": {},
   "source": [
    "# *Type hints*"
   ]
  },
  {
   "cell_type": "markdown",
   "metadata": {},
   "source": [
    "## Complément - niveau intermédiaire"
   ]
  },
  {
   "cell_type": "markdown",
   "metadata": {},
   "source": [
    "### Le typage est obligatoire dans les langages compilés"
   ]
  },
  {
   "cell_type": "markdown",
   "metadata": {},
   "source": [
    "Nous avons évoqué en première semaine le typage, lorsque nous avons comparé python avec les langages compilés. Dans un langage compilé avec typage statique, on écrit typiquement une fonction comme ceci:\n",
    "\n",
    "```\n",
    "int factoriel(int n) {\n",
    "  return (n<=1) ? 1 : n * factoriel(n-1);\n",
    "}\n",
    "```\n",
    "\n",
    "ce qui signifie que la fonction factoriel prend un premier argument qui est un entier, et qu'elle retourne également un entier."
   ]
  },
  {
   "cell_type": "markdown",
   "metadata": {},
   "source": [
    "Nous avons vu également que pour écrire une fonction en python, on n'a **pas besoin** de préciser **le type** des arguments ni du retour de la fonction."
   ]
  },
  {
   "cell_type": "markdown",
   "metadata": {},
   "source": [
    "### Vous pouvez aussi type votre code python"
   ]
  },
  {
   "cell_type": "markdown",
   "metadata": {},
   "source": [
    "Cependant depuis la version 3.5, python supporte un mécanisme **totalement optionnel** qui vous permet d'annoter les arguments des fonctions avec des informations de typage, ce mécanisme est connu sous le nom de *type hints*."
   ]
  },
  {
   "cell_type": "code",
   "execution_count": null,
   "metadata": {},
   "outputs": [],
   "source": [
    "# une fonction factorielle avec des type hints\n",
    "def fact(n : int) -> int:\n",
    "    return 1 if n <= 1 else n * fact(n-1)"
   ]
  },
  {
   "cell_type": "markdown",
   "metadata": {},
   "source": [
    "### Usages"
   ]
  },
  {
   "cell_type": "markdown",
   "metadata": {},
   "source": [
    "À ce stade, on peut entrevoir les usages suivants à ce type d'annotation:\n",
    "\n",
    "* tout d'abord, et évidemment, cela peut permettre de mieux documenter le code; \n",
    "* les environnements de développement sont susceptibles de vous aider de manière plus effective; si à quelque part vous écrivez `z = fact(12)`, le fait de savoir que `z` est entier permet de fournir une complétion plus pertinente lorsque vous commencez à écrire `z.[TAB]`;\n",
    "* on peut espérer trouver des erreurs dans les passages d'arguments à un stade plus précoce du développement"
   ]
  },
  {
   "cell_type": "markdown",
   "metadata": {},
   "source": [
    "Par contre ce qui est très très clairement annoncé également est que ces information de typage sont **totalement facultatives**, et que le langage les **ignore totalement**. "
   ]
  },
  {
   "cell_type": "code",
   "execution_count": null,
   "metadata": {
    "collapsed": true
   },
   "outputs": [],
   "source": [
    "# l'interpréteur ignore totalement ces informations\n",
    "def fake_fact(n : str) -> str:\n",
    "    return 1 if n <= 1 else n * fake_fact(n-1)\n",
    "\n",
    "# on peut appeler fake_fact avec un int alors \n",
    "# que c'est déclaré pour des str\n",
    "fake_fact(12)"
   ]
  },
  {
   "cell_type": "markdown",
   "metadata": {},
   "source": [
    "Le modèle préconisé est d'utiliser des **outils extérieurs** qui peuvent faire une analyse statique du code pour exploiter ces informations à des fins de validation. Dans cette catégorie, le plus célèbre [est sans doute `mypy`](http://mypy-lang.org/). Notez aussi que les IDE comme PyCharm sont également capables de tirer parti de ces annotations."
   ]
  },
  {
   "cell_type": "markdown",
   "metadata": {},
   "source": [
    "### Comment annoter son code"
   ]
  },
  {
   "cell_type": "markdown",
   "metadata": {},
   "source": [
    "Maintenant que nous en avons bien vu la finatlité, voyons un très bref aperçu des possibilités offertes pour la construction des types dans ce contexte de *type hints*. N'hésitez pas à vous reporter à la documentation officielle [du module `typing`](https://docs.python.org/3/library/typing.html) pour un exposé plus exhaustif."
   ]
  },
  {
   "cell_type": "markdown",
   "metadata": {},
   "source": [
    "##### avertissement"
   ]
  },
  {
   "cell_type": "markdown",
   "metadata": {},
   "source": [
    "Soyez attentifs au fait que les types qui sont liés aux *type hints* évoluent dans un espace qui est différent des types con"
   ]
  },
  {
   "cell_type": "markdown",
   "metadata": {},
   "source": [
    "##### typage partiel"
   ]
  },
  {
   "cell_type": "markdown",
   "metadata": {},
   "source": [
    "Puisque c'est un mécanisme optionnel, vous pouvez tout à fait ne typer qu'une partie des paramètres d'une fonction:"
   ]
  },
  {
   "cell_type": "code",
   "execution_count": null,
   "metadata": {
    "collapsed": true
   },
   "outputs": [],
   "source": [
    "def partially_typed(n1: int, n2):\n",
    "    return None"
   ]
  },
  {
   "cell_type": "markdown",
   "metadata": {},
   "source": [
    "##### typer une variable"
   ]
  },
  {
   "cell_type": "markdown",
   "metadata": {},
   "source": [
    "xxx vérifier s'il n'y a pas eu un truc plus récent pour faire ça\n",
    "\n",
    "Initialement prévu pour typer les paramètres et le retour des fonctions, ce mécanisme a été étendu pour typer les déclarations de variables, comme ceci:"
   ]
  },
  {
   "cell_type": "code",
   "execution_count": null,
   "metadata": {
    "collapsed": true
   },
   "outputs": [],
   "source": [
    "# typer une variable avec un commentaire #type:\n",
    "def fact(n: int) -> int:\n",
    "    result = 0    #type: int\n",
    "    # ...\n",
    "    return result"
   ]
  },
  {
   "cell_type": "markdown",
   "metadata": {},
   "source": [
    "##### le module `typing`"
   ]
  },
  {
   "cell_type": "markdown",
   "metadata": {},
   "source": [
    "L'ensemble des symboles que nous allons utiliser dans la suite de ce complément provient du module `typing`"
   ]
  },
  {
   "cell_type": "code",
   "execution_count": null,
   "metadata": {
    "collapsed": true
   },
   "outputs": [],
   "source": [
    "import typing"
   ]
  },
  {
   "cell_type": "markdown",
   "metadata": {},
   "source": [
    "##### types *built-in*"
   ]
  },
  {
   "cell_type": "markdown",
   "metadata": {},
   "source": [
    "##### aliases"
   ]
  },
  {
   "cell_type": "code",
   "execution_count": null,
   "metadata": {
    "collapsed": true
   },
   "outputs": [],
   "source": [
    "from typing import NewType\n",
    "UserId = NewType('UserId', int)"
   ]
  },
  {
   "cell_type": "code",
   "execution_count": null,
   "metadata": {},
   "outputs": [],
   "source": [
    "UserId(3) is 3"
   ]
  },
  {
   "cell_type": "markdown",
   "metadata": {},
   "source": [
    "##### `Any`"
   ]
  },
  {
   "cell_type": "markdown",
   "metadata": {},
   "source": [
    "Le type `typing.Any` correspond au type qui contient tous les objets:"
   ]
  },
  {
   "cell_type": "code",
   "execution_count": null,
   "metadata": {
    "collapsed": true
   },
   "outputs": [],
   "source": [
    "# c'est équivalent de dire ceci\n",
    "def fact(n):\n",
    "    return 1 if n <= 1 else n * fact(n-1)"
   ]
  },
  {
   "cell_type": "code",
   "execution_count": null,
   "metadata": {},
   "outputs": [],
   "source": [
    "# ou cela\n",
    "def fact(n: typing.Any) -> typing.Any:\n",
    "    return 1 if n <= 1 else n * fact(n-1)"
   ]
  },
  {
   "cell_type": "markdown",
   "metadata": {},
   "source": [
    "##### `Generic`"
   ]
  },
  {
   "cell_type": "markdown",
   "metadata": {},
   "source": [
    "xxx exemples à montrer\n",
    "\n",
    "* typer une variable (et pas un paramètre)\n",
    "* typer une liste d'entiers : List\n",
    "* Iterable\n",
    "* typer une fonction : Callable\n",
    "* Generic\n",
    "* définir son alias "
   ]
  },
  {
   "cell_type": "markdown",
   "metadata": {},
   "source": [
    "* annoter les variables as\n",
    "* mentionner les génériques"
   ]
  },
  {
   "cell_type": "markdown",
   "metadata": {},
   "source": [
    "### Pour en savoir plus\n",
    "\n",
    "* la documentation officielle sur [le module typing](https://docs.python.org/3/library/typing.html);\n",
    "* la page d'accueil [de l'outil mypy](http://mypy-lang.org/)."
   ]
  }
 ],
 "metadata": {
  "celltoolbar": "Slideshow",
  "kernelspec": {
   "display_name": "Python 3",
   "language": "python",
   "name": "python3"
  },
  "language_info": {
   "codemirror_mode": {
    "name": "ipython",
    "version": 3
   },
   "file_extension": ".py",
   "mimetype": "text/x-python",
   "name": "python",
   "nbconvert_exporter": "python",
   "pygments_lexer": "ipython3",
   "version": "3.6.2"
  },
  "livereveal": {
   "auto_select": "code",
   "auto_select_fragment": true,
   "autolaunch": false,
   "backimage": "media/nologo.png",
   "height": "100%",
   "start_slideshow_at": "selected",
   "theme": "simple",
   "transition": "fade",
   "width": "100%"
  },
  "notebookname": "*Type hints*",
  "version": "3.0"
 },
 "nbformat": 4,
 "nbformat_minor": 2
}