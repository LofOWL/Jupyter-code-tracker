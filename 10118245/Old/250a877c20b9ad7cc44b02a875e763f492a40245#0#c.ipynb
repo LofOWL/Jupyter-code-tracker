{
 "metadata": {
  "name": "",
  "signature": "sha256:5a929cfb6732bd384fcf7c4a4603f5ee00da7a4bc31b2123eb0ea6ef6cff9085"
 },
 "nbformat": 3,
 "nbformat_minor": 0,
 "worksheets": [
  {
   "cells": [
    {
     "cell_type": "heading",
     "level": 1,
     "metadata": {},
     "source": [
      "Affectations par filtrage"
     ]
    },
    {
     "cell_type": "heading",
     "level": 3,
     "metadata": {},
     "source": [
      "Un exemple simple"
     ]
    },
    {
     "cell_type": "markdown",
     "metadata": {},
     "source": [
      "python propose une m\u00e9thode d'affectation puissante et \u00e9l\u00e9gante, dite par filtrage (de l'anglais pattern matching). Commen\u00e7ons par un exemple simple \u00e0 base de tuple. Imaginons qu'on dispose d'un tuple $\\texttt{couple}$ dont on sait qu'il a deux \u00e9l\u00e9ments"
     ]
    },
    {
     "cell_type": "code",
     "collapsed": false,
     "input": [
      "couple = ( 100, 'spam' )"
     ],
     "language": "python",
     "metadata": {},
     "outputs": []
    },
    {
     "cell_type": "markdown",
     "metadata": {},
     "source": [
      "On souhaite \u00e0 pr\u00e9sent extraire les deux valeurs pour les affecter \u00e0 deux variables. Une solution na\u00efve consiste bien s\u00fbr \u00e0 faire simplement"
     ]
    },
    {
     "cell_type": "code",
     "collapsed": false,
     "input": [
      "gauche = couple[0]\n",
      "droite = couple[1]\n",
      "print 'gauche',gauche,'droite',droite"
     ],
     "language": "python",
     "metadata": {},
     "outputs": []
    },
    {
     "cell_type": "markdown",
     "metadata": {},
     "source": [
      "Cela fonctionne naturellement tr\u00e8s bien, mais n'est pas tr\u00e8s pythonique - comme on dit ;)\n",
      "\n",
      "On pr\u00e9f\u00e8rera en effet la formulation \u00e9quivalente suivante"
     ]
    },
    {
     "cell_type": "code",
     "collapsed": false,
     "input": [
      "( gauche, droite ) = couple\n",
      "print 'gauche',gauche,'droite',droite"
     ],
     "language": "python",
     "metadata": {},
     "outputs": []
    },
    {
     "cell_type": "markdown",
     "metadata": {},
     "source": [
      "La logique ici consiste \u00e0 dire, affecter les deux variables de sorte que le tuple $\\texttt{(gauche, droite )}$ soit \u00e9gal \u00e0 $\\texttt{couple}$\n",
      "\n",
      "Ceci nous permet d'ailleurs, pour commencer, de voir qu'on aurait donc pu \u00e9crire notre tuple avec les autres syntaxes que nous venons de discuter, par exemple"
     ]
    },
    {
     "cell_type": "code",
     "collapsed": false,
     "input": [
      "gauche, droite, = couple\n",
      "print 'gauche',gauche,'droite',droite"
     ],
     "language": "python",
     "metadata": {},
     "outputs": []
    },
    {
     "cell_type": "heading",
     "level": 3,
     "metadata": {},
     "source": [
      "Autres types"
     ]
    },
    {
     "cell_type": "markdown",
     "metadata": {},
     "source": [
      "Cette technique fonctionne aussi bien avec d'autres types. Par exemple"
     ]
    },
    {
     "cell_type": "code",
     "collapsed": false,
     "input": [
      "liste = [1,2,3]\n",
      "[ gauche, milieu, droit ] = liste\n",
      "print 'gauche',gauche,'milieu',milieu,'droit',droit"
     ],
     "language": "python",
     "metadata": {},
     "outputs": []
    },
    {
     "cell_type": "markdown",
     "metadata": {},
     "source": [
      "En fait c'est m\u00eame encore plus flexible que \u00e7a puisqu'on pourrait m\u00eame \u00e9crire"
     ]
    },
    {
     "cell_type": "code",
     "collapsed": false,
     "input": [
      "liste = [1,2,3]\n",
      "gauche, milieu, droit = liste\n",
      "print 'gauche',gauche,'milieu',milieu,'droit',droit"
     ],
     "language": "python",
     "metadata": {},
     "outputs": []
    },
    {
     "cell_type": "markdown",
     "metadata": {},
     "source": [
      "Et l\u00e0 c'est presque magique, puisqu'on a pu comparer un tuple avec une liste."
     ]
    },
    {
     "cell_type": "heading",
     "level": 3,
     "metadata": {},
     "source": [
      "Plusieurs occurrences d'une m\u00eame variable"
     ]
    },
    {
     "cell_type": "markdown",
     "metadata": {},
     "source": [
      "On peut \u00e9galement utiliser plusieurs fois la m\u00eame variable dans la partie gauche de l'affectation. "
     ]
    },
    {
     "cell_type": "code",
     "collapsed": false,
     "input": [
      "entree = [ 1,2,3 ]\n",
      "a,a,a = entree\n",
      "print 'a',a"
     ],
     "language": "python",
     "metadata": {},
     "outputs": []
    },
    {
     "cell_type": "markdown",
     "metadata": {},
     "source": [
      "$\\textbf{Attention}$ toutefois, comme on le voit cela ne permet pas de faire de l'unification !\n",
      "\n",
      "De mani\u00e8re beaucoup plus pragmatique, l'interpr\u00e9teur se contente de faire comme si il faisait "
     ]
    },
    {
     "cell_type": "code",
     "collapsed": false,
     "input": [
      "a=1; a=2; a=3"
     ],
     "language": "python",
     "metadata": {},
     "outputs": []
    },
    {
     "cell_type": "markdown",
     "metadata": {},
     "source": [
      "Cette technique est peu utilis\u00e9e naturellement, sauf pour les parties de la structure dont on n'a que faire dans le contexte. Dans ces cas-l\u00e0 il arrive qu'on utilise le nom de variable $\\texttt{_}$, dont on rappelle qu'il est l\u00e9gal, pour manifester le fait que cette partie de la structure ne sera pas utilis\u00e9, par exemple"
     ]
    },
    {
     "cell_type": "code",
     "collapsed": false,
     "input": [
      "entree = [ 1,2,3 ]\n",
      "_,a,_ = entree\n",
      "print 'a',a"
     ],
     "language": "python",
     "metadata": {},
     "outputs": []
    },
    {
     "cell_type": "heading",
     "level": 3,
     "metadata": {},
     "source": [
      "En profondeur"
     ]
    },
    {
     "cell_type": "markdown",
     "metadata": {},
     "source": [
      "Le filtrage ne se limite au premier niveau dans les structures, on peut extraire des donn\u00e9es plus profond\u00e9ment imbriqu\u00e9es dans la structure de d\u00e9part, par exemple avec en entree la liste"
     ]
    },
    {
     "cell_type": "code",
     "collapsed": false,
     "input": [
      "structure = ['abc', [(1,2), ([3], 4)], 5]"
     ],
     "language": "python",
     "metadata": {},
     "outputs": []
    },
    {
     "cell_type": "markdown",
     "metadata": {},
     "source": [
      "Si on souhaite extraire la valeur qui se trouve \u00e0 l'emplacement de 3, on peut \u00e9crire"
     ]
    },
    {
     "cell_type": "code",
     "collapsed": false,
     "input": [
      "(_,(_,((x,),_)),_) = structure\n",
      "print 'x',x"
     ],
     "language": "python",
     "metadata": {},
     "outputs": []
    },
    {
     "cell_type": "markdown",
     "metadata": {},
     "source": [
      "Ou encore, sans doute un peu plus lisible"
     ]
    },
    {
     "cell_type": "code",
     "collapsed": false,
     "input": [
      "(_,(_,([x],_)),_) = structure\n",
      "print 'x',x"
     ],
     "language": "python",
     "metadata": {},
     "outputs": []
    },
    {
     "cell_type": "markdown",
     "metadata": {},
     "source": [
      "Naturellement on aurait aussi bien pu \u00e9crire ici quelque chose de plus simple comme"
     ]
    },
    {
     "cell_type": "code",
     "collapsed": false,
     "input": [
      "x = structure[1][1][0][0]\n",
      "print 'x',x"
     ],
     "language": "python",
     "metadata": {},
     "outputs": []
    },
    {
     "cell_type": "markdown",
     "metadata": {},
     "source": [
      "Affaire de go\u00fbt \u00e9videmment.."
     ]
    }
   ],
   "metadata": {}
  }
 ]
}