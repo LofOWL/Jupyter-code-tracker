{
 "metadata": {
  "kernelspec": {
   "display_name": "Python 2", 
   "language": "python", 
   "name": "python2"
  }, 
  "name": "", 
  "notebookname": "L'op\u00e9rateur is", 
  "version": "2.0"
 }, 
 "nbformat": 2, 
 "nbformat_minor": 0, 
 "orig_nbformat": 4, 
 "orig_nbformat_minor": 0, 
 "worksheets": [
  {
   "cells": [
    {
     "cell_type": "markdown", 
     "metadata": {}, 
     "source": [
      "<span style=\"float:left;\">Licence CC BY-NC-ND</span><span style=\"float:right;\">Thierry Parmentelat &amp; Arnaud Legout,<img src=\"media/inria-25.png\" style=\"display:inline\"></span><br/>"
     ]
    }, 
    {
     "cell_type": "markdown", 
     "metadata": {}, 
     "source": [
      "# L'op\u00e9rateur `is`"
     ]
    }, 
    {
     "cell_type": "markdown", 
     "metadata": {}, 
     "source": [
      "## Compl\u00e9ment - niveau basique"
     ]
    }, 
    {
     "cell_type": "markdown", 
     "metadata": {}, 
     "source": [
      "### Les op\u00e9rateurs `is` et `==`"
     ]
    }, 
    {
     "cell_type": "markdown", 
     "metadata": {}, 
     "source": [
      "Nous avons d\u00e9j\u00e0 parl\u00e9 de l'op\u00e9rateur `==` qui compare la valeur de deux objets.", 
      "", 
      "Python fournit aussi un op\u00e9rateur `is` qui permet de savoir si deux valeurs correspondent au m\u00eame objet en m\u00e9moire.", 
      "", 
      "Nous allons illustrer la diff\u00e9rence entre ces deux op\u00e9rateurs."
     ]
    }, 
    {
     "cell_type": "markdown", 
     "metadata": {}, 
     "source": [
      "Pour bien comprendre cette diff\u00e9rence, il faut se souvenir que", 
      "", 
      " * `==` compare **la valeur** des deux objets, alors que", 
      " * `is` v\u00e9rifie si les deux valeurs correspondent **au m\u00eame objet**", 
      "", 
      "Voyons ceci sur quelques exemples simples"
     ]
    }, 
    {
     "cell_type": "code", 
     "collapsed": false, 
     "input": [
      "# deux listes identiques", 
      "a = [1, 2]", 
      "b = [1, 2]", 
      "print '==', a == b", 
      "print 'is', a is b"
     ], 
     "language": "python", 
     "metadata": {}, 
     "outputs": [], 
     "prompt_number": null
    }, 
    {
     "cell_type": "code", 
     "collapsed": false, 
     "input": [
      "# la m\u00eame liste", 
      "a = [1, 2]", 
      "b = a", 
      "print '==', a == b", 
      "print 'is', a is b"
     ], 
     "language": "python", 
     "metadata": {}, 
     "outputs": [], 
     "prompt_number": null
    }, 
    {
     "cell_type": "markdown", 
     "metadata": {}, 
     "source": [
      "### Utilisez `is` plut\u00f4t que `==` lorsque c'est possible"
     ]
    }, 
    {
     "cell_type": "markdown", 
     "metadata": {}, 
     "source": [
      "La pratique usuelle est d'utiliser `is` lorsqu'on compare avec un objet qui est un singleton, comme typiquement `None`. ", 
      "", 
      "Par exemple on pr\u00e9f\u00e8rera \u00e9crire&nbsp;:"
     ]
    }, 
    {
     "cell_type": "code", 
     "collapsed": false, 
     "input": [
      "if a is None:", 
      "    print 'a est ind\u00e9fini'"
     ], 
     "language": "python", 
     "metadata": {}, 
     "outputs": [], 
     "prompt_number": null
    }, 
    {
     "cell_type": "markdown", 
     "metadata": {}, 
     "source": [
      "plut\u00f4t que"
     ]
    }, 
    {
     "cell_type": "code", 
     "collapsed": false, 
     "input": [
      "if a == None:", 
      "    print 'a est ind\u00e9fini'"
     ], 
     "language": "python", 
     "metadata": {}, 
     "outputs": [], 
     "prompt_number": null
    }, 
    {
     "cell_type": "markdown", 
     "metadata": {}, 
     "source": [
      "qui se comporte de la m\u00eame mani\u00e8re (\u00e0 nouveau, parce qu'on compare avec `None`), mais est l\u00e9g\u00e8rement moins lisible, et franchement moins pythonique :)"
     ]
    }, 
    {
     "cell_type": "markdown", 
     "metadata": {}, 
     "source": [
      "Notez aussi et surtout que `is` est **plus efficace** que `==`. En effet `is` peut \u00eatre \u00e9valu\u00e9 en temps constant, puisqu'il s'agit essentiellement de comparer les deux adresses. Alors que pour `==` il peut s'agir de parcourir toute un structure de donn\u00e9es possiblement tr\u00e8s complexe.  "
     ]
    }, 
    {
     "cell_type": "markdown", 
     "metadata": {}, 
     "source": [
      "## Compl\u00e9ment - niveau interm\u00e9diaire"
     ]
    }, 
    {
     "cell_type": "markdown", 
     "metadata": {}, 
     "source": [
      "### La fonction `id`"
     ]
    }, 
    {
     "cell_type": "markdown", 
     "metadata": {}, 
     "source": [
      "Pour bien comprendre le fonctionnement de `is` nous allons voir la fonction `id` qui retourne un identificateur unique pour chaque objet; un mod\u00e8le mental acceptable est celui d'adresse m\u00e9moire. "
     ]
    }, 
    {
     "cell_type": "code", 
     "collapsed": false, 
     "input": [
      "id(True)"
     ], 
     "language": "python", 
     "metadata": {}, 
     "outputs": [], 
     "prompt_number": null
    }, 
    {
     "cell_type": "markdown", 
     "metadata": {}, 
     "source": [
      "Comme vous vous en doutez, l'op\u00e9rateur `is` peut \u00eatre d\u00e9crit formellement \u00e0 partir de `id` comme ceci", 
      "", 
      "(`a is b`) $\\Longleftrightarrow$ (`id(a) == id(b)`)"
     ]
    }, 
    {
     "cell_type": "markdown", 
     "metadata": {}, 
     "source": [
      "### Certains types de base sont des singletons"
     ]
    }, 
    {
     "cell_type": "markdown", 
     "metadata": {}, 
     "source": [
      "Un singleton est un objet qui n'existe qu'en un seul exemplaire dans la m\u00e9moire. Un usage classique des singletons en python est de minimiser le nombre d'objets immuables en m\u00e9moire. Voyons ce que cela nous donne avec des entiers "
     ]
    }, 
    {
     "cell_type": "code", 
     "collapsed": false, 
     "input": [
      "a = 3", 
      "b = 3", 
      "print 'a', id(a), 'b', id(b)"
     ], 
     "language": "python", 
     "metadata": {}, 
     "outputs": [], 
     "prompt_number": null
    }, 
    {
     "cell_type": "markdown", 
     "metadata": {}, 
     "source": [
      "Tiens, c'est curieux, nous avons ici deux objets, que l'on pourrait penser diff\u00e9rents, mais en fait ce sont les m\u00eames; `a` et `b` d\u00e9signent le m\u00eame objet python, et on a"
     ]
    }, 
    {
     "cell_type": "code", 
     "collapsed": false, 
     "input": [
      "a is b"
     ], 
     "language": "python", 
     "metadata": {}, 
     "outputs": [], 
     "prompt_number": null
    }, 
    {
     "cell_type": "markdown", 
     "metadata": {}, 
     "source": [
      "Il se trouve que, dans le cas des petits entiers, python r\u00e9alise une optimisation de l'utilisation de la m\u00e9moire. Quel que soit le nombre de variables dont la valeur est `3`, un seul objet correspondant \u00e0 l'entier `3` est allou\u00e9 et cr\u00e9\u00e9, pour \u00e9viter d'engorger la m\u00e9moire. On dit que l'entier `3` est impl\u00e9ment\u00e9 comme un singleton; nous reverrons ceci en exercice."
     ]
    }, 
    {
     "cell_type": "markdown", 
     "metadata": {}, 
     "source": [
      "On trouve cette optimisation avec quelques autres objets python, comme par exemple"
     ]
    }, 
    {
     "cell_type": "code", 
     "collapsed": false, 
     "input": [
      "a = \"\"", 
      "b = \"\"", 
      "a is b"
     ], 
     "language": "python", 
     "metadata": {}, 
     "outputs": [], 
     "prompt_number": null
    }, 
    {
     "cell_type": "markdown", 
     "metadata": {}, 
     "source": [
      "Ou encore, plus surprenant:"
     ]
    }, 
    {
     "cell_type": "code", 
     "collapsed": false, 
     "input": [
      "a = \"foo\"", 
      "b = \"foo\"", 
      "a is b"
     ], 
     "language": "python", 
     "metadata": {}, 
     "outputs": [], 
     "prompt_number": null
    }, 
    {
     "cell_type": "markdown", 
     "metadata": {}, 
     "source": [
      "**Conclusion** cette optimisation ne touche aucun type mutable (heureusement); pour les types immuables, il n'est pas extr\u00eamement important de savoir en d\u00e9tail quels objets sont impl\u00e9ment\u00e9s de la sorte. ", 
      "", 
      "Ce qui est par contre extr\u00eamement important est de comprendre la diff\u00e9rence entre `is` et `==`, et de les utiliser \u00e0 bon escient au risque d'\u00e9crire du code fragile."
     ]
    }, 
    {
     "cell_type": "markdown", 
     "metadata": {}, 
     "source": [
      "### Pour en savoir plus"
     ]
    }, 
    {
     "cell_type": "markdown", 
     "metadata": {}, 
     "source": [
      "Aux \u00e9tudiants de niveau avanc\u00e9, nous recommandons la lecture de la section \"Objects, values and types\" dans la documentation python", 
      "", 
      "https://docs.python.org/2/reference/datamodel.html#objects-values-and-types", 
      "", 
      "qui aborde \u00e9galement la notion de \"garbage collection\", que nous n'aurons pas le temps de traiter dans ce MOOC."
     ]
    }
   ], 
   "metadata": {}
  }
 ]
}
