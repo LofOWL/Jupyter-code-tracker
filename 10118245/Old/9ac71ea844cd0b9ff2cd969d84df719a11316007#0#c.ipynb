{
 "cells": [
  {
   "cell_type": "markdown",
   "metadata": {},
   "source": [
    "<style>div.title-slide {    width: 100%;    display: flex;    flex-direction: row;            /* default value; can be omitted */    flex-wrap: nowrap;              /* default value; can be omitted */    justify-content: space-between;}</style><div class=\"title-slide\">\n",
    "<span style=\"float:left;\">Licence CC BY-NC-ND</span>\n",
    "<span>Thierry Parmentelat &amp; Arnaud Legout</span>\n",
    "<span><img src=\"media/both-logos-small-alpha.png\" style=\"display:inline\" /></span>\n",
    "</div>"
   ]
  },
  {
   "cell_type": "markdown",
   "metadata": {},
   "source": [
    "# *Context managers* et exceptions"
   ]
  },
  {
   "cell_type": "markdown",
   "metadata": {},
   "source": [
    "## Complément - niveau intermédiaire"
   ]
  },
  {
   "cell_type": "markdown",
   "metadata": {},
   "source": [
    "On a vu jusqu'ici dans la vidéo comment écrire un context manager, mais on n'a pas envisagé le cas où une exception serait levée pendant la durée de vie du context manager."
   ]
  },
  {
   "cell_type": "markdown",
   "metadata": {},
   "source": [
    "Et c'est très important, car si je me contente de faire :"
   ]
  },
  {
   "cell_type": "code",
   "execution_count": null,
   "metadata": {
    "collapsed": true
   },
   "outputs": [],
   "source": [
    "import time\n",
    "\n",
    "class Timer1:\n",
    "    def __enter__(self):\n",
    "        print(\"Entering Timer1\")\n",
    "        self.start = time.time()\n",
    "        return self\n",
    "    \n",
    "    def __exit__(self, *args):\n",
    "        print(f\"Total duration {time.time()-self.start:2f}\")\n",
    "        return True"
   ]
  },
  {
   "cell_type": "markdown",
   "metadata": {},
   "source": [
    "Alors dans les cas nominaux, tout se passe comme attendu :"
   ]
  },
  {
   "cell_type": "code",
   "execution_count": null,
   "metadata": {},
   "outputs": [],
   "source": [
    "with Timer1():\n",
    "    n = 0\n",
    "    for i in range(2*10**6):\n",
    "        n += i**2"
   ]
  },
  {
   "cell_type": "markdown",
   "metadata": {},
   "source": [
    "Mais par contre, dans le cas où j'exécute du code qui lève une exception, ça ne va plus du tout :"
   ]
  },
  {
   "cell_type": "code",
   "execution_count": null,
   "metadata": {},
   "outputs": [],
   "source": [
    "with Timer1():\n",
    "    n = 0\n",
    "    for i in range(2*10**6):\n",
    "        n += i**2 / 0"
   ]
  },
  {
   "cell_type": "markdown",
   "metadata": {},
   "source": [
    "À la toute première itération de la boucle, on fait une division par 0, qui lève l'exception `ZeroDivisionError`, mais tel qu'est conçue notre classe de context manager, cette exception **est étouffée** et n'est pas correctement propagée à l'extérieur."
   ]
  },
  {
   "cell_type": "markdown",
   "metadata": {},
   "source": [
    "Il est important, lorsqu'on conçoit un context manager, de bien **propager** les exceptions qui ne sont pas liées au fonctionnement attendu du context manager. Par exemple un objet de type fichier va en effet attraper par exemple les exceptions liées à la fin du fichier, mais doit par contre laisser passer une exception comme `ZeroDivisionError`."
   ]
  },
  {
   "cell_type": "markdown",
   "metadata": {},
   "source": [
    "### Les paramètres de `__exit__`"
   ]
  },
  {
   "cell_type": "markdown",
   "metadata": {},
   "source": [
    "Comme [vous pouvez le retrouver ici](https://docs.python.org/3/reference/datamodel.html#with-statement-context-managers), la méthode `__exit__` reçoit trois arguments :\n",
    "\n",
    "    def __exit__(self, exc_type, exc_value, traceback):\n",
    "\n",
    "lorsqu'on sort du bloc `with` sans qu'une exception soit levée, ces trois arguments valent `None`. Par contre si une exception est levée, ils permettent d'accéder au type, à la valeur de l'exception, et à l'état de la pile lorsque l'exception est levée."
   ]
  },
  {
   "cell_type": "code",
   "execution_count": null,
   "metadata": {
    "collapsed": true
   },
   "outputs": [],
   "source": [
    "# une deuxième version de Timer\n",
    "# qui propage correctement les exceptions\n",
    "\n",
    "class Timer2:\n",
    "    def __enter__(self):\n",
    "        print(\"Entering Timer1\")\n",
    "        self.start = time.time()\n",
    "        # rappel : le retour de __enter__ est ce qui est passé\n",
    "        # à la clause `as` du `with`\n",
    "        return self\n",
    "    \n",
    "    def __exit__(self, exc_type, exc_value, traceback):\n",
    "        if exc_type is None:\n",
    "            print(f\"Total duration {time.time()-self.start:2f}\")\n",
    "            # ceci indique que tout s'est bien passé\n",
    "            return True\n",
    "        else:\n",
    "            print(f\"OOPS : on propage l'exception {exc_type} - {exc_value}\")\n",
    "            # c'est ici que je propage l'exception au dehors du with\n",
    "            raise exc_type(exc_value)\n",
    "        return True"
   ]
  },
  {
   "cell_type": "code",
   "execution_count": null,
   "metadata": {},
   "outputs": [],
   "source": [
    "try:\n",
    "    with Timer2():\n",
    "        n = 0\n",
    "        for i in range(2*10**6):\n",
    "            n += i**2 / 0\n",
    "except Exception as e:\n",
    "    print(f\"L'exception a bien été propagée, {type(e)} - {e}\")"
   ]
  },
  {
   "cell_type": "markdown",
   "metadata": {},
   "source": [
    "### Pour en savoir plus"
   ]
  },
  {
   "cell_type": "markdown",
   "metadata": {},
   "source": [
    "Je vous signale enfin [la librairie `contextlib`](https://docs.python.org/3/library/contextlib.html) qui offre quelques utilitaires pour se définir un contextmanager.\n",
    "\n",
    "Notamment, un peu comme on peut implémenter un itérateur comme un générateur qui fait (n'importe quel nombre de) `yield`, on peut également implémenter un context manager simple sous la forme d'une fonction qui fait un `yield`."
   ]
  }
 ],
 "metadata": {
  "kernelspec": {
   "display_name": "Python 3",
   "language": "python",
   "name": "python3"
  },
  "language_info": {
   "codemirror_mode": {
    "name": "ipython",
    "version": 3
   },
   "file_extension": ".py",
   "mimetype": "text/x-python",
   "name": "python",
   "nbconvert_exporter": "python",
   "pygments_lexer": "ipython3",
   "version": "3.6.3"
  },
  "livereveal": {
   "auto_select": "code",
   "auto_select_fragment": true,
   "autolaunch": false,
   "backimage": "media/nologo.png",
   "height": "100%",
   "start_slideshow_at": "selected",
   "theme": "simple",
   "transition": "fade",
   "width": "100%"
  },
  "notebookname": "*Context managers* et exceptions",
  "version": "3.0"
 },
 "nbformat": 4,
 "nbformat_minor": 2
}
