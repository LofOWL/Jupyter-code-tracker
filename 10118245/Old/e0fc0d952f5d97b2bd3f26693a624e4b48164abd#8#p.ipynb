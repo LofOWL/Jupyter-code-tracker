{
 "metadata": {
  "kernelspec": {
   "display_name": "Python 2", 
   "language": "python", 
   "name": "python2"
  }, 
  "name": "", 
  "notebookname": "Expressions r\u00e9guli\u00e8res", 
  "version": "2.0"
 }, 
 "nbformat": 2, 
 "nbformat_minor": 0, 
 "orig_nbformat": 4, 
 "orig_nbformat_minor": 0, 
 "worksheets": [
  {
   "cells": [
    {
     "cell_type": "markdown", 
     "metadata": {}, 
     "source": [
      "<span style=\"float:left;\">Licence CC BY-NC-ND</span><span style=\"float:right;\">Thierry Parmentelat &amp; Arnaud Legout,<img src=\"media/inria-25.png\" style=\"display:inline\"></span><br/>"
     ]
    }, 
    {
     "cell_type": "markdown", 
     "metadata": {}, 
     "source": [
      "# Expressions r\u00e9guli\u00e8res"
     ]
    }, 
    {
     "cell_type": "markdown", 
     "metadata": {}, 
     "source": [
      "Nous vous proposons dans ce notebook quelques exercices sur les expressions r\u00e9guli\u00e8res. Faisons quelques remarques avant de commencer&nbsp;:", 
      " * nous nous concentrons sur l'\u00e9criture de l'expression r\u00e9guli\u00e8re en elle-m\u00eame, et pas sur l'utilisation de la librairie&nbsp;; ", 
      " * en particulier, tous les exercices font appel \u00e0 `re.match` entre votre *regexp* et une liste de cha\u00eenes d'entr\u00e9e qui servent de jeux de test - ce qui signifie notamment que vous pouvez ou pas commencer votre regexp par le caract\u00e8re `^`, cela ne changera rien au r\u00e9sultat de la correction, puisqu'en utilisant `match` on impose que la correspondance doit avoir lieu au debut de la cha\u00eene."
     ]
    }, 
    {
     "cell_type": "markdown", 
     "metadata": {}, 
     "source": [
      "##### Liens utiles"
     ]
    }, 
    {
     "cell_type": "markdown", 
     "metadata": {}, 
     "source": [
      "Pour travailler sur ces exercices, vous pouvez profitablement avoir sous la main&nbsp;:", 
      " * la [documentation officielle](https://docs.python.org/2/library/re.html#regular-expression-syntax),", 
      " * et [cet outil interactif sur regexp101.com](http://regex101.com/#python) qui permet d'avoir un retour presque imm\u00e9diat, et donc d'acc\u00e9l\u00e9rer la mise au point."
     ]
    }, 
    {
     "cell_type": "markdown", 
     "metadata": {}, 
     "source": [
      "## Exercice - niveau basique"
     ]
    }, 
    {
     "cell_type": "markdown", 
     "metadata": {}, 
     "source": [
      "##### Identificateurs python"
     ]
    }, 
    {
     "cell_type": "markdown", 
     "metadata": {}, 
     "source": [
      "\u00c9crivez une expression r\u00e9guli\u00e8re qui d\u00e9crit ce qu'on peut utiliser comme nom de variable en python."
     ]
    }, 
    {
     "cell_type": "code", 
     "collapsed": false, 
     "input": [
      "# quelques exemples", 
      "from corrections.w6s6_regexp import exo_pythonid", 
      "exo_pythonid.exemple()"
     ], 
     "language": "python", 
     "metadata": {}, 
     "outputs": [], 
     "prompt_number": null
    }, 
    {
     "cell_type": "code", 
     "collapsed": false, 
     "input": [
      "regexp_pythonid = \"<votre_code>\""
     ], 
     "language": "python", 
     "metadata": {}, 
     "outputs": [], 
     "prompt_number": null
    }, 
    {
     "cell_type": "code", 
     "collapsed": false, 
     "input": [
      "# pour valider votre code", 
      "exo_pythonid.correction(regexp_pythonid)"
     ], 
     "language": "python", 
     "metadata": {}, 
     "outputs": [], 
     "prompt_number": null
    }, 
    {
     "cell_type": "markdown", 
     "metadata": {}, 
     "source": [
      "## Exercice - niveau interm\u00e9diaire"
     ]
    }, 
    {
     "cell_type": "markdown", 
     "metadata": {}, 
     "source": [
      "##### M\u00e9thodes sp\u00e9ciales"
     ]
    }, 
    {
     "cell_type": "markdown", 
     "metadata": {}, 
     "source": [
      "Nous avons vu la semaine pass\u00e9e les m\u00e9thodes sp\u00e9ciales utilis\u00e9es par python pour vous permettre de red\u00e9finir le comportement du langage avec les objets de vos classes.", 
      "", 
      "Le but de cet exercice est d'\u00e9crire une expression r\u00e9guli\u00e8re qui d\u00e9crive une classe de noms de m\u00e9thodes, susceptibles d'\u00eatre consid\u00e9r\u00e9s comme des noms de m\u00e9thodes sp\u00e9ciales."
     ]
    }, 
    {
     "cell_type": "markdown", 
     "metadata": {}, 
     "source": [
      "Pour pr\u00e9ciser l'exercice, on recherche des noms de m\u00e9thodes qui doivent&nbsp;:", 
      " 1. commencer par exactement deux underscores (appel\u00e9s \u00e9galement tirets-bas) `_`,", 
      " 1. se terminer par exactement deux underscores,", 
      " 1. contenir dans la partie centrale un identificateur qui pourrait \u00eatre un identificateur python (mais qui pour respecter les deux premiers points ne peut pas commencer ou finir par un underscore)"
     ]
    }, 
    {
     "cell_type": "code", 
     "collapsed": false, 
     "input": [
      "# quelques exemples", 
      "from corrections.w6s6_regexp import exo_specials", 
      "exo_specials.exemple()"
     ], 
     "language": "python", 
     "metadata": {}, 
     "outputs": [], 
     "prompt_number": null
    }, 
    {
     "cell_type": "code", 
     "collapsed": false, 
     "input": [
      "regexp_specials = \"<votre_regexp>\""
     ], 
     "language": "python", 
     "metadata": {}, 
     "outputs": [], 
     "prompt_number": null
    }, 
    {
     "cell_type": "code", 
     "collapsed": false, 
     "input": [
      "# validation", 
      "exo_specials.correction(regexp_specials)"
     ], 
     "language": "python", 
     "metadata": {}, 
     "outputs": [], 
     "prompt_number": null
    }, 
    {
     "cell_type": "markdown", 
     "metadata": {}, 
     "source": [
      "## Exercice - niveau avanc\u00e9"
     ]
    }, 
    {
     "cell_type": "markdown", 
     "metadata": {}, 
     "source": [
      "Vu comment sont con\u00e7us les exercices, vous ne pouvez pas passer \u00e0 `re.compile` un *flag* comme `re.IGNORECASE` ou autre&nbsp;; sachez cependant que vous pouvez ***embarquer* ces flags dans la *regexp*** elle-m\u00eame&nbsp;; par exemple pour rendre la regexp insensible \u00e0 la casse de caract\u00e8res, au lieu d'appeler `re.compile` avec le flag `re.I`, vous pouvez utiliser `(?i)` comme ceci&nbsp;:"
     ]
    }, 
    {
     "cell_type": "code", 
     "collapsed": false, 
     "input": [
      "import re", 
      "re.match(\"(?i)abc\",\"ABC\").group(0)"
     ], 
     "language": "python", 
     "metadata": {}, 
     "outputs": [], 
     "prompt_number": null
    }, 
    {
     "cell_type": "markdown", 
     "metadata": {}, 
     "source": [
      "Remarquez bien que l'emplacement o\u00f9 vous ajoutez le *flag* dans la * regexp* n'a pas d'importance en g\u00e9n\u00e9ral (lire la doc pour le flag `x`), le flag agit toujours sur toute la *regexp*."
     ]
    }, 
    {
     "cell_type": "code", 
     "collapsed": false, 
     "input": [
      "re.match(\"abc(?i)\",\"ABC\").group(0)"
     ], 
     "language": "python", 
     "metadata": {}, 
     "outputs": [], 
     "prompt_number": null
    }, 
    {
     "cell_type": "markdown", 
     "metadata": {}, 
     "source": [
      "Pour plus de pr\u00e9cisions sur ce trait, que nous avons laiss\u00e9 de cot\u00e9 dans le compl\u00e9ment pour ne pas trop l'alourdir, voyez [la documentation sur les expressions r\u00e9guli\u00e8res](https://docs.python.org/2/library/re.html#regular-expression-syntax) et cherchez la premi\u00e8re occurrence de `iLmsux`."
     ]
    }, 
    {
     "cell_type": "markdown", 
     "metadata": {}, 
     "source": [
      "### D\u00e9cortiquer une URL"
     ]
    }, 
    {
     "cell_type": "markdown", 
     "metadata": {}, 
     "source": [
      "On vous demande d'\u00e9crire une expression r\u00e9guli\u00e8re qui permette d'analyser des URLs. ", 
      "", 
      "Voici les conventions que nous avons adopt\u00e9es pour l'exercice&nbsp;:", 
      " * la cha\u00eene contient les parties suivantes", 
      "   * `<protocol>://<location>/<path>`", 
      " * l'url commence par le nom d'un protocole qui doit \u00eatre parmi `http`, `https`, `ftp`, `ssh`", 
      " * le nom du protocole peut contenir de mani\u00e8re indiff\u00e9rente des minuscules ou des majuscules,", 
      " * ensuite doit venir la s\u00e9quence `://`", 
      " * ensuite on va trouver une cha\u00eene `<location>` qui contient&nbsp;:", 
      "   * potentiellement un nom d'utilisateur, et s'il est pr\u00e9sent, potentiellement un mot de passe,", 
      "   * obligatoirement un nom de `hostname`,", 
      "   * potentiellement un num\u00e9ro de port;", 
      " * lorsque les 4 parties sont pr\u00e9sentes dans `<location>`, cela se pr\u00e9sente comme ceci&nbsp;:", 
      "   * `<location> = <user>:<password>@<hostname>:<port>`", 
      " * si l'on note entre crochets les parties optionnelles, cela donne&nbsp;:", 
      "   * `<location> = [<user>[:<password>]@]<hostname>[:<port>]`", 
      " * le champ `<user>` ne peut contenir que des caract\u00e8res alphanum\u00e9riques; si le `@` est pr\u00e9sent le champ `<user>` ne peut pas \u00eatre vide", 
      " * le champ `<password>` peut contenir tout sauf un `:` et de m\u00eame, si le `:` est pr\u00e9sent le champ `<password>` ne peut pas \u00eatre vide", 
      " * le champ `<hostname>` peut contenir un suite non-vide de caract\u00e8res alphanum\u00e9riques, underscores, ou `.`", 
      " * le champ `<port>` ne contient que des chiffres, et il est non vide si le `:` est sp\u00e9cifi\u00e9", 
      " * le champ `<path>` peut \u00eatre vide.", 
      " ", 
      "   ", 
      "Enfin, vous devez d\u00e9finir les groupes `proto`, `user`, `password`, `hostname`, `port` et `path` qui sont utilis\u00e9s pour v\u00e9rifier votre r\u00e9sultat. Dans la case `R\u00e9sultat attendu`, vous trouverez soit `None` si la regexp ne filtre pas l'int\u00e9gralit\u00e9 de l'entr\u00e9e, ou bien une liste ordonn\u00e9e de tuples qui donnent la valeur de ces groupes&nbsp;; vous n'avez rien \u00e0 faire pour construire ces tuples, c'est l'exercice qui s'en occupe."
     ]
    }, 
    {
     "cell_type": "code", 
     "collapsed": false, 
     "input": [
      "from corrections.w6s6_regexp import exo_url"
     ], 
     "language": "python", 
     "metadata": {}, 
     "outputs": [], 
     "prompt_number": null
    }, 
    {
     "cell_type": "code", 
     "collapsed": false, 
     "input": [
      "exo_url.exemple()"
     ], 
     "language": "python", 
     "metadata": {}, 
     "outputs": [], 
     "prompt_number": null
    }, 
    {
     "cell_type": "code", 
     "collapsed": false, 
     "input": [
      "# n'h\u00e9sitez pas \u00e0 construire votre regexp petit \u00e0 petit", 
      "", 
      "regexp_url = \"<votre_regexp>\""
     ], 
     "language": "python", 
     "metadata": {}, 
     "outputs": [], 
     "prompt_number": null
    }, 
    {
     "cell_type": "code", 
     "collapsed": false, 
     "input": [
      "exo_url.correction(regexp_url)"
     ], 
     "language": "python", 
     "metadata": {}, 
     "outputs": [], 
     "prompt_number": null
    }
   ], 
   "metadata": {}
  }
 ]
}
