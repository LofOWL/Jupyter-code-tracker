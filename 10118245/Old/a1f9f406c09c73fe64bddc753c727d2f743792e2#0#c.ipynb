{
 "metadata": {
  "name": "",
  "signature": "sha256:b799a02b15431b9dee486e5e2a092e1e8035249052f663edf1b4974eca828ae0"
 },
 "nbformat": 3,
 "nbformat_minor": 0,
 "worksheets": [
  {
   "cells": [
    {
     "cell_type": "markdown",
     "metadata": {},
     "source": [
      "Vous pouvez lire le zen de python \u00e0 partir de python en tapant"
     ]
    },
    {
     "cell_type": "code",
     "collapsed": false,
     "input": [
      "import this"
     ],
     "language": "python",
     "metadata": {},
     "outputs": [
      {
       "output_type": "stream",
       "stream": "stdout",
       "text": [
        "The Zen of Python, by Tim Peters\n",
        "\n",
        "Beautiful is better than ugly.\n",
        "Explicit is better than implicit.\n",
        "Simple is better than complex.\n",
        "Complex is better than complicated.\n",
        "Flat is better than nested.\n",
        "Sparse is better than dense.\n",
        "Readability counts.\n",
        "Special cases aren't special enough to break the rules.\n",
        "Although practicality beats purity.\n",
        "Errors should never pass silently.\n",
        "Unless explicitly silenced.\n",
        "In the face of ambiguity, refuse the temptation to guess.\n",
        "There should be one-- and preferably only one --obvious way to do it.\n",
        "Although that way may not be obvious at first unless you're Dutch.\n",
        "Now is better than never.\n",
        "Although never is often better than *right* now.\n",
        "If the implementation is hard to explain, it's a bad idea.\n",
        "If the implementation is easy to explain, it may be a good idea.\n",
        "Namespaces are one honking great idea -- let's do more of those!\n"
       ]
      }
     ],
     "prompt_number": 1
    },
    {
     "cell_type": "markdown",
     "metadata": {},
     "source": [
      " * Documentation\n",
      "   * https://docs.python.org/2.7/ \n",
      " * La licence \n",
      "   * http://docs.python.org/2/license.html \n",
      " * La Python Software Foundation est une entit\u00e9 l\u00e9gale similaire \u00e0 nos associations de 1901, \u00e0 but non lucratif; elle poss\u00e8de les droits sur le langage:\n",
      "    * https://www.python.org/psf/\n",
      " * Description g\u00e9n\u00e9rale\n",
      "   * http://fr.wikipedia.org/wiki/Python_%28langage%29\n",
      " * Historique\n",
      "   * http://en.wikipedia.org/wiki/History_of_Python\n",
      " * Discussion sur les choix de conception du langage\n",
      "   * http://python-history.blogspot.com\n",
      " * Fran\u00e7ais\n",
      "   * https://wiki.python.org/moin/FrenchLanguage\n",
      " * Le discours de Guido van Rossum \u00e0 PyCon 2014\n",
      "   * https://www.youtube.com/watch?v=EBRMq2Ioxsc\n",
      " * Le sketch des monty python d'o\u00f9 provient les termes `eggs`, `spam`et autres `beans` qu'on utilise facilement dans les exemples.\n",
      "   * https://www.youtube.com/watch?v=anwy2MPT5RE\n",
      "\n",
      "\n",
      "\n",
      "\n",
      "\n"
     ]
    },
    {
     "cell_type": "code",
     "collapsed": false,
     "input": [],
     "language": "python",
     "metadata": {},
     "outputs": []
    }
   ],
   "metadata": {}
  }
 ]
}