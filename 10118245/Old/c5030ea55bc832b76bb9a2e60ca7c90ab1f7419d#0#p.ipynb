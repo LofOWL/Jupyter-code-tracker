{
 "metadata": {
  "name": "",
  "notebookname": "Installer python-2.7",
  "signature": "17d0d50408c317bb795f301efc96d50f362e9634ecff4f0945cc10b34f55a4c0",
  "version": "1.0"
 },
 "nbformat": 3,
 "nbformat_minor": 0,
 "worksheets": [
  {
   "cells": [
    {
     "cell_type": "heading",
     "level": 1,
     "metadata": {},
     "source": [
      "Installer la distribution standard python"
     ]
    },
    {
     "cell_type": "heading",
     "level": 2,
     "metadata": {},
     "source": [
      "Compl\u00e9ment - niveau basique"
     ]
    },
    {
     "cell_type": "markdown",
     "metadata": {},
     "source": [
      "Comme expliqu\u00e9 dans la vid\u00e9o d'introduction, vous rencontrez pour la premi\u00e8re fois un exemple de \"notebook\", dans une version simplifi\u00e9e puisqu'il ne contient aucun fragment de code pour l'instant."
     ]
    },
    {
     "cell_type": "markdown",
     "metadata": {},
     "source": [
      "Ce tout premier compl\u00e9ment a pour but de vous donner quelques guides pour l'installation de la distribution standard python 2.7. Ce sera la seule fois dans le cours o\u00f9 nous d\u00e9taillerons des variantes selon votre syst\u00e8me d'exploitation."
     ]
    },
    {
     "cell_type": "markdown",
     "metadata": {},
     "source": [
      "Notez bien qu'il ne s'agit ici que d'indications, il existe de nombreuses fa\u00e7ons de proc\u00e9der.\n",
      "\n",
      "En cas de souci, commencez par chercher par vous-m\u00eamesur google ou autre une solution \u00e0 votre probl\u00e8me. "
     ]
    },
    {
     "cell_type": "markdown",
     "metadata": {},
     "source": [
      "Le point important est de **bien v\u00e9rifier le num\u00e9ro de version** de votre installation, car avec python-3, ou python-2.6 ou plus ancien, les exemples du cours ne vont pas pouvoir tous fonctionner."
     ]
    },
    {
     "cell_type": "heading",
     "level": 3,
     "metadata": {},
     "source": [
      "Vous utilisez Linux"
     ]
    },
    {
     "cell_type": "markdown",
     "metadata": {},
     "source": [
      "Dans ce cas il y est tr\u00e8s probable que python-2.7 est d\u00e9j\u00e0 disponible sur votre machine. Pour vous en assurer, essayez de lancer la commande `python` dans un terminal. "
     ]
    },
    {
     "cell_type": "heading",
     "level": 5,
     "metadata": {},
     "source": [
      "Redhat / Fedora"
     ]
    },
    {
     "cell_type": "markdown",
     "metadata": {},
     "source": [
      "Voici par exemple ce qu'on obtient depuis un terminal sur une machine install\u00e9e en Fedora-20 "
     ]
    },
    {
     "cell_type": "raw",
     "metadata": {},
     "source": [
      "$ python\n",
      "Python 2.7.5 (default, Feb 19 2014, 13:47:28)\n",
      "[GCC 4.8.2 20131212 (Red Hat 4.8.2-7)] on linux2\n",
      "Type \"help\", \"copyright\", \"credits\" or \"license\" for more information.\n",
      ">>> exit()\n",
      "$ "
     ]
    },
    {
     "cell_type": "markdown",
     "metadata": {},
     "source": [
      "**V\u00e9rifiez bien le num\u00e9ro de version** qui doit \u00eatre en 2.7. Si vous obtenez un message du style `python: command not found` utilisez `yum` pour installer le rpm `python` comme ceci"
     ]
    },
    {
     "cell_type": "raw",
     "metadata": {},
     "source": [
      "$ sudo yum install python"
     ]
    },
    {
     "cell_type": "raw",
     "metadata": {},
     "source": [
      "S'agissant de `idle`, l'\u00e9diteur que nous utilisons dans le cours (optionnel si vous \u00eates familer avec un \u00e9diteur de texte), v\u00e9rifiez sa pr\u00e9sence comme ceci"
     ]
    },
    {
     "cell_type": "raw",
     "metadata": {},
     "source": [
      "$ type idle\n",
      "idle is hashed (/usr/bin/idle)"
     ]
    },
    {
     "cell_type": "markdown",
     "metadata": {},
     "source": [
      "Ici encore si la commande n'est pas disponible vous pouvez l'installer avec"
     ]
    },
    {
     "cell_type": "raw",
     "metadata": {},
     "source": [
      "$ sudo yum install python-tools"
     ]
    },
    {
     "cell_type": "heading",
     "level": 5,
     "metadata": {},
     "source": [
      "Debian / Ubuntu"
     ]
    },
    {
     "cell_type": "markdown",
     "metadata": {},
     "source": [
      "Ici encore python-2.7 est sans doute d\u00e9ja disponible. Proc\u00e9dez comme ci-dessus, voici un exemple recueilli dans un terminal sur une machine install\u00e9e en Ubuntu-14.04/trusty"
     ]
    },
    {
     "cell_type": "raw",
     "metadata": {},
     "source": [
      "$ python\n",
      "Python 2.7.6 (default, Mar 22 2014, 22:59:56)\n",
      "[GCC 4.8.2] on linux2\n",
      "Type \"help\", \"copyright\", \"credits\" or \"license\" for more information.\n",
      ">>> exit()\n",
      "$ "
     ]
    },
    {
     "cell_type": "markdown",
     "metadata": {},
     "source": [
      "Pour installer python"
     ]
    },
    {
     "cell_type": "raw",
     "metadata": {},
     "source": [
      "$ sudo apt-get install python"
     ]
    },
    {
     "cell_type": "markdown",
     "metadata": {},
     "source": [
      "POur installer idle"
     ]
    },
    {
     "cell_type": "raw",
     "metadata": {},
     "source": [
      "$ sudo apt-get install idle"
     ]
    },
    {
     "cell_type": "heading",
     "level": 3,
     "metadata": {},
     "source": [
      "Vous utilisez MacOS"
     ]
    },
    {
     "cell_type": "code",
     "collapsed": false,
     "input": [],
     "language": "python",
     "metadata": {},
     "outputs": [],
     "prompt_number": 8
    }
   ],
   "metadata": {}
  }
 ]
}