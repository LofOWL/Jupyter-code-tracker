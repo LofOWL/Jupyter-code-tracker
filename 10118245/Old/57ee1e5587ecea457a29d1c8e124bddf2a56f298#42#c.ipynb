{
 "metadata": {
  "kernelspec": {
   "display_name": "Python 2", 
   "language": "python", 
   "name": "python2"
  }, 
  "language_info": {
   "codemirror_mode": {
    "name": "ipython", 
    "version": 2
   }, 
   "file_extension": ".py", 
   "mimetype": "text/x-python", 
   "name": "python", 
   "nbconvert_exporter": "python", 
   "pygments_lexer": "ipython2", 
   "version": "2.7.11"
  }, 
  "name": "", 
  "notebookname": "Fusionner des donn\u00e9es", 
  "version": "2.0"
 }, 
 "nbformat": 2, 
 "nbformat_minor": 0, 
 "orig_nbformat": 4, 
 "orig_nbformat_minor": 0, 
 "worksheets": [
  {
   "cells": [
    {
     "cell_type": "markdown", 
     "metadata": {}, 
     "source": [
      "<span style=\"float:left;\">Licence CC BY-NC-ND</span><span style=\"float:right;\">Thierry Parmentelat &amp; Arnaud Legout,<img src=\"media/inria-25.png\" style=\"display:inline\"></span><br/>"
     ]
    }, 
    {
     "cell_type": "markdown", 
     "metadata": {}, 
     "source": [
      "# Fusionner des donn\u00e9es"
     ]
    }, 
    {
     "cell_type": "markdown", 
     "metadata": {}, 
     "source": [
      "## Exercices"
     ]
    }, 
    {
     "cell_type": "markdown", 
     "metadata": {}, 
     "source": [
      "Cet exercice vient en deux versions, une de niveau basique et une de niveau interm\u00e9diaire.", 
      "", 
      "La version basique est une application de la technique d'indexation qu'on a vue dans le compl\u00e9ment \"G\u00e9rer des enregistrements\". On peut tr\u00e8s bien faire les deux versions dans l'ordre, une fois qu'on a fait la version basique on est en principe un peu plus avanc\u00e9 pour aborder la version interm\u00e9diaire."
     ]
    }, 
    {
     "cell_type": "markdown", 
     "metadata": {}, 
     "source": [
      "### Contexte"
     ]
    }, 
    {
     "cell_type": "markdown", 
     "metadata": {}, 
     "source": [
      "Nous allons commencer \u00e0 utiliser des donn\u00e9es un peu plus r\u00e9alistes. Il s'agit de donn\u00e9es obtenues aupr\u00e8s de [MarineTraffic](https://www.marinetraffic.com) - et l\u00e9g\u00e8rement simplifi\u00e9es pour les besoins de l'exercice. Ce site expose les coordonn\u00e9es g\u00e9ographiques de bateaux observ\u00e9es en mer au travers d'un r\u00e9seau de collecte de type *crowdsourcing*. "
     ]
    }, 
    {
     "cell_type": "markdown", 
     "metadata": {}, 
     "source": [
      "De mani\u00e8re \u00e0 optimiser le volume de donn\u00e9es \u00e0 transf\u00e9rer, l'API de MarineTraffic offre deux modes pour obtenir les donn\u00e9es", 
      " * **mode \u00e9tendu** : chaque mesure (bateau x position x temps) est accompagn\u00e9e de tous les d\u00e9tails du bateau (`id`, nom, pays de rattachement, etc..)", 
      " * **mode abr\u00e9g\u00e9** : chaque mesure est uniquement attach\u00e9e \u00e0 l'`id` du bateau.", 
      " ", 
      "En effet, chaque bateau poss\u00e8de un identifiant unique qui est un entier, que l'on note  `id`."
     ]
    }, 
    {
     "cell_type": "markdown", 
     "metadata": {}, 
     "source": [
      "### Chargement des donn\u00e9es"
     ]
    }, 
    {
     "cell_type": "markdown", 
     "metadata": {}, 
     "source": [
      "Commen\u00e7ons par charger les donn\u00e9es de l'exercice"
     ]
    }, 
    {
     "cell_type": "code", 
     "collapsed": false, 
     "input": [
      "from corrections.w3s2_marine_dict import extended, abbreviated"
     ], 
     "language": "python", 
     "metadata": {}, 
     "outputs": [], 
     "prompt_number": null
    }, 
    {
     "cell_type": "markdown", 
     "metadata": {}, 
     "source": [
      "### Format des donn\u00e9es"
     ]
    }, 
    {
     "cell_type": "markdown", 
     "metadata": {}, 
     "source": [
      "Le format de ces donn\u00e9es est relativement simple, il s'agit dans les deux cas d'une liste d'entr\u00e9es - une par bateau.", 
      "", 
      "Chaque entr\u00e9e \u00e0 son tour est une liste qui contient :", 
      "", 
      "    mode \u00e9tendu: [id, latitude, longitude, date_heure, nom_bateau, code_pays, ...]", 
      "    mode abr\u00e9g\u00e9: [id, latitude, longitude, date_heure]", 
      "    ", 
      "sachant que les entr\u00e9es apr\u00e8s le code pays dans le format \u00e9tendu ne nous int\u00e9ressent pas pour cet exercice."
     ]
    }, 
    {
     "cell_type": "code", 
     "collapsed": false, 
     "input": [
      "# une entr\u00e9e \u00e9tendue est une liste qui ressemble \u00e0 ceci", 
      "sample_extended_entry = extended[3]", 
      "print sample_extended_entry"
     ], 
     "language": "python", 
     "metadata": {}, 
     "outputs": [], 
     "prompt_number": null
    }, 
    {
     "cell_type": "code", 
     "collapsed": false, 
     "input": [
      "# une entr\u00e9e abr\u00e9g\u00e9e ressemble \u00e0 ceci", 
      "sample_abbreviated_entry = abbreviated[0]", 
      "print sample_abbreviated_entry"
     ], 
     "language": "python", 
     "metadata": {}, 
     "outputs": [], 
     "prompt_number": null
    }, 
    {
     "cell_type": "markdown", 
     "metadata": {}, 
     "source": [
      "On pr\u00e9cise \u00e9galement que les deux listes `extended` et `abbreviated` ", 
      " * poss\u00e8dent exactement **le m\u00eame nombre** d'entr\u00e9es", 
      " * et correspondent **aux m\u00eames bateaux**", 
      " * mais naturellement **\u00e0 des moments diff\u00e9rents**", 
      " * et **pas forc\u00e9ment dans le m\u00eame ordre**."
     ]
    }, 
    {
     "cell_type": "markdown", 
     "metadata": {}, 
     "source": [
      "*******"
     ]
    }, 
    {
     "cell_type": "markdown", 
     "metadata": {}, 
     "source": [
      "### Exercice - niveau basique"
     ]
    }, 
    {
     "cell_type": "code", 
     "collapsed": false, 
     "input": [
      "# chargement de l'exercice", 
      "from corrections.w3s2_marine_dict import exo_index"
     ], 
     "language": "python", 
     "metadata": {}, 
     "outputs": [], 
     "prompt_number": null
    }, 
    {
     "cell_type": "markdown", 
     "metadata": {}, 
     "source": [
      "##### But de l'exercice"
     ]
    }, 
    {
     "cell_type": "markdown", 
     "metadata": {}, 
     "source": [
      "On vous demande d'\u00e9crire une fonction `index` qui calcule, \u00e0 partir de la liste des donn\u00e9es \u00e9tendues, un dictionnaire qui est&nbsp;:", 
      " * index\u00e9 par l'`id` de chaque bateau,", 
      " * et qui a pour valeur la liste qui d\u00e9crit le bateau correspondant."
     ]
    }, 
    {
     "cell_type": "markdown", 
     "metadata": {}, 
     "source": [
      "De mani\u00e8re plus imag\u00e9e, si&nbsp;:", 
      "", 
      "    extended = [ bateau1, bateau2, ... ]", 
      "", 
      "et si ", 
      "", 
      "    bateau1 = [ id1, latitude, ... ]", 
      "", 
      "on doit obtenir comme r\u00e9sultat de `index` un dictionnaire ", 
      "", 
      "    { id1 -> [ id_bateau1, latitude, ... ], ", 
      "      id2 ...", 
      "      }", 
      "    ", 
      "Bref, on veut pouvoir retrouver les diff\u00e9rents \u00e9l\u00e9ments de la liste `extended` par acc\u00e8s direct: en ne faisant qu'un seul *lookup* dans l'index produit."
     ]
    }, 
    {
     "cell_type": "code", 
     "collapsed": false, 
     "input": [
      "# le r\u00e9sultat attendu", 
      "result_index = exo_index.resultat(extended)", 
      "", 
      "# \u00e0 quoi ressemble le r\u00e9sultat pour un bateau au hasard", 
      "from pprint import pprint", 
      "for key, value in result_index.iteritems():", 
      "    print \"==== cl\u00e9\"", 
      "    pprint(key)", 
      "    print \"==== valeur\"", 
      "    pprint(value)", 
      "    break"
     ], 
     "language": "python", 
     "metadata": {}, 
     "outputs": [], 
     "prompt_number": null
    }, 
    {
     "cell_type": "markdown", 
     "metadata": {}, 
     "source": [
      "##### Votre code"
     ]
    }, 
    {
     "cell_type": "code", 
     "collapsed": false, 
     "input": [
      "def index(extended):", 
      "    \"<votre_code>\""
     ], 
     "language": "python", 
     "metadata": {}, 
     "outputs": [], 
     "prompt_number": null
    }, 
    {
     "cell_type": "markdown", 
     "metadata": {}, 
     "source": [
      "##### Validation"
     ]
    }, 
    {
     "cell_type": "code", 
     "collapsed": false, 
     "input": [
      "exo_index.correction(index, abbreviated)"
     ], 
     "language": "python", 
     "metadata": {}, 
     "outputs": [], 
     "prompt_number": null
    }, 
    {
     "cell_type": "markdown", 
     "metadata": {}, 
     "source": [
      "Vous remarquerez d'ailleurs que la seule chose qu'on utilise dans cet exercice, c'est que l'id des bateaux arrive en premi\u00e8re position (dans la liste qui mat\u00e9rialise le bateau), aussi votre code doit marcher \u00e0 l'identique avec les bateaux \u00e9tendus&nbsp;:"
     ]
    }, 
    {
     "cell_type": "code", 
     "collapsed": false, 
     "input": [
      "exo_index.correction(index, extended)"
     ], 
     "language": "python", 
     "metadata": {}, 
     "outputs": [], 
     "prompt_number": null
    }, 
    {
     "cell_type": "markdown", 
     "metadata": {}, 
     "source": [
      "### Exercice - niveau interm\u00e9diaire"
     ]
    }, 
    {
     "cell_type": "code", 
     "collapsed": false, 
     "input": [
      "# chargement de l'exercice", 
      "from corrections.w3s2_marine_dict import exo_merge"
     ], 
     "language": "python", 
     "metadata": {}, 
     "outputs": [], 
     "prompt_number": null
    }, 
    {
     "cell_type": "markdown", 
     "metadata": {}, 
     "source": [
      "##### But de l'exercice"
     ]
    }, 
    {
     "cell_type": "markdown", 
     "metadata": {}, 
     "source": [
      "On vous demande d'\u00e9crire une fonction `merge` qui fasse une consolidation des donn\u00e9es, de fa\u00e7on \u00e0 obtenir en sortie un dictionnaire:", 
      "", 
      "    id -> [ nom_bateau, code_pays, position_etendu, position_abrege ]", 
      "", 
      "dans lequel les deux objets `position` sont tous les deux des tuples de la forme", 
      "", 
      "    (latitude, longitude, date_heure)"
     ]
    }, 
    {
     "cell_type": "markdown", 
     "metadata": {}, 
     "source": [
      "Voici par exemple un couple cl\u00e9-valeur dans le r\u00e9sultat attendu. Profitons-en pour d\u00e9couvrir un utilitaire parfois pratique: le [module `pprint` pour pretty-printer](https://docs.python.org/2/library/pprint.html)"
     ]
    }, 
    {
     "cell_type": "code", 
     "collapsed": false, 
     "input": [
      "# le r\u00e9sultat attendu", 
      "result_merge = exo_merge.resultat(extended, abbreviated)", 
      "", 
      "# a quoi ressemble le r\u00e9sultat pour un bateau au hasard", 
      "from pprint import pprint", 
      "for key_value in result_merge.iteritems():", 
      "    pprint(key_value)", 
      "    break"
     ], 
     "language": "python", 
     "metadata": {}, 
     "outputs": [], 
     "prompt_number": null
    }, 
    {
     "cell_type": "markdown", 
     "metadata": {}, 
     "source": [
      "##### Votre code"
     ]
    }, 
    {
     "cell_type": "code", 
     "collapsed": false, 
     "input": [
      "def merge(extended, abbreviated):", 
      "    \"<votre_code>\""
     ], 
     "language": "python", 
     "metadata": {}, 
     "outputs": [], 
     "prompt_number": null
    }, 
    {
     "cell_type": "markdown", 
     "metadata": {}, 
     "source": [
      "##### Validation"
     ]
    }, 
    {
     "cell_type": "code", 
     "collapsed": false, 
     "input": [
      "exo_merge.correction(merge, extended, abbreviated)"
     ], 
     "language": "python", 
     "metadata": {}, 
     "outputs": [], 
     "prompt_number": null
    }, 
    {
     "cell_type": "markdown", 
     "metadata": {}, 
     "source": [
      "### Les fichiers de donn\u00e9es complets"
     ]
    }, 
    {
     "cell_type": "markdown", 
     "metadata": {}, 
     "source": [
      "Signalons enfin pour ceux qui sont int\u00e9ress\u00e9s que les donn\u00e9es charg\u00e9es dans cet exercice sont disponibles au format JSON - qui est pr\u00e9cis\u00e9ment celui expos\u00e9 par marinetraffic. ", 
      "", 
      "Nous avons beaucoup simplifi\u00e9 les donn\u00e9es d'entr\u00e9e pour vous permettre une mise au point plus facile. Si vous voulez vous amuser \u00e0 charger des donn\u00e9es un peu plus significatives, sachez que", 
      " ", 
      "  * vous avez acc\u00e8s aux fichiers de donn\u00e9es plus complets&nbsp;:", 
      "    * [data/marine-e1-ext.json](data/marine-e1-ext.json)", 
      "    * [data/marine-e1-abb.json](data/marine-e1-abb.json)", 
      "  * pour charger ces fichiers, qui sont donc au [format JSON](http://en.wikipedia.org/wiki/JSON), la connaissance intime de ce format n'est pas n\u00e9cessaire, on peut tout simplement utiliser le [module `json`](https://docs.python.org/2/library/json.html). Voici le code utilis\u00e9 dans l'exercice pour charger ces JSON en m\u00e9moire; il utilise des notions que nous verrons dans les semaines \u00e0 venir:   "
     ]
    }, 
    {
     "cell_type": "code", 
     "collapsed": false, 
     "input": [
      "# load data from files", 
      "import json", 
      "", 
      "with open(\"data/marine-e1-ext.json\") as feed:", 
      "    extended_full = json.load(feed)", 
      "   ", 
      "with open(\"data/marine-e1-abb.json\") as feed:", 
      "    abbreviated_full = json.load(feed)"
     ], 
     "language": "python", 
     "metadata": {}, 
     "outputs": [], 
     "prompt_number": null
    }, 
    {
     "cell_type": "markdown", 
     "metadata": {}, 
     "source": [
      "Une fois que vous avez un code qui fonctionne vous pouvez le lancer sur ces donn\u00e9es plus copieuses en faisant"
     ]
    }, 
    {
     "cell_type": "code", 
     "collapsed": false, 
     "input": [
      "exo_merge.correction(merge, extended_full, abbreviated_full)"
     ], 
     "language": "python", 
     "metadata": {}, 
     "outputs": [], 
     "prompt_number": null
    }
   ], 
   "metadata": {}
  }
 ]
}
