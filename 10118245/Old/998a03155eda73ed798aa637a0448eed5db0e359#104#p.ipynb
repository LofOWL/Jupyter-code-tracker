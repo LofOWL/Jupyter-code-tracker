{
 "cells": [
  {
   "cell_type": "markdown",
   "metadata": {},
   "source": [
    "<style>div.title-slide {    width: 100%;    display: flex;    flex-direction: row;            /* default value; can be omitted */    flex-wrap: nowrap;              /* default value; can be omitted */    justify-content: space-between;}</style><div class=\"title-slide\">\n<span style=\"float:left;\">Licence CC BY-NC-ND</span>\n<span>Thierry Parmentelat &amp; Arnaud Legout</span>\n<span><img src=\"media/both-logos-small-alpha.png\" style=\"display:inline\" /></span>\n</div>"
   ]
  },
  {
   "cell_type": "markdown",
   "metadata": {},
   "source": [
    "# Attributs de classe et attributs d'instance"
   ]
  },
  {
   "cell_type": "markdown",
   "metadata": {},
   "source": [
    "xxx il y a là dedans des trucs déjà très bien montrés dans la vidéo w6-s1, qui montre déjà\n",
    "* un attribut de donnée attaché à une classe\n",
    "* la recherche des attributs dans l'instance puis dans la classe\n",
    "\n",
    "on doit pouvoir simplifier ce complément en profondeur"
   ]
  },
  {
   "cell_type": "markdown",
   "metadata": {},
   "source": [
    "xxx aussi, je ne suis plus très sûr de l'intérêt de la digression sur la méthode redéfinie sur une instance"
   ]
  },
  {
   "cell_type": "markdown",
   "metadata": {},
   "source": [
    "## Complément - niveau intermédiaire"
   ]
  },
  {
   "cell_type": "markdown",
   "metadata": {},
   "source": [
    "Nous avons vu jusqu'à présent que l'on peut ajouter des attributs à toutes sortes d'objets en python, et notamment à\n",
    " * un module,\n",
    " * une fonction,\n",
    " * une classe,\n",
    " * une instance de classe."
   ]
  },
  {
   "cell_type": "markdown",
   "metadata": {},
   "source": [
    "Et si on s'intéresse de plus près aux deux dernières catégories, nous avons vu également, si vous vous souvenez de la classe `Matrix2`, qu'**en règle générale** : \n",
    " * une **méthode** est un attribut de la **classe**,\n",
    " * et que les **données** qui décrivent l'objet sont rangées dans des attributs de l'**instance**."
   ]
  },
  {
   "cell_type": "markdown",
   "metadata": {},
   "source": [
    "### Propos de ce complément"
   ]
  },
  {
   "cell_type": "markdown",
   "metadata": {},
   "source": [
    "Dans ce complément, nous allons approfondir les notions d'attributs de classe et d'attributs d'instance. \n",
    "\n",
    "Le **premier point** que nous voulons illustrer ici est que le langage **ne fait pas la différence** entre un attribut dont la valeur est du code (une fonction ou une méthode), et un attribut contenant des données.\n",
    "\n",
    "Le **second point** est qu'un attribut est cherché **en premier dans l'instance puis dans la classe**. "
   ]
  },
  {
   "cell_type": "markdown",
   "metadata": {},
   "source": [
    "Pour illustrer tout ceci, nous allons voir que le langage permet également :\n",
    " * d'attacher des *données à une classe* - pour définir par exemple une valeur par défaut valable pour toutes les instances de la classe, ou de\n",
    " * de *définir une méthode sur une instance* - pour spécialiser un comportement pour un seul objet, et ainsi éviter de définir une nouvelle classe pour un seul objet. \n",
    " \n",
    "Nous démontrons ce second usage, rare en pratique, dans la deuxième partie de ce complément, qui est de niveau avancé."
   ]
  },
  {
   "cell_type": "markdown",
   "metadata": {},
   "source": [
    "### Un attribut de donnée défini sur la classe"
   ]
  },
  {
   "cell_type": "markdown",
   "metadata": {},
   "source": [
    "Voyons, pour commencer, un exemple de classe avec un attribut de données qui est en fait un attribut qui référence un objet *builtin* contenant des données, typiquement `int`, `list` ou `str`."
   ]
  },
  {
   "cell_type": "code",
   "execution_count": null,
   "metadata": {
    "collapsed": true
   },
   "outputs": [],
   "source": [
    "class Spam:\n",
    "    attribut = \"attribut de classe\""
   ]
  },
  {
   "cell_type": "markdown",
   "metadata": {},
   "source": [
    "Naturellement, on aurait pu aussi définir des méthodes dans cette classe, mais nous avons choisi de montrer un exemple très simple."
   ]
  },
  {
   "cell_type": "markdown",
   "metadata": {},
   "source": [
    "La classe `Spam` possède donc maintenant l'attribut `attribut` qui vaut"
   ]
  },
  {
   "cell_type": "code",
   "execution_count": null,
   "metadata": {
    "collapsed": true
   },
   "outputs": [],
   "source": [
    "Spam.attribut"
   ]
  },
  {
   "cell_type": "markdown",
   "metadata": {},
   "source": [
    "Créons à présent deux instances de cette classe:"
   ]
  },
  {
   "cell_type": "code",
   "execution_count": null,
   "metadata": {
    "collapsed": true
   },
   "outputs": [],
   "source": [
    "# une instance normale de Spam\n",
    "normal = Spam()\n",
    "# une instance spéciale de Spam - on va lui attacher un attribut\n",
    "special = Spam()"
   ]
  },
  {
   "cell_type": "markdown",
   "metadata": {},
   "source": [
    "À ce stade naturellement on peut accéder à l'attribut:"
   ]
  },
  {
   "cell_type": "code",
   "execution_count": null,
   "metadata": {
    "collapsed": true
   },
   "outputs": [],
   "source": [
    "# depuis chacune des instances, ou depuis la classe\n",
    "print(f\"normal→{normal.attribut},\\nspecial→{special.attribut},\\nclasse→{Spam.attribut}\")"
   ]
  },
  {
   "cell_type": "markdown",
   "metadata": {},
   "source": [
    "On peut alors attacher à une des instances un attribut `attribut`, comme on l'a déjà vu :"
   ]
  },
  {
   "cell_type": "code",
   "execution_count": null,
   "metadata": {
    "collapsed": true
   },
   "outputs": [],
   "source": [
    "# on affecte l'attribut de l'instance\n",
    "special.attribut = \"attribut de l'instance\""
   ]
  },
  {
   "cell_type": "code",
   "execution_count": null,
   "metadata": {
    "collapsed": true
   },
   "outputs": [],
   "source": [
    "# naturellement on retrouve cette valeur quand\n",
    "# on cherche l'attribut à partir de l'instance\n",
    "# mais pour les deux autres accès rien ne change\n",
    "print(f\"normal→{normal.attribut},\\nspecial→{special.attribut},\\nclasse→{Spam.attribut}\")"
   ]
  },
  {
   "cell_type": "markdown",
   "metadata": {},
   "source": [
    "Le point important de ce complément, c'est qu'une **instance** à laquelle on n'a pourtant pas attaché d'attribut `attribut` peut tout de même **référencer** cet attribut et **trouver celui de la classe** comme si c'était le sien. "
   ]
  },
  {
   "cell_type": "markdown",
   "metadata": {},
   "source": [
    "Voici à toutes fins utiles le même scénario sous ipythontutor:"
   ]
  },
  {
   "cell_type": "code",
   "execution_count": null,
   "metadata": {
    "collapsed": true
   },
   "outputs": [],
   "source": [
    "%load_ext ipythontutor"
   ]
  },
  {
   "cell_type": "code",
   "execution_count": null,
   "metadata": {
    "collapsed": true
   },
   "outputs": [],
   "source": [
    "%%ipythontutor curInstr=4\n",
    "class Spam:\n",
    "    attribut = 'classatt'\n",
    "    \n",
    "normal = Spam()\n",
    "special = Spam()\n",
    "special.attribut = 'instatt'\n",
    "\n",
    "print(f\"normal→{normal.attribut},\\nspecial→{special.attribut},\\nclasse→{Spam.attribut}\")"
   ]
  },
  {
   "cell_type": "markdown",
   "metadata": {},
   "source": [
    "### Discussion"
   ]
  },
  {
   "cell_type": "markdown",
   "metadata": {},
   "source": [
    "En fait, on a déjà vu ce mécanisme en action; c'est exactement la même chose qui se passe lorsqu'on a :\n",
    " * une classe qui définit la méthode `foo`\n",
    " * et une instance `obj` de la classe sur laquelle on appelle la méthode en faisant\n",
    " \n",
    "```obj.foo()```"
   ]
  },
  {
   "cell_type": "markdown",
   "metadata": {},
   "source": [
    "Le mécanisme de **recherche d'un attribut sur une instance est le même**, que cet attribut représente une méthode ou une donnée. En effet, en python tout est un objet et un attribut peut référencer n'importer quel objet. Ça n'est que lorsque l'interpréteur python accède à l'objet qu'il peut finalement connaître son type. "
   ]
  },
  {
   "cell_type": "markdown",
   "metadata": {},
   "source": [
    "### Conclusion"
   ]
  },
  {
   "cell_type": "markdown",
   "metadata": {},
   "source": [
    "Le mécanisme de recherche d'attributs, bien qu'extrêmement simple, est très souple et très puissant. On peut attacher, au choix, **à une instance ou à une classe**, des attributs représentant **n'importe quel objet**, et la recherche de ces attributs se fait dans l'ordre **instance** puis **classe**.\n",
    "\n",
    "Et nous verrons dans la prochaine vidéo que les mécanismes d'héritage ne font en fait que prolonger ce mécanisme de recherche d'attributs."
   ]
  },
  {
   "cell_type": "markdown",
   "metadata": {},
   "source": [
    "## Complément - niveau avancé"
   ]
  },
  {
   "cell_type": "markdown",
   "metadata": {},
   "source": [
    "### Un attribut de méthode (re)défini sur une instance"
   ]
  },
  {
   "cell_type": "markdown",
   "metadata": {},
   "source": [
    "Définir un attribut de données dans une classe, comme on vient de le voir, présente un intérêt pratique; il est parfois commode de définir une constante, ou une valeur par défaut, au niveau de la classe, qui s'applique alors à tous les objets."
   ]
  },
  {
   "cell_type": "markdown",
   "metadata": {},
   "source": [
    "Nous allons à présent illustrer la possibilité de définir, à l'inverse, une **méthode au niveau d'une instance**. Comme ceci est rare en pratique, il s'agit ici de bien comprendre les mécanismes du langage plutôt que de découvrir une technique de programmation."
   ]
  },
  {
   "cell_type": "markdown",
   "metadata": {},
   "source": [
    "Pour cela nous prenons à nouveau une classe jouet, avec une méthode `the_name` qui est utilisée pour l'impression, et que nous allons redéfinir sur certaines instances:"
   ]
  },
  {
   "cell_type": "code",
   "execution_count": null,
   "metadata": {
    "collapsed": true
   },
   "outputs": [],
   "source": [
    "class Eggs:\n",
    "    def __init__(self, name):\n",
    "        self.name = name\n",
    "    # la méthode qu'on va redéfinir\n",
    "    def the_name(self):\n",
    "        return f\"class({self.name})\"\n",
    "    # pour que ça se voie\n",
    "    def __repr__(self):\n",
    "        return f\"[[Eggs:{self.the_name()}]]\""
   ]
  },
  {
   "cell_type": "markdown",
   "metadata": {},
   "source": [
    "Voici comment s'affiche une instance normale de cette classe:"
   ]
  },
  {
   "cell_type": "code",
   "execution_count": null,
   "metadata": {
    "collapsed": true
   },
   "outputs": [],
   "source": [
    "normal = Eggs('normal')\n",
    "print(normal)"
   ]
  },
  {
   "cell_type": "markdown",
   "metadata": {},
   "source": [
    "##### À partir d'une fonction sans argument"
   ]
  },
  {
   "cell_type": "markdown",
   "metadata": {},
   "source": [
    "La façon la plus simple pour redéfinir une méthode sur une instance consiste à attacher à l'instance une **fonction**; toutefois, il faut noter que dans cette configuration le langage **ne passe pas l'instance en paramètre** à la fonction."
   ]
  },
  {
   "cell_type": "markdown",
   "metadata": {},
   "source": [
    "Ceci est illustré ici:"
   ]
  },
  {
   "cell_type": "markdown",
   "metadata": {},
   "source": [
    "Arrêtons-nous un instant; souvenez-vous qu'avant de parler de classes on a parlé de fonctions; on pourrait très bien avoir envie de ranger dans un attribut une vraie fonction, et de l'appeler comme une fonction, mais pas comme une méthode, c'est-à-dire sans mettre en œuvre la *magie* qui consiste à mettre l'instance elle-même comme premier argument.\n",
    "\n",
    "C'est pour cette raison que lorsqu'une méthode est attachée à une instance, l'instance elle même n'est pas passée à l'appel. Voyons cela de plus près"
   ]
  },
  {
   "cell_type": "code",
   "execution_count": null,
   "metadata": {
    "collapsed": true
   },
   "outputs": [],
   "source": [
    "# une instance sur laquelle on veut redéfinir the_name()\n",
    "special0 = Eggs('special0')\n",
    "\n",
    "# pour cela on affecte l'attribut de l'instance\n",
    "# de sorte qu'il référence une fonction *SANS ARGUMENT*\n",
    "special0.the_name = lambda: \"SPECIAL-no-arg\"\n",
    "\n",
    "# et le résultat\n",
    "print(special0)"
   ]
  },
  {
   "cell_type": "markdown",
   "metadata": {},
   "source": [
    "##### À partir d'une fonction avec argument"
   ]
  },
  {
   "cell_type": "markdown",
   "metadata": {},
   "source": [
    "Voyons à présent comment on pourrait obtenir le même résultat, mais à partir d'une fonction qui prend en argument une instance:"
   ]
  },
  {
   "cell_type": "code",
   "execution_count": null,
   "metadata": {
    "collapsed": true
   },
   "outputs": [],
   "source": [
    "# si maintenant on a une fonction avec un argument\n",
    "def redefined(self):\n",
    "    return f'SPECIAL+redefined+{self.name}'    "
   ]
  },
  {
   "cell_type": "markdown",
   "metadata": {},
   "source": [
    "Ce qu'il nous suffit de faire, c'est de produire une fonction sans argument à partir de la fonction `redefined` et de l'instance qui nous intéresse; on appelle cela **une clôture**, en ce sens que l'instance est *capturée* dans la fonction sans argument."
   ]
  },
  {
   "cell_type": "markdown",
   "metadata": {},
   "source": [
    "Une première méthode, un peu *ad hoc* pour y arriver, consisterait à faire:"
   ]
  },
  {
   "cell_type": "code",
   "execution_count": null,
   "metadata": {
    "collapsed": true
   },
   "outputs": [],
   "source": [
    "# redéfinir une méthode sur une instance (1/4)\n",
    "special1 = Eggs('special1')\n",
    "\n",
    "# on fabrique une cloture - une lambda sans argument -\n",
    "# dans laquelle on a \"capturé\" special1\n",
    "special1.the_name = lambda: redefined(special1)\n",
    "\n",
    "print(special1)"
   ]
  },
  {
   "cell_type": "markdown",
   "metadata": {},
   "source": [
    "Voyons une seconde méthode, un peu plus propre, pour faire ceci; "
   ]
  },
  {
   "cell_type": "code",
   "execution_count": null,
   "metadata": {
    "collapsed": true
   },
   "outputs": [],
   "source": [
    "# redéfinir une méthode sur une instance (2/4)\n",
    "\n",
    "# essentiellement la même chose, \n",
    "# mais on fabrique la clôture avec l'utilitaire 'partial'\n",
    "from functools import partial\n",
    "\n",
    "special2 = Eggs('special2')\n",
    "\n",
    "special2.the_name = partial(redefined, special2)\n",
    "\n",
    "print(special2)"
   ]
  },
  {
   "cell_type": "markdown",
   "metadata": {},
   "source": [
    "La différence principale entre les approches pour `special1` et `special2` est que la seconde approche fonctionnerait avec un nombre quelconque d'arguments. Je veux dire: remarquez que dans notre cas concret, on veut redéfinir une méthode qui ne prend pas d'autre argument que l'instance; si cela n'était pas le cas, il faudrait modifier la cellule qui crée `special1`, mais on pourrait garder telle quelle la cellule qui crée `special2`."
   ]
  },
  {
   "cell_type": "markdown",
   "metadata": {},
   "source": [
    "Enfin, et uniquement pour démystifier complètement cette fonction `partial`, en voici deux implémentations possibles; à nouveau notre unique objectif ici est de bien décortiquer les mécanismes du langage: "
   ]
  },
  {
   "cell_type": "code",
   "execution_count": null,
   "metadata": {
    "collapsed": true
   },
   "outputs": [],
   "source": [
    "# une implémentation possible pour functools.partial\n",
    "\n",
    "def mypartial1(function, instance, *args):\n",
    "    def projection(*args):\n",
    "        return function(instance, *args)\n",
    "    return projection"
   ]
  },
  {
   "cell_type": "code",
   "execution_count": null,
   "metadata": {
    "collapsed": true
   },
   "outputs": [],
   "source": [
    "# redéfinir une méthode sur une instance (3/4)\n",
    "special3 = Eggs('special3')\n",
    "\n",
    "special3.the_name = mypartial1(redefined, special3)\n",
    "\n",
    "print(special3)"
   ]
  },
  {
   "cell_type": "code",
   "execution_count": null,
   "metadata": {
    "collapsed": true
   },
   "outputs": [],
   "source": [
    "# ou encore, totalement équivalent mais\n",
    "# à base de lambda plutôt que de def:\n",
    "def mypartial2(function, instance, *args):\n",
    "    return lambda *args: function(instance, *args)"
   ]
  },
  {
   "cell_type": "code",
   "execution_count": null,
   "metadata": {
    "collapsed": true
   },
   "outputs": [],
   "source": [
    "# redéfinir une méthode sur une instance (4/4)\n",
    "special4 = Eggs('special4')\n",
    "\n",
    "special4.the_name = mypartial2(redefined, special4)\n",
    "\n",
    "print(special4)"
   ]
  },
  {
   "cell_type": "markdown",
   "metadata": {},
   "source": [
    "##### Note par rapport à python2"
   ]
  },
  {
   "cell_type": "markdown",
   "metadata": {},
   "source": [
    "Le sujet des méthodes attachées à une instance a été assez profondément modifié entre python2 et python3; notamment la notion de *unbound method* a été rendue obsolète en python3."
   ]
  }
 ],
 "metadata": {
  "kernelspec": {
   "display_name": "Python 3",
   "language": "python",
   "name": "python3"
  },
  "language_info": {
   "codemirror_mode": {
    "name": "ipython",
    "version": 3
   },
   "file_extension": ".py",
   "mimetype": "text/x-python",
   "name": "python",
   "nbconvert_exporter": "python",
   "pygments_lexer": "ipython3",
   "version": "3.6.2"
  },
  "livereveal": {
   "auto_select": "code",
   "auto_select_fragment": true,
   "autolaunch": false,
   "backimage": "media/nologo.png",
   "height": "100%",
   "start_slideshow_at": "selected",
   "theme": "simple",
   "transition": "fade",
   "width": "100%"
  },
  "notebookname": "Recherche d'attributs",
  "version": "3.0"
 },
 "nbformat": 4,
 "nbformat_minor": 1
}