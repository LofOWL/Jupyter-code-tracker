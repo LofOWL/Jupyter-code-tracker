{
 "metadata": {
  "notebookname": "H\u00e9ritage multiple",
  "signature": "14758077fd670f70f0969841b077f5b6fcf4d8d33622edd14983c0863e01c02d",
  "version": "1.0"
 },
 "nbformat": 3,
 "nbformat_minor": 0,
 "worksheets": [
  {
   "cells": [
    {
     "cell_type": "heading",
     "level": 1,
     "metadata": {},
     "source": [
      "H\u00e9ritage multiple"
     ]
    }
   ],
   "metadata": {}
  }
 ]
}