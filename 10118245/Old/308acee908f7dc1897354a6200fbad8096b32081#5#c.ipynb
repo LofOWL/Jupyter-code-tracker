{
 "metadata": {
  "notebookname": "python3 vs python2",
  "signature": "sha256:e8e365bfe27164836fe84dcc6a9ac2ec0b7cff56ce3fcfa85eb8b031944edf01",
  "version": "1.0"
 },
 "nbformat": 3,
 "nbformat_minor": 0,
 "worksheets": [
  {
   "cells": [
    {
     "cell_type": "heading",
     "level": 1,
     "metadata": {},
     "source": [
      "python3 vs python2"
     ]
    },
    {
     "cell_type": "heading",
     "level": 2,
     "metadata": {},
     "source": [
      "Compl\u00e9ment - niveau interm\u00e9diaire"
     ]
    },
    {
     "cell_type": "heading",
     "level": 3,
     "metadata": {},
     "source": [
      "`print`"
     ]
    },
    {
     "cell_type": "heading",
     "level": 3,
     "metadata": {},
     "source": [
      "types `str` et `unicode`"
     ]
    },
    {
     "cell_type": "heading",
     "level": 3,
     "metadata": {},
     "source": [
      "classes *new-style*"
     ]
    },
    {
     "cell_type": "heading",
     "level": 3,
     "metadata": {},
     "source": [
      "Variables locales \u00e0 une boucle `for`"
     ]
    },
    {
     "cell_type": "heading",
     "level": 3,
     "metadata": {},
     "source": [
      "Pour en savoir plus"
     ]
    },
    {
     "cell_type": "markdown",
     "metadata": {},
     "source": [
      " * https://wiki.python.org/moin/Python2orPython3\n",
      " * https://docs.python.org/3/whatsnew/3.0.html"
     ]
    }
   ],
   "metadata": {}
  }
 ]
}