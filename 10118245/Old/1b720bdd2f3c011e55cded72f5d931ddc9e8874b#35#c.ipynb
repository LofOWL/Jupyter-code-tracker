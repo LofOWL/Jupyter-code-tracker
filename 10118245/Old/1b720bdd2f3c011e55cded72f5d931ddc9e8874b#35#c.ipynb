{
 "metadata": {
  "kernelspec": {
   "display_name": "Python 2", 
   "language": "python", 
   "name": "python2"
  }, 
  "name": "", 
  "notebookname": "Formatage de cha\u00eenes", 
  "version": "2.0"
 }, 
 "nbformat": 2, 
 "nbformat_minor": 0, 
 "orig_nbformat": 4, 
 "orig_nbformat_minor": 0, 
 "worksheets": [
  {
   "cells": [
    {
     "cell_type": "markdown", 
     "metadata": {}, 
     "source": [
      "<span style=\"float:left;\">Licence CC BY-NC-ND</span><span style=\"float:right;\">Thierry Parmentelat &amp; Arnaud Legout&nbsp;<img src=\"media/inria-25.png\" style=\"display:inline\"></span><br/>"
     ]
    }, 
    {
     "cell_type": "markdown", 
     "metadata": {}, 
     "source": [
      "# Formatage de cha\u00eenes de caract\u00e8res"
     ]
    }, 
    {
     "cell_type": "markdown", 
     "metadata": {}, 
     "source": [
      "## Compl\u00e9ment - niveau basique"
     ]
    }, 
    {
     "cell_type": "markdown", 
     "metadata": {}, 
     "source": [
      "On d\u00e9signe par formatage les outils qui permettent d'obtenir une pr\u00e9sentation fine des r\u00e9sultats, que ce soit pour am\u00e9liorer la lisibilit\u00e9 lorsqu'on s'adresse \u00e0 des humains, ou pour respecter la syntaxe d'un outil auquel on veut passer les donn\u00e9es pour un traitement ult\u00e9rieur."
     ]
    }, 
    {
     "cell_type": "markdown", 
     "metadata": {}, 
     "source": [
      "### L'instruction `print`"
     ]
    }, 
    {
     "cell_type": "markdown", 
     "metadata": {}, 
     "source": [
      "Nous avons jusqu'\u00e0 maintenant presque toujours utilis\u00e9 l'instruction `print` pour afficher nos r\u00e9sultats. Comme on l'a vu, celle-ci r\u00e9alise un formatage sommaire, en ceci qu'elle ins\u00e8re un espace entre les valeurs qui lui sont pass\u00e9es."
     ]
    }, 
    {
     "cell_type": "markdown", 
     "metadata": {}, 
     "source": [
      "La seule subtilit\u00e9 notable concernant `print` est que, si on termine l'instruction par une virgule, on \u00e9vite le saut de ligne qui est autrement ajout\u00e9 automatiquement"
     ]
    }, 
    {
     "cell_type": "code", 
     "collapsed": false, 
     "input": [
      "print \"une\", \"seule\", \"ligne\"", 
      "print \"une\", \"autre\",", 
      "print \"ligne\""
     ], 
     "language": "python", 
     "metadata": {}, 
     "outputs": [], 
     "prompt_number": null
    }, 
    {
     "cell_type": "markdown", 
     "metadata": {}, 
     "source": [
      "Il faut remarquer aussi que `print` est capable d'imprimer n'importe quel type d'objet; nous l'avons d\u00e9j\u00e0 fait avec les listes et les tuples, et nous verrons plus tard comment d\u00e9finir la pr\u00e9sentation \u00e0 utiliser lorsqu'on d\u00e9finit ses propres types."
     ]
    }, 
    {
     "cell_type": "code", 
     "collapsed": false, 
     "input": [
      "# on peut imprimer par exemple un objet 'module' ", 
      "import math", 
      "", 
      "print 'le module math est', math"
     ], 
     "language": "python", 
     "metadata": {}, 
     "outputs": [], 
     "prompt_number": null
    }, 
    {
     "cell_type": "code", 
     "collapsed": false, 
     "input": [
      "# ou une instance de classe (que nous verrons dans une semaine ult\u00e9rieure)", 
      "class Personne: ", 
      "    pass", 
      "", 
      "personne = Personne()", 
      "print personne"
     ], 
     "language": "python", 
     "metadata": {}, 
     "outputs": [], 
     "prompt_number": null
    }, 
    {
     "cell_type": "markdown", 
     "metadata": {}, 
     "source": [
      "### La m\u00e9thode `format`"
     ]
    }, 
    {
     "cell_type": "markdown", 
     "metadata": {}, 
     "source": [
      "On rencontre assez vite les limites de `print`. D'une part, il peut \u00eatre n\u00e9cessaire de formater une cha\u00eene de caract\u00e8res sans n\u00e9cessairement vouloir l'imprimer, ou en tous cas pas imm\u00e9diatement. D'autre part les espaces ajout\u00e9s peuvent \u00eatre plus n\u00e9fastes qu'utiles."
     ]
    }, 
    {
     "cell_type": "markdown", 
     "metadata": {}, 
     "source": [
      "On peut dans ces cas-l\u00e0 recourir \u00e0 la m\u00e9thode `format`, qui est d\u00e9finie sur les objets `str`, et qui s'utilise comme suit. Mais d\u00e9finissons d'abord quelques donn\u00e9es \u00e0 afficher."
     ]
    }, 
    {
     "cell_type": "code", 
     "collapsed": false, 
     "input": [
      "age = 35", 
      "nom = \"Lambert\"", 
      "prenom = \"Jacques\""
     ], 
     "language": "python", 
     "metadata": {}, 
     "outputs": [], 
     "prompt_number": null
    }, 
    {
     "cell_type": "markdown", 
     "metadata": {}, 
     "source": [
      "Nous avons choisi des objets simples, mais exactement comme avec `print`, `format` peut accepter n'importe quel type d'objet."
     ]
    }, 
    {
     "cell_type": "markdown", 
     "metadata": {}, 
     "source": [
      "On peut alors pr\u00e9parer une mise en forme de ces donn\u00e9es comme ceci"
     ]
    }, 
    {
     "cell_type": "code", 
     "collapsed": false, 
     "input": [
      "\"{}, {}, {}ans\".format(nom, prenom, age)"
     ], 
     "language": "python", 
     "metadata": {}, 
     "outputs": [], 
     "prompt_number": null
    }, 
    {
     "cell_type": "markdown", 
     "metadata": {}, 
     "source": [
      "Dans cet exemple le plus simple, les donn\u00e9es sont affich\u00e9es en lieu et place des `{}`, dans l'ordre o\u00f9 elles sont fournies. "
     ]
    }, 
    {
     "cell_type": "markdown", 
     "metadata": {}, 
     "source": [
      "Cela convient bien lorsqu'on a peu de donn\u00e9es; si par la suite on veut changer l'ordre par exemple des nom et pr\u00e9nom, on peut bien s\u00fbr \u00e9changer l'ordre des arguments pass\u00e9s \u00e0 format, ou encore utiliser la **liaison par position**, comme ceci&nbsp;:"
     ]
    }, 
    {
     "cell_type": "code", 
     "collapsed": false, 
     "input": [
      "\"{1}, {0}, {2}ans\".format(nom, prenom, age)"
     ], 
     "language": "python", 
     "metadata": {}, 
     "outputs": [], 
     "prompt_number": null
    }, 
    {
     "cell_type": "markdown", 
     "metadata": {}, 
     "source": [
      "Dans la pratique toutefois, cette forme est assez peu utile, on lui pr\u00e9f\u00e8re souvent la **liaison par nom** qui se pr\u00e9sente comme ceci"
     ]
    }, 
    {
     "cell_type": "code", 
     "collapsed": false, 
     "input": [
      "\"{le_prenom}, {le_nom}, {l_age}ans\".format(le_nom=nom, le_prenom=prenom, l_age=age)"
     ], 
     "language": "python", 
     "metadata": {}, 
     "outputs": [], 
     "prompt_number": null
    }, 
    {
     "cell_type": "markdown", 
     "metadata": {}, 
     "source": [
      "Dans ce premier exemple de liaison par nom, nous avons d\u00e9lib\u00e9r\u00e9ment utilis\u00e9 des noms diff\u00e9rents pour les donn\u00e9es externes et pour les noms apparaissant dans le format, pour bien illustrer comment la liaison est r\u00e9solue; mais on peut aussi bien faire tout simplement&nbsp;:"
     ]
    }, 
    {
     "cell_type": "code", 
     "collapsed": false, 
     "input": [
      "\"{prenom}, {nom}, {age}ans\".format(nom=nom, prenom=prenom, age=age)"
     ], 
     "language": "python", 
     "metadata": {}, 
     "outputs": [], 
     "prompt_number": null
    }, 
    {
     "cell_type": "markdown", 
     "metadata": {}, 
     "source": [
      "Il est possible de m\u00e9langer la liaison par position et la liaison par nom comme ceci&nbsp;:"
     ]
    }, 
    {
     "cell_type": "code", 
     "collapsed": false, 
     "input": [
      "\"{1}, {0}, {age}ans\".format(nom, prenom, age=age)"
     ], 
     "language": "python", 
     "metadata": {}, 
     "outputs": [], 
     "prompt_number": null
    }, 
    {
     "cell_type": "markdown", 
     "metadata": {}, 
     "source": [
      "avec la r\u00e9serve, toutefois que les arguments nomm\u00e9s (ceux avec un `=`) doivent appara\u00eetre **apr\u00e8s** les arguments li\u00e9s par position (ceux sans `=`); les raisons pour ceci vous appara\u00eetront clairement dans quelque temps; ainsi la forme suivante n'est pas accept\u00e9e&nbsp;:"
     ]
    }, 
    {
     "cell_type": "markdown", 
     "metadata": {}, 
     "source": [
      "    # il faut donner \u00e0 format les arguments sans noms", 
      "    # AVANT les arguments nomm\u00e9s ", 
      "    \"{1}, {0}, {age}ans\".format(age=age, nom, prenom)", 
      "    ", 
      "    File \"<ipython-input-46-9a8e8e541bf2>\", line 1", 
      "        \"{1}, {0}, {age}ans\".format(age=age, nom, prenom)", 
      "    SyntaxError: non-keyword arg after keyword arg"
     ]
    }, 
    {
     "cell_type": "markdown", 
     "metadata": {}, 
     "source": [
      "Voici qui conclut notre courte introduction \u00e0 la m\u00e9thode `format`, dont on rappelle toutefois pour \u00eatre bien clair qu'elle **ne r\u00e9alise pas d'impression**, il faut donc la coupler \u00e0 `print` si l'impression est souhait\u00e9e."
     ]
    }, 
    {
     "cell_type": "markdown", 
     "metadata": {}, 
     "source": [
      "## Compl\u00e9ment - niveau interm\u00e9diaire"
     ]
    }, 
    {
     "cell_type": "markdown", 
     "metadata": {}, 
     "source": [
      "### La version pr\u00e9c\u00e9dente du formatage : l'op\u00e9rateur `%`"
     ]
    }, 
    {
     "cell_type": "markdown", 
     "metadata": {}, 
     "source": [
      "`format` a \u00e9t\u00e9 en fait introduite relativement tardivement dans python, pour remplacer la technique que nous allons pr\u00e9senter maintenant. ", 
      "", 
      "Il est bien entendu conseill\u00e9 d'utiliser exclusivement `format` pour le code que vous \u00e9crirez, mais \u00e9tant donn\u00e9 le volume de code qui a \u00e9t\u00e9 \u00e9crit avec l'op\u00e9rateur `%`, il nous a sembl\u00e9 important d'introduire rapidement cette construction ici."
     ]
    }, 
    {
     "cell_type": "markdown", 
     "metadata": {}, 
     "source": [
      "Le principe de l'op\u00e9rateur % est le suivant. On \u00e9labore comme ci-dessus un \"format\" c'est-\u00e0-dire le patron de ce qui doit \u00eatre rendu, auquel on passe des arguments pour \"remplir\" les trous. Voyons les exemples de tout \u00e0 l'heure rendus avec l'op\u00e9rateur `%`"
     ]
    }, 
    {
     "cell_type": "code", 
     "collapsed": false, 
     "input": [
      "# l'ancienne fa\u00e7on de formatter les cha\u00eenes avec %", 
      "# est souvent moins lisible", 
      "\"%s, %s, %sans\" % (nom, prenom, age)"
     ], 
     "language": "python", 
     "metadata": {}, 
     "outputs": [], 
     "prompt_number": null
    }, 
    {
     "cell_type": "markdown", 
     "metadata": {}, 
     "source": [
      "Les personnes ayant \u00e9t\u00e9 expos\u00e9es \u00e0 C et C++ verront d'o\u00f9 venait cette conception des formats. Reconnaissons toutefois que le code en question n'est pas tr\u00e8s lisible, dans l'exemple ci-dessus on peut avoir du mal \u00e0 analyser le \"sans\" qui appara\u00eet comme un mot \u00e0 premi\u00e8re vue. ", 
      "", 
      "Quoi qu'il en soit, on pouvait \u00e9galement avec cet op\u00e9rateur recourir \u00e0 un m\u00e9canisme de liaison par nommage, en passant par un dictionnaire. Pour anticiper un tout petit peu sur cette notion que nous verrons tr\u00e8s bient\u00f4t, voici comment:"
     ]
    }, 
    {
     "cell_type": "code", 
     "collapsed": false, 
     "input": [
      "variables =  {'le_nom':nom, 'le_prenom': prenom, 'l_age':age}", 
      "\"%(le_nom)s, %(le_prenom)s, %(l_age)sans\" % variables"
     ], 
     "language": "python", 
     "metadata": {}, 
     "outputs": [], 
     "prompt_number": null
    }, 
    {
     "cell_type": "markdown", 
     "metadata": {}, 
     "source": [
      "## Compl\u00e9ment - niveau avanc\u00e9"
     ]
    }, 
    {
     "cell_type": "markdown", 
     "metadata": {}, 
     "source": [
      "De retour \u00e0 la fonction `format`, il arrive qu'on ait besoin de sp\u00e9cifier plus finement la fa\u00e7on dont une valeur doit \u00eatre affich\u00e9e."
     ]
    }, 
    {
     "cell_type": "markdown", 
     "metadata": {}, 
     "source": [
      "### Pr\u00e9cision des arrondis"
     ]
    }, 
    {
     "cell_type": "markdown", 
     "metadata": {}, 
     "source": [
      "C'est typiquement le cas avec les valeurs flottantes, pour lesquelles la pr\u00e9cision avec laquelle on les montre vient au d\u00e9triment de la lisibilit\u00e9. Voici deux formes \u00e9quivalentes pour obtenir une valeur de pi arrondie&nbsp;:"
     ]
    }, 
    {
     "cell_type": "code", 
     "collapsed": false, 
     "input": [
      "from math import pi"
     ], 
     "language": "python", 
     "metadata": {}, 
     "outputs": [], 
     "prompt_number": null
    }, 
    {
     "cell_type": "code", 
     "collapsed": false, 
     "input": [
      "# le plus simple", 
      "\"pi avec seulement 2 chiffres apres la virgule {:.2f}\"\\", 
      "    .format(pi)"
     ], 
     "language": "python", 
     "metadata": {}, 
     "outputs": [], 
     "prompt_number": null
    }, 
    {
     "cell_type": "code", 
     "collapsed": false, 
     "input": [
      "# liaison par nom", 
      "\"pi avec seulement 3 chiffres apres la virgule {flottant:.3f}\"\\", 
      "    .format(flottant=pi)"
     ], 
     "language": "python", 
     "metadata": {}, 
     "outputs": [], 
     "prompt_number": null
    }, 
    {
     "cell_type": "markdown", 
     "metadata": {}, 
     "source": [
      "### Largeur fixe"
     ]
    }, 
    {
     "cell_type": "markdown", 
     "metadata": {}, 
     "source": [
      "Dans certains cas on a besoin d'afficher des donn\u00e9es en colonnes de largeurs fixes; `format` permet de le faire, et de justifier la valeur \u00e0 droite ou \u00e0 gauche dans la largeur impartie, par exemple comme ceci&nbsp;:"
     ]
    }, 
    {
     "cell_type": "code", 
     "collapsed": false, 
     "input": [
      "# les donn\u00e9es \u00e0 afficher", 
      "comptes = [", 
      " ('Apollin', 'Dupont', 127),", 
      " ('Myrtille', 'Lamartine', 25432),", 
      " ('Prune', 'Soc', 827465),", 
      "]", 
      "", 
      "for prenom, nom, solde in comptes:", 
      "    print \"{prenom:<10} -- {nom:12} -- {solde:>8} \u20ac\"\\", 
      "        .format(prenom=prenom, nom=nom, solde=solde)"
     ], 
     "language": "python", 
     "metadata": {}, 
     "outputs": [], 
     "prompt_number": null
    }, 
    {
     "cell_type": "markdown", 
     "metadata": {}, 
     "source": [
      "### Voir aussi"
     ]
    }, 
    {
     "cell_type": "markdown", 
     "metadata": {}, 
     "source": [
      "Nous vous invitons \u00e0 vous reporter [\u00e0 la documentation de `format`](https://docs.python.org/2.7/library/string.html#formatstrings) pour plus de d\u00e9tails sur les formats disponibles, et notamment aux [nombreux exemples](https://docs.python.org/2.7/library/string.html#format-examples) qui y figurent."
     ]
    }
   ], 
   "metadata": {}
  }
 ]
}
