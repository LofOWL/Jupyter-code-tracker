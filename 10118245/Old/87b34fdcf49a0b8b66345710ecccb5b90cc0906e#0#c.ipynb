{
 "metadata": {
  "notebookname": "Surcharge op\u00e9rateurs (2)",
  "signature": "sha256:3d3856cc5dcea904f6a45b79cbcd65b2e823483739e14cb999a5ce1f5b6e5e25",
  "version": "1.0"
 },
 "nbformat": 3,
 "nbformat_minor": 0,
 "worksheets": [
  {
   "cells": [
    {
     "cell_type": "heading",
     "level": 1,
     "metadata": {},
     "source": [
      "Surcharge op\u00e9rateurs (2)"
     ]
    },
    {
     "cell_type": "heading",
     "level": 2,
     "metadata": {},
     "source": [
      "Compl\u00e9ment - niveau avanc\u00e9"
     ]
    },
    {
     "cell_type": "heading",
     "level": 3,
     "metadata": {},
     "source": [
      "`__contains__`, `__len__`, `__getitem__` et apparent\u00e9s"
     ]
    },
    {
     "cell_type": "markdown",
     "metadata": {},
     "source": [
      "La m\u00e9thode `__contains__` permet de donner un sens \u00e0&nbsp;:\n",
      "\n",
      "    item in objet\n",
      "    \n",
      "Sans grande surprise, elle prend en argument un objet et un item, et doit renvoyer un bool\u00e9en. Nous l'illustrons ci-dessous avec la classe `DualQueue`."
     ]
    },
    {
     "cell_type": "markdown",
     "metadata": {},
     "source": [
      "La m\u00e9thode `__len__` est utilis\u00e9e par la fonction *builtin* `len` pour retourner la longueur d'un objet. "
     ]
    },
    {
     "cell_type": "heading",
     "level": 5,
     "metadata": {},
     "source": [
      "La classe `DualQueue`"
     ]
    },
    {
     "cell_type": "markdown",
     "metadata": {},
     "source": [
      "Nous allons illustrer ceci avec un exemple de classe, un peu artificiel, qui impl\u00e9mente une queue de type FIFO. Les objets sont d'abord admis dans la file d'entr\u00e9e (`add_input`), puis d\u00e9plac\u00e9s dans la file de sortie (`move_input_to_output`), et enfin sortis (`emit_output`).\n",
      "\n",
      "Clairement, cet exemple est \u00e0 but uniquement p\u00e9dagogique; on veut montrer comment une impl\u00e9mentation qui repose sur deux listes s\u00e9par\u00e9es peut donner l'illusion d'une continuit\u00e9, et se pr\u00e9senter comme un container unique. De plus cette impl\u00e9mentation ne fait aucun contr\u00f4le pour ne pas obscurcir le code. "
     ]
    },
    {
     "cell_type": "code",
     "collapsed": false,
     "input": [
      "class DualQueue (object):\n",
      "    \"\"\"Une double file d'attente FIFO\"\"\"\n",
      "\n",
      "    def __init__(self):\n",
      "        \"constructeur, sans argument\"\n",
      "        self.inputs = []\n",
      "        self.outputs = []\n",
      "\n",
      "    def __repr__ (self):\n",
      "        \"affichage\"\n",
      "        return \"<DualQueue, inputs={inputs}, outputs={outputs}>\".format(**vars(self))\n",
      "\n",
      "    # la partie qui nous int\u00e9resse ici\n",
      "    def __contains__(self, item):\n",
      "        \"appartenance d'un objet \u00e0 la queue\"\n",
      "        return item in self.inputs or item in self.outputs\n",
      "    def __len__(self):\n",
      "        \"longueur de la queue\"\n",
      "        return len(self.inputs) + len(self.outputs)        \n",
      "\n",
      "    # l'interface publique de la classe\n",
      "    # le plus simple possible et sans aucun contr\u00f4le\n",
      "    def add_input(self, item):\n",
      "        \"faire entrer un objet dans la queue d'entr\u00e9e\"\n",
      "        self.inputs.insert(0,item)\n",
      "    def move_input_to_output (self):\n",
      "        \"l'objet le plus ancien de la queue d'entr\u00e9e est promu dans la queue de sortie\"\n",
      "        self.outputs.insert(0,self.inputs.pop())\n",
      "    def emit_output (self):\n",
      "        \"l'objet le plus ancien de la queue de sortie est \u00e9mis\"\n",
      "        return self.outputs.pop()    "
     ],
     "language": "python",
     "metadata": {},
     "outputs": []
    },
    {
     "cell_type": "code",
     "collapsed": false,
     "input": [
      "# on construit une instance pour nos essais\n",
      "queue = DualQueue ()\n",
      "queue.add_input ('zero')\n",
      "queue.add_input ('un')\n",
      "queue.move_input_to_output()\n",
      "queue.move_input_to_output()\n",
      "queue.add_input ('deux')\n",
      "queue.add_input ('trois')\n",
      "\n",
      "print queue"
     ],
     "language": "python",
     "metadata": {},
     "outputs": []
    },
    {
     "cell_type": "heading",
     "level": 5,
     "metadata": {},
     "source": [
      "Longueur et appartenance"
     ]
    },
    {
     "cell_type": "markdown",
     "metadata": {},
     "source": [
      "Avec cette premi\u00e8re version de la classe `DualQueue` on peut utiliser `len` et le test d'appartenance&nbsp;:"
     ]
    },
    {
     "cell_type": "code",
     "collapsed": false,
     "input": [
      "print 'len()',len(queue)\n",
      "\n",
      "print \"deux appartient-il ?\", 'deux' in queue\n",
      "print \"(1,) appartient-il ?\", (1,) in queue"
     ],
     "language": "python",
     "metadata": {},
     "outputs": []
    },
    {
     "cell_type": "heading",
     "level": 5,
     "metadata": {},
     "source": [
      "Acc\u00e8s s\u00e9quentiel"
     ]
    },
    {
     "cell_type": "markdown",
     "metadata": {},
     "source": [
      "Lorsqu'on a la notion de longueur de l'objet avec  `__len__`, il peut \u00eatre opportun -  quoique cela n'est pas impos\u00e9 par le langage, comme on vient de le voir - de proposer \u00e9galement un acc\u00e8s index\u00e9 par un entier pour pouvoir faire&nbsp;:\n",
      "\n",
      "    queue[1]\n",
      "    \n",
      "**Pour ne pas r\u00e9p\u00e9ter tout le code de la classe**, nous allons \u00e9tendre `DualQueue` avec la m\u00e9thode `__getitem__`, comme nous avons d\u00e9j\u00e0 eu l'occasion de le faire&nbsp;:"
     ]
    },
    {
     "cell_type": "code",
     "collapsed": false,
     "input": [
      "# on d\u00e9finit une fonction\n",
      "def dual_queue_getitem (self, index):\n",
      "    \"red\u00e9finit l'acc\u00e8s [] s\u00e9quentiel\"\n",
      "\n",
      "    # on v\u00e9rifie que l'index a un sens\n",
      "    if index < 0 or index >= len(self):\n",
      "        raise IndexError(\"Mauvais indice {} pour DualQueue\".format(index))\n",
      "    # on d\u00e9cide que l'index 0 correspond \u00e0 l'\u00e9l\u00e9ment le plus ancien\n",
      "    # ce qui oblige \u00e0 une petite gymnastique\n",
      "    li = len(self.inputs)\n",
      "    lo = len(self.outputs)\n",
      "    if index < lo:\n",
      "        return self.outputs[lo-index-1]\n",
      "    else:\n",
      "        return self.inputs[li-(index-lo)-1]\n",
      "\n",
      "# et on affecte cette fonction \u00e0 l'int\u00e9rieur de la classe\n",
      "DualQueue.__getitem__ = dual_queue_getitem"
     ],
     "language": "python",
     "metadata": {},
     "outputs": []
    },
    {
     "cell_type": "markdown",
     "metadata": {},
     "source": [
      "\u00c0 pr\u00e9sent, on peut **acc\u00e9der** aux objets de la queue **s\u00e9quentiellement**&nbsp;:"
     ]
    },
    {
     "cell_type": "code",
     "collapsed": false,
     "input": [
      "print queue[0]"
     ],
     "language": "python",
     "metadata": {},
     "outputs": []
    },
    {
     "cell_type": "markdown",
     "metadata": {},
     "source": [
      "ce qui l\u00e8ve la m\u00eame exception qu'avec une vraie liste si on utilise un mauvais index&nbsp;:"
     ]
    },
    {
     "cell_type": "code",
     "collapsed": false,
     "input": [
      "try:\n",
      "    print queue[5]\n",
      "except IndexError as e:\n",
      "    print 'ERREUR',e"
     ],
     "language": "python",
     "metadata": {},
     "outputs": []
    },
    {
     "cell_type": "heading",
     "level": 5,
     "metadata": {},
     "source": [
      "Am\u00e9lioration : acc\u00e8s par slice"
     ]
    },
    {
     "cell_type": "markdown",
     "metadata": {},
     "source": [
      "Si on veut aussi supporter l'acc\u00e8s par slice comme ceci&nbsp;:\n",
      "\n",
      "    queue[1:3]\n",
      "    \n",
      "il nous faut modifier la m\u00e9thode `__getitem__`. "
     ]
    },
    {
     "cell_type": "markdown",
     "metadata": {},
     "source": [
      "Le second argument de `__getitem__` correspond naturellement au contenu des crochets `[]`, on utilise donc `isinstance` pour \u00e9crire un code qui s'adapte au type d'indexation, comme ceci&nbsp;:"
     ]
    },
    {
     "cell_type": "code",
     "collapsed": false,
     "input": [
      "def dual_queue_getitem (self, key):\n",
      "    \"red\u00e9finit l'acc\u00e8s par [] pour entiers, slices, et autres\"\n",
      "\n",
      "    # l'acc\u00e8s par slice queue[1:3] \n",
      "    # nous donne pour key un objet de type slice\n",
      "    if isinstance(key, slice):\n",
      "        # key.indices donne les indices qui vont bien\n",
      "        return [self[index] for index in xrange(*key.indices(len(self)))]\n",
      "\n",
      "    # queue[3] nous donne pour key un entier\n",
      "    elif isinstance(key, int):\n",
      "        index = key\n",
      "        # on v\u00e9rifie que l'index a un sens\n",
      "        if index < 0 or index >= len(self):\n",
      "            raise IndexError(\"Mauvais indice {} pour DualQueue\".format(index))\n",
      "        # on d\u00e9cide que l'index 0 correspond \u00e0 l'\u00e9l\u00e9ment le plus ancien\n",
      "        # ce qui oblige \u00e0 une petite gymnastique\n",
      "        li = len(self.inputs)\n",
      "        lo = len(self.outputs)\n",
      "        if index < lo:\n",
      "            return self.outputs[lo-index-1]\n",
      "        else:\n",
      "            return self.inputs[li-(index-lo)-1]\n",
      "    # queue ['foo'] n'a pas de sens pour nous\n",
      "    else:\n",
      "        raise KeyError(\"[] avec type non reconnu {}\".format(type(key)))\n",
      "\n",
      "# et on affecte cette fonction \u00e0 l'int\u00e9rieur de la classe\n",
      "DualQueue.__getitem__ = dual_queue_getitem"
     ],
     "language": "python",
     "metadata": {},
     "outputs": []
    },
    {
     "cell_type": "markdown",
     "metadata": {},
     "source": [
      "Maintenant on peut acc\u00e9der par slice"
     ]
    },
    {
     "cell_type": "code",
     "collapsed": false,
     "input": [
      "queue[1:3]"
     ],
     "language": "python",
     "metadata": {},
     "outputs": []
    },
    {
     "cell_type": "markdown",
     "metadata": {},
     "source": [
      "Et on re\u00e7oit bien une exception si on essaie d'acc\u00e9der par cl\u00e9&nbsp;:"
     ]
    },
    {
     "cell_type": "code",
     "collapsed": false,
     "input": [
      "try:\n",
      "    queue['key']\n",
      "except KeyError as e:\n",
      "    print \"On ne peut pas acc\u00e9der par cl\u00e9\",e"
     ],
     "language": "python",
     "metadata": {},
     "outputs": []
    },
    {
     "cell_type": "heading",
     "level": 5,
     "metadata": {},
     "source": [
      "L'objet est it\u00e9rable (m\u00eame sans avoir `__iter__`)"
     ]
    },
    {
     "cell_type": "markdown",
     "metadata": {},
     "source": [
      "Avec seulement `__len__` et `__getitem__`, on peut **faire une boucle** sur l'objet queue. On l'a mentionn\u00e9 rapidement dans la s\u00e9quence sur les it\u00e9rateurs, mais la **m\u00e9thode `__iter__` n'est pas la seule fa\u00e7on** de rendre un objet it\u00e9rable&nbsp;:"
     ]
    },
    {
     "cell_type": "code",
     "collapsed": false,
     "input": [
      "for item in queue:\n",
      "   print item"
     ],
     "language": "python",
     "metadata": {},
     "outputs": []
    },
    {
     "cell_type": "heading",
     "level": 5,
     "metadata": {},
     "source": [
      "On peut faire un test sur l'objet"
     ]
    },
    {
     "cell_type": "markdown",
     "metadata": {},
     "source": [
      "De mani\u00e8re similaire, m\u00eame sans la m\u00e9thode `__nonzero__`, cette classe sait **faire des tests de mani\u00e8re correcte** gr\u00e2ce uniquement \u00e0 la m\u00e9thode `__len__`&nbsp;:"
     ]
    },
    {
     "cell_type": "code",
     "collapsed": false,
     "input": [
      "# un test fait directement sur la queue\n",
      "if queue:\n",
      "    print \"La queue {} est consid\u00e9r\u00e9e comme True\".format(queue)\n",
      "\n",
      "# on vide la queue pour tester sur une queue vide\n",
      "for i in range(2):\n",
      "    queue.move_input_to_output()\n",
      "for i in range(4):\n",
      "    queue.emit_output()\n",
      "\n",
      "# maintenant le test est n\u00e9gatif (notez bien le *not* ici)\n",
      "if not queue:\n",
      "    print \"La queue {} est consid\u00e9r\u00e9e comme False\".format(queue)"
     ],
     "language": "python",
     "metadata": {},
     "outputs": []
    },
    {
     "cell_type": "markdown",
     "metadata": {},
     "source": [
      "***"
     ]
    },
    {
     "cell_type": "heading",
     "level": 3,
     "metadata": {},
     "source": [
      "`__call__` et les *callables*"
     ]
    },
    {
     "cell_type": "markdown",
     "metadata": {},
     "source": [
      "Le langage introduit de mani\u00e8re similaire la notion de ***callable*** - litt\u00e9ralement, qui peut \u00eatre appel\u00e9.\n",
      "L'id\u00e9e est tr\u00e8s simple, on cherche \u00e0 donner un sens \u00e0 un fragment de code du genre de&nbsp;:"
     ]
    },
    {
     "cell_type": "raw",
     "metadata": {},
     "source": [
      "# on cr\u00e9e une instance\n",
      "objet = Classe(arguments)\n",
      "\n",
      "# et c'est l'objet (et pas la classe) qu'on utilise comme une fonction\n",
      "objet(arg1, arg2)"
     ]
    },
    {
     "cell_type": "markdown",
     "metadata": {},
     "source": [
      "Le protocole ici est tr\u00e8s simple; cette derni\u00e8re ligne a un sens en python d\u00e8s lors que&nbsp;:\n",
      " * `objet` poss\u00e8de une m\u00e9thode `__call__`,\n",
      " * et que celle-ci peut \u00eatre envoy\u00e9e \u00e0 `objet` avec les arguments `arg1, arg2`, pour nous donner le r\u00e9sultat qui sera retourn\u00e9 par `objet(arg1, arg2)`.\n",
      "\n",
      "    objet(arg1, arg2) $\\rightarrow$ objet.`__call__`(arg1, arg2)"
     ]
    },
    {
     "cell_type": "markdown",
     "metadata": {},
     "source": [
      "Voyons cela sur un exemple&nbsp;:"
     ]
    },
    {
     "cell_type": "code",
     "collapsed": false,
     "input": [
      "class PlusClosure (object):\n",
      "    \"\"\"Une classe callable qui permet de faire un peu comme la \n",
      "    fonction built-in sum mais avec en ajoutant une valeur initiale\"\"\"\n",
      "    def __init__ (self, initial):\n",
      "        self.initial = initial\n",
      "    def __call__ (self, *args):\n",
      "        return self.initial+sum(args)\n",
      "    \n",
      "# on cr\u00e9e une instance avec une valeur initiale 2 pour la somme\n",
      "plus2 = PlusClosure (2)\n",
      "\n",
      "# on peut maintenant utiliser cet objet \n",
      "# comme une fonction qui fait sum(*arg)+2\n",
      "\n",
      "print '[] ->', plus2()\n",
      "\n",
      "print '1 ->', plus2(1)\n",
      "\n",
      "print '1,2 ->', plus2(1,2)"
     ],
     "language": "python",
     "metadata": {},
     "outputs": []
    },
    {
     "cell_type": "markdown",
     "metadata": {},
     "source": [
      "Pour ceux qui connaissent, nous avons choisi \u00e0 dessein un exemple qui s'apparente \u00e0 [une cl\u00f4ture](http://en.wikipedia.org/wiki/Closure_%28computer_programming%29). Nous reviendrons sur cette notion de *callable* lorsque nous verrons les d\u00e9corateurs en semaine 7. "
     ]
    },
    {
     "cell_type": "markdown",
     "metadata": {},
     "source": [
      "***"
     ]
    },
    {
     "cell_type": "heading",
     "level": 3,
     "metadata": {},
     "source": [
      "`__getattr__` et apparent\u00e9s"
     ]
    },
    {
     "cell_type": "markdown",
     "metadata": {},
     "source": [
      "Avec la m\u00e9thode `__getattr__`, on peut red\u00e9finir la fa\u00e7on que le langage a d'\u00e9valuer\n",
      "\n",
      "    objet.attribut"
     ]
    },
    {
     "cell_type": "markdown",
     "metadata": {},
     "source": [
      "**Avertissement:** on a vu dans la s\u00e9quence consacr\u00e9e \u00e0 l'h\u00e9ritage que, pour l'essentiel, le m\u00e9canisme d'h\u00e9ritage repose pr\u00e9cis\u00e9ment sur la fa\u00e7on "
     ]
    }
   ],
   "metadata": {}
  }
 ]
}