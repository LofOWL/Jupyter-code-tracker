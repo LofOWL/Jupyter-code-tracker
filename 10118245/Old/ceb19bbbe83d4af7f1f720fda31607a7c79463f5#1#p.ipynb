{
 "metadata": {
  "kernelspec": {
   "display_name": "Python 2", 
   "language": "python", 
   "name": "python2"
  }, 
  "language_info": {
   "codemirror_mode": {
    "name": "ipython", 
    "version": 2
   }, 
   "file_extension": ".py", 
   "mimetype": "text/x-python", 
   "name": "python", 
   "nbconvert_exporter": "python", 
   "pygments_lexer": "ipython2", 
   "version": "2.7.12"
  }, 
  "name": "", 
  "notebookname": "Surcharge op. (2)", 
  "version": "2.0"
 }, 
 "nbformat": 2, 
 "nbformat_minor": 0, 
 "orig_nbformat": 4, 
 "orig_nbformat_minor": 1, 
 "worksheets": [
  {
   "cells": [
    {
     "cell_type": "markdown", 
     "metadata": {}, 
     "source": [
      "<span style=\"float:left;\">Licence CC BY-NC-ND</span><span style=\"float:right;\">Thierry Parmentelat &amp; Arnaud Legout&nbsp;<img src=\"media/inria-25.png\" style=\"display:inline\"></span><br/>"
     ]
    }, 
    {
     "cell_type": "markdown", 
     "metadata": {}, 
     "source": [
      "# Surcharge op\u00e9rateurs (2)"
     ]
    }, 
    {
     "cell_type": "markdown", 
     "metadata": {}, 
     "source": [
      "## Compl\u00e9ment - niveau avanc\u00e9"
     ]
    }, 
    {
     "cell_type": "markdown", 
     "metadata": {}, 
     "source": [
      "Nous poursuivons dans ce compl\u00e9ment la s\u00e9lection de m\u00e9thodes sp\u00e9ciales entreprise en premi\u00e8re partie."
     ]
    }, 
    {
     "cell_type": "markdown", 
     "metadata": {}, 
     "source": [
      "***"
     ]
    }, 
    {
     "cell_type": "markdown", 
     "metadata": {}, 
     "source": [
      "### `__contains__`, `__len__`, `__getitem__` et apparent\u00e9s"
     ]
    }, 
    {
     "cell_type": "markdown", 
     "metadata": {}, 
     "source": [
      "La m\u00e9thode `__contains__` permet de donner un sens \u00e0&nbsp;:", 
      "", 
      "    item in objet", 
      "    ", 
      "Sans grande surprise, elle prend en argument un objet et un item, et doit renvoyer un bool\u00e9en. Nous l'illustrons ci-dessous avec la classe `DualQueue`."
     ]
    }, 
    {
     "cell_type": "markdown", 
     "metadata": {}, 
     "source": [
      "La m\u00e9thode `__len__` est utilis\u00e9e par la fonction *builtin* `len` pour retourner la longueur d'un objet. "
     ]
    }, 
    {
     "cell_type": "markdown", 
     "metadata": {}, 
     "source": [
      "##### La classe `DualQueue`"
     ]
    }, 
    {
     "cell_type": "markdown", 
     "metadata": {}, 
     "source": [
      "Nous allons illustrer ceci avec un exemple de classe, un peu artificiel, qui impl\u00e9mente une queue de type FIFO. Les objets sont d'abord admis dans la file d'entr\u00e9e (`add_input`), puis d\u00e9plac\u00e9s dans la file de sortie (`move_input_to_output`), et enfin sortis (`emit_output`).", 
      "", 
      "Clairement, cet exemple est \u00e0 but uniquement p\u00e9dagogique; on veut montrer comment une impl\u00e9mentation qui repose sur deux listes s\u00e9par\u00e9es peut donner l'illusion d'une continuit\u00e9, et se pr\u00e9senter comme un container unique. De plus cette impl\u00e9mentation ne fait aucun contr\u00f4le pour ne pas obscurcir le code. "
     ]
    }, 
    {
     "cell_type": "code", 
     "collapsed": false, 
     "input": [
      "class DualQueue (object):", 
      "    \"\"\"Une double file d'attente FIFO\"\"\"", 
      "", 
      "    def __init__(self):", 
      "        \"constructeur, sans argument\"", 
      "        self.inputs = []", 
      "        self.outputs = []", 
      "", 
      "    def __repr__ (self):", 
      "        \"affichage\"", 
      "        return \"<DualQueue, inputs={inputs}, outputs={outputs}>\".format(**vars(self))", 
      "", 
      "    # la partie qui nous int\u00e9resse ici", 
      "    def __contains__(self, item):", 
      "        \"appartenance d'un objet \u00e0 la queue\"", 
      "        return item in self.inputs or item in self.outputs", 
      "    def __len__(self):", 
      "        \"longueur de la queue\"", 
      "        return len(self.inputs) + len(self.outputs)        ", 
      "", 
      "    # l'interface publique de la classe", 
      "    # le plus simple possible et sans aucun contr\u00f4le", 
      "    def add_input(self, item):", 
      "        \"faire entrer un objet dans la queue d'entr\u00e9e\"", 
      "        self.inputs.insert(0,item)", 
      "    def move_input_to_output (self):", 
      "        \"l'objet le plus ancien de la queue d'entr\u00e9e est promu dans la queue de sortie\"", 
      "        self.outputs.insert(0,self.inputs.pop())", 
      "    def emit_output (self):", 
      "        \"l'objet le plus ancien de la queue de sortie est \u00e9mis\"", 
      "        return self.outputs.pop()    "
     ], 
     "language": "python", 
     "metadata": {}, 
     "outputs": [], 
     "prompt_number": null
    }, 
    {
     "cell_type": "code", 
     "collapsed": false, 
     "input": [
      "# on construit une instance pour nos essais", 
      "queue = DualQueue ()", 
      "queue.add_input ('zero')", 
      "queue.add_input ('un')", 
      "queue.move_input_to_output()", 
      "queue.move_input_to_output()", 
      "queue.add_input ('deux')", 
      "queue.add_input ('trois')", 
      "", 
      "print queue"
     ], 
     "language": "python", 
     "metadata": {}, 
     "outputs": [], 
     "prompt_number": null
    }, 
    {
     "cell_type": "markdown", 
     "metadata": {}, 
     "source": [
      "##### Longueur et appartenance"
     ]
    }, 
    {
     "cell_type": "markdown", 
     "metadata": {}, 
     "source": [
      "Avec cette premi\u00e8re version de la classe `DualQueue` on peut utiliser `len` et le test d'appartenance&nbsp;:"
     ]
    }, 
    {
     "cell_type": "code", 
     "collapsed": false, 
     "input": [
      "print 'len()',len(queue)", 
      "", 
      "print \"deux appartient-il ?\", 'deux' in queue", 
      "print \"(1,) appartient-il ?\", (1,) in queue"
     ], 
     "language": "python", 
     "metadata": {}, 
     "outputs": [], 
     "prompt_number": null
    }, 
    {
     "cell_type": "markdown", 
     "metadata": {}, 
     "source": [
      "##### Acc\u00e8s s\u00e9quentiel (acc\u00e8s par un index entier)"
     ]
    }, 
    {
     "cell_type": "markdown", 
     "metadata": {}, 
     "source": [
      "Lorsqu'on a la notion de longueur de l'objet avec  `__len__`, il peut \u00eatre opportun -  quoique cela n'est pas impos\u00e9 par le langage, comme on vient de le voir - de proposer \u00e9galement un acc\u00e8s index\u00e9 par un entier pour pouvoir faire&nbsp;:", 
      "", 
      "    queue[1]", 
      "    ", 
      "**Pour ne pas r\u00e9p\u00e9ter tout le code de la classe**, nous allons \u00e9tendre `DualQueue`; pour cela nous d\u00e9finissons une fonction, que nous affectons ensuite \u00e0 `DualQueue.__getitem__`, comme nous avons d\u00e9j\u00e0 eu l'occasion de le faire&nbsp;:"
     ]
    }, 
    {
     "cell_type": "code", 
     "collapsed": false, 
     "input": [
      "# une premi\u00e8re version de DualQueue.__getitem__", 
      "# pour uniquement l'acc\u00e8s par index", 
      "", 
      "# on d\u00e9finit une fonction", 
      "def dual_queue_getitem (self, index):", 
      "    \"red\u00e9finit l'acc\u00e8s [] s\u00e9quentiel\"", 
      "", 
      "    # on v\u00e9rifie que l'index a un sens", 
      "    if index < 0 or index >= len(self):", 
      "        raise IndexError(\"Mauvais indice {} pour DualQueue\".format(index))", 
      "    # on d\u00e9cide que l'index 0 correspond \u00e0 l'\u00e9l\u00e9ment le plus ancien", 
      "    # ce qui oblige \u00e0 une petite gymnastique", 
      "    li = len(self.inputs)", 
      "    lo = len(self.outputs)", 
      "    if index < lo:", 
      "        return self.outputs[lo-index-1]", 
      "    else:", 
      "        return self.inputs[li-(index-lo)-1]", 
      "", 
      "# et on affecte cette fonction \u00e0 l'int\u00e9rieur de la classe", 
      "DualQueue.__getitem__ = dual_queue_getitem"
     ], 
     "language": "python", 
     "metadata": {}, 
     "outputs": [], 
     "prompt_number": null
    }, 
    {
     "cell_type": "markdown", 
     "metadata": {}, 
     "source": [
      "\u00c0 pr\u00e9sent, on peut **acc\u00e9der** aux objets de la queue **s\u00e9quentiellement**&nbsp;:"
     ]
    }, 
    {
     "cell_type": "code", 
     "collapsed": false, 
     "input": [
      "print queue[0]"
     ], 
     "language": "python", 
     "metadata": {}, 
     "outputs": [], 
     "prompt_number": null
    }, 
    {
     "cell_type": "markdown", 
     "metadata": {}, 
     "source": [
      "ce qui l\u00e8ve la m\u00eame exception qu'avec une vraie liste si on utilise un mauvais index&nbsp;:"
     ]
    }, 
    {
     "cell_type": "code", 
     "collapsed": false, 
     "input": [
      "try:", 
      "    print queue[5]", 
      "except IndexError as e:", 
      "    print 'ERREUR',e"
     ], 
     "language": "python", 
     "metadata": {}, 
     "outputs": [], 
     "prompt_number": null
    }, 
    {
     "cell_type": "markdown", 
     "metadata": {}, 
     "source": [
      "##### Am\u00e9lioration : acc\u00e8s par slice"
     ]
    }, 
    {
     "cell_type": "markdown", 
     "metadata": {}, 
     "source": [
      "Si on veut aussi supporter l'acc\u00e8s par slice comme ceci&nbsp;:", 
      "", 
      "    queue[1:3]", 
      "    ", 
      "il nous faut modifier la m\u00e9thode `__getitem__`. "
     ]
    }, 
    {
     "cell_type": "markdown", 
     "metadata": {}, 
     "source": [
      "Le second argument de `__getitem__` correspond naturellement au contenu des crochets `[]`, on utilise donc `isinstance` pour \u00e9crire un code qui s'adapte au type d'indexation, comme ceci&nbsp;:"
     ]
    }, 
    {
     "cell_type": "code", 
     "collapsed": false, 
     "input": [
      "# une deuxi\u00e8me version de DualQueue.__getitem__", 
      "# pour l'acc\u00e8s par index ou par slice", 
      "", 
      "def dual_queue_getitem (self, key):", 
      "    \"red\u00e9finit l'acc\u00e8s par [] pour entiers, slices, et autres\"", 
      "", 
      "    # l'acc\u00e8s par slice queue[1:3] ", 
      "    # nous donne pour key un objet de type slice", 
      "    if isinstance(key, slice):", 
      "        # key.indices donne les indices qui vont bien", 
      "        return [self[index] for index in xrange(*key.indices(len(self)))]", 
      "", 
      "    # queue[3] nous donne pour key un entier", 
      "    elif isinstance(key, int):", 
      "        index = key", 
      "        # on v\u00e9rifie que l'index a un sens", 
      "        if index < 0 or index >= len(self):", 
      "            raise IndexError(\"Mauvais indice {} pour DualQueue\".format(index))", 
      "        # on d\u00e9cide que l'index 0 correspond \u00e0 l'\u00e9l\u00e9ment le plus ancien", 
      "        # ce qui oblige \u00e0 une petite gymnastique", 
      "        li = len(self.inputs)", 
      "        lo = len(self.outputs)", 
      "        if index < lo:", 
      "            return self.outputs[lo-index-1]", 
      "        else:", 
      "            return self.inputs[li-(index-lo)-1]", 
      "    # queue ['foo'] n'a pas de sens pour nous", 
      "    else:", 
      "        raise KeyError(\"[] avec type non reconnu {}\".format(type(key)))", 
      "", 
      "# et on affecte cette fonction \u00e0 l'int\u00e9rieur de la classe", 
      "DualQueue.__getitem__ = dual_queue_getitem"
     ], 
     "language": "python", 
     "metadata": {}, 
     "outputs": [], 
     "prompt_number": null
    }, 
    {
     "cell_type": "markdown", 
     "metadata": {}, 
     "source": [
      "Maintenant on peut acc\u00e9der par slice"
     ]
    }, 
    {
     "cell_type": "code", 
     "collapsed": false, 
     "input": [
      "queue[1:3]"
     ], 
     "language": "python", 
     "metadata": {}, 
     "outputs": [], 
     "prompt_number": null
    }, 
    {
     "cell_type": "markdown", 
     "metadata": {}, 
     "source": [
      "Et on re\u00e7oit bien une exception si on essaie d'acc\u00e9der par cl\u00e9&nbsp;:"
     ]
    }, 
    {
     "cell_type": "code", 
     "collapsed": false, 
     "input": [
      "try:", 
      "    queue['key']", 
      "except KeyError as e:", 
      "    print \"On ne peut pas acc\u00e9der par cl\u00e9\",e"
     ], 
     "language": "python", 
     "metadata": {}, 
     "outputs": [], 
     "prompt_number": null
    }, 
    {
     "cell_type": "markdown", 
     "metadata": {}, 
     "source": [
      "##### L'objet est it\u00e9rable (m\u00eame sans avoir `__iter__`)"
     ]
    }, 
    {
     "cell_type": "markdown", 
     "metadata": {}, 
     "source": [
      "Avec seulement `__getitem__`, on peut **faire une boucle** sur l'objet queue. On l'a mentionn\u00e9 rapidement dans la s\u00e9quence sur les it\u00e9rateurs, mais la **m\u00e9thode `__iter__` n'est pas la seule fa\u00e7on** de rendre un objet it\u00e9rable&nbsp;:"
     ]
    }, 
    {
     "cell_type": "code", 
     "collapsed": false, 
     "input": [
      "for item in queue:", 
      "   print item"
     ], 
     "language": "python", 
     "metadata": {}, 
     "outputs": [], 
     "prompt_number": null
    }, 
    {
     "cell_type": "markdown", 
     "metadata": {}, 
     "source": [
      "##### On peut faire un test sur l'objet"
     ]
    }, 
    {
     "cell_type": "markdown", 
     "metadata": {}, 
     "source": [
      "De mani\u00e8re similaire, m\u00eame sans la m\u00e9thode `__nonzero__`, cette classe sait **faire des tests de mani\u00e8re correcte** gr\u00e2ce uniquement \u00e0 la m\u00e9thode `__len__`&nbsp;:"
     ]
    }, 
    {
     "cell_type": "code", 
     "collapsed": false, 
     "input": [
      "# un test fait directement sur la queue", 
      "if queue:", 
      "    print \"La queue {} est consid\u00e9r\u00e9e comme True\".format(queue)", 
      "", 
      "# on vide la queue pour tester sur une queue vide", 
      "for i in range(2):", 
      "    queue.move_input_to_output()", 
      "for i in range(4):", 
      "    queue.emit_output()", 
      "", 
      "# maintenant le test est n\u00e9gatif (notez bien le *not* ici)", 
      "if not queue:", 
      "    print \"La queue {} est consid\u00e9r\u00e9e comme False\".format(queue)"
     ], 
     "language": "python", 
     "metadata": {}, 
     "outputs": [], 
     "prompt_number": null
    }, 
    {
     "cell_type": "markdown", 
     "metadata": {}, 
     "source": [
      "***"
     ]
    }, 
    {
     "cell_type": "markdown", 
     "metadata": {}, 
     "source": [
      "### `__call__` et les *callables*"
     ]
    }, 
    {
     "cell_type": "markdown", 
     "metadata": {}, 
     "source": [
      "Le langage introduit de mani\u00e8re similaire la notion de ***callable*** - litt\u00e9ralement, qui peut \u00eatre appel\u00e9.", 
      "L'id\u00e9e est tr\u00e8s simple, on cherche \u00e0 donner un sens \u00e0 un fragment de code du genre de&nbsp;:"
     ]
    }, 
    {
     "cell_type": "markdown", 
     "metadata": {}, 
     "source": [
      "    # on cr\u00e9e une instance", 
      "    objet = Classe(arguments)", 
      "    ", 
      "    # et c'est l'objet (et pas la classe) qu'on utilise comme une fonction", 
      "    objet(arg1, arg2)"
     ]
    }, 
    {
     "cell_type": "markdown", 
     "metadata": {}, 
     "source": [
      "Le protocole ici est tr\u00e8s simple; cette derni\u00e8re ligne a un sens en python d\u00e8s lors que&nbsp;:", 
      " * `objet` poss\u00e8de une m\u00e9thode `__call__`,", 
      " * et que celle-ci peut \u00eatre envoy\u00e9e \u00e0 `objet` avec les arguments `arg1, arg2`, pour nous donner le r\u00e9sultat qui sera retourn\u00e9 par `objet(arg1, arg2)`."
     ]
    }, 
    {
     "cell_type": "markdown", 
     "metadata": {}, 
     "source": [
      "    objet(arg1, arg2)   ===>   objet.__call__(arg1, arg2)"
     ]
    }, 
    {
     "cell_type": "markdown", 
     "metadata": {}, 
     "source": [
      "Voyons cela sur un exemple&nbsp;:"
     ]
    }, 
    {
     "cell_type": "code", 
     "collapsed": false, 
     "input": [
      "class PlusClosure (object):", 
      "    \"\"\"Une classe callable qui permet de faire un peu comme la ", 
      "    fonction built-in sum mais en ajoutant une valeur initiale\"\"\"", 
      "    def __init__(self, initial):", 
      "        self.initial = initial", 
      "    def __call__(self, *args):", 
      "        return self.initial + sum(args)", 
      "    ", 
      "# on cr\u00e9e une instance avec une valeur initiale 2 pour la somme", 
      "plus2 = PlusClosure (2)"
     ], 
     "language": "python", 
     "metadata": {}, 
     "outputs": [], 
     "prompt_number": null
    }, 
    {
     "cell_type": "code", 
     "collapsed": false, 
     "input": [
      "# on peut maintenant utiliser cet objet ", 
      "# comme une fonction qui fait sum(*arg)+2", 
      "", 
      "print '[] ->', plus2()", 
      "", 
      "print '1 ->', plus2(1)", 
      "", 
      "print '1,2 ->', plus2(1, 2)"
     ], 
     "language": "python", 
     "metadata": {}, 
     "outputs": [], 
     "prompt_number": null
    }, 
    {
     "cell_type": "markdown", 
     "metadata": {}, 
     "source": [
      "Pour ceux qui connaissent, nous avons choisi \u00e0 dessein un exemple qui s'apparente \u00e0 [une cl\u00f4ture](http://en.wikipedia.org/wiki/Closure_%28computer_programming%29). Nous reviendrons sur cette notion de *callable* lorsque nous verrons les d\u00e9corateurs en semaine 7. "
     ]
    }, 
    {
     "cell_type": "markdown", 
     "metadata": {}, 
     "source": [
      "***"
     ]
    }, 
    {
     "cell_type": "markdown", 
     "metadata": {}, 
     "source": [
      "### `__getattr__` et apparent\u00e9s"
     ]
    }, 
    {
     "cell_type": "markdown", 
     "metadata": {}, 
     "source": [
      "Dans cette derni\u00e8re partie nous allons voir comment avec la m\u00e9thode `__getattr__`, on peut red\u00e9finir la fa\u00e7on que le langage a d'\u00e9valuer", 
      "", 
      "    objet.attribut"
     ]
    }, 
    {
     "cell_type": "markdown", 
     "metadata": {}, 
     "source": [
      "**Avertissement:** on a vu dans la s\u00e9quence consacr\u00e9e \u00e0 l'h\u00e9ritage que, pour l'essentiel, le m\u00e9canisme d'h\u00e9ritage repose **pr\u00e9cis\u00e9ment** sur la fa\u00e7on d'\u00e9valuer les attributs d'un objet, aussi nous vous recommandons d'utiliser ce trait avec pr\u00e9caution, car il vous donne la possibilit\u00e9 de \"faire muter le langage\" comme on dit."
     ]
    }, 
    {
     "cell_type": "markdown", 
     "metadata": {}, 
     "source": [
      "##### Un exemple : la classe `RPCProxy`"
     ]
    }, 
    {
     "cell_type": "markdown", 
     "metadata": {}, 
     "source": [
      "Pour illustrer `__getattr__`, nous allons consid\u00e9rer le probl\u00e8me suivant. Une application utilise un service distant, avec laquelle elle interagit au travers d'une API.", 
      "", 
      "C'est une situation tr\u00e8s fr\u00e9quente: lorsqu'on utilise un service m\u00e9t\u00e9o, ou de g\u00e9olocalisation, ou de r\u00e9servation, le prestataire vous propose une **API** (Application Programming Interface) qui se pr\u00e9sente bien souvent comme une **liste de fonctions**, que votre fonction peut appeler \u00e0 distance au travers d'un m\u00e9canisme de **RPC** (Remote Procedure Call).", 
      "", 
      "Imaginez pour fixer les id\u00e9es que vous utilisez un service de r\u00e9servation de ressources dans un Cloud, qui vous permet d'appeler les fonctions suivantes&nbsp;:", 
      " * `GetNodes`(...) pour obtenir des informations sur les noeuds disponibles,", 
      " * `BookNode`(...) pour r\u00e9server un noeud,", 
      " * `ReleaseNode`(...) pour abandonner un noeud."
     ]
    }, 
    {
     "cell_type": "markdown", 
     "metadata": {}, 
     "source": [
      "Naturellement ceci est une API extr\u00eamement simplifi\u00e9e. Le point que nous voulons illustrer ici est que le dialogue avec le service distant&nbsp;:", 
      " * requiert ses propres donn\u00e9es - comme l'URL o\u00f9 on peut joindre le service, et les identifiants \u00e0 utiliser pour s'authentifier,", 
      " * et poss\u00e8de sa propre logique - dans le cas d'une authentification par session par exemple, il faut s'authentifier une premi\u00e8re fois avec un login/password, pour obtenir une session qu'on peut utiliser dans les appels suivants."
     ]
    }, 
    {
     "cell_type": "markdown", 
     "metadata": {}, 
     "source": [
      "Pour ces raisons il est naturel de concevoir une classe `RPCProxy` dans laquelle on va rassembler \u00e0 la fois ces donn\u00e9es et cette logique, pour soulager toute l'application de ces d\u00e9tails, comme on l'a illustr\u00e9 ci-dessous&nbsp;:", 
      "", 
      "<img src=\"media/rpcproxy.png\">"
     ]
    }, 
    {
     "cell_type": "markdown", 
     "metadata": {}, 
     "source": [
      "Pour impl\u00e9menter la plomberie li\u00e9e \u00e0 RPC, \u00e0 l'encodage et d\u00e9codage des donn\u00e9es, et qui sera interne \u00e0 la classe `RPCProxy`, on pourra en vraie grandeur utiliser des outils comme&nbsp;:", 
      " * [`xmlrpclib`](https://docs.python.org/2/library/xmlrpclib.html) qui fait partie de la librairie standard, ", 
      " * ou pour JSON, une des nombreuses impl\u00e9mentations qu'un moteur de recherche vous exposera si vous cherchez `python rpc json`, comme par exemple [`json-rpc`](https://pypi.python.org/pypi/json-rpc/)", 
      "", 
      "Cela n'est toutefois pas notre sujet ici, et nous nous contenterons, dans notre code simplifi\u00e9, d'imprimer un message."
     ]
    }, 
    {
     "cell_type": "markdown", 
     "metadata": {}, 
     "source": [
      "##### Une approche na\u00efve"
     ]
    }, 
    {
     "cell_type": "markdown", 
     "metadata": {}, 
     "source": [
      "Se pose donc la question de savoir quelle interface la classe `RPCProxy` doit offrir au reste du monde. Dans une premi\u00e8re version na\u00efve on pourrait \u00e9crire quelque chose comme&nbsp;:"
     ]
    }, 
    {
     "cell_type": "code", 
     "collapsed": false, 
     "input": [
      "# la version na\u00efve de la classe RPCProxy", 
      "", 
      "class RPCProxy(object):", 
      "    ", 
      "    def __init__(self, url, login, password):", 
      "        self.url = url", 
      "        self.login = login", 
      "        self.password = password", 
      "        ", 
      "    def _forward_call(self, function, *args):", 
      "        \"\"\"", 
      "        helper method that marshalls and forwards ", 
      "        the function and arguments to the remote end", 
      "        \"\"\"", 
      "        print \"Envoi \u00e0 {}\\nde la fonction {} -- args= {}\".\\", 
      "            format(self.url, function, args)", 
      "        return \"retour de la fonction \" + function", 
      "    ", 
      "    def GetNodes (self, *args):", 
      "        return self._forward_call ('GetNodes', *args)", 
      "    def BookNode (self, *args):", 
      "        return self._forward_call ('BookNode', *args)", 
      "    def ReleaseNode (self, *args):", 
      "        return self._forward_call ('ReleaseNode', *args)", 
      "        "
     ], 
     "language": "python", 
     "metadata": {}, 
     "outputs": [], 
     "prompt_number": null
    }, 
    {
     "cell_type": "markdown", 
     "metadata": {}, 
     "source": [
      "Ainsi l'application utilise la classe de cette fa\u00e7on&nbsp;:"
     ]
    }, 
    {
     "cell_type": "code", 
     "collapsed": false, 
     "input": [
      "# cr\u00e9ation d'une instance de RPCProxy", 
      "", 
      "rpc_proxy = RPCProxy (url='http://cloud.provider.com/JSONAPI', ", 
      "                      login='dupont',", 
      "                      password='***')", 
      "", 
      "# cette partie du code, en tant qu'utilisateur de l'API, ", 
      "# est suppos\u00e9e conna\u00eetre les d\u00e9tails", 
      "# des arguments \u00e0 passer ", 
      "# et de comment utiliser les valeurs de retour", 
      "nodes_list = rpc_proxy.GetNodes ( ", 
      "    [ ('phy_mem', '>=', '32G') ] )", 
      "", 
      "# reserver un noeud", 
      "node_lease = rpc_proxy.BookNode (", 
      "    { 'id' : 1002, 'phy_mem' : '32G' } )"
     ], 
     "language": "python", 
     "metadata": {}, 
     "outputs": [], 
     "prompt_number": null
    }, 
    {
     "cell_type": "markdown", 
     "metadata": {}, 
     "source": [
      "##### Discussion"
     ]
    }, 
    {
     "cell_type": "markdown", 
     "metadata": {}, 
     "source": [
      "Quelques commentaires en vrac au sujet de cette approche&nbsp;:", 
      "", 
      " * l'interface est correcte; l'objet `rcp_proxy` se comporte bien comme un proxy, on a donn\u00e9 au programmeur l'illusion compl\u00e8te qu'il utilise une classe locale (sauf pour les performances bien entendu...);", 
      " * la s\u00e9paration des r\u00f4les est raisonnable \u00e9galement, la classe RPCProxy n'a pas \u00e0 conna\u00eetre le d\u00e9tail de la signature de chaque m\u00e9thode, charge \u00e0 l'appelant d'utiliser l'API correctement;", 
      " * par contre ce qui cloche, c'est que l'impl\u00e9mentation de la classe RPCProxy d\u00e9pend de la liste des fonctions expos\u00e9es par l'API; imaginez une API avec 100 ou 200 m\u00e9thodes, cela donne une d\u00e9pendance assez forte et surtout inutile;", 
      "", 
      " * enfin, nous avons escamot\u00e9 la n\u00e9cessit\u00e9 de faire de RPCProxy un [singleton](http://en.wikipedia.org/wiki/Singleton_pattern), mais c'est une toute autre histoire."
     ]
    }, 
    {
     "cell_type": "markdown", 
     "metadata": {}, 
     "source": [
      "##### Une approche plus subtile"
     ]
    }, 
    {
     "cell_type": "markdown", 
     "metadata": {}, 
     "source": [
      "Pour obtenir une impl\u00e9mentation qui conserve toutes les qualit\u00e9s de la version na\u00efve, mais sans la n\u00e9cessit\u00e9 de d\u00e9finir une \u00e0 une toutes les fonctions de l'API, on peut tirer profit de `__getattr__`, comme dans cette deuxi\u00e8me version&nbsp;:"
     ]
    }, 
    {
     "cell_type": "code", 
     "collapsed": false, 
     "input": [
      "# une deuxi\u00e8me impl\u00e9mentation de RPCProxy", 
      "", 
      "class RPCProxy(object):", 
      "    ", 
      "    def __init__(self, url, login, password):", 
      "        self.url = url", 
      "        self.login = login", 
      "        self.password = password", 
      "        ", 
      "    def __getattr__(self, function):", 
      "        \"\"\"", 
      "        Cr\u00e9e \u00e0 la vol\u00e9e une m\u00e9thode sur RPCProxy qui correspond", 
      "        \u00e0 la fonction distante 'function'", 
      "        \"\"\"", 
      "        def forwarder(*args):", 
      "            print \"Envoi \u00e0 {}\\nde la fonction {} -- args= {}\".\\", 
      "                format(self.url, function, args)", 
      "            return \"retour de la fonction \" + function", 
      "        return forwarder"
     ], 
     "language": "python", 
     "metadata": {}, 
     "outputs": [], 
     "prompt_number": null
    }, 
    {
     "cell_type": "markdown", 
     "metadata": {}, 
     "source": [
      "Qui est cette fois **totalement d\u00e9coupl\u00e9e** des d\u00e9tails de l'API, et qu'on peut utiliser exactement comme tout \u00e0 l'heure&nbsp;:"
     ]
    }, 
    {
     "cell_type": "code", 
     "collapsed": false, 
     "input": [
      "# cr\u00e9ation d'une instance de RPCProxy", 
      "", 
      "rpc_proxy = RPCProxy (url='http://cloud.provider.com/JSONAPI', ", 
      "                      login='dupont',", 
      "                      password='***')", 
      "", 
      "# cette partie du code, en tant qu'utilisateur de l'API, ", 
      "# est suppos\u00e9e conna\u00eetre les d\u00e9tails", 
      "# des arguments \u00e0 passer ", 
      "# et de comment utiliser les valeurs de retour", 
      "nodes_list = rpc_proxy.GetNodes ( ", 
      "    [ ('phy_mem', '>=', '32G') ] )", 
      "", 
      "# reserver un noeud", 
      "node_lease = rpc_proxy.BookNode (", 
      "    { 'id' : 1002, 'phy_mem' : '32G' } )"
     ], 
     "language": "python", 
     "metadata": {}, 
     "outputs": [], 
     "prompt_number": null
    }, 
    {
     "cell_type": "markdown", 
     "metadata": {}, 
     "source": [
      "##### Exercice"
     ]
    }, 
    {
     "cell_type": "markdown", 
     "metadata": {}, 
     "source": [
      "Les \u00e9tudiants courageux et/ou inspir\u00e9s peuvent s'amuser \u00e0 reprendre cette derni\u00e8re version de `RPCProxy`, mais en utilisant une classe de **callables** comme une *factory* pour g\u00e9n\u00e9rer les attributs."
     ]
    }, 
    {
     "cell_type": "code", 
     "collapsed": false, 
     "input": [
      "# une troisi\u00e8me impl\u00e9mentation de RPCProxy", 
      "", 
      "class Callable:", 
      "    \"votre code\"", 
      "", 
      "class RPCProxy(object):", 
      "    ", 
      "    def __init__(self, url, login, password):", 
      "        self.url = url", 
      "        self.login = login", 
      "        self.password = password", 
      "        ", 
      "    def __getattr__ (self, function):", 
      "        \"votre code\""
     ], 
     "language": "python", 
     "metadata": {}, 
     "outputs": [], 
     "prompt_number": null
    }, 
    {
     "cell_type": "markdown", 
     "metadata": {}, 
     "source": [
      "Nous ne proposons pas de correction en ligne mais vous pouvez simplement \u00e9valuer le m\u00eame code&nbsp;:"
     ]
    }, 
    {
     "cell_type": "code", 
     "collapsed": false, 
     "input": [
      "# cr\u00e9ation d'une instance de RPCProxy", 
      "", 
      "rpc_proxy = RPCProxy (url='http://cloud.provider.com/JSONAPI', ", 
      "                      login='dupont',", 
      "                      password='***')", 
      "", 
      "# cette partie du code, en tant qu'utilisateur de l'API, ", 
      "# est suppos\u00e9e conna\u00eetre les d\u00e9tails", 
      "# des arguments \u00e0 passer ", 
      "# et de comment utiliser les valeurs de retour", 
      "nodes_list = rpc_proxy.GetNodes ( ", 
      "    [ ('phy_mem', '>=', '32G') ] )", 
      "", 
      "# reserver un noeud", 
      "node_lease = rpc_proxy.BookNode (", 
      "    { 'id' : 1002, 'phy_mem' : '32G' } )"
     ], 
     "language": "python", 
     "metadata": {}, 
     "outputs": [], 
     "prompt_number": null
    }
   ], 
   "metadata": {}
  }
 ]
}
