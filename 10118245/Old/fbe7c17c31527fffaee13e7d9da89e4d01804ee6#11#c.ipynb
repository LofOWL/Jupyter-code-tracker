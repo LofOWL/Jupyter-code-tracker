{
 "cells": [
  {
   "cell_type": "markdown",
   "metadata": {},
   "source": [
    "<span style=\"float:left;\">Licence CC BY-NC-ND</span><span style=\"float:right;\">Thierry Parmentelat &amp; Arnaud Legout&nbsp;<img src=\"media/inria-25.png\" style=\"display:inline\"></span><br/>"
   ]
  },
  {
   "cell_type": "markdown",
   "metadata": {},
   "source": [
    "# `print` entre python2 et python3"
   ]
  },
  {
   "cell_type": "markdown",
   "metadata": {},
   "source": [
    "## Complément - niveau avancé"
   ]
  },
  {
   "cell_type": "markdown",
   "metadata": {},
   "source": [
    "Ce complément est destiné aux étudiants qui seraient amenés à écrire du code pour python2 **et** python3, notamment vis-à-vis de `print`."
   ]
  },
  {
   "cell_type": "markdown",
   "metadata": {},
   "source": [
    "**Notez bien** que les différences entre python2 et python3 ne se limitent pas à `print`. "
   ]
  },
  {
   "cell_type": "markdown",
   "metadata": {},
   "source": [
    "N'hésitez pas à passer ce complément si vous n'êtes pas concerné par ce sujet."
   ]
  },
  {
   "cell_type": "markdown",
   "metadata": {},
   "source": [
    "### Les comportements de `print`"
   ]
  },
  {
   "cell_type": "markdown",
   "metadata": {},
   "source": [
    "Après ce préambule, sachez que la différence la plus visible entre python2 et python3, est certainement avec `print` - en tous cas dans des tutos où il est difficile de s'en passer, car dans la vraie vie on n'utilise pas si souvent `print`..."
   ]
  },
  {
   "cell_type": "markdown",
   "metadata": {},
   "source": [
    "##### python3"
   ]
  },
  {
   "cell_type": "markdown",
   "metadata": {},
   "source": [
    "En python-3, `print` est une **fonction** (et donc une **expression**):"
   ]
  },
  {
   "cell_type": "code",
   "execution_count": null,
   "metadata": {},
   "outputs": [],
   "source": [
    "# affichons le numéro de version de notre python\n",
    "import sys\n",
    "major, minor, *_ = sys.version_info\n",
    "print(\"ce notebooke est en python:\", major, \".\", minor)"
   ]
  },
  {
   "cell_type": "markdown",
   "metadata": {},
   "source": [
    "##### python2"
   ]
  },
  {
   "cell_type": "markdown",
   "metadata": {},
   "source": [
    "En python-2 au contraire, `print` est une **instruction**, on n'a pas besoin de mettre de parenthèses:"
   ]
  },
  {
   "cell_type": "code",
   "execution_count": null,
   "metadata": {},
   "outputs": [],
   "source": [
    "%%python2\n",
    "import sys\n",
    "major, minor = sys.version_info[0], sys.version_info[1]\n",
    "print \"cette cellule est en\", major, \".\", minor "
   ]
  },
  {
   "cell_type": "markdown",
   "metadata": {},
   "source": [
    "### Compatibilité avec `__future__`"
   ]
  },
  {
   "cell_type": "markdown",
   "metadata": {},
   "source": [
    "Il existe en python-2 une couche de compatibilité, le module `__future__`, dont le but est de gommer les différences entre les deux versions. Ainsi si vous le souhaitez vous pouvez écrire du code python-2 qui \"voit\" `print` comme une fonction en important ceci"
   ]
  },
  {
   "cell_type": "markdown",
   "metadata": {},
   "source": [
    "```\n",
    "# ceci fonctionne dans les deux langages\n",
    "from __future__ import print_function\n",
    "```"
   ]
  },
  {
   "cell_type": "markdown",
   "metadata": {},
   "source": [
    "Après quoi vous pouver utilisez `print` en python-2 comme si vous écriviez du python-3"
   ]
  },
  {
   "cell_type": "markdown",
   "metadata": {},
   "source": [
    "    >>> import sys\n",
    "    >>> sys.version\n",
    "    '2.7.8 (default, Jul 13 2014, 17:11:32) \\n[GCC 4.2.1 Compatible Apple LLVM 5.1 (clang-503.0.40)]'\n",
    "    >>>\n",
    "    >>> from __future__ import print_function\n",
    "    >>>\n",
    "    >>> print(\"Hello\",\"World\")\n",
    "    Hello World"
   ]
  },
  {
   "cell_type": "markdown",
   "metadata": {},
   "source": [
    "### Remarque"
   ]
  },
  {
   "cell_type": "markdown",
   "metadata": {},
   "source": [
    "Si vous utilisez python-2 et que **vous ne mentionnez pas cet import**, vous pouvez avoir l'**impression** qu'il est inutile:"
   ]
  },
  {
   "cell_type": "code",
   "execution_count": null,
   "metadata": {},
   "outputs": [],
   "source": [
    "%%python2\n",
    "print(\"Hello\")"
   ]
  },
  {
   "cell_type": "markdown",
   "metadata": {},
   "source": [
    "**Mais attention:** en fait ce qui se passe ici, c'est que les parenthèses sont considérées dans leur rôle habituel de groupement dans les expressions; cela rejoint la discussion que l'on aura sur les tuples; en fait les parenthèses ne jouent aucun rôle ici, exactement comme dans"
   ]
  },
  {
   "cell_type": "code",
   "execution_count": null,
   "metadata": {},
   "outputs": [],
   "source": [
    "('Hello')"
   ]
  },
  {
   "cell_type": "markdown",
   "metadata": {},
   "source": [
    "Si bien qu'avec plusieurs arguments - ou plus exactement, avec l'**illusion** d'appeler `print` avec plusieurs arguments:"
   ]
  },
  {
   "cell_type": "code",
   "execution_count": null,
   "metadata": {},
   "outputs": [],
   "source": [
    "%%python2\n",
    "print(\"Hello\", \"World\")"
   ]
  },
  {
   "cell_type": "markdown",
   "metadata": {},
   "source": [
    "les parenthèses présentes dans la sortie vous indiquent qu'en fait on a construit un objet qui est **un tuple**, et qu'on l'a passé à l'**instruction** `print`."
   ]
  },
  {
   "cell_type": "markdown",
   "metadata": {},
   "source": [
    "Une fois l'import chargé, tout fonctionne vraiment comme en python3"
   ]
  },
  {
   "cell_type": "code",
   "execution_count": null,
   "metadata": {},
   "outputs": [],
   "source": [
    "%%python2\n",
    "from __future__ import print_function\n",
    "\n",
    "print(\"Hello\", \"World\")"
   ]
  },
  {
   "cell_type": "markdown",
   "metadata": {},
   "source": [
    "Tout ceci sera plus clair après le chapitre sur les tuples, en Semaine 2 - Séquence 5 \"Les tuples et la virgule terminale\"."
   ]
  }
 ],
 "metadata": {
  "kernelspec": {
   "display_name": "Python 3",
   "language": "python",
   "name": "python3"
  },
  "language_info": {
   "codemirror_mode": {
    "name": "ipython",
    "version": 3
   },
   "file_extension": ".py",
   "mimetype": "text/x-python",
   "name": "python",
   "nbconvert_exporter": "python",
   "pygments_lexer": "ipython3",
   "version": "3.5.1"
  },
  "notebookname": "print en python-2 et -3",
  "version": "2.0"
 },
 "nbformat": 4,
 "nbformat_minor": 1
}