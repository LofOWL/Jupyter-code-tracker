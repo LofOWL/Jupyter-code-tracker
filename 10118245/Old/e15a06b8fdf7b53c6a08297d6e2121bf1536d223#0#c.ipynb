{
 "metadata": {
  "notebookname": "exo. classes",
  "signature": "sha256:2baa8c3a81a01f1a065b1a0f913585a2185827fbe5e615204ca4c0af12f0167f",
  "version": "1.0"
 },
 "nbformat": 3,
 "nbformat_minor": 0,
 "worksheets": [
  {
   "cells": [
    {
     "cell_type": "heading",
     "level": 1,
     "metadata": {},
     "source": [
      "exo. classes"
     ]
    }
   ],
   "metadata": {}
  }
 ]
}