{
 "metadata": {
  "kernelspec": {
   "display_name": "Python 2", 
   "language": "python", 
   "name": "python2"
  }, 
  "name": "", 
  "notebookname": "Ensembles", 
  "version": "2.0"
 }, 
 "nbformat": 2, 
 "nbformat_minor": 0, 
 "orig_nbformat": 4, 
 "orig_nbformat_minor": 0, 
 "worksheets": [
  {
   "cells": [
    {
     "cell_type": "markdown", 
     "metadata": {}, 
     "source": [
      "<span style=\"float:left;\">Licence CC BY-NC-ND</span><span style=\"float:right;\">Thierry Parmentelat &amp; Arnaud Legout,<img src=\"media/inria-25.png\" style=\"display:inline\"></span><br/>"
     ]
    }, 
    {
     "cell_type": "markdown", 
     "metadata": {}, 
     "source": [
      "# Exercice sur les ensembles"
     ]
    }, 
    {
     "cell_type": "markdown", 
     "metadata": {}, 
     "source": [
      "## Exercice - niveau interm\u00e9diaire"
     ]
    }, 
    {
     "cell_type": "code", 
     "collapsed": false, 
     "input": [
      "# chargement de l'exercice", 
      "from corrections.w3s3_marine_set import exo_diff"
     ], 
     "language": "python", 
     "metadata": {}, 
     "outputs": [], 
     "prompt_number": null
    }, 
    {
     "cell_type": "markdown", 
     "metadata": {}, 
     "source": [
      "### Les donn\u00e9es"
     ]
    }, 
    {
     "cell_type": "markdown", 
     "metadata": {}, 
     "source": [
      "Nous reprenons le m\u00eame genre de donn\u00e9es marines en provenance de MarineTraffic que nous avons vues dans l'exercice pr\u00e9c\u00e9dent."
     ]
    }, 
    {
     "cell_type": "code", 
     "collapsed": false, 
     "input": [
      "from corrections.w3s3_marine_set import abbreviated, extended"
     ], 
     "language": "python", 
     "metadata": {}, 
     "outputs": [], 
     "prompt_number": null
    }, 
    {
     "cell_type": "markdown", 
     "metadata": {}, 
     "source": [
      "### Rappels sur les formats"
     ]
    }, 
    {
     "cell_type": "markdown", 
     "metadata": {}, 
     "source": [
      "    \u00e9tendu: [id, latitude, longitude, date_heure, ", 
      "             nom_bateau, code_pays...]", 
      "    abr\u00e9g\u00e9: [id, latitude, longitude, date_heure]"
     ]
    }, 
    {
     "cell_type": "code", 
     "collapsed": false, 
     "input": [
      "print extended[0]"
     ], 
     "language": "python", 
     "metadata": {}, 
     "outputs": [], 
     "prompt_number": null
    }, 
    {
     "cell_type": "code", 
     "collapsed": false, 
     "input": [
      "print abbreviated[0]"
     ], 
     "language": "python", 
     "metadata": {}, 
     "outputs": [], 
     "prompt_number": null
    }, 
    {
     "cell_type": "markdown", 
     "metadata": {}, 
     "source": [
      "### But de l'exercice"
     ]
    }, 
    {
     "cell_type": "code", 
     "collapsed": false, 
     "input": [
      "# chargement de l'exercice", 
      "from corrections.w3s3_marine_set import exo_diff"
     ], 
     "language": "python", 
     "metadata": {}, 
     "outputs": [], 
     "prompt_number": null
    }, 
    {
     "cell_type": "markdown", 
     "metadata": {}, 
     "source": [
      "Notez bien une diff\u00e9rence importante avec l'exercice pr\u00e9c\u00e9dent: cette fois **il n'y a plus correspondance** entre les bateaux rapport\u00e9s dans les donn\u00e9es \u00e9tendues et abr\u00e9g\u00e9es. ", 
      "", 
      "Le but de l'exercice est pr\u00e9cis\u00e9ment d'\u00e9tudier la diff\u00e9rence, et pour cela on vous demande d'\u00e9crire une fonction ", 
      "", 
      "    diff(extended, abbreviated)", 
      "", 
      "qui retourne un tuple \u00e0 trois \u00e9l\u00e9ments", 
      " * l'ensemble (`set`) des **noms** des bateaux pr\u00e9sents dans `extended` mais pas dans `abbreviated`", 
      " * l'ensemble des **noms** des bateaux pr\u00e9sents dans `extended` et dans `abbreviated`", 
      " * l'ensemble des **id** des bateaux pr\u00e9sents dans `abbreviated`", 
      " mais pas dans `extended` (par construction, les donn\u00e9es ne nous permettent pas d'obtenir les noms de ces bateaux)"
     ]
    }, 
    {
     "cell_type": "code", 
     "collapsed": false, 
     "input": [
      "# le r\u00e9sultat attendu", 
      "result = exo_diff.resultat(extended, abbreviated)", 
      "", 
      "# combien de bateaux sont concern\u00e9s", 
      "def show_result(extended, abbreviated, result):", 
      "    \"\"\"", 
      "    Affiche divers d\u00e9comptes sur les arguments", 
      "    en entr\u00e9e et en sortie de diff", 
      "    \"\"\"", 
      "    print 10*'-', \"Les entr\u00e9es\"", 
      "    print \"Dans extended: {} entr\u00e9es\".format(len(extended))", 
      "    print \"Dans abbreviated: {} entr\u00e9es\".format(len(abbreviated))", 
      "    print 10*'-', \"Le r\u00e9sultat du diff\"", 
      "    extended_only, both, abbreviated_only = result", 
      "    print 'Dans extended mais pas dans abbreviated', len(extended_only)", 
      "    print 'Dans les deux', len(both)", 
      "    print 'Dans abbreviated mais pas dans extended', len(abbreviated_only)", 
      "", 
      "show_result(extended, abbreviated, result)"
     ], 
     "language": "python", 
     "metadata": {}, 
     "outputs": [], 
     "prompt_number": null
    }, 
    {
     "cell_type": "markdown", 
     "metadata": {}, 
     "source": [
      "### Votre code"
     ]
    }, 
    {
     "cell_type": "code", 
     "collapsed": false, 
     "input": [
      "def diff(extended, abbreviated):", 
      "    \"<votre_code>\""
     ], 
     "language": "python", 
     "metadata": {}, 
     "outputs": [], 
     "prompt_number": null
    }, 
    {
     "cell_type": "markdown", 
     "metadata": {}, 
     "source": [
      "### Validation"
     ]
    }, 
    {
     "cell_type": "code", 
     "collapsed": false, 
     "input": [
      "exo_diff.correction(diff, extended, abbreviated)"
     ], 
     "language": "python", 
     "metadata": {}, 
     "outputs": [], 
     "prompt_number": null
    }, 
    {
     "cell_type": "markdown", 
     "metadata": {}, 
     "source": [
      "### Des fichiers de donn\u00e9es plus r\u00e9alistes"
     ]
    }, 
    {
     "cell_type": "markdown", 
     "metadata": {}, 
     "source": [
      "Comme pour l'exercice pr\u00e9c\u00e9dent, les donn\u00e9es fournies ici sont tr\u00e8s simplistes; vous pouvez si vous le voulez essayer votre code avec des donn\u00e9es (un peu) plus r\u00e9alistes en chargeant des fichiers de donn\u00e9es plus complets&nbsp;:", 
      "", 
      " * [data/marine-e2-ext.json](data/marine-e2-ext.json)", 
      " * [data/marine-e2-abb.json](data/marine-e2-abb.json)", 
      "", 
      "Ce qui donnerait en python&nbsp;:"
     ]
    }, 
    {
     "cell_type": "code", 
     "collapsed": false, 
     "input": [
      "# load data from files", 
      "import json", 
      "", 
      "with open(\"data/marine-e2-ext.json\") as feed:", 
      "    extended_full = json.load(feed)", 
      "    ", 
      "with open(\"data/marine-e2-abb.json\") as feed:", 
      "    abbreviated_full = json.load(feed)"
     ], 
     "language": "python", 
     "metadata": {}, 
     "outputs": [], 
     "prompt_number": null
    }, 
    {
     "cell_type": "code", 
     "collapsed": false, 
     "input": [
      "# le r\u00e9sultat de votre fonction sur des donn\u00e9es plus vastes", 
      "diff_full = diff(extended_full, abbreviated_full)", 
      "show_result(extended_full, abbreviated_full, diff_full)"
     ], 
     "language": "python", 
     "metadata": {}, 
     "outputs": [], 
     "prompt_number": null
    }, 
    {
     "cell_type": "markdown", 
     "metadata": {}, 
     "source": [
      "Je signale enfin \u00e0 propos de ces donn\u00e9es plus compl\u00e8tes que&nbsp;:", 
      "  * on a supprim\u00e9 les entr\u00e9es correspondants \u00e0 des bateaux diff\u00e9rents mais de m\u00eame nom; cette situation peut arriver dans la r\u00e9alit\u00e9 (c'est pourquoi d'ailleurs les bateaux ont un *id*) mais ici ce n'est pas le cas.", 
      "  * il se peut par contre qu'un m\u00eame bateau fasse l'objet de plusieurs mesures dans `extended` et/ou dans `abbreviated`."
     ]
    }
   ], 
   "metadata": {}
  }
 ]
}
