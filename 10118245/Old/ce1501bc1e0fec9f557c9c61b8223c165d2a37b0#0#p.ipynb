{
 "metadata": {
  "notebookname": "Surcharge op\u00e9rateurs (1)",
  "signature": "sha256:9adffd54b0fbdc29f0cfb735f933d0454b80d01e05d15a53e222c3cefed55b0e",
  "version": "1.0"
 },
 "nbformat": 3,
 "nbformat_minor": 0,
 "worksheets": [
  {
   "cells": [
    {
     "cell_type": "heading",
     "level": 1,
     "metadata": {},
     "source": [
      "Surcharge d'op\u00e9rateurs (1)"
     ]
    },
    {
     "cell_type": "heading",
     "level": 2,
     "metadata": {},
     "source": [
      "Compl\u00e9ment - niveau interm\u00e9diaire"
     ]
    },
    {
     "cell_type": "markdown",
     "metadata": {},
     "source": [
      "Ce compl\u00e9ment vise \u00e0 illustrer certaines des possibilit\u00e9s de surcharge d'op\u00e9rateurs, ou plus g\u00e9n\u00e9ralement les m\u00e9canismes disponibles pour \u00e9tendre le langage et donner un sens \u00e0 des fragments de code comme&nbsp;:\n",
      " * `objet1 + objet2`\n",
      " * `item in objet`\n",
      " * `objet[key]`\n",
      " * `objet.key`\n",
      " * `for i in objet:`\n",
      " * `if objet:`\n",
      " * `objet (arg1, arg2)`  (et non pas `classe(arg1,arg2)`)\n",
      " * etc..\n",
      "\n",
      "que jusqu'ici on n'a expliqu\u00e9 que pour des objets de type pr\u00e9d\u00e9fini - sauf pour la boucle `for`, rappelez-vous de la m\u00e9thode `__iter__()` que l'on a vu \u00e0 propos des iterables en fin de Semaine 3."
     ]
    },
    {
     "cell_type": "markdown",
     "metadata": {},
     "source": [
      "Le m\u00e9canisme g\u00e9n\u00e9ral pour cela consiste \u00e0 d\u00e9finir des **m\u00e9thodes sp\u00e9ciales**, avec un nom en `__nom__`. Comme annonc\u00e9 dans la vid\u00e9o, il existe un total de pr\u00e8s de 80 m\u00e9thodes dans ce syst\u00e8me de surcharges, aussi il n'est pas question ici d'\u00eatre exhaustif. Vous trouverez [dans ce document une liste compl\u00e8te de ces possibilit\u00e9s](http://docs.python.org/2/reference/datamodel.html#special-method-names).\n",
      "\n",
      "Il nous faut \u00e9galement signaler que les m\u00e9canismes mis en jeu ici sont **de difficult\u00e9s assez variables**. Dans le cas le plus simple il suffit de d\u00e9finir une m\u00e9thode sur la classe pour obtenir le r\u00e9sultat (par exemple, d\u00e9finir `__call__` pour rendre un objet callable). Mais parfois on parle d'un ensemble de m\u00e9thodes qui doivent \u00eatre coh\u00e9rentes, voyez par exemple les [descriptors](https://docs.python.org/2/reference/datamodel.html#invoking-descriptors) qui mettent en jeu les m\u00e9thodes `__get__`, `__set__` et `__delete__`, et qui sont particuli\u00e8rement cryptiques. \n",
      "\n",
      "Nous vous conseillons de commencer par des choses simples, et surtout de n'utiliser ces techniques que lorsqu'elles apportent vraiment quelque chose. Le constructeur et l'affichage sont pratiquement toujours d\u00e9finis, mais pour tout le reste il convient d'utiliser ces traits avec le plus grand discernement. Dans tous les cas \u00e9crivez votre code avec la documentation sous les yeux, c'est plus prudent :)"
     ]
    },
    {
     "cell_type": "markdown",
     "metadata": {},
     "source": [
      "Nous avons essay\u00e9 de pr\u00e9senter cette s\u00e9lection par difficult\u00e9 croissante. \n",
      "Par ailleurs, et pour all\u00e9ger la pr\u00e9sentation, cet expos\u00e9 a \u00e9t\u00e9 coup\u00e9 en deux notebooks diff\u00e9rents."
     ]
    },
    {
     "cell_type": "markdown",
     "metadata": {},
     "source": [
      "*****"
     ]
    },
    {
     "cell_type": "heading",
     "level": 3,
     "metadata": {},
     "source": [
      "Rappels (1)"
     ]
    },
    {
     "cell_type": "markdown",
     "metadata": {},
     "source": [
      "Pour rappel, on a vu dans la vid\u00e9o&nbsp;:\n",
      " * la m\u00e9thode `__init__` pour d\u00e9finir un **constructeur**, \n",
      " * et la m\u00e9thode `__str__` pour d\u00e9finir comment une instance s'imprime avec `print`."
     ]
    },
    {
     "cell_type": "heading",
     "level": 3,
     "metadata": {},
     "source": [
      "Affichage : `__repr__` et `__str__`"
     ]
    },
    {
     "cell_type": "markdown",
     "metadata": {},
     "source": [
      "Nous commen\u00e7ons par signaler la m\u00e9thode `__repr__` qui est assez voisine de `__str__`, et qui donc doit retourner un objet de type cha\u00eene de caract\u00e8res, sauf que&nbsp;:\n",
      " * `__str__` est utilis\u00e9 par `print` (affichage orient\u00e9 utilisateur du programme; priorit\u00e9 au confort visuel),\n",
      " * alors que `__repr__` est utilis\u00e9e par la fonction `repr()` (affichage orient\u00e9 programmeur, aussi peu ambig\u00fc que possible);\n",
      " * il faut savoir que `__repr__` est utilis\u00e9 **aussi** par `print` si `__str__` n'est pas d\u00e9fini.\n",
      "\n",
      "Pour cette seconde raison, on trouve dans la nature `__repr__` plut\u00f4t plus souvent que `__str__`; voyez [ce lien](https://docs.python.org/2/reference/datamodel.html#object.__repr__) pour davantage de d\u00e9tails. "
     ]
    },
    {
     "cell_type": "heading",
     "level": 5,
     "metadata": {},
     "source": [
      "Quand est utilis\u00e9e `repr()`"
     ]
    },
    {
     "cell_type": "markdown",
     "metadata": {},
     "source": [
      "`repr()` est utilis\u00e9e massivement dans les informations de debugging comme les traces de pile lorsqu'une exception est lev\u00e9e. Elle est aussi utilis\u00e9e lorsque vous affichez un objet sans passer par `print`, c'est-\u00e0-dire par exemple&nbsp;: "
     ]
    },
    {
     "cell_type": "code",
     "collapsed": false,
     "input": [
      "class Foo: pass\n",
      "foo = Foo()\n",
      "# lorsque vous affichez un objet comme ceci\n",
      "foo\n",
      "# en fait vous utilisez repr()"
     ],
     "language": "python",
     "metadata": {},
     "outputs": []
    },
    {
     "cell_type": "heading",
     "level": 5,
     "metadata": {},
     "source": [
      "Deux exemples"
     ]
    },
    {
     "cell_type": "markdown",
     "metadata": {},
     "source": [
      "Voici deux exemples simples de classes; dans le premier on on n'a d\u00e9fini que `__repr__`, dans le second on a red\u00e9fini les deux m\u00e9thodes&nbsp;:"
     ]
    },
    {
     "cell_type": "code",
     "collapsed": false,
     "input": [
      "# une classe qui ne d\u00e9finit que __repr__\n",
      "class Point (object):\n",
      "    \"premi\u00e8re version de Point - on ne d\u00e9finit que __repr__\"\n",
      "    def __init__(self, x, y):\n",
      "        self.x = x\n",
      "        self.y = y\n",
      "    def __repr__(self):\n",
      "        return \"Point({x},{y})\".format(**vars(self))\n",
      "    \n",
      "point = Point (0,100)\n",
      "\n",
      "print \"avec print\", point\n",
      "\n",
      "# si vous affichez un objet sans passer par print\n",
      "# vous utilisez repr()\n",
      "point\n"
     ],
     "language": "python",
     "metadata": {},
     "outputs": []
    },
    {
     "cell_type": "code",
     "collapsed": false,
     "input": [
      "# la m\u00eame chose mais o\u00f9 on red\u00e9finit __str__ et __repr__\n",
      "class Point2 (object):\n",
      "    \"seconde version de Point - on d\u00e9finit __repr__ et __str__\"\n",
      "    def __init__(self, x, y):\n",
      "        self.x = x\n",
      "        self.y = y\n",
      "    def __repr__(self):\n",
      "        return \"Point2({x},{y})\".format(**vars(self))\n",
      "    def __str__(self):\n",
      "        return \"({x},{y})\".format(**vars(self))\n",
      "    \n",
      "point2 = Point2 (0,100)\n",
      "\n",
      "print \"avec print\", point2\n",
      "\n",
      "# format utilise aussi __str__\n",
      "print \"avec format {}\".format(point2)\n",
      "\n",
      "# si vous affichez un objet sans passer par print\n",
      "# vous utilisez repr()\n",
      "point2"
     ],
     "language": "python",
     "metadata": {},
     "outputs": []
    },
    {
     "cell_type": "markdown",
     "metadata": {},
     "source": [
      "*****"
     ]
    },
    {
     "cell_type": "heading",
     "level": 3,
     "metadata": {},
     "source": [
      "`__nonzero__`"
     ]
    },
    {
     "cell_type": "markdown",
     "metadata": {},
     "source": [
      "Vous vous souvenez que la condition d'un test dans un `if` peut ne pas retourner un bool\u00e9en (nous avons vu cela en Semaine 2, S\u00e9quence \"Introduction aux tests if/else\"). Nous avions not\u00e9 que pour les types pr\u00e9d\u00e9finis, sont consid\u00e9r\u00e9s comme *faux* `None`, la liste vide, un tuple vide, etc...\n",
      "\n",
      "Avec `__nonzero__` on peut red\u00e9finir le comportement des objets d'une classe vis-\u00e0-vis des conditions - ou si l'on pr\u00e9f\u00e8re, quel doit \u00eatre le r\u00e9sultat de `bool(instance)`.\n",
      "\n",
      "**Attention** pour \u00e9viter les comportements impr\u00e9vus, comme on est en train de red\u00e9finir le comportement des conditions, il **faut** renvoyer un **bool\u00e9en** (ou \u00e0 la rigueur 0 ou 1), on ne peut pas dans ce contexte retourner d'autres types d'objet.\n",
      "\n",
      "Nous allons **illustrer** cette m\u00e9thode dans un petit moment avec une nouvelle impl\u00e9mentation de la classe **`Matrix2`**.\n",
      "\n",
      "Remarquez enfin qu'en l'absence de m\u00e9thode `__nonzero__`, on cherche aussi la m\u00e9thode `__len__` pour d\u00e9terminer le r\u00e9sultat du test; une instance de longueur nulle est alors consid\u00e9r\u00e9 comme `False`, en coh\u00e9rence avec ce qui se passe avec les types *builtin* `list`, `dict`, `tuple`, etc.\n",
      "\n",
      "Ce genre de *protocole*, qui cherche d'abord une m\u00e9thode, puis une autre en cas d'absence de la premi\u00e8re, est relativement fr\u00e9quent dans la m\u00e9canique de surcharge des op\u00e9rateurs; c'est entre autres pourquoi la documentation est indispensable lorsqu'on surcharge les op\u00e9rateurs."
     ]
    },
    {
     "cell_type": "heading",
     "level": 3,
     "metadata": {},
     "source": [
      "`__add__` et apparent\u00e9s (`__mul__`, `__sub__`, `__div__`, `__and__`, etc..)"
     ]
    },
    {
     "cell_type": "markdown",
     "metadata": {},
     "source": [
      "On peut \u00e9galement red\u00e9finir les op\u00e9rateurs arithm\u00e9tiques et logiques. Dans l'exemple qui suit nous allons l'illustrer sur l'addition de matrices. On rappelle pour m\u00e9moire que&nbsp;:\n",
      "\n",
      "$ \\left( \\begin{array}{cc} a_{11} & a_{12} \\\\\n",
      "a_{21} & a_{22}\\end{array} \\right) \n",
      "+\n",
      "\\left( \\begin{array}{cc} b_{11} & b_{12} \\\\\n",
      "b_{21} & b_{22}\\end{array} \\right) \n",
      "= \n",
      "\\left( \\begin{array}{cc} a_{11}+b_{11} & a_{12}+b_{12} \\\\\n",
      "a_{21}+b_{21} & a_{22}+b_{22}\\end{array} \\right) $"
     ]
    },
    {
     "cell_type": "heading",
     "level": 3,
     "metadata": {},
     "source": [
      "Une nouvelle version de la classe `Matrix2`"
     ]
    },
    {
     "cell_type": "markdown",
     "metadata": {},
     "source": [
      "Voici (encore) une nouvelle impl\u00e9mentation de la classe de matrices 2x2, qui illustre cette fois&nbsp;:\n",
      " * la possibilit\u00e9 d'ajouter deux matrices;\n",
      " * la possibilit\u00e9 de faire un test sur une matrice - le test sera faux si la matrice a tous ses coefficients nuls;\n",
      " * et, bien que ce ne soit pas le sujet imm\u00e9diat, cette impl\u00e9mentation illustre aussi la possibilit\u00e9 de construire la matrice \u00e0 partir&nbsp;:\n",
      "   * soit des 4 coefficients, comme par exemple&nbsp;: `Matrix2(a, b, c, d)`\n",
      "   * soit d'une s\u00e9quence , comme par exemple&nbsp;: `Matrix2(range(4))`\n",
      " \n",
      " Cette derni\u00e8re possibilit\u00e9 va nous permettre de simplifier le code de l'addition, comme on va le voir."
     ]
    },
    {
     "cell_type": "code",
     "collapsed": false,
     "input": [
      "# notre classe Matrix2 avec encore une autre impl\u00e9mentation\n",
      "class Matrix2 (object):\n",
      "\n",
      "    def __init__(self, *args):\n",
      "        \"\"\"\n",
      "        le constructeur accepte \n",
      "        (*) soit les 4 coefficients individuellement\n",
      "        (*) soit une liste - ou + generalement une sequence - des memes\n",
      "        \"\"\"\n",
      "        # on veut pouvoir cr\u00e9er l'objet \u00e0 partir des 4 coefficients\n",
      "        if len(args) == 4:\n",
      "            self.coefs = tuple(args)\n",
      "        # ou bien d'une s\u00e9quence de 4 coefficients\n",
      "        elif len(args) == 1:\n",
      "            self.coefs = tuple(*args)\n",
      "\n",
      "    def __repr__(self):\n",
      "        \"l'affichage\"\n",
      "        return \"[\" + \", \".join([\"{}\".format(c) for c in self.coefs]) + \"]\"\n",
      "\n",
      "    def __add__(self, other):\n",
      "        \"\"\"\n",
      "        l'addition de deux matrices retourne un nouvel objet\n",
      "        la possibilite de creer une matrice a partir d'une liste rend ce code \n",
      "        beaucoup plus facile a ecrire\n",
      "        \"\"\"\n",
      "        return Matrix2 ( [ a+b for a,b in zip(self.coefs, other.coefs) ] )\n",
      "\n",
      "    def __nonzero__(self):\n",
      "        \"\"\"\n",
      "        on consid\u00e8re que la matrice est non nulle \n",
      "        si un au moins de ses coefficients est non nul\n",
      "        \"\"\"\n",
      "        # ATTENTION le retour doit \u00eatre un bool\u00e9en ou \u00e0 la rigueur 0 ou 1\n",
      "        # cette version-ci ne serait PAS CORRECTE :\n",
      "        # return [coef for coef in self.coefs if coef != 0.]\n",
      "        return len([coef for coef in self.coefs if coef != 0.])!=0"
     ],
     "language": "python",
     "metadata": {},
     "outputs": []
    },
    {
     "cell_type": "markdown",
     "metadata": {},
     "source": [
      "On peut \u00e0 pr\u00e9sent cr\u00e9er deux objets, les ajouter, et v\u00e9rifier que la matrice nulle se comporte bien comme attendu&nbsp;:"
     ]
    },
    {
     "cell_type": "code",
     "collapsed": false,
     "input": [
      "zero     = Matrix2 ([0,0,0,0])\n",
      "\n",
      "matrice1 = Matrix2 (1,2,3,4)\n",
      "matrice2 = Matrix2 ( range(10,50,10) )\n",
      "\n",
      "print 'avant matrice1', matrice1\n",
      "print 'avant matrice2', matrice2\n",
      "\n",
      "print 'somme', matrice1 + matrice2\n",
      "\n",
      "print 'apr\u00e8s matrice1', matrice1\n",
      "print 'apr\u00e8s matrice2', matrice2\n",
      "\n",
      "if matrice1: \n",
      "    print matrice1,\"n'est pas nulle\"\n",
      "if not zero: \n",
      "    print zero,\"est nulle\"\n"
     ],
     "language": "python",
     "metadata": {},
     "outputs": []
    },
    {
     "cell_type": "markdown",
     "metadata": {},
     "source": [
      "Voici en vrac quelques commentaires sur cet exemple."
     ]
    },
    {
     "cell_type": "heading",
     "level": 5,
     "metadata": {},
     "source": [
      "Utiliser un tuple"
     ]
    },
    {
     "cell_type": "markdown",
     "metadata": {},
     "source": [
      "Avant de parler de la surcharge des op\u00e9rateurs *per se*, vous remarquerez que l'on range les coefficients dans un **tuple**, de fa\u00e7on \u00e0 ce que notre objet `Matrix2` soit ind\u00e9pendant de l'objet qu'on a utilis\u00e9 pour le cr\u00e9er (et qui peut \u00eatre ensuite modifi\u00e9 par l'appelant)."
     ]
    },
    {
     "cell_type": "heading",
     "level": 5,
     "metadata": {},
     "source": [
      "Cr\u00e9er un nouvel objet"
     ]
    },
    {
     "cell_type": "markdown",
     "metadata": {},
     "source": [
      "Vous remarquez que l'addition `__add__` renvoie un **nouvel objet**, au lieu de modifier `self` en place. C'est la bonne fa\u00e7on de proc\u00e9der tout simplement parce que lorsqu'on \u00e9crit \n",
      "\n",
      "    print 'somme', matrice1 + matrice2\n",
      "\n",
      " on ne s'attend pas du tout \u00e0 ce que `matrice1` soit modifi\u00e9 apr\u00e8s cet appel. "
     ]
    },
    {
     "cell_type": "heading",
     "level": 5,
     "metadata": {},
     "source": [
      "Du code qui ne d\u00e9pend que des 4 op\u00e9rations"
     ]
    },
    {
     "cell_type": "markdown",
     "metadata": {},
     "source": [
      "Le fait d'avoir d\u00e9fini l'addition nous permet par exemple de b\u00e9n\u00e9ficier de la fonction *builtin* `sum`. En effet le code de `sum` fait lui-m\u00eame des additions, il n'y a donc aucune raison de ne pas pouvoir l'ex\u00e9cuter avec en entr\u00e9e un liste de matrices puisque maintenant on sait les additionner, (mais on a d\u00fb toutefois passer \u00e0 `sum` comme \u00e9l\u00e9ment neutre `zero`)&nbsp;:"
     ]
    },
    {
     "cell_type": "code",
     "collapsed": false,
     "input": [
      "sum ( [matrice1, matrice2, matrice1] , zero)"
     ],
     "language": "python",
     "metadata": {},
     "outputs": []
    },
    {
     "cell_type": "markdown",
     "metadata": {},
     "source": [
      "C'est un effet de bord du typage dynamique. On ne v\u00e9rifie pas *a priori* que tous les arguments pass\u00e9s \u00e0 `sum` savent faire une addition; *a contrario*, si ils savent s'additionner on peut ex\u00e9cuter le code de `sum`.\n",
      "\n",
      "De mani\u00e8re plus g\u00e9n\u00e9rale, si vous \u00e9crivez par exemple un morceau de code qui travaille sur les \u00e9l\u00e9ments d'un anneau (au sens anneau des entiers $\\mathbb{Z}$) - imaginez un code qui factorise des polyn\u00f4mes - vous pouvez esp\u00e9rer utiliser ce code avec n'importe quel anneau, c'est \u00e0 dire avec une classe qui impl\u00e9mente les 4 op\u00e9rations (pourvu bien s\u00fbr que cet ensemble soit effectivement un anneau)."
     ]
    },
    {
     "cell_type": "heading",
     "level": 5,
     "metadata": {},
     "source": [
      "On peut aussi red\u00e9finir un ordre"
     ]
    },
    {
     "cell_type": "markdown",
     "metadata": {},
     "source": [
      "La place nous manque pour illustrer la possibilit\u00e9, avec les op\u00e9rateurs `__eq__`, `__ne__`, `__lt__`, `__le__`, `__gt__`, et `__ge__`, de red\u00e9finir un ordre sur les instances d'une classe (voyez aussi [cette page](https://docs.python.org/2/library/functools.html#functools.total_ordering), sachant que nous \u00e9tudierons les d\u00e9corateurs en semaine 7)."
     ]
    },
    {
     "cell_type": "markdown",
     "metadata": {},
     "source": [
      "Similairement, si on avait d\u00e9fini un ordre sur les matrices, on aurait pu alors utiliser les *builtin* `min` et `max` pour calculer une borne sup\u00e9rieure ou inf\u00e9rieure dans une s\u00e9quence de matrices."
     ]
    },
    {
     "cell_type": "heading",
     "level": 5,
     "metadata": {},
     "source": [
      "Le produit avec un scalaire"
     ]
    },
    {
     "cell_type": "markdown",
     "metadata": {},
     "source": [
      "On impl\u00e9menterait la multiplication de deux matrices d'une fa\u00e7on identique (quoique plus fastidieuse naturellement). \n",
      "\n",
      "La multiplication d'une matrice par un scalaire (un r\u00e9el ou complexe pour fixer les id\u00e9es), comme ici&nbsp;:\n",
      "\n",
      "    matrice2 = reel * matrice1\n",
      "\n",
      "est par contre plus probl\u00e9matique en python.\n",
      "\n",
      "En C++ par exemple, la technique utilis\u00e9e pour la surcharge des op\u00e9rateurs vous permettrait de donner un sens \u00e0 un tel produit.\n",
      "\n",
      "Mais en python, un op\u00e9rateur binaire comme `*` envoie la m\u00e9thode `__mul__` au **premier** op\u00e9rateur, dans notre cas un r\u00e9el. Et les classes *builtin* \u00e9tant non mutables (pour garantir la stabilit\u00e9 de l'interpr\u00e9teur), il n'est pas possible de reproduire en python ce comportement."
     ]
    },
    {
     "cell_type": "markdown",
     "metadata": {},
     "source": [
      "****"
     ]
    },
    {
     "cell_type": "heading",
     "level": 3,
     "metadata": {},
     "source": [
      "`__contains__`, `__len__`, `__getitem__` et apparent\u00e9s"
     ]
    },
    {
     "cell_type": "markdown",
     "metadata": {},
     "source": [
      "La m\u00e9thode `__contains__` permet de donner un sens \u00e0&nbsp;:\n",
      "\n",
      "    item in objet\n",
      "    \n",
      "Sans grande surprise, elle prend en argument un objet et un item, et doit renvoyer un bool\u00e9en. Nous l'illustrons ci-dessous avec la classe `DualQueue`."
     ]
    },
    {
     "cell_type": "markdown",
     "metadata": {},
     "source": [
      "La m\u00e9thode `__len__` est utilis\u00e9e par la fonction *builtin* `len` pour retourner la longueur d'un objet. "
     ]
    },
    {
     "cell_type": "heading",
     "level": 5,
     "metadata": {},
     "source": [
      "La classe `DualQueue`"
     ]
    },
    {
     "cell_type": "markdown",
     "metadata": {},
     "source": [
      "Nous allons illustrer ceci avec un exemple de classe, un peu artificiel, qui impl\u00e9mente une queue de type FIFO. Les objets sont d'abord admis dans la file d'entr\u00e9e (`add_input`), puis d\u00e9plac\u00e9s dans la file de sortie (`move_input_to_output`), et enfin sortis (`emit_output`).\n",
      "\n",
      "Clairement, cet exemple est \u00e0 but uniquement p\u00e9dagogique; on veut montrer comment une impl\u00e9mentation qui repose sur deux listes s\u00e9par\u00e9es peut donner l'illusion d'une continuit\u00e9, et se pr\u00e9senter comme un container unique. "
     ]
    },
    {
     "cell_type": "code",
     "collapsed": false,
     "input": [
      "class DualQueue (object):\n",
      "    \"\"\"Une double file d'attente FIFO\"\"\"\n",
      "\n",
      "    def __init__(self):\n",
      "        \"constructeur, sans argument\"\n",
      "        self.inputs = []\n",
      "        self.outputs = []\n",
      "\n",
      "    def __repr__ (self):\n",
      "        \"affichage\"\n",
      "        return \"<DualQueue, inputs={inputs}, outputs={outputs}>\".format(**vars(self))\n",
      "\n",
      "    # l'interface publique de la classe\n",
      "    def add_input(self, item):\n",
      "        \"faire entrer un objet dans la queue d'entr\u00e9e\"\n",
      "        self.inputs.insert(0,item)\n",
      "    def move_input_to_output (self):\n",
      "        \"l'objet le plus ancien de la queue d'entr\u00e9e est promu dans la queue de sortie\"\n",
      "        self.outputs.insert(0,self.inputs.pop())\n",
      "    def emit_output (self):\n",
      "        \"l'objet le plus ancien de la queue de sortie est \u00e9mis\"\n",
      "        return self.outputs.pop()\n",
      "        \n",
      "    # la prtie qui nous int\u00e9resse ici\n",
      "    def __contains__(self, item):\n",
      "        \"appartenance d'un objet \u00e0 la queue\"\n",
      "        return item in self.inputs or item in self.outputs\n",
      "    def __len__(self):\n",
      "        \"longueur de la queue\"\n",
      "        return len(self.inputs) + len(self.outputs)        "
     ],
     "language": "python",
     "metadata": {},
     "outputs": []
    },
    {
     "cell_type": "code",
     "collapsed": false,
     "input": [
      "queue = DualQueue ()\n",
      "queue.add_input ('un')\n",
      "queue.add_input ('deux')\n",
      "queue.move_input_to_output()\n",
      "queue.move_input_to_output()\n",
      "queue.add_input ('trois')\n",
      "queue.add_input ('quatre')\n",
      "print \"queue est de longueur\", len(queue)\n",
      "print 'avec print:',queue\n",
      "print \"deux appartient-il ?\", 'deux' in queue\n",
      "print \"(1,) appartient-il ?\", (1,) in queue"
     ],
     "language": "python",
     "metadata": {},
     "outputs": []
    },
    {
     "cell_type": "heading",
     "level": 5,
     "metadata": {},
     "source": [
      "Acc\u00e8s aux \u00e9l\u00e9ments par `[]`"
     ]
    },
    {
     "cell_type": "markdown",
     "metadata": {},
     "source": [
      "Lorsqu'on a la notion de longueur de l'objet avec  `__len__`, il peut \u00eatre opportun -  quoique cela n'est pas impos\u00e9 par le langage - de proposer \u00e9galement un acc\u00e8s index\u00e9 par un entier pour pouvoir faire&nbsp;:\n",
      "\n",
      "    queue[1]\n",
      "    \n",
      "**Pour ne pas r\u00e9p\u00e9ter tout le code de la classe**, nous allons \u00e9tendre `DualQueue` avec la m\u00e9thode `__getitem__`, comme nous avons d\u00e9j\u00e0 eu l'occasion de le faire&nbsp;:"
     ]
    },
    {
     "cell_type": "code",
     "collapsed": false,
     "input": [
      "# on d\u00e9finit une fonction\n",
      "def dual_queue_getitem (self, index):\n",
      "    # on v\u00e9rifie que l'index a un sens\n",
      "    if index < 0 or index >= len(self):\n",
      "        raise IndexError(\"Mauvais indice {} pour DualQueue\".format(index))\n",
      "    # on d\u00e9cide que l'index 0 correspond \u00e0 l'\u00e9l\u00e9ment le plus ancien\n",
      "    # ce qui oblige \u00e0 une petite gymnastique\n",
      "    li = len(self.inputs)\n",
      "    lo = len(self.outputs)\n",
      "    if index < lo:\n",
      "        return self.outputs[lo-index-1]\n",
      "    else:\n",
      "        return self.inputs[li-(index-lo)-1]\n",
      "\n",
      "# et on affecte cette fonction \u00e0 l'int\u00e9rieur de la classe\n",
      "DualQueue.__getitem__ = dual_queue_getitem"
     ],
     "language": "python",
     "metadata": {},
     "outputs": []
    },
    {
     "cell_type": "markdown",
     "metadata": {},
     "source": [
      "\u00c0 pr\u00e9sent on peut **acc\u00e9der** aux objets de la queue **s\u00e9quentiellement**&nbsp;:"
     ]
    },
    {
     "cell_type": "code",
     "collapsed": false,
     "input": [
      "print queue[0]"
     ],
     "language": "python",
     "metadata": {},
     "outputs": []
    },
    {
     "cell_type": "markdown",
     "metadata": {},
     "source": [
      "ce qui l\u00e8ve la m\u00eame exception qu'avec une vraie liste si on utilise un mauvais index&nbsp;:"
     ]
    },
    {
     "cell_type": "code",
     "collapsed": false,
     "input": [
      "try:\n",
      "    print queue[5]\n",
      "except IndexError as e:\n",
      "    print 'ERREUR',e"
     ],
     "language": "python",
     "metadata": {},
     "outputs": []
    },
    {
     "cell_type": "code",
     "collapsed": false,
     "input": [
      "try:\n",
      "    print queue['foo']\n",
      "except IndexError as e:\n",
      "    print 'ERREUR',e"
     ],
     "language": "python",
     "metadata": {},
     "outputs": []
    },
    {
     "cell_type": "markdown",
     "metadata": {},
     "source": [
      "Et m\u00eame, puisqu'on a `__len__` et `__getitem__`, on peut **faire une boucle** sur l'objet queue. On l'a mentionn\u00e9 rapidement dans la s\u00e9quence sur les it\u00e9rateurs, mais la **m\u00e9thode `__iter__` n'est pas la seule fa\u00e7on** de rendre un objet it\u00e9rable&nbsp;"
     ]
    },
    {
     "cell_type": "code",
     "collapsed": false,
     "input": [
      "for item in queue:\n",
      "   print item"
     ],
     "language": "python",
     "metadata": {},
     "outputs": []
    },
    {
     "cell_type": "markdown",
     "metadata": {},
     "source": [
      "De mani\u00e8re similaire, m\u00eame sans la m\u00e9thode `__nonzero__`, cette classe sait **faire des tests de mani\u00e8re correcte** gr\u00e2ce uniquement \u00e0 la m\u00e9thode `__len__`&nbsp;:"
     ]
    },
    {
     "cell_type": "code",
     "collapsed": false,
     "input": [
      "# un test sur la queue\n",
      "if queue:\n",
      "    print \"La queue {} n'est pas vide\".format(queue)\n",
      "\n",
      "# on va la vider\n",
      "for i in range(2):\n",
      "    queue.move_input_to_output()\n",
      "for i in range(4):\n",
      "    queue.emit_output()\n",
      "\n",
      "# maintenant le test est n\u00e9gatif (notez bien le *not* ici)\n",
      "if not queue:\n",
      "    print \"La queue {} est vide\".format(queue)"
     ],
     "language": "python",
     "metadata": {},
     "outputs": []
    }
   ],
   "metadata": {}
  }
 ]
}