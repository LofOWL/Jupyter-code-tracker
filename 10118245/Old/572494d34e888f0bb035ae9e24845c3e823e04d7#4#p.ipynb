{
 "metadata": {
  "kernelspec": {
   "display_name": "Python 2", 
   "language": "python", 
   "name": "python2"
  }, 
  "name": "", 
  "notebookname": "Fichiers", 
  "version": "2.0"
 }, 
 "nbformat": 2, 
 "nbformat_minor": 0, 
 "orig_nbformat": 4, 
 "orig_nbformat_minor": 0, 
 "worksheets": [
  {
   "cells": [
    {
     "cell_type": "markdown", 
     "metadata": {}, 
     "source": [
      "<span style=\"float:left;\">Licence CC BY-NC-ND</span><span style=\"float:right;\">Thierry Parmentelat &amp; Arnaud Legout,<img src=\"media/inria-25.png\" style=\"display:inline\"></span><br/>"
     ]
    }, 
    {
     "cell_type": "markdown", 
     "metadata": {}, 
     "source": [
      "# Fichiers"
     ]
    }, 
    {
     "cell_type": "markdown", 
     "metadata": {}, 
     "source": [
      "## Exercice - niveau basique"
     ]
    }, 
    {
     "cell_type": "markdown", 
     "metadata": {}, 
     "source": [
      "### Calcul du nombre de lignes, de mots et de caract\u00e8res"
     ]
    }, 
    {
     "cell_type": "code", 
     "collapsed": false, 
     "input": [
      "# chargement de l'exercice", 
      "from corrections.w4s1_files import exo_comptage"
     ], 
     "language": "python", 
     "metadata": {}, 
     "outputs": [], 
     "prompt_number": null
    }, 
    {
     "cell_type": "markdown", 
     "metadata": {}, 
     "source": [
      "On se propose d'\u00e9crire une * moulinette* qui annote un fichier avec des nombres de lignes, de mots et de caract\u00e8res.", 
      "", 
      "Le but de l'exercice est d'\u00e9crire une fonction `comptage`:", 
      " * qui prenne en argument un nom de fichier d'entr\u00e9e (on suppose qu'il existe) et un nom de fichier de sortie (on suppose qu'on a le droit de l'\u00e9crire);", 
      " * le fichier d'entr\u00e9e est laiss\u00e9 intact;", 
      " *  pour chaque ligne en entr\u00e9e, le fichier de sortie comporte une ligne qui donne le num\u00e9ro de ligne, le nombre de mots (**s\u00e9par\u00e9s par des espaces**), le nombre de caract\u00e8res (y compris la fin de ligne), et la ligne d'origine;", 
      " * et enfin le fichier de sortie comporte une derni\u00e8re ligne avec les nombres totaux de lignes, de mots et de caract\u00e8res, **suivi d'une derni\u00e8re fin de ligne**.", 
      " ", 
      "Dans sa version simple, cet exercice ne s'occupe que de **fichiers sans caract\u00e8res accentu\u00e9s**."
     ]
    }, 
    {
     "cell_type": "code", 
     "collapsed": false, 
     "input": [
      "# un exemple de ce qui est attendu", 
      "exo_comptage.example()"
     ], 
     "language": "python", 
     "metadata": {}, 
     "outputs": [], 
     "prompt_number": null
    }, 
    {
     "cell_type": "code", 
     "collapsed": false, 
     "input": [
      "# votre code", 
      "def comptage(in_filename, out_filename):", 
      "#    print 'in',in_filename", 
      "#    print 'out',out_filename", 
      "    \"<votre_code>\""
     ], 
     "language": "python", 
     "metadata": {}, 
     "outputs": [], 
     "prompt_number": null
    }, 
    {
     "cell_type": "markdown", 
     "metadata": {}, 
     "source": [
      "**N'oubliez pas de v\u00e9rifier** que vous ajoutez bien la **derni\u00e8re fin de ligne**."
     ]
    }, 
    {
     "cell_type": "code", 
     "collapsed": false, 
     "input": [
      "# pour v\u00e9rifier votre code", 
      "", 
      "exo_comptage.correction(comptage)"
     ], 
     "language": "python", 
     "metadata": {}, 
     "outputs": [], 
     "prompt_number": null
    }, 
    {
     "cell_type": "markdown", 
     "metadata": {}, 
     "source": [
      "La m\u00e9thode `debug` applique votre fonction au premier fichier d'entr\u00e9e, et affiche le r\u00e9sultat comme dans l'exemple ci-dessus. "
     ]
    }, 
    {
     "cell_type": "code", 
     "collapsed": false, 
     "input": [
      "# debugging", 
      "exo_comptage.debug(comptage)"
     ], 
     "language": "python", 
     "metadata": {}, 
     "outputs": [], 
     "prompt_number": null
    }, 
    {
     "cell_type": "markdown", 
     "metadata": {}, 
     "source": [
      "### Acc\u00e8s aux fichiers d'exemples"
     ]
    }, 
    {
     "cell_type": "markdown", 
     "metadata": {}, 
     "source": [
      "Vous pouvez t\u00e9l\u00e9charger les fichiers d'exemples&nbsp;:", 
      " * [Romeo and Juliet](data/romeo_and_juliet.txt)", 
      " * [Lorem Ipsum](data/lorem_ipsum.txt)", 
      "", 
      "Ainsi que pour les courageux, des fichiers avec accents&nbsp;:", 
      " * [\"Une charogne\" en Unicode](data/une_charogne_unicode.txt)", 
      " * [\"Une charogne\" en Iso-latin-15](data/une_charogne_iso15.txt)", 
      "", 
      "\u00c0 nouveau ces deux fichiers ne sont pas \u00e0 prendre en compte dans la version basique de l'exercice. Vous pourrez m\u00eame vous rendre compte qu'avec python-2, il est assez compliqu\u00e9 d'\u00e9crire une fonction `comptage` qui fonctionne correctement avec des entr\u00e9es mixtes (c'est-\u00e0-dire indiff\u00e9remment avec un fichier unicode ou isolatin) en ce qui concerne le nombre de caract\u00e8res."
     ]
    }
   ], 
   "metadata": {}
  }
 ]
}
