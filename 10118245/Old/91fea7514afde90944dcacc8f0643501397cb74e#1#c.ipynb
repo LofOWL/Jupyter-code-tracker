{
 "cells": [
  {
   "cell_type": "markdown",
   "metadata": {},
   "source": [
    "<span style=\"float:left;\">Licence CC BY-NC-ND</span><span style=\"float:right;\">Thierry Parmentelat &amp; Arnaud Legout&nbsp;<img src=\"media/inria-25.png\" style=\"display:inline\"></span><br/>"
   ]
  },
  {
   "cell_type": "markdown",
   "metadata": {},
   "source": [
    "# Caractères accentués"
   ]
  },
  {
   "cell_type": "markdown",
   "metadata": {},
   "source": [
    "Ce complément expose quelques bases concernant les caractères accentués, et notamment les précautions à prendre pour pouvoir en insérer dans un programme python. Nous allons voir que cette question, assez scabreuse, dépasse très largement le cadre de python *per se*."
   ]
  },
  {
   "cell_type": "markdown",
   "metadata": {},
   "source": [
    "## Complément - niveau basique"
   ]
  },
  {
   "cell_type": "markdown",
   "metadata": {},
   "source": [
    "Notre premier conseil, si vous voulez éviter les soucis et vous concentrer sur notre objectif qui est d'apprendre le langage python, est autant que possible **d'éviter d'utiliser des accents** dans le code source.\n",
    "\n",
    "D'ailleurs nous vous recommandons dans toute la mesure du possible d'écrire votre code en anglais, comme c'est le cas pour la quasi-totalité du code que vous serez amenés à utiliser sous forme de librairies - même si dans ce cours nous avons essayé de produire nos exemples en français."
   ]
  },
  {
   "cell_type": "markdown",
   "metadata": {},
   "source": [
    "## Complément - niveau intermédiaire"
   ]
  },
  {
   "cell_type": "markdown",
   "metadata": {},
   "source": [
    "### Où peut-on mettre des accents ?"
   ]
  },
  {
   "cell_type": "markdown",
   "metadata": {},
   "source": [
    "Cela étant dit, si vous devez vraiment mettre des accents dans vos sources, voici ce qu'il faut savoir."
   ]
  },
  {
   "cell_type": "markdown",
   "metadata": {},
   "source": [
    "#### Noms de variables"
   ]
  },
  {
   "cell_type": "markdown",
   "metadata": {},
   "source": [
    "* S'il n'était **pas possible en python-2** d'utiliser un caractère accentué dans un **nom de variable** (ou d'un identificateur au sens large), cela est à présent **permis en python-3**:"
   ]
  },
  {
   "cell_type": "code",
   "execution_count": null,
   "metadata": {
    "collapsed": true
   },
   "outputs": [],
   "source": [
    "# pas recommandé, mais autorisé par le langage\n",
    "nb_élèves = 12"
   ]
  },
  {
   "cell_type": "markdown",
   "metadata": {},
   "source": [
    "* On peut même utiliser des symboles, comme par exemple"
   ]
  },
  {
   "cell_type": "code",
   "execution_count": null,
   "metadata": {},
   "outputs": [],
   "source": [
    "from math import cos, pi as 𝞟\n",
    "θ = 𝞟 / 4\n",
    "cos(θ)"
   ]
  },
  {
   "cell_type": "markdown",
   "metadata": {},
   "source": [
    "* Je vous recommande toutefois de **ne pas utiliser** cette possibilité, si vous n'êtes pas extrêmement familier avec les caractères Unicode. "
   ]
  },
  {
   "cell_type": "markdown",
   "metadata": {},
   "source": [
    "* Enfin pour être exhaustif, sachez que seule une partie des caractères Unicode sont autorisés dans ce cadre; c'est heureux parce que les caractères comme, par exemple, [l'espace non-sécable](http://www.fileformat.info/info/unicode/char/a0/index.htm) pourraient, s'ils étaient autorisés, créer des milliers d'heures de debugging à frustration garantie :) \n",
    "\n",
    "Pour les curieux, vous pouvez en savoir plus [à cet endroit de la documentation officielle (en anglais)](https://docs.python.org/3/reference/lexical_analysis.html#identifiers)"
   ]
  },
  {
   "cell_type": "markdown",
   "metadata": {},
   "source": [
    "#### Chaînes de caractères"
   ]
  },
  {
   "cell_type": "markdown",
   "metadata": {},
   "source": [
    "* Vous pouvez naturellement mettre des accents dans les chaînes de caractères. Cela dit, les données manipulées par un programme proviennent pour l'essentiel de sources externes, comme une base de données ou un formulaire web, et donc le plus souvent pas directement du code source. Les chaînes de caractères présentes dans du vrai code sont bien souvent limitées à des messages de logging, et le plus souvent d'ailleurs en anglais, donc sans accent."
   ]
  },
  {
   "cell_type": "markdown",
   "metadata": {},
   "source": [
    "    message = \"on peut mettre un caractère accentué dans une chaîne\""
   ]
  },
  {
   "cell_type": "markdown",
   "metadata": {},
   "source": [
    "#### Commentaires"
   ]
  },
  {
   "cell_type": "markdown",
   "metadata": {},
   "source": [
    "  * Enfin on peut aussi mettre des caractères accentués dans les commentaires, si on choisit malgré tout d'écrire le code en français"
   ]
  },
  {
   "cell_type": "markdown",
   "metadata": {},
   "source": [
    "    # on peut mettre un caractère accentué dans un commentaire"
   ]
  },
  {
   "cell_type": "markdown",
   "metadata": {},
   "source": [
    "### Précautions à prendre"
   ]
  },
  {
   "cell_type": "markdown",
   "metadata": {},
   "source": [
    "Nous vous conseillons de prendre l'habitude de faire figurer dans vos fichiers, **en première ou deuxième ligne**, une déclaration comme ceci\n",
    "\n",
    "    # -*- coding: <nom_de_l_encodage> -*-"
   ]
  },
  {
   "cell_type": "markdown",
   "metadata": {},
   "source": [
    "Ainsi il est sans doute raisonnable d'utiliser ceci&nbsp;:"
   ]
  },
  {
   "cell_type": "markdown",
   "metadata": {},
   "source": [
    "    # -*- coding: utf-8 -*-"
   ]
  },
  {
   "cell_type": "markdown",
   "metadata": {},
   "source": [
    "Le nom **`utf-8`** fait référence à **Unicode** (ou pour être précis, à l'encodage le plus répandu parmi ceux qui sont définis dans la norme Unicode, comme nous le verrons plus bas). Sur certains systèmes plus anciens vous pourrez être amenés à utiliser un autre encodage. Pour déterminer la valeur à utiliser dans votre cas précis vous pouvez faire dans l'interpréteur interactif&nbsp;:"
   ]
  },
  {
   "cell_type": "markdown",
   "metadata": {},
   "source": [
    "    # ceci doit être exécuté sur votre machine\n",
    "    import sys\n",
    "    print sys.getdefaultencoding()"
   ]
  },
  {
   "cell_type": "markdown",
   "metadata": {},
   "source": [
    "Par exemple avec d'anciennes versions de Windows (en principe de plus en plus rares) vous pouvez être amenés à écrire&nbsp;:"
   ]
  },
  {
   "cell_type": "markdown",
   "metadata": {},
   "source": [
    "    # -*- coding: cp1252 -*-"
   ]
  },
  {
   "cell_type": "markdown",
   "metadata": {},
   "source": [
    "La syntaxe de la ligne `coding` est précisée dans [cette documentation](https://docs.python.org/2/reference/lexical_analysis.html#encoding-declarations)"
   ]
  },
  {
   "cell_type": "markdown",
   "metadata": {},
   "source": [
    "### Qu'est-ce qu'un encodage ?"
   ]
  },
  {
   "cell_type": "markdown",
   "metadata": {},
   "source": [
    "Comme vous le savez, la mémoire - ou le disque - d'un ordinateur ne permet que de stocker des représentations binaires. Il n'y a donc pas de façon \"naturelle\" de représenter un caractère comme 'A' ou  un guillemet ou un point-virgule.\n",
    "\n",
    "On utilise pour cela un encodage; par exemple le code US-ASCII - http://www.asciitable.com/ - stipule, pour faire simple, qu'un 'A' est représenté par l'octet 65 qui s'écrit en binaire 01000001. Il se trouve qu'il existe plusieurs encodages, bien sûr incompatibles, selon les systèmes et les langues. Vous trouverez plus de détails ci-dessous.\n",
    "\n",
    "Le point important est que pour pouvoir ouvrir un fichier \"proprement\", il faut bien entendu disposer du **contenu** du fichier, mais il faut aussi connaître l'**encodage** qui a été utilisé pour l'écrire."
   ]
  },
  {
   "cell_type": "markdown",
   "metadata": {},
   "source": [
    "### Le grand malentendu"
   ]
  },
  {
   "cell_type": "markdown",
   "metadata": {},
   "source": [
    "Cela signifie que si je vous envoie un fichier contenant du français encodé avec, disons, ISO-latin-15 -- http://en.wikipedia.org/wiki/ISO/IEC_8859-15 --  vous pouvez voir dans la table qu'un caractère '€' va être matérialisé dans mon fichier par un octet '0xA4', soit 164.\n",
    "\n",
    "Imaginez maintenant que vous essayez d'ouvrir ce même fichier depuis un vieil ordinateur Windows configuré pour le français.\n",
    "Si on ne lui donne aucune indication sur l'encodage, le programme qui va lire ce fichier sur Windows va utiliser l'encodage par défaut du système, c'est-à-dire `cp1252` -- http://en.wikipedia.org/wiki/Windows-1252. Comme vous le voyez dans cette table, l'octet '0xA4' correspond au caractère ¤ et c'est ça que vous allez voir à la place de €.\n",
    "\n",
    "C'est à cela que sert la balise `# -*- coding: <nom_de_l_encodage> -*-` \n",
    "\n",
    "De cette manière, python lorsqu'il lit votre code source, a les moyens d'interpréter correctement son contenu car il sait quel encodage utiliser. "
   ]
  },
  {
   "cell_type": "markdown",
   "metadata": {},
   "source": [
    "### Pourquoi ça marche en local ?"
   ]
  },
  {
   "cell_type": "markdown",
   "metadata": {},
   "source": [
    "Lorsque le producteur (le programme qui écrit le fichier) et le consommateur (le programme qui le lit) tournent dans le même ordinateur, tout fonctionne bien - en général - parce que les deux programmes se ramènent à l'encodage défini comme l'encodage par défaut.  \n",
    "On a vu pourquoi il vaut mieux toutefois être explicite, et spécifier la balise `coding:` \n",
    "\n",
    "Il y a une limite toutefois; si vous utiliser un linux configuré de manière minimale, il se peut qu'il utilise par défaut l'encodage US-ASCII - voir plus bas - qui étant très ancien ne \"connaît\" pas un simple é, ni a fortiori €. Pour écrire du français il faut donc au minimum que l'encodage par défaut de votre ordinateur contienne les caractères français, comme par exemple \n",
    " * iso-latin-1\n",
    " * iso-latin-15\n",
    " * utf-8\n",
    " * cp1252"
   ]
  },
  {
   "cell_type": "markdown",
   "metadata": {},
   "source": [
    "### Un peu d'histoire sur les encodages"
   ]
  },
  {
   "cell_type": "markdown",
   "metadata": {},
   "source": [
    "##### Le code US-ASCII"
   ]
  },
  {
   "cell_type": "markdown",
   "metadata": {},
   "source": [
    "Jusque dans les années 1980, les ordinateurs ne parlaient pour l'essentiel que l'anglais. La première vague de standardisation avait créé l'encodage dit ASCII, ou encore US-ASCII - voir par exemple http://www.asciitable.com, ou en version longue http://en.wikipedia.org/wiki/ASCII.\n",
    "\n",
    "Le code ASCII s'étend sur 128 valeurs, soit 7 bits, mais est le plus souvent implémenté sur un octet pour préserver l'alignement, le dernier bit pouvant être utilisé par exemple pour ajouter un code correcteur d'erreur - ce qui à l'époque des modems n'était pas superflu. Bref, la pratique courante était alors de manipuler une chaîne de caractères comme un tableau d'octets."
   ]
  },
  {
   "cell_type": "markdown",
   "metadata": {},
   "source": [
    "##### Les encodages ISO-latin"
   ]
  },
  {
   "cell_type": "markdown",
   "metadata": {},
   "source": [
    "Dans les années 1990, pour satisfaire les besoins des pays européens, ont été définis plusieurs encodages alternatifs, connus sous le nom de [ISO-latin](http://en.wikipedia.org/wiki/ISO/IEC_8859), ou encore [ISO-8859](http://en.wikipedia.org/wiki/ISO/IEC_8859). Idéalement, on aurait pu et **certainement dû** définir un seul encodage pour représenter tous les nouveaux caractères; mais entre toutes les langues européennes, le nombre de caractères à ajouter était substantiel, et cet encodage unifié aurait largement dépassé 256 caractères différents, il n'aurait donc **pas été possible** de tout faire tenir sur un octet.\n",
    "\n",
    "Mais on a préféré préserver la \"bonne propriété\" du modèle *un caractère* == *un octet*, ceci afin de préserver le code existant qui aurait sinon dû être retouché ou récrit.\n",
    "\n",
    "Dès lors il n'y avait pas d'autre choix que de définir **plusieurs** encodages distincts; par exemple pour le français on a utilisé à l'époque [ISO-latin-1](http://en.wikipedia.org/wiki/ISO/IEC_8859-1); pour le russe [ISO-latin-5](http://en.wikipedia.org/wiki/ISO/IEC_8859-5).\n",
    "\n",
    "À ce stade, le ver était dans le fruit. Depuis cette époque pour ouvrir un fichier il faut connaître son encodage.  "
   ]
  },
  {
   "cell_type": "markdown",
   "metadata": {},
   "source": [
    "##### Unicode"
   ]
  },
  {
   "cell_type": "markdown",
   "metadata": {},
   "source": [
    "\n",
    "Lorsqu'on a ensuite cherché à manipuler aussi les langues asiatiques, il a de toutes façons fallu définir de nouveaux encodages beaucoup plus larges. C'est ce qui a été fait par le standard [Unicode](http://en.wikipedia.org/wiki/Unicode) qui définit 3 nouveaux encodages:\n",
    " * [UTF-8](http://en.wikipedia.org/wiki/UTF-8) : un encodage à taille variable, à base d'octets, qui maximise la compatibilité avec ASCII,\n",
    " * [UTF-16](http://en.wikipedia.org/wiki/UTF-16) : un encodage à taille variable, à base de mots de 16 bits\n",
    " * [UTF-32](http://en.wikipedia.org/wiki/UTF-32) : un encodage à taille fixe, à base de mots de 32 bits\n",
    " \n",
    "Ces 3 standards couvrent le même jeu de caractères (113 021 tout de même dans la dernière version). Parmi ceux-ci le plus utilisé est certainement `utf-8`. Un texte ne contenant que des caractères du code US-ASCII initial peut être lu avec l'encodage UTF-8.\n",
    "\n",
    "Pour être enfin tout à fait exhaustif, si on sait qu'un fichier est au format Unicode, on peut déterminer quel est l'encodage qu'il utilise, en se basant sur les 4 premiers octets du document; ainsi dans ce cas particulier (lorsqu'on est sûr qu'un document est dans un des formats Unicode) il n'est plus nécessaire de connaître son encodage de manière \"externe\"."
   ]
  },
  {
   "cell_type": "markdown",
   "metadata": {},
   "source": [
    "##### Un caractère ce n'est pas un octet"
   ]
  },
  {
   "cell_type": "markdown",
   "metadata": {},
   "source": [
    "Avec Unicode, vous voyez qu'on a cassé le modèle *un caractère* == *un octet*. Avec ISO-latin, l'humanité a gagné du temps pour récrire tous les programmes qui faisaient, de manière erronée, la confusion entre les deux.\n",
    "\n",
    "Pour revenir à python-3, et pour anticiper un peu: lorsqu'il s'agit de manipuler des données  provenant de diverses sources de données:\n",
    " * le type `byte` est approprié si vous voulez charger en mémoire les données binaires brutes, sous forme d'octets donc;\n",
    " * le type `str` est approprié pour représenter une chaîne de caractères - qui, à nouveau ne sont pas forcément des octets;\n",
    " * on passe de l'un à l'autre de ces types par des opérations d'encodage et décodage, comme illustré ci-dessous;\n",
    " * et pour **toutes** les opérations d'encodage et décodage, il est nécessaire de connaître l'encodage utilisé.\n",
    " "
   ]
  },
  {
   "cell_type": "markdown",
   "metadata": {},
   "source": [
    "![les types bytes et str](media/str-bytes.png)"
   ]
  },
  {
   "cell_type": "markdown",
   "metadata": {},
   "source": [
    "Les fonctions `encode` et `decode` fournissent le plus souvent un mécanisme permettant qu'on les appelle sans préciser l'encodage (par exemple en se référant aux règlages système). Cela dit, il est de loin préférable d'être explicite et de choisir son encodage. \n",
    "\n",
    "En cas de doute, il me semble préférable de spécifier explicitement `utf-8`, qui se généralise au détriment d'encodages anciens comme `cp1242` et `iso-latin-*`, que de laisser le système hôte choisir pour vous. "
   ]
  },
  {
   "cell_type": "markdown",
   "metadata": {},
   "source": [
    "-----"
   ]
  },
  {
   "cell_type": "markdown",
   "metadata": {},
   "source": [
    "Je vous avais bien dit que les accents, c'était scabreux !"
   ]
  }
 ],
 "metadata": {
  "kernelspec": {
   "display_name": "Python 3",
   "language": "python",
   "name": "python3"
  },
  "language_info": {
   "codemirror_mode": {
    "name": "ipython",
    "version": 3
   },
   "file_extension": ".py",
   "mimetype": "text/x-python",
   "name": "python",
   "nbconvert_exporter": "python",
   "pygments_lexer": "ipython3",
   "version": "3.5.1"
  },
  "notebookname": "Caractères accentués",
  "version": "3.0"
 },
 "nbformat": 4,
 "nbformat_minor": 1
}