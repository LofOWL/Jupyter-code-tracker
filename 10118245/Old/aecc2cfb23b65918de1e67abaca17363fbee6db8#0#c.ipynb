{
 "metadata": {
  "notebookname": "modules et chemins",
  "signature": "7db706a1987e96fefba2e50562bbe7474929796a89c4d758493dd0512fd7b156",
  "version": "1.0"
 },
 "nbformat": 3,
 "nbformat_minor": 0,
 "worksheets": [
  {
   "cells": [
    {
     "cell_type": "heading",
     "level": 1,
     "metadata": {},
     "source": [
      "O\u00f9 sont rang\u00e9s les modules ?"
     ]
    },
    {
     "cell_type": "heading",
     "level": 2,
     "metadata": {},
     "source": [
      "Compl\u00e9ment - niveau interm\u00e9diaire"
     ]
    },
    {
     "cell_type": "markdown",
     "metadata": {},
     "source": [
      "Dans ce compl\u00e9ment nous allons voir, de mani\u00e8re g\u00e9n\u00e9rale, comment sont localis\u00e9s les modules que vous chargez dans python gr\u00e2ce \u00e0 l'instruction `import`; nous voyons aussi o\u00f9 placer vos propres fichiers pour qu'ils soient accessibles \u00e0 python."
     ]
    }
   ],
   "metadata": {}
  }
 ]
}