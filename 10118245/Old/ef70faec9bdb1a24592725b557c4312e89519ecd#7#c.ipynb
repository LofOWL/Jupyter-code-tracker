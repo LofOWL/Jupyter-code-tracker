{
 "metadata": {
  "notebookname": "type-checking",
  "signature": "sha256:2f8a4556b4a81052fe093a71c83624a301ac41cf4aba381e6a01febb7212aad6",
  "version": "1.0"
 },
 "nbformat": 3,
 "nbformat_minor": 0,
 "worksheets": [
  {
   "cells": [
    {
     "cell_type": "heading",
     "level": 1,
     "metadata": {},
     "source": [
      "Langages typ\u00e9s ou non, typages statique et dynamique"
     ]
    },
    {
     "cell_type": "heading",
     "level": 2,
     "metadata": {},
     "source": [
      "Compl\u00e9ment - niveau interm\u00e9diaire"
     ]
    },
    {
     "cell_type": "markdown",
     "metadata": {},
     "source": [
      "Il est de tradition de distinguer, parmi les langages, ceux qui sont typ\u00e9s ou non. On parle aussi de langage \u00e0 typage statique ou \u00e0 typage dynamique. Ce notebook tente d'\u00e9claircir ces notions pour ceux qui n'y sont pas familiers."
     ]
    },
    {
     "cell_type": "heading",
     "level": 3,
     "metadata": {},
     "source": [
      "Typage statique"
     ]
    },
    {
     "cell_type": "markdown",
     "metadata": {},
     "source": [
      "\u00c0 une extr\u00e9mit\u00e9 du spectre, on trouve les langages dits fortement typ\u00e9s, comme par exemple C/C++. \n",
      "\n",
      "En C on \u00e9crira par exemple une version simpliste de la fonction factoriel comme ceci"
     ]
    },
    {
     "cell_type": "raw",
     "metadata": {},
     "source": [
      "#include <stdio.h>\n",
      "\n",
      "int factoriel (int n) {\n",
      "  int result = 1;\n",
      "  int loop;\n",
      "  for (loop = 1; loop <= n; loop ++) {\n",
      "    result *= loop;\n",
      "  }\n",
      "  return result;\n",
      "}"
     ]
    },
    {
     "cell_type": "markdown",
     "metadata": {},
     "source": [
      "Comme vous pouvez le voir - ou le deviner - toutes les variables utilis\u00e9es ici (comme par exemple `n`, `result` et `loop`) sont typ\u00e9es:\n",
      " * on doit appeler `factoriel` avec un argument `n` qui doit \u00eatre un entier (`int` est le nom du type entier) \n",
      " * les variables internes `result` et `loop` sont de type entier\n",
      " * `factoriel` retourne une valeur de type entier"
     ]
    },
    {
     "cell_type": "markdown",
     "metadata": {},
     "source": [
      "C'est pourquoi on dit que C est fortement typ\u00e9. Ces informations de type ont essentiellement trois fonctions:\n",
      " * en premier lieu elles sont n\u00e9cessaires au compilateur; en C si le programmeur ne pr\u00e9cisait pas que result est de type entier, le compilateur n'aurait pas suffisamment d'\u00e9l\u00e9ments pour g\u00e9n\u00e9rer le code assembleur correspondant;\n",
      " * en contrepartie le programmeur a un contr\u00f4le tr\u00e8s fin de l'usage qu'il fait de la m\u00e9moire et du hardware. Il peut choisir d'utiliser un entier sur 32 ou 64 bits, sign\u00e9 ou pas, ou construire avec `struct` et `union` un arrangement de ses donn\u00e9es;\n",
      " * enfin, et surtout, ces informations de type permettent de faire un contr\u00f4le *a priori* de la validit\u00e9 du programme; par exemple si \u00e0 un autre endroit dans le code on trouve"
     ]
    },
    {
     "cell_type": "raw",
     "metadata": {},
     "source": [
      "int main (int argc, char *argv[]) {\n",
      "  /* le premier argument de la ligne de commande est argv[1] */\n",
      "  char *input = argv[1];\n",
      "  /* calculer son factoriel et afficher le resultat */\n",
      "  printf (\"Factoriel (%s) = %d\\n\",input,factoriel(input));\n",
      "  /*                                               ^^^                */\n",
      "  /* ici on appelle factoriel avec une entree 'chaine de caractere'   */\n",
      "  return 0;\n",
      "}"
     ]
    },
    {
     "cell_type": "markdown",
     "metadata": {},
     "source": [
      "alors le compilateur va remarquer qu'on essaie d'appeler `factoriel` avec comme argument `input` qui, pour faire simple, est une cha\u00eene de caract\u00e8res; et comme `factoriel` s'attend \u00e0 recevoir un entier ce programme n'a aucune chance de fonctionner.\n",
      "\n",
      "On parle alors aussi de **typage statique**, en ce sens que chaque variable a exactement un type, qui est d\u00e9fini par le programmeur une bonne fois pour toutes."
     ]
    },
    {
     "cell_type": "markdown",
     "metadata": {},
     "source": [
      "C'est ce qu'on appelle le **contr\u00f4le de type**, ou *type-checking* en anglais. Si on ignore le point sur le contr\u00f4le fin de la m\u00e9moire, qui n'est pas crucial \u00e0 notre sujet, le contr\u00f4le de type pr\u00e9sente \n",
      " * l'**inconv\u00e9nient** de demander davantage au programmeur, \n",
      " * et l'**avantage** de permettre un contr\u00f4le \u00e9tendu, et surtout pr\u00e9coce (avant m\u00eame de l'ex\u00e9cuter) de la bonne correction du programme"
     ]
    },
    {
     "cell_type": "markdown",
     "metadata": {},
     "source": [
      "Cela \u00e9tant dit, le typage statique en C n'emp\u00eache pas le programmeur d\u00e9butant d'essayer d'\u00e9crire dans la m\u00e9moire \u00e0 partir d'un pointeur `NULL` - et le programme de s'interrompre brutalement. Il faut \u00eatre conscient des limites du typage statique."
     ]
    },
    {
     "cell_type": "heading",
     "level": 3,
     "metadata": {},
     "source": [
      "Typage dynamique"
     ]
    },
    {
     "cell_type": "markdown",
     "metadata": {},
     "source": [
      "\u00c0 l'autre bout du spectre, on trouve des langages comme, eh bien, python. Si nous reprenons l'exemple de `factoriel` comme on l'a vu dans la toute premi\u00e8re vid\u00e9o:"
     ]
    },
    {
     "cell_type": "code",
     "collapsed": false,
     "input": [
      "def factoriel (n):\n",
      "    \"\"\"retourne le produit des n premiers entiers\"\"\"\n",
      "    return 1 if n <= 1 else n * factoriel (n-1)"
     ],
     "language": "python",
     "metadata": {},
     "outputs": []
    }
   ],
   "metadata": {}
  }
 ]
}