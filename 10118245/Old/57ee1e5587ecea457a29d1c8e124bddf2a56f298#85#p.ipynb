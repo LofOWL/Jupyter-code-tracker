{
 "metadata": {
  "kernelspec": {
   "display_name": "Python 2", 
   "language": "python", 
   "name": "python2"
  }, 
  "name": "", 
  "notebookname": "Les attributs", 
  "version": "2.0"
 }, 
 "nbformat": 2, 
 "nbformat_minor": 0, 
 "orig_nbformat": 4, 
 "orig_nbformat_minor": 0, 
 "worksheets": [
  {
   "cells": [
    {
     "cell_type": "markdown", 
     "metadata": {}, 
     "source": [
      "<span style=\"float:left;\">Licence CC BY-NC-ND</span><span style=\"float:right;\">Thierry Parmentelat &amp; Arnaud Legout&nbsp;<img src=\"media/inria-25.png\" style=\"display:inline\"></span><br/>"
     ]
    }, 
    {
     "cell_type": "markdown", 
     "metadata": {}, 
     "source": [
      "# Les attributs"
     ]
    }, 
    {
     "cell_type": "markdown", 
     "metadata": {}, 
     "source": [
      "## Compl\u00e9ments - niveau basique"
     ]
    }, 
    {
     "cell_type": "markdown", 
     "metadata": {}, 
     "source": [
      "### La notation `.` et les attributs"
     ]
    }, 
    {
     "cell_type": "markdown", 
     "metadata": {}, 
     "source": [
      "La notation `module.variable` que nous avons vue dans la vid\u00e9o est un cas particulier de la notion d'attribut, qui permet d'\u00e9tendre un objet, ou si on pr\u00e9f\u00e8re de lui accrocher des annotations.", 
      "", 
      "Nous avons d\u00e9j\u00e0 rencontr\u00e9 ceci plusieurs fois, c'est exactement le m\u00eame m\u00e9canisme d'attribut qui est utilis\u00e9 \u00e9galement pour les m\u00e9thodes; pour le syst\u00e8me d'attribut il n'y a pas de diff\u00e9rence entre `module.variable`, `module.fonction`, `objet.classe`, etc.. ", 
      "", 
      "Nous verrons tr\u00e8s bient\u00f4t que ce m\u00e9canisme est massivement utilis\u00e9 \u00e9galement dans les instances de classe."
     ]
    }, 
    {
     "cell_type": "markdown", 
     "metadata": {}, 
     "source": [
      "### Les fonctions de gestion des attributs"
     ]
    }, 
    {
     "cell_type": "markdown", 
     "metadata": {}, 
     "source": [
      "Pour acc\u00e9der programmativement aux attributs d'un objet, on dispose des 3 fonctions *builtin* `getattr`, `setattr`, et `hasattr`, que nous allons illustrer tout de suite"
     ]
    }, 
    {
     "cell_type": "markdown", 
     "metadata": {}, 
     "source": [
      "##### Lire un attribut"
     ]
    }, 
    {
     "cell_type": "code", 
     "collapsed": false, 
     "input": [
      "import math", 
      "# la forme la plus simple", 
      "math.pi"
     ], 
     "language": "python", 
     "metadata": {}, 
     "outputs": [], 
     "prompt_number": null
    }, 
    {
     "cell_type": "markdown", 
     "metadata": {}, 
     "source": [
      "La [fonction *builtin* `getattr`](https://docs.python.org/2/library/functions.html#getattr) permet de lire un attribut programmativement"
     ]
    }, 
    {
     "cell_type": "code", 
     "collapsed": false, 
     "input": [
      "# si on part d'une cha\u00eene qui d\u00e9signe le nom de l'attribut", 
      "# la formule \u00e9quivalente est alors", 
      "getattr(math, 'pi')"
     ], 
     "language": "python", 
     "metadata": {}, 
     "outputs": [], 
     "prompt_number": null
    }, 
    {
     "cell_type": "code", 
     "collapsed": false, 
     "input": [
      "# on peut utiliser les attributs avec la plupart des objets", 
      "# ici nous allons le faire sur une fonction", 
      "def foo() : ", 
      "    \"une fonction vide\"", 
      "    pass", 
      "", 
      "# on a d\u00e9j\u00e0 vu certains attributs des fonctions", 
      "print 'nom', foo.__name__, 'docstring', foo.__doc__"
     ], 
     "language": "python", 
     "metadata": {}, 
     "outputs": [], 
     "prompt_number": null
    }, 
    {
     "cell_type": "code", 
     "collapsed": false, 
     "input": [
      "# on peut pr\u00e9ciser une valeur pour d\u00e9faut pour le cas o\u00f9 l'attribut", 
      "# n'existe pas", 
      "getattr(foo, \"attribut_inexistant\", 'valeur_par_defaut')"
     ], 
     "language": "python", 
     "metadata": {}, 
     "outputs": [], 
     "prompt_number": null
    }, 
    {
     "cell_type": "markdown", 
     "metadata": {}, 
     "source": [
      "##### \u00c9crire un attribut"
     ]
    }, 
    {
     "cell_type": "code", 
     "collapsed": false, 
     "input": [
      "# on peut ajouter un attribut arbitraire (toujours sur l'objet fonction)", 
      "foo.hauteur = 100", 
      "", 
      "foo.hauteur"
     ], 
     "language": "python", 
     "metadata": {}, 
     "outputs": [], 
     "prompt_number": null
    }, 
    {
     "cell_type": "markdown", 
     "metadata": {}, 
     "source": [
      "Comme pour la lecture on peut \u00e9crire un attribut programativement avec la [fonction *builtin* `setattr`](https://docs.python.org/2/library/functions.html#setattr)"
     ]
    }, 
    {
     "cell_type": "code", 
     "collapsed": false, 
     "input": [
      "setattr(foo, \"largeur\", 200 )", 
      "", 
      "getattr(foo, \"largeur\")"
     ], 
     "language": "python", 
     "metadata": {}, 
     "outputs": [], 
     "prompt_number": null
    }, 
    {
     "cell_type": "markdown", 
     "metadata": {}, 
     "source": [
      "##### Liste des attributs"
     ]
    }, 
    {
     "cell_type": "markdown", 
     "metadata": {}, 
     "source": [
      "La [fonction *builtin* `hasattr`](https://docs.python.org/2/library/functions.html#hasattr) permet de savoir si un objet poss\u00e8de ou pas un attribut:"
     ]
    }, 
    {
     "cell_type": "code", 
     "collapsed": false, 
     "input": [
      "# pour savoir si un attribut existe", 
      "hasattr(math, 'pi')"
     ], 
     "language": "python", 
     "metadata": {}, 
     "outputs": [], 
     "prompt_number": null
    }, 
    {
     "cell_type": "markdown", 
     "metadata": {}, 
     "source": [
      "Ce qui peut aussi \u00eatre retrouv\u00e9 autrement, avec la [fonction *builtin* `vars`](https://docs.python.org/2/library/functions.html#vars)"
     ]
    }, 
    {
     "cell_type": "code", 
     "collapsed": false, 
     "input": [
      "vars(foo)"
     ], 
     "language": "python", 
     "metadata": {}, 
     "outputs": [], 
     "prompt_number": null
    }, 
    {
     "cell_type": "markdown", 
     "metadata": {}, 
     "source": [
      "### Sur quels objets"
     ]
    }, 
    {
     "cell_type": "markdown", 
     "metadata": {}, 
     "source": [
      "Il n'est pas possible d'ajouter des attributs sur les types de base"
     ]
    }, 
    {
     "cell_type": "code", 
     "collapsed": false, 
     "input": [
      "for builtin_type in (int, str, float, long, complex, tuple, dict, set, frozenset):", 
      "    obj = builtin_type()", 
      "    try: ", 
      "        obj.foo = 'bar'", 
      "    except AttributeError as e: ", 
      "        print \"type\", builtin_type.__name__, \"exception\", e"
     ], 
     "language": "python", 
     "metadata": {}, 
     "outputs": [], 
     "prompt_number": null
    }, 
    {
     "cell_type": "markdown", 
     "metadata": {}, 
     "source": [
      "Il est par contre disponible sur virtuellement tout le reste, et notamment l\u00e0 o\u00f9 il est tr\u00e8s utile, c'est-\u00e0-dire pour ce qui nous concerne:", 
      " * modules", 
      " * packages", 
      " * fonctions", 
      " * classes", 
      " * instances"
     ]
    }, 
    {
     "cell_type": "markdown", 
     "metadata": {}, 
     "source": [
      "## Compl\u00e9ments - niveau avanc\u00e9"
     ]
    }, 
    {
     "cell_type": "markdown", 
     "metadata": {}, 
     "source": [
      "Vous pouvez vous demander pourquoi il n'est pas possible d'ajouter des attributs \u00e0 un objet *builtin*. Le probl\u00e8me n'est pas tant d'ajouter des attributs que de modifier des attributs existants. On comprend ais\u00e9ment que modifier un objet *builtin* risque de corrompre le fonctionnement non seulement de votre programme d'une mani\u00e8re difficile \u00e0 pr\u00e9voir, mais aussi de tous les modules que vous utilisez. Dit autrement, les objets *builtin* sont la base de python et si vous les modifiez, vous modifiez le fonctionnement de python. "
     ]
    }, 
    {
     "cell_type": "markdown", 
     "metadata": {}, 
     "source": [
      "Pour rendre impossible la modification d'un objet *builtin*, python utilise, au lieu d'un dictionnaire classique pour son espace de nommage, un proxy \u00e0 ce dictionnaire, appel\u00e9 *dictproxy* qui interdit les modifications. On rappelle que l'espace de nommage d'un objet est presque toujours r\u00e9f\u00e9renc\u00e9 par l'attribut `__dict__`. Regardons alors le type de l'espace de nommage pour la fonction `foo`"
     ]
    }, 
    {
     "cell_type": "code", 
     "collapsed": false, 
     "input": [
      "type(foo.__dict__)"
     ], 
     "language": "python", 
     "metadata": {}, 
     "outputs": [], 
     "prompt_number": null
    }, 
    {
     "cell_type": "markdown", 
     "metadata": {}, 
     "source": [
      "mais le type de l'espace de nommage pour l'objet *builtin* `int` est"
     ]
    }, 
    {
     "cell_type": "code", 
     "collapsed": false, 
     "input": [
      "type(int.__dict__)"
     ], 
     "language": "python", 
     "metadata": {}, 
     "outputs": [], 
     "prompt_number": null
    }
   ], 
   "metadata": {}
  }
 ]
}
