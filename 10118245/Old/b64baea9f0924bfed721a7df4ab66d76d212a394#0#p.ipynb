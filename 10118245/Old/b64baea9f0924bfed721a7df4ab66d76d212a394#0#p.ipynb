{
 "metadata": {
  "notebookname": "exercice: if et def",
  "signature": "ff9ef030dff6f06a201867e5c4212c4617561e7219d995fbea8c0a5c30925296",
  "version": "1.0"
 },
 "nbformat": 3,
 "nbformat_minor": 0,
 "worksheets": [
  {
   "cells": [
    {
     "cell_type": "heading",
     "level": 1,
     "metadata": {},
     "source": [
      "Instruction conditionnelle `if` et fonction `def`"
     ]
    },
    {
     "cell_type": "heading",
     "level": 2,
     "metadata": {},
     "source": [
      "Exercices - niveau basique"
     ]
    },
    {
     "cell_type": "heading",
     "level": 3,
     "metadata": {},
     "source": [
      "Fonction de divisibilit\u00e9"
     ]
    },
    {
     "cell_type": "markdown",
     "metadata": {},
     "source": [
      "L'exercice consiste \u00e0 \u00e9crire une fonction baptis\u00e9e `divisible` qui retourne une valeur bool\u00e9enne qui indique si un des deux arguments est divisible par l'autre."
     ]
    },
    {
     "cell_type": "code",
     "collapsed": false,
     "input": [
      "def divisible (a,b):\n",
      "    <votre_code>"
     ],
     "language": "python",
     "metadata": {},
     "outputs": []
    },
    {
     "cell_type": "markdown",
     "metadata": {},
     "source": [
      "Vous pouvez \u00e0 pr\u00e9sent tester votre code en \u00e9valuant ceci, qui \u00e9crira un message d'erreur si un des jeux de test ne donne pas le r\u00e9sultat attendu. Vous avez d'ailleurs \u00e0 pr\u00e9sent toutes les comp\u00e9tences pour comprendre ce code si le coaur vous en dit"
     ]
    },
    {
     "cell_type": "code",
     "collapsed": false,
     "input": [
      "# correction\n",
      "from correction_if import correction_divisible\n",
      "correction_divisible (divisible)"
     ],
     "language": "python",
     "metadata": {},
     "outputs": []
    },
    {
     "cell_type": "markdown",
     "metadata": {},
     "source": [
      "**Remarque.** Vu comme le probl\u00e8me est pos\u00e9 il est assez naturel d'utiliser un `if` pour \u00e9crire 'divisible'. Vous remarquerez toutefois qu'un `if` n'est pas strictement indispensable, et nous vous invitons \u00e0 exhiber une version sans `if` qui est .. plus pythonique"
     ]
    }
   ],
   "metadata": {}
  }
 ]
}