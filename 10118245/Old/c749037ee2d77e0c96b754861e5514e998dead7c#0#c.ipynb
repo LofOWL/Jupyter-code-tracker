{
 "metadata": {
  "notebookname": "NO HEADING 1 found",
  "signature": "sha256:3fa754df0cc80a55396cbf1e3026ad54b1ec64e312d634d22ee370217cf56147",
  "version": "1.0"
 },
 "nbformat": 3,
 "nbformat_minor": 0,
 "worksheets": [
  {
   "cells": [
    {
     "cell_type": "markdown",
     "metadata": {},
     "source": [
      "Je simule un exercice d\u00e9bile, on demande aux \u00e9tudiants d'\u00e9crire une classe `Fifo`\n",
      "    \n",
      "qui impl\u00e9mente \n",
      "* un constructeur `Fifo()`\n",
      "* une m\u00e9thode `incoming(obj)`\n",
      "* une m\u00e9thode `outgoing()`\n",
      "\n",
      "qui rende simplement les objets dans le m\u00eame ordre o\u00f9 ils ont \u00e9t\u00e9 rang\u00e9s"
     ]
    },
    {
     "cell_type": "markdown",
     "metadata": {},
     "source": [
      "L'\u00e9tudiant est invit\u00e9 \u00e0 \u00e9crire son code dans la class `Fifo`;\n",
      "\n",
      "On lui propose en arrivant une cellule vide comme ceci"
     ]
    },
    {
     "cell_type": "code",
     "collapsed": false,
     "input": [
      "class Fifo(object):\n",
      "    def __init__(self):\n",
      "        pass\n",
      "    def incoming(self, obj):\n",
      "        pass\n",
      "    def outgoing(self):\n",
      "        pass"
     ],
     "language": "python",
     "metadata": {},
     "outputs": [],
     "prompt_number": 1
    },
    {
     "cell_type": "markdown",
     "metadata": {},
     "source": [
      "Il la modifie, imaginons que \u00e7a donne cela"
     ]
    },
    {
     "cell_type": "code",
     "collapsed": false,
     "input": [
      "# cette classe est cass\u00e9e expr\u00e8s ...\n",
      "class Fifo(object):\n",
      "    def __init__(self):\n",
      "        self.items = []\n",
      "    def incoming(self, obj):\n",
      "        self.items.append(obj)\n",
      "    def outgoing(self):\n",
      "        return self.items.pop()"
     ],
     "language": "python",
     "metadata": {},
     "outputs": [],
     "prompt_number": 2
    },
    {
     "cell_type": "markdown",
     "metadata": {},
     "source": [
      "Et voici la cellule pour corriger "
     ]
    },
    {
     "cell_type": "code",
     "collapsed": false,
     "input": [
      "from corrections.w5_fifo import exo_fifo\n",
      "exo_fifo.correction(Fifo)"
     ],
     "language": "python",
     "metadata": {},
     "outputs": [
      {
       "output_type": "stream",
       "stream": "stdout",
       "text": [
        "Solution = <class 'corrections.w5_fifo.Fifo'>\n",
        "Student class = <class '__main__.Fifo'>\n",
        "dealing with step incoming - <Args (1,) >\n",
        "OK\n",
        "dealing with step incoming - <Args (2,) >\n",
        "OK\n",
        "dealing with step outgoing - <Args () >\n",
        "KO\n",
        "dealing with step incoming - <Args (3,) >\n",
        "OK\n",
        "dealing with step incoming - <Args (4,) >\n",
        "OK\n",
        "dealing with step outgoing - <Args () >\n",
        "KO\n",
        "<h2>Overall = True</h2><table style='font-family:monospace;font-size:small;'><tr style='font-family:monospace;font-size:medium;'><th>Arguments</th><th>Attendu</th><th>Obtenu</th></tr><tr><th colspan=3 style='text-align:center;'>Scenario 0</th></tr></table>\n"
       ]
      },
      {
       "html": [
        "<h2>Overall = True</h2><table style='font-family:monospace;font-size:small;'><tr style='font-family:monospace;font-size:medium;'><th>Arguments</th><th>Attendu</th><th>Obtenu</th></tr><tr><th colspan=3 style='text-align:center;'>Scenario 0</th></tr></table>"
       ],
       "metadata": {},
       "output_type": "pyout",
       "prompt_number": 3,
       "text": [
        "<IPython.core.display.HTML at 0x111219c50>"
       ]
      }
     ],
     "prompt_number": 3
    },
    {
     "cell_type": "markdown",
     "metadata": {},
     "source": [
      "Voici enfin comment la correction est \u00e9crite"
     ]
    },
    {
     "cell_type": "code",
     "collapsed": false,
     "input": [
      "from modtools import show_module\n",
      "import corrections.w5_fifo\n",
      "show_module(corrections.w5_fifo)"
     ],
     "language": "python",
     "metadata": {},
     "outputs": [
      {
       "output_type": "stream",
       "stream": "stdout",
       "text": [
        "Nice try\n"
       ]
      }
     ],
     "prompt_number": 5
    },
    {
     "cell_type": "markdown",
     "metadata": {},
     "source": [
      "Remarquez \n",
      "Les lignes depuis `# @BEG@ 0 0 curve` \u00e0 `# @END@` servent \u00e0 l'outil qui extrait les corrig\u00e9s. \n",
      "\n",
      "Voir `tools/corriges.py`\n"
     ]
    },
    {
     "cell_type": "markdown",
     "metadata": {},
     "source": [
      "*********"
     ]
    }
   ],
   "metadata": {}
  }
 ]
}