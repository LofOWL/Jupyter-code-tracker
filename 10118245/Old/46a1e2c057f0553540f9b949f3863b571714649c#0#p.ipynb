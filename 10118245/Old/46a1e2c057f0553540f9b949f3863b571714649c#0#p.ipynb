{
 "metadata": {
  "name": "",
  "signature": "sha256:35a607e407bde957b35ce67b44dc7ac63b2f7d92dab75db6ea83c0faeeede09a"
 },
 "nbformat": 3,
 "nbformat_minor": 0,
 "worksheets": [
  {
   "cells": [
    {
     "cell_type": "heading",
     "level": 1,
     "metadata": {},
     "source": [
      "Op\u00e9rations 'bitwise'"
     ]
    },
    {
     "cell_type": "heading",
     "level": 2,
     "metadata": {},
     "source": [
      "ET logique, OU logique"
     ]
    },
    {
     "cell_type": "markdown",
     "metadata": {},
     "source": [
      "Il est possible aussi de faire des op\u00e9rations \"bit-\u00e0-bit\" sur les nombres entiers. \\\\\n",
      "le plus simple est de penser \u00e0 l'\u00e9criture du nombre en base 2"
     ]
    },
    {
     "cell_type": "markdown",
     "metadata": {},
     "source": [
      "Par exemple\n",
      "\n",
      "$x = 49 = 32 + 16 + 1 \\rightarrow (0,1,1,0,0,0,1) $\n",
      "\n",
      "$y = 81 = 64 + 16 + 1 \\rightarrow (1,0,1,0,0,0,1) $\n",
      "\n"
     ]
    },
    {
     "cell_type": "code",
     "collapsed": false,
     "input": [
      "x=49\n",
      "y=81"
     ],
     "language": "python",
     "metadata": {},
     "outputs": []
    },
    {
     "cell_type": "markdown",
     "metadata": {},
     "source": [
      "L'op\u00e9ration logique '&' va faire un 'et' logique bit \u00e0 bit entre les op\u00e9randes, ainsi"
     ]
    },
    {
     "cell_type": "code",
     "collapsed": false,
     "input": [
      "x&y"
     ],
     "language": "python",
     "metadata": {},
     "outputs": []
    },
    {
     "cell_type": "markdown",
     "metadata": {},
     "source": [
      "Et en effet\n",
      "\n",
      "$\\ \\ x\\ \\ \\rightarrow (0,1,1,0,0,0,1) $\n",
      "\n",
      "$\\ \\ y\\ \\ \\rightarrow (1,0,1,0,0,0,1) $\n",
      "\n",
      "$x\\&y \\rightarrow (0,0,1,0,0,0,1) \\rightarrow 17$\n"
     ]
    },
    {
     "cell_type": "code",
     "collapsed": false,
     "input": [],
     "language": "python",
     "metadata": {},
     "outputs": []
    },
    {
     "cell_type": "markdown",
     "metadata": {},
     "source": [
      "De m\u00eame, l'op\u00e9ration logique '|' fait simplement un 'ou' logique, comme ceci"
     ]
    },
    {
     "cell_type": "code",
     "collapsed": false,
     "input": [
      "x|y"
     ],
     "language": "python",
     "metadata": {},
     "outputs": []
    },
    {
     "cell_type": "markdown",
     "metadata": {},
     "source": [
      "On s'y retrouve parce que\n",
      "\n",
      "$\\ \\ x\\ \\rightarrow (0,1,1,0,0,0,1) $\n",
      "\n",
      "$\\ \\ y\\ \\rightarrow (1,0,1,0,0,0,1) $\n",
      "\n",
      "$x|y \\rightarrow (1,1,1,0,0,0,1) \\rightarrow 64+32+16+1$\n"
     ]
    },
    {
     "cell_type": "heading",
     "level": 2,
     "metadata": {},
     "source": [
      "N\u00e9gation"
     ]
    },
    {
     "cell_type": "markdown",
     "metadata": {},
     "source": [
      "De la m\u00eame fa\u00e7on on peut calculer la \"n\u00e9gation\", c'est-\u00e0-dire \"inverser\" les 0 et les 1 dans la repr\u00e9sentation binaire"
     ]
    },
    {
     "cell_type": "code",
     "collapsed": false,
     "input": [
      "\u02dcx"
     ],
     "language": "python",
     "metadata": {},
     "outputs": []
    },
    {
     "cell_type": "markdown",
     "metadata": {},
     "source": [
      "Le r\u00e9sultat de \"-50\" peut para\u00eetre surprenant \u00e0 premi\u00e8re vue"
     ]
    },
    {
     "cell_type": "code",
     "collapsed": false,
     "input": [],
     "language": "python",
     "metadata": {},
     "outputs": []
    }
   ],
   "metadata": {}
  }
 ]
}