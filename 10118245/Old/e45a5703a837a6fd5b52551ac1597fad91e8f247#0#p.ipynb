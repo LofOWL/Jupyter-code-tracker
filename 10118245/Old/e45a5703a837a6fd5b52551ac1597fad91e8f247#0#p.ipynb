{
 "metadata": {
  "notebookname": "Web crawler",
  "signature": "sha256:e6c50038ab0755c16b0d59ef76335368e17b07163bf4b5b244e2d97a665af021",
  "version": "1.0"
 },
 "nbformat": 3,
 "nbformat_minor": 0,
 "worksheets": [
  {
   "cells": [
    {
     "cell_type": "heading",
     "level": 1,
     "metadata": {},
     "source": [
      "Web crawler"
     ]
    }
   ],
   "metadata": {}
  }
 ]
}