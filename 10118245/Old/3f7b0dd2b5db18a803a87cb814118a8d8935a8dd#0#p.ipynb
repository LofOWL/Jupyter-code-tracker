{
 "metadata": {
  "notebookname": "H\u00e9ritage",
  "signature": "eac587a73adbfe34c21e3ce5da3a1ffeec09b41e52016c2713b68fc021ea35dc",
  "version": "1.0"
 },
 "nbformat": 3,
 "nbformat_minor": 0,
 "worksheets": [
  {
   "cells": [
    {
     "cell_type": "heading",
     "level": 1,
     "metadata": {},
     "source": [
      "H\u00e9ritage"
     ]
    },
    {
     "cell_type": "heading",
     "level": 2,
     "metadata": {},
     "source": [
      "Compl\u00e9ment - niveau basique"
     ]
    },
    {
     "cell_type": "heading",
     "level": 3,
     "metadata": {},
     "source": [
      "\u00c0 quoi sert l'h\u00e9ritage en python ?"
     ]
    },
    {
     "cell_type": "markdown",
     "metadata": {},
     "source": [
      "La notion d'h\u00e9ritage, qui fait partie int\u00e9grante de la Programmation Orient\u00e9e Objet, permet principalement de maximiser la **r\u00e9utilisabilit\u00e9**."
     ]
    },
    {
     "cell_type": "markdown",
     "metadata": {},
     "source": [
      "Nous avons vu dans la vid\u00e9o les m\u00e9canismes d'h\u00e9ritage *in abstracto*. Pour r\u00e9sumer tr\u00e8s bri\u00e8vement, on recherche un attribut (souvent une m\u00e9thode) \u00e0 partir d'une instance en cherchant :\n",
      " * d'abord dans l'instance elle-m\u00eame,\n",
      " * puis dans la classe de l'instance,\n",
      " * puis dans les super-classes de la classe."
     ]
    },
    {
     "cell_type": "markdown",
     "metadata": {},
     "source": [
      "Le propos de ce compl\u00e9ment est de montrer, sur des **exemples extraits de code r\u00e9el**, comment ces m\u00e9canismes permettent en effet de contribuer \u00e0 la r\u00e9utilisabilit\u00e9 du code."
     ]
    },
    {
     "cell_type": "heading",
     "level": 5,
     "metadata": {},
     "source": [
      "Factorisation de code"
     ]
    },
    {
     "cell_type": "markdown",
     "metadata": {},
     "source": [
      "On trouve dans la librairie standard [le module `calendar`](https://docs.python.org/2/library/calendar.html). \n",
      "\n",
      "Ce module expose deux classes `TextCalendar` et `HTMLCalendar`. Sans entrer du tout dans le d\u00e9tail, ces deux classes permettent d'imprimer dans des formats diff\u00e9rents, le m\u00eame type d'informations du type rendez-vous.\n",
      "\n",
      "Le point ici est que les concepteurs ont choisi un graphe d'h\u00e9ritage comme ceci\n",
      "\n",
      "    Calendar\n",
      "    |-- TextCalendar\n",
      "    |-- HTMLCalendar\n",
      "    \n",
      "qui permet de grouper le code concernant la logique dans la classe `Calendar`, puis dans les deux sous-classes d'impl\u00e9menter le type de sortie qui va bien. \n",
      "\n",
      "De cette mani\u00e8re le maximum de code est partag\u00e9 entre les deux classes; et de plus si vous avez besoin d'une sortie au format, disons PDF, vous pouvez envisager d'h\u00e9riter de `Calendar` et n'impl\u00e9menter que la partie sp\u00e9cifique au format PDF.\n",
      "\n",
      "C'est un peu le niveau \u00e9l\u00e9mentaire de l'h\u00e9ritage. "
     ]
    },
    {
     "cell_type": "code",
     "collapsed": false,
     "input": [
      "import SocketServer\n",
      "help (SocketServer)"
     ],
     "language": "python",
     "metadata": {},
     "outputs": []
    },
    {
     "cell_type": "code",
     "collapsed": false,
     "input": [
      "import BaseHTTPServer\n",
      "help (BaseHTTPServer)"
     ],
     "language": "python",
     "metadata": {},
     "outputs": []
    },
    {
     "cell_type": "code",
     "collapsed": false,
     "input": [
      "Voir aussi http://www.pasteur.fr/formation/infobio/python/ch19s04.html"
     ],
     "language": "python",
     "metadata": {},
     "outputs": []
    },
    {
     "cell_type": "heading",
     "level": 5,
     "metadata": {},
     "source": [
      "Sp\u00e9cialisation"
     ]
    },
    {
     "cell_type": "heading",
     "level": 5,
     "metadata": {},
     "source": [
      "Composition (plut\u00f4t dire aggr\u00e9gation ?)"
     ]
    },
    {
     "cell_type": "heading",
     "level": 2,
     "metadata": {},
     "source": [
      "Compl\u00e9ment - niveau interm\u00e9diaire"
     ]
    },
    {
     "cell_type": "heading",
     "level": 3,
     "metadata": {},
     "source": [
      "\u00c0 quoi l'h\u00e9ritage ne sert pas en python"
     ]
    },
    {
     "cell_type": "heading",
     "level": 5,
     "metadata": {},
     "source": [
      "Familles de classe / typage"
     ]
    },
    {
     "cell_type": "markdown",
     "metadata": {},
     "source": [
      "Si vous \u00eates habitu\u00e9s \u00e0 coder dans un langage fortement typ\u00e9 comme C++, vous \u00eates sans doute habitu\u00e9s \u00e0 appr\u00e9hender l'h\u00e9ritage *aussi* en terme de types. \n",
      "\n",
      "Voyons ceci sur un exemple. Imaginons que l'on veuille \u00e9crire un analyseur syntaxique pour un langage simple d'expressions arithm\u00e9tiques. Un pratique cela voudra dire disposer d'un parser pour transformer un texte comme\n",
      "\n",
      "    (10 + 12) * (32 + 5)\n",
      "    \n",
      "en un arbre syntaxique construit avec les op\u00e9rateurs `Entier`, `Plus`, `Fois`, chacun repr\u00e9sent\u00e9 comme une classe; pour ce texte on obtiendrait donc l'objet\n",
      "\n",
      "    Fois(Plus(Entier(10), Entier(12)), Plus(Entier(32), Entier(5)))"
     ]
    },
    {
     "cell_type": "code",
     "collapsed": false,
     "input": [
      "Avec un langage fortement typ\u00e9 on va avoir tendance \u00e0 d\u00e9finir un type *chapeau* qu'on appelle par exemple `Expression`, et on va concevoir un arbre d'h\u00e9ritage du genre de\n",
      "\n",
      "    Expression\n",
      "    |-- Entier\n",
      "    |-- Plus\n",
      "    |-- Fois\n",
      "    \n",
      "De cette fa\u00e7on on pourra "
     ],
     "language": "python",
     "metadata": {},
     "outputs": []
    }
   ],
   "metadata": {}
  }
 ]
}