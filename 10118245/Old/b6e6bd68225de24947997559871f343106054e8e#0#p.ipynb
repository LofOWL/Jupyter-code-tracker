{
 "metadata": {
  "notebookname": "Fusionner des donn\u00e9es",
  "signature": "a149e5fc1229524cd9c48b8a6160a15c7f6420ba6fe8966921b7af512e4c9d73",
  "version": "1.0"
 },
 "nbformat": 3,
 "nbformat_minor": 0,
 "worksheets": [
  {
   "cells": [
    {
     "cell_type": "heading",
     "level": 1,
     "metadata": {},
     "source": [
      "Fusionner des donn\u00e9es"
     ]
    },
    {
     "cell_type": "heading",
     "level": 2,
     "metadata": {},
     "source": [
      "Exercice - niveau interm\u00e9diaire"
     ]
    },
    {
     "cell_type": "markdown",
     "metadata": {},
     "source": [
      "\u00e0 r\u00e9diger - r\u00e9cup\u00e9rer la bafouille sur json du nb / meteo qui est un peu du m\u00eame genre mais qu'on fera plus tard"
     ]
    },
    {
     "cell_type": "code",
     "collapsed": false,
     "input": [
      "# load data from files\n",
      "import json\n",
      "\n",
      "with open(\"data/marine-e1-ext.json\") as feed:\n",
      "    extended = json.load(feed)\n",
      "    \n",
      "with open(\"data/marine-e1-abb.json\") as feed:\n",
      "    abbreviated = json.load(feed)"
     ],
     "language": "python",
     "metadata": {},
     "outputs": []
    },
    {
     "cell_type": "code",
     "collapsed": false,
     "input": [
      "# les donn\u00e9es \u00e9tendues sont une liste de listes qui ressemblent \u00e0 ceci\n",
      "print extended [7]"
     ],
     "language": "python",
     "metadata": {},
     "outputs": []
    },
    {
     "cell_type": "code",
     "collapsed": false,
     "input": [
      "# les donn\u00e9es abbr\u00e9g\u00e9es sont une liste de listes comme\n",
      "print abbreviated [0]"
     ],
     "language": "python",
     "metadata": {},
     "outputs": []
    },
    {
     "cell_type": "code",
     "collapsed": false,
     "input": [
      "def merge (extended, abbreviated):\n",
      "    \"<votre_code>\""
     ],
     "language": "python",
     "metadata": {},
     "outputs": []
    },
    {
     "cell_type": "code",
     "collapsed": false,
     "input": [
      "from corrections.w3_marine import correction_merge\n",
      "correction_merge(merge, extended, abbreviated)"
     ],
     "language": "python",
     "metadata": {},
     "outputs": []
    },
    {
     "cell_type": "code",
     "collapsed": false,
     "input": [
      "# le r\u00e9sultat correct\n",
      "from corrections.w3_marine import resultat_merge\n",
      "resultat = resultat_merge (extended, abbreviated)"
     ],
     "language": "python",
     "metadata": {},
     "outputs": []
    },
    {
     "cell_type": "code",
     "collapsed": false,
     "input": [
      "# a quoi ressemble le resultat pour le premier bateau\n",
      "from pprint import pprint\n",
      "for cle_valeur in resultat.iteritems():\n",
      "    pprint (cle_valeur)\n",
      "    break"
     ],
     "language": "python",
     "metadata": {},
     "outputs": []
    }
   ],
   "metadata": {}
  }
 ]
}