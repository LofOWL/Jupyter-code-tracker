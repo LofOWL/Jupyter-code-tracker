{
 "metadata": {
  "notebookname": "modules et chemins",
  "signature": "sha256:7ff926f16e4d02c681e5dd8c163886512fdba0fb07161c21676272c45bae29bd",
  "version": "1.0"
 },
 "nbformat": 3,
 "nbformat_minor": 0,
 "worksheets": [
  {
   "cells": [
    {
     "cell_type": "heading",
     "level": 1,
     "metadata": {},
     "source": [
      "O\u00f9 sont cherch\u00e9s les modules ?"
     ]
    },
    {
     "cell_type": "heading",
     "level": 2,
     "metadata": {},
     "source": [
      "Compl\u00e9ment - niveau basique"
     ]
    },
    {
     "cell_type": "markdown",
     "metadata": {},
     "source": [
      "Pour les d\u00e9butants en informatique, le plus simple est de se souvenir que si vous voulez uniquement charger vos propres modules ou packages, il suffit de les placer dans le directory o\u00f9 vous lancez la commande python. Si vous n'\u00eates pas s\u00fbr de cet emplacement vous pouvez le savoir en faisant:"
     ]
    },
    {
     "cell_type": "code",
     "collapsed": false,
     "input": [
      "import os\n",
      "os.getcwd()"
     ],
     "language": "python",
     "metadata": {},
     "outputs": []
    },
    {
     "cell_type": "heading",
     "level": 2,
     "metadata": {},
     "source": [
      "Compl\u00e9ment - niveau interm\u00e9diaire"
     ]
    },
    {
     "cell_type": "markdown",
     "metadata": {},
     "source": [
      "Dans ce compl\u00e9ment nous allons voir, de mani\u00e8re g\u00e9n\u00e9rale, comment sont localis\u00e9s (sur le disque dur) les modules que vous chargez dans python gr\u00e2ce \u00e0 l'instruction `import`; nous voyons aussi o\u00f9 placer vos propres fichiers pour qu'ils soient accessibles \u00e0 python."
     ]
    },
    {
     "cell_type": "markdown",
     "metadata": {},
     "source": [
      "[Comme expliqu\u00e9 ici](https://docs.python.org/2/tutorial/modules.html#the-module-search-path), lorsque vous importez le module `spam`, python cherche dans cet ordre:\n",
      " * un module *built-in* de nom `spam` - probablement \u00e9crit en C donc\n",
      " * ou sinon un fichier `spam.py`; pour le localiser on utilise la variable `sys.path` (c'est-\u00e0-dire donc l'attribut `path` dans le module `sys`), qui est une liste de directories, et qui est initialis\u00e9e avec, dans cet ordre\n",
      "   * le directory courant (celui dans lequel est lanc\u00e9 python),\n",
      "   * la variable d'environnement `PYTHONPATH`\n",
      "   * un certain nombre d'emplacements d\u00e9finis au moment de la compilation de python."
     ]
    },
    {
     "cell_type": "raw",
     "metadata": {},
     "source": [
      "xxx - \u00e0 finir"
     ]
    },
    {
     "cell_type": "raw",
     "metadata": {},
     "source": [
      "Expliquer le propos de PYTHONPATH"
     ]
    },
    {
     "cell_type": "raw",
     "metadata": {},
     "source": [
      "Expliquer comment changer PYTHONPATH"
     ]
    },
    {
     "cell_type": "raw",
     "metadata": {},
     "source": [
      "Montrer la valeur de sys.path"
     ]
    },
    {
     "cell_type": "raw",
     "metadata": {},
     "source": [
      "Expliquer comment on peut par exemple tout installer dans /usr/share/mytool et ajouter ce chemin a sys.path"
     ]
    },
    {
     "cell_type": "raw",
     "metadata": {},
     "source": [
      "mentionner Python Standard Library https://docs.python.org/2/library/index.html"
     ]
    }
   ],
   "metadata": {}
  }
 ]
}