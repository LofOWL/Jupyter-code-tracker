{
 "cells": [
  {
   "cell_type": "markdown",
   "metadata": {},
   "source": [
    "## La commande UNIX wc(1)\n",
    "\n",
    "---\n",
    "\n",
    "Sur les système de type UNIX, la commande [wc](http://pubs.opengroup.org/onlinepubs/9699919799/utilities/wc.html) permet de compter le nombre de lignes, de mots et d'octets (ou caractères) présents sur l'entrée standard ou contenus dans un fichier.\n",
    "\n",
    "L'exercice consiste à écrire une fonction nommée *wc* qui prendra en argument une chaîne de caractère et retournera un tuple contenant trois éléments :\n",
    "  1. Le nombre de lignes (plus précisément le nombre de retours à la ligne)\n",
    "  2. Le nombre de mots (un mot étant séparé par des espaces)\n",
    "  3. Le nombre d'octets (ou de caractères, on utilisera uniquement des caractères ASCII)"
   ]
  },
  {
   "cell_type": "code",
   "execution_count": null,
   "metadata": {
    "collapsed": true
   },
   "outputs": [],
   "source": [
    "# chargement de l'exercice\n",
    "from corrections.exo_wc import exo_wc"
   ]
  },
  {
   "cell_type": "code",
   "execution_count": null,
   "metadata": {},
   "outputs": [],
   "source": [
    "# exemple\n",
    "exo_wc.example()"
   ]
  },
  {
   "cell_type": "code",
   "execution_count": null,
   "metadata": {},
   "outputs": [],
   "source": [
    "# la fonction à implémenter\n",
    "def wc(string):\n",
    "    # remplacer pass par votre code\n",
    "    pass"
   ]
  },
  {
   "cell_type": "code",
   "execution_count": null,
   "metadata": {},
   "outputs": [],
   "source": [
    "# correction\n",
    "exo_wc.correction(wc)"
   ]
  },
  {
   "cell_type": "markdown",
   "metadata": {
    "collapsed": true
   },
   "source": [
    " "
   ]
  }
 ],
 "metadata": {
  "kernelspec": {
   "display_name": "Python 3",
   "language": "python",
   "name": "python3"
  },
  "language_info": {
   "codemirror_mode": {
    "name": "ipython",
    "version": 3
   },
   "file_extension": ".py",
   "mimetype": "text/x-python",
   "name": "python",
   "nbconvert_exporter": "python",
   "pygments_lexer": "ipython3",
   "version": "3.6.3"
  }
 },
 "nbformat": 4,
 "nbformat_minor": 2
}
