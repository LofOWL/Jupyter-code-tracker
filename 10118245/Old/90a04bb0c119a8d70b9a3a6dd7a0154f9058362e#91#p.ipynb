{
 "cells": [
  {
   "cell_type": "markdown",
   "metadata": {},
   "source": [
    "<span style=\"float:left;\">Licence CC BY-NC-ND</span><span style=\"float:right;\">Thierry Parmentelat &amp; Arnaud Legout&nbsp;<img src=\"media/both-logos-small-alpha.png\" style=\"display:inline\"></span><br/>"
   ]
  },
  {
   "cell_type": "markdown",
   "metadata": {},
   "source": [
    "# Enregistrements et instances"
   ]
  },
  {
   "cell_type": "markdown",
   "metadata": {},
   "source": [
    "## Complément - niveau basique"
   ]
  },
  {
   "cell_type": "markdown",
   "metadata": {},
   "source": [
    "### Un record implémenté comme une instance de classe"
   ]
  },
  {
   "cell_type": "markdown",
   "metadata": {},
   "source": [
    "Nous allons reprendre ici la discussion commencée en semaine 3, où nous avions vu comment implémenter un enregistrement (à nouveau, un enregistrement est l'équivalent, selon les langages, de *struct* ou *record*) comme un dictionnaire."
   ]
  },
  {
   "cell_type": "markdown",
   "metadata": {},
   "source": [
    "Notre exemple était celui des personnes, et nous avions alors écrit quelque chose comme:"
   ]
  },
  {
   "cell_type": "code",
   "execution_count": null,
   "metadata": {
    "collapsed": true
   },
   "outputs": [],
   "source": [
    "pierre = {'nom': 'pierre', 'age': 25, 'email': 'pierre@foo.com'}\n",
    "print(pierre)"
   ]
  },
  {
   "cell_type": "markdown",
   "metadata": {},
   "source": [
    "Cette fois-ci nous allons implémenter la même abstraction, mais avec une classe `Personne` comme ceci:"
   ]
  },
  {
   "cell_type": "code",
   "execution_count": null,
   "metadata": {
    "collapsed": true
   },
   "outputs": [],
   "source": [
    "class Personne:\n",
    "    \"\"\"Une personne possède un nom, un âge et une adresse e-mail\"\"\"\n",
    "    \n",
    "    def __init__(self, nom, age, email):\n",
    "        self.nom = nom\n",
    "        self.age = age\n",
    "        self.email = email\n",
    "        \n",
    "    def __repr__(self):\n",
    "        # comme nous avons la chance de disposer de python-3.6\n",
    "        # utilisons un f-string\n",
    "        return f\"[{self.nom}, {self.age} ans, email:{self.email}]\""
   ]
  },
  {
   "cell_type": "markdown",
   "metadata": {},
   "source": [
    "Le code de cette classe devrait être limpide à présent; voyons comment on l'utiliserait:"
   ]
  },
  {
   "cell_type": "code",
   "execution_count": null,
   "metadata": {
    "collapsed": true
   },
   "outputs": [],
   "source": [
    "personnes = [\n",
    "    # on se fie à l'ordre des arguments dans le créateur\n",
    "    Personne('pierre', 25, 'pierre@foo.com'),\n",
    "    # ou bien on peut être explicite\n",
    "    Personne(nom='paul', age=18, email='paul@bar.com'),\n",
    "    # ou bien on mélange\n",
    "    Personne('jacques', 52, email='jacques@cool.com'),\n",
    "]\n",
    "print(personnes)"
   ]
  },
  {
   "cell_type": "markdown",
   "metadata": {},
   "source": [
    "### Un dictionnaire pour indexer les enregistrements"
   ]
  },
  {
   "cell_type": "markdown",
   "metadata": {},
   "source": [
    "Nous pouvons appliquer exactement la même technique d'indexation qu'avec les dictionnaires:"
   ]
  },
  {
   "cell_type": "code",
   "execution_count": null,
   "metadata": {
    "collapsed": true
   },
   "outputs": [],
   "source": [
    "# on crée un index pour pouvoir rechercher efficacement\n",
    "# une personne par son nom\n",
    "index_par_nom = {personne.nom: personne for personne in personnes}"
   ]
  },
  {
   "cell_type": "markdown",
   "metadata": {},
   "source": [
    "De façon à pouvoir facilement localiser une personne"
   ]
  },
  {
   "cell_type": "code",
   "execution_count": null,
   "metadata": {
    "collapsed": true
   },
   "outputs": [],
   "source": [
    "pierre = index_par_nom['pierre']\n",
    "print(pierre)"
   ]
  },
  {
   "cell_type": "markdown",
   "metadata": {},
   "source": [
    "### Poursuivons l'analogie"
   ]
  },
  {
   "cell_type": "markdown",
   "metadata": {},
   "source": [
    "Pour marquer l'anniversaire d'une personne, nous pourrions faire:"
   ]
  },
  {
   "cell_type": "code",
   "execution_count": null,
   "metadata": {
    "collapsed": true
   },
   "outputs": [],
   "source": [
    "pierre.age += 1\n",
    "pierre"
   ]
  },
  {
   "cell_type": "markdown",
   "metadata": {},
   "source": [
    "Cela dit, pour rester en ligne avec l'idée d'encapsulation telle que nous l'avons vue dans un complément récemment, il serait de beaucoup préférable de fournir une méthode `anniversaire` pour cela, de façon à pouvoir faire quelque chose comme:"
   ]
  },
  {
   "cell_type": "markdown",
   "metadata": {},
   "source": [
    "    # attention cette cellule n'est pas évaluable\n",
    "    pierre.anniversaire()"
   ]
  },
  {
   "cell_type": "markdown",
   "metadata": {},
   "source": [
    "Dans la pratique on définit presque toujours toutes les méthodes en même temps que la classe. Ce qui veut dire que l'on ajouterait tout simplement la méthode `anniversaire` dans le code qui définit la classe ci-dessus."
   ]
  },
  {
   "cell_type": "markdown",
   "metadata": {},
   "source": [
    "    # Cette cellule *n'est pas* évaluable\n",
    "    # elle donne seulement un aperçu de comment\n",
    "    # on aurait pu écrire la classe Personne\n",
    "    # pour lui ajouter une méthode 'anniversaire'\n",
    "    class Personne:\n",
    "        \"\"\"Une personne possède un nom, un âge et une adresse e-mail\"\"\"\n",
    "        \n",
    "        def __init__(self, nom, age, email):\n",
    "            ...\n",
    "    \n",
    "        def anniversaire(self):\n",
    "            self.age += 1"
   ]
  },
  {
   "cell_type": "markdown",
   "metadata": {},
   "source": [
    "## Complément - niveau intermédiaire"
   ]
  },
  {
   "cell_type": "markdown",
   "metadata": {},
   "source": [
    "Nous allons toutefois profiter de cet exemple pour montrer comment il est également possible d'ajouter cette méthode *à la volée*, en tirant profit du fait que **les méthodes sont implémentées comme des attributs de l'objet classe**."
   ]
  },
  {
   "cell_type": "markdown",
   "metadata": {},
   "source": [
    "Ainsi, on peut étendre l'objet `classe` lui-même dynamiquement comme ceci:"
   ]
  },
  {
   "cell_type": "code",
   "execution_count": null,
   "metadata": {
    "collapsed": true
   },
   "outputs": [],
   "source": [
    "def anniversaire(self):\n",
    "    \"Incrémente l'âge de la personne\"\n",
    "    self.age += 1\n",
    "\n",
    "Personne.anniversaire = anniversaire"
   ]
  },
  {
   "cell_type": "markdown",
   "metadata": {},
   "source": [
    "Ce code commence par définir une fonction un utilisant `def` et la signature de la méthode. Comme cette méthode ne prend pas d'argument, la fonction accepte un argument `self`; exactement comme si on avait défini la méthode dans l'instruction `class`. \n",
    "\n",
    "Ensuite, il suffit d'affecter la fonction ainsi définie à **l'attribut `anniversaire`** de l'objet classe.\n",
    "\n",
    "Vous voyez que c'est très simple, et à présent la classe a connaissance de cette méthode exactement comme si on l'avait définie dans la clause `class`, comme le montre l'aide:"
   ]
  },
  {
   "cell_type": "code",
   "execution_count": null,
   "metadata": {
    "collapsed": true
   },
   "outputs": [],
   "source": [
    "help(Personne)"
   ]
  },
  {
   "cell_type": "markdown",
   "metadata": {},
   "source": [
    "Et on peut à présent utiliser cette méthode"
   ]
  },
  {
   "cell_type": "code",
   "execution_count": null,
   "metadata": {
    "collapsed": true
   },
   "outputs": [],
   "source": [
    "pierre.anniversaire()\n",
    "pierre"
   ]
  }
 ],
 "metadata": {
  "celltoolbar": "Slideshow",
  "kernelspec": {
   "display_name": "Python 3",
   "language": "python",
   "name": "python3"
  },
  "language_info": {
   "codemirror_mode": {
    "name": "ipython",
    "version": 3
   },
   "file_extension": ".py",
   "mimetype": "text/x-python",
   "name": "python",
   "nbconvert_exporter": "python",
   "pygments_lexer": "ipython3",
   "version": "3.6.2"
  },
  "livereveal": {
   "auto_select": "code",
   "auto_select_fragment": true,
   "autolaunch": false,
   "backimage": "media/nologo.png",
   "height": "100%",
   "slideNumber": "c",
   "start_slideshow_at": "selected",
   "theme": "simple",
   "transition": "fade",
   "width": "100%"
  },
  "notebookname": "Enregistrements et instances",
  "version": "3.0"
 },
 "nbformat": 4,
 "nbformat_minor": 1
}