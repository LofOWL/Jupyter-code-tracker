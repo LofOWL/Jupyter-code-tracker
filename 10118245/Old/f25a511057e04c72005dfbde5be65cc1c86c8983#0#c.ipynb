{
 "metadata": {
  "name": "",
  "signature": "sha256:32a5e0306600d4a2551e851341269717b40c1a7f63a7df8f64e756bf6bc23191"
 },
 "nbformat": 3,
 "nbformat_minor": 0,
 "worksheets": [
  {
   "cells": [
    {
     "cell_type": "heading",
     "level": 1,
     "metadata": {},
     "source": [
      "Exercice sur les s\u00e9quences"
     ]
    },
    {
     "cell_type": "heading",
     "level": 3,
     "metadata": {},
     "source": [
      "Slicing"
     ]
    },
    {
     "cell_type": "markdown",
     "metadata": {},
     "source": [
      "On se donne une cha\u00eene de caract\u00e8res:"
     ]
    },
    {
     "cell_type": "code",
     "collapsed": false,
     "input": [
      "chaine = \"abcdefghijklmnopqrstuvwxyz\" ; print chaine"
     ],
     "language": "python",
     "metadata": {},
     "outputs": []
    },
    {
     "cell_type": "markdown",
     "metadata": {},
     "source": [
      "Pour chacune des sous-cha\u00eenes ci-dessous, \u00e9crire une expression de slicing sur $\\texttt{chaine}$ qui renvoie la sous-cha\u00eene. La cellule de code doit retourner $\\texttt{True}$"
     ]
    },
    {
     "cell_type": "markdown",
     "metadata": {},
     "source": [
      "Par exemple pour obtenir \"def\":"
     ]
    },
    {
     "cell_type": "code",
     "collapsed": false,
     "input": [
      "chaine [ 3:6 ] == \"def\""
     ],
     "language": "python",
     "metadata": {},
     "outputs": []
    },
    {
     "cell_type": "markdown",
     "metadata": {},
     "source": [
      "Pour obtenir \"vwx\" (n'h\u00e9sitez pas \u00e0 utiliser les indices n\u00e9gatifs)"
     ]
    },
    {
     "cell_type": "code",
     "collapsed": false,
     "input": [
      "chaine [ <votre code> ] == \"vwx\""
     ],
     "language": "python",
     "metadata": {},
     "outputs": []
    },
    {
     "cell_type": "markdown",
     "metadata": {},
     "source": [
      "Pour obtenir \"wxyz\" (avec une seule constante)"
     ]
    },
    {
     "cell_type": "code",
     "collapsed": false,
     "input": [
      "chaine [ <votre code> ] == \"wxyz\""
     ],
     "language": "python",
     "metadata": {},
     "outputs": []
    },
    {
     "cell_type": "markdown",
     "metadata": {},
     "source": [
      "Pour obtenir \"dfhjlnprtvxz\" (avec deux constantes)"
     ]
    },
    {
     "cell_type": "code",
     "collapsed": false,
     "input": [
      "chaine [ <votre code> ] == \"dfhjlnprtvxz\""
     ],
     "language": "python",
     "metadata": {},
     "outputs": []
    },
    {
     "cell_type": "markdown",
     "metadata": {},
     "source": [
      "Pour obtenir \"xurolifc\" (avec deux constantes)"
     ]
    },
    {
     "cell_type": "code",
     "collapsed": false,
     "input": [
      "chaine [ <votre code> ] == \"xurolifc\""
     ],
     "language": "python",
     "metadata": {},
     "outputs": []
    },
    {
     "cell_type": "heading",
     "level": 3,
     "metadata": {},
     "source": [
      "Longueur"
     ]
    },
    {
     "cell_type": "markdown",
     "metadata": {},
     "source": [
      "On vous donne une cha\u00eene \"composite\", dont on sait qu'elle a \u00e9t\u00e9 calcul\u00e9e \u00e0 partir de deux cha\u00eenes \"inconnue\" et \"connue\" comme ceci:"
     ]
    },
    {
     "cell_type": "raw",
     "metadata": {},
     "source": [
      "composite = connue + inconnue + connue"
     ]
    },
    {
     "cell_type": "markdown",
     "metadata": {},
     "source": [
      "L'exercice consiste \u00e0 retrouver la valeur de \"inconnue\" \u00e0 partir de celles de \"composite\" et \"connue\"\n",
      "\n",
      "Ne vous inqui\u00e9tez pas si vous ne comprenez pas encore le code d'initialisation :)"
     ]
    },
    {
     "cell_type": "code",
     "collapsed": false,
     "input": [
      "alphabet = \"0123456789abcdef\"\n",
      "# on calcule connue comme une chaine aleatoire\n",
      "import random\n",
      "connue = \"\".join(random.sample(alphabet, random.randint(5,10)))\n",
      "print \"connue=\",connue\n",
      "# pareil pour inconnue, a vous de retrouver savaleur\n",
      "composite = connue + \"\".join(random.sample(alphabet, random.randint(5,10))) + connue\n",
      "print \"composite=\",composite"
     ],
     "language": "python",
     "metadata": {},
     "outputs": []
    },
    {
     "cell_type": "markdown",
     "metadata": {},
     "source": [
      "\u00c0 vous d'\u00e9crire une ligne de code pour retrouver \"inconnue\""
     ]
    },
    {
     "cell_type": "code",
     "collapsed": false,
     "input": [
      "inconnue = <votre code>"
     ],
     "language": "python",
     "metadata": {},
     "outputs": []
    },
    {
     "cell_type": "markdown",
     "metadata": {},
     "source": [
      "Rappel: la fonction len() permet de calculer la longueur d'une s\u00e9quence"
     ]
    },
    {
     "cell_type": "markdown",
     "metadata": {},
     "source": [
      "Indice: nous avons jusqu'\u00e0 maintenant toujours utilis\u00e9 des indices constants, mais vous pouvez utiliser aussi des expressions, bien entendu:"
     ]
    },
    {
     "cell_type": "code",
     "collapsed": false,
     "input": [
      "composite [ : len(connue) ] == connue"
     ],
     "language": "python",
     "metadata": {},
     "outputs": []
    }
   ],
   "metadata": {}
  }
 ]
}