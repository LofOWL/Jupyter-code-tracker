{
 "metadata": {
  "kernelspec": {
   "display_name": "Python 2", 
   "language": "python", 
   "name": "python2"
  }, 
  "name": "", 
  "notebookname": "Compr\u00e9hension de liste", 
  "version": "2.0"
 }, 
 "nbformat": 2, 
 "nbformat_minor": 0, 
 "orig_nbformat": 4, 
 "orig_nbformat_minor": 0, 
 "worksheets": [
  {
   "cells": [
    {
     "cell_type": "markdown", 
     "metadata": {}, 
     "source": [
      "<span style=\"float:left;\">Licence CC BY-NC-ND</span><span style=\"float:right;\">Thierry Parmentelat &amp; Arnaud Legout&nbsp;<img src=\"media/inria-25.png\" style=\"display:inline\"></span><br/>"
     ]
    }, 
    {
     "cell_type": "markdown", 
     "metadata": {}, 
     "source": [
      "# Construction de liste par compr\u00e9hension"
     ]
    }, 
    {
     "cell_type": "markdown", 
     "metadata": {}, 
     "source": [
      "## Compl\u00e9ment - niveau basique"
     ]
    }, 
    {
     "cell_type": "markdown", 
     "metadata": {}, 
     "source": [
      "Ce m\u00e9canisme tr\u00e8s pratique permet de construire simplement une liste \u00e0 partir d'une autre (ou de **tout autre type iterable** en r\u00e9alit\u00e9, mais nous y viendrons).", 
      "", 
      "Pour l'introduire en deux mots, disons que la compr\u00e9hension de liste est \u00e0 l'instruction `for` ce que l'expression conditionnelle est \u00e0 l'instruction  `if`, c'est-\u00e0-dire qu'il s'agit d'une **expression \u00e0 part enti\u00e8re**."
     ]
    }, 
    {
     "cell_type": "markdown", 
     "metadata": {}, 
     "source": [
      "### Cas le plus simple"
     ]
    }, 
    {
     "cell_type": "markdown", 
     "metadata": {}, 
     "source": [
      "Voyons tout de suite un exemple"
     ]
    }, 
    {
     "cell_type": "code", 
     "collapsed": false, 
     "input": [
      "depart = [3, 7, 14, 28]", 
      "[x**2 for x in depart]"
     ], 
     "language": "python", 
     "metadata": {}, 
     "outputs": [], 
     "prompt_number": null
    }, 
    {
     "cell_type": "markdown", 
     "metadata": {}, 
     "source": [
      "Comme vous l'avez sans doute devin\u00e9, le r\u00e9sultat de cette expression est une liste, dont les \u00e9l\u00e9ments sont les r\u00e9sultats de l'expression `x**2` pour `x` prenant toutes les valeurs de `depart`"
     ]
    }, 
    {
     "cell_type": "markdown", 
     "metadata": {}, 
     "source": [
      "### Restriction \u00e0 certains \u00e9l\u00e9ments"
     ]
    }, 
    {
     "cell_type": "markdown", 
     "metadata": {}, 
     "source": [
      "Il est possible \u00e9galement de ne prendre en compte que certains des \u00e9l\u00e9ments de la liste de d\u00e9part, comme ceci"
     ]
    }, 
    {
     "cell_type": "code", 
     "collapsed": false, 
     "input": [
      "[x**2 for x in depart if x%2 == 0]"
     ], 
     "language": "python", 
     "metadata": {}, 
     "outputs": [], 
     "prompt_number": null
    }, 
    {
     "cell_type": "markdown", 
     "metadata": {}, 
     "source": [
      "qui cette fois ne contient que les carr\u00e9s des \u00e9l\u00e9ments pairs de `depart`"
     ]
    }, 
    {
     "cell_type": "markdown", 
     "metadata": {}, 
     "source": [
      "### Autres types"
     ]
    }, 
    {
     "cell_type": "markdown", 
     "metadata": {}, 
     "source": [
      "On peut fabriquer une compr\u00e9hension \u00e0 partir de tout objet it\u00e9rable, pas forc\u00e9ment une liste, mais le r\u00e9sultat est toujours une liste, comme on le voit sur ces quelques exemples:"
     ]
    }, 
    {
     "cell_type": "code", 
     "collapsed": false, 
     "input": [
      "[ord(x) for x in 'abc']"
     ], 
     "language": "python", 
     "metadata": {}, 
     "outputs": [], 
     "prompt_number": null
    }, 
    {
     "cell_type": "code", 
     "collapsed": false, 
     "input": [
      "[chr(x) for x in (97, 98, 99)]"
     ], 
     "language": "python", 
     "metadata": {}, 
     "outputs": [], 
     "prompt_number": null
    }, 
    {
     "cell_type": "markdown", 
     "metadata": {}, 
     "source": [
      "Nous verrons tr\u00e8s bient\u00f4t que des m\u00e9canismes similaires sont disponibles avec les dictionnaires et les ensembles."
     ]
    }, 
    {
     "cell_type": "markdown", 
     "metadata": {}, 
     "source": [
      "## Compl\u00e9ment - niveau interm\u00e9diaire"
     ]
    }, 
    {
     "cell_type": "markdown", 
     "metadata": {}, 
     "source": [
      "### Imbrications"
     ]
    }, 
    {
     "cell_type": "markdown", 
     "metadata": {}, 
     "source": [
      "On peut \u00e9galement imbriquer plusieurs niveaux pour ne construire qu'une seule liste, comme par exemple"
     ]
    }, 
    {
     "cell_type": "code", 
     "collapsed": false, 
     "input": [
      "[n + p for n in [2, 4] for p in [10, 20, 30]]"
     ], 
     "language": "python", 
     "metadata": {}, 
     "outputs": [], 
     "prompt_number": null
    }, 
    {
     "cell_type": "markdown", 
     "metadata": {}, 
     "source": [
      "Bien s\u00fbr on peut aussi restreindre ces compr\u00e9hensions, comme par exemple"
     ]
    }, 
    {
     "cell_type": "code", 
     "collapsed": false, 
     "input": [
      "[n + p for n in [2, 4] for p in [10, 20, 30] if n*p >= 40]"
     ], 
     "language": "python", 
     "metadata": {}, 
     "outputs": [], 
     "prompt_number": null
    }, 
    {
     "cell_type": "markdown", 
     "metadata": {}, 
     "source": [
      "Observez surtout que le r\u00e9sultat ci-dessus est une liste simple (de profondeur 1), \u00e0 comparer avec "
     ]
    }, 
    {
     "cell_type": "code", 
     "collapsed": false, 
     "input": [
      "[[n + p for n in [2, 4]] for p in [10, 20, 30]]"
     ], 
     "language": "python", 
     "metadata": {}, 
     "outputs": [], 
     "prompt_number": null
    }, 
    {
     "cell_type": "markdown", 
     "metadata": {}, 
     "source": [
      "qui est de profondeur 2, et o\u00f9 les r\u00e9sultats atomiques apparaissent dans un ordre diff\u00e9rent "
     ]
    }, 
    {
     "cell_type": "markdown", 
     "metadata": {}, 
     "source": [
      "Un moyen mn\u00e9motechnique pour se souvenir dans quel ordre les compr\u00e9hensions imbriqu\u00e9es produisent leur r\u00e9sultat, est de penser \u00e0 la version \"na\u00efve\" du code qui produirait le m\u00eame r\u00e9sultat; dans ce code les clause `for` et `if` apparaissent **dans le m\u00eame ordre** que dans la compr\u00e9hension"
     ]
    }, 
    {
     "cell_type": "code", 
     "collapsed": false, 
     "input": [
      "resultat=[]", 
      "for n in [2, 4]:", 
      "    for p in [10, 20, 30]:", 
      "        if n*p >= 40:", 
      "            resultat.append(n + p)", 
      "resultat"
     ], 
     "language": "python", 
     "metadata": {}, 
     "outputs": [], 
     "prompt_number": null
    }, 
    {
     "cell_type": "markdown", 
     "metadata": {}, 
     "source": [
      "## Compl\u00e9ment - niveau avanc\u00e9"
     ]
    }, 
    {
     "cell_type": "markdown", 
     "metadata": {}, 
     "source": [
      "### Note sur `map` et `filter`"
     ]
    }, 
    {
     "cell_type": "markdown", 
     "metadata": {}, 
     "source": [
      "Avant que les compr\u00e9hensions ne soient introduites, on utilisait deux fonctions built-in intitul\u00e9es `map` (nom qui provient \u00e0 l'origine de Lisp) et `filter`. Leur usage est \u00e0 pr\u00e9sent d\u00e9conseill\u00e9, car le code est moins lisible. On les trouve encore dans du code existant."
     ]
    }, 
    {
     "cell_type": "markdown", 
     "metadata": {}, 
     "source": [
      "Pour donner un aper\u00e7u de ces fonctions, au cas o\u00f9 vous en rencontriez dans du code existant, voici comment on \u00e9crirait"
     ]
    }, 
    {
     "cell_type": "code", 
     "collapsed": false, 
     "input": [
      "[x**2 for x in depart if x%2 == 0]"
     ], 
     "language": "python", 
     "metadata": {}, 
     "outputs": [], 
     "prompt_number": null
    }, 
    {
     "cell_type": "markdown", 
     "metadata": {}, 
     "source": [
      "Avec `map` et `filter` cela donnerait"
     ]
    }, 
    {
     "cell_type": "code", 
     "collapsed": false, 
     "input": [
      "def pair(x): ", 
      "    return x%2 == 0", 
      "", 
      "def carre(x): ", 
      "    return x**2", 
      "", 
      "map(carre, filter(pair, depart))"
     ], 
     "language": "python", 
     "metadata": {}, 
     "outputs": [], 
     "prompt_number": null
    }, 
    {
     "cell_type": "markdown", 
     "metadata": {}, 
     "source": [
      "Ou encore, sur une ligne"
     ]
    }, 
    {
     "cell_type": "code", 
     "collapsed": false, 
     "input": [
      "map(lambda x: x**2, filter(lambda x: x%2 == 0, depart))"
     ], 
     "language": "python", 
     "metadata": {}, 
     "outputs": [], 
     "prompt_number": null
    }, 
    {
     "cell_type": "markdown", 
     "metadata": {}, 
     "source": [
      "**Remarque**: l'instruction `lambda` permet permet de d\u00e9finir une fonction, que l'on appelle fonction lambda, \u00e0 la vol\u00e9e et sans la nommer. Nous reviendrons dessus dans les semaines \u00e0 venir. Mais \u00e0 notre avis au moins, les fonctions lambda ont perdu beaucoup de leur int\u00e9r\u00eat depuis, pr\u00e9cis\u00e9ment, l'introduction des compr\u00e9hensions. Aussi nous ne recommandons pas non plus de les utiliser dans du code nouveau."
     ]
    }, 
    {
     "cell_type": "markdown", 
     "metadata": {}, 
     "source": [
      "### Pour en savoir plus"
     ]
    }, 
    {
     "cell_type": "markdown", 
     "metadata": {}, 
     "source": [
      "La [section sur les compr\u00e9hensions de liste](https://docs.python.org/2/tutorial/datastructures.html#list-comprehensions) dans la documentation python"
     ]
    }
   ], 
   "metadata": {}
  }
 ]
}
