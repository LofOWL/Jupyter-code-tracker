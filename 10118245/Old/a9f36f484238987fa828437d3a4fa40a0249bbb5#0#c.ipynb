{
 "metadata": {
  "name": "",
  "signature": "sha256:189397aa662878522197b005d1c651735ef52a1812f425071ede9132f75f1621"
 },
 "nbformat": 3,
 "nbformat_minor": 0,
 "worksheets": [
  {
   "cells": [
    {
     "cell_type": "heading",
     "level": 1,
     "metadata": {},
     "source": [
      "Plusieurs variables dans une boucle for"
     ]
    },
    {
     "cell_type": "markdown",
     "metadata": {},
     "source": [
      "Nous avons vu pr\u00e9c\u00e9demment la possibilit\u00e9 d'affecter plusieurs variables par filtrage \u00e0 partir d'un seul objet, comme ceci"
     ]
    },
    {
     "cell_type": "code",
     "collapsed": false,
     "input": [
      "item = (1,2)\n",
      "a,b = item\n",
      "print 'a',a,'b',b"
     ],
     "language": "python",
     "metadata": {},
     "outputs": []
    },
    {
     "cell_type": "markdown",
     "metadata": {},
     "source": [
      "D'une fa\u00e7on analogue, il est possible de faire une boucle for qui it\u00e8re sur une seule liste mais qui 'agit' sur plusieurs variables, comme ceci"
     ]
    },
    {
     "cell_type": "code",
     "collapsed": false,
     "input": [
      "entrees = [ (1,2), (3,4), (5,6), ]\n",
      "for a,b in entrees:\n",
      "    print 'a',a,'b',b"
     ],
     "language": "python",
     "metadata": {},
     "outputs": []
    },
    {
     "cell_type": "markdown",
     "metadata": {},
     "source": [
      "Cette m\u00e9canique est massivement utilis\u00e9e en python. "
     ]
    },
    {
     "cell_type": "heading",
     "level": 3,
     "metadata": {},
     "source": [
      "La fonction zip"
     ]
    },
    {
     "cell_type": "markdown",
     "metadata": {},
     "source": [
      "Voici un exemple tr\u00e8s simple qui utilise la technique qu'on vient de voir."
     ]
    },
    {
     "cell_type": "markdown",
     "metadata": {},
     "source": [
      "Imaginons qu'on dispose de deux listes de longueurs \u00e9gales, dont on sait que les entr\u00e9es correspondent une \u00e0 une, comme par exemple"
     ]
    },
    {
     "cell_type": "code",
     "collapsed": false,
     "input": [
      "villes = [ \"Paris\", \"Nice\", \"Lyon\" ]\n",
      "populations = [ 2*10**6, 4*10**5, 10**6 ]"
     ],
     "language": "python",
     "metadata": {},
     "outputs": []
    },
    {
     "cell_type": "markdown",
     "metadata": {},
     "source": [
      "Afin d'\u00e9crire facilement un code qui \"associe\" les deux listes entre elles, python fournit une fonction \"builtin\" baptis\u00e9e zip, voyons ce qu'elle peut nous apporter sur cet exemple"
     ]
    },
    {
     "cell_type": "code",
     "collapsed": false,
     "input": [
      "zip (villes, populations)"
     ],
     "language": "python",
     "metadata": {},
     "outputs": []
    },
    {
     "cell_type": "markdown",
     "metadata": {},
     "source": [
      "On le voit, on obtient en retour une liste compos\u00e9e de tuples. On peut \u00e0 pr\u00e9sent \u00e9crire une boucle \"for\" comme ceci"
     ]
    },
    {
     "cell_type": "code",
     "collapsed": false,
     "input": [
      "for ville, population in zip (villes, populations):\n",
      "    print population,\"habitants a\",ville"
     ],
     "language": "python",
     "metadata": {},
     "outputs": []
    },
    {
     "cell_type": "markdown",
     "metadata": {},
     "source": [
      "Qui est, il nous semble, beaucoup plus lisible que ce que l'on serait amen\u00e9 \u00e0 \u00e9crire avec des langages plus traditionnels. \n",
      "\n",
      "Tout ceci se g\u00e9n\u00e9ralise naturellement \u00e0 plus que deux variables."
     ]
    },
    {
     "cell_type": "code",
     "collapsed": false,
     "input": [
      "for i,j,k in zip ( range(3), range(100,103), range(200,203)):\n",
      "    print 'i',i,'j',j,'k',k"
     ],
     "language": "python",
     "metadata": {},
     "outputs": []
    },
    {
     "cell_type": "heading",
     "level": 3,
     "metadata": {},
     "source": [
      "La fonction `enumerate`"
     ]
    },
    {
     "cell_type": "markdown",
     "metadata": {},
     "source": [
      "Une fonction utile permet d'it\u00e9rer sur une liste tout en fournissant aussi un acc\u00e8s \u00e0 l'indice dans la liste, il s'agit de `enumerate`:"
     ]
    },
    {
     "cell_type": "code",
     "collapsed": false,
     "input": [
      "for i,ville in enumerate(villes):\n",
      "    print i,ville"
     ],
     "language": "python",
     "metadata": {},
     "outputs": []
    },
    {
     "cell_type": "markdown",
     "metadata": {},
     "source": [
      "Cette forme est plus simple et plus lisible que celles-ci qui lui sont \u00e9quivalentes"
     ]
    },
    {
     "cell_type": "code",
     "collapsed": false,
     "input": [
      "for i in range(len(villes)):\n",
      "    print i,villes[i]"
     ],
     "language": "python",
     "metadata": {},
     "outputs": []
    },
    {
     "cell_type": "code",
     "collapsed": false,
     "input": [
      "for i,ville in zip (range(len(villes)),villes):\n",
      "    print i,ville"
     ],
     "language": "python",
     "metadata": {},
     "outputs": []
    }
   ],
   "metadata": {}
  }
 ]
}