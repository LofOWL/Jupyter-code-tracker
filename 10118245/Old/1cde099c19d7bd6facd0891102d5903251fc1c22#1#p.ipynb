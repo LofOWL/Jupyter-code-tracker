{
 "cells": [
  {
   "cell_type": "markdown",
   "metadata": {},
   "source": [
    "<span style=\"float:left;\">Licence CC BY-NC-ND</span><span style=\"float:right;\">Thierry Parmentelat &amp; Arnaud Legout&nbsp;<img src=\"media/inria-25-alpha.png\" style=\"display:inline\"></span><br/>"
   ]
  },
  {
   "cell_type": "markdown",
   "metadata": {
    "slideshow": {
     "slide_type": "slide"
    }
   },
   "source": [
    "# Boucles d'événements"
   ]
  },
  {
   "cell_type": "markdown",
   "metadata": {
    "slideshow": {
     "slide_type": "fragment"
    }
   },
   "source": [
    "[`asyncio.get_event_loop().run_complete(<future>)`](https://docs.python.org/3/library/asyncio-eventloop.html#asyncio.AbstractEventLoop.run_until_complete)"
   ]
  },
  {
   "cell_type": "markdown",
   "metadata": {
    "slideshow": {
     "slide_type": "fragment"
    }
   },
   "source": [
    "```\n",
    "asyncio.get_event_loop().run_complete(\n",
    "    asyncio.gather(coro1, coro2, ...)\n",
    "))\n",
    "```"
   ]
  },
  {
   "cell_type": "markdown",
   "metadata": {
    "slideshow": {
     "slide_type": "slide"
    }
   },
   "source": [
    "## Ajout de traitements"
   ]
  },
  {
   "cell_type": "markdown",
   "metadata": {},
   "source": [
    "`asyncio.ensure_future(coro)`\n",
    "\n",
    "* pour ajouter une coroutine dans la boucle\n",
    "* avant ou après le lancement de la boucle"
   ]
  },
  {
   "cell_type": "markdown",
   "metadata": {
    "slideshow": {
     "slide_type": "fragment"
    }
   },
   "source": [
    "[`asyncio.get_event_loop().run_forever()`](https://docs.python.org/3/library/asyncio-eventloop.html#asyncio.AbstractEventLoop.run_forever)"
   ]
  },
  {
   "cell_type": "markdown",
   "metadata": {
    "slideshow": {
     "slide_type": "slide"
    }
   },
   "source": [
    "# Utilitaire #1"
   ]
  },
  {
   "cell_type": "code",
   "execution_count": null,
   "metadata": {},
   "outputs": [],
   "source": [
    "import asyncio\n",
    "\n",
    "from asynchelpers import start_timer, show_timer"
   ]
  },
  {
   "cell_type": "code",
   "execution_count": null,
   "metadata": {},
   "outputs": [],
   "source": [
    "import time\n",
    "\n",
    "start_timer()\n",
    "time.sleep(0.5)\n",
    "show_timer('un message')"
   ]
  },
  {
   "cell_type": "markdown",
   "metadata": {
    "slideshow": {
     "slide_type": "slide"
    }
   },
   "source": [
    "# Utilitaire #2"
   ]
  },
  {
   "cell_type": "code",
   "execution_count": null,
   "metadata": {
    "scrolled": true
   },
   "outputs": [],
   "source": [
    "from asynchelpers import sequence\n",
    "\n",
    "start_timer()\n",
    "asyncio.get_event_loop().run_until_complete(\n",
    "    sequence(\"hello\", 1)\n",
    ")\n"
   ]
  },
  {
   "cell_type": "markdown",
   "metadata": {
    "slideshow": {
     "slide_type": "slide"
    }
   },
   "source": [
    "# Boucle sans fin"
   ]
  },
  {
   "cell_type": "code",
   "execution_count": null,
   "metadata": {
    "slideshow": {}
   },
   "outputs": [],
   "source": [
    "import asyncio\n",
    "\n",
    "loop = asyncio.get_event_loop()\n",
    "asyncio.ensure_future(sequence('foo', delay=0.5))\n",
    "asyncio.ensure_future(sequence('bar', delay=1))"
   ]
  },
  {
   "cell_type": "code",
   "execution_count": null,
   "metadata": {
    "slideshow": {
     "slide_type": "-"
    }
   },
   "outputs": [],
   "source": [
    "# on lance la boucle sans fin\n",
    "# interrompre aver Kernel -> Interrupt \n",
    "# raccourci clavier : 'i' (doubler si nécessaire)\n",
    "try:\n",
    "    start_timer()\n",
    "    asyncio.get_event_loop().run_forever()\n",
    "except KeyboardInterrupt as e:\n",
    "    print(\"bye\")"
   ]
  },
  {
   "cell_type": "markdown",
   "metadata": {
    "slideshow": {
     "slide_type": "slide"
    }
   },
   "source": [
    "# `run_until_complete` vs `run_forever`"
   ]
  },
  {
   "cell_type": "markdown",
   "metadata": {},
   "source": [
    "* `run_until_complete`\n",
    "\n",
    "   * prend exactement un argument\n",
    "   * retourne la valeur\n"
   ]
  },
  {
   "cell_type": "markdown",
   "metadata": {
    "slideshow": {
     "slide_type": "-"
    }
   },
   "source": [
    "* `run_forever`\n",
    "  * ne prend pas d'argument\n",
    "  * ne retourne pas\n",
    "  * orienté traitement massivement asynchrone"
   ]
  },
  {
   "cell_type": "markdown",
   "metadata": {
    "slideshow": {
     "slide_type": "slide"
    }
   },
   "source": [
    "# `get_event_loop()`"
   ]
  },
  {
   "cell_type": "markdown",
   "metadata": {},
   "source": [
    "* `get_event_loop()` \n",
    "  * boucle par défaut du thread courant\n",
    "  * ne *crée pas* de boucle en dehors du thread principal"
   ]
  },
  {
   "cell_type": "markdown",
   "metadata": {
    "slideshow": {
     "slide_type": "slide"
    }
   },
   "source": [
    "# `{set,new}_event_loop()`"
   ]
  },
  {
   "cell_type": "code",
   "execution_count": null,
   "metadata": {
    "collapsed": true,
    "slideshow": {}
   },
   "outputs": [],
   "source": [
    "# pour repartir d'une boucle vierge:\n",
    "\n",
    "# loop = asyncio.new_event_loop()\n",
    "# asyncio.set_event_loop(loop)\n",
    "\n",
    "# ou encore tout simplement\n",
    "asyncio.set_event_loop(asyncio.new_event_loop())"
   ]
  },
  {
   "cell_type": "markdown",
   "metadata": {
    "slideshow": {
     "slide_type": "slide"
    }
   },
   "source": [
    "## Ajout de traitements à la volée (*fork*)"
   ]
  },
  {
   "cell_type": "markdown",
   "metadata": {
    "slideshow": {}
   },
   "source": [
    "![fork](w8-s5-av-fig1.png)"
   ]
  },
  {
   "cell_type": "code",
   "execution_count": null,
   "metadata": {
    "cell_style": "split",
    "collapsed": true,
    "slideshow": {
     "slide_type": "slide"
    }
   },
   "outputs": [],
   "source": [
    "# c1 et c3 sont très simples\n",
    "async def c1():\n",
    "    await sequence(\"c1\", delay=2)\n",
    "\n",
    "async def c3():\n",
    "    await sequence(\"c3\", delay=2)    "
   ]
  },
  {
   "cell_type": "markdown",
   "metadata": {
    "cell_style": "split",
    "slideshow": {
     "slide_type": "-"
    }
   },
   "source": [
    "![fork](w8-s5-av-fig1.png)"
   ]
  },
  {
   "cell_type": "code",
   "execution_count": null,
   "metadata": {
    "collapsed": true,
    "slideshow": {
     "slide_type": "fragment"
    }
   },
   "outputs": [],
   "source": [
    "async def c2():\n",
    "    show_timer('>>> c2')\n",
    "    await asyncio.sleep(1)\n",
    "    show_timer('=== ensure_future')\n",
    "    asyncio.ensure_future(c3())\n",
    "    await asyncio.sleep(1)\n",
    "    show_timer('<<< c2')"
   ]
  },
  {
   "cell_type": "markdown",
   "metadata": {
    "slideshow": {
     "slide_type": "slide"
    }
   },
   "source": [
    "# *fork* avec `ensure_future`"
   ]
  },
  {
   "cell_type": "code",
   "execution_count": null,
   "metadata": {
    "cell_style": "split",
    "slideshow": {
     "slide_type": "-"
    }
   },
   "outputs": [],
   "source": [
    "# interrompre après 3s\n",
    "asyncio.ensure_future(c1())\n",
    "asyncio.ensure_future(c2())\n",
    "\n",
    "start_timer()\n",
    "try:\n",
    "   asyncio.get_event_loop().run_forever()\n",
    "except:\n",
    "    print('interrupted')"
   ]
  },
  {
   "cell_type": "markdown",
   "metadata": {
    "cell_style": "split",
    "slideshow": {
     "slide_type": "-"
    }
   },
   "source": [
    "![fork](w8-s5-av-fig1.png)"
   ]
  },
  {
   "cell_type": "markdown",
   "metadata": {
    "slideshow": {
     "slide_type": "slide"
    }
   },
   "source": [
    "# `run_{until_complete,forever}`"
   ]
  },
  {
   "cell_type": "code",
   "execution_count": null,
   "metadata": {
    "cell_style": "split",
    "collapsed": true
   },
   "outputs": [],
   "source": [
    "asyncio.set_event_loop(\n",
    "    asyncio.new_event_loop())"
   ]
  },
  {
   "cell_type": "code",
   "execution_count": null,
   "metadata": {
    "cell_style": "split",
    "collapsed": true
   },
   "outputs": [],
   "source": [
    "async def c1():\n",
    "    await sequence('c1', delay=1)\n",
    "async def c2():\n",
    "    await sequence('c2', delay=2)\n",
    "async def c3():\n",
    "    await sequence('c3', delay=3)"
   ]
  },
  {
   "cell_type": "code",
   "execution_count": null,
   "metadata": {
    "cell_style": "split",
    "slideshow": {
     "slide_type": "slide"
    }
   },
   "outputs": [],
   "source": [
    "loop = asyncio.get_event_loop()\n",
    "\n",
    "asyncio.ensure_future(c1())\n",
    "asyncio.ensure_future(c3())\n",
    "\n",
    "start_timer()\n",
    "loop.run_until_complete(c2())\n",
    "print(\"done 1\")"
   ]
  },
  {
   "cell_type": "code",
   "execution_count": null,
   "metadata": {
    "cell_style": "split"
   },
   "outputs": [],
   "source": [
    "# interrompre après 1s\n",
    "try:\n",
    "    loop.run_forever()\n",
    "except:\n",
    "    print(\"interrupted\")"
   ]
  },
  {
   "cell_type": "markdown",
   "metadata": {
    "slideshow": {
     "slide_type": "slide"
    }
   },
   "source": [
    "# Résumé"
   ]
  },
  {
   "cell_type": "markdown",
   "metadata": {
    "slideshow": {
     "slide_type": "fragment"
    }
   },
   "source": [
    "* `get_event_loop()` \n",
    "  * accéde à la boucle courante\n",
    "  * `new_event_loop()` et `set_event_loop()`"
   ]
  },
  {
   "cell_type": "markdown",
   "metadata": {
    "slideshow": {
     "slide_type": "fragment"
    }
   },
   "source": [
    "* `ensure_future()`"
   ]
  },
  {
   "cell_type": "markdown",
   "metadata": {
    "slideshow": {
     "slide_type": "fragment"
    }
   },
   "source": [
    "* `run_until_complete()` et `run_forever()`"
   ]
  }
 ],
 "metadata": {
  "celltoolbar": "Slideshow",
  "kernelspec": {
   "display_name": "Python 3",
   "language": "python",
   "name": "python3"
  },
  "language_info": {
   "codemirror_mode": {
    "name": "ipython",
    "version": 3
   },
   "file_extension": ".py",
   "mimetype": "text/x-python",
   "name": "python",
   "nbconvert_exporter": "python",
   "pygments_lexer": "ipython3",
   "version": "3.6.2"
  },
  "livereveal": {
   "auto_select": "code",
   "auto_select_fragment": true,
   "autolaunch": true,
   "height": "100%",
   "slideNumber": "c",
   "start_slideshow_at": "selected",
   "theme": "simple",
   "transition": "cube",
   "width": "100%"
  },
  "notebookname": "Boucles d'événements",
  "version": "3.0"
 },
 "nbformat": 4,
 "nbformat_minor": 2
}