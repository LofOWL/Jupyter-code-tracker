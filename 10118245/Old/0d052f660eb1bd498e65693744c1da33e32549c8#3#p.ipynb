{
 "metadata": {
  "kernelspec": {
   "display_name": "Python 2", 
   "language": "python", 
   "name": "python2"
  }, 
  "language_info": {
   "codemirror_mode": {
    "name": "ipython", 
    "version": 2
   }, 
   "file_extension": ".py", 
   "mimetype": "text/x-python", 
   "name": "python", 
   "nbconvert_exporter": "python", 
   "pygments_lexer": "ipython2", 
   "version": "2.7.12"
  }, 
  "name": "", 
  "notebookname": "Fibonacci (suite)", 
  "version": "2.0"
 }, 
 "nbformat": 2, 
 "nbformat_minor": 0, 
 "orig_nbformat": 4, 
 "orig_nbformat_minor": 1, 
 "worksheets": [
  {
   "cells": [
    {
     "cell_type": "markdown", 
     "metadata": {}, 
     "source": [
      "<span style=\"float:left;\">Licence CC BY-NC-ND</span><span style=\"float:right;\">Thierry Parmentelat &amp; Arnaud Legout&nbsp;<img src=\"media/inria-25.png\" style=\"display:inline\"></span><br/>"
     ]
    }, 
    {
     "cell_type": "markdown", 
     "metadata": {}, 
     "source": [
      "# La suite de Fibonacci (suite)"
     ]
    }, 
    {
     "cell_type": "markdown", 
     "metadata": {}, 
     "source": [
      "## Compl\u00e9ment - niveau interm\u00e9diaire"
     ]
    }, 
    {
     "cell_type": "markdown", 
     "metadata": {}, 
     "source": [
      "Nous reprenons le cas de la fonction `fibonacci` que nous avons vue d\u00e9j\u00e0, mais cette fois nous voulons que l'utilisateur puisse entrer l'entier en entr\u00e9e de l'algorithme, non plus en r\u00e9pondant \u00e0 une question, mais sur la ligne de commande, c'est-\u00e0-dire en tapant", 
      "", 
      "    $ python fibonacci.py 12"
     ]
    }, 
    {
     "cell_type": "markdown", 
     "metadata": {}, 
     "source": [
      "**Avertissement** ", 
      "Attention cette version-ci **ne fonctionne pas dans ce notebook** sous IPython, justement car on n'a pas de moyen dans un notebook d'invoquer un programme en lui passant des arguments de cette fa\u00e7on. Ce notebook est r\u00e9dig\u00e9 pour vous permettre de vous entra\u00eener avec la fonction de t\u00e9l\u00e9chargement au format python, qu'on a vue dans la vid\u00e9o, et de faire tourner ce programme sur votre propre ordinateur."
     ]
    }, 
    {
     "cell_type": "markdown", 
     "metadata": {}, 
     "source": [
      "Cette fois nous importons le module `argparse` qui va nous permettre d'interpr\u00e9ter les arguments pass\u00e9s \u00e0 la ligne de commande"
     ]
    }, 
    {
     "cell_type": "code", 
     "collapsed": false, 
     "input": [
      "from argparse import ArgumentParser"
     ], 
     "language": "python", 
     "metadata": {}, 
     "outputs": [], 
     "prompt_number": null
    }, 
    {
     "cell_type": "markdown", 
     "metadata": {}, 
     "source": [
      "Puis nous r\u00e9p\u00e9tons la fonction `fibonacci`"
     ]
    }, 
    {
     "cell_type": "code", 
     "collapsed": false, 
     "input": [
      "def fibonacci(n):", 
      "    \"retourne le nombre de fibonacci pour l'entier n\"", 
      "    # pour les petites valeurs de n il n'y a rien a calculer", 
      "    if n <= 1: ", 
      "        return 1", 
      "    # sinon on initialise f1 pour n-1 et f2 pour n-2", 
      "    f2, f1 = 1, 1", 
      "    # et on it\u00e8re n-1 fois pour additionner", 
      "    for i in range(2, n + 1):", 
      "        f2, f1 = f1, f1 + f2", 
      "#        print i, f2, f1", 
      "    # le r\u00e9sultat est dans f1", 
      "    return f1"
     ], 
     "language": "python", 
     "metadata": {}, 
     "outputs": [], 
     "prompt_number": null
    }, 
    {
     "cell_type": "markdown", 
     "metadata": {}, 
     "source": [
      "*Remarque* Certains d'entre vous auront \u00e9videmment remarqu\u00e9 qu'on aurait pu \u00e9viter de copier-coller la fonction `fibonacci` comme cela; c'est \u00e0 \u00e7a que servent les modules mais nous n'en sommes pas l\u00e0."
     ]
    }, 
    {
     "cell_type": "markdown", 
     "metadata": {}, 
     "source": [
      "\u00c0 pr\u00e9sent nous utilisons le module `argparse` pour lui dire qu'on attend exactement un argument sur la ligne de commande, qui doit \u00eatre un entier. Ici encore ne vous inqui\u00e9tez pas si vous ne comprenez pas tout le code, l'objectif est de vous donner un morceau de code utilisable tout de suite pour jouer avec les notebooks."
     ]
    }, 
    {
     "cell_type": "code", 
     "collapsed": false, 
     "input": [
      "parser = ArgumentParser()", 
      "parser.add_argument(dest=\"entier\", type=int, ", 
      "                    help=\"entier d'entree\")", 
      "input_args = parser.parse_args()", 
      "entier = input_args.entier"
     ], 
     "language": "python", 
     "metadata": {}, 
     "outputs": [], 
     "prompt_number": null
    }, 
    {
     "cell_type": "markdown", 
     "metadata": {}, 
     "source": [
      "Nous pouvons \u00e0 pr\u00e9sent afficher le r\u00e9sultat"
     ]
    }, 
    {
     "cell_type": "code", 
     "collapsed": false, 
     "input": [
      "print \"fibonacci({}) = {}\".format(entier, fibonacci(entier))"
     ], 
     "language": "python", 
     "metadata": {}, 
     "outputs": [], 
     "prompt_number": null
    }, 
    {
     "cell_type": "markdown", 
     "metadata": {}, 
     "source": [
      "Vous pouvez donc \u00e0 pr\u00e9sent", 
      " * t\u00e9l\u00e9charger ce code sur votre disque comme un fichier `fibonacci.py` en utilisant le menu *\"File -> Download as -> python\"*", 
      " * l'ex\u00e9cuter avec simplement python comme ceci", 
      " ", 
      "     `$ python fibonacci.py 56` "
     ]
    }
   ], 
   "metadata": {}
  }
 ]
}
