{
 "metadata": {
  "notebookname": "Fichiers",
  "signature": "sha256:239cd5389a30e8b2caf67150624d0df56551393b8af6929b5f884f2d442d5a7c",
  "version": "1.0"
 },
 "nbformat": 3,
 "nbformat_minor": 0,
 "worksheets": [
  {
   "cells": [
    {
     "cell_type": "heading",
     "level": 1,
     "metadata": {},
     "source": [
      "Fichiers"
     ]
    },
    {
     "cell_type": "heading",
     "level": 2,
     "metadata": {},
     "source": [
      "Exercices - niveau basique"
     ]
    },
    {
     "cell_type": "heading",
     "level": 3,
     "metadata": {},
     "source": [
      "Calcul du nombre de lignes, de mots et de caract\u00e8res"
     ]
    },
    {
     "cell_type": "markdown",
     "metadata": {},
     "source": [
      "On se propose d'\u00e9crire une * moulinette* qui annote un fichier avec des nombres de lignes, de mots et de caract\u00e8res.\n",
      "\n",
      "Le but de l'exercice est d'\u00e9crire une fonction `comptage`:\n",
      " * qui prenne en argument un nom de fichier d'entr\u00e9e (on suppose qu'il existe) et un nom de fichier de sortie (on suppose qu'on a le droit de l'\u00e9crire)\n",
      " * le fichier d'entr\u00e9e est laiss\u00e9 intact\n",
      " *  pour chaque ligne en entr\u00e9e, le fichier de sortie comporte une ligne qui donne le num\u00e9ro de ligne, le nombre de mots (s\u00e9par\u00e9s par des espaces), le nombre de caract\u00e8res (y compris la fin de ligne), et la ligne d'origine\n",
      " * et enfin le fichier de sortie comporte une derni\u00e8re ligne avec les nombres totaux de lignes, de mots et de caract\u00e8res."
     ]
    },
    {
     "cell_type": "code",
     "collapsed": false,
     "input": [
      "# un exemple de ce qui est attendu\n",
      "#xxxfrom corrections.w4_files import exo_comptage\n",
      "#exo_comptage.exemple ()\n",
      "from corrections.w4_files import exemple_comptage\n",
      "exemple_comptage()"
     ],
     "language": "python",
     "metadata": {},
     "outputs": [
      {
       "html": [
        "<table><tr><th>Entr\u00e9e</th></tr><tr><td>Two households, both alike in dignity,</td></tr><tr><td>In fair Verona, where we lay our scene,</td></tr><tr><td>From ancient grudge break to new mutiny,</td></tr><tr><td>Where civil blood makes civil hands unclean.</td></tr><tr><td></td></tr><tr><th>Sortie</th></tr><tr><td>1:6:39:Two households, both alike in dignity,</td></tr><tr><td>2:8:40:In fair Verona, where we lay our scene,</td></tr><tr><td>3:7:41:From ancient grudge break to new mutiny,</td></tr><tr><td>4:7:45:Where civil blood makes civil hands unclean.</td></tr><tr><td>4:28:165</td></tr><tr><td></td></tr></table>"
       ],
       "metadata": {},
       "output_type": "pyout",
       "prompt_number": 1,
       "text": [
        "<IPython.core.display.HTML at 0x104a64510>"
       ]
      }
     ],
     "prompt_number": 1
    },
    {
     "cell_type": "code",
     "collapsed": false,
     "input": [
      "# votre code\n",
      "def comptage (in_filename, out_filename):\n",
      "#    print 'in',in_filename\n",
      "#    print 'out',out_filename\n",
      "    \"<votre_code>\""
     ],
     "language": "python",
     "metadata": {},
     "outputs": [],
     "prompt_number": 2
    },
    {
     "cell_type": "code",
     "collapsed": false,
     "input": [
      "# pour v\u00e9rifier votre code\n",
      "#exo_comptage.correction (comptage)\n",
      "from corrections.w4_files import correction_comptage\n",
      "correction_comptage(comptage)"
     ],
     "language": "python",
     "metadata": {},
     "outputs": [
      {
       "html": [
        "<table style='font-family:monospace;'><tr><th>Entr\u00e9e</th><th>Attendu</th><th>Obtenu</th><th></th></tr><tr style='background-color:#CC3300;color:#e8e8e8;'><td>'data/romeo_and_juliet.txt'...</td><td>'1:6:39:Two households, both alike in...</td><td>''</td><td>KO</td><tr style='background-color:#CC3300;color:#e8e8e8;'><td>'data/lorem_ipsum.txt', 'lo...</td><td>'1:10:67:Lorem ipsum dolor sit amet, ...</td><td>''</td><td>KO</td></table>"
       ],
       "metadata": {},
       "output_type": "pyout",
       "prompt_number": 4,
       "text": [
        "<IPython.core.display.HTML at 0x104eb3bd0>"
       ]
      }
     ],
     "prompt_number": 4
    },
    {
     "cell_type": "code",
     "collapsed": false,
     "input": [
      "# debugging\n",
      "from corrections.w4_files import debug_comptage\n",
      "debug_comptage(comptage)"
     ],
     "language": "python",
     "metadata": {},
     "outputs": [
      {
       "output_type": "stream",
       "stream": "stdout",
       "text": [
        "Votre fonction ne semble pas cr\u00e9er le fichier de sortie\n"
       ]
      }
     ],
     "prompt_number": 5
    }
   ],
   "metadata": {}
  }
 ]
}