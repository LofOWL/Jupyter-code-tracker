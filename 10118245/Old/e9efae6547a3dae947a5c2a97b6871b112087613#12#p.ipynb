{
 "metadata": {
  "notebookname": "M\u00e9thodes sp\u00e9cifiques aux listes",
  "signature": "sha256:4b0ae83228bca81840157655a4bf023af01b7ac6d6b98720365171c942a3fb0a",
  "version": "1.0"
 },
 "nbformat": 3,
 "nbformat_minor": 0,
 "worksheets": [
  {
   "cells": [
    {
     "cell_type": "heading",
     "level": 1,
     "metadata": {},
     "source": [
      "M\u00e9thodes sp\u00e9cifiques aux listes"
     ]
    },
    {
     "cell_type": "heading",
     "level": 2,
     "metadata": {},
     "source": [
      "Compl\u00e9ment - niveau basique"
     ]
    },
    {
     "cell_type": "markdown",
     "metadata": {},
     "source": [
      "Voici quelques unes des m\u00e9thodes disponibles sur le type `list`."
     ]
    },
    {
     "cell_type": "heading",
     "level": 3,
     "metadata": {},
     "source": [
      "Trouver l'information"
     ]
    },
    {
     "cell_type": "markdown",
     "metadata": {},
     "source": [
      "Pour commencer, rappelons comment retrouver la liste des m\u00e9thodes d\u00e9finies sur le type `list`:"
     ]
    },
    {
     "cell_type": "code",
     "collapsed": false,
     "input": [
      "help(list)"
     ],
     "language": "python",
     "metadata": {},
     "outputs": [
      {
       "output_type": "stream",
       "stream": "stdout",
       "text": [
        "Help on class list in module __builtin__:\n",
        "\n",
        "class list(object)\n",
        " |  list() -> new empty list\n",
        " |  list(iterable) -> new list initialized from iterable's items\n",
        " |  \n",
        " |  Methods defined here:\n",
        " |  \n",
        " |  __add__(...)\n",
        " |      x.__add__(y) <==> x+y\n",
        " |  \n",
        " |  __contains__(...)\n",
        " |      x.__contains__(y) <==> y in x\n",
        " |  \n",
        " |  __delitem__(...)\n",
        " |      x.__delitem__(y) <==> del x[y]\n",
        " |  \n",
        " |  __delslice__(...)\n",
        " |      x.__delslice__(i, j) <==> del x[i:j]\n",
        " |      \n",
        " |      Use of negative indices is not supported.\n",
        " |  \n",
        " |  __eq__(...)\n",
        " |      x.__eq__(y) <==> x==y\n",
        " |  \n",
        " |  __ge__(...)\n",
        " |      x.__ge__(y) <==> x>=y\n",
        " |  \n",
        " |  __getattribute__(...)\n",
        " |      x.__getattribute__('name') <==> x.name\n",
        " |  \n",
        " |  __getitem__(...)\n",
        " |      x.__getitem__(y) <==> x[y]\n",
        " |  \n",
        " |  __getslice__(...)\n",
        " |      x.__getslice__(i, j) <==> x[i:j]\n",
        " |      \n",
        " |      Use of negative indices is not supported.\n",
        " |  \n",
        " |  __gt__(...)\n",
        " |      x.__gt__(y) <==> x>y\n",
        " |  \n",
        " |  __iadd__(...)\n",
        " |      x.__iadd__(y) <==> x+=y\n",
        " |  \n",
        " |  __imul__(...)\n",
        " |      x.__imul__(y) <==> x*=y\n",
        " |  \n",
        " |  __init__(...)\n",
        " |      x.__init__(...) initializes x; see help(type(x)) for signature\n",
        " |  \n",
        " |  __iter__(...)\n",
        " |      x.__iter__() <==> iter(x)\n",
        " |  \n",
        " |  __le__(...)\n",
        " |      x.__le__(y) <==> x<=y\n",
        " |  \n",
        " |  __len__(...)\n",
        " |      x.__len__() <==> len(x)\n",
        " |  \n",
        " |  __lt__(...)\n",
        " |      x.__lt__(y) <==> x<y\n",
        " |  \n",
        " |  __mul__(...)\n",
        " |      x.__mul__(n) <==> x*n\n",
        " |  \n",
        " |  __ne__(...)\n",
        " |      x.__ne__(y) <==> x!=y\n",
        " |  \n",
        " |  __repr__(...)\n",
        " |      x.__repr__() <==> repr(x)\n",
        " |  \n",
        " |  __reversed__(...)\n",
        " |      L.__reversed__() -- return a reverse iterator over the list\n",
        " |  \n",
        " |  __rmul__(...)\n",
        " |      x.__rmul__(n) <==> n*x\n",
        " |  \n",
        " |  __setitem__(...)\n",
        " |      x.__setitem__(i, y) <==> x[i]=y\n",
        " |  \n",
        " |  __setslice__(...)\n",
        " |      x.__setslice__(i, j, y) <==> x[i:j]=y\n",
        " |      \n",
        " |      Use  of negative indices is not supported.\n",
        " |  \n",
        " |  __sizeof__(...)\n",
        " |      L.__sizeof__() -- size of L in memory, in bytes\n",
        " |  \n",
        " |  append(...)\n",
        " |      L.append(object) -- append object to end\n",
        " |  \n",
        " |  count(...)\n",
        " |      L.count(value) -> integer -- return number of occurrences of value\n",
        " |  \n",
        " |  extend(...)\n",
        " |      L.extend(iterable) -- extend list by appending elements from the iterable\n",
        " |  \n",
        " |  index(...)\n",
        " |      L.index(value, [start, [stop]]) -> integer -- return first index of value.\n",
        " |      Raises ValueError if the value is not present.\n",
        " |  \n",
        " |  insert(...)\n",
        " |      L.insert(index, object) -- insert object before index\n",
        " |  \n",
        " |  pop(...)\n",
        " |      L.pop([index]) -> item -- remove and return item at index (default last).\n",
        " |      Raises IndexError if list is empty or index is out of range.\n",
        " |  \n",
        " |  remove(...)\n",
        " |      L.remove(value) -- remove first occurrence of value.\n",
        " |      Raises ValueError if the value is not present.\n",
        " |  \n",
        " |  reverse(...)\n",
        " |      L.reverse() -- reverse *IN PLACE*\n",
        " |  \n",
        " |  sort(...)\n",
        " |      L.sort(cmp=None, key=None, reverse=False) -- stable sort *IN PLACE*;\n",
        " |      cmp(x, y) -> -1, 0, 1\n",
        " |  \n",
        " |  ----------------------------------------------------------------------\n",
        " |  Data and other attributes defined here:\n",
        " |  \n",
        " |  __hash__ = None\n",
        " |  \n",
        " |  __new__ = <built-in method __new__ of type object>\n",
        " |      T.__new__(S, ...) -> a new object with type S, a subtype of T\n",
        "\n"
       ]
      }
     ],
     "prompt_number": 1
    },
    {
     "cell_type": "markdown",
     "metadata": {},
     "source": [
      "Si vous ignorez pour l'instant les m\u00e9thodes dont le nom commence et termine par `__` (nous parlerons de ceci en semaine 5),  vous trouvez les m\u00e9thodes utiles list\u00e9es entre `append` et `sort`. \n",
      "\n",
      "Certaines de ces m\u00e9thodes ont \u00e9t\u00e9 vues dans la vid\u00e9o sur les s\u00e9quences, c'est le cas notamment de `count` et `index`."
     ]
    },
    {
     "cell_type": "markdown",
     "metadata": {},
     "source": [
      " Nous allons \u00e0 pr\u00e9sent d\u00e9crire les autres, partiellement et bri\u00e8vement. Un autre compl\u00e9ment d\u00e9crit la m\u00e9thode `sort`. Reportez-vous au lien donn\u00e9 en fin de notebook pour obtenir une information plus compl\u00e8te."
     ]
    },
    {
     "cell_type": "markdown",
     "metadata": {},
     "source": [
      "Donnons nous pour commencer une liste t\u00e9moin"
     ]
    },
    {
     "cell_type": "code",
     "collapsed": false,
     "input": [
      "liste = range(4)\n",
      "print 'liste', liste"
     ],
     "language": "python",
     "metadata": {},
     "outputs": [
      {
       "output_type": "stream",
       "stream": "stdout",
       "text": [
        "liste [0, 1, 2, 3]\n"
       ]
      }
     ],
     "prompt_number": 2
    },
    {
     "cell_type": "markdown",
     "metadata": {},
     "source": [
      "**Avertissement** soyez bien attentifs au nombre de fois o\u00f9 vous ex\u00e9cutez les cellules de ce notebook; par exemple une liste renvers\u00e9e deux fois peut donner l'impression que `reverse` ne marche pas :) N'h\u00e9sitez pas \u00e0 utiliser le menu `Cell -> Run All' pour r\u00e9ex\u00e9cuter une seule fois le notebook entier."
     ]
    },
    {
     "cell_type": "heading",
     "level": 3,
     "metadata": {},
     "source": [
      "`append`"
     ]
    },
    {
     "cell_type": "markdown",
     "metadata": {},
     "source": [
      "La m\u00e9thode `append` permet d'ajouter un \u00e9l\u00e9ment \u00e0 la fin d'une liste:"
     ]
    },
    {
     "cell_type": "code",
     "collapsed": false,
     "input": [
      "liste.append('ap')\n",
      "print 'liste', liste"
     ],
     "language": "python",
     "metadata": {},
     "outputs": [
      {
       "output_type": "stream",
       "stream": "stdout",
       "text": [
        "liste [0, 1, 2, 3, 'ap']\n"
       ]
      }
     ],
     "prompt_number": 3
    },
    {
     "cell_type": "heading",
     "level": 3,
     "metadata": {},
     "source": [
      "`extend`"
     ]
    },
    {
     "cell_type": "markdown",
     "metadata": {},
     "source": [
      "La m\u00e9thode `extend` r\u00e9alise ma la m\u00eame op\u00e9ration mais avec plusieurs \u00e9l\u00e9ments"
     ]
    },
    {
     "cell_type": "code",
     "collapsed": false,
     "input": [
      "liste.extend(['ex1' , 'ex2'])\n",
      "print 'liste', liste"
     ],
     "language": "python",
     "metadata": {},
     "outputs": [
      {
       "output_type": "stream",
       "stream": "stdout",
       "text": [
        "liste [0, 1, 2, 3, 'ap', 'ex1', 'ex2']\n"
       ]
      }
     ],
     "prompt_number": 4
    },
    {
     "cell_type": "markdown",
     "metadata": {},
     "source": [
      "Ces deux m\u00e9thodes `append` et `extend` sont donc assez voisines; avant de voir d'autres m\u00e9thodes de `list`, prenons un peu le temps de comparer leur comportement avec l'addition `+` de liste. L'\u00e9l\u00e9ment cl\u00e9 ici, on l'a d\u00e9j\u00e0 vu dans la vid\u00e9o, est que la liste est un objet **mutable**. `append` et `extend` **modifient** la liste sur laquelle elles travaillent, alors que l'addition **cr\u00e9e un nouvel objet**"
     ]
    },
    {
     "cell_type": "code",
     "collapsed": false,
     "input": [
      "l1 = range(5)\n",
      "l2 = l1 + ['ap', 'ex1' , 'ex2']\n",
      "print 'l1', l1\n",
      "print 'l2', l2"
     ],
     "language": "python",
     "metadata": {},
     "outputs": [
      {
       "output_type": "stream",
       "stream": "stdout",
       "text": [
        "l1 [0, 1, 2, 3, 4]\n",
        "l2 [0, 1, 2, 3, 4, 'ap', 'ex1', 'ex2']\n"
       ]
      }
     ],
     "prompt_number": 5
    },
    {
     "cell_type": "markdown",
     "metadata": {},
     "source": [
      "Comme on le voit, apr\u00e8s une addition, les deux termes de l'addition sont inchang\u00e9s; c'est pour cela que l'addition est disponible sur tous les types s\u00e9quences, mais que `append` et `extend` ne sont par exemple **pas disponibles** sur les cha\u00eenes de caract\u00e8res, qui sont **immuables**."
     ]
    },
    {
     "cell_type": "heading",
     "level": 3,
     "metadata": {},
     "source": [
      "`insert`"
     ]
    },
    {
     "cell_type": "markdown",
     "metadata": {},
     "source": [
      "La m\u00e9thode `insert` permet, comme le nom le sugg\u00e8re, d'ins\u00e9rer un \u00e9l\u00e9ment \u00e0 une certaine position; comme toujours les indices commencent \u00e0 z\u00e9ro et donc"
     ]
    },
    {
     "cell_type": "code",
     "collapsed": false,
     "input": [
      "liste.insert(2, 'remplace 2')\n",
      "print 'liste', liste"
     ],
     "language": "python",
     "metadata": {},
     "outputs": [
      {
       "output_type": "stream",
       "stream": "stdout",
       "text": [
        "liste [0, 1, 'remplace 2', 2, 3, 'ap', 'ex1', 'ex2']\n"
       ]
      }
     ],
     "prompt_number": 6
    },
    {
     "cell_type": "markdown",
     "metadata": {},
     "source": [
      "On peut remarquer qu'un r\u00e9sultat analogue peut \u00eatre obtenu avec une affectation de slice; par exemple pour ins\u00e9rer au rang 5 (i.e. avant 'ap'), on pourrait aussi bien faire "
     ]
    },
    {
     "cell_type": "code",
     "collapsed": false,
     "input": [
      "liste[5:5] = ['sl']\n",
      "print 'liste', liste"
     ],
     "language": "python",
     "metadata": {},
     "outputs": [
      {
       "output_type": "stream",
       "stream": "stdout",
       "text": [
        "liste [0, 1, 'remplace 2', 2, 3, 'sl', 'ap', 'ex1', 'ex2']\n"
       ]
      }
     ],
     "prompt_number": 7
    },
    {
     "cell_type": "heading",
     "level": 3,
     "metadata": {},
     "source": [
      "`remove`"
     ]
    },
    {
     "cell_type": "markdown",
     "metadata": {},
     "source": [
      "La m\u00e9thode `remove` d\u00e9truit la premi\u00e8re occurence d'un objet dans la liste. "
     ]
    },
    {
     "cell_type": "code",
     "collapsed": false,
     "input": [
      "liste.remove(3)\n",
      "print 'liste', liste"
     ],
     "language": "python",
     "metadata": {},
     "outputs": [
      {
       "output_type": "stream",
       "stream": "stdout",
       "text": [
        "liste [0, 1, 'remplace 2', 2, 'sl', 'ap', 'ex1', 'ex2']\n"
       ]
      }
     ],
     "prompt_number": 8
    },
    {
     "cell_type": "heading",
     "level": 3,
     "metadata": {},
     "source": [
      "`pop`"
     ]
    },
    {
     "cell_type": "markdown",
     "metadata": {},
     "source": [
      "La m\u00e9thode `pop` prend en argument un indice; elle permet d'extraire l'\u00e9l\u00e9ment \u00e0 cet indice. En un seul appel on obtient la valeur de l'\u00e9l\u00e9ment et on l'enl\u00e8ve de la liste:"
     ]
    },
    {
     "cell_type": "code",
     "collapsed": false,
     "input": [
      "popped = liste.pop(0)\n",
      "print 'popped', popped, 'liste', liste"
     ],
     "language": "python",
     "metadata": {},
     "outputs": [
      {
       "output_type": "stream",
       "stream": "stdout",
       "text": [
        "popped 0 liste [1, 'remplace 2', 2, 'sl', 'ap', 'ex1', 'ex2']\n"
       ]
      }
     ],
     "prompt_number": 9
    },
    {
     "cell_type": "markdown",
     "metadata": {},
     "source": [
      "Si l'indice n'est pas pr\u00e9cis\u00e9, c'est le dernier \u00e9l\u00e9ment de la liste qui est vis\u00e9"
     ]
    },
    {
     "cell_type": "code",
     "collapsed": false,
     "input": [
      "popped = liste.pop()\n",
      "print 'popped', popped, 'liste', liste"
     ],
     "language": "python",
     "metadata": {},
     "outputs": [
      {
       "output_type": "stream",
       "stream": "stdout",
       "text": [
        "popped ex2 liste [1, 'remplace 2', 2, 'sl', 'ap', 'ex1']\n"
       ]
      }
     ],
     "prompt_number": 10
    },
    {
     "cell_type": "heading",
     "level": 3,
     "metadata": {},
     "source": [
      "`reverse`"
     ]
    },
    {
     "cell_type": "markdown",
     "metadata": {},
     "source": [
      "Enfin `reverse` renverse la liste, le premier \u00e9l\u00e9ment devient le dernier:"
     ]
    },
    {
     "cell_type": "code",
     "collapsed": false,
     "input": [
      "liste.reverse()\n",
      "print 'liste', liste"
     ],
     "language": "python",
     "metadata": {},
     "outputs": [
      {
       "output_type": "stream",
       "stream": "stdout",
       "text": [
        "liste ['ex1', 'ap', 'sl', 2, 'remplace 2', 1]\n"
       ]
      }
     ],
     "prompt_number": 11
    },
    {
     "cell_type": "markdown",
     "metadata": {},
     "source": [
      "On peut remarquer ici que le r\u00e9sultat se rapproche de ce qu'on peut obtenir avec une op\u00e9ration de slicing comme ceci"
     ]
    },
    {
     "cell_type": "code",
     "collapsed": false,
     "input": [
      "liste2 = liste[::-1]\n",
      "print 'liste2', liste2"
     ],
     "language": "python",
     "metadata": {},
     "outputs": [
      {
       "output_type": "stream",
       "stream": "stdout",
       "text": [
        "liste2 [1, 'remplace 2', 2, 'sl', 'ap', 'ex1']\n"
       ]
      }
     ],
     "prompt_number": 12
    },
    {
     "cell_type": "markdown",
     "metadata": {},
     "source": [
      "**\u00e0 la diff\u00e9rence toutefois** qu'avec le slicing c'est une copie de la liste initiale qui est retourn\u00e9e, la liste de d\u00e9part n'est quant \u00e0 elle pas modifi\u00e9e."
     ]
    },
    {
     "cell_type": "heading",
     "level": 3,
     "metadata": {},
     "source": [
      "Pour en savoir plus"
     ]
    },
    {
     "cell_type": "markdown",
     "metadata": {},
     "source": [
      "https://docs.python.org/2/tutorial/datastructures.html#more-on-lists"
     ]
    }
   ],
   "metadata": {}
  }
 ]
}