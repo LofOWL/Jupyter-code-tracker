{
 "metadata": {
  "notebookname": "Ensembles",
  "signature": "sha256:22c259ea5ff22cab59d13e39b125dbd936458307accd0ac5cec6753ff14dce54",
  "version": "1.0"
 },
 "nbformat": 3,
 "nbformat_minor": 0,
 "worksheets": [
  {
   "cells": [
    {
     "cell_type": "heading",
     "level": 1,
     "metadata": {},
     "source": [
      "Exercice sur les ensembles"
     ]
    },
    {
     "cell_type": "heading",
     "level": 2,
     "metadata": {},
     "source": [
      "Exercice - niveau interm\u00e9diaire"
     ]
    },
    {
     "cell_type": "heading",
     "level": 3,
     "metadata": {},
     "source": [
      "Chargement des donn\u00e9es"
     ]
    },
    {
     "cell_type": "markdown",
     "metadata": {},
     "source": [
      "Nous reprenons le m\u00eame genre de donn\u00e9es marines en provenance de MarineTraffic que nous avons vues dans l'exercice pr\u00e9c\u00e9dent."
     ]
    },
    {
     "cell_type": "code",
     "collapsed": false,
     "input": [
      "# load data from files\n",
      "import json\n",
      "\n",
      "with open(\"data/marine-e2-ext.json\") as feed:\n",
      "    extended = json.load(feed)\n",
      "    \n",
      "with open(\"data/marine-e2-abb.json\") as feed:\n",
      "    abbreviated = json.load(feed)"
     ],
     "language": "python",
     "metadata": {},
     "outputs": []
    },
    {
     "cell_type": "heading",
     "level": 3,
     "metadata": {},
     "source": [
      "Rappels sur les formats"
     ]
    },
    {
     "cell_type": "markdown",
     "metadata": {},
     "source": [
      "    \u00e9tendu: [id, latitude, longitude, date_heure, nom_bateau, code_pays...]\n",
      "    abr\u00e9g\u00e9: [id, latitude, longitude, date_heure]"
     ]
    },
    {
     "cell_type": "code",
     "collapsed": false,
     "input": [
      "print \"extended has {} entries\".format(len(extended))\n",
      "print extended[12]"
     ],
     "language": "python",
     "metadata": {},
     "outputs": []
    },
    {
     "cell_type": "code",
     "collapsed": false,
     "input": [
      "print \"abbreviated has {} entries\".format(len(abbreviated))\n",
      "print abbreviated[0]"
     ],
     "language": "python",
     "metadata": {},
     "outputs": []
    },
    {
     "cell_type": "heading",
     "level": 3,
     "metadata": {},
     "source": [
      "But de l'exercice"
     ]
    },
    {
     "cell_type": "markdown",
     "metadata": {},
     "source": [
      "Notez bien une diff\u00e9rence importante avec l'exercice pr\u00e9c\u00e9dent: cette fois **il n'y a plus correspondance** entre les bateaux rapport\u00e9s dans les donn\u00e9es \u00e9tendues et abr\u00e9g\u00e9es. On vous demande d'\u00e9crire une fonction qui retourne un tuple \u00e0 trois \u00e9l\u00e9ments\n",
      " * l'ensemble (`set`) des noms des bateaux pr\u00e9sents dans `extended` mais pas dans `abbreviated`\n",
      " * l'ensemble des noms des bateaux pr\u00e9sents dans `extended` et dans `abbreviated`\n",
      " * l'ensemble des `id` des bateaux pr\u00e9sents dans `abbreviated`\n",
      " mais pas dans `extended`"
     ]
    },
    {
     "cell_type": "code",
     "collapsed": false,
     "input": [
      "# load data from files\n",
      "import json\n",
      "\n",
      "with open(\"data/marine-e2-ext.json\") as feed:\n",
      "    extended = json.load(feed)\n",
      "    \n",
      "with open(\"data/marine-e2-abb.json\") as feed:\n",
      "    abbreviated = json.load(feed)"
     ],
     "language": "python",
     "metadata": {},
     "outputs": []
    },
    {
     "cell_type": "code",
     "collapsed": false,
     "input": [
      "# le r\u00e9sultat attendu\n",
      "from corrections.w3_marine_set import exo_diff\n",
      "result = exo_diff.resultat(extended, abbreviated)\n",
      "\n",
      "# combien de bateaux sont concern\u00e9s\n",
      "def show_result(result):\n",
      "    extended_only, both, abbreviated_only = result\n",
      "    print 'dans extended mais pas dans abbreviated', len(extended_only)\n",
      "    print 'dans les deux', len(both)\n",
      "    print 'dans abbreviated mais pas dans extended', len(abbreviated_only)\n",
      "\n",
      "show_result(result)"
     ],
     "language": "python",
     "metadata": {},
     "outputs": []
    },
    {
     "cell_type": "heading",
     "level": 3,
     "metadata": {},
     "source": [
      "Votre code"
     ]
    },
    {
     "cell_type": "code",
     "collapsed": false,
     "input": [
      "def diff(extended, abbreviated):\n",
      "    \"<votre_code>\""
     ],
     "language": "python",
     "metadata": {},
     "outputs": []
    },
    {
     "cell_type": "heading",
     "level": 3,
     "metadata": {},
     "source": [
      "Validation"
     ]
    },
    {
     "cell_type": "code",
     "collapsed": false,
     "input": [
      "exo_diff.correction(diff, extended, abbreviated)"
     ],
     "language": "python",
     "metadata": {},
     "outputs": []
    },
    {
     "cell_type": "heading",
     "level": 3,
     "metadata": {},
     "source": [
      "Debugging"
     ]
    },
    {
     "cell_type": "code",
     "collapsed": false,
     "input": [
      "# pour utiliser ceci il faut que votre fonction renvoie un 3-tuple\n",
      "my_result = diff(extended, abbreviated)\n",
      "show_result(my_result)"
     ],
     "language": "python",
     "metadata": {},
     "outputs": []
    }
   ],
   "metadata": {}
  }
 ]
}