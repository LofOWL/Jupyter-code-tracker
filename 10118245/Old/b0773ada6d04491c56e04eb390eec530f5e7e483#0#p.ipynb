{
 "metadata": {
  "name": "",
  "signature": "sha256:e4680d69c781eed6a43a24c5bfd1e846a8acb455b784c05aa65c8974fbd5b9d9"
 },
 "nbformat": 3,
 "nbformat_minor": 0,
 "worksheets": [
  {
   "cells": [
    {
     "cell_type": "code",
     "collapsed": false,
     "input": [
      "# load data from files\n",
      "import json\n",
      "\n",
      "with open(\"data/marine-e1-ext.json\") as feed:\n",
      "    extended = json.load(feed)\n",
      "    \n",
      "with open(\"data/marine-e1-abb.json\") as feed:\n",
      "    abbreviated = json.load(feed)"
     ],
     "language": "python",
     "metadata": {},
     "outputs": [],
     "prompt_number": 10
    },
    {
     "cell_type": "code",
     "collapsed": false,
     "input": [
      "# les donn\u00e9es \u00e9tendues sont une liste de listes qui ressemblent \u00e0 ceci\n",
      "print extended [7]"
     ],
     "language": "python",
     "metadata": {},
     "outputs": [
      {
       "output_type": "stream",
       "stream": "stdout",
       "text": [
        "[355426000, 48.69255, -5.660868, u'2013-10-08T21:51:00', u'AYLIN', u'PA', u'', u'CEUTA', u'2013-10-05T04:01:00', u'GDANSK', u'2013-10-11T08:00:00', 0, 0, 49, 3113, 4279, 1986]\n"
       ]
      }
     ],
     "prompt_number": 16
    },
    {
     "cell_type": "code",
     "collapsed": false,
     "input": [
      "# les donn\u00e9es abbr\u00e9g\u00e9es sont une liste de listes comme\n",
      "print abbreviated [0]"
     ],
     "language": "python",
     "metadata": {},
     "outputs": [
      {
       "output_type": "stream",
       "stream": "stdout",
       "text": [
        "[245088000, 49.95044, -5.90276, u'2013-10-08T22:59:00']\n"
       ]
      }
     ],
     "prompt_number": 18
    },
    {
     "cell_type": "code",
     "collapsed": false,
     "input": [
      "def merge (extended, abbreviated):\n",
      "    \"<votre_code>\""
     ],
     "language": "python",
     "metadata": {},
     "outputs": [],
     "prompt_number": 2
    },
    {
     "cell_type": "code",
     "collapsed": false,
     "input": [
      "from corrections.w3_marine import correction_merge\n",
      "correction_merge(merge, extended, abbreviated)"
     ],
     "language": "python",
     "metadata": {},
     "outputs": [
      {
       "html": [
        "<table style='font-family:monospace;'><tr><th>Entr\u00e9e</th><th>Attendu</th><th>Obtenu</th><th></th></tr><tr style='background-color:#CC3300;color:#e8e8e8;'><td>[[992271012, 47.64744, -3.5...</td><td>{210688000: [u'AMAZONITH', u'CY', (49...</td><td>None</td><td>KO</td></table>"
       ],
       "metadata": {},
       "output_type": "pyout",
       "prompt_number": 6,
       "text": [
        "<IPython.core.display.HTML at 0x106031710>"
       ]
      }
     ],
     "prompt_number": 6
    },
    {
     "cell_type": "code",
     "collapsed": false,
     "input": [
      "# le r\u00e9sultat correct\n",
      "from corrections.w3_marine import resultat_merge\n",
      "resultat = resultat_merge (extended, abbreviated)"
     ],
     "language": "python",
     "metadata": {},
     "outputs": [],
     "prompt_number": 8
    },
    {
     "cell_type": "code",
     "collapsed": false,
     "input": [
      "# a quoi ressemble le resultat pour le premier bateau\n",
      "from pprint import pprint\n",
      "for cle_valeur in resultat.iteritems():\n",
      "    pprint (cle_valeur)\n",
      "    break"
     ],
     "language": "python",
     "metadata": {},
     "outputs": [
      {
       "output_type": "stream",
       "stream": "stdout",
       "text": [
        "(210688000,\n",
        " [u'AMAZONITH',\n",
        "  u'CY',\n",
        "  (49.8458, -5.1113, u'2013-10-08T21:51:00'),\n",
        "  (49.84245, -4.804717, u'2013-10-08T22:58:00')])\n"
       ]
      }
     ],
     "prompt_number": 9
    },
    {
     "cell_type": "code",
     "collapsed": false,
     "input": [],
     "language": "python",
     "metadata": {},
     "outputs": []
    }
   ],
   "metadata": {}
  }
 ]
}