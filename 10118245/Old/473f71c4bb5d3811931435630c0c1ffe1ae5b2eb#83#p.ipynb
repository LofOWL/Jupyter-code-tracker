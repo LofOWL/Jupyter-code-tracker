{
 "cells": [
  {
   "cell_type": "markdown",
   "metadata": {},
   "source": [
    "# Premiers pas avec des données météo"
   ]
  },
  {
   "cell_type": "markdown",
   "metadata": {},
   "source": [
    "## Exercice - niveau intermédiaire"
   ]
  },
  {
   "cell_type": "markdown",
   "metadata": {},
   "source": [
    "Nous allons à présent travailler avec des données obtenues auprès de [OpenWeatherMap](https://openweathermap.desk.com) à cette URL http://78.46.48.103/sample/daily_14.json.gz - en fait un sous-ensemble de celles-ci pour des raisons de taille.\n",
    "\n",
    "Nous verrons plus tard comment on aurait pu utiliser python pour nous procurer ces données directement auprès de OpenWeatherMap, mais pour le moment contentons-nous d'utiliser une copie locale; vous avez dès maintenant accès à un fichier qui s'appelle `data/meteo_france.json`.\n",
    "\n",
    "Ici encore nous utilisont le module [module `json`](https://docs.python.org/2/library/json.html) pour charger ces données en mémoire."
   ]
  },
  {
   "cell_type": "code",
   "execution_count": null,
   "metadata": {},
   "outputs": [],
   "source": [
    "# le module json\n",
    "import json\n",
    "\n",
    "# chargement des données au format json\n",
    "with open('data/meteo_france.json') as feed:\n",
    "    raw_data = all_cities = json.load(feed)"
   ]
  },
  {
   "cell_type": "code",
   "execution_count": null,
   "metadata": {},
   "outputs": [],
   "source": [
    "city=raw_data[0]\n",
    "import pprint\n",
    "pprint.pprint(city)"
   ]
  },
  {
   "cell_type": "code",
   "execution_count": null,
   "metadata": {},
   "outputs": [],
   "source": [
    "print city.keys()"
   ]
  },
  {
   "cell_type": "code",
   "execution_count": null,
   "metadata": {},
   "outputs": [],
   "source": [
    "city['time']"
   ]
  },
  {
   "cell_type": "raw",
   "metadata": {},
   "source": []
  }
 ],
 "metadata": {
  "kernelspec": {
   "display_name": "Python 3",
   "language": "python",
   "name": "python3"
  },
  "language_info": {
   "codemirror_mode": {
    "name": "ipython",
    "version": 3
   },
   "file_extension": ".py",
   "mimetype": "text/x-python",
   "name": "python",
   "nbconvert_exporter": "python",
   "pygments_lexer": "ipython3",
   "version": "3.7.3"
  },
  "notebookname": "Données météo",
  "version": "1.0"
 },
 "nbformat": 4,
 "nbformat_minor": 1
}
