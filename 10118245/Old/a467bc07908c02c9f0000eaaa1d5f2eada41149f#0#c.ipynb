{
 "metadata": {
  "name": "\"Notebooks\" IPython comme support de cours",
  "signature": "cd3e8ca287b8dad8942b7c396fe931ee735a0b2feb34dd18046d87bcec80b1d2"
 },
 "nbformat": 3,
 "nbformat_minor": 0,
 "worksheets": [
  {
   "cells": [
    {
     "cell_type": "heading",
     "level": 1,
     "metadata": {},
     "source": [
      "\"Notebooks\" IPython comme support de cours"
     ]
    },
    {
     "cell_type": "markdown",
     "metadata": {},
     "source": [
      "Pour illustrer les vid\u00e9os du MOOC, nous avons choisi d'utiliser IPython pour vous r\u00e9diger les documents \"mixtes\" contenant du texte et du code python, qu'on appelle des \"notebooks\", et dont le pr\u00e9sent document est un exemple."
     ]
    },
    {
     "cell_type": "heading",
     "level": 3,
     "metadata": {},
     "source": [
      "Avantages des notebooks"
     ]
    },
    {
     "cell_type": "markdown",
     "metadata": {},
     "source": [
      "Par rapport \u00e0 du code python \"brut\", les notebooks pr\u00e9sentent le premier avantage que le code python est interpr\u00e9t\u00e9 **sur une machine distante**, ce qui vous permet de faire vos premiers pas avant m\u00eame d'avoir proc\u00e9d\u00e9 \u00e0 l'installation de python sur votre propre ordinateur.\n",
      "\n",
      "En second lieu, les parties textuelles peuvent \u00eatre mises en forme, et sont beaucoup plus lisibles que des commentaires dans un fichier de code. "
     ]
    },
    {
     "cell_type": "heading",
     "level": 3,
     "metadata": {},
     "source": [
      "Comment utiliser les notebooks"
     ]
    },
    {
     "cell_type": "markdown",
     "metadata": {},
     "source": [
      "Un notebook est constitu\u00e9 d'une suite de cellules, soit textuelles, soit contenant du code. Les cellules de code sont facilement reconnaissables, elles sont pr\u00e9c\u00e9d\u00e9es de $\\texttt{In []:}$.\n",
      "\n",
      "Pour voir le r\u00e9sultat d'une cellule de code, il faut la s\u00e9lectionner; puis \n",
      "vous disposez d'un bouton en forme de fl\u00eache triangulaire (Play) vers la droite, qui vous fait passer d'une cellule \u00e0 la suivante, en \u00e9valuant le code. Pour \"ex\u00e9cuter\" l'ensemble du notebook, on part de la premi\u00e8re cellule, et on clique le bouton \"Play\" jusqu'au bout du notebook. \n",
      "\n",
      "Alternativement vous pouvez simplement taper au clavier  $\\textbf{\"Shift+Enter\"}$ pour obtenir le m\u00eame effet. (Ou encore, utiliser le menu \"Cell->Run\" mais c'est plus fastidieux).\n",
      "\n",
      "Entrainez-vous avec la cellule de code suivante:"
     ]
    },
    {
     "cell_type": "code",
     "collapsed": false,
     "input": [
      "20 * 30"
     ],
     "language": "python",
     "metadata": {},
     "outputs": []
    },
    {
     "cell_type": "markdown",
     "metadata": {},
     "source": [
      "Lorsqu'une cellule de code a \u00e9t\u00e9 \u00e9valu\u00e9e, ipython ajoute sous la cellule $\\texttt{In}$ une cellule $\\texttt{Out}$ qui donne le r\u00e9sultat du fragment python, soit ci-dessus 600.\n",
      "\n",
      "ipython ajoute \u00e9galement un nombre entre les crochets pour afficher, par exemple ci-dessus, $\\texttt{In [1]:}$. Ce nombre vous permet de retrouver l'ordre dans lequel les cellules ont \u00e9t\u00e9 \u00e9valu\u00e9es."
     ]
    },
    {
     "cell_type": "markdown",
     "metadata": {},
     "source": [
      "Vous pouvez naturellement modifier ces cellules de code pour faire des essais; ainsi vous pouvez vous servir du mod\u00e8le di-dessous pour calculer la racine carr\u00e9e de 3:"
     ]
    },
    {
     "cell_type": "code",
     "collapsed": false,
     "input": [
      "import math\n",
      "math.sqrt(2)"
     ],
     "language": "python",
     "metadata": {},
     "outputs": []
    },
    {
     "cell_type": "heading",
     "level": 3,
     "metadata": {},
     "source": [
      "Attention \u00e0 bien \u00e9valuer les cellules dans l'ordre"
     ]
    },
    {
     "cell_type": "markdown",
     "metadata": {},
     "source": [
      "Il est important que les cellules de code soient \u00e9valu\u00e9es dans le bon ordre. Si vous ne respectez pas l'ordre dans lequel les cellules de code sont pr\u00e9sent\u00e9es, le r\u00e9sultat peut \u00eatre inattendu. \n",
      "\n",
      "C'est une question de bon sens, et cela vous appara\u00eetra nettement tr\u00e8s bient\u00f4t; \u00e9valuer un programme sous forme de notebook revient \u00e0 le d\u00e9couper en petits fragments, et si on ex\u00e9cute ces fragments dans le d\u00e9sordre, on obtient naturellement un programme diff\u00e9rent."
     ]
    },
    {
     "cell_type": "heading",
     "level": 3,
     "metadata": {},
     "source": [
      "\u00c9valuer tout le notebook en une fois"
     ]
    },
    {
     "cell_type": "markdown",
     "metadata": {},
     "source": [
      "On peut \u00e9galement \u00e9valuer tout le notebook en une seule fois en utilisant le menu \"Cell -> Run All\".\n",
      "\n",
      "Attention toutefois que certains de nos notebooks peuvent contenir, surtout au d\u00e9but du cours, des constructions **intentionnellement incorrectes**, et dans ce cas la fonction \"Run All\" va s'arr\u00eater \u00e0 cette cellule. Par exemple:"
     ]
    },
    {
     "cell_type": "code",
     "collapsed": false,
     "input": [
      "eggs"
     ],
     "language": "python",
     "metadata": {},
     "outputs": []
    },
    {
     "cell_type": "markdown",
     "metadata": {},
     "source": [
      "Lorsqu'on \u00e9value cette cellule avec seulement le texte $\\texttt{eggs}$, python se plaint car cette variable n'est pas d\u00e9finie. Nous verrons bien s\u00fbr tout ceci en d\u00e9tail, mais dans l'imm\u00e9diat, voyez comment est formul\u00e9 le message d'erreur."
     ]
    },
    {
     "cell_type": "markdown",
     "metadata": {},
     "source": [
      "Remarquez aussi, si vous avez essay\u00e9 la fonction \"Run All\" pour ex\u00e9cuter tout le notebook, que la cellule suivante n'a pas \u00e9t\u00e9 \u00e9valu\u00e9e, il va falloir l'ex\u00e9cuter \"\u00e0 la main\""
     ]
    },
    {
     "cell_type": "code",
     "collapsed": false,
     "input": [
      "eggs = 10 * 100\n",
      "eggs"
     ],
     "language": "python",
     "metadata": {},
     "outputs": []
    }
   ],
   "metadata": {}
  }
 ]
}