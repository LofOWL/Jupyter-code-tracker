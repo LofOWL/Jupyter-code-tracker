{
 "metadata": {
  "name": "",
  "signature": "sha256:0bf4712b169fc9d823ccf9aa71f15eefb3c49bd42e66cf614c333b00bf3ef23a"
 },
 "nbformat": 3,
 "nbformat_minor": 0,
 "worksheets": [
  {
   "cells": [
    {
     "cell_type": "heading",
     "level": 1,
     "metadata": {},
     "source": [
      "Instructions conditionnelles `if` et fonctions"
     ]
    },
    {
     "cell_type": "heading",
     "level": 2,
     "metadata": {},
     "source": [
      "Exercices - niveau basique"
     ]
    },
    {
     "cell_type": "heading",
     "level": 3,
     "metadata": {},
     "source": [
      "Proc\u00e9dure de divisibilit\u00e9"
     ]
    },
    {
     "cell_type": "markdown",
     "metadata": {},
     "source": [
      "On se donne deux nombres entiers a et b, vous devez \u00e9crire une fonction 'print_divisible' qui imprime 'DIVISIBLE' si l'un des deux divise l'autre, et 'NON' sinon"
     ]
    },
    {
     "cell_type": "code",
     "collapsed": false,
     "input": [
      "def print_divisible (a,b):\n",
      "   <votre code\n",
      "    sur plusieurs lignes\n",
      "    si necessaire>"
     ],
     "language": "python",
     "metadata": {},
     "outputs": []
    },
    {
     "cell_type": "markdown",
     "metadata": {},
     "source": [
      "Pour v\u00e9rifier votre r\u00e9sultat vous pouvez \u00e9valuer cette cellule qui ne doit vous montrer que des 'DIVISIBLE'"
     ]
    },
    {
     "cell_type": "code",
     "collapsed": false,
     "input": [
      "print_divisible (20,10)\n",
      "print_divisible (200,-10)\n",
      "print_divisible (-200,10)\n",
      "print_divisible (-200,-10)\n",
      "print_divisible (10,200)\n",
      "print_divisible (10,-200)\n",
      "print_divisible (-10,200)\n",
      "print_divisible (-10,-200)"
     ],
     "language": "python",
     "metadata": {},
     "outputs": []
    },
    {
     "cell_type": "markdown",
     "metadata": {},
     "source": [
      "Et ici vous ne devez avoir que des 'NON'"
     ]
    },
    {
     "cell_type": "code",
     "collapsed": false,
     "input": [
      "print_divisible (8,12)\n",
      "print_divisible (12,-8)\n",
      "print_divisible (-12,8)\n",
      "print_divisible (-12,-8)"
     ],
     "language": "python",
     "metadata": {},
     "outputs": []
    },
    {
     "cell_type": "heading",
     "level": 3,
     "metadata": {},
     "source": [
      "Fonction de divisibilit\u00e9"
     ]
    },
    {
     "cell_type": "markdown",
     "metadata": {},
     "source": [
      "L'exercice est tout \u00e0 fait identique, sauf que la fonction cette fois baptis\u00e9e `divisible` n'imprime rien, mais retourne une valeur bool\u00e9enne qui indique, comme ci-dessus, si un des deux arguments est divisible par l'autre"
     ]
    },
    {
     "cell_type": "code",
     "collapsed": false,
     "input": [
      "def divisible (a,b):\n",
      "   <votre code\n",
      "    sur plusieurs lignes\n",
      "    si necessaire>"
     ],
     "language": "python",
     "metadata": {},
     "outputs": []
    },
    {
     "cell_type": "markdown",
     "metadata": {},
     "source": [
      "Vous pouvez \u00e0 pr\u00e9sent tester votre code en \u00e9valuant ceci, qui \u00e9crira un message d'erreur si un des jeux de test ne donne pas le r\u00e9sultat attendu. Vous avez d'ailleurs \u00e0 pr\u00e9sent toutes les comp\u00e9tences pour comprendre ce code si le coaur vous en dit"
     ]
    },
    {
     "cell_type": "code",
     "collapsed": false,
     "input": [
      "inputs = [\n",
      "    (20,10,True),\n",
      "    (200,-10,True),\n",
      "    (-200,10,True),\n",
      "    (-200,-10,True),\n",
      "    (10,200,True),\n",
      "    (10,-200,True),\n",
      "    (-10,200,True),\n",
      "    (-10,-200,True),\n",
      "    (8,12,False),\n",
      "    (12,-8,False),\n",
      "    (-12,8,False),\n",
      "    (-12,-8,False),\n",
      "]\n",
      "\n",
      "for (a,b,expected) in inputs:\n",
      "    if divisible(a,b) != expected:\n",
      "        print \"ERREUR avec\",a,b,\"attendu\",expected,\"trouv\u00e9\",divisible(a,b)"
     ],
     "language": "python",
     "metadata": {},
     "outputs": []
    },
    {
     "cell_type": "markdown",
     "metadata": {},
     "source": [
      "**Remarque.** Vu comme le probl\u00e8me est pos\u00e9 il est assez naturel d'utiliser un `if` pour \u00e9crire 'divisible'. En toute rigueur toutefois un `if` n'est pas strictement indispensable, et nous vous invitons \u00e0 exhiber une version sans `if` qui est .. plus pythonique"
     ]
    }
   ],
   "metadata": {}
  }
 ]
}