{
 "metadata": {
  "name": "",
  "signature": "sha256:284eccaaf29cbcfb36cb9097b4985d94a070a0b1f8f28a754f2036e3847a003e"
 },
 "nbformat": 3,
 "nbformat_minor": 0,
 "worksheets": [
  {
   "cells": [
    {
     "cell_type": "heading",
     "level": 1,
     "metadata": {},
     "source": [
      "Dessiner un carr\u00e9"
     ]
    },
    {
     "cell_type": "heading",
     "level": 2,
     "metadata": {},
     "source": [
      "Compl\u00e9ment - niveau basique"
     ]
    },
    {
     "cell_type": "markdown",
     "metadata": {},
     "source": [
      "Voici un tout petit programme qui dessine un carr\u00e9\n",
      "\n",
      "Il utilise le module `turtle`, con\u00e7u pr\u00e9cis\u00e9ment \u00e0 des fins p\u00e9dagogiques"
     ]
    },
    {
     "cell_type": "markdown",
     "metadata": {},
     "source": [
      "Pour des raisons techniques, le module `turtle` n'est pas disponible au travers de la plateforme FUN. L'objectif de ce compl\u00e9ment est de vous entra\u00eener \u00e0 t\u00e9l\u00e9charger ce programme en utilisant le menu *\"File -> Download as -> python\"*, puis \u00e0 le charger dans votre IDLE pour l'ex\u00e9cuter sur votre machine."
     ]
    },
    {
     "cell_type": "code",
     "collapsed": false,
     "input": [
      "import turtle"
     ],
     "language": "python",
     "metadata": {},
     "outputs": [],
     "prompt_number": 5
    },
    {
     "cell_type": "markdown",
     "metadata": {},
     "source": [
      "On commence par d\u00e9finir une fonction qui dessine un carr\u00e9 de cot\u00e9 `length`"
     ]
    },
    {
     "cell_type": "code",
     "collapsed": false,
     "input": [
      "def square (length):\n",
      "    \"a procedure to draw a square of side length\"\n",
      "    for side in range (4):\n",
      "        turtle.forward (length)\n",
      "        turtle.left (90)"
     ],
     "language": "python",
     "metadata": {},
     "outputs": [],
     "prompt_number": 6
    },
    {
     "cell_type": "markdown",
     "metadata": {},
     "source": [
      "Maintenant on commence par initialiser la tortue"
     ]
    },
    {
     "cell_type": "code",
     "collapsed": false,
     "input": [
      "turtle.reset()"
     ],
     "language": "python",
     "metadata": {},
     "outputs": [],
     "prompt_number": 8
    },
    {
     "cell_type": "markdown",
     "metadata": {},
     "source": [
      "On peut alors dessiner notre carr\u00e9"
     ]
    },
    {
     "cell_type": "code",
     "collapsed": false,
     "input": [
      "square (100)"
     ],
     "language": "python",
     "metadata": {},
     "outputs": [],
     "prompt_number": 10
    },
    {
     "cell_type": "markdown",
     "metadata": {},
     "source": [
      "Et pour finir on attend que l'utilisateur clique dans la fen\u00eatre de la tortue, et alors on termine"
     ]
    },
    {
     "cell_type": "code",
     "collapsed": false,
     "input": [
      "turtle.exitonclick()"
     ],
     "language": "python",
     "metadata": {},
     "outputs": [],
     "prompt_number": 11
    }
   ],
   "metadata": {}
  }
 ]
}