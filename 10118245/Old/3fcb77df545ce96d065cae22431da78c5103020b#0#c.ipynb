{
 "metadata": {
  "name": "",
  "signature": "sha256:753342b2b42d0efa16a89dace2d8391e037491acf0b8a956274ba2c3f70990f0"
 },
 "nbformat": 3,
 "nbformat_minor": 0,
 "worksheets": [
  {
   "cells": [
    {
     "cell_type": "heading",
     "level": 1,
     "metadata": {},
     "source": [
      "Les instructions `break` et `continue`"
     ]
    },
    {
     "cell_type": "heading",
     "level": 2,
     "metadata": {},
     "source": [
      "Compl\u00e9ment - niveau basique"
     ]
    },
    {
     "cell_type": "heading",
     "level": 3,
     "metadata": {},
     "source": [
      "`break` et `continue`\n"
     ]
    },
    {
     "cell_type": "markdown",
     "metadata": {},
     "source": [
      "python propose deux instructions tr\u00e8s pratiques permettant de contr\u00f4ler l'ex\u00e9cution \u00e0 l'int\u00e9rieur des boucles de r\u00e9p\u00e9tition (`for` ou autres `while`)\n",
      "\n",
      " * `continue` : pour abandonner l'it\u00e9ration courante et passer \u00e0 la suivante\n",
      " * `break` : pour abandonner compl\u00e8tement la boucle\n",
      " \n",
      " Voici un exemple simple d'utilisation de ces deux instructions"
     ]
    },
    {
     "cell_type": "code",
     "collapsed": false,
     "input": [
      "for entier in range(1000):\n",
      "    # on ignore les nombres non multiples de 10\n",
      "    if entier % 10 != 0:\n",
      "        continue\n",
      "    print \"On traite l'entier {}\".format(entier)\n",
      "    # on s'arr\u00eate \u00e0 50\n",
      "    if entier >= 50:\n",
      "        break\n",
      "print \"on est sorti de la boucle\"    "
     ],
     "language": "python",
     "metadata": {},
     "outputs": [
      {
       "output_type": "stream",
       "stream": "stdout",
       "text": [
        "On traite l'entier 0\n",
        "On traite l'entier 10\n",
        "On traite l'entier 20\n",
        "On traite l'entier 30\n",
        "On traite l'entier 40\n",
        "On traite l'entier 50\n",
        "on est sorti de la boucle\n"
       ]
      }
     ],
     "prompt_number": 7
    }
   ],
   "metadata": {}
  }
 ]
}