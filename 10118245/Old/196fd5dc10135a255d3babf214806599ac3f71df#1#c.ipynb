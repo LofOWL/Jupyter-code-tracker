{
 "metadata": {
  "notebookname": "PGCD",
  "signature": "sha256:972d0558e7517d4f22d4f17185941a6224fb8d88abe723d979fd170cbf11a27d",
  "version": "1.0"
 },
 "nbformat": 3,
 "nbformat_minor": 0,
 "worksheets": [
  {
   "cells": [
    {
     "cell_type": "heading",
     "level": 1,
     "metadata": {},
     "source": [
      "Calculer le PGCD"
     ]
    },
    {
     "cell_type": "heading",
     "level": 2,
     "metadata": {},
     "source": [
      "Exercice - niveau basique"
     ]
    },
    {
     "cell_type": "markdown",
     "metadata": {},
     "source": [
      "On vous demande d'\u00e9crire une fonction qui calcule le pgcd de deux entiers, en utilisant [l'algorithme d'Euclide](http://fr.wikipedia.org/wiki/Algorithme_d'Euclide)."
     ]
    },
    {
     "cell_type": "code",
     "collapsed": false,
     "input": [
      "def pgcd (a,b):\n",
      "    \"<votre code>\""
     ],
     "language": "python",
     "metadata": {},
     "outputs": [],
     "prompt_number": 1
    },
    {
     "cell_type": "code",
     "collapsed": false,
     "input": [
      "# pour v\u00e9rifier votre code\n",
      "from corrections.w4_pgcd import correction_pgcd\n",
      "correction_pgcd (pgcd)"
     ],
     "language": "python",
     "metadata": {},
     "outputs": [
      {
       "html": [
        "<table style='font-family:monospace;'><tr><th>Entr\u00e9e</th><th>Attendu</th><th>Obtenu</th><th></th></tr><tr style='background-color:#CC3300;color:#e8e8e8;'><td>36, 36</td><td>36</td><td>None</td><td>KO</td><tr style='background-color:#CC3300;color:#e8e8e8;'><td>180, 108</td><td>36</td><td>None</td><td>KO</td><tr style='background-color:#CC3300;color:#e8e8e8;'><td>108, 72</td><td>36</td><td>None</td><td>KO</td><tr style='background-color:#CC3300;color:#e8e8e8;'><td>540, 216</td><td>108</td><td>None</td><td>KO</td><tr style='background-color:#CC3300;color:#e8e8e8;'><td>324, 144</td><td>36</td><td>None</td><td>KO</td><tr style='background-color:#CC3300;color:#e8e8e8;'><td>1620, 432</td><td>108</td><td>None</td><td>KO</td><tr style='background-color:#CC3300;color:#e8e8e8;'><td>72, 180</td><td>36</td><td>None</td><td>KO</td><tr style='background-color:#CC3300;color:#e8e8e8;'><td>360, 540</td><td>180</td><td>None</td><td>KO</td><tr style='background-color:#CC3300;color:#e8e8e8;'><td>216, 360</td><td>72</td><td>None</td><td>KO</td><tr style='background-color:#CC3300;color:#e8e8e8;'><td>1080, 1080</td><td>1080</td><td>None</td><td>KO</td><tr style='background-color:#CC3300;color:#e8e8e8;'><td>648, 720</td><td>72</td><td>None</td><td>KO</td><tr style='background-color:#CC3300;color:#e8e8e8;'><td>3240, 2160</td><td>1080</td><td>None</td><td>KO</td><tr style='background-color:#CC3300;color:#e8e8e8;'><td>144, 900</td><td>36</td><td>None</td><td>KO</td><tr style='background-color:#CC3300;color:#e8e8e8;'><td>720, 2700</td><td>180</td><td>None</td><td>KO</td><tr style='background-color:#CC3300;color:#e8e8e8;'><td>432, 1800</td><td>72</td><td>None</td><td>KO</td><tr style='background-color:#CC3300;color:#e8e8e8;'><td>2160, 5400</td><td>1080</td><td>None</td><td>KO</td><tr style='background-color:#CC3300;color:#e8e8e8;'><td>1296, 3600</td><td>144</td><td>None</td><td>KO</td><tr style='background-color:#CC3300;color:#e8e8e8;'><td>6480, 10800</td><td>2160</td><td>None</td><td>KO</td></table>"
       ],
       "metadata": {},
       "output_type": "pyout",
       "prompt_number": 2,
       "text": [
        "<IPython.core.display.HTML at 0x1125c7490>"
       ]
      }
     ],
     "prompt_number": 2
    }
   ],
   "metadata": {}
  }
 ]
}