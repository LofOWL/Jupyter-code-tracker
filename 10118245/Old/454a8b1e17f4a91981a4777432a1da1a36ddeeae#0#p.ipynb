{
 "metadata": {
  "notebookname": "Surcharge op\u00e9rateurs (1)",
  "signature": "sha256:1fd0767caea15f59f3b8962b717987075451b159a9b371e37e30545ad332b3a7",
  "version": "1.0"
 },
 "nbformat": 3,
 "nbformat_minor": 0,
 "worksheets": [
  {
   "cells": [
    {
     "cell_type": "heading",
     "level": 1,
     "metadata": {},
     "source": [
      "Surcharge d'op\u00e9rateurs (1)"
     ]
    },
    {
     "cell_type": "heading",
     "level": 2,
     "metadata": {},
     "source": [
      "Compl\u00e9ment - niveau interm\u00e9diaire"
     ]
    },
    {
     "cell_type": "markdown",
     "metadata": {},
     "source": [
      "Ce compl\u00e9ment vise \u00e0 illustrer certaines des possibilit\u00e9s de surcharge d'op\u00e9rateurs. Comme annonc\u00e9 dans la vid\u00e9o, il existe un total de pr\u00e8s de 80 m\u00e9thodes dans ce syst\u00e8me de surcharges, aussi il n'est pas question ici d'\u00eatre exhaustif. Vous trouverez [dans ce document une liste compl\u00e8te de ces possibilit\u00e9s](http://docs.python.org/2/reference/datamodel.html#special-method-names).\n",
      "\n",
      "Il nous faut \u00e9galement signaler que les m\u00e9canismes mis en jeu ici sont de difficult\u00e9s assez variables. Dans le cas le plus simple il suffit de d\u00e9finir une m\u00e9thode sur la classe pour obtenir le r\u00e9sultat (par exemple, d\u00e9finir `__call__` pour rendre un objet callable). Mais parfois on parle d'un ensemble de "
     ]
    },
    {
     "cell_type": "markdown",
     "metadata": {},
     "source": [
      "Pour all\u00e9ger la pr\u00e9sentation, cet expos\u00e9 a \u00e9t\u00e9 coup\u00e9 en deux notebooks diff\u00e9rents, de mani\u00e8re arbitraire."
     ]
    },
    {
     "cell_type": "markdown",
     "metadata": {},
     "source": [
      "*****"
     ]
    },
    {
     "cell_type": "heading",
     "level": 3,
     "metadata": {},
     "source": [
      "Rappels (1)"
     ]
    },
    {
     "cell_type": "markdown",
     "metadata": {},
     "source": [
      "Pour rappel, on a vu dans la vid\u00e9o&nbsp;:\n",
      " * la m\u00e9thode `__init__` pour d\u00e9finir un **constructeur**, \n",
      " * et la m\u00e9thode `__str__` pour d\u00e9finir comment une instance s'imprime avec `print`."
     ]
    },
    {
     "cell_type": "heading",
     "level": 3,
     "metadata": {},
     "source": [
      "Affichage : `__repr__` et `__str__`"
     ]
    },
    {
     "cell_type": "markdown",
     "metadata": {},
     "source": [
      "Nous commen\u00e7ons par signaler la m\u00e9thode `__repr__` qui est assez voisine de `__str__`, et qui donc doit retourner un objet de type cha\u00eene de caract\u00e8res, sauf que&nbsp;:\n",
      " * `__str__` est utilis\u00e9 par `print` (affichage orient\u00e9 utilisateur du programme; priorit\u00e9 au confort visuel),\n",
      " * alors que `__repr__` est utilis\u00e9e par la fonction `repr()` (affichage orient\u00e9 programmeur, aussi peu ambig\u00fc que possible);\n",
      " * il faut savoir que `__repr__` est utilis\u00e9 **aussi** par `print` si `__str__` n'est pas d\u00e9fini.\n",
      "\n",
      "Pour cette seconde raison, on trouve dans la nature `__repr__` plut\u00f4t plus souvent que `__str__`; voyez [ce lien](https://docs.python.org/2/reference/datamodel.html#object.__repr__) pour davantage de d\u00e9tails. "
     ]
    },
    {
     "cell_type": "heading",
     "level": 5,
     "metadata": {},
     "source": [
      "Quand est utilis\u00e9e `repr()`"
     ]
    },
    {
     "cell_type": "markdown",
     "metadata": {},
     "source": [
      "`repr()` est utilis\u00e9e massivement dans les informations de debugging comme les traces de pile lorsqu'une exception est lev\u00e9e. Elle est aussi utilis\u00e9e lorsque vous affichez un objet sans passer par `print`, c'est-\u00e0-dire par exemple&nbsp;: "
     ]
    },
    {
     "cell_type": "code",
     "collapsed": false,
     "input": [
      "class Foo: pass\n",
      "foo = Foo()\n",
      "# lorsque vous affichez un objet comme ceci\n",
      "foo\n",
      "# en fait vous utilisez repr()"
     ],
     "language": "python",
     "metadata": {},
     "outputs": [
      {
       "metadata": {},
       "output_type": "pyout",
       "prompt_number": 24,
       "text": [
        "<__main__.Foo instance at 0x1102dbd88>"
       ]
      }
     ],
     "prompt_number": 24
    },
    {
     "cell_type": "heading",
     "level": 5,
     "metadata": {},
     "source": [
      "Deux exemples"
     ]
    },
    {
     "cell_type": "markdown",
     "metadata": {},
     "source": [
      "Voici deux exemples simples de classes; dans le premier on on n'a d\u00e9fini que `__repr__`, dans le second on a red\u00e9fini les deux m\u00e9thodes&nbsp;:"
     ]
    },
    {
     "cell_type": "code",
     "collapsed": false,
     "input": [
      "# une classe qui ne d\u00e9finit que __repr__\n",
      "class Point (object):\n",
      "    \"premi\u00e8re version de Point - on ne d\u00e9finit que __repr__\"\n",
      "    def __init__(self, x, y):\n",
      "        self.x = x\n",
      "        self.y = y\n",
      "    def __repr__(self):\n",
      "        return \"Point({x},{y})\".format(**vars(self))\n",
      "    \n",
      "point = Point (0,100)\n",
      "\n",
      "print \"avec print\", point\n",
      "\n",
      "# si vous affichez un objet sans passer par print\n",
      "# vous utilisez repr()\n",
      "point\n"
     ],
     "language": "python",
     "metadata": {},
     "outputs": [
      {
       "output_type": "stream",
       "stream": "stdout",
       "text": [
        "avec print Point(0,100)\n"
       ]
      },
      {
       "metadata": {},
       "output_type": "pyout",
       "prompt_number": 27,
       "text": [
        "Point(0,100)"
       ]
      }
     ],
     "prompt_number": 27
    },
    {
     "cell_type": "code",
     "collapsed": false,
     "input": [
      "# la m\u00eame chose mais o\u00f9 on red\u00e9finit __str__ et __repr__\n",
      "class Point2 (object):\n",
      "    \"seconde version de Point - on d\u00e9finit __repr__ et __str__\"\n",
      "    def __init__(self, x, y):\n",
      "        self.x = x\n",
      "        self.y = y\n",
      "    def __repr__(self):\n",
      "        return \"Point2({x},{y})\".format(**vars(self))\n",
      "    def __str__(self):\n",
      "        return \"({x},{y})\".format(**vars(self))\n",
      "    \n",
      "point2 = Point2 (0,100)\n",
      "\n",
      "print \"avec print\", point2\n",
      "\n",
      "# format utilise aussi __str__\n",
      "print \"avec format {}\".format(point2)\n",
      "\n",
      "# si vous affichez un objet sans passer par print\n",
      "# vous utilisez repr()\n",
      "point2"
     ],
     "language": "python",
     "metadata": {},
     "outputs": [
      {
       "output_type": "stream",
       "stream": "stdout",
       "text": [
        "avec print (0,100)\n",
        "avec format (0,100)\n"
       ]
      },
      {
       "metadata": {},
       "output_type": "pyout",
       "prompt_number": 26,
       "text": [
        "Point2(0,100)"
       ]
      }
     ],
     "prompt_number": 26
    },
    {
     "cell_type": "markdown",
     "metadata": {},
     "source": [
      "*****"
     ]
    },
    {
     "cell_type": "heading",
     "level": 3,
     "metadata": {},
     "source": [
      "Rappels (2) : `__iter__`"
     ]
    },
    {
     "cell_type": "markdown",
     "metadata": {},
     "source": [
      "Nous avons vu en semaine 3, derni\u00e8re s\u00e9quence \"Les boucles `for` et les it\u00e9rateurs\", qu'un objet peut \u00eatre utilis\u00e9 par le langage comme un ***it\u00e9rable*** s'il poss\u00e8de une m\u00e9thode `__iter__` qui renvoie un it\u00e9rateur. On rappelle qu'un it\u00e9rable peut notamment \u00eatre l'objet d'une boucle `for`, mais aussi dans les fonctions comme `zip` ou `map`."
     ]
    },
    {
     "cell_type": "heading",
     "level": 3,
     "metadata": {},
     "source": [
      "`__call__`"
     ]
    },
    {
     "cell_type": "markdown",
     "metadata": {},
     "source": [
      "Le langage introduit \u00e9galement la notion de ***callable*** - litt\u00e9ralement, qui peut \u00eatre appel\u00e9.\n",
      "L'id\u00e9e est tr\u00e8s simple, on cherche \u00e0 donner un sens \u00e0 un fragment de code du genre de&nbsp;:"
     ]
    },
    {
     "cell_type": "raw",
     "metadata": {},
     "source": [
      "# on cr\u00e9e une instance\n",
      "objet = Classe (arguments)\n",
      "# et on l'utilise comme une fonction\n",
      "objet (arg1, arg2)"
     ]
    },
    {
     "cell_type": "markdown",
     "metadata": {},
     "source": [
      "Le protocole ici est tr\u00e8s simple; cette derni\u00e8re ligne a un sens en python d\u00e8s lors que&nbsp;:\n",
      " * `objet` poss\u00e8de une m\u00e9thode `__call__`,\n",
      " * et que celle-ci peut \u00eatre appel\u00e9e sur `objet` avec les arguments `arg1, arg2`, pour nous donner le r\u00e9sultat associ\u00e9 \u00e0 `objet (arg1, arg2)`."
     ]
    },
    {
     "cell_type": "markdown",
     "metadata": {},
     "source": [
      "Voyons cela sur un exemple&nbsp;:"
     ]
    },
    {
     "cell_type": "code",
     "collapsed": false,
     "input": [
      "class PlusClosure (object):\n",
      "    \"\"\"Une classe callable qui permet de faire un peu comme la \n",
      "    fonction built-in sum mais avec en ajoutant une valeur initiale\"\"\"\n",
      "    def __init__ (self, initial):\n",
      "        self.initial = initial\n",
      "    def __call__ (self, *args):\n",
      "        return self.initial+sum(args)\n",
      "    \n",
      "# on cr\u00e9e une instance avec une valeur initiale 2 pour la somme\n",
      "plus2 = PlusClosure (2)\n",
      "\n",
      "# on peut maintenant utiliser cet objet \n",
      "# comme une fonction qui fait sum(*arg)+2\n",
      "\n",
      "print '[] ->', plus2()\n",
      "\n",
      "print '1 ->', plus2(1)\n",
      "\n",
      "print '1,2 ->', plus2(1,2)"
     ],
     "language": "python",
     "metadata": {},
     "outputs": [
      {
       "output_type": "stream",
       "stream": "stdout",
       "text": [
        "[] -> 2\n",
        "1 -> 3\n",
        "1,2 -> 5\n"
       ]
      }
     ],
     "prompt_number": 42
    },
    {
     "cell_type": "markdown",
     "metadata": {},
     "source": [
      "Pour ceux qui connaissent, nous avons choisi \u00e0 dessein un exemple qui s'apparente \u00e0 [une cl\u00f4ture](http://en.wikipedia.org/wiki/Closure_%28computer_programming%29). Nous reviendrons sur cette notion de *callable* lorsque nous verrons les d\u00e9corateurs en semaine 7. "
     ]
    },
    {
     "cell_type": "heading",
     "level": 3,
     "metadata": {},
     "source": [
      "`__getattr__` et apparent\u00e9s"
     ]
    },
    {
     "cell_type": "heading",
     "level": 3,
     "metadata": {},
     "source": [
      "`__nonzero__`"
     ]
    },
    {
     "cell_type": "heading",
     "level": 3,
     "metadata": {},
     "source": [
      "`__contains__`"
     ]
    },
    {
     "cell_type": "heading",
     "level": 3,
     "metadata": {},
     "source": [
      "op\u00e9rations arithm\u00e9tiques"
     ]
    },
    {
     "cell_type": "heading",
     "level": 3,
     "metadata": {},
     "source": [
      "`__getitem__` et apparent\u00e9s"
     ]
    },
    {
     "cell_type": "code",
     "collapsed": false,
     "input": [],
     "language": "python",
     "metadata": {},
     "outputs": []
    }
   ],
   "metadata": {}
  }
 ]
}