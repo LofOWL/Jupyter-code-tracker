{
 "metadata": {
  "kernelspec": {
   "display_name": "Python 2", 
   "language": "python", 
   "name": "python2"
  }, 
  "language_info": {
   "codemirror_mode": {
    "name": "ipython", 
    "version": 2
   }, 
   "file_extension": ".py", 
   "mimetype": "text/x-python", 
   "name": "python", 
   "nbconvert_exporter": "python", 
   "pygments_lexer": "ipython2", 
   "version": "2.7.12"
  }, 
  "name": "", 
  "notebookname": "Flottants extr\u00eames", 
  "version": "2.0"
 }, 
 "nbformat": 2, 
 "nbformat_minor": 0, 
 "orig_nbformat": 4, 
 "orig_nbformat_minor": 1, 
 "worksheets": [
  {
   "cells": [
    {
     "cell_type": "markdown", 
     "metadata": {}, 
     "source": [
      "<span style=\"float:left;\">Licence CC BY-NC-ND</span><span style=\"float:right;\">Thierry Parmentelat &amp; Arnaud Legout&nbsp;<img src=\"media/inria-25.png\" style=\"display:inline\"></span><br/>"
     ]
    }, 
    {
     "cell_type": "markdown", 
     "metadata": {}, 
     "source": [
      "# Estimer le plus petit (grand) flottant"
     ]
    }, 
    {
     "cell_type": "markdown", 
     "metadata": {}, 
     "source": [
      "## Exercice - niveau basique"
     ]
    }, 
    {
     "cell_type": "markdown", 
     "metadata": {}, 
     "source": [
      "### Le plus petit flottant"
     ]
    }, 
    {
     "cell_type": "markdown", 
     "metadata": {}, 
     "source": [
      "En corollaire de la discussion sur la pr\u00e9cision des flottants, il faut savoir que le syst\u00e8me de codage en m\u00e9moire impose aussi une limite. Les r\u00e9els tr\u00e8s petits, ou tr\u00e8s grands, ne peuvent plus \u00eatre repr\u00e9sent\u00e9s de cette mani\u00e8re.", 
      "", 
      "C'est notamment tr\u00e8s g\u00eanant si vous impl\u00e9mentez un logiciel probabiliste, comme des graphes de Markov, o\u00f9 les probabilit\u00e9s d'occurrence de s\u00e9quences tr\u00e8s longues tendent tr\u00e8s rapidement vers des valeurs extr\u00eamement petites."
     ]
    }, 
    {
     "cell_type": "markdown", 
     "metadata": {}, 
     "source": [
      "Le but de cet exercice est d'estimer la valeur du plus petit flottant qui peut \u00eatre repr\u00e9sent\u00e9 comme un flottant. Pour vous aider, voici deux valeurs:"
     ]
    }, 
    {
     "cell_type": "code", 
     "collapsed": false, 
     "input": [
      "10**-320"
     ], 
     "language": "python", 
     "metadata": {}, 
     "outputs": [], 
     "prompt_number": null
    }, 
    {
     "cell_type": "code", 
     "collapsed": false, 
     "input": [
      "10**-330"
     ], 
     "language": "python", 
     "metadata": {}, 
     "outputs": [], 
     "prompt_number": null
    }, 
    {
     "cell_type": "markdown", 
     "metadata": {}, 
     "source": [
      "Comme on le voit, $10^{-320}$ est correctement imprim\u00e9, alors que $10^{-330}$ est, de mani\u00e8re erron\u00e9e, rapport\u00e9 comme \u00e9tant nul."
     ]
    }, 
    {
     "cell_type": "markdown", 
     "metadata": {}, 
     "source": [
      "\u00c0 ce stade du cours, pour estimer le plus petit flottant, proc\u00e9dez simplement par approximations successives."
     ]
    }, 
    {
     "cell_type": "markdown", 
     "metadata": {}, 
     "source": [
      "**Note** Sans utiliser de boucle, la pr\u00e9cision que vous pourrez obtenir n'est que fonction de votre patience; ne d\u00e9passez pas 4 \u00e0 5 it\u00e9rations successives :)"
     ]
    }, 
    {
     "cell_type": "markdown", 
     "metadata": {}, 
     "source": [
      "Il est par contre pertinent d'utiliser une approche rationnelle pour d\u00e9terminer l'it\u00e9ration suivante (par opposition \u00e0 une approche \"au petit bonheur\"). Pour ceux qui ne connaissent pas, nous vous recommandons de vous documenter sur l'algorithme de **dichotomie**."
     ]
    }, 
    {
     "cell_type": "code", 
     "collapsed": false, 
     "input": [
      "10**-325"
     ], 
     "language": "python", 
     "metadata": {}, 
     "outputs": [], 
     "prompt_number": null
    }, 
    {
     "cell_type": "markdown", 
     "metadata": {}, 
     "source": [
      "Voici quelques cellules de code vides; vous pouvez cr\u00e9er autant de cellules que n\u00e9cessaire, le plus simple \u00e9tant de taper `Alt+Enter`, ou d'utiliser le menu _\"Insert -> Insert Cell Below\"_"
     ]
    }, 
    {
     "cell_type": "code", 
     "collapsed": false, 
     "input": [
      "<>"
     ], 
     "language": "python", 
     "metadata": {}, 
     "outputs": [], 
     "prompt_number": null
    }, 
    {
     "cell_type": "code", 
     "collapsed": false, 
     "input": [
      "<>"
     ], 
     "language": "python", 
     "metadata": {}, 
     "outputs": [], 
     "prompt_number": null
    }, 
    {
     "cell_type": "code", 
     "collapsed": false, 
     "input": [
      "<>"
     ], 
     "language": "python", 
     "metadata": {}, 
     "outputs": [], 
     "prompt_number": null
    }, 
    {
     "cell_type": "code", 
     "collapsed": false, 
     "input": [
      "<>"
     ], 
     "language": "python", 
     "metadata": {}, 
     "outputs": [], 
     "prompt_number": null
    }, 
    {
     "cell_type": "markdown", 
     "metadata": {}, 
     "source": [
      "### Le plus grand flottant"
     ]
    }, 
    {
     "cell_type": "markdown", 
     "metadata": {}, 
     "source": [
      "La m\u00eame limitation s'applique sur les grands nombres. Toutefois cela est un peu moins \u00e9vident, car comme toujours il faut faire attention aux types"
     ]
    }, 
    {
     "cell_type": "code", 
     "collapsed": false, 
     "input": [
      "10**450"
     ], 
     "language": "python", 
     "metadata": {}, 
     "outputs": [], 
     "prompt_number": null
    }, 
    {
     "cell_type": "markdown", 
     "metadata": {}, 
     "source": [
      "Ce qui se passe tr\u00e8s bien car on obtient un `long`, alors que si on pr\u00e9cise bien qu'on veut un flottant on obtient une erreur"
     ]
    }, 
    {
     "cell_type": "code", 
     "collapsed": false, 
     "input": [
      "10**450.0"
     ], 
     "language": "python", 
     "metadata": {}, 
     "outputs": [], 
     "prompt_number": null
    }, 
    {
     "cell_type": "markdown", 
     "metadata": {}, 
     "source": [
      "On peut d'ailleurs remarquer que le comportement ici n'est pas extr\u00eamement coh\u00e9rent, car avec les petits nombres python nous a silencieusement transform\u00e9 $10^{-330}$ en $0$, alors que pour les grands nombres il l\u00e8ve une exception (nous verrons les exceptions plus tard, mais vous pouvez d\u00e8s maintenant remarquer que le comportement est diff\u00e9rent dans les deux cas)."
     ]
    }, 
    {
     "cell_type": "markdown", 
     "metadata": {}, 
     "source": [
      "Quoi qu'il en soit, la limite pour les grands nombres se situe entre les deux valeurs $10^{300}$ et $10^{310}$. On vous demande \u00e0 nouveau d'estimer comme ci-dessus une valeur approch\u00e9e du plus grand nombre qu'il est possible de repr\u00e9senter comme un flottant."
     ]
    }, 
    {
     "cell_type": "code", 
     "collapsed": false, 
     "input": [
      "<>"
     ], 
     "language": "python", 
     "metadata": {}, 
     "outputs": [], 
     "prompt_number": null
    }, 
    {
     "cell_type": "code", 
     "collapsed": false, 
     "input": [
      "<>"
     ], 
     "language": "python", 
     "metadata": {}, 
     "outputs": [], 
     "prompt_number": null
    }, 
    {
     "cell_type": "code", 
     "collapsed": false, 
     "input": [
      "<>"
     ], 
     "language": "python", 
     "metadata": {}, 
     "outputs": [], 
     "prompt_number": null
    }, 
    {
     "cell_type": "code", 
     "collapsed": false, 
     "input": [
      "<>"
     ], 
     "language": "python", 
     "metadata": {}, 
     "outputs": [], 
     "prompt_number": null
    }, 
    {
     "cell_type": "markdown", 
     "metadata": {}, 
     "source": [
      "## Compl\u00e9ment - niveau avanc\u00e9"
     ]
    }, 
    {
     "cell_type": "markdown", 
     "metadata": {}, 
     "source": [
      "En fait, on peut acc\u00e9der \u00e0 ces valeurs minimales et maximales pour les flottants comme ceci"
     ]
    }, 
    {
     "cell_type": "code", 
     "collapsed": false, 
     "input": [
      "import sys", 
      "print sys.float_info"
     ], 
     "language": "python", 
     "metadata": {}, 
     "outputs": [], 
     "prompt_number": null
    }, 
    {
     "cell_type": "markdown", 
     "metadata": {}, 
     "source": [
      "Et notamment, [comme expliqu\u00e9 ici](https://docs.python.org/2/library/sys.html#sys.float_info)"
     ]
    }, 
    {
     "cell_type": "code", 
     "collapsed": false, 
     "input": [
      "print \"Flottant minimum\", sys.float_info.min", 
      "print \"Flottant maximum\", sys.float_info.max"
     ], 
     "language": "python", 
     "metadata": {}, 
     "outputs": [], 
     "prompt_number": null
    }, 
    {
     "cell_type": "markdown", 
     "metadata": {}, 
     "source": [
      "*Sauf que*: vous devez avoir trouv\u00e9 un maximum voisin de cette valeur, mais le minimum observ\u00e9 exp\u00e9rimentalement ne correspond pas bien \u00e0 cette valeur.", 
      "", 
      "Pour ceux que cela int\u00e9resse, l'explication \u00e0 cette apparente contradiction r\u00e9side dans l'utilisation de [nombres d\u00e9normaux](http://en.wikipedia.org/wiki/Denormal%5Fnumber)."
     ]
    }
   ], 
   "metadata": {}
  }
 ]
}
