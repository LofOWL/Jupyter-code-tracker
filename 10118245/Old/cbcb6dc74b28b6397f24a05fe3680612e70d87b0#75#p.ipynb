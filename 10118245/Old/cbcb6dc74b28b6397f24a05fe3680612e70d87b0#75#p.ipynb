{
 "metadata": {
  "notebookname": "Passage d'arguments",
  "signature": "sha256:8210acdbc44f8165824cbdd64643545560354391429b1c7c92916681007c478f",
  "version": "2.0"
 },
 "nbformat": 3,
 "nbformat_minor": 0,
 "worksheets": [
  {
   "cells": [
    {
     "cell_type": "heading",
     "level": 1,
     "metadata": {},
     "source": [
      "Passage d'arguments"
     ]
    },
    {
     "cell_type": "heading",
     "level": 2,
     "metadata": {},
     "source": [
      "Compl\u00e9ment - niveau interm\u00e9diaire"
     ]
    },
    {
     "cell_type": "heading",
     "level": 3,
     "metadata": {},
     "source": [
      "Motivation"
     ]
    },
    {
     "cell_type": "markdown",
     "metadata": {},
     "source": [
      "Jusqu'ici nous avons d\u00e9velopp\u00e9 le mod\u00e8le simple qu'on trouve dans tous les langages de programmation, \u00e0 savoir qu'une fonction a un nombre fixe, suppos\u00e9 connu, d'arguments. Ce mod\u00e8le a cependant quelques limitations; les m\u00e9canismes de passage d'arguments que propose python, et que nous venons de voir dans les vid\u00e9os, visent \u00e0 lever ces limitations.\n",
      "\n",
      "Voyons de quelles limitations il s'agit."
     ]
    },
    {
     "cell_type": "heading",
     "level": 3,
     "metadata": {},
     "source": [
      "Nombre d'arguments non connu \u00e0 l'avance"
     ]
    },
    {
     "cell_type": "heading",
     "level": 5,
     "metadata": {},
     "source": [
      "Ou encore : introduction \u00e0 la forme `*arguments`"
     ]
    },
    {
     "cell_type": "markdown",
     "metadata": {},
     "source": [
      "Pour prendre un exemple aussi simple que possible, imaginons que `print` est comme dans python-3, non plus une instruction, mais une fonction. On peut faire cela en python-2 en [important le module `__future__`](https://docs.python.org/2/library/__future__.html) qui permet d'utiliser des fonctionnalit\u00e9s disponibles dans des versions ult\u00e9rieures de python. Dans le cas qui nous int\u00e9resse, l'import ci-dessous permet de remplacer l'instruction `print` par une fonction `print` qui se comporte comme dans python-3."
     ]
    },
    {
     "cell_type": "code",
     "collapsed": false,
     "input": [
      "from __future__ import print_function\n",
      "\n",
      "print(\"nous\", \"utilisons\", \"print\", \"comme\", \"une\", \"fonction\")"
     ],
     "language": "python",
     "metadata": {},
     "outputs": []
    },
    {
     "cell_type": "markdown",
     "metadata": {},
     "source": [
      "Imaginons maintenant que nous voulons impl\u00e9menter une variante de `print`, c'est-\u00e0-dire une fonction `error`, qui se comporte exactement comme `print` sauf qu'elle ajoute en d\u00e9but de ligne une balise `ERROR`.\n",
      "\n",
      "Se posent alors deux probl\u00e8mes. \n",
      " * D'une part il nous faut un moyen de sp\u00e9cifier que notre fonction prend un nombre quelconque d'arguments. \n",
      " * D'autre part il faut une syntaxe pour repasser tous ces arguments \u00e0 la fonction `print`.\n",
      " \n",
      "On peut faire tout cela avec la notation en `*` comme ceci"
     ]
    },
    {
     "cell_type": "code",
     "collapsed": false,
     "input": [
      "# accepter n'importe quel nombre d'arguments\n",
      "def error(*print_args):\n",
      "    # et les repasser \u00e0 l'identique \u00e0 print en plus de la balise\n",
      "    print('ERROR', *print_args)\n",
      "\n",
      "# on peut alors l'utiliser comme ceci\n",
      "error(\"probl\u00e8me\", \"dans\", \"la\", \"fonction\", \"foo\")\n",
      "# ou m\u00eame sans argument\n",
      "error()"
     ],
     "language": "python",
     "metadata": {},
     "outputs": []
    },
    {
     "cell_type": "heading",
     "level": 3,
     "metadata": {},
     "source": [
      "L\u00e9g\u00e8re variation"
     ]
    },
    {
     "cell_type": "markdown",
     "metadata": {},
     "source": [
      "Pour sophistiquer un peu cet exemple, on veut maintenant imposer \u00e0 la fonction erreur qu'elle re\u00e7oive un argument obligatoire de type entier qui repr\u00e9sente un code d'erreur, plus \u00e0 nouveau un nombre quelconque d'arguments pour `print`. \n",
      "\n",
      "Pour cela, on peut cr\u00e9er une signature qui va m\u00e9langer un argument traditionnel en premi\u00e8re position, qui sera obligatoire \u00e0 l'appel, et le tuple des arguments pour `print`, comme ceci"
     ]
    },
    {
     "cell_type": "code",
     "collapsed": false,
     "input": [
      "def error(error_code, *print_args):\n",
      "    # ici on peut imaginer une logique qui retrouve un message\n",
      "    # d'erreur plus complet attach\u00e9 au code d'erreur\n",
      "    message = \"message d'erreur pour {}\".format(error_code)\n",
      "    print(\"ERROR\", message, '--', *print_args)\n",
      "    \n",
      "# que l'on peut \u00e0 pr\u00e9sent appeler comme ceci\n",
      "error(100, \"un\", \"petit\", \"souci\")"
     ],
     "language": "python",
     "metadata": {},
     "outputs": []
    },
    {
     "cell_type": "markdown",
     "metadata": {},
     "source": [
      "Remarquons que maintenant la fonction `error` ne peut plus \u00eatre appel\u00e9e sans argument, puisqu'on a mentionn\u00e9 un param\u00e8tre obligatoire `error_code`."
     ]
    },
    {
     "cell_type": "heading",
     "level": 3,
     "metadata": {},
     "source": [
      "Ajout de fonctionnalit\u00e9s"
     ]
    },
    {
     "cell_type": "heading",
     "level": 5,
     "metadata": {},
     "source": [
      "Ou encore : la forme `argument=valeur_par_defaut`"
     ]
    },
    {
     "cell_type": "markdown",
     "metadata": {},
     "source": [
      "Nous envisageons \u00e0 pr\u00e9sent le cas - tout \u00e0 fait ind\u00e9pendant de ce qui pr\u00e9c\u00e8de - o\u00f9 vous avez \u00e9crit une librairie graphique, dans laquelle vous exposez une fonction `ligne` d\u00e9finie comme suit. \u00c9videmment pour garder le code simple, nous imprimons seulement les coordonn\u00e9es du segment; souvenez vous que ce notebook utilise `print_function`:"
     ]
    },
    {
     "cell_type": "code",
     "collapsed": false,
     "input": [
      "# premi\u00e8re interface pour dessiner une ligne\n",
      "def ligne(x1, y1, x2, y2):\n",
      "    \"dessine la ligne (x1,y1) -> (x2,y2)\"\n",
      "    # restons simple\n",
      "    print(\"la ligne ({},{}) -> ({},{})\".format(x1, y1, x2, y2))"
     ],
     "language": "python",
     "metadata": {},
     "outputs": []
    },
    {
     "cell_type": "markdown",
     "metadata": {},
     "source": [
      "Vous publiez cette librairie en version 1, vous avez des utilisateurs; et quelque temps plus tard vous \u00e9crivez une version 2 qui prend en compte la couleur. Ce qui vous conduit \u00e0 ajouter un param\u00e8tre pour `ligne`. \n",
      "\n",
      "Si vous le faites en d\u00e9clarant \n",
      "\n",
      "    def ligne(x1, y1, x2, y2, couleur):\n",
      "        ...\n",
      "      \n",
      "alors tous les utilisateurs de la version 1 vont devoir changer leur code - pour rester \u00e0 fonctionnalit\u00e9 \u00e9gale - en ajoutant un cinqui\u00e8me argument 'noir' \u00e0 leurs appels \u00e0 `ligne`.\n",
      "\n",
      "Vous pouvez \u00e9viter cet inconv\u00e9nient en d\u00e9finissant une deuxi\u00e8me version de `ligne` comme ceci"
     ]
    },
    {
     "cell_type": "code",
     "collapsed": false,
     "input": [
      "# deuxi\u00e8me interface pour dessiner une ligne\n",
      "def ligne(x1, y1, x2, y2, couleur=\"noir\"):\n",
      "    \"dessine la ligne (x1,y1) -> (x2,y2) dans la couleur sp\u00e9cifi\u00e9e\"\n",
      "    # restons simple\n",
      "    print(\"la ligne ({},{}) -> ({},{}) en {}\".\\\n",
      "           format(x1, y1, x2, y2, couleur))"
     ],
     "language": "python",
     "metadata": {},
     "outputs": []
    },
    {
     "cell_type": "markdown",
     "metadata": {},
     "source": [
      "Avec cette nouvelle d\u00e9finition, on peut aussi bien"
     ]
    },
    {
     "cell_type": "code",
     "collapsed": false,
     "input": [
      "# faire fonctionner du vieux code sans le modifier\n",
      "ligne(0, 0, 100, 100)\n",
      "# ou bien tirer profit du nouveau trait\n",
      "ligne(0, 100, 100, 0, 'rouge')"
     ],
     "language": "python",
     "metadata": {},
     "outputs": []
    },
    {
     "cell_type": "heading",
     "level": 5,
     "metadata": {},
     "source": [
      "Les param\u00e8tres par d\u00e9faut sont tr\u00e8s utiles"
     ]
    },
    {
     "cell_type": "markdown",
     "metadata": {},
     "source": [
      "Notez bien que ce genre de situation peut tout aussi bien se produire sans que vous ne publiiez de librairie, \u00e0 l'int\u00e9rieur d'une seule application. Par exemple, cette situation peut se produire si vous avez un jour \u00e0 ajouter un argument \u00e0 une fonction parce qu'elle doit faire face \u00e0 de nouvelles situations impr\u00e9vues, mais que vous n'avez pas le temps de modifier tout le code.\n",
      "\n",
      "Ou encore plus simplement, vous pouvez choisir d'utiliser ce passage de param\u00e8tres d\u00e8s le d\u00e9but de la conception. Si vous impl\u00e9mentez par exemple une fonction `ligne` dans un environnement r\u00e9aliste, il vous faut une interface qui pr\u00e9cise: les points concern\u00e9s, la couleur du trait, l'\u00e9paisseur du trait, le style du trait, le niveau de transparence, etc... Et il n'est vraiment pas utile que tous les appels \u00e0 `ligne` repr\u00e9cisent tout ceci int\u00e9gralement, aussi une bonne partie de ces param\u00e8tres seront tr\u00e8s constructivement d\u00e9clar\u00e9s avec une valeur par d\u00e9faut."
     ]
    },
    {
     "cell_type": "heading",
     "level": 2,
     "metadata": {},
     "source": [
      "Compl\u00e9ment - niveau avanc\u00e9"
     ]
    },
    {
     "cell_type": "heading",
     "level": 3,
     "metadata": {},
     "source": [
      "\u00c9crire un wrapper"
     ]
    },
    {
     "cell_type": "heading",
     "level": 5,
     "metadata": {},
     "source": [
      "Ou encore : la forme `**keywords`"
     ]
    },
    {
     "cell_type": "markdown",
     "metadata": {},
     "source": [
      "La notion de *wrapper* - emballage, en anglais - est tr\u00e8s r\u00e9pandue en informatique, et consiste, \u00e0 partir d'un morceau de code souche existant (fonction ou classe) \u00e0 d\u00e9finir une variante qui se comporte comme la souche, mais avec quelques l\u00e9g\u00e8res diff\u00e9rences.\n",
      "\n",
      "La fonction `error` \u00e9tait d\u00e9j\u00e0 un premier exemple de *wrapper*. Maintenant nous voulons d\u00e9finir un *wrapper* `ligne_rouge`, qui sous-traite \u00e0 la fonction `ligne` mais toujours avec la couleur rouge. \n",
      "\n",
      "Maintenant que l'on a inject\u00e9 la notion de param\u00e8tre par d\u00e9faut dans le syst\u00e8me de signature des fonctions, se repose la question de savoir comment passer \u00e0 l'identique les arguments de `ligne_rouge` \u00e0 `ligne`. "
     ]
    },
    {
     "cell_type": "markdown",
     "metadata": {},
     "source": [
      "\u00c9videmment, une premi\u00e8re option consiste \u00e0 regarder la signature de `ligne`:\n",
      "\n",
      "    def ligne(x1, y1, x2, y2, couleur=\"noir\")"
     ]
    },
    {
     "cell_type": "markdown",
     "metadata": {},
     "source": [
      "Et \u00e0 en d\u00e9duire une impl\u00e9mentation de `ligne_rouge` comme ceci"
     ]
    },
    {
     "cell_type": "code",
     "collapsed": false,
     "input": [
      "# la version na\u00efve - non conseill\u00e9e - de ligne_rouge\n",
      "def ligne_rouge(x1, y1, x2, y2):\n",
      "    return ligne(x1, y1, x2, y2, couleur='rouge')\n",
      "\n",
      "ligne_rouge(0, 0, 100, 100)"
     ],
     "language": "python",
     "metadata": {},
     "outputs": []
    },
    {
     "cell_type": "markdown",
     "metadata": {},
     "source": [
      "Toutefois, avec cette impl\u00e9mentation, si la signature de `ligne` venait \u00e0 changer, on serait vraisemblablement amen\u00e9 \u00e0 changer celle de `ligne_rouge`, sauf \u00e0 perdre en fonctionnalit\u00e9. Imaginons en effet que `ligne` devienne dans une version suivante"
     ]
    },
    {
     "cell_type": "code",
     "collapsed": false,
     "input": [
      "# on ajoute encore une fonctionnalit\u00e9 \u00e0 la fonction ligne\n",
      "def ligne(x1, y1, x2, y2, couleur=\"noir\", epaisseur=2):\n",
      "    print(\"la ligne ({},{}) -> ({},{}) en {} - ep. {}\".\\\n",
      "            format(x1, y1, x2, y2, couleur, epaisseur))"
     ],
     "language": "python",
     "metadata": {},
     "outputs": []
    },
    {
     "cell_type": "markdown",
     "metadata": {},
     "source": [
      "Alors le wrapper ne nous permet plus de profiter de la nouvelle fonctionnalit\u00e9. \n",
      "De mani\u00e8re g\u00e9n\u00e9rale, on cherche au maximum \u00e0 se pr\u00e9munir contre de telles d\u00e9pendances. \n",
      "Aussi, il est de beaucoup pr\u00e9f\u00e9rable d'impl\u00e9menter `ligne_rouge` comme suit, o\u00f9 vous remarquerez que **la seule hypoth\u00e8se** faite sur `ligne` est qu'elle accepte un argument nomm\u00e9 `couleur`."
     ]
    },
    {
     "cell_type": "code",
     "collapsed": false,
     "input": [
      "def ligne_rouge(*arguments, **keywords):\n",
      "    # c'est le seul endroit o\u00f9 on fait une hypoth\u00e8se sur la fonction `ligne`\n",
      "    keywords['couleur'] = \"rouge\"\n",
      "    return ligne(*arguments, **keywords)"
     ],
     "language": "python",
     "metadata": {},
     "outputs": []
    },
    {
     "cell_type": "markdown",
     "metadata": {},
     "source": [
      "Ce qui permet maintenant de faire"
     ]
    },
    {
     "cell_type": "code",
     "collapsed": false,
     "input": [
      "ligne_rouge(0, 100, 100, 0, epaisseur=4)"
     ],
     "language": "python",
     "metadata": {},
     "outputs": []
    },
    {
     "cell_type": "heading",
     "level": 3,
     "metadata": {},
     "source": [
      "Pour en savoir plus - la forme g\u00e9n\u00e9rale"
     ]
    },
    {
     "cell_type": "markdown",
     "metadata": {},
     "source": [
      "Une fois assimil\u00e9 ce qui pr\u00e9c\u00e8de, vous avez de quoi comprendre une \u00e9norme majorit\u00e9 (99% au moins) du code python. \n",
      "\n",
      "Dans le cas g\u00e9n\u00e9ral, il est possible de combiner les 4 formes d'arguments:\n",
      " * des expressions (cas des arguments \"normaux\", dits positionnels)\n",
      " * des expressions nomm\u00e9es, comme `nom=<expression>`\n",
      " * des `*expressions`\n",
      " * des `**expressions`\n",
      " \n",
      "Vous pouvez [vous reporter \u00e0 cette page](https://docs.python.org/2/reference/expressions.html#calls\n",
      ") pour une description d\u00e9taill\u00e9e de ce cas g\u00e9n\u00e9ral."
     ]
    },
    {
     "cell_type": "markdown",
     "metadata": {},
     "source": [
      "\u00c0 l'appel d'une fonction, il faut r\u00e9soudre les arguments, c'est-\u00e0-dire associer une valeur \u00e0 chaque param\u00e8tre formel (ceux qui apparaissent dans le `def`) \u00e0 partir des valeurs figurant dans l'appel.\n",
      "\n",
      "L'id\u00e9e est que pour faire cela, les arguments de l'appel ne sont pas pris dans l'ordre o\u00f9 ils apparaissent, mais les arguments positionnels sont utilis\u00e9s en premier. La logique est que, naturellement les arguments positionnnels (ou ceux qui proviennent d'une `*expression`) viennent sans nom, et donc ne peuvent pas \u00eatre utilis\u00e9s pour r\u00e9soudre des arguments nomm\u00e9s."
     ]
    },
    {
     "cell_type": "markdown",
     "metadata": {},
     "source": [
      "Voici un tout petit exemple pour vous donner une id\u00e9e de la complexit\u00e9 de ce m\u00e9canisme lorsqu'on m\u00e9lange toutes les 4 formes d'arguments \u00e0 l'appel de la fonction (alors qu'on a d\u00e9fini la fonction avec 4 param\u00e8tres positionnels)"
     ]
    },
    {
     "cell_type": "code",
     "collapsed": false,
     "input": [
      "def foo(a, b, c, d):\n",
      "    print(a, b, c, d)"
     ],
     "language": "python",
     "metadata": {},
     "outputs": []
    },
    {
     "cell_type": "code",
     "collapsed": false,
     "input": [
      "foo(1, c=3, *(2,), **{'d':4})"
     ],
     "language": "python",
     "metadata": {},
     "outputs": []
    },
    {
     "cell_type": "code",
     "collapsed": false,
     "input": [
      "foo (1, b=3, *(2,), **{'d':4})"
     ],
     "language": "python",
     "metadata": {},
     "outputs": []
    },
    {
     "cell_type": "markdown",
     "metadata": {},
     "source": [
      "Si le probl\u00e8me ne vous semble pas clair, vous pouvez regarder la [documentation python d\u00e9crivant ce probl\u00e8me](https://docs.python.org/2/reference/expressions.html#calls). "
     ]
    }
   ],
   "metadata": {}
  }
 ]
}