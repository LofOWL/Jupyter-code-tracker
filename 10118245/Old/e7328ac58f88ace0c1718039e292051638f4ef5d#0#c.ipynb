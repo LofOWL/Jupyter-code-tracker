{
 "metadata": {
  "name": "",
  "signature": "sha256:58247cbcbcebee68e5c3085998a6f70ffaee26d89683df454a06b02387ac469a"
 },
 "nbformat": 3,
 "nbformat_minor": 0,
 "worksheets": [
  {
   "cells": [
    {
     "cell_type": "heading",
     "level": 1,
     "metadata": {},
     "source": [
      "Exercice sur les instructions conditionnelles"
     ]
    },
    {
     "cell_type": "heading",
     "level": 3,
     "metadata": {},
     "source": [
      "La fonction raw_input()"
     ]
    },
    {
     "cell_type": "markdown",
     "metadata": {},
     "source": [
      "En pr\u00e9ambule nous allons introduire la fonction raw_input(), qui vous permet dans un programme de \"poser une question\" \u00e0 l'utilisateur"
     ]
    },
    {
     "cell_type": "code",
     "collapsed": false,
     "input": [
      "De cette mani\u00e8re "
     ],
     "language": "python",
     "metadata": {},
     "outputs": []
    }
   ],
   "metadata": {}
  }
 ]
}