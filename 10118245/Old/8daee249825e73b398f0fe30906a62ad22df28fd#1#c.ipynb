{
 "metadata": {
  "kernelspec": {
   "display_name": "Python 2", 
   "language": "python", 
   "name": "python2"
  }, 
  "language_info": {
   "codemirror_mode": {
    "name": "ipython", 
    "version": 2
   }, 
   "file_extension": ".py", 
   "mimetype": "text/x-python", 
   "name": "python", 
   "nbconvert_exporter": "python", 
   "pygments_lexer": "ipython2", 
   "version": "2.7.12"
  }, 
  "name": "", 
  "notebookname": "Les cha\u00eenes", 
  "version": "2.0"
 }, 
 "nbformat": 2, 
 "nbformat_minor": 0, 
 "orig_nbformat": 4, 
 "orig_nbformat_minor": 1, 
 "worksheets": [
  {
   "cells": [
    {
     "cell_type": "markdown", 
     "metadata": {}, 
     "source": [
      "<span style=\"float:left;\">Licence CC BY-NC-ND</span><span style=\"float:right;\">Thierry Parmentelat &amp; Arnaud Legout&nbsp;<img src=\"media/inria-25.png\" style=\"display:inline\"></span><br/>"
     ]
    }, 
    {
     "cell_type": "markdown", 
     "metadata": {}, 
     "source": [
      "# Les cha\u00eenes de caract\u00e8res"
     ]
    }, 
    {
     "cell_type": "markdown", 
     "metadata": {}, 
     "source": [
      "## Exercice - niveau basique"
     ]
    }, 
    {
     "cell_type": "markdown", 
     "metadata": {}, 
     "source": [
      "### Analyse et mise en forme"
     ]
    }, 
    {
     "cell_type": "code", 
     "collapsed": false, 
     "input": [
      "# Pour charger l'exercice", 
      "from corrections.w2s8_strings import exo_libelle"
     ], 
     "language": "python", 
     "metadata": {}, 
     "outputs": [], 
     "prompt_number": null
    }, 
    {
     "cell_type": "markdown", 
     "metadata": {}, 
     "source": [
      "Un fichier contient, dans chaque ligne, des informations (champs) s\u00e9par\u00e9es par des virgules. Les espaces et tabulations pr\u00e9sents dans la ligne ne sont pas significatifs et doivent \u00eatre ignor\u00e9s. ", 
      "", 
      "Dans cet exercice de niveau basique, on suppose que chaque ligne a exactement 3 champs, qui repr\u00e9sentent respectivement le nom, le pr\u00e9nom, et le rang d'une personne dans un classement. Une fois les espaces et tabulations ignor\u00e9s, on ne fait pas de v\u00e9rification sur le contenu des 3 champs. ", 
      "", 
      "On vous demande d'\u00e9crire la fonction `libelle`, qui sera appel\u00e9e pour chaque ligne du fichier. Cette fonction&nbsp;:", 
      " * prend en argument une ligne (cha\u00eene de caract\u00e8res)", 
      " * retourne une cha\u00eene de caract\u00e8res mise en forme (voir plus bas)", 
      " * ou bien retourne None si la ligne n'a pas pu \u00eatre analys\u00e9e, parce qu'elle ne v\u00e9rifie pas les hypoth\u00e8ses ci-dessus (c'est notamment le cas si on ne trouve pas exactement les 3 champs)", 
      " "
     ]
    }, 
    {
     "cell_type": "markdown", 
     "metadata": {}, 
     "source": [
      " La mise en forme consiste \u00e0 retourner ", 
      " ", 
      "    Nom.Prenom (message)", 
      "     ", 
      " le *message* \u00e9tant lui-m\u00eame le *rang* mis en forme pour afficher '1er', '2nd' ou '*n*-eme' selon le cas. Voici quelques exemples"
     ]
    }, 
    {
     "cell_type": "code", 
     "collapsed": false, 
     "input": [
      "# voici quelques exemples de ce qui est attendu", 
      "exo_libelle.example()"
     ], 
     "language": "python", 
     "metadata": {}, 
     "outputs": [], 
     "prompt_number": null
    }, 
    {
     "cell_type": "code", 
     "collapsed": false, 
     "input": [
      "# \u00e9crivez votre code ici", 
      "def libelle(ligne):", 
      "    \"<votre_code>\""
     ], 
     "language": "python", 
     "metadata": {}, 
     "outputs": [], 
     "prompt_number": null
    }, 
    {
     "cell_type": "code", 
     "collapsed": false, 
     "input": [
      "# pour le v\u00e9rifier", 
      "exo_libelle.correction(libelle)"
     ], 
     "language": "python", 
     "metadata": {}, 
     "outputs": [], 
     "prompt_number": null
    }, 
    {
     "cell_type": "markdown", 
     "metadata": {}, 
     "source": [
      "## Exercice - niveau interm\u00e9diaire"
     ]
    }, 
    {
     "cell_type": "markdown", 
     "metadata": {}, 
     "source": [
      "### Mise au carr\u00e9"
     ]
    }, 
    {
     "cell_type": "code", 
     "collapsed": false, 
     "input": [
      "# chargement de l'exercice", 
      "from corrections.w2s8_strings import exo_carre"
     ], 
     "language": "python", 
     "metadata": {}, 
     "outputs": [], 
     "prompt_number": null
    }, 
    {
     "cell_type": "markdown", 
     "metadata": {}, 
     "source": [
      "On vous demande \u00e0 pr\u00e9sent d'\u00e9crire une fonction dans le m\u00eame esprit que ci-dessus.", 
      "Cette fois, chaque ligne contient, s\u00e9par\u00e9s par des point-virgules, une liste d'entiers, et on veut obtenir une nouvelle cha\u00eene avec les carr\u00e9s de ces entiers, s\u00e9par\u00e9s par des deux-points.", 
      "", 
      "\u00c0 nouveau les lignes peuvent \u00eatre remplies de mani\u00e8re approximative, avec des espaces, des tabulations, ou m\u00eame des points-virgules en trop, que ce soit au d\u00e9but, \u00e0 la fin, ou au milieu d'une ligne."
     ]
    }, 
    {
     "cell_type": "code", 
     "collapsed": false, 
     "input": [
      "# exemples", 
      "exo_carre.example()"
     ], 
     "language": "python", 
     "metadata": {}, 
     "outputs": [], 
     "prompt_number": null
    }, 
    {
     "cell_type": "code", 
     "collapsed": false, 
     "input": [
      "# \u00e9crivez votre code ici", 
      "def carre(ligne):", 
      "    \"<votre_code>\""
     ], 
     "language": "python", 
     "metadata": {}, 
     "outputs": [], 
     "prompt_number": null
    }, 
    {
     "cell_type": "code", 
     "collapsed": false, 
     "input": [
      "# pour corriger", 
      "exo_carre.correction(carre)"
     ], 
     "language": "python", 
     "metadata": {}, 
     "outputs": [], 
     "prompt_number": null
    }
   ], 
   "metadata": {}
  }
 ]
}
