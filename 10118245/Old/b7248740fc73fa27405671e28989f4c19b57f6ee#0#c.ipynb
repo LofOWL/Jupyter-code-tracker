{
 "metadata": {
  "notebookname": "H\u00e9ritage, typage",
  "signature": "sha256:c3872a399d8c1fb68ff3a3a22a14ba47ca71fa184338ac9b63936a68e7efb1a7",
  "version": "1.0"
 },
 "nbformat": 3,
 "nbformat_minor": 0,
 "worksheets": [
  {
   "cells": [
    {
     "cell_type": "heading",
     "level": 1,
     "metadata": {},
     "source": [
      "H\u00e9ritage, typage"
     ]
    },
    {
     "cell_type": "heading",
     "level": 2,
     "metadata": {},
     "source": [
      "Compl\u00e9ment - niveau interm\u00e9diaire"
     ]
    },
    {
     "cell_type": "markdown",
     "metadata": {},
     "source": [
      "Dans ce bref compl\u00e9ment, nous allons tenter d'attirer votre attention sur une diff\u00e9rence assez essentielle entre python et les langages statiquement typ\u00e9s, et qui peut avoir son importance quand il s'agit de concevoir une hi\u00e9rarchie d'h\u00e9ritage.\n",
      "\n",
      "Je pr\u00e9cise avant de commencer que contrairement \u00e0 la grande majorit\u00e9 des compl\u00e9ments, je d\u00e9cris  ici un **sentiment personnel** plut\u00f4t que des **faits \u00e9tablis**, et je vous invite \u00e0 le prendre comme tel."
     ]
    },
    {
     "cell_type": "heading",
     "level": 3,
     "metadata": {},
     "source": [
      "Type et type"
     ]
    },
    {
     "cell_type": "markdown",
     "metadata": {},
     "source": [
      "Revenons sur la notion de type, et remarquons que les types peuvent jouer plusieurs r\u00f4les, comme on l'a \u00e9voqu\u00e9 rapidement en premi\u00e8re semaine&nbsp;:\n",
      " 1. d'une part la notion de type a \u00e0 voir avec l'impl\u00e9mentation; un compilateur C a besoin de savoir tr\u00e8s pr\u00e9cis\u00e9ment quel espace allouer \u00e0 une variable, ce genre de choses,\n",
      " 1. d'autre part, les types sont cruciaux dans les syst\u00e8mes de v\u00e9rification statique au sens large, dont le but est de trouver un maximum de d\u00e9fauts \u00e0 la seule lecture du code (par opposition aux techniques qui n\u00e9cessitent de le faire tourner)."
     ]
    },
    {
     "cell_type": "heading",
     "level": 3,
     "metadata": {},
     "source": [
      "On peut avoir tendance \u00e0 les m\u00e9langer"
     ]
    },
    {
     "cell_type": "markdown",
     "metadata": {},
     "source": [
      "Dans les langages typ\u00e9s statiquement, on utilise l'h\u00e9ritage dans ces deux dimensions du typage."
     ]
    },
    {
     "cell_type": "heading",
     "level": 5,
     "metadata": {},
     "source": [
      "Impl\u00e9mentation"
     ]
    },
    {
     "cell_type": "markdown",
     "metadata": {},
     "source": [
      "Bien s\u00fbr l'h\u00e9ritage sert d'abord et avant tout \u00e0 partager les impl\u00e9mentations, et donc si la classe `A` h\u00e9rite de la classe `B`, le compilateur va se d\u00e9brouiller pour faire ce qu'il faut pour que ce qui s'applique \u00e0 `A` s'applique \u00e0 `B`."
     ]
    },
    {
     "cell_type": "heading",
     "level": 5,
     "metadata": {},
     "source": [
      "Type-checking"
     ]
    },
    {
     "cell_type": "markdown",
     "metadata": {},
     "source": [
      "La hi\u00e9rarchie de classes est aussi un moyen privil\u00e9gi\u00e9 de d\u00e9crire les types de la deuxi\u00e8me sorte. Si je prends l'exemple classique d'un syst\u00e8me graphique, on va avoir tendance - toujours avec un langage \u00e0 la C++ ou Java - \u00e0&nbsp;:\n",
      " * se d\u00e9finir une hi\u00e9rarchie de classes qui ressemble \u00e0 ceci&nbsp;:\n",
      "\n",
      "    Graphic\n",
      "        |-- Circle\n",
      "        |-- Square\n",
      "        |-- Text\n",
      "        |-- ...\n",
      " * d\u00e9finir `Graphic` comme une **classe abstraite**, qui **sp\u00e9cifie** que les classes filles doivent impl\u00e9menter, disons la m\u00e9thode `void draw()`,\n",
      " * ce qui permet ensuite d'\u00e9crire quelque chose comme (xxx Val\u00e9rie j'aurais besoin que tu me traduises \u00e7a en vrai C++, sans forc\u00e9ment entrer dans les d\u00e9tails xxx; j'ai juste besoin que le type Graphic apparaisse)\n",
      "\n",
      "    void Display (Graphic* dessin) {\n",
      "        for (graphic = dessin; graphic; graphic ++) {\n",
      "            graphic->draw();\n",
      "        }\n",
      "    }\n",
      "    "
     ]
    },
    {
     "cell_type": "markdown",
     "metadata": {},
     "source": [
      "Dans cet exemple l'existence de `Graphic` permet de typer `Display`, et permet au type-checker de s'assurer que tous les appels \u00e0 `draw()` seront correctement r\u00e9solus \u00e0 run-time. "
     ]
    },
    {
     "cell_type": "heading",
     "level": 3,
     "metadata": {},
     "source": [
      "C'est diff\u00e9rent en python"
     ]
    },
    {
     "cell_type": "markdown",
     "metadata": {},
     "source": [
      "En python, ce n'est pas du tout comme cela qu'on a pris le probl\u00e8me. "
     ]
    },
    {
     "cell_type": "markdown",
     "metadata": {},
     "source": [
      "Bien s\u00fbr on h\u00e9rite de l'impl\u00e9mentation comme dans les autres langages."
     ]
    },
    {
     "cell_type": "markdown",
     "metadata": {},
     "source": [
      "Mais pour la deuxi\u00e8me dimension, le syst\u00e8me de types de python est connu sous le nom de [*duck typing*](http://en.wikipedia.org/wiki/Duck_typing), une appellation qui fait r\u00e9f\u00e9rence \u00e0 cette phrase\n",
      "\n",
      "    When I see a bird that walks like a duck and swims like a duck and quacks like a duck, I call that bird a duck."
     ]
    },
    {
     "cell_type": "markdown",
     "metadata": {},
     "source": [
      "Dans notre cas, cela signifie, si on consid\u00e8re un fragment qui fait principalement la m\u00eame chose que tout \u00e0 l'heure&nbsp;:\n",
      "\n",
      "    for graphic in dessin:\n",
      "        graphic.draw()\n",
      "\n",
      "et si on essayait de le typer statiquement, on en arriverait \u00e0 la conclusion qu'il faut&nbsp;:\n",
      " * que `dessin` soit it\u00e9rable, et\n",
      " * que chacun de ses \u00e9l\u00e9ments poss\u00e8de l'attribut `draw`, qui soit un `callable`, qu'on peut invoquer comme une m\u00e9thode sans argument.\n"
     ]
    },
    {
     "cell_type": "markdown",
     "metadata": {},
     "source": [
      "Ce qui signifie que je peux faire tourner *ce code-l\u00e0* - et non pas un clone que j'obtiendrais par exemple au moyen d'un syst\u00e8me de template - sur un objet `dessin` qui serait&nbsp;:\n",
      " * un tuple de graphiques,\n",
      " * une liste de graphiques,\n",
      " * une instance it\u00e9rable de mon cru dont les \u00e9l\u00e9ments sont des graphiques,\n",
      " * ou une liste d'objets d'une classe qui n'a rien \u00e0 voir sauf qu'elle a une m\u00e9thode `draw` aussi.  "
     ]
    },
    {
     "cell_type": "markdown",
     "metadata": {},
     "source": [
      "M\u00eame si la derni\u00e8re famille est un peu tir\u00e9e par les cheveux dans notre exemple, pensez si vous pr\u00e9f\u00e9rez \u00e0 la possibilit\u00e9 de faire une moyenne sur des objets; tout ce qu'il vous faut c'est savoir additionner et diviser (plus l\u00e0 dessus dans la prochaine s\u00e9quence)."
     ]
    },
    {
     "cell_type": "markdown",
     "metadata": {},
     "source": [
      "Dans tous les cas j'esp\u00e8re qu'\u00e0 ce stade vous \u00eates convaincus qu'on ne **peut pas** exprimer ces propri\u00e9t\u00e9s en termes simplement de relation d'h\u00e9ritage \u00e0 la `isinstance`. \n",
      "\n",
      "Vous voyez donc que ce mod\u00e8le de `duck typing` est d'une nature tr\u00e8s diff\u00e9rente de ce qui se pratique dans les langages statiquemenet typ\u00e9s."
     ]
    },
    {
     "cell_type": "heading",
     "level": 3,
     "metadata": {},
     "source": [
      "`isinstance` sur st\u00e9ro\u00efdes"
     ]
    },
    {
     "cell_type": "markdown",
     "metadata": {},
     "source": [
      "D'un autre c\u00f4t\u00e9, c'est tr\u00e8s utile d'exposer au programmeur un moyen de v\u00e9rifier si un objet a un *type* donn\u00e9 - dans un sens volontairement vague ici.\n",
      "\n",
      "On a d\u00e9j\u00e0 parl\u00e9 - en Semaine 4, s\u00e9quence \"les fonctions\" - de l'int\u00e9r\u00eat qu'il peut y avoir \u00e0 tester le type d'un argument avec `isinstance` dans une fonction, pour parvenir \u00e0 faire l'\u00e9quivalent de la surcharge en C++ (la surcharge en C++ c'est quand vous d\u00e9finissez plusieurs fonctions qui ont le m\u00eame nom mais des types d'arguments diff\u00e9rents). \n",
      "\n",
      "C'est pourquoi quand on a cherch\u00e9 \u00e0 exposer au programmeur des propri\u00e9t\u00e9s comme \"cet objet est-il iterable\" on a choisi d'\u00e9tendre *isinstance* au travers de [cette initiative](http://legacy.python.org/dev/peps/pep-3119/). C'est ainsi qu'on peut faire par exemple&nbsp;:"
     ]
    },
    {
     "cell_type": "code",
     "collapsed": false,
     "input": [
      "from collections import Iterable"
     ],
     "language": "python",
     "metadata": {},
     "outputs": []
    },
    {
     "cell_type": "code",
     "collapsed": false,
     "input": [
      "isinstance ('ab', Iterable)"
     ],
     "language": "python",
     "metadata": {},
     "outputs": []
    },
    {
     "cell_type": "code",
     "collapsed": false,
     "input": [
      "isinstance ([1, 2], Iterable)"
     ],
     "language": "python",
     "metadata": {},
     "outputs": []
    },
    {
     "cell_type": "code",
     "collapsed": false,
     "input": [
      "# comme on l'a vu un objet qui a une methode  __iter__()\n",
      "# et une next() est considere comme un iterable\n",
      "class Foo():\n",
      "    def __iter__(self):\n",
      "        return self\n",
      "    def next(self):\n",
      "        # ceci naturellement est bidon\n",
      "        return \n",
      "        \n",
      "foo = Foo ()\n",
      "isinstance (foo, Iterable)"
     ],
     "language": "python",
     "metadata": {},
     "outputs": []
    },
    {
     "cell_type": "markdown",
     "metadata": {},
     "source": [
      "L'impl\u00e9mentation du module `abc` donne l'**illusion** que `Iterable` est un objet dans la hi\u00e9rarchie de classe, et que tous ces *types* `str`, `list`, et `Foo` lui sont asujettis, mais ce n'est pas le cas en r\u00e9alit\u00e9; ces trois types ne sont pas comparables dans la hi\u00e9rarchie de classes, ils n'ont pas de plus petit (ou plus grand) \u00e9l\u00e9ment. "
     ]
    },
    {
     "cell_type": "markdown",
     "metadata": {},
     "source": [
      "Je signale pour finir sur `isinstance` et le module `collections` que la d\u00e9finition du symbole `Hashable` est \u00e0 mon avis beaucoup moins convaincante que `Iterable`; si vous vous souvenez qu'en Semaine 3, S\u00e9quence \"les dictionnaires\", on avait vu que les cl\u00e9s doivent \u00eatre globalement immuables. C'est une caract\u00e9ristique qui est assez difficile \u00e0 \u00e9crire, et en tous cas ceci de mon point de vue ne remplit pas la fonction&nbsp;:"
     ]
    },
    {
     "cell_type": "code",
     "collapsed": false,
     "input": [
      "from collections import Hashable"
     ],
     "language": "python",
     "metadata": {},
     "outputs": []
    },
    {
     "cell_type": "code",
     "collapsed": false,
     "input": [
      "# un tuple qui contient une liste ne convient \n",
      "# pas comme cl\u00e9 dans un dictionnaire\n",
      "# et pourtant\n",
      "isinstance ( ([1],[2]), Hashable)"
     ],
     "language": "python",
     "metadata": {},
     "outputs": []
    },
    {
     "cell_type": "heading",
     "level": 3,
     "metadata": {},
     "source": [
      "Tout \u00e7a pour dire quoi ?"
     ]
    },
    {
     "cell_type": "markdown",
     "metadata": {},
     "source": [
      "Au-del\u00e0 de cette opinion, les points \u00e0 retenir de ce compl\u00e9ment un peu digressif sont&nbsp;:\n",
      " * en python, on h\u00e9rite des **impl\u00e9mentations** et pas des **sp\u00e9cifications**; \n",
      " * et le langage n'est pas taill\u00e9 pour tirer profit de **classes abstraites** - m\u00eame si rien ne vous interdit d'\u00e9crire, pour des raisons documentaires, une classe qui r\u00e9sume l'interface qui est attendue par tel ou tel syst\u00e8me de plugin;\n"
     ]
    },
    {
     "cell_type": "markdown",
     "metadata": {},
     "source": [
      "Venant de C++ ou de Java, cela peut prendre du temps d'arriver \u00e0 se d\u00e9barrasser de l'esp\u00e8ce de r\u00e9flexe qui fait qu'on pense d'abord classe abstraite, puis impl\u00e9mentations. "
     ]
    }
   ],
   "metadata": {}
  }
 ]
}