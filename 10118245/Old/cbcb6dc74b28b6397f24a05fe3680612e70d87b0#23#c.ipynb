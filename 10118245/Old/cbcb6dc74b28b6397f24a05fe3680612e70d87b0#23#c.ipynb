{
 "metadata": {
  "notebookname": "M\u00e9thodes de listes",
  "signature": "sha256:cd658ab0d819be7c82913cbc1efab46fc92ed9dda0a5f610535549578f5d3192",
  "version": "1.0"
 },
 "nbformat": 3,
 "nbformat_minor": 0,
 "worksheets": [
  {
   "cells": [
    {
     "cell_type": "heading",
     "level": 1,
     "metadata": {},
     "source": [
      "M\u00e9thodes sp\u00e9cifiques aux listes"
     ]
    },
    {
     "cell_type": "heading",
     "level": 2,
     "metadata": {},
     "source": [
      "Compl\u00e9ment - niveau basique"
     ]
    },
    {
     "cell_type": "markdown",
     "metadata": {},
     "source": [
      "Voici quelques unes des m\u00e9thodes disponibles sur le type `list`."
     ]
    },
    {
     "cell_type": "heading",
     "level": 3,
     "metadata": {},
     "source": [
      "Trouver l'information"
     ]
    },
    {
     "cell_type": "markdown",
     "metadata": {},
     "source": [
      "Pour commencer, rappelons comment retrouver la liste des m\u00e9thodes d\u00e9finies sur le type `list`:"
     ]
    },
    {
     "cell_type": "code",
     "collapsed": false,
     "input": [
      "help(list)"
     ],
     "language": "python",
     "metadata": {},
     "outputs": []
    },
    {
     "cell_type": "markdown",
     "metadata": {},
     "source": [
      "Si vous ignorez pour l'instant les m\u00e9thodes dont le nom commence et termine par `__` (nous parlerons de ceci en semaine 5),  vous trouvez les m\u00e9thodes utiles list\u00e9es entre `append` et `sort`. \n",
      "\n",
      "Certaines de ces m\u00e9thodes ont \u00e9t\u00e9 vues dans la vid\u00e9o sur les s\u00e9quences, c'est le cas notamment de `count` et `index`."
     ]
    },
    {
     "cell_type": "markdown",
     "metadata": {},
     "source": [
      " Nous allons \u00e0 pr\u00e9sent d\u00e9crire les autres, partiellement et bri\u00e8vement. Un autre compl\u00e9ment d\u00e9crit la m\u00e9thode `sort`. Reportez-vous au lien donn\u00e9 en fin de notebook pour obtenir une information plus compl\u00e8te."
     ]
    },
    {
     "cell_type": "markdown",
     "metadata": {},
     "source": [
      "Donnons nous pour commencer une liste t\u00e9moin"
     ]
    },
    {
     "cell_type": "code",
     "collapsed": false,
     "input": [
      "liste = range(4)\n",
      "print 'liste', liste"
     ],
     "language": "python",
     "metadata": {},
     "outputs": []
    },
    {
     "cell_type": "markdown",
     "metadata": {},
     "source": [
      "**Avertissement** soyez bien attentifs au nombre de fois o\u00f9 vous ex\u00e9cutez les cellules de ce notebook; par exemple une liste renvers\u00e9e deux fois peut donner l'impression que `reverse` ne marche pas :) N'h\u00e9sitez pas \u00e0 utiliser le menu `Cell -> Run All' pour r\u00e9ex\u00e9cuter une seule fois le notebook entier."
     ]
    },
    {
     "cell_type": "heading",
     "level": 3,
     "metadata": {},
     "source": [
      "`append`"
     ]
    },
    {
     "cell_type": "markdown",
     "metadata": {},
     "source": [
      "La m\u00e9thode `append` permet d'ajouter un \u00e9l\u00e9ment \u00e0 la fin d'une liste:"
     ]
    },
    {
     "cell_type": "code",
     "collapsed": false,
     "input": [
      "liste.append('ap')\n",
      "print 'liste', liste"
     ],
     "language": "python",
     "metadata": {},
     "outputs": []
    },
    {
     "cell_type": "heading",
     "level": 3,
     "metadata": {},
     "source": [
      "`extend`"
     ]
    },
    {
     "cell_type": "markdown",
     "metadata": {},
     "source": [
      "La m\u00e9thode `extend` r\u00e9alise la m\u00eame op\u00e9ration mais avec plusieurs \u00e9l\u00e9ments"
     ]
    },
    {
     "cell_type": "code",
     "collapsed": false,
     "input": [
      "liste.extend(['ex1', 'ex2'])\n",
      "print 'liste', liste"
     ],
     "language": "python",
     "metadata": {},
     "outputs": []
    },
    {
     "cell_type": "markdown",
     "metadata": {},
     "source": [
      "Ces deux m\u00e9thodes `append` et `extend` sont donc assez voisines; avant de voir d'autres m\u00e9thodes de `list`, prenons un peu le temps de comparer leur comportement avec l'addition `+` de liste. L'\u00e9l\u00e9ment cl\u00e9 ici, on l'a d\u00e9j\u00e0 vu dans la vid\u00e9o, est que la liste est un objet **mutable**. `append` et `extend` **modifient** la liste sur laquelle elles travaillent, alors que l'addition **cr\u00e9e un nouvel objet**"
     ]
    },
    {
     "cell_type": "code",
     "collapsed": false,
     "input": [
      "l1 = range(5)\n",
      "l2 = l1 + ['ap', 'ex1' , 'ex2']\n",
      "print 'l1', l1\n",
      "print 'l2', l2"
     ],
     "language": "python",
     "metadata": {},
     "outputs": []
    },
    {
     "cell_type": "markdown",
     "metadata": {},
     "source": [
      "Comme on le voit, apr\u00e8s une addition, les deux termes de l'addition sont inchang\u00e9s; c'est pour cela que l'addition est disponible sur tous les types s\u00e9quences, mais que `append` et `extend` ne sont par exemple **pas disponibles** sur les cha\u00eenes de caract\u00e8res, qui sont **immuables**."
     ]
    },
    {
     "cell_type": "heading",
     "level": 3,
     "metadata": {},
     "source": [
      "`insert`"
     ]
    },
    {
     "cell_type": "markdown",
     "metadata": {},
     "source": [
      "La m\u00e9thode `insert` permet, comme le nom le sugg\u00e8re, d'ins\u00e9rer un \u00e9l\u00e9ment \u00e0 une certaine position; comme toujours les indices commencent \u00e0 z\u00e9ro et donc"
     ]
    },
    {
     "cell_type": "code",
     "collapsed": false,
     "input": [
      "liste.insert(2, 'remplace 2')\n",
      "print 'liste', liste"
     ],
     "language": "python",
     "metadata": {},
     "outputs": []
    },
    {
     "cell_type": "markdown",
     "metadata": {},
     "source": [
      "On peut remarquer qu'un r\u00e9sultat analogue peut \u00eatre obtenu avec une affectation de slice; par exemple pour ins\u00e9rer au rang 5 (i.e. avant 'ap'), on pourrait aussi bien faire "
     ]
    },
    {
     "cell_type": "code",
     "collapsed": false,
     "input": [
      "liste[5:5] = ['sl']\n",
      "print 'liste', liste"
     ],
     "language": "python",
     "metadata": {},
     "outputs": []
    },
    {
     "cell_type": "heading",
     "level": 3,
     "metadata": {},
     "source": [
      "`remove`"
     ]
    },
    {
     "cell_type": "markdown",
     "metadata": {},
     "source": [
      "La m\u00e9thode `remove` d\u00e9truit la premi\u00e8re occurence d'un objet dans la liste. "
     ]
    },
    {
     "cell_type": "code",
     "collapsed": false,
     "input": [
      "liste.remove(3)\n",
      "print 'liste', liste"
     ],
     "language": "python",
     "metadata": {},
     "outputs": []
    },
    {
     "cell_type": "heading",
     "level": 3,
     "metadata": {},
     "source": [
      "`pop`"
     ]
    },
    {
     "cell_type": "markdown",
     "metadata": {},
     "source": [
      "La m\u00e9thode `pop` prend en argument un indice; elle permet d'extraire l'\u00e9l\u00e9ment \u00e0 cet indice. En un seul appel on obtient la valeur de l'\u00e9l\u00e9ment et on l'enl\u00e8ve de la liste:"
     ]
    },
    {
     "cell_type": "code",
     "collapsed": false,
     "input": [
      "popped = liste.pop(0)\n",
      "print 'popped', popped, 'liste', liste"
     ],
     "language": "python",
     "metadata": {},
     "outputs": []
    },
    {
     "cell_type": "markdown",
     "metadata": {},
     "source": [
      "Si l'indice n'est pas pr\u00e9cis\u00e9, c'est le dernier \u00e9l\u00e9ment de la liste qui est vis\u00e9"
     ]
    },
    {
     "cell_type": "code",
     "collapsed": false,
     "input": [
      "popped = liste.pop()\n",
      "print 'popped', popped, 'liste', liste"
     ],
     "language": "python",
     "metadata": {},
     "outputs": []
    },
    {
     "cell_type": "heading",
     "level": 3,
     "metadata": {},
     "source": [
      "`reverse`"
     ]
    },
    {
     "cell_type": "markdown",
     "metadata": {},
     "source": [
      "Enfin `reverse` renverse la liste, le premier \u00e9l\u00e9ment devient le dernier:"
     ]
    },
    {
     "cell_type": "code",
     "collapsed": false,
     "input": [
      "liste.reverse()\n",
      "print 'liste', liste"
     ],
     "language": "python",
     "metadata": {},
     "outputs": []
    },
    {
     "cell_type": "markdown",
     "metadata": {},
     "source": [
      "On peut remarquer ici que le r\u00e9sultat se rapproche de ce qu'on peut obtenir avec une op\u00e9ration de slicing comme ceci"
     ]
    },
    {
     "cell_type": "code",
     "collapsed": false,
     "input": [
      "liste2 = liste[::-1]\n",
      "print 'liste2', liste2"
     ],
     "language": "python",
     "metadata": {},
     "outputs": []
    },
    {
     "cell_type": "markdown",
     "metadata": {},
     "source": [
      "**\u00e0 la diff\u00e9rence toutefois** qu'avec le slicing c'est une copie de la liste initiale qui est retourn\u00e9e, la liste de d\u00e9part n'est quant \u00e0 elle pas modifi\u00e9e."
     ]
    },
    {
     "cell_type": "heading",
     "level": 3,
     "metadata": {},
     "source": [
      "Pour en savoir plus"
     ]
    },
    {
     "cell_type": "markdown",
     "metadata": {},
     "source": [
      "https://docs.python.org/2/tutorial/datastructures.html#more-on-lists"
     ]
    }
   ],
   "metadata": {}
  }
 ]
}