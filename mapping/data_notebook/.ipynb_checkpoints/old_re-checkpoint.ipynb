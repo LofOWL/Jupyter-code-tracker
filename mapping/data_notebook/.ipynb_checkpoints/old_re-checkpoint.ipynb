{
 "cells": [
  {
   "cell_type": "markdown",
   "metadata": {},
   "source": [
    "## Exploration notebook\n",
    "\n",
    "So far:\n",
    "- Visualize dataframe\n",
    "- Animate video frames and include bounding boxes of the starfish.\n",
    "\n",
    "Next steps:\n",
    "\n",
    "- Start with image segmentation approaches"
   ]
  },
  {
   "cell_type": "markdown",
   "metadata": {},
   "source": [
    "#### Imports"
   ]
  },
  {
   "cell_type": "markdown",
   "metadata": {},
   "source": [
    "First load the main imports"
   ]
  },
  {
   "cell_type": "code",
   "execution_count": null,
   "metadata": {
    "execution": {
     "iopub.execute_input": "2021-11-23T13:17:20.594181Z",
     "iopub.status.busy": "2021-11-23T13:17:20.593816Z",
     "iopub.status.idle": "2021-11-23T13:17:20.598772Z",
     "shell.execute_reply": "2021-11-23T13:17:20.598078Z",
     "shell.execute_reply.started": "2021-11-23T13:17:20.594143Z"
    }
   },
   "outputs": [],
   "source": [
    "import numpy as np # linear algebra\n",
    "import pandas as pd # data processing, CSV file I/O (e.g. pd.read_csv)\n",
    "import matplotlib.pyplot as plt"
   ]
  },
  {
   "cell_type": "markdown",
   "metadata": {},
   "source": [
    "## Dataframes"
   ]
  },
  {
   "cell_type": "markdown",
   "metadata": {},
   "source": [
    "Load the raw (training) dataframe"
   ]
  },
  {
   "cell_type": "code",
   "execution_count": null,
   "metadata": {
    "execution": {
     "iopub.execute_input": "2021-11-23T13:15:27.667834Z",
     "iopub.status.busy": "2021-11-23T13:15:27.667417Z",
     "iopub.status.idle": "2021-11-23T13:15:27.718903Z",
     "shell.execute_reply": "2021-11-23T13:15:27.717994Z",
     "shell.execute_reply.started": "2021-11-23T13:15:27.667798Z"
    }
   },
   "outputs": [],
   "source": [
    "df_train_raw = pd.read_csv(\"/kaggle/input/tensorflow-great-barrier-reef/train.csv\")\n",
    "df_train_raw"
   ]
  },
  {
   "cell_type": "markdown",
   "metadata": {},
   "source": [
    "Check # of frames with bounding boxes"
   ]
  },
  {
   "cell_type": "code",
   "execution_count": null,
   "metadata": {
    "execution": {
     "iopub.execute_input": "2021-11-23T13:15:27.720713Z",
     "iopub.status.busy": "2021-11-23T13:15:27.720434Z",
     "iopub.status.idle": "2021-11-23T13:15:27.747483Z",
     "shell.execute_reply": "2021-11-23T13:15:27.746551Z",
     "shell.execute_reply.started": "2021-11-23T13:15:27.720683Z"
    }
   },
   "outputs": [],
   "source": [
    "df_train_raw[df_train_raw.annotations.str.len() > 2]"
   ]
  },
  {
   "cell_type": "markdown",
   "metadata": {},
   "source": [
    "Visualize one of the bounding boxes (annotations)"
   ]
  },
  {
   "cell_type": "code",
   "execution_count": null,
   "metadata": {
    "execution": {
     "iopub.execute_input": "2021-11-23T13:15:27.749552Z",
     "iopub.status.busy": "2021-11-23T13:15:27.749301Z",
     "iopub.status.idle": "2021-11-23T13:15:27.756264Z",
     "shell.execute_reply": "2021-11-23T13:15:27.755237Z",
     "shell.execute_reply.started": "2021-11-23T13:15:27.749523Z"
    }
   },
   "outputs": [],
   "source": [
    "import ast\n",
    "ast.literal_eval(df_train_raw.iloc[16].annotations)"
   ]
  },
  {
   "cell_type": "markdown",
   "metadata": {},
   "source": [
    "## Images"
   ]
  },
  {
   "cell_type": "markdown",
   "metadata": {},
   "source": [
    "Load sequence of images with annotations"
   ]
  },
  {
   "cell_type": "code",
   "execution_count": null,
   "metadata": {
    "execution": {
     "iopub.execute_input": "2021-11-23T13:17:43.649073Z",
     "iopub.status.busy": "2021-11-23T13:17:43.648758Z",
     "iopub.status.idle": "2021-11-23T13:17:45.999388Z",
     "shell.execute_reply": "2021-11-23T13:17:45.998358Z",
     "shell.execute_reply.started": "2021-11-23T13:17:43.649038Z"
    }
   },
   "outputs": [],
   "source": [
    "from PIL import Image, ImageDraw\n",
    "\n",
    "def fetch_image_list(df_tmp, video_id, num_images, start_frame_idx):\n",
    "    def fetch_image(frame_id):\n",
    "        path_base = '/kaggle/input/tensorflow-great-barrier-reef/train_images/video_{}/{}.jpg'\n",
    "        raw_img = Image.open(path_base.format(video_id, frame_id))\n",
    "\n",
    "        row_frame = df_tmp[(df_tmp.video_id == video_id) & (df_tmp.video_frame == frame_id)].iloc[0]\n",
    "        bounding_boxes = ast.literal_eval(row_frame.annotations)\n",
    "\n",
    "        for box in bounding_boxes:\n",
    "            draw = ImageDraw.Draw(raw_img)\n",
    "            x0, y0, x1, y1 = (box['x'], box['y'], box['x']+box['width'], box['y']+box['height'])\n",
    "            draw.rectangle( (x0, y0, x1, y1), outline=180, width=3)\n",
    "        return raw_img\n",
    "\n",
    "    return [np.array(fetch_image(start_frame_idx + index)) for index in range(num_images)]\n",
    "\n",
    "images = fetch_image_list(df_train_raw, video_id = 0, num_images = 80, start_frame_idx = 25)\n",
    "\n",
    "print(\"Num images: \", len(images))\n",
    "plt.imshow(images[0], interpolation='nearest')\n",
    "plt.axis('off')\n",
    "plt.show()"
   ]
  },
  {
   "cell_type": "markdown",
   "metadata": {},
   "source": [
    "Visualize list of images as animation"
   ]
  },
  {
   "cell_type": "code",
   "execution_count": null,
   "metadata": {
    "execution": {
     "iopub.execute_input": "2021-11-23T13:18:20.860809Z",
     "iopub.status.busy": "2021-11-23T13:18:20.860366Z",
     "iopub.status.idle": "2021-11-23T13:18:31.815717Z",
     "shell.execute_reply": "2021-11-23T13:18:31.814831Z",
     "shell.execute_reply.started": "2021-11-23T13:18:20.860777Z"
    }
   },
   "outputs": [],
   "source": [
    "from matplotlib import animation, rc\n",
    "rc('animation', html='jshtml')\n",
    "\n",
    "\n",
    "def create_animation(ims):\n",
    "    fig = plt.figure(figsize=(9, 9))\n",
    "    plt.axis('off')\n",
    "    im = plt.imshow(ims[0])\n",
    "\n",
    "    def animate_func(i):\n",
    "        im.set_array(ims[i])\n",
    "        return [im]\n",
    "\n",
    "    return animation.FuncAnimation(fig, animate_func, frames = len(ims), interval = 1000//12)\n",
    "\n",
    "create_animation(images)"
   ]
  },
  {
   "cell_type": "markdown",
   "metadata": {},
   "source": [
    "And that's it for now! Please leave a like and share your comments! 🙂"
   ]
  },
  {
   "cell_type": "code",
   "execution_count": null,
   "metadata": {},
   "outputs": [],
   "source": []
  }
 ],
 "metadata": {
  "kernelspec": {
   "display_name": "Python 3",
   "language": "python",
   "name": "python3"
  },
  "language_info": {
   "codemirror_mode": {
    "name": "ipython",
    "version": 3
   },
   "file_extension": ".py",
   "mimetype": "text/x-python",
   "name": "python",
   "nbconvert_exporter": "python",
   "pygments_lexer": "ipython3",
   "version": "3.8.10"
  }
 },
 "nbformat": 4,
 "nbformat_minor": 4
}
