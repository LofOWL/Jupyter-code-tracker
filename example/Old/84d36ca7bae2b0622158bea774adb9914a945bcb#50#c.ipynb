{
 "metadata": {
  "notebookname": "Affectation simultan\u00e9e",
  "signature": "f69611b4b54f72acc76db9edf0ffd3a27033e68dc4edb569a027d54ee089b5ab",
  "version": "1.0"
 },
 "nbformat": 3,
 "nbformat_minor": 0,
 "worksheets": [
  {
   "cells": [
    {
     "cell_type": "heading",
     "level": 1,
     "metadata": {},
     "source": [
      "Affectation simultan\u00e9e"
     ]
    },
    {
     "cell_type": "heading",
     "level": 2,
     "metadata": {},
     "source": [
      "Compl\u00e9ment - niveau basique"
     ]
    },
    {
     "cell_type": "markdown",
     "metadata": {},
     "source": [
      "Nous avons d\u00e9j\u00e0 parl\u00e9 de l'affectation multiple, qui consiste \u00e0 affecter \u00e0 plusieurs variables des \"morceaux\" d'un objet, comme dans"
     ]
    },
    {
     "cell_type": "code",
     "collapsed": false,
     "input": [
      "x, y = ['spam', 'egg']"
     ],
     "language": "python",
     "metadata": {},
     "outputs": []
    },
    {
     "cell_type": "markdown",
     "metadata": {},
     "source": [
      "Dans ce compl\u00e9ment nous allons voir une autre forme de l'affectation, qui consiste \u00e0 affecter **le m\u00eame objet** \u00e0 plusieurs variables. Commen\u00e7ons par un exemple simple"
     ]
    },
    {
     "cell_type": "code",
     "collapsed": false,
     "input": [
      "a = b = 1\n",
      "print 'a', a, 'b', b"
     ],
     "language": "python",
     "metadata": {},
     "outputs": []
    },
    {
     "cell_type": "markdown",
     "metadata": {},
     "source": [
      "La raison pour laquelle nous abordons cette construction maintenant est qu'elle a une forte relation avec les r\u00e9f\u00e9rences partag\u00e9es; pour bien le voir, nous allons utiliser une valeur mutable comme valeur \u00e0 affecter:"
     ]
    },
    {
     "cell_type": "code",
     "collapsed": false,
     "input": [
      "# on affecte a et b au m\u00eame objet liste vide\n",
      "a = b = []"
     ],
     "language": "python",
     "metadata": {},
     "outputs": []
    },
    {
     "cell_type": "markdown",
     "metadata": {},
     "source": [
      "D\u00e8s lors nous sommes dans le cas typique d'une r\u00e9f\u00e9rence partag\u00e9e; une modification de  `a` va se r\u00e9percuter sur `b` puisque ces deux variables d\u00e9signent **le m\u00eame objet**"
     ]
    },
    {
     "cell_type": "code",
     "collapsed": false,
     "input": [
      "a.append(1)\n",
      "print 'a', a, 'b', b"
     ],
     "language": "python",
     "metadata": {},
     "outputs": []
    },
    {
     "cell_type": "markdown",
     "metadata": {},
     "source": [
      "Ceci est \u00e0 mettre en contraste avec plusieurs affectations s\u00e9par\u00e9es:"
     ]
    },
    {
     "cell_type": "code",
     "collapsed": false,
     "input": [
      "# si on utilise deux affectations diff\u00e9rentes\n",
      "a = []\n",
      "b = []\n",
      "\n",
      "# alors on peut changer a sans changer b\n",
      "a.append(1)\n",
      "print 'a', a, 'b', b"
     ],
     "language": "python",
     "metadata": {},
     "outputs": []
    },
    {
     "cell_type": "markdown",
     "metadata": {},
     "source": [
      "On voit que dans ce cas chaque affectation cr\u00e9e une liste vide diff\u00e9rente, et les deux variables ne partagent plus de donn\u00e9e. D'une mani\u00e8re g\u00e9n\u00e9rale, utiliser l'affectation simultan\u00e9e pour un objet mutable est presque toujours une erreur. "
     ]
    }
   ],
   "metadata": {}
  }
 ]
}