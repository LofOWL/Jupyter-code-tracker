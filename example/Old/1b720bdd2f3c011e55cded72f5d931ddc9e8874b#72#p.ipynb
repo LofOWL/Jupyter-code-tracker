{
 "metadata": {
  "kernelspec": {
   "display_name": "Python 2", 
   "language": "python", 
   "name": "python2"
  }, 
  "name": "", 
  "notebookname": "PGCD", 
  "version": "2.0"
 }, 
 "nbformat": 2, 
 "nbformat_minor": 0, 
 "orig_nbformat": 4, 
 "orig_nbformat_minor": 0, 
 "worksheets": [
  {
   "cells": [
    {
     "cell_type": "markdown", 
     "metadata": {}, 
     "source": [
      "<span style=\"float:left;\">Licence CC BY-NC-ND</span><span style=\"float:right;\">Thierry Parmentelat &amp; Arnaud Legout,<img src=\"media/inria-25.png\" style=\"display:inline\"></span><br/>"
     ]
    }, 
    {
     "cell_type": "markdown", 
     "metadata": {}, 
     "source": [
      "# Calculer le PGCD"
     ]
    }, 
    {
     "cell_type": "markdown", 
     "metadata": {}, 
     "source": [
      "## Exercice - niveau basique"
     ]
    }, 
    {
     "cell_type": "code", 
     "collapsed": false, 
     "input": [
      "# chargement de l'exercice", 
      "from corrections.w4s2_pgcd import exo_pgcd"
     ], 
     "language": "python", 
     "metadata": {}, 
     "outputs": [], 
     "prompt_number": null
    }, 
    {
     "cell_type": "markdown", 
     "metadata": {}, 
     "source": [
      "On vous demande d'\u00e9crire une fonction qui calcule le pgcd de deux entiers, en utilisant [l'algorithme d'Euclide](http://fr.wikipedia.org/wiki/Algorithme_d'Euclide)."
     ]
    }, 
    {
     "cell_type": "code", 
     "collapsed": false, 
     "input": [
      "def pgcd(a, b):", 
      "    \"<votre code>\""
     ], 
     "language": "python", 
     "metadata": {}, 
     "outputs": [], 
     "prompt_number": null
    }, 
    {
     "cell_type": "code", 
     "collapsed": false, 
     "input": [
      "# pour v\u00e9rifier votre code", 
      "exo_pgcd.correction(pgcd)"
     ], 
     "language": "python", 
     "metadata": {}, 
     "outputs": [], 
     "prompt_number": null
    }, 
    {
     "cell_type": "markdown", 
     "metadata": {}, 
     "source": [
      "**Remarque** on peut tout \u00e0 fait utiliser une fonction r\u00e9cursive pour impl\u00e9menter l'algorithme d'Euclide. Par exemple cette version de `pgcd` fonctionne tr\u00e8s bien aussi (en supposant a>=b)", 
      "", 
      "    def pgcd(a, b):", 
      "       \"Le pgcd avec une fonction r\u00e9cursive\"", 
      "       if not b:", 
      "           return a", 
      "       return pgcd(b, a % b)", 
      "   ", 
      "Cependant, il vous est demand\u00e9 ici d'utiliser une boucle `while`, qui est le sujet de la s\u00e9quence, pour impl\u00e9menter `pgcd`."
     ]
    }
   ], 
   "metadata": {}
  }
 ]
}
