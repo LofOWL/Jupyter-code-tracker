{
 "metadata": {
  "notebookname": "Attributs de classe et attributs d'instance",
  "signature": "3a29a6b3ff20e3dc7085ac5c58310dc083285b8b6e7a005c112d744ab31bb838",
  "version": "1.0"
 },
 "nbformat": 3,
 "nbformat_minor": 0,
 "worksheets": [
  {
   "cells": [
    {
     "cell_type": "heading",
     "level": 1,
     "metadata": {},
     "source": [
      "Attributs de classe et attributs d'instance"
     ]
    },
    {
     "cell_type": "heading",
     "level": 2,
     "metadata": {},
     "source": [
      "Compl\u00e9ment - niveau interm\u00e9diaire"
     ]
    },
    {
     "cell_type": "markdown",
     "metadata": {},
     "source": [
      "Nous avons vu jusqu'\u00e0 pr\u00e9sent que l'on peut ajouter des attributs \u00e0 toutes sortes d'objets en python, et notamment \u00e0\n",
      " * un module,\n",
      " * une fonction,\n",
      " * une classe,\n",
      " * une instance de classe."
     ]
    },
    {
     "cell_type": "markdown",
     "metadata": {},
     "source": [
      "En particulier nous avons vu que, **en r\u00e8gle g\u00e9n\u00e9rale** : \n",
      " * une *m\u00e9thode* est un *attribut de classe*,\n",
      " * et que les *donn\u00e9es* qui d\u00e9crivent l'objet sont rang\u00e9es dans des *attributs de l'instance*."
     ]
    },
    {
     "cell_type": "heading",
     "level": 3,
     "metadata": {},
     "source": [
      "Propos de ce compl\u00e9ment"
     ]
    },
    {
     "cell_type": "markdown",
     "metadata": {},
     "source": [
      "Dans ce compl\u00e9ment nous allons approfondir les notions d'attributs de classe et attributs d'instance. Nous allons tout d'abord voir qu'un attribut est cherch\u00e9 **d'abord dans l'instance** et **ensuite dans la classe**. Ce faisant nous verrons que le langage permet \u00e9galement, quoi que c'est moins fr\u00e9quent, de\n",
      " * attacher des *donn\u00e9es \u00e0 une classe* - pour d\u00e9finir une valeur par d\u00e9faut valable pour toute la classe, ou de\n",
      " * *d\u00e9finir une m\u00e9thode sur une instance* - pour sp\u00e9cialiser un comportement pour un seul objet, et ainsi \u00e9viter de d\u00e9finir une nouvelle classe pour un seul objet."
     ]
    },
    {
     "cell_type": "heading",
     "level": 3,
     "metadata": {},
     "source": [
      "Un attribut de donn\u00e9e d\u00e9fini sur la classe"
     ]
    },
    {
     "cell_type": "markdown",
     "metadata": {},
     "source": [
      "xxx reprendre la pr\u00e9sentation"
     ]
    },
    {
     "cell_type": "code",
     "collapsed": false,
     "input": [
      "class Demo:\n",
      "    \n",
      "    attribut = \"attribut de classe\""
     ],
     "language": "python",
     "metadata": {},
     "outputs": []
    },
    {
     "cell_type": "code",
     "collapsed": false,
     "input": [
      "# une instance de Demo\n",
      "special = Demo()\n",
      "\n",
      "# on affecte l'attribut de l'instance\n",
      "special.attribut = \"attribut de l'instance\"\n",
      "\n",
      "# naturellement on retrouve cette valeur quand\n",
      "# on cherche l'attribut \u00e0 partir de l'instance\n",
      "print 'special:', special.attribut"
     ],
     "language": "python",
     "metadata": {},
     "outputs": []
    },
    {
     "cell_type": "code",
     "collapsed": false,
     "input": [
      "# une autre instance de Demo\n",
      "defaut = Demo()\n",
      "\n",
      "# par contre on ne lui affecte *pas* d'attribut d'instance\n",
      "# mais on peut *tout de m\u00eame* chercher l'attribut\n",
      "print 'defaut:', defaut.attribut"
     ],
     "language": "python",
     "metadata": {},
     "outputs": []
    },
    {
     "cell_type": "code",
     "collapsed": false,
     "input": [
      "# cela ne d\u00e9pend pas de l'ordre - heureusement\n",
      "special2 = Demo()\n",
      "special2.attribut = \"attribut de special2\"\n",
      "\n",
      "print 'special:', special.attribut\n",
      "print 'defaut:', defaut.attribut\n",
      "print 'special2:', special2.attribut"
     ],
     "language": "python",
     "metadata": {},
     "outputs": []
    },
    {
     "cell_type": "heading",
     "level": 3,
     "metadata": {},
     "source": [
      "Un attribut de code d\u00e9fini sur une instance"
     ]
    },
    {
     "cell_type": "markdown",
     "metadata": {},
     "source": [
      "xxx \u00e0 \u00e9crire enti\u00e8rement"
     ]
    },
    {
     "cell_type": "heading",
     "level": 3,
     "metadata": {},
     "source": [
      "Conclusion"
     ]
    },
    {
     "cell_type": "markdown",
     "metadata": {},
     "source": [
      "Comme on l'a vu, le m\u00e9canisme d'attributs est \u00e0 la fois extr\u00eamement simple, et tr\u00e8s souple et tr\u00e8s puissant. \n",
      "\n",
      "Le langage ne fait pas de diff\u00e9rence entre attributs de donn\u00e9es et m\u00e9thodes - si ce n'est la syntaxe de l'instruction `class`, qui n'est en r\u00e9alit\u00e9 qu'une commodit\u00e9.\n",
      "\n",
      "On peut attacher, au choix, \u00e0 l'instance ou \u00e0 la classe, des attributs repr\u00e9sentant **des donn\u00e9es ou du code**, et la recherche de ces attributs se fait dans l'ordre **instance** puis **classe**.\n",
      "\n",
      "Nous verrons dans la prochaine vid\u00e9o que les m\u00e9canismes d'h\u00e9ritage ne font que prolonger ce m\u00e9canisme de recherche d'attributs."
     ]
    }
   ],
   "metadata": {}
  }
 ]
}