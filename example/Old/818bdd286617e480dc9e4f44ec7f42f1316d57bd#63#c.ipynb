{
 "cells": [
  {
   "cell_type": "markdown",
   "metadata": {},
   "source": [
    "<span style=\"float:left;\">Licence CC BY-NC-ND</span><span style=\"float:right;\">Thierry Parmentelat &amp; Arnaud Legout&nbsp;<img src=\"media/both-logos-small-alpha.png\" style=\"display:inline\"></span><br/>"
   ]
  },
  {
   "cell_type": "markdown",
   "metadata": {},
   "source": [
    "# Les instructions `break` et `continue`"
   ]
  },
  {
   "cell_type": "markdown",
   "metadata": {},
   "source": [
    "## Complément - niveau basique"
   ]
  },
  {
   "cell_type": "markdown",
   "metadata": {},
   "source": [
    "### `break` et `continue`"
   ]
  },
  {
   "cell_type": "markdown",
   "metadata": {},
   "source": [
    "python propose deux instructions très pratiques permettant de contrôler l'exécution à l'intérieur des boucles de répétition (`for` ou `while`)\n",
    "\n",
    " * `continue` : pour abandonner l'itération courante, et passer à la suivante, en **restant dans la boucle**,\n",
    " * `break` : pour abandonner **complètement** la boucle.\n",
    " \n",
    "Voici un exemple simple d'utilisation de ces deux instructions:"
   ]
  },
  {
   "cell_type": "code",
   "execution_count": null,
   "metadata": {},
   "outputs": [],
   "source": [
    "for entier in range(1000):\n",
    "    # on ignore les nombres non multiples de 10\n",
    "    if entier % 10 != 0:\n",
    "        continue\n",
    "    print(\"on traite l'entier {}\".format(entier))\n",
    "    # on s'arrête à 50\n",
    "    if entier >= 50:\n",
    "        break\n",
    "print(\"on est sorti de la boucle\")"
   ]
  },
  {
   "cell_type": "markdown",
   "metadata": {},
   "source": [
    "Pour aller plus loin, vous pouvez lire [cette documentation](https://docs.python.org/2.7/tutorial/controlflow.html?highlight=break#break-and-continue-statements-and-else-clauses-on-loops)."
   ]
  }
 ],
 "metadata": {
  "celltoolbar": "Slideshow",
  "kernelspec": {
   "display_name": "Python 3",
   "language": "python",
   "name": "python3"
  },
  "language_info": {
   "codemirror_mode": {
    "name": "ipython",
    "version": 3
   },
   "file_extension": ".py",
   "mimetype": "text/x-python",
   "name": "python",
   "nbconvert_exporter": "python",
   "pygments_lexer": "ipython3",
   "version": "3.5.1"
  },
  "livereveal": {
   "auto_select": "code",
   "auto_select_fragment": true,
   "autolaunch": false,
   "backimage": "media/nologo.png",
   "height": "100%",
   "slideNumber": "c",
   "start_slideshow_at": "selected",
   "theme": "simple",
   "transition": "fade",
   "width": "100%"
  },
  "notebookname": "break et continue",
  "version": "3.0"
 },
 "nbformat": 4,
 "nbformat_minor": 1
}