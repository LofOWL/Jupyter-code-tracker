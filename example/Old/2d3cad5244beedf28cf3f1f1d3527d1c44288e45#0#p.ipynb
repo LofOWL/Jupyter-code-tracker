{
 "metadata": {
  "name": "",
  "signature": "sha256:938848672fd5067912b643797f82b69bcef7bdfcc05b44ccf0dff21cbeffd279"
 },
 "nbformat": 3,
 "nbformat_minor": 0,
 "worksheets": [
  {
   "cells": [
    {
     "cell_type": "heading",
     "level": 1,
     "metadata": {},
     "source": [
      "Rappels sur les compr\u00e9hensions imbriqu\u00e9es"
     ]
    },
    {
     "cell_type": "heading",
     "level": 2,
     "metadata": {},
     "source": [
      "Compl\u00e9ments - niveau interm\u00e9diaire "
     ]
    },
    {
     "cell_type": "heading",
     "level": 3,
     "metadata": {},
     "source": [
      "Ordre d'\u00e9valuation de `[ [ .. for .. ] .. for .. ]`"
     ]
    },
    {
     "cell_type": "markdown",
     "metadata": {},
     "source": [
      "Pour rappel, on peut imbriquer des compr\u00e9hensions de compr\u00e9hensions. Commen\u00e7ons par poser"
     ]
    },
    {
     "cell_type": "code",
     "collapsed": false,
     "input": [
      "n = 4"
     ],
     "language": "python",
     "metadata": {},
     "outputs": [],
     "prompt_number": 38
    },
    {
     "cell_type": "markdown",
     "metadata": {},
     "source": [
      "On peut alors cr\u00e9er une liste de listes comme ceci:"
     ]
    },
    {
     "cell_type": "code",
     "collapsed": false,
     "input": [
      "[ [ (i,k) for i in range (1,k+1) ] \\\n",
      "          for k in range (1,n+1) ]"
     ],
     "language": "python",
     "metadata": {},
     "outputs": [
      {
       "metadata": {},
       "output_type": "pyout",
       "prompt_number": 36,
       "text": [
        "[[(1, 1)],\n",
        " [(1, 2), (2, 2)],\n",
        " [(1, 3), (2, 3), (3, 3)],\n",
        " [(1, 4), (2, 4), (3, 4), (4, 4)]]"
       ]
      }
     ],
     "prompt_number": 36
    },
    {
     "cell_type": "markdown",
     "metadata": {},
     "source": [
      "Et dans ce cas, tr\u00e8s logiquement, l'\u00e9valuation se fait **en commen\u00e7ant par la fin**, ou si on veut **\"par l'ext\u00e9rieur\"**, c'est-\u00e0-dire que le code ci-dessus est \u00e9quivalent \u00e0:"
     ]
    },
    {
     "cell_type": "code",
     "collapsed": false,
     "input": [
      "# en version bavarde, pour illustrer l'ordre des \"for\"\n",
      "resultat_exterieur = []\n",
      "for k in range (1,n+1):\n",
      "    resultat_interieur = []\n",
      "    for i in range (1,k+1):\n",
      "        resultat_interieur.append( (i,k) )\n",
      "    resultat_exterieur.append(resultat_interieur)\n",
      "resultat_exterieur"
     ],
     "language": "python",
     "metadata": {},
     "outputs": [
      {
       "metadata": {},
       "output_type": "pyout",
       "prompt_number": 39,
       "text": [
        "[[(1, 1)],\n",
        " [(1, 2), (2, 2)],\n",
        " [(1, 3), (2, 3), (3, 3)],\n",
        " [(1, 4), (2, 4), (3, 4), (4, 4)]]"
       ]
      }
     ],
     "prompt_number": 39
    },
    {
     "cell_type": "heading",
     "level": 3,
     "metadata": {},
     "source": [
      "Avec `if`"
     ]
    },
    {
     "cell_type": "markdown",
     "metadata": {},
     "source": [
      "Lorsqu'on assortit les compr\u00e9hensions imbriqu\u00e9es de cette mani\u00e8re de clauses `if`, l'ordre d'\u00e9valuation est tout aussi logique. Par exemple, si on voulait se limiter - arbitrairement - aux lignes correspondant \u00e0 `k` pair, et aux diagonales o\u00f9 `i+k` est pair, on \u00e9crirait:"
     ]
    },
    {
     "cell_type": "code",
     "collapsed": false,
     "input": [
      "[ [ (i,k) for i in range (1,k+1) if (i+k)%2 == 0 ] \\\n",
      "          for k in range (1,n+1) if k%2 == 0 ]"
     ],
     "language": "python",
     "metadata": {},
     "outputs": [
      {
       "metadata": {},
       "output_type": "pyout",
       "prompt_number": 63,
       "text": [
        "[[(2, 2)], [(2, 4), (4, 4)]]"
       ]
      }
     ],
     "prompt_number": 63
    },
    {
     "cell_type": "markdown",
     "metadata": {},
     "source": [
      "ce qui est \u00e9quivalent \u00e0"
     ]
    },
    {
     "cell_type": "code",
     "collapsed": false,
     "input": [
      "# en version bavarde \u00e0 nouveau\n",
      "resultat_exterieur = []\n",
      "for k in range (1,n+1):\n",
      "    if k%2 == 0:\n",
      "        resultat_interieur = []\n",
      "        for i in range (1,k+1):\n",
      "            if (i+k) % 2 == 0:\n",
      "                resultat_interieur.append( (i,k) )\n",
      "        resultat_exterieur.append(resultat_interieur)\n",
      "resultat_exterieur"
     ],
     "language": "python",
     "metadata": {},
     "outputs": [
      {
       "metadata": {},
       "output_type": "pyout",
       "prompt_number": 58,
       "text": [
        "[[(2, 2)], [(2, 4), (4, 4)]]"
       ]
      }
     ],
     "prompt_number": 58
    },
    {
     "cell_type": "markdown",
     "metadata": {},
     "source": [
      "Le point important ici est que l'**ordre** dans lequel il faut lire le code est **naturel**, et dict\u00e9 par l'imbrication des `[ .. ]`."
     ]
    },
    {
     "cell_type": "heading",
     "level": 2,
     "metadata": {},
     "source": [
      "Compl\u00e9ments - niveau avanc\u00e9"
     ]
    },
    {
     "cell_type": "heading",
     "level": 3,
     "metadata": {},
     "source": [
      "Un d\u00e9faut de python-2"
     ]
    },
    {
     "cell_type": "markdown",
     "metadata": {},
     "source": [
      "Faisons tout d'abord une premi\u00e8re remarque. L'impl\u00e9mentation des `for` en python-2 laisse \u00e0 d\u00e9sirer, dans ce sens qu'une variable interne \u00e0 un `for` **reste active** \u00e0 la sortie de la boucle. Par exemple \u00e0 ce stade nous avons toujours acc\u00e8s aux variables"
     ]
    },
    {
     "cell_type": "code",
     "collapsed": false,
     "input": [
      "i,k"
     ],
     "language": "python",
     "metadata": {},
     "outputs": [
      {
       "metadata": {},
       "output_type": "pyout",
       "prompt_number": 61,
       "text": [
        "(4, 4)"
       ]
      }
     ],
     "prompt_number": 61
    },
    {
     "cell_type": "markdown",
     "metadata": {},
     "source": [
      "Ce comportement est discutable - et cela a \u00e9t\u00e9 d'ailleurs am\u00e9lior\u00e9 en python-3. \n",
      "\n",
      "C'est pourquoi, afin de comparer les deux formes de compr\u00e9hension imbriqu\u00e9es nous allons explicitement les retirer de l'environnement"
     ]
    },
    {
     "cell_type": "code",
     "collapsed": false,
     "input": [
      "del i,k"
     ],
     "language": "python",
     "metadata": {},
     "outputs": [],
     "prompt_number": 68
    },
    {
     "cell_type": "heading",
     "level": 3,
     "metadata": {},
     "source": [
      "Ordre d'\u00e9valuation de `[ .. for .. for .. ]`"
     ]
    },
    {
     "cell_type": "markdown",
     "metadata": {},
     "source": [
      "Toujours pour rappel, on peut \u00e9galement construire une compr\u00e9hension imbriqu\u00e9e mais **\u00e0 un seul niveau**. Dans une forme simple cela donne"
     ]
    },
    {
     "cell_type": "code",
     "collapsed": false,
     "input": [
      "[ (x,y) for x in [1,2] for y in [1,2] ]"
     ],
     "language": "python",
     "metadata": {},
     "outputs": [
      {
       "metadata": {},
       "output_type": "pyout",
       "prompt_number": 69,
       "text": [
        "[(1, 1), (1, 2), (2, 1), (2, 2)]"
       ]
      }
     ],
     "prompt_number": 69
    },
    {
     "cell_type": "markdown",
     "metadata": {},
     "source": [
      "**Avertissement** m\u00e9fiez-vous toutefois, car il est facile de ne pas voir du premier coup d'oeil qu'ici on \u00e9value les deux clauses `for` **dans un ordre diff\u00e9rent**."
     ]
    },
    {
     "cell_type": "markdown",
     "metadata": {},
     "source": [
      "Pour mieux le voir, essayons de reprendre la logique de notre tout premier exemple, mais avec une forme de double compr\u00e9hension *\u00e0 plat*."
     ]
    },
    {
     "cell_type": "code",
     "collapsed": false,
     "input": [
      "[ i**2 for i in range (1,k+1) for k in range (1,n+1) ]"
     ],
     "language": "python",
     "metadata": {},
     "outputs": [
      {
       "ename": "NameError",
       "evalue": "name 'k' is not defined",
       "output_type": "pyerr",
       "traceback": [
        "\u001b[0;31m---------------------------------------------------------------------------\u001b[0m\n\u001b[0;31mNameError\u001b[0m                                 Traceback (most recent call last)",
        "\u001b[0;32m<ipython-input-70-2a3c920c6c8f>\u001b[0m in \u001b[0;36m<module>\u001b[0;34m()\u001b[0m\n\u001b[0;32m----> 1\u001b[0;31m \u001b[0;34m[\u001b[0m \u001b[0mi\u001b[0m\u001b[0;34m**\u001b[0m\u001b[0;36m2\u001b[0m \u001b[0;32mfor\u001b[0m \u001b[0mi\u001b[0m \u001b[0;32min\u001b[0m \u001b[0mrange\u001b[0m \u001b[0;34m(\u001b[0m\u001b[0;36m1\u001b[0m\u001b[0;34m,\u001b[0m\u001b[0mk\u001b[0m\u001b[0;34m+\u001b[0m\u001b[0;36m1\u001b[0m\u001b[0;34m)\u001b[0m \u001b[0;32mfor\u001b[0m \u001b[0mk\u001b[0m \u001b[0;32min\u001b[0m \u001b[0mrange\u001b[0m \u001b[0;34m(\u001b[0m\u001b[0;36m1\u001b[0m\u001b[0;34m,\u001b[0m\u001b[0mn\u001b[0m\u001b[0;34m+\u001b[0m\u001b[0;36m1\u001b[0m\u001b[0;34m)\u001b[0m \u001b[0;34m]\u001b[0m\u001b[0;34m\u001b[0m\u001b[0m\n\u001b[0m",
        "\u001b[0;31mNameError\u001b[0m: name 'k' is not defined"
       ]
      }
     ],
     "prompt_number": 70
    },
    {
     "cell_type": "markdown",
     "metadata": {},
     "source": [
      "On obtient une erreur, l'interpr\u00e9teur se plaint \u00e0 propos de la variable `k` - c'est pourquoi nous l'avons effac\u00e9e de l'environnement au pr\u00e9alable."
     ]
    },
    {
     "cell_type": "markdown",
     "metadata": {},
     "source": [
      "Ce qui se passe ici, c'est que, comme nous l'avons d\u00e9j\u00e0 mentionn\u00e9 en semaine 3, le code que nous avons \u00e9crit est en fait \u00e9quivalent \u00e0"
     ]
    },
    {
     "cell_type": "code",
     "collapsed": false,
     "input": [
      "# la version bavarde de cette imbrication \u00e0 plat, \u00e0 nouveau\n",
      "# [ i**2 for i in range (1,k+1) for k in range (1,n+1) ]\n",
      "# serait\n",
      "resultat = []\n",
      "for i in range (1,k+1):\n",
      "    for k in range (1,n+1):\n",
      "        resultat.append( (i,k))"
     ],
     "language": "python",
     "metadata": {},
     "outputs": [
      {
       "ename": "NameError",
       "evalue": "name 'k' is not defined",
       "output_type": "pyerr",
       "traceback": [
        "\u001b[0;31m---------------------------------------------------------------------------\u001b[0m\n\u001b[0;31mNameError\u001b[0m                                 Traceback (most recent call last)",
        "\u001b[0;32m<ipython-input-71-2cbd42710a0b>\u001b[0m in \u001b[0;36m<module>\u001b[0;34m()\u001b[0m\n\u001b[1;32m      3\u001b[0m \u001b[0;31m# serait\u001b[0m\u001b[0;34m\u001b[0m\u001b[0;34m\u001b[0m\u001b[0m\n\u001b[1;32m      4\u001b[0m \u001b[0mresultat\u001b[0m \u001b[0;34m=\u001b[0m \u001b[0;34m[\u001b[0m\u001b[0;34m]\u001b[0m\u001b[0;34m\u001b[0m\u001b[0m\n\u001b[0;32m----> 5\u001b[0;31m \u001b[0;32mfor\u001b[0m \u001b[0mi\u001b[0m \u001b[0;32min\u001b[0m \u001b[0mrange\u001b[0m \u001b[0;34m(\u001b[0m\u001b[0;36m1\u001b[0m\u001b[0;34m,\u001b[0m\u001b[0mk\u001b[0m\u001b[0;34m+\u001b[0m\u001b[0;36m1\u001b[0m\u001b[0;34m)\u001b[0m\u001b[0;34m:\u001b[0m\u001b[0;34m\u001b[0m\u001b[0m\n\u001b[0m\u001b[1;32m      6\u001b[0m     \u001b[0;32mfor\u001b[0m \u001b[0mk\u001b[0m \u001b[0;32min\u001b[0m \u001b[0mrange\u001b[0m \u001b[0;34m(\u001b[0m\u001b[0;36m1\u001b[0m\u001b[0;34m,\u001b[0m\u001b[0mn\u001b[0m\u001b[0;34m+\u001b[0m\u001b[0;36m1\u001b[0m\u001b[0;34m)\u001b[0m\u001b[0;34m:\u001b[0m\u001b[0;34m\u001b[0m\u001b[0m\n\u001b[1;32m      7\u001b[0m         \u001b[0mresultat\u001b[0m\u001b[0;34m.\u001b[0m\u001b[0mappend\u001b[0m\u001b[0;34m(\u001b[0m \u001b[0;34m(\u001b[0m\u001b[0mi\u001b[0m\u001b[0;34m,\u001b[0m\u001b[0mk\u001b[0m\u001b[0;34m)\u001b[0m\u001b[0;34m)\u001b[0m\u001b[0;34m\u001b[0m\u001b[0m\n",
        "\u001b[0;31mNameError\u001b[0m: name 'k' is not defined"
       ]
      }
     ],
     "prompt_number": 71
    },
    {
     "cell_type": "markdown",
     "metadata": {},
     "source": [
      "Et dans cette version * d\u00e9pli\u00e9e* on voit bien qu'en effet on utilise `k`avant qu'il ne soit d\u00e9fini."
     ]
    },
    {
     "cell_type": "heading",
     "level": 3,
     "metadata": {},
     "source": [
      "Conclusion"
     ]
    },
    {
     "cell_type": "markdown",
     "metadata": {},
     "source": [
      "La possibilit\u00e9 d'imbriquer des compr\u00e9hensions avec plusieurs niveaux de `for` dans la m\u00eame compr\u00e9hension est un trait qui peut rendre service, car c'est une mani\u00e8re de simplifier la structure des entr\u00e9es (on passe essentiellement d'une liste de profondeur 2 \u00e0 une liste de profondeur 1).\n",
      "\n",
      "Mais il faut savoir ne pas en abuser, et rester conscient de la confusion qui peut en r\u00e9sulter, et en particulier \u00eatre prudent et prendre le temps de bien se relire. "
     ]
    },
    {
     "cell_type": "code",
     "collapsed": false,
     "input": [],
     "language": "python",
     "metadata": {},
     "outputs": []
    }
   ],
   "metadata": {}
  }
 ]
}