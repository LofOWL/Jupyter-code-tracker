{
 "cells": [
  {
   "cell_type": "markdown",
   "metadata": {},
   "source": [
    "<span style=\"float:left;\">Licence CC BY-NC-ND</span><span style=\"float:right;\">Thierry Parmentelat &amp; Arnaud Legout&nbsp;<img src=\"media/inria-25-alpha.png\" style=\"display:inline\"></span><br/>"
   ]
  },
  {
   "cell_type": "markdown",
   "metadata": {},
   "source": [
    "# Programmation asynchrone"
   ]
  },
  {
   "cell_type": "markdown",
   "metadata": {
    "slideshow": {
     "slide_type": "slide"
    }
   },
   "source": [
    "# Typologie d'applications\n",
    "\n",
    "* CPU-intensive\n",
    "* IO-intensive"
   ]
  },
  {
   "cell_type": "markdown",
   "metadata": {
    "slideshow": {
     "slide_type": "slide"
    }
   },
   "source": [
    "# Dialogue avec un serveur"
   ]
  },
  {
   "cell_type": "markdown",
   "metadata": {
    "slideshow": {}
   },
   "source": [
    "![délais dans les traitements](w9-s1-av-fig1.png) "
   ]
  },
  {
   "cell_type": "markdown",
   "metadata": {
    "slideshow": {
     "slide_type": "slide"
    }
   },
   "source": [
    "# Deux serveurs en séquence"
   ]
  },
  {
   "cell_type": "markdown",
   "metadata": {
    "slideshow": {}
   },
   "source": [
    "![délais dans les traitements](w9-s1-av-fig2.png) "
   ]
  },
  {
   "cell_type": "markdown",
   "metadata": {
    "slideshow": {
     "slide_type": "slide"
    }
   },
   "source": [
    "# Processus et threads"
   ]
  },
  {
   "cell_type": "markdown",
   "metadata": {
    "collapsed": true,
    "slideshow": {}
   },
   "source": [
    "### Processus simple\n",
    "\n",
    "processus = espace mémoire + pile + pointeur avancement"
   ]
  },
  {
   "cell_type": "markdown",
   "metadata": {
    "collapsed": true,
    "slideshow": {
     "slide_type": "fragment"
    }
   },
   "source": [
    "### Thread\n",
    "\n",
    "thread = pile + pointeur avancement"
   ]
  },
  {
   "cell_type": "markdown",
   "metadata": {
    "collapsed": true,
    "slideshow": {
     "slide_type": "fragment"
    }
   },
   "source": [
    "### Processus multi-thread\n",
    "\n",
    "processus = espace mémoire + n * (thread)"
   ]
  },
  {
   "cell_type": "markdown",
   "metadata": {
    "cell_style": "center",
    "slideshow": {
     "slide_type": "slide"
    }
   },
   "source": [
    "# Multi-thread"
   ]
  },
  {
   "cell_type": "markdown",
   "metadata": {},
   "source": [
    "### Avantages\n",
    "* facile d'accès \n",
    "* disponible en python avec [`import threading`](https://docs.python.org/3/library/threading.html#module-threading)"
   ]
  },
  {
   "cell_type": "markdown",
   "metadata": {
    "slideshow": {
     "slide_type": "fragment"
    }
   },
   "source": [
    "### Inconvénients\n",
    "* utilisation **très** délicate"
   ]
  },
  {
   "cell_type": "markdown",
   "metadata": {
    "slideshow": {
     "slide_type": "slide"
    }
   },
   "source": [
    "# Commutations de contexte (1)"
   ]
  },
  {
   "cell_type": "markdown",
   "metadata": {},
   "source": [
    "### Deux pages téléchargées par 2 threads différents"
   ]
  },
  {
   "cell_type": "markdown",
   "metadata": {
    "slideshow": {}
   },
   "source": [
    "![2 threads](w9-s1-av-fig3.png) "
   ]
  },
  {
   "cell_type": "markdown",
   "metadata": {
    "slideshow": {
     "slide_type": "slide"
    }
   },
   "source": [
    "# Commutations de contexte (2)"
   ]
  },
  {
   "cell_type": "markdown",
   "metadata": {
    "slideshow": {}
   },
   "source": [
    "![zoom](w9-s1-av-fig4.png) "
   ]
  },
  {
   "cell_type": "markdown",
   "metadata": {
    "slideshow": {
     "slide_type": "slide"
    }
   },
   "source": [
    "# callbacks"
   ]
  },
  {
   "cell_type": "code",
   "execution_count": 4,
   "metadata": {
    "slideshow": {
     "slide_type": "fragment"
    }
   },
   "outputs": [
    {
     "data": {
      "application/javascript": [
       "// from https://www.w3schools.com/jquery/jquery_callback.asp\n",
       "\n",
       "// créer une zone de texte \n",
       "$('h1#callbacks').after(\n",
       "    '<p id=\"disappear\">Un message qui va disparaitre</p>')\n",
       "\n",
       "// on définit le comportement du click souris sur le titre\n",
       "$('h1#callbacks').click(function() {\n",
       "    $(\"#disappear\").hide(\n",
       "        // on prend son temps (3s) pour activer l'effet\n",
       "        3000,\n",
       "       // on passe une callback qui sera appelée \n",
       "       // une fois l'effet terminé\n",
       "       function() {alert(\"terminé\")}\n",
       "    )\n",
       "})"
      ],
      "text/plain": [
       "<IPython.core.display.Javascript object>"
      ]
     },
     "metadata": {},
     "output_type": "display_data"
    }
   ],
   "source": [
    "%%javascript\n",
    "// from https://www.w3schools.com/jquery/jquery_callback.asp\n",
    "\n",
    "// créer une zone de texte \n",
    "$('h1#callbacks').after(\n",
    "    '<p id=\"disappear\">Un message qui va disparaitre</p>')\n",
    "\n",
    "// on définit le comportement du click souris sur le titre\n",
    "$('h1#callbacks').click(function() {\n",
    "    $(\"#disappear\").hide(\n",
    "        // on prend son temps (3s) pour activer l'effet\n",
    "        3000,\n",
    "       // on passe une callback qui sera appelée \n",
    "       // une fois l'effet terminé\n",
    "       function() {alert(\"terminé\")}\n",
    "    )\n",
    "})"
   ]
  },
  {
   "cell_type": "markdown",
   "metadata": {
    "slideshow": {
     "slide_type": "slide"
    }
   },
   "source": [
    "# inconvénients des callbacks"
   ]
  },
  {
   "cell_type": "markdown",
   "metadata": {},
   "source": [
    "![callbacks-hell](callbacks.png)"
   ]
  },
  {
   "cell_type": "markdown",
   "metadata": {
    "slideshow": {
     "slide_type": "slide"
    }
   },
   "source": [
    "# `asyncio` "
   ]
  },
  {
   "cell_type": "markdown",
   "metadata": {},
   "source": [
    "* notion de **coroutines**\n",
    "* qui s'exécutent en parallèle\n",
    "* mais dans **un seul thread**\n",
    "* avec du code **lisible**\n",
    "* en donnant du contrôle sur les changements de contexte\n",
    "* et sans besoin de saucissonner son code en callbacks"
   ]
  }
 ],
 "metadata": {
  "celltoolbar": "Slideshow",
  "kernelspec": {
   "display_name": "Python 3",
   "language": "python",
   "name": "python3"
  },
  "language_info": {
   "codemirror_mode": {
    "name": "ipython",
    "version": 3
   },
   "file_extension": ".py",
   "mimetype": "text/x-python",
   "name": "python",
   "nbconvert_exporter": "python",
   "pygments_lexer": "ipython3",
   "version": "3.6.2"
  },
  "livereveal": {
   "start_slideshow_at": "selected",
   "transition": "cube"
  },
  "notebookname": "Programmation asynchrone",
  "version": "3.0"
 },
 "nbformat": 4,
 "nbformat_minor": 2
}
