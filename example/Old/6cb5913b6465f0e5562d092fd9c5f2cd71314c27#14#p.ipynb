{
 "metadata": {
  "notebookname": "Programmation fonctionelle",
  "signature": "8dea10a530f00bca3668e1ce47947bc14d24b60e665bb9715f3eeb777974870f",
  "version": "1.0"
 },
 "nbformat": 3,
 "nbformat_minor": 0,
 "worksheets": [
  {
   "cells": [
    {
     "cell_type": "heading",
     "level": 1,
     "metadata": {},
     "source": [
      "Programmation fonctionnelle"
     ]
    },
    {
     "cell_type": "heading",
     "level": 2,
     "metadata": {},
     "source": [
      "Exercice - niveau interm\u00e9diaire"
     ]
    },
    {
     "cell_type": "markdown",
     "metadata": {},
     "source": [
      "On vous demande d'\u00e9crire une fonction `numbers` qui prend en argument une liste d'entiers, et qui retourne un tuple contenant\n",
      " * la somme\n",
      " * le produit\n",
      " * le minimum\n",
      " * le maximum\n",
      "\n",
      "des \u00e9l\u00e9ments de la liste"
     ]
    },
    {
     "cell_type": "code",
     "collapsed": false,
     "input": [
      "def numbers(l):\n",
      "    \"<votre_code>\""
     ],
     "language": "python",
     "metadata": {},
     "outputs": []
    },
    {
     "cell_type": "code",
     "collapsed": false,
     "input": [
      "# pour v\u00e9rifier votre code\n",
      "from corrections.w4_functional import exo_numbers\n",
      "exo_numbers.correction(numbers)"
     ],
     "language": "python",
     "metadata": {},
     "outputs": []
    },
    {
     "cell_type": "heading",
     "level": 2,
     "metadata": {},
     "source": [
      "Exercice - niveau avanc\u00e9"
     ]
    },
    {
     "cell_type": "markdown",
     "metadata": {},
     "source": [
      "\u00c0 pr\u00e9sent nous allons \u00e9crire une version tr\u00e8s simplifi\u00e9e de l'outil qui est utilis\u00e9 dans ce cours pour corriger les exercices. Vous remarquerez que les fonctions de correction, comme par exemple `exo_numbers.correction` ci-dessus, prennent en argument la fonction qu'il est question de corriger.\n",
      "\n",
      "On vous demande d'\u00e9crire une fonction `validation` qui prend en argument \n",
      " * deux fonctions `f` et `g`; imaginez que l'une d'entre elles fonctionne et qu'on cherche \u00e0 valider l'autre; dans cette version simplifi\u00e9e toutes les fonctions acceptent exactement un argument\n",
      " * une liste d'entr\u00e9es `entrees`; vous pouvez supposer que chacune de ces entr\u00e9es est dans le domaine de `f` et de `g` (dit autrement, on peut appeler `f` et `g` sur chacune des entr\u00e9es sans craindre qu'une exception soit lev\u00e9e);\n",
      "\n",
      "Le r\u00e9sultat attendu pour le retour de `validation` est une liste qui contient autant de bool\u00e9ens que d'\u00e9l\u00e9ments dans entr\u00e9es, chacun indiquant si avec l'entr\u00e9e correspondante on a pu v\u00e9rifier que `f(entree) == g(entree)`.\n",
      "\n",
      "Dans cette premi\u00e8re version de l'exercice vous pouvez enfin supposer que les entr\u00e9es ne sont pas modifi\u00e9es par `f` ou `g`. "
     ]
    },
    {
     "cell_type": "code",
     "collapsed": false,
     "input": [
      "def validation(f, g, entrees):\n",
      "    \"<votre code>\""
     ],
     "language": "python",
     "metadata": {},
     "outputs": []
    },
    {
     "cell_type": "code",
     "collapsed": false,
     "input": [
      "# pour v\u00e9rifier votre code\n",
      "from corrections.w4_functional import exo_validation\n",
      "exo_validation.correction(validation)"
     ],
     "language": "python",
     "metadata": {},
     "outputs": []
    },
    {
     "cell_type": "markdown",
     "metadata": {},
     "source": [
      "Pour information:\n",
      " * `factorial` correspond \u00e0 `math.factorial`\n",
      " * `fact` et `broken_fact` sont des fonctions impl\u00e9ment\u00e9es par nos soins, la premi\u00e8re est correcte alors que la seconde retourne 0 au lieu de 1 pour l'entr\u00e9e 0."
     ]
    }
   ],
   "metadata": {}
  }
 ]
}