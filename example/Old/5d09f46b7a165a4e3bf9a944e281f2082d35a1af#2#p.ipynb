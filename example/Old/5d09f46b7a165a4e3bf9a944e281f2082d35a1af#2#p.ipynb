{
 "metadata": {
  "name": "",
  "signature": "sha256:a95d95ab713d7e190329009d345052f89f80dd00302381ec722ea921c8be9ac0"
 },
 "nbformat": 3,
 "nbformat_minor": 0,
 "worksheets": [
  {
   "cells": [
    {
     "cell_type": "heading",
     "level": 1,
     "metadata": {},
     "source": [
      "Tri de listes : deuxi\u00e8me partie"
     ]
    },
    {
     "cell_type": "markdown",
     "metadata": {},
     "source": [
      "Nous avons vu pr\u00e9c\u00e9demment comment faire le tri simple d'une liste, en utilisant \u00e9ventuellement le param\u00e8tre $\\texttt{reverse}$ de la m\u00e9thode $\\texttt{sort}$ sur les listes. Maintenant que nous somme sfamiliers avec la notion de fonction, nous pouvons approfondir ce sujet."
     ]
    },
    {
     "cell_type": "heading",
     "level": 3,
     "metadata": {},
     "source": [
      "Cas g\u00e9n\u00e9ral"
     ]
    },
    {
     "cell_type": "markdown",
     "metadata": {},
     "source": [
      "Dans le cas g\u00e9n\u00e9ral, on est souvent amen\u00e9 \u00e0 trier des objets selon un crit\u00e8re propre \u00e0 l'application. Imaginons par exemple que l'on dispose d'une liste de tuples \u00e0 deux \u00e9l\u00e9ments, dont le premier est la latitude et le second la longitude"
     ]
    },
    {
     "cell_type": "code",
     "collapsed": false,
     "input": [
      "coordonnees = [ (43, 7), (46, -7), (46, 0) ]"
     ],
     "language": "python",
     "metadata": {},
     "outputs": []
    },
    {
     "cell_type": "markdown",
     "metadata": {},
     "source": [
      "Il est possible d'utiliser la m\u00e9thode $\\texttt{sort}$ pour faire cela, mais il va falloir l'aider un peu plus, et lui expliquer comment comparer deux \u00e9l\u00e9ments de la liste.\n",
      "\n",
      "Voyons comment on pourrait proc\u00e9der pour trier par longitude"
     ]
    },
    {
     "cell_type": "code",
     "collapsed": false,
     "input": [
      "def longitude (element): return element[1]\n",
      "coordonnees.sort (key=longitude)\n",
      "print \"coordonn\u00e9es tri\u00e9es par longitude\",coordonnees"
     ],
     "language": "python",
     "metadata": {},
     "outputs": []
    },
    {
     "cell_type": "markdown",
     "metadata": {},
     "source": [
      "Comme on le devine, le proc\u00e9d\u00e9 ici consiste \u00e0 indiquer \u00e0 $\\texttt{sort}$ comment calculer, \u00e0 partir de chaque \u00e9l\u00e9ment, une valeur num\u00e9rique qui sert de base au tri. \n",
      "\n",
      "Pour cela on passe \u00e0 la m\u00e9thode $\\texttt{sort}$ un argument $\\texttt{key}$ qui d\u00e9signe une fonction, qui lorsqu'elle est appliqu\u00e9e \u00e0 un \u00e9l\u00e9ment de la liste, retourne la valeur qui doit servir de base au tri (ici donc dans notre exemple, la fonction $\\texttt{longitude}$, qui renvoie le second \u00e9l\u00e9ment du tuple."
     ]
    },
    {
     "cell_type": "heading",
     "level": 3,
     "metadata": {},
     "source": [
      "Fonction de commodit\u00e9 : $\\texttt{sorted}$"
     ]
    },
    {
     "cell_type": "markdown",
     "metadata": {},
     "source": [
      "On a vu que $\\texttt{sort}$ r\u00e9alise le tri de la liste \"en place\". Pour les cas ou une copie est n\u00e9cessaire, python fournit \u00e9galement une fonction de commodit\u00e9, qui permet pr\u00e9cis\u00e9ment de renvoyer la copie tri\u00e9e d'une liste d'entr\u00e9e. Cette fonction est baptis\u00e9e $\\texttt{sorted}$, elle s'utilise par exemple comme ceci, sachant que les arguments $\\texttt{reverse}$ et $\\texttt{key}$ peuvent \u00eatre mentionn\u00e9s comme avec $\\texttt{sort}$"
     ]
    },
    {
     "cell_type": "code",
     "collapsed": false,
     "input": [
      "liste = [ 8, 7, 4, 3, 2, 9, 1, 5, 6]\n",
      "triee = sorted(liste, reverse=True)\n",
      "print 'liste tri\u00e9e tri', triee\n",
      "print 'la liste initiale est intacte', liste"
     ],
     "language": "python",
     "metadata": {},
     "outputs": []
    },
    {
     "cell_type": "markdown",
     "metadata": {},
     "source": [
      "Nous avons qualifi\u00e9 $\\texttt{sorted}$ de fonction de commodit\u00e9 car il est tr\u00e8s facile de s'en passer; en effet on aurait pu \u00e9crire \u00e0 la place du fragment pr\u00e9c\u00e9dent:"
     ]
    },
    {
     "cell_type": "code",
     "collapsed": false,
     "input": [
      "liste = [ 8, 7, 4, 3, 2, 9, 1, 5, 6]\n",
      "triee = liste [:]\n",
      "triee.sort (reverse=True)\n",
      "print 'liste tri\u00e9e tri', triee\n",
      "print 'la liste initiale est intacte', liste"
     ],
     "language": "python",
     "metadata": {},
     "outputs": []
    }
   ],
   "metadata": {}
  }
 ]
}