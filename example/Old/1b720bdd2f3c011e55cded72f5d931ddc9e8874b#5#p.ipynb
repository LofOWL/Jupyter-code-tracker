{
 "metadata": {
  "kernelspec": {
   "display_name": "Python 2", 
   "language": "python", 
   "name": "python2"
  }, 
  "name": "", 
  "notebookname": "Fibonacci", 
  "version": "2.0"
 }, 
 "nbformat": 2, 
 "nbformat_minor": 0, 
 "orig_nbformat": 4, 
 "orig_nbformat_minor": 0, 
 "worksheets": [
  {
   "cells": [
    {
     "cell_type": "markdown", 
     "metadata": {}, 
     "source": [
      "<span style=\"float:left;\">Licence CC BY-NC-ND</span><span style=\"float:right;\">Thierry Parmentelat &amp; Arnaud Legout,<img src=\"media/inria-25.png\" style=\"display:inline\"></span><br/>"
     ]
    }, 
    {
     "cell_type": "markdown", 
     "metadata": {}, 
     "source": [
      "# La suite de Fibonacci"
     ]
    }, 
    {
     "cell_type": "markdown", 
     "metadata": {}, 
     "source": [
      "## Compl\u00e9ment - niveau basique"
     ]
    }, 
    {
     "cell_type": "markdown", 
     "metadata": {}, 
     "source": [
      "Voici un premier exemple de code que vous pouvez commencer par utiliser dans ce notebook. Nous verrons en fin de s\u00e9ance comment le faire \u00e9galement fonctionner localement sur votre ordinateur."
     ]
    }, 
    {
     "cell_type": "markdown", 
     "metadata": {}, 
     "source": [
      "Le but de ce programme est de calculer la fonction de Fibonacci, qui comme vous vous en souvenez s\u00fbrement est  d\u00e9finie comme ceci&nbsp;:", 
      "", 
      "* $ u_0 = 1$", 
      "* $u_1 = 1 $", 
      "* $ \\forall n >= 2, u_{n} = u_{n-1} + u_{n-2} $", 
      "", 
      "Ce qui donne pour les premi\u00e8res valeurs", 
      "", 
      "<table>", 
      "<thead><tr><th>n</th><td>fibonacci(n)</td></tr></thead>", 
      "<tr><td>0</td><td>1</td></tr>", 
      "<tr><td>1</td><td>1</td></tr>", 
      "<tr><td>2</td><td>2</td></tr>", 
      "<tr><td>3</td><td>3</td></tr>", 
      "<tr><td>4</td><td>5</td></tr>", 
      "<tr><td>5</td><td>8</td></tr>", 
      "</table>"
     ]
    }, 
    {
     "cell_type": "markdown", 
     "metadata": {}, 
     "source": [
      "On commence par d\u00e9finir la fonction `fibonacci` comme suit. Naturellement vous n'avez pas encore tout le bagage pour lire ce code, ne vous inqui\u00e9tez pas nous allons vous expliquer tout \u00e7a dans les prochaines semaines. Le but est uniquement de vous montrer un fonctionnement de l'interpr\u00e9teur Python et de IDLE. "
     ]
    }, 
    {
     "cell_type": "code", 
     "collapsed": false, 
     "input": [
      "def fibonacci(n):", 
      "    \"retourne le nombre de fibonacci pour l'entier n\"", 
      "    # pour les petites valeurs de n il n'y a rien a calculer", 
      "    if n <= 1: ", 
      "        return 1", 
      "    # sinon on initialise f1 pour n-1 et f2 pour n-2", 
      "    f2, f1 = 1, 1", 
      "    # et on it\u00e8re n-1 fois pour additionner", 
      "    for i in range(2, n + 1):", 
      "        f2, f1 = f1, f1 + f2", 
      "#        print i, f2, f1", 
      "    # le r\u00e9sultat est dans f1", 
      "    return f1"
     ], 
     "language": "python", 
     "metadata": {}, 
     "outputs": [], 
     "prompt_number": null
    }, 
    {
     "cell_type": "markdown", 
     "metadata": {}, 
     "source": [
      "Pour en faire un programme utilisable on va demander \u00e0 l'utilisateur de rentrer un nombre; il faut le convertir en entier car `raw_input` renvoie une cha\u00eene de caract\u00e8res"
     ]
    }, 
    {
     "cell_type": "code", 
     "collapsed": false, 
     "input": [
      "entier = int(raw_input(\"Entrer un entier \"))"
     ], 
     "language": "python", 
     "metadata": {}, 
     "outputs": [], 
     "prompt_number": null
    }, 
    {
     "cell_type": "markdown", 
     "metadata": {}, 
     "source": [
      "On imprime le r\u00e9sultat"
     ]
    }, 
    {
     "cell_type": "code", 
     "collapsed": false, 
     "input": [
      "print \"fibonacci({}) = {}\".format(entier, fibonacci(entier))"
     ], 
     "language": "python", 
     "metadata": {}, 
     "outputs": [], 
     "prompt_number": null
    }, 
    {
     "cell_type": "markdown", 
     "metadata": {}, 
     "source": [
      "### Exercice"
     ]
    }, 
    {
     "cell_type": "markdown", 
     "metadata": {}, 
     "source": [
      "Vous pouvez donc \u00e0 pr\u00e9sent&nbsp;:", 
      " * ex\u00e9cuter le code dans ce notebook", 
      " * t\u00e9l\u00e9charger ce code sur votre disque comme un fichier `fibonacci_prompt.py` ", 
      "   * utilisez pour cela le menu *\"File -> Download as -> python\"*", 
      "   * et renommez le fichier obtenu au besoin", 
      " * l'ex\u00e9cuter sous IDLE", 
      " * le modifier, par exemple pour afficher les r\u00e9sultats interm\u00e9diaires ", 
      "   * on a laiss\u00e9 expr\u00e8s des commentaires que vous pouvez r\u00e9activer simplement", 
      " * l'ex\u00e9cuter avec simplement python comme ceci", 
      " ", 
      "     `$ python fibonacci_prompt.py`", 
      "     "
     ]
    }, 
    {
     "cell_type": "markdown", 
     "metadata": {}, 
     "source": [
      "Ce code est volontairement simple et peu robuste pour ne pas l'alourdir. Par exemple, ce programme se comporte mal si vous entrez un entier n\u00e9gatif."
     ]
    }, 
    {
     "cell_type": "markdown", 
     "metadata": {}, 
     "source": [
      "Nous allons voir tout de suite une version l\u00e9g\u00e8rement diff\u00e9rente qui vous permet de sp\u00e9cifier la valeur d'entr\u00e9e sur la ligne de commande"
     ]
    }
   ], 
   "metadata": {}
  }
 ]
}
