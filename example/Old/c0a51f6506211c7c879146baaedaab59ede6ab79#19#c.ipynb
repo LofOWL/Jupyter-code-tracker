{
 "metadata": {
  "notebookname": "Conditions",
  "signature": "sha256:101399b7753a22bbd563b14ecb4fb71c5226e8d269ea824189647b7ceb52a22c",
  "version": "1.0"
 },
 "nbformat": 3,
 "nbformat_minor": 0,
 "worksheets": [
  {
   "cells": [
    {
     "cell_type": "heading",
     "level": 1,
     "metadata": {},
     "source": [
      "R\u00e9capitulatif sur les conditions dans un `if`"
     ]
    },
    {
     "cell_type": "heading",
     "level": 2,
     "metadata": {},
     "source": [
      "Compl\u00e9ment - niveau basique"
     ]
    },
    {
     "cell_type": "markdown",
     "metadata": {},
     "source": [
      "Dans ce compl\u00e9ment nous r\u00e9sumons ce qu'il faut savoir pour \u00e9crire une condition dans un `if`."
     ]
    },
    {
     "cell_type": "heading",
     "level": 3,
     "metadata": {},
     "source": [
      "Expression *vs* instruction"
     ]
    },
    {
     "cell_type": "markdown",
     "metadata": {},
     "source": [
      "Nous avons d\u00e9j\u00e0 introduit la diff\u00e9rence entre instruction et expression, lorsque nous avons vu l'expression conditionnelle:\n",
      " * une expression est un fragment de code qui \"retourne quelque chose\"\n",
      " * alors qu'une instruction permet bien souvent de faire une action, mais ne retourne rien"
     ]
    },
    {
     "cell_type": "markdown",
     "metadata": {},
     "source": [
      "Ainsi parmi les notions que nous avons vues jusqu'ici, nous pouvons citer dans un ordre arbitraire:\n",
      "\n",
      "<table><thead><tr><th>Instructions</th><th>Expressions</th></tr></thead>\n",
      "<tbody>\n",
      "<tr><td>instruction `if`</td><td>expression conditionnelle</td></tr>\n",
      "<tr><td>instruction `for`</td><td>compr\u00e9hensions</td></tr>\n",
      "<tr><td>affection</td><td>appel de fonction</td></tr>\n",
      "<tr><td>`print`</td><td>op\u00e9rateurs `is` et `==`</td></tr>\n",
      "<tr><td>`import`</td><td>op\u00e9rateur `in`</td></tr>\n",
      "</tbody></table>"
     ]
    },
    {
     "cell_type": "heading",
     "level": 3,
     "metadata": {},
     "source": [
      "Toutes les expressions sont \u00e9ligibles"
     ]
    },
    {
     "cell_type": "markdown",
     "metadata": {},
     "source": [
      "Comme condition d'une instruction `if`, on peut mettre n'importe quelle expression.\n",
      "\n",
      "Comme on l'a d\u00e9j\u00e0 signal\u00e9, il n'est pas n\u00e9cessaire que cette expression retourne un bool\u00e9en:"
     ]
    },
    {
     "cell_type": "code",
     "collapsed": false,
     "input": [
      "for n in [18, 19]:\n",
      "    if n % 3:\n",
      "        print n, \"n'est pas divisible par trois\"\n",
      "    else:\n",
      "        print n, \"est divisible par trois\""
     ],
     "language": "python",
     "metadata": {},
     "outputs": []
    },
    {
     "cell_type": "heading",
     "level": 3,
     "metadata": {},
     "source": [
      "Une valeur est-elle \"vraie\" ?"
     ]
    },
    {
     "cell_type": "markdown",
     "metadata": {},
     "source": [
      "Se pose d\u00e8s lors la question de savoir pr\u00e9cis\u00e9ment quelles valeurs sont consid\u00e9r\u00e9es comme *vraies* par l'instruction `if`. \n",
      "\n",
      "Parmi les types de base, nous avons d\u00e9j\u00e0 eu l'occasion de l'\u00e9voquer, les valeurs *fausses* sont typiquement\n",
      " * 0 pour les valeurs num\u00e9riques\n",
      " * les objets vides pour les cha\u00eenes, listes, ensembles, dictionnaires, etc."
     ]
    },
    {
     "cell_type": "markdown",
     "metadata": {},
     "source": [
      "Pour en avoir le c\u0153ur net, pensez \u00e0 utiliser dans le terminal interactif la fonction `bool`. Comme pour toutes les fonctions qui portent le nom d'un type, la fonction `bool` est un constructeur qui fabrique un objet bool\u00e9en. \n",
      "\n",
      "Si vous appelez `bool` sur un objet, la valeur de retour - qui est donc par construction une valeur bool\u00e9enne - vous indique cette fois sans ambigu\u00eft\u00e9 - comment se comportera `if` avec cette entr\u00e9e."
     ]
    },
    {
     "cell_type": "code",
     "collapsed": false,
     "input": [
      "def show_bool(x):\n",
      "    print 'condition', x, ' consid\u00e9r\u00e9e comme', bool(x)\n",
      "    \n",
      "for exp in [ None, \"\", 'a', [], [1], (), (1, 2), {}, {'a': 1}, set(), {1}]:\n",
      "    show_bool (exp)"
     ],
     "language": "python",
     "metadata": {},
     "outputs": []
    },
    {
     "cell_type": "heading",
     "level": 3,
     "metadata": {},
     "source": [
      "Quelques exemples d'expressions"
     ]
    },
    {
     "cell_type": "heading",
     "level": 5,
     "metadata": {},
     "source": [
      "R\u00e9f\u00e9rence \u00e0 une variable et d\u00e9riv\u00e9s"
     ]
    },
    {
     "cell_type": "code",
     "collapsed": false,
     "input": [
      "a = range(10)\n",
      "if a:\n",
      "    print \"a n'est pas vide\"\n",
      "if a[1]:\n",
      "    print \"a[1] n'est pas nul\""
     ],
     "language": "python",
     "metadata": {},
     "outputs": []
    },
    {
     "cell_type": "heading",
     "level": 5,
     "metadata": {},
     "source": [
      "Appels de fonction ou de m\u00e9thode"
     ]
    },
    {
     "cell_type": "code",
     "collapsed": false,
     "input": [
      "chaine = \"jean\"\n",
      "if chaine.upper():\n",
      "    print \"la chaine mise en majuscule n'est pas vide\""
     ],
     "language": "python",
     "metadata": {},
     "outputs": []
    },
    {
     "cell_type": "code",
     "collapsed": false,
     "input": [
      "# on rappelle qu'une fonction qui ne fait pas 'return' retourne None\n",
      "def procedure(a, b, c):\n",
      "    \"cette fonction ne retourne rien\"\n",
      "    pass\n",
      "\n",
      "if procedure(1, 2, 3):\n",
      "    print \"ne passe pas ici car procedure retourne None\"\n",
      "else:\n",
      "    print \"attendu\"\n"
     ],
     "language": "python",
     "metadata": {},
     "outputs": []
    },
    {
     "cell_type": "heading",
     "level": 5,
     "metadata": {},
     "source": [
      "Compr\u00e9hensions"
     ]
    },
    {
     "cell_type": "markdown",
     "metadata": {},
     "source": [
      "Il d\u00e9coule de ce qui pr\u00e9c\u00e8de qu'on peut tout \u00e0 fait mettre une compr\u00e9hension comme condition, ce qui peut \u00eatre utile pour savoir si au moins un \u00e9l\u00e9ment remplit une condition, comme par exemple:"
     ]
    },
    {
     "cell_type": "code",
     "collapsed": false,
     "input": [
      "inputs = [23, 65, 24]\n",
      "# y a-t-il dans inputs au moins un nombre dont le carr\u00e9 est 10*n+5\n",
      "def condition(n):\n",
      "    return n * n % 10 == 5\n",
      "\n",
      "if [input for input in inputs if condition(input)]:\n",
      "    print \"au moins une entr\u00e9e convient\""
     ],
     "language": "python",
     "metadata": {},
     "outputs": []
    },
    {
     "cell_type": "markdown",
     "metadata": {},
     "source": [
      "Je vous rappelle que nous aborderons la compr\u00e9hension en semaine 5. Donc, si l'exemple pr\u00e9c\u00e9dent vous para\u00eet obscure, pas d'inqui\u00e9tude, vous pourrez revenir dessus apr\u00e8s avoir vu la compr\u00e9hension en semaine 5."
     ]
    },
    {
     "cell_type": "heading",
     "level": 5,
     "metadata": {},
     "source": [
      "Op\u00e9rateurs"
     ]
    },
    {
     "cell_type": "markdown",
     "metadata": {},
     "source": [
      "Nous avons d\u00e9j\u00e0 eu l'occasion de rencontrer la plupart des op\u00e9rateurs de comparaison du langage, dont voici \u00e0 nouveau les principaux\n",
      "\n",
      "<table><thead><tr><th>Famille</th><th>Exemples</th></tr></thead>\n",
      "<tbody>\n",
      "<tr><td>\u00c9galit\u00e9</td><td>`==`, `!=`, `is`, `is not` </td></tr>\n",
      "<tr><td>Appartenance</td><td>`in`</td></tr>\n",
      "<tr><td>Comparaison</td><td>`<=`, `<`, `>`, `>=`</td></tr>\n",
      "<tr><td>Logiques</td><td>`and`, `or`, `not`</td></tr>\n",
      "</tbody></table>\n"
     ]
    },
    {
     "cell_type": "heading",
     "level": 2,
     "metadata": {},
     "source": [
      "Compl\u00e9ment - niveau interm\u00e9diaire"
     ]
    },
    {
     "cell_type": "heading",
     "level": 3,
     "metadata": {},
     "source": [
      "Remarques sur les op\u00e9rateurs"
     ]
    },
    {
     "cell_type": "markdown",
     "metadata": {},
     "source": [
      "Voici enfin quelques remarques sur ces op\u00e9rateurs"
     ]
    },
    {
     "cell_type": "heading",
     "level": 5,
     "metadata": {},
     "source": [
      "op\u00e9rateur d'\u00e9galit\u00e9 `==` "
     ]
    },
    {
     "cell_type": "markdown",
     "metadata": {},
     "source": [
      "L'op\u00e9rateur `==` ne fonctionne en g\u00e9n\u00e9ral (sauf pour les nombres) que sur des objets de m\u00eame type; c'est-\u00e0-dire que notamment un tuple ne sera jamais \u00e9gal \u00e0 une liste:"
     ]
    },
    {
     "cell_type": "code",
     "collapsed": false,
     "input": [
      "[] == ()"
     ],
     "language": "python",
     "metadata": {},
     "outputs": []
    },
    {
     "cell_type": "code",
     "collapsed": false,
     "input": [
      "[1, 2] == (1, 2)"
     ],
     "language": "python",
     "metadata": {},
     "outputs": []
    },
    {
     "cell_type": "heading",
     "level": 5,
     "metadata": {},
     "source": [
      "op\u00e9rateur logiques"
     ]
    },
    {
     "cell_type": "markdown",
     "metadata": {},
     "source": [
      "Comme c'est le cas avec par exemple les op\u00e9rateurs arithm\u00e9tiques, les op\u00e9rateurs logiques ont une *priorit\u00e9*, qui pr\u00e9cise le sens des phrases non parenth\u00e9s\u00e9es. C'est-\u00e0-dire pour \u00eatre explcite, que de la m\u00eame mani\u00e8re que\n",
      "\n",
      "    12 + 4 * 8 \n",
      "\n",
      "est \u00e9quivalent \u00e0\n",
      "\n",
      "    12 + ( 4 * 8 )\n",
      "    \n",
      "pour les bool\u00e9ens il existe une r\u00e8gle de ce genre et\n",
      "\n",
      "    a and not b or c and d\n",
      "\n",
      "est \u00e9quivalent \u00e0\n",
      "\n",
      "    (a and (not b)) or (c and d)\n",
      "\n",
      "Mais en fait, il est assez facile de s'emm\u00ealer dans ces priorit\u00e9s et il est tr\u00e8s fortement conseill\u00e9 de parenth\u00e9ser.\n",
      "    "
     ]
    },
    {
     "cell_type": "heading",
     "level": 5,
     "metadata": {},
     "source": [
      "op\u00e9rateurs logiques (2)"
     ]
    },
    {
     "cell_type": "markdown",
     "metadata": {},
     "source": [
      "Les op\u00e9rateurs logiques peuvent \u00eatre appliqu\u00e9s \u00e0 des valeurs qui ne sont pas bool\u00e9ennes:"
     ]
    },
    {
     "cell_type": "code",
     "collapsed": false,
     "input": [
      "2 and [1, 2]"
     ],
     "language": "python",
     "metadata": {},
     "outputs": []
    },
    {
     "cell_type": "heading",
     "level": 3,
     "metadata": {},
     "source": [
      "Expression conditionnelle dans une instruction `if`"
     ]
    },
    {
     "cell_type": "markdown",
     "metadata": {},
     "source": [
      "En toute rigueur on peut aussi mettre un `<> if <> else <>` - donc une expression conditionnelle - comme condition dans une instruction `if`. Nous le signalons pour bien illustrer la logique du langage, mais cette pratique n'est pas du tout conseill\u00e9e."
     ]
    },
    {
     "cell_type": "code",
     "collapsed": false,
     "input": [
      "# cet exemple est volontairement tir\u00e9 par les cheveux \n",
      "# pour bien montrer qu'on peut mettre n'importe quelle expression comme condition\n",
      "a = 1\n",
      "# ceci est franchement illisible\n",
      "if 0 if not a else 2:\n",
      "    print \"une construction illisible\"\n",
      "# et encore pire\n",
      "if 0 if a else 3 if a + 1 else 2:\n",
      "    print \"encore pire\""
     ],
     "language": "python",
     "metadata": {},
     "outputs": []
    },
    {
     "cell_type": "heading",
     "level": 3,
     "metadata": {},
     "source": [
      "Pour en savoir plus"
     ]
    },
    {
     "cell_type": "markdown",
     "metadata": {},
     "source": [
      "https://docs.python.org/2/tutorial/datastructures.html#more-on-conditions"
     ]
    },
    {
     "cell_type": "heading",
     "level": 3,
     "metadata": {},
     "source": [
      "Types d\u00e9finis par l'utilisateur"
     ]
    },
    {
     "cell_type": "markdown",
     "metadata": {},
     "source": [
      "Pour anticiper un tout petit peu, nous verrons que les classes en python vous donnent le moyen de d\u00e9finir vos propres types d'objets. Nous verrons \u00e0 cette occasion qu'il est possible d'indiquer \u00e0 python quels sont les objets de type `MaClasse` qui doivent \u00eatre consid\u00e9r\u00e9s comme `True` ou comme `False`. \n",
      "\n",
      "De mani\u00e8re plus g\u00e9n\u00e9rale, tous les traits natifs du langage sont red\u00e9finissables sur les classes. Nous verrons par exemple \u00e9galement comment donner du sens \u00e0 des phrases comme\n",
      "\n",
      "    mon_objet = MaClasse()\n",
      "    for partie in mon_objet:\n",
      "        <faire quelque chose sur partie>\n",
      "\n",
      "Mais n'anticipons pas trop, rendez-vous en semaine 5."
     ]
    }
   ],
   "metadata": {}
  }
 ]
}