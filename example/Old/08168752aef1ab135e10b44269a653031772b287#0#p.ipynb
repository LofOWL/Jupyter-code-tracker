{
 "metadata": {
  "notebookname": "NO HEADING 1 found",
  "signature": "sha256:6d7e0e2b63454e1625eb0587d84baa20c93afac333bc79b2ea08788475a502d8",
  "version": "1.0"
 },
 "nbformat": 3,
 "nbformat_minor": 0,
 "worksheets": [
  {
   "cells": [
    {
     "cell_type": "markdown",
     "metadata": {},
     "source": [
      "Je simule un exercice d\u00e9bile, on demande aux \u00e9tudiants d'\u00e9crire une classe `Fifo`\n",
      "    \n",
      "qui impl\u00e9mente \n",
      "* un constructeur `Fifo()`\n",
      "* une m\u00e9thode `incoming(obj)`\n",
      "* une m\u00e9thode `outgoing()`\n",
      "\n",
      "qui rende simplement les objets dans le m\u00eame ordre o\u00f9 ils ont \u00e9t\u00e9 rang\u00e9s"
     ]
    },
    {
     "cell_type": "markdown",
     "metadata": {},
     "source": [
      "L'\u00e9tudiant est invit\u00e9 \u00e0 \u00e9crire son code dans la class `Fifo`;\n",
      "\n",
      "On lui propose en arrivant une cellule vide comme ceci"
     ]
    },
    {
     "cell_type": "code",
     "collapsed": false,
     "input": [
      "class Fifo(object):\n",
      "    def __init__(self):\n",
      "        pass\n",
      "    def incoming(self, obj):\n",
      "        pass\n",
      "    def outgoing(self):\n",
      "        pass"
     ],
     "language": "python",
     "metadata": {},
     "outputs": [],
     "prompt_number": 1
    },
    {
     "cell_type": "markdown",
     "metadata": {},
     "source": [
      "Il la modifie, imaginons que \u00e7a donne cela"
     ]
    },
    {
     "cell_type": "code",
     "collapsed": false,
     "input": [
      "# cette classe est cass\u00e9e expr\u00e8s ...\n",
      "class Fifo(object):\n",
      "    def __init__(self):\n",
      "        self.items = []\n",
      "    def incoming(self, obj):\n",
      "        self.items.append(obj)\n",
      "    def outgoing(self):\n",
      "        return self.items.pop()"
     ],
     "language": "python",
     "metadata": {},
     "outputs": [],
     "prompt_number": 1
    },
    {
     "cell_type": "markdown",
     "metadata": {},
     "source": [
      "Et voici la cellule pour corriger "
     ]
    },
    {
     "cell_type": "code",
     "collapsed": false,
     "input": [
      "from corrections.w5_fifo import exo_fifo\n",
      "exo_fifo.correction(Fifo)"
     ],
     "language": "python",
     "metadata": {},
     "outputs": [
      {
       "html": [
        "<h2>Overall = False</h2><table style='font-family:monospace;font-size:small;'><tr><th colspan=3 style='text-align:center;'>Scenario 1</th></tr><tr style='font-family:monospace;font-size:medium;'><th>Arguments</th><th>Attendu</th><th>Obtenu</th></tr><tr style='ok_style'><th>o = Fifo()</th><td>-</td><td>-</td></tr><tr style='background-color:#66CC66;'><td>o.incoming(1)</td><td>None</td><td>None</td></tr><tr style='background-color:#66CC66;'><td>o.incoming(2)</td><td>None</td><td>None</td></tr><tr style='background-color:#CC3300;color:#e8e8e8;'><td>o.outgoing()</td><td>1</td><td>2</td></tr><tr style='background-color:#66CC66;'><td>o.incoming(3)</td><td>None</td><td>None</td></tr><tr style='background-color:#66CC66;'><td>o.incoming(4)</td><td>None</td><td>None</td></tr><tr style='background-color:#CC3300;color:#e8e8e8;'><td>o.outgoing()</td><td>2</td><td>4</td></tr></table>"
       ],
       "metadata": {},
       "output_type": "pyout",
       "prompt_number": 2,
       "text": [
        "<IPython.core.display.HTML at 0x10f471990>"
       ]
      }
     ],
     "prompt_number": 2
    },
    {
     "cell_type": "markdown",
     "metadata": {},
     "source": [
      "*********"
     ]
    },
    {
     "cell_type": "code",
     "collapsed": false,
     "input": [],
     "language": "python",
     "metadata": {},
     "outputs": []
    }
   ],
   "metadata": {}
  }
 ]
}