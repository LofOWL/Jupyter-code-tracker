{
 "metadata": {
  "notebookname": "Les outils sur les cha\u00eenes",
  "signature": "267d5ca9a6fb03a5310caf850ced12ca676ed5f2ef6b5523812c7e104f4c7268",
  "version": "1.0"
 },
 "nbformat": 3,
 "nbformat_minor": 0,
 "worksheets": [
  {
   "cells": [
    {
     "cell_type": "heading",
     "level": 1,
     "metadata": {},
     "source": [
      "Les outils de base sur les strings"
     ]
    },
    {
     "cell_type": "heading",
     "level": 2,
     "metadata": {},
     "source": [
      "Compl\u00e9ment - niveau interm\u00e9diaire"
     ]
    },
    {
     "cell_type": "heading",
     "level": 3,
     "metadata": {},
     "source": [
      "Lire la documentation"
     ]
    },
    {
     "cell_type": "markdown",
     "metadata": {},
     "source": [
      "M\u00eame apr\u00e8s des ann\u00e9es de pratique, il est difficile de se souvenir de toutes les m\u00e9thodes travaillant sur les cha\u00eenes de caract\u00e8res. Aussi il est toujours utile de recourir \u00e0 la documentation embarqu\u00e9e:"
     ]
    },
    {
     "cell_type": "code",
     "collapsed": false,
     "input": [
      "help(str)"
     ],
     "language": "python",
     "metadata": {},
     "outputs": []
    },
    {
     "cell_type": "markdown",
     "metadata": {},
     "source": [
      "Nous allons tenter ici de citer les m\u00e9thodes les plus utilis\u00e9es; nous n'avons le temps que de les utiliser de mani\u00e8re tr\u00e8s simple, mais bien souvent il est possible de passer en param\u00e8tre des options permettant de ne travailler que sur une sous-cha\u00eene, ou sur la premi\u00e8re ou derni\u00e8re occurrence d'une sous-cha\u00eene; nous vous renvoyons \u00e0 la documentation pour obtenir toutes les pr\u00e9cisions utiles."
     ]
    },
    {
     "cell_type": "heading",
     "level": 3,
     "metadata": {},
     "source": [
      "D\u00e9coupage - assemblage : `split` et `join`"
     ]
    },
    {
     "cell_type": "markdown",
     "metadata": {},
     "source": [
      "On l'a vu dans la vid\u00e9o, la paire `split` et `join` permet de d\u00e9couper une chaine selon un s\u00e9parateur pour obtenir une liste, et \u00e0 l'inverse de reconstruire une cha\u00eene \u00e0 partir d'une liste."
     ]
    },
    {
     "cell_type": "markdown",
     "metadata": {},
     "source": [
      "`split` permet donc de d\u00e9couper:"
     ]
    },
    {
     "cell_type": "code",
     "collapsed": false,
     "input": [
      "'abc=:=def=:=ghi=:=jkl'.split('=:=')"
     ],
     "language": "python",
     "metadata": {},
     "outputs": []
    },
    {
     "cell_type": "markdown",
     "metadata": {},
     "source": [
      "Et \u00e0 l'inverse"
     ]
    },
    {
     "cell_type": "code",
     "collapsed": false,
     "input": [
      "\"=:=\".join(['abc', 'def', 'ghi', 'jkl'])"
     ],
     "language": "python",
     "metadata": {},
     "outputs": []
    },
    {
     "cell_type": "markdown",
     "metadata": {},
     "source": [
      "Attention toutefois si le s\u00e9parateur est un terminateur, la liste r\u00e9sultat contient alors une derni\u00e8re cha\u00eene vide."
     ]
    },
    {
     "cell_type": "code",
     "collapsed": false,
     "input": [
      "'abc;def;ghi;jkl;'.split(';')"
     ],
     "language": "python",
     "metadata": {},
     "outputs": []
    },
    {
     "cell_type": "markdown",
     "metadata": {},
     "source": [
      "Qui s'inverse correctement cependant"
     ]
    },
    {
     "cell_type": "code",
     "collapsed": false,
     "input": [
      "\";\".join(['abc', 'def', 'ghi', 'jkl', ''])"
     ],
     "language": "python",
     "metadata": {},
     "outputs": []
    },
    {
     "cell_type": "heading",
     "level": 3,
     "metadata": {},
     "source": [
      "Remplacements : `replace`"
     ]
    },
    {
     "cell_type": "markdown",
     "metadata": {},
     "source": [
      "`replace` est tr\u00e8s pratique pour remplacer une sous-cha\u00eene par une autre, avec une limite \u00e9ventuelle sur le nombre de remplacements"
     ]
    },
    {
     "cell_type": "code",
     "collapsed": false,
     "input": [
      "\"abcdefabcdefabcdef\".replace(\"abc\",\"zoo\")"
     ],
     "language": "python",
     "metadata": {},
     "outputs": []
    },
    {
     "cell_type": "code",
     "collapsed": false,
     "input": [
      "\"abcdefabcdefabcdef\".replace(\"abc\",\"zoo\",2)"
     ],
     "language": "python",
     "metadata": {},
     "outputs": []
    },
    {
     "cell_type": "markdown",
     "metadata": {},
     "source": [
      "Plusieurs appels \u00e0 `replace` peuvent \u00eatre cha\u00een\u00e9s comme ceci"
     ]
    },
    {
     "cell_type": "code",
     "collapsed": false,
     "input": [
      "\"les [x] qui disent [y]\".replace(\"[x]\",\"chevaliers\").replace(\"[y]\",\"Ni\")"
     ],
     "language": "python",
     "metadata": {},
     "outputs": []
    },
    {
     "cell_type": "heading",
     "level": 3,
     "metadata": {},
     "source": [
      "Nettoyage : `strip`"
     ]
    },
    {
     "cell_type": "markdown",
     "metadata": {},
     "source": [
      "On pourrait par exemple utiliser replace pour enlever les espaces dans une chaine, ce qui peut \u00eatre utile pour \"nettoyer\" comme ceci"
     ]
    },
    {
     "cell_type": "code",
     "collapsed": false,
     "input": [
      "\" abc:def:ghi \".replace(\" \",\"\")"
     ],
     "language": "python",
     "metadata": {},
     "outputs": []
    },
    {
     "cell_type": "markdown",
     "metadata": {},
     "source": [
      "Toutefois bien souvent on pr\u00e9f\u00e8re utiliser `strip` qui ne s'occupe que du d\u00e9but et de la fin de la cha\u00eene, et g\u00e8re aussi les tabulations et autres retour \u00e0 la ligne"
     ]
    },
    {
     "cell_type": "code",
     "collapsed": false,
     "input": [
      "\" une chaine avec des truc qui depassent \\n\".strip()"
     ],
     "language": "python",
     "metadata": {},
     "outputs": []
    },
    {
     "cell_type": "heading",
     "level": 3,
     "metadata": {},
     "source": [
      "Rechercher une sous-cha\u00eene"
     ]
    },
    {
     "cell_type": "markdown",
     "metadata": {},
     "source": [
      "Plusieurs outils permettent de chercher une sous-cha\u00eene. Le plus simple est `find` qui renvoie le plus petit index o\u00f9 on trouve la sous-cha\u00eene"
     ]
    },
    {
     "cell_type": "code",
     "collapsed": false,
     "input": [
      "\"abcdefcdefghefghijk\".find(\"def\")"
     ],
     "language": "python",
     "metadata": {},
     "outputs": []
    },
    {
     "cell_type": "code",
     "collapsed": false,
     "input": [
      "\"abcdefcdefghefghijk\".find(\"zoo\")"
     ],
     "language": "python",
     "metadata": {},
     "outputs": []
    },
    {
     "cell_type": "markdown",
     "metadata": {},
     "source": [
      "`rfind` fonctionne comme `find` mais en partant de la fin de la cha\u00eene"
     ]
    },
    {
     "cell_type": "code",
     "collapsed": false,
     "input": [
      "\"abcdefcdefghefghijk\".rfind(\"fg\")"
     ],
     "language": "python",
     "metadata": {},
     "outputs": []
    },
    {
     "cell_type": "markdown",
     "metadata": {},
     "source": [
      "La m\u00e9thode `index` se comporte comme `find` mais en cas d'absence elle l\u00e8ve une exception (nous verrons ce concept plus tard) plut\u00f4t que de renvoyer -1"
     ]
    },
    {
     "cell_type": "code",
     "collapsed": false,
     "input": [
      "\"abcdefcdefghefghijk\".index(\"def\")"
     ],
     "language": "python",
     "metadata": {},
     "outputs": []
    },
    {
     "cell_type": "markdown",
     "metadata": {},
     "source": [
      "La m\u00e9thode `count` compte le nombre d'occurrences d'une sous-cha\u00eene"
     ]
    },
    {
     "cell_type": "code",
     "collapsed": false,
     "input": [
      "\"abcdefcdefghefghijk\".count(\"ef\")"
     ],
     "language": "python",
     "metadata": {},
     "outputs": []
    },
    {
     "cell_type": "markdown",
     "metadata": {},
     "source": [
      "Signalons enfin les m\u00e9thodes de commodit\u00e9 suivantes"
     ]
    },
    {
     "cell_type": "code",
     "collapsed": false,
     "input": [
      "\"abcdefcdefghefghijk\".startswith(\"abcd\")"
     ],
     "language": "python",
     "metadata": {},
     "outputs": []
    },
    {
     "cell_type": "code",
     "collapsed": false,
     "input": [
      "\"abcdefcdefghefghijk\".endswith(\"ghijk\")"
     ],
     "language": "python",
     "metadata": {},
     "outputs": []
    },
    {
     "cell_type": "markdown",
     "metadata": {},
     "source": [
      "S'agissant des deux derni\u00e8res, remarquons que "
     ]
    },
    {
     "cell_type": "markdown",
     "metadata": {},
     "source": [
      "chaine.startswith (sous_chaine) $\\Longleftrightarrow$ chaine.find(sous_chaine) == 0\n",
      "\n",
      "chaine.endswith (sous_chaine) $\\Longleftrightarrow$ chaine.rfind(sous_chaine) == (len(chaine)-len(sous_chaine))"
     ]
    },
    {
     "cell_type": "heading",
     "level": 3,
     "metadata": {},
     "source": [
      "Capitalisation"
     ]
    },
    {
     "cell_type": "markdown",
     "metadata": {},
     "source": [
      "Voici pour conclure quelques m\u00e9thodes utiles qui parlent d'elles-m\u00eames"
     ]
    },
    {
     "cell_type": "code",
     "collapsed": false,
     "input": [
      "\"monty PYTHON\".upper()"
     ],
     "language": "python",
     "metadata": {},
     "outputs": []
    },
    {
     "cell_type": "code",
     "collapsed": false,
     "input": [
      "\"monty PYTHON\".lower()"
     ],
     "language": "python",
     "metadata": {},
     "outputs": []
    },
    {
     "cell_type": "code",
     "collapsed": false,
     "input": [
      "\"monty PYTHON\".swapcase()"
     ],
     "language": "python",
     "metadata": {},
     "outputs": []
    },
    {
     "cell_type": "code",
     "collapsed": false,
     "input": [
      "\"monty PYTHON\".capitalize()"
     ],
     "language": "python",
     "metadata": {},
     "outputs": []
    },
    {
     "cell_type": "code",
     "collapsed": false,
     "input": [
      "\"monty PYTHON\".title()"
     ],
     "language": "python",
     "metadata": {},
     "outputs": []
    },
    {
     "cell_type": "heading",
     "level": 3,
     "metadata": {},
     "source": [
      "Pour en savoir plus"
     ]
    },
    {
     "cell_type": "markdown",
     "metadata": {},
     "source": [
      "Tous ces outils sont [document\u00e9s en d\u00e9tail ici (en anglais)](https://docs.python.org/2/library/stdtypes.html#string-methods)"
     ]
    },
    {
     "cell_type": "heading",
     "level": 3,
     "metadata": {},
     "source": [
      "Expressions r\u00e9guli\u00e8res"
     ]
    },
    {
     "cell_type": "markdown",
     "metadata": {},
     "source": [
      "Signalons enfin que python propose \u00e9galement un module d'expressions r\u00e9guli\u00e8res, qui permettent de faire des calculs beaucoup plus \u00e9labor\u00e9s. Cette technique bien connue a \u00e9t\u00e9 rendue populaire historiquement au travers notamment du langage Perl.\n",
      "\n",
      "Cette technique est tr\u00e8s puissante, et permet d'aborder des cas qui vont bien au-del\u00e0 de ce qui est pr\u00e9sent\u00e9 ici, pour reconna\u00eetre les cha\u00eenes qui ob\u00e9issent \u00e0 des r\u00e8gles lexicales pr\u00e9cises. \u00c9tant d'une utilisation tr\u00e8s sp\u00e9cifique, nous avons choisi d'aborder ce sujet en derni\u00e8re semaine lors de la session consacr\u00e9e aux sujets avanc\u00e9s."
     ]
    }
   ],
   "metadata": {}
  }
 ]
}