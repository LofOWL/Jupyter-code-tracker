{
 "metadata": {
  "kernelspec": {
   "display_name": "Python 2",
   "language": "python",
   "name": "python2"
  },
  "notebookname": "\u00c9valuation des tests",
  "signature": "sha256:9c6dd757c9973f54d4e34d1adcfdb11c735bb53e1f3507cdc7732245d65175cc",
  "version": "2.0"
 },
 "nbformat": 3,
 "nbformat_minor": 0,
 "worksheets": [
  {
   "cells": [
    {
     "cell_type": "markdown",
     "metadata": {},
     "source": [
      "<span style=\"float:left;\">Licence CC BY-NC-ND</span><span style=\"float:right;\">Thierry Parmentelat &amp; Arnaud Legout,<img src=\"media/inria-25.png\" style=\"display:inline\"></span><br/>"
     ]
    },
    {
     "cell_type": "heading",
     "level": 1,
     "metadata": {},
     "source": [
      "\u00c9valuation des tests"
     ]
    },
    {
     "cell_type": "heading",
     "level": 2,
     "metadata": {},
     "source": [
      "Compl\u00e9ment - niveau basique"
     ]
    },
    {
     "cell_type": "markdown",
     "metadata": {},
     "source": [
      "On a vu dans la vid\u00e9o que l'instruction conditionnelle `if` permet d'impl\u00e9menter simplement des branchements \u00e0 plusieurs choix, comme dans cet exemple:"
     ]
    },
    {
     "cell_type": "code",
     "collapsed": false,
     "input": [
      "s = 'berlin'\n",
      "if 'a' in s:\n",
      "    print 'avec a'\n",
      "elif 'b' in s:\n",
      "    print 'avec b'\n",
      "elif 'c' in s:\n",
      "    print 'avec c'\n",
      "else:\n",
      "    print 'sans a ni b ni c'"
     ],
     "language": "python",
     "metadata": {},
     "outputs": []
    },
    {
     "cell_type": "markdown",
     "metadata": {},
     "source": [
      "Comme on s'en doute, les expressions conditionnelles **sont \u00e9valu\u00e9es jusqu'\u00e0 obtenir un r\u00e9sultat vrai** - ou consid\u00e9r\u00e9 comme vrai -, et le bloc correspondant est alors ex\u00e9cut\u00e9. Le point important ici est qu'**une fois qu'on a obtenu un r\u00e9sultat vrai**, on sort de l'expression conditionnelle **sans \u00e9valuer les autres conditions**."
     ]
    },
    {
     "cell_type": "markdown",
     "metadata": {},
     "source": [
      "Dans notre exemple, on aura \u00e9valu\u00e9 \u00e0 la sortie `'a' in s`, et aussi `'b' in s`, mais pas `'c' in s`"
     ]
    },
    {
     "cell_type": "markdown",
     "metadata": {},
     "source": [
      "****"
     ]
    },
    {
     "cell_type": "markdown",
     "metadata": {},
     "source": [
      "Dans notre exemple, les conditions elles-m\u00eames ne sont pas *actives*. On veut dire par l\u00e0: la valeur de `s` reste *identique*, que l'on *\u00e9value ou non* les diff\u00e9rentes conditions.\n",
      "\n",
      "Mais nous allons voir ci-dessous qu'il est relativement facile d'\u00e9crire des conditions qui **modifient** les objets mutables sur lesquelles elles op\u00e8rent. On dit dans ce cas qu'elles font un **effet de bord**; et c'est pourquoi il est important de bien assimiler la r\u00e8gle des \u00e9valuations des expressions dans un `if`. "
     ]
    },
    {
     "cell_type": "heading",
     "level": 2,
     "metadata": {},
     "source": [
      "Compl\u00e9ment - niveau interm\u00e9diaire"
     ]
    },
    {
     "cell_type": "heading",
     "level": 3,
     "metadata": {},
     "source": [
      "Rappel sur la m\u00e9thode `pop`\n"
     ]
    },
    {
     "cell_type": "markdown",
     "metadata": {},
     "source": [
      "Pour illustrer la notions d'**effet de bord**, nous revenons sur la m\u00e9thode de liste `pop()` qui, on le rappelle, renvoie un \u00e9l\u00e9ment de liste **apr\u00e8s l'avoir effac\u00e9** de la liste. "
     ]
    },
    {
     "cell_type": "code",
     "collapsed": false,
     "input": [
      "# on se donne une liste\n",
      "liste = ['premier', 'deuxieme', 'troisieme']\n",
      "print \"liste\", liste"
     ],
     "language": "python",
     "metadata": {},
     "outputs": []
    },
    {
     "cell_type": "code",
     "collapsed": false,
     "input": [
      "# pop(0) renvoie le premier element de la liste, et raccourcit la liste\n",
      "element = liste.pop(0)\n",
      "print \"apr\u00e8s pop(0):\", \"\u00e9l\u00e9ment=\", element, \"et liste=\", liste"
     ],
     "language": "python",
     "metadata": {},
     "outputs": []
    },
    {
     "cell_type": "code",
     "collapsed": false,
     "input": [
      "# et ainsi de suite\n",
      "element = liste.pop(0)\n",
      "print \"apr\u00e8s pop(0):\", \"\u00e9l\u00e9ment=\", element, \"et liste=\", liste"
     ],
     "language": "python",
     "metadata": {},
     "outputs": []
    },
    {
     "cell_type": "heading",
     "level": 3,
     "metadata": {},
     "source": [
      "Conditions avec effet de bord"
     ]
    },
    {
     "cell_type": "markdown",
     "metadata": {},
     "source": [
      "Une fois ce rappel fait, voyons maintenant l'exemple suivant:"
     ]
    },
    {
     "cell_type": "code",
     "collapsed": false,
     "input": [
      "liste = range(5)\n",
      "print 'liste en entree:', liste, 'de taille', len(liste)\n",
      "if liste.pop(0) <= 0:\n",
      "    print 'cas 1'\n",
      "elif liste.pop(0) <= 1:\n",
      "    print 'cas 2'\n",
      "elif liste.pop(0) <= 2:\n",
      "    print 'cas 3'\n",
      "else:\n",
      "    print 'cas 4'\n",
      "print 'liste en sortie de taille', len(liste)"
     ],
     "language": "python",
     "metadata": {},
     "outputs": []
    },
    {
     "cell_type": "markdown",
     "metadata": {},
     "source": [
      "Avec cette entr\u00e9e, le premier test est positif (car `pop(0)` renvoie 0), aussi on n'ex\u00e9cute en tout `pop()` qu'**une seule fois**, et donc \u00e0 la sortie la liste n'a \u00e9t\u00e9 raccourcie que d'un \u00e9l\u00e9ment.\n",
      "\n",
      "Ex\u00e9cutons \u00e0 pr\u00e9sent le m\u00eame code avec une entr\u00e9e diff\u00e9rente (vivement les fonctions !)"
     ]
    },
    {
     "cell_type": "code",
     "collapsed": false,
     "input": [
      "liste = range(5, 10)\n",
      "print 'en entree: liste=', liste, 'de taille', len(liste)\n",
      "if liste.pop(0) <= 0:\n",
      "    print 'cas 1'\n",
      "elif liste.pop(0) <= 1:\n",
      "    print 'cas 2'\n",
      "elif liste.pop(0) <= 2:\n",
      "    print 'cas 3'\n",
      "else:\n",
      "    print 'cas 4'\n",
      "print 'en sortie: liste=', liste, 'de taille', len(liste)"
     ],
     "language": "python",
     "metadata": {},
     "outputs": []
    },
    {
     "cell_type": "markdown",
     "metadata": {},
     "source": [
      "On observe que cette fois la liste a \u00e9t\u00e9 **raccourcie 3 fois**, car les trois tests se sont r\u00e9v\u00e9l\u00e9s n\u00e9gatifs."
     ]
    },
    {
     "cell_type": "markdown",
     "metadata": {},
     "source": [
      "Cet exemple vous montre qu'il faut \u00eatre attentif avec des conditions qui font des effets de bord. Bien entendu, ce type de pratique est de mani\u00e8re g\u00e9n\u00e9rale **vivement d\u00e9conseill\u00e9**."
     ]
    },
    {
     "cell_type": "heading",
     "level": 3,
     "metadata": {},
     "source": [
      "*Short-circuit*"
     ]
    },
    {
     "cell_type": "markdown",
     "metadata": {},
     "source": [
      "La logique que l'on vient de voir s'applique aux diff\u00e9rentes branches d'un `if`. \n",
      "\n",
      "En fait, c'est la m\u00eame logique qui est \u00e0 l'\u0153uvre aussi lorsque python \u00e9value une condition logique \u00e0 base de `and` et `or`."
     ]
    },
    {
     "cell_type": "markdown",
     "metadata": {},
     "source": [
      "Pour illustrer ceci, nous allons nous d\u00e9finir deux fonctions toutes simples qui renvoient `True` et `False` mais avec une impression de sorte qu'on voit lorsqu'elles sont ex\u00e9cut\u00e9es&nbsp;:"
     ]
    },
    {
     "cell_type": "code",
     "collapsed": false,
     "input": [
      "def true():\n",
      "    print 'true'\n",
      "    return True\n",
      "def false():\n",
      "    print 'false'\n",
      "    return False"
     ],
     "language": "python",
     "metadata": {},
     "outputs": []
    },
    {
     "cell_type": "code",
     "collapsed": false,
     "input": [
      "true()"
     ],
     "language": "python",
     "metadata": {},
     "outputs": []
    },
    {
     "cell_type": "markdown",
     "metadata": {},
     "source": [
      "Ceci va nous permettre d'illustrer notre point, qui est que lorsque python \u00e9value un `and` ou un `or`, il **n'\u00e9value la deuxi\u00e8me condition que si c'est n\u00e9cessaire**. Ainsi par exemple&nbsp;: "
     ]
    },
    {
     "cell_type": "code",
     "collapsed": false,
     "input": [
      "false() and true()"
     ],
     "language": "python",
     "metadata": {},
     "outputs": []
    },
    {
     "cell_type": "markdown",
     "metadata": {},
     "source": [
      "Dans ce cas, python \u00e9value la premi\u00e8re partie du `and` - qui provoque l'impression de `false` - et comme le r\u00e9sultat est faux, il n'est **pas n\u00e9cessaire** d'\u00e9valuer la seconde condition, on sait que de toute fa\u00e7on le r\u00e9sultat du `and` est forc\u00e9ment faux. C'est pourquoi vous ne voyez pas l'impression de `true`."
     ]
    },
    {
     "cell_type": "markdown",
     "metadata": {},
     "source": [
      "De mani\u00e8re sym\u00e9trique avec un `or`&nbsp;:"
     ]
    },
    {
     "cell_type": "code",
     "collapsed": false,
     "input": [
      "true() or false()"
     ],
     "language": "python",
     "metadata": {},
     "outputs": []
    },
    {
     "cell_type": "markdown",
     "metadata": {},
     "source": [
      "\u00c0 nouveau ici il n'est pas n\u00e9cessaire d'\u00e9valuer `false()`, et donc seul `true` est imprim\u00e9 \u00e0 l'\u00e9valuation."
     ]
    },
    {
     "cell_type": "markdown",
     "metadata": {},
     "source": [
      "\u00c0 titre d'exercice, essayez de dire combien d'impressions sont \u00e9mises lorsqu'on \u00e9value cette expression un peu plus compliqu\u00e9e&nbsp;:"
     ]
    },
    {
     "cell_type": "code",
     "collapsed": false,
     "input": [
      "true() and (false() or true()) or (true () and false())"
     ],
     "language": "python",
     "metadata": {},
     "outputs": []
    }
   ],
   "metadata": {}
  }
 ]
}