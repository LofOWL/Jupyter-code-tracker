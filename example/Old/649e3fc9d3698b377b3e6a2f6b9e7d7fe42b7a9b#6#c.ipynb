{
 "metadata": {
  "notebookname": "L'op\u00e9rateur `is`",
  "signature": "24b54ec7bb779e55826b5a4ff44de165a804f57520f675a65c158040accdc2b3",
  "version": "1.0"
 },
 "nbformat": 3,
 "nbformat_minor": 0,
 "worksheets": [
  {
   "cells": [
    {
     "cell_type": "heading",
     "level": 1,
     "metadata": {},
     "source": [
      "L'op\u00e9rateur `is`"
     ]
    },
    {
     "cell_type": "heading",
     "level": 2,
     "metadata": {},
     "source": [
      "Compl\u00e9ment - niveau basique"
     ]
    },
    {
     "cell_type": "heading",
     "level": 3,
     "metadata": {},
     "source": [
      "Les op\u00e9rateurs `is` et `==`"
     ]
    },
    {
     "cell_type": "markdown",
     "metadata": {},
     "source": [
      "Nous avons d\u00e9j\u00e0 parl\u00e9 de l'op\u00e9rateur `==` qui compare la valeur de deux objets.\n",
      "\n",
      "Python fournit aussi un op\u00e9rateur `is` qui permet de savoir si deux valeurs correspondent au m\u00eame objet en m\u00e9moire.\n",
      "\n",
      "Nous allons illustrer la diff\u00e9rence entre ces deux op\u00e9rateurs."
     ]
    },
    {
     "cell_type": "markdown",
     "metadata": {},
     "source": [
      "Pour bien comprendre cette diff\u00e9rence, il faut se souvenir que\n",
      "\n",
      " * `==` compare **la valeur** des deux objets, alors que\n",
      " * `is` v\u00e9rifi\u00e9 si les deux valeurs correspondent **au m\u00eame objet**\n",
      "\n",
      "Voyons ceci sur quelques exemples simples"
     ]
    },
    {
     "cell_type": "code",
     "collapsed": false,
     "input": [
      "# deux listes identiques\n",
      "a = [1, 2]\n",
      "b = [1, 2]\n",
      "print '==', a == b\n",
      "print 'is', a is b"
     ],
     "language": "python",
     "metadata": {},
     "outputs": []
    },
    {
     "cell_type": "code",
     "collapsed": false,
     "input": [
      "# la m\u00eame liste\n",
      "a = [1, 2]\n",
      "b = a\n",
      "print '==', a == b\n",
      "print 'is', a is b"
     ],
     "language": "python",
     "metadata": {},
     "outputs": []
    },
    {
     "cell_type": "heading",
     "level": 3,
     "metadata": {},
     "source": [
      "Utilisez `is` plut\u00f4t que `==` lorsque c'est possible"
     ]
    },
    {
     "cell_type": "markdown",
     "metadata": {},
     "source": [
      "La pratique usuelle est d'utiliser `is` lorsqu'on compare avec des objets comme typiquement `None`, c'est-\u00e0-dire qu'on pr\u00e9f\u00e8re \u00e9crire"
     ]
    },
    {
     "cell_type": "code",
     "collapsed": false,
     "input": [
      "if a is None:\n",
      "    print 'a est ind\u00e9fini'"
     ],
     "language": "python",
     "metadata": {},
     "outputs": []
    },
    {
     "cell_type": "markdown",
     "metadata": {},
     "source": [
      "plut\u00f4t que"
     ]
    },
    {
     "cell_type": "code",
     "collapsed": false,
     "input": [
      "if a == None:\n",
      "    print 'a est ind\u00e9fini'"
     ],
     "language": "python",
     "metadata": {},
     "outputs": []
    },
    {
     "cell_type": "markdown",
     "metadata": {},
     "source": [
      "qui se comporte de la m\u00eame mani\u00e8re, mais est l\u00e9g\u00e8rement moins lisible, et franchement moins pythonique :)"
     ]
    },
    {
     "cell_type": "markdown",
     "metadata": {},
     "source": [
      "Notez aussi et surtout que `is` est **beaucoup plus efficace** que `==`. En effet `is` peut \u00eatre \u00e9valu\u00e9 en temps constant, puisqu'il s'agit essentiellement de comparer les deux adresses. Alors que pour `==` il peut s'agir de parcourir toute un structure de donn\u00e9es possiblement tr\u00e8s complexe.  "
     ]
    },
    {
     "cell_type": "heading",
     "level": 2,
     "metadata": {},
     "source": [
      "Compl\u00e9ment - niveau interm\u00e9diaire"
     ]
    },
    {
     "cell_type": "heading",
     "level": 3,
     "metadata": {},
     "source": [
      "La fonction `id`"
     ]
    },
    {
     "cell_type": "markdown",
     "metadata": {},
     "source": [
      "Pour bien comprendre le fonctionnement de `is` nous allons voir la fonction `id` qui retourne un identificateur unique pour chaque objet; un mod\u00e8le mental acceptable est celui d'adresse m\u00e9moire. "
     ]
    },
    {
     "cell_type": "code",
     "collapsed": false,
     "input": [
      "id(True)"
     ],
     "language": "python",
     "metadata": {},
     "outputs": []
    },
    {
     "cell_type": "markdown",
     "metadata": {},
     "source": [
      "Comme vous vous en doutez, l'op\u00e9rateur `is` peut \u00eatre d\u00e9crit formellement \u00e0 partir de `id` comme ceci\n",
      "\n",
      "(`a is b`) $\\Longleftrightarrow$ (`id(a) == id(b)`)\n"
     ]
    },
    {
     "cell_type": "heading",
     "level": 3,
     "metadata": {},
     "source": [
      "Certains types de base sont des singletons"
     ]
    },
    {
     "cell_type": "markdown",
     "metadata": {},
     "source": [
      "Un singleton est un objet qui n'existe qu'en un seul exemplaire dans la m\u00e9moire. Un usage classique des singletons en python est de minimiser le nombre d'objets immuables en m\u00e9moire. Voyons ce que cela nous donne avec des entiers "
     ]
    },
    {
     "cell_type": "code",
     "collapsed": false,
     "input": [
      "a = 3\n",
      "b = 3\n",
      "print 'a', id(a), 'b', id(b)"
     ],
     "language": "python",
     "metadata": {},
     "outputs": []
    },
    {
     "cell_type": "markdown",
     "metadata": {},
     "source": [
      "Tiens, c'est curieux, nous avons ici deux objets, que l'on pourrait penser diff\u00e9rents, mais en fait ce sont les m\u00eames; `a` et `b` d\u00e9signent le m\u00eame objet python, et on a"
     ]
    },
    {
     "cell_type": "code",
     "collapsed": false,
     "input": [
      "a is b"
     ],
     "language": "python",
     "metadata": {},
     "outputs": []
    },
    {
     "cell_type": "markdown",
     "metadata": {},
     "source": [
      "Il se trouve que, dans le cas des petits entiers, python r\u00e9alise une optimisation de l'utilisation de la m\u00e9moire. Quel que soit le nombre de variables dont la valeur est `3`, un seul objet correspondant \u00e0 l'entier `3` est allou\u00e9 et cr\u00e9\u00e9, pour \u00e9viter d'engorger la m\u00e9moire. On dit que l'entier `3` est impl\u00e9ment\u00e9 comme un singleton; nous reverrons ceci en exercice."
     ]
    },
    {
     "cell_type": "markdown",
     "metadata": {},
     "source": [
      "On trouve cette optimisation avec quelques autres objets python, comme par exemple"
     ]
    },
    {
     "cell_type": "code",
     "collapsed": false,
     "input": [
      "a = \"\"\n",
      "b = \"\"\n",
      "a is b"
     ],
     "language": "python",
     "metadata": {},
     "outputs": []
    },
    {
     "cell_type": "markdown",
     "metadata": {},
     "source": [
      "Ou encore, plus surprenant:"
     ]
    },
    {
     "cell_type": "code",
     "collapsed": false,
     "input": [
      "a = \"foo\"\n",
      "b = \"foo\"\n",
      "a is b"
     ],
     "language": "python",
     "metadata": {},
     "outputs": []
    },
    {
     "cell_type": "markdown",
     "metadata": {},
     "source": [
      "**Conclusion** cette optimisation ne touche aucun type mutable (heureusement); pour les types immuables, il n'est pas extr\u00eamement important de savoir en d\u00e9tail quels objets sont impl\u00e9ment\u00e9s de la sorte. \n",
      "\n",
      "Ce qui est par contre extr\u00eamement important est de comprendre la diff\u00e9rence entre `is` et `==`, et de les utiliser \u00e0 bon escient au risque d'\u00e9crire du code fragile."
     ]
    },
    {
     "cell_type": "heading",
     "level": 3,
     "metadata": {},
     "source": [
      "Pour en savoir plus"
     ]
    },
    {
     "cell_type": "markdown",
     "metadata": {},
     "source": [
      "Aux \u00e9tudiants de niveau avanc\u00e9, nous recommandons la lecture de la section \"Objects, values and types\" dans la documentation python\n",
      "\n",
      "https://docs.python.org/2/reference/datamodel.html#objects-values-and-types\n",
      "\n",
      "qui aborde \u00e9galement la notion de \"garbage collection\", que nous n'aurons pas le temps de traiter dans ce MOOC.\n"
     ]
    }
   ],
   "metadata": {}
  }
 ]
}