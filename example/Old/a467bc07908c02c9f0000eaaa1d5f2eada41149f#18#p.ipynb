{
 "metadata": {
  "name": "",
  "signature": "sha256:d1232de55737458b45dbd7fd4509ae6699d5fa2ed76e3706fc277a30dc59a273"
 },
 "nbformat": 3,
 "nbformat_minor": 0,
 "worksheets": [
  {
   "cells": [
    {
     "cell_type": "heading",
     "level": 1,
     "metadata": {},
     "source": [
      "L'op\u00e9rateur `is` et la fonction `id`"
     ]
    },
    {
     "cell_type": "heading",
     "level": 2,
     "metadata": {},
     "source": [
      "Compl\u00e9ment - niveau interm\u00e9diaire"
     ]
    },
    {
     "cell_type": "markdown",
     "metadata": {},
     "source": [
      "Python fournit un op\u00e9rateur `is` qui permet de savoir si deux valeurs correspondent au m\u00eame objet en m\u00e9moire.\n",
      "\n",
      "Attention, il ne s'agit pas d'un test de comparaison habituel, comme le fait l'op\u00e9rateur `==` que nous avons d\u00e9j\u00e0 rencontr\u00e9, mais r\u00e9ellement de savoir si les deux valeurs correspondent \u00e0 la m\u00eame instance. \n",
      "\n",
      "Pour bien comprendre le fonctionnement de `is` nous allons voir la fonction `id` qui retourne l'identificateur unique d'un objet (un mod\u00e8le mental acceptable est celui d'adresse m\u00e9moire)."
     ]
    },
    {
     "cell_type": "code",
     "collapsed": false,
     "input": [
      "id(True)"
     ],
     "language": "python",
     "metadata": {},
     "outputs": []
    },
    {
     "cell_type": "markdown",
     "metadata": {},
     "source": [
      "Voyons maintenant ce que cela nous donne avec des objets un peu moins banals"
     ]
    },
    {
     "cell_type": "code",
     "collapsed": false,
     "input": [
      "a = (1,)\n",
      "b = (1,)\n",
      "a == b"
     ],
     "language": "python",
     "metadata": {},
     "outputs": []
    },
    {
     "cell_type": "markdown",
     "metadata": {},
     "source": [
      "Bon, jusqu'ici tout est clair, ces deux tuples sont bien \"\u00e9gaux\" au sens courant; voyons ce que nous renvoie `id` sur ces deux objets"
     ]
    },
    {
     "cell_type": "code",
     "collapsed": false,
     "input": [
      "print 'id(a)=',id(a),'id(b)=',id(b)"
     ],
     "language": "python",
     "metadata": {},
     "outputs": []
    },
    {
     "cell_type": "markdown",
     "metadata": {},
     "source": [
      "Ces deux objets sont donc install\u00e9s \u00e0 des endroits diff\u00e9rents de la m\u00e9moire.\n",
      "\n",
      "Comme l'op\u00e9rateur `is` se contente de comparer la valeur de `id` sur ses deux op\u00e9randes, on observe ici que les deux tuples ne sont pas les m\u00eames objets, et donc"
     ]
    },
    {
     "cell_type": "code",
     "collapsed": false,
     "input": [
      "a is b"
     ],
     "language": "python",
     "metadata": {},
     "outputs": []
    },
    {
     "cell_type": "markdown",
     "metadata": {},
     "source": [
      "Voyons ce que cela nous donne avec des entiers "
     ]
    },
    {
     "cell_type": "code",
     "collapsed": false,
     "input": [
      "a = 3\n",
      "b = 3\n",
      "print 'a',id(a),'b',id(b)"
     ],
     "language": "python",
     "metadata": {},
     "outputs": []
    },
    {
     "cell_type": "markdown",
     "metadata": {},
     "source": [
      "Tiens, c'est curieux, nous avons ici deux objets, que l'on pourrait penser diff\u00e9rents, mais en fait ce sont les m\u00eames; `a` et `b` d\u00e9signent le m\u00eame objet python, et on a"
     ]
    },
    {
     "cell_type": "code",
     "collapsed": false,
     "input": [
      "a is b"
     ],
     "language": "python",
     "metadata": {},
     "outputs": []
    },
    {
     "cell_type": "markdown",
     "metadata": {},
     "source": [
      "Il se trouve que, dans le cas des petits entiers, python r\u00e9alise une optimisation de l'utilisation de la m\u00e9moire. Quel que soit le nombre de variables dont la valeur est `3`, un seul objet correspondant \u00e0 l'entier `3` est allou\u00e9 et cr\u00e9\u00e9, pour \u00e9viter d'engorger la m\u00e9moire. On dit que l'entier `3` est impl\u00e9ment\u00e9 comme un singleton; nous reverrons ceci en exercice."
     ]
    },
    {
     "cell_type": "markdown",
     "metadata": {},
     "source": [
      "On trouve cette optimisation avec quelques autres objets python, comme par exemple"
     ]
    },
    {
     "cell_type": "code",
     "collapsed": false,
     "input": [
      "a = \"\"\n",
      "b = \"\"\n",
      "a is b"
     ],
     "language": "python",
     "metadata": {},
     "outputs": []
    },
    {
     "cell_type": "markdown",
     "metadata": {},
     "source": [
      "Ou encore, plus surprenant:"
     ]
    },
    {
     "cell_type": "code",
     "collapsed": false,
     "input": [
      "a=\"foo\"\n",
      "b=\"foo\"\n",
      "a is b"
     ],
     "language": "python",
     "metadata": {},
     "outputs": []
    },
    {
     "cell_type": "markdown",
     "metadata": {},
     "source": [
      "**Conclusion** cette optimisation ne touche aucun type mutable (heureusement); pour les types immuables, il n'est pas extr\u00eamement important de savoir en d\u00e9tail quels objets sont impl\u00e9ment\u00e9s de la sorte. \n",
      "\n",
      "Ce qui est par contre extr\u00eamement important est de comprendre la diff\u00e9rence entre `is` et `==`, et de les utiliser \u00e0 bon escient au risque d'\u00e9crire du code fragile."
     ]
    }
   ],
   "metadata": {}
  }
 ]
}