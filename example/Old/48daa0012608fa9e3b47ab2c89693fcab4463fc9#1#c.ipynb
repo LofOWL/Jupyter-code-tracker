{
 "metadata": {
  "notebookname": "modules et chemins",
  "signature": "9c4c353ee41d963760f5a1f7a9dddfb5e12207463beb4a559652670a51eb69ac",
  "version": "1.0"
 },
 "nbformat": 3,
 "nbformat_minor": 0,
 "worksheets": [
  {
   "cells": [
    {
     "cell_type": "heading",
     "level": 1,
     "metadata": {},
     "source": [
      "O\u00f9 sont cherch\u00e9s les modules ?"
     ]
    },
    {
     "cell_type": "heading",
     "level": 2,
     "metadata": {},
     "source": [
      "Compl\u00e9ment - niveau basique"
     ]
    },
    {
     "cell_type": "markdown",
     "metadata": {},
     "source": [
      "Pour les d\u00e9butants en informatique, le plus simple est de se souvenir que si vous voulez uniquement charger vos propres modules ou packages, il suffit de les placer dans le r\u00e9pertoire o\u00f9 vous lancez la commande python. Si vous n'\u00eates pas s\u00fbr de cet emplacement vous pouvez le savoir en faisant:"
     ]
    },
    {
     "cell_type": "raw",
     "metadata": {},
     "source": [
      "import os\n",
      "print 'directory courant', os.getcwd()"
     ]
    },
    {
     "cell_type": "heading",
     "level": 2,
     "metadata": {},
     "source": [
      "Compl\u00e9ment - niveau interm\u00e9diaire"
     ]
    },
    {
     "cell_type": "markdown",
     "metadata": {},
     "source": [
      "Dans ce compl\u00e9ment nous allons voir, de mani\u00e8re g\u00e9n\u00e9rale, comment sont localis\u00e9s (sur le disque dur) les modules que vous chargez dans python gr\u00e2ce \u00e0 l'instruction `import`; nous verrons aussi o\u00f9 placer vos propres fichiers pour qu'ils soient accessibles \u00e0 python."
     ]
    },
    {
     "cell_type": "markdown",
     "metadata": {},
     "source": [
      "[Comme expliqu\u00e9 ici](https://docs.python.org/2/tutorial/modules.html#the-module-search-path), lorsque vous importez le module `spam`, python cherche dans cet ordre:\n",
      " * un module *built-in* de nom `spam` - probablement \u00e9crit en C donc\n",
      " * ou sinon un fichier `spam.py` (ou `spam/__init.py__` s'il s'agit d'un package); pour le localiser on utilise la variable `sys.path` (c'est-\u00e0-dire donc l'attribut `path` dans le module `sys`), qui est une liste de r\u00e9pertoires, et qui est initialis\u00e9e avec, dans cet ordre\n",
      "   * le r\u00e9pertoire courant (celui dans lequel est lanc\u00e9 python),\n",
      "   * la variable d'environnement `PYTHONPATH`\n",
      "   * un certain nombre d'emplacements d\u00e9finis au moment de la compilation de python."
     ]
    },
    {
     "cell_type": "markdown",
     "metadata": {},
     "source": [
      "Ainsi sans action particuli\u00e8re de l'utilisateur, python trouve l'int\u00e9gralit\u00e9 de la librarie standard, ainsi que les modules et packages install\u00e9s dans le r\u00e9pertoire courant. "
     ]
    },
    {
     "cell_type": "markdown",
     "metadata": {},
     "source": [
      "Voyons par exemple comment cela se pr\u00e9sente dans l'interpr\u00e9teur des notebooks"
     ]
    },
    {
     "cell_type": "code",
     "collapsed": false,
     "input": [
      "import sys\n",
      "print sys.path"
     ],
     "language": "python",
     "metadata": {},
     "outputs": []
    },
    {
     "cell_type": "markdown",
     "metadata": {},
     "source": [
      "On remarque que le premier \u00e9l\u00e9ment de `sys.path` est la cha\u00eene vide, qui correspond \u00e0 la recherche dans le r\u00e9pertoire courant. Les autres emplacements correspondent \u00e0 tous les emplacements o\u00f9 peuvent s'installer des librairies tierces."
     ]
    },
    {
     "cell_type": "markdown",
     "metadata": {},
     "source": [
      "La [variable d'environnement](http://en.wikipedia.org/wiki/Environment_variable) PYTHONPATH est utilis\u00e9e ici de fa\u00e7on \u00e0 donner la possibilit\u00e9 d'\u00e9tendre ces listes depuis l'ext\u00e9rieur, et sans recompiler l'interpr\u00e9teur, ni modifier les sources. Cette possibilit\u00e9 s'adresse donc \u00e0 l'utilisateur final - ou \u00e0 son administrateur syst\u00e8me - plut\u00f4t qu'au programmeur."
     ]
    },
    {
     "cell_type": "markdown",
     "metadata": {},
     "source": [
      "En tant que programmeur par contre, vous avez la possibilit\u00e9 d'\u00e9tendre `sys.path` avant de faire vos `import`.\n",
      "\n",
      "Imaginons par exemple que vous avez \u00e9crit un petit outil utilitaire qui se compose d'un point d'entr\u00e9e `main.py`, et de plusieurs modules `spam.py` et `eggs.py`. Vous n'avez pas le temps de packager proprement cet outil, vous voudriez pouvoir distribuer un *tar* avec ces trois fichiers python, qui puissent s'installer n'importe o\u00f9 (pourvu qu'ils soient tous les trois au m\u00eame endroit), et que le point d'entr\u00e9e trouve ses deux modules sans que l'utilisateur ait \u00e0 s'en soucier.\n",
      "\n",
      "Imaginons donc ces trois fichiers install\u00e9s sur machine de l'utilisateur dans"
     ]
    },
    {
     "cell_type": "raw",
     "metadata": {},
     "source": [
      "/usr/share/utilitaire/\n",
      "                      main.py\n",
      "                      spam.py\n",
      "                      eggs.py"
     ]
    },
    {
     "cell_type": "markdown",
     "metadata": {},
     "source": [
      "Si vous ne faites rien de particulier, c'est \u00e0 dire que `main.py` contient juste"
     ]
    },
    {
     "cell_type": "raw",
     "metadata": {},
     "source": [
      "import spam, eggs"
     ]
    },
    {
     "cell_type": "markdown",
     "metadata": {},
     "source": [
      "Alors le programme fonctionnera **que s'il est lanc\u00e9 depuis `/usr/share/utilitaire`**, ce qui n'est pas du tout pratique. "
     ]
    },
    {
     "cell_type": "markdown",
     "metadata": {},
     "source": [
      "Pour contourner cela on peut \u00e9crire dans `main.py` quelque chose comme"
     ]
    },
    {
     "cell_type": "raw",
     "metadata": {},
     "source": [
      "# on calcule le directory o\u00f9 est install\u00e9 le point d'entr\u00e9e\n",
      "import os.path\n",
      "directory_installation = os.path.dirname(__file__)\n",
      "\n",
      "# et on l'ajoute au chemin de recherche des modules\n",
      "import sys\n",
      "sys.path.append(directory_installation)\n",
      "\n",
      "# maintenant on peut importer spam et eggs de n'importe o\u00f9\n",
      "import spam, eggs"
     ]
    },
    {
     "cell_type": "heading",
     "level": 3,
     "metadata": {},
     "source": [
      "Distribuer sa propre librairie avec `distutils`"
     ]
    },
    {
     "cell_type": "markdown",
     "metadata": {},
     "source": [
      "Notez bien que l'exemple pr\u00e9c\u00e9dent est **uniquement donn\u00e9 \u00e0 titre d'illustration** pour d\u00e9cortiquer la m\u00e9canique d'utilisation de `sys.path`. \n",
      "\n",
      "Ce n'est pas une technique recommand\u00e9e dans le cas g\u00e9n\u00e9ral. On pr\u00e9f\u00e8re en effet de beaucoup diffuser une application python, ou une librarie, sous forme de packaging en utilisant le [module distutils](https://docs.python.org/2/library/distutils.html). Il s'agit d'un outil qui fait partie de la librairie standard, \u00e9crit en python, qui permet au programmeur d'\u00e9crire - dans un fichier qu'on appelle traditionnellement `setup.py` - le contenu de son application; gr\u00e2ce \u00e0 quoi on peut ensuite de mani\u00e8re unifi\u00e9e\n",
      " * installer l'application sur une machine \u00e0 partir des sources\n",
      " * pr\u00e9parer un package de l'application\n",
      " * diffuser le package dans [l'infrastructure PyPI](https://pypi.python.org/pypi)\n",
      " * installer le package depuis PyPI en utilisant [`pip`](http://pip.readthedocs.org/en/latest/installing.html)"
     ]
    }
   ],
   "metadata": {}
  }
 ]
}