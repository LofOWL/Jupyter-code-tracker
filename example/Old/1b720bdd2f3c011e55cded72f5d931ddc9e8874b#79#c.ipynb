{
 "metadata": {
  "kernelspec": {
   "display_name": "Python 2", 
   "language": "python", 
   "name": "python2"
  }, 
  "name": "", 
  "notebookname": "Passage par r\u00e9f\u00e9rence", 
  "version": "2.0"
 }, 
 "nbformat": 2, 
 "nbformat_minor": 0, 
 "orig_nbformat": 4, 
 "orig_nbformat_minor": 0, 
 "worksheets": [
  {
   "cells": [
    {
     "cell_type": "markdown", 
     "metadata": {}, 
     "source": [
      "<span style=\"float:left;\">Licence CC BY-NC-ND</span><span style=\"float:right;\">Thierry Parmentelat &amp; Arnaud Legout&nbsp;<img src=\"media/inria-25.png\" style=\"display:inline\"></span><br/>"
     ]
    }, 
    {
     "cell_type": "markdown", 
     "metadata": {}, 
     "source": [
      "# Passage d'arguments par r\u00e9f\u00e9rence"
     ]
    }, 
    {
     "cell_type": "markdown", 
     "metadata": {}, 
     "source": [
      "## Compl\u00e9ment - niveau interm\u00e9diaire"
     ]
    }, 
    {
     "cell_type": "markdown", 
     "metadata": {}, 
     "source": [
      "Entre le code qui appelle une fonction, et le code de la fonction elle-m\u00eame:"
     ]
    }, 
    {
     "cell_type": "code", 
     "collapsed": false, 
     "input": [
      "def ma_fonction(dans_fonction):", 
      "    print dans_fonction", 
      "    ", 
      "dans_appelant = 12", 
      "ma_fonction(dans_appelant)"
     ], 
     "language": "python", 
     "metadata": {}, 
     "outputs": [], 
     "prompt_number": null
    }, 
    {
     "cell_type": "markdown", 
     "metadata": {}, 
     "source": [
      "on peut se demander quelle est exactement la nature de la relation entre l'appelant et l'appel\u00e9, c'est-\u00e0-dire ici `dans_appelant` et `dans_fonction`. ", 
      "", 
      "C'est l'objet de ce compl\u00e9ment."
     ]
    }, 
    {
     "cell_type": "markdown", 
     "metadata": {}, 
     "source": [
      "### Passage par valeur - passage par r\u00e9f\u00e9rence "
     ]
    }, 
    {
     "cell_type": "markdown", 
     "metadata": {}, 
     "source": [
      "Si vous avez appris d'autres langages de programmation comme C ou C++, on a pu vous parler de deux modes de passage de param\u00e8tres:", 
      " * par valeur: cela signifie qu'on communique \u00e0 la fonction, non pas l'entit\u00e9 dans l'appelant, mais seulement **sa valeur**; en clair, **une copie**;", 
      " * par r\u00e9f\u00e9rence: cela signifie qu'on passe \u00e0 la fonction une **r\u00e9f\u00e9rence** \u00e0 l'argument dans l'appelant, donc essentiellement les deux codes **partagent** la m\u00eame m\u00e9moire."
     ]
    }, 
    {
     "cell_type": "markdown", 
     "metadata": {}, 
     "source": [
      "### python fait du passage par r\u00e9f\u00e9rence"
     ]
    }, 
    {
     "cell_type": "markdown", 
     "metadata": {}, 
     "source": [
      "Certains langages comme Pascal - et C++ si on veut - proposent ces deux modes. En python, tous les passage de param\u00e8tres se font **par r\u00e9f\u00e9rence**.", 
      "", 
      "Ce qui signifie qu'on peut voir le code ci-dessus comme \u00e9tant - pour simplifier - \u00e9quivalent \u00e0 ceci"
     ]
    }, 
    {
     "cell_type": "code", 
     "collapsed": false, 
     "input": [
      "dans_appelant = 12", 
      "# ma_fonction (dans_appelant)", 
      "# -> on entre dans la fonction", 
      "dans_fonction = dans_appelant", 
      "print dans_fonction"
     ], 
     "language": "python", 
     "metadata": {}, 
     "outputs": [], 
     "prompt_number": null
    }, 
    {
     "cell_type": "markdown", 
     "metadata": {}, 
     "source": [
      "On peut le voir en instrumentant le code comme ceci (on rappelle que la fonction built-in `id` retourne l'adresse m\u00e9moire d'un objet)"
     ]
    }, 
    {
     "cell_type": "code", 
     "collapsed": false, 
     "input": [
      "def ma_fonction(dans_fonction):", 
      "    print 'dans ma_fonction', id(dans_fonction)", 
      "    ", 
      "dans_appelant = 12", 
      "print 'dans appelant', dans_appelant, id(dans_appelant)", 
      "ma_fonction(dans_appelant)"
     ], 
     "language": "python", 
     "metadata": {}, 
     "outputs": [], 
     "prompt_number": null
    }, 
    {
     "cell_type": "markdown", 
     "metadata": {}, 
     "source": [
      "### Des r\u00e9f\u00e9rences partag\u00e9es"
     ]
    }, 
    {
     "cell_type": "markdown", 
     "metadata": {}, 
     "source": [
      "Et notamment, tout ce que l'on a vu la semaine pass\u00e9e sur les r\u00e9f\u00e9rences partag\u00e9es s'applique \u00e0 l'identique."
     ]
    }, 
    {
     "cell_type": "code", 
     "collapsed": false, 
     "input": [
      "# on ne peut pas modifier un immuable dans une fonction", 
      "def increment(n):", 
      "    n += 1", 
      "", 
      "compteur = 10", 
      "increment(compteur)", 
      "print compteur"
     ], 
     "language": "python", 
     "metadata": {}, 
     "outputs": [], 
     "prompt_number": null
    }, 
    {
     "cell_type": "code", 
     "collapsed": false, 
     "input": [
      "# on peut par contre ajouter dans une liste", 
      "def insert(liste, valeur):", 
      "    liste.append(valeur)", 
      "    ", 
      "liste = range(3)", 
      "insert(liste, 3)", 
      "print liste"
     ], 
     "language": "python", 
     "metadata": {}, 
     "outputs": [], 
     "prompt_number": null
    }, 
    {
     "cell_type": "markdown", 
     "metadata": {}, 
     "source": [
      "Pour cette raison, il est important de bien pr\u00e9ciser, quand vous documentez une fonction, si elle fait des effets de bord sur ses arguments (c'est-\u00e0-dire qu'elle modifie ses arguments), ou si elle produit une copie. Rappelez-vous par exemple le cas de la m\u00e9thode `sort` sur les listes, et de la fonction de commodit\u00e9 `sorted`, que nous avions vues en semaine 2.", 
      "", 
      "De cette fa\u00e7on, on saura s'il faut ou non copier l'argument avant de le passer \u00e0 votre fonction."
     ]
    }
   ], 
   "metadata": {}
  }
 ]
}
