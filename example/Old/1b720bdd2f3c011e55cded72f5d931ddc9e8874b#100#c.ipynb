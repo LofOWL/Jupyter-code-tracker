{
 "metadata": {
  "kernelspec": {
   "display_name": "Python 2", 
   "language": "python", 
   "name": "python2"
  }, 
  "name": "", 
  "notebookname": "Espaces de nommage", 
  "version": "2.0"
 }, 
 "nbformat": 2, 
 "nbformat_minor": 0, 
 "orig_nbformat": 4, 
 "orig_nbformat_minor": 0, 
 "worksheets": [
  {
   "cells": [
    {
     "cell_type": "markdown", 
     "metadata": {}, 
     "source": [
      "<span style=\"float:left;\">Licence CC BY-NC-ND</span><span style=\"float:right;\">Thierry Parmentelat &amp; Arnaud Legout&nbsp;<img src=\"media/inria-25.png\" style=\"display:inline\"></span><br/>"
     ]
    }, 
    {
     "cell_type": "markdown", 
     "metadata": {}, 
     "source": [
      "# Espaces de nommage"
     ]
    }, 
    {
     "cell_type": "markdown", 
     "metadata": {}, 
     "source": [
      "## Compl\u00e9ment - niveau basique"
     ]
    }, 
    {
     "cell_type": "markdown", 
     "metadata": {}, 
     "source": [
      "Nous venons de voir les r\u00e8gles pour l'affectation (ou l'assignation) et le r\u00e9f\u00e9rencement des variables et des attributs&nbsp;; en particulier, on doit faire une distinction entre les attributs et les variables. "
     ]
    }, 
    {
     "cell_type": "markdown", 
     "metadata": {}, 
     "source": [
      " * Les attributs sont r\u00e9solus de mani\u00e8re **dynamique**, c'est-\u00e0-dire au moment de l'ex\u00e9cution (\u00e0 *run-time*),", 
      " * alors que la liaison des variables est par contre **statique** (\u00e0 compile-time) et **lexicale**, en ce sens qu'elle se base uniquement sur les imbrications de code."
     ]
    }, 
    {
     "cell_type": "markdown", 
     "metadata": {}, 
     "source": [
      "Vous voyez donc que la diff\u00e9rence entre attributs et variables est fondamentale. Dans ce compl\u00e9ment, nous allons reprendre et r\u00e9sumer les diff\u00e9rentes r\u00e8gles qui r\u00e9gissent l'affectation et le r\u00e9f\u00e9rencement des attributs et des variables."
     ]
    }, 
    {
     "cell_type": "markdown", 
     "metadata": {}, 
     "source": [
      "##### Attributs"
     ]
    }, 
    {
     "cell_type": "markdown", 
     "metadata": {}, 
     "source": [
      "Un attribut est un symbole `x` utilis\u00e9 dans la notation `obj.x` o\u00f9 `obj` est l'objet qui d\u00e9finit l'espace de nommage sur lequel `x` existe. ", 
      "", 
      "L'**affectation** (explicite ou implicite) d'un attribut `x` sur un objet `obj` va cr\u00e9er un symbole `x` dans l'espace de nommage de `obj`, symbole qui va r\u00e9f\u00e9rencer l'objet affect\u00e9, par exemple, l'objet \u00e0 droite du signe `=` lors d'une affectation explicite. "
     ]
    }, 
    {
     "cell_type": "code", 
     "collapsed": false, 
     "input": [
      "class MaClasse:", 
      "    pass", 
      "MaClasse.x = 10 # affectation explicite", 
      "#le symbole x est d\u00e9fini dans l'espace de nommage de MaClasse", 
      "print MaClasse.__dict__"
     ], 
     "language": "python", 
     "metadata": {}, 
     "outputs": [], 
     "prompt_number": null
    }, 
    {
     "cell_type": "markdown", 
     "metadata": {}, 
     "source": [
      "Le **r\u00e9f\u00e9rencement** d'un attribut va chercher cet attribut de long de l'arbre d'h\u00e9ritage en commen\u00e7ant par l'instance, puis la classe qui a cr\u00e9\u00e9 l'instance, puis les super classes et suivant la MRO (voir le compl\u00e9ment sur l'h\u00e9ritage multiple). "
     ]
    }, 
    {
     "cell_type": "markdown", 
     "metadata": {}, 
     "source": [
      "##### Variables"
     ]
    }, 
    {
     "cell_type": "markdown", 
     "metadata": {}, 
     "source": [
      "Une variable est un symbole qui n'est pas pr\u00e9c\u00e9d\u00e9 de la notation `obj.` et l'affectation d'une variable rend cette variable locale au bloc de code dans lequel elle est d\u00e9finie, un bloc de code pouvant \u00eatre&nbsp;:", 
      " * une fonction, dans ce cas la variable est locale \u00e0 la fonction&nbsp;;", 
      " * une classe, dans ce cas la variable est locale \u00e0 la classe&nbsp;;", 
      " * un module, dans ce cas la variable est locale au module, on dit \u00e9galement que la variable est globale.", 
      " ", 
      "Une variable r\u00e9f\u00e9renc\u00e9e est toujours cherch\u00e9e suivant la r\u00e8gle LEG&nbsp;:", 
      " * localement au bloc de code dans lequel elle est r\u00e9f\u00e9renc\u00e9e&nbsp;;", 
      " * puis dans les blocs de code des **fonctions ou m\u00e9thodes** englobantes, s'il y en a, de la plus proche \u00e0 la plus eloign\u00e9e&nbsp;;", 
      " * puis dans le bloc de code du module.", 
      " ", 
      "Si la variable n'est toujours pas trouv\u00e9e, elle est cherch\u00e9e dans le module `__builtin__` et si elle n'est toujours pas trouv\u00e9e, il y a une exception. ", 
      "", 
      "Dans la vid\u00e9o, pour bien montrer les diff\u00e9rents cas, on a d\u00e9fini trois r\u00e8gles : la r\u00e8gle G pour les modules, la r\u00e8gles LEG pour les fonctions et la r\u00e8gles LG pour les classes. Mais il s'agit en fait toujours d'une d\u00e9rivation de la r\u00e8gle LEG. En effet, ", 
      " * la r\u00e8gle G pour les modules correspond en fait \u00e0 la r\u00e8gle LEG sauf que dans ce cas, le seul bloc de code pertinent est celui du module&nbsp;;", 
      " * la r\u00e8gle LG pour les classes correspond aussi \u00e0 la r\u00e8gle LEG sauf que dans l'exemple de la vid\u00e9o on n'a que des classes englobantes, pas de fonctions englobantes. ", 
      " ", 
      "\u00c9videment, m\u00eame pour les classes, si on a des fonctions (ou m\u00e9thodes) englobantes, la r\u00e8gle LEG s'applique. Par exemple"
     ]
    }, 
    {
     "cell_type": "code", 
     "collapsed": false, 
     "input": [
      "var = 'dans le module'", 
      "class A:", 
      "    var = 'dans la classe A'", 
      "    def f(self):", 
      "        var = 'dans la fonction f'", 
      "        class B:", 
      "            print var", 
      "        B()", 
      "A().f()"
     ], 
     "language": "python", 
     "metadata": {}, 
     "outputs": [], 
     "prompt_number": null
    }, 
    {
     "cell_type": "markdown", 
     "metadata": {}, 
     "source": [
      "##### En r\u00e9sum\u00e9"
     ]
    }, 
    {
     "cell_type": "markdown", 
     "metadata": {}, 
     "source": [
      "Dans la vid\u00e9o et dans ce compl\u00e9ment basique, on a couvert tous les cas standards, et m\u00eame si python est un langage plut\u00f4t mieux fait, avec moins de cas particuliers, que d'autres langages, il a \u00e9galement ses cas \u00e9tranges entre raisons historiques et bugs qui ne seront jamais corrig\u00e9s (parce que \u00e7a casserait plus de choses que \u00e7a n'en r\u00e9parerait). Pour \u00e9viter de tomber dans ces cas sp\u00e9ciaux, c'est simple vous n'avez qu'\u00e0 suivre deux r\u00e8gles&nbsp;:", 
      " * ne jamais affecter dans un bloc de code local une variable de m\u00eame nom qu'une variable globale&nbsp;;", 
      " * toujours mettre la directive `global` comme premi\u00e8re instruction du bloc de code o\u00f9 elle s'applique (mais nous vous rappelons qu'il faut \u00e9viter d'utiliser cette directive dans le code que vous \u00e9crivez).", 
      " ", 
      "Si vous ne suivez pas ces r\u00e8gles, vous risquez de tomber dans un cas particulier que nous d\u00e9taillons ci-dessous dans la partie avanc\u00e9e. "
     ]
    }, 
    {
     "cell_type": "markdown", 
     "metadata": {}, 
     "source": [
      "## Compl\u00e9ment - niveau avanc\u00e9"
     ]
    }, 
    {
     "cell_type": "markdown", 
     "metadata": {}, 
     "source": [
      "##### UnboundLocalError"
     ]
    }, 
    {
     "cell_type": "markdown", 
     "metadata": {}, 
     "source": [
      "Nous avons d\u00e9j\u00e0 vu cette erreur en semaine 4, dans le deuxi\u00e8me compl\u00e9ment de la vid\u00e9o 6. Cette erreur se produit justement lorsque vous ne respectez pas la premi\u00e8re des r\u00e8gles ci-dessus. "
     ]
    }, 
    {
     "cell_type": "code", 
     "collapsed": false, 
     "input": [
      "x = 1", 
      "def f():", 
      "    print x", 
      "    x = 10 + x", 
      "    return x", 
      "f()"
     ], 
     "language": "python", 
     "metadata": {}, 
     "outputs": [], 
     "prompt_number": null
    }, 
    {
     "cell_type": "markdown", 
     "metadata": {}, 
     "source": [
      "Ce code n'a que des d\u00e9fauts. Il est ambigu&nbsp;: on m\u00e9lange x global et x local et il est impossible de savoir ce que \u00e7a doit faire, il ne respecte pas la premi\u00e8re r\u00e8gle car x est une variable globale et on utilise le m\u00eame nom pour une variable locale \u00e0 la fonction. Comment faire alors ? Respecter la premi\u00e8re r\u00e8gle. Oui, mais comment \u00eatre s\u00fbr qu'on n'utilise pas localement un nom d\u00e9fini globalement ? Il faut utiliser des noms de variables qui ont un sens. Regardons un exemple "
     ]
    }, 
    {
     "cell_type": "code", 
     "collapsed": false, 
     "input": [
      "increment_par_defaut = 1", 
      "def shift_10():", 
      "    #on print pour d\u00e9bugger ici", 
      "    print increment_par_defaut", 
      "    ", 
      "    total_shift = 10 + increment_par_defaut", 
      "    return total_shift", 
      "shift_10()"
     ], 
     "language": "python", 
     "metadata": {}, 
     "outputs": [], 
     "prompt_number": null
    }, 
    {
     "cell_type": "markdown", 
     "metadata": {}, 
     "source": [
      "Ma fonction n'est sans doute toujours pas r\u00e9volutionnaire, mais elle est parfaitement claire et suit la la premi\u00e8re r\u00e8gle."
     ]
    }, 
    {
     "cell_type": "markdown", 
     "metadata": {}, 
     "source": [
      "##### La documentation officielle est fausse"
     ]
    }, 
    {
     "cell_type": "markdown", 
     "metadata": {}, 
     "source": [
      "Oui, vous avez bien lu, la documentation officielle est fausse sur un point subtil. Regardons le [mod\u00e8le d'ex\u00e9cution](https://docs.python.org/2.7/reference/executionmodel.html), on trouve la phrase suivante \"If a name binding operation occurs anywhere within a code block, all uses of the name within the block are treated as references to the current block.\" qui est fausse, il faut lire \"If a name binding operation occurs anywhere within a code block **of a function**, all uses of the name within the block are treated as references to the current block.\" ", 
      "", 
      "En effet, les classes se comportent diff\u00e9remment des fonctions"
     ]
    }, 
    {
     "cell_type": "code", 
     "collapsed": false, 
     "input": [
      "x = \"x du module\"", 
      "class A():", 
      "    print \"dans classe A: \" + x", 
      "    x = \"x dans A\"", 
      "    print \"dans classe A: \" + x", 
      "    del x", 
      "    print \"dans classe A: \" + x"
     ], 
     "language": "python", 
     "metadata": {}, 
     "outputs": [], 
     "prompt_number": null
    }, 
    {
     "cell_type": "markdown", 
     "metadata": {}, 
     "source": [
      "Alors pourquoi si c'est une mauvaise id\u00e9e de m\u00e9langer variables globales et locales de m\u00eame nom dans une fonction, c'est possible dans une classe ?", 
      "", 
      "Cela vient de la mani\u00e8re dont sont impl\u00e9ment\u00e9s les espaces de nommage. Normalement, un objet a pour espace de nommage un dictionnaire qui s'appelle `__dict__`. D'un c\u00f4t\u00e9 un dictionnaire est un objet python qui offre beaucoup de flexibilit\u00e9, mais d'un autre c\u00f4t\u00e9, il induit un petit surco\u00fbt pour chaque recherche d'\u00e9l\u00e9ments. Comme les fonctions sont des objets qui par d\u00e9finition peuvent \u00eatre appel\u00e9s tr\u00e8s souvent, il a \u00e9t\u00e9 d\u00e9cid\u00e9 de mettre toutes les variables locales \u00e0 la fonction dans un objet \u00e9crit en C qui n'est pas dynamique (on ne peut pas ajouter des \u00e9l\u00e9ments \u00e0 l'ex\u00e9cution), mais qui est un peu plus rapide qu'un dictionnaire lors de l'acc\u00e8s aux variables. Mais pour faire cela, il faut d\u00e9terminer la port\u00e9e de la variable dans la phase de pr\u00e9compilation. Donc si le pr\u00e9compilateur trouve une affectation (explicite ou implicite) dans une fonction, il consid\u00e8re la variable comme locale pour tout le bloc de code. Donc si on r\u00e9f\u00e9rence une variable d\u00e9finie comme \u00e9tant locale avant une affectation dans la fonction, on ne va pas la chercher globalement, on a une erreur `UnboundLocalError`.", 
      "", 
      "Cette optimisation n'a pas \u00e9t\u00e9 faite pour les classes, parce que dans l'\u00e9valuation du compromis souplesse contre efficacit\u00e9 pour les classes, c'est la souplesse, donc le dictionnaire qui a gagn\u00e9. "
     ]
    }, 
    {
     "cell_type": "markdown", 
     "metadata": {}, 
     "source": [
      "##### Le bug 532860"
     ]
    }, 
    {
     "cell_type": "markdown", 
     "metadata": {}, 
     "source": [
      "Ce bug n'apparait que si vous ne suivez pas la premi\u00e8re r\u00e8gle. On ne d\u00e9taillera pas plus ce bug ici, bug qui ne sera jamais corrig\u00e9, mais si vous \u00eates int\u00e9ress\u00e9s, vous pouvez lire le [bug report](http://bugs.python.org/issue532860) et une [int\u00e9ressante discussion li\u00e9e \u00e0 ce bug](http://stackoverflow.com/questions/20246523/how-references-to-variables-are-resolved-in-python)."
     ]
    }, 
    {
     "cell_type": "markdown", 
     "metadata": {}, 
     "source": [
      "##### Directive `global` au d\u00e9but du bloc de code"
     ]
    }, 
    {
     "cell_type": "markdown", 
     "metadata": {}, 
     "source": [
      "La deuxi\u00e8me r\u00e8gle est que la directive `global` doit toujours \u00eatre au d\u00e9but du bloc de code. Regardons ce qu'il se passe si \u00e7a n'est pas le cas"
     ]
    }, 
    {
     "cell_type": "code", 
     "collapsed": false, 
     "input": [
      "x = 'x dans le module'", 
      "", 
      "def f():", 
      "    x = 'x dans f, premi\u00e8re affectation'", 
      "    global x", 
      "", 
      "f()", 
      "print x"
     ], 
     "language": "python", 
     "metadata": {}, 
     "outputs": [], 
     "prompt_number": null
    }, 
    {
     "cell_type": "markdown", 
     "metadata": {}, 
     "source": [
      "Alors que `global` est apr\u00e8s l'affectation, on voit que la variable globale `x` a bien \u00e9t\u00e9 modifi\u00e9e. En fait, `global` n'est pas une instruction, mais une directive au pr\u00e9compilateur. De m\u00eame que le pr\u00e9compilateur d\u00e9termine qu'une variable affect\u00e9e dans une fonction est locale, s'il trouve la directive `global`, il d\u00e9terminera que cette variable est globale pour tout le bloc de code. ", 
      "", 
      "C'est source de confusion et d'erreurs, pour cette raison, dans les derni\u00e8res versions de python 2, si une directive `global` arrive apr\u00e8s une affectation locale de la variable, il y a une exception `SyntaxWarning`. ", 
      "", 
      "Pour finir, rappelons que l'utilisation de la directive `global` est fortement d\u00e9conseill\u00e9e puisqu'elle rend implicite les communications entre espaces de nommage. Il faut \u00e0 la place toujours favoriser les passages d'arguments et les retours de fonctions. Souvenons-nous du Zen de python..."
     ]
    }, 
    {
     "cell_type": "code", 
     "collapsed": false, 
     "input": [
      "import this"
     ], 
     "language": "python", 
     "metadata": {}, 
     "outputs": [], 
     "prompt_number": null
    }, 
    {
     "cell_type": "markdown", 
     "metadata": {}, 
     "source": [
      "Et en particulier"
     ]
    }, 
    {
     "cell_type": "code", 
     "collapsed": false, 
     "input": [
      "zens = (\"\".join([this.d.get(x, x) for x in this.s])).split('\\n')", 
      "print zens[3]", 
      "print zens[-1]"
     ], 
     "language": "python", 
     "metadata": {}, 
     "outputs": [], 
     "prompt_number": null
    }, 
    {
     "cell_type": "markdown", 
     "metadata": {}, 
     "source": [
      "Et pour ceux qui se demandent pourquoi il faut une expression compliqu\u00e9e pour sortir deux phrases du Zen de python, c'est parce que le zen de python se m\u00e9rite :)"
     ]
    }
   ], 
   "metadata": {}
  }
 ]
}
