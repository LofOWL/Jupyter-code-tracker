{
 "cells": [
  {
   "cell_type": "markdown",
   "metadata": {},
   "source": [
    "<style>div.title-slide {    width: 100%;    display: flex;    flex-direction: row;            /* default value; can be omitted */    flex-wrap: nowrap;              /* default value; can be omitted */    justify-content: space-between;}</style><div class=\"title-slide\">\n",
    "<span style=\"float:left;\">Licence CC BY-NC-ND</span>\n",
    "<span>Thierry Parmentelat &amp; Arnaud Legout</span>\n",
    "<span><img src=\"media/both-logos-small-alpha.png\" style=\"display:inline\" /></span>\n",
    "</div>"
   ]
  },
  {
   "cell_type": "markdown",
   "metadata": {},
   "source": [
    "# `dataclasses` \n",
    "\n",
    "\n",
    "***Nouveauté de la version 3.7***\n",
    "\n",
    "Python 3.7 apporte un nouveauté pour simplifier la définition de classes dites \"de données\" ; ce type de classe s'applique pour des objets qui sont essentiellement un assemblage de quelques champs de données."
   ]
  },
  {
   "cell_type": "markdown",
   "metadata": {},
   "source": [
    "### Aperçu"
   ]
  },
  {
   "cell_type": "markdown",
   "metadata": {},
   "source": [
    "Comme cette capacité n'est disponible qu'à partir de Python 3.7 et que le cours est basé sur Python 3.6, nous n'aurons pas la possibilité de manipuler directement ce nouveau concept. Voici toutefois quelques exemples pour vous donner un aperçu de ce qu'on peut faire de cette notion."
   ]
  },
  {
   "cell_type": "markdown",
   "metadata": {},
   "source": [
    "### Pour aller plus loin"
   ]
  },
  {
   "cell_type": "markdown",
   "metadata": {},
   "source": [
    "Vous pouvez vous rapporter\n",
    "\n",
    "* [au PEP 557](https://www.python.org/dev/peps/pep-0557/) qui a abouti au consensus, et\n",
    "* [à la documentation officielle du module](https://docs.python.org/3/library/dataclasses.html)"
   ]
  }
 ],
 "metadata": {
  "kernelspec": {
   "display_name": "Python 3",
   "language": "python",
   "name": "python3"
  },
  "language_info": {
   "codemirror_mode": {
    "name": "ipython",
    "version": 3
   },
   "file_extension": ".py",
   "mimetype": "text/x-python",
   "name": "python",
   "nbconvert_exporter": "python",
   "pygments_lexer": "ipython3",
   "version": "3.7.0"
  },
  "livereveal": {
   "auto_select": "code",
   "auto_select_fragment": true,
   "autolaunch": false,
   "backimage": "media/nologo.png",
   "height": "100%",
   "start_slideshow_at": "selected",
   "theme": "simple",
   "transition": "fade",
   "width": "100%"
  },
  "notebookname": "dataclasses",
  "version": "3.0"
 },
 "nbformat": 4,
 "nbformat_minor": 2
}
