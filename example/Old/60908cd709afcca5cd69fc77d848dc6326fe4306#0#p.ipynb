{
 "metadata": {
  "name": "",
  "signature": "sha256:495230739cd9827448ef9e81f51c28bf5ec14601725dd6d68e7aa57ee74b2122"
 },
 "nbformat": 3,
 "nbformat_minor": 0,
 "worksheets": [
  {
   "cells": [
    {
     "cell_type": "heading",
     "level": 1,
     "metadata": {},
     "source": [
      "Modes d'ex\u00e9cution"
     ]
    },
    {
     "cell_type": "markdown",
     "metadata": {},
     "source": [
      "Nous avons donc \u00e0 notre disposition plusieurs fa\u00e7ons d'ex\u00e9cuter un programme python. Nous allons les \u00e9tudier plus en d\u00e9tail:   \n",
      "\n",
      "$\\begin{array}{rcl}\n",
      "\\club & ligne \u00e0 ligne & sous IDLE ou python interactif \\\\\n",
      "\\club & dans un fichier .py & mode \"normal\" \\\\\n",
      "\\club & notebook & dans page web \\\\\n",
      "\\end{array}$"
     ]
    },
    {
     "cell_type": "markdown",
     "metadata": {},
     "source": [
      "Pour cela nous allons voir le comportement d'un tout petit programme python lorsqu'on l'ex\u00e9cute sous ces trois environnements.\n",
      "\n",
      "L'objectif de cet exercice est de vous convaincre que - heureusement - les trois environnements se comportent de la m\u00eame fa\u00e7on, avec toutefois une petite diff\u00e9rence quant au niveau de d\u00e9tail de ce qui se trouve imprim\u00e9."
     ]
    },
    {
     "cell_type": "markdown",
     "metadata": {},
     "source": [
      "Essentiellement, lorsqu'on utilise l'interpr\u00e9teur en mode interactif - ou sous IDLE - \u00e0 chaque fois que l'on tape une ligne, le r\u00e9sultat est calcul\u00e9 (on dit \"\u00e9valu\u00e9\") $\\texttt{et imprim\u00e9}$\n",
      "\n",
      "Par contre lorsqu'on \u00e9crit tout un programme, on ne peut plus imprimer le r\u00e9sultat de toutes les lignes, cela produirait un flot d'impression beaucoup trop important. \n",
      "\n",
      "Enfin en ce qui concerne le notebook, le comportement est un peu hybride entre les deux, en ce sens que seul le dernier r\u00e9sultat de la cellule est imprim\u00e9. "
     ]
    },
    {
     "cell_type": "heading",
     "level": 3,
     "metadata": {},
     "source": [
      "L'interpr\u00e9teur python interactif"
     ]
    },
    {
     "cell_type": "markdown",
     "metadata": {},
     "source": [
      "Le programme choisi est tr\u00e8s simple, c'est le suivant"
     ]
    },
    {
     "cell_type": "raw",
     "metadata": {},
     "source": [
      "10 * 10\n",
      "20 * 20\n",
      "30 * 30"
     ]
    },
    {
     "cell_type": "markdown",
     "metadata": {},
     "source": [
      "Voici comment se comporte l'interpr\u00e9teur interatif quand on lui soumet ces instructions"
     ]
    },
    {
     "cell_type": "raw",
     "metadata": {},
     "source": [
      "~ $ python\n",
      "Python 2.7.7 (default, Jun  2 2014, 01:41:14)\n",
      "[GCC 4.2.1 Compatible Apple LLVM 5.1 (clang-503.0.40)] on darwin\n",
      "Type \"help\", \"copyright\", \"credits\" or \"license\" for more information.\n",
      ">>> 10 * 10\n",
      "100\n",
      ">>> 20 * 20\n",
      "400\n",
      ">>> 30 * 30\n",
      "900\n",
      ">>> exit()\n",
      "~ $"
     ]
    },
    {
     "cell_type": "markdown",
     "metadata": {},
     "source": [
      "Noter que pour terminer la session, il nous faut \"sortir\" de l'interpr\u00e9teur en tapant $\\texttt{exit()}$ (on peut aussi taper $\\texttt{Control-D}$ sous linux ou MacOS)."
     ]
    },
    {
     "cell_type": "markdown",
     "metadata": {},
     "source": [
      "Comme on le voit bien ici, chaque ligne fait l'objet d'une impression de son r\u00e9sultat. On voit bien appara\u00eetre toutes les valaurs calcul\u00e9es, 100, 400, puis enfin 900."
     ]
    },
    {
     "cell_type": "heading",
     "level": 3,
     "metadata": {},
     "source": [
      "Sous forme de programme constitu\u00e9"
     ]
    },
    {
     "cell_type": "markdown",
     "metadata": {},
     "source": [
      "Voyons \u00e0 pr\u00e9sent ce que donne cette m\u00eame s\u00e9quence de calculs dans un programme complet. Pour cela il nous faut tout d'abord fabriquer un fichier, que la tradition veut avec un suffixe en $\\texttt{.py}$, comme ceci:"
     ]
    },
    {
     "cell_type": "raw",
     "metadata": {},
     "source": [
      "~ $ cat > foo.py\n",
      "10 * 10\n",
      "20 * 20\n",
      "30 * 30\n",
      "Control-D\n",
      "~ $ "
     ]
    },
    {
     "cell_type": "markdown",
     "metadata": {},
     "source": [
      "Cette technique n'est en r\u00e9alit\u00e9 praticable, \u00e0 nouveau, que sous linux et MacOS. Sous windows on pourra utiliser un \u00e9diteur de texte pour aboutir au m\u00eame r\u00e9sultat."
     ]
    },
    {
     "cell_type": "markdown",
     "metadata": {},
     "source": [
      "Ex\u00e9cutons \u00e0 pr\u00e9sent ce programme:"
     ]
    },
    {
     "cell_type": "raw",
     "metadata": {},
     "source": [
      "~ $ python foo.py\n",
      "~ $"
     ]
    },
    {
     "cell_type": "markdown",
     "metadata": {},
     "source": [
      "On constate donc que ce programme .. ne fait rien. En tous cas selon toute apparence. \n",
      "\n",
      "Ce qui se passe en r\u00e9alit\u00e9, c'est que les 3 valeurs 100, 400 et 900 sont bien calcul\u00e9es, mais comme aucune instruction $\\texttt{print}$ n'est pr\u00e9sente, eh bien rien n'est imprim\u00e9 et le programme se termine sans signe apparent d\u00e1voir r\u00e9ellement fonctionn\u00e9.\n",
      "\n",
      "Ce comportement peut para\u00eetre un peu d\u00e9routant au d\u00e9but, mais comme nous l'avons mentionn\u00e9 c'est tout \u00e0 fait d\u00e9lib\u00e9r\u00e9. Un programme fonctionnel faisant facilement plusieurs milliers de lignes, voire beaucoup plus, il ne serait pas du tout r\u00e9aliste que chaque ligne fasse l'objet d'une impression automatique comme c'est le cas en mode interactif."
     ]
    },
    {
     "cell_type": "heading",
     "level": 3,
     "metadata": {},
     "source": [
      "Dans un notebook"
     ]
    },
    {
     "cell_type": "markdown",
     "metadata": {},
     "source": [
      "Voici \u00e0 pr\u00e9sent le m\u00eame programme dans un notebook"
     ]
    },
    {
     "cell_type": "code",
     "collapsed": false,
     "input": [
      "10 * 10\n",
      "20 * 20\n",
      "30 * 30"
     ],
     "language": "python",
     "metadata": {},
     "outputs": []
    },
    {
     "cell_type": "markdown",
     "metadata": {},
     "source": [
      "Lorsqu'on ex\u00e9cute cette cellule (rappel : s\u00e9lectionner la cellule, et utiliser le bouton en forme de fl\u00eache vers la droite, ou entrer $\\textbf{\"Shift+Enter\"}$ au clavier), on obtient une seule valeur dans la rubrique 'Out', 900, qui correspond $\\textbf{au r\u00e9sultat de la derni\u00e8re ligne.}$"
     ]
    },
    {
     "cell_type": "heading",
     "level": 3,
     "metadata": {},
     "source": [
      "\\texttt{print} ou pas \\texttt{print}"
     ]
    },
    {
     "cell_type": "markdown",
     "metadata": {},
     "source": [
      "Ainsi pour afficher un r\u00e9sultat interm\u00e9diaire, on utilise la fonction \\texttt{print}. Nous verrons cette fonction plus en d\u00e9tail, mais en guise d'introduction disons seulement qu'on lui passe une liste d'expressions comme ceci:"
     ]
    },
    {
     "cell_type": "code",
     "collapsed": false,
     "input": [
      "a = 10\n",
      "b = 20\n",
      "\n",
      "print a,b"
     ],
     "language": "python",
     "metadata": {},
     "outputs": []
    },
    {
     "cell_type": "markdown",
     "metadata": {},
     "source": [
      "On peut naturellement m\u00e9langer des objets de plusieurs types, et donc m\u00e9langer des strings et des nombres pour obtenir un r\u00e9sultat un peu plus lisible; en effet lorsque le programme devient gros, il est important de savoir \u00e0 quoi correspond une ligne dans le flot de toutes les impressions. Aussi on pr\u00e9f\u00e8rera quelque chose comme:"
     ]
    },
    {
     "cell_type": "code",
     "collapsed": false,
     "input": [
      "print \"a=\",a,\"et b=\",b"
     ],
     "language": "python",
     "metadata": {},
     "outputs": []
    }
   ],
   "metadata": {}
  }
 ]
}