{
 "cells": [
  {
   "cell_type": "markdown",
   "metadata": {},
   "source": [
    "<style>div.title-slide {    width: 100%;    display: flex;    flex-direction: row;            /* default value; can be omitted */    flex-wrap: nowrap;              /* default value; can be omitted */    justify-content: space-between;}</style><div class=\"title-slide\">\n",
    "<span style=\"float:left;\">Licence CC BY-NC-ND</span>\n",
    "<span>Thierry Parmentelat &amp; Arnaud Legout</span>\n",
    "<span><img src=\"media/both-logos-small-alpha.png\" style=\"display:inline\" /></span>\n",
    "</div>"
   ]
  },
  {
   "cell_type": "markdown",
   "metadata": {},
   "source": [
    "# Gestion de sous-process"
   ]
  },
  {
   "cell_type": "markdown",
   "metadata": {},
   "source": [
    "## Complément - niveau (très) avancé"
   ]
  },
  {
   "cell_type": "markdown",
   "metadata": {},
   "source": [
    "Dans ce second notebook, nous allons étudier un deuxième programme python, qui s'appelle `game.py`. "
   ]
  },
  {
   "cell_type": "markdown",
   "metadata": {},
   "source": [
    "### Fonctions de `game.py`"
   ]
  },
  {
   "cell_type": "markdown",
   "metadata": {},
   "source": [
    "Son travail va consister à faire plusieurs choses en même temps; pour rester le plus simple possible, on va se contenter des trois fonctions suivantes :\n",
    "\n",
    "* *scheduler* (chef d'orchestre) : on veut lancer à des moments préprogrammés des instances (sous-processes) de `players.py` ;\n",
    "\n",
    "* *multiplexer* (agrégateur) : on veut lire et imprimer au fur et à mesure les messages émis par les sous-processes ;\n",
    "\n",
    "* horloge : on veut également afficher chaque seconde le temps écoulé depuis le début."
   ]
  },
  {
   "cell_type": "markdown",
   "metadata": {},
   "source": [
    "En pratique, le programme `game.py` serait plutôt le serveur du jeu qui reçoit les nouvements de tous les joueurs, et diffuse ensuite en retour, en mode broadcast, un état du jeu à tous les participants."
   ]
  },
  {
   "cell_type": "markdown",
   "metadata": {},
   "source": [
    "Mais dans notre version hyper simpliste, ça donne un comportement que j'ai essayé d'illustrer comme ceci :"
   ]
  },
  {
   "cell_type": "markdown",
   "metadata": {},
   "source": [
    "![](media/game.png)"
   ]
  },
  {
   "cell_type": "markdown",
   "metadata": {},
   "source": [
    "##### Remarque concernant les notebooks et le clavier"
   ]
  },
  {
   "cell_type": "markdown",
   "metadata": {},
   "source": [
    "Lorsqu'on exécute du code python dans un notebook, les entrées clavier sont en fait interceptées par le browser web; du coup on ne peut pas facilement (du tout?) faire tourner dans un notebook un programme asynchrone qui réagirait aussi aux événements de type entrée clavier.\n",
    "\n",
    "C'est pour cette raison que le clavier apparaît en filigrane. Si vous allez jusqu'à exécuter ce notebook localement sur votre machine (voir plus bas), vous pourrez utiliser le clavier pour ajouter à la volée  des éléments dans le scénario - en entrant des numéros de 1 à 4 au moment voulu. "
   ]
  },
  {
   "cell_type": "markdown",
   "metadata": {},
   "source": [
    "### Le programme `game.py`"
   ]
  },
  {
   "cell_type": "markdown",
   "metadata": {},
   "source": [
    "C'est ce notebook qui va jouer pour nous le rôle du programme `game.py`."
   ]
  },
  {
   "cell_type": "code",
   "execution_count": null,
   "metadata": {},
   "outputs": [],
   "source": [
    "import asyncio\n",
    "import sys"
   ]
  },
  {
   "cell_type": "code",
   "execution_count": null,
   "metadata": {},
   "outputs": [],
   "source": [
    "# cette constante est utile pour déclarer qu'on a l'intention\n",
    "# de lire les sorties (stout et stderr)\n",
    "# de nos sous-process par l'intermédiaire de pipes\n",
    "from subprocess import PIPE"
   ]
  },
  {
   "cell_type": "markdown",
   "metadata": {},
   "source": [
    "Commençons par la classe `Scheduler`; c'est celle qui va se charger de lancer les sous-processes selon un scénario. Pour ne pas se compliquer la vie on choisit de représenter un scénario (un script) comme une liste de tuples de la forme\n",
    "\n",
    "(secondes, predef)\n",
    "\n",
    "qui signifie de lancer le programme `players.py` dans la configuration `predef` un délai de `secondes` secondes après le début du programme."
   ]
  },
  {
   "cell_type": "code",
   "execution_count": null,
   "metadata": {},
   "outputs": [],
   "source": [
    "class Scheduler:\n",
    "\n",
    "    def __init__(self, script):\n",
    "\n",
    "        # on trie le script par ordre chonologique\n",
    "        self.script = list(script)\n",
    "        self.script.sort(key = lambda time_predef : time_predef[0])\n",
    "\n",
    "        # pour savoir où on en est\n",
    "        self.counter = 1\n",
    "        # combien de process sont actifs\n",
    "        self.running = 0\n",
    "\n",
    "    async def run(self):\n",
    "        \"\"\"\n",
    "        lance tous les sous-process à l'heure indiquée\n",
    "        \"\"\"\n",
    "        # pour le mode avec clavier (pas fonctionnel dans le notebook)\n",
    "        # on arme une callback sur stdin\n",
    "        asyncio.get_event_loop().add_reader(\n",
    "            # il nous faut un file descriptor, pas un objet python\n",
    "            sys.stdin.fileno(),\n",
    "            # la callback\n",
    "            Scheduler.read_keyboard_line,\n",
    "            # les arguments de la callback\n",
    "            # cette fois c'est un objet python\n",
    "            self, sys.stdin\n",
    "        )\n",
    "        \n",
    "        epoch = 0\n",
    "        for tick, predef in self.script:\n",
    "            # attendre le bon moment\n",
    "            await asyncio.sleep(tick - epoch)\n",
    "            # pour le prochain\n",
    "            epoch = tick\n",
    "            asyncio.ensure_future(self.fork_players(predef))\n",
    "\n",
    "    async def fork_players(self, predef):\n",
    "        \"\"\"\n",
    "        lance maintenant une instance de players avec cette config\n",
    "\n",
    "        puis\n",
    "        écoute à la fois sdtout et stderr, et les imprime \n",
    "        (bon c'est vrai que players n'écrit rien sur stderr)\n",
    "        attend la fin du sous-process (avec wait())\n",
    "        et retourne son code de retour (exitcode) du sous-process\n",
    "\n",
    "        par commodité on décide d'arrêter la boucle principale \n",
    "        lorsqu'il n'y a plus aucun process actif\n",
    "        \"\"\"\n",
    "\n",
    "        # la commande à lancer pour forker une instance de players.py\n",
    "        command = f\"python3 -u data/players.py {predef}\".split()\n",
    "        # pour afficher un nom un peu plus parlant\n",
    "        worker = f\"ps#{self.counter} (predef {predef})\"\n",
    "        # housekeeping\n",
    "        self.counter += 1\n",
    "        self.running += 1\n",
    "        # c'est là que ça se passe : on forke\n",
    "        print(8 * '>', f\"worker {worker}\")\n",
    "        process = await asyncio.create_subprocess_exec(\n",
    "            *command,\n",
    "            stdout=PIPE, stderr=PIPE,\n",
    "        )\n",
    "        # et on lit et écrit les canaux du sous-process\n",
    "        stdout, stderr = await asyncio.gather(\n",
    "            self.read_and_display(process.stdout, worker),\n",
    "            self.read_and_display(process.stderr, worker))\n",
    "        # qu'il ne faut pas oublier d'attendre pour que l'OS sache\n",
    "        # qu'il peut nettoyer\n",
    "        retcod = await process.wait()\n",
    "        # le process est terminé\n",
    "        self.running -= 1\n",
    "        print(8 * '<', f\"worker {worker} - exit code {retcod}\"\n",
    "              f\" - {self.running} still running\")\n",
    "        # si c'était le dernier on sort de la boucle principale\n",
    "        if self.running == 0:\n",
    "            print(\"no process left - bye\")\n",
    "            asyncio.get_event_loop().stop()\n",
    "        # sinon on retourne le code de retour\n",
    "        return retcod\n",
    "                    \n",
    "    async def read_and_display(self, stream, worker):\n",
    "        \"\"\"\n",
    "        une coroutine pour afficher les sorties d'un canal \n",
    "        stdout ou stderr d'un sous-process\n",
    "        retourne lorsque le process est terminé\n",
    "        \"\"\"\n",
    "        while True:\n",
    "            bytes = await stream.readline()\n",
    "            # l'OS nous signale qu'on en a terminé \n",
    "            # avec ce process en renvoyant ici un objet bytes vide\n",
    "            if not bytes:\n",
    "                break\n",
    "            # ici on se contente d'imprimer, du coup\n",
    "            # il faut convertir en str (bien qu'ici \n",
    "            # players n'écrit que de l'ASCII)\n",
    "            line = bytes.decode().strip()\n",
    "            print(8 * ' ', f\"got `{line}` from {worker}\")\n",
    "    \n",
    "    # ceci est seulement fonctionnel si vous exécutez \n",
    "    # le programme localement sur votre ordinateur\n",
    "    # car depuis un notebook le clavier est intercepté\n",
    "    # par le serveur web\n",
    "    def read_keyboard_line(self, stdin):\n",
    "        \"\"\"\n",
    "        ceci est une callback; eh oui :)\n",
    "        c'est pourquoi d'ailleurs ce n'est pas une coroutine\n",
    "        cependant on est sûr qu'elle n'est appelée \n",
    "        que lorsqu'il y a réellement quelque chose à lire\n",
    "        \"\"\"\n",
    "        line = stdin.readline().strip()\n",
    "        # ici je triche complètement\n",
    "        # lorsqu'on est dans un notebook, pour bien faire\n",
    "        # on ne devrait pas regarder stdin du tout\n",
    "        # mais pour garder le code le plus simple possible\n",
    "        # je choisis d'ignorer les lignes vides ici\n",
    "        # comme ça mon code marche dans les deux cas\n",
    "        if not line:\n",
    "            return\n",
    "        # on traduit la ligne tapée au clavier \n",
    "        # en un entier entre 1 et 4\n",
    "        try:\n",
    "            predef = int(line)\n",
    "            if not (1 <= predef <= 4):\n",
    "                raise ValueError('entre 1 et 4')\n",
    "        except Exception as e:\n",
    "            print(f\"{line} doit être entre 1 et 4 {type(e)} - {e}\")\n",
    "            return\n",
    "        asyncio.ensure_future(self.fork_players(predef))"
   ]
  },
  {
   "cell_type": "markdown",
   "metadata": {},
   "source": [
    "\n",
    "À ce stade on a déjà le cœur de la logique du *scheduler*, et aussi du multiplexer. Il ne nous manque plus que l'horloge :"
   ]
  },
  {
   "cell_type": "code",
   "execution_count": null,
   "metadata": {},
   "outputs": [],
   "source": [
    "class Clock:\n",
    "\n",
    "    def __init__(self):\n",
    "        self.clock_seconds = 0\n",
    "\n",
    "    async def run(self):\n",
    "        while True:\n",
    "            print(f\"clock = {self.clock_seconds:04d}s\")\n",
    "            await asyncio.sleep(1)\n",
    "            self.clock_seconds += 1"
   ]
  },
  {
   "cell_type": "markdown",
   "metadata": {},
   "source": [
    "Et enfin pour mettre tous ces morceaux en route il nous faut une boucle d'événements : "
   ]
  },
  {
   "cell_type": "code",
   "execution_count": null,
   "metadata": {},
   "outputs": [],
   "source": [
    "class Game:\n",
    "\n",
    "    def __init__(self, script):\n",
    "        self.script = script\n",
    "\n",
    "    def mainloop(self):\n",
    "        loop = asyncio.get_event_loop()\n",
    "\n",
    "        clock = Clock()\n",
    "        asyncio.ensure_future(clock.run())\n",
    "\n",
    "        scheduler = Scheduler(self.script)\n",
    "        asyncio.ensure_future(scheduler.run())\n",
    "        loop.run_forever()"
   ]
  },
  {
   "cell_type": "markdown",
   "metadata": {},
   "source": [
    "Et maintenant je peux lancer une session simple; pour ne pas être noyé par les sorties on va se contenter de lancer :\n",
    "\n",
    "* 0.5 seconde après le début une instance de `players.py 1`\n",
    "* 1 seconde après le début une instance de `players.py 2`"
   ]
  },
  {
   "cell_type": "code",
   "execution_count": null,
   "metadata": {},
   "outputs": [],
   "source": [
    "game = Game( [(0.5, 1), (1., 2)])\n",
    "game.mainloop()"
   ]
  },
  {
   "cell_type": "markdown",
   "metadata": {},
   "source": [
    "### Conclusion"
   ]
  },
  {
   "cell_type": "markdown",
   "metadata": {},
   "source": [
    "Notre but avec cet exemple est de vous montrer, après les exemples des vidéos qui reposent en grande majorité sur `asyncio.sleep`, que la boucle d'événements de `asyncio` permet d'avoir accès, de manière simple et efficace, à des événements de niveau OS. Ici nous avons illustré la gestion de sous-process, dans un complément précédent nous avons aperçu la gestion de requêtes HTTP. \n",
    "\n",
    "Actuellement on peut trouver des bibliothèques au dessus de `asyncio` pour manipuler de cette façon quasiment tous les protocoles réseau, et autres accès à des bases de données."
   ]
  },
  {
   "cell_type": "markdown",
   "metadata": {},
   "source": [
    "### Exécution en local"
   ]
  },
  {
   "cell_type": "markdown",
   "metadata": {},
   "source": [
    "Si vous voulez exécuter ce code localement sur votre machine : tout d'abord sachez que je n'ai pas du tout essayé ceci sur un OS Windows - et d'ailleurs ça m'intéresserait assez de savoir si ça fonctionne ou pas.\n",
    "\n",
    "Cela étant dit, il vous suffit alors de downloader le présent notebook au format python. Vous aurez aussi besoin :\n",
    "\n",
    "* du code de `players.py`, évidemment; \n",
    "* et de modifier le fichier téléchargé pour lancer `players.py` au lieu de `data/players.py` qui ne fait de sens probablement que sur le serveur de notebooks.\n",
    "\n",
    "Comme on l'a indiqué plus haut, si vous l'exécutez en local vous pourrez également interagir cette fois avec la clavier, et ajouter à la volée des sous-process qui n'étaient pas prévus initialement dans le scénario."
   ]
  },
  {
   "cell_type": "markdown",
   "metadata": {},
   "source": [
    "# Pour aller plus loin\n",
    "\n",
    "Je vous signale, si vous êtes intéressés à creuser encore davantage, [ce tutorial qui implémente un jeu complet](https://7webpages.com/blog/writing-online-multiplayer-game-with-python-asyncio-getting-asynchronous/).\n",
    "\n",
    "Naturellement ce tutorial est lui basé sur du code réseau et non, comme nous y sommes contraints, sur une architecture de type sous-process; il y a même [le jeu en question en ligne](http://snakepit-game.com/)..."
   ]
  }
 ],
 "metadata": {
  "kernelspec": {
   "display_name": "Python 3",
   "language": "python",
   "name": "python3"
  },
  "language_info": {
   "codemirror_mode": {
    "name": "ipython",
    "version": 3
   },
   "file_extension": ".py",
   "mimetype": "text/x-python",
   "name": "python",
   "nbconvert_exporter": "python",
   "pygments_lexer": "ipython3",
   "version": "3.6.3"
  },
  "livereveal": {
   "auto_select": "code",
   "auto_select_fragment": true,
   "autolaunch": false,
   "backimage": "media/nologo.png",
   "height": "100%",
   "start_slideshow_at": "selected",
   "theme": "simple",
   "transition": "fade",
   "width": "100%"
  },
  "notebookname": "Gestion de sous-process",
  "version": "3.0"
 },
 "nbformat": 4,
 "nbformat_minor": 2
}