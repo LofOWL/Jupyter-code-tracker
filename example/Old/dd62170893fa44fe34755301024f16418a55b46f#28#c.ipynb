{
 "metadata": {
  "notebookname": "Sequence unpacking",
  "signature": "sha256:ba980e0eaf96e6f088dee2cf8eddb71f896d4d70a9b5a7c6b31f05ac7e9a9814",
  "version": "2.0"
 },
 "nbformat": 3,
 "nbformat_minor": 0,
 "worksheets": [
  {
   "cells": [
    {
     "cell_type": "heading",
     "level": 1,
     "metadata": {},
     "source": [
      "Sequence unpacking"
     ]
    },
    {
     "cell_type": "heading",
     "level": 2,
     "metadata": {},
     "source": [
      "Compl\u00e9ment - niveau basique"
     ]
    },
    {
     "cell_type": "markdown",
     "metadata": {},
     "source": [
      "**Remarque pr\u00e9liminaire** nous avons vainement cherch\u00e9 une traduction raisonnable pour ce trait du langage, connue en anglais sous le nom de *sequence unpacking* ou encore parfois *tuple unpacking*, aussi pour \u00e9viter de cr\u00e9er de la confusion nous avons finalement d\u00e9cid\u00e9 de conserver le terme anglais \u00e0 l'identique."
     ]
    },
    {
     "cell_type": "heading",
     "level": 3,
     "metadata": {},
     "source": [
      "D\u00e9j\u00e0 rencontr\u00e9"
     ]
    },
    {
     "cell_type": "markdown",
     "metadata": {},
     "source": [
      "L'affectation dans python peut concerner plusieurs variables \u00e0 la fois. En fait nous en avons d\u00e9j\u00e0 vu un exemple en Semaine 1, avec la fonction `fibonacci` dans laquelle il y avait ce fragment&nbsp;:\n",
      "\n",
      "    for i in range(2, n + 1):\n",
      "        f2, f1 = f1, f1 + f2\n",
      "\n",
      "Nous allons dans ce compl\u00e9ment d\u00e9cortiquer les m\u00e9canismes derri\u00e8re cette phrase qui a probablement excit\u00e9 votre curiosit\u00e9 :)"
     ]
    },
    {
     "cell_type": "heading",
     "level": 3,
     "metadata": {},
     "source": [
      "Un exemple simple"
     ]
    },
    {
     "cell_type": "markdown",
     "metadata": {},
     "source": [
      "Commen\u00e7ons par un exemple simple \u00e0 base de tuple. Imaginons qu'on dispose d'un tuple `couple` dont on sait qu'il a deux \u00e9l\u00e9ments&nbsp;:"
     ]
    },
    {
     "cell_type": "code",
     "collapsed": false,
     "input": [
      "couple = (100, 'spam')"
     ],
     "language": "python",
     "metadata": {},
     "outputs": []
    },
    {
     "cell_type": "markdown",
     "metadata": {},
     "source": [
      "On souhaite \u00e0 pr\u00e9sent extraire les deux valeurs pour les affecter \u00e0 deux variables. Une solution na\u00efve consiste bien s\u00fbr \u00e0 faire simplement&nbsp;:"
     ]
    },
    {
     "cell_type": "code",
     "collapsed": false,
     "input": [
      "gauche = couple[0]\n",
      "droite = couple[1]\n",
      "print 'gauche', gauche, 'droite', droite"
     ],
     "language": "python",
     "metadata": {},
     "outputs": []
    },
    {
     "cell_type": "markdown",
     "metadata": {},
     "source": [
      "Cela fonctionne naturellement tr\u00e8s bien, mais n'est pas tr\u00e8s pythonique - comme on dit ;)\n",
      "\n",
      "On pr\u00e9f\u00e8rera la formulation \u00e9quivalente suivante&nbsp;:"
     ]
    },
    {
     "cell_type": "code",
     "collapsed": false,
     "input": [
      "(gauche, droite) = couple\n",
      "print 'gauche', gauche, 'droite', droite"
     ],
     "language": "python",
     "metadata": {},
     "outputs": []
    },
    {
     "cell_type": "markdown",
     "metadata": {},
     "source": [
      "La logique ici consiste \u00e0 dire, affecter les deux variables de sorte que le tuple `(gauche, droite )` soit \u00e9gal \u00e0 `couple`\n",
      "\n",
      "Remarquons que les parenth\u00e8ses ici sont optionnelles, on peut tout aussi bien \u00e9crire&nbsp;:"
     ]
    },
    {
     "cell_type": "code",
     "collapsed": false,
     "input": [
      "gauche, droite = couple\n",
      "print 'gauche', gauche, 'droite', droite"
     ],
     "language": "python",
     "metadata": {},
     "outputs": []
    },
    {
     "cell_type": "heading",
     "level": 3,
     "metadata": {},
     "source": [
      "Autres types"
     ]
    },
    {
     "cell_type": "markdown",
     "metadata": {},
     "source": [
      "Cette technique fonctionne aussi bien avec d'autres types. Par exemple&nbsp;:"
     ]
    },
    {
     "cell_type": "code",
     "collapsed": false,
     "input": [
      "liste = [1, 2, 3]\n",
      "[gauche, milieu, droit] = liste\n",
      "print 'gauche', gauche, 'milieu', milieu, 'droit', droit"
     ],
     "language": "python",
     "metadata": {},
     "outputs": []
    },
    {
     "cell_type": "markdown",
     "metadata": {},
     "source": [
      "En fait c'est m\u00eame encore plus flexible que \u00e7a puisqu'on pourrait m\u00eame \u00e9crire&nbsp;:"
     ]
    },
    {
     "cell_type": "code",
     "collapsed": false,
     "input": [
      "liste = [1, 2, 3]\n",
      "gauche, milieu, droit = liste\n",
      "print 'gauche', gauche, 'milieu', milieu, 'droit', droit"
     ],
     "language": "python",
     "metadata": {},
     "outputs": []
    },
    {
     "cell_type": "markdown",
     "metadata": {},
     "source": [
      "C'est presque magique, on a compar\u00e9 un tuple avec une liste !"
     ]
    },
    {
     "cell_type": "markdown",
     "metadata": {},
     "source": [
      "En r\u00e9alit\u00e9, les seules contraintes fix\u00e9es par `python` sont que\n",
      " * le terme \u00e0 droite du signe *=* est un *iterable* (tuple, liste, string, etc.),\n",
      " * le terme \u00e0 gauche soit \u00e9crit comme un tuple ou une liste,\n",
      " * les deux termes ont la m\u00eame longueur."
     ]
    },
    {
     "cell_type": "markdown",
     "metadata": {},
     "source": [
      "La plupart du temps le terme de gauche est \u00e9crit comme un tuple. C'est pour cette raison que les deux termes *tuple unpacking* et *sequence unpacking* sont en vigueur. "
     ]
    },
    {
     "cell_type": "heading",
     "level": 3,
     "metadata": {},
     "source": [
      "La fa\u00e7on *pythonique* d'\u00e9changer deux variables"
     ]
    },
    {
     "cell_type": "markdown",
     "metadata": {},
     "source": [
      "Une caract\u00e9ristique int\u00e9ressante de l'affectation par *sequence unpacking* est qu'elle est s\u00fbre; on n'a pas \u00e0 se pr\u00e9occuper d'un \u00e9ventuel d'ordre d'\u00e9valuation, les valeurs **\u00e0 droite** de l'affectation sont **toutes** \u00e9valu\u00e9es en premier, et ainsi on peut par exemple \u00e9changer deux variables comme ceci&nbsp;:"
     ]
    },
    {
     "cell_type": "code",
     "collapsed": false,
     "input": [
      "a = 1\n",
      "b = 2\n",
      "a, b = b, a\n",
      "print 'a', a, 'b', b"
     ],
     "language": "python",
     "metadata": {},
     "outputs": []
    },
    {
     "cell_type": "heading",
     "level": 3,
     "metadata": {},
     "source": [
      "En profondeur"
     ]
    },
    {
     "cell_type": "markdown",
     "metadata": {},
     "source": [
      "Le *sequence unpacking* ne se limite pas au premier niveau dans les structures, on peut extraire des donn\u00e9es plus profond\u00e9ment imbriqu\u00e9es dans la structure de d\u00e9part; par exemple avec en entr\u00e9e la liste&nbsp;:"
     ]
    },
    {
     "cell_type": "code",
     "collapsed": false,
     "input": [
      "structure = ['abc', [(1, 2), ([3], 4)], 5]"
     ],
     "language": "python",
     "metadata": {},
     "outputs": []
    },
    {
     "cell_type": "markdown",
     "metadata": {},
     "source": [
      "Si on souhaite extraire la valeur qui se trouve \u00e0 l'emplacement de 3, on peut \u00e9crire&nbsp;:"
     ]
    },
    {
     "cell_type": "code",
     "collapsed": false,
     "input": [
      "(a, (b, ((trois,), c)), d) = structure\n",
      "print 'trois', trois"
     ],
     "language": "python",
     "metadata": {},
     "outputs": []
    },
    {
     "cell_type": "markdown",
     "metadata": {},
     "source": [
      "Ou encore, sans doute un peu plus lisible&nbsp;:"
     ]
    },
    {
     "cell_type": "code",
     "collapsed": false,
     "input": [
      "(a, (b, ([trois], c)), d) = structure\n",
      "print 'trois', trois"
     ],
     "language": "python",
     "metadata": {},
     "outputs": []
    },
    {
     "cell_type": "markdown",
     "metadata": {},
     "source": [
      "Naturellement on aurait aussi bien pu \u00e9crire ici quelque chose comme&nbsp;:"
     ]
    },
    {
     "cell_type": "code",
     "collapsed": false,
     "input": [
      "trois = structure[1][1][0][0]\n",
      "print 'trois', trois"
     ],
     "language": "python",
     "metadata": {},
     "outputs": []
    },
    {
     "cell_type": "markdown",
     "metadata": {},
     "source": [
      "Affaire de go\u00fbt \u00e9videmment. Mais n'oublions pas une des phrases du zen de python $\\textit{Flat is better than nested}$, ce qui veut dire que \u00e7a n'est pas parce que vous pouvez faire des structures imbriqu\u00e9es complexes que vous devez le faire. Bien souvent, cela rend la lecture et la maintenance du code complexe, j'esp\u00e8re que l'exemple pr\u00e9c\u00e9dent vous en a convaincu."
     ]
    },
    {
     "cell_type": "heading",
     "level": 3,
     "metadata": {},
     "source": [
      "Plusieurs occurrences d'une m\u00eame variable"
     ]
    },
    {
     "cell_type": "markdown",
     "metadata": {},
     "source": [
      "On peut \u00e9galement utiliser **plusieurs fois** la m\u00eame variable dans la partie gauche de l'affectation. "
     ]
    },
    {
     "cell_type": "code",
     "collapsed": false,
     "input": [
      "entree = [1, 2, 3]\n",
      "a, a, a = entree\n",
      "print 'a', a"
     ],
     "language": "python",
     "metadata": {},
     "outputs": []
    },
    {
     "cell_type": "markdown",
     "metadata": {},
     "source": [
      "*Attention* toutefois, comme on le voit ici, python n'impose pas que les diff\u00e9rentes occurrences de `a` correspondent \u00e0 des valeurs identiques (en langage savant, on dirait que cela ne permet pas de faire de l'unification). De mani\u00e8re beaucoup plus pragmatique, l'interpr\u00e9teur se contente de faire comme s'il faisait l'affectation plusieurs fois de gauche \u00e0 droite, c'est-\u00e0-dire comme si il faisait&nbsp;:"
     ]
    },
    {
     "cell_type": "code",
     "collapsed": false,
     "input": [
      "a = 1; a = 2; a = 3"
     ],
     "language": "python",
     "metadata": {},
     "outputs": []
    },
    {
     "cell_type": "markdown",
     "metadata": {},
     "source": [
      "Cette technique n'est utilis\u00e9e en pratique que pour les parties de la structure dont on n'a que faire dans le contexte. Dans ces cas-l\u00e0, il arrive qu'on utilise le nom de variable `_`, dont on rappelle qu'il est l\u00e9gal, ou tout autre nom comme `ignored` pour manifester le fait que cette partie de la structure ne sera pas utilis\u00e9, par exemple&nbsp;:"
     ]
    },
    {
     "cell_type": "code",
     "collapsed": false,
     "input": [
      "entree = [1, 2, 3]\n",
      "\n",
      "_, milieu, _ = entree\n",
      "print 'milieu', milieu\n",
      "\n",
      "ignored, ignored, right = entree\n",
      "print 'right', right"
     ],
     "language": "python",
     "metadata": {},
     "outputs": []
    }
   ],
   "metadata": {}
  }
 ]
}