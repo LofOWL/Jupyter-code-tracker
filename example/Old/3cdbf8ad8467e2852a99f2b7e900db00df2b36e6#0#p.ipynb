{
 "metadata": {
  "kernelspec": {
   "display_name": "Python 2", 
   "language": "python", 
   "name": "python2"
  }, 
  "name": "", 
  "notebookname": "Caract\u00e8res accentu\u00e9s", 
  "version": "2.0"
 }, 
 "nbformat": 2, 
 "nbformat_minor": 0, 
 "orig_nbformat": 4, 
 "orig_nbformat_minor": 0, 
 "worksheets": [
  {
   "cells": [
    {
     "cell_type": "markdown", 
     "metadata": {}, 
     "source": [
      "<span style=\"float:left;\">Licence CC BY-NC-ND</span><span style=\"float:right;\">Thierry Parmentelat &amp; Arnaud Legout&nbsp;<img src=\"media/inria-25.png\" style=\"display:inline\"></span><br/>"
     ]
    }, 
    {
     "cell_type": "markdown", 
     "metadata": {}, 
     "source": [
      "# Caract\u00e8res accentu\u00e9s"
     ]
    }, 
    {
     "cell_type": "markdown", 
     "metadata": {}, 
     "source": [
      "Ce compl\u00e9ment expose quelques bases concernant les caract\u00e8res accentu\u00e9s, et notamment les pr\u00e9cautions \u00e0 prendre pour pouvoir en ins\u00e9rer dans un programme python. Nous allons voir que cette question, assez scabreuse, d\u00e9passe tr\u00e8s largement le cadre de python *per se*."
     ]
    }, 
    {
     "cell_type": "markdown", 
     "metadata": {}, 
     "source": [
      "## Compl\u00e9ment - niveau basique"
     ]
    }, 
    {
     "cell_type": "markdown", 
     "metadata": {}, 
     "source": [
      "Notre premier conseil, si vous voulez \u00e9viter les soucis et vous concentrer sur notre objectif qui est d'apprendre le langage python, est autant que possible **d'\u00e9viter d'utiliser des accents** dans le code source.", 
      "", 
      "D'ailleurs nous vous recommandons dans toute la mesure du possible d'\u00e9crire votre code en anglais, comme c'est le cas pour la quasi-totalit\u00e9 du code que vous serez amen\u00e9s \u00e0 utiliser sous forme de librairies - m\u00eame si dans ce cours nous avons essay\u00e9 de produire nos exemples en fran\u00e7ais."
     ]
    }, 
    {
     "cell_type": "markdown", 
     "metadata": {}, 
     "source": [
      "## Compl\u00e9ment - niveau interm\u00e9diaire"
     ]
    }, 
    {
     "cell_type": "markdown", 
     "metadata": {}, 
     "source": [
      "### O\u00f9 peut-on mettre des accents ?"
     ]
    }, 
    {
     "cell_type": "markdown", 
     "metadata": {}, 
     "source": [
      "Cela \u00e9tant dit, si vous devez vraiment mettre des accents dans vos sources, sachez toutefois que:", 
      "", 
      " * il n'est **pas possible** d'utiliser un caract\u00e8re accentu\u00e9 dans le **nom d'une variable** (ou d'un identificateur au sens large), cela n'est tout simplement pas autoris\u00e9 par le langage"
     ]
    }, 
    {
     "cell_type": "markdown", 
     "metadata": {}, 
     "source": [
      "    # ceci est interdit par le langage :", 
      "    nb_\u00e9l\u00e8ves = 1"
     ]
    }, 
    {
     "cell_type": "markdown", 
     "metadata": {}, 
     "source": [
      " * Le seul endroit du programme - hors commentaires - o\u00f9 vous pouvez mettre des accents est dans les cha\u00eenes de caract\u00e8res. Cela dit, les donn\u00e9es manipul\u00e9es par un programme proviennent pour l'essentiel de sources externes, comme une base de donn\u00e9es ou un formulaire web, mais pas directement du code source. Les cha\u00eenes de caract\u00e8res pr\u00e9sentes dans du vrai code sont bien souvent limit\u00e9es \u00e0 des messages de logging, et le plus souvent d'ailleurs en anglais, donc sans accent."
     ]
    }, 
    {
     "cell_type": "markdown", 
     "metadata": {}, 
     "source": [
      "    message = \"on peut mettre un caract\u00e8re accentu\u00e9 dans une cha\u00eene\""
     ]
    }, 
    {
     "cell_type": "markdown", 
     "metadata": {}, 
     "source": [
      "  * Enfin on peut aussi envisager de mettre des caract\u00e8res accentu\u00e9s dans les commentaires, si on choisit malgr\u00e9 tout d'\u00e9crire le code en fran\u00e7ais"
     ]
    }, 
    {
     "cell_type": "markdown", 
     "metadata": {}, 
     "source": [
      "    # on peut mettre un caract\u00e8re accentu\u00e9 dans un commentaire"
     ]
    }, 
    {
     "cell_type": "markdown", 
     "metadata": {}, 
     "source": [
      "### Pr\u00e9cautions \u00e0 prendre"
     ]
    }, 
    {
     "cell_type": "markdown", 
     "metadata": {}, 
     "source": [
      "Si votre ordinateur est configur\u00e9 pour le fran\u00e7ais, il y a une chance pour que vous puissiez faire tourner localement des sources contenant des accents - par exemple \u00e9crits avec IDLE - sans prendre de disposition particuli\u00e8re. ", 
      "", 
      "Toutefois, nous vous conseillons dans ce cas de prendre l'habitude de faire figurer dans vos fichiers, **en premi\u00e8re ou deuxi\u00e8me ligne**, une d\u00e9claration comme ceci", 
      "", 
      "    # -*- coding: <nom_de_l_encodage> -*-"
     ]
    }, 
    {
     "cell_type": "markdown", 
     "metadata": {}, 
     "source": [
      "Ainsi il est sans doute raisonnable d'utiliser ceci&nbsp;:"
     ]
    }, 
    {
     "cell_type": "markdown", 
     "metadata": {}, 
     "source": [
      "    # -*- coding: utf-8 -*-"
     ]
    }, 
    {
     "cell_type": "markdown", 
     "metadata": {}, 
     "source": [
      "Le nom **`utf-8`** fait r\u00e9f\u00e9rence \u00e0 **Unicode** (ou pour \u00eatre pr\u00e9cis, \u00e0 l'encodage le plus r\u00e9pandu parmi ceux qui sont d\u00e9finis dans la norme Unicode, comme nous le verrons plus bas). Sur certains syst\u00e8mes plus anciens vous pourrez \u00eatre amen\u00e9s \u00e0 utiliser un autre encodage. Pour d\u00e9terminer la valeur \u00e0 utiliser dans votre cas pr\u00e9cis vous pouvez faire dans l'interpr\u00e9teur interactif&nbsp;:"
     ]
    }, 
    {
     "cell_type": "markdown", 
     "metadata": {}, 
     "source": [
      "    # ceci doit \u00eatre ex\u00e9cut\u00e9 sur votre machine", 
      "    import sys", 
      "    print sys.getdefaultencoding()"
     ]
    }, 
    {
     "cell_type": "markdown", 
     "metadata": {}, 
     "source": [
      "Par exemple avec d'anciennes versions de Windows vous pouvez \u00eatre amen\u00e9s \u00e0 \u00e9crire&nbsp;:"
     ]
    }, 
    {
     "cell_type": "markdown", 
     "metadata": {}, 
     "source": [
      "    # -*- coding: cp1252 -*-"
     ]
    }, 
    {
     "cell_type": "markdown", 
     "metadata": {}, 
     "source": [
      "La syntaxe de la ligne `coding` est pr\u00e9cis\u00e9e dans [cette documentation](https://docs.python.org/2/reference/lexical_analysis.html#encoding-declarations)"
     ]
    }, 
    {
     "cell_type": "markdown", 
     "metadata": {}, 
     "source": [
      "### Qu'est-ce qu'un encodage ?"
     ]
    }, 
    {
     "cell_type": "markdown", 
     "metadata": {}, 
     "source": [
      "Comme vous le savez, la m\u00e9moire - ou le disque - d'un ordinateur ne permet que de stocker des repr\u00e9sentations binaires. Il n'y a donc pas de fa\u00e7on \"naturelle\" de repr\u00e9senter un caract\u00e8re comme 'A' ou  un guillemet ou un point-virgule.", 
      "", 
      "On utilise pour cela un encodage; par exemple le code US-ASCII - http://www.asciitable.com/ - stipule pour faire simple qu'un 'A' est repr\u00e9sent\u00e9 par l'octet 65 qui s'\u00e9crit en binaire 01000001. Il se trouve qu'il existe plusieurs encodages, bien s\u00fbr incompatibles, selon les syst\u00e8mes et les langues. Vous trouverez plus de d\u00e9tails ci-dessous.", 
      "", 
      "Le point important est que pour pouvoir ouvrir un fichier \"proprement\", il faut disposer du contenu du fichier, mais il faut aussi conna\u00eetre l'encodage."
     ]
    }, 
    {
     "cell_type": "markdown", 
     "metadata": {}, 
     "source": [
      "### Le grand malentendu"
     ]
    }, 
    {
     "cell_type": "markdown", 
     "metadata": {}, 
     "source": [
      "Cela signifie que si je vous envoie un fichier contenant du fran\u00e7ais encod\u00e9 avec, disons, ISO-latin-15 -- http://en.wikipedia.org/wiki/ISO/IEC_8859-15 --  vous pouvez voir dans la table qu'un caract\u00e8re '\u20ac' va \u00eatre mat\u00e9rialis\u00e9 dans mon fichier par un octet '0xA4', soit 164.", 
      "", 
      "Imaginez maintenant vous essayez d'ouvrir ceci depuis un ordinateur Windows configur\u00e9 pour le fran\u00e7ais.", 
      "Si on ne lui donne aucune indication sur l'encodage, le programme qui va lire ce fichier sur windows va utiliser l'encodage par d\u00e9faut du syst\u00e8me, c'est-\u00e0-dire `cp1252`- http://en.wikipedia.org/wiki/Windows-1252. Comme vous le voyez dans cette table, l'octet '0xA4' correspond au caract\u00e8re \u00a4 et c'est \u00e7a que vous allez voir \u00e0 la place de \u20ac.", 
      "", 
      "C'est \u00e0 cela que sert la balise `# -*- coding: <nom_de_l_encodage> -*-` ", 
      "", 
      "De cette mani\u00e8re python a les moyens d'interpr\u00e9ter correctement votre fichier source car il sait quel encodage utiliser. "
     ]
    }, 
    {
     "cell_type": "markdown", 
     "metadata": {}, 
     "source": [
      "### Pourquoi \u00e7a marche en local ?"
     ]
    }, 
    {
     "cell_type": "markdown", 
     "metadata": {}, 
     "source": [
      "Lorsque le producteur (le programme qui \u00e9crit le fichier) et le consommateur (le programme qui le lit) tournent dans le m\u00eame ordinateur, tout fonctionne bien - en g\u00e9n\u00e9ral - parce que les deux programmes se ram\u00e8nent \u00e0 l'encodage d\u00e9fini comme d\u00e9faut. ", 
      "On a vu pourquoi il vaut mieux toutefois \u00eatre explicite, et sp\u00e9cifier la balise `coding:` ", 
      "", 
      "Il y a une limite toutefois; si vous utiliser un linux configur\u00e9 de mani\u00e8re minimale, il se peut qu'il utilise par d\u00e9faut l'encodage US-ASCII - voir plus bas - qui \u00e9tant tr\u00e8s ancien ne \"conna\u00eet\" pas un simple \u00e9, ni a fortiori \u20ac. Pour \u00e9crire du fran\u00e7ais il faut donc au minimum que l'encodage par d\u00e9faut de votre ordinateur contienne les caract\u00e8res fran\u00e7ais, comme par exemple ", 
      " * iso-latin-1", 
      " * iso-latin-15", 
      " * utf-8", 
      " * cp1252"
     ]
    }, 
    {
     "cell_type": "markdown", 
     "metadata": {}, 
     "source": [
      "### Un peu d'histoire sur les encodages"
     ]
    }, 
    {
     "cell_type": "markdown", 
     "metadata": {}, 
     "source": [
      "##### Le code US-ASCII"
     ]
    }, 
    {
     "cell_type": "markdown", 
     "metadata": {}, 
     "source": [
      "Jusque dans les ann\u00e9es 1980, les ordinateurs ne parlaient pour l'essentiel que l'anglais. La premi\u00e8re vague de standardisation avait cr\u00e9\u00e9 l'encodage dit ASCII, ou encore US-ASCII - voir par exemple http://www.asciitable.com, ou en version longue http://en.wikipedia.org/wiki/ASCII.", 
      "", 
      "Le code ASCII s'\u00e9tend sur 128 valeurs, soit 7 bits, mais est le plus souvent impl\u00e9ment\u00e9 sur un octet pour pr\u00e9server l'alignement, le dernier bit pouvant \u00eatre utilis\u00e9 par exemple pour ajouter un code correcteur d'erreur - ce qui \u00e0 l'\u00e9poque des modems n'\u00e9tait pas superflu. Bref, la pratique courante \u00e9tait alors de manipuler une cha\u00eene de caract\u00e8res comme un tableau d'octets."
     ]
    }, 
    {
     "cell_type": "markdown", 
     "metadata": {}, 
     "source": [
      "##### Les encodages ISO-latin"
     ]
    }, 
    {
     "cell_type": "markdown", 
     "metadata": {}, 
     "source": [
      "Dans les ann\u00e9es 1990, pour satisfaire les besoins des pays europ\u00e9ens, ont \u00e9t\u00e9 d\u00e9finis plusieurs encodages alternatifs, connus sous le nom de [ISO-latin](http://en.wikipedia.org/wiki/ISO/IEC_8859), ou encore [ISO-8859](http://en.wikipedia.org/wiki/ISO/IEC_8859). Id\u00e9alement, on aurait pu et **certainement d\u00fb** d\u00e9finir un seul encodage pour repr\u00e9senter tous les nouveaux caract\u00e8res; mais entre toutes les langues europ\u00e9ennes, le nombre de caract\u00e8res \u00e0 ajouter \u00e9tait substantiel, et cet encodage unifi\u00e9 aurait largement d\u00e9pass\u00e9 256 caract\u00e8res diff\u00e9rents, il n'aurait donc **pas \u00e9t\u00e9 possible** de tout faire tenir sur un octet.", 
      "", 
      "Mais on a pr\u00e9f\u00e9r\u00e9 pr\u00e9server la \"bonne propri\u00e9t\u00e9\" du mod\u00e8le *un caract\u00e8re* == *un octet*, ceci afin de pr\u00e9server le code existant qui aurait sinon d\u00fb \u00eatre retouch\u00e9 ou r\u00e9crit.", 
      "", 
      "D\u00e8s lors il n'y avait pas d'autre choix que de d\u00e9finir **plusieurs** encodages distincts; par exemple pour le fran\u00e7ais on a utilis\u00e9 \u00e0 l'\u00e9poque [ISO-latin-1](http://en.wikipedia.org/wiki/ISO/IEC_8859-1); pour le russe [ISO-latin-5](http://en.wikipedia.org/wiki/ISO/IEC_8859-5).", 
      "", 
      "\u00c0 ce stade, le ver \u00e9tait dans le fruit. Depuis cette \u00e9poque pour ouvrir un fichier il faut conna\u00eetre son encodage.  "
     ]
    }, 
    {
     "cell_type": "markdown", 
     "metadata": {}, 
     "source": [
      "##### Unicode"
     ]
    }, 
    {
     "cell_type": "markdown", 
     "metadata": {}, 
     "source": [
      "", 
      "Lorsqu'on a ensuite cherch\u00e9 \u00e0 manipuler aussi les langues asiatiques, il a de toutes fa\u00e7ons fallu d\u00e9finir de nouveaux encodages beaucoup plus larges. C'est ce qui a \u00e9t\u00e9 fait par le standard [Unicode](http://en.wikipedia.org/wiki/Unicode) qui d\u00e9finit 3 nouveaux encodages:", 
      " * [UTF-8](http://en.wikipedia.org/wiki/UTF-8) : un encodage \u00e0 taille variable, \u00e0 base d'octets, qui maximise la compatibilit\u00e9 avec ASCII,", 
      " * [UTF-16](http://en.wikipedia.org/wiki/UTF-16) : un encodage \u00e0 taille variable, \u00e0 base de mots de 16 bits", 
      " * [UTF-32](http://en.wikipedia.org/wiki/UTF-32) : un encodage \u00e0 taille fixe, \u00e0 base de mots de 32 bits", 
      " ", 
      "Ces 3 standards couvrent le m\u00eame jeu de caract\u00e8res (113 021 tout de m\u00eame dans la derni\u00e8re version). Parmi ceux-ci le plus utilis\u00e9 est certainement `utf-8`. Un texte ne contenant que des caract\u00e8res du code US-ASCII initial peut \u00eatre lu avec l'encodage UTF-8.", 
      "", 
      "Pour \u00eatre enfin tout \u00e0 fait exhaustif, si on sait qu'un fichier est au format Unicode, on peut d\u00e9terminer quel est l'encodage qu'il utilise, en se basant sur les 4 premiers octets du document; ainsi dans ce cas particulier (lorsqu'on est s\u00fbr qu'un document est dans un des formats Unicode) il n'est plus n\u00e9cessaire de conna\u00eetre son encodage de mani\u00e8re \"externe\"."
     ]
    }, 
    {
     "cell_type": "markdown", 
     "metadata": {}, 
     "source": [
      "##### Un caract\u00e8re ce n'est pas un octet"
     ]
    }, 
    {
     "cell_type": "markdown", 
     "metadata": {}, 
     "source": [
      "Avec Unicode, vous voyez qu'on a cass\u00e9 le mod\u00e8le *un caract\u00e8re* == *un octet*. Avec ISO-latin, l'humanit\u00e9 a gagn\u00e9 du temps pour r\u00e9crire tous les programmes qui faisaient, de mani\u00e8re erron\u00e9e, la confusion entre les deux.", 
      "", 
      "Pour revenir \u00e0 python, lorsqu'il s'agit de manipuler des cha\u00eenes de caract\u00e8res (qui \u00e0 nouveau, peuvent provenir de n'importe quelle source de donn\u00e9es), et pour anticiper un peu", 
      " * Dans la version 2, il y a deux types pr\u00e9d\u00e9finis `str` et `unicode` pour impl\u00e9menter les deux mod\u00e8les, respectivement", 
      "   * `str`: un caract\u00e8re par octet, qui fonctionne encore avec les langues europ\u00e9ennes", 
      "   * `unicode`: un type qui permet de manipuler des cha\u00eenes de caract\u00e8res unicode.  Je vous renvoie \u00e0 [la page sur `unicode`](https://docs.python.org/2/howto/unicode.html) pour plus de d\u00e9tails sur le type `unicode`, que nous **n'approfondissons pas dans le MOOC**.", 
      " * Pour information, dans la version python 3, les deux types ont \u00e9t\u00e9 unifi\u00e9s, et le nom `str` d\u00e9signe maintenant un type capable de manipuler des cha\u00eenes en Unicode, ce qui semble logique compte tenu de ce qui pr\u00e9c\u00e8de; les encodages \u00e0 la ISO-latin sont certainement amen\u00e9s \u00e0 tomber en d\u00e9su\u00e9tude de toutes fa\u00e7ons."
     ]
    }, 
    {
     "cell_type": "markdown", 
     "metadata": {}, 
     "source": [
      "-----"
     ]
    }, 
    {
     "cell_type": "markdown", 
     "metadata": {}, 
     "source": [
      "Je vous avais bien dit que les accents c'\u00e9tait scabreux !"
     ]
    }
   ], 
   "metadata": {}
  }
 ]
}
