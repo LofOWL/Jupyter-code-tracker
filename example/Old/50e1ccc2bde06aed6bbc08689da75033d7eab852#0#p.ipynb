{
 "metadata": {
  "kernelspec": {
   "display_name": "Python 2", 
   "language": "python", 
   "name": "python2"
  }, 
  "name": "", 
  "notebookname": "Dictionnaires", 
  "version": "2.0"
 }, 
 "nbformat": 2, 
 "nbformat_minor": 0, 
 "orig_nbformat": 4, 
 "orig_nbformat_minor": 0, 
 "worksheets": [
  {
   "cells": [
    {
     "cell_type": "markdown", 
     "metadata": {}, 
     "source": [
      "<span style=\"float:left;\">Licence CC BY-NC-ND</span><span style=\"float:right;\">Thierry Parmentelat &amp; Arnaud Legout&nbsp;<img src=\"media/inria-25.png\" style=\"display:inline\"></span><br/>"
     ]
    }, 
    {
     "cell_type": "markdown", 
     "metadata": {}, 
     "source": [
      "# Dictionnaires"
     ]
    }, 
    {
     "cell_type": "markdown", 
     "metadata": {}, 
     "source": [
      "## Compl\u00e9ment - niveau basique"
     ]
    }, 
    {
     "cell_type": "markdown", 
     "metadata": {}, 
     "source": [
      "Ce document r\u00e9sume les op\u00e9rations courantes disponibles sur le type `dict`. On rappelle que le type `dict` est un type **mutable**."
     ]
    }, 
    {
     "cell_type": "markdown", 
     "metadata": {}, 
     "source": [
      "### Cr\u00e9ation en extension"
     ]
    }, 
    {
     "cell_type": "markdown", 
     "metadata": {}, 
     "source": [
      "On l'a vu, la m\u00e9thode la plus directe pour cr\u00e9er un dictionnaire est en extension comme ceci"
     ]
    }, 
    {
     "cell_type": "code", 
     "collapsed": false, 
     "input": [
      "annuaire = {'marc': 35, 'alice': 30, 'eric': 38}", 
      "print annuaire"
     ], 
     "language": "python", 
     "metadata": {}, 
     "outputs": [], 
     "prompt_number": null
    }, 
    {
     "cell_type": "markdown", 
     "metadata": {}, 
     "source": [
      "### Cr\u00e9ation - la fonction dict"
     ]
    }, 
    {
     "cell_type": "markdown", 
     "metadata": {}, 
     "source": [
      "Comme pour les fonctions `int` ou `list`, la fonction `dict` est une fonction de construction de dictionnaire - on dit un constructeur - dont on a aussi vu dans la vid\u00e9o l'usage habituel \u00e0 base d'une liste de tuples (`cl\u00e9`, `valeur`)"
     ]
    }, 
    {
     "cell_type": "code", 
     "collapsed": false, 
     "input": [
      "annuaire = dict([('marc', 35), ('alice', 30), ('eric', 38)])", 
      "print annuaire"
     ], 
     "language": "python", 
     "metadata": {}, 
     "outputs": [], 
     "prompt_number": null
    }, 
    {
     "cell_type": "markdown", 
     "metadata": {}, 
     "source": [
      "Remarquons qu'on peut aussi utiliser cette autre forme d'appel \u00e0 `dict` pour un r\u00e9sultat \u00e9quivalent"
     ]
    }, 
    {
     "cell_type": "code", 
     "collapsed": false, 
     "input": [
      "annuaire = dict(marc=35, alice=30, eric=38)", 
      "print annuaire"
     ], 
     "language": "python", 
     "metadata": {}, 
     "outputs": [], 
     "prompt_number": null
    }, 
    {
     "cell_type": "markdown", 
     "metadata": {}, 
     "source": [
      "Remarquez ci-dessus l'absence de quotes autour des cl\u00e9s comme `marc`. Il s'agit d'un cas particulier de passage d'arguments que nous expliciterons plus longuement en fin de semaine 4."
     ]
    }, 
    {
     "cell_type": "markdown", 
     "metadata": {}, 
     "source": [
      "### Acc\u00e8s atomique"
     ]
    }, 
    {
     "cell_type": "markdown", 
     "metadata": {}, 
     "source": [
      "Pour acc\u00e9der \u00e0 la valeur associ\u00e9e \u00e0 une cl\u00e9, on utilise la notation \u00e0 base de crochets `[]`"
     ]
    }, 
    {
     "cell_type": "code", 
     "collapsed": false, 
     "input": [
      "print 'la valeur pour marc est', annuaire['marc']"
     ], 
     "language": "python", 
     "metadata": {}, 
     "outputs": [], 
     "prompt_number": null
    }, 
    {
     "cell_type": "markdown", 
     "metadata": {}, 
     "source": [
      "Cette forme d'acc\u00e8s ne fonctionne que si la cl\u00e9 est effectivement pr\u00e9sente dans le dictionnaire. Dans le cas contraire une exception `KeyError` est lev\u00e9e. Si vous n'\u00eates pas s\u00fbr si la cl\u00e9 est pr\u00e9sente, vous pouvez utiliser `get` qui accepte une valeur par d\u00e9faut"
     ]
    }, 
    {
     "cell_type": "code", 
     "collapsed": false, 
     "input": [
      "print 'valeur pour marc', annuaire.get('marc', 0)", 
      "print 'valeur pour inconnu', annuaire.get('inconnu', 0)"
     ], 
     "language": "python", 
     "metadata": {}, 
     "outputs": [], 
     "prompt_number": null
    }, 
    {
     "cell_type": "markdown", 
     "metadata": {}, 
     "source": [
      "Le dictionnaire est un type **mutable**, aussi on peut **modifier la valeur** associ\u00e9e \u00e0 une cl\u00e9"
     ]
    }, 
    {
     "cell_type": "code", 
     "collapsed": false, 
     "input": [
      "annuaire['eric'] = 39", 
      "print annuaire"
     ], 
     "language": "python", 
     "metadata": {}, 
     "outputs": [], 
     "prompt_number": null
    }, 
    {
     "cell_type": "markdown", 
     "metadata": {}, 
     "source": [
      "Ou encore, exactement de la m\u00eame fa\u00e7on, **ajouter une entr\u00e9e**"
     ]
    }, 
    {
     "cell_type": "code", 
     "collapsed": false, 
     "input": [
      "annuaire['bob'] = 42", 
      "print annuaire"
     ], 
     "language": "python", 
     "metadata": {}, 
     "outputs": [], 
     "prompt_number": null
    }, 
    {
     "cell_type": "markdown", 
     "metadata": {}, 
     "source": [
      "Enfin pour **d\u00e9truire une entr\u00e9e**, on peut utiliser l'instruction `del` comme ceci"
     ]
    }, 
    {
     "cell_type": "code", 
     "collapsed": false, 
     "input": [
      "del annuaire['marc']", 
      "print annuaire"
     ], 
     "language": "python", 
     "metadata": {}, 
     "outputs": [], 
     "prompt_number": null
    }, 
    {
     "cell_type": "markdown", 
     "metadata": {}, 
     "source": [
      "Pour savoir si une cl\u00e9 est pr\u00e9sente ou non, il est conseill\u00e9 d'utiliser l'op\u00e9rateur d'appartenance `in` comme ceci"
     ]
    }, 
    {
     "cell_type": "code", 
     "collapsed": false, 
     "input": [
      "# forme recommand\u00e9e", 
      "print 'john' in annuaire"
     ], 
     "language": "python", 
     "metadata": {}, 
     "outputs": [], 
     "prompt_number": null
    }, 
    {
     "cell_type": "markdown", 
     "metadata": {}, 
     "source": [
      "Notez qu'avec des versions plus anciennes de python, vous pourrez trouver aussi du code qui utilise la m\u00e9thode `has_key` qui n'est plus recommand\u00e9e"
     ]
    }, 
    {
     "cell_type": "code", 
     "collapsed": false, 
     "input": [
      "# forme obsolete", 
      "annuaire.has_key('john')"
     ], 
     "language": "python", 
     "metadata": {}, 
     "outputs": [], 
     "prompt_number": null
    }, 
    {
     "cell_type": "markdown", 
     "metadata": {}, 
     "source": [
      "### Acc\u00e8s \u00e0 toutes les entr\u00e9es"
     ]
    }, 
    {
     "cell_type": "markdown", 
     "metadata": {}, 
     "source": [
      "La m\u00e9thode la plus fr\u00e9quente pour \"balayer\" tout un dictionnaire est \u00e0 base de la m\u00e9thode `iteritems`; voici par exemple comment on pourrait afficher le contenu "
     ]
    }, 
    {
     "cell_type": "code", 
     "collapsed": false, 
     "input": [
      "for nom, age in annuaire.iteritems():", 
      "    print \"{}, age {}\".format(nom, age)"
     ], 
     "language": "python", 
     "metadata": {}, 
     "outputs": [], 
     "prompt_number": null
    }, 
    {
     "cell_type": "markdown", 
     "metadata": {}, 
     "source": [
      "On remarque d'abord que les entr\u00e9es sont list\u00e9es dans le d\u00e9sordre; ceci est d\u00fb \u00e0 l'action de la fonction de hachage, que nous avons vue dans la vid\u00e9o pr\u00e9c\u00e9dente."
     ]
    }, 
    {
     "cell_type": "markdown", 
     "metadata": {}, 
     "source": [
      "On remarque aussi que le nom de la m\u00e9thode est un peu \u00e9trange. En fait, il existe aussi une m\u00e9thode `items` qui remplit le m\u00eame r\u00f4le, et dont le nom est plus simple \u00e0 retenir. Cependant, nous vous conseillons d'utiliser syst\u00e9matiquement la m\u00e9thode `iteritems` qui, \u00e9tant impl\u00e9ment\u00e9e comme un it\u00e9rateur et non comme une liste, est pr\u00e9f\u00e9rable d\u00e8s que la taille du dictionnaire devient importante."
     ]
    }, 
    {
     "cell_type": "markdown", 
     "metadata": {}, 
     "source": [
      "Nous reviendrons sur la notion d'it\u00e9rateurs en semaine 3, mais voici un premier aper\u00e7u de la diff\u00e9rence entre ces deux m\u00e9thodes"
     ]
    }, 
    {
     "cell_type": "code", 
     "collapsed": false, 
     "input": [
      "print annuaire.items()"
     ], 
     "language": "python", 
     "metadata": {}, 
     "outputs": [], 
     "prompt_number": null
    }, 
    {
     "cell_type": "code", 
     "collapsed": false, 
     "input": [
      "print annuaire.iteritems()"
     ], 
     "language": "python", 
     "metadata": {}, 
     "outputs": [], 
     "prompt_number": null
    }, 
    {
     "cell_type": "markdown", 
     "metadata": {}, 
     "source": [
      "Comme vous l'avez peut-\u00eatre devin\u00e9, la diff\u00e9rence principale entre ces deux approches est que `items` construit **vraiment** un objet liste (qui peut \u00eatre tr\u00e8s grosse, et donc prendre de la place, et du temps \u00e0 calculer), alors que l'it\u00e9rateur rendu par `iteritems` est de taille constante, et se trouve construit tr\u00e8s rapidement.", 
      "", 
      "\u00c0 nouveau ce concept sera approfondi en semaine 3, mais si vous ne devez retenir qu'une seule m\u00e9thode pour \"balayer\" un dictionnaire, retenez **`iteritems`**"
     ]
    }, 
    {
     "cell_type": "markdown", 
     "metadata": {}, 
     "source": [
      "On peut obtenir la liste des cl\u00e9s et des valeurs avec"
     ]
    }, 
    {
     "cell_type": "code", 
     "collapsed": false, 
     "input": [
      "# utiliser de pr\u00e9f\u00e9rence ceci dans un \"for\"", 
      "print 'cl\u00e9s', annuaire.iterkeys()", 
      "print 'valeurs', annuaire.itervalues()"
     ], 
     "language": "python", 
     "metadata": {}, 
     "outputs": [], 
     "prompt_number": null
    }, 
    {
     "cell_type": "markdown", 
     "metadata": {}, 
     "source": [
      "qui sont comme iteritems la version \"it\u00e9rateur\" de `keys` et `values`"
     ]
    }, 
    {
     "cell_type": "code", 
     "collapsed": false, 
     "input": [
      "# utiliser ceci pour inspecter un dictionnaire dans un terminal", 
      "print 'cl\u00e9s', annuaire.keys()", 
      "print 'valeurs', annuaire.values()"
     ], 
     "language": "python", 
     "metadata": {}, 
     "outputs": [], 
     "prompt_number": null
    }, 
    {
     "cell_type": "markdown", 
     "metadata": {}, 
     "source": [
      "## Compl\u00e9ment - niveau interm\u00e9diaire"
     ]
    }, 
    {
     "cell_type": "markdown", 
     "metadata": {}, 
     "source": [
      "##### La fonction `len`"
     ]
    }, 
    {
     "cell_type": "markdown", 
     "metadata": {}, 
     "source": [
      "On peut comme d'habitude obtenir la taille d'un dictionnaire avec la fonction `len`"
     ]
    }, 
    {
     "cell_type": "code", 
     "collapsed": false, 
     "input": [
      "print '{} entr\u00e9es dans annuaire'.format(len(annuaire))"
     ], 
     "language": "python", 
     "metadata": {}, 
     "outputs": [], 
     "prompt_number": null
    }, 
    {
     "cell_type": "markdown", 
     "metadata": {}, 
     "source": [
      "##### La m\u00e9thode `update`"
     ]
    }, 
    {
     "cell_type": "markdown", 
     "metadata": {}, 
     "source": [
      "On peut \u00e9galement modifier un dictionnaire avec le contenu d'un autre dictionnaire avec la m\u00e9thode `update`"
     ]
    }, 
    {
     "cell_type": "code", 
     "collapsed": false, 
     "input": [
      "annuaire.update({'jean':25, 'eric':70})", 
      "annuaire.items()"
     ], 
     "language": "python", 
     "metadata": {}, 
     "outputs": [], 
     "prompt_number": null
    }, 
    {
     "cell_type": "markdown", 
     "metadata": {}, 
     "source": [
      "##### La m\u00e9thode `setdefault`"
     ]
    }, 
    {
     "cell_type": "markdown", 
     "metadata": {}, 
     "source": [
      "[Cette m\u00e9thode](https://docs.python.org/2/library/stdtypes.html#dict.setdefault) permet, en un seul appel, de retourner la valeur associ\u00e9e \u00e0 une cl\u00e9 et de cr\u00e9er cette cl\u00e9 au besoin, c'est \u00e0 dire si elle n'est pas encore pr\u00e9sente"
     ]
    }, 
    {
     "cell_type": "code", 
     "collapsed": false, 
     "input": [
      "print 'avant', annuaire", 
      "print 'set_default eric',annuaire.setdefault('eric', 50)", 
      "print 'set_default inconnu',annuaire.setdefault('inconnu', 50)", 
      "print 'apr\u00e8s', annuaire"
     ], 
     "language": "python", 
     "metadata": {}, 
     "outputs": [], 
     "prompt_number": null
    }, 
    {
     "cell_type": "markdown", 
     "metadata": {}, 
     "source": [
      "Notez bien que `setdefault` ne **modifie jamais** la valeur associ\u00e9e \u00e0 une cl\u00e9 d\u00e9j\u00e0 pr\u00e9sente dans le dictionnaire, comme le nom le sugg\u00e8re d'ailleurs."
     ]
    }, 
    {
     "cell_type": "markdown", 
     "metadata": {}, 
     "source": [
      "##### Pour en savoir plus sur le type `dict`"
     ]
    }, 
    {
     "cell_type": "markdown", 
     "metadata": {}, 
     "source": [
      "Pour une liste exhaustive reportez-vous \u00e0 la page de la documentation python ici", 
      "", 
      "https://docs.python.org/2/library/stdtypes.html#mapping-types-dict"
     ]
    }, 
    {
     "cell_type": "markdown", 
     "metadata": {}, 
     "source": [
      "### Dictionnaires avec ordre"
     ]
    }, 
    {
     "cell_type": "markdown", 
     "metadata": {}, 
     "source": [
      "Comme cela devrait \u00eatre clair \u00e0 pr\u00e9sent, un dictionnaire est non ordonn\u00e9, dans ce sens qu'il ne se souvient pas de l'ordre dans lequel les \u00e9l\u00e9ments ont \u00e9t\u00e9 ins\u00e9r\u00e9s."
     ]
    }, 
    {
     "cell_type": "code", 
     "collapsed": false, 
     "input": [
      "d = dict()", 
      "for i in ['a', 7, 3, 'x']: ", 
      "    d[i] = i", 
      "for k, v in d.iteritems():", 
      "    print 'dict', k, v"
     ], 
     "language": "python", 
     "metadata": {}, 
     "outputs": [], 
     "prompt_number": null
    }, 
    {
     "cell_type": "markdown", 
     "metadata": {}, 
     "source": [
      "Signalons \u00e9galement l'existence dans [le module `collections`](https://docs.python.org/2/library/collections.html) de la classe [`OrderedDict`](https://docs.python.org/2/library/collections.html#collections.OrderedDict), qui est une extension du type `dict` mais qui poss\u00e8de cette bonne propri\u00e9t\u00e9:"
     ]
    }, 
    {
     "cell_type": "code", 
     "collapsed": false, 
     "input": [
      "from collections import OrderedDict", 
      "d = OrderedDict()", 
      "for i in ['a', 7, 3, 'x']: ", 
      "    d[i] = i", 
      "for k, v in d.iteritems():", 
      "    print 'OrderedDict', k, v"
     ], 
     "language": "python", 
     "metadata": {}, 
     "outputs": [], 
     "prompt_number": null
    }, 
    {
     "cell_type": "markdown", 
     "metadata": {}, 
     "source": [
      "## Compl\u00e9ment - niveau avanc\u00e9 "
     ]
    }, 
    {
     "cell_type": "markdown", 
     "metadata": {}, 
     "source": [
      "### Vues sur un dictionnaire"
     ]
    }, 
    {
     "cell_type": "markdown", 
     "metadata": {}, 
     "source": [
      "Signalons enfin [les m\u00e9thodes](https://docs.python.org/2/library/stdtypes.html#dict.viewitems)", 
      " * `viewitems`", 
      " * `viewkeys`", 
      " * `viewvalues`", 
      "", 
      "qui retournent des objets de type *vue*, qui sont dynamiquement mis \u00e0 jour:"
     ]
    }, 
    {
     "cell_type": "code", 
     "collapsed": false, 
     "input": [
      "# on cr\u00e9e un dictionnaire", 
      "d = dict(a=1, b=2, c=3)", 
      "# et une vue sur ce dictionnaire", 
      "view_values = d.viewvalues()", 
      "for v in view_values:", 
      "    print v"
     ], 
     "language": "python", 
     "metadata": {}, 
     "outputs": [], 
     "prompt_number": null
    }, 
    {
     "cell_type": "code", 
     "collapsed": false, 
     "input": [
      "# si on modifie le dictionnaire, la vue est modifi\u00e9e \u00e9galement", 
      "del d['b']", 
      "for v in view_values:", 
      "    print v"
     ], 
     "language": "python", 
     "metadata": {}, 
     "outputs": [], 
     "prompt_number": null
    }, 
    {
     "cell_type": "markdown", 
     "metadata": {}, 
     "source": [
      "Reportez vous \u00e0 [la section sur les vues de dictionnaires](https://docs.python.org/2/library/stdtypes.html#dictionary-view-objects) pour plus de d\u00e9tails."
     ]
    }
   ], 
   "metadata": {}
  }
 ]
}
