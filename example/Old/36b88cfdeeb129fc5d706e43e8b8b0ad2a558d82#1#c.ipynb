{
 "metadata": {
  "name": "NO HEADING 1 found",
  "notebookname": "NO HEADING 1 found",
  "signature": "34e9c43a97478384e3bfd1514dd6c086c0fbe5b416751c627bf1d33640e49e6b",
  "version": "1.0"
 },
 "nbformat": 3,
 "nbformat_minor": 0,
 "worksheets": [
  {
   "cells": [
    {
     "cell_type": "markdown",
     "metadata": {},
     "source": [
      "Quelques notes uniquement pour l'instant\n",
      "\n",
      "* typage statique : utile car le compilateur peut v\u00e9rifier des trucs \u00e0 propos de code qu'on n'ex\u00e9cute pas souvent;\n",
      "  mais tr\u00e8s contraignant pour le programmeur, qui doit fournir plus d'informations, et se retrouve parfois coinc\u00e9\n",
      "  \n",
      "* approche python : pas d'information de type dans le code (mais dans les objets) et v\u00e9rification \u00e0 run-time. On erl\u00e2che la contrainte sur le programmeur, le code est + petit, mais on d\u00e9couvre les erreurs de types tr\u00e8s tard (parfois trop tard alors que le code est en production)\n",
      "\n",
      "entre ces deux extr\u00eames : l'inf\u00e9rence de type (citer ML), le compilateur \"devine\" ce type d'informations, et le programmeur **peut** le cas \u00e9ch\u00e9ant aider en ajoutant des annotations"
     ]
    },
    {
     "cell_type": "markdown",
     "metadata": {},
     "source": [
      "Pour information il existe un projet baptis\u00e9 `mypy`, qui vise \u00e0 ajouter la possibilit\u00e9 d'annoter du code python avec des informations de type. Vous trouverez plus d'informations sur ce projet \u00e0 cette adresse\n",
      "\n",
      "http://www.mypy-lang.org/index.html\n"
     ]
    }
   ],
   "metadata": {}
  }
 ]
}