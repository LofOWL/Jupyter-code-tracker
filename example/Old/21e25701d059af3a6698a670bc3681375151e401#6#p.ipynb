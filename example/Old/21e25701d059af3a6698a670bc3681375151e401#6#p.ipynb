{
 "metadata": {
  "notebookname": "Fusionner des donn\u00e9es",
  "signature": "sha256:524b04ac30e2b652694ccc72ff2c58c48e4ef3137c372fb53f11366ad1752b69",
  "version": "2.0"
 },
 "nbformat": 3,
 "nbformat_minor": 0,
 "worksheets": [
  {
   "cells": [
    {
     "cell_type": "heading",
     "level": 1,
     "metadata": {},
     "source": [
      "Fusionner des donn\u00e9es"
     ]
    },
    {
     "cell_type": "heading",
     "level": 2,
     "metadata": {},
     "source": [
      "Exercices"
     ]
    },
    {
     "cell_type": "markdown",
     "metadata": {},
     "source": [
      "Cet exercice vient en deux versions, une de niveau basique et une de niveau interm\u00e9diaire.\n",
      "\n",
      "La version basique est une application de la technique d'indexation qu'on a vue dans le compl\u00e9ment \"G\u00e9rer des enregistrements\". On peut tr\u00e8s bien faire les deux versions dans l'ordre, une fois qu'on a fait la version basique on est en principe un peu plus avanc\u00e9 pour aborder la version interm\u00e9diaire.\n",
      "\n",
      "Vous trouverez \u00e9galement en fin de page quelques astuces pour utiliser le framework d'exercices, et notamment pour calculer vous m\u00eames le r\u00e9sultat attendu."
     ]
    },
    {
     "cell_type": "heading",
     "level": 3,
     "metadata": {},
     "source": [
      "Contexte"
     ]
    },
    {
     "cell_type": "markdown",
     "metadata": {},
     "source": [
      "Nous allons commencer \u00e0 utiliser des donn\u00e9es un peu plus r\u00e9alistes. Il s'agit de donn\u00e9es obtenues aupr\u00e8s de [MarineTraffic](https://www.marinetraffic.com) - et l\u00e9g\u00e8rement simplifi\u00e9es pour les besoins de l'exercice. Ce site expose les coordonn\u00e9es g\u00e9ographiques de bateaux observ\u00e9es en mer au travers d'un r\u00e9seau de collecte de type *crowdsourcing*. "
     ]
    },
    {
     "cell_type": "markdown",
     "metadata": {},
     "source": [
      "De mani\u00e8re \u00e0 optimiser le volume de donn\u00e9es \u00e0 transf\u00e9rer, l'API de MarineTraffic offre deux modes pour obtenir les donn\u00e9es\n",
      " * **mode \u00e9tendu** : chaque mesure (bateau x position x temps) est accompagn\u00e9e de tous les d\u00e9tails du bateau (`id`, nom, pays de rattachement, etc..)\n",
      " * **mode abr\u00e9g\u00e9** : chaque mesure est uniquement attach\u00e9e \u00e0 l'`id` du bateau.\n",
      " \n",
      "En effet, chaque bateau poss\u00e8de un identifiant unique qui est un entier, que l'on note  `id`."
     ]
    },
    {
     "cell_type": "heading",
     "level": 3,
     "metadata": {},
     "source": [
      "Chargement des donn\u00e9es"
     ]
    },
    {
     "cell_type": "markdown",
     "metadata": {},
     "source": [
      "Nous allons travailler avec une copie locale de ces donn\u00e9es; vous avez d\u00e8s maintenant acc\u00e8s aux deux fichiers\n",
      " * `data/marine-e1-ext.json` - donn\u00e9es \u00e9tendues\n",
      " * `data/marine-e1-abb.json` - donn\u00e9es abr\u00e9g\u00e9es"
     ]
    },
    {
     "cell_type": "markdown",
     "metadata": {},
     "source": [
      "Pour charger ces fichiers qui sont au [format JSON](http://en.wikipedia.org/wiki/JSON), la connaissance intime de ce format n'est pas n\u00e9cessaire, nous allons utiliser le [module `json`](https://docs.python.org/2/library/json.html). Vous pouvez utiliser la cellule qui suit telle quelle, ces d\u00e9tails ne font pas partie de l'exercice parce que cette cellule utilise des notions que nous verrons dans les semaines \u00e0 venir."
     ]
    },
    {
     "cell_type": "code",
     "collapsed": false,
     "input": [
      "# load data from files\n",
      "import json\n",
      "\n",
      "with open(\"data/marine-e1-ext.json\") as feed:\n",
      "    extended = json.load(feed)\n",
      "    \n",
      "with open(\"data/marine-e1-abb.json\") as feed:\n",
      "    abbreviated = json.load(feed)"
     ],
     "language": "python",
     "metadata": {},
     "outputs": []
    },
    {
     "cell_type": "heading",
     "level": 3,
     "metadata": {},
     "source": [
      "Format des donn\u00e9es"
     ]
    },
    {
     "cell_type": "markdown",
     "metadata": {},
     "source": [
      "Le format de ces donn\u00e9es est relativement simple, il s'agit dans les deux cas d'une liste d'entr\u00e9es - une par bateau.\n",
      "\n",
      "Chaque entr\u00e9e \u00e0 son tour est une liste qui contient :\n",
      "\n",
      "    mode \u00e9tendu: [id, latitude, longitude, date_heure, nom_bateau, code_pays, ...]\n",
      "    mode abr\u00e9g\u00e9: [id, latitude, longitude, date_heure]\n",
      "    \n",
      "sachant que les entr\u00e9es apr\u00e8s le code pays dans le format \u00e9tendu ne nous int\u00e9ressent pas pour cet exercice."
     ]
    },
    {
     "cell_type": "code",
     "collapsed": false,
     "input": [
      "# une entr\u00e9e \u00e9tendue est une liste qui ressemble \u00e0 ceci\n",
      "print extended[7]"
     ],
     "language": "python",
     "metadata": {},
     "outputs": []
    },
    {
     "cell_type": "code",
     "collapsed": false,
     "input": [
      "# une entr\u00e9e abr\u00e9g\u00e9e ressemblent \u00e0 ceci\n",
      "print abbreviated[0]"
     ],
     "language": "python",
     "metadata": {},
     "outputs": []
    },
    {
     "cell_type": "markdown",
     "metadata": {},
     "source": [
      "On pr\u00e9cise \u00e9galement que les deux listes `extended` et `abbreviated` poss\u00e8dent exactement **le m\u00eame nombre** d'entr\u00e9es et correspondent **aux m\u00eames bateaux** - mais naturellement \u00e0 des moments diff\u00e9rents, et **pas forc\u00e9ment dans le m\u00eame ordre**."
     ]
    },
    {
     "cell_type": "heading",
     "level": 3,
     "metadata": {},
     "source": [
      "Exercice - niveau basique"
     ]
    },
    {
     "cell_type": "heading",
     "level": 5,
     "metadata": {},
     "source": [
      "But de l'exercice"
     ]
    },
    {
     "cell_type": "markdown",
     "metadata": {},
     "source": [
      "On vous demande d'\u00e9crire une fonction `index` qui calcule, \u00e0 partir de la liste des donn\u00e9es \u00e9tendues, un dictionnaire qui est&nbsp;:\n",
      " * index\u00e9 par l'`id` de chaque bateau,\n",
      " * et qui a pour valeur la liste qui d\u00e9crit le bateau correspondant."
     ]
    },
    {
     "cell_type": "markdown",
     "metadata": {},
     "source": [
      "De mani\u00e8re plus imag\u00e9e, si&nbsp;:\n",
      "\n",
      "    extended = [ bateau1, bateau2, ... ]\n",
      "\n",
      "et si \n",
      "\n",
      "    bateau1 = [ id_bateau1, latitude, ... ]\n",
      "\n",
      "on doit obtenir comme r\u00e9sultat de `index` un dictionnaire \n",
      "\n",
      "    id_bateau1 -> [ id_bateau1, latitude, ... ]\n",
      "    \n",
      "Bref, on veut pourvoir retrouver les diff\u00e9rents \u00e9l\u00e9ments de la liste `extended` par acc\u00e8s direct (un seul *lookup*) dans l'index."
     ]
    },
    {
     "cell_type": "code",
     "collapsed": false,
     "input": [
      "# le r\u00e9sultat attendu\n",
      "from corrections.w3_marine_dict import exo_index\n",
      "result_index = exo_index.resultat(extended)\n",
      "\n",
      "# a quoi ressemble le r\u00e9sultat pour un bateau au hasard\n",
      "from pprint import pprint\n",
      "for key_value in result_index.iteritems():\n",
      "    pprint(key_value)\n",
      "    break"
     ],
     "language": "python",
     "metadata": {},
     "outputs": []
    },
    {
     "cell_type": "heading",
     "level": 5,
     "metadata": {},
     "source": [
      "Votre code"
     ]
    },
    {
     "cell_type": "code",
     "collapsed": false,
     "input": [
      "def index(extended):\n",
      "    \"<votre_code>\""
     ],
     "language": "python",
     "metadata": {},
     "outputs": []
    },
    {
     "cell_type": "code",
     "collapsed": false,
     "input": [
      "# xxx remove me\n",
      "from corrections.w3_marine_dict import index"
     ],
     "language": "python",
     "metadata": {},
     "outputs": []
    },
    {
     "cell_type": "heading",
     "level": 5,
     "metadata": {},
     "source": [
      "Validation"
     ]
    },
    {
     "cell_type": "code",
     "collapsed": false,
     "input": [
      "exo_index.correction(index, extended)"
     ],
     "language": "python",
     "metadata": {},
     "outputs": []
    },
    {
     "cell_type": "markdown",
     "metadata": {},
     "source": [
      "Vous remarquerez d'ailleurs que la seule chose qu'on utilise dans cet exercice, c'est que l'id des bateaux arrive en premi\u00e8re position (dans la liste qui mat\u00e9rialise le bateau), aussi votre code doit marcher \u00e0 l'identique avec les bateaux abr\u00e9g\u00e9s&nbsp;:"
     ]
    },
    {
     "cell_type": "code",
     "collapsed": false,
     "input": [
      "exo_index.correction(index, abbreviated)"
     ],
     "language": "python",
     "metadata": {},
     "outputs": []
    },
    {
     "cell_type": "heading",
     "level": 3,
     "metadata": {},
     "source": [
      "Exercice - niveau interm\u00e9diaire"
     ]
    },
    {
     "cell_type": "heading",
     "level": 5,
     "metadata": {},
     "source": [
      "But de l'exercice"
     ]
    },
    {
     "cell_type": "markdown",
     "metadata": {},
     "source": [
      "On vous demande d'\u00e9crire une fonction `merge` qui fasse une consolidation des donn\u00e9es, de fa\u00e7on \u00e0 obtenir en sortie un dictionnaire:\n",
      "\n",
      "    id -> [ nom_bateau, code_pays, position_etendu, position_abrege ]\n",
      "\n",
      "dans lequel les deux objets `position` sont tous les deux des tuples de la forme\n",
      "\n",
      "    (latitude, longitude, date_heure)"
     ]
    },
    {
     "cell_type": "markdown",
     "metadata": {},
     "source": [
      "Voici par exemple un couple cl\u00e9-valeur dans le r\u00e9sultat attendu. Profitons-en pour d\u00e9couvrir un utilitaire parfois pratique: le [module `pprint` pour pretty-printer](https://docs.python.org/2/library/pprint.html)"
     ]
    },
    {
     "cell_type": "code",
     "collapsed": false,
     "input": [
      "# le r\u00e9sultat attendu\n",
      "from corrections.w3_marine_dict import exo_merge\n",
      "result_merge = exo_merge.resultat(extended, abbreviated)\n",
      "\n",
      "# a quoi ressemble le r\u00e9sultat pour un bateau au hasard\n",
      "from pprint import pprint\n",
      "for key_value in result_merge.iteritems():\n",
      "    pprint(key_value)\n",
      "    break"
     ],
     "language": "python",
     "metadata": {},
     "outputs": []
    },
    {
     "cell_type": "heading",
     "level": 5,
     "metadata": {},
     "source": [
      "Votre code"
     ]
    },
    {
     "cell_type": "code",
     "collapsed": false,
     "input": [
      "def merge(extended, abbreviated):\n",
      "    \"<votre_code>\""
     ],
     "language": "python",
     "metadata": {},
     "outputs": []
    },
    {
     "cell_type": "code",
     "collapsed": false,
     "input": [
      "# xxx remove me\n",
      "from corrections.w3_marine_dict import merge"
     ],
     "language": "python",
     "metadata": {},
     "outputs": []
    },
    {
     "cell_type": "heading",
     "level": 5,
     "metadata": {},
     "source": [
      "Validation"
     ]
    },
    {
     "cell_type": "code",
     "collapsed": false,
     "input": [
      "exo_merge.correction(merge, extended, abbreviated)"
     ],
     "language": "python",
     "metadata": {},
     "outputs": []
    },
    {
     "cell_type": "heading",
     "level": 3,
     "metadata": {},
     "source": [
      "Les fichiers de donn\u00e9es"
     ]
    },
    {
     "cell_type": "markdown",
     "metadata": {},
     "source": [
      "Pour t\u00e9l\u00e9charger les deux fichiers de donn\u00e9es&nbsp;:\n",
      " * [data/marine-e1-ext.json](data/marine-e1-ext.json)\n",
      " * [data/marine-e1-abb.json](data/marine-e1-abb.json)"
     ]
    },
    {
     "cell_type": "heading",
     "level": 3,
     "metadata": {},
     "source": [
      "Quelques mots sur le framework d'exercices"
     ]
    },
    {
     "cell_type": "markdown",
     "metadata": {},
     "source": [
      "Le format de la page est tr\u00e8s \u00e9troit, et cela rend assez compliqu\u00e9 le rendu des r\u00e9sultats sous la forme d'un tableau comparatif. Dans le cas de cet exercice, qui utilise des donn\u00e9es r\u00e9elles et bavardes, la mise au point peut n\u00e9cessiter de travailler un peu autrement, et voici quelques suggestions."
     ]
    },
    {
     "cell_type": "markdown",
     "metadata": {},
     "source": [
      "Tout d'abord rappelez-vous que vous pouvez cr\u00e9er un cellule o\u00f9 vous voulez avec le menu `Insert`."
     ]
    },
    {
     "cell_type": "markdown",
     "metadata": {},
     "source": [
      "Et ensuite ex\u00e9cuter votre propre code en dehors de la fonction de correction"
     ]
    },
    {
     "cell_type": "code",
     "collapsed": false,
     "input": [
      "# en supposant que votre fonction index() renvoie un dictionnaire\n",
      "mon_index = index(extended)\n",
      "for key_value in mon_index.items():\n",
      "    pprint(key_value)\n",
      "    break"
     ],
     "language": "python",
     "metadata": {},
     "outputs": []
    },
    {
     "cell_type": "markdown",
     "metadata": {},
     "source": [
      "Dans le cas de cet exercice, vous pouvez aussi vous fabriquer vous-m\u00eames des donn\u00e9es plus courtes&nbsp;:"
     ]
    },
    {
     "cell_type": "code",
     "collapsed": false,
     "input": [
      "extended_sample = [b for b in extended if b[0] <= 220000000]\n",
      "print len(extended_sample)"
     ],
     "language": "python",
     "metadata": {},
     "outputs": []
    },
    {
     "cell_type": "code",
     "collapsed": false,
     "input": [
      "abbreviated_sample = [b for b in abbreviated if b[0] <= 220000000]\n",
      "print len(extended_sample)"
     ],
     "language": "python",
     "metadata": {},
     "outputs": []
    },
    {
     "cell_type": "markdown",
     "metadata": {},
     "source": [
      "Puisque comme ceci vous gardez la bonne propri\u00e9t\u00e9 que les ids correspondent entre les deux listes."
     ]
    },
    {
     "cell_type": "markdown",
     "metadata": {},
     "source": [
      "Vous pouvez utiliser la correction avec d'autres donn\u00e9es si \u00e7a vous est utile."
     ]
    },
    {
     "cell_type": "code",
     "collapsed": false,
     "input": [
      "exo_index.correction(index, abbreviated_sample)"
     ],
     "language": "python",
     "metadata": {},
     "outputs": []
    },
    {
     "cell_type": "markdown",
     "metadata": {},
     "source": [
      "Bref le message principal ici est que vous avez toute la puissance de l'interpr\u00e9teur python pour vous aider dans votre travail, n'h\u00e9sitez pas \u00e0 vous en servir !"
     ]
    }
   ],
   "metadata": {}
  }
 ]
}