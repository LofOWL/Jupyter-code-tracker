{
 "metadata": {
  "kernelspec": {
   "display_name": "Python 2", 
   "language": "python", 
   "name": "python2"
  }, 
  "name": "", 
  "notebookname": "Disk usage", 
  "version": "2.0"
 }, 
 "nbformat": 2, 
 "nbformat_minor": 0, 
 "orig_nbformat": 4, 
 "orig_nbformat_minor": 0, 
 "worksheets": [
  {
   "cells": [
    {
     "cell_type": "markdown", 
     "metadata": {}, 
     "source": [
      "<span style=\"float:left;\">Licence CC BY-NC-ND</span><span style=\"float:right;\">Thierry Parmentelat &amp; Arnaud Legout&nbsp;<img src=\"media/inria-25.png\" style=\"display:inline\"></span><br/>"
     ]
    }, 
    {
     "cell_type": "markdown", 
     "metadata": {}, 
     "source": [
      "# Utilisation du disque dur"
     ]
    }, 
    {
     "cell_type": "markdown", 
     "metadata": {}, 
     "source": [
      "## Mini-Projet"
     ]
    }, 
    {
     "cell_type": "markdown", 
     "metadata": {}, 
     "source": [
      "### Introduction"
     ]
    }, 
    {
     "cell_type": "markdown", 
     "metadata": {}, 
     "source": [
      "De temps en temps, vous vous rendez compte que votre disque dur est plein ou que vous avez rempli votre quota.", 
      "En application de la loi de Murphy, en g\u00e9n\u00e9ral c'est \u00e0 un mauvais moment&nbsp;; il est vrai qu'on a toujours mieux \u00e0 faire que de nettoyer un disque."
     ]
    }, 
    {
     "cell_type": "markdown", 
     "metadata": {}, 
     "source": [
      "### Objectifs"
     ]
    }, 
    {
     "cell_type": "markdown", 
     "metadata": {}, 
     "source": [
      "Dans ce mini-projet, nous allons \u00e9crire un utilitaire permettant de nous aider dans ce genre de situations. Les objectifs que l'on pourrait avoir sont&nbsp;:", 
      " * de trouver rapidement les gros r\u00e9pertoires, en partant d'une racine ou d'un r\u00e9pertoire utilisateur&nbsp;;", 
      " * de stocker les donn\u00e9es de taille de fa\u00e7on \u00e0 ne pas avoir \u00e0 attendre plusieurs minutes \u00e0 recalculer sans cesse les tailles des diff\u00e9rents morceaux&nbsp;;", 
      " * et notamment de pouvoir lancer toutes les nuits un scan silencieux, de fa\u00e7on \u00e0 avoir imm\u00e9diatement, dans la journ\u00e9e, acc\u00e8s \u00e0 des informations - m\u00eame approch\u00e9es - de nature \u00e0 identifier le ou les r\u00e9pertoires qui pose probl\u00e8me ou qui a un fort potentiel de lib\u00e9ration d'espace."
     ]
    }, 
    {
     "cell_type": "markdown", 
     "metadata": {}, 
     "source": [
      "### Approche"
     ]
    }, 
    {
     "cell_type": "markdown", 
     "metadata": {}, 
     "source": [
      "Pour cela on con\u00e7oit un syst\u00e8me simple qui fonctionne en deux passes&nbsp;:", 
      " * une premi\u00e8re passe de type *batch* qui stocke dans chaque r\u00e9pertoire, dans un fichier sp\u00e9cial (nous avons utilis\u00e9 le nom `.du`) la taille totale de ce r\u00e9pertoire,", 
      " * une seconde passe interactive, qui peut", 
      "   * afficher les tailles des sous-r\u00e9pertoires tri\u00e9s, pr\u00e9cis\u00e9ment, par taille,", 
      "   * naviguer dans les r\u00e9pertoires sur cette base,", 
      "   * et proc\u00e9der au nettoyage proprement dit."
     ]
    }, 
    {
     "cell_type": "markdown", 
     "metadata": {}, 
     "source": [
      "Aussi voici les choix que j'ai faits pour mon impl\u00e9mentation&nbsp;:", 
      " * un seul module qui contient tout le programme, et qui s'appelle `diskusage.py`", 
      " * par d\u00e9faut le programme ne lance que la seconde passe", 
      " * on peut ne lancer que la premi\u00e8re passe avec l'option `-1`", 
      " * ou les deux passes en s\u00e9quence avec l'option `--both`", 
      " ", 
      "Voici l'aide en ligne", 
      "", 
      "***", 
      "", 
      "    $ diskusage.py --help", 
      "    usage: diskusage.py [-h] [-1] [-b] [-v] dir", 
      "    ", 
      "    positional arguments:", 
      "      dir", 
      "    ", 
      "    optional arguments:", 
      "      -h, --help         show this help message and exit", 
      "      -1, --pass1        Run pass1, that computes .du in all subdirs", 
      "      -b, --both-passes  Run pass1, that computes .du in all subdirs, ", 
      "                         and then pass2 that is interactive", 
      "      -v, --verbose      turn on verbose output", 
      "      ", 
      "***      "
     ]
    }, 
    {
     "cell_type": "markdown", 
     "metadata": {}, 
     "source": [
      "Vous reconnaissez sans doute l'utilisation \u00e0 nouveau de `ArgumentParser` import\u00e9 du module `argparse` pour la d\u00e9finition de la syntaxe d'appel de `diskusage.py`"
     ]
    }, 
    {
     "cell_type": "markdown", 
     "metadata": {}, 
     "source": [
      "### Exemple d'utilisation"
     ]
    }, 
    {
     "cell_type": "markdown", 
     "metadata": {}, 
     "source": [
      "Nous publions un directory de test pour vous permettre de v\u00e9rifier vos r\u00e9sultats, comme d'habitude", 
      "dans les formats suivants&nbsp;:", 
      " * [format tar](data/diskusage-spam.tar)", 
      " * [format tgz](data/diskusage-spam.tgz)", 
      " * [format zip](data/diskusage-spam.zip)", 
      "", 
      "qui donne une structure de fichiers telles que ceci&nbsp;:", 
      "", 
      "<img src=\"media/diskusage-spam.png\">"
     ]
    }, 
    {
     "cell_type": "markdown", 
     "metadata": {}, 
     "source": [
      "##### La premi\u00e8re passe"
     ]
    }, 
    {
     "cell_type": "markdown", 
     "metadata": {}, 
     "source": [
      "Si j'installe cette structure sur mon propre disque, voici ce que j'obtiens&nbsp;:", 
      "", 
      "    % diskusage.py spam", 
      "    Welcome to inspection of path spam", 
      "    -------- Path spam has a total size of xxx 0 xxx", 
      "    1    xxx 0 xxx   big", 
      "    2    xxx 0 xxx   little", 
      "    3    xxx 0 xxx   medium", 
      "    4    xxx 0 xxx   small", 
      "    Enter number (h for help) q", 
      "    %"
     ]
    }, 
    {
     "cell_type": "markdown", 
     "metadata": {}, 
     "source": [
      "Ce qui est 'normal' ou en tous cas attendu, car je n'ai pas lanc\u00e9 la premi\u00e8re passe:", 
      "", 
      "    % find spam -name .du", 
      "    % diskusage.py -1 spam", 
      "    % "
     ]
    }, 
    {
     "cell_type": "markdown", 
     "metadata": {}, 
     "source": [
      "##### La deuxi\u00e8me passe"
     ]
    }, 
    {
     "cell_type": "markdown", 
     "metadata": {}, 
     "source": [
      "Maintenant si je recommence, l'outil me montre les directories tri\u00e9s par taille, le plus gros en dernier - parce que c'est sans doute celui qui m'int\u00e9resse le plus&nbsp;:", 
      "", 
      "    % diskusage.py spam", 
      "    Welcome to inspection of path spam", 
      "    -------- Path spam has a total size of 3.16 MiB", 
      "    1     1.15 KiB   little", 
      "    2   139.73 KiB   small", 
      "    3     1.09 MiB   medium", 
      "    4     1.93 MiB   big", 
      "    % "
     ]
    }, 
    {
     "cell_type": "markdown", 
     "metadata": {}, 
     "source": [
      "\u00c0 ce stade-l\u00e0 je peux naviguer dans l'arbre en tapant&nbsp;:"
     ]
    }, 
    {
     "cell_type": "markdown", 
     "metadata": {}, 
     "source": [
      " * soit un nombre pour me d\u00e9placer dans l'arbre"
     ]
    }, 
    {
     "cell_type": "markdown", 
     "metadata": {}, 
     "source": [
      "    Enter number (h for help) 2", 
      "    -------- Path spam/small has a total size of 139.73 KiB", 
      "    Enter number (h for help)"
     ]
    }, 
    {
     "cell_type": "markdown", 
     "metadata": {}, 
     "source": [
      " * soit `u` ou `..` pour remonter"
     ]
    }, 
    {
     "cell_type": "markdown", 
     "metadata": {}, 
     "source": [
      "    Enter number (h for help) u", 
      "    -------- Path spam has a total size of 3.16 MiB", 
      "    1     1.15 KiB   little", 
      "    2   139.73 KiB   small", 
      "    3     1.09 MiB   medium", 
      "    4     1.93 MiB   big", 
      "    Enter number (h for help) "
     ]
    }, 
    {
     "cell_type": "markdown", 
     "metadata": {}, 
     "source": [
      " * soit '+' (ou une ligne vide) pour choisir le r\u00e9pertoire le plus gros"
     ]
    }, 
    {
     "cell_type": "markdown", 
     "metadata": {}, 
     "source": [
      "     Enter number (h for help)", 
      "    -------- Path spam/big has a total size of 1.93 MiB", 
      "    1         68 B   empty", 
      "    2     4.60 KiB   f", 
      "    3   126.17 KiB   d", 
      "    4   252.17 KiB   b", 
      "    5   558.23 KiB   a", 
      "    6  1008.17 KiB   c", 
      "    Enter number (h for help)"
     ]
    }, 
    {
     "cell_type": "markdown", 
     "metadata": {}, 
     "source": [
      " * soit `l` pour lister les **fichiers** (jusqu'ici la commande n'a list\u00e9 que des r\u00e9pertoires)"
     ]
    }, 
    {
     "cell_type": "markdown", 
     "metadata": {}, 
     "source": [
      "     Enter number (h for help) l", 
      "    ---- Plain files in spam/big", 
      "    F          8 B   .du", 
      "    F        576 B   zfile-01", 
      "    F     1.12 KiB   zfile-02", 
      "    F     2.25 KiB   zfile-03", 
      "    F     4.50 KiB   zfile-04", 
      "    F     6.00 KiB   .DS_Store", 
      "    F        9 KiB   zfile-05", 
      "    Enter number (h for help)"
     ]
    }, 
    {
     "cell_type": "markdown", 
     "metadata": {}, 
     "source": [
      " * voici d'ailleurs l'aide en ligne"
     ]
    }, 
    {
     "cell_type": "markdown", 
     "metadata": {}, 
     "source": [
      "    Enter number (h for help) h", 
      "    num\tgo to listed directory", 
      "    +\t(default) go to last (and thus biggest) directory", 
      "    u\tgo one step up - can be also '0' or '..'", 
      "    l\tlist files in the current directory", 
      "    .\tcome again (stay in place)", 
      "    !\tre-run pass1", 
      "    v\ttoggle verbose on and off", 
      "    q\tquit", 
      "    h\tthis help"
     ]
    }, 
    {
     "cell_type": "markdown", 
     "metadata": {}, 
     "source": [
      "### Que faut-il faire au juste ?"
     ]
    }, 
    {
     "cell_type": "markdown", 
     "metadata": {}, 
     "source": [
      "Tout ce qui pr\u00e9c\u00e8de vous est donn\u00e9 \u00e0 titre purement indicatif, pour vous d\u00e9crire ce que fait l'impl\u00e9mentation qui sera donn\u00e9e comme corrig\u00e9 de cet exercice.", 
      "", 
      "Gardez bien pr\u00e9sent \u00e0 l'esprit toutefois qu'il ne s'agit pas d'une \u00e9valuation, aussi vous pouvez librement vous inspirer de cette impl\u00e9mentation. Dans l'\u00e9tat que je viens de d\u00e9crire, l'outil est passif (il ne permet pas de d\u00e9truire des fichiers), mais relativement exhaustif (vous pouvez voir toutes les tailles de tous les r\u00e9pertoires et de tous les fichiers). \u00c0 vous de choisir l'\u00e9tendue de ce que vous voulez faire.", 
      "", 
      "Une variante **plus simple** consisterait \u00e0 se contenter de ne montrer que les r\u00e9pertoires, puisqu'en g\u00e9n\u00e9ral une fois qu'on a isol\u00e9 le r\u00e9pertoire on peut utiliser un navigateur de fichiers plus classique.", 
      "", 
      "Une variante **plus compliqu\u00e9e** consisterait \u00e0 permettre des destructions de fichiers ou de r\u00e9pertoires nativement dans l'outil. Dans ce cas il serait bon de mettre \u00e0 jour les tailles enregistr\u00e9es dans les `.du`. ", 
      "", 
      "De m\u00eame, ma version incorpore un mode bavard (*verbose*)&nbsp;; lorsqu'il est activ\u00e9 on peut montrer plus de d\u00e9tails sur le fonctionnement interne de l'outil, par exemple en imprimant une ligne \u00e0 chaque fois qu'on calcule vraiment la taille d'un r\u00e9pertoire - pour mieux comprendre ce qui se passe. Bien entendu, pour commencer, vous n'avez pas besoin de pr\u00e9voir un mode bavard. ", 
      "", 
      "De m\u00eame, vous voyez dans l'aide en ligne quelques utilitaires suppl\u00e9mentaires, comme notamment `!` pour recalculer les tailles \u00e0 partir de l'\u00e9tat du disque. En principe, ajouter ce genre de features ne prend que quelques lignes de code, mais l\u00e0 encore c'est \u00e0 vous de voir.", 
      "", 
      "Enfin, le code \u00e9tant extr\u00eamement basique en termes d'utilisation de librairies, je vous propose si vous avez le temps d'essayer de faire fonctionner votre code aussi en python3 - c'est-\u00e0-dire, une fois que votre code fonctionne en python2, d'essayer de le modifier \u00e0 la marge pour obtenir un code unique qui fonctionne avec les deux versions. Pour cela attendez tout de m\u00eame d'avoir lu le compl\u00e9ment que nous consacrons \u00e0 ce sujet en Semaine 7."
     ]
    }, 
    {
     "cell_type": "markdown", 
     "metadata": {}, 
     "source": [
      "##### Quelques indices"
     ]
    }, 
    {
     "cell_type": "markdown", 
     "metadata": {}, 
     "source": [
      "Une des difficult\u00e9s de cet exercice est de g\u00e9rer le fait que le syst\u00e8me est 'vivant' pendant la sesssion&nbsp;; aussi les donn\u00e9es cach\u00e9es dans les `.du` peuvent \u00eatre anciennes. Ces deux facteurs font qu'il se peut que certains r\u00e9pertoires ont un `.du` et pas d'autres. Ici j'ai adopt\u00e9 une strat\u00e9gie simple qui est de retourner une taille nulle (pour pouvoir tout de m\u00eame afficher le r\u00e9sultat de la somme) et de faire en sorte que l'impression d'une taille nulle attire l'oeil (voir le tout premier exemple ci-dessus).", 
      "", 
      "Notez aussi, pour ceux qui n'y sont pas habitu\u00e9s, qu'**un r\u00e9pertoire a une taille propre**. Du point de vue de l'utilisateur un r\u00e9pertoire ne contient 'rien' mais il faut de la place pour ranger les noms des fichiers. C'est en g\u00e9n\u00e9ral n\u00e9gligeable, mais avec un grand nombre de petits fichiers c'est mieux d'en tenir compte. ", 
      "", 
      "Si vous voulez aborder l'exercice dans une optique 'niveau avanc\u00e9', vous pouvez vous arr\u00eater l\u00e0, et essayer d'impl\u00e9menter l'outil sans plus d'indications. "
     ]
    }, 
    {
     "cell_type": "markdown", 
     "metadata": {}, 
     "source": [
      "##### Librairies"
     ]
    }, 
    {
     "cell_type": "markdown", 
     "metadata": {}, 
     "source": [
      "En termes de librairies tierces, c'est difficile de faire plus simple&nbsp;; notre impl\u00e9mentation utilise uniquement&nbsp;:", 
      " * le module `os` et sp\u00e9cifiquement", 
      "   * `os.walk`, `os.listdir`, ", 
      " * `os.path` et dans ce module", 
      "   * `join`, `getsize`, `exists`, `isdir`, `isfile`, et `dirname`,", 
      " * et donc `argparse.ArgumentParser`"
     ]
    }, 
    {
     "cell_type": "markdown", 
     "metadata": {}, 
     "source": [
      "### Classes et fonctions"
     ]
    }, 
    {
     "cell_type": "markdown", 
     "metadata": {}, 
     "source": [
      "Toujours \u00e0 titre indicatif, voici comment est con\u00e7ue notre impl\u00e9mentation. On a d\u00e9fini 3 classes&nbsp;:", 
      "", 
      " * `HumanReadableSize` est une classe qui ne sert que pour l'affichage des tailles sous la forme que vous avez vue dans les exemples comme `139.73 KiB` ou `1.09 MiB`", 
      " * `Cache` est la classe qui m\u00e9morise la taille (totale) des diff\u00e9rents r\u00e9pertoires", 
      " * et `ToplevelDir` est la classe qui impl\u00e9mente la logique de traitement du r\u00e9pertoire d'entr\u00e9e.", 
      " ", 
      "Enfin la fonction `main` est le point d'entr\u00e9e dans le programme."
     ]
    }, 
    {
     "cell_type": "markdown", 
     "metadata": {}, 
     "source": [
      "Notons \u00e0 titre de curiosit\u00e9, avant de lister les diff\u00e9rentes m\u00e9thodes, que", 
      " * `HumanReadableSize` h\u00e9rite de `int`&nbsp;; on a red\u00e9fini `__repr__` pour impl\u00e9menter le format dans lequel on veut afficher les tailles en octets&nbsp;;", 
      " * `Cache` h\u00e9rite de `dict`&nbsp;; on a red\u00e9fini `__getitem__` et `__setitem__` de fa\u00e7on \u00e0 utiliser `cache[path]` et `cache[path]=size` pour m\u00e9moriser le r\u00e9sultat \u00e0 la fois en m\u00e9moire pour le processus courant, et sur disque dans les diff\u00e9rents fichiers `.du`"
     ]
    }, 
    {
     "cell_type": "markdown", 
     "metadata": {}, 
     "source": [
      "***"
     ]
    }, 
    {
     "cell_type": "markdown", 
     "metadata": {}, 
     "source": [
      "Classe `HumanReadableSize`"
     ]
    }, 
    {
     "cell_type": "markdown", 
     "metadata": {}, 
     "source": [
      "    Help on class HumanReadableSize in module diskusage:", 
      "    ", 
      "    class HumanReadableSize(__builtin__.int)", 
      "     |  helper class for displaying size in bytes ", 
      "     |  in a human-readable form", 
      "     |  ", 
      "     |  Method resolution order:", 
      "     |      HumanReadableSize", 
      "     |      __builtin__.int", 
      "     |      __builtin__.object", 
      "     |  ", 
      "     |  Methods defined here:", 
      "     |  ", 
      "     |  __repr__(self)", 
      "     |      Display size in bytes", 
      "     |  ", 
      "     |  __str__ = __repr__(self)", 
      "     |  ", 
      "     |  -------------------------------------------------------------", 
      "     |  Data and other attributes defined here:", 
      "     |  ", 
      "     |  LABELS = [(6, 'EiB'), (5, 'PiB'), (4, 'TiB'), (3, 'GiB'), ...", 
      "     |  ", 
      "     |  UNIT_LABELS = [(1152921504606846976, 'EiB'), ...", 
      "     |  "
     ]
    }, 
    {
     "cell_type": "markdown", 
     "metadata": {}, 
     "source": [
      "***"
     ]
    }, 
    {
     "cell_type": "markdown", 
     "metadata": {}, 
     "source": [
      "Classe `Cache`"
     ]
    }, 
    {
     "cell_type": "markdown", 
     "metadata": {}, 
     "source": [
      "    Help on class Cache in module diskusage:", 
      "    ", 
      "    class Cache(__builtin__.dict)", 
      "     |  a dictionary {path: size_in_bytes}", 
      "     |  ", 
      "     |  this is also linked to the file system and the .du files", 
      "     |  meaning that ", 
      "     |  (*) cache[path] looks in path/.du if not yet in memory", 
      "     |      if nothing else works (not in memory and not in .du)", 
      "     |      we return 0", 
      "     |  (*) cache[path] = size also writes path/.du ", 
      "     |      if permission is granted", 
      "     |  ", 
      "     |  Method resolution order:", 
      "     |      Cache", 
      "     |      __builtin__.dict", 
      "     |      __builtin__.object", 
      "     |  ", 
      "     |  Methods defined here:", 
      "     |  ", 
      "     |  __getitem__(self, path)", 
      "     |      Look in memory cache first, then in the .du file", 
      "     |      returns 0 if nothing works", 
      "     |  ", 
      "     |  __init__(self, verbose=False)", 
      "     |  ", 
      "     |  __setitem__(self, path, size)", 
      "     |      remembers path cache in dictionary", 
      "     |      and stores in special file as  far as possible", 
      "     |      ", 
      "     |      ignores if not possible for any reason ", 
      "     |      like Permission Denied or the like", 
      "     |  ", 
      "     |  -------------------------------------------------------------", 
      "     |  Data and other attributes defined here:", 
      "     |  ", 
      "     |  special_name = '.du'", 
      "     |  "
     ]
    }, 
    {
     "cell_type": "markdown", 
     "metadata": {}, 
     "source": [
      "***"
     ]
    }, 
    {
     "cell_type": "markdown", 
     "metadata": {}, 
     "source": [
      "Classe `ToplevelDir`"
     ]
    }, 
    {
     "cell_type": "markdown", 
     "metadata": {}, 
     "source": [
      "    Help on class ToplevelDir in module diskusage:", 
      "    ", 
      "    class ToplevelDir(__builtin__.object)", 
      "     |  toplevel object - only one is created", 
      "     |  for the directory that diskusage.py is run on", 
      "     |  ", 
      "     |  it can run pass1()", 
      "     |  it has one instance of Cache for keeping track", 
      "     |     of the sizes of all subdirs", 
      "     |  it can also run pass2", 
      "     |  ", 
      "     |  Methods defined here:", 
      "     |  ", 
      "     |  __init__(self, path, verbose=False)", 
      "     |  ", 
      "     |  list_files(self, subpath)", 
      "     |      passive list of plain files in a given dir", 
      "     |      the ones in *that* directory, not the subtree", 
      "     |      just list with biggest file last", 
      "     |      ", 
      "     |      it's easier to re-read the file size here", 
      "     |      as there is no recursion", 
      "     |      would need to be optimized for directories", 
      "     |      with a large number of plain files", 
      "     |  ", 
      "     |  move_to_subdir(self, subpath)", 
      "     |      this is the active part of pass2", 
      "     |      it is the place where we prompt ", 
      "     |      for the user's answer and ", 
      "     |      where we implement the mainloop", 
      "     |      ", 
      "     |      this method returns the path for the next", 
      "     |      subtree to visit (can also be one step up)", 
      "     |      ", 
      "     |      we show the immediate subdirs sorted ", 
      "     |      (biggest comes last)", 
      "     |      and can thus be selected using '+'", 
      "     |      ", 
      "     |      subdirs are listed with a number that ", 
      "     |      can be selected for moving down the tree", 
      "     |  ", 
      "     |  pass1(self)", 
      "     |      scans a whole tree, and writes", 
      "     |      individual (total) size in .du", 
      "     |      ", 
      "     |      this is done through a Cache object so", 
      "     |      that if we run both passes in the same process", 
      "     |      pass2 will not even need to read .du files", 
      "     |  ", 
      "     |  pass2(self)", 
      "     |      entry point for pass2", 
      "     |  ", 
      "     |  --------------------------------------------------------", 
      "     |  Data and other attributes defined here:", 
      "     |  ", 
      "     |  help_message = 'number\\tgo to listed directory\\n+\\t.....", 
      ""
     ]
    }, 
    {
     "cell_type": "markdown", 
     "metadata": {}, 
     "source": [
      "***"
     ]
    }, 
    {
     "cell_type": "markdown", 
     "metadata": {}, 
     "source": [
      "Fonction `main`"
     ]
    }, 
    {
     "cell_type": "markdown", 
     "metadata": {}, 
     "source": [
      "    Help on function main in module diskusage:", 
      "", 
      "    main()", 
      "        The entry point for diskusage.py", 
      "", 
      "        This function parses the command line arguments", 
      "        using an instance of ArgumentParser", 
      "", 
      "        It essentially creates an instance of ToplevelDir", 
      "        and sends it the pass1() and/or pass2() methods", 
      "", 
      "        It returns an int suitable to be returned to the OS", 
      "        that is to say 0 when everything is fine and 1 otherwise"
     ]
    }, 
    {
     "cell_type": "markdown", 
     "metadata": {}, 
     "source": [
      "***"
     ]
    }, 
    {
     "cell_type": "markdown", 
     "metadata": {}, 
     "source": [
      "\u00c0 nouveau toutes ces pr\u00e9cisions sont donn\u00e9es pour vous donner des id\u00e9es mais il n'est pas du tout obligatoire de proc\u00e9der de cette mani\u00e8re. ", 
      "", 
      "\u00c0 vous de jouer."
     ]
    }
   ], 
   "metadata": {}
  }
 ]
}
