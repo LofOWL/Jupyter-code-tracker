{
 "metadata": {
  "notebookname": "Surcharge op\u00e9rateurs (2)",
  "signature": "sha256:2c6dcdf380067bb5b5e7ba2fa23cd500909904cb55d5074f4365cfa0639da3c5",
  "version": "1.0"
 },
 "nbformat": 3,
 "nbformat_minor": 0,
 "worksheets": [
  {
   "cells": [
    {
     "cell_type": "heading",
     "level": 1,
     "metadata": {},
     "source": [
      "Surcharge op\u00e9rateurs (2)"
     ]
    }
   ],
   "metadata": {}
  }
 ]
}