{
 "metadata": {
  "notebookname": "Les boucles `for`",
  "signature": "87b0d0702d7cc4833367c5b3f72735c264fc0978b48b790e57082c00efe3a48a",
  "version": "1.0"
 },
 "nbformat": 3,
 "nbformat_minor": 0,
 "worksheets": [
  {
   "cells": [
    {
     "cell_type": "heading",
     "level": 1,
     "metadata": {},
     "source": [
      "Les boucles `for`"
     ]
    },
    {
     "cell_type": "heading",
     "level": 2,
     "metadata": {},
     "source": [
      "Exercices - niveau basique"
     ]
    },
    {
     "cell_type": "code",
     "collapsed": false,
     "input": [
      "# pour la correction\n",
      "import corrections.w2_for"
     ],
     "language": "python",
     "metadata": {},
     "outputs": []
    },
    {
     "cell_type": "heading",
     "level": 3,
     "metadata": {},
     "source": [
      "Tri de plusieurs listes"
     ]
    },
    {
     "cell_type": "markdown",
     "metadata": {},
     "source": [
      "\u00c9crivez une fonction qui accepte en argument une liste de listes, et qui retourne la m\u00eame liste mais avec toutes les sous-listes tri\u00e9es."
     ]
    },
    {
     "cell_type": "code",
     "collapsed": false,
     "input": [
      "# voici un exemple de ce qui est attendu\n",
      "corrections.w2_for.exemple_multi_tri()"
     ],
     "language": "python",
     "metadata": {},
     "outputs": []
    },
    {
     "cell_type": "markdown",
     "metadata": {},
     "source": [
      "\u00c9crivez votre code ici"
     ]
    },
    {
     "cell_type": "code",
     "collapsed": false,
     "input": [
      "def multi_tri (listes): \n",
      "    \"<votre_code>\""
     ],
     "language": "python",
     "metadata": {},
     "outputs": []
    },
    {
     "cell_type": "markdown",
     "metadata": {},
     "source": [
      "Vous pouvez le tester ici"
     ]
    },
    {
     "cell_type": "code",
     "collapsed": false,
     "input": [
      "corrections.w2_for.correction_multi_tri(multi_tri)"
     ],
     "language": "python",
     "metadata": {},
     "outputs": []
    },
    {
     "cell_type": "heading",
     "level": 3,
     "metadata": {},
     "source": [
      "Tri de plusieurs listes, dans des directions diff\u00e9rentes"
     ]
    },
    {
     "cell_type": "markdown",
     "metadata": {},
     "source": [
      "Modifiez votre code pour qu'il accepte cette fois deux arguments, tous les deux des listes, que l'on suppose de tailles \u00e9gales. \n",
      "\n",
      "Comme tout \u00e0 l'heure le premier argument est une liste de listes \u00e0 trier.\n",
      "\n",
      "\u00c0 pr\u00e9sent le second argument est une liste (ou un tuple) de bool\u00e9ens, de m\u00eame cardinal que le premier argument, et qui indiquent l'ordre dans lequel on veut trier la liste d'entr\u00e8e de m\u00eame rang. True signifie un tri descendant, False un tri ascendant"
     ]
    },
    {
     "cell_type": "code",
     "collapsed": false,
     "input": [
      "# Pour \u00eatre un peu plus clair, voici \u00e0 quoi on s'attend\n",
      "corrections.w2_for.exemple_multi_tri_reverse()"
     ],
     "language": "python",
     "metadata": {},
     "outputs": []
    },
    {
     "cell_type": "code",
     "collapsed": false,
     "input": [
      "def multi_tri_reverse (listes, reverses):\n",
      "    \"<votre_code>\" "
     ],
     "language": "python",
     "metadata": {},
     "outputs": []
    },
    {
     "cell_type": "markdown",
     "metadata": {},
     "source": [
      "\u00c0 nouveau vous pouvez la tester ici (doit afficher True)"
     ]
    },
    {
     "cell_type": "code",
     "collapsed": false,
     "input": [
      "corrections.w2_for.correction_multi_tri_reverse(multi_tri_reverse)"
     ],
     "language": "python",
     "metadata": {},
     "outputs": []
    },
    {
     "cell_type": "heading",
     "level": 2,
     "metadata": {},
     "source": [
      "Exercices - niveau interm\u00e9diaire"
     ]
    },
    {
     "cell_type": "heading",
     "level": 3,
     "metadata": {},
     "source": [
      "Liste des racines p-i\u00e8mes de l'unit\u00e9"
     ]
    },
    {
     "cell_type": "markdown",
     "metadata": {},
     "source": [
      "Dans le notebook sur l'utilisation de python comme un calculette, nous avions \u00e9crit de mani\u00e8re un peu fastidieuse les racines 3-i\u00e8mes de l'unit\u00e9 gr\u00e2ce \u00e0 la formule\n",
      "\n",
      "$r_n = e^{2i\\pi \\frac{n}{3}},$ pour $n\\in \\{0,1,2\\}$\n",
      "\n",
      "On vous demande \u00e0 pr\u00e9sent d'\u00e9crire une fonction qui retourne la liste de ces valeurs. Cette fois on n'utilisera plus le nombre '3', mais on le passera en argument \u00e0 la fonction comme le nombre `p` que l'on peut supposer $>=2$"
     ]
    },
    {
     "cell_type": "markdown",
     "metadata": {},
     "source": [
      "**NB.** pour faire cet exercice, \u00e0 ce stade du cours, vous allez devoir construire la liste r\u00e9sultat petit \u00e0 petit. Nous verrons ult\u00e9rieurement une technique plus \u00e9l\u00e9gante pour faire ce genre de choses."
     ]
    },
    {
     "cell_type": "code",
     "collapsed": false,
     "input": [
      "# retourne la liste des racine p-i\u00e8mes de l'unit\u00e9 \n",
      "def liste_racines (p): \n",
      "    \"<votre_code>\""
     ],
     "language": "python",
     "metadata": {},
     "outputs": []
    },
    {
     "cell_type": "code",
     "collapsed": false,
     "input": [
      "# pour v\u00e9rifier votre code\n",
      "corrections.w2_for.correction_liste_racines (liste_racines)"
     ],
     "language": "python",
     "metadata": {},
     "outputs": []
    },
    {
     "cell_type": "heading",
     "level": 3,
     "metadata": {},
     "source": [
      "Produit scalaire"
     ]
    },
    {
     "cell_type": "markdown",
     "metadata": {},
     "source": [
      "On veut \u00e9crire une fonction qui retourne le produit scalaire de deux vecteurs. Pour ceci on va mat\u00e9rialiser les deux vecteurs en entr\u00e9e par deux listes que l'on suppose de m\u00eame taille. Cela est tout \u00e0 fait possible avec le bagage que nous avons appris jusqu'ici - bien que nous verrons plus tard d'autres techniques pour faire ceci de mani\u00e8re plus \u00e9l\u00e9gante.\n",
      "\n",
      "On rappelle que le produit de X et Y vaut\n",
      "\n",
      "$\\sum_{i} X_i * Y_i$\n",
      "\n",
      "Vous devez donc \u00e9crire"
     ]
    },
    {
     "cell_type": "code",
     "collapsed": false,
     "input": [
      "def produit_scalaire (X,Y): \n",
      "    \"\"\"retourne le produit scalaire de deux listes de m\u00eame taille\"\"\"\n",
      "    \"<votre_code>\""
     ],
     "language": "python",
     "metadata": {},
     "outputs": []
    },
    {
     "cell_type": "markdown",
     "metadata": {},
     "source": [
      "Pour v\u00e9rifier (ne doit rien afficher)"
     ]
    },
    {
     "cell_type": "code",
     "collapsed": false,
     "input": [
      "corrections.w2_for.correction_produit_scalaire (produit_scalaire)"
     ],
     "language": "python",
     "metadata": {},
     "outputs": []
    }
   ],
   "metadata": {}
  }
 ]
}