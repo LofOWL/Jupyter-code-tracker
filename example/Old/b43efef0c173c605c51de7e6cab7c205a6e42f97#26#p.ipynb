{
 "metadata": {
  "notebookname": "Formattage de strings",
  "signature": "7c3fbc4c9fe0f974cab5cb5c40c11a34baff212e941b458feee50ae07805f5eb",
  "version": "1.0"
 },
 "nbformat": 3,
 "nbformat_minor": 0,
 "worksheets": [
  {
   "cells": [
    {
     "cell_type": "heading",
     "level": 1,
     "metadata": {},
     "source": [
      "Formattage de strings"
     ]
    },
    {
     "cell_type": "heading",
     "level": 2,
     "metadata": {},
     "source": [
      "Compl\u00e9ment - niveau basique"
     ]
    },
    {
     "cell_type": "markdown",
     "metadata": {},
     "source": [
      "On d\u00e9signe par formattage les outils qui permettent d'obtenir une pr\u00e9sentation fine des r\u00e9sultats, que ce soit pour am\u00e9liorer la lisibilit\u00e9 lorsqu'on s'adresse \u00e0 des humains, ou pour respecter la syntaxe d'un outil auquel on veut passer les donn\u00e9es pour un traitement ult\u00e9rieur."
     ]
    },
    {
     "cell_type": "heading",
     "level": 3,
     "metadata": {},
     "source": [
      "L'instruction `print`"
     ]
    },
    {
     "cell_type": "markdown",
     "metadata": {},
     "source": [
      "Nous avons jusqu'\u00e0 maintenant presque toujours utilis\u00e9 l'instruction print pour afficher nos r\u00e9sultats. Comme on l'a vu, celle-ci r\u00e9alise un formattage sommaire, en ceci qu'elle ins\u00e8re un espace entre les valeurs qui lui sont pass\u00e9es."
     ]
    },
    {
     "cell_type": "markdown",
     "metadata": {},
     "source": [
      "La seule subtilit\u00e9 notable concernant `print` est que, si on termine l'instruction par une virgule, on \u00e9vite le saut de ligne qui est autrement ajout\u00e9 automatiquement"
     ]
    },
    {
     "cell_type": "code",
     "collapsed": false,
     "input": [
      "print \"une\",\"seule\",\"ligne\"\n",
      "print \"une\",\"autre\",\n",
      "print \"ligne\""
     ],
     "language": "python",
     "metadata": {},
     "outputs": []
    },
    {
     "cell_type": "markdown",
     "metadata": {},
     "source": [
      "Il faut remarquer aussi que `print` \"sait\" imprimer n'importe quel type d'objet; nous l'avons d\u00e9j\u00e0 fait avec les listes et les tuples, et nous verrons plus tard comment d\u00e9finir la pr\u00e9sentation \u00e0 utiliser lorsqu'on d\u00e9finit ses propres types."
     ]
    },
    {
     "cell_type": "heading",
     "level": 3,
     "metadata": {},
     "source": [
      "La m\u00e9thode `format`"
     ]
    },
    {
     "cell_type": "markdown",
     "metadata": {},
     "source": [
      "On rencontre assez vite les limites de `print`. D'une part, il peut \u00eatre n\u00e9cessaire de formatter un string sans n\u00e9cessairement vouloir l'imprimer, ou en tous cas pas imm\u00e9diatement. D'autre part les espaces ajout\u00e9s peuvent \u00eatre plus n\u00e9fastes qu'utiles."
     ]
    },
    {
     "cell_type": "markdown",
     "metadata": {},
     "source": [
      "On peut dans ces cas-l\u00e0 recourir \u00e0 la m\u00e9thode format, qui est d\u00e9finie sur les objets strings, et qui s'utilise comme suit. Mais d\u00e9finissons nous d'abord quelques donn\u00e9es \u00e0 afficher."
     ]
    },
    {
     "cell_type": "code",
     "collapsed": false,
     "input": [
      "age = 35\n",
      "nom = \"Lambert\"\n",
      "prenom = \"Jacques\""
     ],
     "language": "python",
     "metadata": {},
     "outputs": []
    },
    {
     "cell_type": "markdown",
     "metadata": {},
     "source": [
      "Nous avons choisi des objets simples, mais exactement comme avec `print`, `format` peut rendre n'importe quel type d'objet."
     ]
    },
    {
     "cell_type": "markdown",
     "metadata": {},
     "source": [
      "On peut alors pr\u00e9parer une mise en forme de ces donn\u00e9es comme ceci"
     ]
    },
    {
     "cell_type": "code",
     "collapsed": false,
     "input": [
      "\"{}, {}, {}ans\".format(nom,prenom,age)"
     ],
     "language": "python",
     "metadata": {},
     "outputs": []
    },
    {
     "cell_type": "markdown",
     "metadata": {},
     "source": [
      "Dans cet exemple le plus simple, les donn\u00e9es fournies sont affich\u00e9es en lieu et place des {}, dans l'ordre o\u00f9 elles sont fournies. "
     ]
    },
    {
     "cell_type": "markdown",
     "metadata": {},
     "source": [
      "Cela convient bien lorsqu'on a peu de donn\u00e9es; si par la suite on veut changer l'ordre par exemple des nom et pr\u00e9nom, on peut bien s\u00fbr \u00e9changer l'ordre des arguments pass\u00e9s \u00e0 format, ou encore utiliser la liaison par position, comme ceci"
     ]
    },
    {
     "cell_type": "code",
     "collapsed": false,
     "input": [
      "\"{1}, {0}, {2}ans\".format(nom,prenom,age)"
     ],
     "language": "python",
     "metadata": {},
     "outputs": []
    },
    {
     "cell_type": "markdown",
     "metadata": {},
     "source": [
      "Dans la pratique toutefois, cette forme est assez peu utile, on lui pr\u00e9f\u00e8re souvent la liaison par nom qui se pr\u00e9sente comme ceci"
     ]
    },
    {
     "cell_type": "code",
     "collapsed": false,
     "input": [
      "\"{le_prenom}, {le_nom}, {l_age}ans\".format(le_nom=nom,le_prenom=prenom,l_age=age)"
     ],
     "language": "python",
     "metadata": {},
     "outputs": []
    },
    {
     "cell_type": "markdown",
     "metadata": {},
     "source": [
      "Dans ce premier exemple de liaison par nom, nous avons d\u00e9lib\u00e9r\u00e9ment utilis\u00e9 des noms diff\u00e9rents pour les donn\u00e9es externes et pour les noms apparaissant dans le format, pour bien illustrer comment la liaison est r\u00e9solue, mais on peut tout aussi bien faire tout simplement"
     ]
    },
    {
     "cell_type": "code",
     "collapsed": false,
     "input": [
      "\"{prenom}, {nom}, {age}ans\".format(nom=nom,prenom=prenom,age=age)"
     ],
     "language": "python",
     "metadata": {},
     "outputs": []
    },
    {
     "cell_type": "markdown",
     "metadata": {},
     "source": [
      "Il est possible de m\u00e9langer la liaison par position et la liaison par nom comme ceci"
     ]
    },
    {
     "cell_type": "code",
     "collapsed": false,
     "input": [
      "\"{1}, {0}, {age}ans\".format(nom,prenom,age=age)"
     ],
     "language": "python",
     "metadata": {},
     "outputs": []
    },
    {
     "cell_type": "markdown",
     "metadata": {},
     "source": [
      "avec la r\u00e9serve, toutefois que les noms doivent appara\u00eetre apr\u00e8s les arguments li\u00e9s par position; les raisons pour ceci vous appara\u00eetront clairement dans quelque temps; aussi la forme suivante n'est pas accept\u00e9e"
     ]
    },
    {
     "cell_type": "raw",
     "metadata": {},
     "source": [
      "\"{1}, {0}, {age}ans\".format(age=age,nom,prenom)\n",
      "\n",
      "File \"<ipython-input-46-9a8e8e541bf2>\", line 1\n",
      "    \"{1}, {0}, {age}ans\".format(age=age,nom,prenom)\n",
      "SyntaxError: non-keyword arg after keyword arg"
     ]
    },
    {
     "cell_type": "markdown",
     "metadata": {},
     "source": [
      "Enfin, il arrive qu'on ait besoin de sp\u00e9cifier plus finement la fa\u00e7on dont une valeur doit \u00eatre affich\u00e9e; c'est typiquement le cas avec les valeurs flottantes, pour lesquelles la pr\u00e9cision avec laquelle on les montre vient au d\u00e9triment de la lisibilit\u00e9. "
     ]
    },
    {
     "cell_type": "code",
     "collapsed": false,
     "input": [
      "from math import pi\n",
      "entier = 100"
     ],
     "language": "python",
     "metadata": {},
     "outputs": []
    },
    {
     "cell_type": "markdown",
     "metadata": {},
     "source": [
      "Voici quelques formes \u00e9quivalentes pour obtenir une valeur de pi arrondie"
     ]
    },
    {
     "cell_type": "code",
     "collapsed": false,
     "input": [
      "\"avec seulement 3 chiffres apr\u00e8s la virgule {:.3f} - entier {}\".format(pi,entier)"
     ],
     "language": "python",
     "metadata": {},
     "outputs": []
    },
    {
     "cell_type": "code",
     "collapsed": false,
     "input": [
      "\"avec seulement 3 chiffres apr\u00e8s la virgule {flottant:.3f} - entier {entier:d}\".format(flottant=pi,entier=entier)"
     ],
     "language": "python",
     "metadata": {},
     "outputs": []
    },
    {
     "cell_type": "markdown",
     "metadata": {},
     "source": [
      "Nous vous invitons \u00e0 vous reporter \u00e0 la documentation de `format` pour plus de d\u00e9tails sur les formats disponibles."
     ]
    },
    {
     "cell_type": "markdown",
     "metadata": {},
     "source": [
      "Voici qui conclut notre courte introduction \u00e0 la m\u00e9thode `format`, dont on rappelle toutefois pour \u00eatre bien clair qu'elle **ne r\u00e9alise pas d'impression**, il faut donc la coupler \u00e0 `print` si l'impression est souhait\u00e9e."
     ]
    },
    {
     "cell_type": "heading",
     "level": 3,
     "metadata": {},
     "source": [
      "La version pr\u00e9c\u00e9dente du formatage : l'op\u00e9rateur `%`"
     ]
    },
    {
     "cell_type": "markdown",
     "metadata": {},
     "source": [
      "`format` a \u00e9t\u00e9 en fait introduite relativement tardivement dans python, pour remplacer la technique que nous allons pr\u00e9senter maintenant. \n",
      "\n",
      "Il est bien entendu conseill\u00e9 d'utiliser exclusivement `format` pour le code que vous \u00e9crirez, mais \u00e9tant donn\u00e9 le volume de code qui a \u00e9t\u00e9 \u00e9crit avec l'op\u00e9rateur `%`, il nous a sembl\u00e9 important d'introduire rapidement cette construction ici."
     ]
    },
    {
     "cell_type": "markdown",
     "metadata": {},
     "source": [
      "Le principe de l'op\u00e9rateur % est le suivant. On \u00e9labore comme ci-dessus un \"format\" c'est-\u00e0-dire le patron de ce qui doit \u00eatre rendu, auquel on passe des arguments pour \"remplir\" les trous. Voyons les exemples de tout \u00e0 l'heure rendus avec l'op\u00e9rateur `%`"
     ]
    },
    {
     "cell_type": "code",
     "collapsed": false,
     "input": [
      "\"%s, %s, %sans\" % (nom,prenom,age)"
     ],
     "language": "python",
     "metadata": {},
     "outputs": []
    },
    {
     "cell_type": "markdown",
     "metadata": {},
     "source": [
      "Les personnes ayant \u00e9t\u00e9 expos\u00e9es \u00e0 C et C++ verront d'o\u00f9 venait cette conception des formats. Reconnaissons toutefois que le code en question n'est pas tr\u00e8s lisible, dans l'exemple ci-dessus on peut avoir du mal \u00e0 analyser le \"sans\" qui appara\u00eet comme un mot \u00e0 premi\u00e8re vue. \n",
      "\n",
      "Quoi qu'il en soit, on pouvait \u00e9galement avec cet op\u00e9rateur recourir \u00e0 un m\u00e9canisme de liaison par nommage, en passant par un dictionnaire. Pour anticiper un tout petit peu sur cette notion que nous verrons tr\u00e8s bient\u00f4t, voici comment:"
     ]
    },
    {
     "cell_type": "code",
     "collapsed": false,
     "input": [
      "variables =  {'le_nom':nom, 'le_prenom': prenom, 'l_age':age}\n",
      "\"%(le_nom)s, %(le_nom)s, %(l_age)sans\" % variables"
     ],
     "language": "python",
     "metadata": {},
     "outputs": []
    }
   ],
   "metadata": {}
  }
 ]
}