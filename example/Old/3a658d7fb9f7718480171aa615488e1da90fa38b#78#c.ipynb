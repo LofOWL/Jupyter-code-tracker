{
 "metadata": {
  "kernelspec": {
   "display_name": "Python 2",
   "language": "python",
   "name": "python2"
  },
  "notebookname": "Le scope builtin",
  "signature": "sha256:2715ebc33091427a2f58db10c2e98d6f2914f63b3b04120272bd3dcd49d53369",
  "version": "2.0"
 },
 "nbformat": 3,
 "nbformat_minor": 0,
 "worksheets": [
  {
   "cells": [
    {
     "cell_type": "markdown",
     "metadata": {},
     "source": [
      "<span style=\"float:left;\">Licence CC BY-NC-ND</span><span style=\"float:right;\">Thierry Parmentelat &amp; Arnaud Legout,<img src=\"media/inria-25.png\" style=\"display:inline\"></span>"
     ]
    },
    {
     "cell_type": "heading",
     "level": 1,
     "metadata": {},
     "source": [
      "Le scope `builtin`"
     ]
    },
    {
     "cell_type": "heading",
     "level": 2,
     "metadata": {},
     "source": [
      "Compl\u00e9ment - niveau avanc\u00e9"
     ]
    },
    {
     "cell_type": "heading",
     "level": 3,
     "metadata": {},
     "source": [
      "Ces noms qui viennent de nulle part"
     ]
    },
    {
     "cell_type": "markdown",
     "metadata": {},
     "source": [
      "Nous avons vu d\u00e9ja un certain nombre de **fonctions *built-in*** comme par exemple"
     ]
    },
    {
     "cell_type": "code",
     "collapsed": false,
     "input": [
      "open, len, zip"
     ],
     "language": "python",
     "metadata": {},
     "outputs": []
    },
    {
     "cell_type": "markdown",
     "metadata": {},
     "source": [
      "Ces noms font partie du **module `__buitin__`**. Il est cependant particulier puisque tout se passe **comme si** on avait fait avant toute chose:\n",
      "\n",
      "    from __builtin__ import *\n",
      "    \n",
      "sauf que cet import est implicite."
     ]
    },
    {
     "cell_type": "heading",
     "level": 3,
     "metadata": {},
     "source": [
      "On peut r\u00e9affecter un nom *builtin*"
     ]
    },
    {
     "cell_type": "markdown",
     "metadata": {},
     "source": [
      "Quoique ce soit une pratique d\u00e9conseill\u00e9e, il est tout \u00e0 fait possible de red\u00e9finir ces noms; on peut faire par exemple"
     ]
    },
    {
     "cell_type": "code",
     "collapsed": false,
     "input": [
      "def open():\n",
      "    pass"
     ],
     "language": "python",
     "metadata": {},
     "outputs": []
    },
    {
     "cell_type": "markdown",
     "metadata": {},
     "source": [
      "Ceci est d\u00e9conseill\u00e9 car le code en aval de cette d\u00e9finition risque de ne pas faire ce qui est attendu; immaginez par exemple qu'on essaie maintenant de faire"
     ]
    },
    {
     "cell_type": "code",
     "collapsed": false,
     "input": [
      "# on a modifi\u00e9 le nom 'open', attention aux surprises\n",
      "with open(\"builtin.txt\", \"w\") as f:\n",
      "    f.write(\"quelque chose\")"
     ],
     "language": "python",
     "metadata": {},
     "outputs": []
    },
    {
     "cell_type": "heading",
     "level": 3,
     "metadata": {},
     "source": [
      "On ne peut pas r\u00e9affecter un mot cl\u00e9"
     ]
    },
    {
     "cell_type": "markdown",
     "metadata": {},
     "source": [
      "\u00c0 titre de digression, rappelons que les noms pr\u00e9d\u00e9finis sont, \u00e0 cet \u00e9gard aussi, tr\u00e8s diff\u00e9rents des mots-cl\u00e9s comme `if`, `def`, `with` et autres `for` qui eux, ne peuvent pas \u00eatre modifi\u00e9s en aucune mani\u00e8re."
     ]
    },
    {
     "cell_type": "heading",
     "level": 3,
     "metadata": {},
     "source": [
      "Que faire alors ?"
     ]
    },
    {
     "cell_type": "markdown",
     "metadata": {},
     "source": [
      "M\u00eame quand on sait qu'il faut \u00e9viter cette pratique, on n'a pas toujours en t\u00eate la liste exhaustive des noms pr\u00e9d\u00e9finis, aussi il arrive qu'on le fasse involontairement. Rappelons, cependant, qu'un bon \u00e9diteur de texte vous signalera les fonctions built-in avec une coloration syntaxique sp\u00e9cifique. \n",
      "\n",
      "Sachez que vous pouvez toujours \"retrouver\" alors la fonction pr\u00e9d\u00e9finie en l'important explicitement du module `__builtin__`. Par exemple pour \u00e9crire notre ouverture de fichier nous pouvons toujours faire"
     ]
    },
    {
     "cell_type": "code",
     "collapsed": false,
     "input": [
      "# pour \u00eatre s\u00fbr d'utiliser la bonne fonction open\n",
      "\n",
      "import __builtin__ \n",
      "\n",
      "with __builtin__.open(\"builtin.txt\", \"w\") as f:\n",
      "    f.write(\"quelque chose\")"
     ],
     "language": "python",
     "metadata": {},
     "outputs": []
    },
    {
     "cell_type": "heading",
     "level": 3,
     "metadata": {},
     "source": [
      "Liste des fonctions pr\u00e9d\u00e9finies"
     ]
    },
    {
     "cell_type": "markdown",
     "metadata": {},
     "source": [
      "Vous pouvez trouver la liste des fonctions pr\u00e9d\u00e9finies avec la fonction `dir` sur le module `__builtin__` comme ci-dessous (qui vous montre aussi les exceptions pr\u00e9d\u00e9finies, qui commencent par une majuscule), ou dans la documentation sur [les fonctions pr\u00e9d\u00e9finies](https://docs.python.org/2/library/functions.html#built-in-funcs\n",
      ")"
     ]
    },
    {
     "cell_type": "code",
     "collapsed": false,
     "input": [
      "dir(__builtin__)"
     ],
     "language": "python",
     "metadata": {},
     "outputs": []
    }
   ],
   "metadata": {}
  }
 ]
}