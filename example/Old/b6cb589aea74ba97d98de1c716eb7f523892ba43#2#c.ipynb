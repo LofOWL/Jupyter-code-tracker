{
 "metadata": {
  "notebookname": "Les cha\u00eenes de caract\u00e8res",
  "signature": "sha256:22c9d0896e9b088314747e8b707c07fcb78e24960753b4fbbc5cef644a14d91b",
  "version": "1.0"
 },
 "nbformat": 3,
 "nbformat_minor": 0,
 "worksheets": [
  {
   "cells": [
    {
     "cell_type": "heading",
     "level": 1,
     "metadata": {},
     "source": [
      "Les cha\u00eenes de caract\u00e8res"
     ]
    },
    {
     "cell_type": "heading",
     "level": 2,
     "metadata": {},
     "source": [
      "Exercices - niveau basique"
     ]
    },
    {
     "cell_type": "heading",
     "level": 3,
     "metadata": {},
     "source": [
      "Analyse et mise en forme"
     ]
    },
    {
     "cell_type": "markdown",
     "metadata": {},
     "source": [
      "On veut analyser un fichier dans lequel chaque ligne contient, s\u00e9par\u00e9s par des virgules, un pr\u00e9nom et un nom. Le cas \u00e9ch\u00e9ant, si un 4\u00e8me champ est pr\u00e9sent dans la ligne, il s'agit de l'\u00e2ge de la personne. Les espaces et tabulations pr\u00e9sentes dans la ligne ne sont pas significatifs et doivent \u00eatre ignor\u00e9s. Il arrive que certaines lignes se terminent par une virgule, une fois les espaces ignor\u00e9s.\n",
      "\n",
      "Il s'agit d'\u00e9crire une fonction `affichage`\n",
      " * qui prend en argument une ligne (cha\u00eene de caract\u00e8res)\n",
      " * retourne une cha\u00eene de caract\u00e8res mise en forme \n",
      " * ou bien retourne None si la ligne n'a pas pu \u00eatre analys\u00e9e"
     ]
    },
    {
     "cell_type": "code",
     "collapsed": false,
     "input": [
      "# pour la correction, et l'exemple\n",
      "from corrections.w2_strings import exemple_affichage, correction_affichage"
     ],
     "language": "python",
     "metadata": {},
     "outputs": [],
     "prompt_number": 3
    },
    {
     "cell_type": "code",
     "collapsed": false,
     "input": [
      "# voici quelques exemples de ce qui est attendu\n",
      "exemple_affichage()"
     ],
     "language": "python",
     "metadata": {},
     "outputs": [
      {
       "html": [
        "<table style='font-family:monospace;'><tr><th>Appel</th><th>R\u00e9sultat attendu</th></tr><tr><td>affichage('Joseph, Dupont')</td><td>'N:>Dupont< P:>Joseph< A:>??<'</td></tr><tr><td>affichage('Jules , Durand, G123, 21')</td><td>'N:>Durand< P:>Jules< A:>21<'</td></tr></table>"
       ],
       "metadata": {},
       "output_type": "pyout",
       "prompt_number": 4,
       "text": [
        "<IPython.core.display.HTML at 0x10a1fe890>"
       ]
      }
     ],
     "prompt_number": 4
    },
    {
     "cell_type": "code",
     "collapsed": false,
     "input": [
      "# \u00e9crivez votre code ici\n",
      "def affichage(ligne):\n",
      "    \"<votre_code>\""
     ],
     "language": "python",
     "metadata": {},
     "outputs": [],
     "prompt_number": 5
    },
    {
     "cell_type": "code",
     "collapsed": false,
     "input": [
      "# pour le v\u00e9rifier\n",
      "correction_affichage(affichage)"
     ],
     "language": "python",
     "metadata": {},
     "outputs": [
      {
       "html": [
        "<table style='font-family:monospace;'><tr><th>Entr\u00e9e</th><th>Attendu</th><th>Obtenu</th><th></th></tr><tr style='background-color:#CC3300;color:#e8e8e8;'><td>'Joseph, Dupont'</td><td>'N:>Dupont< P:>Joseph< A:>??<'</td><td>None</td><td>KO</td><tr style='background-color:#CC3300;color:#e8e8e8;'><td>'Jules , Durand, G123, 21'</td><td>'N:>Durand< P:>Jules< A:>21<'</td><td>None</td><td>KO</td><tr style='background-color:#66CC66;'><td>'Jean'</td><td>None</td><td>None</td><td>OK</td><tr style='background-color:#CC3300;color:#e8e8e8;'><td>' Jacques , Martin, L119, \\t24 ,'</td><td>'N:>Martin< P:>Jacques< A:>...</td><td>None</td><td>KO</td><tr style='background-color:#CC3300;color:#e8e8e8;'><td>'Sheldon, Cooper ,'</td><td>'N:>Cooper< P:>Sheldon< A:>...</td><td>None</td><td>KO</td><tr style='background-color:#CC3300;color:#e8e8e8;'><td>'Ted, Mosby, F321, '</td><td>'N:>Mosby< P:>Ted< A:><'</td><td>None</td><td>KO</td><tr style='background-color:#CC3300;color:#e8e8e8;'><td>'\\t Sam, Does\\t, F321, 23'</td><td>'N:>Does< P:>Sam< A:>23<'</td><td>None</td><td>KO</td></table>"
       ],
       "metadata": {},
       "output_type": "pyout",
       "prompt_number": 6,
       "text": [
        "<IPython.core.display.HTML at 0x109d953d0>"
       ]
      }
     ],
     "prompt_number": 6
    },
    {
     "cell_type": "heading",
     "level": 3,
     "metadata": {},
     "source": [
      "Mise au carre"
     ]
    },
    {
     "cell_type": "markdown",
     "metadata": {},
     "source": [
      "On vous demande \u00e0 pr\u00e9sent d'\u00e9crire une fonction dans le m\u00eame esprit que ci-dessus.\n",
      "Cette fois, chaque ligne contient, s\u00e9par\u00e9s par des point-virgules, une liste d'entiers, et on veut obtenir une nouvelle cha\u00eene avec les carr\u00e9s de ces entiers, s\u00e9par\u00e9s par des deux-points.\n",
      "\n",
      "Comme ci-dessus les lignes peuvent \u00eatre remplies de mani\u00e8re approximative, avec des points-virgules en trop, que ce soit au d\u00e9but, \u00e0 la fin, ou au milieu d'une ligne"
     ]
    },
    {
     "cell_type": "code",
     "collapsed": false,
     "input": [
      "# pour la correction, et l'exemple\n",
      "from corrections.w2_strings import exemple_carre, correction_carre"
     ],
     "language": "python",
     "metadata": {},
     "outputs": [],
     "prompt_number": 8
    },
    {
     "cell_type": "code",
     "collapsed": false,
     "input": [
      "# exemples\n",
      "exemple_carre()"
     ],
     "language": "python",
     "metadata": {},
     "outputs": [
      {
       "html": [
        "<table style='font-family:monospace;'><tr><th>Appel</th><th>R\u00e9sultat attendu</th></tr><tr><td>carre('1;2;3')</td><td>'1:4:9'</td></tr></table>"
       ],
       "metadata": {},
       "output_type": "pyout",
       "prompt_number": 9,
       "text": [
        "<IPython.core.display.HTML at 0x10a1fea10>"
       ]
      }
     ],
     "prompt_number": 9
    },
    {
     "cell_type": "code",
     "collapsed": false,
     "input": [
      "# \u00e9crivez votre code ici\n",
      "def carre(ligne):\n",
      "    \"<votre_code>\""
     ],
     "language": "python",
     "metadata": {},
     "outputs": [],
     "prompt_number": 10
    },
    {
     "cell_type": "code",
     "collapsed": false,
     "input": [
      "# pour corriger\n",
      "correction_carre(carre)"
     ],
     "language": "python",
     "metadata": {},
     "outputs": [
      {
       "html": [
        "<table style='font-family:monospace;'><tr><th>Entr\u00e9e</th><th>Attendu</th><th>Obtenu</th><th></th></tr><tr style='background-color:#CC3300;color:#e8e8e8;'><td>'1;2;3'</td><td>'1:4:9'</td><td>None</td><td>KO</td><tr style='background-color:#CC3300;color:#e8e8e8;'><td>' 2 ;  5;6;'</td><td>'4:25:36'</td><td>None</td><td>KO</td><tr style='background-color:#CC3300;color:#e8e8e8;'><td>'; 12 ;  -23;\\t60; 1\\t'</td><td>'144:529:3600:1'</td><td>None</td><td>KO</td><tr style='background-color:#CC3300;color:#e8e8e8;'><td>'; -12 ; ; -23; 1 ;;\\t'</td><td>'144:529:1'</td><td>None</td><td>KO</td></table>"
       ],
       "metadata": {},
       "output_type": "pyout",
       "prompt_number": 11,
       "text": [
        "<IPython.core.display.HTML at 0x10a1fec90>"
       ]
      }
     ],
     "prompt_number": 11
    },
    {
     "cell_type": "code",
     "collapsed": false,
     "input": [],
     "language": "python",
     "metadata": {},
     "outputs": [],
     "prompt_number": 11
    }
   ],
   "metadata": {}
  }
 ]
}