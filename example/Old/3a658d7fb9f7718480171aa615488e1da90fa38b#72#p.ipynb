{
 "metadata": {
  "kernelspec": {
   "display_name": "Python 2",
   "language": "python",
   "name": "python2"
  },
  "notebookname": "isinstance",
  "signature": "sha256:85bb0e56a6e6014b8724c06cd1f6b11fe810433eecdc4ecb77b3b1db841af0f0",
  "version": "2.0"
 },
 "nbformat": 3,
 "nbformat_minor": 0,
 "worksheets": [
  {
   "cells": [
    {
     "cell_type": "heading",
     "level": 1,
     "metadata": {},
     "source": [
      "`isinstance`"
     ]
    },
    {
     "cell_type": "heading",
     "level": 2,
     "metadata": {},
     "source": [
      "Compl\u00e9ment - niveau basique"
     ]
    },
    {
     "cell_type": "heading",
     "level": 3,
     "metadata": {},
     "source": [
      "Typage dynamique"
     ]
    },
    {
     "cell_type": "markdown",
     "metadata": {},
     "source": [
      "En premi\u00e8re semaine, nous avons rapidement mentionn\u00e9 les concepts de typage statique et dynamique.\n",
      "\n",
      "Avec la fonction pr\u00e9d\u00e9finie `isinstance` - qui peut \u00eatre par ailleurs utile dans d'autres contextes - vous pouvez facilement:\n",
      " * v\u00e9rifier qu'un argument d'une fonction a bien le type attendu,\n",
      " * et traiter diff\u00e9remment les entr\u00e9es selon leur type."
     ]
    },
    {
     "cell_type": "markdown",
     "metadata": {},
     "source": [
      "Voyons tout de suite sur un exemple simple comment on pourrait d\u00e9finir une fonction qui travaille sur un entier, mais qui par commmodit\u00e9 peut aussi accepter un entier pass\u00e9 comme une cha\u00eene de caract\u00e8res, ou m\u00eame une liste d'entiers (auquel cas on renvoie la liste des factorielles)&nbsp;:"
     ]
    },
    {
     "cell_type": "code",
     "collapsed": false,
     "input": [
      "from types import StringTypes\n",
      "\n",
      "def factoriel(argument):\n",
      "    # si on re\u00e7oit un entier\n",
      "    if isinstance(argument, int):\n",
      "        return 1 if argument <= 1 else argument * factoriel(argument - 1)\n",
      "    # convertir en entier si on re\u00e7oit une cha\u00eene\n",
      "    elif isinstance(argument, StringTypes):\n",
      "        return factoriel(int(argument))\n",
      "    # la liste des r\u00e9sultats si on re\u00e7oit un tuple ou une liste \n",
      "    elif isinstance(argument, (tuple, list)):\n",
      "        return [factoriel(i) for i in argument]\n",
      "    # sinon on l\u00e8ve une exception\n",
      "    else:\n",
      "        raise TypeError, argument"
     ],
     "language": "python",
     "metadata": {},
     "outputs": []
    },
    {
     "cell_type": "code",
     "collapsed": false,
     "input": [
      "print \"entier\", factoriel(4)\n",
      "print \"chaine\", factoriel(\"8\")\n",
      "print \"tuple\", factoriel((4, 8))"
     ],
     "language": "python",
     "metadata": {},
     "outputs": []
    },
    {
     "cell_type": "markdown",
     "metadata": {},
     "source": [
      "Remarquez que la fonction `isinstance` **poss\u00e8de elle-m\u00eame** une logique de ce genre, puisqu'en ligne 5 nous lui avons pass\u00e9 en deuxi\u00e8me argument un type (`int`), alors qu'en ligne 11 on lui a pass\u00e9 un tuple de deux types. Dans ce second cas naturellement, elle v\u00e9rifie si l'objet (le premier argument) est **de l'un des types** mentionn\u00e9s dans le tuple."
     ]
    },
    {
     "cell_type": "heading",
     "level": 3,
     "metadata": {},
     "source": [
      "Le module `types`"
     ]
    },
    {
     "cell_type": "markdown",
     "metadata": {},
     "source": [
      "Dans cet exemple nous avons \u00e9galement utilis\u00e9 le module `types`, et notamment le symbole `types.StringTypes`, plut\u00f4t que simplement `str`. \n",
      "\n",
      "C'est une pratique recommand\u00e9e pour le cas o\u00f9 on appellerait notre fonction avec en argument un objet de type `unicode`."
     ]
    },
    {
     "cell_type": "code",
     "collapsed": false,
     "input": [
      "factoriel(u'4')"
     ],
     "language": "python",
     "metadata": {},
     "outputs": []
    },
    {
     "cell_type": "heading",
     "level": 2,
     "metadata": {},
     "source": [
      "Compl\u00e9ment - niveau interm\u00e9diaire"
     ]
    },
    {
     "cell_type": "heading",
     "level": 3,
     "metadata": {},
     "source": [
      "Le module `types` (suite)"
     ]
    },
    {
     "cell_type": "markdown",
     "metadata": {},
     "source": [
      "Le module `types` d\u00e9finit un certain nombre de constantes de ce genre - vous trouverez une liste exhaustive \u00e0 la fin de ce notebook. Il n'est pas tr\u00e8s difficile de deviner que"
     ]
    },
    {
     "cell_type": "code",
     "collapsed": false,
     "input": [
      "StringTypes == (str, unicode)"
     ],
     "language": "python",
     "metadata": {},
     "outputs": []
    },
    {
     "cell_type": "markdown",
     "metadata": {},
     "source": [
      "Un autre symbole utile est `FunctionType`"
     ]
    },
    {
     "cell_type": "code",
     "collapsed": false,
     "input": [
      "from types import FunctionType\n",
      "isinstance(factoriel, FunctionType)"
     ],
     "language": "python",
     "metadata": {},
     "outputs": []
    },
    {
     "cell_type": "markdown",
     "metadata": {},
     "source": [
      "Mais m\u00e9fiez vous toutefois que les fonctions *built-in* sont de type `BuiltinFunctionType`"
     ]
    },
    {
     "cell_type": "code",
     "collapsed": false,
     "input": [
      "from types import BuiltinFunctionType\n",
      "isinstance(len, BuiltinFunctionType)"
     ],
     "language": "python",
     "metadata": {},
     "outputs": []
    },
    {
     "cell_type": "heading",
     "level": 3,
     "metadata": {},
     "source": [
      "`isinstance` *vs* `type`"
     ]
    },
    {
     "cell_type": "markdown",
     "metadata": {},
     "source": [
      "Il est recommand\u00e9 d'utiliser `isinstance` par rapport \u00e0 la fonction `type`. Tout d'abord, cela permet, on vient de le voir, de prendre en compte plusieurs types. \n",
      "\n",
      "Mais aussi et surtout `isinstance` supporte la notion d'h\u00e9ritage qui est centrale dans le cadre de la programmation orient\u00e9e objet, sur laquelle nous allons anticiper un tout petit peu par rapport aux pr\u00e9sentations de la semaine prochaine. \n",
      "\n",
      "Avec la programmation objet, vous pouvez d\u00e9finir vos propres types. On peut par exemple d\u00e9finir une classe `Animal` qui convient pour tous les animaux, puis d\u00e9finir une sous-classe `Mammifere`. On dit que la classe `Mammifere` *h\u00e9rite* de la classe `Animal`, et on l'appelle sous-classe parce qu'elle repr\u00e9sente une partie des animaux; et donc tout ce qu'on peut faire sur les animaux peut \u00eatre fait sur les mammif\u00e8res.\n",
      "\n",
      "En voici une impl\u00e9mentation tr\u00e8s rudimentaire, uniquement pour illustrer le principe de l'h\u00e9ritage. Si ce qui suit vous semble difficile \u00e0 comprendre, pas d'inqui\u00e9tude, nous reviendrons dessus la semaine prochaine lorsque nous parlerons des classes.  "
     ]
    },
    {
     "cell_type": "code",
     "collapsed": false,
     "input": [
      "class Animal:\n",
      "    def __init__(self, name):\n",
      "        self.name = name\n",
      "\n",
      "class Mammifere(Animal):\n",
      "    def __init__(self, name):\n",
      "        Animal.__init__(self, name)"
     ],
     "language": "python",
     "metadata": {},
     "outputs": []
    },
    {
     "cell_type": "markdown",
     "metadata": {},
     "source": [
      "Encore une fois tout ceci sera vu en d\u00e9tail la semaine prochaine. Ce qui nous int\u00e9resse dans l'imm\u00e9diat c'est que `isinstance` permet dans ce contexte de faire des choses qu'on ne peut pas faire directement avec la fonction `type`, comme ceci"
     ]
    },
    {
     "cell_type": "code",
     "collapsed": false,
     "input": [
      "# c'est comme ceci qu'on peut cr\u00e9er un objet de type `Animal` (m\u00e9thode __init__)\n",
      "requin = Animal('requin')\n",
      "# idem pour un Mammifere\n",
      "baleine = Mammifere('baleine')\n",
      "\n",
      "# bien s\u00fbr ici la r\u00e9ponse est 'True'\n",
      "print \"l'objet baleine est-il un mammifere\", isinstance(baleine, Mammifere)\n",
      "# ici c'est moins \u00e9vident, mais la r\u00e9ponse est 'True' aussi\n",
      "print \"l'objet baleine est-il un animal\", isinstance(baleine, Animal)"
     ],
     "language": "python",
     "metadata": {},
     "outputs": []
    },
    {
     "cell_type": "markdown",
     "metadata": {},
     "source": [
      "Vous voyez qu'ici, bien que l'objet baleine est de type `Mammifere`, on peut le consid\u00e9rer comme \u00e9tant **aussi** de type `Animal`. \n",
      "\n",
      "Ceci est motiv\u00e9 de la fa\u00e7on suivante. Comme on l'a dit plus haut, tout ce qu'on peut faire (en termes notamment d'envoi de m\u00e9thodes) sur un objet de type `Animal`, on peut le faire sur un objet de type `Mammifere`. Dit en termes ensemblistes, l'ensemble des mammif\u00e8res est inclus dans l'ensemble des animaux."
     ]
    },
    {
     "cell_type": "heading",
     "level": 3,
     "metadata": {},
     "source": [
      "Annexe - Les symboles du module `types`"
     ]
    },
    {
     "cell_type": "code",
     "collapsed": false,
     "input": [
      "import types \n",
      "dir(types)"
     ],
     "language": "python",
     "metadata": {},
     "outputs": []
    }
   ],
   "metadata": {}
  }
 ]
}