{
 "cells": [
  {
   "cell_type": "markdown",
   "metadata": {},
   "source": [
    "<style>div.title-slide {    width: 100%;    display: flex;    flex-direction: row;            /* default value; can be omitted */    flex-wrap: nowrap;              /* default value; can be omitted */    justify-content: space-between;}</style><div class=\"title-slide\">\n",
    "<span style=\"float:left;\">Licence CC BY-NC-ND</span>\n",
    "<span>Thierry Parmentelat &amp; Arnaud Legout</span>\n",
    "<span><img src=\"media/both-logos-small-alpha.png\" style=\"display:inline\" /></span>\n",
    "</div>"
   ]
  },
  {
   "cell_type": "markdown",
   "metadata": {},
   "source": [
    "# Autres librairies"
   ]
  },
  {
   "cell_type": "code",
   "execution_count": null,
   "metadata": {},
   "outputs": [],
   "source": [
    "import numpy as np"
   ]
  },
  {
   "cell_type": "code",
   "execution_count": null,
   "metadata": {},
   "outputs": [],
   "source": [
    "from ipywidgets import interact, fixed, FloatSlider"
   ]
  },
  {
   "cell_type": "code",
   "execution_count": null,
   "metadata": {},
   "outputs": [],
   "source": [
    "from bokeh.plotting import figure, show\n",
    "from bokeh.io import push_notebook, output_notebook"
   ]
  },
  {
   "cell_type": "code",
   "execution_count": null,
   "metadata": {},
   "outputs": [],
   "source": [
    "output_notebook()"
   ]
  },
  {
   "cell_type": "markdown",
   "metadata": {},
   "source": [
    "*****"
   ]
  },
  {
   "cell_type": "code",
   "execution_count": null,
   "metadata": {},
   "outputs": [],
   "source": [
    "fig1 = figure(\n",
    "    title=\"fonctions trigonométriques\",\n",
    "    plot_height=300, plot_width=600,\n",
    "    y_range=(-5, 5),\n",
    ")"
   ]
  },
  {
   "cell_type": "code",
   "execution_count": null,
   "metadata": {},
   "outputs": [],
   "source": [
    "x = np.linspace(0, 2*np.pi, 2000)\n",
    "y = np.sin(x)"
   ]
  },
  {
   "cell_type": "code",
   "execution_count": null,
   "metadata": {},
   "outputs": [],
   "source": [
    "courbe_trigo = fig1.line(x, y, color=\"#2222aa\", line_width=3)"
   ]
  },
  {
   "cell_type": "code",
   "execution_count": null,
   "metadata": {},
   "outputs": [],
   "source": [
    "def update_trigo(function_name, frequence=1, amplitude=1, phase=0, handle=None):\n",
    "    func = getattr(np, function_name)\n",
    "    courbe_trigo.data_source.data['y'] = amplitude * func(frequence * x + phase)\n",
    "    push_notebook(handle)"
   ]
  },
  {
   "cell_type": "code",
   "execution_count": null,
   "metadata": {},
   "outputs": [],
   "source": [
    "handle1 = show(fig1, notebook_handle=True)"
   ]
  },
  {
   "cell_type": "code",
   "execution_count": null,
   "metadata": {},
   "outputs": [],
   "source": [
    "interact(update_trigo, function_name=[\"sin\", \"cos\", \"tan\"],\n",
    "         frequence=(1,20),\n",
    "         amplitude=[0.5, 1, 3, 5],\n",
    "         phase=(0, 2*np.pi, 0.05),\n",
    "         handle=fixed(handle1),\n",
    "        );"
   ]
  },
  {
   "cell_type": "markdown",
   "metadata": {},
   "source": [
    "*****"
   ]
  },
  {
   "cell_type": "markdown",
   "metadata": {
    "run_control": {
     "frozen": false,
     "read_only": false
    },
    "slideshow": {
     "slide_type": "slide"
    }
   },
   "source": [
    "### distribution uniforme"
   ]
  },
  {
   "cell_type": "code",
   "execution_count": null,
   "metadata": {
    "run_control": {
     "frozen": false,
     "read_only": false
    },
    "slideshow": {
     "slide_type": "-"
    }
   },
   "outputs": [],
   "source": [
    "def uniform_distribution(N):\n",
    "    # on tire au hasard un rho et un rayon\n",
    "    rhos = 2 * np.pi * np.random.sample(N)\n",
    "    rads = np.random.sample(N)\n",
    "    # il faut prendre la racine carrée du rayon \n",
    "    # sinon ce n'est pas uniforme dans le plan\n",
    "    circle_x = np.sqrt(rads) * np.cos(rhos)\n",
    "    circle_y = np.sqrt(rads) * np.sin(rhos)\n",
    "    return circle_x, circle_y"
   ]
  },
  {
   "cell_type": "code",
   "execution_count": null,
   "metadata": {},
   "outputs": [],
   "source": [
    "N = 1000\n",
    "radii = np.random.random(size=N) * .25\n",
    "reds = 50 + 200*np.random.random(size=N)\n",
    "greens = 30 + 220*np.random.random(size=N)\n",
    "colors = [f\"#{int(r):02x}{int(g):02x}{150:02x}\"\n",
    "          for r, g in zip(reds, greens)\n",
    "         ]"
   ]
  },
  {
   "cell_type": "code",
   "execution_count": null,
   "metadata": {},
   "outputs": [],
   "source": [
    "fig2 = figure(title=\"uniform distribution example\",\n",
    "              plot_height=300, plot_width=300,\n",
    "              x_range=(-10, 10),\n",
    "              y_range=(-10, 10),\n",
    "              )"
   ]
  },
  {
   "cell_type": "code",
   "execution_count": null,
   "metadata": {},
   "outputs": [],
   "source": [
    "x0, y0 = uniform_distribution(N)\n",
    "cloud = fig2.circle(\n",
    "    x0, y0, \n",
    "    radius = radii,\n",
    "    fill_color=colors, fill_alpha=0.6, \n",
    "    line_color=None, line_width=.1\n",
    ")"
   ]
  },
  {
   "cell_type": "code",
   "execution_count": null,
   "metadata": {},
   "outputs": [],
   "source": [
    "def update_cloud(rx, ry, dx, dy, alpha, handle):\n",
    "    # on recalcule les x et y \n",
    "    # à partir des valeurs initiales\n",
    "    s, c = np.sin(alpha), np.cos(alpha)\n",
    "    x = dx + c * rx * x0 - s * ry * y0\n",
    "    y = dy + s * rx * x0 + c * ry * y0 \n",
    "    cloud.data_source.data['x'] = x\n",
    "    cloud.data_source.data['y'] = y\n",
    "    push_notebook(handle)"
   ]
  },
  {
   "cell_type": "code",
   "execution_count": null,
   "metadata": {
    "cell_style": "split"
   },
   "outputs": [],
   "source": [
    "handle2 = show(fig2, notebook_handle=True)"
   ]
  },
  {
   "cell_type": "code",
   "execution_count": null,
   "metadata": {
    "cell_style": "split"
   },
   "outputs": [],
   "source": [
    "interact(\n",
    "    update_cloud,\n",
    "    rx=FloatSlider(min=.5, max=8, \n",
    "                   step=.1, value=1.),\n",
    "    ry=FloatSlider(min=.5, max=8,\n",
    "                   step=.1, value=1.),\n",
    "    dx=(-3, +3, .2),\n",
    "    dy=(-3, +3, .2),\n",
    "    alpha=(0., np.pi, .05),\n",
    "    handle=fixed(handle2)\n",
    ");"
   ]
  }
 ],
 "metadata": {
  "kernelspec": {
   "display_name": "Python 3",
   "language": "python",
   "name": "python3"
  },
  "language_info": {
   "codemirror_mode": {
    "name": "ipython",
    "version": 3
   },
   "file_extension": ".py",
   "mimetype": "text/x-python",
   "name": "python",
   "nbconvert_exporter": "python",
   "pygments_lexer": "ipython3",
   "version": "3.6.3"
  },
  "livereveal": {
   "auto_select": "code",
   "auto_select_fragment": true,
   "autolaunch": false,
   "backimage": "media/nologo.png",
   "height": "100%",
   "start_slideshow_at": "selected",
   "theme": "simple",
   "transition": "fade",
   "width": "100%"
  },
  "notebookname": "Autres librairies",
  "version": "3.0"
 },
 "nbformat": 4,
 "nbformat_minor": 2
}