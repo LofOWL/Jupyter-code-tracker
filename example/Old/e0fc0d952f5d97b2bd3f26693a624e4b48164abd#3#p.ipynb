{
 "metadata": {
  "kernelspec": {
   "display_name": "Python 2", 
   "language": "python", 
   "name": "python2"
  }, 
  "name": "", 
  "notebookname": "exercices sur if", 
  "version": "2.0"
 }, 
 "nbformat": 2, 
 "nbformat_minor": 0, 
 "orig_nbformat": 4, 
 "orig_nbformat_minor": 0, 
 "worksheets": [
  {
   "cells": [
    {
     "cell_type": "markdown", 
     "metadata": {}, 
     "source": [
      "<span style=\"float:left;\">Licence CC BY-NC-ND</span><span style=\"float:right;\">Thierry Parmentelat &amp; Arnaud Legout,<img src=\"media/inria-25.png\" style=\"display:inline\"></span><br/>"
     ]
    }, 
    {
     "cell_type": "markdown", 
     "metadata": {}, 
     "source": [
      "# L'instruction `if`"
     ]
    }, 
    {
     "cell_type": "markdown", 
     "metadata": {}, 
     "source": [
      "## Exercice - niveau basique"
     ]
    }, 
    {
     "cell_type": "markdown", 
     "metadata": {}, 
     "source": [
      "### R\u00e9partiteur (1)"
     ]
    }, 
    {
     "cell_type": "code", 
     "collapsed": false, 
     "input": [
      "# on charge l'exercice", 
      "from corrections.w3s7_if import exo_dispatch1"
     ], 
     "language": "python", 
     "metadata": {}, 
     "outputs": [], 
     "prompt_number": null
    }, 
    {
     "cell_type": "markdown", 
     "metadata": {}, 
     "source": [
      "On vous demande d'\u00e9crire une fonction `dispatch1` qui prend en argument deux entiers `a` et `b` et qui renvoie selon les cas"
     ]
    }, 
    {
     "cell_type": "markdown", 
     "metadata": {}, 
     "source": [
      "$\\begin{array}{c|c|c}", 
      "\\ & a\\  pair & a\\ impair \\\\", 
      "\\hline", 
      "b\\ pair & a^2+b^2 & (a-1)*b\\\\", 
      "\\hline", 
      "b\\ impair & a*(b-1)& a^2-b^2\\\\", 
      "\\end{array}", 
      "$"
     ]
    }, 
    {
     "cell_type": "code", 
     "collapsed": false, 
     "input": [
      "# un petit exemples", 
      "exo_dispatch1.exemple()"
     ], 
     "language": "python", 
     "metadata": {}, 
     "outputs": [], 
     "prompt_number": null
    }, 
    {
     "cell_type": "code", 
     "collapsed": false, 
     "input": [
      "def dispatch1(a, b):", 
      "    \"<votre_code>\""
     ], 
     "language": "python", 
     "metadata": {}, 
     "outputs": [], 
     "prompt_number": null
    }, 
    {
     "cell_type": "code", 
     "collapsed": false, 
     "input": [
      "# pour v\u00e9rifier votre code", 
      "exo_dispatch1.correction(dispatch1)"
     ], 
     "language": "python", 
     "metadata": {}, 
     "outputs": [], 
     "prompt_number": null
    }, 
    {
     "cell_type": "markdown", 
     "metadata": {}, 
     "source": [
      "## Exercice - niveau basique"
     ]
    }, 
    {
     "cell_type": "markdown", 
     "metadata": {}, 
     "source": [
      "### R\u00e9partiteur (2)"
     ]
    }, 
    {
     "cell_type": "code", 
     "collapsed": false, 
     "input": [
      "# chargement de l'exercice", 
      "from corrections.w3s7_if import exo_dispatch2"
     ], 
     "language": "python", 
     "metadata": {}, 
     "outputs": [], 
     "prompt_number": null
    }, 
    {
     "cell_type": "markdown", 
     "metadata": {}, 
     "source": [
      "Dans une seconde version de cet exercice, on vous demande d'\u00e9crire une fonction `dispatch2` qui prend en arguments", 
      " * `a` et `b` deux entiers", 
      " * `A` et `B` deux ensembles (chacun pouvant \u00eatre mat\u00e9rialis\u00e9 par un ensemble, une liste ou un tuple)", 
      "", 
      "et qui renvoie selons les cas", 
      "", 
      "$\\begin{array}{c|c|c}", 
      "\\ & a \\in A & a\\notin A \\\\", 
      "\\hline", 
      "b\\in B & a^2+b^2 & (a-1)*b\\\\", 
      "\\hline", 
      "b\\notin B & a*(b-1)& a^2+b^2\\\\", 
      "\\end{array}", 
      "$"
     ]
    }, 
    {
     "cell_type": "code", 
     "collapsed": false, 
     "input": [
      "def dispatch2(a, b, A, B):", 
      "    \"<votre_code>\""
     ], 
     "language": "python", 
     "metadata": {}, 
     "outputs": [], 
     "prompt_number": null
    }, 
    {
     "cell_type": "code", 
     "collapsed": false, 
     "input": [
      "# pour v\u00e9rifier votre code", 
      "exo_dispatch2.correction(dispatch2)"
     ], 
     "language": "python", 
     "metadata": {}, 
     "outputs": [], 
     "prompt_number": null
    }
   ], 
   "metadata": {}
  }
 ]
}
