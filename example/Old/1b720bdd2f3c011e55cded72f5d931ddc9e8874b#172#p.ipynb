{
 "cells": [
  {
   "cell_type": "markdown",
   "metadata": {},
   "source": [
    "<span style=\"float:left;\">Licence CC BY-NC-ND</span><span style=\"float:right;\">Thierry Parmentelat &amp; Arnaud Legout,<img src=\"media/inria-25.png\" style=\"display:inline\"></span><br/>"
   ]
  },
  {
   "cell_type": "markdown",
   "metadata": {},
   "source": [
    "# Les instructions `break` et `continue`"
   ]
  },
  {
   "cell_type": "markdown",
   "metadata": {},
   "source": [
    "## Complément - niveau basique"
   ]
  },
  {
   "cell_type": "markdown",
   "metadata": {},
   "source": [
    "### `break` et `continue`"
   ]
  },
  {
   "cell_type": "markdown",
   "metadata": {},
   "source": [
    "python propose deux instructions très pratiques permettant de contrôler l'exécution à l'intérieur des boucles de répétition (`for` ou `while`)\n",
    "\n",
    " * `continue` : pour abandonner l'itération courante et passer à la suivante\n",
    " * `break` : pour abandonner complètement la boucle\n",
    " \n",
    "Voici un exemple simple d'utilisation de ces deux instructions"
   ]
  },
  {
   "cell_type": "code",
   "execution_count": null,
   "metadata": {
    "collapsed": false
   },
   "outputs": [],
   "source": [
    "for entier in range(1000):\n",
    "    # on ignore les nombres non multiples de 10\n",
    "    if entier % 10 != 0:\n",
    "        continue\n",
    "    print \"On traite l'entier {}\".format(entier)\n",
    "    # on s'arrête à 50\n",
    "    if entier >= 50:\n",
    "        break\n",
    "print \"on est sorti de la boucle\"    "
   ]
  },
  {
   "cell_type": "markdown",
   "metadata": {},
   "source": [
    "Pour aller plus loin, vous pouvez lire [cette documentation](https://docs.python.org/2.7/tutorial/controlflow.html?highlight=break#break-and-continue-statements-and-else-clauses-on-loops)."
   ]
  }
 ],
 "metadata": {
  "kernelspec": {
   "display_name": "Python 2",
   "language": "python",
   "name": "python2"
  },
  "notebookname": "break et continue",
  "version": "2.0"
 },
 "nbformat": 4,
 "nbformat_minor": 0
}
