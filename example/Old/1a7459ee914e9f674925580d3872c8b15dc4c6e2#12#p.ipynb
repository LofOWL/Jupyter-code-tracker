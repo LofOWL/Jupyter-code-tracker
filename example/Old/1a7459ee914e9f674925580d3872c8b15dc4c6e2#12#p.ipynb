{
 "metadata": {
  "notebookname": "Noms de variables",
  "signature": "42181366494ea0bc224b6b6e4da7ef53f8d0af4a2fde6d7acf13cac7dccd289f",
  "version": "1.0"
 },
 "nbformat": 3,
 "nbformat_minor": 0,
 "worksheets": [
  {
   "cells": [
    {
     "cell_type": "heading",
     "level": 1,
     "metadata": {},
     "source": [
      "Noms de variables"
     ]
    },
    {
     "cell_type": "heading",
     "level": 2,
     "metadata": {},
     "source": [
      "Compl\u00e9ment - niveau basique"
     ]
    },
    {
     "cell_type": "markdown",
     "metadata": {},
     "source": [
      "Revenons un peu sur les noms de variables autoris\u00e9s ou non."
     ]
    },
    {
     "cell_type": "markdown",
     "metadata": {},
     "source": [
      "Les noms les plus simples sont constitu\u00e9s de lettres. Par exemple:"
     ]
    },
    {
     "cell_type": "code",
     "collapsed": false,
     "input": [
      "factoriel = 1"
     ],
     "language": "python",
     "metadata": {},
     "outputs": []
    },
    {
     "cell_type": "markdown",
     "metadata": {},
     "source": [
      "On peut utiliser aussi les majuscules, mais attention cela d\u00e9finit une variable diff\u00e9rente. Ainsi:"
     ]
    },
    {
     "cell_type": "code",
     "collapsed": false,
     "input": [
      "Factoriel = 100\n",
      "factoriel == Factoriel"
     ],
     "language": "python",
     "metadata": {},
     "outputs": []
    },
    {
     "cell_type": "markdown",
     "metadata": {},
     "source": [
      "Le signe `==` permet de tester si deux variables ont la m\u00eame valeur (nous dirons plus tard : \"si les deux variables r\u00e9f\u00e9rencent le m\u00eame objet\"). Si les variables ont la m\u00eame valeur, le test retournera `True` et `False` sinon."
     ]
    },
    {
     "cell_type": "heading",
     "level": 3,
     "metadata": {},
     "source": [
      "Conventions habituelles"
     ]
    },
    {
     "cell_type": "markdown",
     "metadata": {},
     "source": [
      "En r\u00e8gle g\u00e9n\u00e9rale on utilise **uniquement des minuscules** pour d\u00e9signer les variables simples (ainsi d'ailleurs que pour les noms de fonctions); les majuscules sont r\u00e9serv\u00e9es en principe pour d'autres sortes de variables, comme les noms de classe, que nous verrons ult\u00e9rieurement.\n",
      "\n",
      "NB. Il s'agit uniquement d'une convention, ceci n'est pas impos\u00e9 par le langage lui-m\u00eame."
     ]
    },
    {
     "cell_type": "markdown",
     "metadata": {},
     "source": [
      "Pour des raisons de lisibilit\u00e9, il est \u00e9galement possible d'utiliser le tiret bas `_` dans les noms de variables. On pr\u00e9f\u00e8rera ainsi"
     ]
    },
    {
     "cell_type": "code",
     "collapsed": false,
     "input": [
      "age_moyen = 75 # oui"
     ],
     "language": "python",
     "metadata": {},
     "outputs": []
    },
    {
     "cell_type": "markdown",
     "metadata": {},
     "source": [
      "plut\u00f4t que ceci (bien qu'autoris\u00e9 par le langage)"
     ]
    },
    {
     "cell_type": "code",
     "collapsed": false,
     "input": [
      "AgeMoyen = 75 # non"
     ],
     "language": "python",
     "metadata": {},
     "outputs": []
    },
    {
     "cell_type": "markdown",
     "metadata": {},
     "source": [
      "On peut \u00e9galement utiliser des chiffres dans les noms de variables comme par exemple"
     ]
    },
    {
     "cell_type": "code",
     "collapsed": false,
     "input": [
      "age_moyen_dept75 = 80"
     ],
     "language": "python",
     "metadata": {},
     "outputs": []
    },
    {
     "cell_type": "markdown",
     "metadata": {},
     "source": [
      "avec la restriction toutefois que le premier caract\u00e8re ne peut pas \u00eatre un chiffre; cette affectation est donc refus\u00e9e:"
     ]
    },
    {
     "cell_type": "code",
     "collapsed": false,
     "input": [
      "75_age_moyen = 80 # erreur de syntaxe"
     ],
     "language": "python",
     "metadata": {},
     "outputs": []
    },
    {
     "cell_type": "heading",
     "level": 3,
     "metadata": {},
     "source": [
      "Le tiret bas comme premier caract\u00e8re"
     ]
    },
    {
     "cell_type": "markdown",
     "metadata": {},
     "source": [
      "Il est par contre, en th\u00e9orie au moins, possible de faire commencer un nom de variable par un tiret bas comme premier caract\u00e8re; toutefois \u00e0 ce stade nous vous d\u00e9conseillons d'utiliser cette pratique, qui est r\u00e9serv\u00e9e \u00e0 des conventions de nommage bien sp\u00e9cifiques."
     ]
    },
    {
     "cell_type": "code",
     "collapsed": false,
     "input": [
      "_autorise_mais_deconseille = 'Voir le PEP 008'"
     ],
     "language": "python",
     "metadata": {},
     "outputs": []
    },
    {
     "cell_type": "markdown",
     "metadata": {},
     "source": [
      "Et en tous cas, il est **fortement d\u00e9conseill\u00e9** d'utiliser des noms de la forme `__variable__` qui sont r\u00e9serv\u00e9s au langage. Nous reviendrons sur ce point dans le futur, mais consid\u00e9rez par exemple cette variable que nous n'avons d\u00e9fini nulle part mais qui pourtant existe bel et bien:"
     ]
    },
    {
     "cell_type": "code",
     "collapsed": false,
     "input": [
      "__name__  # ne definissez pas vous-m\u00eame de variables de ce genre"
     ],
     "language": "python",
     "metadata": {},
     "outputs": []
    },
    {
     "cell_type": "heading",
     "level": 3,
     "metadata": {},
     "source": [
      "Autres caract\u00e8res"
     ]
    },
    {
     "cell_type": "markdown",
     "metadata": {},
     "source": [
      "Il n'est **pas possible** d'utiliser d'autres caract\u00e8res que les caract\u00e8res alphanum\u00e9riques et le tiret bas. Notamment le tiret haut `-` est interpr\u00e9t\u00e9 comme l'op\u00e9ration de soustraction. Attention \u00e0 cette erreur fr\u00e9quente:"
     ]
    },
    {
     "cell_type": "code",
     "collapsed": false,
     "input": [
      "age-moyen = 75  # erreur : en fait python lit 'age - moyen = 75'"
     ],
     "language": "python",
     "metadata": {},
     "outputs": []
    },
    {
     "cell_type": "heading",
     "level": 3,
     "metadata": {},
     "source": [
      "Pour en savoir plus"
     ]
    },
    {
     "cell_type": "markdown",
     "metadata": {},
     "source": [
      "Pour les esprits curieux, Guido van Rossum, le fondateur de python, est le co-auteur d'un document qui d\u00e9crit les conventions de codage \u00e0 utiliser dans les librairies python standard. Ces r\u00e8gles sont plus restrictives que ce que le langage permet de faire, mais constituent une lecture int\u00e9ressante si vous projetez d'\u00e9crire beaucoup de python.\n",
      "\n",
      "Voir [La section consacr\u00e9e aux r\u00e8gles de nommage - (en anglais)](http://legacy.python.org/dev/peps/pep-0008/#descriptive-naming-styles)"
     ]
    }
   ],
   "metadata": {}
  }
 ]
}