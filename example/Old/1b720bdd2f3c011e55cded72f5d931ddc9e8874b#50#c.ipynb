{
 "metadata": {
  "kernelspec": {
   "display_name": "Python 2", 
   "language": "python", 
   "name": "python2"
  }, 
  "name": "", 
  "notebookname": "+= revisit\u00e9", 
  "version": "2.0"
 }, 
 "nbformat": 2, 
 "nbformat_minor": 0, 
 "orig_nbformat": 4, 
 "orig_nbformat_minor": 0, 
 "worksheets": [
  {
   "cells": [
    {
     "cell_type": "markdown", 
     "metadata": {}, 
     "source": [
      "<span style=\"float:left;\">Licence CC BY-NC-ND</span><span style=\"float:right;\">Thierry Parmentelat &amp; Arnaud Legout&nbsp;<img src=\"media/inria-25.png\" style=\"display:inline\"></span><br/>"
     ]
    }, 
    {
     "cell_type": "markdown", 
     "metadata": {}, 
     "source": [
      "# Les instructions += et autres revisit\u00e9es"
     ]
    }, 
    {
     "cell_type": "markdown", 
     "metadata": {}, 
     "source": [
      "## Compl\u00e9ment - niveau interm\u00e9diaire"
     ]
    }, 
    {
     "cell_type": "markdown", 
     "metadata": {}, 
     "source": [
      "Nous avons vu en deuxi\u00e8me semaine (S\u00e9quence \"Les types num\u00e9riques\") une premi\u00e8re introduction aux instructions `+=` et ses d\u00e9riv\u00e9es comme `*=`, `**=`, etc."
     ]
    }, 
    {
     "cell_type": "markdown", 
     "metadata": {}, 
     "source": [
      "### Ces constructions ont une d\u00e9finition \u00e0 g\u00e9om\u00e9trie variable"
     ]
    }, 
    {
     "cell_type": "markdown", 
     "metadata": {}, 
     "source": [
      "En C quand on utilise `+=` (ou encore `++`) on modifie la m\u00e9moire en place - historiquement, cet op\u00e9rateur permettait au programmeur d'aider \u00e0 l'optimisation du code pour utiliser les instructions assembleur idoines.", 
      "", 
      "Ces constructions en python s'inspirent clairement de C, aussi dans l'esprit ces constructions devraient fonctionner en **modifiant** l'objet r\u00e9f\u00e9renc\u00e9 par la variable. ", 
      "", 
      "Mais les types num\u00e9riques en python ne sont **pas mutables**, alors que les listes le sont. Du coup le comportement de `+=` est diff\u00e9rent selon qu'on l'utilise sur un nombre ou sur une liste. Voyons cela sur des exemples tr\u00e8s simples."
     ]
    }, 
    {
     "cell_type": "code", 
     "collapsed": false, 
     "input": [
      "# Premier exemple avec un entier", 
      "", 
      "# on commence avec une r\u00e9f\u00e9rence partag\u00e9e", 
      "a = b = 3", 
      "a is b "
     ], 
     "language": "python", 
     "metadata": {}, 
     "outputs": [], 
     "prompt_number": null
    }, 
    {
     "cell_type": "code", 
     "collapsed": false, 
     "input": [
      "# on utilise += sur une des deux variables", 
      "a += 1", 
      "", 
      "# ceci n'a pas modifi\u00e9 b", 
      "# c'est normal, l'entier n'est pas mutable", 
      "", 
      "print a", 
      "print b", 
      "print a is b"
     ], 
     "language": "python", 
     "metadata": {}, 
     "outputs": [], 
     "prompt_number": null
    }, 
    {
     "cell_type": "code", 
     "collapsed": false, 
     "input": [
      "# Deuxi\u00e8me exemple, cette fois avec une liste", 
      "", 
      "# la m\u00eame r\u00e9f\u00e9rence partag\u00e9e", 
      "a = b = []", 
      "a is b"
     ], 
     "language": "python", 
     "metadata": {}, 
     "outputs": [], 
     "prompt_number": null
    }, 
    {
     "cell_type": "code", 
     "collapsed": false, 
     "input": [
      "# pareil, on fait += sur une des variables", 
      "a += [1]", 
      "", 
      "# cette fois on a modifi\u00e9 a *et* b", 
      "# car += a pu modifier la liste en place", 
      "print a", 
      "print b", 
      "print a is b"
     ], 
     "language": "python", 
     "metadata": {}, 
     "outputs": [], 
     "prompt_number": null
    }, 
    {
     "cell_type": "markdown", 
     "metadata": {}, 
     "source": [
      "Vous voyez donc que la s\u00e9mantique de `+=` (c'est bien entendu le cas pour toutes les autres formes d'instructions qui combinent l'affectation avec un op\u00e9rateur) **est diff\u00e9rente** suivant que l'objet r\u00e9f\u00e9renc\u00e9 par le terme de gauche est **mutable ou immuable**."
     ]
    }, 
    {
     "cell_type": "markdown", 
     "metadata": {}, 
     "source": [
      "Pour cette raison, c'est l\u00e0 une opinion personnelle, cette famille d'instructions n'est pas le trait le plus r\u00e9ussi dans le langage, et je ne recommande pas de l'utiliser."
     ]
    }, 
    {
     "cell_type": "markdown", 
     "metadata": {}, 
     "source": [
      "### Pr\u00e9cision sur la d\u00e9finition de `+=`"
     ]
    }, 
    {
     "cell_type": "markdown", 
     "metadata": {}, 
     "source": [
      "Nous avions dit en premi\u00e8re semaine, et en premi\u00e8re approximation, que ", 
      "", 
      "    x += y", 
      "    ", 
      "\u00e9tait \u00e9quivalent \u00e0 ", 
      "", 
      "    x = x + y"
     ]
    }, 
    {
     "cell_type": "markdown", 
     "metadata": {}, 
     "source": [
      "Au vu de ce qui pr\u00e9c\u00e8de, on voit que ce n'est **pas tout \u00e0 fait exact**, puisque&nbsp;:"
     ]
    }, 
    {
     "cell_type": "code", 
     "collapsed": false, 
     "input": [
      "# si on fait x += y sur une liste ", 
      "# on fait un effet de bord sur la liste", 
      "# comme on vient de le voir", 
      "", 
      "a = []", 
      "print \"avant\", id(a)", 
      "a += [1]", 
      "print \"apr\u00e8s\", id(a)"
     ], 
     "language": "python", 
     "metadata": {}, 
     "outputs": [], 
     "prompt_number": null
    }, 
    {
     "cell_type": "code", 
     "collapsed": false, 
     "input": [
      "# alors que si on fait x = x + y sur une liste", 
      "# on cr\u00e9e un nouvel objet liste", 
      "", 
      "a = []", 
      "print \"avant\", id(a)", 
      "a = a + [1]", 
      "print \"apr\u00e8s\", id(a)"
     ], 
     "language": "python", 
     "metadata": {}, 
     "outputs": [], 
     "prompt_number": null
    }, 
    {
     "cell_type": "markdown", 
     "metadata": {}, 
     "source": [
      "Vous voyez donc que vis-\u00e0-vis des r\u00e9f\u00e9rences partag\u00e9es, ces deux fa\u00e7ons de faire m\u00e8nent \u00e0 un r\u00e9sultat diff\u00e9rent. "
     ]
    }
   ], 
   "metadata": {}
  }
 ]
}
