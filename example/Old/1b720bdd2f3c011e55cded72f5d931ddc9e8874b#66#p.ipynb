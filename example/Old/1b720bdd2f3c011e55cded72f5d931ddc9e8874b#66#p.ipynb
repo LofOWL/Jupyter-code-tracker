{
 "metadata": {
  "kernelspec": {
   "display_name": "Python 2", 
   "language": "python", 
   "name": "python2"
  }, 
  "name": "", 
  "notebookname": "Les fichiers", 
  "version": "2.0"
 }, 
 "nbformat": 2, 
 "nbformat_minor": 0, 
 "orig_nbformat": 4, 
 "orig_nbformat_minor": 0, 
 "worksheets": [
  {
   "cells": [
    {
     "cell_type": "markdown", 
     "metadata": {}, 
     "source": [
      "<span style=\"float:left;\">Licence CC BY-NC-ND</span><span style=\"float:right;\">Thierry Parmentelat &amp; Arnaud Legout,<img src=\"media/inria-25.png\" style=\"display:inline\"></span><br/>"
     ]
    }, 
    {
     "cell_type": "markdown", 
     "metadata": {}, 
     "source": [
      "# Les fichiers"
     ]
    }, 
    {
     "cell_type": "markdown", 
     "metadata": {}, 
     "source": [
      "## Compl\u00e9ment - niveau basique"
     ]
    }, 
    {
     "cell_type": "markdown", 
     "metadata": {}, 
     "source": [
      "Voici quelques utilisations habituelles du type `file` en python"
     ]
    }, 
    {
     "cell_type": "markdown", 
     "metadata": {}, 
     "source": [
      "### Avec un *context manager*"
     ]
    }, 
    {
     "cell_type": "markdown", 
     "metadata": {}, 
     "source": [
      "Nous avons vu dans la vid\u00e9o les m\u00e9canismes de base sur les fichiers. Nous avons vu notamment qu'il est important de bien fermer un fichier apr\u00e8s usage.", 
      "", 
      "Dans la pratique, il est recommand\u00e9 de **toujours** utiliser l'instruction `with`, que nous approfondirons en semaine 6. Dans l'imm\u00e9diat notez qu'au lieu de faire"
     ]
    }, 
    {
     "cell_type": "code", 
     "collapsed": false, 
     "input": [
      "# la m\u00e9thode \"de bas niveau\" n'est plus recommand\u00e9e ", 
      "# depuis l'introduction de l'instruction 'with'", 
      "sortie = open(\"s1.txt\", \"w\")", 
      "for i in range(2):", 
      "    sortie.write(\"{}\\n\".format(i))", 
      "sortie.close()"
     ], 
     "language": "python", 
     "metadata": {}, 
     "outputs": [], 
     "prompt_number": null
    }, 
    {
     "cell_type": "markdown", 
     "metadata": {}, 
     "source": [
      "**On fera plut\u00f4t**"
     ]
    }, 
    {
     "cell_type": "code", 
     "collapsed": false, 
     "input": [
      "# de cette mani\u00e8re, on garantit la fermeture du fichier", 
      "with open(\"s1.txt\", \"w\") as sortie:", 
      "    for i in range(2):", 
      "        sortie.write(\"{}\\n\".format(i))"
     ], 
     "language": "python", 
     "metadata": {}, 
     "outputs": [], 
     "prompt_number": null
    }, 
    {
     "cell_type": "markdown", 
     "metadata": {}, 
     "source": [
      "Depuis son introduction dans python-2.5, cette forme est devenue tr\u00e8s populaire car elle pr\u00e9sente le gros avantage de **garantir** que le fichier sera **bien ferm\u00e9**, et cela m\u00eame si une exception devait \u00eatre lev\u00e9e \u00e0 l'int\u00e9rieur du bloc `with`. Et marginalement le code est plus lisible dans cette deuxi\u00e8me forme."
     ]
    }, 
    {
     "cell_type": "markdown", 
     "metadata": {}, 
     "source": [
      "### Les modes d'ouverture"
     ]
    }, 
    {
     "cell_type": "markdown", 
     "metadata": {}, 
     "source": [
      "Les modes d'ouverture les plus utilis\u00e9s sont", 
      " * `'r'` (la cha\u00eene contenant l'unique caract\u00e8re `r`) pour ouvrir un fichier en lecture seulement;", 
      " * `'w'` en \u00e9criture seulement; le contenu pr\u00e9c\u00e9dent du fichier, s'il existait, est perdu;", 
      " * `'a'` en \u00e9criture seulement, mais pour ajouter du contenu \u00e0 la fin de fichier."
     ]
    }, 
    {
     "cell_type": "markdown", 
     "metadata": {}, 
     "source": [
      "Voici par exemple comment on pourrait ajouter du texte dans le fichier `s1.txt` qui devrait, \u00e0 ce stade contenir 2 entiers"
     ]
    }, 
    {
     "cell_type": "code", 
     "collapsed": false, 
     "input": [
      "# on ouvre le fichier en mode 'a' comme append - ou ajouter", 
      "with open(\"s1.txt\", \"a\") as sortie:", 
      "    for i in range(100, 102):", 
      "        sortie.write(\"{}\\n\".format(i))", 
      "", 
      "# maintenant on regarde ce que contient le fichier", 
      "with open(\"s1.txt\") as entree: # remarquez que sans 'mode', on ouvre en lecture seule", 
      "    for line in entree:", 
      "        # comme line contient deja la fin de ligne", 
      "        # on ajoute une virgule pour eviter une deuxieme fin de ligne", 
      "        print line,               "
     ], 
     "language": "python", 
     "metadata": {}, 
     "outputs": [], 
     "prompt_number": null
    }, 
    {
     "cell_type": "markdown", 
     "metadata": {}, 
     "source": [
      "Il existe de nombreuses variantes au mode d'ouverture, pour par exemple:", 
      " * ouvrir le fichier en lecture et en \u00e9criture,", 
      " * ouvrir le fichier en mode binaire,", 
      " * utiliser le mode dit *universal newlines* qui permet de s'affranchir des diff\u00e9rences de fin de ligne entre les fichiers produits sur, d'une part linux et MacOS, et d'autre part Windows.", 
      "", 
      "Ces variantes sont d\u00e9crites dans [la section sur la fonction built-in `open`](https://docs.python.org/2/library/functions.html#open) dans la documentation python."
     ]
    }, 
    {
     "cell_type": "markdown", 
     "metadata": {}, 
     "source": [
      "### Comment lire un contenu (haut niveau)"
     ]
    }, 
    {
     "cell_type": "markdown", 
     "metadata": {}, 
     "source": [
      "Les fichiers textuels classiques se lisent en g\u00e9n\u00e9ral, comme on vient d'ailleurs de le faire, avec une simple boucle `for` sur l'objet fichier, qui it\u00e8re sur les lignes du fichier. Cette m\u00e9thode est **recommand\u00e9e** car elle est **efficace**, et n'implique pas notamment de charger l'int\u00e9gralit\u00e9 du fichier en m\u00e9moire."
     ]
    }, 
    {
     "cell_type": "markdown", 
     "metadata": {}, 
     "source": [
      "On trouve aussi, dans du code plus ancien, l'appel \u00e0 la m\u00e9thode `readlines` qui renvoie une liste de lignes:"
     ]
    }, 
    {
     "cell_type": "code", 
     "collapsed": false, 
     "input": [
      "# il faut \u00e9viter cette forme qu'on peut trouver dans du code ancien", 
      "with open(\"s1.txt\") as entree:", 
      "    for line in entree.readlines():", 
      "        print line,"
     ], 
     "language": "python", 
     "metadata": {}, 
     "outputs": [], 
     "prompt_number": null
    }, 
    {
     "cell_type": "markdown", 
     "metadata": {}, 
     "source": [
      "Vous remarquerez cependant que cette m\u00e9thode implique de **charger l'int\u00e9gralit\u00e9** du fichier en m\u00e9moire. Similairement \u00e0 la discussion que nous avons eue en fin de semaine 3 sur les it\u00e9rateurs et la performance, ici aussi l'utilisation du fichier comme un it\u00e9rateur est de loin pr\u00e9f\u00e9rable."
     ]
    }, 
    {
     "cell_type": "markdown", 
     "metadata": {}, 
     "source": [
      "## Compl\u00e9ment - niveau interm\u00e9diaire"
     ]
    }, 
    {
     "cell_type": "markdown", 
     "metadata": {}, 
     "source": [
      "### Un fichier est un it\u00e9rateur"
     ]
    }, 
    {
     "cell_type": "markdown", 
     "metadata": {}, 
     "source": [
      "Pendant que l'on parle d'it\u00e9rateur, remarquons qu'un fichier - qui donc **est it\u00e9rable** puisqu'on peut le lire par une boucle `for` - est aussi **son propre it\u00e9rateur**:"
     ]
    }, 
    {
     "cell_type": "code", 
     "collapsed": false, 
     "input": [
      "# un fichier est son propre it\u00e9rateur"
     ], 
     "language": "python", 
     "metadata": {}, 
     "outputs": [], 
     "prompt_number": null
    }, 
    {
     "cell_type": "code", 
     "collapsed": false, 
     "input": [
      "with open(\"s1.txt\") as entree:", 
      "    print entree.__iter__() is entree"
     ], 
     "language": "python", 
     "metadata": {}, 
     "outputs": [], 
     "prompt_number": null
    }, 
    {
     "cell_type": "markdown", 
     "metadata": {}, 
     "source": [
      "Dans le prolongement de la discussion sur les it\u00e9rateurs et les it\u00e9rables en fin de semaine 3, nous vous rappelons que tous les autres types de base que nous avons vus jusqu'ici ont leur it\u00e9rateurs impl\u00e9ment\u00e9s comme des objets s\u00e9par\u00e9s. Nous avions \u00e0 l'\u00e9poque soulign\u00e9 que ce choix permettait notamment de r\u00e9aliser deux boucles imbriqu\u00e9es sur la m\u00eame liste."
     ]
    }, 
    {
     "cell_type": "code", 
     "collapsed": false, 
     "input": [
      "# deux boucles imbriqu\u00e9es sur la m\u00eame liste fonctionnent comme attendu", 
      "liste = [1, 2]", 
      "for i in liste:", 
      "    for j in liste:", 
      "        print i, \"x\", j"
     ], 
     "language": "python", 
     "metadata": {}, 
     "outputs": [], 
     "prompt_number": null
    }, 
    {
     "cell_type": "markdown", 
     "metadata": {}, 
     "source": [
      "Par contre, \u00e9crire deux boucles `for` imbriqu\u00e9es sur **le m\u00eame objet fichier** ne **fonctionnerait pas** comme on pourrait s'y attendre :"
     ]
    }, 
    {
     "cell_type": "code", 
     "collapsed": false, 
     "input": [
      "# Si on essaie d'\u00e9crire deux boucles imbriqu\u00e9es", 
      "# sur le m\u00eame objet fichier, le r\u00e9sultat est inattendu", 
      "with open(\"s1.txt\") as entree:", 
      "    for l1 in entree:", 
      "        # on enleve les fins de ligne", 
      "        l1 = l1.strip()", 
      "        for l2 in entree:", 
      "            # on enleve les fins de ligne", 
      "            l2 = l2.strip()", 
      "            print l1, \"x\", l2"
     ], 
     "language": "python", 
     "metadata": {}, 
     "outputs": [], 
     "prompt_number": null
    }, 
    {
     "cell_type": "markdown", 
     "metadata": {}, 
     "source": [
      "### Autres m\u00e9thodes"
     ]
    }, 
    {
     "cell_type": "markdown", 
     "metadata": {}, 
     "source": [
      "Vous pouvez \u00e9galement acc\u00e9der \u00e0 des fonctions de beaucoup plus bas niveau, notamment celle fournies directement par le syst\u00e8me d'exploitation; nous allons en d\u00e9crire deux parmi les plus utiles."
     ]
    }, 
    {
     "cell_type": "markdown", 
     "metadata": {}, 
     "source": [
      "##### Lire un contenu - bas niveau"
     ]
    }, 
    {
     "cell_type": "markdown", 
     "metadata": {}, 
     "source": [
      "La m\u00e9thode `read()` permet de lire dans le fichier un buffer d'une certaine taille:"
     ]
    }, 
    {
     "cell_type": "code", 
     "collapsed": false, 
     "input": [
      "# lire dans le fichier deux blocs de 4 caract\u00e8res", 
      "with open(\"s1.txt\") as entree:", 
      "    for bloc in xrange(2):", 
      "        print \"Bloc {} >>{}<<\".format(bloc, entree.read(4))"
     ], 
     "language": "python", 
     "metadata": {}, 
     "outputs": [], 
     "prompt_number": null
    }, 
    {
     "cell_type": "markdown", 
     "metadata": {}, 
     "source": [
      "Le premier bloc contient bien 4 caract\u00e8res si on compte les deux sauts de ligne", 
      "", 
      "    Bloc1 = \"0\\n1\\n\"", 
      "", 
      "Le second bloc contient quant \u00e0 lui", 
      "", 
      "    Bloc2 = \"100\\n\"", 
      "", 
      "*****"
     ]
    }, 
    {
     "cell_type": "markdown", 
     "metadata": {}, 
     "source": [
      "Avec la m\u00e9thode `read` mais sans argument, on peut lire tout le fichier d'un coup - mais l\u00e0 encore prenez garde \u00e0 l'utilisation de la m\u00e9moire"
     ]
    }, 
    {
     "cell_type": "code", 
     "collapsed": false, 
     "input": [
      "with open(\"s1.txt\") as entree:", 
      "    contenu = entree.read()", 
      "    print \"Dans un contenu de longueur {} \" \\", 
      "          \"on a trouv\u00e9 {} occurrences de 0\" \\", 
      "          .format(len(contenu), contenu.count('0'))"
     ], 
     "language": "python", 
     "metadata": {}, 
     "outputs": [], 
     "prompt_number": null
    }, 
    {
     "cell_type": "markdown", 
     "metadata": {}, 
     "source": [
      "##### La m\u00e9thode `flush`"
     ]
    }, 
    {
     "cell_type": "markdown", 
     "metadata": {}, 
     "source": [
      "Les entr\u00e9es-sortie sur fichier sont bien souvent *bufferis\u00e9es* par le syst\u00e8me d'exploitation. Cela signifie qu'un appel \u00e0 `write` ne provoque pas forc\u00e9ment une \u00e9criture imm\u00e9diate, car pour des raisons de performance on attend d'avoir suffisamment de mati\u00e8re avant d'\u00e9crire sur le disque.", 
      "", 
      "Il y a des cas o\u00f9 ce comportement peut s'av\u00e9rer g\u00eanant, et o\u00f9 on a besoin d'\u00e9crire imm\u00e9diatement (et donc de vider le *buffer*), et c'est le propos de la m\u00e9thode `flush`()."
     ]
    }, 
    {
     "cell_type": "markdown", 
     "metadata": {}, 
     "source": [
      "### Pour en savoir plus"
     ]
    }, 
    {
     "cell_type": "markdown", 
     "metadata": {}, 
     "source": [
      "Pour une description plus exhaustive vous pouvez vous reporter \u00e0 [la page sur le type `file`](https://docs.python.org/2.7/library/stdtypes.html?highlight=file%20object#file-objects) dans la documentation python."
     ]
    }
   ], 
   "metadata": {}
  }
 ]
}
