{
 "metadata": {
  "notebookname": "\u00c0 quoi servent les classes ?",
  "signature": "d454f897ae34189cafa914beb514760ec62fbbe9f255e6b638a83377c9bf031c",
  "version": "1.0"
 },
 "nbformat": 3,
 "nbformat_minor": 0,
 "worksheets": [
  {
   "cells": [
    {
     "cell_type": "heading",
     "level": 1,
     "metadata": {},
     "source": [
      "\u00c0 quoi servent les classes ?"
     ]
    },
    {
     "cell_type": "heading",
     "level": 2,
     "metadata": {},
     "source": [
      "Compl\u00e9ment - niveau basique"
     ]
    },
    {
     "cell_type": "heading",
     "level": 3,
     "metadata": {},
     "source": [
      "Un exemple simpliste"
     ]
    },
    {
     "cell_type": "markdown",
     "metadata": {},
     "source": [
      "On d\u00e9finit une classe lorsqu'on a besoin de se cr\u00e9er un type sp\u00e9cifique au contexte de l'application. Il faut donc voir une classe au m\u00eame niveau qu'un type *builtin* comme `list` ou `dict`. \n",
      "\n",
      "Par exemple on a besoin de manipuler des matrices $2\\times 2$\n",
      "\n",
      "$ A = \\left( \\begin{array}{cc} a_{11} & a_{12} \\\\\n",
      "a_{21} & a_{22}\\end{array} \\right) $"
     ]
    },
    {
     "cell_type": "markdown",
     "metadata": {},
     "source": [
      "Pour cela on pourrait utiliser la classe `matrix` de `numpy`.  \n",
      "\n",
      "Mais nous allons utiliser ce cas d'\u00e9tude comme exercice; nous allons \u00e9crire **notre propre classe `Matrix2`** pour voir les m\u00e9canismes de base des classes de python en action sur cet exemple concret.\n",
      "Naturellement cette impl\u00e9mentation n'a **qu'une fonction p\u00e9dagogique**, et a un certain nombre de d\u00e9fauts par ailleurs - comme le fait d'avoir une dimension 2x2 qui n'est pas param\u00e9trable."
     ]
    },
    {
     "cell_type": "code",
     "collapsed": false,
     "input": [
      "class Matrix2:\n",
      "\n",
      "    def __init__ (self, a):\n",
      "        \"\"\"\n",
      "Construit une matrice 2x2 \u00e0 partir de 'a'\n",
      "qui doit \u00eatre une liste - ou tuple \n",
      "des coefficients a11, a12, a21, a22\n",
      "        \"\"\"\n",
      "        # on *copie* les entr\u00e9es dans un tuple \n",
      "        # pour ne pas partager l'entr\u00e9e 'aij' \n",
      "        # que l'appelant pourrait modifier apr\u00e8s coup \n",
      "        # (si c'est une liste)\n",
      "        self.a = tuple(a)\n",
      "        \n",
      "    def determinant (self):\n",
      "        return self.a[0] * self.a[3] - self.a[1] * self.a[2]"
     ],
     "language": "python",
     "metadata": {},
     "outputs": []
    },
    {
     "cell_type": "heading",
     "level": 3,
     "metadata": {},
     "source": [
      "Discutons \u00e0 pr\u00e9sent cette toute premi\u00e8re version de `Matrix2`."
     ]
    },
    {
     "cell_type": "markdown",
     "metadata": {},
     "source": [
      "La classe d\u00e9finit deux m\u00e9thodes, nomm\u00e9es `__init__` et `determinant`. \n",
      "\n",
      "La m\u00e9thode **`__init__`**, comme toutes celles qui ont un nom en `__nom__`, est une **m\u00e9thode sp\u00e9ciale**. En l'occurrence, il s'agit de ce qu'on appelle le **constructeur** de la classe, c'est-\u00e0-dire le code qui va \u00eatre appel\u00e9 lorsqu'on cr\u00e9e une instance. Voyons cela tout de suite sur un exemple."
     ]
    },
    {
     "cell_type": "code",
     "collapsed": false,
     "input": [
      "coefficients = [1, 0, 0, 1]\n",
      "identite = Matrix2 ( coefficients )"
     ],
     "language": "python",
     "metadata": {},
     "outputs": []
    },
    {
     "cell_type": "markdown",
     "metadata": {},
     "source": [
      "Vous remarquez que `__init__` s'attend \u00e0 recevoir *deux arguments* que nous avons choisi de nommer `self` et `a`. Le **premier** de ces arguments correspond \u00e0 l'**instance en cours de cr\u00e9ation**, et comme pour toutes les m\u00e9thodes de classe, la **convention** est de le nommer **`self`**. "
     ]
    },
    {
     "cell_type": "markdown",
     "metadata": {},
     "source": [
      "<table>\n",
      "<tr><td>\n",
      "<pre>\n",
      "class Foo:\n",
      "    def __init__ (self, id, name):\n",
      "        self.id = id\n",
      "        self.name = name\n",
      "</pre>\n",
      "</td>\n",
      "<td>\n",
      "<pre>\n",
      "foo = Foo (id, name)\n",
      "</pre>\n",
      "</td>\n",
      "</tr>\n",
      "</table>"
     ]
    }
   ],
   "metadata": {}
  }
 ]
}