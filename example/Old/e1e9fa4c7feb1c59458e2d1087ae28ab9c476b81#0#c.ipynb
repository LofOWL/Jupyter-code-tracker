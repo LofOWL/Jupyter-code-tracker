{
 "metadata": {
  "notebookname": "H\u00e9ritage, typage",
  "signature": "sha256:8733e0c13589297c1041afcefad00addd9b73fc3078d87950fa724d4bdfc1481",
  "version": "1.0"
 },
 "nbformat": 3,
 "nbformat_minor": 0,
 "worksheets": [
  {
   "cells": [
    {
     "cell_type": "heading",
     "level": 1,
     "metadata": {},
     "source": [
      "H\u00e9ritage, typage"
     ]
    },
    {
     "cell_type": "heading",
     "level": 2,
     "metadata": {},
     "source": [
      "Compl\u00e9ment - niveau avanc\u00e9"
     ]
    },
    {
     "cell_type": "markdown",
     "metadata": {},
     "source": [
      "Dans ce bref compl\u00e9ment, nous allons introduire la notion de *duck typing*, et attirer votre attention sur cette diff\u00e9rence assez essentielle entre python et les langages statiquement typ\u00e9s."
     ]
    },
    {
     "cell_type": "heading",
     "level": 3,
     "metadata": {},
     "source": [
      "Type et type"
     ]
    },
    {
     "cell_type": "markdown",
     "metadata": {},
     "source": [
      "Revenons sur la notion de type, et remarquons que les types peuvent jouer plusieurs r\u00f4les, comme on l'a \u00e9voqu\u00e9 rapidement en premi\u00e8re semaine; et pour reprendre des notions standard en langages de programmation nous allons distinguer entre&nbsp;:\n",
      " 1. **type concret:** d'une part la notion de type a bien entendu \u00e0 voir avec l'impl\u00e9mentation; un compilateur C a besoin de savoir tr\u00e8s pr\u00e9cis\u00e9ment quel espace allouer \u00e0 une variable, et de m\u00eame l'interpr\u00e9teur python sous-traite \u00e0 la classe le soin d'initialiser un objet;\n",
      " 1. **type abstrait:** d'autre part, les types sont cruciaux dans les syst\u00e8mes de v\u00e9rification statique au sens large dont le but est de trouver un maximum de d\u00e9fauts \u00e0 la seule lecture du code (par opposition aux techniques qui n\u00e9cessitent de le faire tourner)."
     ]
    },
    {
     "cell_type": "heading",
     "level": 3,
     "metadata": {},
     "source": [
      "*Duck typing*"
     ]
    },
    {
     "cell_type": "markdown",
     "metadata": {},
     "source": [
      "En python, ces deux aspects du typage sont relativement d\u00e9corr\u00e9l\u00e9s."
     ]
    },
    {
     "cell_type": "markdown",
     "metadata": {},
     "source": [
      "Pour la deuxi\u00e8me dimension du typage, le syst\u00e8me de types abstraits de python est connu sous le nom de [*duck typing*](http://en.wikipedia.org/wiki/Duck_typing), une appellation qui fait r\u00e9f\u00e9rence \u00e0 cette phrase\n",
      "\n",
      "    When I see a bird that walks like a duck and swims like a duck and quacks like a duck, I call that bird a duck."
     ]
    },
    {
     "cell_type": "heading",
     "level": 3,
     "metadata": {},
     "source": [
      "L'exemple des it\u00e9rables"
     ]
    },
    {
     "cell_type": "markdown",
     "metadata": {},
     "source": [
      "Pour prendre l'exemple sans doute le plus repr\u00e9sentatif, la notion d'*it\u00e9rable* est un type abstrait, en ce sens que pour que le fragment&nbsp;:\n",
      "    \n",
      "    for item in container:\n",
      "        do_something(item)\n",
      "        \n",
      "ait un sens, il faut et il suffit que `container` soit un it\u00e9rable."
     ]
    },
    {
     "cell_type": "markdown",
     "metadata": {},
     "source": [
      "On a vu qu'une cha\u00eene est un it\u00e9rable, de m\u00eame qu'une liste, ou un tuple.\n",
      "Ces trois types conctrets, `str`, `list` et `tuple`, font donc tous partie du type abstrait *it\u00e9rable*. "
     ]
    },
    {
     "cell_type": "markdown",
     "metadata": {},
     "source": [
      "Dans un langage typ\u00e9 statiquement, pour pouvoir donner un type \u00e0 cette construction, on serait **oblig\u00e9** de d\u00e9finir un type - qu'on appellerait logiquement une classe abstraite - dont ces trois types seraient des descendants."
     ]
    },
    {
     "cell_type": "markdown",
     "metadata": {},
     "source": [
      "En python, et c'est le point que nous voulons souligner dans ce compl\u00e9ment, il n'existe pas dans le syst\u00e8me python d'objet de type `type` qui mat\u00e9rialise ce type `iterable`. Si on regarde les superclasses de nos trois types concrets, on voit que leur seul anc\u00eatre commun est la classe  `object`&nbsp;:"
     ]
    },
    {
     "cell_type": "code",
     "collapsed": false,
     "input": [
      "str.__bases__"
     ],
     "language": "python",
     "metadata": {},
     "outputs": []
    },
    {
     "cell_type": "code",
     "collapsed": false,
     "input": [
      "str.__bases__[0].__bases__"
     ],
     "language": "python",
     "metadata": {},
     "outputs": []
    },
    {
     "cell_type": "code",
     "collapsed": false,
     "input": [
      "list.__bases__"
     ],
     "language": "python",
     "metadata": {},
     "outputs": []
    },
    {
     "cell_type": "code",
     "collapsed": false,
     "input": [
      "tuple.__bases__"
     ],
     "language": "python",
     "metadata": {},
     "outputs": []
    },
    {
     "cell_type": "markdown",
     "metadata": {},
     "source": [
      "Qu'on peut r\u00e9sumer comme ceci&nbsp;:\n",
      "\n",
      "<img src=\"media/iterables.png\">"
     ]
    },
    {
     "cell_type": "heading",
     "level": 3,
     "metadata": {},
     "source": [
      "Un autre exemple"
     ]
    },
    {
     "cell_type": "markdown",
     "metadata": {},
     "source": [
      "Pour prendre un exemple plus simple, pour que cette expression&nbsp;:\n",
      "\n",
      "    graphic.draw()\n",
      "    \n",
      "ait un sens, il faut que l'objet `graphic` ait une m\u00e9thode `draw`."
     ]
    },
    {
     "cell_type": "markdown",
     "metadata": {},
     "source": [
      "\u00c0 nouveau dans un langage typ\u00e9 statiquement on serait amen\u00e9 \u00e0 d\u00e9finir une classe abstraite `Graphic`. En python ce n'est **pas requis**; vous pouvez utiliser ce comme avec deux classes `Rectangle` et `Texte` qui n'ont pas de rapport entre elles - autres que, \u00e0 nouveau, d'avoir `object` comme anc\u00eatre commun, pourvu qu'elles aient toutes les deux une classe `draw`."
     ]
    },
    {
     "cell_type": "heading",
     "level": 3,
     "metadata": {},
     "source": [
      "H\u00e9ritage et type abstrait"
     ]
    },
    {
     "cell_type": "markdown",
     "metadata": {},
     "source": [
      "Pour r\u00e9sumer, en python comme dans les langages typ\u00e9s statiquement, on a bien entendu la bonne propri\u00e9t\u00e9 que si, par exemple, la classe `Spam` est it\u00e9rable, alors la classe `Eggs` qui h\u00e9rite de `Spam` est it\u00e9rable. \n",
      "\n",
      "Mais dans l'autre sens, si `Foo` et `Bar` sont it\u00e9rables, il n'y a pas forc\u00e9ment une superclasse commune qui repr\u00e9sente l'ensemble des objets it\u00e9rables. "
     ]
    },
    {
     "cell_type": "heading",
     "level": 3,
     "metadata": {},
     "source": [
      "`isinstance` sur st\u00e9ro\u00efdes"
     ]
    },
    {
     "cell_type": "markdown",
     "metadata": {},
     "source": [
      "D'un autre c\u00f4t\u00e9, c'est tr\u00e8s utile d'exposer au programmeur un moyen de v\u00e9rifier si un objet a un *type* donn\u00e9 - dans un sens volontairement vague ici.\n",
      "\n",
      "On a d\u00e9j\u00e0 parl\u00e9 - en Semaine 4, s\u00e9quence \"les fonctions\" - de l'int\u00e9r\u00eat qu'il peut y avoir \u00e0 tester le type d'un argument avec `isinstance` dans une fonction, pour parvenir \u00e0 faire l'\u00e9quivalent de la surcharge en C++ (la surcharge en C++ c'est quand vous d\u00e9finissez plusieurs fonctions qui ont le m\u00eame nom mais des types d'arguments diff\u00e9rents). \n",
      "\n",
      "C'est pourquoi quand on a cherch\u00e9 \u00e0 exposer au programmeur des propri\u00e9t\u00e9s comme \"cet objet est-il iterable ?\", on a choisi d'\u00e9tendre *isinstance* au travers de [cette initiative](http://legacy.python.org/dev/peps/pep-3119/). C'est ainsi qu'on peut faire par exemple&nbsp;:"
     ]
    },
    {
     "cell_type": "code",
     "collapsed": false,
     "input": [
      "from collections import Iterable"
     ],
     "language": "python",
     "metadata": {},
     "outputs": []
    },
    {
     "cell_type": "code",
     "collapsed": false,
     "input": [
      "isinstance('ab', Iterable)"
     ],
     "language": "python",
     "metadata": {},
     "outputs": []
    },
    {
     "cell_type": "code",
     "collapsed": false,
     "input": [
      "isinstance([1, 2], Iterable)"
     ],
     "language": "python",
     "metadata": {},
     "outputs": []
    },
    {
     "cell_type": "code",
     "collapsed": false,
     "input": [
      "# comme on l'a vu un objet qui a une methode  __iter__()\n",
      "# et une next() est considere comme un iterable\n",
      "class Foo():\n",
      "    def __iter__(self):\n",
      "        return self\n",
      "    def next(self):\n",
      "        # ceci naturellement est bidon\n",
      "        return \n",
      "        \n",
      "foo = Foo()\n",
      "isinstance(foo, Iterable)"
     ],
     "language": "python",
     "metadata": {},
     "outputs": []
    },
    {
     "cell_type": "markdown",
     "metadata": {},
     "source": [
      "L'impl\u00e9mentation du module `abc` donne l'**illusion** que `Iterable` est un objet dans la hi\u00e9rarchie de classes, et que tous ces *types* `str`, `list`, et `Foo` lui sont asujettis, mais ce n'est pas le cas en r\u00e9alit\u00e9; comme on l'a vu plus t\u00f4t, ces trois types ne sont pas comparables dans la hi\u00e9rarchie de classes, ils n'ont pas de plus petit (ou plus grand) \u00e9l\u00e9ment. "
     ]
    },
    {
     "cell_type": "markdown",
     "metadata": {},
     "source": [
      "Je signale pour finir, \u00e0 propos de `isinstance` et du module `collections`, que la d\u00e9finition du symbole `Hashable` est \u00e0 mon avis beaucoup moins convaincante que `Iterable`; si vous vous souvenez qu'en Semaine 3, S\u00e9quence \"les dictionnaires\", on avait vu que les cl\u00e9s doivent \u00eatre globalement immuables. C'est une caract\u00e9ristique qui est assez difficile \u00e0 \u00e9crire, et en tous cas ceci de mon point de vue ne remplit pas la fonction&nbsp;:"
     ]
    },
    {
     "cell_type": "code",
     "collapsed": false,
     "input": [
      "from collections import Hashable"
     ],
     "language": "python",
     "metadata": {},
     "outputs": []
    },
    {
     "cell_type": "code",
     "collapsed": false,
     "input": [
      "# un tuple qui contient une liste ne convient \n",
      "# pas comme cl\u00e9 dans un dictionnaire\n",
      "# et pourtant\n",
      "isinstance (([1], [2]), Hashable)"
     ],
     "language": "python",
     "metadata": {},
     "outputs": []
    },
    {
     "cell_type": "heading",
     "level": 3,
     "metadata": {},
     "source": [
      "python et les classes abstraites"
     ]
    },
    {
     "cell_type": "markdown",
     "metadata": {},
     "source": [
      "Les points \u00e0 retenir de ce compl\u00e9ment un peu digressif sont&nbsp;:\n",
      " * en python, on h\u00e9rite des **impl\u00e9mentations** et pas des **sp\u00e9cifications**; \n",
      " * et le langage n'est pas taill\u00e9 pour tirer profit de **classes abstraites** - m\u00eame si rien ne vous interdit d'\u00e9crire, pour des raisons documentaires, une classe qui r\u00e9sume l'interface qui est attendue par tel ou tel syst\u00e8me de plugin."
     ]
    },
    {
     "cell_type": "markdown",
     "metadata": {},
     "source": [
      "Venant de C++ ou de Java, cela peut prendre du temps d'arriver \u00e0 se d\u00e9barrasser de l'esp\u00e8ce de r\u00e9flexe qui fait qu'on pense d'abord classe abstraite, puis impl\u00e9mentations. "
     ]
    }
   ],
   "metadata": {}
  }
 ]
}