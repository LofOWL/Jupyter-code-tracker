{
 "metadata": {
  "notebookname": "Disk usage",
  "signature": "sha256:2a09bf0191cb8b863ebf1474f36d82cb60e0dcca76b6ba7e7962d7e747cb9cb3",
  "version": "1.0"
 },
 "nbformat": 3,
 "nbformat_minor": 0,
 "worksheets": [
  {
   "cells": [
    {
     "cell_type": "heading",
     "level": 1,
     "metadata": {},
     "source": [
      "Disk usage"
     ]
    }
   ],
   "metadata": {}
  }
 ]
}