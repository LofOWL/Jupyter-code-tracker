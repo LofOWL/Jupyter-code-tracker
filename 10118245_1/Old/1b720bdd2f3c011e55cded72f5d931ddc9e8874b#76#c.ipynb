{
 "metadata": {
  "kernelspec": {
   "display_name": "Python 2", 
   "language": "python", 
   "name": "python2"
  }, 
  "name": "", 
  "notebookname": "Compr\u00e9hensions", 
  "version": "2.0"
 }, 
 "nbformat": 2, 
 "nbformat_minor": 0, 
 "orig_nbformat": 4, 
 "orig_nbformat_minor": 0, 
 "worksheets": [
  {
   "cells": [
    {
     "cell_type": "markdown", 
     "metadata": {}, 
     "source": [
      "<span style=\"float:left;\">Licence CC BY-NC-ND</span><span style=\"float:right;\">Thierry Parmentelat &amp; Arnaud Legout&nbsp;<img src=\"media/inria-25.png\" style=\"display:inline\"></span><br/>"
     ]
    }, 
    {
     "cell_type": "markdown", 
     "metadata": {}, 
     "source": [
      "# Compr\u00e9hensions"
     ]
    }, 
    {
     "cell_type": "markdown", 
     "metadata": {}, 
     "source": [
      "## Exercice - niveau basique"
     ]
    }, 
    {
     "cell_type": "code", 
     "collapsed": false, 
     "input": [
      "# pour charger l'exercice", 
      "from corrections.w4s4_comprehensions import exo_aplatir"
     ], 
     "language": "python", 
     "metadata": {}, 
     "outputs": [], 
     "prompt_number": null
    }, 
    {
     "cell_type": "markdown", 
     "metadata": {}, 
     "source": [
      "Il vous est demand\u00e9 d'\u00e9crire une fonction `aplatir` qui prend *un unique* argument `l_conteneurs`, une liste (ou plus g\u00e9n\u00e9ralement un it\u00e9rable) de conteneurs, et qui retourne la liste de tous les \u00e9l\u00e9ments de tous les conteneurs."
     ]
    }, 
    {
     "cell_type": "code", 
     "collapsed": false, 
     "input": [
      "# par exemple", 
      "exo_aplatir.example()"
     ], 
     "language": "python", 
     "metadata": {}, 
     "outputs": [], 
     "prompt_number": null
    }, 
    {
     "cell_type": "code", 
     "collapsed": false, 
     "input": [
      "def aplatir(conteneurs):", 
      "    \"<votre_code>\""
     ], 
     "language": "python", 
     "metadata": {}, 
     "outputs": [], 
     "prompt_number": null
    }, 
    {
     "cell_type": "code", 
     "collapsed": false, 
     "input": [
      "# v\u00e9rifier votre code", 
      "exo_aplatir.correction(aplatir)"
     ], 
     "language": "python", 
     "metadata": {}, 
     "outputs": [], 
     "prompt_number": null
    }, 
    {
     "cell_type": "markdown", 
     "metadata": {}, 
     "source": [
      "## Exercice - niveau interm\u00e9diaire"
     ]
    }, 
    {
     "cell_type": "code", 
     "collapsed": false, 
     "input": [
      "# chargement de l'exercice", 
      "from corrections.w4s4_comprehensions import exo_alternat"
     ], 
     "language": "python", 
     "metadata": {}, 
     "outputs": [], 
     "prompt_number": null
    }, 
    {
     "cell_type": "markdown", 
     "metadata": {}, 
     "source": [
      "\u00c0 pr\u00e9sent, on passe en argument deux conteneurs (deux it\u00e9rables) `c1` et `c2` de m\u00eame taille \u00e0 la fonction `alternat`, qui doit construire une liste contenant les \u00e9l\u00e9ments pris alternativement dans `c1` et dans `c2`."
     ]
    }, 
    {
     "cell_type": "code", 
     "collapsed": false, 
     "input": [
      "# exemple", 
      "exo_alternat.example()"
     ], 
     "language": "python", 
     "metadata": {}, 
     "outputs": [], 
     "prompt_number": null
    }, 
    {
     "cell_type": "code", 
     "collapsed": false, 
     "input": [
      "def alternat(c1, c2):", 
      "    \"<votre_code>\""
     ], 
     "language": "python", 
     "metadata": {}, 
     "outputs": [], 
     "prompt_number": null
    }, 
    {
     "cell_type": "code", 
     "collapsed": false, 
     "input": [
      "# pour v\u00e9rifier votre code", 
      "exo_alternat.correction(alternat)"
     ], 
     "language": "python", 
     "metadata": {}, 
     "outputs": [], 
     "prompt_number": null
    }, 
    {
     "cell_type": "markdown", 
     "metadata": {}, 
     "source": [
      "## Exercice - niveau interm\u00e9diaire"
     ]
    }, 
    {
     "cell_type": "markdown", 
     "metadata": {}, 
     "source": [
      "On se donne deux ensembles A et B de tuples de la forme", 
      "", 
      "    (entier, valeur)", 
      "", 
      "On vous demande d'\u00e9crire une fonction `intersect` qui retourne l'ensemble des objets `valeur` associ\u00e9s (dans A ou dans B) \u00e0 un entier qui soit pr\u00e9sent dans (un tuple de) A *et* dans (un tuple de) B."
     ]
    }, 
    {
     "cell_type": "code", 
     "collapsed": false, 
     "input": [
      "# un exemple", 
      "from corrections.w4s4_comprehensions import exo_intersect", 
      "exo_intersect.example()"
     ], 
     "language": "python", 
     "metadata": {}, 
     "outputs": [], 
     "prompt_number": null
    }, 
    {
     "cell_type": "code", 
     "collapsed": false, 
     "input": [
      "def intersect(A, B):", 
      "    \"<votre_code>\""
     ], 
     "language": "python", 
     "metadata": {}, 
     "outputs": [], 
     "prompt_number": null
    }, 
    {
     "cell_type": "code", 
     "collapsed": false, 
     "input": [
      "# pour v\u00e9rifier votre code", 
      "exo_intersect.correction(intersect)"
     ], 
     "language": "python", 
     "metadata": {}, 
     "outputs": [], 
     "prompt_number": null
    }
   ], 
   "metadata": {}
  }
 ]
}
