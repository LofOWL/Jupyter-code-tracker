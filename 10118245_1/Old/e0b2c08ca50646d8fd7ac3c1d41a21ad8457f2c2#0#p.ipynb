{
 "metadata": {
  "notebookname": "exercice: if et def",
  "signature": "78e8feacc80635512b11d2f8b318aa9424a3b248bbde7e0e7b5ece390f1c3367",
  "version": "1.0"
 },
 "nbformat": 3,
 "nbformat_minor": 0,
 "worksheets": [
  {
   "cells": [
    {
     "cell_type": "heading",
     "level": 1,
     "metadata": {},
     "source": [
      "Instruction conditionnelle `if` et fonction `def`"
     ]
    },
    {
     "cell_type": "heading",
     "level": 2,
     "metadata": {},
     "source": [
      "Exercices - niveau basique"
     ]
    },
    {
     "cell_type": "heading",
     "level": 3,
     "metadata": {},
     "source": [
      "Fonction de divisibilit\u00e9"
     ]
    },
    {
     "cell_type": "markdown",
     "metadata": {},
     "source": [
      "L'exercice consiste \u00e0 \u00e9crire une fonction baptis\u00e9e `divisible` qui retourne une valeur bool\u00e9enne qui indique si un des deux arguments est divisible par l'autre."
     ]
    },
    {
     "cell_type": "code",
     "collapsed": false,
     "input": [
      "def divisible (a,b):\n",
      "    <votre code ici>"
     ],
     "language": "python",
     "metadata": {},
     "outputs": []
    },
    {
     "cell_type": "markdown",
     "metadata": {},
     "source": [
      "Vous pouvez \u00e0 pr\u00e9sent tester votre code en \u00e9valuant ceci, qui \u00e9crira un message d'erreur si un des jeux de test ne donne pas le r\u00e9sultat attendu. Vous avez d'ailleurs \u00e0 pr\u00e9sent toutes les comp\u00e9tences pour comprendre ce code si le coaur vous en dit"
     ]
    },
    {
     "cell_type": "code",
     "collapsed": false,
     "input": [
      "inputs = [\n",
      "    (20,10,True),\n",
      "    (200,-10,True),\n",
      "    (-200,10,True),\n",
      "    (-200,-10,True),\n",
      "    (10,200,True),\n",
      "    (10,-200,True),\n",
      "    (-10,200,True),\n",
      "    (-10,-200,True),\n",
      "    (8,12,False),\n",
      "    (12,-8,False),\n",
      "    (-12,8,False),\n",
      "    (-12,-8,False),\n",
      "]\n",
      "\n",
      "for (a,b,expected) in inputs:\n",
      "    if divisible(a,b) != expected:\n",
      "        print \"ERREUR avec\",a,b,\"attendu\",expected,\"trouv\u00e9\",divisible(a,b)"
     ],
     "language": "python",
     "metadata": {},
     "outputs": []
    },
    {
     "cell_type": "markdown",
     "metadata": {},
     "source": [
      "**Remarque.** Vu comme le probl\u00e8me est pos\u00e9 il est assez naturel d'utiliser un `if` pour \u00e9crire 'divisible'. En toute rigueur toutefois un `if` n'est pas strictement indispensable, et nous vous invitons \u00e0 exhiber une version sans `if` qui est .. plus pythonique"
     ]
    }
   ],
   "metadata": {}
  }
 ]
}