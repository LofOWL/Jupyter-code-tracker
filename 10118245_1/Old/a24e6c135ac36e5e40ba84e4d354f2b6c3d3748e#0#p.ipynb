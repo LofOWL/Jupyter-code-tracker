{
 "metadata": {
  "notebookname": "NO HEADING 1 found",
  "signature": "sha256:dc2dc82493434c544147868058d3fe86c9620311a91e4b4e5c322b025df659b2",
  "version": "1.0"
 },
 "nbformat": 3,
 "nbformat_minor": 0,
 "worksheets": [
  {
   "cells": [
    {
     "cell_type": "markdown",
     "metadata": {},
     "source": [
      "Je simule un exercice d\u00e9bile, on demande aux \u00e9tudiants d'\u00e9crire une classe `Fifo`\n",
      "    \n",
      "qui impl\u00e9mente \n",
      "* un constructeur `Fifo()`\n",
      "* une m\u00e9thode `incoming(obj)`\n",
      "* une m\u00e9thode `outgoing()`\n",
      "\n",
      "qui rende simplement les objets dans le m\u00eame ordre o\u00f9 ils ont \u00e9t\u00e9 rang\u00e9s"
     ]
    },
    {
     "cell_type": "markdown",
     "metadata": {},
     "source": [
      "L'\u00e9tudiant est invit\u00e9 \u00e0 \u00e9crire son code dans la class `Fifo`;\n",
      "\n",
      "On lui propose en arrivant une cellule vide comme ceci"
     ]
    },
    {
     "cell_type": "code",
     "collapsed": false,
     "input": [
      "class Fifo(object):\n",
      "    def __init__(self):\n",
      "        pass\n",
      "    def incoming(self, obj):\n",
      "        pass\n",
      "    def outgoing(self):\n",
      "        pass"
     ],
     "language": "python",
     "metadata": {},
     "outputs": [],
     "prompt_number": 1
    },
    {
     "cell_type": "markdown",
     "metadata": {},
     "source": [
      "Il la modifie, imaginons que \u00e7a donne cela"
     ]
    },
    {
     "cell_type": "code",
     "collapsed": false,
     "input": [
      "# cette classe est cass\u00e9e expr\u00e8s ...\n",
      "class Fifo(object):\n",
      "    def __init__(self):\n",
      "        self.items = []\n",
      "    def incoming(self, obj):\n",
      "        self.items.append(obj)\n",
      "    def outgoing(self):\n",
      "        if len(self.items)%2 == 0:\n",
      "            raise Exception(\"even length\")\n",
      "        return self.items.pop()"
     ],
     "language": "python",
     "metadata": {},
     "outputs": [],
     "prompt_number": 2
    },
    {
     "cell_type": "markdown",
     "metadata": {},
     "source": [
      "Et voici la cellule pour corriger "
     ]
    },
    {
     "cell_type": "code",
     "collapsed": false,
     "input": [
      "from corrections.w5_fifo import exo_fifo\n",
      "exo_fifo.correction(Fifo)"
     ],
     "language": "python",
     "metadata": {},
     "outputs": [
      {
       "html": [
        "<table style='font-family:monospace;font-size:small;'><tr style='font-family:monospace;font-size:medium;'><th colspan='4' style='text-align:center'>Scenario 1</th></tr><tr><th>Appel</th><th>Attendu</th><th>Obtenu</th><th></th></tr><tr style='background-color:#66CC66;'><td>Fifo()</td><td>-</td><td>-</td><td>OK</td></tr><tr style='background-color:#66CC66;'><td>incoming(1)</td><td>None</td><td>None</td><td>OK</td></tr><tr style='background-color:#66CC66;'><td>incoming(2)</td><td>None</td><td>None</td><td>OK</td></tr><tr style='background-color:#CC3300;color:#e8e8e8;'><td>outgoing()</td><td>1</td><td>Exception even length</td><td>KO</td></tr><tr style='background-color:#66CC66;'><td>incoming(3)</td><td>None</td><td>None</td><td>OK</td></tr><tr style='background-color:#66CC66;'><td>incoming(4)</td><td>None</td><td>None</td><td>OK</td></tr><tr style='background-color:#CC3300;color:#e8e8e8;'><td>outgoing()</td><td>2</td><td>Exception even length</td><td>KO</td></tr><tr style='background-color:#CC3300;color:#e8e8e8;'><td>outgoing()</td><td>3</td><td>Exception even length</td><td>KO</td></tr><tr style='font-family:monospace;font-size:medium;'><th colspan='4' style='text-align:center'>Scenario 2</th></tr><tr><th>Appel</th><th>Attendu</th><th>Obtenu</th><th></th></tr><tr style='background-color:#66CC66;'><td>Fifo()</td><td>-</td><td>-</td><td>OK</td></tr><tr style='background-color:#66CC66;'><td>incoming(1)</td><td>None</td><td>None</td><td>OK</td></tr><tr style='background-color:#66CC66;'><td>incoming(2)</td><td>None</td><td>None</td><td>OK</td></tr><tr style='background-color:#66CC66;'><td>incoming(3)</td><td>None</td><td>None</td><td>OK</td></tr><tr style='background-color:#66CC66;'><td>incoming(4)</td><td>None</td><td>None</td><td>OK</td></tr><tr style='background-color:#CC3300;color:#e8e8e8;'><td>outgoing()</td><td>1</td><td>Exception even length</td><td>KO</td></tr></table>"
       ],
       "metadata": {},
       "output_type": "pyout",
       "prompt_number": 2,
       "text": [
        "<IPython.core.display.HTML at 0x1085638d0>"
       ]
      }
     ],
     "prompt_number": 2
    },
    {
     "cell_type": "markdown",
     "metadata": {},
     "source": [
      "*********"
     ]
    }
   ],
   "metadata": {}
  }
 ]
}