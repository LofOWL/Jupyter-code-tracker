{
 "metadata": {
  "name": "",
  "signature": "sha256:c53b932a4f124e2bb9f0141b24e391cae42e74cb3d0b5d93159dbd986aec0d00"
 },
 "nbformat": 3,
 "nbformat_minor": 0,
 "worksheets": [
  {
   "cells": [
    {
     "cell_type": "heading",
     "level": 1,
     "metadata": {},
     "source": [
      "Conditions & expressions bool\u00e9ennes"
     ]
    },
    {
     "cell_type": "markdown",
     "metadata": {},
     "source": [
      "Nous pr\u00e9sentons rapidement dans ce notebook comment construire la condition qui contr\u00f4le l'ex\u00e9cution d'un `if`"
     ]
    },
    {
     "cell_type": "heading",
     "level": 3,
     "metadata": {},
     "source": [
      "Tests consid\u00e9r\u00e9s comme vrai"
     ]
    },
    {
     "cell_type": "markdown",
     "metadata": {},
     "source": [
      "Lorsqu'on \u00e9crit une instuction comme\n",
      "\n",
      "    if <expression>:\n",
      "       <do_something>\n",
      "    \n",
      "le r\u00e9sultat de l'expression peut ne pas \u00eatre un bool\u00e9en. Pour la plupart des types il existe des valeurs particuli\u00e8res qui ne **sont pas** consid\u00e9r\u00e9es comme vraies. \n",
      "\n",
      "Par exemple, pour n'importe quel type num\u00e9rique, la valeur 0 est consid\u00e9r\u00e9e comme fausse. Cela signifie que"
     ]
    },
    {
     "cell_type": "code",
     "collapsed": false,
     "input": [
      "if 3-3:\n",
      "    print \"ne passera pas par l\u00e0\""
     ],
     "language": "python",
     "metadata": {},
     "outputs": []
    },
    {
     "cell_type": "markdown",
     "metadata": {},
     "source": [
      "De m\u00eame, une cha\u00eene vide, une liste vide, un tuple vide, sont consid\u00e9r\u00e9s comme faux. Bref vous voyez l'id\u00e9e g\u00e9n\u00e9rale.."
     ]
    },
    {
     "cell_type": "code",
     "collapsed": false,
     "input": [
      "if \"\": \n",
      "    print \"ne passera pas par l\u00e0\"\n",
      "if []: \n",
      "    print \"ne passera pas par l\u00e0\"\n",
      "if ():\n",
      "    print \"ne passera pas par l\u00e0\""
     ],
     "language": "python",
     "metadata": {},
     "outputs": []
    },
    {
     "cell_type": "markdown",
     "metadata": {},
     "source": [
      "Enfin le singleton `None`, que nous verrons bient\u00f4t, est lui aussi consid\u00e9r\u00e9 comme faux. "
     ]
    },
    {
     "cell_type": "heading",
     "level": 3,
     "metadata": {},
     "source": [
      "\u00c9galit\u00e9"
     ]
    },
    {
     "cell_type": "markdown",
     "metadata": {},
     "source": [
      "Les tests les plus simples se font \u00e0 l'aide des op\u00e9rateurs d'\u00e9galit\u00e9, qui fonctionnent sur presque tous les objets (nous verrons un contrexemple dans la section sur les r\u00e9f\u00e9rences partag\u00e9es). Comme nous l'avons d\u00e9j\u00e0 vu, l'op\u00e9rateur `==` v\u00e9rifie si deux objets ont la m\u00eame valeur"
     ]
    },
    {
     "cell_type": "code",
     "collapsed": false,
     "input": [
      "bas = 12\n",
      "haut = 25.82\n",
      "# \u00e9galit\u00e9 \n",
      "if bas == haut:\n",
      "    print '=='\n",
      "# non \u00e9galit\u00e9\n",
      "if bas != haut:\n",
      "    print '!='"
     ],
     "language": "python",
     "metadata": {},
     "outputs": []
    },
    {
     "cell_type": "markdown",
     "metadata": {},
     "source": [
      "Deux objets de types diff\u00e9rents peuvent \u00eatre \u00e9gaux"
     ]
    },
    {
     "cell_type": "code",
     "collapsed": false,
     "input": [
      "bas_reel = 12.\n",
      "if bas == bas_reel:\n",
      "    print '=='"
     ],
     "language": "python",
     "metadata": {},
     "outputs": []
    },
    {
     "cell_type": "markdown",
     "metadata": {},
     "source": [
      "Signalons \u00e0 titre un peu anecdotique une syntaxe ancienne: historiquement on pouvait aussi noter `<>` le test de non \u00e9galit\u00e9. On trouve ceci dans du code ancien mais il faut \u00e9viter de l'utiliser"
     ]
    },
    {
     "cell_type": "code",
     "collapsed": false,
     "input": [
      "# l'ancienne forme de !=\n",
      "if bas <> haut:\n",
      "    print '<> est obsolete'\n"
     ],
     "language": "python",
     "metadata": {},
     "outputs": []
    },
    {
     "cell_type": "heading",
     "level": 3,
     "metadata": {},
     "source": [
      "Les op\u00e9rateurs de comparaison "
     ]
    },
    {
     "cell_type": "markdown",
     "metadata": {},
     "source": [
      "Sans grande surprise on peut aussi \u00e9crire"
     ]
    },
    {
     "cell_type": "code",
     "collapsed": false,
     "input": [
      "if bas <= haut:\n",
      "    print '<='\n",
      "if bas < haut:\n",
      "    print '<'\n",
      "if bas >= haut:\n",
      "    print '>='\n",
      "if bas > haut:\n",
      "    print '>'\n"
     ],
     "language": "python",
     "metadata": {},
     "outputs": []
    },
    {
     "cell_type": "markdown",
     "metadata": {},
     "source": [
      "On peut l\u00e0 aussi les utiliser sur une palette assez large de types, comme par exemple avec les listes"
     ]
    },
    {
     "cell_type": "code",
     "collapsed": false,
     "input": [
      "[1,2] <= [2,3]"
     ],
     "language": "python",
     "metadata": {},
     "outputs": []
    },
    {
     "cell_type": "markdown",
     "metadata": {},
     "source": [
      "Il est parfois utile de v\u00e9rifier le sens qui est donn\u00e9 \u00e0 ces op\u00e9rateurs selon le type; ainsi par exemple ils d\u00e9signent l'inclusion sur les ensembles - que nous verrons bient\u00f4t. \n",
      "\n",
      "Il faut aussi se m\u00e9fier avec les types num\u00e9riques, si un complexe est impliqu\u00e9, comme par exemple:\n",
      "\n",
      "    >>> 3 <= 3j\n",
      "    Traceback (most recent call last):\n",
      "      File \"<stdin>\", line 1, in <module>\n",
      "    TypeError: no ordering relation is defined for complex numbers\n"
     ]
    },
    {
     "cell_type": "heading",
     "level": 3,
     "metadata": {},
     "source": [
      "Connecteurs logiques et / ou / non"
     ]
    },
    {
     "cell_type": "markdown",
     "metadata": {},
     "source": [
      "On peut bien s\u00fbr combiner facilement plusieurs expressions entre elles, gr\u00e2ce aux op\u00e9rateurs `and`, `or` et `not`"
     ]
    },
    {
     "cell_type": "code",
     "collapsed": false,
     "input": [
      "# il ne faut pas faire ceci, mettez des parenth\u00e8ses\n",
      "if 12 <= 25. or [1,2] <= [2,3] and not 12 <= 32 :\n",
      "    print \"OK mais pourrait \u00eatre mieux\""
     ],
     "language": "python",
     "metadata": {},
     "outputs": []
    },
    {
     "cell_type": "markdown",
     "metadata": {},
     "source": [
      "En termes de priorit\u00e9s: le plus simple si vous avez une expression compliqu\u00e9e reste de mettre les parenth\u00e8ses qui rendent son \u00e9valuation claire et lisible pour tous. Aussi on pr\u00e9f\u00e8rera de beaucoup la formulation \u00e9quivalente"
     ]
    },
    {
     "cell_type": "code",
     "collapsed": false,
     "input": [
      "# c'est mieux\n",
      "if 12 <= 25. or ( [1,2] <= [2,3] and not 12 <= 32 ) :\n",
      "    print \"OK, c'est \u00e9quivalent et plus clair\"\n",
      "\n",
      "# c'est bien le parenth\u00e9sage ci-dessus, puisque:\n",
      "if ( 12 <= 25. or [1,2] <= [2,3] ) and not 12 <= 32 :\n",
      "    print \"ce n'est pas \u00e9quivalent, ne passera pas par l\u00e0\""
     ],
     "language": "python",
     "metadata": {},
     "outputs": []
    },
    {
     "cell_type": "heading",
     "level": 3,
     "metadata": {},
     "source": [
      "Pour en savoir plus"
     ]
    },
    {
     "cell_type": "markdown",
     "metadata": {},
     "source": [
      "Reportez-vous \u00e0 la section sur les [op\u00e9rateurs bool\u00e9ens](https://docs.python.org/2/library/stdtypes.html#truth-value-testing) dans la documentation python"
     ]
    }
   ],
   "metadata": {}
  }
 ]
}