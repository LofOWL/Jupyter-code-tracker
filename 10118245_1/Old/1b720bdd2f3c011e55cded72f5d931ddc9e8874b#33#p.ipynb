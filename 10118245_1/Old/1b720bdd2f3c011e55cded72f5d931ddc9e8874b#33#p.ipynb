{
 "metadata": {
  "kernelspec": {
   "display_name": "Python 2", 
   "language": "python", 
   "name": "python2"
  }, 
  "name": "", 
  "notebookname": "if et def", 
  "version": "2.0"
 }, 
 "nbformat": 2, 
 "nbformat_minor": 0, 
 "orig_nbformat": 4, 
 "orig_nbformat_minor": 0, 
 "worksheets": [
  {
   "cells": [
    {
     "cell_type": "markdown", 
     "metadata": {}, 
     "source": [
      "<span style=\"float:left;\">Licence CC BY-NC-ND</span><span style=\"float:right;\">Thierry Parmentelat &amp; Arnaud Legout,<img src=\"media/inria-25.png\" style=\"display:inline\"></span><br/>"
     ]
    }, 
    {
     "cell_type": "markdown", 
     "metadata": {}, 
     "source": [
      "# Instruction `if` et fonction `def`"
     ]
    }, 
    {
     "cell_type": "markdown", 
     "metadata": {}, 
     "source": [
      "## Exercice - niveau basique"
     ]
    }, 
    {
     "cell_type": "markdown", 
     "metadata": {}, 
     "source": [
      "### Fonction de divisibilit\u00e9"
     ]
    }, 
    {
     "cell_type": "code", 
     "collapsed": false, 
     "input": [
      "# chargement de l'exercice", 
      "from corrections.w2s7_if import exo_divisible"
     ], 
     "language": "python", 
     "metadata": {}, 
     "outputs": [], 
     "prompt_number": null
    }, 
    {
     "cell_type": "markdown", 
     "metadata": {}, 
     "source": [
      "L'exercice consiste \u00e0 \u00e9crire une fonction baptis\u00e9e `divisible` qui retourne une valeur bool\u00e9enne qui indique si un des deux arguments est divisible par l'autre. ", 
      "", 
      "Vous pouvez supposer les entr\u00e9es `a` et `b` entiers et non nuls, mais pas forc\u00e9ment positifs. "
     ]
    }, 
    {
     "cell_type": "code", 
     "collapsed": false, 
     "input": [
      "def divisible(a, b):", 
      "    \"<votre_code>\""
     ], 
     "language": "python", 
     "metadata": {}, 
     "outputs": [], 
     "prompt_number": null
    }, 
    {
     "cell_type": "markdown", 
     "metadata": {}, 
     "source": [
      "Vous pouvez \u00e0 pr\u00e9sent tester votre code en \u00e9valuant ceci, qui \u00e9crira un message d'erreur si un des jeux de test ne donne pas le r\u00e9sultat attendu. "
     ]
    }, 
    {
     "cell_type": "code", 
     "collapsed": false, 
     "input": [
      "# tester votre code", 
      "exo_divisible.correction(divisible)"
     ], 
     "language": "python", 
     "metadata": {}, 
     "outputs": [], 
     "prompt_number": null
    }, 
    {
     "cell_type": "markdown", 
     "metadata": {}, 
     "source": [
      "**Remarque.** Vu comme le probl\u00e8me est pos\u00e9, il est assez naturel d'utiliser un `if` pour \u00e9crire 'divisible'. Vous remarquerez toutefois qu'un `if` n'est pas strictement indispensable, et nous vous invitons \u00e0 exhiber une version sans `if` qui est plus pythonique."
     ]
    }, 
    {
     "cell_type": "markdown", 
     "metadata": {}, 
     "source": [
      "## Exercice - niveau basique"
     ]
    }, 
    {
     "cell_type": "markdown", 
     "metadata": {}, 
     "source": [
      "### Manipulation de liste"
     ]
    }, 
    {
     "cell_type": "code", 
     "collapsed": false, 
     "input": [
      "# chargeons l'exercice", 
      "from corrections.w2s7_if import exo_spam"
     ], 
     "language": "python", 
     "metadata": {}, 
     "outputs": [], 
     "prompt_number": null
    }, 
    {
     "cell_type": "markdown", 
     "metadata": {}, 
     "source": [
      "Cet exercice consiste \u00e0 \u00e9crire une fonction `spam`, qui prend en argument une liste, et qui retourne la liste modifi\u00e9e comme suit:", 
      " * si la liste est de taille paire, on intervertit les deux premiers \u00e9l\u00e9ments de la liste,", 
      " * si elle est de taille impaire, on lui retire son dernier \u00e9l\u00e9ment."
     ]
    }, 
    {
     "cell_type": "code", 
     "collapsed": false, 
     "input": [
      "# voici quelques exemples de ce qui est attendu", 
      "exo_spam.example()"
     ], 
     "language": "python", 
     "metadata": {}, 
     "outputs": [], 
     "prompt_number": null
    }, 
    {
     "cell_type": "code", 
     "collapsed": false, 
     "input": [
      "# \u00e9crivez votre code ", 
      "def spam(liste):", 
      "    \"<votre_code>\""
     ], 
     "language": "python", 
     "metadata": {}, 
     "outputs": [], 
     "prompt_number": null
    }, 
    {
     "cell_type": "code", 
     "collapsed": false, 
     "input": [
      "# pour le v\u00e9rifier, \u00e9valuez cette cellule", 
      "exo_spam.correction(spam)"
     ], 
     "language": "python", 
     "metadata": {}, 
     "outputs": [], 
     "prompt_number": null
    }
   ], 
   "metadata": {}
  }
 ]
}
