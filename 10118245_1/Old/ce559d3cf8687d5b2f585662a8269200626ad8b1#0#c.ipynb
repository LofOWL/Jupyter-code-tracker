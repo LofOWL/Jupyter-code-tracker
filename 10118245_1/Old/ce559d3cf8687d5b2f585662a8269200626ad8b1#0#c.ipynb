{
 "metadata": {
  "notebookname": "+= revisit\u00e9",
  "signature": "sha256:375033b08ac7dc66c4276aa78c1033119c235d64e5ba82ce989fc466f7632eda",
  "version": "1.0"
 },
 "nbformat": 3,
 "nbformat_minor": 0,
 "worksheets": [
  {
   "cells": [
    {
     "cell_type": "heading",
     "level": 1,
     "metadata": {},
     "source": [
      "Les instructions += et autres revisit\u00e9es"
     ]
    },
    {
     "cell_type": "heading",
     "level": 2,
     "metadata": {},
     "source": [
      "Compl\u00e9ment - niveau interm\u00e9diaire"
     ]
    },
    {
     "cell_type": "markdown",
     "metadata": {},
     "source": [
      "Nous avons vu en deuxi\u00e8me semaine (S\u00e9quence \"Les types num\u00e9riques\") une premi\u00e8re introduction aux instructions `+=` et ses d\u00e9riv\u00e9es comme `*=`, `**=`, etc."
     ]
    },
    {
     "cell_type": "heading",
     "level": 3,
     "metadata": {},
     "source": [
      "Ces constructions ont une d\u00e9finition \u00e0 g\u00e9om\u00e9trie variable"
     ]
    },
    {
     "cell_type": "markdown",
     "metadata": {},
     "source": [
      "En C quand on utilise `+=` (ou encore `++`) on modifie la m\u00e9moire en place - historiquement, cet op\u00e9rateur permettait au programmeur d'aider \u00e0 l'optimisation du code pour utiliser les instructions assembleur idoines.\n",
      "\n",
      "Ces constructions en python s'inspirent clairement de C, aussi dans l'esprit ces constructions devraient fonctionner en **modifiant** l'objet r\u00e9f\u00e9renc\u00e9 par la variable. \n",
      "\n",
      "Mais les types num\u00e9riques en python ne sont **pas mutables**, alors que les listes le sont. Du coup le comportement de `+=` est diff\u00e9rent selon qu'on l'utilise sur un nombre ou sur une liste. Voyons cela sur des exemples tr\u00e8s simples."
     ]
    },
    {
     "cell_type": "code",
     "collapsed": false,
     "input": [
      "# Premier exemple avec un entier\n",
      "\n",
      "# on commence avec une r\u00e9f\u00e9rence partag\u00e9e\n",
      "a = b = 3\n",
      "a is b "
     ],
     "language": "python",
     "metadata": {},
     "outputs": []
    },
    {
     "cell_type": "code",
     "collapsed": false,
     "input": [
      "# on utilise += sur une des deux variables\n",
      "a += 1\n",
      "\n",
      "# ceci n'a pas modifi\u00e9 b\n",
      "# c'est normal, l'entier n'est pas mutable\n",
      "\n",
      "print a\n",
      "print b\n",
      "print a is b"
     ],
     "language": "python",
     "metadata": {},
     "outputs": []
    },
    {
     "cell_type": "code",
     "collapsed": false,
     "input": [
      "# Deuxi\u00e8me exemple, cette fois avec une liste\n",
      "\n",
      "# la m\u00eame r\u00e9f\u00e9rence partag\u00e9e\n",
      "a = b = []\n",
      "a is b"
     ],
     "language": "python",
     "metadata": {},
     "outputs": []
    },
    {
     "cell_type": "code",
     "collapsed": false,
     "input": [
      "# pareil, on fait += sur une des variables\n",
      "a += [1]\n",
      "\n",
      "# cette fois on a modifi\u00e9 a *et* b\n",
      "# car += a pu modifier la liste en place\n",
      "print a\n",
      "print b\n",
      "print a is b"
     ],
     "language": "python",
     "metadata": {},
     "outputs": []
    },
    {
     "cell_type": "markdown",
     "metadata": {},
     "source": [
      "Vous voyez donc que la s\u00e9mantique de `+=` (c'est bien entendu le cas pour toutes les autres formes d'instructions qui combinent l'affectation avec un op\u00e9rateur) **est diff\u00e9rente** suivant que l'objet r\u00e9f\u00e9renc\u00e9 par le terme de gauche est **mutable ou immuable**."
     ]
    },
    {
     "cell_type": "markdown",
     "metadata": {},
     "source": [
      "Pour cette raison, c'est l\u00e0 une opinion personnelle, cette famille d'instructions n'est pas le trait le plus r\u00e9ussi dans le langage, et je ne recommande pas de l'utiliser."
     ]
    },
    {
     "cell_type": "heading",
     "level": 3,
     "metadata": {},
     "source": [
      "Pr\u00e9cision sur la d\u00e9finition de `+=`"
     ]
    },
    {
     "cell_type": "markdown",
     "metadata": {},
     "source": [
      "Nous avions dit en premi\u00e8re semaine, et en premi\u00e8re approximation, que \n",
      "\n",
      "    x += y\n",
      "    \n",
      "\u00e9tait \u00e9quivalent \u00e0 \n",
      "\n",
      "    x = x + y"
     ]
    },
    {
     "cell_type": "markdown",
     "metadata": {},
     "source": [
      "Au vu de ce qui pr\u00e9c\u00e8de, on voit que ce n'est **pas tout \u00e0 fait exact**, puisque&nbsp;:"
     ]
    },
    {
     "cell_type": "code",
     "collapsed": false,
     "input": [
      "# si on fait x += y sur une liste \n",
      "# on fait un effet de bord sur la liste\n",
      "# comme on vient de le voir\n",
      "\n",
      "a = []\n",
      "print \"avant\", id(a)\n",
      "a += [1]\n",
      "print \"apr\u00e8s\", id(a)"
     ],
     "language": "python",
     "metadata": {},
     "outputs": []
    },
    {
     "cell_type": "code",
     "collapsed": false,
     "input": [
      "# alors que si on fait x = x + y sur une liste\n",
      "# on cr\u00e9e un nouvel objet liste\n",
      "\n",
      "a = []\n",
      "print \"avant\", id(a)\n",
      "a = a + [1]\n",
      "print \"apr\u00e8s\", id(a)"
     ],
     "language": "python",
     "metadata": {},
     "outputs": []
    },
    {
     "cell_type": "markdown",
     "metadata": {},
     "source": [
      "Vous voyez donc que vis-\u00e0-vis des r\u00e9f\u00e9rences partag\u00e9es, ces deux fa\u00e7ons de faire m\u00e8nent \u00e0 un r\u00e9sultat diff\u00e9rent. "
     ]
    }
   ],
   "metadata": {}
  }
 ]
}