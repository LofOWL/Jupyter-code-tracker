{
 "metadata": {
  "name": "",
  "signature": "sha256:d3bc3dbc3099b84c4d124e05d6bfcea1fd544fdb319a2a44b73c028449954708"
 },
 "nbformat": 3,
 "nbformat_minor": 0,
 "worksheets": [
  {
   "cells": [
    {
     "cell_type": "heading",
     "level": 1,
     "metadata": {},
     "source": [
      "Plusieurs variables dans une boucle for"
     ]
    },
    {
     "cell_type": "markdown",
     "metadata": {},
     "source": [
      "Nous avons vu pr\u00e9c\u00e9demment la possibilit\u00e9 d'affecter plusieurs variables par filtrage \u00e0 partir d'un seul objet, comme ceci"
     ]
    },
    {
     "cell_type": "code",
     "collapsed": false,
     "input": [
      "item = (1,2)\n",
      "a,b = item\n",
      "print 'a',a,'b',b"
     ],
     "language": "python",
     "metadata": {},
     "outputs": []
    },
    {
     "cell_type": "markdown",
     "metadata": {},
     "source": [
      "D'une fa\u00e7on analogue, il est possible de faire une boucle for qui it\u00e8re sur une seule liste mais qui 'agit' sur plusieurs variables, comme ceci"
     ]
    },
    {
     "cell_type": "code",
     "collapsed": false,
     "input": [
      "entrees = [ (1,2), (3,4), (5,6), ]\n",
      "for a,b in entrees:\n",
      "    print 'a',a,'b',b"
     ],
     "language": "python",
     "metadata": {},
     "outputs": []
    },
    {
     "cell_type": "markdown",
     "metadata": {},
     "source": [
      "Cette m\u00e9canique est massivement utilis\u00e9e en python. "
     ]
    },
    {
     "cell_type": "heading",
     "level": 3,
     "metadata": {},
     "source": [
      "La fonction zip"
     ]
    },
    {
     "cell_type": "markdown",
     "metadata": {},
     "source": [
      "Voici un exemple tr\u00e8s simple qui utilise la technique qu'on vient de voir."
     ]
    },
    {
     "cell_type": "markdown",
     "metadata": {},
     "source": [
      "Imaginons qu'on dispose de deux listes de longueurs \u00e9gales, dont on sait que les entr\u00e9es correspondent une \u00e0 une, comme par exemple"
     ]
    },
    {
     "cell_type": "code",
     "collapsed": false,
     "input": [
      "villes = [ \"Paris\", \"Nice\", \"Lyon\" ]\n",
      "populations = [ 2*10**6, 4*10**5, 10**6 ]"
     ],
     "language": "python",
     "metadata": {},
     "outputs": []
    },
    {
     "cell_type": "markdown",
     "metadata": {},
     "source": [
      "Afin d'\u00e9crire facilement un code qui \"associe\" les deux listes entre elles, python fournit une fonction \"builtin\" baptis\u00e9e zip, voyons ce qu'elle peut nous apporter sur cet exemple"
     ]
    },
    {
     "cell_type": "code",
     "collapsed": false,
     "input": [
      "zip (villes, populations)"
     ],
     "language": "python",
     "metadata": {},
     "outputs": []
    },
    {
     "cell_type": "markdown",
     "metadata": {},
     "source": [
      "On le voit, on obtient en retour une liste compos\u00e9e de tuples. On peut \u00e0 pr\u00e9sent \u00e9crire une boucle \"for\" comme ceci"
     ]
    },
    {
     "cell_type": "code",
     "collapsed": false,
     "input": [
      "for ville, population in zip (villes, populations):\n",
      "    print population,\"habitants a\",ville"
     ],
     "language": "python",
     "metadata": {},
     "outputs": []
    },
    {
     "cell_type": "markdown",
     "metadata": {},
     "source": [
      "Qui est, il nous semble, beaucoup plus lisible que ce que l'on serait amen\u00e9 \u00e0 \u00e9crire avec des langages plus traditionnels. \n",
      "\n",
      "Tout ceci se g\u00e9n\u00e9ralise naturellement \u00e0 plus que deux variables."
     ]
    }
   ],
   "metadata": {}
  }
 ]
}