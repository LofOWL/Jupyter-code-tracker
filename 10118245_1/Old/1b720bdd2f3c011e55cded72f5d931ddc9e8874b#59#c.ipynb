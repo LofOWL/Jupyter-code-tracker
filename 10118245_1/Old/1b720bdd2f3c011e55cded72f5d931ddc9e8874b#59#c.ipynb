{
 "metadata": {
  "kernelspec": {
   "display_name": "Python 2", 
   "language": "python", 
   "name": "python2"
  }, 
  "name": "", 
  "notebookname": "Conditions", 
  "version": "2.0"
 }, 
 "nbformat": 2, 
 "nbformat_minor": 0, 
 "orig_nbformat": 4, 
 "orig_nbformat_minor": 0, 
 "worksheets": [
  {
   "cells": [
    {
     "cell_type": "markdown", 
     "metadata": {}, 
     "source": [
      "<span style=\"float:left;\">Licence CC BY-NC-ND</span><span style=\"float:right;\">Thierry Parmentelat &amp; Arnaud Legout&nbsp;<img src=\"media/inria-25.png\" style=\"display:inline\"></span><br/>"
     ]
    }, 
    {
     "cell_type": "markdown", 
     "metadata": {}, 
     "source": [
      "# R\u00e9capitulatif sur les conditions dans un `if`"
     ]
    }, 
    {
     "cell_type": "markdown", 
     "metadata": {}, 
     "source": [
      "## Compl\u00e9ment - niveau basique"
     ]
    }, 
    {
     "cell_type": "markdown", 
     "metadata": {}, 
     "source": [
      "Dans ce compl\u00e9ment nous r\u00e9sumons ce qu'il faut savoir pour \u00e9crire une condition dans un `if`."
     ]
    }, 
    {
     "cell_type": "markdown", 
     "metadata": {}, 
     "source": [
      "### Expression *vs* instruction"
     ]
    }, 
    {
     "cell_type": "markdown", 
     "metadata": {}, 
     "source": [
      "Nous avons d\u00e9j\u00e0 introduit la diff\u00e9rence entre instruction et expression, lorsque nous avons vu l'expression conditionnelle:", 
      " * une expression est un fragment de code qui \"retourne quelque chose\"", 
      " * alors qu'une instruction permet bien souvent de faire une action, mais ne retourne rien"
     ]
    }, 
    {
     "cell_type": "markdown", 
     "metadata": {}, 
     "source": [
      "Ainsi parmi les notions que nous avons vues jusqu'ici, nous pouvons citer dans un ordre arbitraire:", 
      "", 
      "<table><thead><tr><th>Instructions</th><th>Expressions</th></tr></thead>", 
      "<tbody>", 
      "<tr><td>instruction `if`</td><td>expression conditionnelle</td></tr>", 
      "<tr><td>instruction `for`</td><td>compr\u00e9hensions</td></tr>", 
      "<tr><td>affectation</td><td>appel de fonction</td></tr>", 
      "<tr><td>`print`</td><td>op\u00e9rateurs `is` et `==`</td></tr>", 
      "<tr><td>`import`</td><td>op\u00e9rateur `in`</td></tr>", 
      "</tbody></table>"
     ]
    }, 
    {
     "cell_type": "markdown", 
     "metadata": {}, 
     "source": [
      "### Toutes les expressions sont \u00e9ligibles"
     ]
    }, 
    {
     "cell_type": "markdown", 
     "metadata": {}, 
     "source": [
      "Comme condition d'une instruction `if`, on peut mettre n'importe quelle expression.", 
      "", 
      "Comme on l'a d\u00e9j\u00e0 signal\u00e9, il n'est pas n\u00e9cessaire que cette expression retourne un bool\u00e9en:"
     ]
    }, 
    {
     "cell_type": "code", 
     "collapsed": false, 
     "input": [
      "for n in [18, 19]:", 
      "    if n % 3:", 
      "        print n, \"n'est pas divisible par trois\"", 
      "    else:", 
      "        print n, \"est divisible par trois\""
     ], 
     "language": "python", 
     "metadata": {}, 
     "outputs": [], 
     "prompt_number": null
    }, 
    {
     "cell_type": "markdown", 
     "metadata": {}, 
     "source": [
      "### Une valeur est-elle \"vraie\" ?"
     ]
    }, 
    {
     "cell_type": "markdown", 
     "metadata": {}, 
     "source": [
      "Se pose d\u00e8s lors la question de savoir pr\u00e9cis\u00e9ment quelles valeurs sont consid\u00e9r\u00e9es comme *vraies* par l'instruction `if`. ", 
      "", 
      "Parmi les types de base, nous avons d\u00e9j\u00e0 eu l'occasion de l'\u00e9voquer, les valeurs *fausses* sont typiquement", 
      " * 0 pour les valeurs num\u00e9riques", 
      " * les objets vides pour les cha\u00eenes, listes, ensembles, dictionnaires, etc."
     ]
    }, 
    {
     "cell_type": "markdown", 
     "metadata": {}, 
     "source": [
      "Pour en avoir le c\u0153ur net, pensez \u00e0 utiliser dans le terminal interactif la fonction `bool`. Comme pour toutes les fonctions qui portent le nom d'un type, la fonction `bool` est un constructeur qui fabrique un objet bool\u00e9en. ", 
      "", 
      "Si vous appelez `bool` sur un objet, la valeur de retour - qui est donc par construction une valeur bool\u00e9enne - vous indique cette fois sans ambigu\u00eft\u00e9 - comment se comportera `if` avec cette entr\u00e9e."
     ]
    }, 
    {
     "cell_type": "code", 
     "collapsed": false, 
     "input": [
      "def show_bool(x):", 
      "    print 'condition', x, ' consid\u00e9r\u00e9e comme', bool(x)", 
      "    ", 
      "for exp in [ None, \"\", 'a', [], [1], (), (1, 2), {}, {'a': 1}, set(), {1}]:", 
      "    show_bool (exp)"
     ], 
     "language": "python", 
     "metadata": {}, 
     "outputs": [], 
     "prompt_number": null
    }, 
    {
     "cell_type": "markdown", 
     "metadata": {}, 
     "source": [
      "### Quelques exemples d'expressions"
     ]
    }, 
    {
     "cell_type": "markdown", 
     "metadata": {}, 
     "source": [
      "##### R\u00e9f\u00e9rence \u00e0 une variable et d\u00e9riv\u00e9s"
     ]
    }, 
    {
     "cell_type": "code", 
     "collapsed": false, 
     "input": [
      "a = range(10)", 
      "if a:", 
      "    print \"a n'est pas vide\"", 
      "if a[1]:", 
      "    print \"a[1] n'est pas nul\""
     ], 
     "language": "python", 
     "metadata": {}, 
     "outputs": [], 
     "prompt_number": null
    }, 
    {
     "cell_type": "markdown", 
     "metadata": {}, 
     "source": [
      "##### Appels de fonction ou de m\u00e9thode"
     ]
    }, 
    {
     "cell_type": "code", 
     "collapsed": false, 
     "input": [
      "chaine = \"jean\"", 
      "if chaine.upper():", 
      "    print \"la chaine mise en majuscule n'est pas vide\""
     ], 
     "language": "python", 
     "metadata": {}, 
     "outputs": [], 
     "prompt_number": null
    }, 
    {
     "cell_type": "code", 
     "collapsed": false, 
     "input": [
      "# on rappelle qu'une fonction qui ne fait pas 'return' retourne None", 
      "def procedure(a, b, c):", 
      "    \"cette fonction ne retourne rien\"", 
      "    pass", 
      "", 
      "if procedure(1, 2, 3):", 
      "    print \"ne passe pas ici car procedure retourne None\"", 
      "else:", 
      "    print \"attendu\""
     ], 
     "language": "python", 
     "metadata": {}, 
     "outputs": [], 
     "prompt_number": null
    }, 
    {
     "cell_type": "markdown", 
     "metadata": {}, 
     "source": [
      "##### Compr\u00e9hensions"
     ]
    }, 
    {
     "cell_type": "markdown", 
     "metadata": {}, 
     "source": [
      "Il d\u00e9coule de ce qui pr\u00e9c\u00e8de qu'on peut tout \u00e0 fait mettre une compr\u00e9hension comme condition, ce qui peut \u00eatre utile pour savoir si au moins un \u00e9l\u00e9ment remplit une condition, comme par exemple:"
     ]
    }, 
    {
     "cell_type": "code", 
     "collapsed": false, 
     "input": [
      "inputs = [23, 65, 24]", 
      "# y a-t-il dans inputs au moins un nombre dont le carr\u00e9 est 10*n+5", 
      "def condition(n):", 
      "    return n * n % 10 == 5", 
      "", 
      "if [input for input in inputs if condition(input)]:", 
      "    print \"au moins une entr\u00e9e convient\""
     ], 
     "language": "python", 
     "metadata": {}, 
     "outputs": [], 
     "prompt_number": null
    }, 
    {
     "cell_type": "markdown", 
     "metadata": {}, 
     "source": [
      "Je vous rappelle que nous aborderons la compr\u00e9hension en semaine 5. Donc, si l'exemple pr\u00e9c\u00e9dent vous para\u00eet obscur, pas d'inqui\u00e9tude, vous pourrez revenir dessus apr\u00e8s avoir vu la compr\u00e9hension en semaine 5."
     ]
    }, 
    {
     "cell_type": "markdown", 
     "metadata": {}, 
     "source": [
      "##### Op\u00e9rateurs"
     ]
    }, 
    {
     "cell_type": "markdown", 
     "metadata": {}, 
     "source": [
      "Nous avons d\u00e9j\u00e0 eu l'occasion de rencontrer la plupart des op\u00e9rateurs de comparaison du langage, dont voici \u00e0 nouveau les principaux", 
      "", 
      "<table><thead><tr><th>Famille</th><th>Exemples</th></tr></thead>", 
      "<tbody>", 
      "<tr><td>\u00c9galit\u00e9</td><td>`==`, `!=`, `is`, `is not` </td></tr>", 
      "<tr><td>Appartenance</td><td>`in`</td></tr>", 
      "<tr><td>Comparaison</td><td>`<=`, `<`, `>`, `>=`</td></tr>", 
      "<tr><td>Logiques</td><td>`and`, `or`, `not`</td></tr>", 
      "</tbody></table>"
     ]
    }, 
    {
     "cell_type": "markdown", 
     "metadata": {}, 
     "source": [
      "## Compl\u00e9ment - niveau interm\u00e9diaire"
     ]
    }, 
    {
     "cell_type": "markdown", 
     "metadata": {}, 
     "source": [
      "### Remarques sur les op\u00e9rateurs"
     ]
    }, 
    {
     "cell_type": "markdown", 
     "metadata": {}, 
     "source": [
      "Voici enfin quelques remarques sur ces op\u00e9rateurs"
     ]
    }, 
    {
     "cell_type": "markdown", 
     "metadata": {}, 
     "source": [
      "##### op\u00e9rateur d'\u00e9galit\u00e9 `==` "
     ]
    }, 
    {
     "cell_type": "markdown", 
     "metadata": {}, 
     "source": [
      "L'op\u00e9rateur `==` ne fonctionne en g\u00e9n\u00e9ral (sauf pour les nombres) que sur des objets de m\u00eame type; c'est-\u00e0-dire que notamment un tuple ne sera jamais \u00e9gal \u00e0 une liste:"
     ]
    }, 
    {
     "cell_type": "code", 
     "collapsed": false, 
     "input": [
      "[] == ()"
     ], 
     "language": "python", 
     "metadata": {}, 
     "outputs": [], 
     "prompt_number": null
    }, 
    {
     "cell_type": "code", 
     "collapsed": false, 
     "input": [
      "[1, 2] == (1, 2)"
     ], 
     "language": "python", 
     "metadata": {}, 
     "outputs": [], 
     "prompt_number": null
    }, 
    {
     "cell_type": "markdown", 
     "metadata": {}, 
     "source": [
      "##### op\u00e9rateur logiques"
     ]
    }, 
    {
     "cell_type": "markdown", 
     "metadata": {}, 
     "source": [
      "Comme c'est le cas avec par exemple les op\u00e9rateurs arithm\u00e9tiques, les op\u00e9rateurs logiques ont une *priorit\u00e9*, qui pr\u00e9cise le sens des phrases non parenth\u00e9s\u00e9es. C'est-\u00e0-dire pour \u00eatre explcite, que de la m\u00eame mani\u00e8re que", 
      "", 
      "    12 + 4 * 8 ", 
      "", 
      "est \u00e9quivalent \u00e0", 
      "", 
      "    12 + ( 4 * 8 )", 
      "    ", 
      "pour les bool\u00e9ens il existe une r\u00e8gle de ce genre et", 
      "", 
      "    a and not b or c and d", 
      "", 
      "est \u00e9quivalent \u00e0", 
      "", 
      "    (a and (not b)) or (c and d)", 
      "", 
      "Mais en fait, il est assez facile de s'emm\u00ealer dans ces priorit\u00e9s et il est tr\u00e8s fortement conseill\u00e9 de parenth\u00e9ser.", 
      "    "
     ]
    }, 
    {
     "cell_type": "markdown", 
     "metadata": {}, 
     "source": [
      "##### op\u00e9rateurs logiques (2)"
     ]
    }, 
    {
     "cell_type": "markdown", 
     "metadata": {}, 
     "source": [
      "Les op\u00e9rateurs logiques peuvent \u00eatre appliqu\u00e9s \u00e0 des valeurs qui ne sont pas bool\u00e9ennes:"
     ]
    }, 
    {
     "cell_type": "code", 
     "collapsed": false, 
     "input": [
      "2 and [1, 2]"
     ], 
     "language": "python", 
     "metadata": {}, 
     "outputs": [], 
     "prompt_number": null
    }, 
    {
     "cell_type": "markdown", 
     "metadata": {}, 
     "source": [
      "### Expression conditionnelle dans une instruction `if`"
     ]
    }, 
    {
     "cell_type": "markdown", 
     "metadata": {}, 
     "source": [
      "En toute rigueur on peut aussi mettre un `<> if <> else <>` - donc une expression conditionnelle - comme condition dans une instruction `if`. Nous le signalons pour bien illustrer la logique du langage, mais cette pratique n'est pas du tout conseill\u00e9e."
     ]
    }, 
    {
     "cell_type": "code", 
     "collapsed": false, 
     "input": [
      "# cet exemple est volontairement tir\u00e9 par les cheveux ", 
      "# pour bien montrer qu'on peut mettre n'importe quelle expression comme condition", 
      "a = 1", 
      "# ceci est franchement illisible", 
      "if 0 if not a else 2:", 
      "    print \"une construction illisible\"", 
      "# et encore pire", 
      "if 0 if a else 3 if a + 1 else 2:", 
      "    print \"encore pire\""
     ], 
     "language": "python", 
     "metadata": {}, 
     "outputs": [], 
     "prompt_number": null
    }, 
    {
     "cell_type": "markdown", 
     "metadata": {}, 
     "source": [
      "### Pour en savoir plus"
     ]
    }, 
    {
     "cell_type": "markdown", 
     "metadata": {}, 
     "source": [
      "https://docs.python.org/2/tutorial/datastructures.html#more-on-conditions"
     ]
    }, 
    {
     "cell_type": "markdown", 
     "metadata": {}, 
     "source": [
      "### Types d\u00e9finis par l'utilisateur"
     ]
    }, 
    {
     "cell_type": "markdown", 
     "metadata": {}, 
     "source": [
      "Pour anticiper un tout petit peu, nous verrons que les classes en python vous donnent le moyen de d\u00e9finir vos propres types d'objets. Nous verrons \u00e0 cette occasion qu'il est possible d'indiquer \u00e0 python quels sont les objets de type `MaClasse` qui doivent \u00eatre consid\u00e9r\u00e9s comme `True` ou comme `False`. ", 
      "", 
      "De mani\u00e8re plus g\u00e9n\u00e9rale, tous les traits natifs du langage sont red\u00e9finissables sur les classes. Nous verrons par exemple \u00e9galement comment donner du sens \u00e0 des phrases comme", 
      "", 
      "    mon_objet = MaClasse()", 
      "    for partie in mon_objet:", 
      "        <faire quelque chose sur partie>", 
      "", 
      "Mais n'anticipons pas trop, rendez-vous en semaine 5."
     ]
    }
   ], 
   "metadata": {}
  }
 ]
}
