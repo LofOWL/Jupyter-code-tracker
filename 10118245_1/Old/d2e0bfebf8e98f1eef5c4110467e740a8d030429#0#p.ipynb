{
 "metadata": {
  "notebookname": "Fichiers",
  "signature": "sha256:d37271fabd90a7fe9edb6cef6a30665b4a0809ba09663149aa6f6df64842795f",
  "version": "1.0"
 },
 "nbformat": 3,
 "nbformat_minor": 0,
 "worksheets": [
  {
   "cells": [
    {
     "cell_type": "heading",
     "level": 1,
     "metadata": {},
     "source": [
      "Fichiers"
     ]
    },
    {
     "cell_type": "heading",
     "level": 2,
     "metadata": {},
     "source": [
      "Exercice - niveau basique"
     ]
    },
    {
     "cell_type": "heading",
     "level": 3,
     "metadata": {},
     "source": [
      "Calcul du nombre de lignes, de mots et de caract\u00e8res"
     ]
    },
    {
     "cell_type": "markdown",
     "metadata": {},
     "source": [
      "On se propose d'\u00e9crire une * moulinette* qui annote un fichier avec des nombres de lignes, de mots et de caract\u00e8res.\n",
      "\n",
      "Le but de l'exercice est d'\u00e9crire une fonction `comptage`:\n",
      " * qui prenne en argument un nom de fichier d'entr\u00e9e (on suppose qu'il existe) et un nom de fichier de sortie (on suppose qu'on a le droit de l'\u00e9crire);\n",
      " * le fichier d'entr\u00e9e est laiss\u00e9 intact;\n",
      " *  pour chaque ligne en entr\u00e9e, le fichier de sortie comporte une ligne qui donne le num\u00e9ro de ligne, le nombre de mots (**s\u00e9par\u00e9s par des espaces**), le nombre de caract\u00e8res (y compris la fin de ligne), et la ligne d'origine;\n",
      " * et enfin le fichier de sortie comporte une derni\u00e8re ligne avec les nombres totaux de lignes, de mots et de caract\u00e8res, **suivi d'une derni\u00e8re fin de ligne**."
     ]
    },
    {
     "cell_type": "code",
     "collapsed": false,
     "input": [
      "# un exemple de ce qui est attendu\n",
      "from corrections.w4_files import exo_comptage\n",
      "exo_comptage.exemple()"
     ],
     "language": "python",
     "metadata": {},
     "outputs": []
    },
    {
     "cell_type": "code",
     "collapsed": false,
     "input": [
      "# votre code\n",
      "def comptage(in_filename, out_filename):\n",
      "#    print 'in',in_filename\n",
      "#    print 'out',out_filename\n",
      "    \"<votre_code>\""
     ],
     "language": "python",
     "metadata": {},
     "outputs": []
    },
    {
     "cell_type": "code",
     "collapsed": false,
     "input": [
      "# pour v\u00e9rifier votre code\n",
      "exo_comptage.correction(comptage)"
     ],
     "language": "python",
     "metadata": {},
     "outputs": []
    },
    {
     "cell_type": "markdown",
     "metadata": {},
     "source": [
      "La m\u00e9thode `debug` applique votre fonction au premier fichier d'entr\u00e9e, et affiche le r\u00e9sultat comme dans l'exemple ci-dessus. \n",
      "\n",
      "**N'oubliez pas de v\u00e9rifier** que vous ajoutez bien la derni\u00e8re fin de ligne, car sa pr\u00e9sence/absence n'appara\u00eet pas clairement dans ce tableau."
     ]
    },
    {
     "cell_type": "code",
     "collapsed": false,
     "input": [
      "# debugging\n",
      "exo_comptage.debug(comptage)"
     ],
     "language": "python",
     "metadata": {},
     "outputs": []
    }
   ],
   "metadata": {}
  }
 ]
}