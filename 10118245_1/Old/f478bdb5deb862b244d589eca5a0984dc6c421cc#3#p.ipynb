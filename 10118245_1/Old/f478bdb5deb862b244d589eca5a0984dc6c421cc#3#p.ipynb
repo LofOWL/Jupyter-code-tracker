{
 "metadata": {
  "kernelspec": {
   "display_name": "Python 2", 
   "language": "python", 
   "name": "python2"
  }, 
  "name": "", 
  "notebookname": "isinstance", 
  "version": "2.0"
 }, 
 "nbformat": 2, 
 "nbformat_minor": 0, 
 "orig_nbformat": 4, 
 "orig_nbformat_minor": 0, 
 "worksheets": [
  {
   "cells": [
    {
     "cell_type": "markdown", 
     "metadata": {}, 
     "source": [
      "<span style=\"float:left;\">Licence CC BY-NC-ND</span><span style=\"float:right;\">Thierry Parmentelat &amp; Arnaud Legout&nbsp;<img src=\"media/inria-25.png\" style=\"display:inline\"></span><br/>"
     ]
    }, 
    {
     "cell_type": "markdown", 
     "metadata": {}, 
     "source": [
      "# `isinstance`"
     ]
    }, 
    {
     "cell_type": "markdown", 
     "metadata": {}, 
     "source": [
      "## Compl\u00e9ment - niveau basique"
     ]
    }, 
    {
     "cell_type": "markdown", 
     "metadata": {}, 
     "source": [
      "### Typage dynamique"
     ]
    }, 
    {
     "cell_type": "markdown", 
     "metadata": {}, 
     "source": [
      "En premi\u00e8re semaine, nous avons rapidement mentionn\u00e9 les concepts de typage statique et dynamique.", 
      "", 
      "Avec la fonction pr\u00e9d\u00e9finie `isinstance` - qui peut \u00eatre par ailleurs utile dans d'autres contextes - vous pouvez facilement:", 
      " * v\u00e9rifier qu'un argument d'une fonction a bien le type attendu,", 
      " * et traiter diff\u00e9remment les entr\u00e9es selon leur type."
     ]
    }, 
    {
     "cell_type": "markdown", 
     "metadata": {}, 
     "source": [
      "Voyons tout de suite sur un exemple simple comment on pourrait d\u00e9finir une fonction qui travaille sur un entier, mais qui par commmodit\u00e9 peut aussi accepter un entier pass\u00e9 comme une cha\u00eene de caract\u00e8res, ou m\u00eame une liste d'entiers (auquel cas on renvoie la liste des factorielles)&nbsp;:"
     ]
    }, 
    {
     "cell_type": "code", 
     "collapsed": false, 
     "input": [
      "from types import StringTypes", 
      "", 
      "def factoriel(argument):", 
      "    # si on re\u00e7oit un entier", 
      "    if isinstance(argument, int):", 
      "        return 1 if argument <= 1 else argument * factoriel(argument - 1)", 
      "    # convertir en entier si on re\u00e7oit une cha\u00eene", 
      "    elif isinstance(argument, StringTypes):", 
      "        return factoriel(int(argument))", 
      "    # la liste des r\u00e9sultats si on re\u00e7oit un tuple ou une liste ", 
      "    elif isinstance(argument, (tuple, list)):", 
      "        return [factoriel(i) for i in argument]", 
      "    # sinon on l\u00e8ve une exception", 
      "    else:", 
      "        raise TypeError, argument"
     ], 
     "language": "python", 
     "metadata": {}, 
     "outputs": [], 
     "prompt_number": null
    }, 
    {
     "cell_type": "code", 
     "collapsed": false, 
     "input": [
      "print \"entier\", factoriel(4)", 
      "print \"chaine\", factoriel(\"8\")", 
      "print \"tuple\", factoriel((4, 8))"
     ], 
     "language": "python", 
     "metadata": {}, 
     "outputs": [], 
     "prompt_number": null
    }, 
    {
     "cell_type": "markdown", 
     "metadata": {}, 
     "source": [
      "Remarquez que la fonction `isinstance` **poss\u00e8de elle-m\u00eame** une logique de ce genre, puisqu'en ligne 5 nous lui avons pass\u00e9 en deuxi\u00e8me argument un type (`int`), alors qu'en ligne 11 on lui a pass\u00e9 un tuple de deux types. Dans ce second cas naturellement, elle v\u00e9rifie si l'objet (le premier argument) est **de l'un des types** mentionn\u00e9s dans le tuple."
     ]
    }, 
    {
     "cell_type": "markdown", 
     "metadata": {}, 
     "source": [
      "### Le module `types`"
     ]
    }, 
    {
     "cell_type": "markdown", 
     "metadata": {}, 
     "source": [
      "Dans cet exemple nous avons \u00e9galement utilis\u00e9 le module `types`, et notamment le symbole `types.StringTypes`, plut\u00f4t que simplement `str`. ", 
      "", 
      "C'est une pratique recommand\u00e9e pour le cas o\u00f9 on appellerait notre fonction avec en argument un objet de type `unicode`."
     ]
    }, 
    {
     "cell_type": "code", 
     "collapsed": false, 
     "input": [
      "factoriel(u'4')"
     ], 
     "language": "python", 
     "metadata": {}, 
     "outputs": [], 
     "prompt_number": null
    }, 
    {
     "cell_type": "markdown", 
     "metadata": {}, 
     "source": [
      "## Compl\u00e9ment - niveau interm\u00e9diaire"
     ]
    }, 
    {
     "cell_type": "markdown", 
     "metadata": {}, 
     "source": [
      "### Le module `types` (suite)"
     ]
    }, 
    {
     "cell_type": "markdown", 
     "metadata": {}, 
     "source": [
      "Le module `types` d\u00e9finit un certain nombre de constantes de ce genre - vous trouverez une liste exhaustive \u00e0 la fin de ce notebook. Il n'est pas tr\u00e8s difficile de deviner que"
     ]
    }, 
    {
     "cell_type": "code", 
     "collapsed": false, 
     "input": [
      "StringTypes == (str, unicode)"
     ], 
     "language": "python", 
     "metadata": {}, 
     "outputs": [], 
     "prompt_number": null
    }, 
    {
     "cell_type": "markdown", 
     "metadata": {}, 
     "source": [
      "Un autre symbole utile est `FunctionType`"
     ]
    }, 
    {
     "cell_type": "code", 
     "collapsed": false, 
     "input": [
      "from types import FunctionType", 
      "isinstance(factoriel, FunctionType)"
     ], 
     "language": "python", 
     "metadata": {}, 
     "outputs": [], 
     "prompt_number": null
    }, 
    {
     "cell_type": "markdown", 
     "metadata": {}, 
     "source": [
      "Mais m\u00e9fiez vous toutefois des fonctions *built-in*, qui sont de type `BuiltinFunctionType`"
     ]
    }, 
    {
     "cell_type": "code", 
     "collapsed": false, 
     "input": [
      "from types import BuiltinFunctionType", 
      "isinstance(len, BuiltinFunctionType)"
     ], 
     "language": "python", 
     "metadata": {}, 
     "outputs": [], 
     "prompt_number": null
    }, 
    {
     "cell_type": "markdown", 
     "metadata": {}, 
     "source": [
      "### `isinstance` *vs* `type`"
     ]
    }, 
    {
     "cell_type": "markdown", 
     "metadata": {}, 
     "source": [
      "Il est recommand\u00e9 d'utiliser `isinstance` par rapport \u00e0 la fonction `type`. Tout d'abord, cela permet, on vient de le voir, de prendre en compte plusieurs types. ", 
      "", 
      "Mais aussi et surtout `isinstance` supporte la notion d'h\u00e9ritage qui est centrale dans le cadre de la programmation orient\u00e9e objet, sur laquelle nous allons anticiper un tout petit peu par rapport aux pr\u00e9sentations de la semaine prochaine. ", 
      "", 
      "Avec la programmation objet, vous pouvez d\u00e9finir vos propres types. On peut par exemple d\u00e9finir une classe `Animal` qui convient pour tous les animaux, puis d\u00e9finir une sous-classe `Mammifere`. On dit que la classe `Mammifere` *h\u00e9rite* de la classe `Animal`, et on l'appelle sous-classe parce qu'elle repr\u00e9sente une partie des animaux; et donc tout ce qu'on peut faire sur les animaux peut \u00eatre fait sur les mammif\u00e8res.", 
      "", 
      "En voici une impl\u00e9mentation tr\u00e8s rudimentaire, uniquement pour illustrer le principe de l'h\u00e9ritage. Si ce qui suit vous semble difficile \u00e0 comprendre, pas d'inqui\u00e9tude, nous reviendrons dessus la semaine prochaine lorsque nous parlerons des classes.  "
     ]
    }, 
    {
     "cell_type": "code", 
     "collapsed": false, 
     "input": [
      "class Animal:", 
      "    def __init__(self, name):", 
      "        self.name = name", 
      "", 
      "class Mammifere(Animal):", 
      "    def __init__(self, name):", 
      "        Animal.__init__(self, name)"
     ], 
     "language": "python", 
     "metadata": {}, 
     "outputs": [], 
     "prompt_number": null
    }, 
    {
     "cell_type": "markdown", 
     "metadata": {}, 
     "source": [
      "Encore une fois tout ceci sera vu en d\u00e9tail la semaine prochaine. Ce qui nous int\u00e9resse dans l'imm\u00e9diat c'est que `isinstance` permet dans ce contexte de faire des choses qu'on ne peut pas faire directement avec la fonction `type`, comme ceci"
     ]
    }, 
    {
     "cell_type": "code", 
     "collapsed": false, 
     "input": [
      "# c'est comme ceci qu'on peut cr\u00e9er un objet de type `Animal` (m\u00e9thode __init__)", 
      "requin = Animal('requin')", 
      "# idem pour un Mammifere", 
      "baleine = Mammifere('baleine')", 
      "", 
      "# bien s\u00fbr ici la r\u00e9ponse est 'True'", 
      "print \"l'objet baleine est-il un mammifere\", isinstance(baleine, Mammifere)", 
      "# ici c'est moins \u00e9vident, mais la r\u00e9ponse est 'True' aussi", 
      "print \"l'objet baleine est-il un animal\", isinstance(baleine, Animal)"
     ], 
     "language": "python", 
     "metadata": {}, 
     "outputs": [], 
     "prompt_number": null
    }, 
    {
     "cell_type": "markdown", 
     "metadata": {}, 
     "source": [
      "Vous voyez qu'ici, bien que l'objet baleine est de type `Mammifere`, on peut le consid\u00e9rer comme \u00e9tant **aussi** de type `Animal`. ", 
      "", 
      "Ceci est motiv\u00e9 de la fa\u00e7on suivante. Comme on l'a dit plus haut, tout ce qu'on peut faire (en termes notamment d'envoi de m\u00e9thodes) sur un objet de type `Animal`, on peut le faire sur un objet de type `Mammifere`. Dit en termes ensemblistes, l'ensemble des mammif\u00e8res est inclus dans l'ensemble des animaux."
     ]
    }, 
    {
     "cell_type": "markdown", 
     "metadata": {}, 
     "source": [
      "### Annexe - Les symboles du module `types`"
     ]
    }, 
    {
     "cell_type": "code", 
     "collapsed": false, 
     "input": [
      "import types ", 
      "dir(types)"
     ], 
     "language": "python", 
     "metadata": {}, 
     "outputs": [], 
     "prompt_number": null
    }
   ], 
   "metadata": {}
  }
 ]
}
