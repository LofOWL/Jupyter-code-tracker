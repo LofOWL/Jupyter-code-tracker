{
 "metadata": {
  "notebookname": "L'instruction del",
  "signature": "cdd52bfc0f3909ac7a8aff87a0a1500b5c4ef57319dff171d3602a537d0c6a0f",
  "version": "1.0"
 },
 "nbformat": 3,
 "nbformat_minor": 0,
 "worksheets": [
  {
   "cells": [
    {
     "cell_type": "heading",
     "level": 1,
     "metadata": {},
     "source": [
      "L'instruction `del`"
     ]
    },
    {
     "cell_type": "heading",
     "level": 2,
     "metadata": {},
     "source": [
      "Compl\u00e9ment - niveau basique"
     ]
    },
    {
     "cell_type": "markdown",
     "metadata": {},
     "source": [
      "Voici un r\u00e9capitulatif sur l'instruction `del` selon le contexte dans lequel elle est utilis\u00e9e."
     ]
    },
    {
     "cell_type": "heading",
     "level": 3,
     "metadata": {},
     "source": [
      "Sur une variable"
     ]
    },
    {
     "cell_type": "markdown",
     "metadata": {},
     "source": [
      "On peut annuler la d\u00e9finition d'une variable"
     ]
    },
    {
     "cell_type": "code",
     "collapsed": false,
     "input": [
      "# la variable a n'est pas d\u00e9finie\n",
      "try:\n",
      "    print 'a=',a\n",
      "except NameError as e:\n",
      "    print \"a n'est pas d\u00e9fini\""
     ],
     "language": "python",
     "metadata": {},
     "outputs": []
    },
    {
     "cell_type": "code",
     "collapsed": false,
     "input": [
      "# on la d\u00e9finit\n",
      "a = 10\n",
      "\n",
      "try:\n",
      "    print 'a=',a\n",
      "except NameError as e:\n",
      "    print \"a n'est pas d\u00e9fini\""
     ],
     "language": "python",
     "metadata": {},
     "outputs": []
    },
    {
     "cell_type": "code",
     "collapsed": false,
     "input": [
      "# on peut effacer la variable\n",
      "del a\n",
      "\n",
      "try:\n",
      "    print 'a=',a\n",
      "except NameError as e:\n",
      "    print \"a n'est pas d\u00e9fini\""
     ],
     "language": "python",
     "metadata": {},
     "outputs": []
    },
    {
     "cell_type": "heading",
     "level": 3,
     "metadata": {},
     "source": [
      "Sur une liste"
     ]
    },
    {
     "cell_type": "markdown",
     "metadata": {},
     "source": [
      "On peut enlever d'une liste les \u00e9l\u00e9ments qui correspondent \u00e0 une *slice*"
     ]
    },
    {
     "cell_type": "code",
     "collapsed": false,
     "input": [
      "# on se donne une liste\n",
      "l = range (12)\n",
      "print l"
     ],
     "language": "python",
     "metadata": {},
     "outputs": []
    },
    {
     "cell_type": "code",
     "collapsed": false,
     "input": [
      "# on consid\u00e8re une slice dans cette liste\n",
      "print 'slice=',l [2 : 10 : 3]\n",
      "\n",
      "# voyons ce que \u00e7a donne si on efface cette slice\n",
      "del l [2 : 10 : 3]\n",
      "print \"apr\u00e8s del\", l"
     ],
     "language": "python",
     "metadata": {},
     "outputs": []
    },
    {
     "cell_type": "heading",
     "level": 3,
     "metadata": {},
     "source": [
      "Sur un dictionnaire"
     ]
    },
    {
     "cell_type": "markdown",
     "metadata": {},
     "source": [
      "Avec `del` on peut enlever une cl\u00e9, et donc la valeur correspondante, d'un dictionnaire"
     ]
    },
    {
     "cell_type": "code",
     "collapsed": false,
     "input": [
      "# partons d'un dictionaire simple\n",
      "d = dict ( foo='bar', spam= 'eggs', a='b')\n",
      "print d"
     ],
     "language": "python",
     "metadata": {},
     "outputs": []
    },
    {
     "cell_type": "code",
     "collapsed": false,
     "input": [
      "# on peut enlever une cl\u00e9 avec del\n",
      "del d['a']\n",
      "print d"
     ],
     "language": "python",
     "metadata": {},
     "outputs": []
    },
    {
     "cell_type": "heading",
     "level": 3,
     "metadata": {},
     "source": [
      "On peut passer \u00e0 `del` une liste"
     ]
    },
    {
     "cell_type": "code",
     "collapsed": false,
     "input": [
      "# Voyons o\u00f9 en sont nos donn\u00e9es\n",
      "print 'l',l; print'd',d"
     ],
     "language": "python",
     "metadata": {},
     "outputs": []
    },
    {
     "cell_type": "code",
     "collapsed": false,
     "input": [
      "# on peut invoquer `del` avec une liste - comme `print`\n",
      "del l[3:3],d['spam']\n",
      "\n",
      "print 'l',l; print'd',d"
     ],
     "language": "python",
     "metadata": {},
     "outputs": []
    },
    {
     "cell_type": "heading",
     "level": 3,
     "metadata": {},
     "source": [
      "Pour en savoir plus"
     ]
    },
    {
     "cell_type": "markdown",
     "metadata": {},
     "source": [
      "La page sur [l'instruction `del`](https://docs.python.org/2/reference/simple_stmts.html#the-del-statement) dans la documentation python"
     ]
    }
   ],
   "metadata": {}
  }
 ]
}