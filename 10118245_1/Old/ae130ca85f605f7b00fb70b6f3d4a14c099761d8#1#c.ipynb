{
 "cells": [
  {
   "cell_type": "markdown",
   "metadata": {},
   "source": [
    "<style>div.title-slide {    width: 100%;    display: flex;    flex-direction: row;            /* default value; can be omitted */    flex-wrap: nowrap;              /* default value; can be omitted */    justify-content: space-between;}</style><div class=\"title-slide\">\n",
    "<span style=\"float:left;\">Licence CC BY-NC-ND</span>\n",
    "<span>Thierry Parmentelat &amp; Arnaud Legout</span>\n",
    "<span><img src=\"media/both-logos-small-alpha.png\" style=\"display:inline\" /></span>\n",
    "</div>"
   ]
  },
  {
   "cell_type": "markdown",
   "metadata": {},
   "source": [
    "## Complément - niveau intermédiaire"
   ]
  },
  {
   "cell_type": "markdown",
   "metadata": {},
   "source": [
    "Souvenez-vous de ce qu'on avait dit en semaine 3 séquence 4, concernant les clés dans un dictionnaire ou les éléments dans un ensemble. Nous avions vu alors que, pour les types *built-in*, les clés devaient être des objets immuables et même globalement immuables."
   ]
  },
  {
   "cell_type": "markdown",
   "metadata": {},
   "source": [
    "Nous allons voir dans ce complément quelles sont les règles qui s'appliquent aux instances de classe, et notamment  comment on peut manipuler des ensembles d'instances d'une manière qui fasse du sens."
   ]
  },
  {
   "cell_type": "markdown",
   "metadata": {},
   "source": [
    "Une instance de classe est presque toujours un objet mutable (voir à ce sujet un prochain complément sur les `namedtuple`s).\n",
    "\n",
    "Et pourtant, le langage vous permet d'insérer une instance dans un ensemble - ou de l'utiliser comme clé dans un dictionnaire.\n",
    "\n",
    "Nous allons voir ce mécanisme en action, et mettre en évidence ses limites."
   ]
  },
  {
   "cell_type": "markdown",
   "metadata": {},
   "source": [
    "### hachage par défaut : basé sur `id()`"
   ]
  },
  {
   "cell_type": "code",
   "execution_count": null,
   "metadata": {
    "collapsed": true
   },
   "outputs": [],
   "source": [
    "# une classe Point qui ne redéfinit pas __eq__ ni __hash__\n",
    "class Point1:\n",
    "    def __init__(self, x, y):\n",
    "        self.x = x\n",
    "        self.y = y\n",
    "        \n",
    "    def __repr__(self):\n",
    "        return f\"Pt[{self.x}, {self.y}]\""
   ]
  },
  {
   "cell_type": "code",
   "execution_count": null,
   "metadata": {
    "collapsed": true
   },
   "outputs": [],
   "source": [
    "# deux instances \n",
    "p1 = Point1(2, 3)\n",
    "p2 = Point1(3, 4)\n",
    "\n",
    "# bien qu'ils soient mutables, on peut les mettre dans un ensemble\n",
    "s = {p1, p2}"
   ]
  },
  {
   "cell_type": "markdown",
   "metadata": {},
   "source": [
    "Mais par contre soyez attentifs, car il faut savoir que pour la classe `Point1`, où nous n'avons rien redéfini, la fonction de hachage sur une instance de `Point1` ne dépend que de la valeur de `id()` sur cet objet.\n",
    "\n",
    "Ce qui, dit autrement, signifie que deux objets qui sont distincts au sens de `id()` sont considérés comme différents, et donc peuvent coexister dans un ensemble, ou dans un dictionnaire, ce qui n'est pas forcément ce qu'on veut :"
   ]
  },
  {
   "cell_type": "code",
   "execution_count": null,
   "metadata": {},
   "outputs": [],
   "source": [
    "# un point similaire à p1\n",
    "p0 = Point1(2, 3)\n",
    "# nos deux objets se ressemblent\n",
    "p0, p1"
   ]
  },
  {
   "cell_type": "code",
   "execution_count": null,
   "metadata": {},
   "outputs": [],
   "source": [
    "# mais peuvent coexister dans un ensemble\n",
    "{ p0, p1 }"
   ]
  },
  {
   "cell_type": "markdown",
   "metadata": {},
   "source": [
    "### `__hash__` et `__eq__` "
   ]
  },
  {
   "cell_type": "markdown",
   "metadata": {},
   "source": [
    "Le protocole hashable permet de pallier cette déficience ; pour cela il nous faut définir deux méthodes :\n",
    "\n",
    "* `__eq__` qui, sans grande surprise, va servir à évaluer `p == q` ;\n",
    "* `__hash__` qui va retourner la clé de hachage sur un objet.\n",
    "\n",
    "La subtilité étant bien entendu que ces deux méthodes doivent être cohérentes, si deux objets sont égaux, il faut que leurs hashs soient égaux ; de bon sens, si l'égalité se base sur nos deux attributs `x` et `y`, il faudra bien entendu que la fonction de hachage utilise elle aussi ces deux attributs. Voir la documentation de [`__hash__`](https://docs.python.org/3/reference/datamodel.html?highlight=__hash__#object.__hash__)."
   ]
  },
  {
   "cell_type": "markdown",
   "metadata": {},
   "source": [
    "Voyons cela sur une sous-classe de `Point1`, dans laquelle nous définissons ces deux méthodes :"
   ]
  },
  {
   "cell_type": "code",
   "execution_count": null,
   "metadata": {},
   "outputs": [],
   "source": [
    "class Point2(Point1):\n",
    "\n",
    "    # l'égalité va se baser naturellement sur x et y\n",
    "    def __eq__(self, other):\n",
    "        return self.x == other.x and self.y == other.y\n",
    "\n",
    "    # du coup la fonction de hachage \n",
    "    # dépend aussi de x et de y\n",
    "    def __hash__(self):\n",
    "        return (11 * self.x + self.y) // 16"
   ]
  },
  {
   "cell_type": "markdown",
   "metadata": {},
   "source": [
    "On peut vérifier que cette fois les choses fonctionnent correctement :"
   ]
  },
  {
   "cell_type": "code",
   "execution_count": null,
   "metadata": {
    "collapsed": true
   },
   "outputs": [],
   "source": [
    "q0 = Point2(2, 3)\n",
    "q1 = Point2(2, 3)"
   ]
  },
  {
   "cell_type": "markdown",
   "metadata": {
    "collapsed": true
   },
   "source": [
    "nos deux objets sont distincts pour is() mais égaux pour == :"
   ]
  },
  {
   "cell_type": "code",
   "execution_count": null,
   "metadata": {},
   "outputs": [],
   "source": [
    "print(f\"is → {q0 is q1} \\n== → {q0 == q1}\")"
   ]
  },
  {
   "cell_type": "markdown",
   "metadata": {
    "collapsed": true
   },
   "source": [
    "et un ensemble contenant les deux points n'en contient qu'un :"
   ]
  },
  {
   "cell_type": "code",
   "execution_count": null,
   "metadata": {},
   "outputs": [],
   "source": [
    "{q0, q1}"
   ]
  },
  {
   "cell_type": "code",
   "execution_count": null,
   "metadata": {},
   "outputs": [],
   "source": [
    "# et bien sûr c'est pareil pour un dictionnaire\n",
    "d = {}\n",
    "d[q0] = 1\n",
    "# les deux clés q0 et q1 sont les mêmes pour le dictionnaire\n",
    "# du coup ici on écrase la (seule) valeur dans d\n",
    "d[q1] = 10000\n",
    "d"
   ]
  }
 ],
 "metadata": {
  "kernelspec": {
   "display_name": "Python 3",
   "language": "python",
   "name": "python3"
  },
  "language_info": {
   "codemirror_mode": {
    "name": "ipython",
    "version": 3
   },
   "file_extension": ".py",
   "mimetype": "text/x-python",
   "name": "python",
   "nbconvert_exporter": "python",
   "pygments_lexer": "ipython3",
   "version": "3.6.3"
  },
  "livereveal": {
   "auto_select": "code",
   "auto_select_fragment": true,
   "autolaunch": false,
   "backimage": "media/nologo.png",
   "height": "100%",
   "slideNumber": "c",
   "start_slideshow_at": "selected",
   "theme": "simple",
   "transition": "fade",
   "width": "100%"
  },
  "notebookname": "instances mutables",
  "version": "3.0"
 },
 "nbformat": 4,
 "nbformat_minor": 2
}
