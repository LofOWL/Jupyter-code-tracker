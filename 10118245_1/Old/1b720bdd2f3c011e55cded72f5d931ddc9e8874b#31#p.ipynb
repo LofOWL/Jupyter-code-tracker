{
 "metadata": {
  "kernelspec": {
   "display_name": "Python 2", 
   "language": "python", 
   "name": "python2"
  }, 
  "name": "", 
  "notebookname": "Tri de listes (2)", 
  "version": "2.0"
 }, 
 "nbformat": 2, 
 "nbformat_minor": 0, 
 "orig_nbformat": 4, 
 "orig_nbformat_minor": 0, 
 "worksheets": [
  {
   "cells": [
    {
     "cell_type": "markdown", 
     "metadata": {}, 
     "source": [
      "<span style=\"float:left;\">Licence CC BY-NC-ND</span><span style=\"float:right;\">Thierry Parmentelat &amp; Arnaud Legout,<img src=\"media/inria-25.png\" style=\"display:inline\"></span><br/>"
     ]
    }, 
    {
     "cell_type": "markdown", 
     "metadata": {}, 
     "source": [
      "# Tri de listes : deuxi\u00e8me partie"
     ]
    }, 
    {
     "cell_type": "markdown", 
     "metadata": {}, 
     "source": [
      "## Compl\u00e9ment - niveau interm\u00e9diaire"
     ]
    }, 
    {
     "cell_type": "markdown", 
     "metadata": {}, 
     "source": [
      "Nous avons vu pr\u00e9c\u00e9demment comment faire le tri simple d'une liste, en utilisant \u00e9ventuellement le param\u00e8tre `reverse` de la m\u00e9thode `sort` sur les listes. Maintenant que nous sommes familiers avec la notion de fonction, nous pouvons approfondir ce sujet."
     ]
    }, 
    {
     "cell_type": "markdown", 
     "metadata": {}, 
     "source": [
      "### Cas g\u00e9n\u00e9ral"
     ]
    }, 
    {
     "cell_type": "markdown", 
     "metadata": {}, 
     "source": [
      "Dans le cas g\u00e9n\u00e9ral, on est souvent amen\u00e9 \u00e0 trier des objets selon un crit\u00e8re propre \u00e0 l'application. Imaginons par exemple que l'on dispose d'une liste de tuples \u00e0 deux \u00e9l\u00e9ments, dont le premier est la latitude et le second la longitude"
     ]
    }, 
    {
     "cell_type": "code", 
     "collapsed": false, 
     "input": [
      "coordonnees = [(43, 7), (46, -7), (46, 0)]"
     ], 
     "language": "python", 
     "metadata": {}, 
     "outputs": [], 
     "prompt_number": null
    }, 
    {
     "cell_type": "markdown", 
     "metadata": {}, 
     "source": [
      "Il est possible d'utiliser la m\u00e9thode `sort` pour faire cela, mais il va falloir l'aider un peu plus, et lui expliquer comment comparer deux \u00e9l\u00e9ments de la liste.", 
      "", 
      "Voyons comment on pourrait proc\u00e9der pour trier par longitude"
     ]
    }, 
    {
     "cell_type": "code", 
     "collapsed": false, 
     "input": [
      "def longitude(element): ", 
      "    return element[1]", 
      "", 
      "coordonnees.sort(key=longitude)", 
      "print \"coordonn\u00e9es tri\u00e9es par longitude\", coordonnees"
     ], 
     "language": "python", 
     "metadata": {}, 
     "outputs": [], 
     "prompt_number": null
    }, 
    {
     "cell_type": "markdown", 
     "metadata": {}, 
     "source": [
      "Comme on le devine, le proc\u00e9d\u00e9 ici consiste \u00e0 indiquer \u00e0 `sort` comment calculer, \u00e0 partir de chaque \u00e9l\u00e9ment, une valeur num\u00e9rique qui sert de base au tri. ", 
      "", 
      "Pour cela on passe \u00e0 la m\u00e9thode `sort` un argument `key` qui d\u00e9signe une fonction, qui lorsqu'elle est appliqu\u00e9e \u00e0 un \u00e9l\u00e9ment de la liste, retourne la valeur qui doit servir de base au tri: dans notre exemple, la fonction `longitude`, qui renvoie le second \u00e9l\u00e9ment du tuple."
     ]
    }, 
    {
     "cell_type": "markdown", 
     "metadata": {}, 
     "source": [
      "### Fonction de commodit\u00e9 : `sorted`"
     ]
    }, 
    {
     "cell_type": "markdown", 
     "metadata": {}, 
     "source": [
      "On a vu que `sort` r\u00e9alise le tri de la liste \"en place\". Pour les cas ou une copie est n\u00e9cessaire, python fournit \u00e9galement une fonction de commodit\u00e9, qui permet pr\u00e9cis\u00e9ment de renvoyer la copie tri\u00e9e d'une liste d'entr\u00e9e. Cette fonction est baptis\u00e9e `sorted`, elle s'utilise par exemple comme ceci, sachant que les arguments `reverse` et `key` peuvent \u00eatre mentionn\u00e9s comme avec `sort`"
     ]
    }, 
    {
     "cell_type": "code", 
     "collapsed": false, 
     "input": [
      "liste = [8, 7, 4, 3, 2, 9, 1, 5, 6]", 
      "triee = sorted(liste, reverse=True)", 
      "print 'liste tri\u00e9e tri', triee", 
      "print 'la liste initiale est intacte', liste"
     ], 
     "language": "python", 
     "metadata": {}, 
     "outputs": [], 
     "prompt_number": null
    }, 
    {
     "cell_type": "markdown", 
     "metadata": {}, 
     "source": [
      "Nous avons qualifi\u00e9 `sorted` de fonction de commodit\u00e9 car il est tr\u00e8s facile de s'en passer; en effet on aurait pu \u00e9crire \u00e0 la place du fragment pr\u00e9c\u00e9dent:"
     ]
    }, 
    {
     "cell_type": "code", 
     "collapsed": false, 
     "input": [
      "liste = [8, 7, 4, 3, 2, 9, 1, 5, 6]", 
      "triee = liste[:]", 
      "triee.sort(reverse=True)", 
      "print 'liste tri\u00e9e tri', triee", 
      "print 'la liste initiale est intacte', liste"
     ], 
     "language": "python", 
     "metadata": {}, 
     "outputs": [], 
     "prompt_number": null
    }, 
    {
     "cell_type": "markdown", 
     "metadata": {}, 
     "source": [
      "### Pour en savoir plus"
     ]
    }, 
    {
     "cell_type": "markdown", 
     "metadata": {}, 
     "source": [
      "Pour avoir plus d'informations sur `sort` et `sorted` vous pouvez [lire cette section de la documentation python sur le tri.](https://docs.python.org/2.7/howto/sorting.html)"
     ]
    }
   ], 
   "metadata": {}
  }
 ]
}
