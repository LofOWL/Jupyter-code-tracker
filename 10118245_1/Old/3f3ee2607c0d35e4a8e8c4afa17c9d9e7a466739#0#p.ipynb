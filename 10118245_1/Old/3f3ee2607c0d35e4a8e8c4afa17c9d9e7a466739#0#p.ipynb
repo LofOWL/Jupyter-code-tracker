{
 "metadata": {
  "notebookname": "H\u00e9ritage, typage",
  "signature": "sha256:2f6a5e7e005421eea4b06249749255432afd33791e68287d696dbcdf4a7eabd6",
  "version": "1.0"
 },
 "nbformat": 3,
 "nbformat_minor": 0,
 "worksheets": [
  {
   "cells": [
    {
     "cell_type": "heading",
     "level": 1,
     "metadata": {},
     "source": [
      "H\u00e9ritage, typage"
     ]
    },
    {
     "cell_type": "heading",
     "level": 2,
     "metadata": {},
     "source": [
      "Compl\u00e9ment - niveau interm\u00e9diaire"
     ]
    },
    {
     "cell_type": "heading",
     "level": 3,
     "metadata": {},
     "source": [
      "\u00c0 quoi l'h\u00e9ritage **ne sert pas** en python"
     ]
    },
    {
     "cell_type": "markdown",
     "metadata": {},
     "source": [
      "nous discuterons ensuite de ce pour quoi l'h\u00e9ritage **n'est pas fait** en python, une section qui peut \u00eatre b\u00e9n\u00e9fique aux gens d\u00e9j\u00e0 habitu\u00e9s \u00e0 C++ ou \u00e0 Java;"
     ]
    },
    {
     "cell_type": "heading",
     "level": 5,
     "metadata": {},
     "source": [
      "Familles de classe / typage"
     ]
    },
    {
     "cell_type": "markdown",
     "metadata": {},
     "source": [
      "Si vous \u00eates familiers avec un langage statiquement typ\u00e9 comme C++, vous \u00eates sans doute habitu\u00e9s \u00e0 appr\u00e9hender l'h\u00e9ritage *aussi* en terme de types. \n",
      "\n",
      "Commen\u00e7ons avec un exemple simple et classique. Imaginons que l'on veuille \u00e9crire un analyseur syntaxique pour un langage simple d'expressions arithm\u00e9tiques. En pratique cela voudra dire disposer d'un parser pour transformer un texte comme\n",
      "\n",
      "    (10 + 12) * (32 + 5)\n",
      "    \n",
      "en un arbre syntaxique construit avec les op\u00e9rateurs `Entier`, `Plus`, `Fois`, chacun repr\u00e9sent\u00e9 comme une classe; pour ce texte on obtiendrait donc l'objet\n",
      "\n",
      "    Fois(Plus(Entier(10), Entier(12)), Plus(Entier(32), Entier(5)))"
     ]
    },
    {
     "cell_type": "heading",
     "level": 6,
     "metadata": {},
     "source": [
      "En C++"
     ]
    },
    {
     "cell_type": "markdown",
     "metadata": {},
     "source": [
      "Avec un langage comme C++ \u00e0 nouveau, pour impl\u00e9menter ceci, on va avoir tendance \u00e0 d\u00e9finir un **type chapeau** qu'on appelle par exemple `Expression`, et on va concevoir un arbre d'h\u00e9ritage du genre de&nbsp;:\n",
      "\n",
      "    Expression\n",
      "    |-- Entier\n",
      "    |-- Plus\n",
      "    |-- Fois\n",
      "\n",
      "On n'a **pas vraiment le choix de le faire ou non**; en effet, il faut pour satisfaire le compilateur et surtout le type-checker statique, pouvoir **donner un type** \u00e0 une fonctionnalit\u00e9 qui ferait l'\u00e9valuation d'une telle expression. "
     ]
    },
    {
     "cell_type": "raw",
     "metadata": {},
     "source": [
      "class Expression {\n",
      "  public:\n",
      "    virtual int evaluate ()=0;\n",
      "}"
     ]
    },
    {
     "cell_type": "markdown",
     "metadata": {},
     "source": [
      "Ce faisant on indique aussi que toutes les classes filles **doivent** impl\u00e9menter la m\u00e9thode en question, ce que le type-checker statique v\u00e9rifiera \u00e9galement."
     ]
    },
    {
     "cell_type": "heading",
     "level": 6,
     "metadata": {},
     "source": [
      "En python"
     ]
    },
    {
     "cell_type": "markdown",
     "metadata": {},
     "source": [
      "En python, pour r\u00e9soudre ce probl\u00e8me, on **peut** naturellement d\u00e9finir la m\u00eame hi\u00e9rarchie de classes. Cependant si on le fait on s'aper\u00e7oit que le gain est somme toute tr\u00e8s faible."
     ]
    },
    {
     "cell_type": "code",
     "collapsed": false,
     "input": [
      "xxxx"
     ],
     "language": "python",
     "metadata": {},
     "outputs": []
    }
   ],
   "metadata": {}
  }
 ]
}