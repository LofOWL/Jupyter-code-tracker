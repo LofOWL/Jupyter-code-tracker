{
 "metadata": {
  "notebookname": "globals et locals",
  "signature": "bf993dc072994654377cb99901cab7d9a7703c56228548115aaf18c49b85ff48",
  "version": "1.0"
 },
 "nbformat": 3,
 "nbformat_minor": 0,
 "worksheets": [
  {
   "cells": [
    {
     "cell_type": "heading",
     "level": 1,
     "metadata": {},
     "source": [
      "Les fonctions `globals` et `locals`"
     ]
    },
    {
     "cell_type": "heading",
     "level": 2,
     "metadata": {},
     "source": [
      "Compl\u00e9ment - niveau interm\u00e9diaire"
     ]
    },
    {
     "cell_type": "heading",
     "level": 3,
     "metadata": {},
     "source": [
      "Un exemple"
     ]
    },
    {
     "cell_type": "markdown",
     "metadata": {},
     "source": [
      "python fournit un acc\u00e8s \u00e0 la liste des noms et valeurs des variables visibles \u00e0 cet endroit du code. Dans le jargon des langages de programmation on appelle ceci **l'environnement**.\n",
      "\n",
      "Cela est fait gr\u00e2ce aux fonctions *builtin* `globals` et `locals`, que nous allons commencer par essayer sur quelques exemples. Nous avons pour cela \u00e9crit un module d\u00e9di\u00e9:"
     ]
    },
    {
     "cell_type": "code",
     "collapsed": false,
     "input": [
      "import locals_globals"
     ],
     "language": "python",
     "metadata": {},
     "outputs": []
    },
    {
     "cell_type": "markdown",
     "metadata": {},
     "source": [
      "-----\n",
      "\n",
      "Dont voici le code"
     ]
    },
    {
     "cell_type": "code",
     "collapsed": false,
     "input": [
      "from modtools import show_module\n",
      "show_module (locals_globals)"
     ],
     "language": "python",
     "metadata": {},
     "outputs": []
    },
    {
     "cell_type": "markdown",
     "metadata": {},
     "source": [
      "-----\n",
      "\n",
      "et voici ce qu'on obtient lorsqu'on appelle "
     ]
    },
    {
     "cell_type": "code",
     "collapsed": false,
     "input": [
      "locals_globals.temoin (10,20)"
     ],
     "language": "python",
     "metadata": {},
     "outputs": []
    },
    {
     "cell_type": "heading",
     "level": 3,
     "metadata": {},
     "source": [
      "Interpr\u00e9tation"
     ]
    },
    {
     "cell_type": "markdown",
     "metadata": {},
     "source": [
      "Que nous montre cet exemple ?\n",
      "\n",
      "D'une part la fonction **`globals`** nous donne la liste des symboles d\u00e9finis au niveau de **l'espace de nom du module**. Il s'agit \u00e9videmment du module dans lequel est d\u00e9finie la fonction, pas celui dans lequel elle est appel\u00e9e. Vous remarquerez que ceci englobe **tous** les symboles du modules et non pas seulement ceux d\u00e9finis avant `temoin`, c'est-\u00e0-dire la variable `globale`, les deux fonctions, et la classe `Foo`. \n",
      "\n",
      "D'autre part **`locals`** nous donne les variables locales qui sont accessibles **\u00e0 cet endroit du code**, comme le montre ce second exemple qui se concentre sur `locals` \u00e0 diff\u00e9rents points d'une m\u00eame fonction. "
     ]
    },
    {
     "cell_type": "code",
     "collapsed": false,
     "input": [
      "# ce n'est pas une bonne id\u00e9e d'appeler un module 'locals' \n",
      "# car cela 'cache' la fonction du m\u00eame nom, dont nous aurons\n",
      "# encore besoin plus bas\n",
      "# mais \u00e7a nous permet d'illustrer un 'import .. as ..' \n",
      "import locals as locals_module\n",
      "\n",
      "# le code de ce module \n",
      "show_module (locals_module)"
     ],
     "language": "python",
     "metadata": {},
     "outputs": []
    },
    {
     "cell_type": "code",
     "collapsed": false,
     "input": [
      "locals_module.temoin(10)"
     ],
     "language": "python",
     "metadata": {},
     "outputs": []
    },
    {
     "cell_type": "heading",
     "level": 3,
     "metadata": {},
     "source": [
      "Usage"
     ]
    },
    {
     "cell_type": "markdown",
     "metadata": {},
     "source": [
      "Ces deux fonctions ne sont pas d'une utilisation tr\u00e8s fr\u00e9quente, \u00e0 part dans un but p\u00e9dagogique. Il existe toutefois une utisation relativement r\u00e9pandue de `locals` dans du vieux code qui utilise le formattage de cha\u00eenes de caract\u00e8res \u00e0 base de l'op\u00e9rateur `%`, comme en voici un exemple"
     ]
    },
    {
     "cell_type": "code",
     "collapsed": false,
     "input": [
      "# une utilisation relativement commune de locals()\n",
      "\n",
      "def formatage_avec_locals (nom, prenom, civilite, telephone):\n",
      "    return \"%(civilite)s %(prenom)s %(nom)s : Poste %(telephone)s\"%locals()\n",
      "\n",
      "formatage_avec_locals ('Dupont', 'Jean', 'Mr', '7748')"
     ],
     "language": "python",
     "metadata": {},
     "outputs": []
    }
   ],
   "metadata": {}
  }
 ]
}