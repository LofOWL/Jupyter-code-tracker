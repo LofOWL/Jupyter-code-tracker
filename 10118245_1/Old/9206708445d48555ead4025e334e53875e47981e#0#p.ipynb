{
 "metadata": {
  "notebookname": "La boucle `while`",
  "signature": "7e661dd551a4095924bb32d952236873d002ac4072d1470240f7a2af2a923c6e",
  "version": "1.0"
 },
 "nbformat": 3,
 "nbformat_minor": 0,
 "worksheets": [
  {
   "cells": [
    {
     "cell_type": "heading",
     "level": 1,
     "metadata": {},
     "source": [
      "La boucle `while`"
     ]
    },
    {
     "cell_type": "heading",
     "level": 2,
     "metadata": {},
     "source": [
      "Compl\u00e9ment - niveau basique"
     ]
    },
    {
     "cell_type": "heading",
     "level": 3,
     "metadata": {},
     "source": [
      "Boucles sans fin - `break`\n"
     ]
    },
    {
     "cell_type": "markdown",
     "metadata": {},
     "source": [
      "Utiliser `while` plut\u00f4t que `for` est une affaire de style et d'habitude. Cela dit avec l'apparition des it\u00e9rateurs, l'usage du `for` est en g\u00e9n\u00e9ral privil\u00e9gi\u00e9 pour les boucles finies et d\u00e9terministes.\n",
      "\n",
      "Le `while` reste malgr\u00e9 tout d'un usage courant avec une condition `True`, conjointement avec `break` (qui fonctionne, au m\u00eame titre d'ailleurs que `continue`, \u00e0 l'int\u00e9rieur d'une boucle `while` exactement comme dans un `for`)"
     ]
    },
    {
     "cell_type": "code",
     "collapsed": false,
     "input": [
      "# on demande \u00e0 l'utilisateur d'entrer une reponse,\n",
      "# mais on veut \u00eatre s\u00fbr que ce soit 'o' ou 'n'\n",
      "while True:\n",
      "    reponse = raw_input (\"r\u00e9pondez par 'o' ou par 'n' : \")\n",
      "    if reponse in ['o','n']:\n",
      "        break\n",
      "print 'reponse',reponse\n"
     ],
     "language": "python",
     "metadata": {},
     "outputs": []
    },
    {
     "cell_type": "markdown",
     "metadata": {},
     "source": [
      "Ce qui en l'occurrence pourrait s'\u00e9crire aussi:"
     ]
    },
    {
     "cell_type": "code",
     "collapsed": false,
     "input": [
      "# pareil mais \u00e9crit autrement\n",
      "reponse=\"\"\n",
      "while reponse not in ['o', 'n'] :\n",
      "    reponse = raw_input (\"r\u00e9pondez par 'o' ou par 'n' : \")\n",
      "print 'reponse',reponse"
     ],
     "language": "python",
     "metadata": {},
     "outputs": []
    },
    {
     "cell_type": "markdown",
     "metadata": {},
     "source": [
      "Ici encore, question de go\u00fbt. "
     ]
    },
    {
     "cell_type": "heading",
     "level": 3,
     "metadata": {},
     "source": [
      "Un autre exemple"
     ]
    },
    {
     "cell_type": "markdown",
     "metadata": {},
     "source": [
      "Un autre exemple de cas o\u00f9 l'instruction `while` n'est pas facilement remplac\u00e9e par une boucle `for` nous est donn\u00e9 avec l'algorithme d'Euclide pour calculer le PGCD de deux entiers. Et il n'est pas facile non plus de se passer du `break` dans ce cas-l\u00e0:"
     ]
    },
    {
     "cell_type": "code",
     "collapsed": false,
     "input": [
      "def pgcd (a,b):\n",
      "    \"le pgcd de a et b par l'algorithme d'Euclide\"\n",
      "    # on suppose que a >= b, il faut inverser sinon\n",
      "    if b > a : \n",
      "        a,b = b,a\n",
      "    while True:\n",
      "        r = a % b\n",
      "        if r == 0:\n",
      "            return b\n",
      "        a,b = b,r\n",
      "\n",
      "pgcd (1944, 18432)        "
     ],
     "language": "python",
     "metadata": {},
     "outputs": []
    },
    {
     "cell_type": "heading",
     "level": 3,
     "metadata": {},
     "source": [
      "Rappel sur les conditions"
     ]
    },
    {
     "cell_type": "markdown",
     "metadata": {},
     "source": [
      "On peut utiliser dans une boucle `while` toutes les formes de conditions que l'on avait vues \u00e0 l'occasion de l'instruction `if`.\n",
      "\n",
      "Dans le contexte de la boucle `while` on comprend mieux, toutefois, pourquoi le langage autorise d'\u00e9crire des conditions dont le r\u00e9sultat n'est **pas n\u00e9cessairement un bool\u00e9en**. Voyons cela sur un exemple simple:"
     ]
    },
    {
     "cell_type": "code",
     "collapsed": false,
     "input": [
      "# une autre fa\u00e7on de parcourir une liste\n",
      "liste = [ 'a', 'b', 'c' ]\n",
      "while liste:\n",
      "    element = liste.pop()\n",
      "    print element"
     ],
     "language": "python",
     "metadata": {},
     "outputs": []
    },
    {
     "cell_type": "markdown",
     "metadata": {},
     "source": [
      "Il peut \u00eatre int\u00e9ressant de comparer ce code avec ce qu'on obtiendrait avec une simple boucle `for`.\n",
      "\n",
      " * Une premi\u00e8re diff\u00e9rence est qu'avec `while` on pourrait facilement traiter les \u00e9l\u00e9ments de la liste deux par deux si cela faisait du sens dans le contexte.\n",
      "\n",
      " * On voit aussi tout de suite que les \u00e9l\u00e9ments sont trait\u00e9s en sens inverse; il faut savoir qu'avec le type `list` l'op\u00e9ration `pop()` est tr\u00e8s efficace - elle fonctionne en temps constant. Aussi la boucle `while` peut-\u00eatre plus efficace, pour traiter une liste en sens inverse.\n",
      " \n",
      " * Mais contrairement \u00e0 une boucel `for` cette forme est intrusive, en ce sens que bien s\u00fbr la liste est modifi\u00e9e; alors que, on le rappelle, \u00e0 l'int\u00e9rieur d'une boucle `for` on ne **peut pas** modifier l'objet de la boucle."
     ]
    },
    {
     "cell_type": "heading",
     "level": 3,
     "metadata": {},
     "source": [
      "Une curiosit\u00e9 : la clause `else`"
     ]
    },
    {
     "cell_type": "markdown",
     "metadata": {},
     "source": [
      "Signalons enfin que la boucle `while` - au m\u00eame titre d'ailleurs que la boucle `for`, peut \u00eatre assortie [d'une clause `else`](https://docs.python.org/2/reference/compound_stmts.html#the-while-statement), qui est ex\u00e9cut\u00e9e \u00e0 la fin de la boucle, sauf dans le cas d'une sortie avec `break`."
     ]
    },
    {
     "cell_type": "code",
     "collapsed": false,
     "input": [
      "# Un exemple de `else` dans un while\n",
      "\n",
      "def scan (liste, break_mode):\n",
      "    # si break_mode est vrai on va faire un break apr\u00e8s le premier \u00e9l\u00e9ment de la liste\n",
      "    message = \"avec\" if break_mode else \"sans\"\n",
      "    print 20*'-',\"Scan {} break\".format(message)\n",
      "    while liste:\n",
      "        print liste.pop()\n",
      "        if break_mode:\n",
      "            break\n",
      "    else:\n",
      "        print 'else...'\n",
      "\n",
      "        \n",
      "scan(['a'], False)\n",
      "\n",
      "scan(['a'], True)\n"
     ],
     "language": "python",
     "metadata": {},
     "outputs": []
    },
    {
     "cell_type": "markdown",
     "metadata": {},
     "source": [
      "Ce trait est toutefois **tr\u00e8s rarement** utilis\u00e9."
     ]
    }
   ],
   "metadata": {}
  }
 ]
}