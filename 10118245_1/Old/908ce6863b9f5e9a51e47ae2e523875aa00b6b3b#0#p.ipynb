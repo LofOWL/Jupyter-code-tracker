{
 "metadata": {
  "name": "",
  "signature": "sha256:84ad1f54543aa9c534e8e654042620b88b9a72ef2bf0902b245f21f47c563c0b"
 },
 "nbformat": 3,
 "nbformat_minor": 0,
 "worksheets": [
  {
   "cells": [
    {
     "cell_type": "heading",
     "level": 1,
     "metadata": {},
     "source": [
      "Le fonctions avec valeur de retour"
     ]
    },
    {
     "cell_type": "heading",
     "level": 3,
     "metadata": {},
     "source": [
      "Le style proc\u00e9dural"
     ]
    },
    {
     "cell_type": "markdown",
     "metadata": {},
     "source": [
      "La vid\u00e9o a introduit une fonction simple qui se contente de d\u00e9rouler des instructions. Reprenons un autre exemple d'une telle fonction"
     ]
    },
    {
     "cell_type": "code",
     "collapsed": false,
     "input": [
      "def affiche_carre (n):\n",
      "    print \"le carre de\",n,\"vaut\",n*n"
     ],
     "language": "python",
     "metadata": {},
     "outputs": [],
     "prompt_number": 39
    },
    {
     "cell_type": "markdown",
     "metadata": {},
     "source": [
      "qui s'utiliserait comme ceci"
     ]
    },
    {
     "cell_type": "code",
     "collapsed": false,
     "input": [
      "affiche_carre (12)"
     ],
     "language": "python",
     "metadata": {},
     "outputs": [
      {
       "output_type": "stream",
       "stream": "stdout",
       "text": [
        "le carre de 12 vaut 144\n"
       ]
      }
     ],
     "prompt_number": 40
    },
    {
     "cell_type": "heading",
     "level": 3,
     "metadata": {},
     "source": [
      "Le style fonctionnel"
     ]
    },
    {
     "cell_type": "markdown",
     "metadata": {},
     "source": [
      "Cependant nous avons vu plusieurs fonctions \"builtin\", comme par exemple \"len\", dont on peut utiliser la valeur de retour, c'est \u00e0 dire qu'on peut ecrire"
     ]
    },
    {
     "cell_type": "code",
     "collapsed": false,
     "input": [
      "longueur = len ( [1,2,3] )"
     ],
     "language": "python",
     "metadata": {},
     "outputs": [],
     "prompt_number": 41
    },
    {
     "cell_type": "markdown",
     "metadata": {},
     "source": [
      "Il serait dans notre cas beaucoup plus commode de d\u00e9finir une fonction qui $\\textbf{retourne}$ le carr\u00e9 d'un nombre, afin de pouvoir \u00e9crire quelque chose comme"
     ]
    },
    {
     "cell_type": "raw",
     "metadata": {},
     "source": [
      "carre15 = carre(15)"
     ]
    },
    {
     "cell_type": "markdown",
     "metadata": {},
     "source": [
      "quitte \u00e0 imprimer cette valeur ensuite si n\u00e9cessaire - m\u00eame si jusqu'ici nous avons fait beaucoup appel \u00e0 $\\texttt{print}$, dans la pratique, imprimer n'est pas un but en soi, au contraire bien souvent."
     ]
    },
    {
     "cell_type": "heading",
     "level": 3,
     "metadata": {},
     "source": [
      "L'instruction $\\texttt{return}$"
     ]
    },
    {
     "cell_type": "markdown",
     "metadata": {},
     "source": [
      "Voici comment on pourrait \u00e9crire une fonction 'carre' "
     ]
    },
    {
     "cell_type": "code",
     "collapsed": false,
     "input": [
      "def carre (n):\n",
      "    return n*n\n",
      "\n",
      "if carre(8) <= 100 : print 'petit appartement'"
     ],
     "language": "python",
     "metadata": {},
     "outputs": [
      {
       "output_type": "stream",
       "stream": "stdout",
       "text": [
        "petit appartement\n"
       ]
      }
     ],
     "prompt_number": 42
    },
    {
     "cell_type": "markdown",
     "metadata": {},
     "source": [
      "La s\u00e9mantique (le mot savant pour \"comportement\") de l'instruction $\\texttt{return}$ est assez simple. La fonction qui est en cours d'ex\u00e9cution s'ach\u00e8ve tout de suite, et l'objet pass\u00e9 en argument \u00e0 return est .. retourn\u00e9 \u00e0 l'appelant, qui peut utiliser cette valeur comme n'importe quelle expression. "
     ]
    },
    {
     "cell_type": "heading",
     "level": 3,
     "metadata": {},
     "source": [
      "Le singleton $\\texttt{None}$"
     ]
    },
    {
     "cell_type": "markdown",
     "metadata": {},
     "source": [
      "Le terme m\u00eame de fonction, si vous vous rappelez vos souvenirs de math\u00e9matiques, sugg\u00e8re qu'on calcule un r\u00e9sultat \u00e0 partir de valeurs d'entr\u00e9e. C'est pourquoi en python une fonction a toujours une valeur de retour, et dans la pratique il est extr\u00eamement rare qu'on d\u00e9finisse une fonction qui ne retourne rien."
     ]
    },
    {
     "cell_type": "markdown",
     "metadata": {},
     "source": [
      "En fait $\\textbf{toutes}$ les fonctions retournent quelque chose. Lorsque le programmeur n'a pas pr\u00e9vu d'instruction $\\texttt{return}$, python utilise un objet sp\u00e9cial, baptis\u00e9 $\\texttt{None}$. Voici par exemple ce qu'on obtient si on essaie d'afficher la valeur de retour de notre premi\u00e8re fonction, qui ne retourne rien"
     ]
    },
    {
     "cell_type": "code",
     "collapsed": false,
     "input": [
      "carre15 = affiche_carre(15)\n",
      "print 'carre15=', carre15"
     ],
     "language": "python",
     "metadata": {},
     "outputs": [
      {
       "output_type": "stream",
       "stream": "stdout",
       "text": [
        "le carre de 15 vaut 225\n",
        "carre15= None\n"
       ]
      }
     ],
     "prompt_number": 45
    },
    {
     "cell_type": "markdown",
     "metadata": {},
     "source": [
      "Ceci est notre premi\u00e8re rencontre avec l'objet \"None\", qui est un singleton pr\u00e9d\u00e9fini par python, un peu comme $\\texttt{True}$ et $\\texttt{False}$. Ce n'est pas par contre une valeur bool\u00e9enne, nous auraons l'occasion d'en reparler."
     ]
    }
   ],
   "metadata": {}
  }
 ]
}