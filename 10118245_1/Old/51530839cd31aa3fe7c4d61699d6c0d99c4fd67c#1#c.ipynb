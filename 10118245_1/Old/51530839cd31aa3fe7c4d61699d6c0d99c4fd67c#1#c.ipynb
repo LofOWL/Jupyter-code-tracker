{
 "cells": [
  {
   "cell_type": "markdown",
   "metadata": {},
   "source": [
    "<span style=\"float:left;\">Licence CC BY-NC-ND</span><span style=\"float:right;\">Thierry Parmentelat &amp; Arnaud Legout&nbsp;<img src=\"media/inria-25-alpha.png\" style=\"display:inline\"></span><br/>"
   ]
  },
  {
   "cell_type": "markdown",
   "metadata": {},
   "source": [
    "# Les attributs"
   ]
  },
  {
   "cell_type": "markdown",
   "metadata": {},
   "source": [
    "## Compléments - niveau basique"
   ]
  },
  {
   "cell_type": "markdown",
   "metadata": {},
   "source": [
    "### La notation `.` et les attributs"
   ]
  },
  {
   "cell_type": "markdown",
   "metadata": {},
   "source": [
    "La notation `module.variable` que nous avons vue dans la vidéo est un cas particulier de la notion d'attribut, qui permet d'étendre un objet, ou si on préfère de lui accrocher des annotations.\n",
    "\n",
    "Nous avons déjà rencontré ceci plusieurs fois, c'est exactement le même mécanisme d'attribut qui est utilisé également pour les méthodes; pour le système d'attribut il n'y a pas de différence entre `module.variable`, `module.fonction`, `objet.methode`, etc.. \n",
    "\n",
    "Nous verrons très bientôt que ce mécanisme est massivement utilisé également dans les instances de classe."
   ]
  },
  {
   "cell_type": "markdown",
   "metadata": {},
   "source": [
    "### Les fonctions de gestion des attributs"
   ]
  },
  {
   "cell_type": "markdown",
   "metadata": {},
   "source": [
    "Pour accéder programmativement aux attributs d'un objet, on dispose des 3 fonctions *builtin* `getattr`, `setattr`, et `hasattr`, que nous allons illustrer tout de suite"
   ]
  },
  {
   "cell_type": "markdown",
   "metadata": {},
   "source": [
    "##### Lire un attribut"
   ]
  },
  {
   "cell_type": "code",
   "execution_count": 1,
   "metadata": {},
   "outputs": [
    {
     "data": {
      "text/plain": [
       "3.141592653589793"
      ]
     },
     "execution_count": 1,
     "metadata": {},
     "output_type": "execute_result"
    }
   ],
   "source": [
    "import math\n",
    "# la forme la plus simple\n",
    "math.pi"
   ]
  },
  {
   "cell_type": "markdown",
   "metadata": {},
   "source": [
    "La [fonction *builtin* `getattr`](https://docs.python.org/3/library/functions.html#getattr) permet de lire un attribut programmativement:"
   ]
  },
  {
   "cell_type": "code",
   "execution_count": 2,
   "metadata": {},
   "outputs": [
    {
     "data": {
      "text/plain": [
       "3.141592653589793"
      ]
     },
     "execution_count": 2,
     "metadata": {},
     "output_type": "execute_result"
    }
   ],
   "source": [
    "# si on part d'une chaîne qui désigne le nom de l'attribut\n",
    "# la formule équivalente est alors\n",
    "getattr(math, 'pi')"
   ]
  },
  {
   "cell_type": "code",
   "execution_count": 3,
   "metadata": {},
   "outputs": [
    {
     "name": "stdout",
     "output_type": "stream",
     "text": [
      "nom= foo, docstring=une fonction vide\n"
     ]
    }
   ],
   "source": [
    "# on peut utiliser les attributs avec la plupart des objets\n",
    "# ici nous allons le faire sur une fonction\n",
    "def foo() : \n",
    "    \"une fonction vide\"\n",
    "    pass\n",
    "\n",
    "# on a déjà vu certains attributs des fonctions\n",
    "print('nom= {}, docstring={}'.format(foo.__name__, foo.__doc__))"
   ]
  },
  {
   "cell_type": "code",
   "execution_count": 4,
   "metadata": {},
   "outputs": [
    {
     "data": {
      "text/plain": [
       "'valeur_par_defaut'"
      ]
     },
     "execution_count": 4,
     "metadata": {},
     "output_type": "execute_result"
    }
   ],
   "source": [
    "# on peut préciser une valeur pour défaut pour le cas où l'attribut\n",
    "# n'existe pas\n",
    "getattr(foo, \"attribut_inexistant\", 'valeur_par_defaut')"
   ]
  },
  {
   "cell_type": "markdown",
   "metadata": {},
   "source": [
    "##### Écrire un attribut"
   ]
  },
  {
   "cell_type": "code",
   "execution_count": 5,
   "metadata": {},
   "outputs": [
    {
     "data": {
      "text/plain": [
       "100"
      ]
     },
     "execution_count": 5,
     "metadata": {},
     "output_type": "execute_result"
    }
   ],
   "source": [
    "# on peut ajouter un attribut arbitraire (toujours sur l'objet fonction)\n",
    "foo.hauteur = 100\n",
    "\n",
    "foo.hauteur"
   ]
  },
  {
   "cell_type": "markdown",
   "metadata": {},
   "source": [
    "Comme pour la lecture on peut écrire un attribut programativement avec la [fonction *builtin* `setattr`](https://docs.python.org/3/library/functions.html#setattr)"
   ]
  },
  {
   "cell_type": "code",
   "execution_count": 6,
   "metadata": {},
   "outputs": [
    {
     "data": {
      "text/plain": [
       "200"
      ]
     },
     "execution_count": 6,
     "metadata": {},
     "output_type": "execute_result"
    }
   ],
   "source": [
    "# écrire un attribut avec setattr\n",
    "setattr(foo, \"largeur\", 200 )\n",
    "\n",
    "# on peut le lire indifféremment:\n",
    "# directement comme ici, ou avec getattr\n",
    "foo.largeur"
   ]
  },
  {
   "cell_type": "markdown",
   "metadata": {},
   "source": [
    "##### Liste des attributs"
   ]
  },
  {
   "cell_type": "markdown",
   "metadata": {},
   "source": [
    "La [fonction *builtin* `hasattr`](https://docs.python.org/3/library/functions.html#hasattr) permet de savoir si un objet possède ou pas un attribut:"
   ]
  },
  {
   "cell_type": "code",
   "execution_count": 7,
   "metadata": {},
   "outputs": [
    {
     "data": {
      "text/plain": [
       "True"
      ]
     },
     "execution_count": 7,
     "metadata": {},
     "output_type": "execute_result"
    }
   ],
   "source": [
    "# pour savoir si un attribut existe\n",
    "hasattr(math, 'pi')"
   ]
  },
  {
   "cell_type": "markdown",
   "metadata": {},
   "source": [
    "Ce qui peut aussi être retrouvé autrement, avec la [fonction *builtin* `vars`](https://docs.python.org/3/library/functions.html#vars)"
   ]
  },
  {
   "cell_type": "code",
   "execution_count": 8,
   "metadata": {},
   "outputs": [
    {
     "data": {
      "text/plain": [
       "{'hauteur': 100, 'largeur': 200}"
      ]
     },
     "execution_count": 8,
     "metadata": {},
     "output_type": "execute_result"
    }
   ],
   "source": [
    "vars(foo)"
   ]
  },
  {
   "cell_type": "markdown",
   "metadata": {},
   "source": [
    "### Sur quels objets"
   ]
  },
  {
   "cell_type": "markdown",
   "metadata": {},
   "source": [
    "Il n'est pas possible d'ajouter des attributs sur les types de base:"
   ]
  },
  {
   "cell_type": "code",
   "execution_count": null,
   "metadata": {
    "collapsed": true
   },
   "outputs": [],
   "source": [
    "for builtin_type in (int, str, float, complex, tuple, dict, set, frozenset):\n",
    "    obj = builtin_type()\n",
    "    try: \n",
    "        obj.foo = 'bar'\n",
    "    except AttributeError as e: \n",
    "        print(\"{:>10} → exception {}\".format(builtin_type.__name__, e))"
   ]
  },
  {
   "cell_type": "markdown",
   "metadata": {},
   "source": [
    "Il est par contre disponible sur virtuellement tout le reste, et notamment là où il est très utile, c'est-à-dire pour ce qui nous concerne:\n",
    " * modules\n",
    " * packages\n",
    " * fonctions\n",
    " * classes\n",
    " * instances"
   ]
  },
  {
   "cell_type": "markdown",
   "metadata": {},
   "source": [
    "## Compléments - niveau avancé"
   ]
  },
  {
   "cell_type": "markdown",
   "metadata": {},
   "source": [
    "Vous pouvez vous demander pourquoi il n'est pas possible d'ajouter des attributs à un objet *builtin*. Le problème n'est pas tant d'ajouter des attributs que de modifier des attributs existants. On comprend aisément que modifier un objet *builtin* risque de corrompre, d'une manière difficile à prévoir, le fonctionnement non seulement de votre programme, mais aussi de tous les modules que vous utilisez. Dit autrement, les objets *builtin* sont la base de python et si vous les modifiez, vous modifiez le fonctionnement de python. "
   ]
  },
  {
   "cell_type": "markdown",
   "metadata": {},
   "source": [
    "Pour rendre impossible la modification d'un objet *builtin*, python utilise, au lieu d'un dictionnaire classique pour son espace de nommage, un proxy à ce dictionnaire, appelé *mappingproxy* qui interdit les modifications. On rappelle que l'espace de nommage d'un objet est presque toujours référencé par l'attribut `__dict__`. Regardons alors le type de l'espace de nommage pour la fonction `foo`:"
   ]
  },
  {
   "cell_type": "code",
   "execution_count": null,
   "metadata": {
    "collapsed": true
   },
   "outputs": [],
   "source": [
    "type(foo.__dict__)"
   ]
  },
  {
   "cell_type": "markdown",
   "metadata": {},
   "source": [
    "mais le type de l'espace de nommage pour l'objet *builtin* `int` est"
   ]
  },
  {
   "cell_type": "code",
   "execution_count": null,
   "metadata": {
    "collapsed": true
   },
   "outputs": [],
   "source": [
    "type(int.__dict__)"
   ]
  }
 ],
 "metadata": {
  "kernelspec": {
   "display_name": "Python 3",
   "language": "python",
   "name": "python3"
  },
  "language_info": {
   "codemirror_mode": {
    "name": "ipython",
    "version": 3
   },
   "file_extension": ".py",
   "mimetype": "text/x-python",
   "name": "python",
   "nbconvert_exporter": "python",
   "pygments_lexer": "ipython3",
   "version": "3.6.2"
  },
  "notebookname": "Les attributs",
  "version": "3.0"
 },
 "nbformat": 4,
 "nbformat_minor": 1
}
