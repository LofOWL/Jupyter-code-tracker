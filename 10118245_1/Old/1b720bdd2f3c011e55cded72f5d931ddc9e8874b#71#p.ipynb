{
 "metadata": {
  "kernelspec": {
   "display_name": "Python 2", 
   "language": "python", 
   "name": "python2"
  }, 
  "name": "", 
  "notebookname": "La boucle while", 
  "version": "2.0"
 }, 
 "nbformat": 2, 
 "nbformat_minor": 0, 
 "orig_nbformat": 4, 
 "orig_nbformat_minor": 0, 
 "worksheets": [
  {
   "cells": [
    {
     "cell_type": "markdown", 
     "metadata": {}, 
     "source": [
      "<span style=\"float:left;\">Licence CC BY-NC-ND</span><span style=\"float:right;\">Thierry Parmentelat &amp; Arnaud Legout,<img src=\"media/inria-25.png\" style=\"display:inline\"></span><br/>"
     ]
    }, 
    {
     "cell_type": "markdown", 
     "metadata": {}, 
     "source": [
      "# La boucle `while`"
     ]
    }, 
    {
     "cell_type": "markdown", 
     "metadata": {}, 
     "source": [
      "## Compl\u00e9ment - niveau basique"
     ]
    }, 
    {
     "cell_type": "markdown", 
     "metadata": {}, 
     "source": [
      "### Boucles sans fin - `break`"
     ]
    }, 
    {
     "cell_type": "markdown", 
     "metadata": {}, 
     "source": [
      "Utiliser `while` plut\u00f4t que `for` est une affaire de style et d'habitude. Cela dit avec l'apparition des it\u00e9rateurs, l'usage du `for` est en g\u00e9n\u00e9ral privil\u00e9gi\u00e9 pour les boucles finies et d\u00e9terministes."
     ]
    }, 
    {
     "cell_type": "markdown", 
     "metadata": {}, 
     "source": [
      "Le `while` reste malgr\u00e9 tout d'un usage courant avec une condition `True`.", 
      "", 
      "Par exemple le code de l'interpreteur interactif de python pourrait ressembler, vu de tr\u00e8s loin, \u00e0 quelque chose comme ceci", 
      "", 
      "    while True:", 
      "        print(eval(read()))"
     ]
    }, 
    {
     "cell_type": "markdown", 
     "metadata": {}, 
     "source": [
      "Notez bien par ailleurs que les instructions `break` et `continue` fonctionnent, \u00e0 l'int\u00e9rieur d'une boucle `while`, exactement comme dans un `for`."
     ]
    }, 
    {
     "cell_type": "markdown", 
     "metadata": {}, 
     "source": [
      "## Compl\u00e9ment - niveau interm\u00e9diaire"
     ]
    }, 
    {
     "cell_type": "markdown", 
     "metadata": {}, 
     "source": [
      "### Rappel sur les conditions"
     ]
    }, 
    {
     "cell_type": "markdown", 
     "metadata": {}, 
     "source": [
      "On peut utiliser dans une boucle `while` toutes les formes de conditions que l'on avait vues \u00e0 l'occasion de l'instruction `if`.", 
      "", 
      "Dans le contexte de la boucle `while` on comprend mieux, toutefois, pourquoi le langage autorise d'\u00e9crire des conditions dont le r\u00e9sultat n'est **pas n\u00e9cessairement un bool\u00e9en**. Voyons cela sur un exemple simple:"
     ]
    }, 
    {
     "cell_type": "code", 
     "collapsed": false, 
     "input": [
      "# une autre fa\u00e7on de parcourir une liste", 
      "liste = ['a', 'b', 'c']", 
      "while liste:", 
      "    element = liste.pop()", 
      "    print element"
     ], 
     "language": "python", 
     "metadata": {}, 
     "outputs": [], 
     "prompt_number": null
    }, 
    {
     "cell_type": "markdown", 
     "metadata": {}, 
     "source": [
      "Il peut \u00eatre int\u00e9ressant de comparer ce code avec ce qu'on obtiendrait avec une simple boucle `for`.", 
      "", 
      " * Une premi\u00e8re diff\u00e9rence est qu'avec `while` on pourrait facilement traiter les \u00e9l\u00e9ments de la liste deux par deux si cela faisait du sens dans le contexte.", 
      "", 
      " * On voit aussi tout de suite que les \u00e9l\u00e9ments sont trait\u00e9s en sens inverse; il faut savoir qu'avec le type `list` l'op\u00e9ration `pop()` est tr\u00e8s efficace, car elle fonctionne en temps constant - ce qui d'ailleurs n'est pas le cas de `pop(0)`. Aussi la boucle `while` peut \u00eatre plus efficace, pour traiter une liste en sens inverse.", 
      " ", 
      " * Mais contrairement \u00e0 une boucle `for` cette forme est intrusive, en ce sens que la liste est modifi\u00e9e; alors que, on le rappelle, \u00e0 l'int\u00e9rieur d'une boucle `for` on ne **doit pas** modifier l'objet de la boucle."
     ]
    }, 
    {
     "cell_type": "markdown", 
     "metadata": {}, 
     "source": [
      "### Une curiosit\u00e9 : la clause `else`"
     ]
    }, 
    {
     "cell_type": "markdown", 
     "metadata": {}, 
     "source": [
      "Signalons enfin que la boucle `while` - au m\u00eame titre d'ailleurs que la boucle `for`, peut \u00eatre assortie [d'une clause `else`](https://docs.python.org/2/reference/compound_stmts.html#the-while-statement), qui est ex\u00e9cut\u00e9e \u00e0 la fin de la boucle, sauf dans le cas d'une sortie avec `break`."
     ]
    }, 
    {
     "cell_type": "code", 
     "collapsed": false, 
     "input": [
      "# Un exemple de `else` dans un while", 
      "", 
      "def scan(liste, break_mode):", 
      "    # si break_mode est vrai on va faire un break apr\u00e8s le premier \u00e9l\u00e9ment de la liste", 
      "    message = \"avec\" if break_mode else \"sans\"", 
      "    print 20*'-', \"\\nScan {} break\".format(message)", 
      "    while liste:", 
      "        print liste.pop()", 
      "        if break_mode:", 
      "            break", 
      "    else:", 
      "        print 'else...'", 
      "", 
      "        ", 
      "scan(['a'], False)", 
      "", 
      "scan(['a'], True)"
     ], 
     "language": "python", 
     "metadata": {}, 
     "outputs": [], 
     "prompt_number": null
    }, 
    {
     "cell_type": "markdown", 
     "metadata": {}, 
     "source": [
      "Ce trait est toutefois **tr\u00e8s rarement** utilis\u00e9."
     ]
    }
   ], 
   "metadata": {}
  }
 ]
}
