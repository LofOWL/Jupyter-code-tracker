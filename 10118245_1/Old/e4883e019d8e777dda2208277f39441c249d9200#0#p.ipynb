{
 "cells": [
  {
   "cell_type": "markdown",
   "metadata": {},
   "source": [
    "<span style=\"float:left;\">Licence CC BY-NC-ND</span><span style=\"float:right;\">Thierry Parmentelat &amp; Arnaud Legout&nbsp;<img src=\"media/both-logos-small-alpha.png\" style=\"display:inline\"></span><br/>"
   ]
  },
  {
   "cell_type": "markdown",
   "metadata": {},
   "source": [
    "# Attestations - modalités de délivrance\n",
    "\n",
    "\n",
    "## Cours 2017\n",
    "\n",
    "Vous pouvez obtenir une attestation de suivi du cours. Pour cela il vous suffit de\n",
    "\n",
    "* répondre aux quiz **des semaines 1 à 6**\n",
    "\n",
    "* obtenir une note moyenne de 12/20\n",
    "\n",
    "## Précisions\n",
    "\n",
    "Pour être précis:\n",
    "\n",
    "* il y a presque toujours un quiz par séquence, à partir de la semaine 1 - séquence 5 et jusqu'à la fin de la semaine 6; et chaque quiz contient quelques questions\n",
    "\n",
    "* seul le tronc commun est concerné, il n'y a pas de quiz dans les modules optionnels des semaines 7 et suivantes;\n",
    "\n",
    "* il s'agit d'une attestation et non pas d'un certificat, nous ne délivrons pas de certificat.\n",
    "\n",
    "\n",
    "\n",
    "\n"
   ]
  }
 ],
 "metadata": {
  "kernelspec": {
   "display_name": "Python 3",
   "language": "python",
   "name": "python3"
  },
  "language_info": {
   "codemirror_mode": {
    "name": "ipython",
    "version": 3
   },
   "file_extension": ".py",
   "mimetype": "text/x-python",
   "name": "python",
   "nbconvert_exporter": "python",
   "pygments_lexer": "ipython3",
   "version": "3.6.2"
  },
  "livereveal": {
   "auto_select": "code",
   "auto_select_fragment": true,
   "autolaunch": false,
   "backimage": "media/nologo.png",
   "height": "100%",
   "slideNumber": "c",
   "start_slideshow_at": "selected",
   "theme": "simple",
   "transition": "fade",
   "width": "100%"
  },
  "notebookname": "Attestations",
  "version": "3.0"
 },
 "nbformat": 4,
 "nbformat_minor": 2
}