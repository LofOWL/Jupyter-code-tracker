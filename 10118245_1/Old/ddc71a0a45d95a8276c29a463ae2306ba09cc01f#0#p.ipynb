{
 "metadata": {
  "notebookname": "packages",
  "signature": "c6df91285ca528517f0fbd7b86ef9a59bd9fca8b97b4b38f4e1be9f2d3d932d7",
  "version": "1.0"
 },
 "nbformat": 3,
 "nbformat_minor": 0,
 "worksheets": [
  {
   "cells": [
    {
     "cell_type": "heading",
     "level": 1,
     "metadata": {},
     "source": [
      "La notion de package"
     ]
    },
    {
     "cell_type": "heading",
     "level": 2,
     "metadata": {},
     "source": [
      "Compl\u00e9ment - niveau basique"
     ]
    },
    {
     "cell_type": "markdown",
     "metadata": {},
     "source": [
      "Dans ce compl\u00e9ment nous d\u00e9crivons la notion de *package*"
     ]
    },
    {
     "cell_type": "markdown",
     "metadata": {},
     "source": [
      "Nous avons vu dans la vid\u00e9o qu'on peut charger un fichier source `foo.py` au travers d'un objet python de type *module*."
     ]
    },
    {
     "cell_type": "code",
     "collapsed": false,
     "input": [
      "import module_simple\n",
      "dir(module_simple)"
     ],
     "language": "python",
     "metadata": {},
     "outputs": []
    },
    {
     "cell_type": "code",
     "collapsed": false,
     "input": [
      "from modtools import show_module\n",
      "show_module (module_simple)"
     ],
     "language": "python",
     "metadata": {},
     "outputs": []
    }
   ],
   "metadata": {}
  }
 ]
}