{
 "metadata": {
  "name": "NO HEADING 1 found",
  "notebookname": "NO HEADING 1 found",
  "signature": "e484736fbecbf790a5c0a3b42d3a0e6ad51d31d9f7bfc091181bd9c9e63b3c6f",
  "version": "1.0"
 },
 "nbformat": 3,
 "nbformat_minor": 0,
 "worksheets": [
  {
   "cells": [
    {
     "cell_type": "markdown",
     "metadata": {},
     "source": [
      "Vous pouvez lire le zen de python \u00e0 partir de python en tapant"
     ]
    },
    {
     "cell_type": "code",
     "collapsed": false,
     "input": [
      "import this"
     ],
     "language": "python",
     "metadata": {},
     "outputs": [],
     "prompt_number": 1
    },
    {
     "cell_type": "markdown",
     "metadata": {},
     "source": [
      " * Documentation\n",
      "   * https://docs.python.org/2.7/ \n",
      " * La licence \n",
      "   * http://docs.python.org/2/license.html \n",
      " * La Python Software Foundation est une entit\u00e9 l\u00e9gale similaire \u00e0 nos associations de 1901, \u00e0 but non lucratif; elle poss\u00e8de les droits sur le langage:\n",
      "    * https://www.python.org/psf/\n",
      " * Description g\u00e9n\u00e9rale\n",
      "   * http://fr.wikipedia.org/wiki/Python_%28langage%29\n",
      " * Historique\n",
      "   * http://en.wikipedia.org/wiki/History_of_Python\n",
      " * Discussion sur les choix de conception du langage\n",
      "   * http://python-history.blogspot.com\n",
      " * Fran\u00e7ais\n",
      "   * https://wiki.python.org/moin/FrenchLanguage\n",
      " * Le discours de Guido van Rossum \u00e0 PyCon 2014\n",
      "   * https://www.youtube.com/watch?v=EBRMq2Ioxsc\n",
      " * Le sketch des monty python d'o\u00f9 provient les termes `eggs`, `spam`et autres `beans` qu'on utilise facilement dans les exemples.\n",
      "   * https://www.youtube.com/watch?v=anwy2MPT5RE\n",
      "\n",
      "\n",
      "\n",
      "\n",
      "\n"
     ]
    },
    {
     "cell_type": "code",
     "collapsed": false,
     "input": [],
     "language": "python",
     "metadata": {},
     "outputs": []
    }
   ],
   "metadata": {}
  }
 ]
}