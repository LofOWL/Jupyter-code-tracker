{
 "cells": [
  {
   "cell_type": "markdown",
   "metadata": {},
   "source": [
    "# Compléments: Opérations 'bitwise'"
   ]
  },
  {
   "cell_type": "markdown",
   "metadata": {},
   "source": [
    "Les compléments ci-dessous expliquent des fonctions évoluées sur les entiers; les débutants en programmation peuvent sans souci sauter cette partie en cas de difficultés."
   ]
  },
  {
   "cell_type": "markdown",
   "metadata": {},
   "source": [
    "### Opérations logiques : ET &, OU | et OU exclusif ˆ"
   ]
  },
  {
   "cell_type": "markdown",
   "metadata": {},
   "source": [
    "Il est possible aussi de faire des opérations \"bit-à-bit\" sur les nombres entiers. \n",
    "Le plus simple est de penser à l'écriture du nombre en base 2\n",
    "\n",
    "Considérons par exemple deux entiers constants dans cet exercice:"
   ]
  },
  {
   "cell_type": "code",
   "execution_count": 1,
   "metadata": {},
   "outputs": [],
   "source": [
    "x49 = 49\n",
    "y81 = 81"
   ]
  },
  {
   "cell_type": "markdown",
   "metadata": {},
   "source": [
    "Ce qui nous donne comme décomposition binaire \n",
    "\n",
    "$\\begin{array}{rcccccc}\n",
    "x49&=&49&=&32 + 16 + 1 &\\rightarrow&(0,1,1,0,0,0,1) \\\\\n",
    "y81&=&81&=&64 + 16 + 1 &\\rightarrow&(1,0,1,0,0,0,1)\n",
    "\\end{array}\n",
    "$"
   ]
  },
  {
   "cell_type": "markdown",
   "metadata": {},
   "source": [
    "##### Et logique : opérateur &"
   ]
  },
  {
   "cell_type": "markdown",
   "metadata": {},
   "source": [
    "L'opération logique '&' va faire un 'et' \n",
    "logique bit à bit entre les opérandes, ainsi"
   ]
  },
  {
   "cell_type": "code",
   "execution_count": 2,
   "metadata": {},
   "outputs": [
    {
     "data": {
      "text/plain": [
       "17"
      ]
     },
     "execution_count": 2,
     "metadata": {},
     "output_type": "execute_result"
    }
   ],
   "source": [
    "x49 & y81"
   ]
  },
  {
   "cell_type": "markdown",
   "metadata": {},
   "source": [
    "Et en effet\n",
    "$\\begin{array}{rcl}\n",
    "x49 & \\rightarrow & (0,1,1,0,0,0,1) \\\\\n",
    "y81 & \\rightarrow & (1,0,1,0,0,0,1) \\\\\n",
    "x49 \\& y81 & \\rightarrow & (0,0,1,0,0,0,1) \\rightarrow 17\n",
    "\\end{array}$\n"
   ]
  },
  {
   "cell_type": "markdown",
   "metadata": {},
   "source": [
    "##### Ou logique : opérateur |"
   ]
  },
  {
   "cell_type": "markdown",
   "metadata": {},
   "source": [
    "De même, l'opération logique '|' fait simplement un 'ou' logique, comme ceci"
   ]
  },
  {
   "cell_type": "code",
   "execution_count": 3,
   "metadata": {},
   "outputs": [
    {
     "data": {
      "text/plain": [
       "113"
      ]
     },
     "execution_count": 3,
     "metadata": {},
     "output_type": "execute_result"
    }
   ],
   "source": [
    "x49 | y81"
   ]
  },
  {
   "cell_type": "markdown",
   "metadata": {},
   "source": [
    "On s'y retrouve parce que\n",
    "$\\begin{array}{rcl}\n",
    "x49 & \\rightarrow & (0,1,1,0,0,0,1) \\\\\n",
    "y81 & \\rightarrow & (1,0,1,0,0,0,1) \\\\\n",
    "x49 | y81 & \\rightarrow & (1,1,1,0,0,0,1) \\rightarrow 64+32+16+1 \\rightarrow 113\n",
    "\\end{array}$\n"
   ]
  },
  {
   "cell_type": "markdown",
   "metadata": {},
   "source": [
    "##### Ou exclusif : opérateur ^"
   ]
  },
  {
   "cell_type": "markdown",
   "metadata": {},
   "source": [
    "Enfin on peut également faire la même opération à base de 'ou exclusif' avec l'opérateur 'ˆ'"
   ]
  },
  {
   "cell_type": "code",
   "execution_count": 4,
   "metadata": {},
   "outputs": [
    {
     "data": {
      "text/plain": [
       "96"
      ]
     },
     "execution_count": 4,
     "metadata": {},
     "output_type": "execute_result"
    }
   ],
   "source": [
    "x49 ^ y81"
   ]
  },
  {
   "cell_type": "markdown",
   "metadata": {},
   "source": [
    "### Décalages"
   ]
  },
  {
   "cell_type": "markdown",
   "metadata": {},
   "source": [
    "Un décalage 'à gauche' de, par exemple, 4 positions, revient à décaler tout le champ de bits de 4 cases à gauche (les 4 nouveaux bits insérés sont toujours des 0); c'est donc équivalent à une multiplication par $2ˆ4=16$"
   ]
  },
  {
   "cell_type": "code",
   "execution_count": 5,
   "metadata": {},
   "outputs": [
    {
     "data": {
      "text/plain": [
       "784"
      ]
     },
     "execution_count": 5,
     "metadata": {},
     "output_type": "execute_result"
    }
   ],
   "source": [
    "x49 << 4"
   ]
  },
  {
   "cell_type": "markdown",
   "metadata": {},
   "source": [
    "$\\begin{array}{rcl}\n",
    "x49 & \\rightarrow & (0,1,1,0,0,0,1) \\\\\n",
    "x49 << 4 & \\rightarrow & (0,1,1,0,0,0,1,0,0,0,0) \\rightarrow 512+256+16 \\rightarrow 784 \n",
    "\\end{array}$\n"
   ]
  },
  {
   "cell_type": "markdown",
   "metadata": {},
   "source": [
    "De la même façon le décalage à droite de $n$ revient à une\n",
    "division par $2ˆn$ (et plus exactement le quotient de la division)"
   ]
  },
  {
   "cell_type": "code",
   "execution_count": 6,
   "metadata": {},
   "outputs": [
    {
     "data": {
      "text/plain": [
       "3"
      ]
     },
     "execution_count": 6,
     "metadata": {},
     "output_type": "execute_result"
    }
   ],
   "source": [
    "x49 >> 4"
   ]
  },
  {
   "cell_type": "markdown",
   "metadata": {},
   "source": [
    "$\\begin{array}{rcl}\n",
    "x49 & \\rightarrow & (0,1,1,0,0,0,1) \\\\\n",
    "x49 >> 4 & \\rightarrow & (0,0,0,0,0,1,1) \\rightarrow 2+1 \\rightarrow 3\n",
    "\\end{array}$"
   ]
  },
  {
   "cell_type": "markdown",
   "metadata": {},
   "source": [
    "### Une astuce"
   ]
  },
  {
   "cell_type": "markdown",
   "metadata": {},
   "source": [
    "On peut utiliser la fonction 'built-in' bin \n",
    "pour calculer la représentation binaire d'un entier; attention la valeur de retour est un 'string'"
   ]
  },
  {
   "cell_type": "code",
   "execution_count": 7,
   "metadata": {},
   "outputs": [
    {
     "data": {
      "text/plain": [
       "'0b110001'"
      ]
     },
     "execution_count": 7,
     "metadata": {},
     "output_type": "execute_result"
    }
   ],
   "source": [
    "bin(x49)"
   ]
  },
  {
   "cell_type": "markdown",
   "metadata": {},
   "source": [
    "Dans l'autre sens, on peut aussi entrer un entier directement en base 2 comme ceci; ici comme on le voit $x49bis$ est bien un entier"
   ]
  },
  {
   "cell_type": "code",
   "execution_count": 8,
   "metadata": {},
   "outputs": [
    {
     "data": {
      "text/plain": [
       "True"
      ]
     },
     "execution_count": 8,
     "metadata": {},
     "output_type": "execute_result"
    }
   ],
   "source": [
    "x49bis = 0b110001\n",
    "x49bis == x49"
   ]
  },
  {
   "cell_type": "markdown",
   "metadata": {},
   "source": [
    "### Pour en savoir plus"
   ]
  },
  {
   "cell_type": "markdown",
   "metadata": {},
   "source": [
    "https://docs.python.org/2/library/stdtypes.html#bitwise-operations-on-integer-types"
   ]
  }
 ],
 "metadata": {
  "kernelspec": {
   "display_name": "Python 3",
   "language": "python",
   "name": "python3"
  },
  "language_info": {
   "codemirror_mode": {
    "name": "ipython",
    "version": 3
   },
   "file_extension": ".py",
   "mimetype": "text/x-python",
   "name": "python",
   "nbconvert_exporter": "python",
   "pygments_lexer": "ipython3",
   "version": "3.7.3"
  }
 },
 "nbformat": 4,
 "nbformat_minor": 1
}
