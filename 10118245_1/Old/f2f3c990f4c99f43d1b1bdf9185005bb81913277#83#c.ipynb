{
 "metadata": {
  "notebookname": "PGCD",
  "signature": "sha256:7992014369533a976bbe82c258718dc2aa5696cab7bf85159da55a09df6db5c2",
  "version": "1.0"
 },
 "nbformat": 3,
 "nbformat_minor": 0,
 "worksheets": [
  {
   "cells": [
    {
     "cell_type": "heading",
     "level": 1,
     "metadata": {},
     "source": [
      "Calculer le PGCD"
     ]
    },
    {
     "cell_type": "heading",
     "level": 2,
     "metadata": {},
     "source": [
      "Exercice - niveau basique"
     ]
    },
    {
     "cell_type": "markdown",
     "metadata": {},
     "source": [
      "On vous demande d'\u00e9crire une fonction qui calcule le pgcd de deux entiers, en utilisant [l'algorithme d'Euclide](http://fr.wikipedia.org/wiki/Algorithme_d'Euclide)."
     ]
    },
    {
     "cell_type": "markdown",
     "metadata": {},
     "source": [
      "def pgcd(a, b):\n",
      "    \"<votre code>\""
     ]
    },
    {
     "cell_type": "code",
     "collapsed": false,
     "input": [
      "# pour v\u00e9rifier votre code\n",
      "from corrections.w4_pgcd import exo_pgcd\n",
      "exo_pgcd.correction(pgcd)"
     ],
     "language": "python",
     "metadata": {},
     "outputs": []
    },
    {
     "cell_type": "markdown",
     "metadata": {},
     "source": [
      "**Remarque** on peut tout \u00e0 fait utiliser une fonction r\u00e9cursive pour impl\u00e9menter l'algorithme d'Euclide. Par exemple cette version de `pgcd` fonctionne tr\u00e8s bien aussi (en supposant a>=b)\n",
      "\n",
      "    def pgcd(a, b):\n",
      "       \"Le pgcd avec une fonction r\u00e9cursive\"\n",
      "       if not b:\n",
      "           return a\n",
      "       return pgcd(b, a % b)\n",
      "   \n",
      "Cependant, il vous est demand\u00e9 ici d'utiliser une boucle `while`, qui est le sujet de la s\u00e9quence, pour impl\u00e9menter `pgcd`.\n"
     ]
    }
   ],
   "metadata": {}
  }
 ]
}