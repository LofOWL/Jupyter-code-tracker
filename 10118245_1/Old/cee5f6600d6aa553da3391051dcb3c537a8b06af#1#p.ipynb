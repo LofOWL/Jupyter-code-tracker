{
 "metadata": {
  "notebookname": "Compr\u00e9hensions",
  "signature": "sha256:be4327931c3800b632962f108cd979157a72501ef82e8de6ea757ae58f42613b",
  "version": "1.0"
 },
 "nbformat": 3,
 "nbformat_minor": 0,
 "worksheets": [
  {
   "cells": [
    {
     "cell_type": "heading",
     "level": 1,
     "metadata": {},
     "source": [
      "Compr\u00e9hensions"
     ]
    },
    {
     "cell_type": "heading",
     "level": 2,
     "metadata": {},
     "source": [
      "Exercice - niveau basique"
     ]
    },
    {
     "cell_type": "markdown",
     "metadata": {},
     "source": [
      "Il vous est demand\u00e9 d'\u00e9crire une fonction `aplatir` qui prend en argument `l_conteneurs` (ou plus g\u00e9n\u00e9ralement un it\u00e9rable)  de conteneurs, et qui retourne la liste ordonn\u00e9e de tous les \u00e9l\u00e9ment de tous les conteneurs."
     ]
    },
    {
     "cell_type": "code",
     "collapsed": false,
     "input": [
      "# par exemple\n",
      "from corrections.w4_comprehensions import exo_aplatir\n",
      "exo_aplatir.exemple ()"
     ],
     "language": "python",
     "metadata": {},
     "outputs": [
      {
       "html": [
        "<table style='font-family:monospace;'><tr><th>Appel</th><th>R\u00e9sultat attendu</th></tr><tr><td>aplatir([(0, 1, 2), [(3, 4), 5]])</td><td>[0, 1, 2, (3, 4), 5]</td></tr></table>"
       ],
       "metadata": {},
       "output_type": "pyout",
       "prompt_number": 1,
       "text": [
        "<IPython.core.display.HTML at 0x10c99a410>"
       ]
      }
     ],
     "prompt_number": 1
    },
    {
     "cell_type": "code",
     "collapsed": false,
     "input": [
      "def aplatir (conteneurs):\n",
      "    \"<votre_code>\""
     ],
     "language": "python",
     "metadata": {},
     "outputs": [],
     "prompt_number": 2
    },
    {
     "cell_type": "code",
     "collapsed": false,
     "input": [
      "# v\u00e9rifier votre code\n",
      "exo_aplatir.correction (aplatir)"
     ],
     "language": "python",
     "metadata": {},
     "outputs": [
      {
       "html": [
        "<table style='font-family:monospace;'><tr><th>Entr\u00e9e</th><th>Attendu</th><th>Obtenu</th><th></th></tr><tr style='background-color:#CC3300;color:#e8e8e8;'><td>[(0, 1, 2), [(3, 4), 5]]</td><td>[0, 1, 2, (3, 4), 5]</td><td>None</td><td>KO</td><tr style='background-color:#CC3300;color:#e8e8e8;'><td>([1, [2, 3]], ('a', 'b', 'c'))</td><td>[1, [2, 3], 'a', 'b', 'c']</td><td>None</td><td>KO</td></table>"
       ],
       "metadata": {},
       "output_type": "pyout",
       "prompt_number": 3,
       "text": [
        "<IPython.core.display.HTML at 0x10c99a310>"
       ]
      }
     ],
     "prompt_number": 3
    },
    {
     "cell_type": "heading",
     "level": 2,
     "metadata": {},
     "source": [
      "Exercice - niveau interm\u00e9diaire"
     ]
    },
    {
     "cell_type": "markdown",
     "metadata": {},
     "source": [
      "\u00c0 pr\u00e9sent on attend en argument deux conteneurs (deux it\u00e9rables) `c1` et `c2` de m\u00eame taille et la fonction `alternat` doit construire une liste contenant les \u00e9l\u00e9ments pris alternativement dans `c1` et de `c2`."
     ]
    },
    {
     "cell_type": "code",
     "collapsed": false,
     "input": [
      "# exemple\n",
      "from corrections.w4_comprehensions import exo_alternat\n",
      "exo_alternat.exemple()"
     ],
     "language": "python",
     "metadata": {},
     "outputs": [
      {
       "html": [
        "<table style='font-family:monospace;'><tr><th>Appel</th><th>R\u00e9sultat attendu</th></tr><tr><td>alternat((1, 2), ('a', 'b'))</td><td>[1, 'a', 2, 'b']</td></tr><tr><td>alternat((1, 2, 3), ('a', 'b', 'c'))</td><td>[1, 'a', 2, 'b', 3, 'c']</td></tr></table>"
       ],
       "metadata": {},
       "output_type": "pyout",
       "prompt_number": 4,
       "text": [
        "<IPython.core.display.HTML at 0x10c9ad3d0>"
       ]
      }
     ],
     "prompt_number": 4
    },
    {
     "cell_type": "code",
     "collapsed": false,
     "input": [
      "def alternat (c1, c2):\n",
      "    \"<votre_code>\""
     ],
     "language": "python",
     "metadata": {},
     "outputs": [],
     "prompt_number": 5
    },
    {
     "cell_type": "code",
     "collapsed": false,
     "input": [
      "# pour v\u00e9rifier votre code\n",
      "exo_alternat.correction (alternat)"
     ],
     "language": "python",
     "metadata": {},
     "outputs": [
      {
       "html": [
        "<table style='font-family:monospace;'><tr><th>Entr\u00e9e</th><th>Attendu</th><th>Obtenu</th><th></th></tr><tr style='background-color:#CC3300;color:#e8e8e8;'><td>(1, 2), ('a', 'b')</td><td>[1, 'a', 2, 'b']</td><td>None</td><td>KO</td><tr style='background-color:#CC3300;color:#e8e8e8;'><td>(1, 2, 3), ('a', 'b', 'c')</td><td>[1, 'a', 2, 'b', 3, 'c']</td><td>None</td><td>KO</td><tr style='background-color:#CC3300;color:#e8e8e8;'><td>(1, (2, 3)), ('a', ['b', 'c'])</td><td>[1, 'a', (2, 3), ['b', 'c']]</td><td>None</td><td>KO</td></table>"
       ],
       "metadata": {},
       "output_type": "pyout",
       "prompt_number": 6,
       "text": [
        "<IPython.core.display.HTML at 0x10c99a0d0>"
       ]
      }
     ],
     "prompt_number": 6
    },
    {
     "cell_type": "heading",
     "level": 2,
     "metadata": {},
     "source": [
      "Exercice - niveau interm\u00e9diaire"
     ]
    },
    {
     "cell_type": "markdown",
     "metadata": {},
     "source": [
      "On se donne deux ensembles A et B de tuples de la forme\n",
      "\n",
      "    (entier, valeur)\n",
      "\n",
      "On vous demande d'\u00e9crire une fonction `intersect` qui retourne l'ensemble des objets `valeur` associ\u00e9s (dans A ou dans B) \u00e0 un entier qui soit pr\u00e9sent dans (un tuple de) A *et* dans B."
     ]
    },
    {
     "cell_type": "code",
     "collapsed": false,
     "input": [
      "# un exemple\n",
      "from corrections.w4_comprehensions import exo_intersect\n",
      "exo_intersect.exemple ()"
     ],
     "language": "python",
     "metadata": {},
     "outputs": [
      {
       "html": [
        "<table style='font-family:monospace;'><tr><th>Arguments</th><th>R\u00e9sultat attendu</th></tr><tr><td>A={(10, 'dixA'), (8, 'huit'), (12, 'douze')}</td><td>set(['dixA', 'dixB'])</td></tr><tr><td>B={(15, 'quinze'), (5, 'cinq'), (10, 'dixB')}</td><td></td></tr></table>"
       ],
       "metadata": {},
       "output_type": "pyout",
       "prompt_number": 7,
       "text": [
        "<IPython.core.display.HTML at 0x10c9ad450>"
       ]
      }
     ],
     "prompt_number": 7
    },
    {
     "cell_type": "code",
     "collapsed": false,
     "input": [
      "def intersect (A,B):\n",
      "    \"<votre_code>\""
     ],
     "language": "python",
     "metadata": {},
     "outputs": [],
     "prompt_number": 8
    },
    {
     "cell_type": "code",
     "collapsed": false,
     "input": [
      "# pour v\u00e9rifier votre code\n",
      "exo_intersect.correction (intersect)"
     ],
     "language": "python",
     "metadata": {},
     "outputs": [
      {
       "html": [
        "<table style='font-family:monospace;'><tr><th>Entr\u00e9e</th><th>Attendu</th><th>Obtenu</th><th></th></tr><tr style='background-color:#CC3300;color:#e8e8e8;'><td>set([(10, 'dixA'), (8, 'hui...</td><td>set(['dixA', 'dixB'])</td><td>None</td><td>KO</td><tr style='background-color:#CC3300;color:#e8e8e8;'><td>set([(2, 'deux'), (3, 'troi...</td><td>set(['unA', 'unB', 'deux'])</td><td>None</td><td>KO</td></table>"
       ],
       "metadata": {},
       "output_type": "pyout",
       "prompt_number": 9,
       "text": [
        "<IPython.core.display.HTML at 0x10c99a2d0>"
       ]
      }
     ],
     "prompt_number": 9
    }
   ],
   "metadata": {}
  }
 ]
}