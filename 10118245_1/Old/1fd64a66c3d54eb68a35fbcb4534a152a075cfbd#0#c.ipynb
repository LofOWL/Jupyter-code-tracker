{
 "metadata": {
  "notebookname": "Les fichiers",
  "signature": "3f9d3fbb3e4aec38c5811d36bdbaa4906291106238aedc25b033755b247ab18e",
  "version": "1.0"
 },
 "nbformat": 3,
 "nbformat_minor": 0,
 "worksheets": [
  {
   "cells": [
    {
     "cell_type": "heading",
     "level": 1,
     "metadata": {},
     "source": [
      "Les fichiers"
     ]
    },
    {
     "cell_type": "heading",
     "level": 2,
     "metadata": {},
     "source": [
      "Compl\u00e9ment - niveau basique"
     ]
    },
    {
     "cell_type": "markdown",
     "metadata": {},
     "source": [
      "Voici quelques utilisations habituelles du type `file` en python"
     ]
    },
    {
     "cell_type": "heading",
     "level": 3,
     "metadata": {},
     "source": [
      "Avec un *context manager*"
     ]
    },
    {
     "cell_type": "markdown",
     "metadata": {},
     "source": [
      "Nous avons vu dans la vid\u00e9o les m\u00e9canismes de base sur les fichiers. Nous avons vu notamment qu'il est important de bien fermer un fichier apr\u00e8s usage.\n",
      "\n",
      "Dans la pratique, il est recommand\u00e9 de **toujours** utiliser l'instruction `with`, que nous approfondirons en semaine 6. Dans l'imm\u00e9diat notez qu'au lieu de faire"
     ]
    },
    {
     "cell_type": "code",
     "collapsed": false,
     "input": [
      "# la m\u00e9thode \"de bas niveau\"\n",
      "sortie = open (\"s1.txt\",\"w\")\n",
      "for i in range (3):\n",
      "    sortie.write (\"{}\\n\".format(i))\n",
      "sortie.close()"
     ],
     "language": "python",
     "metadata": {},
     "outputs": []
    },
    {
     "cell_type": "markdown",
     "metadata": {},
     "source": [
      "On fera plut\u00f4t"
     ]
    },
    {
     "cell_type": "code",
     "collapsed": false,
     "input": [
      "# avec un context manager: on garantit la fermeture du fichier\n",
      "with open (\"s1.txt\",\"w\") as sortie:\n",
      "    for i in range (3):\n",
      "        sortie.write (\"{}\\n\".format(i))"
     ],
     "language": "python",
     "metadata": {},
     "outputs": []
    },
    {
     "cell_type": "markdown",
     "metadata": {},
     "source": [
      "Depuis son introduction dans python-2.5, cette forme est devenue tr\u00e8s populaire car elle pr\u00e9sente le gros avantage de **garantir** que le fichier sera **bien ferm\u00e9**, et cela m\u00eame si une exception devait \u00eatre lev\u00e9e \u00e0 l'int\u00e9rieur du bloc `with`. Et marginalement le code est plus lisible dans cette deuxi\u00e8me forme."
     ]
    },
    {
     "cell_type": "heading",
     "level": 3,
     "metadata": {},
     "source": [
      "Les modes d'ouverture"
     ]
    },
    {
     "cell_type": "markdown",
     "metadata": {},
     "source": [
      "Les modes d'ouverture les plus utilis\u00e9s sont\n",
      " * `'r'` (la cha\u00eene contenant l'unique caract\u00e8re `r`) pour ouvrir un fichier en lecture seulement;\n",
      " * `'w'` en \u00e9criture seulement; le contenu pr\u00e9c\u00e9dent du fichier, s'il existait, est perdu;\n",
      " * `'a'` en \u00e9criture seulement, mais pour ajouter du contenu \u00e0 la fin de fichier;\n"
     ]
    },
    {
     "cell_type": "markdown",
     "metadata": {},
     "source": [
      "Voici par exemple comment on pourrait ajouter du texte dans le fichier \"test.txt\"qui devrait, \u00e0 ce stade contenir les 5 premiers entiers"
     ]
    },
    {
     "cell_type": "code",
     "collapsed": false,
     "input": [
      "# on ouvre le fichier en mode 'a' comme append - ou ajouter\n",
      "with open (\"s1.txt\",\"a\") as sortie:\n",
      "    for i in range (100,103):\n",
      "        sortie.write (\"{}\\n\".format(i))\n",
      "\n",
      "# maintenant on regarde ce que contient le fichier\n",
      "with open (\"s1.txt\") as entree: # remarquez que sans 'mode', on ouvre en lecture seule\n",
      "    for line in entree:\n",
      "        # comme line contient deja la fin de ligne\n",
      "        # on ajoute une virgule pour eviter une deuxieme fin de ligne\n",
      "        print line,               "
     ],
     "language": "python",
     "metadata": {},
     "outputs": []
    },
    {
     "cell_type": "markdown",
     "metadata": {},
     "source": [
      "Il existe de nombreuses variantes pour par exemple\n",
      " * ouvrir le fichier en lecture et en \u00e9criture,\n",
      " * ouvrir le fichier en mode binaire,\n",
      " * utiliser le mode dit *universal newlines* qui permet de s'affranchir des diff\u00e9rences de fin de ligne entre les fichiers produits sur, d'une part linux et MacOS, et d'autre part Windows.\n",
      "\n",
      "Ces variantes sont d\u00e9crites dans [la section sur la fonction built-in `open`](https://docs.python.org/2/library/functions.html#open) dans la documentation python."
     ]
    },
    {
     "cell_type": "heading",
     "level": 3,
     "metadata": {},
     "source": [
      "Comment lire un contenu"
     ]
    },
    {
     "cell_type": "markdown",
     "metadata": {},
     "source": [
      "Les fichiers textuels classiques se lisent en g\u00e9n\u00e9ral, comme on vient d'ailleurs de le faire, avec une simple boucle `for` sur l'objet fichier. "
     ]
    },
    {
     "cell_type": "markdown",
     "metadata": {},
     "source": [
      "On trouve aussi, dans du code plus ancien, l'appel \u00e0 la m\u00e9thode `readline` qui, on s'en doute, lit une ligne:"
     ]
    },
    {
     "cell_type": "code",
     "collapsed": false,
     "input": [
      "with open (\"s1.txt\") as entree:\n",
      "    while entree:\n",
      "        print entree.readline(),"
     ],
     "language": "python",
     "metadata": {},
     "outputs": []
    },
    {
     "cell_type": "heading",
     "level": 3,
     "metadata": {},
     "source": [
      "La m\u00e9thode `flush`"
     ]
    },
    {
     "cell_type": "markdown",
     "metadata": {},
     "source": [
      "Les entr\u00e9es-sortie sur fichier sont bien souvent *bufferis\u00e9es* par le syst\u00e8me d'exploitation. Cela signifie qu'un appel \u00e0 `write` ne provoque pas forc\u00e9ment une \u00e9criture imm\u00e9diate, car pour des raisons de performance on attend d'avoir suffisamment de mati\u00e8re avant d'\u00e9crire sur le disque.\n",
      "\n",
      "Il y a des cas o\u00f9 ce comportement peut s'av\u00e9rer g\u00eanant, et o\u00f9 on a besoin d'\u00e9crire imm\u00e9diatement (et donc de vider le *buffer*). Pour cela il existe une m\u00e9thode sur les fichiers baptis\u00e9e `flush`."
     ]
    },
    {
     "cell_type": "heading",
     "level": 3,
     "metadata": {},
     "source": [
      "Pour en savoir plus"
     ]
    },
    {
     "cell_type": "markdown",
     "metadata": {},
     "source": [
      "Vous pouvez vous reporter \u00e0 [ce tutorial sur les entr\u00e9es-sorties](https://docs.python.org/2/tutorial/inputoutput.html#reading-and-writing-files) dans la documentation python."
     ]
    }
   ],
   "metadata": {}
  }
 ]
}