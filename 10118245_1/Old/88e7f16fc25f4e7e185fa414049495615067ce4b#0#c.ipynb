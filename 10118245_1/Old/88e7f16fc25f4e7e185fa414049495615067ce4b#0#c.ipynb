{
 "metadata": {
  "notebookname": "H\u00e9ritage",
  "signature": "sha256:60ad395c5811d7d495213cb1c02ebcdd55e86dc40cebc597bf4c9c4e9cbf66ca",
  "version": "1.0"
 },
 "nbformat": 3,
 "nbformat_minor": 0,
 "worksheets": [
  {
   "cells": [
    {
     "cell_type": "heading",
     "level": 1,
     "metadata": {},
     "source": [
      "H\u00e9ritage"
     ]
    },
    {
     "cell_type": "heading",
     "level": 2,
     "metadata": {},
     "source": [
      "Compl\u00e9ment - niveau basique"
     ]
    },
    {
     "cell_type": "markdown",
     "metadata": {},
     "source": [
      "La notion d'h\u00e9ritage, qui fait partie int\u00e9grante de la Programmation Orient\u00e9e Objet, permet principalement de maximiser la **r\u00e9utilisabilit\u00e9**. \n",
      "\n",
      "Nous avons vu dans la vid\u00e9o les m\u00e9canismes d'h\u00e9ritage *in abstracto*. Pour r\u00e9sumer tr\u00e8s bri\u00e8vement, on recherche un attribut (souvent une m\u00e9thode) \u00e0 partir d'une instance en cherchant :\n",
      " * d'abord dans l'instance elle-m\u00eame,\n",
      " * puis dans la classe de l'instance,\n",
      " * puis dans les super-classes de la classe."
     ]
    },
    {
     "cell_type": "markdown",
     "metadata": {},
     "source": [
      "    L'objet de ce compl\u00e9ment est de vous donner, d'un point de vue plus appliqu\u00e9, des id\u00e9es de ce qu'on peut faire ou non avec ce m\u00e9canisme. Le sujet \u00e9tant assez rab\u00e2ch\u00e9 par ailleurs, nous nous concentrerons sur deux points&nbsp;:\n",
      "\n",
      " * les pratiques de base utilis\u00e9es pour la conception de classes, et notamment pour bien distinguer **h\u00e9ritage** et **composition**;\n",
      " * nous verrons ensuite, sur des **exemples extraits de code r\u00e9el**, comment ces m\u00e9canismes permettent en effet de contribuer \u00e0 la r\u00e9utilisabilit\u00e9 du code."
     ]
    },
    {
     "cell_type": "heading",
     "level": 3,
     "metadata": {},
     "source": [
      "H\u00e9ritage *vs* composition"
     ]
    },
    {
     "cell_type": "heading",
     "level": 2,
     "metadata": {},
     "source": [
      "Compl\u00e9ment - niveau interm\u00e9diaire"
     ]
    },
    {
     "cell_type": "heading",
     "level": 3,
     "metadata": {},
     "source": [
      "Des exemples de code"
     ]
    },
    {
     "cell_type": "heading",
     "level": 5,
     "metadata": {},
     "source": [
      "Le module `calendar`"
     ]
    },
    {
     "cell_type": "markdown",
     "metadata": {},
     "source": [
      "On trouve dans la librairie standard [le module `calendar`](https://docs.python.org/2/library/calendar.html). \n",
      "Ce module expose deux classes `TextCalendar` et `HTMLCalendar`. Sans entrer du tout dans le d\u00e9tail, ces deux classes permettent d'imprimer dans des formats diff\u00e9rents, le m\u00eame type d'informations du type rendez-vous.\n",
      "\n",
      "Le point ici est que les concepteurs ont choisi un graphe d'h\u00e9ritage comme ceci\n",
      "\n",
      "    Calendar\n",
      "    |-- TextCalendar\n",
      "    |-- HTMLCalendar\n",
      "    \n",
      "qui permet de grouper le code concernant la logique dans la classe `Calendar`, puis dans les deux sous-classes d'impl\u00e9menter le type de sortie qui va bien. \n",
      "\n",
      "De cette mani\u00e8re le maximum de code est partag\u00e9 entre les deux classes; et de plus si vous avez besoin d'une sortie au format, disons PDF, vous pouvez envisager d'h\u00e9riter de `Calendar` et n'impl\u00e9menter que la partie sp\u00e9cifique au format PDF.\n",
      "\n",
      "C'est un peu le niveau \u00e9l\u00e9mentaire de l'h\u00e9ritage. "
     ]
    },
    {
     "cell_type": "heading",
     "level": 5,
     "metadata": {},
     "source": [
      "Le module `SocketServer`"
     ]
    },
    {
     "cell_type": "markdown",
     "metadata": {},
     "source": [
      "Toujours dans la librairie standard, le [module `SocketServer`](https://docs.python.org/2/library/socketserver.html) - qui, incidemment est \u00e9crit en C - fait un usage beaucoup plus sophistiqu\u00e9 de l'h\u00e9ritage.\n",
      "\n",
      "Le module propose une hi\u00e9rarchie de classes comme ceci:"
     ]
    },
    {
     "cell_type": "raw",
     "metadata": {},
     "source": [
      "+------------+\n",
      "| BaseServer |\n",
      "+------------+\n",
      "      |\n",
      "      v\n",
      "+-----------+        +------------------+\n",
      "| TCPServer |------->| UnixStreamServer |\n",
      "+-----------+        +------------------+\n",
      "      |\n",
      "      v\n",
      "+-----------+        +--------------------+\n",
      "| UDPServer |------->| UnixDatagramServer |\n",
      "+-----------+        +--------------------+"
     ]
    },
    {
     "cell_type": "markdown",
     "metadata": {},
     "source": [
      "Ici encore notre propos n'est pas d'entrer dans les d\u00e9tails, mais d'observer le fait que les diff\u00e9rents *niveaux d'intelligence* sont ajout\u00e9s les uns aux les autres au fur et \u00e0 mesure que l'on descend le graphe d'h\u00e9ritage. Ainsi un objet de la classe `BaseServer` xxx\n",
      "\n",
      "https://docs.python.org/2/library/socketserver.html#examples"
     ]
    },
    {
     "cell_type": "code",
     "collapsed": false,
     "input": [
      "import BaseHTTPServer\n",
      "help (BaseHTTPServer)"
     ],
     "language": "python",
     "metadata": {},
     "outputs": []
    },
    {
     "cell_type": "markdown",
     "metadata": {},
     "source": [
      "Voir aussi http://www.pasteur.fr/formation/infobio/python/ch19s04.html"
     ]
    },
    {
     "cell_type": "heading",
     "level": 5,
     "metadata": {},
     "source": [
      "Sp\u00e9cialisation"
     ]
    },
    {
     "cell_type": "heading",
     "level": 5,
     "metadata": {},
     "source": [
      "Composition (plut\u00f4t dire aggr\u00e9gation ?)"
     ]
    },
    {
     "cell_type": "code",
     "collapsed": false,
     "input": [
      "http://learnpythonthehardway.org/book/ex44.html"
     ],
     "language": "python",
     "metadata": {},
     "outputs": []
    },
    {
     "cell_type": "heading",
     "level": 2,
     "metadata": {},
     "source": [
      "Compl\u00e9ment - niveau interm\u00e9diaire"
     ]
    }
   ],
   "metadata": {}
  }
 ]
}