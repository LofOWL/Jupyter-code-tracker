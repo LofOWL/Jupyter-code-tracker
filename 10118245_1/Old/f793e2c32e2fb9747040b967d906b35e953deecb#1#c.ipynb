{
 "metadata": {
  "name": "",
  "notebookname": "NO HEADING 1 found",
  "signature": "4b81d16258e8a5d37f99a36958dd876095a759f6a9ca739bb54a64c8e221acf1",
  "version": "1.0"
 },
 "nbformat": 3,
 "nbformat_minor": 0,
 "worksheets": [
  {
   "cells": [
    {
     "cell_type": "heading",
     "level": 1,
     "metadata": {},
     "source": [
      "V\u00e9rifications de type"
     ]
    },
    {
     "cell_type": "heading",
     "level": 2,
     "metadata": {},
     "source": [
      "Compl\u00e9mement - niveau interm\u00e9diaire"
     ]
    },
    {
     "cell_type": "markdown",
     "metadata": {},
     "source": [
      "Quelques notes uniquement pour l'instant\n",
      "\n",
      "* typage statique : utile car le compilateur peut v\u00e9rifier des trucs \u00e0 propos de code qu'on n'ex\u00e9cute pas souvent;\n",
      "  mais tr\u00e8s contraignant pour le programmeur, qui doit fournir plus d'informations, et se retrouve parfois coinc\u00e9\n",
      "  \n",
      "* approche python : pas d'information de type dans le code (mais dans les objets) et v\u00e9rification \u00e0 run-time. On rel\u00e2che la contrainte sur le programmeur, le code est + petit, mais on d\u00e9couvre les erreurs de types tr\u00e8s tard (parfois trop tard alors que le code est en production)\n",
      "\n",
      "entre ces deux extr\u00eames : l'inf\u00e9rence de type (citer ML), le compilateur \"devine\" ce type d'informations, et le programmeur **peut** le cas \u00e9ch\u00e9ant aider en ajoutant des annotations"
     ]
    },
    {
     "cell_type": "markdown",
     "metadata": {},
     "source": [
      "Pour information il existe un projet baptis\u00e9 `mypy`, qui vise \u00e0 ajouter la possibilit\u00e9 d'annoter du code python avec des informations de type. Vous trouverez plus d'informations sur ce projet \u00e0 cette adresse\n",
      "\n",
      "http://www.mypy-lang.org/index.html\n",
      "\n",
      "Si ce sujet vous int\u00e9resse vous pouvez lire \u00e9galement le point de vue de Guido van Rossum sur ce point\n",
      "\n",
      "https://mail.python.org/pipermail/python-ideas/2014-August/028618.html\n"
     ]
    }
   ],
   "metadata": {}
  }
 ]
}