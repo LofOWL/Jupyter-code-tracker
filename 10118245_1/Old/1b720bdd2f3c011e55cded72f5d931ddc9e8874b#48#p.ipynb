{
 "metadata": {
  "kernelspec": {
   "display_name": "Python 2", 
   "language": "python", 
   "name": "python2"
  }, 
  "name": "", 
  "notebookname": "L'instruction del", 
  "version": "2.0"
 }, 
 "nbformat": 2, 
 "nbformat_minor": 0, 
 "orig_nbformat": 4, 
 "orig_nbformat_minor": 0, 
 "worksheets": [
  {
   "cells": [
    {
     "cell_type": "markdown", 
     "metadata": {}, 
     "source": [
      "<span style=\"float:left;\">Licence CC BY-NC-ND</span><span style=\"float:right;\">Thierry Parmentelat &amp; Arnaud Legout,<img src=\"media/inria-25.png\" style=\"display:inline\"></span><br/>"
     ]
    }, 
    {
     "cell_type": "markdown", 
     "metadata": {}, 
     "source": [
      "# L'instruction `del`"
     ]
    }, 
    {
     "cell_type": "markdown", 
     "metadata": {}, 
     "source": [
      "## Compl\u00e9ment - niveau basique"
     ]
    }, 
    {
     "cell_type": "markdown", 
     "metadata": {}, 
     "source": [
      "Voici un r\u00e9capitulatif sur l'instruction `del` selon le contexte dans lequel elle est utilis\u00e9e."
     ]
    }, 
    {
     "cell_type": "markdown", 
     "metadata": {}, 
     "source": [
      "### Sur une variable"
     ]
    }, 
    {
     "cell_type": "markdown", 
     "metadata": {}, 
     "source": [
      "On peut annuler la d\u00e9finition d'une variable. Dans la suite on capture une exception `NameError` qui est produite lorsqu'une variable est utilis\u00e9e alors qu'elle n'a aucune valeur. La capture de l'exception permet d'afficher un message plut\u00f4t qu'une exception. Nous discuterons du fonctionnement des exceptions en semaine 6. "
     ]
    }, 
    {
     "cell_type": "code", 
     "collapsed": false, 
     "input": [
      "# la variable a n'est pas d\u00e9finie", 
      "try:", 
      "    print 'a=', a", 
      "except NameError as e:", 
      "    print \"a n'est pas d\u00e9finie\""
     ], 
     "language": "python", 
     "metadata": {}, 
     "outputs": [], 
     "prompt_number": null
    }, 
    {
     "cell_type": "code", 
     "collapsed": false, 
     "input": [
      "# on la d\u00e9finit", 
      "a = 10", 
      "", 
      "try:", 
      "    print 'a=', a", 
      "except NameError as e:", 
      "    print \"a n'est pas d\u00e9finie\""
     ], 
     "language": "python", 
     "metadata": {}, 
     "outputs": [], 
     "prompt_number": null
    }, 
    {
     "cell_type": "code", 
     "collapsed": false, 
     "input": [
      "# on peut effacer la variable", 
      "del a", 
      "", 
      "try:", 
      "    print 'a=', a", 
      "except NameError as e:", 
      "    print \"a n'est pas d\u00e9finie\""
     ], 
     "language": "python", 
     "metadata": {}, 
     "outputs": [], 
     "prompt_number": null
    }, 
    {
     "cell_type": "markdown", 
     "metadata": {}, 
     "source": [
      "### Sur une liste"
     ]
    }, 
    {
     "cell_type": "markdown", 
     "metadata": {}, 
     "source": [
      "On peut enlever d'une liste les \u00e9l\u00e9ments qui correspondent \u00e0 une *slice*"
     ]
    }, 
    {
     "cell_type": "code", 
     "collapsed": false, 
     "input": [
      "# on se donne une liste", 
      "l = range(12)", 
      "print l"
     ], 
     "language": "python", 
     "metadata": {}, 
     "outputs": [], 
     "prompt_number": null
    }, 
    {
     "cell_type": "code", 
     "collapsed": false, 
     "input": [
      "# on consid\u00e8re une slice dans cette liste", 
      "print 'slice=', l[2:10:3]", 
      "", 
      "# voyons ce que \u00e7a donne si on efface cette slice", 
      "del l[2:10:3]", 
      "print \"apr\u00e8s del\", l"
     ], 
     "language": "python", 
     "metadata": {}, 
     "outputs": [], 
     "prompt_number": null
    }, 
    {
     "cell_type": "markdown", 
     "metadata": {}, 
     "source": [
      "### Sur un dictionnaire"
     ]
    }, 
    {
     "cell_type": "markdown", 
     "metadata": {}, 
     "source": [
      "Avec `del` on peut enlever une cl\u00e9, et donc la valeur correspondante, d'un dictionnaire"
     ]
    }, 
    {
     "cell_type": "code", 
     "collapsed": false, 
     "input": [
      "# partons d'un dictionaire simple", 
      "d = dict(foo='bar', spam='eggs', a='b')", 
      "print d"
     ], 
     "language": "python", 
     "metadata": {}, 
     "outputs": [], 
     "prompt_number": null
    }, 
    {
     "cell_type": "code", 
     "collapsed": false, 
     "input": [
      "# on peut enlever une cl\u00e9 avec del", 
      "del d['a']", 
      "print d"
     ], 
     "language": "python", 
     "metadata": {}, 
     "outputs": [], 
     "prompt_number": null
    }, 
    {
     "cell_type": "markdown", 
     "metadata": {}, 
     "source": [
      "### On peut passer \u00e0 `del` une liste"
     ]
    }, 
    {
     "cell_type": "code", 
     "collapsed": false, 
     "input": [
      "# Voyons o\u00f9 en sont nos donn\u00e9es", 
      "print 'l', l", 
      "print'd', d"
     ], 
     "language": "python", 
     "metadata": {}, 
     "outputs": [], 
     "prompt_number": null
    }, 
    {
     "cell_type": "code", 
     "collapsed": false, 
     "input": [
      "# on peut invoquer 'del' avec une liste - comme 'print'", 
      "del l[3:], d['spam']", 
      "", 
      "print 'l', l", 
      "print'd', d"
     ], 
     "language": "python", 
     "metadata": {}, 
     "outputs": [], 
     "prompt_number": null
    }, 
    {
     "cell_type": "markdown", 
     "metadata": {}, 
     "source": [
      "### Pour en savoir plus"
     ]
    }, 
    {
     "cell_type": "markdown", 
     "metadata": {}, 
     "source": [
      "La page sur [l'instruction `del`](https://docs.python.org/2/reference/simple_stmts.html#the-del-statement) dans la documentation python"
     ]
    }
   ], 
   "metadata": {}
  }
 ]
}
