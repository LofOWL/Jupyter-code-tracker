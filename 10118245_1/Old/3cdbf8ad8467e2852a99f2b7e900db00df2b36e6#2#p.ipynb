{
 "metadata": {
  "kernelspec": {
   "display_name": "Python 2", 
   "language": "python", 
   "name": "python2"
  }, 
  "name": "", 
  "notebookname": "Modes d'ex\u00e9cution", 
  "version": "2.0"
 }, 
 "nbformat": 2, 
 "nbformat_minor": 0, 
 "orig_nbformat": 4, 
 "orig_nbformat_minor": 0, 
 "worksheets": [
  {
   "cells": [
    {
     "cell_type": "markdown", 
     "metadata": {}, 
     "source": [
      "<span style=\"float:left;\">Licence CC BY-NC-ND</span><span style=\"float:right;\">Thierry Parmentelat &amp; Arnaud Legout&nbsp;<img src=\"media/inria-25.png\" style=\"display:inline\"></span><br/>"
     ]
    }, 
    {
     "cell_type": "markdown", 
     "metadata": {}, 
     "source": [
      "# Modes d'ex\u00e9cution"
     ]
    }, 
    {
     "cell_type": "markdown", 
     "metadata": {}, 
     "source": [
      "Nous avons donc \u00e0 notre disposition plusieurs fa\u00e7ons d'ex\u00e9cuter un programme python. Nous allons les \u00e9tudier plus en d\u00e9tail.   ", 
      "", 
      "<table>", 
      "<thead> <tr><th>Quoi</th><th>Avec quel outil</th></tr>", 
      "<tr><td>ligne \u00e0 ligne</td><td>avec IDLE ou python interactif</td></tr>", 
      "<tr><td>fichier complet</td><td>`python <fichier>.py` </td></tr>", 
      "<tr><td>par fragments </td><td>dans un notebook</td></tr>", 
      "</table>"
     ]
    }, 
    {
     "cell_type": "markdown", 
     "metadata": {}, 
     "source": [
      "Pour cela nous allons voir le comportement d'un tout petit programme python lorsqu'on l'ex\u00e9cute sous ces trois environnements.", 
      "", 
      "L'objectif de cet exercice est de vous convaincre que - heureusement - les trois environnements se comportent de la m\u00eame fa\u00e7on, avec toutefois une petite diff\u00e9rence quant au niveau de d\u00e9tail de ce qui se trouve imprim\u00e9."
     ]
    }, 
    {
     "cell_type": "markdown", 
     "metadata": {}, 
     "source": [
      "Essentiellement, lorsqu'on utilise l'interpr\u00e9teur en mode interactif - ou sous IDLE - \u00e0 chaque fois que l'on tape une ligne, le r\u00e9sultat est **calcul\u00e9** (on dit aussi **\u00e9valu\u00e9**) **et imprim\u00e9**", 
      "", 
      "Par contre lorsqu'on \u00e9crit tout un programme, on ne peut plus imprimer le r\u00e9sultat de toutes les lignes, cela produirait un flot d'impression beaucoup trop important. ", 
      "", 
      "Enfin en ce qui concerne le notebook, le comportement est un peu hybride entre les deux, en ce sens que seul le **dernier r\u00e9sultat** de la cellule est imprim\u00e9. "
     ]
    }, 
    {
     "cell_type": "markdown", 
     "metadata": {}, 
     "source": [
      "### L'interpr\u00e9teur python interactif"
     ]
    }, 
    {
     "cell_type": "markdown", 
     "metadata": {}, 
     "source": [
      "Le programme choisi est tr\u00e8s simple, c'est le suivant"
     ]
    }, 
    {
     "cell_type": "markdown", 
     "metadata": {}, 
     "source": [
      "    10 * 10", 
      "    20 * 20", 
      "    30 * 30"
     ]
    }, 
    {
     "cell_type": "markdown", 
     "metadata": {}, 
     "source": [
      "Voici comment se comporte l'interpr\u00e9teur interactif quand on lui soumet ces instructions"
     ]
    }, 
    {
     "cell_type": "markdown", 
     "metadata": {}, 
     "source": [
      "    ~ $ python", 
      "    Python 2.7.7 (default, Jun  2 2014, 01:41:14)", 
      "    [GCC 4.2.1 Compatible Apple LLVM 5.1 (clang-503.0.40)] on darwin", 
      "    Type \"help\", \"copyright\", \"credits\" or \"license\" for more information.", 
      "    >>> 10 * 10", 
      "    100", 
      "    >>> 20 * 20", 
      "    400", 
      "    >>> 30 * 30", 
      "    900", 
      "    >>> exit()", 
      "    ~ $"
     ]
    }, 
    {
     "cell_type": "markdown", 
     "metadata": {}, 
     "source": [
      "Noter que pour terminer la session, il nous faut \"sortir\" de l'interpr\u00e9teur en tapant `exit()`", 
      "", 
      "On peut aussi taper `Control-D` sous linux ou MacOS."
     ]
    }, 
    {
     "cell_type": "markdown", 
     "metadata": {}, 
     "source": [
      "Comme on le voit ici, l'interpr\u00e9teur imprime **le r\u00e9sultat de chaque ligne**. On voit bien appara\u00eetre toutes les valeurs calcul\u00e9es, 100, 400, puis enfin 900."
     ]
    }, 
    {
     "cell_type": "markdown", 
     "metadata": {}, 
     "source": [
      "### Sous forme de programme constitu\u00e9"
     ]
    }, 
    {
     "cell_type": "markdown", 
     "metadata": {}, 
     "source": [
      "Voyons \u00e0 pr\u00e9sent ce que donne cette m\u00eame s\u00e9quence de calculs dans un programme complet. Pour cela il nous faut tout d'abord fabriquer un fichier, que la tradition veut avec un suffixe en `.py`, en utilisant par exemple un \u00e9diteur de fichier. Le r\u00e9sultat doit ressembler \u00e0 ceci:"
     ]
    }, 
    {
     "cell_type": "markdown", 
     "metadata": {}, 
     "source": [
      "    ~ $ cat foo.py", 
      "    10 * 10", 
      "    20 * 20", 
      "    30 * 30", 
      "    ~ $ "
     ]
    }, 
    {
     "cell_type": "markdown", 
     "metadata": {}, 
     "source": [
      "Ex\u00e9cutons \u00e0 pr\u00e9sent ce programme:"
     ]
    }, 
    {
     "cell_type": "markdown", 
     "metadata": {}, 
     "source": [
      "    ~ $ python foo.py", 
      "    ~ $"
     ]
    }, 
    {
     "cell_type": "markdown", 
     "metadata": {}, 
     "source": [
      "On constate donc que ce programme ne fait rien. En tous cas selon toute apparence. ", 
      "", 
      "Ce qui se passe en r\u00e9alit\u00e9, c'est que les 3 valeurs 100, 400 et 900 sont bien calcul\u00e9es, mais comme aucune instruction `print` n'est pr\u00e9sente, rien n'est imprim\u00e9 et le programme se termine sans signe apparent d'avoir r\u00e9ellement fonctionn\u00e9.", 
      "", 
      "Ce comportement peut para\u00eetre un peu d\u00e9routant au d\u00e9but, mais comme nous l'avons mentionn\u00e9 c'est tout \u00e0 fait d\u00e9lib\u00e9r\u00e9. Un programme fonctionnel faisant facilement plusieurs milliers de lignes, voire beaucoup plus, il ne serait pas du tout r\u00e9aliste que chaque ligne fasse l'objet d'une impression automatique comme c'est le cas en mode interactif."
     ]
    }, 
    {
     "cell_type": "markdown", 
     "metadata": {}, 
     "source": [
      "### Dans un notebook"
     ]
    }, 
    {
     "cell_type": "markdown", 
     "metadata": {}, 
     "source": [
      "Voici \u00e0 pr\u00e9sent le m\u00eame programme dans un notebook"
     ]
    }, 
    {
     "cell_type": "code", 
     "collapsed": false, 
     "input": [
      "10 * 10", 
      "20 * 20", 
      "30 * 30"
     ], 
     "language": "python", 
     "metadata": {}, 
     "outputs": [], 
     "prompt_number": null
    }, 
    {
     "cell_type": "markdown", 
     "metadata": {}, 
     "source": [
      "Lorsqu'on ex\u00e9cute cette cellule (rappel : s\u00e9lectionner la cellule, et utiliser le bouton en forme de fl\u00eache vers la droite, ou entrer **\"Shift+Enter\"** au clavier), on obtient une seule valeur dans la rubrique 'Out', 900, qui correspond **au r\u00e9sultat de la derni\u00e8re ligne.**"
     ]
    }, 
    {
     "cell_type": "markdown", 
     "metadata": {}, 
     "source": [
      "### Utiliser `print`"
     ]
    }, 
    {
     "cell_type": "markdown", 
     "metadata": {}, 
     "source": [
      "Ainsi pour afficher un r\u00e9sultat interm\u00e9diaire, on utilise l'instruction `print`. Nous verrons cette instruction en d\u00e9tail dans les semaines qui viennent, mais en guise d'introduction disons seulement qu'on la fait suivre d'une liste d'expressions comme ceci:"
     ]
    }, 
    {
     "cell_type": "code", 
     "collapsed": false, 
     "input": [
      "a = 10", 
      "b = 20", 
      "", 
      "print a, b"
     ], 
     "language": "python", 
     "metadata": {}, 
     "outputs": [], 
     "prompt_number": null
    }, 
    {
     "cell_type": "markdown", 
     "metadata": {}, 
     "source": [
      "On peut naturellement m\u00e9langer des objets de plusieurs types, et donc m\u00e9langer des strings et des nombres pour obtenir un r\u00e9sultat un peu plus lisible; en effet lorsque le programme devient gros, il est important de savoir \u00e0 quoi correspond une ligne dans le flot de toutes les impressions. Aussi on pr\u00e9f\u00e8rera quelque chose comme:"
     ]
    }, 
    {
     "cell_type": "code", 
     "collapsed": false, 
     "input": [
      "print \"a=\", a, \"et b=\", b"
     ], 
     "language": "python", 
     "metadata": {}, 
     "outputs": [], 
     "prompt_number": null
    }, 
    {
     "cell_type": "markdown", 
     "metadata": {}, 
     "source": [
      "Une pratique courante consiste d'ailleurs \u00e0 utiliser les commentaires pour laisser dans le code les instructions `print` qui correspondent \u00e0 du debug (c'est-\u00e0-dire qui ont pu \u00eatre utiles lors de la mise au point et qu'on veut pouvoir r\u00e9activer rapidement)."
     ]
    }, 
    {
     "cell_type": "markdown", 
     "metadata": {}, 
     "source": [
      "### Utiliser `print` pour \"sous-titrer\" une affectation"
     ]
    }, 
    {
     "cell_type": "markdown", 
     "metadata": {}, 
     "source": [
      "Remarquons enfin et surtout le fait que l'affectation \u00e0 une variable ne retourne aucun r\u00e9sultat. ", 
      "", 
      "C'est \u00e0 dire en pratique que si on \u00e9crit"
     ]
    }, 
    {
     "cell_type": "code", 
     "collapsed": false, 
     "input": [
      "a = 100"
     ], 
     "language": "python", 
     "metadata": {}, 
     "outputs": [], 
     "prompt_number": null
    }, 
    {
     "cell_type": "markdown", 
     "metadata": {}, 
     "source": [
      "m\u00eame une fois l'expression \u00e9valu\u00e9e par l'interpr\u00e9teur, aucune ligne `Out[]` n'est ajout\u00e9e."
     ]
    }, 
    {
     "cell_type": "markdown", 
     "metadata": {}, 
     "source": [
      "C'est pourquoi il nous arrivera parfois, et notamment lorsque l'expression est complexe, pour rendre plus explicite la valeur qui vient d'\u00eatre affect\u00e9e, d'\u00e9crire alors plut\u00f4t"
     ]
    }, 
    {
     "cell_type": "code", 
     "collapsed": false, 
     "input": [
      "a = 100 ; print a"
     ], 
     "language": "python", 
     "metadata": {}, 
     "outputs": [], 
     "prompt_number": null
    }, 
    {
     "cell_type": "markdown", 
     "metadata": {}, 
     "source": [
      "Notez bien que cette techinque est uniquement p\u00e9dagogique et n'a absolument aucun autre int\u00e9r\u00eat dans la pratique, il n'est **pas recommand\u00e9** de l'utiliser en dehors de ce contexte."
     ]
    }
   ], 
   "metadata": {}
  }
 ]
}
