{
 "metadata": {
  "kernelspec": {
   "display_name": "Python 2", 
   "language": "python", 
   "name": "python2"
  }, 
  "name": "", 
  "notebookname": "`if` comme expression", 
  "version": "2.0"
 }, 
 "nbformat": 2, 
 "nbformat_minor": 0, 
 "orig_nbformat": 4, 
 "orig_nbformat_minor": 0, 
 "worksheets": [
  {
   "cells": [
    {
     "cell_type": "markdown", 
     "metadata": {}, 
     "source": [
      "<span style=\"float:left;\">Licence CC BY-NC-ND</span><span style=\"float:right;\">Thierry Parmentelat &amp; Arnaud Legout,<img src=\"media/inria-25.png\" style=\"display:inline\"></span><br/>"
     ]
    }, 
    {
     "cell_type": "markdown", 
     "metadata": {}, 
     "source": [
      "# Une forme alternative du `if`"
     ]
    }, 
    {
     "cell_type": "markdown", 
     "metadata": {}, 
     "source": [
      "## Compl\u00e9ment - niveau basique"
     ]
    }, 
    {
     "cell_type": "markdown", 
     "metadata": {}, 
     "source": [
      "### Expressions et instructions"
     ]
    }, 
    {
     "cell_type": "markdown", 
     "metadata": {}, 
     "source": [
      "M\u00eame si cela n'a pas \u00e9t\u00e9 \"sous-titr\u00e9\" jusqu'\u00e0 pr\u00e9sent, vous aurez peut-\u00eatre remarqu\u00e9 que les constructions python que nous avons vues jusqu'ici peuvent se ranger en deux familles. ", 
      "", 
      "D'une part les **expressions** sont les fragments de code qui **retournent une valeur**; c'est le cas lorsqu'on invoque n'importe quel op\u00e9rateur num\u00e9rique ou pour les appels de fonctions.", 
      "", 
      "D'autre part les **instructions**; dans cette famille, jusqu'ici nous avons vu `print`, l'affectation, et `if`, et nous en verrons bien d'autres.", 
      "", 
      "La diff\u00e9rence essentielle est que les expressions peuvent \u00eatre combin\u00e9es entre elles pour faire des expressions arbitrairement grosses. Aussi si vous avez un doute pour savoir si vous avez affaire \u00e0 une expression ou \u00e0 une instruction, demandez vous si vous pourriez utiliser ce code **comme membre droit d'une affectation**. Si oui, vous avez une expression.", 
      "    "
     ]
    }, 
    {
     "cell_type": "markdown", 
     "metadata": {}, 
     "source": [
      "### `if` est une instruction"
     ]
    }, 
    {
     "cell_type": "markdown", 
     "metadata": {}, 
     "source": [
      "La forme du `if` qui vous a \u00e9t\u00e9 pr\u00e9sent\u00e9e pendant la vid\u00e9o ne peut donc pas servir \u00e0 renvoyer une valeur. Nous allons voir ce que cela implique pour \u00e9crire quelque chose d'aussi simple que *\"affecter \u00e0 y la valeur 12 ou 35, selon que x est vrai ou non\"*."
     ]
    }, 
    {
     "cell_type": "markdown", 
     "metadata": {}, 
     "source": [
      "En python donc, `if ` n'est pas une expression, donc on ne peut pas l'utiliser pour \u00e9crire quelque chose comme : "
     ]
    }, 
    {
     "cell_type": "markdown", 
     "metadata": {}, 
     "source": [
      "    # ceci n'est pas du python", 
      "    y = ( if x : 12 ; else 35 )"
     ]
    }, 
    {
     "cell_type": "markdown", 
     "metadata": {}, 
     "source": [
      "Avec les notions introduites jusqu'ici, il nous faudrait \u00e9crire ceci:"
     ]
    }, 
    {
     "cell_type": "code", 
     "collapsed": false, 
     "input": [
      "x = True", 
      "if x:", 
      "    y = 12", 
      "else:", 
      "    y = 35", 
      "print y"
     ], 
     "language": "python", 
     "metadata": {}, 
     "outputs": [], 
     "prompt_number": null
    }, 
    {
     "cell_type": "markdown", 
     "metadata": {}, 
     "source": [
      "### Expression conditionnelle"
     ]
    }, 
    {
     "cell_type": "markdown", 
     "metadata": {}, 
     "source": [
      "On trouve dans de nombreux langages l'\u00e9valuation conditionnelle comme une expression; par exemple en C, pour ceux qui connaissent, avec la forme", 
      "", 
      "    y = ( x ? 12 : 35 ) /* version C */", 
      "    ", 
      "Aussi, avec la version 2.5 de python a \u00e9t\u00e9 introduite la forme dite d'expression conditionnelle, qui est une **expression \u00e0 part enti\u00e8re**, avec la syntaxe", 
      "", 
      "    <si_vrai> if <condition> else <si_faux> # version python", 
      "    ", 
      "Ainsi on pourrait \u00e9crire l'exemple ci-dessus de mani\u00e8re plus simple et plus concise comme ceci"
     ]
    }, 
    {
     "cell_type": "code", 
     "collapsed": false, 
     "input": [
      "y = 12 if x else 35", 
      "print y"
     ], 
     "language": "python", 
     "metadata": {}, 
     "outputs": [], 
     "prompt_number": null
    }, 
    {
     "cell_type": "markdown", 
     "metadata": {}, 
     "source": [
      "Nous aurons l'occasion de voir de nombreux exemples o\u00f9 cette construction rend le style de programmation plus fonctionnel et plus fluide."
     ]
    }, 
    {
     "cell_type": "markdown", 
     "metadata": {}, 
     "source": [
      "## Compl\u00e9ment - niveau interm\u00e9diaire"
     ]
    }, 
    {
     "cell_type": "markdown", 
     "metadata": {}, 
     "source": [
      "### Pour en savoir plus"
     ]
    }, 
    {
     "cell_type": "markdown", 
     "metadata": {}, 
     "source": [
      " * La section sur les [expressions conditionnelles](https://docs.python.org/2/reference/expressions.html#conditional-expressions) de la documentation python", 
      " * Le [PEP308](http://legacy.python.org/dev/peps/pep-0308/) qui r\u00e9sume les discussions ayant donn\u00e9 lieu au choix de la syntaxe adopt\u00e9e", 
      "", 
      "De mani\u00e8re g\u00e9n\u00e9rale, les PEP rassemblent les discussions pr\u00e9alables \u00e0 toutes les \u00e9volutions majeures du langage python."
     ]
    }
   ], 
   "metadata": {}
  }
 ]
}
