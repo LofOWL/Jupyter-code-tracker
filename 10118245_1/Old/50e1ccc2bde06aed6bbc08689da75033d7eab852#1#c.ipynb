{
 "metadata": {
  "kernelspec": {
   "display_name": "Python 2", 
   "language": "python", 
   "name": "python2"
  }, 
  "language_info": {
   "codemirror_mode": {
    "name": "ipython", 
    "version": 2
   }, 
   "file_extension": ".py", 
   "mimetype": "text/x-python", 
   "name": "python", 
   "nbconvert_exporter": "python", 
   "pygments_lexer": "ipython2", 
   "version": "2.7.12"
  }, 
  "name": "", 
  "notebookname": "Cl\u00e9s immuables", 
  "version": "2.0"
 }, 
 "nbformat": 2, 
 "nbformat_minor": 0, 
 "orig_nbformat": 4, 
 "orig_nbformat_minor": 1, 
 "worksheets": [
  {
   "cells": [
    {
     "cell_type": "markdown", 
     "metadata": {}, 
     "source": [
      "<span style=\"float:left;\">Licence CC BY-NC-ND</span><span style=\"float:right;\">Thierry Parmentelat &amp; Arnaud Legout&nbsp;<img src=\"media/inria-25.png\" style=\"display:inline\"></span><br/>"
     ]
    }, 
    {
     "cell_type": "markdown", 
     "metadata": {}, 
     "source": [
      "# Cl\u00e9s immuables"
     ]
    }, 
    {
     "cell_type": "markdown", 
     "metadata": {}, 
     "source": [
      "## Compl\u00e9ment - niveau interm\u00e9daire"
     ]
    }, 
    {
     "cell_type": "markdown", 
     "metadata": {}, 
     "source": [
      "Nous avons vu comment manipuler un dictionnaire, il nous reste \u00e0 voir un peu plus en d\u00e9tail les contraintes qui sont mises par le langage sur ce qui peut servir de cl\u00e9 dans un dictionnaire."
     ]
    }, 
    {
     "cell_type": "markdown", 
     "metadata": {}, 
     "source": [
      "### Une cl\u00e9 doit \u00eatre immuable"
     ]
    }, 
    {
     "cell_type": "markdown", 
     "metadata": {}, 
     "source": [
      "Si vous vous souvenez de la vid\u00e9o sur les tables de hash, la m\u00e9canique interne du dictionnaire repose sur le calcul, \u00e0 partir de chaque cl\u00e9, d'une fonction de hachage. ", 
      "", 
      "C'est-\u00e0-dire que pour simplifier, on localise la pr\u00e9sence d'une cl\u00e9 en calculant d'abord", 
      "", 
      "$ f ( cl\u00e9 )  = hash  $", 
      "", 
      "puis on poursuit la recherche en utilisant $hash$ comme indice dans le tableau contenant les couples (cl\u00e9, valeur).", 
      "", 
      "On le rappelle, c'est cette astuce qui permet de r\u00e9aliser les op\u00e9rations sur les dictionnaires en temps constant - c'est-\u00e0-dire ind\u00e9pendamment du nombre d'\u00e9l\u00e9ments."
     ]
    }, 
    {
     "cell_type": "markdown", 
     "metadata": {}, 
     "source": [
      "Cependant, pour que ce m\u00e9canisme fonctionne, il est indispensable que la valeur de la cl\u00e9 reste inchang\u00e9e pendant la dur\u00e9e de vie du dictionnaire. Sinon, bien entendu, on pourrait avoir le sc\u00e9nario suivant:", 
      " * on range un tuple `(clef, valeur)` \u00e0 un premier indice $f(clef) = hash_1 $", 
      " * on modifie la valeur de $clef$ qui devient $clef'$", 
      " * on recherche notre valeur \u00e0 l'indice $f(clef')  = hash_2 \\neq hash_1$ ", 
      "", 
      "et donc avec ces hypoth\u00e8ses on n'a plus la garantie de bon fonctionnement de la logique."
     ]
    }, 
    {
     "cell_type": "markdown", 
     "metadata": {}, 
     "source": [
      "### Une cl\u00e9 doit \u00eatre globalement immuable"
     ]
    }, 
    {
     "cell_type": "markdown", 
     "metadata": {}, 
     "source": [
      "Nous avons depuis le d\u00e9but du cours longuement insist\u00e9 sur le caract\u00e8re mutable ou immuable des diff\u00e9rents types pr\u00e9d\u00e9finis de python. Vous devez donc \u00e0 pr\u00e9sent avoir au moins en partie ce tableau en t\u00eate:", 
      "", 
      "<table>", 
      "<thead><th>Type</th><th></th></thead>", 
      "<tbody>", 
      "<tr><td>`int`,`long`,`float`</td><td>immuable</td></tr>", 
      "<tr><td>`complex`,`bool`</td><td>immuable</td></tr>", 
      "<tr><td>`str`</td><td>immuable</td></tr>", 
      "<tr><td>`list`</td><td>mutable</td></tr>", 
      "<tr><td>`dict`</td><td>mutable</td></tr>", 
      "<tr><td>`set`</td><td>mutable</td></tr>", 
      "<tr><td>`frozenset`</td><td>immuable</td></tr>", 
      "</tbody>", 
      "</table>"
     ]
    }, 
    {
     "cell_type": "markdown", 
     "metadata": {}, 
     "source": [
      "Le point important ici, est qu'il **ne suffit pas**, pour une cl\u00e9, d'\u00eatre **de type immuable**.", 
      "", 
      "On peut le voir sur cet exemple tr\u00e8s simple.", 
      "", 
      "Donnons nous donc un dictionnaire"
     ]
    }, 
    {
     "cell_type": "code", 
     "collapsed": false, 
     "input": [
      "d = {}"
     ], 
     "language": "python", 
     "metadata": {}, 
     "outputs": [], 
     "prompt_number": null
    }, 
    {
     "cell_type": "markdown", 
     "metadata": {}, 
     "source": [
      "Et commen\u00e7ons avec un objet de type immuable, un tuple d'entiers"
     ]
    }, 
    {
     "cell_type": "code", 
     "collapsed": false, 
     "input": [
      "bonne_cle = (1, 2)"
     ], 
     "language": "python", 
     "metadata": {}, 
     "outputs": [], 
     "prompt_number": null
    }, 
    {
     "cell_type": "markdown", 
     "metadata": {}, 
     "source": [
      "Cet objet est non seulement **de type immuable**, mais tous ses composants et sous-composants sont **immuables**, on peut donc l'utiliser comme cl\u00e9 dans le dictionnaire"
     ]
    }, 
    {
     "cell_type": "code", 
     "collapsed": false, 
     "input": [
      "d[bonne_cle] = \"pas de probleme ici\"", 
      "print d"
     ], 
     "language": "python", 
     "metadata": {}, 
     "outputs": [], 
     "prompt_number": null
    }, 
    {
     "cell_type": "markdown", 
     "metadata": {}, 
     "source": [
      "Si \u00e0 pr\u00e9sent on essaie d'utiliser comme cl\u00e9 un tuple qui contient une liste:"
     ]
    }, 
    {
     "cell_type": "code", 
     "collapsed": false, 
     "input": [
      "mauvaise_cle = (1, [1, 2])"
     ], 
     "language": "python", 
     "metadata": {}, 
     "outputs": [], 
     "prompt_number": null
    }, 
    {
     "cell_type": "markdown", 
     "metadata": {}, 
     "source": [
      "Il se trouve que cette cl\u00e9, **bien que de type immuable**, peut \u00eatre **indirectement modifi\u00e9e** puisque:"
     ]
    }, 
    {
     "cell_type": "code", 
     "collapsed": false, 
     "input": [
      "mauvaise_cle[1].append(3)", 
      "print mauvaise_cle"
     ], 
     "language": "python", 
     "metadata": {}, 
     "outputs": [], 
     "prompt_number": null
    }, 
    {
     "cell_type": "markdown", 
     "metadata": {}, 
     "source": [
      "Et c'est pourquoi on ne peut pas utiliser cet objet comme cl\u00e9 dans le dictionnaire"
     ]
    }, 
    {
     "cell_type": "code", 
     "collapsed": false, 
     "input": [
      "d[mauvaise_cle] = 'on ne peut pas faire ceci'"
     ], 
     "language": "python", 
     "metadata": {}, 
     "outputs": [], 
     "prompt_number": null
    }, 
    {
     "cell_type": "markdown", 
     "metadata": {}, 
     "source": [
      "Pour conclure, il faut retenir qu'un objet n'est \u00e9ligible pour \u00eatre utilis\u00e9 comme cl\u00e9 que s'il est **compos\u00e9 de types immuables du haut en bas** de la structure de donn\u00e9es."
     ]
    }, 
    {
     "cell_type": "markdown", 
     "metadata": {}, 
     "source": [
      "La raison d'\u00eatre principale du type `tuple`, que nous avons vu la semaine pass\u00e9e, et du type `frozenset`, que nous verrons tr\u00e8s prochainement, est pr\u00e9cis\u00e9ment de construire de tels objets globalement immuables."
     ]
    }
   ], 
   "metadata": {}
  }
 ]
}
