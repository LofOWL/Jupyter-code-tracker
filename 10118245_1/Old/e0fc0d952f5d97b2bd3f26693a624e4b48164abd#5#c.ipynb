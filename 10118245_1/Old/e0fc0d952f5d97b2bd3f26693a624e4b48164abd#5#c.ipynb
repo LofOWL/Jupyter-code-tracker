{
 "metadata": {
  "kernelspec": {
   "display_name": "Python 2", 
   "language": "python", 
   "name": "python2"
  }, 
  "name": "", 
  "notebookname": "Prog. fonctionelle", 
  "version": "2.0"
 }, 
 "nbformat": 2, 
 "nbformat_minor": 0, 
 "orig_nbformat": 4, 
 "orig_nbformat_minor": 0, 
 "worksheets": [
  {
   "cells": [
    {
     "cell_type": "markdown", 
     "metadata": {}, 
     "source": [
      "<span style=\"float:left;\">Licence CC BY-NC-ND</span><span style=\"float:right;\">Thierry Parmentelat &amp; Arnaud Legout,<img src=\"media/inria-25.png\" style=\"display:inline\"></span><br/>"
     ]
    }, 
    {
     "cell_type": "markdown", 
     "metadata": {}, 
     "source": [
      "# Manipulation de fonctions"
     ]
    }, 
    {
     "cell_type": "markdown", 
     "metadata": {}, 
     "source": [
      "## Exercice - niveau interm\u00e9diaire"
     ]
    }, 
    {
     "cell_type": "code", 
     "collapsed": false, 
     "input": [
      "# Pour charger l'exercice", 
      "from corrections.w4s3_functional import exo_numbers"
     ], 
     "language": "python", 
     "metadata": {}, 
     "outputs": [], 
     "prompt_number": null
    }, 
    {
     "cell_type": "markdown", 
     "metadata": {}, 
     "source": [
      "On vous demande d'\u00e9crire une fonction `numbers` qui prend en argument une liste d'entiers, et qui retourne un tuple contenant", 
      " * la somme", 
      " * le produit", 
      " * le minimum", 
      " * le maximum", 
      "", 
      "des \u00e9l\u00e9ments de la liste"
     ]
    }, 
    {
     "cell_type": "code", 
     "collapsed": false, 
     "input": [
      "# par exemple", 
      "exo_numbers.example()"
     ], 
     "language": "python", 
     "metadata": {}, 
     "outputs": [], 
     "prompt_number": null
    }, 
    {
     "cell_type": "code", 
     "collapsed": false, 
     "input": [
      "def numbers(l):", 
      "    \"<votre_code>\""
     ], 
     "language": "python", 
     "metadata": {}, 
     "outputs": [], 
     "prompt_number": null
    }, 
    {
     "cell_type": "code", 
     "collapsed": false, 
     "input": [
      "# pour v\u00e9rifier votre code", 
      "exo_numbers.correction(numbers)"
     ], 
     "language": "python", 
     "metadata": {}, 
     "outputs": [], 
     "prompt_number": null
    }, 
    {
     "cell_type": "markdown", 
     "metadata": {}, 
     "source": [
      "## Exercice - niveau avanc\u00e9"
     ]
    }, 
    {
     "cell_type": "code", 
     "collapsed": false, 
     "input": [
      "# Pour charger l'exercice", 
      "from corrections.w4s3_functional import exo_compare"
     ], 
     "language": "python", 
     "metadata": {}, 
     "outputs": [], 
     "prompt_number": null
    }, 
    {
     "cell_type": "markdown", 
     "metadata": {}, 
     "source": [
      "\u00c0 pr\u00e9sent nous allons \u00e9crire une version tr\u00e8s simplifi\u00e9e de l'outil qui est utilis\u00e9 dans ce cours pour corriger les exercices. Vous remarquerez que les fonctions de correction, comme par exemple `exo_numbers.correction` ci-dessus, prennent en argument la fonction qu'il est question de corriger.", 
      "", 
      "On vous demande d'\u00e9crire une fonction `compare` qui prend en argument ", 
      " * deux fonctions `f` et `g`; imaginez que l'une d'entre elles fonctionne et qu'on cherche \u00e0 valider l'autre; dans cette version simplifi\u00e9e toutes les fonctions acceptent exactement un argument", 
      " * une liste d'entr\u00e9es `entrees`; vous pouvez supposer que chacune de ces entr\u00e9es est dans le domaine de `f` et de `g` (dit autrement, on peut appeler `f` et `g` sur chacune des entr\u00e9es sans craindre qu'une exception soit lev\u00e9e);", 
      "", 
      "Le r\u00e9sultat attendu pour le retour de `compare` est une liste qui contient autant de bool\u00e9ens que d'\u00e9l\u00e9ments dans entr\u00e9es, chacun indiquant si avec l'entr\u00e9e correspondante on a pu v\u00e9rifier que `f(entree) == g(entree)`.", 
      "", 
      "Dans cette premi\u00e8re version de l'exercice vous pouvez enfin supposer que les entr\u00e9es ne sont pas modifi\u00e9es par `f` ou `g`. "
     ]
    }, 
    {
     "cell_type": "markdown", 
     "metadata": {}, 
     "source": [
      "Pour information dans cet exercice:", 
      " * `factorial` correspond \u00e0 `math.factorial`", 
      " * `fact` et `broken_fact` sont des fonctions impl\u00e9ment\u00e9es par nos soins, la premi\u00e8re est correcte alors que la seconde retourne 0 au lieu de 1 pour l'entr\u00e9e 0."
     ]
    }, 
    {
     "cell_type": "code", 
     "collapsed": false, 
     "input": [
      "# par exemple", 
      "exo_compare.example()"
     ], 
     "language": "python", 
     "metadata": {}, 
     "outputs": [], 
     "prompt_number": null
    }, 
    {
     "cell_type": "markdown", 
     "metadata": {}, 
     "source": [
      "Ce qui, dit autrement, veut tout simplement dire que `fact` et `factorial` co\u00efncident sur les entr\u00e9es 0, 1 et 5."
     ]
    }, 
    {
     "cell_type": "code", 
     "collapsed": false, 
     "input": [
      "def compare(f, g, entrees):", 
      "    \"<votre code>\""
     ], 
     "language": "python", 
     "metadata": {}, 
     "outputs": [], 
     "prompt_number": null
    }, 
    {
     "cell_type": "code", 
     "collapsed": false, 
     "input": [
      "# pour v\u00e9rifier votre code", 
      "exo_compare.correction(compare)"
     ], 
     "language": "python", 
     "metadata": {}, 
     "outputs": [], 
     "prompt_number": null
    }
   ], 
   "metadata": {}
  }
 ]
}
