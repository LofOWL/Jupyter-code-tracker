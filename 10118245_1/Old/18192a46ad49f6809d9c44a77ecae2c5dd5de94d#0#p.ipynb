{
 "metadata": {
  "kernelspec": {
   "display_name": "Python 2",
   "language": "python",
   "name": "python2"
  },
  "notebookname": "S\u00e9quences",
  "signature": "sha256:d8da85056316df01060eeab9bc319f6657cfba8387940d04c71a69390fd6c592",
  "version": "2.0"
 },
 "nbformat": 3,
 "nbformat_minor": 0,
 "worksheets": [
  {
   "cells": [
    {
     "cell_type": "markdown",
     "metadata": {},
     "source": [
      "<span style=\"float:left;\">Licence CC BY-NC-ND</span><span style=\"float:right;\">Thierry Parmentelat &amp; Arnaud Legout,<img src=\"media/inria-25.png\" style=\"display:inline\"></span><br/>"
     ]
    },
    {
     "cell_type": "heading",
     "level": 1,
     "metadata": {},
     "source": [
      "S\u00e9quences"
     ]
    },
    {
     "cell_type": "heading",
     "level": 2,
     "metadata": {},
     "source": [
      "Exercice - niveau basique"
     ]
    },
    {
     "cell_type": "heading",
     "level": 3,
     "metadata": {},
     "source": [
      "Slicing"
     ]
    },
    {
     "cell_type": "markdown",
     "metadata": {},
     "source": [
      "Commen\u00e7ons par cr\u00e9er une cha\u00eene de caract\u00e8res. Ne vous inqui\u00e9tez pas si vous ne comprenez pas encore le code d'initialisation pr\u00e9sent\u00e9 ci-dessous. \n",
      "\n",
      "Pour les plus curieux, l'instruction `import`  permet de charger dans votre programme une bo\u00eete \u00e0 outils que l'on appelle un module. Python vient avec de nombreux modules qui forment la librairie standard. Le plus difficile avec les modules de la librairie standard est de savoir qu'ils existent. En effet, il y en a un grand nombre et bien souvent il existe un module pour faire ce que vous souhaitez. \n",
      "\n",
      "Pour vous familiariser avec les modules de la librairie standard et vous montrer qu'ils peuvent vous faire gagner du temps, nous en introduisons tr\u00e8s t\u00f4t certains. N'h\u00e9sitez pas \u00e0 regarder l'aide Python qui d\u00e9crit en d\u00e9tail tous les modules de la librairie standard, et en particulier le module `string` que l'on utilise ci-dessous."
     ]
    },
    {
     "cell_type": "code",
     "collapsed": false,
     "input": [
      "import string\n",
      "chaine = string.ascii_lowercase\n",
      "print chaine"
     ],
     "language": "python",
     "metadata": {},
     "outputs": []
    },
    {
     "cell_type": "markdown",
     "metadata": {},
     "source": [
      "Pour chacune des sous-cha\u00eenes ci-dessous, \u00e9crire une expression de slicing sur `chaine` qui renvoie la sous-cha\u00eene. La cellule de code doit retourner `True`"
     ]
    },
    {
     "cell_type": "markdown",
     "metadata": {},
     "source": [
      "Par exemple pour obtenir \"def\":"
     ]
    },
    {
     "cell_type": "code",
     "collapsed": false,
     "input": [
      "chaine[3:6] == \"def\""
     ],
     "language": "python",
     "metadata": {},
     "outputs": []
    },
    {
     "cell_type": "markdown",
     "metadata": {},
     "source": [
      "1) Pour obtenir \"vwx\" (n'h\u00e9sitez pas \u00e0 utiliser les indices n\u00e9gatifs)"
     ]
    },
    {
     "cell_type": "code",
     "collapsed": false,
     "input": [
      "chaine[ <votre_code> ] == \"vwx\""
     ],
     "language": "python",
     "metadata": {},
     "outputs": []
    },
    {
     "cell_type": "markdown",
     "metadata": {},
     "source": [
      "2) Pour obtenir \"wxyz\" (avec une seule constante)"
     ]
    },
    {
     "cell_type": "code",
     "collapsed": false,
     "input": [
      "chaine[ <votre_code> ] == \"wxyz\""
     ],
     "language": "python",
     "metadata": {},
     "outputs": []
    },
    {
     "cell_type": "markdown",
     "metadata": {},
     "source": [
      "3) Pour obtenir \"dfhjlnprtvxz\" (avec deux constantes)"
     ]
    },
    {
     "cell_type": "code",
     "collapsed": false,
     "input": [
      "chaine[ <votre_code> ] == \"dfhjlnprtvxz\""
     ],
     "language": "python",
     "metadata": {},
     "outputs": []
    },
    {
     "cell_type": "markdown",
     "metadata": {},
     "source": [
      "4) Pour obtenir \"xurolifc\" (avec deux constantes)"
     ]
    },
    {
     "cell_type": "code",
     "collapsed": false,
     "input": [
      "chaine[ <votre_code> ] == \"xurolifc\""
     ],
     "language": "python",
     "metadata": {},
     "outputs": []
    },
    {
     "cell_type": "heading",
     "level": 2,
     "metadata": {},
     "source": [
      "Exercice - niveau interm\u00e9diaire"
     ]
    },
    {
     "cell_type": "heading",
     "level": 3,
     "metadata": {},
     "source": [
      "Longueur"
     ]
    },
    {
     "cell_type": "code",
     "collapsed": false,
     "input": [
      "# pour charger l'exercice\n",
      "from corrections.w2s3_slicing import exo_inconnue"
     ],
     "language": "python",
     "metadata": {},
     "outputs": []
    },
    {
     "cell_type": "markdown",
     "metadata": {},
     "source": [
      "On vous donne une cha\u00eene `composite` dont on sait qu'elle a \u00e9t\u00e9 calcul\u00e9e \u00e0 partir de deux cha\u00eenes `inconnue` et `connue` comme ceci:"
     ]
    },
    {
     "cell_type": "markdown",
     "metadata": {},
     "source": [
      "    composite = connue + inconnue + connue"
     ]
    },
    {
     "cell_type": "markdown",
     "metadata": {},
     "source": [
      "On vous donne \u00e9galement la cha\u00eene `connue`. Imaginez par exemple que vous avez (ce ne sont pas les vraies valeurs):\n",
      "\n",
      "    connue = 0bf1\n",
      "    composite = 0bf1a9730e150bf1\n",
      "\n"
     ]
    },
    {
     "cell_type": "markdown",
     "metadata": {},
     "source": [
      "L'exercice consiste \u00e0 retrouver la valeur de `inconnue` \u00e0 partir de celles de `composite` et `connue`."
     ]
    },
    {
     "cell_type": "code",
     "collapsed": false,
     "input": [
      "# charger la valeur des deux cha\u00eenes 'connue' et 'composite'\n",
      "from corrections.w2s3_slicing import connue, composite"
     ],
     "language": "python",
     "metadata": {},
     "outputs": []
    },
    {
     "cell_type": "markdown",
     "metadata": {},
     "source": [
      "\u00c0 vous d'\u00e9crire du code pour retrouver `inconnue` \u00e0 partir de `composite` et `connue`. Vous pouvez utiliser du *slicing*, et la fonction `len()`. \n",
      "\n",
      "Pour \u00eatre parfaitement clair, dans l'esprit, votre calcul doit pouvoir fonctionner avec n'importe quelles valeurs de `composite` et `connue`, pas seulement celle que vous propose l'exercice. Donc par exemple \u00e9crire `inconnue = \"61538\"` ou m\u00eame `inconnue = composite[4:12]` ne sont pas des r\u00e9ponses valables."
     ]
    },
    {
     "cell_type": "code",
     "collapsed": false,
     "input": [
      "# vous pouvez bien s\u00fbr utiliser plusieurs lignes\n",
      "inconnue = \"votre code\""
     ],
     "language": "python",
     "metadata": {},
     "outputs": []
    },
    {
     "cell_type": "markdown",
     "metadata": {},
     "source": [
      "Une fois votre code \u00e9valu\u00e9, vous pouvez \u00e9valuer la cellule suivante pour v\u00e9rifier votre r\u00e9sultat."
     ]
    },
    {
     "cell_type": "code",
     "collapsed": false,
     "input": [
      "# correction\n",
      "exo_inconnue.correction(inconnue)"
     ],
     "language": "python",
     "metadata": {},
     "outputs": []
    },
    {
     "cell_type": "markdown",
     "metadata": {},
     "source": [
      "La correction vous montre:\n",
      " * dans la premi\u00e8re colonne la valeur que vous avez trouv\u00e9e pour `inconnue`,\n",
      " * dans la seconde colonne la vraie valeur de `composite`\n",
      " * dans la colonne de droite ce que donnerait `connue + inconnue + connue` avec votre valeur de `inconnue`.\n",
      " \n",
      "Si la ligne de couleur est en vert c'est que vous avez r\u00e9ussi cet exercice.\n",
      " \n",
      "Dans le cas contraire, et si votre variable `inconnue` est fausse au point par exemple de ne m\u00eame pas \u00eatre une cha\u00eene, vous pouvez voir appara\u00eetre le texte d'une exception dans la colonne de droite."
     ]
    }
   ],
   "metadata": {}
  }
 ]
}
