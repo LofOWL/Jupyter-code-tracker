{
 "cells": [
  {
   "cell_type": "markdown",
   "metadata": {},
   "source": [
    "# Quelques opérations utiles sur les nombres"
   ]
  },
  {
   "cell_type": "markdown",
   "metadata": {},
   "source": [
    "## Opérations 'bitwise'"
   ]
  },
  {
   "cell_type": "markdown",
   "metadata": {},
   "source": [
    "Il est possible aussi de faire des opérations \"bit-à-bit\" sur les nombres entiers. \\\\\n",
    "le plus simple est de penser à l'écriture du nombre en base 2"
   ]
  },
  {
   "cell_type": "markdown",
   "metadata": {},
   "source": [
    "Par exemple\n",
    "\n",
    "$x = 49 = 32 + 16 + 1 \\rightarrow (0,1,1,0,0,0,1) $\n",
    "\n",
    "$y = 81 = 64 + 16 + 1 \\rightarrow (1,0,1,0,0,0,1) $\n",
    "\n"
   ]
  },
  {
   "cell_type": "code",
   "execution_count": 1,
   "metadata": {},
   "outputs": [],
   "source": [
    "x=49\n",
    "y=81"
   ]
  },
  {
   "cell_type": "markdown",
   "metadata": {},
   "source": [
    "L'opération logique '&' va faire un 'et' logique bit à bit entre les opérandes, ainsi"
   ]
  },
  {
   "cell_type": "code",
   "execution_count": 4,
   "metadata": {},
   "outputs": [
    {
     "data": {
      "text/plain": [
       "17"
      ]
     },
     "execution_count": 4,
     "metadata": {},
     "output_type": "execute_result"
    }
   ],
   "source": [
    "x&y"
   ]
  },
  {
   "cell_type": "markdown",
   "metadata": {},
   "source": [
    "Et en effet\n",
    "\n",
    "$(0,1,1,0,0,0,1) $\n",
    "\n",
    "$(1,0,1,0,0,0,1) $\n",
    "\n",
    "$(0,0,1,0,0,0,1) \\rightarrow 17$\n"
   ]
  },
  {
   "cell_type": "markdown",
   "metadata": {},
   "source": [
    "De même, l'opération logique '|' fait simplement un 'ou' logique, comme ceci"
   ]
  },
  {
   "cell_type": "code",
   "execution_count": 5,
   "metadata": {},
   "outputs": [
    {
     "data": {
      "text/plain": [
       "113"
      ]
     },
     "execution_count": 5,
     "metadata": {},
     "output_type": "execute_result"
    }
   ],
   "source": [
    "x|y"
   ]
  },
  {
   "cell_type": "markdown",
   "metadata": {},
   "source": [
    "On s'y retrouve parce que\n",
    "\n",
    "$(0,1,1,0,0,0,1) $\n",
    "\n",
    "$(1,0,1,0,0,0,1) $\n",
    "\n",
    "$(1,1,1,0,0,0,1) \\rightarrow 64+32+16+1$\n"
   ]
  },
  {
   "cell_type": "code",
   "execution_count": null,
   "metadata": {},
   "outputs": [],
   "source": []
  }
 ],
 "metadata": {
  "kernelspec": {
   "display_name": "Python 3",
   "language": "python",
   "name": "python3"
  },
  "language_info": {
   "codemirror_mode": {
    "name": "ipython",
    "version": 3
   },
   "file_extension": ".py",
   "mimetype": "text/x-python",
   "name": "python",
   "nbconvert_exporter": "python",
   "pygments_lexer": "ipython3",
   "version": "3.7.3"
  }
 },
 "nbformat": 4,
 "nbformat_minor": 1
}
