{
 "metadata": {
  "notebookname": "Exp. g\u00e9n\u00e9ratrices",
  "signature": "sha256:a3b5b0fea96d71a068eaa90541d39682d1429909b87afa276e5d034971b3571b",
  "version": "1.0"
 },
 "nbformat": 3,
 "nbformat_minor": 0,
 "worksheets": [
  {
   "cells": [
    {
     "cell_type": "heading",
     "level": 1,
     "metadata": {},
     "source": [
      "Expressions g\u00e9n\u00e9ratrices"
     ]
    },
    {
     "cell_type": "heading",
     "level": 2,
     "metadata": {},
     "source": [
      "Compl\u00e9ment - niveau ???"
     ]
    },
    {
     "cell_type": "heading",
     "level": 3,
     "metadata": {},
     "source": [
      "Pour la structure : heading 3"
     ]
    },
    {
     "cell_type": "heading",
     "level": 5,
     "metadata": {},
     "source": [
      "ou heading 5"
     ]
    }
   ],
   "metadata": {}
  }
 ]
}