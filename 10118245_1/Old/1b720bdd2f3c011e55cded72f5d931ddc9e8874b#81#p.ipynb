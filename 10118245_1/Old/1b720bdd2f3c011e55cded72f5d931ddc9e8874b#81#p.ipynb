{
 "metadata": {
  "kernelspec": {
   "display_name": "Python 2", 
   "language": "python", 
   "name": "python2"
  }, 
  "name": "", 
  "notebookname": "UnboundLocalError", 
  "version": "2.0"
 }, 
 "nbformat": 2, 
 "nbformat_minor": 0, 
 "orig_nbformat": 4, 
 "orig_nbformat_minor": 0, 
 "worksheets": [
  {
   "cells": [
    {
     "cell_type": "markdown", 
     "metadata": {}, 
     "source": [
      "<span style=\"float:left;\">Licence CC BY-NC-ND</span><span style=\"float:right;\">Thierry Parmentelat &amp; Arnaud Legout,<img src=\"media/inria-25.png\" style=\"display:inline\"></span><br/>"
     ]
    }, 
    {
     "cell_type": "markdown", 
     "metadata": {}, 
     "source": [
      "# L'exception `UnboundLocalError`"
     ]
    }, 
    {
     "cell_type": "markdown", 
     "metadata": {}, 
     "source": [
      "## Compl\u00e9ment - niveau interm\u00e9diaire"
     ]
    }, 
    {
     "cell_type": "markdown", 
     "metadata": {}, 
     "source": [
      "Nous r\u00e9sumons ici quelques cas simples de port\u00e9e de variables"
     ]
    }, 
    {
     "cell_type": "markdown", 
     "metadata": {}, 
     "source": [
      "### Variable locale"
     ]
    }, 
    {
     "cell_type": "markdown", 
     "metadata": {}, 
     "source": [
      "Les **arguments** attendus par la fonction sont consid\u00e9r\u00e9s comme des variables **locales**. ", 
      "", 
      "Pour d\u00e9finir une autre variable locale, il suffit de la d\u00e9finir (l'affecter), elle devient alors accessible en lecture"
     ]
    }, 
    {
     "cell_type": "code", 
     "collapsed": false, 
     "input": [
      "def ma_fonction():", 
      "    variable1 = \"locale\"", 
      "    print variable1", 
      "ma_fonction()"
     ], 
     "language": "python", 
     "metadata": {}, 
     "outputs": [], 
     "prompt_number": null
    }, 
    {
     "cell_type": "markdown", 
     "metadata": {}, 
     "source": [
      "et ceci que l'on ait ou non une variable globale de m\u00eame nom"
     ]
    }, 
    {
     "cell_type": "code", 
     "collapsed": false, 
     "input": [
      "variable2 = \"globale\"", 
      "", 
      "def ma_fonction():", 
      "    variable2 = \"locale\"", 
      "    print variable2", 
      "ma_fonction()"
     ], 
     "language": "python", 
     "metadata": {}, 
     "outputs": [], 
     "prompt_number": null
    }, 
    {
     "cell_type": "markdown", 
     "metadata": {}, 
     "source": [
      "### Variable globale"
     ]
    }, 
    {
     "cell_type": "markdown", 
     "metadata": {}, 
     "source": [
      "On peut acc\u00e9der **en lecture**  \u00e0 une variable globale sans pr\u00e9caution particuli\u00e8re"
     ]
    }, 
    {
     "cell_type": "code", 
     "collapsed": false, 
     "input": [
      "variable3 = \"globale\"", 
      "def ma_fonction():", 
      "    print variable3", 
      "ma_fonction()"
     ], 
     "language": "python", 
     "metadata": {}, 
     "outputs": [], 
     "prompt_number": null
    }, 
    {
     "cell_type": "markdown", 
     "metadata": {}, 
     "source": [
      "### Mais il faut choisir !"
     ]
    }, 
    {
     "cell_type": "markdown", 
     "metadata": {}, 
     "source": [
      "Par contre on ne **peut pas** faire la chose suivante dans une fonction. On ne peut pas utiliser **d'abord** une variable comme une variable **globale**, **puis** essayer de l'affecter localement - ce qui signifie la d\u00e9clarer comme une **locale**:"
     ]
    }, 
    {
     "cell_type": "code", 
     "collapsed": false, 
     "input": [
      "# cet exemple ne fonctionne pas et leve UnboundLocalError", 
      "variable4 = \"globale\"", 
      "def ma_fonction():", 
      "    # on r\u00e9f\u00e9rence la variable globale", 
      "    print variable4", 
      "    # et maintenant on cr\u00e9e un variable locale", 
      "    variable4 = \"locale\"", 
      "", 
      "# on \"attrape\" l'exception", 
      "try:", 
      "    ma_fonction()", 
      "except Exception as e:", 
      "    print type(e)", 
      "    print e"
     ], 
     "language": "python", 
     "metadata": {}, 
     "outputs": [], 
     "prompt_number": null
    }, 
    {
     "cell_type": "markdown", 
     "metadata": {}, 
     "source": [
      "### Comment faire alors ?"
     ]
    }, 
    {
     "cell_type": "markdown", 
     "metadata": {}, 
     "source": [
      "L'int\u00e9r\u00eat de cette erreur est d'interdire de m\u00e9langer des variables locales et globales de m\u00eame nom dans une m\u00eame fonction. On comprend bien que \u00e7a serait vite incompr\u00e9hensible. Donc une variable dans une fonction peut \u00eatre soit locale si elle est affect\u00e9e dans la fonction ou sinon globale, mais jamais les deux \u00e0 la fois. Si vous avez une erreur `UnboundLocalError` c'est forc\u00e9ment que vous avez fait cette confusion. ", 
      "", 
      "Vous vous demandez peut-\u00eatre \u00e0 ce stade, mais comment fait-on alors pour modifier une variable globale depuis une fonction ?"
     ]
    }, 
    {
     "cell_type": "markdown", 
     "metadata": {}, 
     "source": [
      "Pour cela il faut utiliser l'instruction `global` comme ceci"
     ]
    }, 
    {
     "cell_type": "code", 
     "collapsed": false, 
     "input": [
      "# Pour r\u00e9soudre ce conflit il faut explicitement", 
      "# d\u00e9clarer la variable  comme globale", 
      "variable5 = \"globale\"", 
      "def ma_fonction():", 
      "    global variable5", 
      "    # on r\u00e9f\u00e9rence la variable globale", 
      "    print \"dans la fonction\", variable5", 
      "    # et maintenant on cr\u00e9e un variable locale", 
      "    variable5 = \"chang\u00e9e localement\"", 
      "", 
      "ma_fonction()", 
      "print \"apr\u00e8s la fonction\", variable5"
     ], 
     "language": "python", 
     "metadata": {}, 
     "outputs": [], 
     "prompt_number": null
    }, 
    {
     "cell_type": "markdown", 
     "metadata": {}, 
     "source": [
      "Nous reviendrons longuement sur l'instruction `global` dans la prochaine vid\u00e9o."
     ]
    }, 
    {
     "cell_type": "markdown", 
     "metadata": {}, 
     "source": [
      "### Bonnes pratiques"
     ]
    }, 
    {
     "cell_type": "markdown", 
     "metadata": {}, 
     "source": [
      "Cela \u00e9tant dit, l'utilisation de variables globales est g\u00e9n\u00e9ralement consid\u00e9r\u00e9e comme une mauvaise pratique. ", 
      "", 
      "Le fait d'utiliser une variable globale en *lecture seule* peut rester acceptable, lorsqu'il s'agit de mat\u00e9rialiser une constante qu'il est facile de changer. Mais dans une application aboutie, ces constantes elles-m\u00eames peuvent \u00eatre modifi\u00e9es par l'utilisateur via un syst\u00e8me de configuration, donc on pr\u00e9f\u00e9rera passer en argument un objet *config*.", 
      "", 
      "Et dans les cas o\u00f9 votre code doit recourir \u00e0 l'utilisation de l'instruction `global`, c'est tr\u00e8s probablement que quelque chose peut \u00eatre am\u00e9lior\u00e9 au niveau de la conception de votre code.", 
      "", 
      "Il est recommand\u00e9, au contraire, de passer en argument \u00e0 une fonction tout le contexte dont elle a besoin pour travailler; et \u00e0 l'inverse d'utiliser le r\u00e9sultat d'une fonction plut\u00f4t que de modifier une variable globale."
     ]
    }
   ], 
   "metadata": {}
  }
 ]
}
