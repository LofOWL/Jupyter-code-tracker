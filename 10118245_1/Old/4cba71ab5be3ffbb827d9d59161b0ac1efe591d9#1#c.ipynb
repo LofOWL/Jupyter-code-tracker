{
 "metadata": {
  "name": "",
  "notebookname": "type-checking",
  "signature": "sha256:4dc0a8aea1e4ed7bf03ad4e2e64859d8f7a6b6bfb8ddbb5f9a9325578542e39f",
  "version": "1.0"
 },
 "nbformat": 3,
 "nbformat_minor": 0,
 "worksheets": [
  {
   "cells": [
    {
     "cell_type": "heading",
     "level": 1,
     "metadata": {},
     "source": [
      "Langages typ\u00e9s ou non, typages statique et dynamique"
     ]
    },
    {
     "cell_type": "heading",
     "level": 2,
     "metadata": {},
     "source": [
      "Compl\u00e9ment - niveau interm\u00e9diaire"
     ]
    },
    {
     "cell_type": "markdown",
     "metadata": {},
     "source": [
      "Il est de tradition de distinguer, parmi les langages, ceux qui sont typ\u00e9s ou non. On parle aussi de langage \u00e0 typage statique ou \u00e0 typage dynamique. Ce notebook tente d'\u00e9claircir ces notions pour ceux qui n'y sont pas familiers."
     ]
    },
    {
     "cell_type": "heading",
     "level": 3,
     "metadata": {},
     "source": [
      "Typage statique"
     ]
    },
    {
     "cell_type": "markdown",
     "metadata": {},
     "source": [
      "\u00c0 une extr\u00e9mit\u00e9 du spectre, on trouve les langages dits fortement typ\u00e9s, comme par exemple C/C++. \n",
      "\n",
      "En C on \u00e9crira par exemple une version simpliste de la fonction factoriel comme ceci"
     ]
    },
    {
     "cell_type": "raw",
     "metadata": {},
     "source": [
      "#include <stdio.h>\n",
      "\n",
      "int factoriel (int n) {\n",
      "  int result = 1;\n",
      "  int loop;\n",
      "  for (loop = 1; loop <= n; loop ++) {\n",
      "    result *= loop;\n",
      "  }\n",
      "  return result;\n",
      "}"
     ]
    },
    {
     "cell_type": "markdown",
     "metadata": {},
     "source": [
      "Comme vous pouvez le voir - ou le deviner - toutes les variables utilis\u00e9es ici (comme par exemple `n`, `result`, `loop`, ..) sont typ\u00e9es:\n",
      " * on doit appeler `factoriel` avec un argument `n` qui doit \u00eatre un entier (`int` est le nom du type entier) \n",
      " * les variables internes `result` et `loop` sont de type entier\n",
      " * `factoriel` retourne une valeur de type entier"
     ]
    },
    {
     "cell_type": "markdown",
     "metadata": {},
     "source": [
      "C'est pourquoi on dit que C est fortement typ\u00e9. Ces informations de type ont essentiellement trois fonctions:\n",
      " * en premier lieu elles sont n\u00e9cessaires au compilateur; en C si le programmeur ne pr\u00e9cisait pas que result est de type entier, le compilateur n'aurait pas suffisamment d'\u00e9l\u00e9ments pour g\u00e9n\u00e9rer le code assembleur correspondant;\n",
      " * en contrepartie le programmeur a un contr\u00f4le tr\u00e8s fin de l'usage qu'il fait de la m\u00e9moire et du hardware. Il peut choisir d'utiliser un entier sur 32 ou 64 bits, sign\u00e9 ou pas, construire avec `struct` et `union` un arrangement de ses donn\u00e9es, etc .. ;\n",
      " * enfin, et surtout, ces informations de type permettent de faire un contr\u00f4le *a priori* de la validit\u00e9 du programme; par exemple si \u00e0 un autre endroit dans le code on trouve"
     ]
    },
    {
     "cell_type": "raw",
     "metadata": {},
     "source": [
      "int main (int argc, char *argv[]) {\n",
      "  /* le premier argument de la ligne de commande est argv[1] */\n",
      "  char *input = argv[1];\n",
      "  /* calculer son factoriel et afficher le resultat */\n",
      "  printf (\"Factoriel (%s) = %d\\n\",input,factoriel(input));\n",
      "  /*                                               ^^^                */\n",
      "  /* ici on appelle factoriel avec une entree 'chaine de caractere'   */\n",
      "  return 0;\n",
      "}"
     ]
    },
    {
     "cell_type": "markdown",
     "metadata": {},
     "source": [
      "alors le compilateur va remarquer qu'on essaie d'appeler `factoriel` avec comme argument `input` qui, pour faire simple, est une cha\u00eene de caract\u00e8res; et comme `factoriel` s'attend \u00e0 recevoir un entier ce programme n'a aucune chance de fonctionner.\n",
      "\n",
      "On parle alors aussi de **typage statique**, en ce sens que chaque variable a exactement un type, qui est d\u00e9fini par le programmeur une bonne fois pour toutes."
     ]
    },
    {
     "cell_type": "markdown",
     "metadata": {},
     "source": [
      "C'est ce qu'on appelle le **contr\u00f4le de type**, ou *type-checking* en anglais. Si on ignore le point sur le contr\u00f4le fin de la m\u00e9moire, qui n'est pas crucial \u00e0 notre sujet, le contr\u00f4le de type pr\u00e9sente \n",
      " * l'**inconv\u00e9nient** de demander davantage au programmeur, \n",
      " * et l'**avantage** de permettre un contr\u00f4le \u00e9tendu, et surtout pr\u00e9coce (avant m\u00eame de l'ex\u00e9cuter) de la bonne correction du programme"
     ]
    },
    {
     "cell_type": "heading",
     "level": 3,
     "metadata": {},
     "source": [
      "Typage dynamique"
     ]
    },
    {
     "cell_type": "markdown",
     "metadata": {},
     "source": [
      "\u00c0 l'autre bout du spectre, on trouve des langages comme, eh bien, python. Si nous reprenons l'exemple de `factoriel` comme on l'a vu dans la toute premi\u00e8re vid\u00e9o:"
     ]
    },
    {
     "cell_type": "code",
     "collapsed": false,
     "input": [
      "def factoriel (n):\n",
      "    \"\"\"retourne le produit des n premiers entiers\"\"\"\n",
      "    return 1 if n <= 1 else n * factoriel (n-1)"
     ],
     "language": "python",
     "metadata": {},
     "outputs": [],
     "prompt_number": 16
    },
    {
     "cell_type": "markdown",
     "metadata": {},
     "source": [
      "Nous voyons que dans cette d\u00e9finition de fonction on n'a donn\u00e9 **aucune** indication sur le type des variables. Du coup en python la phase de chargement du programme - tout ce qui est r\u00e9alis\u00e9 avant m\u00eame de commencer \u00e0 l'ex\u00e9cuter - ne fait pas de contr\u00f4le de type. Comme nous le verrons tr\u00e8s bient\u00f4t, on peut m\u00eame utiliser une m\u00eame variable pour d\u00e9signer d'abord un entier, puis un plus loin une cha\u00eene de caract\u00e8res (naturellement ce n'est pas une pratique recommand\u00e9e). \n",
      "python impl\u00e9mente ce qu'on appelle un **typage dynamique**, c'est-\u00e0-dire que tous les **objets** que l'on manipule ont effectivement un type, mais l'information de type n'est pas attach\u00e9e \u00e0 la **variable** mais \u00e0 sa **valeur**, comme on le voit sur ce petit exemple"
     ]
    },
    {
     "cell_type": "code",
     "collapsed": false,
     "input": [
      "a = 10 \n",
      "print 'a est de type',type (a)\n",
      "a = \"bonjour\"\n",
      "print 'a est de type',type (a)"
     ],
     "language": "python",
     "metadata": {},
     "outputs": [
      {
       "output_type": "stream",
       "stream": "stdout",
       "text": [
        "a est de type <type 'int'>\n",
        "a est de type <type 'str'>\n"
       ]
      }
     ],
     "prompt_number": 17
    },
    {
     "cell_type": "markdown",
     "metadata": {},
     "source": [
      "L'avantage de cette approche est une grande flexibilit\u00e9. On rel\u00e2che la contrainte sur le programmeur qui n'a pas besoin de pr\u00e9ciser le type des arguments, et le code est plus petit. En contre partie on a tendance \u00e0 d\u00e9couvrir les erreurs de type tr\u00e8s tard (en fait, au dernier moment, quand on ex\u00e9cute le code). "
     ]
    },
    {
     "cell_type": "heading",
     "level": 3,
     "metadata": {},
     "source": [
      "Inf\u00e9rence de types"
     ]
    },
    {
     "cell_type": "markdown",
     "metadata": {},
     "source": [
      "Entre ces deux extr\u00eames existe ce qu'on appelle l'[inf\u00e9rence de types](http://en.wikipedia.org/wiki/Type_inference), comme on peut la trouver en ML ou en Haskell. Sans entrer dans le d\u00e9tail, et pour simplifier au maximum, cette approche vise \u00e0 apporter les b\u00e9n\u00e9fices des deux syst\u00e8mes de types que l'on vient de voir; le programmeur n'est pas tenu de d\u00e9clarer une information de type (en g\u00e9n\u00e9ral il en a la possibilit\u00e9), et le langage d\u00e9duit autant qu'il le peut cette information de typage du contexte."
     ]
    },
    {
     "cell_type": "markdown",
     "metadata": {},
     "source": [
      "Pour ceux que cela int\u00e9resse, un projet de cette nature est actuellement en cours autour de python3, sous le nom de [mypy](http://www.mypy-lang.org/index.html), et dans ce cas vous serez \u00e9galement int\u00e9ress\u00e9s de lire [le point de vue de Guido van Rossum](https://mail.python.org/pipermail/python-ideas/2014-August/028618.html) sur ce sujet."
     ]
    }
   ],
   "metadata": {}
  }
 ]
}