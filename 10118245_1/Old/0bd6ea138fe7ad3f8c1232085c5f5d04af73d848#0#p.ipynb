{
 "metadata": {
  "name": "",
  "signature": "sha256:7a6de1ae8ddf6b85bd034a48f5ef5faa436174fe8c12f30a50759c34ade51792"
 },
 "nbformat": 3,
 "nbformat_minor": 0,
 "worksheets": [
  {
   "cells": [
    {
     "cell_type": "heading",
     "level": 1,
     "metadata": {},
     "source": [
      "Compl\u00e9ments: Op\u00e9rations 'bitwise'"
     ]
    },
    {
     "cell_type": "markdown",
     "metadata": {},
     "source": [
      "Les compl\u00e9ments ci-dessous expliquent des fonctions \u00e9volu\u00e9es sur les entiers; les d\u00e9butants en programmation peuvent sans souci sauter cette partie en cas de difficult\u00e9s."
     ]
    },
    {
     "cell_type": "heading",
     "level": 3,
     "metadata": {},
     "source": [
      "Op\u00e9rations logiques : ET &, OU | et OU exclusif \u02c6"
     ]
    },
    {
     "cell_type": "markdown",
     "metadata": {},
     "source": [
      "Il est possible aussi de faire des op\u00e9rations \"bit-\u00e0-bit\" sur les nombres entiers. \n",
      "Le plus simple est de penser \u00e0 l'\u00e9criture du nombre en base 2\n",
      "\n",
      "Consid\u00e9rons par exemple deux entiers constants dans cet exercice:"
     ]
    },
    {
     "cell_type": "code",
     "collapsed": false,
     "input": [
      "x49 = 49\n",
      "y81 = 81"
     ],
     "language": "python",
     "metadata": {},
     "outputs": [],
     "prompt_number": 1
    },
    {
     "cell_type": "markdown",
     "metadata": {},
     "source": [
      "Ce qui nous donne comme d\u00e9composition binaire \n",
      "\n",
      "$\\begin{array}{rcccccc}\n",
      "x49&=&49&=&32 + 16 + 1 &\\rightarrow&(0,1,1,0,0,0,1) \\\\\n",
      "y81&=&81&=&64 + 16 + 1 &\\rightarrow&(1,0,1,0,0,0,1)\n",
      "\\end{array}\n",
      "$"
     ]
    },
    {
     "cell_type": "heading",
     "level": 5,
     "metadata": {},
     "source": [
      "Et logique : op\u00e9rateur &"
     ]
    },
    {
     "cell_type": "markdown",
     "metadata": {},
     "source": [
      "L'op\u00e9ration logique '&' va faire un 'et' \n",
      "logique bit \u00e0 bit entre les op\u00e9randes, ainsi"
     ]
    },
    {
     "cell_type": "code",
     "collapsed": false,
     "input": [
      "x49 & y81"
     ],
     "language": "python",
     "metadata": {},
     "outputs": [
      {
       "metadata": {},
       "output_type": "pyout",
       "prompt_number": 2,
       "text": [
        "17"
       ]
      }
     ],
     "prompt_number": 2
    },
    {
     "cell_type": "markdown",
     "metadata": {},
     "source": [
      "Et en effet\n",
      "$\\begin{array}{rcl}\n",
      "x49 & \\rightarrow & (0,1,1,0,0,0,1) \\\\\n",
      "y81 & \\rightarrow & (1,0,1,0,0,0,1) \\\\\n",
      "x49 \\& y81 & \\rightarrow & (0,0,1,0,0,0,1) \\rightarrow 17\n",
      "\\end{array}$\n"
     ]
    },
    {
     "cell_type": "heading",
     "level": 5,
     "metadata": {},
     "source": [
      "Ou logique : op\u00e9rateur |"
     ]
    },
    {
     "cell_type": "markdown",
     "metadata": {},
     "source": [
      "De m\u00eame, l'op\u00e9ration logique '|' fait simplement un 'ou' logique, comme ceci"
     ]
    },
    {
     "cell_type": "code",
     "collapsed": false,
     "input": [
      "x49 | y81"
     ],
     "language": "python",
     "metadata": {},
     "outputs": [
      {
       "metadata": {},
       "output_type": "pyout",
       "prompt_number": 3,
       "text": [
        "113"
       ]
      }
     ],
     "prompt_number": 3
    },
    {
     "cell_type": "markdown",
     "metadata": {},
     "source": [
      "On s'y retrouve parce que\n",
      "$\\begin{array}{rcl}\n",
      "x49 & \\rightarrow & (0,1,1,0,0,0,1) \\\\\n",
      "y81 & \\rightarrow & (1,0,1,0,0,0,1) \\\\\n",
      "x49 | y81 & \\rightarrow & (1,1,1,0,0,0,1) \\rightarrow 64+32+16+1 \\rightarrow 113\n",
      "\\end{array}$\n"
     ]
    },
    {
     "cell_type": "heading",
     "level": 5,
     "metadata": {},
     "source": [
      "Ou exclusif : op\u00e9rateur ^"
     ]
    },
    {
     "cell_type": "markdown",
     "metadata": {},
     "source": [
      "Enfin on peut \u00e9galement faire la m\u00eame op\u00e9ration \u00e0 base de 'ou exclusif' avec l'op\u00e9rateur '\u02c6'"
     ]
    },
    {
     "cell_type": "code",
     "collapsed": false,
     "input": [
      "x49 ^ y81"
     ],
     "language": "python",
     "metadata": {},
     "outputs": [
      {
       "metadata": {},
       "output_type": "pyout",
       "prompt_number": 4,
       "text": [
        "96"
       ]
      }
     ],
     "prompt_number": 4
    },
    {
     "cell_type": "heading",
     "level": 3,
     "metadata": {},
     "source": [
      "D\u00e9calages"
     ]
    },
    {
     "cell_type": "markdown",
     "metadata": {},
     "source": [
      "Un d\u00e9calage '\u00e0 gauche' de, par exemple, 4 positions, revient \u00e0 d\u00e9caler tout le champ de bits de 4 cases \u00e0 gauche (les 4 nouveaux bits ins\u00e9r\u00e9s sont toujours des 0); c'est donc \u00e9quivalent \u00e0 une multiplication par $2\u02c64=16$"
     ]
    },
    {
     "cell_type": "code",
     "collapsed": false,
     "input": [
      "x49 << 4"
     ],
     "language": "python",
     "metadata": {},
     "outputs": [
      {
       "metadata": {},
       "output_type": "pyout",
       "prompt_number": 5,
       "text": [
        "784"
       ]
      }
     ],
     "prompt_number": 5
    },
    {
     "cell_type": "markdown",
     "metadata": {},
     "source": [
      "$\\begin{array}{rcl}\n",
      "x49 & \\rightarrow & (0,1,1,0,0,0,1) \\\\\n",
      "x49 << 4 & \\rightarrow & (0,1,1,0,0,0,1,0,0,0,0) \\rightarrow 512+256+16 \\rightarrow 784 \n",
      "\\end{array}$\n"
     ]
    },
    {
     "cell_type": "markdown",
     "metadata": {},
     "source": [
      "De la m\u00eame fa\u00e7on le d\u00e9calage \u00e0 droite de $n$ revient \u00e0 une\n",
      "division par $2\u02c6n$ (et plus exactement le quotient de la division)"
     ]
    },
    {
     "cell_type": "code",
     "collapsed": false,
     "input": [
      "x49 >> 4"
     ],
     "language": "python",
     "metadata": {},
     "outputs": [
      {
       "metadata": {},
       "output_type": "pyout",
       "prompt_number": 6,
       "text": [
        "3"
       ]
      }
     ],
     "prompt_number": 6
    },
    {
     "cell_type": "markdown",
     "metadata": {},
     "source": [
      "$\\begin{array}{rcl}\n",
      "x49 & \\rightarrow & (0,1,1,0,0,0,1) \\\\\n",
      "x49 >> 4 & \\rightarrow & (0,0,0,0,0,1,1) \\rightarrow 2+1 \\rightarrow 3\n",
      "\\end{array}$"
     ]
    },
    {
     "cell_type": "heading",
     "level": 3,
     "metadata": {},
     "source": [
      "Une astuce"
     ]
    },
    {
     "cell_type": "markdown",
     "metadata": {},
     "source": [
      "On peut utiliser la fonction 'built-in' bin \n",
      "pour calculer la repr\u00e9sentation binaire d'un entier; attention la valeur de retour est un 'string'"
     ]
    },
    {
     "cell_type": "code",
     "collapsed": false,
     "input": [
      "bin(x49)"
     ],
     "language": "python",
     "metadata": {},
     "outputs": [
      {
       "metadata": {},
       "output_type": "pyout",
       "prompt_number": 7,
       "text": [
        "'0b110001'"
       ]
      }
     ],
     "prompt_number": 7
    },
    {
     "cell_type": "markdown",
     "metadata": {},
     "source": [
      "Dans l'autre sens, on peut aussi entrer un entier directement en base 2 comme ceci; ici comme on le voit $x49bis$ est bien un entier"
     ]
    },
    {
     "cell_type": "code",
     "collapsed": false,
     "input": [
      "x49bis = 0b110001\n",
      "x49bis == x49"
     ],
     "language": "python",
     "metadata": {},
     "outputs": [
      {
       "metadata": {},
       "output_type": "pyout",
       "prompt_number": 8,
       "text": [
        "True"
       ]
      }
     ],
     "prompt_number": 8
    },
    {
     "cell_type": "heading",
     "level": 3,
     "metadata": {},
     "source": [
      "Pour en savoir plus"
     ]
    },
    {
     "cell_type": "markdown",
     "metadata": {},
     "source": [
      "https://docs.python.org/2/library/stdtypes.html#bitwise-operations-on-integer-types"
     ]
    }
   ],
   "metadata": {}
  }
 ]
}