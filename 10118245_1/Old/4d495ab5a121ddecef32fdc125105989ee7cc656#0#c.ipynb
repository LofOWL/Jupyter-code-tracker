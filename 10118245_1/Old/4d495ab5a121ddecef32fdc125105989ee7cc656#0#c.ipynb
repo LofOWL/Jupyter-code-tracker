{
 "cells": [
  {
   "cell_type": "markdown",
   "metadata": {},
   "source": [
    "<span style=\"float:left;\">Licence CC BY-NC-ND</span><span style=\"float:right;\">Thierry Parmentelat &amp; Arnaud Legout&nbsp;<img src=\"media/inria-25-alpha.png\" style=\"display:inline\"></span><br/>"
   ]
  },
  {
   "cell_type": "markdown",
   "metadata": {},
   "source": [
    "# XXX ce complément n'est pas terminé - cf `singleton`"
   ]
  },
  {
   "cell_type": "markdown",
   "metadata": {},
   "source": [
    "# Décorateurs"
   ]
  },
  {
   "cell_type": "markdown",
   "metadata": {},
   "source": [
    "## Complément - niveau (très) avancé"
   ]
  },
  {
   "cell_type": "markdown",
   "metadata": {},
   "source": [
    "Le mécanisme des décorateurs - qui rappelle un peu, pour ceux qui connaissent, les macros Lisp - est un mécanisme très puissant. Sa portée va bien au delà de simplement rajouter du code avant et après une fonction, comme dans le cas de `NbAppels` que nous avons vu dans la vidéo.  \n",
    "\n",
    "Par exemple, les notions de méthodes de classe (`@classmethod`) et de méthodes statiques (`@staticmethod`) sont implémentées comme des décorateurs. Pour une liste plus représentative de ce qu'il est possible de faire avec les décorateurs, je vous invite à parcourir même rapidement ce [recueil de décorateurs](https://wiki.python.org/moin/PythonDecoratorLibrary) qui propose du code (à titre indicatif, car rien de ceci ne fait partie de la librairie standard) pour des thèmes qui sont propices à la décoration de code.\n",
    "\n",
    "** XXX *Trouver un deuxième exemple* -- la partie sur le décorateur `singleton` ne marche plus en python3 et je ne vois pas de moyen simple de l'adapter sans imposer une définition de `__new__` bidon XXX**\n",
    "\n",
    "Nous allons voir en détails quelques-uns de ces exemples: nous reprenons les décorateurs `memoize` et `singleton` de ce recueil de décorateurs, mais implémentés différemment."
   ]
  },
  {
   "cell_type": "markdown",
   "metadata": {},
   "source": [
    "### Un décorateur implémenté comme une classe"
   ]
  },
  {
   "cell_type": "markdown",
   "metadata": {},
   "source": [
    "Dans la vidéo on a vu `NbAppels` pour compter le nombre de fois qu'on appelle une fonction. Pour mémoire on avait écrit&nbsp;:"
   ]
  },
  {
   "cell_type": "code",
   "execution_count": null,
   "metadata": {
    "collapsed": true
   },
   "outputs": [],
   "source": [
    "# un rappel du code montré dans la vidéo\n",
    "class NbAppels(object):\n",
    "    def __init__(self, f):\n",
    "        self.f = f\n",
    "        self.appels = 0\n",
    "    def __call__(self, *args):\n",
    "        self.appels += 1\n",
    "        print(f\"{self.appels}-ème appel à {self.f.__name__}\")\n",
    "        return self.f(*args)"
   ]
  },
  {
   "cell_type": "code",
   "execution_count": null,
   "metadata": {
    "collapsed": true
   },
   "outputs": [],
   "source": [
    "# nous utilisons ici une implémentation en log(n)\n",
    "# de la fonction de fibonacci\n",
    "\n",
    "@NbAppels\n",
    "def fibo_aux(n):\n",
    "    \"Fibonacci en log(n)\"\n",
    "    if n < 1: \n",
    "        return 0, 1\n",
    "    u, v = fibo_aux(n//2)\n",
    "    u, v = u * (2 * v - u), u*u + v*v\n",
    "    if n % 2 == 1:\n",
    "        return v, u + v\n",
    "    else:\n",
    "        return u, v\n",
    "\n",
    "def fibo_log(n):\n",
    "    return fibo_aux(n)[0]"
   ]
  },
  {
   "cell_type": "code",
   "execution_count": null,
   "metadata": {
    "collapsed": true
   },
   "outputs": [],
   "source": [
    "# pour se convaincre que nous sommes bien en log2(n)\n",
    "from math import log"
   ]
  },
  {
   "cell_type": "code",
   "execution_count": null,
   "metadata": {},
   "outputs": [],
   "source": [
    "n1 = 100\n",
    "log(n1)/log(2)"
   ]
  },
  {
   "cell_type": "code",
   "execution_count": null,
   "metadata": {},
   "outputs": [],
   "source": [
    "fibo_log(n1)"
   ]
  },
  {
   "cell_type": "code",
   "execution_count": null,
   "metadata": {},
   "outputs": [],
   "source": [
    "# on multiplie par 2**4 = 16,\n",
    "# donc on doit voir 4 appels de plus \n",
    "n2 = 1600\n",
    "log(n2)/log(2)"
   ]
  },
  {
   "cell_type": "code",
   "execution_count": null,
   "metadata": {},
   "outputs": [],
   "source": [
    "fibo_log(n2)"
   ]
  },
  {
   "cell_type": "markdown",
   "metadata": {},
   "source": [
    "### `memoize` implémenté comme une fonction"
   ]
  },
  {
   "cell_type": "markdown",
   "metadata": {},
   "source": [
    "\n",
    "Ici nous allons implémenter `memoize`, un décorateur qui permet de mémoriser les résultats d'une fonction, et de les cacher pour ne pas avoir à les recalculer la fois suivante. \n",
    "\n",
    "Alors que `NbAppels` était **implémenté comme une classe**, pour varier un peu, nous allons implémenter cette fois **`memoize` comme une vraie fonction**, pour vous montrer les deux alternatives que l'on a quand on veut implémenter un décorateur&nbsp;: une vraie fonction ou une classe de callables."
   ]
  },
  {
   "cell_type": "markdown",
   "metadata": {},
   "source": [
    "##### Le code du décorateur"
   ]
  },
  {
   "cell_type": "code",
   "execution_count": null,
   "metadata": {
    "collapsed": true
   },
   "outputs": [],
   "source": [
    "# une première implémentation de memoize\n",
    "\n",
    "# un decorateur de fonction\n",
    "# implémenté comme une fonction\n",
    "def memoize(a_decorer):\n",
    "    \"\"\"\n",
    "    Un décorateur pour conserver les résultats\n",
    "    précédents et éviter de les recalculer\n",
    "    \"\"\"\n",
    "    def decoree(*args):\n",
    "        # si on a déjà calculé le résultat\n",
    "        # on le renvoie\n",
    "        try:\n",
    "            return decoree.cache[args]\n",
    "        # si les arguments ne sont pas hashables, \n",
    "        # par exemple s'ils contiennent une liste\n",
    "        # on ne peut pas cacher et on reçoit TypeError\n",
    "        except TypeError:\n",
    "            return a_decorer(*args)\n",
    "        # les arguments sont hashables mais on\n",
    "        # n'a pas encore calculé cette valeur\n",
    "        except KeyError:\n",
    "            # on fait vraiment le calcul\n",
    "            result = a_decorer(*args)\n",
    "            # on le range dans le cache\n",
    "            decoree.cache[args] = result\n",
    "            # on le retourne\n",
    "            return result\n",
    "    # on initialise l'attribut 'cache'\n",
    "    decoree.cache = {}\n",
    "    return decoree"
   ]
  },
  {
   "cell_type": "markdown",
   "metadata": {},
   "source": [
    "##### Comment l'utiliser"
   ]
  },
  {
   "cell_type": "markdown",
   "metadata": {},
   "source": [
    "Avant de rentrer dans le détail du code, voyons comment cela s'utiliserait; il n'y a pas de changement de ce point de vue par rapport à l'option développée dans la vidéo&nbsp;:"
   ]
  },
  {
   "cell_type": "code",
   "execution_count": null,
   "metadata": {
    "collapsed": true
   },
   "outputs": [],
   "source": [
    "# créer une fonction décorée\n",
    "@memoize\n",
    "def fibo_cache(n):\n",
    "    \"\"\"\n",
    "    Un fibonacci hyper-lent (exponentiel) se transforme\n",
    "    en temps linéaire une fois que les résultats sont cachés\n",
    "    \"\"\"\n",
    "    return n if n <= 1 else fibo_cache(n-1) + fibo_cache(n-2)"
   ]
  },
  {
   "cell_type": "markdown",
   "metadata": {},
   "source": [
    "Bien que l'implémentation utilise un algorithme épouvantablement lent, le fait de lui rajouter du caching redonne à l'ensemble un caractère linéaire. \n",
    "\n",
    "En effet, si vous y réfléchissez une minute, vous verrez qu'avec le cache, lorsqu'on calcule `fibo_cache(n)`, on calcule d'abord `fibo_cache(n-1)`, puis lorsqu'on évalue `fibo_cache(n-2)` le résultat **est déjà dans le cache** si bien qu'on peut considérer ce deuxième calcul comme, sinon instantané, du moins du même ordre de grandeur qu'une addition. \n",
    "\n",
    "On peut calculer par exemple&nbsp;:"
   ]
  },
  {
   "cell_type": "code",
   "execution_count": null,
   "metadata": {},
   "outputs": [],
   "source": [
    "fibo_cache(300)"
   ]
  },
  {
   "cell_type": "markdown",
   "metadata": {},
   "source": [
    "qu'il serait hors de question de calculer sans le caching.\n",
    "\n",
    "On peut naturellement inspecter le cache, qui est rangé dans l'attribut `cache` de l'objet fonction lui-même&nbsp;:"
   ]
  },
  {
   "cell_type": "code",
   "execution_count": null,
   "metadata": {},
   "outputs": [],
   "source": [
    "len(fibo_cache.cache)"
   ]
  },
  {
   "cell_type": "markdown",
   "metadata": {},
   "source": [
    "et voir que, comme on aurait pu le prédire, on a calculé et mémorisé les 301 premiers résultats, pour n allant de 0 à 300."
   ]
  },
  {
   "cell_type": "markdown",
   "metadata": {},
   "source": [
    "##### Comment ça marche ?"
   ]
  },
  {
   "cell_type": "markdown",
   "metadata": {},
   "source": [
    "On l'a vu dans la vidéo avec `NbAppels`, tout se passe exactement comme si on avait écrit&nbsp;:\n",
    "\n",
    "    def fibo_cache(n):\n",
    "        <le code>\n",
    "        \n",
    "    fibo_cache = memoize(fibo_cache)"
   ]
  },
  {
   "cell_type": "markdown",
   "metadata": {},
   "source": [
    "Donc `memoize` est une fonction qui prend en argument une fonction `a_decorer` qui ici vaut `fibo_cache`, et retourne une autre fonction, `decoree`; on s'arrange naturellement pour que `decoree` retourne le même résultat que `a_decorer`, avec seulement des choses supplémentaires."
   ]
  },
  {
   "cell_type": "markdown",
   "metadata": {},
   "source": [
    "Les points clés de l'implémentation sont les suivants.\n",
    " * On attache à l'objet fonction `decoree`, sous la forme d'un attribut`cache`, un dictionnaire qui va nous permettre de retrouver les valeurs déjà calculées, à partir d'un hash des arguments.\n",
    " * On ne peut pas cacher le résultat d'un objet qui ne serait pas globalement immuable; or si on essaie on reçoit l'exception `TypeError`, et dans ce cas on recalcule toujours le résultat. C'est de toute façons plus sûr.\n",
    " * Si on ne trouve pas les arguments dans le cache, on reçoit l'exception `KeyError`, dans ce cas on calcule le résultat, et on le retourne après l'avoir rangé dans le cache.\n",
    " * Vous remarquerez aussi qu'on initialise l'attribut `cache` dans l'objet `decoree` à l'appel du décorateur (une seule fois, juste après avoir défini la fonction), et non pas dans le code de `decoree` qui lui est évalué à chaque appel."
   ]
  },
  {
   "cell_type": "markdown",
   "metadata": {},
   "source": [
    "Cette implémentation, sans être parfaite, est tout à fait utilisable dans un environnement réel, modulo les remarques de bon sens suivantes:\n",
    " * évidemment l'approche ne fonctionne que pour des fonctions déterministes; s'il y a de l'aléatoire dans la logique de la fonction, il ne faut pas utiliser ce décorateur;\n",
    " * tout aussi évidemment, la consommation mémoire peut être importante si on applique le caching sans discrimination;\n",
    " * enfin en l'état la fonction decorée ne peut pas être appelée avec des arguments nommés; en effet on utilise le tuple `args` comme clé pour retrouver dans le cache la valeur associée aux arguments."
   ]
  },
  {
   "cell_type": "markdown",
   "metadata": {},
   "source": [
    "### Décorateurs, *docstring* et `help`"
   ]
  },
  {
   "cell_type": "markdown",
   "metadata": {},
   "source": [
    "En fait, avec cette implémentation, il reste aussi un petit souci&nbsp;:"
   ]
  },
  {
   "cell_type": "code",
   "execution_count": null,
   "metadata": {},
   "outputs": [],
   "source": [
    "help(fibo_cache)"
   ]
  },
  {
   "cell_type": "markdown",
   "metadata": {},
   "source": [
    "Et ce n'est pas exactement ce qu'on veut; ce qui se passe ici c'est que `help` utilise les attributs `__doc__` et `__name__` de l'objet qu'on lui passe. Et dans notre cas `fibo_cache` est une fonction qui a été créée par l'instruction:\n",
    "\n",
    "    def decoree(*args):\n",
    "        # etc."
   ]
  },
  {
   "cell_type": "markdown",
   "metadata": {},
   "source": [
    "Pour arranger ça et faire en sorte que `help` nous affiche ce qu'on veut, il faut s'occuper de ces deux attributs. Et plutôt que de faire ça à la main, il existe [un utilitaire `functools.wraps`](https://docs.python.org/3/library/functools.html#functools.wraps), qui fait tout le travail nécessaire. Ce qui nous donne une deuxième version de ce décorateur, avec deux lignes supplémentaires signalées par des `+++`\n",
    ";:"
   ]
  },
  {
   "cell_type": "code",
   "execution_count": null,
   "metadata": {
    "collapsed": true
   },
   "outputs": [],
   "source": [
    "# une deuxième implémentation de memoize, avec la doc \n",
    "\n",
    "import functools                                 # +++\n",
    "\n",
    "# un decorateur de fonction\n",
    "# implémenté comme une fonction\n",
    "def memoize(a_decorer):\n",
    "    \"\"\"\n",
    "    Un décorateur pour conserver les résultats\n",
    "    précédents et éviter de les recalculer\n",
    "    \"\"\"\n",
    "    # on décore la fonction pour qu'elle ait les\n",
    "    # propriétés de a_decorer : __doc__ et __name__\n",
    "    @functools.wraps(a_decorer)                  # +++\n",
    "    def decoree (*args):\n",
    "        # si on a déjà calculé le résultat\n",
    "        # on le renvoie\n",
    "        try:\n",
    "            return decoree.cache[args]\n",
    "        # si les arguments ne sont pas hashables, \n",
    "        # par exemple une liste, on ne peut pas cacher \n",
    "        # et on reçoit TypeError\n",
    "        except TypeError:\n",
    "            return a_decorer(*args)\n",
    "        # les arguments sont hashables mais on\n",
    "        # n'a pas encore calculé cette valeur\n",
    "        except KeyError:\n",
    "            # on fait vraiment le calcul\n",
    "            result = a_decorer(*args)\n",
    "            # on le range dans le cache\n",
    "            decoree.cache[args] = result\n",
    "            # on le retourne\n",
    "            return result\n",
    "    # on initialise l'attribut 'cache'\n",
    "    decoree.cache = {}\n",
    "    return decoree"
   ]
  },
  {
   "cell_type": "code",
   "execution_count": null,
   "metadata": {
    "collapsed": true
   },
   "outputs": [],
   "source": [
    "# créer une fonction décorée\n",
    "@memoize\n",
    "def fibo_cache2(n):\n",
    "    \"\"\"\n",
    "    Un fibonacci hyper-lent (exponentiel) se transforme\n",
    "    en temps linéaire une fois que les résultats sont cachés\n",
    "    \"\"\"\n",
    "    return n if n <= 1 else fibo_cache2(n-1) + fibo_cache2(n-2)"
   ]
  },
  {
   "cell_type": "markdown",
   "metadata": {},
   "source": [
    "Et on obtient à présent une aide en ligne cohérente&nbsp;:"
   ]
  },
  {
   "cell_type": "code",
   "execution_count": null,
   "metadata": {},
   "outputs": [],
   "source": [
    "help(fibo_cache2)"
   ]
  },
  {
   "cell_type": "markdown",
   "metadata": {},
   "source": [
    "****\n",
    "** XXX La partie sur `singleton` est cassée**\n",
    "****"
   ]
  },
  {
   "cell_type": "markdown",
   "metadata": {},
   "source": [
    "### On peut décorer les classes aussi"
   ]
  },
  {
   "cell_type": "markdown",
   "metadata": {},
   "source": [
    "De la même façon qu'on peut décorer une fonction, on peut décorer une classe. \n",
    "\n",
    "Voyons comment tirer profit des décorateurs pour implémenter le pattern de `singleton`; une classe implémentée comme [un singleton](http://en.wikipedia.org/wiki/Singleton_pattern) est une classe qui n'existe qu'en un seul exemplaire (une seule instance); tous les appels au constructeur retournent une référence vers le même objet.\n",
    "\n",
    "Le décorateur `singleton` va nous permettre de transformer une classe en un singleton."
   ]
  },
  {
   "cell_type": "code",
   "execution_count": null,
   "metadata": {
    "collapsed": true
   },
   "outputs": [],
   "source": [
    "# le décorateur qui transforme une classe en singleton\n",
    "\n",
    "# le code gère correctement *args et **kwds, même si généralement\n",
    "# dans le cas d'un singleton on n'a pas d'argument à passer\n",
    "# au constructeur\n",
    "\n",
    "# vous pouvez réactivier les lignes de print si vous voulez \n",
    "# mieux voir ce qui se passe\n",
    "\n",
    "class singleton:\n",
    "    '''\n",
    "    a decorator to transform a class into \n",
    "    a class of one singleton\n",
    "    '''\n",
    "\n",
    "    # traditionnellement une variable qui référence\n",
    "    # une classe s'appelle cls car class est un mot-clé\n",
    "    def __init__(self, cls):\n",
    "        \"\"\"construit l'instance de la classe décorée\"\"\"\n",
    "\n",
    "        print(\"dans __init__: décoration de\", cls)\n",
    "        # on garde une référence vers la classe à décorer\n",
    "        self.cls = cls\n",
    "        # l'instance \n",
    "        self.instance = None\n",
    "        # on met de côté la methode __new__\n",
    "        self.new_original = cls.__new__\n",
    "        # on redéfinit la méthode __new__\n",
    "        def singleton_new(*args, **kwds):\n",
    "            print(f\"---- in singleton_new: args={args}\\nkwds={kwds}\")\n",
    "            instance = self.new_original(*args, **kwds)\n",
    "            self.instance = instance\n",
    "            return instance\n",
    "        # on 'installe' singleton_new comme le __new__ de la nouvelle classe\n",
    "        self.cls.__new__ = singleton_new\n",
    "        # pour la doc, quoi que ce soit apparemment insuffisant pour help()\n",
    "        self.__name__ = cls.__name__\n",
    "        self.__doc__ = cls.__doc__\n",
    "\n",
    "    def __new__(cls, *args):\n",
    "        return super().__new__(*args)\n",
    "    \n",
    "    # l'objet doit être un callable, et si on l'appelle\n",
    "    # il doit construire un objet de la classe a décorer\n",
    "    def __call__(self, *args, **kwds):\n",
    "        print(f\"in __call__: self={self}\\ninstance={self.instance}\\nargs={args}\\nkwds={kwds}\")\n",
    "        if self.instance:\n",
    "            return self.instance\n",
    "        else:\n",
    "            return self.cls(*args, **kwds)"
   ]
  },
  {
   "cell_type": "markdown",
   "metadata": {},
   "source": [
    "##### Le décorateur en action"
   ]
  },
  {
   "cell_type": "markdown",
   "metadata": {},
   "source": [
    "Voyons avec une classe 'normale' - i.e. pas un singleton - un scénario tout simple où l'on crée deux instances&nbsp;:"
   ]
  },
  {
   "cell_type": "code",
   "execution_count": null,
   "metadata": {},
   "outputs": [],
   "source": [
    "# avec une classe 'normale'\n",
    "class Eggs(object): \n",
    "    \"La classe Eggs n'est pas un singleton\"\n",
    "    \n",
    "    # une variable qui enregistre tous les appels au constructeur \n",
    "    inits = []\n",
    "    \n",
    "    def __init__(self, info):\n",
    "        print(\"initialisation de Egg avec {}\".format(info))\n",
    "\n",
    "# si on crée deux objets ils sont différents\n",
    "obj1 = Eggs(\"premier\")\n",
    "obj2 = Eggs(\"deuxième\")\n",
    "print(\"obj1 is obj2:\", obj1 is obj2)"
   ]
  },
  {
   "cell_type": "markdown",
   "metadata": {},
   "source": [
    "Le même scénario, avec une classe décorée avec `singleton`, nous donne ceci:"
   ]
  },
  {
   "cell_type": "code",
   "execution_count": null,
   "metadata": {},
   "outputs": [],
   "source": [
    "# avec une classe décorée\n",
    "\n",
    "@singleton\n",
    "class Spam(object): \n",
    "    \"La classe Spam est un singleton\"\n",
    "    \n",
    "    def __init__(self, info):\n",
    "        print(f\"initialisation de Spam avec {info}\")\n",
    "    def __new__(cls, *args, **kwds):\n",
    "        pass"
   ]
  },
  {
   "cell_type": "code",
   "execution_count": null,
   "metadata": {},
   "outputs": [],
   "source": [
    "# deux instances créés successivement donnent le même objet\n",
    "# remarquez qu'on ne passe plus dans __init__ cette fois-ci\n",
    "obj1 = Spam(\"premier\")\n",
    "obj2 = Spam(\"deuxième\")"
   ]
  },
  {
   "cell_type": "code",
   "execution_count": null,
   "metadata": {},
   "outputs": [],
   "source": [
    "obj1 is obj2"
   ]
  },
  {
   "cell_type": "code",
   "execution_count": null,
   "metadata": {},
   "outputs": [],
   "source": [
    "help(Spam)"
   ]
  },
  {
   "cell_type": "code",
   "execution_count": null,
   "metadata": {},
   "outputs": [],
   "source": [
    "Spam.__init__ is object.__init__"
   ]
  },
  {
   "cell_type": "code",
   "execution_count": null,
   "metadata": {},
   "outputs": [],
   "source": [
    "Spam.__new__ is object.__new__"
   ]
  },
  {
   "cell_type": "markdown",
   "metadata": {},
   "source": [
    "##### Comment ça marche"
   ]
  },
  {
   "cell_type": "markdown",
   "metadata": {},
   "source": [
    "La subtilité ici réside dans le fait que \n",
    "\n",
    "La méthode `__new__` fait partie de la même famille que `__init__` et autres `__repr__` dont on a parlé dans la Semaine 5, Séquence 'surcharge des opérateurs'.\n",
    "C'est une méthode spéciale également, et comme `__init__` elle est mise en jeu au moment de la création d'un objet. \n",
    "\n",
    "Par contre, elle est vraiment particulière dans la ménagerie des méthodes spéciales, car c'est la seule qui soit une **méthode statique**, et ça se comprend quand on sait qu'elle est appelée **pour** créer l'objet instance&nbsp;; on ne peut donc pas lui passer en paramètre l'instance en cours de création, puisqu'elle n'est pas encore là.\n",
    "\n",
    "Rappelez-vous que lorsqu'on définit `Spam` décorée avec singleton, on fait essentiellement\n",
    "\n",
    "    Spam = singleton(Spam)\n",
    "    \n",
    "C'est donc que l'instance de la classe singleton est considéré comme une classe&nbsp;; cette instance doit être un callable, qui est utilisé lorsqu'on crée une instance de `Spam` en faisant\n",
    "\n",
    "    obj1 = Spam()\n",
    "\n",
    "Notre décorateur, pour l'essentiel, fait les opérations suivantes.\n",
    " * Dans le constructeur `__init__` de la classe `singleton`, l'objet décoré mémorise la classe à décorer (ici `Spam`) dans son attribut `classe`.\n",
    " * On crée l'attribut `instance` qui contiendra une référence vers l'unique objet créé pour cette classe.\n",
    " * On mémorise également la méthode `__new__` de la classe à décorer dont on aura besoin à l'intérieur de notre propre version de `__new__`. \n",
    " * On définit une méthode statique (parce que `__new__`doit être statique) `singleton_new` qui est destinée à remplacer la méthode `__new__` dans la classe décorée.\n",
    " * Cette nouvelle méthode `__new__`\n",
    "   * renvoie l'attribut `instance` sur la classe décorée lorsqu'il existe (c'est qu'on déjà créé  l'unique objet de la classe à décorer); \n",
    "   * et sinon utilise les méthode `__new__` et `__init__` originales pour instancier un objet, le mémoriser, et le renvoyer.\n",
    " * `singleton_new` est *installée* dans la classe décorée, dans l'attribut de nom `__new__`.\n",
    " * On met à jour `__name__` et `__doc__` dans la classe décorée à partir de la classe originale."
   ]
  },
  {
   "cell_type": "markdown",
   "metadata": {},
   "source": [
    "### Toutes les combinaisons (fonction, classe) x (fonction, classe)"
   ]
  },
  {
   "cell_type": "markdown",
   "metadata": {},
   "source": [
    "Nous avons choisi d'implémenter `singleton` comme une classe&nbsp;; vous [trouverez ici une version implémentée comme une fonction](https://wiki.python.org/moin/PythonDecoratorLibrary#Singleton).\n",
    "\n",
    "Si bien qu'avec ces 4 exemples\n",
    " * `NbAppels` de la vidéo, \n",
    " * notre version de  `memoize`, \n",
    " * notre version de `singleton`,\n",
    " * et le `singleton` de [la référence ci-dessus](https://wiki.python.org/moin/PythonDecoratorLibrary#Singleton),\n",
    " \n",
    "vous avez toutes les combinaisons de décorateurs, de classes ou de fonctions, implémentés comme une classe ou comme une fonction."
   ]
  },
  {
   "cell_type": "code",
   "execution_count": null,
   "metadata": {
    "collapsed": true
   },
   "outputs": [],
   "source": [
    "# le code de la référence ci-dessus\n",
    "\n",
    "import functools\n",
    "\n",
    "def singleton(cls):\n",
    "    ''' Use class as singleton. '''\n",
    "\n",
    "    cls.__init_original__ = cls.__init__\n",
    "    cls.__new_original__ = cls.__new__\n",
    "\n",
    "    @functools.wraps(cls.__new__)\n",
    "    def singleton_new(cls, *args, **kw):\n",
    "        it =  cls.__dict__.get('__it__')\n",
    "        if it is not None:\n",
    "            return it\n",
    "\n",
    "        cls.__it__ = it = cls.__new_original__(cls, *args, **kw)\n",
    "        it.__init_original__(*args, **kw)\n",
    "        return it\n",
    "\n",
    "    cls.__new__ = singleton_new\n",
    "    cls.__init_original__ = cls.__init__\n",
    "    cls.__init__ = object.__init__\n",
    "\n",
    "    return cls"
   ]
  },
  {
   "cell_type": "code",
   "execution_count": null,
   "metadata": {
    "collapsed": true
   },
   "outputs": [],
   "source": [
    "# avec une classe décorée\n",
    "\n",
    "@singleton\n",
    "class Bacon(object): \n",
    "    \"La classe Bacon est un singleton\"\n",
    "    \n",
    "    def __init__(self, info):\n",
    "        print(f\"initialisation de Bacon avec {info}\")\n",
    "    def __new__(cls, *args, **kwds):\n",
    "        pass"
   ]
  },
  {
   "cell_type": "code",
   "execution_count": null,
   "metadata": {},
   "outputs": [],
   "source": [
    "b1 = Bacon(1)\n",
    "b2 = Bacon(2)\n",
    "b1 is b2"
   ]
  },
  {
   "cell_type": "markdown",
   "metadata": {},
   "source": [
    "### Un décorateur peut lui-même avoir des arguments"
   ]
  },
  {
   "cell_type": "markdown",
   "metadata": {},
   "source": [
    "Reprenons l'exemple de `memoize`, mais imaginons qu'on veuille ajouter un trait de \"durée de validité du cache\". Le code du décorateur a besoin de connaître la durée pendant laquelle on doit garder les résultats dans le cache. \n",
    "\n",
    "On veut pouvoir préciser ce paramètre, appelons le `cache_timeout`,  pour chaque fonction&nbsp;; par exemple on voudrait écrire quelque chose comme\n",
    "\n",
    "    @memoize_expire(600)\n",
    "    def resolve_host(hostname):\n",
    "        ...\n",
    "       \n",
    "    @memoize_expire(3600*24)\n",
    "    def network_neighbours(hostname):\n",
    "        ..."
   ]
  },
  {
   "cell_type": "markdown",
   "metadata": {},
   "source": [
    "Ceci est possible également avec les décorateurs, avec cette syntaxe précisément. Le modèle qu'il faut avoir à l'esprit pour bien comprendre le code qui suit est le suivant et se base sur deux objets :\n",
    " * le premier objet, `memoize_expire`, est ce qu'on appelle une *factory* à décorateurs, c'est-à-dire que l'interpréteur va d'abord appeler `memoize_expire(600)` qui doit retourner un décorateur&nbsp;;\n",
    " * le deuxième objet est ce décorateur retourné par `memoize_expire(600)` qui lui même doit se comporter commes les décorateurs sans argument que l'on a vus jusqu'ici.\n",
    " \n",
    "Pour faire court, cela signifie que l'interpréteur fera\n",
    "\n",
    "    resolve_host = (memoize_expire(600))(resolve_host)\n",
    "    \n",
    "Ou encore si vous préférez\n",
    "\n",
    "    memoize = memoize_expire(600)\n",
    "    resolve_host = memoize(resolve_host)"
   ]
  },
  {
   "cell_type": "markdown",
   "metadata": {},
   "source": [
    "Ce qui nous mène au code suivant&nbsp;:"
   ]
  },
  {
   "cell_type": "code",
   "execution_count": null,
   "metadata": {
    "collapsed": true
   },
   "outputs": [],
   "source": [
    "import time\n",
    "\n",
    "# comme pour memoize, on est limité ici et on ne peut pas\n",
    "# supporter les appels à la **kwds, voir plus haut \n",
    "# la discussion sur l'implémentation de memoize\n",
    "\n",
    "# memoize_expire est une factory à décorateur\n",
    "def memoize_expire(timeout):\n",
    "\n",
    "    # memoize_expire va retourner un decorateur sans argument\n",
    "    # c'est à dire un objet qui se comporte\n",
    "    # comme notre tout premier `memoize`\n",
    "    def memoize(a_decorer):\n",
    "        # à partir d'ici on fait un peu comme dans\n",
    "        # la premiere version de memoize\n",
    "        def decoree(*args):\n",
    "            try:\n",
    "                # sauf que disons qu'on met dans le cache un tuple\n",
    "                # (valeur, timestamp)\n",
    "                valeur, timestamp = decoree.cache[args]\n",
    "                # et la on peut acceder a timeout\n",
    "                # parce que la liaison en python est lexicale \n",
    "                if (time.time()-timestamp) <= timeout:\n",
    "                    return valeur\n",
    "                else:\n",
    "                    # on fait comme si on ne connaissait pas,\n",
    "                    raise KeyError\n",
    "            # si les arguments ne sont pas hashables, \n",
    "            # par exemple une liste, on ne peut pas cacher \n",
    "            # et on reçoit TypeError\n",
    "            except TypeError:\n",
    "                return a_decorer(*args)\n",
    "            # les arguments sont hashables mais on\n",
    "            # n'a pas encore calculé cette valeur\n",
    "            except KeyError:\n",
    "                result = a_decorer(*args)\n",
    "                decoree.cache[args] = (result, time.time())\n",
    "                return result\n",
    "\n",
    "        decoree.cache = {}\n",
    "        return decoree\n",
    "    # le retour de memoize_expire, c'est memoize\n",
    "    return memoize"
   ]
  },
  {
   "cell_type": "code",
   "execution_count": null,
   "metadata": {
    "collapsed": true
   },
   "outputs": [],
   "source": [
    "@memoize_expire(0.5)\n",
    "def fibo_cache_expire(n):\n",
    "    return n if n<=1 else fibo_cache_expire(n-2)+fibo_cache_expire(n-1)"
   ]
  },
  {
   "cell_type": "code",
   "execution_count": null,
   "metadata": {
    "collapsed": true
   },
   "outputs": [],
   "source": [
    "fibo_cache_expire(300)"
   ]
  },
  {
   "cell_type": "code",
   "execution_count": null,
   "metadata": {
    "collapsed": true
   },
   "outputs": [],
   "source": [
    "fibo_cache_expire.cache[(200,)]"
   ]
  },
  {
   "cell_type": "markdown",
   "metadata": {},
   "source": [
    "##### Remarquez la clôture"
   ]
  },
  {
   "cell_type": "markdown",
   "metadata": {},
   "source": [
    "Pour conclure sur cet exemple, vous remarquez que dans le code de `decoree` on accède à la variable `timeout`. Ça peut paraître un peu étonnant, si vous pensez que `decoree` est appelée **bien après** que la fonction `memoize_expire` ait fini son travail. En effet, `memoize_expire` est évaluée **une fois** juste après **la définition** de `fibo_cache`. Et donc on pourrait penser que la valeur de `timeout` ne serait plus disponible dans le contexte de `decoree`.\n",
    "\n",
    "Pour comprendre ce qui se passe, il faut se souvenir que python est un langage à liaison lexicale. Cela signifie que la *résolution* de la variable `timeout` se fait au moment de la compilation (de la production du byte-code), et non au moment où est appelé `decoree`. \n",
    "\n",
    "Ce type de construction s'appelle [une **clotûre**](http://fr.wikipedia.org/wiki/Fermeture_%28informatique%29), en référence au lambda calcul&nbsp;: on parle de terme clos lorsqu'il n'y a plus de référence non résolue dans une expression. C'est une technique de programmation très répandue notamment dans les applications réactives, où on programme beaucoup avec des *callbacks*&nbsp;; par exemple il est presque impossible de programmer en JavaScript sans écrire une clôture. "
   ]
  },
  {
   "cell_type": "markdown",
   "metadata": {},
   "source": [
    "### On peut chaîner les décorateurs"
   ]
  },
  {
   "cell_type": "markdown",
   "metadata": {},
   "source": [
    "Pour revenir à notre sujet, signalons enfin que l'on peut aussi \"chaîner les décorateurs\"&nbsp;; imaginons par exemple qu'on dispose d'un décorateur `add_field` qui ajoute dans une classe un *getter* et un *setter* basés sur un nom d'attribut.\n",
    "\n",
    "C'est-à-dire que\n",
    "\n",
    "    @add_field('name')\n",
    "    class Foo:\n",
    "        pass\n",
    "\n",
    "donnerait pour `Foo` une classe qui dispose des méthodes `get_name` et `set_name` (exercice pour les courageux: écrire `add_field`)."
   ]
  },
  {
   "cell_type": "markdown",
   "metadata": {},
   "source": [
    "Alors la syntaxe des décorateurs vous permet de faire quelque chose comme&nbsp;:"
   ]
  },
  {
   "cell_type": "markdown",
   "metadata": {},
   "source": [
    "    @add_field('name')\n",
    "    @add_field('address')\n",
    "    class Foo:\n",
    "        pass"
   ]
  },
  {
   "cell_type": "markdown",
   "metadata": {},
   "source": [
    "Ce qui revient à faire&nbsp;:\n",
    "\n",
    "    class Foo: pass\n",
    "    Foo = (add_field('address'))(Foo)\n",
    "    Foo = (add_field('name'))(Foo)"
   ]
  },
  {
   "cell_type": "markdown",
   "metadata": {},
   "source": [
    "### Discussion"
   ]
  },
  {
   "cell_type": "markdown",
   "metadata": {},
   "source": [
    "Dans la pratique, écrire un décorateur est un exercice assez délicat. Le vrai problème est bien souvent la création d'objets supplémentaires&nbsp;: on n'appelle plus la fonction de départ mais un wrapper autour de la fonction de départ. \n",
    "\n",
    "Ceci a tout un tas de conséquences, et le lecteur attentif aura par exemple remarqué&nbsp;:\n",
    " * que dans l'état du code de `singleton`, bien que l'on ait correctement mis à jour `__doc__` et `__name__` sur la classe décorée, `help(Spam)` ne renvoie pas le texte attendu, il semble que `help` sur une instance de classe ne se comporte pas exactement comme attendu&nbsp;;\n",
    " * que si on essaie de combiner les décorateurs `NbAppels` et `memoize` sur une - encore nouvelle - version de fibonacci, le code obtenu ne converge pas&nbsp;; en fait les technique que nous avons utilisées dans les deux cas ne sont pas compatibles entre elles.\n",
    "\n",
    "De manière plus générale, il y a des gens pour trouver des défauts à ce système de décorateurs&nbsp;; je vous renvoie notamment à [ce blog](http://blog.dscpl.com.au/2014/01/how-you-implemented-your-python.html) qui, pour résumer, insiste sur le fait que les objets décorés n'ont **pas exactement** les mêmes propriétés que les objets originaux. L'auteur y explique que lorsqu'on fait de l'introspection profonde - c'est-à-dire lorsqu'on écrit du code qui \"fouille\" dans les objets qui représentent le code lui-même - les objets décorés ont parfois du mal à se *faire passer* pour les objets qu'ils remplacent.\n",
    "\n",
    "À chacun de voir les avantages et les inconvénients de cette technique. C'est là encore beaucoup une question de goût. Dans certains cas simples, comme par exemple pour `NbAppels`, la décoration revient à simplement ajouter du code avant et après l'appel à la fonction à décorer. Et dans ce cas, vous remarquerez qu'on peut aussi faire le même genre de choses avec un *context manager* (je laisse ça en exercice aux étudiants intéressés).\n",
    "\n",
    "Ce qui est clair toutefois est que la technique des décorateurs est quelque chose qui peut être très  utile, mais dont il ne faut pas abuser. En particulier de notre point de vue, la possibilité de combiner les décorateurs, si elle existe bien dans le langage d'un point de vue syntaxique, est dans la pratique à utiliser avec la plus extrême prudence. "
   ]
  },
  {
   "cell_type": "markdown",
   "metadata": {},
   "source": [
    "### Pour en savoir plus"
   ]
  },
  {
   "cell_type": "markdown",
   "metadata": {},
   "source": [
    "Maintenant que vous savez presque tout sur les décorateurs, vous pouvez retourner lire ce [recueil de décorateurs](https://wiki.python.org/moin/PythonDecoratorLibrary) mais plus en détails."
   ]
  }
 ],
 "metadata": {
  "kernelspec": {
   "display_name": "Python 3",
   "language": "python",
   "name": "python3"
  },
  "notebookname": "Décorateurs",
  "version": "3.0"
 },
 "nbformat": 4,
 "nbformat_minor": 1
}