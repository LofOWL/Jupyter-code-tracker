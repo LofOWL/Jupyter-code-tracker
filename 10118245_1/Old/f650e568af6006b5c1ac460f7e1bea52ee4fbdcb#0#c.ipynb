{
 "cells": [
  {
   "cell_type": "markdown",
   "metadata": {},
   "source": [
    "<style>div.title-slide {    width: 100%;    display: flex;    flex-direction: row;            /* default value; can be omitted */    flex-wrap: nowrap;              /* default value; can be omitted */    justify-content: space-between;}</style><div class=\"title-slide\">\n",
    "<span style=\"float:left;\">Licence CC BY-NC-ND</span>\n",
    "<span>Thierry Parmentelat &amp; Arnaud Legout</span>\n",
    "<span><img src=\"media/both-logos-small-alpha.png\" style=\"display:inline\" /></span>\n",
    "</div>"
   ]
  },
  {
   "cell_type": "markdown",
   "metadata": {},
   "source": [
    "# Versions de python"
   ]
  },
  {
   "cell_type": "markdown",
   "metadata": {},
   "source": [
    "## Version de référence: Python-3.6"
   ]
  },
  {
   "cell_type": "markdown",
   "metadata": {},
   "source": [
    "Comme on l'indique dans la vidéo, la version de Python qui a servi de **référence pour le MOOC est la version 3.6**, c'est notamment avec cette version que l'on a tourné les vidéos."
   ]
  },
  {
   "cell_type": "markdown",
   "metadata": {},
   "source": [
    "## Versions plus anciennes"
   ]
  },
  {
   "cell_type": "markdown",
   "metadata": {},
   "source": [
    "Certaines précautions sont à prendre si vous utilisez une version plus ancienne:"
   ]
  },
  {
   "cell_type": "markdown",
   "metadata": {},
   "source": [
    "### python-3.5"
   ]
  },
  {
   "cell_type": "markdown",
   "metadata": {},
   "source": [
    "Si vous préférez utiliser python-3.5, la différence la plus visible pour vous apparaitra avec les *f-strings*&nbsp;:"
   ]
  },
  {
   "cell_type": "code",
   "execution_count": null,
   "metadata": {},
   "outputs": [],
   "source": [
    "age = 10\n",
    "\n",
    "# un exemple de f-string\n",
    "f\"Jean a {age} ans\""
   ]
  },
  {
   "cell_type": "markdown",
   "metadata": {},
   "source": [
    "Cette construction - que nous utilisons très fréquemment - n'a été introduite qu'en python-3.6, aussi si vous utilisez python-3.5 vous verrez ceci&nbsp;:\n",
    "```python\n",
    ">>> age = 10\n",
    ">>> f\"Jean a {age} ans\"\n",
    "  File \"<stdin>\", line 1\n",
    "    f\"Jean a {age} ans\"\n",
    "                      ^\n",
    "SyntaxError: invalid syntax\n",
    "```"
   ]
  },
  {
   "cell_type": "markdown",
   "metadata": {},
   "source": [
    "Dans ce cas vous devrez remplacer ce code avec la méthode `format` - que nous verrons en Semaine 2 lorsque nous verrons les chaines de caractères - et dans le cas présent il faudrait remplacer par ceci&nbsp;:"
   ]
  },
  {
   "cell_type": "code",
   "execution_count": null,
   "metadata": {},
   "outputs": [],
   "source": [
    "age = 10\n",
    "\n",
    "\"Jean a {} ans\".format(age)"
   ]
  },
  {
   "cell_type": "markdown",
   "metadata": {},
   "source": [
    "Comme ces f-strings sont très présents dans le cours, il est recommandé d'utiliser au moins python-3.6."
   ]
  },
  {
   "cell_type": "markdown",
   "metadata": {},
   "source": [
    "### python-3.4"
   ]
  },
  {
   "cell_type": "markdown",
   "metadata": {},
   "source": [
    "La remarque vaut donc *a fortiori* pour python-3.4, qui en outre ne vous permettra pas de suivre la semaine 8 sur la programmation asynchrone, car les mots-clés `async` et `await` ont été introduits seulement dans python-3.5."
   ]
  },
  {
   "cell_type": "markdown",
   "metadata": {},
   "source": [
    "## Version utilisée dans les notebooks plus récentes"
   ]
  },
  {
   "cell_type": "markdown",
   "metadata": {},
   "source": [
    "En principe, tout le cours doit pouvoir s'exécuter tel quel avec une version plus récente de Python."
   ]
  },
  {
   "cell_type": "markdown",
   "metadata": {},
   "source": [
    "Cela dit, afin de pouvoir illustrer des nouveautés apparues après la 3.6, comme les *dataclasses* que nous verrons en semaine 6, les notebooks du cours sont exécutées avec une version plus récente que 3.6:"
   ]
  },
  {
   "cell_type": "code",
   "execution_count": null,
   "metadata": {},
   "outputs": [],
   "source": [
    "import sys\n",
    "print(sys.version_info)"
   ]
  },
  {
   "cell_type": "markdown",
   "metadata": {},
   "source": [
    "Nous signalons systématiquement les notebooks qui nécessitent une version plus récente que 3.6."
   ]
  }
 ],
 "metadata": {
  "kernelspec": {
   "display_name": "Python 3",
   "language": "python",
   "name": "python3"
  },
  "language_info": {
   "codemirror_mode": {
    "name": "ipython",
    "version": 3
   },
   "file_extension": ".py",
   "mimetype": "text/x-python",
   "name": "python",
   "nbconvert_exporter": "python",
   "pygments_lexer": "ipython3",
   "version": "3.7.0"
  },
  "livereveal": {
   "auto_select": "code",
   "auto_select_fragment": true,
   "autolaunch": false,
   "backimage": "media/nologo.png",
   "height": "100%",
   "start_slideshow_at": "selected",
   "theme": "simple",
   "transition": "fade",
   "width": "100%"
  },
  "notebookname": "Versions de python",
  "version": "3.0"
 },
 "nbformat": 4,
 "nbformat_minor": 2
}