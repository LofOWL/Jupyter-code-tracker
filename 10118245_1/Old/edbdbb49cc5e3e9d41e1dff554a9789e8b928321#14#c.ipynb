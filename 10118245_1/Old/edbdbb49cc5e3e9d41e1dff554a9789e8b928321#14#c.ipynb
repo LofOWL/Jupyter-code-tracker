{
 "cells": [
  {
   "cell_type": "markdown",
   "metadata": {},
   "source": [
    "<span style=\"float:left;\">Licence CC BY-NC-ND</span><span style=\"float:right;\">Thierry Parmentelat &amp; Arnaud Legout&nbsp;<img src=\"media/inria-25-alpha.png\" style=\"display:inline\"></span><br/>"
   ]
  },
  {
   "cell_type": "markdown",
   "metadata": {},
   "source": [
    "# Le scope `builtin`"
   ]
  },
  {
   "cell_type": "markdown",
   "metadata": {},
   "source": [
    "## Complément - niveau avancé"
   ]
  },
  {
   "cell_type": "markdown",
   "metadata": {},
   "source": [
    "### Ces noms qui viennent de nulle part"
   ]
  },
  {
   "cell_type": "markdown",
   "metadata": {},
   "source": [
    "Nous avons vu déjà un certain nombre de **fonctions *built-in*** comme par exemple"
   ]
  },
  {
   "cell_type": "code",
   "execution_count": null,
   "metadata": {},
   "outputs": [],
   "source": [
    "open, len, zip"
   ]
  },
  {
   "cell_type": "markdown",
   "metadata": {},
   "source": [
    "Ces noms font partie du **module `buitins`**. Il est cependant particulier puisque tout se passe **comme si** on avait fait avant toute chose:\n",
    "\n",
    "    from builtins import *\n",
    "    \n",
    "sauf que cet import est implicite."
   ]
  },
  {
   "cell_type": "markdown",
   "metadata": {},
   "source": [
    "### On peut réaffecter un nom *builtin*"
   ]
  },
  {
   "cell_type": "markdown",
   "metadata": {},
   "source": [
    "Quoique ce soit une pratique déconseillée, il est tout à fait possible de redéfinir ces noms; on peut faire par exemple"
   ]
  },
  {
   "cell_type": "code",
   "execution_count": null,
   "metadata": {},
   "outputs": [],
   "source": [
    "def open(*args):\n",
    "    pass"
   ]
  },
  {
   "cell_type": "markdown",
   "metadata": {},
   "source": [
    "Ceci est déconseillé car le code en aval de cette définition risque de ne pas faire ce qui est attendu; imaginez par exemple qu'on essaie maintenant de faire"
   ]
  },
  {
   "cell_type": "code",
   "execution_count": null,
   "metadata": {},
   "outputs": [],
   "source": [
    "# on a modifié le nom 'open', attention aux surprises\n",
    "with open(\"builtin.txt\", \"w\") as f:\n",
    "    f.write(\"quelque chose\")"
   ]
  },
  {
   "cell_type": "markdown",
   "metadata": {},
   "source": [
    "### On ne peut pas réaffecter un mot clé"
   ]
  },
  {
   "cell_type": "markdown",
   "metadata": {},
   "source": [
    "À titre de digression, rappelons que les noms prédéfinis dans le module `builtins` sont, à cet égard aussi, très différents des mots-clés comme `if`, `def`, `with` et autres `for` qui eux, ne peuvent pas être modifiés en aucune manière:\n",
    "\n",
    "```\n",
    ">>> lambda = 1\n",
    "  File \"<stdin>\", line 1\n",
    "    lambda = 1\n",
    "```"
   ]
  },
  {
   "cell_type": "markdown",
   "metadata": {},
   "source": [
    "### Que faire alors ?"
   ]
  },
  {
   "cell_type": "markdown",
   "metadata": {},
   "source": [
    "Même quand on sait qu'il faut éviter de redéfinir un nom prédéfini dans `builtins`, on n'a pas toujours en tête la liste exhaustive des noms prédéfinis, aussi il arrive qu'on le fasse involontairement (même si un bon éditeur de texte vous signalera les fonctions *built-in* avec une coloration syntaxique spécifique).\n",
    "\n",
    "Sachez que vous pouvez toujours \"retrouver\" alors la fonction prédéfinie en l'important explicitement du module `builtins`. Par exemple, pour réaliser notre ouverture de fichier, nous pouvons toujours faire:"
   ]
  },
  {
   "cell_type": "code",
   "execution_count": null,
   "metadata": {},
   "outputs": [],
   "source": [
    "# pour être sûr d'utiliser la bonne fonction open\n",
    "\n",
    "import builtins \n",
    "\n",
    "with builtins.open(\"builtin.txt\", \"w\") as f:\n",
    "    f.write(\"quelque chose\")"
   ]
  },
  {
   "cell_type": "markdown",
   "metadata": {},
   "source": [
    "Ou encore, de manière équivalente:"
   ]
  },
  {
   "cell_type": "code",
   "execution_count": null,
   "metadata": {},
   "outputs": [],
   "source": [
    "from builtins import open as builtin_open\n",
    "\n",
    "with builtin_open(\"builtin.txt\", \"r\") as f:\n",
    "    print(f.read())"
   ]
  },
  {
   "cell_type": "markdown",
   "metadata": {},
   "source": [
    "### Liste des fonctions prédéfinies"
   ]
  },
  {
   "cell_type": "markdown",
   "metadata": {},
   "source": [
    "Vous pouvez trouver la liste des fonctions prédéfinies avec la fonction `dir` sur le module `builtins` comme ci-dessous (qui vous montre aussi les exceptions prédéfinies, qui commencent par une majuscule), ou dans la documentation sur [les fonctions prédéfinies](https://docs.python.org/3.5/library/functions.html#built-in-funcs):"
   ]
  },
  {
   "cell_type": "code",
   "execution_count": null,
   "metadata": {},
   "outputs": [],
   "source": [
    "dir(builtins)"
   ]
  }
 ],
 "metadata": {
  "kernelspec": {
   "display_name": "Python 3",
   "language": "python",
   "name": "python3"
  },
  "language_info": {
   "codemirror_mode": {
    "name": "ipython",
    "version": 3
   },
   "file_extension": ".py",
   "mimetype": "text/x-python",
   "name": "python",
   "nbconvert_exporter": "python",
   "pygments_lexer": "ipython3",
   "version": "3.5.1"
  },
  "notebookname": "Le scope builtin",
  "version": "3.0"
 },
 "nbformat": 4,
 "nbformat_minor": 1
}