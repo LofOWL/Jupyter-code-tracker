{
 "cells": [
  {
   "cell_type": "markdown",
   "metadata": {},
   "source": [
    "# H2O GBM Tuning Tutorial for Python\n",
    "\n",
    "### Arno Candel, PhD, Chief Architect, H2O.ai\n",
    "### Ported to Python by Navdeep Gill, M.S., Hacker/Data Scientist, H2O.ai\n",
    "\n",
    "In this tutorial, we show how to build a well-tuned H2O GBM model for a supervised classification task. We specifically don't focus on feature engineering and use a small dataset to allow you to reproduce these results in a few minutes on a laptop. This script can be directly transferred to datasets that are hundreds of GBs large and H2O clusters with dozens of compute nodes.\n",
    "\n",
    "You can download the source [from H2O's github repository](https://github.com/h2oai/h2o-3/blob/master/h2o-docs/src/product/tutorials/gbm/gbmTuning.ipynb).\n",
    "\n",
    "Original [R Markdown version here](https://github.com/h2oai/h2o-3/blob/master/h2o-docs/src/product/tutorials/gbm/gbmTuning.Rmd).\n",
    "\n",
    "## Installation of the H2O Python Package\n",
    "Either download H2O from [H2O.ai's website](http://h2o.ai/download) or install the latest version of H2O into Python with the following set of commands:"
   ]
  },
  {
   "cell_type": "markdown",
   "metadata": {
    "collapsed": true
   },
   "source": [
    "Install dependencies from command line (prepending with `sudo` if needed):\n",
    "\n",
    "```\n",
    "[sudo] pip install -U requests\n",
    "[sudo] pip install -U tabulate\n",
    "[sudo] pip install -U future\n",
    "[sudo] pip install -U six\n",
    "```\n",
    "\n",
    "The following command removes the H2O module for Python.\n",
    "```\n",
    "[sudo] pip uninstall h2o\n",
    "```\n",
    "\n",
    "Next, use pip to install this version of the H2O Python module.\n",
    "```\n",
    "[sudo] pip install http://h2o-release.s3.amazonaws.com/h2o/rel-turchin/6/Python/h2o-3.8.2.6-py2.py3-none-any.whl\n",
    "```"
   ]
  },
  {
   "cell_type": "markdown",
   "metadata": {},
   "source": [
    "## Launch an H2O cluster on localhost"
   ]
  },
  {
   "cell_type": "code",
   "execution_count": 1,
   "metadata": {
    "collapsed": false
   },
   "outputs": [
    {
     "name": "stdout",
     "output_type": "stream",
     "text": [
      "\n",
      "\n",
      "No instance found at ip and port: localhost:54321. Trying to start local jar...\n",
      "\n",
      "\n",
      "JVM stdout: /var/folders/55/rj4cny_s29q4vn1wjt_x08sm0000gn/T/tmpI6TJxH/h2o_navdeepgill_started_from_python.out\n",
      "JVM stderr: /var/folders/55/rj4cny_s29q4vn1wjt_x08sm0000gn/T/tmpNMvQZm/h2o_navdeepgill_started_from_python.err\n",
      "Using ice_root: /var/folders/55/rj4cny_s29q4vn1wjt_x08sm0000gn/T/tmplIFvD8\n",
      "\n",
      "\n",
      "Java Version: java version \"1.7.0_79\"\n",
      "Java(TM) SE Runtime Environment (build 1.7.0_79-b15)\n",
      "Java HotSpot(TM) 64-Bit Server VM (build 24.79-b02, mixed mode)\n",
      "\n",
      "\n",
      "Starting H2O JVM and connecting: ............ Connection successful!\n"
     ]
    },
    {
     "name": "stderr",
     "output_type": "stream",
     "text": [
      "/Users/navdeepgill/anaconda/lib/python2.7/site-packages/IPython/core/formatters.py:90: DeprecationWarning: DisplayFormatter._ipython_display_formatter_default is deprecated: use @default decorator instead.\n",
      "  def _ipython_display_formatter_default(self):\n",
      "/Users/navdeepgill/anaconda/lib/python2.7/site-packages/IPython/core/formatters.py:96: DeprecationWarning: DisplayFormatter._formatters_default is deprecated: use @default decorator instead.\n",
      "  def _formatters_default(self):\n",
      "/Users/navdeepgill/anaconda/lib/python2.7/site-packages/IPython/core/formatters.py:675: DeprecationWarning: PlainTextFormatter._deferred_printers_default is deprecated: use @default decorator instead.\n",
      "  def _deferred_printers_default(self):\n",
      "/Users/navdeepgill/anaconda/lib/python2.7/site-packages/IPython/core/formatters.py:667: DeprecationWarning: PlainTextFormatter._singleton_printers_default is deprecated: use @default decorator instead.\n",
      "  def _singleton_printers_default(self):\n",
      "/Users/navdeepgill/anaconda/lib/python2.7/site-packages/IPython/core/formatters.py:670: DeprecationWarning: PlainTextFormatter._type_printers_default is deprecated: use @default decorator instead.\n",
      "  def _type_printers_default(self):\n",
      "/Users/navdeepgill/anaconda/lib/python2.7/site-packages/IPython/core/formatters.py:667: DeprecationWarning: PlainTextFormatter._singleton_printers_default is deprecated: use @default decorator instead.\n",
      "  def _singleton_printers_default(self):\n",
      "/Users/navdeepgill/anaconda/lib/python2.7/site-packages/IPython/core/formatters.py:670: DeprecationWarning: PlainTextFormatter._type_printers_default is deprecated: use @default decorator instead.\n",
      "  def _type_printers_default(self):\n",
      "/Users/navdeepgill/anaconda/lib/python2.7/site-packages/IPython/core/formatters.py:675: DeprecationWarning: PlainTextFormatter._deferred_printers_default is deprecated: use @default decorator instead.\n",
      "  def _deferred_printers_default(self):\n"
     ]
    },
    {
     "data": {
      "text/html": [
       "<div style=\"overflow:auto\"><table style=\"width:50%\"><tr><td>H2O cluster uptime: </td>\n",
       "<td>1 seconds 452 milliseconds </td></tr>\n",
       "<tr><td>H2O cluster version: </td>\n",
       "<td>3.8.2.6</td></tr>\n",
       "<tr><td>H2O cluster name: </td>\n",
       "<td>H2O_started_from_python_navdeepgill_vhl013</td></tr>\n",
       "<tr><td>H2O cluster total nodes: </td>\n",
       "<td>1</td></tr>\n",
       "<tr><td>H2O cluster total free memory: </td>\n",
       "<td>3.56 GB</td></tr>\n",
       "<tr><td>H2O cluster total cores: </td>\n",
       "<td>8</td></tr>\n",
       "<tr><td>H2O cluster allowed cores: </td>\n",
       "<td>8</td></tr>\n",
       "<tr><td>H2O cluster healthy: </td>\n",
       "<td>True</td></tr>\n",
       "<tr><td>H2O Connection ip: </td>\n",
       "<td>127.0.0.1</td></tr>\n",
       "<tr><td>H2O Connection port: </td>\n",
       "<td>54321</td></tr>\n",
       "<tr><td>H2O Connection proxy: </td>\n",
       "<td>None</td></tr>\n",
       "<tr><td>Python Version: </td>\n",
       "<td>2.7.11</td></tr></table></div>"
      ],
      "text/plain": [
       "------------------------------  ------------------------------------------\n",
       "H2O cluster uptime:             1 seconds 452 milliseconds\n",
       "H2O cluster version:            3.8.2.6\n",
       "H2O cluster name:               H2O_started_from_python_navdeepgill_vhl013\n",
       "H2O cluster total nodes:        1\n",
       "H2O cluster total free memory:  3.56 GB\n",
       "H2O cluster total cores:        8\n",
       "H2O cluster allowed cores:      8\n",
       "H2O cluster healthy:            True\n",
       "H2O Connection ip:              127.0.0.1\n",
       "H2O Connection port:            54321\n",
       "H2O Connection proxy:\n",
       "Python Version:                 2.7.11\n",
       "------------------------------  ------------------------------------------"
      ]
     },
     "metadata": {},
     "output_type": "display_data"
    }
   ],
   "source": [
    "import h2o\n",
    "import numpy as np\n",
    "import math\n",
    "h2o.init(nthreads=-1, strict_version_check=True)\n",
    "## optional: connect to a running H2O cluster\n",
    "#h2o.init(ip=\"mycluster\", port=55555)"
   ]
  },
  {
   "cell_type": "markdown",
   "metadata": {
    "collapsed": true
   },
   "source": [
    "## Import the data into H2O \n",
    "Everything is scalable and distributed from now on. All processing is done on the fully multi-threaded and distributed H2O Java-based backend and can be scaled to large datasets on large compute clusters.\n",
    "Here, we use a small public dataset ([Titanic](https://stat.ethz.ch/R-manual/R-devel/library/datasets/html/Titanic.html)), but you can use datasets that are hundreds of GBs large."
   ]
  },
  {
   "cell_type": "code",
   "execution_count": 2,
   "metadata": {
    "collapsed": false
   },
   "outputs": [
    {
     "name": "stdout",
     "output_type": "stream",
     "text": [
      "\n",
      "Parse Progress: [##################################################] 100%\n",
      "[1309, 14]\n"
     ]
    },
    {
     "data": {
      "text/html": [
       "<table>\n",
       "<tr><th style=\"text-align: right;\">  pclass</th><th style=\"text-align: right;\">  survived</th><th>name                                           </th><th>sex   </th><th style=\"text-align: right;\">    age</th><th style=\"text-align: right;\">  sibsp</th><th style=\"text-align: right;\">  parch</th><th style=\"text-align: right;\">  ticket</th><th style=\"text-align: right;\">    fare</th><th>cabin  </th><th>embarked  </th><th style=\"text-align: right;\">  boat</th><th style=\"text-align: right;\">  body</th><th>home.dest                      </th></tr>\n",
       "<tr><td style=\"text-align: right;\">       1</td><td style=\"text-align: right;\">         1</td><td>Allen  Miss. Elisabeth Walton                  </td><td>female</td><td style=\"text-align: right;\">29     </td><td style=\"text-align: right;\">      0</td><td style=\"text-align: right;\">      0</td><td style=\"text-align: right;\">   24160</td><td style=\"text-align: right;\">211.338 </td><td>B5     </td><td>S         </td><td style=\"text-align: right;\">     2</td><td style=\"text-align: right;\">   nan</td><td>St Louis  MO                   </td></tr>\n",
       "<tr><td style=\"text-align: right;\">       1</td><td style=\"text-align: right;\">         1</td><td>Allison  Master. Hudson Trevor                 </td><td>male  </td><td style=\"text-align: right;\"> 0.9167</td><td style=\"text-align: right;\">      1</td><td style=\"text-align: right;\">      2</td><td style=\"text-align: right;\">  113781</td><td style=\"text-align: right;\">151.55  </td><td>C22 C26</td><td>S         </td><td style=\"text-align: right;\">    11</td><td style=\"text-align: right;\">   nan</td><td>Montreal  PQ / Chesterville  ON</td></tr>\n",
       "<tr><td style=\"text-align: right;\">       1</td><td style=\"text-align: right;\">         0</td><td>Allison  Miss. Helen Loraine                   </td><td>female</td><td style=\"text-align: right;\"> 2     </td><td style=\"text-align: right;\">      1</td><td style=\"text-align: right;\">      2</td><td style=\"text-align: right;\">  113781</td><td style=\"text-align: right;\">151.55  </td><td>C22 C26</td><td>S         </td><td style=\"text-align: right;\">   nan</td><td style=\"text-align: right;\">   nan</td><td>Montreal  PQ / Chesterville  ON</td></tr>\n",
       "<tr><td style=\"text-align: right;\">       1</td><td style=\"text-align: right;\">         0</td><td>Allison  Mr. Hudson Joshua Creighton           </td><td>male  </td><td style=\"text-align: right;\">30     </td><td style=\"text-align: right;\">      1</td><td style=\"text-align: right;\">      2</td><td style=\"text-align: right;\">  113781</td><td style=\"text-align: right;\">151.55  </td><td>C22 C26</td><td>S         </td><td style=\"text-align: right;\">   nan</td><td style=\"text-align: right;\">   135</td><td>Montreal  PQ / Chesterville  ON</td></tr>\n",
       "<tr><td style=\"text-align: right;\">       1</td><td style=\"text-align: right;\">         0</td><td>Allison  Mrs. Hudson J C (Bessie Waldo Daniels)</td><td>female</td><td style=\"text-align: right;\">25     </td><td style=\"text-align: right;\">      1</td><td style=\"text-align: right;\">      2</td><td style=\"text-align: right;\">  113781</td><td style=\"text-align: right;\">151.55  </td><td>C22 C26</td><td>S         </td><td style=\"text-align: right;\">   nan</td><td style=\"text-align: right;\">   nan</td><td>Montreal  PQ / Chesterville  ON</td></tr>\n",
       "<tr><td style=\"text-align: right;\">       1</td><td style=\"text-align: right;\">         1</td><td>Anderson  Mr. Harry                            </td><td>male  </td><td style=\"text-align: right;\">48     </td><td style=\"text-align: right;\">      0</td><td style=\"text-align: right;\">      0</td><td style=\"text-align: right;\">   19952</td><td style=\"text-align: right;\"> 26.55  </td><td>E12    </td><td>S         </td><td style=\"text-align: right;\">     3</td><td style=\"text-align: right;\">   nan</td><td>New York  NY                   </td></tr>\n",
       "<tr><td style=\"text-align: right;\">       1</td><td style=\"text-align: right;\">         1</td><td>Andrews  Miss. Kornelia Theodosia              </td><td>female</td><td style=\"text-align: right;\">63     </td><td style=\"text-align: right;\">      1</td><td style=\"text-align: right;\">      0</td><td style=\"text-align: right;\">   13502</td><td style=\"text-align: right;\"> 77.9583</td><td>D7     </td><td>S         </td><td style=\"text-align: right;\">    10</td><td style=\"text-align: right;\">   nan</td><td>Hudson  NY                     </td></tr>\n",
       "<tr><td style=\"text-align: right;\">       1</td><td style=\"text-align: right;\">         0</td><td>Andrews  Mr. Thomas Jr                         </td><td>male  </td><td style=\"text-align: right;\">39     </td><td style=\"text-align: right;\">      0</td><td style=\"text-align: right;\">      0</td><td style=\"text-align: right;\">  112050</td><td style=\"text-align: right;\">  0     </td><td>A36    </td><td>S         </td><td style=\"text-align: right;\">   nan</td><td style=\"text-align: right;\">   nan</td><td>Belfast  NI                    </td></tr>\n",
       "<tr><td style=\"text-align: right;\">       1</td><td style=\"text-align: right;\">         1</td><td>Appleton  Mrs. Edward Dale (Charlotte Lamson)  </td><td>female</td><td style=\"text-align: right;\">53     </td><td style=\"text-align: right;\">      2</td><td style=\"text-align: right;\">      0</td><td style=\"text-align: right;\">   11769</td><td style=\"text-align: right;\"> 51.4792</td><td>C101   </td><td>S         </td><td style=\"text-align: right;\">   nan</td><td style=\"text-align: right;\">   nan</td><td>Bayside  Queens  NY            </td></tr>\n",
       "<tr><td style=\"text-align: right;\">       1</td><td style=\"text-align: right;\">         0</td><td>Artagaveytia  Mr. Ramon                        </td><td>male  </td><td style=\"text-align: right;\">71     </td><td style=\"text-align: right;\">      0</td><td style=\"text-align: right;\">      0</td><td style=\"text-align: right;\">     nan</td><td style=\"text-align: right;\"> 49.5042</td><td>       </td><td>C         </td><td style=\"text-align: right;\">   nan</td><td style=\"text-align: right;\">    22</td><td>Montevideo  Uruguay            </td></tr>\n",
       "</table>"
      ]
     },
     "metadata": {},
     "output_type": "display_data"
    },
    {
     "name": "stdout",
     "output_type": "stream",
     "text": [
      "<bound method H2OFrame.head of >\n"
     ]
    },
    {
     "data": {
      "text/html": [
       "<table>\n",
       "<tr><th style=\"text-align: right;\">  pclass</th><th style=\"text-align: right;\">  survived</th><th>name                                           </th><th>sex   </th><th style=\"text-align: right;\">    age</th><th style=\"text-align: right;\">  sibsp</th><th style=\"text-align: right;\">  parch</th><th style=\"text-align: right;\">  ticket</th><th style=\"text-align: right;\">    fare</th><th>cabin  </th><th>embarked  </th><th style=\"text-align: right;\">  boat</th><th style=\"text-align: right;\">  body</th><th>home.dest                      </th></tr>\n",
       "<tr><td style=\"text-align: right;\">       1</td><td style=\"text-align: right;\">         1</td><td>Allen  Miss. Elisabeth Walton                  </td><td>female</td><td style=\"text-align: right;\">29     </td><td style=\"text-align: right;\">      0</td><td style=\"text-align: right;\">      0</td><td style=\"text-align: right;\">   24160</td><td style=\"text-align: right;\">211.338 </td><td>B5     </td><td>S         </td><td style=\"text-align: right;\">     2</td><td style=\"text-align: right;\">   nan</td><td>St Louis  MO                   </td></tr>\n",
       "<tr><td style=\"text-align: right;\">       1</td><td style=\"text-align: right;\">         1</td><td>Allison  Master. Hudson Trevor                 </td><td>male  </td><td style=\"text-align: right;\"> 0.9167</td><td style=\"text-align: right;\">      1</td><td style=\"text-align: right;\">      2</td><td style=\"text-align: right;\">  113781</td><td style=\"text-align: right;\">151.55  </td><td>C22 C26</td><td>S         </td><td style=\"text-align: right;\">    11</td><td style=\"text-align: right;\">   nan</td><td>Montreal  PQ / Chesterville  ON</td></tr>\n",
       "<tr><td style=\"text-align: right;\">       1</td><td style=\"text-align: right;\">         0</td><td>Allison  Miss. Helen Loraine                   </td><td>female</td><td style=\"text-align: right;\"> 2     </td><td style=\"text-align: right;\">      1</td><td style=\"text-align: right;\">      2</td><td style=\"text-align: right;\">  113781</td><td style=\"text-align: right;\">151.55  </td><td>C22 C26</td><td>S         </td><td style=\"text-align: right;\">   nan</td><td style=\"text-align: right;\">   nan</td><td>Montreal  PQ / Chesterville  ON</td></tr>\n",
       "<tr><td style=\"text-align: right;\">       1</td><td style=\"text-align: right;\">         0</td><td>Allison  Mr. Hudson Joshua Creighton           </td><td>male  </td><td style=\"text-align: right;\">30     </td><td style=\"text-align: right;\">      1</td><td style=\"text-align: right;\">      2</td><td style=\"text-align: right;\">  113781</td><td style=\"text-align: right;\">151.55  </td><td>C22 C26</td><td>S         </td><td style=\"text-align: right;\">   nan</td><td style=\"text-align: right;\">   135</td><td>Montreal  PQ / Chesterville  ON</td></tr>\n",
       "<tr><td style=\"text-align: right;\">       1</td><td style=\"text-align: right;\">         0</td><td>Allison  Mrs. Hudson J C (Bessie Waldo Daniels)</td><td>female</td><td style=\"text-align: right;\">25     </td><td style=\"text-align: right;\">      1</td><td style=\"text-align: right;\">      2</td><td style=\"text-align: right;\">  113781</td><td style=\"text-align: right;\">151.55  </td><td>C22 C26</td><td>S         </td><td style=\"text-align: right;\">   nan</td><td style=\"text-align: right;\">   nan</td><td>Montreal  PQ / Chesterville  ON</td></tr>\n",
       "<tr><td style=\"text-align: right;\">       1</td><td style=\"text-align: right;\">         1</td><td>Anderson  Mr. Harry                            </td><td>male  </td><td style=\"text-align: right;\">48     </td><td style=\"text-align: right;\">      0</td><td style=\"text-align: right;\">      0</td><td style=\"text-align: right;\">   19952</td><td style=\"text-align: right;\"> 26.55  </td><td>E12    </td><td>S         </td><td style=\"text-align: right;\">     3</td><td style=\"text-align: right;\">   nan</td><td>New York  NY                   </td></tr>\n",
       "<tr><td style=\"text-align: right;\">       1</td><td style=\"text-align: right;\">         1</td><td>Andrews  Miss. Kornelia Theodosia              </td><td>female</td><td style=\"text-align: right;\">63     </td><td style=\"text-align: right;\">      1</td><td style=\"text-align: right;\">      0</td><td style=\"text-align: right;\">   13502</td><td style=\"text-align: right;\"> 77.9583</td><td>D7     </td><td>S         </td><td style=\"text-align: right;\">    10</td><td style=\"text-align: right;\">   nan</td><td>Hudson  NY                     </td></tr>\n",
       "<tr><td style=\"text-align: right;\">       1</td><td style=\"text-align: right;\">         0</td><td>Andrews  Mr. Thomas Jr                         </td><td>male  </td><td style=\"text-align: right;\">39     </td><td style=\"text-align: right;\">      0</td><td style=\"text-align: right;\">      0</td><td style=\"text-align: right;\">  112050</td><td style=\"text-align: right;\">  0     </td><td>A36    </td><td>S         </td><td style=\"text-align: right;\">   nan</td><td style=\"text-align: right;\">   nan</td><td>Belfast  NI                    </td></tr>\n",
       "<tr><td style=\"text-align: right;\">       1</td><td style=\"text-align: right;\">         1</td><td>Appleton  Mrs. Edward Dale (Charlotte Lamson)  </td><td>female</td><td style=\"text-align: right;\">53     </td><td style=\"text-align: right;\">      2</td><td style=\"text-align: right;\">      0</td><td style=\"text-align: right;\">   11769</td><td style=\"text-align: right;\"> 51.4792</td><td>C101   </td><td>S         </td><td style=\"text-align: right;\">   nan</td><td style=\"text-align: right;\">   nan</td><td>Bayside  Queens  NY            </td></tr>\n",
       "<tr><td style=\"text-align: right;\">       1</td><td style=\"text-align: right;\">         0</td><td>Artagaveytia  Mr. Ramon                        </td><td>male  </td><td style=\"text-align: right;\">71     </td><td style=\"text-align: right;\">      0</td><td style=\"text-align: right;\">      0</td><td style=\"text-align: right;\">     nan</td><td style=\"text-align: right;\"> 49.5042</td><td>       </td><td>C         </td><td style=\"text-align: right;\">   nan</td><td style=\"text-align: right;\">    22</td><td>Montevideo  Uruguay            </td></tr>\n",
       "</table>"
      ]
     },
     "metadata": {},
     "output_type": "display_data"
    },
    {
     "name": "stdout",
     "output_type": "stream",
     "text": [
      "<bound method H2OFrame.tail of >\n"
     ]
    },
    {
     "data": {
      "text/html": [
       "<table>\n",
       "<tr><th style=\"text-align: right;\">  pclass</th><th style=\"text-align: right;\">  survived</th><th>name                                           </th><th>sex   </th><th style=\"text-align: right;\">    age</th><th style=\"text-align: right;\">  sibsp</th><th style=\"text-align: right;\">  parch</th><th style=\"text-align: right;\">  ticket</th><th style=\"text-align: right;\">    fare</th><th>cabin  </th><th>embarked  </th><th style=\"text-align: right;\">  boat</th><th style=\"text-align: right;\">  body</th><th>home.dest                      </th></tr>\n",
       "<tr><td style=\"text-align: right;\">       1</td><td style=\"text-align: right;\">         1</td><td>Allen  Miss. Elisabeth Walton                  </td><td>female</td><td style=\"text-align: right;\">29     </td><td style=\"text-align: right;\">      0</td><td style=\"text-align: right;\">      0</td><td style=\"text-align: right;\">   24160</td><td style=\"text-align: right;\">211.338 </td><td>B5     </td><td>S         </td><td style=\"text-align: right;\">     2</td><td style=\"text-align: right;\">   nan</td><td>St Louis  MO                   </td></tr>\n",
       "<tr><td style=\"text-align: right;\">       1</td><td style=\"text-align: right;\">         1</td><td>Allison  Master. Hudson Trevor                 </td><td>male  </td><td style=\"text-align: right;\"> 0.9167</td><td style=\"text-align: right;\">      1</td><td style=\"text-align: right;\">      2</td><td style=\"text-align: right;\">  113781</td><td style=\"text-align: right;\">151.55  </td><td>C22 C26</td><td>S         </td><td style=\"text-align: right;\">    11</td><td style=\"text-align: right;\">   nan</td><td>Montreal  PQ / Chesterville  ON</td></tr>\n",
       "<tr><td style=\"text-align: right;\">       1</td><td style=\"text-align: right;\">         0</td><td>Allison  Miss. Helen Loraine                   </td><td>female</td><td style=\"text-align: right;\"> 2     </td><td style=\"text-align: right;\">      1</td><td style=\"text-align: right;\">      2</td><td style=\"text-align: right;\">  113781</td><td style=\"text-align: right;\">151.55  </td><td>C22 C26</td><td>S         </td><td style=\"text-align: right;\">   nan</td><td style=\"text-align: right;\">   nan</td><td>Montreal  PQ / Chesterville  ON</td></tr>\n",
       "<tr><td style=\"text-align: right;\">       1</td><td style=\"text-align: right;\">         0</td><td>Allison  Mr. Hudson Joshua Creighton           </td><td>male  </td><td style=\"text-align: right;\">30     </td><td style=\"text-align: right;\">      1</td><td style=\"text-align: right;\">      2</td><td style=\"text-align: right;\">  113781</td><td style=\"text-align: right;\">151.55  </td><td>C22 C26</td><td>S         </td><td style=\"text-align: right;\">   nan</td><td style=\"text-align: right;\">   135</td><td>Montreal  PQ / Chesterville  ON</td></tr>\n",
       "<tr><td style=\"text-align: right;\">       1</td><td style=\"text-align: right;\">         0</td><td>Allison  Mrs. Hudson J C (Bessie Waldo Daniels)</td><td>female</td><td style=\"text-align: right;\">25     </td><td style=\"text-align: right;\">      1</td><td style=\"text-align: right;\">      2</td><td style=\"text-align: right;\">  113781</td><td style=\"text-align: right;\">151.55  </td><td>C22 C26</td><td>S         </td><td style=\"text-align: right;\">   nan</td><td style=\"text-align: right;\">   nan</td><td>Montreal  PQ / Chesterville  ON</td></tr>\n",
       "<tr><td style=\"text-align: right;\">       1</td><td style=\"text-align: right;\">         1</td><td>Anderson  Mr. Harry                            </td><td>male  </td><td style=\"text-align: right;\">48     </td><td style=\"text-align: right;\">      0</td><td style=\"text-align: right;\">      0</td><td style=\"text-align: right;\">   19952</td><td style=\"text-align: right;\"> 26.55  </td><td>E12    </td><td>S         </td><td style=\"text-align: right;\">     3</td><td style=\"text-align: right;\">   nan</td><td>New York  NY                   </td></tr>\n",
       "<tr><td style=\"text-align: right;\">       1</td><td style=\"text-align: right;\">         1</td><td>Andrews  Miss. Kornelia Theodosia              </td><td>female</td><td style=\"text-align: right;\">63     </td><td style=\"text-align: right;\">      1</td><td style=\"text-align: right;\">      0</td><td style=\"text-align: right;\">   13502</td><td style=\"text-align: right;\"> 77.9583</td><td>D7     </td><td>S         </td><td style=\"text-align: right;\">    10</td><td style=\"text-align: right;\">   nan</td><td>Hudson  NY                     </td></tr>\n",
       "<tr><td style=\"text-align: right;\">       1</td><td style=\"text-align: right;\">         0</td><td>Andrews  Mr. Thomas Jr                         </td><td>male  </td><td style=\"text-align: right;\">39     </td><td style=\"text-align: right;\">      0</td><td style=\"text-align: right;\">      0</td><td style=\"text-align: right;\">  112050</td><td style=\"text-align: right;\">  0     </td><td>A36    </td><td>S         </td><td style=\"text-align: right;\">   nan</td><td style=\"text-align: right;\">   nan</td><td>Belfast  NI                    </td></tr>\n",
       "<tr><td style=\"text-align: right;\">       1</td><td style=\"text-align: right;\">         1</td><td>Appleton  Mrs. Edward Dale (Charlotte Lamson)  </td><td>female</td><td style=\"text-align: right;\">53     </td><td style=\"text-align: right;\">      2</td><td style=\"text-align: right;\">      0</td><td style=\"text-align: right;\">   11769</td><td style=\"text-align: right;\"> 51.4792</td><td>C101   </td><td>S         </td><td style=\"text-align: right;\">   nan</td><td style=\"text-align: right;\">   nan</td><td>Bayside  Queens  NY            </td></tr>\n",
       "<tr><td style=\"text-align: right;\">       1</td><td style=\"text-align: right;\">         0</td><td>Artagaveytia  Mr. Ramon                        </td><td>male  </td><td style=\"text-align: right;\">71     </td><td style=\"text-align: right;\">      0</td><td style=\"text-align: right;\">      0</td><td style=\"text-align: right;\">     nan</td><td style=\"text-align: right;\"> 49.5042</td><td>       </td><td>C         </td><td style=\"text-align: right;\">   nan</td><td style=\"text-align: right;\">    22</td><td>Montevideo  Uruguay            </td></tr>\n",
       "</table>"
      ]
     },
     "metadata": {},
     "output_type": "display_data"
    },
    {
     "name": "stdout",
     "output_type": "stream",
     "text": [
      "<bound method H2OFrame.describe of >\n",
      "[u'pclass', u'sex', u'age', u'sibsp', u'parch', u'ticket', u'fare', u'cabin', u'embarked', u'boat', u'body', u'home.dest']\n"
     ]
    }
   ],
   "source": [
    "## 'path' can point to a local file, hdfs, s3, nfs, Hive, directories, etc.\n",
    "df = h2o.import_file(path = \"http://s3.amazonaws.com/h2o-public-test-data/smalldata/gbm_test/titanic.csv\")\n",
    "print df.dim\n",
    "print df.head\n",
    "print df.tail\n",
    "print df.describe\n",
    "\n",
    "## pick a response for the supervised problem\n",
    "response = \"survived\"\n",
    "\n",
    "## the response variable is an integer, we will turn it into a categorical/factor for binary classification\n",
    "df[response] = df[response].asfactor()           \n",
    "\n",
    "## use all other columns (except for the name & the response column (\"survived\")) as predictors\n",
    "predictors = df.columns\n",
    "del predictors[1:3]\n",
    "print predictors"
   ]
  },
  {
   "cell_type": "markdown",
   "metadata": {},
   "source": [
    "From now on, everything is generic and directly applies to most datasets. We assume that all feature engineering is done at this stage and focus on model tuning. For multi-class problems, you can use `h2o.logloss()` or `h2o.confusion_matrix()` instead of `h2o.auc()` and for regression problems, you can use `h2o.mean_residual_deviance()` or `h2o.mse()`."
   ]
  },
  {
   "cell_type": "markdown",
   "metadata": {},
   "source": [
    "## Split the data for Machine Learning\n",
    "We split the data into three pieces: 60% for training, 20% for validation, 20% for final testing. \n",
    "Here, we use random splitting, but this assumes i.i.d. data. If this is not the case (e.g., when events span across multiple rows or data has a time structure), you'll have to sample your data non-randomly."
   ]
  },
  {
   "cell_type": "code",
   "execution_count": 3,
   "metadata": {
    "collapsed": false
   },
   "outputs": [],
   "source": [
    "train, valid, test = df.split_frame(ratios=[0.6,0.2], seed=1234, destination_frames=['train.hex','valid.hex','test.hex'])"
   ]
  },
  {
   "cell_type": "markdown",
   "metadata": {},
   "source": [
    "## Establish baseline performance\n",
    "As the first step, we'll build some default models to see what accuracy we can expect. Let's use the [AUC metric](http://mlwiki.org/index.php/ROC_Analysis) for this demo, but you can use `h2o.logloss()` and `stopping_metric=\"logloss\"` as well. It ranges from 0.5 for random models to 1 for perfect models.\n",
    "\n",
    "\n",
    "The first model is a default GBM, trained on the 60% training split"
   ]
  },
  {
   "cell_type": "code",
   "execution_count": 4,
   "metadata": {
    "collapsed": false
   },
   "outputs": [
    {
     "name": "stdout",
     "output_type": "stream",
     "text": [
      "\n",
      "gbm Model Build Progress: [##################################################] 100%\n",
      "Model Details\n",
      "=============\n",
      "H2OGradientBoostingEstimator :  Gradient Boosting Method\n",
      "Model Key:  GBM_model_python_1464886507550_1\n",
      "\n",
      "Model Summary: \n"
     ]
    },
    {
     "data": {
      "text/html": [
       "<div style=\"overflow:auto\"><table style=\"width:50%\"><tr><td><b></b></td>\n",
       "<td><b>number_of_trees</b></td>\n",
       "<td><b>model_size_in_bytes</b></td>\n",
       "<td><b>min_depth</b></td>\n",
       "<td><b>max_depth</b></td>\n",
       "<td><b>mean_depth</b></td>\n",
       "<td><b>min_leaves</b></td>\n",
       "<td><b>max_leaves</b></td>\n",
       "<td><b>mean_leaves</b></td></tr>\n",
       "<tr><td></td>\n",
       "<td>50.0</td>\n",
       "<td>27313.0</td>\n",
       "<td>5.0</td>\n",
       "<td>5.0</td>\n",
       "<td>5.0</td>\n",
       "<td>10.0</td>\n",
       "<td>21.0</td>\n",
       "<td>15.58</td></tr></table></div>"
      ],
      "text/plain": [
       "    number_of_trees    model_size_in_bytes    min_depth    max_depth    mean_depth    min_leaves    max_leaves    mean_leaves\n",
       "--  -----------------  ---------------------  -----------  -----------  ------------  ------------  ------------  -------------\n",
       "    50                 27313                  5            5            5             10            21            15.58"
      ]
     },
     "metadata": {},
     "output_type": "display_data"
    },
    {
     "name": "stdout",
     "output_type": "stream",
     "text": [
      "\n",
      "\n",
      "ModelMetricsBinomial: gbm\n",
      "** Reported on train data. **\n",
      "\n",
      "MSE: 0.0347141508428\n",
      "R^2: 0.853514801928\n",
      "LogLoss: 0.135724386711\n",
      "AUC: 0.990369609999\n",
      "Gini: 0.980739219997\n",
      "\n",
      "Confusion Matrix (Act/Pred) for max f1 @ threshold = 0.394257736927: \n"
     ]
    },
    {
     "data": {
      "text/html": [
       "<div style=\"overflow:auto\"><table style=\"width:50%\"><tr><td><b></b></td>\n",
       "<td><b>0</b></td>\n",
       "<td><b>1</b></td>\n",
       "<td><b>Error</b></td>\n",
       "<td><b>Rate</b></td></tr>\n",
       "<tr><td>0</td>\n",
       "<td>461.0</td>\n",
       "<td>18.0</td>\n",
       "<td>0.0376</td>\n",
       "<td> (18.0/479.0)</td></tr>\n",
       "<tr><td>1</td>\n",
       "<td>13.0</td>\n",
       "<td>288.0</td>\n",
       "<td>0.0432</td>\n",
       "<td> (13.0/301.0)</td></tr>\n",
       "<tr><td>Total</td>\n",
       "<td>474.0</td>\n",
       "<td>306.0</td>\n",
       "<td>0.0397</td>\n",
       "<td> (31.0/780.0)</td></tr></table></div>"
      ],
      "text/plain": [
       "       0    1    Error    Rate\n",
       "-----  ---  ---  -------  ------------\n",
       "0      461  18   0.0376   (18.0/479.0)\n",
       "1      13   288  0.0432   (13.0/301.0)\n",
       "Total  474  306  0.0397   (31.0/780.0)"
      ]
     },
     "metadata": {},
     "output_type": "display_data"
    },
    {
     "name": "stdout",
     "output_type": "stream",
     "text": [
      "\n",
      "Maximum Metrics: Maximum metrics at their respective thresholds\n",
      "\n"
     ]
    },
    {
     "data": {
      "text/html": [
       "<div style=\"overflow:auto\"><table style=\"width:50%\"><tr><td><b>metric</b></td>\n",
       "<td><b>threshold</b></td>\n",
       "<td><b>value</b></td>\n",
       "<td><b>idx</b></td></tr>\n",
       "<tr><td>max f1</td>\n",
       "<td>0.3942577</td>\n",
       "<td>0.9489292</td>\n",
       "<td>220.0</td></tr>\n",
       "<tr><td>max f2</td>\n",
       "<td>0.3942577</td>\n",
       "<td>0.9536424</td>\n",
       "<td>220.0</td></tr>\n",
       "<tr><td>max f0point5</td>\n",
       "<td>0.6059331</td>\n",
       "<td>0.9682188</td>\n",
       "<td>197.0</td></tr>\n",
       "<tr><td>max accuracy</td>\n",
       "<td>0.4073598</td>\n",
       "<td>0.9602564</td>\n",
       "<td>218.0</td></tr>\n",
       "<tr><td>max precision</td>\n",
       "<td>0.9945845</td>\n",
       "<td>1.0</td>\n",
       "<td>0.0</td></tr>\n",
       "<tr><td>max recall</td>\n",
       "<td>0.0608964</td>\n",
       "<td>1.0</td>\n",
       "<td>280.0</td></tr>\n",
       "<tr><td>max specificity</td>\n",
       "<td>0.9945845</td>\n",
       "<td>1.0</td>\n",
       "<td>0.0</td></tr>\n",
       "<tr><td>max absolute_MCC</td>\n",
       "<td>0.3942577</td>\n",
       "<td>0.9164872</td>\n",
       "<td>220.0</td></tr>\n",
       "<tr><td>max min_per_class_accuracy</td>\n",
       "<td>0.3942577</td>\n",
       "<td>0.9568106</td>\n",
       "<td>220.0</td></tr></table></div>"
      ],
      "text/plain": [
       "metric                      threshold    value     idx\n",
       "--------------------------  -----------  --------  -----\n",
       "max f1                      0.394258     0.948929  220\n",
       "max f2                      0.394258     0.953642  220\n",
       "max f0point5                0.605933     0.968219  197\n",
       "max accuracy                0.40736      0.960256  218\n",
       "max precision               0.994584     1         0\n",
       "max recall                  0.0608964    1         280\n",
       "max specificity             0.994584     1         0\n",
       "max absolute_MCC            0.394258     0.916487  220\n",
       "max min_per_class_accuracy  0.394258     0.956811  220"
      ]
     },
     "metadata": {},
     "output_type": "display_data"
    },
    {
     "name": "stdout",
     "output_type": "stream",
     "text": [
      "\n",
      "Gains/Lift Table: Avg response rate: 38.59 %\n",
      "\n"
     ]
    },
    {
     "data": {
      "text/html": [
       "<div style=\"overflow:auto\"><table style=\"width:50%\"><tr><td><b></b></td>\n",
       "<td><b>group</b></td>\n",
       "<td><b>cumulative_data_fraction</b></td>\n",
       "<td><b>lower_threshold</b></td>\n",
       "<td><b>lift</b></td>\n",
       "<td><b>cumulative_lift</b></td>\n",
       "<td><b>response_rate</b></td>\n",
       "<td><b>cumulative_response_rate</b></td>\n",
       "<td><b>capture_rate</b></td>\n",
       "<td><b>cumulative_capture_rate</b></td>\n",
       "<td><b>gain</b></td>\n",
       "<td><b>cumulative_gain</b></td></tr>\n",
       "<tr><td></td>\n",
       "<td>1</td>\n",
       "<td>0.0102564</td>\n",
       "<td>0.9792763</td>\n",
       "<td>2.5913621</td>\n",
       "<td>2.5913621</td>\n",
       "<td>1.0</td>\n",
       "<td>1.0</td>\n",
       "<td>0.0265781</td>\n",
       "<td>0.0265781</td>\n",
       "<td>159.1362126</td>\n",
       "<td>159.1362126</td></tr>\n",
       "<tr><td></td>\n",
       "<td>2</td>\n",
       "<td>0.0205128</td>\n",
       "<td>0.9772307</td>\n",
       "<td>2.5913621</td>\n",
       "<td>2.5913621</td>\n",
       "<td>1.0</td>\n",
       "<td>1.0</td>\n",
       "<td>0.0265781</td>\n",
       "<td>0.0531561</td>\n",
       "<td>159.1362126</td>\n",
       "<td>159.1362126</td></tr>\n",
       "<tr><td></td>\n",
       "<td>3</td>\n",
       "<td>0.0307692</td>\n",
       "<td>0.9749052</td>\n",
       "<td>2.5913621</td>\n",
       "<td>2.5913621</td>\n",
       "<td>1.0</td>\n",
       "<td>1.0</td>\n",
       "<td>0.0265781</td>\n",
       "<td>0.0797342</td>\n",
       "<td>159.1362126</td>\n",
       "<td>159.1362126</td></tr>\n",
       "<tr><td></td>\n",
       "<td>4</td>\n",
       "<td>0.0410256</td>\n",
       "<td>0.9735284</td>\n",
       "<td>2.5913621</td>\n",
       "<td>2.5913621</td>\n",
       "<td>1.0</td>\n",
       "<td>1.0</td>\n",
       "<td>0.0265781</td>\n",
       "<td>0.1063123</td>\n",
       "<td>159.1362126</td>\n",
       "<td>159.1362126</td></tr>\n",
       "<tr><td></td>\n",
       "<td>5</td>\n",
       "<td>0.0525641</td>\n",
       "<td>0.9727573</td>\n",
       "<td>2.5913621</td>\n",
       "<td>2.5913621</td>\n",
       "<td>1.0</td>\n",
       "<td>1.0</td>\n",
       "<td>0.0299003</td>\n",
       "<td>0.1362126</td>\n",
       "<td>159.1362126</td>\n",
       "<td>159.1362126</td></tr>\n",
       "<tr><td></td>\n",
       "<td>6</td>\n",
       "<td>0.1</td>\n",
       "<td>0.9705040</td>\n",
       "<td>2.5913621</td>\n",
       "<td>2.5913621</td>\n",
       "<td>1.0</td>\n",
       "<td>1.0</td>\n",
       "<td>0.1229236</td>\n",
       "<td>0.2591362</td>\n",
       "<td>159.1362126</td>\n",
       "<td>159.1362126</td></tr>\n",
       "<tr><td></td>\n",
       "<td>7</td>\n",
       "<td>0.15</td>\n",
       "<td>0.9690187</td>\n",
       "<td>2.5913621</td>\n",
       "<td>2.5913621</td>\n",
       "<td>1.0</td>\n",
       "<td>1.0</td>\n",
       "<td>0.1295681</td>\n",
       "<td>0.3887043</td>\n",
       "<td>159.1362126</td>\n",
       "<td>159.1362126</td></tr>\n",
       "<tr><td></td>\n",
       "<td>8</td>\n",
       "<td>0.2</td>\n",
       "<td>0.9666881</td>\n",
       "<td>2.5913621</td>\n",
       "<td>2.5913621</td>\n",
       "<td>1.0</td>\n",
       "<td>1.0</td>\n",
       "<td>0.1295681</td>\n",
       "<td>0.5182724</td>\n",
       "<td>159.1362126</td>\n",
       "<td>159.1362126</td></tr>\n",
       "<tr><td></td>\n",
       "<td>9</td>\n",
       "<td>0.3</td>\n",
       "<td>0.9286900</td>\n",
       "<td>2.5913621</td>\n",
       "<td>2.5913621</td>\n",
       "<td>1.0</td>\n",
       "<td>1.0</td>\n",
       "<td>0.2591362</td>\n",
       "<td>0.7774086</td>\n",
       "<td>159.1362126</td>\n",
       "<td>159.1362126</td></tr>\n",
       "<tr><td></td>\n",
       "<td>10</td>\n",
       "<td>0.4</td>\n",
       "<td>0.3392288</td>\n",
       "<td>1.8272425</td>\n",
       "<td>2.4003322</td>\n",
       "<td>0.7051282</td>\n",
       "<td>0.9262821</td>\n",
       "<td>0.1827243</td>\n",
       "<td>0.9601329</td>\n",
       "<td>82.7242525</td>\n",
       "<td>140.0332226</td></tr>\n",
       "<tr><td></td>\n",
       "<td>11</td>\n",
       "<td>0.5115385</td>\n",
       "<td>0.1092959</td>\n",
       "<td>0.2680719</td>\n",
       "<td>1.9354033</td>\n",
       "<td>0.1034483</td>\n",
       "<td>0.7468672</td>\n",
       "<td>0.0299003</td>\n",
       "<td>0.9900332</td>\n",
       "<td>-73.1928056</td>\n",
       "<td>93.5403292</td></tr>\n",
       "<tr><td></td>\n",
       "<td>12</td>\n",
       "<td>0.6333333</td>\n",
       "<td>0.0608964</td>\n",
       "<td>0.0818325</td>\n",
       "<td>1.5789474</td>\n",
       "<td>0.0315789</td>\n",
       "<td>0.6093117</td>\n",
       "<td>0.0099668</td>\n",
       "<td>1.0</td>\n",
       "<td>-91.8167512</td>\n",
       "<td>57.8947368</td></tr>\n",
       "<tr><td></td>\n",
       "<td>13</td>\n",
       "<td>0.7128205</td>\n",
       "<td>0.0376842</td>\n",
       "<td>0.0</td>\n",
       "<td>1.4028777</td>\n",
       "<td>0.0</td>\n",
       "<td>0.5413669</td>\n",
       "<td>0.0</td>\n",
       "<td>1.0</td>\n",
       "<td>-100.0</td>\n",
       "<td>40.2877698</td></tr>\n",
       "<tr><td></td>\n",
       "<td>14</td>\n",
       "<td>0.8</td>\n",
       "<td>0.0257127</td>\n",
       "<td>0.0</td>\n",
       "<td>1.25</td>\n",
       "<td>0.0</td>\n",
       "<td>0.4823718</td>\n",
       "<td>0.0</td>\n",
       "<td>1.0</td>\n",
       "<td>-100.0</td>\n",
       "<td>25.0</td></tr>\n",
       "<tr><td></td>\n",
       "<td>15</td>\n",
       "<td>0.9320513</td>\n",
       "<td>0.0192902</td>\n",
       "<td>0.0</td>\n",
       "<td>1.0729023</td>\n",
       "<td>0.0</td>\n",
       "<td>0.4140303</td>\n",
       "<td>0.0</td>\n",
       "<td>1.0</td>\n",
       "<td>-100.0</td>\n",
       "<td>7.2902338</td></tr>\n",
       "<tr><td></td>\n",
       "<td>16</td>\n",
       "<td>1.0</td>\n",
       "<td>0.0160264</td>\n",
       "<td>0.0</td>\n",
       "<td>1.0</td>\n",
       "<td>0.0</td>\n",
       "<td>0.3858974</td>\n",
       "<td>0.0</td>\n",
       "<td>1.0</td>\n",
       "<td>-100.0</td>\n",
       "<td>0.0</td></tr></table></div>"
      ],
      "text/plain": [
       "    group    cumulative_data_fraction    lower_threshold    lift       cumulative_lift    response_rate    cumulative_response_rate    capture_rate    cumulative_capture_rate    gain      cumulative_gain\n",
       "--  -------  --------------------------  -----------------  ---------  -----------------  ---------------  --------------------------  --------------  -------------------------  --------  -----------------\n",
       "    1        0.0102564                   0.979276           2.59136    2.59136            1                1                           0.0265781       0.0265781                  159.136   159.136\n",
       "    2        0.0205128                   0.977231           2.59136    2.59136            1                1                           0.0265781       0.0531561                  159.136   159.136\n",
       "    3        0.0307692                   0.974905           2.59136    2.59136            1                1                           0.0265781       0.0797342                  159.136   159.136\n",
       "    4        0.0410256                   0.973528           2.59136    2.59136            1                1                           0.0265781       0.106312                   159.136   159.136\n",
       "    5        0.0525641                   0.972757           2.59136    2.59136            1                1                           0.0299003       0.136213                   159.136   159.136\n",
       "    6        0.1                         0.970504           2.59136    2.59136            1                1                           0.122924        0.259136                   159.136   159.136\n",
       "    7        0.15                        0.969019           2.59136    2.59136            1                1                           0.129568        0.388704                   159.136   159.136\n",
       "    8        0.2                         0.966688           2.59136    2.59136            1                1                           0.129568        0.518272                   159.136   159.136\n",
       "    9        0.3                         0.92869            2.59136    2.59136            1                1                           0.259136        0.777409                   159.136   159.136\n",
       "    10       0.4                         0.339229           1.82724    2.40033            0.705128         0.926282                    0.182724        0.960133                   82.7243   140.033\n",
       "    11       0.511538                    0.109296           0.268072   1.9354             0.103448         0.746867                    0.0299003       0.990033                   -73.1928  93.5403\n",
       "    12       0.633333                    0.0608964          0.0818325  1.57895            0.0315789        0.609312                    0.00996678      1                          -91.8168  57.8947\n",
       "    13       0.712821                    0.0376842          0          1.40288            0                0.541367                    0               1                          -100      40.2878\n",
       "    14       0.8                         0.0257127          0          1.25               0                0.482372                    0               1                          -100      25\n",
       "    15       0.932051                    0.0192902          0          1.0729             0                0.41403                     0               1                          -100      7.29023\n",
       "    16       1                           0.0160264          0          1                  0                0.385897                    0               1                          -100      0"
      ]
     },
     "metadata": {},
     "output_type": "display_data"
    },
    {
     "name": "stdout",
     "output_type": "stream",
     "text": [
      "\n",
      "\n",
      "Scoring History: \n"
     ]
    },
    {
     "data": {
      "text/html": [
       "<div style=\"overflow:auto\"><table style=\"width:50%\"><tr><td><b></b></td>\n",
       "<td><b>timestamp</b></td>\n",
       "<td><b>duration</b></td>\n",
       "<td><b>number_of_trees</b></td>\n",
       "<td><b>training_MSE</b></td>\n",
       "<td><b>training_logloss</b></td>\n",
       "<td><b>training_AUC</b></td>\n",
       "<td><b>training_lift</b></td>\n",
       "<td><b>training_classification_error</b></td></tr>\n",
       "<tr><td></td>\n",
       "<td>2016-06-02 09:57:06</td>\n",
       "<td> 0.018 sec</td>\n",
       "<td>0.0</td>\n",
       "<td>0.2369806</td>\n",
       "<td>0.6668775</td>\n",
       "<td>0.5</td>\n",
       "<td>1.0</td>\n",
       "<td>0.6141026</td></tr>\n",
       "<tr><td></td>\n",
       "<td>2016-06-02 09:57:07</td>\n",
       "<td> 0.214 sec</td>\n",
       "<td>1.0</td>\n",
       "<td>0.2022753</td>\n",
       "<td>0.5942842</td>\n",
       "<td>0.9685634</td>\n",
       "<td>2.5913621</td>\n",
       "<td>0.0782051</td></tr>\n",
       "<tr><td></td>\n",
       "<td>2016-06-02 09:57:07</td>\n",
       "<td> 0.329 sec</td>\n",
       "<td>2.0</td>\n",
       "<td>0.1744836</td>\n",
       "<td>0.5361788</td>\n",
       "<td>0.9760888</td>\n",
       "<td>2.5913621</td>\n",
       "<td>0.0692308</td></tr>\n",
       "<tr><td></td>\n",
       "<td>2016-06-02 09:57:07</td>\n",
       "<td> 0.437 sec</td>\n",
       "<td>3.0</td>\n",
       "<td>0.1520389</td>\n",
       "<td>0.4883150</td>\n",
       "<td>0.9760888</td>\n",
       "<td>2.5913621</td>\n",
       "<td>0.0692308</td></tr>\n",
       "<tr><td></td>\n",
       "<td>2016-06-02 09:57:07</td>\n",
       "<td> 0.530 sec</td>\n",
       "<td>4.0</td>\n",
       "<td>0.1335759</td>\n",
       "<td>0.4476644</td>\n",
       "<td>0.9767338</td>\n",
       "<td>2.5913621</td>\n",
       "<td>0.0692308</td></tr>\n",
       "<tr><td>---</td>\n",
       "<td>---</td>\n",
       "<td>---</td>\n",
       "<td>---</td>\n",
       "<td>---</td>\n",
       "<td>---</td>\n",
       "<td>---</td>\n",
       "<td>---</td>\n",
       "<td>---</td></tr>\n",
       "<tr><td></td>\n",
       "<td>2016-06-02 09:57:08</td>\n",
       "<td> 1.472 sec</td>\n",
       "<td>46.0</td>\n",
       "<td>0.0351867</td>\n",
       "<td>0.1373187</td>\n",
       "<td>0.9900159</td>\n",
       "<td>2.5913621</td>\n",
       "<td>0.0410256</td></tr>\n",
       "<tr><td></td>\n",
       "<td>2016-06-02 09:57:08</td>\n",
       "<td> 1.490 sec</td>\n",
       "<td>47.0</td>\n",
       "<td>0.0350182</td>\n",
       "<td>0.1368714</td>\n",
       "<td>0.9901338</td>\n",
       "<td>2.5913621</td>\n",
       "<td>0.0410256</td></tr>\n",
       "<tr><td></td>\n",
       "<td>2016-06-02 09:57:08</td>\n",
       "<td> 1.508 sec</td>\n",
       "<td>48.0</td>\n",
       "<td>0.0349213</td>\n",
       "<td>0.1365776</td>\n",
       "<td>0.9902794</td>\n",
       "<td>2.5913621</td>\n",
       "<td>0.0410256</td></tr>\n",
       "<tr><td></td>\n",
       "<td>2016-06-02 09:57:08</td>\n",
       "<td> 1.527 sec</td>\n",
       "<td>49.0</td>\n",
       "<td>0.0347513</td>\n",
       "<td>0.1361386</td>\n",
       "<td>0.9903765</td>\n",
       "<td>2.5913621</td>\n",
       "<td>0.0397436</td></tr>\n",
       "<tr><td></td>\n",
       "<td>2016-06-02 09:57:08</td>\n",
       "<td> 1.544 sec</td>\n",
       "<td>50.0</td>\n",
       "<td>0.0347142</td>\n",
       "<td>0.1357244</td>\n",
       "<td>0.9903696</td>\n",
       "<td>2.5913621</td>\n",
       "<td>0.0397436</td></tr></table></div>"
      ],
      "text/plain": [
       "     timestamp            duration    number_of_trees    training_MSE     training_logloss    training_AUC    training_lift    training_classification_error\n",
       "---  -------------------  ----------  -----------------  ---------------  ------------------  --------------  ---------------  -------------------------------\n",
       "     2016-06-02 09:57:06  0.018 sec   0.0                0.236980604865   0.66687754039       0.5             1.0              0.614102564103\n",
       "     2016-06-02 09:57:07  0.214 sec   1.0                0.20227525227    0.594284206025      0.968563383017  2.59136212625    0.0782051282051\n",
       "     2016-06-02 09:57:07  0.329 sec   2.0                0.17448358399    0.536178835173      0.976088750789  2.59136212625    0.0692307692308\n",
       "     2016-06-02 09:57:07  0.437 sec   3.0                0.152038884955   0.488314986422      0.976088750789  2.59136212625    0.0692307692308\n",
       "     2016-06-02 09:57:07  0.530 sec   4.0                0.133575857211   0.447664398007      0.976733782312  2.59136212625    0.0692307692308\n",
       "---  ---                  ---         ---                ---              ---                 ---             ---              ---\n",
       "     2016-06-02 09:57:08  1.472 sec   46.0               0.0351866688934  0.137318716441      0.990015883034  2.59136212625    0.0410256410256\n",
       "     2016-06-02 09:57:08  1.490 sec   47.0               0.0350181660315  0.136871423281      0.990133792022  2.59136212625    0.0410256410256\n",
       "     2016-06-02 09:57:08  1.508 sec   48.0               0.0349212906762  0.136577564791      0.990279444302  2.59136212625    0.0410256410256\n",
       "     2016-06-02 09:57:08  1.527 sec   49.0               0.0347513221364  0.136138626945      0.990376545822  2.59136212625    0.0397435897436\n",
       "     2016-06-02 09:57:08  1.544 sec   50.0               0.0347141508428  0.135724386711      0.990369609999  2.59136212625    0.0397435897436"
      ]
     },
     "metadata": {},
     "output_type": "display_data"
    },
    {
     "name": "stdout",
     "output_type": "stream",
     "text": [
      "\n",
      "See the whole table with table.as_data_frame()\n",
      "\n",
      "Variable Importances: \n"
     ]
    },
    {
     "data": {
      "text/html": [
       "<div style=\"overflow:auto\"><table style=\"width:50%\"><tr><td><b>variable</b></td>\n",
       "<td><b>relative_importance</b></td>\n",
       "<td><b>scaled_importance</b></td>\n",
       "<td><b>percentage</b></td></tr>\n",
       "<tr><td>boat</td>\n",
       "<td>608.0037231</td>\n",
       "<td>1.0</td>\n",
       "<td>0.5470799</td></tr>\n",
       "<tr><td>home.dest</td>\n",
       "<td>379.0013123</td>\n",
       "<td>0.6233536</td>\n",
       "<td>0.3410242</td></tr>\n",
       "<tr><td>cabin</td>\n",
       "<td>35.3481979</td>\n",
       "<td>0.0581381</td>\n",
       "<td>0.0318062</td></tr>\n",
       "<tr><td>sex</td>\n",
       "<td>28.0973225</td>\n",
       "<td>0.0462124</td>\n",
       "<td>0.0252819</td></tr>\n",
       "<tr><td>ticket</td>\n",
       "<td>21.2186050</td>\n",
       "<td>0.0348988</td>\n",
       "<td>0.0190924</td></tr>\n",
       "<tr><td>embarked</td>\n",
       "<td>14.9458570</td>\n",
       "<td>0.0245819</td>\n",
       "<td>0.0134482</td></tr>\n",
       "<tr><td>fare</td>\n",
       "<td>11.1052256</td>\n",
       "<td>0.0182651</td>\n",
       "<td>0.0099924</td></tr>\n",
       "<tr><td>age</td>\n",
       "<td>5.4856591</td>\n",
       "<td>0.0090224</td>\n",
       "<td>0.0049360</td></tr>\n",
       "<tr><td>parch</td>\n",
       "<td>3.7122171</td>\n",
       "<td>0.0061056</td>\n",
       "<td>0.0033402</td></tr>\n",
       "<tr><td>sibsp</td>\n",
       "<td>1.8749361</td>\n",
       "<td>0.0030838</td>\n",
       "<td>0.0016871</td></tr>\n",
       "<tr><td>body</td>\n",
       "<td>1.2949954</td>\n",
       "<td>0.0021299</td>\n",
       "<td>0.0011652</td></tr>\n",
       "<tr><td>pclass</td>\n",
       "<td>1.2737147</td>\n",
       "<td>0.0020949</td>\n",
       "<td>0.0011461</td></tr></table></div>"
      ],
      "text/plain": [
       "variable    relative_importance    scaled_importance    percentage\n",
       "----------  ---------------------  -------------------  ------------\n",
       "boat        608.004                1                    0.54708\n",
       "home.dest   379.001                0.623354             0.341024\n",
       "cabin       35.3482                0.0581381            0.0318062\n",
       "sex         28.0973                0.0462124            0.0252819\n",
       "ticket      21.2186                0.0348988            0.0190924\n",
       "embarked    14.9459                0.0245819            0.0134482\n",
       "fare        11.1052                0.0182651            0.00999245\n",
       "age         5.48566                0.00902241           0.00493598\n",
       "parch       3.71222                0.00610558           0.00334024\n",
       "sibsp       1.87494                0.00308376           0.00168706\n",
       "body        1.295                  0.00212991           0.00116523\n",
       "pclass      1.27371                0.00209491           0.00114608"
      ]
     },
     "metadata": {},
     "output_type": "display_data"
    },
    {
     "name": "stdout",
     "output_type": "stream",
     "text": [
      "\n"
     ]
    }
   ],
   "source": [
    "#We only provide the required parameters, everything else is default\n",
    "gbm = h2o.H2OGradientBoostingEstimator(distribution='bernoulli')\n",
    "gbm.train(x=predictors, y=response, training_frame=train)\n",
    "\n",
    "## Show a detailed model summary\n",
    "print gbm"
   ]
  },
  {
   "cell_type": "markdown",
   "metadata": {},
   "source": [
    "The AUC is over 94%, so this model is highly predictive!"
   ]
  },
  {
   "cell_type": "code",
   "execution_count": 5,
   "metadata": {
    "collapsed": false
   },
   "outputs": [
    {
     "name": "stdout",
     "output_type": "stream",
     "text": [
      "0.943195266272\n"
     ]
    }
   ],
   "source": [
    "## Get the AUC on the validation set\n",
    "perf = gbm.model_performance(valid)\n",
    "print perf.auc()"
   ]
  },
  {
   "cell_type": "markdown",
   "metadata": {},
   "source": [
    "The second model is another default GBM, but trained on 80% of the data (here, we combine the training and validation splits to get more training data), and cross-validated using 4 folds.\n",
    "Note that cross-validation takes longer and is not usually done for really large datasets."
   ]
  },
  {
   "cell_type": "code",
   "execution_count": 6,
   "metadata": {
    "collapsed": false
   },
   "outputs": [
    {
     "name": "stdout",
     "output_type": "stream",
     "text": [
      "\n",
      "gbm Model Build Progress: [##################################################] 100%\n"
     ]
    }
   ],
   "source": [
    "## rbind() makes a copy here, so it's better to use split_frame with `ratios = c(0.8)` instead above\n",
    "cv_gbm = h2o.H2OGradientBoostingEstimator(distribution='bernoulli',nfolds = 4, seed = 0xDECAF)\n",
    "cv_gbm.train(x = predictors, y = response, training_frame = train.rbind(valid))"
   ]
  },
  {
   "cell_type": "markdown",
   "metadata": {},
   "source": [
    "We see that the cross-validated performance is similar to the validation set performance:"
   ]
  },
  {
   "cell_type": "code",
   "execution_count": 7,
   "metadata": {
    "collapsed": false
   },
   "outputs": [
    {
     "name": "stdout",
     "output_type": "stream",
     "text": [
      "                     auc\n",
      "mean            0.943291\n",
      "sd            0.00774769\n",
      "cv_1_valid      0.929854\n",
      "cv_2_valid      0.936152\n",
      "cv_3_valid       0.95788\n",
      "cv_4_valid      0.949278\n",
      "Name: 4, dtype: object\n"
     ]
    }
   ],
   "source": [
    "## Show a detailed summary of the cross validation metrics\n",
    "## This gives you an idea of the variance between the folds\n",
    "cv_summary = cv_gbm.cross_validation_metrics_summary().as_data_frame()\n",
    "#print(cv_summary) ## Full summary of all metrics\n",
    "print(cv_summary.iloc[4]) ## get the row with just the AUCs\n",
    "\n",
    "## Get the cross-validated AUC by scoring the combined holdout predictions.\n",
    "## (Instead of taking the average of the metrics across the folds)\n",
    "#perf_cv = cv_gbm.model_performance(xval=True) ## This only works with H2O version > 3.8.2.6\n",
    "#print perf_cv.auc()"
   ]
  },
  {
   "cell_type": "markdown",
   "metadata": {},
   "source": [
    "Next, we train a GBM with \"I feel lucky\" parameters.\n",
    "We'll use early stopping to automatically tune the number of trees using the validation AUC. \n",
    "We'll use a lower learning rate (lower is always better, just takes more trees to converge).\n",
    "We'll also use stochastic sampling of rows and columns to (hopefully) improve generalization."
   ]
  },
  {
   "cell_type": "code",
   "execution_count": 8,
   "metadata": {
    "collapsed": false
   },
   "outputs": [
    {
     "name": "stdout",
     "output_type": "stream",
     "text": [
      "\n",
      "gbm Model Build Progress: [##################################################] 100%\n"
     ]
    }
   ],
   "source": [
    "gbm_lucky = h2o.H2OGradientBoostingEstimator(\n",
    "  ## more trees is better if the learning rate is small enough \n",
    "  ## here, use \"more than enough\" trees - we have early stopping\n",
    "  ntrees = 10000,                                                            \n",
    "\n",
    "  ## smaller learning rate is better (this is a good value for most datasets, but see below for annealing)\n",
    "  learn_rate = 0.01,                                                         \n",
    "\n",
    "  ## early stopping once the validation AUC doesn't improve by at least 0.01% for 5 consecutive scoring events\n",
    "  stopping_rounds = 5, stopping_tolerance = 1e-4, stopping_metric = \"AUC\", \n",
    "\n",
    "  ## sample 80% of rows per tree\n",
    "  sample_rate = 0.8,                                                       \n",
    "\n",
    "  ## sample 80% of columns per split\n",
    "  col_sample_rate = 0.8,                                                   \n",
    "\n",
    "  ## fix a random number generator seed for reproducibility\n",
    "  seed = 1234,                                                             \n",
    "\n",
    "  ## score every 10 trees to make early stopping reproducible (it depends on the scoring interval)\n",
    "  score_tree_interval = 10)\n",
    "\n",
    "gbm_lucky.train(x=predictors, y=response, training_frame=train, validation_frame=valid)"
   ]
  },
  {
   "cell_type": "markdown",
   "metadata": {},
   "source": [
    "This model doesn't seem to be much better than the previous models:"
   ]
  },
  {
   "cell_type": "code",
   "execution_count": 9,
   "metadata": {
    "collapsed": false
   },
   "outputs": [
    {
     "name": "stdout",
     "output_type": "stream",
     "text": [
      "0.93933502395\n"
     ]
    }
   ],
   "source": [
    "perf_lucky = gbm_lucky.model_performance(valid)\n",
    "print perf_lucky.auc()"
   ]
  },
  {
   "cell_type": "markdown",
   "metadata": {},
   "source": [
    "For this small dataset, dropping 20% of observations per tree seems too aggressive in terms of adding regularization. For larger datasets, this is usually not a bad idea. But we'll let this parameter tune freshly below, so no worries."
   ]
  },
  {
   "cell_type": "markdown",
   "metadata": {
    "collapsed": true
   },
   "source": [
    "## Hyper-Parameter Search\n",
    "\n",
    "Next, we'll do real hyper-parameter optimization to see if we can beat the best AUC so far (around 94%).\n",
    "\n",
    "The key here is to start tuning some key parameters first (i.e., those that we expect to have the biggest impact on the results). From experience with gradient boosted trees across many datasets, we can state the following \"rules\":\n",
    "\n",
    "1. Build as many trees (`ntrees`) as it takes until the validation set error starts increasing.\n",
    "2. A lower learning rate (`learn_rate`) is generally better, but will require more trees. Using `learn_rate=0.02 `and `learn_rate_annealing=0.995` (reduction of learning rate with each additional tree) can help speed up convergence without sacrificing accuracy too much, and is great to hyper-parameter searches. For faster scans, use values of 0.05 and 0.99 instead.\n",
    "3. The optimum maximum allowed depth for the trees (`max_depth`) is data dependent, deeper trees take longer to train, especially at depths greater than 10.\n",
    "4. Row and column sampling (`sample_rate` and `col_sample_rate`) can improve generalization and lead to lower validation and test set errors. Good general values for large datasets are around 0.7 to 0.8 (sampling 70-80 percent of the data) for both parameters. Column sampling per tree (`col_sample_rate_per_tree`) can also be tuned. Note that it is multiplicative with `col_sample_rate`, so setting both parameters to 0.8 results in 64% of columns being considered at any given node to split.\n",
    "5. For highly imbalanced classification datasets (e.g., fewer buyers than non-buyers), stratified row sampling based on response class membership can help improve predictive accuracy.  It is configured with `sample_rate_per_class` (array of ratios, one per response class in lexicographic order).\n",
    "6. Most other options only have a small impact on the model performance, but are worth tuning with a Random hyper-parameter search nonetheless, if highest performance is critical.\n",
    "\n",
    "First we want to know what value of `max_depth` to use because it has a big impact on the model training time and optimal values depend strongly on the dataset.\n",
    "We'll do a quick Cartesian grid search to get a rough idea of good candidate `max_depth` values. Each model in the grid search will use early stopping to tune the number of trees using the validation set AUC, as before.\n",
    "We'll use learning rate annealing to speed up convergence without sacrificing too much accuracy."
   ]
  },
  {
   "cell_type": "code",
   "execution_count": 10,
   "metadata": {
    "collapsed": false
   },
   "outputs": [
    {
     "name": "stdout",
     "output_type": "stream",
     "text": [
      "\n",
      "gbm Grid Build Progress: [##################################################] 100%\n"
     ]
    }
   ],
   "source": [
    "## Depth 10 is usually plenty of depth for most datasets, but you never know\n",
    "hyper_params = {'max_depth' : range(1,30,2)}\n",
    "#hyper_params = {max_depth = c(4,6,8,12,16,20)} ##faster for larger datasets\n",
    "\n",
    "#Build initial GBM Model\n",
    "gbm_grid = h2o.H2OGradientBoostingEstimator(distribution='bernoulli',\n",
    "                                    ## more trees is better if the learning rate is small enough \n",
    "                                    ## here, use \"more than enough\" trees - we have early stopping\n",
    "                                    ntrees=10000,\n",
    "                                    ## smaller learning rate is better\n",
    "                                    ## since we have learning_rate_annealing, we can afford to start with a \n",
    "                                    #bigger learning rate\n",
    "                                    learn_rate=0.05,\n",
    "                                    ## sample 80% of rows per tree\n",
    "                                    sample_rate = 0.8,\n",
    "                                    ## sample 80% of columns per split\n",
    "                                    col_sample_rate = 0.8,\n",
    "                                    ## fix a random number generator seed for reproducibility\n",
    "                                    seed = 1234,\n",
    "                                    ## score every 10 trees to make early stopping reproducible \n",
    "                                    #(it depends on the scoring interval)\n",
    "                                    score_tree_interval = 10, \n",
    "                                    ## early stopping once the validation AUC doesn't improve by at least 0.01% for \n",
    "                                    #5 consecutive scoring events\n",
    "                                    stopping_rounds = 5,\n",
    "                                    stopping_metric = \"AUC\",\n",
    "                                    stopping_tolerance = 1e-4)\n",
    "\n",
    "#Build grid search with previously made GBM and hyper parameters\n",
    "grid = h2o.H2OGridSearch(gbm_grid,hyper_params,\n",
    "                         grid_id = 'depth_grid',\n",
    "                         search_criteria = {'strategy': \"Cartesian\"})\n",
    "\n",
    "\n",
    "#Train grid search\n",
    "grid.train(x=predictors, \n",
    "           y=response,\n",
    "           ## learning rate annealing: learning_rate shrinks by 1% after every tree \n",
    "           ## (use 1.00 to disable, but then lower the learning_rate)\n",
    "           learn_rate_annealing = 0.99, ## this parameter currently cannot be passed above to the constructor\n",
    "           training_frame = train,\n",
    "           validation_frame = valid)"
   ]
  },
  {
   "cell_type": "code",
   "execution_count": 11,
   "metadata": {
    "collapsed": false
   },
   "outputs": [
    {
     "name": "stdout",
     "output_type": "stream",
     "text": [
      "      max_depth            model_ids   logloss\n",
      "0            25  depth_grid_model_12  0.215749\n",
      "1            23  depth_grid_model_11  0.216639\n",
      "2            29  depth_grid_model_14  0.218503\n",
      "3            13   depth_grid_model_6  0.218825\n",
      "4            19   depth_grid_model_9  0.218849\n",
      "5            27  depth_grid_model_13  0.219126\n",
      "6            21  depth_grid_model_10  0.219794\n",
      "7            17   depth_grid_model_8  0.220059\n",
      "8            11   depth_grid_model_5  0.221247\n",
      "9             9   depth_grid_model_4  0.222040\n",
      "10           15   depth_grid_model_7  0.222911\n",
      "11            7   depth_grid_model_3  0.225722\n",
      "12            5   depth_grid_model_2  0.232193\n",
      "13            3   depth_grid_model_1  0.264067\n",
      "14            1   depth_grid_model_0  0.324154\n",
      "\n"
     ]
    }
   ],
   "source": [
    "## by default, display the grid search results sorted by increasing logloss (since this is a classification task)\n",
    "print grid"
   ]
  },
  {
   "cell_type": "code",
   "execution_count": 12,
   "metadata": {
    "collapsed": false
   },
   "outputs": [
    {
     "name": "stdout",
     "output_type": "stream",
     "text": [
      "\n",
      "Grid Search Results for H2OGradientBoostingEstimator: \n"
     ]
    },
    {
     "data": {
      "text/html": [
       "<div style=\"overflow:auto\"><table style=\"width:50%\"><tr><td><b>Model Id</b></td>\n",
       "<td><b>Hyperparameters: [max_depth]</b></td>\n",
       "<td><b>auc(valid=True)</b></td></tr>\n",
       "<tr><td>depth_grid_model_13</td>\n",
       "<td>[27]</td>\n",
       "<td>0.9565793</td></tr>\n",
       "<tr><td>depth_grid_model_12</td>\n",
       "<td>[25]</td>\n",
       "<td>0.9563539</td></tr>\n",
       "<tr><td>depth_grid_model_14</td>\n",
       "<td>[29]</td>\n",
       "<td>0.9562412</td></tr>\n",
       "<tr><td>depth_grid_model_10</td>\n",
       "<td>[21]</td>\n",
       "<td>0.9546633</td></tr>\n",
       "<tr><td>depth_grid_model_9</td>\n",
       "<td>[19]</td>\n",
       "<td>0.9544942</td></tr>\n",
       "<tr><td>depth_grid_model_6</td>\n",
       "<td>[13]</td>\n",
       "<td>0.9543815</td></tr>\n",
       "<tr><td>depth_grid_model_11</td>\n",
       "<td>[23]</td>\n",
       "<td>0.9540434</td></tr>\n",
       "<tr><td>depth_grid_model_5</td>\n",
       "<td>[11]</td>\n",
       "<td>0.9521837</td></tr>\n",
       "<tr><td>depth_grid_model_7</td>\n",
       "<td>[15]</td>\n",
       "<td>0.9517892</td></tr>\n",
       "<tr><td>depth_grid_model_8</td>\n",
       "<td>[17]</td>\n",
       "<td>0.9515075</td></tr>\n",
       "<tr><td>depth_grid_model_4</td>\n",
       "<td>[9]</td>\n",
       "<td>0.9504367</td></tr>\n",
       "<tr><td>depth_grid_model_3</td>\n",
       "<td>[7]</td>\n",
       "<td>0.9469428</td></tr>\n",
       "<tr><td>depth_grid_model_2</td>\n",
       "<td>[5]</td>\n",
       "<td>0.9393068</td></tr>\n",
       "<tr><td>depth_grid_model_1</td>\n",
       "<td>[3]</td>\n",
       "<td>0.9327134</td></tr>\n",
       "<tr><td>depth_grid_model_0</td>\n",
       "<td>[1]</td>\n",
       "<td>0.9290223</td></tr></table></div>"
      ],
      "text/plain": [
       "Model Id             Hyperparameters: [max_depth]    auc(valid=True)\n",
       "-------------------  ------------------------------  -----------------\n",
       "depth_grid_model_13  [27]                            0.956579\n",
       "depth_grid_model_12  [25]                            0.956354\n",
       "depth_grid_model_14  [29]                            0.956241\n",
       "depth_grid_model_10  [21]                            0.954663\n",
       "depth_grid_model_9   [19]                            0.954494\n",
       "depth_grid_model_6   [13]                            0.954382\n",
       "depth_grid_model_11  [23]                            0.954043\n",
       "depth_grid_model_5   [11]                            0.952184\n",
       "depth_grid_model_7   [15]                            0.951789\n",
       "depth_grid_model_8   [17]                            0.951507\n",
       "depth_grid_model_4   [9]                             0.950437\n",
       "depth_grid_model_3   [7]                             0.946943\n",
       "depth_grid_model_2   [5]                             0.939307\n",
       "depth_grid_model_1   [3]                             0.932713\n",
       "depth_grid_model_0   [1]                             0.929022"
      ]
     },
     "metadata": {},
     "output_type": "display_data"
    },
    {
     "name": "stdout",
     "output_type": "stream",
     "text": [
      "\n"
     ]
    }
   ],
   "source": [
    "## sort the grid models by decreasing AUC\n",
    "sorted_grid = grid.sort_by('auc(valid=True)',increasing=False)\n",
    "print(sorted_grid)"
   ]
  },
  {
   "cell_type": "code",
   "execution_count": 13,
   "metadata": {
    "collapsed": false
   },
   "outputs": [
    {
     "name": "stdout",
     "output_type": "stream",
     "text": [
      "([27], [25], [29], [21], [19])\n"
     ]
    }
   ],
   "source": [
    "# find the range of the max_depth for the top ten models\n",
    "top_depths = sorted_grid[0:5]\n",
    "max_depths = top_depths['Hyperparameters: [max_depth]']\n",
    "print max_depths\n",
    "\n",
    "# get the max depths as a list\n",
    "max_min_list = []\n",
    "for element in max_depths:\n",
    "    max_min_list.append(element[0])"
   ]
  },
  {
   "cell_type": "markdown",
   "metadata": {},
   "source": [
    "It appears that `max_depth` values of 19 to 29 are best suited for this dataset, which is unusally deep!"
   ]
  },
  {
   "cell_type": "code",
   "execution_count": 14,
   "metadata": {
    "collapsed": false
   },
   "outputs": [
    {
     "name": "stdout",
     "output_type": "stream",
     "text": [
      "MaxDepth 29\n",
      "MinDepth 19\n"
     ]
    }
   ],
   "source": [
    "new_max = max(max_min_list)\n",
    "new_min = min(max_min_list)\n",
    "\n",
    "print \"MaxDepth\", new_max\n",
    "print \"MinDepth\", new_min"
   ]
  },
  {
   "cell_type": "markdown",
   "metadata": {},
   "source": [
    "Now that we know a good range for max_depth, we can tune all other parameters in more detail. Since we don't know what combinations of hyper-parameters will result in the best model, we'll use random hyper-parameter search to \"let the machine get luckier than a best guess of any human\"."
   ]
  },
  {
   "cell_type": "code",
   "execution_count": 15,
   "metadata": {
    "collapsed": false
   },
   "outputs": [],
   "source": [
    "# create hyperameter and search criteria lists (ranges are inclusive..exclusive))\n",
    "hyper_params_tune = {'max_depth' : list(range(new_min,new_max+1,1)),\n",
    "                'sample_rate': [x/100. for x in range(20,101)],\n",
    "                'col_sample_rate' : [x/100. for x in range(20,101)],\n",
    "                'col_sample_rate_per_tree': [x/100. for x in range(20,101)],\n",
    "                'col_sample_rate_change_per_level': [x/100. for x in range(90,111)],\n",
    "                'min_rows': [2**x for x in range(0,int(math.log(train.nrow,2)-1)+1)],\n",
    "                'nbins': [2**x for x in range(4,11)],\n",
    "                'nbins_cats': [2**x for x in range(4,13)],\n",
    "                'min_split_improvement': [0,1e-8,1e-6,1e-4],\n",
    "                'histogram_type': [\"UniformAdaptive\",\"QuantilesGlobal\",\"RoundRobin\"]}\n",
    "search_criteria_tune = {'strategy': \"RandomDiscrete\",\n",
    "                   'max_runtime_secs': 600,  ## limit the runtime to 10 minutes\n",
    "                   'max_models': 1000,  ## build no more than 1000 models\n",
    "                   'seed' : 1234,\n",
    "                   'stopping_rounds' : 5,\n",
    "                   'stopping_metric' : \"AUC\",\n",
    "                   'stopping_tolerance': 1e-3\n",
    "                   }"
   ]
  },
  {
   "cell_type": "code",
   "execution_count": 16,
   "metadata": {
    "collapsed": false
   },
   "outputs": [
    {
     "name": "stdout",
     "output_type": "stream",
     "text": [
      "\n",
      "gbm Grid Build Progress: [##################################################] 100%\n",
      "         histogram_type  nbins_cats  sample_rate  nbins  min_rows  \\\n",
      "0            RoundRobin          16         1.00   1024         4   \n",
      "1       UniformAdaptive          64         0.93   1024         4   \n",
      "2            RoundRobin          32         0.40   1024        16   \n",
      "3       QuantilesGlobal          64         0.79     64         4   \n",
      "4       UniformAdaptive          32         0.29    256         4   \n",
      "5       UniformAdaptive          64         0.73     32         8   \n",
      "6       QuantilesGlobal         128         0.42     64         4   \n",
      "7       UniformAdaptive         256         0.55    128         2   \n",
      "8            RoundRobin          16         0.88     16         4   \n",
      "9            RoundRobin          64         0.74   1024        32   \n",
      "10      UniformAdaptive          32         0.34    128         2   \n",
      "11      UniformAdaptive         128         0.52     64         8   \n",
      "12           RoundRobin         128         0.31     16         2   \n",
      "13           RoundRobin          16         0.35   1024         2   \n",
      "14      UniformAdaptive         128         0.41     64        16   \n",
      "15      UniformAdaptive         256         0.46    256        16   \n",
      "16      UniformAdaptive         128         0.28     16         2   \n",
      "17      UniformAdaptive          16         0.89     32        32   \n",
      "18           RoundRobin         128         0.35   1024         1   \n",
      "19           RoundRobin          64         0.62     64        32   \n",
      "20      UniformAdaptive          32         0.38    128         1   \n",
      "21      UniformAdaptive         256         0.21     64         1   \n",
      "22      UniformAdaptive          16         0.95    128         2   \n",
      "23      UniformAdaptive          16         0.32    512         8   \n",
      "24      UniformAdaptive         256         0.47    128        16   \n",
      "25      QuantilesGlobal         128         0.98     16         8   \n",
      "26           RoundRobin         256         0.86     16         1   \n",
      "27      UniformAdaptive         128         0.26     16        32   \n",
      "28           RoundRobin         512         0.65   1024         8   \n",
      "29           RoundRobin          64         0.73     16        16   \n",
      "..  ..              ...         ...          ...    ...       ...   \n",
      "191     QuantilesGlobal         128         0.56    128       128   \n",
      "192     UniformAdaptive         128         0.38    512        64   \n",
      "193     QuantilesGlobal          32         0.99    256         1   \n",
      "194     QuantilesGlobal        1024         0.95   1024         1   \n",
      "195     UniformAdaptive          64         0.91    256       128   \n",
      "196     QuantilesGlobal        4096         0.41    256         2   \n",
      "197     QuantilesGlobal         256         0.43   1024        64   \n",
      "198     UniformAdaptive         128         0.73     16       128   \n",
      "199          RoundRobin        2048         0.66     64       128   \n",
      "200     UniformAdaptive        4096         0.52    512       128   \n",
      "201          RoundRobin        4096         0.88    128       128   \n",
      "202     QuantilesGlobal        1024         1.00     32       128   \n",
      "203     UniformAdaptive         256         0.39   1024       128   \n",
      "204     UniformAdaptive          32         0.49     16       256   \n",
      "205     UniformAdaptive          16         0.69     64       256   \n",
      "206     QuantilesGlobal          64         0.93    128       256   \n",
      "207          RoundRobin         128         0.45    512       256   \n",
      "208     UniformAdaptive          16         0.51     32       256   \n",
      "209          RoundRobin        4096         0.96    256       256   \n",
      "210     UniformAdaptive         128         1.00     64       256   \n",
      "211          RoundRobin        2048         0.45    512       256   \n",
      "212          RoundRobin          32         0.57     64       256   \n",
      "213     QuantilesGlobal          32         0.91    256       256   \n",
      "214          RoundRobin        2048         0.68    512       256   \n",
      "215          RoundRobin        1024         0.58    512       256   \n",
      "216     UniformAdaptive         256         0.63   1024       256   \n",
      "217     QuantilesGlobal         512         0.92   1024       256   \n",
      "218          RoundRobin        4096         0.24     64       256   \n",
      "219          RoundRobin         512         0.49    512       256   \n",
      "220          RoundRobin        4096         0.50   1024       256   \n",
      "\n",
      "     col_sample_rate_change_per_level  min_split_improvement  max_depth  \\\n",
      "0                                1.05           1.000000e-04         20   \n",
      "1                                1.03           1.000000e-06         20   \n",
      "2                                1.10           1.000000e-06         24   \n",
      "3                                1.06           1.000000e-04         26   \n",
      "4                                1.09           1.000000e-04         22   \n",
      "5                                0.90           1.000000e-06         25   \n",
      "6                                1.05           1.000000e-04         21   \n",
      "7                                1.08           1.000000e-08         22   \n",
      "8                                0.90           1.000000e-06         19   \n",
      "9                                0.97           1.000000e-08         25   \n",
      "10                               0.92           1.000000e-08         20   \n",
      "11                               0.91           0.000000e+00         26   \n",
      "12                               0.92           1.000000e-06         23   \n",
      "13                               1.00           0.000000e+00         22   \n",
      "14                               0.92           1.000000e-06         20   \n",
      "15                               1.02           1.000000e-08         28   \n",
      "16                               0.98           0.000000e+00         24   \n",
      "17                               1.09           1.000000e-06         21   \n",
      "18                               0.98           1.000000e-06         23   \n",
      "19                               1.09           0.000000e+00         26   \n",
      "20                               0.99           0.000000e+00         23   \n",
      "21                               0.91           1.000000e-08         20   \n",
      "22                               0.91           0.000000e+00         24   \n",
      "23                               1.06           1.000000e-06         23   \n",
      "24                               0.95           1.000000e-06         24   \n",
      "25                               0.92           1.000000e-04         25   \n",
      "26                               1.10           0.000000e+00         24   \n",
      "27                               1.08           1.000000e-06         23   \n",
      "28                               1.00           1.000000e-06         24   \n",
      "29                               1.10           1.000000e-06         19   \n",
      "..                                ...                    ...        ...   \n",
      "191                              1.07           1.000000e-04         29   \n",
      "192                              0.91           1.000000e-08         23   \n",
      "193                              0.94           0.000000e+00         25   \n",
      "194                              0.92           1.000000e-06         20   \n",
      "195                              0.94           1.000000e-06         21   \n",
      "196                              1.01           0.000000e+00         26   \n",
      "197                              1.06           1.000000e-04         29   \n",
      "198                              0.93           0.000000e+00         22   \n",
      "199                              0.95           1.000000e-04         22   \n",
      "200                              0.90           0.000000e+00         25   \n",
      "201                              0.91           1.000000e-06         29   \n",
      "202                              0.91           0.000000e+00         23   \n",
      "203                              1.08           1.000000e-08         24   \n",
      "204                              0.98           1.000000e-04         22   \n",
      "205                              1.09           1.000000e-08         20   \n",
      "206                              1.04           1.000000e-04         26   \n",
      "207                              0.97           1.000000e-04         24   \n",
      "208                              1.04           0.000000e+00         21   \n",
      "209                              1.01           0.000000e+00         24   \n",
      "210                              0.92           1.000000e-08         27   \n",
      "211                              1.01           0.000000e+00         27   \n",
      "212                              1.07           1.000000e-08         19   \n",
      "213                              1.08           1.000000e-08         25   \n",
      "214                              1.09           0.000000e+00         29   \n",
      "215                              0.91           0.000000e+00         22   \n",
      "216                              1.05           0.000000e+00         29   \n",
      "217                              1.00           1.000000e-06         29   \n",
      "218                              1.09           0.000000e+00         28   \n",
      "219                              1.00           1.000000e-06         24   \n",
      "220                              1.09           0.000000e+00         25   \n",
      "\n",
      "     col_sample_rate  col_sample_rate_per_tree             model_ids   logloss  \n",
      "0               0.37                      0.94   final_grid_model_93  0.174057  \n",
      "1               0.31                      0.96  final_grid_model_177  0.181877  \n",
      "2               0.89                      0.96  final_grid_model_161  0.183431  \n",
      "3               0.38                      0.96   final_grid_model_68  0.185046  \n",
      "4               0.61                      0.68   final_grid_model_45  0.185300  \n",
      "5               0.92                      1.00  final_grid_model_168  0.186167  \n",
      "6               0.87                      0.66  final_grid_model_214  0.186387  \n",
      "7               0.57                      0.97  final_grid_model_108  0.187070  \n",
      "8               0.60                      0.62   final_grid_model_77  0.187926  \n",
      "9               0.46                      0.95   final_grid_model_28  0.189087  \n",
      "10              0.67                      0.61   final_grid_model_73  0.189496  \n",
      "11              0.43                      0.88   final_grid_model_27  0.189645  \n",
      "12              0.97                      0.99   final_grid_model_54  0.190065  \n",
      "13              0.89                      0.53   final_grid_model_49  0.191666  \n",
      "14              0.82                      0.91  final_grid_model_216  0.191895  \n",
      "15              0.87                      0.96   final_grid_model_71  0.193144  \n",
      "16              0.93                      0.97  final_grid_model_146  0.196166  \n",
      "17              0.35                      0.89  final_grid_model_141  0.197897  \n",
      "18              0.55                      0.72   final_grid_model_79  0.198085  \n",
      "19              0.41                      1.00   final_grid_model_80  0.198681  \n",
      "20              0.91                      0.74  final_grid_model_155  0.199406  \n",
      "21              0.85                      0.73  final_grid_model_200  0.199484  \n",
      "22              0.45                      0.61   final_grid_model_56  0.200136  \n",
      "23              0.29                      0.63   final_grid_model_18  0.202452  \n",
      "24              0.33                      0.96  final_grid_model_109  0.202629  \n",
      "25              0.30                      0.86  final_grid_model_167  0.203152  \n",
      "26              0.52                      0.51   final_grid_model_65  0.203610  \n",
      "27              0.96                      0.99   final_grid_model_34  0.205699  \n",
      "28              0.59                      0.74    final_grid_model_1  0.206084  \n",
      "29              0.35                      0.68  final_grid_model_187  0.206978  \n",
      "..               ...                       ...                   ...       ...  \n",
      "191             0.38                      0.54  final_grid_model_123  0.368598  \n",
      "192             0.41                      0.26  final_grid_model_116  0.374653  \n",
      "193             0.91                      0.86   final_grid_model_87  0.375736  \n",
      "194             0.88                      0.71  final_grid_model_142  0.386446  \n",
      "195             0.23                      0.57  final_grid_model_170  0.393679  \n",
      "196             0.89                      0.22  final_grid_model_147  0.394515  \n",
      "197             0.20                      0.28   final_grid_model_15  0.402575  \n",
      "198             0.20                      0.56   final_grid_model_44  0.416312  \n",
      "199             0.27                      0.21   final_grid_model_50  0.432721  \n",
      "200             0.59                      0.42    final_grid_model_2  0.433391  \n",
      "201             0.35                      0.39  final_grid_model_110  0.436269  \n",
      "202             0.21                      0.72   final_grid_model_90  0.450298  \n",
      "203             0.22                      0.60  final_grid_model_219  0.471185  \n",
      "204             0.63                      0.78  final_grid_model_113  0.509267  \n",
      "205             0.82                      0.90   final_grid_model_21  0.509704  \n",
      "206             0.77                      0.95    final_grid_model_0  0.511708  \n",
      "207             0.37                      0.92   final_grid_model_84  0.512009  \n",
      "208             0.43                      0.65  final_grid_model_209  0.515525  \n",
      "209             0.88                      0.44   final_grid_model_82  0.526940  \n",
      "210             0.52                      0.34  final_grid_model_151  0.527171  \n",
      "211             0.59                      0.40  final_grid_model_191  0.534418  \n",
      "212             0.46                      0.42   final_grid_model_40  0.535482  \n",
      "213             0.84                      0.23   final_grid_model_52  0.536267  \n",
      "214             0.44                      0.98   final_grid_model_20  0.536694  \n",
      "215             0.36                      0.82  final_grid_model_164  0.546378  \n",
      "216             0.27                      0.38   final_grid_model_48  0.577990  \n",
      "217             0.32                      1.00  final_grid_model_207  0.578005  \n",
      "218             0.95                      0.59    final_grid_model_8  0.586057  \n",
      "219             0.64                      0.99   final_grid_model_75  0.598090  \n",
      "220             0.87                      0.96   final_grid_model_32  0.728220  \n",
      "\n",
      "[221 rows x 13 columns]\n",
      "\n"
     ]
    }
   ],
   "source": [
    "gbm_final_grid = h2o.H2OGradientBoostingEstimator(distribution='bernoulli',\n",
    "                                    ## more trees is better if the learning rate is small enough \n",
    "                                    ## here, use \"more than enough\" trees - we have early stopping\n",
    "                                    ntrees=10000,\n",
    "                                    ## smaller learning rate is better\n",
    "                                    ## since we have learning_rate_annealing, we can afford to start with a \n",
    "                                    #bigger learning rate\n",
    "                                    learn_rate=0.05,\n",
    "                                    ## score every 10 trees to make early stopping reproducible \n",
    "                                    #(it depends on the scoring interval)\n",
    "                                    score_tree_interval = 10,\n",
    "                                    ## fix a random number generator seed for reproducibility\n",
    "                                    seed = 1234,\n",
    "                                    ## early stopping once the validation AUC doesn't improve by at least 0.01% for \n",
    "                                    #5 consecutive scoring events\n",
    "                                    stopping_rounds = 5,\n",
    "                                    stopping_metric = \"AUC\",\n",
    "                                    stopping_tolerance = 1e-4)\n",
    "            \n",
    "#Build grid search with previously made GBM and hyper parameters\n",
    "final_grid = h2o.H2OGridSearch(gbm_final_grid, hyper_params = hyper_params_tune,\n",
    "                                    grid_id = 'final_grid',\n",
    "                                    search_criteria = search_criteria_tune)\n",
    "#Train grid search\n",
    "final_grid.train(x=predictors, \n",
    "           y=response,\n",
    "           ## learning rate annealing: learning_rate shrinks by 1% after every tree \n",
    "           ## (use 1.00 to disable, but then lower the learning_rate)\n",
    "           learn_rate_annealing = 0.99,  ## this parameter currently cannot be passed above to the constructor\n",
    "           ## early stopping based on timeout (no model should take more than 1 hour - modify as needed)\n",
    "           max_runtime_secs = 3600, \n",
    "           training_frame = train,\n",
    "           validation_frame = valid)\n",
    "\n",
    "print final_grid"
   ]
  },
  {
   "cell_type": "markdown",
   "metadata": {},
   "source": [
    "We can see that the best models have even better validation AUCs than our previous best models, so the random grid search was successful!"
   ]
  },
  {
   "cell_type": "code",
   "execution_count": 17,
   "metadata": {
    "collapsed": false
   },
   "outputs": [
    {
     "name": "stdout",
     "output_type": "stream",
     "text": [
      "\n",
      "Grid Search Results for H2OGradientBoostingEstimator: \n"
     ]
    },
    {
     "data": {
      "text/html": [
       "<div style=\"overflow:auto\"><table style=\"width:50%\"><tr><td><b>Model Id</b></td>\n",
       "<td><b>Hyperparameters: [nbins, col_sample_rate, min_split_improvement, col_sample_rate_per_tree, min_rows, col_sample_rate_change_per_level, nbins_cats, sample_rate, histogram_type, max_depth]</b></td>\n",
       "<td><b>auc(valid=True)</b></td></tr>\n",
       "<tr><td>final_grid_model_93</td>\n",
       "<td>[1024, 0.37, 0.0001, 0.94, 4.0, 1.05, 16, 1.0, u'RoundRobin', 20]</td>\n",
       "<td>0.9742744</td></tr>\n",
       "<tr><td>final_grid_model_177</td>\n",
       "<td>[1024, 0.31, 1e-06, 0.96, 4.0, 1.03, 64, 0.93, u'UniformAdaptive', 20]</td>\n",
       "<td>0.9724711</td></tr>\n",
       "<tr><td>final_grid_model_68</td>\n",
       "<td>[64, 0.38, 0.0001, 0.96, 4.0, 1.06, 64, 0.79, u'QuantilesGlobal', 26]</td>\n",
       "<td>0.9697661</td></tr>\n",
       "<tr><td>final_grid_model_65</td>\n",
       "<td>[16, 0.52, 0.0, 0.51, 1.0, 1.1, 256, 0.86, u'RoundRobin', 24]</td>\n",
       "<td>0.9692589</td></tr>\n",
       "<tr><td>final_grid_model_214</td>\n",
       "<td>[64, 0.87, 0.0001, 0.66, 4.0, 1.05, 128, 0.42, u'QuantilesGlobal', 21]</td>\n",
       "<td>0.9692026</td></tr>\n",
       "<tr><td>---</td>\n",
       "<td>---</td>\n",
       "<td>---</td></tr>\n",
       "<tr><td>final_grid_model_48</td>\n",
       "<td>[1024, 0.27, 0.0, 0.38, 256.0, 1.05, 256, 0.63, u'UniformAdaptive', 29]</td>\n",
       "<td>0.7787264</td></tr>\n",
       "<tr><td>final_grid_model_207</td>\n",
       "<td>[1024, 0.32, 1e-06, 1.0, 256.0, 1.0, 512, 0.92, u'QuantilesGlobal', 29]</td>\n",
       "<td>0.7513948</td></tr>\n",
       "<tr><td>final_grid_model_8</td>\n",
       "<td>[64, 0.95, 0.0, 0.59, 256.0, 1.09, 4096, 0.24, u'RoundRobin', 28]</td>\n",
       "<td>0.7507749</td></tr>\n",
       "<tr><td>final_grid_model_75</td>\n",
       "<td>[512, 0.64, 1e-06, 0.99, 256.0, 1.0, 512, 0.49, u'RoundRobin', 24]</td>\n",
       "<td>0.7027050</td></tr>\n",
       "<tr><td>final_grid_model_32</td>\n",
       "<td>[1024, 0.87, 0.0, 0.96, 256.0, 1.09, 4096, 0.5, u'RoundRobin', 25]</td>\n",
       "<td>0.6739927</td></tr></table></div>"
      ],
      "text/plain": [
       "Model Id              Hyperparameters: [nbins, col_sample_rate, min_split_improvement, col_sample_rate_per_tree, min_rows, col_sample_rate_change_per_level, nbins_cats, sample_rate, histogram_type, max_depth]    auc(valid=True)\n",
       "--------------------  --------------------------------------------------------------------------------------------------------------------------------------------------------------------------------------------  -----------------\n",
       "final_grid_model_93   [1024, 0.37, 0.0001, 0.94, 4.0, 1.05, 16, 1.0, u'RoundRobin', 20]                                                                                                                             0.974274443505\n",
       "final_grid_model_177  [1024, 0.31, 1e-06, 0.96, 4.0, 1.03, 64, 0.93, u'UniformAdaptive', 20]                                                                                                                        0.972471118625\n",
       "final_grid_model_68   [64, 0.38, 0.0001, 0.96, 4.0, 1.06, 64, 0.79, u'QuantilesGlobal', 26]                                                                                                                         0.969766131305\n",
       "final_grid_model_65   [16, 0.52, 0.0, 0.51, 1.0, 1.1, 256, 0.86, u'RoundRobin', 24]                                                                                                                                 0.969258946182\n",
       "final_grid_model_214  [64, 0.87, 0.0001, 0.66, 4.0, 1.05, 128, 0.42, u'QuantilesGlobal', 21]                                                                                                                        0.96920259228\n",
       "---                   ---                                                                                                                                                                                           ---\n",
       "final_grid_model_48   [1024, 0.27, 0.0, 0.38, 256.0, 1.05, 256, 0.63, u'UniformAdaptive', 29]                                                                                                                       0.778726401803\n",
       "final_grid_model_207  [1024, 0.32, 1e-06, 1.0, 256.0, 1.0, 512, 0.92, u'QuantilesGlobal', 29]                                                                                                                       0.751394759087\n",
       "final_grid_model_8    [64, 0.95, 0.0, 0.59, 256.0, 1.09, 4096, 0.24, u'RoundRobin', 28]                                                                                                                             0.750774866159\n",
       "final_grid_model_75   [512, 0.64, 1e-06, 0.99, 256.0, 1.0, 512, 0.49, u'RoundRobin', 24]                                                                                                                            0.70270498732\n",
       "final_grid_model_32   [1024, 0.87, 0.0, 0.96, 256.0, 1.09, 4096, 0.5, u'RoundRobin', 25]                                                                                                                            0.673992673993"
      ]
     },
     "metadata": {},
     "output_type": "display_data"
    },
    {
     "name": "stdout",
     "output_type": "stream",
     "text": [
      "\n",
      "See the whole table with table.as_data_frame()\n",
      "\n"
     ]
    }
   ],
   "source": [
    "## Sort the grid models by AUC\n",
    "sorted_final_grid = final_grid.sort_by('auc(valid=True)',increasing=False)\n",
    "print sorted_final_grid"
   ]
  },
  {
   "cell_type": "markdown",
   "metadata": {},
   "source": [
    "We can inspect the best 5 models from the grid search explicitly, and query their validation AUC:"
   ]
  },
  {
   "cell_type": "code",
   "execution_count": 18,
   "metadata": {
    "collapsed": false
   },
   "outputs": [
    {
     "name": "stdout",
     "output_type": "stream",
     "text": [
      "(0.9742744435052128, 0.9724711186249648, 0.9697661313045929, 0.9692589461820231, 0.9692025922795153)\n"
     ]
    }
   ],
   "source": [
    "print sorted_final_grid[\"auc(valid=True)\"][0:5]"
   ]
  },
  {
   "cell_type": "markdown",
   "metadata": {},
   "source": [
    "You can also see the results of the grid search in [Flow](http://localhost:54321/):\n",
    "![alt text](./final_grid.png \"Final Grid Search Results in Flow\")"
   ]
  },
  {
   "cell_type": "markdown",
   "metadata": {},
   "source": [
    "## Model Inspection and Final Test Set Scoring\n",
    "\n",
    "Let's see how well the best model of the grid search (as judged by validation set AUC) does on the held out test set:"
   ]
  },
  {
   "cell_type": "code",
   "execution_count": 19,
   "metadata": {
    "collapsed": false
   },
   "outputs": [],
   "source": [
    "#Get the best model from the list (the model name listed at the top of the table)\n",
    "best_model = h2o.get_model('final_grid_model_46')\n",
    "performance_best_model = best_model.model_performance(test)"
   ]
  },
  {
   "cell_type": "markdown",
   "metadata": {},
   "source": [
    "Good news. It does as well on the test set as on the validation set, so it looks like our best GBM model generalizes well to the unseen test set:"
   ]
  },
  {
   "cell_type": "code",
   "execution_count": 20,
   "metadata": {
    "collapsed": false
   },
   "outputs": [
    {
     "name": "stdout",
     "output_type": "stream",
     "text": [
      "0.965706356548\n"
     ]
    }
   ],
   "source": [
    "#Get the performance on the test model\n",
    "print performance_best_model.auc()"
   ]
  },
  {
   "cell_type": "markdown",
   "metadata": {},
   "source": [
    "We can inspect the winning model's parameters:"
   ]
  },
  {
   "cell_type": "code",
   "execution_count": 21,
   "metadata": {
    "collapsed": false
   },
   "outputs": [
    {
     "name": "stdout",
     "output_type": "stream",
     "text": [
      "learn_rate 0.05\n",
      "fold_column None\n",
      "col_sample_rate_per_tree 1.0\n",
      "learn_rate_annealing 0.99\n",
      "score_tree_interval 10\n",
      "sample_rate_per_class None\n",
      "seed 1234\n",
      "keep_cross_validation_predictions False\n",
      "model_id {u'URL': u'/4/Models/final_grid_model_46', u'type': u'Key<Model>', u'name': u'final_grid_model_46', u'__meta': {u'schema_name': u'ModelKeyV3', u'schema_version': 3, u'schema_type': u'Key<Model>'}}\n",
      "nfolds 0\n",
      "max_abs_leafnode_pred 1.79769313486e+308\n",
      "offset_column None\n",
      "quantile_alpha 0.5\n",
      "stopping_tolerance 0.0001\n",
      "fold_assignment AUTO\n",
      "training_frame {u'URL': u'/4/Frames/train.hex', u'type': u'Key<Frame>', u'name': u'train.hex', u'__meta': {u'schema_name': u'FrameKeyV3', u'schema_version': 3, u'schema_type': u'Key<Frame>'}}\n",
      "max_runtime_secs 469.338\n",
      "checkpoint None\n",
      "balance_classes False\n",
      "r2_stopping 0.999999\n",
      "validation_frame {u'URL': u'/4/Frames/valid.hex', u'type': u'Key<Frame>', u'name': u'valid.hex', u'__meta': {u'schema_name': u'FrameKeyV3', u'schema_version': 3, u'schema_type': u'Key<Frame>'}}\n",
      "max_depth 26\n",
      "response_column {u'is_member_of_frames': None, u'column_name': u'survived', u'__meta': {u'schema_name': u'ColSpecifierV3', u'schema_version': 3, u'schema_type': u'VecSpecifier'}}\n",
      "build_tree_one_node False\n",
      "ntrees 10000\n",
      "min_split_improvement 1e-06\n",
      "ignored_columns [u'name']\n",
      "tweedie_power 1.5\n",
      "min_rows 8.0\n",
      "max_confusion_matrix_size 20\n",
      "score_each_iteration False\n",
      "nbins_top_level 1024\n",
      "max_after_balance_size 5.0\n",
      "nbins 128\n",
      "histogram_type QuantilesGlobal\n",
      "col_sample_rate 0.86\n",
      "stopping_metric AUC\n",
      "weights_column None\n",
      "stopping_rounds 5\n",
      "col_sample_rate_change_per_level 1.07\n",
      "max_hit_ratio_k 0\n",
      "nbins_cats 32\n",
      "sample_rate 0.3\n",
      "distribution bernoulli\n",
      "class_sampling_factors None\n",
      "ignore_const_cols True\n",
      "keep_cross_validation_fold_assignment False\n"
     ]
    }
   ],
   "source": [
    "for key, value in best_model.params.iteritems():\n",
    "    print key,value['actual']"
   ]
  },
  {
   "cell_type": "markdown",
   "metadata": {},
   "source": [
    "Now we can confirm that these parameters are generally sound, by building a GBM model on the whole dataset (instead of the 60%) and using internal 5-fold cross-validation (re-using all other parameters including the seed):"
   ]
  },
  {
   "cell_type": "code",
   "execution_count": 22,
   "metadata": {
    "collapsed": false
   },
   "outputs": [],
   "source": [
    "gbm_best = h2o.H2OGradientBoostingEstimator(distribution='bernoulli',\n",
    "                                    ntrees=10000,\n",
    "                                    learn_rate=0.05,\n",
    "                                    col_sample_rate = 0.86,\n",
    "                                    col_sample_rate_change_per_level = 1.07,\n",
    "                                    col_sample_rate_per_tree = 1,\n",
    "                                    seed = 1234,\n",
    "                                    sample_rate = 0.39,\n",
    "                                    score_tree_interval = 10, \n",
    "                                    stopping_rounds = 5,\n",
    "                                    stopping_metric = \"AUC\",\n",
    "                                    stopping_tolerance = 1e-4,\n",
    "                                    nbins_cats = 32,\n",
    "                                    nbins = 128,\n",
    "                                    min_rows = 8,\n",
    "                                    max_depth = 26,\n",
    "                                    histogram_type = \"QuantilesGlobal\",\n",
    "                                    min_split_improvement = 1e-6,\n",
    "                                    nfolds = 5)"
   ]
  },
  {
   "cell_type": "code",
   "execution_count": 23,
   "metadata": {
    "collapsed": false
   },
   "outputs": [
    {
     "name": "stdout",
     "output_type": "stream",
     "text": [
      "\n",
      "gbm Model Build Progress: [##################################################] 100%\n"
     ]
    }
   ],
   "source": [
    "gbm_best.train(x=predictors, y=response,learn_rate_annealing = 0.99, training_frame=df)"
   ]
  },
  {
   "cell_type": "code",
   "execution_count": 24,
   "metadata": {
    "collapsed": false,
    "scrolled": true
   },
   "outputs": [
    {
     "name": "stdout",
     "output_type": "stream",
     "text": [
      "\n",
      "Cross-Validation Metrics Summary: \n"
     ]
    },
    {
     "data": {
      "text/html": [
       "<div style=\"overflow:auto\"><table style=\"width:50%\"><tr><td><b></b></td>\n",
       "<td><b>mean</b></td>\n",
       "<td><b>sd</b></td>\n",
       "<td><b>cv_1_valid</b></td>\n",
       "<td><b>cv_2_valid</b></td>\n",
       "<td><b>cv_3_valid</b></td>\n",
       "<td><b>cv_4_valid</b></td>\n",
       "<td><b>cv_5_valid</b></td></tr>\n",
       "<tr><td>F0point5</td>\n",
       "<td>0.9151056</td>\n",
       "<td>0.0143311</td>\n",
       "<td>0.9255725</td>\n",
       "<td>0.8898305</td>\n",
       "<td>0.8921162</td>\n",
       "<td>0.9395973</td>\n",
       "<td>0.9284117</td></tr>\n",
       "<tr><td>F1</td>\n",
       "<td>0.896728</td>\n",
       "<td>0.0087329</td>\n",
       "<td>0.9023256</td>\n",
       "<td>0.8842105</td>\n",
       "<td>0.8865979</td>\n",
       "<td>0.9180328</td>\n",
       "<td>0.8924731</td></tr>\n",
       "<tr><td>F2</td>\n",
       "<td>0.8793351</td>\n",
       "<td>0.0085851</td>\n",
       "<td>0.8802178</td>\n",
       "<td>0.8786611</td>\n",
       "<td>0.8811476</td>\n",
       "<td>0.8974359</td>\n",
       "<td>0.8592132</td></tr>\n",
       "<tr><td>accuracy</td>\n",
       "<td>0.9237242</td>\n",
       "<td>0.0063880</td>\n",
       "<td>0.9213483</td>\n",
       "<td>0.9188192</td>\n",
       "<td>0.9147287</td>\n",
       "<td>0.9409449</td>\n",
       "<td>0.9227799</td></tr>\n",
       "<tr><td>auc</td>\n",
       "<td>0.9597895</td>\n",
       "<td>0.0059350</td>\n",
       "<td>0.9579493</td>\n",
       "<td>0.9649405</td>\n",
       "<td>0.9552934</td>\n",
       "<td>0.9726580</td>\n",
       "<td>0.9481061</td></tr>\n",
       "<tr><td>err</td>\n",
       "<td>0.0762758</td>\n",
       "<td>0.0063880</td>\n",
       "<td>0.0786517</td>\n",
       "<td>0.0811808</td>\n",
       "<td>0.0852713</td>\n",
       "<td>0.0590551</td>\n",
       "<td>0.0772201</td></tr>\n",
       "<tr><td>err_count</td>\n",
       "<td>20.0</td>\n",
       "<td>1.8439089</td>\n",
       "<td>21.0</td>\n",
       "<td>22.0</td>\n",
       "<td>22.0</td>\n",
       "<td>15.0</td>\n",
       "<td>20.0</td></tr>\n",
       "<tr><td>lift_top_group</td>\n",
       "<td>2.6258688</td>\n",
       "<td>0.0998947</td>\n",
       "<td>2.3839285</td>\n",
       "<td>2.8229167</td>\n",
       "<td>2.632653</td>\n",
       "<td>2.6736841</td>\n",
       "<td>2.6161616</td></tr>\n",
       "<tr><td>logloss</td>\n",
       "<td>0.2383605</td>\n",
       "<td>0.0212559</td>\n",
       "<td>0.2668741</td>\n",
       "<td>0.2454505</td>\n",
       "<td>0.2632381</td>\n",
       "<td>0.1835541</td>\n",
       "<td>0.2326858</td></tr>\n",
       "<tr><td>max_per_class_error</td>\n",
       "<td>0.1317566</td>\n",
       "<td>0.0113294</td>\n",
       "<td>0.1339286</td>\n",
       "<td>0.125</td>\n",
       "<td>0.1224490</td>\n",
       "<td>0.1157895</td>\n",
       "<td>0.1616162</td></tr>\n",
       "<tr><td>mcc</td>\n",
       "<td>0.837874</td>\n",
       "<td>0.0138237</td>\n",
       "<td>0.8387446</td>\n",
       "<td>0.8218291</td>\n",
       "<td>0.8183982</td>\n",
       "<td>0.8735446</td>\n",
       "<td>0.8368532</td></tr>\n",
       "<tr><td>mse</td>\n",
       "<td>0.0662254</td>\n",
       "<td>0.0051810</td>\n",
       "<td>0.0705591</td>\n",
       "<td>0.0688809</td>\n",
       "<td>0.0726359</td>\n",
       "<td>0.0520515</td>\n",
       "<td>0.0669996</td></tr>\n",
       "<tr><td>precision</td>\n",
       "<td>0.9279533</td>\n",
       "<td>0.0194621</td>\n",
       "<td>0.9417475</td>\n",
       "<td>0.8936170</td>\n",
       "<td>0.8958333</td>\n",
       "<td>0.9545454</td>\n",
       "<td>0.954023</td></tr>\n",
       "<tr><td>r2</td>\n",
       "<td>0.7189455</td>\n",
       "<td>0.0216331</td>\n",
       "<td>0.7102483</td>\n",
       "<td>0.6988879</td>\n",
       "<td>0.6916494</td>\n",
       "<td>0.7776794</td>\n",
       "<td>0.7162625</td></tr>\n",
       "<tr><td>recall</td>\n",
       "<td>0.8682433</td>\n",
       "<td>0.0113294</td>\n",
       "<td>0.8660714</td>\n",
       "<td>0.875</td>\n",
       "<td>0.877551</td>\n",
       "<td>0.8842105</td>\n",
       "<td>0.8383839</td></tr>\n",
       "<tr><td>specificity</td>\n",
       "<td>0.958298</td>\n",
       "<td>0.0111023</td>\n",
       "<td>0.9612903</td>\n",
       "<td>0.9428572</td>\n",
       "<td>0.9375</td>\n",
       "<td>0.9748428</td>\n",
       "<td>0.975</td></tr></table></div>"
      ],
      "text/plain": [
       "                     mean       sd          cv_1_valid    cv_2_valid    cv_3_valid    cv_4_valid    cv_5_valid\n",
       "-------------------  ---------  ----------  ------------  ------------  ------------  ------------  ------------\n",
       "F0point5             0.915106   0.0143311   0.925573      0.88983       0.892116      0.939597      0.928412\n",
       "F1                   0.896728   0.0087329   0.902326      0.884211      0.886598      0.918033      0.892473\n",
       "F2                   0.879335   0.00858514  0.880218      0.878661      0.881148      0.897436      0.859213\n",
       "accuracy             0.923724   0.00638801  0.921348      0.918819      0.914729      0.940945      0.92278\n",
       "auc                  0.959789   0.00593495  0.957949      0.96494       0.955293      0.972658      0.948106\n",
       "err                  0.0762758  0.00638801  0.0786517     0.0811808     0.0852713     0.0590551     0.0772201\n",
       "err_count            20         1.84391     21            22            22            15            20\n",
       "lift_top_group       2.62587    0.0998947   2.38393       2.82292       2.63265       2.67368       2.61616\n",
       "logloss              0.238361   0.0212559   0.266874      0.24545       0.263238      0.183554      0.232686\n",
       "max_per_class_error  0.131757   0.0113294   0.133929      0.125         0.122449      0.115789      0.161616\n",
       "mcc                  0.837874   0.0138237   0.838745      0.821829      0.818398      0.873545      0.836853\n",
       "mse                  0.0662254  0.005181    0.0705591     0.0688809     0.0726359     0.0520515     0.0669996\n",
       "precision            0.927953   0.0194621   0.941748      0.893617      0.895833      0.954545      0.954023\n",
       "r2                   0.718946   0.0216331   0.710248      0.698888      0.691649      0.777679      0.716262\n",
       "recall               0.868243   0.0113294   0.866071      0.875         0.877551      0.884211      0.838384\n",
       "specificity          0.958298   0.0111023   0.96129       0.942857      0.9375        0.974843      0.975"
      ]
     },
     "metadata": {},
     "output_type": "display_data"
    },
    {
     "name": "stdout",
     "output_type": "stream",
     "text": [
      "\n"
     ]
    }
   ],
   "source": [
    "print gbm_best.cross_validation_metrics_summary()"
   ]
  },
  {
   "cell_type": "markdown",
   "metadata": {},
   "source": [
    "Ouch! So it looks like we overfit quite a bit on the validation set as the mean AUC on the 5 folds is \"only\" 96.28%, with a standard deviation of 0.6% (absolute). So we cannot always expect AUCs of 97% with these parameters on this dataset. So to get a better estimate of model performance, the Random hyper-parameter search could have used `nfolds = 5` (or 10, or similar) in combination with 80% of the data for training (i.e., not holding out a validation set, but only the final test set). However, this would take more time, as `nfolds+1` models will be built for every set of parameters.\n",
    "\n",
    "Another idea is to test the performance of the top 5 models via 5-fold cross-validation and pick the best one, or make an ensemble. See the [R Markdown](https://github.com/h2oai/h2o-3/blob/master/h2o-docs/src/product/tutorials/gbm/gbmTuning.Rmd) version of this script for that."
   ]
  },
  {
   "cell_type": "markdown",
   "metadata": {},
   "source": [
    "Keeping the same \"best\" model, we can make test set predictions as follows:"
   ]
  },
  {
   "cell_type": "code",
   "execution_count": 25,
   "metadata": {
    "collapsed": false
   },
   "outputs": [
    {
     "name": "stdout",
     "output_type": "stream",
     "text": [
      "\n",
      "gbm prediction Progress: [##################################################] 100%\n"
     ]
    },
    {
     "data": {
      "text/html": [
       "<table>\n",
       "<tr><th style=\"text-align: right;\">  predict</th><th style=\"text-align: right;\">        p0</th><th style=\"text-align: right;\">        p1</th></tr>\n",
       "<tr><td style=\"text-align: right;\">        0</td><td style=\"text-align: right;\">0.978769  </td><td style=\"text-align: right;\">0.0212309 </td></tr>\n",
       "<tr><td style=\"text-align: right;\">        0</td><td style=\"text-align: right;\">0.991286  </td><td style=\"text-align: right;\">0.00871367</td></tr>\n",
       "<tr><td style=\"text-align: right;\">        0</td><td style=\"text-align: right;\">0.832473  </td><td style=\"text-align: right;\">0.167527  </td></tr>\n",
       "<tr><td style=\"text-align: right;\">        1</td><td style=\"text-align: right;\">0.0120367 </td><td style=\"text-align: right;\">0.987963  </td></tr>\n",
       "<tr><td style=\"text-align: right;\">        1</td><td style=\"text-align: right;\">0.00909804</td><td style=\"text-align: right;\">0.990902  </td></tr>\n",
       "<tr><td style=\"text-align: right;\">        0</td><td style=\"text-align: right;\">0.827661  </td><td style=\"text-align: right;\">0.172339  </td></tr>\n",
       "<tr><td style=\"text-align: right;\">        1</td><td style=\"text-align: right;\">0.0226573 </td><td style=\"text-align: right;\">0.977343  </td></tr>\n",
       "<tr><td style=\"text-align: right;\">        1</td><td style=\"text-align: right;\">0.0111063 </td><td style=\"text-align: right;\">0.988894  </td></tr>\n",
       "<tr><td style=\"text-align: right;\">        1</td><td style=\"text-align: right;\">0.0223358 </td><td style=\"text-align: right;\">0.977664  </td></tr>\n",
       "<tr><td style=\"text-align: right;\">        0</td><td style=\"text-align: right;\">0.9004    </td><td style=\"text-align: right;\">0.0996002 </td></tr>\n",
       "</table>"
      ]
     },
     "metadata": {},
     "output_type": "display_data"
    },
    {
     "data": {
      "text/plain": []
     },
     "execution_count": 25,
     "metadata": {},
     "output_type": "execute_result"
    }
   ],
   "source": [
    "preds = best_model.predict(test)\n",
    "preds.head()\n",
    "#gbm@model$validation_metrics@metrics$max_criteria_and_metric_scores"
   ]
  },
  {
   "cell_type": "markdown",
   "metadata": {},
   "source": [
    "Note that the label (survived or not) is predicted as well (in the first predict column), and it uses the threshold with the highest F1 score (here: 0.5432907) to make labels from the probabilities for survival (`p1`). The probability for death (`p0`) is given for convenience, as it is just `1-p1`."
   ]
  },
  {
   "cell_type": "code",
   "execution_count": 26,
   "metadata": {
    "collapsed": false
   },
   "outputs": [
    {
     "name": "stdout",
     "output_type": "stream",
     "text": [
      "\n",
      "ModelMetricsBinomial: gbm\n",
      "** Reported on train data. **\n",
      "\n",
      "MSE: 0.0429931655609\n",
      "R^2: 0.818579391401\n",
      "LogLoss: 0.155110901234\n",
      "AUC: 0.991898958933\n",
      "Gini: 0.983797917866\n",
      "\n",
      "Confusion Matrix (Act/Pred) for max f1 @ threshold = 0.267658143171: \n"
     ]
    },
    {
     "data": {
      "text/html": [
       "<div style=\"overflow:auto\"><table style=\"width:50%\"><tr><td><b></b></td>\n",
       "<td><b>0</b></td>\n",
       "<td><b>1</b></td>\n",
       "<td><b>Error</b></td>\n",
       "<td><b>Rate</b></td></tr>\n",
       "<tr><td>0</td>\n",
       "<td>445.0</td>\n",
       "<td>34.0</td>\n",
       "<td>0.071</td>\n",
       "<td> (34.0/479.0)</td></tr>\n",
       "<tr><td>1</td>\n",
       "<td>6.0</td>\n",
       "<td>295.0</td>\n",
       "<td>0.0199</td>\n",
       "<td> (6.0/301.0)</td></tr>\n",
       "<tr><td>Total</td>\n",
       "<td>451.0</td>\n",
       "<td>329.0</td>\n",
       "<td>0.0513</td>\n",
       "<td> (40.0/780.0)</td></tr></table></div>"
      ],
      "text/plain": [
       "       0    1    Error    Rate\n",
       "-----  ---  ---  -------  ------------\n",
       "0      445  34   0.071    (34.0/479.0)\n",
       "1      6    295  0.0199   (6.0/301.0)\n",
       "Total  451  329  0.0513   (40.0/780.0)"
      ]
     },
     "metadata": {},
     "output_type": "display_data"
    },
    {
     "name": "stdout",
     "output_type": "stream",
     "text": [
      "\n",
      "Maximum Metrics: Maximum metrics at their respective thresholds\n",
      "\n"
     ]
    },
    {
     "data": {
      "text/html": [
       "<div style=\"overflow:auto\"><table style=\"width:50%\"><tr><td><b>metric</b></td>\n",
       "<td><b>threshold</b></td>\n",
       "<td><b>value</b></td>\n",
       "<td><b>idx</b></td></tr>\n",
       "<tr><td>max f1</td>\n",
       "<td>0.2676581</td>\n",
       "<td>0.9365079</td>\n",
       "<td>178.0</td></tr>\n",
       "<tr><td>max f2</td>\n",
       "<td>0.2676581</td>\n",
       "<td>0.9621657</td>\n",
       "<td>178.0</td></tr>\n",
       "<tr><td>max f0point5</td>\n",
       "<td>0.5466314</td>\n",
       "<td>0.9613929</td>\n",
       "<td>113.0</td></tr>\n",
       "<tr><td>max accuracy</td>\n",
       "<td>0.3348736</td>\n",
       "<td>0.95</td>\n",
       "<td>157.0</td></tr>\n",
       "<tr><td>max precision</td>\n",
       "<td>0.9925535</td>\n",
       "<td>1.0</td>\n",
       "<td>0.0</td></tr>\n",
       "<tr><td>max recall</td>\n",
       "<td>0.0806368</td>\n",
       "<td>1.0</td>\n",
       "<td>275.0</td></tr>\n",
       "<tr><td>max specificity</td>\n",
       "<td>0.9925535</td>\n",
       "<td>1.0</td>\n",
       "<td>0.0</td></tr>\n",
       "<tr><td>max absolute_MCC</td>\n",
       "<td>0.2676581</td>\n",
       "<td>0.8961266</td>\n",
       "<td>178.0</td></tr>\n",
       "<tr><td>max min_per_class_accuracy</td>\n",
       "<td>0.3118373</td>\n",
       "<td>0.9436326</td>\n",
       "<td>164.0</td></tr></table></div>"
      ],
      "text/plain": [
       "metric                      threshold    value     idx\n",
       "--------------------------  -----------  --------  -----\n",
       "max f1                      0.267658     0.936508  178\n",
       "max f2                      0.267658     0.962166  178\n",
       "max f0point5                0.546631     0.961393  113\n",
       "max accuracy                0.334874     0.95      157\n",
       "max precision               0.992554     1         0\n",
       "max recall                  0.0806368    1         275\n",
       "max specificity             0.992554     1         0\n",
       "max absolute_MCC            0.267658     0.896127  178\n",
       "max min_per_class_accuracy  0.311837     0.943633  164"
      ]
     },
     "metadata": {},
     "output_type": "display_data"
    },
    {
     "name": "stdout",
     "output_type": "stream",
     "text": [
      "\n",
      "Gains/Lift Table: Avg response rate: 38.59 %\n",
      "\n"
     ]
    },
    {
     "data": {
      "text/html": [
       "<div style=\"overflow:auto\"><table style=\"width:50%\"><tr><td><b></b></td>\n",
       "<td><b>group</b></td>\n",
       "<td><b>cumulative_data_fraction</b></td>\n",
       "<td><b>lower_threshold</b></td>\n",
       "<td><b>lift</b></td>\n",
       "<td><b>cumulative_lift</b></td>\n",
       "<td><b>response_rate</b></td>\n",
       "<td><b>cumulative_response_rate</b></td>\n",
       "<td><b>capture_rate</b></td>\n",
       "<td><b>cumulative_capture_rate</b></td>\n",
       "<td><b>gain</b></td>\n",
       "<td><b>cumulative_gain</b></td></tr>\n",
       "<tr><td></td>\n",
       "<td>1</td>\n",
       "<td>0.0102564</td>\n",
       "<td>0.9912775</td>\n",
       "<td>2.5913621</td>\n",
       "<td>2.5913621</td>\n",
       "<td>1.0</td>\n",
       "<td>1.0</td>\n",
       "<td>0.0265781</td>\n",
       "<td>0.0265781</td>\n",
       "<td>159.1362126</td>\n",
       "<td>159.1362126</td></tr>\n",
       "<tr><td></td>\n",
       "<td>2</td>\n",
       "<td>0.0205128</td>\n",
       "<td>0.9905533</td>\n",
       "<td>2.5913621</td>\n",
       "<td>2.5913621</td>\n",
       "<td>1.0</td>\n",
       "<td>1.0</td>\n",
       "<td>0.0265781</td>\n",
       "<td>0.0531561</td>\n",
       "<td>159.1362126</td>\n",
       "<td>159.1362126</td></tr>\n",
       "<tr><td></td>\n",
       "<td>3</td>\n",
       "<td>0.0307692</td>\n",
       "<td>0.9901541</td>\n",
       "<td>2.5913621</td>\n",
       "<td>2.5913621</td>\n",
       "<td>1.0</td>\n",
       "<td>1.0</td>\n",
       "<td>0.0265781</td>\n",
       "<td>0.0797342</td>\n",
       "<td>159.1362126</td>\n",
       "<td>159.1362126</td></tr>\n",
       "<tr><td></td>\n",
       "<td>4</td>\n",
       "<td>0.0410256</td>\n",
       "<td>0.9899583</td>\n",
       "<td>2.5913621</td>\n",
       "<td>2.5913621</td>\n",
       "<td>1.0</td>\n",
       "<td>1.0</td>\n",
       "<td>0.0265781</td>\n",
       "<td>0.1063123</td>\n",
       "<td>159.1362126</td>\n",
       "<td>159.1362126</td></tr>\n",
       "<tr><td></td>\n",
       "<td>5</td>\n",
       "<td>0.05</td>\n",
       "<td>0.9896410</td>\n",
       "<td>2.5913621</td>\n",
       "<td>2.5913621</td>\n",
       "<td>1.0</td>\n",
       "<td>1.0</td>\n",
       "<td>0.0232558</td>\n",
       "<td>0.1295681</td>\n",
       "<td>159.1362126</td>\n",
       "<td>159.1362126</td></tr>\n",
       "<tr><td></td>\n",
       "<td>6</td>\n",
       "<td>0.1</td>\n",
       "<td>0.9873104</td>\n",
       "<td>2.5913621</td>\n",
       "<td>2.5913621</td>\n",
       "<td>1.0</td>\n",
       "<td>1.0</td>\n",
       "<td>0.1295681</td>\n",
       "<td>0.2591362</td>\n",
       "<td>159.1362126</td>\n",
       "<td>159.1362126</td></tr>\n",
       "<tr><td></td>\n",
       "<td>7</td>\n",
       "<td>0.15</td>\n",
       "<td>0.9841872</td>\n",
       "<td>2.5913621</td>\n",
       "<td>2.5913621</td>\n",
       "<td>1.0</td>\n",
       "<td>1.0</td>\n",
       "<td>0.1295681</td>\n",
       "<td>0.3887043</td>\n",
       "<td>159.1362126</td>\n",
       "<td>159.1362126</td></tr>\n",
       "<tr><td></td>\n",
       "<td>8</td>\n",
       "<td>0.2</td>\n",
       "<td>0.9783290</td>\n",
       "<td>2.5913621</td>\n",
       "<td>2.5913621</td>\n",
       "<td>1.0</td>\n",
       "<td>1.0</td>\n",
       "<td>0.1295681</td>\n",
       "<td>0.5182724</td>\n",
       "<td>159.1362126</td>\n",
       "<td>159.1362126</td></tr>\n",
       "<tr><td></td>\n",
       "<td>9</td>\n",
       "<td>0.3012821</td>\n",
       "<td>0.6755902</td>\n",
       "<td>2.5585601</td>\n",
       "<td>2.5803351</td>\n",
       "<td>0.9873418</td>\n",
       "<td>0.9957447</td>\n",
       "<td>0.2591362</td>\n",
       "<td>0.7774086</td>\n",
       "<td>155.8560074</td>\n",
       "<td>158.0335053</td></tr>\n",
       "<tr><td></td>\n",
       "<td>10</td>\n",
       "<td>0.4</td>\n",
       "<td>0.3112699</td>\n",
       "<td>1.7163567</td>\n",
       "<td>2.3671096</td>\n",
       "<td>0.6623377</td>\n",
       "<td>0.9134615</td>\n",
       "<td>0.1694352</td>\n",
       "<td>0.9468439</td>\n",
       "<td>71.6356733</td>\n",
       "<td>136.7109635</td></tr>\n",
       "<tr><td></td>\n",
       "<td>11</td>\n",
       "<td>0.5</td>\n",
       "<td>0.1349758</td>\n",
       "<td>0.4983389</td>\n",
       "<td>1.9933555</td>\n",
       "<td>0.1923077</td>\n",
       "<td>0.7692308</td>\n",
       "<td>0.0498339</td>\n",
       "<td>0.9966777</td>\n",
       "<td>-50.1661130</td>\n",
       "<td>99.3355482</td></tr>\n",
       "<tr><td></td>\n",
       "<td>12</td>\n",
       "<td>0.6012821</td>\n",
       "<td>0.0793388</td>\n",
       "<td>0.0328021</td>\n",
       "<td>1.6631130</td>\n",
       "<td>0.0126582</td>\n",
       "<td>0.6417910</td>\n",
       "<td>0.0033223</td>\n",
       "<td>1.0</td>\n",
       "<td>-96.7197948</td>\n",
       "<td>66.3113006</td></tr>\n",
       "<tr><td></td>\n",
       "<td>13</td>\n",
       "<td>0.7</td>\n",
       "<td>0.0473719</td>\n",
       "<td>0.0</td>\n",
       "<td>1.4285714</td>\n",
       "<td>0.0</td>\n",
       "<td>0.5512821</td>\n",
       "<td>0.0</td>\n",
       "<td>1.0</td>\n",
       "<td>-100.0</td>\n",
       "<td>42.8571429</td></tr>\n",
       "<tr><td></td>\n",
       "<td>14</td>\n",
       "<td>0.8</td>\n",
       "<td>0.0323931</td>\n",
       "<td>0.0</td>\n",
       "<td>1.25</td>\n",
       "<td>0.0</td>\n",
       "<td>0.4823718</td>\n",
       "<td>0.0</td>\n",
       "<td>1.0</td>\n",
       "<td>-100.0</td>\n",
       "<td>25.0</td></tr>\n",
       "<tr><td></td>\n",
       "<td>15</td>\n",
       "<td>0.9</td>\n",
       "<td>0.0235223</td>\n",
       "<td>0.0</td>\n",
       "<td>1.1111111</td>\n",
       "<td>0.0</td>\n",
       "<td>0.4287749</td>\n",
       "<td>0.0</td>\n",
       "<td>1.0</td>\n",
       "<td>-100.0</td>\n",
       "<td>11.1111111</td></tr>\n",
       "<tr><td></td>\n",
       "<td>16</td>\n",
       "<td>1.0</td>\n",
       "<td>0.0068747</td>\n",
       "<td>0.0</td>\n",
       "<td>1.0</td>\n",
       "<td>0.0</td>\n",
       "<td>0.3858974</td>\n",
       "<td>0.0</td>\n",
       "<td>1.0</td>\n",
       "<td>-100.0</td>\n",
       "<td>0.0</td></tr></table></div>"
      ],
      "text/plain": [
       "    group    cumulative_data_fraction    lower_threshold    lift       cumulative_lift    response_rate    cumulative_response_rate    capture_rate    cumulative_capture_rate    gain      cumulative_gain\n",
       "--  -------  --------------------------  -----------------  ---------  -----------------  ---------------  --------------------------  --------------  -------------------------  --------  -----------------\n",
       "    1        0.0102564                   0.991278           2.59136    2.59136            1                1                           0.0265781       0.0265781                  159.136   159.136\n",
       "    2        0.0205128                   0.990553           2.59136    2.59136            1                1                           0.0265781       0.0531561                  159.136   159.136\n",
       "    3        0.0307692                   0.990154           2.59136    2.59136            1                1                           0.0265781       0.0797342                  159.136   159.136\n",
       "    4        0.0410256                   0.989958           2.59136    2.59136            1                1                           0.0265781       0.106312                   159.136   159.136\n",
       "    5        0.05                        0.989641           2.59136    2.59136            1                1                           0.0232558       0.129568                   159.136   159.136\n",
       "    6        0.1                         0.98731            2.59136    2.59136            1                1                           0.129568        0.259136                   159.136   159.136\n",
       "    7        0.15                        0.984187           2.59136    2.59136            1                1                           0.129568        0.388704                   159.136   159.136\n",
       "    8        0.2                         0.978329           2.59136    2.59136            1                1                           0.129568        0.518272                   159.136   159.136\n",
       "    9        0.301282                    0.67559            2.55856    2.58034            0.987342         0.995745                    0.259136        0.777409                   155.856   158.034\n",
       "    10       0.4                         0.31127            1.71636    2.36711            0.662338         0.913462                    0.169435        0.946844                   71.6357   136.711\n",
       "    11       0.5                         0.134976           0.498339   1.99336            0.192308         0.769231                    0.0498339       0.996678                   -50.1661  99.3355\n",
       "    12       0.601282                    0.0793388          0.0328021  1.66311            0.0126582        0.641791                    0.00332226      1                          -96.7198  66.3113\n",
       "    13       0.7                         0.0473719          0          1.42857            0                0.551282                    0               1                          -100      42.8571\n",
       "    14       0.8                         0.0323931          0          1.25               0                0.482372                    0               1                          -100      25\n",
       "    15       0.9                         0.0235223          0          1.11111            0                0.428775                    0               1                          -100      11.1111\n",
       "    16       1                           0.00687472         0          1                  0                0.385897                    0               1                          -100      0"
      ]
     },
     "metadata": {},
     "output_type": "display_data"
    },
    {
     "name": "stdout",
     "output_type": "stream",
     "text": [
      "\n"
     ]
    },
    {
     "data": {
      "text/plain": []
     },
     "execution_count": 26,
     "metadata": {},
     "output_type": "execute_result"
    }
   ],
   "source": [
    "best_model.model_performance()"
   ]
  },
  {
   "cell_type": "markdown",
   "metadata": {},
   "source": [
    "You can also see the \"best\" model in more detail in [Flow](http://localhost:54321/):\n",
    "![alt text](./best_gbm1.png \"Best GBM from Grid Search in Flow\")\n",
    "![alt text](./best_gbm2.png \"Best GBM from Grid Search in Flow\")"
   ]
  },
  {
   "cell_type": "markdown",
   "metadata": {},
   "source": [
    "The model and the predictions can be saved to file as follows:"
   ]
  },
  {
   "cell_type": "code",
   "execution_count": 95,
   "metadata": {
    "collapsed": false,
    "scrolled": true
   },
   "outputs": [
    {
     "name": "stdout",
     "output_type": "stream",
     "text": [
      "\n",
      "Export File Progress: [##################################################] 100%\n"
     ]
    }
   ],
   "source": [
    "h2o.save_model(best_model, \"/tmp/bestModel.csv\", force=True)\n",
    "h2o.export_file(preds, \"/tmp/bestPreds.csv\", force=True)"
   ]
  },
  {
   "cell_type": "code",
   "execution_count": 96,
   "metadata": {
    "collapsed": true
   },
   "outputs": [],
   "source": [
    "#h2o.download_pojo(best_model)"
   ]
  },
  {
   "cell_type": "markdown",
   "metadata": {},
   "source": [
    "The model can also be exported as a plain old Java object (POJO) for H2O-independent (standalone/Storm/Kafka/UDF) scoring in any Java environment."
   ]
  },
  {
   "cell_type": "markdown",
   "metadata": {
    "collapsed": true
   },
   "source": [
    "```\n",
    "/*\n",
    "  Licensed under the Apache License, Version 2.0\n",
    "    http://www.apache.org/licenses/LICENSE-2.0.html\n",
    "\n",
    "  AUTOGENERATED BY H2O at 2016-05-27T22:11:18.485-07:00\n",
    "  3.8.2.6\n",
    "  \n",
    "  Standalone prediction code with sample test data for GBMModel named final_grid_model_46\n",
    "\n",
    "  How to download, compile and execute:\n",
    "      mkdir tmpdir\n",
    "      cd tmpdir\n",
    "      curl http://127.0.0.1:54321/3/h2o-genmodel.jar > h2o-genmodel.jar\n",
    "      curl http://127.0.0.1:54321/3/Models.java/final_grid_model_46 > final_grid_model_46.java\n",
    "      javac -cp h2o-genmodel.jar -J-Xmx2g -J-XX:MaxPermSize=128m final_grid_model_46.java\n",
    "\n",
    "     (Note:  Try java argument -XX:+PrintCompilation to show runtime JIT compiler behavior.)\n",
    "*/\n",
    "...\n",
    "class final_grid_model_46_Tree_289_class_0 {\n",
    "  static final double score0(double[] data) {\n",
    "    double pred =      (!Double.isNaN(data[9]) && data[9 /* boat */] != 12.0f ? \n",
    "         (data[9 /* boat */] <13.003977f ? \n",
    "             (data[9 /* boat */] <11.504464f ? \n",
    "                 (data[1 /* sex */] <0.5f ? \n",
    "                     (data[6 /* fare */] <24.978184f ? \n",
    "                        0.0027945167f : \n",
    "                         (data[11 /* home.dest */] <132.0f ? \n",
    "                            0.0027875851f : \n",
    "                             (data[11 /* home.dest */] <265.5f ? \n",
    "                                 (data[6 /* fare */] <49.690052f ? \n",
    "                                    0.002784563f : \n",
    "                                    0.0027828787f) : \n",
    "                                0.0027856496f))) : \n",
    "                    0.002798641f) : \n",
    "                0.0028186426f) : \n",
    "            0.00350058f) : \n",
    "...\n",
    "```"
   ]
  },
  {
   "cell_type": "markdown",
   "metadata": {},
   "source": [
    "## Ensembling Techniques\n",
    "\n",
    "After learning above that the variance of the test set AUC of the top few models was rather large, we might be able to turn this into our advantage by using ensembling techniques. The simplest one is taking the average of the predictions (survival probabilities) of the top `k` grid search model predictions (here, we use `k=10`):"
   ]
  },
  {
   "cell_type": "code",
   "execution_count": 33,
   "metadata": {
    "collapsed": false
   },
   "outputs": [
    {
     "name": "stdout",
     "output_type": "stream",
     "text": [
      "\n",
      "gbm prediction Progress: [##################################################] 100%\n",
      "\n",
      "gbm prediction Progress: [##################################################] 100%\n",
      "\n",
      "gbm prediction Progress: [##################################################] 100%\n",
      "\n",
      "gbm prediction Progress: [##################################################] 100%\n",
      "\n",
      "gbm prediction Progress: [##################################################] 100%\n",
      "\n",
      "gbm prediction Progress: [##################################################] 100%\n",
      "\n",
      "gbm prediction Progress: [##################################################] 100%\n",
      "\n",
      "gbm prediction Progress: [##################################################] 100%\n",
      "\n",
      "gbm prediction Progress: [##################################################] 100%\n",
      "\n",
      "gbm prediction Progress: [##################################################] 100%\n"
     ]
    }
   ],
   "source": [
    "prob = None\n",
    "k=10\n",
    "for i in range(0,k): \n",
    "    gbm = h2o.get_model(sorted_final_grid[\"Model Id\"][i])\n",
    "    if (prob is None):\n",
    "        prob = gbm.predict(test)[\"p1\"]\n",
    "    else:\n",
    "        prob = prob + gbm.predict(test)[\"p1\"]\n",
    "prob = prob/k"
   ]
  },
  {
   "cell_type": "markdown",
   "metadata": {},
   "source": [
    "We now have a blended probability of survival for each person on the Titanic."
   ]
  },
  {
   "cell_type": "code",
   "execution_count": 34,
   "metadata": {
    "collapsed": false
   },
   "outputs": [
    {
     "data": {
      "text/html": [
       "<table>\n",
       "<tr><th style=\"text-align: right;\">       p1</th></tr>\n",
       "<tr><td style=\"text-align: right;\">0.0270728</td></tr>\n",
       "<tr><td style=\"text-align: right;\">0.0163243</td></tr>\n",
       "<tr><td style=\"text-align: right;\">0.139536 </td></tr>\n",
       "<tr><td style=\"text-align: right;\">0.981392 </td></tr>\n",
       "<tr><td style=\"text-align: right;\">0.984146 </td></tr>\n",
       "<tr><td style=\"text-align: right;\">0.164179 </td></tr>\n",
       "<tr><td style=\"text-align: right;\">0.961535 </td></tr>\n",
       "<tr><td style=\"text-align: right;\">0.981923 </td></tr>\n",
       "<tr><td style=\"text-align: right;\">0.961027 </td></tr>\n",
       "<tr><td style=\"text-align: right;\">0.106759 </td></tr>\n",
       "</table>"
      ]
     },
     "metadata": {},
     "output_type": "display_data"
    },
    {
     "data": {
      "text/plain": []
     },
     "execution_count": 34,
     "metadata": {},
     "output_type": "execute_result"
    }
   ],
   "source": [
    "prob.head()"
   ]
  },
  {
   "cell_type": "markdown",
   "metadata": {},
   "source": [
    "We can bring those ensemble predictions to our Python session's memory space and use other Python packages."
   ]
  },
  {
   "cell_type": "markdown",
   "metadata": {},
   "source": [
    "This simple blended ensemble test set prediction has an even higher AUC than the best single model, so we can assume that this would hold true using cross-validation as well. We leave this as an exercise for the reader - take the parameters of the top `10` models, retrain them with `nfolds=5` on the full dataset, set `keep_holdout_predictions=TRUE` and sum up their predicted probabilities in `h2o.getFrame(cvgbm[i]@model$cross_validation_holdout_predictions_frame_id)`, then score that with cvAUC as shown above).\n",
    "\n",
    "For more sophisticated ensembling approaches, such as stacking via a superlearner, we refer to the [H2O Ensemble](https://github.com/h2oai/h2o-3/tree/master/h2o-r/ensemble) github page."
   ]
  },
  {
   "cell_type": "markdown",
   "metadata": {},
   "source": [
    "## Summary\n",
    "We learned how to build H2O GBM models for a binary classification task on a small but realistic dataset with numerical and categorical variables, with the goal to maximize the AUC (ranges from 0.5 to 1). We first established a baseline with the default model, then carefully tuned the remaining hyper-parameters without \"too much\" human guess-work. We used both Cartesian and Random hyper-parameter searches to find good models. We were able to get the AUC on a holdout test set from the low 94% range with the default model to the mid 97% after tuning, and to the high 97% with some simple ensembling technique known as blending. We performed simple cross-validation variance analysis to learn that results were slightly \"lucky\" due to the specific train/valid/test set splits, and settled to expect mid 96% AUCs instead.\n",
    "\n",
    "Note that this script and the findings therein are directly transferrable to large datasets on distributed clusters including Spark/Hadoop environments.\n",
    "\n",
    "More information can be found here [http://www.h2o.ai/docs/](http://www.h2o.ai/docs/)."
   ]
  }
 ],
 "metadata": {
  "kernelspec": {
   "display_name": "Python 2",
   "language": "python",
   "name": "python2"
  },
  "language_info": {
   "codemirror_mode": {
    "name": "ipython",
    "version": 2
   },
   "file_extension": ".py",
   "mimetype": "text/x-python",
   "name": "python",
   "nbconvert_exporter": "python",
   "pygments_lexer": "ipython2",
   "version": "2.7.11"
  }
 },
 "nbformat": 4,
 "nbformat_minor": 0
}
