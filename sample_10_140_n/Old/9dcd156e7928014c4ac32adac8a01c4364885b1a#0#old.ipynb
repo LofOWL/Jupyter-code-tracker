{
 "cells": [
  {
   "cell_type": "code",
   "execution_count": 1,
   "metadata": {
    "collapsed": true
   },
   "outputs": [],
   "source": [
    "%reload_ext autoreload\n",
    "%autoreload 2\n",
    "%matplotlib inline"
   ]
  },
  {
   "cell_type": "code",
   "execution_count": 2,
   "metadata": {
    "collapsed": true
   },
   "outputs": [],
   "source": [
    "from fastai.imports import *\n",
    "from fastai.torch_imports import *\n",
    "from fastai.core import *\n",
    "\n",
    "import torchtext\n",
    "from torchtext import vocab, data\n",
    "\n",
    "from torchtext.datasets import language_modeling\n",
    "\n",
    "from fastai.rnn_reg import *\n",
    "from fastai.rnn_train import *\n",
    "from fastai.nlp import *\n",
    "from fastai.lm_rnn import *\n",
    "from fastai.model import fit\n",
    "from fastai.dataset import *"
   ]
  },
  {
   "cell_type": "markdown",
   "metadata": {},
   "source": [
    "## Language modeling"
   ]
  },
  {
   "cell_type": "code",
   "execution_count": 3,
   "metadata": {},
   "outputs": [
    {
     "name": "stdout",
     "output_type": "stream",
     "text": [
      "\u001b[0m\u001b[01;34mmodels\u001b[0m/  \u001b[01;34mtmp\u001b[0m/  wiki.test.tokens  wiki.train.tokens  wiki.valid.tokens\r\n"
     ]
    }
   ],
   "source": [
    "PATH='data/wikitext-2/'\n",
    "%ls {PATH}"
   ]
  },
  {
   "cell_type": "code",
   "execution_count": 4,
   "metadata": {},
   "outputs": [
    {
     "name": "stdout",
     "output_type": "stream",
     "text": [
      " \r\n",
      " = Valkyria Chronicles III = \r\n",
      " \r\n",
      " Senjō no Valkyria 3 : <unk> Chronicles ( Japanese : 戦場のヴァルキュリア3 , lit . Valkyria of the Battlefield 3 ) , commonly referred to as Valkyria Chronicles III outside Japan , is a tactical role @-@ playing video game developed by Sega and Media.Vision for the PlayStation Portable . Released in January 2011 in Japan , it is the third game in the Valkyria series . <unk> the same fusion of tactical and real @-@ time gameplay as its predecessors , the story runs parallel to the first game and follows the \" Nameless \" , a penal military unit serving the nation of Gallia during the Second Europan War who perform secret black operations and are pitted against the Imperial unit \" <unk> Raven \" . \r\n",
      " The game began development in 2010 , carrying over a large portion of the work done on Valkyria Chronicles II . While it retained the standard features of the series , it also underwent multiple adjustments , such as making the game more <unk> for series newcomers . Character designer <unk> Honjou and composer Hitoshi Sakimoto both returned from previous entries , along with Valkyria Chronicles II director Takeshi Ozawa . A large team of writers handled the script . The game 's opening theme was sung by May 'n . \r\n"
     ]
    }
   ],
   "source": [
    "!head -5 {PATH}wiki.train.tokens"
   ]
  },
  {
   "cell_type": "code",
   "execution_count": 5,
   "metadata": {},
   "outputs": [
    {
     "name": "stdout",
     "output_type": "stream",
     "text": [
      "   36718  2051910 10797148 data/wikitext-2/wiki.train.tokens\r\n"
     ]
    }
   ],
   "source": [
    "!wc -lwc {PATH}wiki.train.tokens"
   ]
  },
  {
   "cell_type": "code",
   "execution_count": 6,
   "metadata": {},
   "outputs": [
    {
     "name": "stdout",
     "output_type": "stream",
     "text": [
      "   3760  213886 1121681 data/wikitext-2/wiki.valid.tokens\r\n"
     ]
    }
   ],
   "source": [
    "!wc -lwc {PATH}wiki.valid.tokens"
   ]
  },
  {
   "cell_type": "code",
   "execution_count": 20,
   "metadata": {},
   "outputs": [
    {
     "data": {
      "text/plain": [
       "(372, 12981, 1, 2088628)"
      ]
     },
     "execution_count": 20,
     "metadata": {},
     "output_type": "execute_result"
    }
   ],
   "source": [
    "TEXT = data.Field(lower=True)\n",
    "FILES = dict(train='wiki.train.tokens', validation='wiki.valid.tokens', test='wiki.test.tokens')\n",
    "bs = 80\n",
    "bptt = 70\n",
    "md = LanguageModelData(PATH, TEXT, **FILES, bs=bs, bptt=bptt, min_freq=10)\n",
    "len(md.trn_dl), md.nt, len(md.trn_ds), len(md.trn_ds[0].text)"
   ]
  },
  {
   "cell_type": "code",
   "execution_count": 14,
   "metadata": {},
   "outputs": [
    {
     "data": {
      "text/plain": [
       "'valkyria'"
      ]
     },
     "execution_count": 14,
     "metadata": {},
     "output_type": "execute_result"
    }
   ],
   "source": [
    "TEXT.vocab.itos[3875]"
   ]
  },
  {
   "cell_type": "code",
   "execution_count": 8,
   "metadata": {},
   "outputs": [
    {
     "data": {
      "text/plain": [
       "['<eos>',\n",
       " '=',\n",
       " 'valkyria',\n",
       " 'chronicles',\n",
       " 'iii',\n",
       " '=',\n",
       " '<eos>',\n",
       " '<eos>',\n",
       " 'senjō',\n",
       " 'no',\n",
       " 'valkyria',\n",
       " '3']"
      ]
     },
     "execution_count": 8,
     "metadata": {},
     "output_type": "execute_result"
    }
   ],
   "source": [
    "md.trn_ds[0].text[:12]"
   ]
  },
  {
   "cell_type": "code",
   "execution_count": 27,
   "metadata": {},
   "outputs": [
    {
     "data": {
      "text/plain": [
       "'series'"
      ]
     },
     "execution_count": 27,
     "metadata": {},
     "output_type": "execute_result"
    }
   ],
   "source": [
    "TEXT.vocab.itos[98]"
   ]
  },
  {
   "cell_type": "code",
   "execution_count": 21,
   "metadata": {},
   "outputs": [
    {
     "data": {
      "text/plain": [
       "(Variable containing:\n",
       "      9    409     35  ...      66   1129      2\n",
       "     11      7   1538  ...     112     14   1919\n",
       "   3875      2    267  ...       4   2761   5896\n",
       "         ...            ⋱           ...         \n",
       "      7      9    509  ...      24     98   2258\n",
       "      2     11     23  ...       0      5     24\n",
       "   3875     11  12472  ...      21    414   3479\n",
       " [torch.cuda.LongTensor of size 72x80 (GPU 0)], Variable containing:\n",
       "     11\n",
       "      7\n",
       "   1538\n",
       "   ⋮   \n",
       "     28\n",
       "   3668\n",
       "      4\n",
       " [torch.cuda.LongTensor of size 5760 (GPU 0)])"
      ]
     },
     "execution_count": 21,
     "metadata": {},
     "output_type": "execute_result"
    }
   ],
   "source": [
    "next(md.trn_dl)"
   ]
  },
  {
   "cell_type": "code",
   "execution_count": 22,
   "metadata": {
    "collapsed": true
   },
   "outputs": [],
   "source": [
    "em_sz = 200\n",
    "nh = 500\n",
    "nl = 3\n",
    "learner = md.get_model(SGD_Momentum(0.9), bs, em_sz, nh, nl)"
   ]
  },
  {
   "cell_type": "code",
   "execution_count": 23,
   "metadata": {},
   "outputs": [
    {
     "data": {
      "application/vnd.jupyter.widget-view+json": {
       "model_id": "1f12d405e8184139b1a1feb07684a301",
       "version_major": 2,
       "version_minor": 0
      },
      "text/plain": [
       "A Jupyter Widget"
      ]
     },
     "metadata": {},
     "output_type": "display_data"
    },
    {
     "name": "stdout",
     "output_type": "stream",
     "text": [
      "[ 0.      5.7723  5.4642]                                   \n",
      "\n"
     ]
    }
   ],
   "source": [
    "learner.fit(5, 1, wds=1e-6, stepper_fn=reg_rnn_stepper(), clip=0.25)"
   ]
  },
  {
   "cell_type": "code",
   "execution_count": null,
   "metadata": {
    "collapsed": true
   },
   "outputs": [],
   "source": []
  },
  {
   "cell_type": "code",
   "execution_count": 16,
   "metadata": {
    "scrolled": true
   },
   "outputs": [
    {
     "data": {
      "application/vnd.jupyter.widget-view+json": {
       "model_id": "473449b1e37d40cd9aa9f23d83a4d335",
       "version_major": 2,
       "version_minor": 0
      },
      "text/plain": [
       "A Jupyter Widget"
      ]
     },
     "metadata": {},
     "output_type": "display_data"
    },
    {
     "name": "stdout",
     "output_type": "stream",
     "text": [
      "[ 0.      6.2454  5.9691]                                   \n",
      "[ 1.      5.6808  5.4286]                                   \n",
      "[ 2.      5.531   5.3216]                                   \n",
      "[ 3.      5.3978  5.1816]                                   \n",
      "[ 4.      5.2441  5.0277]                                   \n",
      "[ 5.      5.1536  4.9435]                                   \n",
      "[ 6.      5.1131  4.9238]                                   \n",
      "[ 7.      5.1041  4.8866]                                   \n",
      "[ 8.      4.9937  4.7999]                                   \n",
      "[ 9.      4.908   4.7297]                                   \n",
      "[ 10.       4.8373   4.6767]                                \n",
      "[ 11.       4.7907   4.6283]                                \n",
      "[ 12.       4.7495   4.6018]                                \n",
      "[ 13.       4.7308   4.5833]                                \n",
      "[ 14.       4.7215   4.5836]                                \n",
      "[ 15.       4.7991   4.6308]                                \n",
      "[ 16.       4.7501   4.593 ]                                \n",
      "[ 17.       4.7056   4.5727]                                \n",
      "[ 18.       4.6781   4.5475]                                \n",
      "[ 19.       4.6322   4.5064]                                \n",
      "[ 20.       4.6019   4.4875]                                \n",
      "[ 21.       4.5655   4.4572]                                \n",
      "[ 22.       4.5401   4.4445]                                \n",
      "[ 23.       4.5088   4.4176]                                \n",
      "[ 24.       4.4855   4.4051]                                \n",
      "[ 25.       4.4691   4.3893]                                \n",
      "[ 26.       4.4672   4.3805]                                \n",
      "[ 27.       4.4359   4.3679]                                \n",
      "[ 28.       4.435    4.3636]                                \n",
      "[ 29.       4.4348   4.3631]                                \n",
      "[ 30.       4.4209   4.364 ]                                \n",
      "[ 31.       4.5516   4.4501]                                \n",
      "[ 32.       4.5401   4.4444]                                \n",
      "[ 33.       4.5114   4.4363]                                \n",
      "[ 34.       4.5012   4.4161]                                \n",
      "[ 35.       4.4822   4.4068]                                \n",
      "[ 36.       4.463    4.3863]                                \n",
      "[ 37.       4.4503   4.3865]                                \n",
      "[ 38.       4.4387   4.3664]                                \n",
      "[ 39.       4.4148   4.3563]                                \n",
      "[ 40.       4.3983   4.3557]                                \n",
      "[ 41.       4.3859   4.3448]                                \n",
      "[ 42.       4.3699   4.3468]                                \n",
      "[ 43.       4.3585   4.3304]                                \n",
      "[ 44.       4.3336   4.3181]                                \n",
      "[ 45.       4.3209   4.3197]                                \n",
      "[ 46.       4.3185   4.3061]                                \n",
      "[ 47.       4.2895   4.2938]                                \n",
      "[ 48.       4.2769   4.2866]                                \n",
      "[ 49.       4.2666   4.2813]                                \n",
      "[ 50.       4.2533   4.2759]                                \n",
      "[ 51.       4.2524   4.2676]                                \n",
      "[ 52.       4.2389   4.2605]                                \n",
      "[ 53.       4.2217   4.262 ]                                \n",
      "[ 54.       4.2243   4.247 ]                                \n",
      "[ 55.       4.2323   4.2494]                                \n",
      "[ 56.       4.2265   4.2457]                                \n",
      "[ 57.       4.1953   4.2393]                                \n",
      "[ 58.       4.2285   4.24  ]                                \n",
      "[ 59.       4.192    4.2389]                                \n",
      "[ 60.       4.1858   4.2371]                                \n",
      "[ 61.       4.2022   4.2362]                                \n",
      "[ 62.       4.1959   4.2335]                                \n",
      "\n"
     ]
    }
   ],
   "source": [
    "learner.fit(5, 6, wds=1e-6, stepper_fn=stepper, cycle_len=1, cycle_mult=2, clip=0.25)"
   ]
  },
  {
   "cell_type": "code",
   "execution_count": 19,
   "metadata": {
    "collapsed": true
   },
   "outputs": [],
   "source": [
    "learner.save('lm_423')"
   ]
  },
  {
   "cell_type": "code",
   "execution_count": 17,
   "metadata": {},
   "outputs": [
    {
     "data": {
      "text/plain": [
       "68.7172321738465"
      ]
     },
     "execution_count": 17,
     "metadata": {},
     "output_type": "execute_result"
    }
   ],
   "source": [
    "math.exp(4.23)"
   ]
  },
  {
   "cell_type": "markdown",
   "metadata": {
    "heading_collapsed": true
   },
   "source": [
    "### End"
   ]
  },
  {
   "cell_type": "code",
   "execution_count": null,
   "metadata": {
    "collapsed": true,
    "hidden": true
   },
   "outputs": [],
   "source": []
  }
 ],
 "metadata": {
  "kernelspec": {
   "display_name": "Python 3",
   "language": "python",
   "name": "python3"
  },
  "language_info": {
   "codemirror_mode": {
    "name": "ipython",
    "version": 3
   },
   "file_extension": ".py",
   "mimetype": "text/x-python",
   "name": "python",
   "nbconvert_exporter": "python",
   "pygments_lexer": "ipython3",
   "version": "3.6.2"
  }
 },
 "nbformat": 4,
 "nbformat_minor": 2
}
