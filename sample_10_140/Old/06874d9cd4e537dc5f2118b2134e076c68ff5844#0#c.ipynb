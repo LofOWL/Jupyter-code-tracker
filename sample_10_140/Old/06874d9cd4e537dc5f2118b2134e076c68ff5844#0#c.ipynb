{
 "cells": [
  {
   "cell_type": "markdown",
   "metadata": {},
   "source": [
    "# MNIST GPU Deep Learning Benchmark with H2O Deep Water\n",
    "In reference to [Szilard's Benchmark-DL](https://github.com/szilard/benchm-dl)"
   ]
  },
  {
   "cell_type": "code",
   "execution_count": null,
   "metadata": {
    "collapsed": false
   },
   "outputs": [],
   "source": [
    "import sys, os\n",
    "import os.path\n",
    "import h2o\n",
    "from h2o.estimators.deepwater import H2ODeepWaterEstimator\n",
    "PATH = os.path.expanduser(\"~/h2o-3/\")\n",
    "h2o.init(nthreads=-1)\n",
    "if not H2ODeepWaterEstimator.available(): exit"
   ]
  },
  {
   "cell_type": "markdown",
   "metadata": {},
   "source": [
    "### Hardware check"
   ]
  },
  {
   "cell_type": "code",
   "execution_count": null,
   "metadata": {
    "collapsed": false,
    "scrolled": false
   },
   "outputs": [],
   "source": [
    "!nvidia-smi"
   ]
  },
  {
   "cell_type": "markdown",
   "metadata": {},
   "source": [
    "### Data preparation"
   ]
  },
  {
   "cell_type": "code",
   "execution_count": null,
   "metadata": {
    "collapsed": false
   },
   "outputs": [],
   "source": [
    "train = h2o.import_file(PATH + \"bigdata/laptop/mnist/train.csv.gz\")\n",
    "predictors  = list(range(0,784))\n",
    "resp        = 784\n",
    "\n",
    "train[predictors] = train[predictors]/255.0\n",
    "train[resp] = train[resp].asfactor()\n",
    "nclasses    = train[resp].nlevels()[0]"
   ]
  },
  {
   "cell_type": "markdown",
   "metadata": {},
   "source": [
    "### Define the model architecture"
   ]
  },
  {
   "cell_type": "code",
   "execution_count": null,
   "metadata": {
    "collapsed": true
   },
   "outputs": [],
   "source": [
    "def cnn(num_classes):\n",
    "    import mxnet as mx\n",
    "    data = mx.symbol.Variable('data')\n",
    "\n",
    "    conv1 = mx.symbol.Convolution(data=data, kernel=(4,4), num_filter=32)\n",
    "    relu1 = mx.symbol.Activation(data=conv1, act_type=\"relu\")\n",
    "    pool1 = mx.symbol.Pooling(data=relu1, pool_type=\"max\", kernel=(2,2), stride=(2,2))\n",
    "\n",
    "    conv2 = mx.symbol.Convolution(data=pool1, kernel=(3,3), num_filter=16)\n",
    "    relu2 = mx.symbol.Activation(data=conv2, act_type=\"relu\")\n",
    "    pool2 = mx.symbol.Pooling(data=relu2, pool_type=\"max\", kernel=(2,2), stride=(2,2))\n",
    "    drop = mx.symbol.Dropout(data=pool2, p=0.2)\n",
    "\n",
    "    flatten = mx.symbol.Flatten(data=drop)\n",
    "    fc1 = mx.symbol.FullyConnected(data=flatten, num_hidden=128)\n",
    "    relu3 = mx.symbol.Activation(data=fc1, act_type=\"relu\")\n",
    "\n",
    "    fc2 = mx.symbol.FullyConnected(data=relu3, num_hidden=64)\n",
    "    relu4 = mx.symbol.Activation(data=fc2, act_type=\"relu\")\n",
    "\n",
    "    fc3 = mx.symbol.FullyConnected(data=relu4, num_hidden=num_classes)\n",
    "    net = mx.symbol.SoftmaxOutput(data=fc3, name='softmax')\n",
    "    return net\n",
    "cnn(nclasses).save(\"/tmp/cnn.json\")"
   ]
  },
  {
   "cell_type": "markdown",
   "metadata": {},
   "source": [
    "### Train the model"
   ]
  },
  {
   "cell_type": "code",
   "execution_count": null,
   "metadata": {
    "collapsed": false,
    "scrolled": true
   },
   "outputs": [],
   "source": [
    "model = H2ODeepWaterEstimator(epochs=10,\n",
    "                              learning_rate=0.05,\n",
    "                              learning_rate_annealing=1e-5,\n",
    "                              momentum_start=0.9,\n",
    "                              momentum_stable=0.9,\n",
    "                              mini_batch_size=128,\n",
    "                              standardize=False,\n",
    "                              ignore_const_cols=False,\n",
    "                              network_definition_file=\"/tmp/cnn.json\",\n",
    "                              image_shape=[28,28],\n",
    "                              channels=1,\n",
    "                              device_id=[0])\n",
    "\n",
    "model.train(x=predictors,y=resp, training_frame=train)"
   ]
  },
  {
   "cell_type": "markdown",
   "metadata": {},
   "source": [
    "### It takes about 25 seconds to train for 10 epochs (600,000 samples)"
   ]
  },
  {
   "cell_type": "code",
   "execution_count": null,
   "metadata": {
    "collapsed": false,
    "scrolled": true
   },
   "outputs": [],
   "source": [
    "model.show()"
   ]
  },
  {
   "cell_type": "code",
   "execution_count": null,
   "metadata": {
    "collapsed": false,
    "scrolled": true
   },
   "outputs": [],
   "source": [
    "model.plot()"
   ]
  },
  {
   "cell_type": "markdown",
   "metadata": {},
   "source": [
    "### Let's evaluate the test set performance"
   ]
  },
  {
   "cell_type": "code",
   "execution_count": null,
   "metadata": {
    "collapsed": false,
    "scrolled": true
   },
   "outputs": [],
   "source": [
    "test = h2o.import_file(PATH + \"bigdata/laptop/mnist/test.csv.gz\")\n",
    "test[predictors] = test[predictors]/255.0\n",
    "test[resp] = test[resp].asfactor()\n",
    "\n",
    "print(model.model_performance(test))"
   ]
  }
 ],
 "metadata": {
  "kernelspec": {
   "display_name": "Python 2",
   "language": "python",
   "name": "python2"
  },
  "language_info": {
   "codemirror_mode": {
    "name": "ipython",
    "version": 2
   },
   "file_extension": ".py",
   "mimetype": "text/x-python",
   "name": "python",
   "nbconvert_exporter": "python",
   "pygments_lexer": "ipython2",
   "version": "2.7.12"
  }
 },
 "nbformat": 4,
 "nbformat_minor": 1
}
