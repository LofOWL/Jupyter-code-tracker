{
 "cells": [
  {
   "cell_type": "markdown",
   "metadata": {},
   "source": [
    "# H2O Tutorial\n",
    "\n",
    "Author: Spencer Aiello\n",
    "\n",
    "Contact: spencer@h2oai.com"
   ]
  },
  {
   "cell_type": "markdown",
   "metadata": {},
   "source": [
    "## Setting up your system for this demo"
   ]
  },
  {
   "cell_type": "markdown",
   "metadata": {},
   "source": [
    "The following code creates two csv files using data from the [Boston Housing dataset](https://archive.ics.uci.edu/ml/datasets/Housing) which is built into scikit-learn and adds them to the local directory"
   ]
  },
  {
   "cell_type": "code",
   "execution_count": 1,
   "metadata": {
    "collapsed": false
   },
   "outputs": [
    {
     "data": {
      "text/html": [
       "<div style=\"overflow:auto\"><table style=\"width:50%\"><tr><td>H2O cluster uptime: </td>\n",
       "<td>5 seconds 252 milliseconds </td></tr>\n",
       "<tr><td>H2O cluster version: </td>\n",
       "<td>3.1.0.99999</td></tr>\n",
       "<tr><td>H2O cluster name: </td>\n",
       "<td>spIdea</td></tr>\n",
       "<tr><td>H2O cluster total nodes: </td>\n",
       "<td>1</td></tr>\n",
       "<tr><td>H2O cluster total memory: </td>\n",
       "<td>12.44 GB</td></tr>\n",
       "<tr><td>H2O cluster total cores: </td>\n",
       "<td>8</td></tr>\n",
       "<tr><td>H2O cluster allowed cores: </td>\n",
       "<td>8</td></tr>\n",
       "<tr><td>H2O cluster healthy: </td>\n",
       "<td>True</td></tr>\n",
       "<tr><td>H2O Connection ip: </td>\n",
       "<td>127.0.0.1</td></tr>\n",
       "<tr><td>H2O Connection port: </td>\n",
       "<td>54321</td></tr></table></div>"
      ],
      "text/plain": [
       "--------------------------  --------------------------\n",
       "H2O cluster uptime:         5 seconds 252 milliseconds\n",
       "H2O cluster version:        3.1.0.99999\n",
       "H2O cluster name:           spIdea\n",
       "H2O cluster total nodes:    1\n",
       "H2O cluster total memory:   12.44 GB\n",
       "H2O cluster total cores:    8\n",
       "H2O cluster allowed cores:  8\n",
       "H2O cluster healthy:        True\n",
       "H2O Connection ip:          127.0.0.1\n",
       "H2O Connection port:        54321\n",
       "--------------------------  --------------------------"
      ]
     },
     "metadata": {},
     "output_type": "display_data"
    }
   ],
   "source": [
    "import pandas as pd\n",
    "import numpy\n",
    "from numpy.random import choice\n",
    "from sklearn.datasets import load_boston\n",
    "\n",
    "import h2o\n",
    "h2o.init()"
   ]
  },
  {
   "cell_type": "code",
   "execution_count": 2,
   "metadata": {
    "collapsed": false
   },
   "outputs": [
    {
     "name": "stdout",
     "output_type": "stream",
     "text": [
      "\n",
      "Parse Progress: [##################################################] 100%\n",
      "Uploaded py9c67b72f-82f5-4baa-9073-0701921991dc into cluster with 506 rows and 14 cols\n"
     ]
    }
   ],
   "source": [
    "# transfer the boston data from pandas to H2O\n",
    "boston_data = load_boston()\n",
    "X = pd.DataFrame(data=boston_data.data, columns=boston_data.feature_names)\n",
    "X[\"Median_value\"] = boston_data.target\n",
    "X = h2o.H2OFrame(python_obj=X.to_dict(\"list\"))"
   ]
  },
  {
   "cell_type": "code",
   "execution_count": 3,
   "metadata": {
    "collapsed": false
   },
   "outputs": [
    {
     "name": "stdout",
     "output_type": "stream",
     "text": [
      "\n",
      "Export File Progress: [##################################################] 100%\n",
      "\n",
      "Export File Progress: [##################################################] 100%\n"
     ]
    }
   ],
   "source": [
    "# select 10% for valdation\n",
    "r = X.runif(seed=123456789)\n",
    "train = X[r < 0.9,:]\n",
    "valid = X[r >= 0.9,:]\n",
    "\n",
    "h2o.export_file(train, \"Boston_housing_train.csv\", force=True)\n",
    "h2o.export_file(valid, \"Boston_housing_test.csv\", force=True)"
   ]
  },
  {
   "cell_type": "markdown",
   "metadata": {},
   "source": [
    "Enable inline plotting in the Jupyter Notebook"
   ]
  },
  {
   "cell_type": "code",
   "execution_count": 4,
   "metadata": {
    "collapsed": true
   },
   "outputs": [],
   "source": [
    "%matplotlib inline\n",
    "import matplotlib.pyplot as plt"
   ]
  },
  {
   "cell_type": "markdown",
   "metadata": {},
   "source": [
    "## Introduction "
   ]
  },
  {
   "cell_type": "markdown",
   "metadata": {},
   "source": [
    "The purpose of this notebook is to provide an introduction to H2O's syntax and capabilities. It is not meant to be a tutorial on machine learning or algorithms."
   ]
  },
  {
   "cell_type": "markdown",
   "metadata": {},
   "source": [
    "## Intro to H2O Data Munging"
   ]
  },
  {
   "cell_type": "markdown",
   "metadata": {},
   "source": [
    "Read csv data into H2O."
   ]
  },
  {
   "cell_type": "code",
   "execution_count": 5,
   "metadata": {
    "collapsed": false
   },
   "outputs": [
    {
     "name": "stdout",
     "output_type": "stream",
     "text": [
      "\n",
      "Parse Progress: [##################################################] 100%\n",
      "Imported Boston_housing_train.csv. Parsed 462 rows and 14 cols\n"
     ]
    }
   ],
   "source": [
    "fr = h2o.import_file(\"Boston_housing_train.csv\")"
   ]
  },
  {
   "cell_type": "markdown",
   "metadata": {},
   "source": [
    "View the top"
   ]
  },
  {
   "cell_type": "code",
   "execution_count": 6,
   "metadata": {
    "collapsed": false
   },
   "outputs": [
    {
     "name": "stdout",
     "output_type": "stream",
     "text": [
      "H2OFrame with 10 rows and 14 columns: \n",
      "      CRIM    ZN       B  LSTAT  Median_value    AGE  TAX  RAD  CHAS    NOX  \\\n",
      "0  0.00632  18.0  396.90   4.98          24.0   65.2  296    1     0  0.538   \n",
      "1  0.02729   0.0  392.83   4.03          34.7   61.1  242    2     0  0.469   \n",
      "2  0.03237   0.0  394.63   2.94          33.4   45.8  222    3     0  0.458   \n",
      "3  0.06905   0.0  396.90   5.33          36.2   54.2  222    3     0  0.458   \n",
      "4  0.02985   0.0  394.12   5.21          28.7   58.7  222    3     0  0.458   \n",
      "5  0.08829  12.5  395.60  12.43          22.9   66.6  311    5     0  0.524   \n",
      "6  0.14455  12.5  396.90  19.15          27.1   96.1  311    5     0  0.524   \n",
      "7  0.21124  12.5  386.63  29.93          16.5  100.0  311    5     0  0.524   \n",
      "8  0.17004  12.5  386.71  17.10          18.9   85.9  311    5     0  0.524   \n",
      "9  0.22489  12.5  392.52  20.45          15.0   94.3  311    5     0  0.524   \n",
      "\n",
      "      RM  INDUS  PTRATIO     DIS  \n",
      "0  6.575   2.31     15.3  4.0900  \n",
      "1  7.185   7.07     17.8  4.9671  \n",
      "2  6.998   2.18     18.7  6.0622  \n",
      "3  7.147   2.18     18.7  6.0622  \n",
      "4  6.430   2.18     18.7  6.0622  \n",
      "5  6.012   7.87     15.2  5.5605  \n",
      "6  6.172   7.87     15.2  5.9505  \n",
      "7  5.631   7.87     15.2  6.0821  \n",
      "8  6.004   7.87     15.2  6.5921  \n",
      "9  6.377   7.87     15.2  6.3467  \n"
     ]
    },
    {
     "data": {
      "text/plain": []
     },
     "execution_count": 6,
     "metadata": {},
     "output_type": "execute_result"
    }
   ],
   "source": [
    "fr.head()"
   ]
  },
  {
   "cell_type": "markdown",
   "metadata": {},
   "source": [
    "View the bottom"
   ]
  },
  {
   "cell_type": "code",
   "execution_count": 7,
   "metadata": {
    "collapsed": false
   },
   "outputs": [
    {
     "name": "stdout",
     "output_type": "stream",
     "text": [
      "H2OFrame with 10 rows and 14 columns: \n",
      "      CRIM  ZN       B  LSTAT  Median_value   AGE  TAX  RAD  CHAS    NOX  \\\n",
      "0  0.28960   0  396.90  21.14          19.7  72.9  391    6     0  0.585   \n",
      "1  0.26838   0  396.90  14.10          18.3  70.6  391    6     0  0.585   \n",
      "2  0.23912   0  396.90  12.92          21.2  65.3  391    6     0  0.585   \n",
      "3  0.17783   0  395.77  15.10          17.5  73.5  391    6     0  0.585   \n",
      "4  0.22438   0  396.90  14.33          16.8  79.7  391    6     0  0.585   \n",
      "5  0.06263   0  391.99   9.67          22.4  69.1  273    1     0  0.573   \n",
      "6  0.04527   0  396.90   9.08          20.6  76.7  273    1     0  0.573   \n",
      "7  0.06076   0  396.90   5.64          23.9  91.0  273    1     0  0.573   \n",
      "8  0.10959   0  393.45   6.48          22.0  89.3  273    1     0  0.573   \n",
      "9  0.04741   0  396.90   7.88          11.9  80.8  273    1     0  0.573   \n",
      "\n",
      "      RM  INDUS  PTRATIO     DIS  \n",
      "0  5.390   9.69     19.2  2.7986  \n",
      "1  5.794   9.69     19.2  2.8927  \n",
      "2  6.019   9.69     19.2  2.4091  \n",
      "3  5.569   9.69     19.2  2.3999  \n",
      "4  6.027   9.69     19.2  2.4982  \n",
      "5  6.593  11.93     21.0  2.4786  \n",
      "6  6.120  11.93     21.0  2.2875  \n",
      "7  6.976  11.93     21.0  2.1675  \n",
      "8  6.794  11.93     21.0  2.3889  \n",
      "9  6.030  11.93     21.0  2.5050  \n"
     ]
    },
    {
     "data": {
      "text/plain": []
     },
     "execution_count": 7,
     "metadata": {},
     "output_type": "execute_result"
    }
   ],
   "source": [
    "fr.tail()"
   ]
  },
  {
   "cell_type": "markdown",
   "metadata": {},
   "source": [
    "Select a column\n",
    "\n",
    "fr[\"VAR_NAME\"]"
   ]
  },
  {
   "cell_type": "code",
   "execution_count": 8,
   "metadata": {
    "collapsed": false,
    "scrolled": true
   },
   "outputs": [
    {
     "name": "stdout",
     "output_type": "stream",
     "text": [
      "H2OFrame with 10 rows and 1 columns: \n",
      "      CRIM\n",
      "0  0.00632\n",
      "1  0.02729\n",
      "2  0.03237\n",
      "3  0.06905\n",
      "4  0.02985\n",
      "5  0.08829\n",
      "6  0.14455\n",
      "7  0.21124\n",
      "8  0.17004\n",
      "9  0.22489\n"
     ]
    },
    {
     "data": {
      "text/plain": []
     },
     "execution_count": 8,
     "metadata": {},
     "output_type": "execute_result"
    }
   ],
   "source": [
    "fr[\"CRIM\"].head() # Tab completes"
   ]
  },
  {
   "cell_type": "markdown",
   "metadata": {},
   "source": [
    "Select a few columns"
   ]
  },
  {
   "cell_type": "code",
   "execution_count": 9,
   "metadata": {
    "collapsed": false
   },
   "outputs": [
    {
     "name": "stdout",
     "output_type": "stream",
     "text": [
      "H2OFrame with 10 rows and 3 columns: \n",
      "      CRIM  RAD     RM\n",
      "0  0.00632    1  6.575\n",
      "1  0.02729    2  7.185\n",
      "2  0.03237    3  6.998\n",
      "3  0.06905    3  7.147\n",
      "4  0.02985    3  6.430\n",
      "5  0.08829    5  6.012\n",
      "6  0.14455    5  6.172\n",
      "7  0.21124    5  5.631\n",
      "8  0.17004    5  6.004\n",
      "9  0.22489    5  6.377\n"
     ]
    },
    {
     "data": {
      "text/plain": []
     },
     "execution_count": 9,
     "metadata": {},
     "output_type": "execute_result"
    }
   ],
   "source": [
    "columns = [\"CRIM\", \"RM\", \"RAD\"]\n",
    "fr[columns].head()"
   ]
  },
  {
   "cell_type": "markdown",
   "metadata": {},
   "source": [
    "Select a subset of rows\n",
    "\n",
    "Unlike in Pandas, columns may be identified by index or column name. **Therefore, when subsetting by rows, you must also pass the column selection.**"
   ]
  },
  {
   "cell_type": "code",
   "execution_count": 10,
   "metadata": {
    "collapsed": false
   },
   "outputs": [
    {
     "name": "stdout",
     "output_type": "stream",
     "text": [
      "H2OFrame with 5 rows and 14 columns: \n",
      "      CRIM    ZN       B  LSTAT  Median_value   AGE  TAX  RAD  CHAS    NOX  \\\n",
      "0  0.03237   0.0  394.63   2.94          33.4  45.8  222    3     0  0.458   \n",
      "1  0.06905   0.0  396.90   5.33          36.2  54.2  222    3     0  0.458   \n",
      "2  0.02985   0.0  394.12   5.21          28.7  58.7  222    3     0  0.458   \n",
      "3  0.08829  12.5  395.60  12.43          22.9  66.6  311    5     0  0.524   \n",
      "4  0.14455  12.5  396.90  19.15          27.1  96.1  311    5     0  0.524   \n",
      "\n",
      "      RM  INDUS  PTRATIO     DIS  \n",
      "0  6.998   2.18     18.7  6.0622  \n",
      "1  7.147   2.18     18.7  6.0622  \n",
      "2  6.430   2.18     18.7  6.0622  \n",
      "3  6.012   7.87     15.2  5.5605  \n",
      "4  6.172   7.87     15.2  5.9505  \n"
     ]
    },
    {
     "data": {
      "text/plain": []
     },
     "execution_count": 10,
     "metadata": {},
     "output_type": "execute_result"
    }
   ],
   "source": [
    "fr[2:7,:]  # explicitly select all columns with :"
   ]
  },
  {
   "cell_type": "markdown",
   "metadata": {},
   "source": [
    "Key attributes:\n",
    "      * columns, names, col_names\n",
    "      * len, shape, dim, nrow, ncol\n",
    "      * types\n",
    "      \n",
    "Note: \n",
    "\n",
    "Since the data is _not_ in local python memory\n",
    "there is no \"values\" attribute. If you want to \n",
    "pull all of the data into the local python memory\n",
    "then do so explicitly with h2o.export_file and\n",
    "reading the data into python memory from disk."
   ]
  },
  {
   "cell_type": "code",
   "execution_count": 11,
   "metadata": {
    "collapsed": false
   },
   "outputs": [
    {
     "name": "stdout",
     "output_type": "stream",
     "text": [
      "Columns: [u'CRIM', u'ZN', u'B', u'LSTAT', u'Median_value', u'AGE', u'TAX', u'RAD', u'CHAS', u'NOX', u'RM', u'INDUS', u'PTRATIO', u'DIS'] \n",
      "\n",
      "Columns: [u'CRIM', u'ZN', u'B', u'LSTAT', u'Median_value', u'AGE', u'TAX', u'RAD', u'CHAS', u'NOX', u'RM', u'INDUS', u'PTRATIO', u'DIS'] \n",
      "\n",
      "Columns: [u'CRIM', u'ZN', u'B', u'LSTAT', u'Median_value', u'AGE', u'TAX', u'RAD', u'CHAS', u'NOX', u'RM', u'INDUS', u'PTRATIO', u'DIS'] \n",
      "\n",
      "length: 462 \n",
      "\n",
      "shape: (462, 14) \n",
      "\n",
      "dim: [462, 14] \n",
      "\n",
      "nrow: 462 \n",
      "\n",
      "ncol: 14 \n",
      "\n",
      "types: {u'CRIM': u'Numeric', u'ZN': u'Numeric', u'B': u'Numeric', u'LSTAT': u'Numeric', u'Median_value': u'Numeric', u'AGE': u'Numeric', u'TAX': u'Numeric', u'RAD': u'Numeric', u'CHAS': u'Numeric', u'NOX': u'Numeric', u'RM': u'Numeric', u'INDUS': u'Numeric', u'PTRATIO': u'Numeric', u'DIS': u'Numeric'} \n",
      "\n"
     ]
    }
   ],
   "source": [
    "# The columns attribute is exactly like Pandas\n",
    "print \"Columns:\", fr.columns, \"\\n\"\n",
    "print \"Columns:\", fr.names, \"\\n\"\n",
    "print \"Columns:\", fr.col_names, \"\\n\"\n",
    "\n",
    "# There are a number of attributes to get at the shape\n",
    "print \"length:\", str( len(fr) ), \"\\n\"\n",
    "print \"shape:\", fr.shape, \"\\n\"\n",
    "print \"dim:\", fr.dim, \"\\n\"\n",
    "print \"nrow:\", fr.nrow, \"\\n\"\n",
    "print \"ncol:\", fr.ncol, \"\\n\"\n",
    "\n",
    "# Use the \"types\" attribute to list the column types\n",
    "print \"types:\", fr.types, \"\\n\""
   ]
  },
  {
   "cell_type": "markdown",
   "metadata": {},
   "source": [
    "Select rows based on value"
   ]
  },
  {
   "cell_type": "code",
   "execution_count": 12,
   "metadata": {
    "collapsed": false
   },
   "outputs": [
    {
     "data": {
      "text/plain": [
       "(462, 14)"
      ]
     },
     "execution_count": 12,
     "metadata": {},
     "output_type": "execute_result"
    }
   ],
   "source": [
    "fr.shape"
   ]
  },
  {
   "cell_type": "code",
   "execution_count": 13,
   "metadata": {
    "collapsed": false
   },
   "outputs": [
    {
     "data": {
      "text/plain": [
       "(155, 14)"
      ]
     },
     "execution_count": 13,
     "metadata": {},
     "output_type": "execute_result"
    }
   ],
   "source": [
    "mask = fr[\"CRIM\"]>1\n",
    "fr[mask,:].shape"
   ]
  },
  {
   "cell_type": "markdown",
   "metadata": {},
   "source": [
    "Get summary statistics of the data and additional data distribution information."
   ]
  },
  {
   "cell_type": "code",
   "execution_count": 14,
   "metadata": {
    "collapsed": false
   },
   "outputs": [
    {
     "name": "stdout",
     "output_type": "stream",
     "text": [
      "Rows: 462 Cols: 14\n",
      "  chunk_type                 chunk_name  count  count_percentage        size  \\\n",
      "0        CBS                       Bits      1          7.142858      128  B   \n",
      "1        C1N  1-Byte Integers (w/o NAs)      1          7.142858      530  B   \n",
      "2         C2            2-Byte Integers      1          7.142858      992  B   \n",
      "3        C2S           2-Byte Fractions      1          7.142858     1008  B   \n",
      "4        CUD               Unique Reals      4         28.571430      7.2 KB   \n",
      "5        C8D               64-bit Reals      6         42.857143     22.1 KB   \n",
      "\n",
      "   size_percentage  \n",
      "0         0.392710  \n",
      "1         1.626066  \n",
      "2         3.043505  \n",
      "3         3.092594  \n",
      "4        22.556300  \n",
      "5        69.288826  \n",
      "                            size  number_of_rows  number_of_chunks_per_column  \\\n",
      "0  172.16.2.78:54321     31.8 KB             462                            1   \n",
      "1               mean     31.8 KB             462                            1   \n",
      "2                min     31.8 KB             462                            1   \n",
      "3                max     31.8 KB             462                            1   \n",
      "4             stddev        0  B               0                            0   \n",
      "5              total     31.8 KB             462                            1   \n",
      "\n",
      "   number_of_chunks  \n",
      "0                14  \n",
      "1                14  \n",
      "2                14  \n",
      "3                14  \n",
      "4                 0  \n",
      "5                14  \n",
      "\n",
      "Column-by-Column Summary:\n",
      "\n"
     ]
    },
    {
     "data": {
      "text/html": [
       "<div style=\"overflow:auto\"><table style=\"width:50%\"><tr><td></td>\n",
       "<td>CRIM</td>\n",
       "<td>ZN</td>\n",
       "<td>B</td>\n",
       "<td>LSTAT</td>\n",
       "<td>Median_value</td>\n",
       "<td>AGE</td>\n",
       "<td>TAX</td>\n",
       "<td>RAD</td>\n",
       "<td>CHAS</td>\n",
       "<td>NOX</td>\n",
       "<td>RM</td>\n",
       "<td>INDUS</td>\n",
       "<td>PTRATIO</td>\n",
       "<td>DIS</td></tr>\n",
       "<tr><td>type</td>\n",
       "<td>real</td>\n",
       "<td>real</td>\n",
       "<td>real</td>\n",
       "<td>real</td>\n",
       "<td>real</td>\n",
       "<td>real</td>\n",
       "<td>int</td>\n",
       "<td>int</td>\n",
       "<td>int</td>\n",
       "<td>real</td>\n",
       "<td>real</td>\n",
       "<td>real</td>\n",
       "<td>real</td>\n",
       "<td>real</td></tr>\n",
       "<tr><td>mins</td>\n",
       "<td>0.00632</td>\n",
       "<td>0.0</td>\n",
       "<td>0.32</td>\n",
       "<td>1.73</td>\n",
       "<td>5.0</td>\n",
       "<td>6.0</td>\n",
       "<td>187.0</td>\n",
       "<td>1.0</td>\n",
       "<td>0.0</td>\n",
       "<td>0.385</td>\n",
       "<td>3.561</td>\n",
       "<td>0.46</td>\n",
       "<td>12.6</td>\n",
       "<td>1.1296</td></tr>\n",
       "<tr><td>maxs</td>\n",
       "<td>88.9762</td>\n",
       "<td>100.0</td>\n",
       "<td>396.9</td>\n",
       "<td>37.97</td>\n",
       "<td>50.0</td>\n",
       "<td>100.0</td>\n",
       "<td>711.0</td>\n",
       "<td>24.0</td>\n",
       "<td>1.0</td>\n",
       "<td>0.871</td>\n",
       "<td>8.78</td>\n",
       "<td>27.74</td>\n",
       "<td>22.0</td>\n",
       "<td>12.1265</td></tr>\n",
       "<tr><td>sigma</td>\n",
       "<td>8.68268014543</td>\n",
       "<td>23.2086423052</td>\n",
       "<td>90.7500779002</td>\n",
       "<td>7.1419482934</td>\n",
       "<td>9.21258527358</td>\n",
       "<td>27.9631409743</td>\n",
       "<td>167.460295078</td>\n",
       "<td>8.64357146773</td>\n",
       "<td>0.242812755044</td>\n",
       "<td>0.115349440715</td>\n",
       "<td>0.707139172922</td>\n",
       "<td>6.85982058776</td>\n",
       "<td>2.16522966932</td>\n",
       "<td>2.11032018051</td></tr>\n",
       "<tr><td>zero_count</td>\n",
       "<td>0</td>\n",
       "<td>343</td>\n",
       "<td>0</td>\n",
       "<td>0</td>\n",
       "<td>0</td>\n",
       "<td>0</td>\n",
       "<td>0</td>\n",
       "<td>0</td>\n",
       "<td>433</td>\n",
       "<td>0</td>\n",
       "<td>0</td>\n",
       "<td>0</td>\n",
       "<td>0</td>\n",
       "<td>0</td></tr>\n",
       "<tr><td>missing_count</td>\n",
       "<td>0</td>\n",
       "<td>0</td>\n",
       "<td>0</td>\n",
       "<td>0</td>\n",
       "<td>0</td>\n",
       "<td>0</td>\n",
       "<td>0</td>\n",
       "<td>0</td>\n",
       "<td>0</td>\n",
       "<td>0</td>\n",
       "<td>0</td>\n",
       "<td>0</td>\n",
       "<td>0</td>\n",
       "<td>0</td></tr></table></div>"
      ],
      "text/plain": [
       "               CRIM           ZN             B              LSTAT         Median_value    AGE            TAX            RAD            CHAS            NOX             RM              INDUS          PTRATIO        DIS\n",
       "-------------  -------------  -------------  -------------  ------------  --------------  -------------  -------------  -------------  --------------  --------------  --------------  -------------  -------------  -------------\n",
       "type           real           real           real           real          real            real           int            int            int             real            real            real           real           real\n",
       "mins           0.00632        0.0            0.32           1.73          5.0             6.0            187.0          1.0            0.0             0.385           3.561           0.46           12.6           1.1296\n",
       "maxs           88.9762        100.0          396.9          37.97         50.0            100.0          711.0          24.0           1.0             0.871           8.78            27.74          22.0           12.1265\n",
       "sigma          8.68268014543  23.2086423052  90.7500779002  7.1419482934  9.21258527358   27.9631409743  167.460295078  8.64357146773  0.242812755044  0.115349440715  0.707139172922  6.85982058776  2.16522966932  2.11032018051\n",
       "zero_count     0              343            0              0             0               0              0              0              433             0               0               0              0              0\n",
       "missing_count  0              0              0              0             0               0              0              0              0               0               0               0              0              0"
      ]
     },
     "metadata": {},
     "output_type": "display_data"
    }
   ],
   "source": [
    "fr.describe()"
   ]
  },
  {
   "cell_type": "markdown",
   "metadata": {},
   "source": [
    "Set up the predictor and response column names\n",
    "\n",
    "Using H2O algorithms, it's easier to reference predictor and response columns\n",
    "by name in a single frame (i.e., don't split up X and y)"
   ]
  },
  {
   "cell_type": "code",
   "execution_count": 15,
   "metadata": {
    "collapsed": false
   },
   "outputs": [],
   "source": [
    "x = fr.names\n",
    "y=\"Median_value\"\n",
    "x.remove(y)"
   ]
  },
  {
   "cell_type": "markdown",
   "metadata": {},
   "source": [
    "## Machine Learning With H2O"
   ]
  },
  {
   "cell_type": "markdown",
   "metadata": {},
   "source": [
    "H2O is a machine learning library built in Java with interfaces in Python, R, Scala, and Javascript. It is [open source](http://github.com/h2oai) and [well-documented](http://docs.h2o.ai).\n",
    "\n",
    "Unlike Scikit-learn, H2O allows for categorical and missing data.\n",
    "\n",
    "The basic work flow is as follows:\n",
    "* Fit the training data with a machine learning algorithm\n",
    "* Predict on the testing data"
   ]
  },
  {
   "cell_type": "markdown",
   "metadata": {},
   "source": [
    "### Simple model"
   ]
  },
  {
   "cell_type": "code",
   "execution_count": 16,
   "metadata": {
    "collapsed": false
   },
   "outputs": [
    {
     "name": "stdout",
     "output_type": "stream",
     "text": [
      "\n",
      "drf Model Build Progress: [##################################################] 100%\n"
     ]
    }
   ],
   "source": [
    "model = h2o.random_forest(x=fr[:400,x],y=fr[:400,y],seed=42) # Define and fit first 400 points"
   ]
  },
  {
   "cell_type": "code",
   "execution_count": 17,
   "metadata": {
    "collapsed": false
   },
   "outputs": [
    {
     "name": "stdout",
     "output_type": "stream",
     "text": [
      "H2OFrame with 62 rows and 1 columns: \n",
      "   predict\n",
      "0   12.712\n",
      "1   10.266\n",
      "2   10.480\n",
      "3   12.416\n",
      "4   10.462\n",
      "5   14.062\n",
      "6   16.392\n",
      "7   14.582\n",
      "8   14.836\n",
      "9   15.867\n"
     ]
    },
    {
     "data": {
      "text/plain": []
     },
     "execution_count": 17,
     "metadata": {},
     "output_type": "execute_result"
    }
   ],
   "source": [
    "model.predict(fr[400:,:])        # Predict the rest"
   ]
  },
  {
   "cell_type": "markdown",
   "metadata": {},
   "source": [
    "The performance of the model can be checked using the holdout dataset"
   ]
  },
  {
   "cell_type": "code",
   "execution_count": 18,
   "metadata": {
    "collapsed": false
   },
   "outputs": [
    {
     "name": "stdout",
     "output_type": "stream",
     "text": [
      "\n",
      "ModelMetricsRegression: drf\n",
      "** Reported on test data. **\n",
      "\n",
      "MSE: 14.1917271618\n",
      "R^2: 0.374431026605\n",
      "Mean Residual Deviance: 14.1917271618\n"
     ]
    },
    {
     "data": {
      "text/plain": []
     },
     "execution_count": 18,
     "metadata": {},
     "output_type": "execute_result"
    }
   ],
   "source": [
    "perf = model.model_performance(fr[400:,:])\n",
    "perf.r2()      # get the r2 on the holdout data\n",
    "perf.mse()     # get the mse on the holdout data\n",
    "perf           # display the performance object"
   ]
  },
  {
   "cell_type": "markdown",
   "metadata": {},
   "source": [
    "### Train-Test Split"
   ]
  },
  {
   "cell_type": "markdown",
   "metadata": {},
   "source": [
    "Instead of taking the first 400 observations for training, we can use H2O to create a random test train split of the data."
   ]
  },
  {
   "cell_type": "code",
   "execution_count": 19,
   "metadata": {
    "collapsed": false
   },
   "outputs": [
    {
     "name": "stdout",
     "output_type": "stream",
     "text": [
      "\n",
      "drf Model Build Progress: [##################################################] 100%\n"
     ]
    },
    {
     "data": {
      "text/plain": [
       "0.8542968512013444"
      ]
     },
     "execution_count": 19,
     "metadata": {},
     "output_type": "execute_result"
    }
   ],
   "source": [
    "r = fr.runif(seed=12345)   # build random uniform column over [0,1]\n",
    "train= fr[r<0.75,:]     # perform a 75-25 split\n",
    "test = fr[r>=0.75,:]\n",
    "\n",
    "model = h2o.random_forest(x=train[x],y=train[y],seed=42)\n",
    "\n",
    "perf = model.model_performance(test)\n",
    "perf.r2()"
   ]
  },
  {
   "cell_type": "markdown",
   "metadata": {},
   "source": [
    "There was a massive jump in the R^2 value. This is because the original data is not shuffled."
   ]
  },
  {
   "cell_type": "markdown",
   "metadata": {},
   "source": [
    "### Cross validation"
   ]
  },
  {
   "cell_type": "markdown",
   "metadata": {},
   "source": [
    "H2O's machine learning algorithms take an optional parameter **nfolds** to specify the number of cross-validation folds to build. H2O's cross-validation uses an internal weight vector to build the folds in an efficient manner (instead of physically building the splits)."
   ]
  },
  {
   "cell_type": "markdown",
   "metadata": {},
   "source": [
    "In conjunction with the **nfolds** parameter, a user may specify the way in which observations are assigned to each fold with the **fold_assignment** parameter, which can be set to either:\n",
    "        * AUTO:  Perform random assignment\n",
    "        * Random: Each row has a equal (1/nfolds) chance of being in any fold.\n",
    "        * Modulo: Observations are in/out of the fold based by modding on nfolds"
   ]
  },
  {
   "cell_type": "code",
   "execution_count": 20,
   "metadata": {
    "collapsed": false
   },
   "outputs": [
    {
     "name": "stdout",
     "output_type": "stream",
     "text": [
      "\n",
      "drf Model Build Progress: [##################################################] 100%\n"
     ]
    }
   ],
   "source": [
    "model = h2o.random_forest(x=fr[x],y=fr[y], nfolds=10) # build a 10-fold cross-validated model"
   ]
  },
  {
   "cell_type": "code",
   "execution_count": 21,
   "metadata": {
    "collapsed": false
   },
   "outputs": [
    {
     "name": "stdout",
     "output_type": "stream",
     "text": [
      "Expected R^2: 0.87 +/- 0.02 \n",
      "\n",
      "Scores: [ 0.88  0.88  0.86  0.89  0.87  0.88  0.85  0.88  0.88  0.87]\n"
     ]
    }
   ],
   "source": [
    "scores = numpy.array([m.r2() for m in model.xvals]) # iterate over the xval models using the xvals attribute\n",
    "print \"Expected R^2: %.2f +/- %.2f \\n\" % (scores.mean(), scores.std()*1.96)\n",
    "print \"Scores:\", scores.round(2)"
   ]
  },
  {
   "cell_type": "markdown",
   "metadata": {},
   "source": [
    "However, you can still make use of the cross_val_score from Scikit-Learn"
   ]
  },
  {
   "cell_type": "markdown",
   "metadata": {},
   "source": [
    "### Cross validation: H2O and Scikit-Learn"
   ]
  },
  {
   "cell_type": "code",
   "execution_count": 22,
   "metadata": {
    "collapsed": false
   },
   "outputs": [],
   "source": [
    "from sklearn.cross_validation import cross_val_score\n",
    "from h2o.cross_validation import H2OKFold\n",
    "from h2o.estimators.random_forest import H2ORandomForestEstimator\n",
    "from h2o.model.regression import h2o_r2_score\n",
    "from sklearn.metrics.scorer import make_scorer"
   ]
  },
  {
   "cell_type": "markdown",
   "metadata": {},
   "source": [
    "You still must use H2O to make the folds. Currently, there is no H2OStratifiedKFold. Additionally, the H2ORandomForestEstimator is analgous to the scikit-learn RandomForestRegressor object with its own ``fit`` method"
   ]
  },
  {
   "cell_type": "code",
   "execution_count": 23,
   "metadata": {
    "collapsed": true
   },
   "outputs": [],
   "source": [
    "model = H2ORandomForestEstimator(seed=42)"
   ]
  },
  {
   "cell_type": "code",
   "execution_count": 24,
   "metadata": {
    "collapsed": false
   },
   "outputs": [
    {
     "name": "stdout",
     "output_type": "stream",
     "text": [
      "\n",
      "drf Model Build Progress: [##################################################] 100%\n",
      "\n",
      "drf Model Build Progress: [##################################################] 100%\n",
      "\n",
      "drf Model Build Progress: [##################################################] 100%\n",
      "\n",
      "drf Model Build Progress: [##################################################] 100%\n",
      "\n",
      "drf Model Build Progress: [##################################################] 100%\n",
      "\n",
      "drf Model Build Progress: [##################################################] 100%\n",
      "\n",
      "drf Model Build Progress: [##################################################] 100%\n",
      "\n",
      "drf Model Build Progress: [##################################################] 100%\n",
      "\n",
      "drf Model Build Progress: [##################################################] 100%\n",
      "\n",
      "drf Model Build Progress: [##################################################] 100%\n",
      "Expected R^2: 0.87 +/- 0.11 \n",
      "\n",
      "Scores: [ 0.81  0.85  0.88  0.95  0.75  0.83  0.88  0.92  0.89  0.91]\n"
     ]
    }
   ],
   "source": [
    "scorer = make_scorer(h2o_r2_score)   # make h2o_r2_score into a scikit_learn scorer\n",
    "custom_cv = H2OKFold(fr, n_folds=10, seed=42) # make a cv \n",
    "scores = cross_val_score(model, fr[x], fr[y], scoring=scorer, cv=custom_cv)\n",
    "\n",
    "print \"Expected R^2: %.2f +/- %.2f \\n\" % (scores.mean(), scores.std()*1.96)\n",
    "print \"Scores:\", scores.round(2)"
   ]
  },
  {
   "cell_type": "markdown",
   "metadata": {},
   "source": [
    "There isn't much difference in the R^2 value since the fold strategy is exactly the same. However, there was a major difference in terms of computation time and memory usage."
   ]
  },
  {
   "cell_type": "markdown",
   "metadata": {},
   "source": [
    "Since the progress bar print out gets annoying let's disable that"
   ]
  },
  {
   "cell_type": "code",
   "execution_count": 25,
   "metadata": {
    "collapsed": false
   },
   "outputs": [],
   "source": [
    "h2o.__PROGRESS_BAR__=False\n",
    "h2o.no_progress()"
   ]
  },
  {
   "cell_type": "markdown",
   "metadata": {},
   "source": [
    "### Grid Search"
   ]
  },
  {
   "cell_type": "markdown",
   "metadata": {},
   "source": [
    "Grid search in H2O is still under active development and it will be available very soon. However, it is possible to make use of Scikit's grid search infrastructure (with some performance penalties)"
   ]
  },
  {
   "cell_type": "markdown",
   "metadata": {},
   "source": [
    "### Randomized grid search: H2O and Scikit-Learn"
   ]
  },
  {
   "cell_type": "code",
   "execution_count": 26,
   "metadata": {
    "collapsed": false
   },
   "outputs": [
    {
     "name": "stdout",
     "output_type": "stream",
     "text": [
      "0.17.dev0\n"
     ]
    }
   ],
   "source": [
    "from sklearn import __version__\n",
    "sklearn_version = __version__\n",
    "print sklearn_version"
   ]
  },
  {
   "cell_type": "markdown",
   "metadata": {},
   "source": [
    "If you have 0.16.1, then your system can't handle complex randomized grid searches (it works in every other version of sklearn, including the soon to be released 0.16.2 and the older versions).\n",
    "\n",
    "The steps to perform a randomized grid search:\n",
    "1. Import model and RandomizedSearchCV\n",
    "2. Define model\n",
    "3. Specify parameters to test\n",
    "4. Define grid search object\n",
    "5. Fit data to grid search object\n",
    "6. Collect scores\n",
    "\n",
    "All the steps will be repeated from above.\n",
    "\n",
    "Because 0.16.1 is installed, we use scipy to define specific distributions"
   ]
  },
  {
   "cell_type": "markdown",
   "metadata": {},
   "source": [
    "ADVANCED TIP:\n",
    "\n",
    "Turn off reference counting for spawning jobs in parallel (n_jobs=-1, or n_jobs > 1).\n",
    "We'll turn it back on again in the aftermath of a Parallel job.\n",
    "\n",
    "If you don't want to run jobs in parallel, don't turn off the reference counting.\n",
    "\n",
    "Pattern is:\n",
    "         >>> h2o.turn_off_ref_cnts()\n",
    "         >>> .... parallel job ....\n",
    "         >>> h2o.turn_on_ref_cnts()"
   ]
  },
  {
   "cell_type": "code",
   "execution_count": 27,
   "metadata": {
    "collapsed": true
   },
   "outputs": [],
   "source": [
    "h2o.turn_off_ref_cnts()"
   ]
  },
  {
   "cell_type": "code",
   "execution_count": 28,
   "metadata": {
    "collapsed": false
   },
   "outputs": [
    {
     "name": "stdout",
     "output_type": "stream",
     "text": [
      "Best R^2: 0.843357120484 \n",
      "\n",
      "Best params: {'mtries': 4, 'ntrees': 31, 'min_rows': 3, 'max_depth': 8}\n",
      "CPU times: user 786 ms, sys: 137 ms, total: 923 ms\n",
      "Wall time: 30.6 s\n"
     ]
    }
   ],
   "source": [
    "%%time\n",
    "from h2o.estimators.random_forest import H2ORandomForestEstimator  # Import model\n",
    "from sklearn.grid_search import RandomizedSearchCV  # Import grid search\n",
    "from scipy.stats import randint, uniform\n",
    "\n",
    "model = H2ORandomForestEstimator(seed=42)        # Define model\n",
    "\n",
    "params = {\"ntrees\": randint(20,50),\n",
    "          \"max_depth\": randint(1,10),\n",
    "          \"min_rows\": randint(1,10),    # scikit's  min_samples_leaf\n",
    "          \"mtries\": randint(2,fr[x].shape[1]),} # Specify parameters to test\n",
    "\n",
    "scorer = make_scorer(h2o_r2_score)   # make h2o_r2_score into a scikit_learn scorer\n",
    "custom_cv = H2OKFold(fr, n_folds=10, seed=42) # make a cv \n",
    "random_search = RandomizedSearchCV(model, params, \n",
    "                                   n_iter=30, \n",
    "                                   scoring=scorer, \n",
    "                                   cv=custom_cv, \n",
    "                                   random_state=42,\n",
    "                                   n_jobs=-1)       # Define grid search object, launch jobs in parallel\n",
    "\n",
    "random_search.fit(fr[x], fr[y])\n",
    "\n",
    "print \"Best R^2:\", random_search.best_score_, \"\\n\"\n",
    "print \"Best params:\", random_search.best_params_"
   ]
  },
  {
   "cell_type": "markdown",
   "metadata": {},
   "source": [
    "We turn reference counting back on, removing any truly dead H2OFrame instances"
   ]
  },
  {
   "cell_type": "code",
   "execution_count": 32,
   "metadata": {
    "collapsed": true
   },
   "outputs": [],
   "source": [
    "h2o.turn_on_ref_cnts()"
   ]
  },
  {
   "cell_type": "markdown",
   "metadata": {},
   "source": [
    "We might be tempted to think that we just had a large improvement; however we must be cautious. The function below creates a more detailed report."
   ]
  },
  {
   "cell_type": "code",
   "execution_count": 33,
   "metadata": {
    "collapsed": true
   },
   "outputs": [],
   "source": [
    "def report_grid_score_detail(random_search, charts=True):\n",
    "    \"\"\"Input fit grid search estimator. Returns df of scores with details\"\"\"\n",
    "    df_list = []\n",
    "\n",
    "    for line in random_search.grid_scores_:\n",
    "        results_dict = dict(line.parameters)\n",
    "        results_dict[\"score\"] = line.mean_validation_score\n",
    "        results_dict[\"std\"] = line.cv_validation_scores.std()*1.96\n",
    "        df_list.append(results_dict)\n",
    "\n",
    "    result_df = pd.DataFrame(df_list)\n",
    "    result_df = result_df.sort(\"score\", ascending=False)\n",
    "    \n",
    "    if charts:\n",
    "        for col in get_numeric(result_df):\n",
    "            if col not in [\"score\", \"std\"]:\n",
    "                plt.scatter(result_df[col], result_df.score)\n",
    "                plt.title(col)\n",
    "                plt.show()\n",
    "\n",
    "        for col in list(result_df.columns[result_df.dtypes == \"object\"]):\n",
    "            cat_plot = result_df.score.groupby(result_df[col]).mean()\n",
    "            cat_plot.sort()\n",
    "            cat_plot.plot(kind=\"barh\", xlim=(.5, None), figsize=(7, cat_plot.shape[0]/2))\n",
    "            plt.show()\n",
    "    return result_df\n",
    "\n",
    "def get_numeric(X):\n",
    "    \"\"\"Return list of numeric dtypes variables\"\"\"\n",
    "    return X.dtypes[X.dtypes.apply(lambda x: str(x).startswith((\"float\", \"int\", \"bool\")))].index.tolist()"
   ]
  },
  {
   "cell_type": "code",
   "execution_count": 34,
   "metadata": {
    "collapsed": false,
    "scrolled": true
   },
   "outputs": [
    {
     "data": {
      "image/png": "[encoded data removed]",
      "text/plain": [
       "<matplotlib.figure.Figure at 0x108db4990>"
      ]
     },
     "metadata": {},
     "output_type": "display_data"
    },
    {
     "data": {
      "image/png": "[encoded data removed]",
      "text/plain": [
       "<matplotlib.figure.Figure at 0x108effe10>"
      ]
     },
     "metadata": {},
     "output_type": "display_data"
    },
    {
     "data": {
      "image/png": "[encoded data removed]",
      "text/plain": [
       "<matplotlib.figure.Figure at 0x109014b10>"
      ]
     },
     "metadata": {},
     "output_type": "display_data"
    },
    {
     "data": {
      "image/png": "[encoded data removed]",
      "text/plain": [
       "<matplotlib.figure.Figure at 0x109141490>"
      ]
     },
     "metadata": {},
     "output_type": "display_data"
    },
    {
     "data": {
      "text/html": [
       "<div style=\"max-height:1000px;max-width:1500px;overflow:auto;\">\n",
       "<table border=\"1\" class=\"dataframe\">\n",
       "  <thead>\n",
       "    <tr style=\"text-align: right;\">\n",
       "      <th></th>\n",
       "      <th>max_depth</th>\n",
       "      <th>min_rows</th>\n",
       "      <th>mtries</th>\n",
       "      <th>ntrees</th>\n",
       "      <th>score</th>\n",
       "      <th>std</th>\n",
       "    </tr>\n",
       "  </thead>\n",
       "  <tbody>\n",
       "    <tr>\n",
       "      <th>9</th>\n",
       "      <td>8</td>\n",
       "      <td>3</td>\n",
       "      <td>4</td>\n",
       "      <td>31</td>\n",
       "      <td>0.843357</td>\n",
       "      <td>0.128993</td>\n",
       "    </tr>\n",
       "    <tr>\n",
       "      <th>14</th>\n",
       "      <td>4</td>\n",
       "      <td>1</td>\n",
       "      <td>6</td>\n",
       "      <td>48</td>\n",
       "      <td>0.825926</td>\n",
       "      <td>0.132032</td>\n",
       "    </tr>\n",
       "    <tr>\n",
       "      <th>4</th>\n",
       "      <td>7</td>\n",
       "      <td>4</td>\n",
       "      <td>5</td>\n",
       "      <td>41</td>\n",
       "      <td>0.820968</td>\n",
       "      <td>0.165037</td>\n",
       "    </tr>\n",
       "    <tr>\n",
       "      <th>22</th>\n",
       "      <td>8</td>\n",
       "      <td>4</td>\n",
       "      <td>7</td>\n",
       "      <td>29</td>\n",
       "      <td>0.818101</td>\n",
       "      <td>0.156266</td>\n",
       "    </tr>\n",
       "    <tr>\n",
       "      <th>13</th>\n",
       "      <td>6</td>\n",
       "      <td>4</td>\n",
       "      <td>9</td>\n",
       "      <td>21</td>\n",
       "      <td>0.811263</td>\n",
       "      <td>0.170343</td>\n",
       "    </tr>\n",
       "  </tbody>\n",
       "</table>\n",
       "</div>"
      ],
      "text/plain": [
       "    max_depth  min_rows  mtries  ntrees     score       std\n",
       "9           8         3       4      31  0.843357  0.128993\n",
       "14          4         1       6      48  0.825926  0.132032\n",
       "4           7         4       5      41  0.820968  0.165037\n",
       "22          8         4       7      29  0.818101  0.156266\n",
       "13          6         4       9      21  0.811263  0.170343"
      ]
     },
     "execution_count": 34,
     "metadata": {},
     "output_type": "execute_result"
    }
   ],
   "source": [
    "report_grid_score_detail(random_search).head()"
   ]
  },
  {
   "cell_type": "markdown",
   "metadata": {},
   "source": [
    "Based on the grid search report, we can narrow the parameters to search and rerun the analysis. The parameters below were chosen after a few runs:"
   ]
  },
  {
   "cell_type": "code",
   "execution_count": 35,
   "metadata": {
    "collapsed": true
   },
   "outputs": [],
   "source": [
    "h2o.turn_off_ref_cnts()"
   ]
  },
  {
   "cell_type": "code",
   "execution_count": 36,
   "metadata": {
    "collapsed": false,
    "scrolled": true
   },
   "outputs": [
    {
     "name": "stdout",
     "output_type": "stream",
     "text": [
      "Best R^2: 0.864165895681 \n",
      "\n",
      "Best params: {'mtries': 8, 'ntrees': 35, 'max_depth': 9}\n"
     ]
    },
    {
     "data": {
      "image/png": "[encoded data removed]",
      "text/plain": [
       "<matplotlib.figure.Figure at 0x10904e810>"
      ]
     },
     "metadata": {},
     "output_type": "display_data"
    },
    {
     "data": {
      "image/png": "[encoded data removed]",
      "text/plain": [
       "<matplotlib.figure.Figure at 0x109151810>"
      ]
     },
     "metadata": {},
     "output_type": "display_data"
    },
    {
     "data": {
      "image/png": "[encoded data removed]",
      "text/plain": [
       "<matplotlib.figure.Figure at 0x1094a5a90>"
      ]
     },
     "metadata": {},
     "output_type": "display_data"
    },
    {
     "name": "stdout",
     "output_type": "stream",
     "text": [
      "CPU times: user 7.38 s, sys: 894 ms, total: 8.27 s\n",
      "Wall time: 30.8 s\n"
     ]
    }
   ],
   "source": [
    "%%time\n",
    "\n",
    "params = {\"ntrees\": randint(30,40),\n",
    "          \"max_depth\": randint(4,10),\n",
    "          \"mtries\": randint(4,10),}\n",
    "\n",
    "custom_cv = H2OKFold(fr, n_folds=5, seed=42)           # In small datasets, the fold size can have a big\n",
    "                                                       # impact on the std of the resulting scores. More\n",
    "random_search = RandomizedSearchCV(model, params,      # folds --> Less examples per fold --> higher \n",
    "                                   n_iter=10,          # variation per sample\n",
    "                                   scoring=scorer, \n",
    "                                   cv=custom_cv, \n",
    "                                   random_state=43, \n",
    "                                   n_jobs=1)       \n",
    "\n",
    "random_search.fit(fr[x], fr[y])\n",
    "\n",
    "print \"Best R^2:\", random_search.best_score_, \"\\n\"\n",
    "print \"Best params:\", random_search.best_params_\n",
    "\n",
    "report_grid_score_detail(random_search)"
   ]
  },
  {
   "cell_type": "code",
   "execution_count": 37,
   "metadata": {
    "collapsed": true
   },
   "outputs": [],
   "source": [
    "h2o.turn_on_ref_cnts()"
   ]
  },
  {
   "cell_type": "markdown",
   "metadata": {},
   "source": [
    "### Transformations"
   ]
  },
  {
   "cell_type": "markdown",
   "metadata": {},
   "source": [
    "Rule of machine learning: Don't use your testing data to inform your training data. Unfortunately, this happens all the time when preparing a dataset for the final model. But on smaller datasets, you must be especially careful."
   ]
  },
  {
   "cell_type": "markdown",
   "metadata": {},
   "source": [
    "At the moment, there are no classes for managing data transformations. On the one hand, this requires the user to tote around some extra state, but on the other, it allows the user to be more explicit about transforming H2OFrames.\n",
    "\n",
    "Basic steps:\n",
    "\n",
    "0. Remove the response variable from transformations.\n",
    "1. Import transformer\n",
    "2. Define transformer\n",
    "3. Fit train data to transformer\n",
    "4. Transform test and train data\n",
    "5. Re-attach the response variable."
   ]
  },
  {
   "cell_type": "markdown",
   "metadata": {},
   "source": [
    "First let's normalize the data using the means and standard deviations of the training data.\n",
    "Then let's perform a principal component analysis on the training data and select the top 5 components.\n",
    "Using these components, let's use them to reduce the train and test design matrices."
   ]
  },
  {
   "cell_type": "code",
   "execution_count": 38,
   "metadata": {
    "collapsed": false
   },
   "outputs": [],
   "source": [
    "from h2o.transforms.preprocessing import H2OScaler\n",
    "from h2o.transforms.decomposition import H2OPCA"
   ]
  },
  {
   "cell_type": "markdown",
   "metadata": {},
   "source": [
    "#### Normalize Data: Use the means and standard deviations from the training data."
   ]
  },
  {
   "cell_type": "code",
   "execution_count": 39,
   "metadata": {
    "collapsed": true
   },
   "outputs": [],
   "source": [
    "y_train = train.pop(\"Median_value\")\n",
    "y_test  = test.pop(\"Median_value\")"
   ]
  },
  {
   "cell_type": "code",
   "execution_count": 40,
   "metadata": {
    "collapsed": true
   },
   "outputs": [],
   "source": [
    "norm = H2OScaler()\n",
    "norm.fit(train)\n",
    "X_train_norm = norm.transform(train)\n",
    "X_test_norm  = norm.transform(test)"
   ]
  },
  {
   "cell_type": "code",
   "execution_count": 41,
   "metadata": {
    "collapsed": false
   },
   "outputs": [
    {
     "name": "stdout",
     "output_type": "stream",
     "text": [
      "(122, 13)\n",
      "H2OFrame with 122 rows and 13 columns: \n",
      "       CRIM        ZN         B     LSTAT       AGE       TAX       RAD  CHAS  \\\n",
      "0 -0.259555 -0.036915  1.073152  0.312832  0.698712  0.482718 -0.663929     0   \n",
      "1 -0.246963  0.424524  1.045172  2.090121  1.362634  0.679791 -0.442619     0   \n",
      "2 -0.255267  0.424524  1.073152  0.886477  1.114751  0.679791 -0.442619     0   \n",
      "3 -0.257365  0.424524  1.055715  1.062761  0.478372  0.679791 -0.442619     0   \n",
      "4 -0.209900 -0.036915  1.073152  0.524517  0.808883  0.670933 -0.553274     0   \n",
      "5 -0.156526 -0.036915  1.073152  1.280226  1.242316  0.670933 -0.553274     0   \n",
      "6 -0.199229 -0.036915  1.066150  1.105387  1.277107  0.670933 -0.553274     0   \n",
      "7 -0.197216 -0.036915  1.048741  0.852521  1.281456  0.670933 -0.553274     0   \n",
      "8 -0.122844 -0.036915  0.668329  1.397267  1.317696  0.670933 -0.553274     0   \n",
      "9 -0.250168 -0.036915  1.063698  0.659620  0.350806  0.608933 -0.442619     0   \n",
      "\n",
      "        NOX        RM     INDUS   PTRATIO       DIS  \n",
      "0  0.804906  1.636441  0.100278  0.992694  1.317617  \n",
      "1  0.920897 -0.526458  0.583824  0.796398  1.326180  \n",
      "2  0.920897  0.012840  0.583824  0.796398  1.388399  \n",
      "3  0.920897 -0.158365  0.583824  0.796398  1.054584  \n",
      "4  0.945501 -0.072762  0.606769  1.121688  0.734711  \n",
      "5  0.945501  0.202593  0.606769  1.121688  0.420345  \n",
      "6  0.945501 -0.108430  0.606769  1.121688  0.602226  \n",
      "7  0.945501  0.706223  0.606769  1.121688  0.625935  \n",
      "8  0.945501  0.136965  0.606769  1.121688  0.326930  \n",
      "9  0.876961 -0.048508  0.421509  1.020736  0.364580  \n"
     ]
    },
    {
     "data": {
      "text/plain": []
     },
     "execution_count": 41,
     "metadata": {},
     "output_type": "execute_result"
    }
   ],
   "source": [
    "print X_test_norm.shape\n",
    "X_test_norm"
   ]
  },
  {
   "cell_type": "markdown",
   "metadata": {},
   "source": [
    "Then, we can apply PCA and keep the top 5 components."
   ]
  },
  {
   "cell_type": "code",
   "execution_count": 42,
   "metadata": {
    "collapsed": true
   },
   "outputs": [],
   "source": [
    "pca = H2OPCA(n_components=5)\n",
    "pca.fit(X_train_norm)\n",
    "X_train_norm_pca = pca.transform(X_train_norm)\n",
    "X_test_norm_pca  = pca.transform(X_test_norm)"
   ]
  },
  {
   "cell_type": "code",
   "execution_count": 43,
   "metadata": {
    "collapsed": true
   },
   "outputs": [],
   "source": [
    "# prop of variance explained by top 5 components?"
   ]
  },
  {
   "cell_type": "code",
   "execution_count": 44,
   "metadata": {
    "collapsed": false
   },
   "outputs": [
    {
     "name": "stdout",
     "output_type": "stream",
     "text": [
      "(122, 5)\n",
      "H2OFrame with 122 rows and 5 columns: \n",
      "        PC1       PC2       PC3       PC4       PC5\n",
      "0  1.863513  1.713534 -0.098659 -0.124211 -0.758541\n",
      "1  2.775730  0.683315  0.570631  1.084322  0.985525\n",
      "2  2.333266  1.074568  0.415494  0.574300  0.492448\n",
      "3  2.109439  0.878256  0.403082  0.640434  0.580968\n",
      "4  2.108793  0.672244  0.035683  0.791810  0.210145\n",
      "5  2.545885  0.464734 -0.080608  0.846926 -0.042859\n",
      "6  2.471061  0.484356  0.006282  0.972984  0.213101\n",
      "7  2.469073  0.796570 -0.154455  0.528450 -0.386083\n",
      "8  2.457931  0.292708 -0.076225  0.862258 -0.018897\n",
      "9  1.810514  0.509740 -0.027855  0.716504  0.125152\n"
     ]
    },
    {
     "data": {
      "text/plain": []
     },
     "execution_count": 44,
     "metadata": {},
     "output_type": "execute_result"
    }
   ],
   "source": [
    "print X_test_norm_pca.shape\n",
    "X_test_norm_pca[:5]"
   ]
  },
  {
   "cell_type": "code",
   "execution_count": 45,
   "metadata": {
    "collapsed": false
   },
   "outputs": [],
   "source": [
    "model = H2ORandomForestEstimator(seed=42)\n",
    "model.fit(X_train_norm_pca,y_train)\n",
    "y_hat  = model.predict(X_test_norm_pca)"
   ]
  },
  {
   "cell_type": "code",
   "execution_count": 46,
   "metadata": {
    "collapsed": false
   },
   "outputs": [
    {
     "data": {
      "text/plain": [
       "0.6970713453770999"
      ]
     },
     "execution_count": 46,
     "metadata": {},
     "output_type": "execute_result"
    }
   ],
   "source": [
    "h2o_r2_score(y_test,y_hat)"
   ]
  },
  {
   "cell_type": "markdown",
   "metadata": {},
   "source": [
    "Although this is MUCH simpler than keeping track of all of these transformations manually, it gets to be somewhat of a burden when you want to chain together multiple transformers."
   ]
  },
  {
   "cell_type": "markdown",
   "metadata": {},
   "source": [
    "### Pipelines"
   ]
  },
  {
   "cell_type": "markdown",
   "metadata": {},
   "source": [
    "\"Tranformers unite!\"\n",
    "\n",
    "If your raw data is a mess and you have to perform several transformations before using it, use a pipeline to keep things simple.\n",
    "\n",
    "Steps:\n",
    "\n",
    "1. Import Pipeline, transformers, and model\n",
    "2. Define pipeline. The first and only argument is a *list* of *tuples* where the first element of each tuple is a name you give the step and the second element is a defined transformer. The last step is optionally an estimator class (like a RandomForest).\n",
    "3. Fit the training data to pipeline\n",
    "4. Either transform or predict the testing data"
   ]
  },
  {
   "cell_type": "code",
   "execution_count": 47,
   "metadata": {
    "collapsed": true
   },
   "outputs": [],
   "source": [
    "from h2o.transforms.preprocessing import H2OScaler\n",
    "from h2o.transforms.decomposition import H2OPCA\n",
    "from h2o.estimators.random_forest import H2ORandomForestEstimator"
   ]
  },
  {
   "cell_type": "code",
   "execution_count": 48,
   "metadata": {
    "collapsed": false
   },
   "outputs": [
    {
     "data": {
      "text/plain": [
       "0.6970713453770999"
      ]
     },
     "execution_count": 48,
     "metadata": {},
     "output_type": "execute_result"
    }
   ],
   "source": [
    "from sklearn.pipeline import Pipeline                # Import Pipeline <other imports not shown>\n",
    "model = H2ORandomForestEstimator(seed=42)\n",
    "pipe = Pipeline([(\"standardize\", H2OScaler()),       # Define pipeline as a series of steps\n",
    "                 (\"pca\", H2OPCA(n_components=5)),\n",
    "                 (\"rf\", model)])                     # Notice the last step is an estimator\n",
    "\n",
    "pipe.fit(train, y_train)                             # Fit training data\n",
    "y_hat = pipe.predict(test)                           # Predict testing data (due to last step being an estimator)\n",
    "h2o_r2_score(y_test, y_hat)                          # Notice the final score is identical to before"
   ]
  },
  {
   "cell_type": "markdown",
   "metadata": {
    "collapsed": true
   },
   "source": [
    "This is so much easier!!!"
   ]
  },
  {
   "cell_type": "markdown",
   "metadata": {},
   "source": [
    "But, wait a second, we did worse after applying these transformations! We might wonder how different hyperparameters for the transformations impact the final score."
   ]
  },
  {
   "cell_type": "markdown",
   "metadata": {},
   "source": [
    "### Combining randomized grid search and pipelines\n",
    "\"Yo dawg, I heard you like models, so I put models in your models to model models.\"\n",
    "\n",
    "Steps:\n",
    "\n",
    "1. Import Pipeline, grid search, transformers, and estimators <Not shown below>\n",
    "2. Define pipeline\n",
    "3. Define parameters to test in the form: \"(Step name)__(argument name)\" A double underscore separates the two words.\n",
    "4. Define grid search\n",
    "5. Fit to grid search"
   ]
  },
  {
   "cell_type": "code",
   "execution_count": 57,
   "metadata": {
    "collapsed": true
   },
   "outputs": [],
   "source": [
    "h2o.turn_off_ref_cnts()"
   ]
  },
  {
   "cell_type": "code",
   "execution_count": 60,
   "metadata": {
    "collapsed": false,
    "scrolled": true
   },
   "outputs": [
    {
     "data": {
      "image/png": "[encoded data removed]",
      "text/plain": [
       "<matplotlib.figure.Figure at 0x108f3da10>"
      ]
     },
     "metadata": {},
     "output_type": "display_data"
    },
    {
     "data": {
      "image/png": "[encoded data removed]",
      "text/plain": [
       "<matplotlib.figure.Figure at 0x1093adad0>"
      ]
     },
     "metadata": {},
     "output_type": "display_data"
    },
    {
     "data": {
      "image/png": "[encoded data removed]",
      "text/plain": [
       "<matplotlib.figure.Figure at 0x10949b0d0>"
      ]
     },
     "metadata": {},
     "output_type": "display_data"
    },
    {
     "data": {
      "image/png": "[encoded data removed]",
      "text/plain": [
       "<matplotlib.figure.Figure at 0x108db8e10>"
      ]
     },
     "metadata": {},
     "output_type": "display_data"
    },
    {
     "data": {
      "image/png": "[encoded data removed]",
      "text/plain": [
       "<matplotlib.figure.Figure at 0x10905e510>"
      ]
     },
     "metadata": {},
     "output_type": "display_data"
    },
    {
     "data": {
      "image/png": "[encoded data removed]",
      "text/plain": [
       "<matplotlib.figure.Figure at 0x1093103d0>"
      ]
     },
     "metadata": {},
     "output_type": "display_data"
    },
    {
     "data": {
      "text/html": [
       "<div style=\"max-height:1000px;max-width:1500px;overflow:auto;\">\n",
       "<table border=\"1\" class=\"dataframe\">\n",
       "  <thead>\n",
       "    <tr style=\"text-align: right;\">\n",
       "      <th></th>\n",
       "      <th>pca__n_components</th>\n",
       "      <th>rf__max_depth</th>\n",
       "      <th>rf__min_rows</th>\n",
       "      <th>rf__ntrees</th>\n",
       "      <th>score</th>\n",
       "      <th>standardize__center</th>\n",
       "      <th>standardize__scale</th>\n",
       "      <th>std</th>\n",
       "    </tr>\n",
       "  </thead>\n",
       "  <tbody>\n",
       "    <tr>\n",
       "      <th>19</th>\n",
       "      <td>5</td>\n",
       "      <td>8</td>\n",
       "      <td>6</td>\n",
       "      <td>69</td>\n",
       "      <td>0.601171</td>\n",
       "      <td>True</td>\n",
       "      <td>True</td>\n",
       "      <td>0.183251</td>\n",
       "    </tr>\n",
       "    <tr>\n",
       "      <th>6</th>\n",
       "      <td>4</td>\n",
       "      <td>8</td>\n",
       "      <td>5</td>\n",
       "      <td>60</td>\n",
       "      <td>0.570843</td>\n",
       "      <td>True</td>\n",
       "      <td>True</td>\n",
       "      <td>0.236394</td>\n",
       "    </tr>\n",
       "    <tr>\n",
       "      <th>15</th>\n",
       "      <td>5</td>\n",
       "      <td>8</td>\n",
       "      <td>9</td>\n",
       "      <td>64</td>\n",
       "      <td>0.568008</td>\n",
       "      <td>True</td>\n",
       "      <td>True</td>\n",
       "      <td>0.182305</td>\n",
       "    </tr>\n",
       "    <tr>\n",
       "      <th>29</th>\n",
       "      <td>4</td>\n",
       "      <td>7</td>\n",
       "      <td>6</td>\n",
       "      <td>60</td>\n",
       "      <td>0.555952</td>\n",
       "      <td>True</td>\n",
       "      <td>True</td>\n",
       "      <td>0.231963</td>\n",
       "    </tr>\n",
       "    <tr>\n",
       "      <th>1</th>\n",
       "      <td>5</td>\n",
       "      <td>5</td>\n",
       "      <td>9</td>\n",
       "      <td>51</td>\n",
       "      <td>0.554421</td>\n",
       "      <td>True</td>\n",
       "      <td>True</td>\n",
       "      <td>0.191281</td>\n",
       "    </tr>\n",
       "  </tbody>\n",
       "</table>\n",
       "</div>"
      ],
      "text/plain": [
       "    pca__n_components  rf__max_depth  rf__min_rows  rf__ntrees     score  \\\n",
       "19                  5              8             6          69  0.601171   \n",
       "6                   4              8             5          60  0.570843   \n",
       "15                  5              8             9          64  0.568008   \n",
       "29                  4              7             6          60  0.555952   \n",
       "1                   5              5             9          51  0.554421   \n",
       "\n",
       "   standardize__center standardize__scale       std  \n",
       "19                True               True  0.183251  \n",
       "6                 True               True  0.236394  \n",
       "15                True               True  0.182305  \n",
       "29                True               True  0.231963  \n",
       "1                 True               True  0.191281  "
      ]
     },
     "execution_count": 60,
     "metadata": {},
     "output_type": "execute_result"
    }
   ],
   "source": [
    "pipe = Pipeline([(\"standardize\", H2OScaler()),\n",
    "                 (\"pca\", H2OPCA()),\n",
    "                 (\"rf\", H2ORandomForestEstimator(seed=42))])\n",
    "\n",
    "params = {\"standardize__center\":    [True, False],           # Parameters to test\n",
    "          \"standardize__scale\":     [True, False],\n",
    "          \"pca__n_components\":      randint(2, 6),\n",
    "          \"rf__ntrees\":             randint(50,80),\n",
    "          \"rf__max_depth\":          randint(4,10),\n",
    "          \"rf__min_rows\":           randint(5,10), }\n",
    "#           \"rf__mtries\":             randint(1,4),}           # gridding over mtries is \n",
    "                                                               # problematic with pca grid over \n",
    "                                                               # n_components above \n",
    "\n",
    "from sklearn.grid_search import RandomizedSearchCV\n",
    "from h2o.cross_validation import H2OKFold\n",
    "from h2o.model.regression import h2o_r2_score\n",
    "from sklearn.metrics.scorer import make_scorer\n",
    "\n",
    "custom_cv = H2OKFold(fr, n_folds=5, seed=42)\n",
    "random_search = RandomizedSearchCV(pipe, params,\n",
    "                                   n_iter=30,\n",
    "                                   scoring=make_scorer(h2o_r2_score),\n",
    "                                   cv=custom_cv,\n",
    "                                   random_state=42,\n",
    "                                   n_jobs=-1)\n",
    "\n",
    "\n",
    "random_search.fit(fr[x],fr[y])\n",
    "results = report_grid_score_detail(random_search)\n",
    "results.head()"
   ]
  },
  {
   "cell_type": "code",
   "execution_count": 61,
   "metadata": {
    "collapsed": true
   },
   "outputs": [],
   "source": [
    "h2o.turn_on_ref_cnts()"
   ]
  },
  {
   "cell_type": "markdown",
   "metadata": {},
   "source": [
    "Currently Under Development (drop-in scikit-learn pieces):\n",
    "    * Richer set of transforms (only PCA and Scale are implemented)\n",
    "    * Richer set of estimators (only RandomForest is available)\n",
    "    * Full H2O Grid Search"
   ]
  },
  {
   "cell_type": "markdown",
   "metadata": {},
   "source": [
    "###Other Tips: Model Save/Load"
   ]
  },
  {
   "cell_type": "markdown",
   "metadata": {},
   "source": [
    "It is useful to save constructed models to disk and reload them between H2O sessions. Here's how:"
   ]
  },
  {
   "cell_type": "code",
   "execution_count": 63,
   "metadata": {
    "collapsed": false
   },
   "outputs": [],
   "source": [
    "best_estimator = random_search.best_estimator_                        # fetch the pipeline from the grid search\n",
    "h2o_model      = h2o.get_model(best_estimator._final_estimator._id)    # fetch the model from the pipeline"
   ]
  },
  {
   "cell_type": "code",
   "execution_count": 67,
   "metadata": {
    "collapsed": false
   },
   "outputs": [
    {
     "name": "stdout",
     "output_type": "stream",
     "text": [
      "/Users/spencer/0xdata/h2o-3/./DRF_model_python_1441047051406_2558\n"
     ]
    }
   ],
   "source": [
    "save_path = h2o.save_model(h2o_model, path=\".\", force=True)\n",
    "print save_path"
   ]
  },
  {
   "cell_type": "code",
   "execution_count": 68,
   "metadata": {
    "collapsed": false
   },
   "outputs": [],
   "source": [
    "# assumes new session\n",
    "my_model = h2o.load_model(path=save_path)"
   ]
  },
  {
   "cell_type": "code",
   "execution_count": 70,
   "metadata": {
    "collapsed": false
   },
   "outputs": [
    {
     "name": "stdout",
     "output_type": "stream",
     "text": [
      "H2OFrame with 462 rows and 1 columns: \n",
      "     predict\n",
      "0  35.804781\n",
      "1  35.804781\n",
      "2  35.804781\n",
      "3  35.804781\n",
      "4  35.804781\n",
      "5  35.804781\n",
      "6  35.804781\n",
      "7  35.804781\n",
      "8  35.804781\n",
      "9  35.804781\n"
     ]
    },
    {
     "data": {
      "text/plain": []
     },
     "execution_count": 70,
     "metadata": {},
     "output_type": "execute_result"
    }
   ],
   "source": [
    "my_model.predict(fr)"
   ]
  }
 ],
 "metadata": {
  "kernelspec": {
   "display_name": "Python 2",
   "language": "python",
   "name": "python2"
  },
  "language_info": {
   "codemirror_mode": {
    "name": "ipython",
    "version": 2
   },
   "file_extension": ".py",
   "mimetype": "text/x-python",
   "name": "python",
   "nbconvert_exporter": "python",
   "pygments_lexer": "ipython2",
   "version": "2.7.9"
  }
 },
 "nbformat": 4,
 "nbformat_minor": 0
}
