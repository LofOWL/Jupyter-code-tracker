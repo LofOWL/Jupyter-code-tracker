{
 "cells": [
  {
   "cell_type": "markdown",
   "metadata": {},
   "source": [
    "##ThinkDSP\n",
    "\n",
    "This notebook contains code solutions to exercises in Chapter 6: Discrete Cosine Transform\n",
    "\n",
    "Copyright 2015 Allen Downey\n",
    "\n",
    "License: [Creative Commons Attribution 4.0 International](http://creativecommons.org/licenses/by/4.0/)"
   ]
  },
  {
   "cell_type": "code",
   "execution_count": null,
   "metadata": {
    "collapsed": false
   },
   "outputs": [],
   "source": [
    "from __future__ import print_function, division\n",
    "\n",
    "import thinkdsp\n",
    "import thinkplot\n",
    "\n",
    "import numpy as np\n",
    "import scipy.fftpack\n",
    "\n",
    "import autocorr\n",
    "import dct\n",
    "\n",
    "PI2 = 2 * math.pi\n",
    "\n",
    "%matplotlib inline"
   ]
  },
  {
   "cell_type": "markdown",
   "metadata": {},
   "source": [
    "**Exercise:** Test the algorithmic complexity of `analyze1`, `analyze2` and `scipy.fftpack.dct`."
   ]
  },
  {
   "cell_type": "code",
   "execution_count": null,
   "metadata": {
    "collapsed": false
   },
   "outputs": [],
   "source": [
    "signal = thinkdsp.UncorrelatedGaussianNoise()\n",
    "noise = signal.make_wave(duration=1.0)\n",
    "\n",
    "ns = 2 ** np.arange(6, 14)\n",
    "ns"
   ]
  },
  {
   "cell_type": "code",
   "execution_count": null,
   "metadata": {
    "collapsed": true
   },
   "outputs": [],
   "source": [
    "def plot_bests(bests):    \n",
    "    thinkplot.plot(ns, bests)\n",
    "    thinkplot.config(xscale='log', yscale='log', legend=False)\n",
    "    \n",
    "    x = np.log(ns)\n",
    "    y = np.log(bests)\n",
    "    t = scipy.stats.linregress(x,y)\n",
    "    slope = t[0]\n",
    "\n",
    "    return slope"
   ]
  },
  {
   "cell_type": "code",
   "execution_count": null,
   "metadata": {
    "collapsed": false
   },
   "outputs": [],
   "source": [
    "results = []\n",
    "for N in ns:\n",
    "    ts = (0.5 + np.arange(N)) / N\n",
    "    freqs = (0.5 + np.arange(N)) / 2\n",
    "    ys = noise.ys[:N]\n",
    "    result = %timeit -o dct.analyze1(ys, freqs, ts)\n",
    "    results.append(result)\n",
    "\n",
    "bests = [result.best for result in results]\n",
    "\n",
    "thinkplot.preplot(3)\n",
    "plot_bests(bests)"
   ]
  },
  {
   "cell_type": "code",
   "execution_count": null,
   "metadata": {
    "collapsed": false
   },
   "outputs": [],
   "source": [
    "results = []\n",
    "for N in ns:\n",
    "    ts = (0.5 + np.arange(N)) / N\n",
    "    freqs = (0.5 + np.arange(N)) / 2\n",
    "    ys = noise.ys[:N]\n",
    "    result = %timeit -o dct.analyze2(ys, freqs, ts)\n",
    "    results.append(result)\n",
    "\n",
    "bests2 = [result.best for result in results]\n",
    "plot_bests(bests2)"
   ]
  },
  {
   "cell_type": "code",
   "execution_count": null,
   "metadata": {
    "collapsed": false
   },
   "outputs": [],
   "source": [
    "results = []\n",
    "for N in ns:\n",
    "    ys = noise.ys[:N]\n",
    "    result = %timeit -o scipy.fftpack.dct(ys, type=3)\n",
    "    results.append(result)\n",
    "\n",
    "bests3 = [result.best for result in results]\n",
    "plot_bests(bests3)"
   ]
  },
  {
   "cell_type": "code",
   "execution_count": null,
   "metadata": {
    "collapsed": false
   },
   "outputs": [],
   "source": [
    "thinkplot.preplot(3)\n",
    "thinkplot.plot(ns, bests, label='analyze1')\n",
    "thinkplot.plot(ns, bests2, label='analyze2')\n",
    "thinkplot.plot(ns, bests3, label='fftpack.dct')\n",
    "thinkplot.config(xscale='log', yscale='log', legend=True, loc='upper left')"
   ]
  },
  {
   "cell_type": "markdown",
   "metadata": {},
   "source": [
    "5) One of the major applications of the DCT is compression for both sound and images. In its simplest form, DCT-based compression works like this:\n",
    "\n",
    "1. Break a long signal into segments.\n",
    "2. Compute the DCT of each segment.\n",
    "3. Identify frequency components with amplitudes so low they are inaudible, and remove them. Store only the frequencies and amplitudes that remain.\n",
    "4. To play back the signal, load the frequencies and amplitudes for each segment and apply the inverse DCT.\n",
    "\n",
    "Implement a version of this algorithm and apply it to a recording of music or speech. How many components can you eliminate before the difference is perceptible?"
   ]
  },
  {
   "cell_type": "code",
   "execution_count": null,
   "metadata": {
    "collapsed": false
   },
   "outputs": [],
   "source": [
    "def make_dct_spectrogram(wave, seg_length, window_func=np.hamming):\n",
    "    \"\"\"Computes the DCT spectrogram of the wave.\n",
    "\n",
    "    seg_length: number of samples in each segment\n",
    "    window_func: function used to compute the window\n",
    "\n",
    "    returns: Spectrogram\n",
    "    \"\"\"\n",
    "    n = len(wave.ys)\n",
    "    window = window_func(seg_length)\n",
    "\n",
    "    start, end, step = 0, seg_length, seg_length / 2\n",
    "    spec_map = {}\n",
    "\n",
    "    while end < n:\n",
    "        ys = wave.ys[start:end] * window\n",
    "\n",
    "        t = (start + end) / 2.0 / wave.framerate\n",
    "        spec_map[t] = thinkdsp.Wave(ys, wave.framerate).make_dct()\n",
    "\n",
    "        start += step\n",
    "        end += step\n",
    "\n",
    "    return thinkdsp.Spectrogram(spec_map, seg_length, window_func)"
   ]
  },
  {
   "cell_type": "code",
   "execution_count": null,
   "metadata": {
    "collapsed": false
   },
   "outputs": [],
   "source": [
    "wave = thinkdsp.read_wave('100475__iluppai__saxophone-weep.wav')\n",
    "#wave = thinkdsp.read_wave('92002__jcveliz__violin-origional.wav')"
   ]
  },
  {
   "cell_type": "code",
   "execution_count": null,
   "metadata": {
    "collapsed": false
   },
   "outputs": [],
   "source": [
    "segment = wave.segment(start=1.2, duration=0.5)\n",
    "segment.normalize()\n",
    "segment.make_audio()"
   ]
  },
  {
   "cell_type": "code",
   "execution_count": null,
   "metadata": {
    "collapsed": false
   },
   "outputs": [],
   "source": [
    "dct = segment.make_dct()\n",
    "dct.plot()"
   ]
  },
  {
   "cell_type": "code",
   "execution_count": null,
   "metadata": {
    "collapsed": false
   },
   "outputs": [],
   "source": [
    "def compress(dct):\n",
    "    thresh = 1000\n",
    "    count = 0\n",
    "    for i, amp in enumerate(dct.amps):\n",
    "        if abs(amp) < thresh:\n",
    "            dct.amps[i] = 0\n",
    "            count += 1\n",
    "            \n",
    "    print(count, len(dct.amps))"
   ]
  },
  {
   "cell_type": "code",
   "execution_count": null,
   "metadata": {
    "collapsed": false
   },
   "outputs": [],
   "source": [
    "spectro = make_dct_spectrogram(wave, seg_length=1024)\n",
    "for t, dct in sorted(spectro.spec_map.iteritems()):\n",
    "    compress(dct)"
   ]
  },
  {
   "cell_type": "code",
   "execution_count": null,
   "metadata": {
    "collapsed": false
   },
   "outputs": [],
   "source": [
    "wave2 = spectro.make_wave()\n",
    "wave2.make_audio()"
   ]
  },
  {
   "cell_type": "code",
   "execution_count": null,
   "metadata": {
    "collapsed": true
   },
   "outputs": [],
   "source": []
  }
 ],
 "metadata": {
  "kernelspec": {
   "display_name": "Python 2",
   "language": "python",
   "name": "python2"
  },
  "language_info": {
   "codemirror_mode": {
    "name": "ipython",
    "version": 2
   },
   "file_extension": ".py",
   "mimetype": "text/x-python",
   "name": "python",
   "nbconvert_exporter": "python",
   "pygments_lexer": "ipython2",
   "version": "2.7.10"
  }
 },
 "nbformat": 4,
 "nbformat_minor": 0
}
