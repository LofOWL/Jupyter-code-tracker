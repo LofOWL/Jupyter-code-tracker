{
 "cells": [
  {
   "cell_type": "markdown",
   "metadata": {},
   "source": [
    "# Introduction: Stats for Medium Articles\n",
    "\n",
    "In this notebook, we will explore my medium article statistics. We'll work with the raw HTML of the stats page."
   ]
  },
  {
   "cell_type": "code",
   "execution_count": null,
   "metadata": {
    "ExecuteTime": {
     "end_time": "2018-12-28T03:23:51.496870Z",
     "start_time": "2018-12-28T03:23:49.892786Z"
    }
   },
   "outputs": [],
   "source": [
    "# Data science imports\n",
    "import pandas as pd\n",
    "import numpy as np\n",
    "\n",
    "# Options for pandas\n",
    "pd.options.display.max_columns = 25\n",
    "\n",
    "# Display all cell outputs\n",
    "from IPython.core.interactiveshell import InteractiveShell\n",
    "InteractiveShell.ast_node_interactivity = 'all'\n",
    "\n",
    "# Interactive plotting\n",
    "import plotly.plotly as py\n",
    "import plotly.graph_objs as go\n",
    "import cufflinks\n",
    "cufflinks.go_offline()\n",
    "\n",
    "# Parsing articles\n",
    "from bs4 import BeautifulSoup\n",
    "\n",
    "# Utilities\n",
    "from collections import Counter, defaultdict\n",
    "import re\n",
    "\n",
    "# Getting webpages\n",
    "import requests\n"
   ]
  },
  {
   "cell_type": "code",
   "execution_count": null,
   "metadata": {
    "ExecuteTime": {
     "end_time": "2018-12-28T03:33:27.289679Z",
     "start_time": "2018-12-28T03:33:26.989706Z"
    }
   },
   "outputs": [],
   "source": [
    "soup = BeautifulSoup(open('data/stats.html', 'r'), 'html.parser')\n",
    "soup.text[:100]"
   ]
  },
  {
   "cell_type": "code",
   "execution_count": null,
   "metadata": {
    "ExecuteTime": {
     "end_time": "2018-12-28T03:23:54.446581Z",
     "start_time": "2018-12-28T03:23:54.356497Z"
    }
   },
   "outputs": [],
   "source": [
    "table_rows = soup.find_all(attrs={'class':\"sortableTable-row js-statsTableRow\"})\n",
    "print(f'Found {len(table_rows)} table entries.')"
   ]
  },
  {
   "cell_type": "code",
   "execution_count": null,
   "metadata": {
    "ExecuteTime": {
     "end_time": "2018-12-28T03:51:28.040472Z",
     "start_time": "2018-12-28T03:51:27.990981Z"
    }
   },
   "outputs": [],
   "source": [
    "entry = table_rows[3]\n",
    "entry"
   ]
  },
  {
   "cell_type": "code",
   "execution_count": null,
   "metadata": {
    "ExecuteTime": {
     "end_time": "2018-12-28T03:51:32.152205Z",
     "start_time": "2018-12-28T03:51:32.104429Z"
    }
   },
   "outputs": [],
   "source": [
    "entry.find_all(text=' Unlisted')"
   ]
  },
  {
   "cell_type": "code",
   "execution_count": null,
   "metadata": {
    "ExecuteTime": {
     "end_time": "2018-12-28T03:24:09.637897Z",
     "start_time": "2018-12-28T03:24:09.604293Z"
    }
   },
   "outputs": [],
   "source": [
    "entry.get('data-timestamp')"
   ]
  },
  {
   "cell_type": "code",
   "execution_count": null,
   "metadata": {
    "ExecuteTime": {
     "end_time": "2018-12-28T03:24:19.365253Z",
     "start_time": "2018-12-28T03:24:19.324467Z"
    }
   },
   "outputs": [],
   "source": [
    "def convert_timestamp(ts: int):\n",
    "    return pd.to_datetime(ts, origin='unix', unit='ms')\n",
    "\n",
    "convert_timestamp(entry.get('data-timestamp'))"
   ]
  },
  {
   "cell_type": "code",
   "execution_count": null,
   "metadata": {
    "ExecuteTime": {
     "end_time": "2018-12-28T03:24:45.709666Z",
     "start_time": "2018-12-28T03:24:45.676631Z"
    }
   },
   "outputs": [],
   "source": [
    "for i in entry.find_all(attrs={'class':'sortableTable-value'}):\n",
    "    print(i)"
   ]
  },
  {
   "cell_type": "code",
   "execution_count": null,
   "metadata": {
    "ExecuteTime": {
     "end_time": "2018-12-28T03:24:22.066390Z",
     "start_time": "2018-12-28T03:24:22.034770Z"
    }
   },
   "outputs": [],
   "source": [
    "for i in entry.find_all(attrs={'class':'u-sm-show'}):\n",
    "    print(i) "
   ]
  },
  {
   "cell_type": "code",
   "execution_count": null,
   "metadata": {
    "ExecuteTime": {
     "end_time": "2018-12-28T03:25:09.841762Z",
     "start_time": "2018-12-28T03:25:09.811856Z"
    }
   },
   "outputs": [],
   "source": [
    "int(entry.find_all(attrs={'class':'readingTime'})[0].get('title').split(' ')[0])"
   ]
  },
  {
   "cell_type": "code",
   "execution_count": null,
   "metadata": {
    "ExecuteTime": {
     "end_time": "2018-12-28T03:26:42.771351Z",
     "start_time": "2018-12-28T03:26:42.741603Z"
    }
   },
   "outputs": [],
   "source": [
    "entry.find_all(text='View story', attrs={'class': 'sortableTable-link'})"
   ]
  },
  {
   "cell_type": "code",
   "execution_count": null,
   "metadata": {
    "ExecuteTime": {
     "end_time": "2018-12-28T03:24:55.358579Z",
     "start_time": "2018-12-28T03:24:55.313877Z"
    }
   },
   "outputs": [],
   "source": [
    "entry_dict = {}\n",
    "for value, key in zip(entry.find_all(attrs={'class':'sortableTable-value'}),\n",
    "            ['published_timestamp', 'views', 'reads', 'ratio', 'fans']):\n",
    "    entry_dict[key] = float(value.text) if key == 'ratio' else int(value.text)\n",
    "    \n",
    "entry_dict['published_timestamp'] = convert_timestamp(entry_dict['published_timestamp'])\n",
    "entry_dict['started_timestamp'] = convert_timestamp(entry.get('data-timestamp'))\n",
    "entry_dict['read_time'] = int(entry.find_all(attrs={'class':'readingTime'})[0].get('title').split(' ')[0])\n",
    "\n",
    "print(entry_dict)"
   ]
  },
  {
   "cell_type": "code",
   "execution_count": null,
   "metadata": {
    "ExecuteTime": {
     "end_time": "2018-12-28T03:26:00.584240Z",
     "start_time": "2018-12-28T03:26:00.507595Z"
    }
   },
   "outputs": [],
   "source": [
    "table = soup.find_all(attrs={'class': 'js-statsTableBody'})\n",
    "type(table[0])"
   ]
  },
  {
   "cell_type": "code",
   "execution_count": null,
   "metadata": {
    "ExecuteTime": {
     "end_time": "2018-12-28T03:26:01.787875Z",
     "start_time": "2018-12-28T03:26:01.754058Z"
    }
   },
   "outputs": [],
   "source": [
    "type(entry)"
   ]
  },
  {
   "cell_type": "code",
   "execution_count": null,
   "metadata": {
    "ExecuteTime": {
     "end_time": "2018-12-28T03:53:01.835565Z",
     "start_time": "2018-12-28T03:53:01.781539Z"
    }
   },
   "outputs": [],
   "source": [
    "def process_table_entry(entry, parallel=True):\n",
    "    \"\"\"\n",
    "    Extract data from one entry in table\n",
    "    \n",
    "    :param entry: BeautifulSoup tag\n",
    "    \n",
    "    :return entry_dict: dictionary with data about entry\n",
    "    \n",
    "    \"\"\"\n",
    "    if parallel:\n",
    "        entry = BeautifulSoup(entry, 'html.parser')\n",
    "        \n",
    "    entry_dict = {}\n",
    "    for value, key in zip(entry.find_all(attrs={'class':'sortableTable-value'}),\n",
    "            ['published_timestamp', 'views', 'reads', 'ratio', 'fans']):\n",
    "        entry_dict[key] = float(value.text) if key == 'ratio' else int(value.text)\n",
    "    \n",
    "    entry_dict['published_timestamp'] = convert_timestamp(entry_dict['published_timestamp'])\n",
    "    entry_dict['started_timestamp'] = convert_timestamp(entry.get('data-timestamp'))\n",
    "    entry_dict['read_time'] = int(entry.find_all(attrs={'class':'readingTime'})[0].get('title').split(' ')[0])\n",
    "    entry_dict['unlisted'] = True if len(entry.find_all(text=' Unlisted')) > 0 else False\n",
    "    \n",
    "    link = entry.find_all(text='View story', \n",
    "                               attrs={'class': 'sortableTable-link'})[0].get('href')\n",
    "    \n",
    "    # Retrieve the article and create a soup\n",
    "    entry = requests.get(link).content\n",
    "    entry_soup = BeautifulSoup(entry)\n",
    "    \n",
    "    # Find the title header (determines if an article or a response)\n",
    "    if entry_soup.h1 is not None:\n",
    "        title = entry_soup.h1.text\n",
    "    else:\n",
    "        title = f'response-{t}'\n",
    "\n",
    "    # Text as single long string\n",
    "    entry_text = [p.text for p in entry_soup.find_all('p')]\n",
    "    entry_text = ' '.join(entry_text)\n",
    "\n",
    "    # Word count\n",
    "    word_count = len(entry_text.split(' '))\n",
    "\n",
    "    # Reading time in minutes\n",
    "    read_time = entry_soup.find_all(attrs={'class': 'readingTime'})\n",
    "    read_mins = int(read_time[0].get('title').split(' ')[0])\n",
    "\n",
    "    # Number of claps\n",
    "    clap_pattern = re.compile('^[0-9]{1,} claps|^[0-9]{1,}.[0-9]{1,}K claps|^[0-9]{1,}K claps')\n",
    "    claps = entry_soup.find_all(text = clap_pattern)\n",
    "\n",
    "    if len(claps) > 0:\n",
    "        if 'K' in claps[0]:\n",
    "            clap_number = int(1e3 * float(claps[0].split('K')[0]))\n",
    "        else:\n",
    "            clap_number = int(claps[0].split(' ')[0])\n",
    "    else:\n",
    "        clap_number = 0\n",
    "\n",
    "    # Post tags\n",
    "    tags = entry_soup.find_all(attrs={'class': 'tags tags--postTags tags--borderless'})\n",
    "    tags = [li.text for li in tags[0].find_all('li')]\n",
    "        \n",
    "    # Store in dictionary with title as key\n",
    "    entry_dict['title'] = title\n",
    "    entry_dict['text'] = entry_text\n",
    "    entry_dict['word_count'] = word_count\n",
    "    entry_dict['read_time'] = read_mins\n",
    "    entry_dict['claps'] = clap_number\n",
    "    entry_dict['tags'] = tags\n",
    "    \n",
    "    return entry_dict"
   ]
  },
  {
   "cell_type": "code",
   "execution_count": null,
   "metadata": {
    "ExecuteTime": {
     "end_time": "2018-12-28T03:26:20.077307Z",
     "start_time": "2018-12-28T03:26:18.692630Z"
    }
   },
   "outputs": [],
   "source": [
    "entry_dict = process_table_entry(entry)"
   ]
  },
  {
   "cell_type": "code",
   "execution_count": null,
   "metadata": {
    "ExecuteTime": {
     "end_time": "2018-12-28T03:33:24.223670Z",
     "start_time": "2018-12-28T03:28:04.773998Z"
    }
   },
   "outputs": [],
   "source": [
    "r = []\n",
    "for i, e in enumerate(table_rows):\n",
    "    print(f'{100 * i / len(table_rows):.2f}% complete. Total read time: {sum([t[\"read_time\"] for t in r])}', \n",
    "          end = '\\r')\n",
    "    r.append(process_table_entry(e))\n",
    "\n",
    "df = pd.DataFrame(r)\n",
    "df.head()"
   ]
  },
  {
   "cell_type": "code",
   "execution_count": null,
   "metadata": {
    "ExecuteTime": {
     "end_time": "2018-12-28T03:38:25.500603Z",
     "start_time": "2018-12-28T03:38:25.439051Z"
    }
   },
   "outputs": [],
   "source": [
    "df.corr()"
   ]
  },
  {
   "cell_type": "code",
   "execution_count": null,
   "metadata": {
    "ExecuteTime": {
     "end_time": "2018-12-28T03:41:30.727550Z",
     "start_time": "2018-12-28T03:41:30.686183Z"
    }
   },
   "outputs": [],
   "source": [
    "colorscales = ['Greys', 'YlGnBu', 'Greens', 'YlOrRd', 'Bluered', 'RdBu',\n",
    "            'Reds', 'Blues', 'Picnic', 'Rainbow', 'Portland', 'Jet',\n",
    "            'Hot', 'Blackbody', 'Earth', 'Electric', 'Viridis', 'Cividis']"
   ]
  },
  {
   "cell_type": "code",
   "execution_count": null,
   "metadata": {
    "ExecuteTime": {
     "end_time": "2018-12-28T03:42:57.173108Z",
     "start_time": "2018-12-28T03:42:56.619368Z"
    }
   },
   "outputs": [],
   "source": [
    "import plotly.figure_factory as ff\n",
    "from plotly.offline import iplot \n",
    "\n",
    "corrs = df.corr()\n",
    "figure = ff.create_annotated_heatmap(z = corrs.values, x =list(corrs.columns), \n",
    "                            y=list(corrs.index), showscale=True, \n",
    "                                     colorscale='Picnic',\n",
    "                                     annotation_text=corrs.round(2).values)\n",
    "iplot(figure)"
   ]
  },
  {
   "cell_type": "code",
   "execution_count": null,
   "metadata": {
    "ExecuteTime": {
     "end_time": "2018-12-28T03:38:17.529706Z",
     "start_time": "2018-12-28T03:38:17.470371Z"
    }
   },
   "outputs": [],
   "source": [
    "# Add extra columns with more data\n",
    "df['response'] = ['response' if x == True else 'article' for x in df['title'].str.contains('response')]\n",
    "df['claps_per_word'] = df['claps'] / df['word_count']\n",
    "df['words_per_minute'] = df['word_count'] / df['read_time']\n",
    "\n",
    "# Add 10 most common tags with flag if data has it\n",
    "n = 10\n",
    "all_tags = list(chain(*df['tags'].tolist()))\n",
    "tag_counts = Counter(all_tags)\n",
    "tags = tag_counts.most_common(n)\n",
    "\n",
    "for tag, count in tags:\n",
    "    flag = [1 if tag in tags else 0 for tags in df['tags']]\n",
    "    df.loc[:, f'<tag>{tag}'] = flag"
   ]
  },
  {
   "cell_type": "code",
   "execution_count": null,
   "metadata": {
    "ExecuteTime": {
     "end_time": "2018-12-28T03:33:26.075261Z",
     "start_time": "2018-12-28T03:33:26.042482Z"
    }
   },
   "outputs": [],
   "source": [
    "df.dtypes"
   ]
  },
  {
   "cell_type": "code",
   "execution_count": null,
   "metadata": {
    "ExecuteTime": {
     "end_time": "2018-12-28T03:40:18.270976Z",
     "start_time": "2018-12-28T03:38:51.488059Z"
    }
   },
   "outputs": [],
   "source": [
    "from multiprocessing import Pool\n",
    "import sys\n",
    "\n",
    "table_rows_str = [str(r) for r in table_rows]\n",
    "\n",
    "pool = Pool(processes=10)\n",
    "r = pool.map(process_table_entry, \n",
    "             table_rows_str)\n",
    "pool.close()\n",
    "pool.join()"
   ]
  },
  {
   "cell_type": "code",
   "execution_count": null,
   "metadata": {
    "ExecuteTime": {
     "end_time": "2018-12-28T03:40:42.311682Z",
     "start_time": "2018-12-28T03:40:42.254468Z"
    }
   },
   "outputs": [],
   "source": [
    "df = pd.DataFrame(r)\n",
    "df.head()"
   ]
  },
  {
   "cell_type": "code",
   "execution_count": null,
   "metadata": {
    "ExecuteTime": {
     "end_time": "2018-12-28T03:40:51.909175Z",
     "start_time": "2018-12-28T03:40:51.849828Z"
    }
   },
   "outputs": [],
   "source": [
    "from itertools import chain\n",
    "\n",
    "# Add extra columns with more data\n",
    "df['response'] = ['response' if x == True else 'article' for x in df['title'].str.contains('response')]\n",
    "df['claps_per_word'] = df['claps'] / df['word_count']\n",
    "df['words_per_minute'] = df['word_count'] / df['read_time']\n",
    "\n",
    "# Add 10 most common tags with flag if data has it\n",
    "n = 10\n",
    "all_tags = list(chain(*df['tags'].tolist()))\n",
    "tag_counts = Counter(all_tags)\n",
    "tags = tag_counts.most_common(n)\n",
    "\n",
    "for tag, count in tags:\n",
    "    flag = [1 if tag in tags else 0 for tags in df['tags']]\n",
    "    df.loc[:, f'<tag>{tag}'] = flag"
   ]
  },
  {
   "cell_type": "code",
   "execution_count": null,
   "metadata": {
    "ExecuteTime": {
     "end_time": "2018-12-28T03:40:55.838062Z",
     "start_time": "2018-12-28T03:40:55.737596Z"
    }
   },
   "outputs": [],
   "source": [
    "df.corr()"
   ]
  },
  {
   "cell_type": "code",
   "execution_count": null,
   "metadata": {
    "ExecuteTime": {
     "end_time": "2018-12-28T03:46:39.085666Z",
     "start_time": "2018-12-28T03:46:39.042636Z"
    }
   },
   "outputs": [],
   "source": [
    "from timeit import default_timer as timer"
   ]
  },
  {
   "cell_type": "code",
   "execution_count": null,
   "metadata": {
    "ExecuteTime": {
     "end_time": "2018-12-28T03:52:45.435420Z",
     "start_time": "2018-12-28T03:52:45.375167Z"
    }
   },
   "outputs": [],
   "source": [
    "def process_in_parallel(table_rows, processes):\n",
    "    \"\"\"\n",
    "    Process all the stats in a table in parallel\n",
    "    \n",
    "    :param table_rows: BeautifulSoup table rows\n",
    "    \n",
    "    :return df: dataframe of information about each post\n",
    "    \n",
    "    \"\"\"\n",
    "    table_rows_str = [str(r) for r in table_rows]\n",
    "    \n",
    "    pool = Pool(processes=processes)\n",
    "    results = [] \n",
    "    start = timer()\n",
    "    for i, r in enumerate(pool.imap_unordered(process_table_entry, table_rows_str)):\n",
    "        print(f'{100 * i / len(table_rows_str):.2f}% complete.', end = '\\r')\n",
    "        results.append(r)\n",
    "    pool.close()\n",
    "    pool.join()\n",
    "    end = timer()\n",
    "    print(f'Processed {len(table_rows_str)} articles in {end-start:.2f} seconds.')\n",
    "    df = pd.DataFrame(results)\n",
    "    \n",
    "    # Add extra columns with more data\n",
    "    df['response'] = ['response' if x == True else 'article' for x in df['title'].str.contains('response')]\n",
    "    df['claps_per_word'] = df['claps'] / df['word_count']\n",
    "    df['words_per_minute'] = df['word_count'] / df['read_time']\n",
    "\n",
    "    # Add 10 most common tags with flag if data has it\n",
    "    n = 10\n",
    "    all_tags = list(chain(*df['tags'].tolist()))\n",
    "    tag_counts = Counter(all_tags)\n",
    "    tags = tag_counts.most_common(n)\n",
    "\n",
    "    for tag, count in tags:\n",
    "        flag = [1 if tag in tags else 0 for tags in df['tags']]\n",
    "        df.loc[:, f'<tag>{tag}'] = flag\n",
    "    \n",
    "\n",
    "    return df"
   ]
  },
  {
   "cell_type": "code",
   "execution_count": null,
   "metadata": {
    "ExecuteTime": {
     "end_time": "2018-12-28T03:55:22.312720Z",
     "start_time": "2018-12-28T03:55:00.454294Z"
    }
   },
   "outputs": [],
   "source": [
    "df = process_in_parallel(table_rows, processes=20)"
   ]
  },
  {
   "cell_type": "code",
   "execution_count": null,
   "metadata": {
    "ExecuteTime": {
     "end_time": "2018-12-28T03:55:54.902252Z",
     "start_time": "2018-12-28T03:55:54.856141Z"
    }
   },
   "outputs": [],
   "source": [
    "df['unlisted'] = df['unlisted'].astype(str)"
   ]
  },
  {
   "cell_type": "code",
   "execution_count": null,
   "metadata": {
    "ExecuteTime": {
     "end_time": "2018-12-28T03:55:56.559352Z",
     "start_time": "2018-12-28T03:55:56.401844Z"
    }
   },
   "outputs": [],
   "source": [
    "df.iplot(x = 'published_timestamp', y = 'word_count', categories='unlisted');"
   ]
  },
  {
   "cell_type": "code",
   "execution_count": null,
   "metadata": {
    "ExecuteTime": {
     "end_time": "2018-12-28T03:56:34.646250Z",
     "start_time": "2018-12-28T03:56:34.489946Z"
    }
   },
   "outputs": [],
   "source": [
    "df[df['unlisted'] == 'False'].iplot(x = 'published_timestamp', y = 'read_time',\n",
    "                                    mode = 'markers')"
   ]
  },
  {
   "cell_type": "code",
   "execution_count": null,
   "metadata": {
    "ExecuteTime": {
     "end_time": "2018-12-28T03:55:24.121920Z",
     "start_time": "2018-12-28T03:55:05.735Z"
    }
   },
   "outputs": [],
   "source": [
    "df.head()"
   ]
  },
  {
   "cell_type": "code",
   "execution_count": null,
   "metadata": {
    "ExecuteTime": {
     "end_time": "2018-12-28T03:49:18.598471Z",
     "start_time": "2018-12-28T03:49:18.529547Z"
    }
   },
   "outputs": [],
   "source": [
    "df.shape"
   ]
  },
  {
   "cell_type": "code",
   "execution_count": null,
   "metadata": {},
   "outputs": [],
   "source": []
  }
 ],
 "metadata": {
  "hide_input": false,
  "kernelspec": {
   "display_name": "Python 3",
   "language": "python",
   "name": "python3"
  },
  "language_info": {
   "codemirror_mode": {
    "name": "ipython",
    "version": 3
   },
   "file_extension": ".py",
   "mimetype": "text/x-python",
   "name": "python",
   "nbconvert_exporter": "python",
   "pygments_lexer": "ipython3",
   "version": "3.6.5"
  },
  "toc": {
   "base_numbering": 1,
   "nav_menu": {},
   "number_sections": true,
   "sideBar": true,
   "skip_h1_title": false,
   "title_cell": "Table of Contents",
   "title_sidebar": "Contents",
   "toc_cell": false,
   "toc_position": {},
   "toc_section_display": true,
   "toc_window_display": false
  },
  "varInspector": {
   "cols": {
    "lenName": 16,
    "lenType": 16,
    "lenVar": 40
   },
   "kernels_config": {
    "python": {
     "delete_cmd_postfix": "",
     "delete_cmd_prefix": "del ",
     "library": "var_list.py",
     "varRefreshCmd": "print(var_dic_list())"
    },
    "r": {
     "delete_cmd_postfix": ") ",
     "delete_cmd_prefix": "rm(",
     "library": "var_list.r",
     "varRefreshCmd": "cat(var_dic_list()) "
    }
   },
   "types_to_exclude": [
    "module",
    "function",
    "builtin_function_or_method",
    "instance",
    "_Feature"
   ],
   "window_display": false
  }
 },
 "nbformat": 4,
 "nbformat_minor": 2
}
