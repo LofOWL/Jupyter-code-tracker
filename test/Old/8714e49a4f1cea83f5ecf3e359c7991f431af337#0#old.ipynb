{
 "cells": [
  {
   "cell_type": "markdown",
   "metadata": {},
   "source": [
    "# Stock Price Predictions\n",
    "\n",
    "We can also make testable predictions by restricting our model to a subset of the data, and then using the forecasted values to see how correct our model is. We will restrict data up until the end of 2016, and then try to make predictions for 2017."
   ]
  },
  {
   "cell_type": "code",
   "execution_count": 38,
   "metadata": {
    "collapsed": true
   },
   "outputs": [],
   "source": [
    "import quandl \n",
    "import pandas as pd\n",
    "import numpy as np\n",
    "import fbprophet\n",
    "\n",
    "import matplotlib.pyplot as plt\n",
    "%matplotlib inline"
   ]
  },
  {
   "cell_type": "markdown",
   "metadata": {},
   "source": [
    "## Retrieve Data from Quandl"
   ]
  },
  {
   "cell_type": "code",
   "execution_count": 12,
   "metadata": {
    "collapsed": false
   },
   "outputs": [],
   "source": [
    "quandl.ApiConfig.api_key = 'rFsSehe51RLzREtYhLfo'\n",
    "\n",
    "# Using Tesla data\n",
    "tesla_stocks = quandl.get('WIKI/TSLA')"
   ]
  },
  {
   "cell_type": "code",
   "execution_count": 13,
   "metadata": {
    "collapsed": true
   },
   "outputs": [],
   "source": [
    "# Set the index (with dates) to a column \n",
    "tesla_stocks.reset_index(level=0, inplace=True)\n",
    "\n",
    "# Rename the columns for prophet and create a year column\n",
    "tesla_stocks.rename(columns={'Date': 'ds', 'Adj. Close': 'y'}, inplace=True)\n",
    "tesla_stocks['Year'] = [date.year for date in tesla_stocks['ds']]"
   ]
  },
  {
   "cell_type": "code",
   "execution_count": 14,
   "metadata": {
    "collapsed": false
   },
   "outputs": [
    {
     "data": {
      "text/html": [
       "<div>\n",
       "<style scoped>\n",
       "    .dataframe tbody tr th:only-of-type {\n",
       "        vertical-align: middle;\n",
       "    }\n",
       "\n",
       "    .dataframe tbody tr th {\n",
       "        vertical-align: top;\n",
       "    }\n",
       "\n",
       "    .dataframe thead th {\n",
       "        text-align: right;\n",
       "    }\n",
       "</style>\n",
       "<table border=\"1\" class=\"dataframe\">\n",
       "  <thead>\n",
       "    <tr style=\"text-align: right;\">\n",
       "      <th></th>\n",
       "      <th>ds</th>\n",
       "      <th>Open</th>\n",
       "      <th>High</th>\n",
       "      <th>Low</th>\n",
       "      <th>Close</th>\n",
       "      <th>Volume</th>\n",
       "      <th>Ex-Dividend</th>\n",
       "      <th>Split Ratio</th>\n",
       "      <th>Adj. Open</th>\n",
       "      <th>Adj. High</th>\n",
       "      <th>Adj. Low</th>\n",
       "      <th>y</th>\n",
       "      <th>Adj. Volume</th>\n",
       "      <th>Year</th>\n",
       "    </tr>\n",
       "  </thead>\n",
       "  <tbody>\n",
       "    <tr>\n",
       "      <th>0</th>\n",
       "      <td>2010-06-29</td>\n",
       "      <td>19.00</td>\n",
       "      <td>25.0000</td>\n",
       "      <td>17.54</td>\n",
       "      <td>23.89</td>\n",
       "      <td>18766300.0</td>\n",
       "      <td>0.0</td>\n",
       "      <td>1.0</td>\n",
       "      <td>19.00</td>\n",
       "      <td>25.0000</td>\n",
       "      <td>17.54</td>\n",
       "      <td>23.89</td>\n",
       "      <td>18766300.0</td>\n",
       "      <td>2010</td>\n",
       "    </tr>\n",
       "    <tr>\n",
       "      <th>1</th>\n",
       "      <td>2010-06-30</td>\n",
       "      <td>25.79</td>\n",
       "      <td>30.4192</td>\n",
       "      <td>23.30</td>\n",
       "      <td>23.83</td>\n",
       "      <td>17187100.0</td>\n",
       "      <td>0.0</td>\n",
       "      <td>1.0</td>\n",
       "      <td>25.79</td>\n",
       "      <td>30.4192</td>\n",
       "      <td>23.30</td>\n",
       "      <td>23.83</td>\n",
       "      <td>17187100.0</td>\n",
       "      <td>2010</td>\n",
       "    </tr>\n",
       "    <tr>\n",
       "      <th>2</th>\n",
       "      <td>2010-07-01</td>\n",
       "      <td>25.00</td>\n",
       "      <td>25.9200</td>\n",
       "      <td>20.27</td>\n",
       "      <td>21.96</td>\n",
       "      <td>8218800.0</td>\n",
       "      <td>0.0</td>\n",
       "      <td>1.0</td>\n",
       "      <td>25.00</td>\n",
       "      <td>25.9200</td>\n",
       "      <td>20.27</td>\n",
       "      <td>21.96</td>\n",
       "      <td>8218800.0</td>\n",
       "      <td>2010</td>\n",
       "    </tr>\n",
       "    <tr>\n",
       "      <th>3</th>\n",
       "      <td>2010-07-02</td>\n",
       "      <td>23.00</td>\n",
       "      <td>23.1000</td>\n",
       "      <td>18.71</td>\n",
       "      <td>19.20</td>\n",
       "      <td>5139800.0</td>\n",
       "      <td>0.0</td>\n",
       "      <td>1.0</td>\n",
       "      <td>23.00</td>\n",
       "      <td>23.1000</td>\n",
       "      <td>18.71</td>\n",
       "      <td>19.20</td>\n",
       "      <td>5139800.0</td>\n",
       "      <td>2010</td>\n",
       "    </tr>\n",
       "    <tr>\n",
       "      <th>4</th>\n",
       "      <td>2010-07-06</td>\n",
       "      <td>20.00</td>\n",
       "      <td>20.0000</td>\n",
       "      <td>15.83</td>\n",
       "      <td>16.11</td>\n",
       "      <td>6866900.0</td>\n",
       "      <td>0.0</td>\n",
       "      <td>1.0</td>\n",
       "      <td>20.00</td>\n",
       "      <td>20.0000</td>\n",
       "      <td>15.83</td>\n",
       "      <td>16.11</td>\n",
       "      <td>6866900.0</td>\n",
       "      <td>2010</td>\n",
       "    </tr>\n",
       "  </tbody>\n",
       "</table>\n",
       "</div>"
      ],
      "text/plain": [
       "          ds   Open     High    Low  Close      Volume  Ex-Dividend  \\\n",
       "0 2010-06-29  19.00  25.0000  17.54  23.89  18766300.0          0.0   \n",
       "1 2010-06-30  25.79  30.4192  23.30  23.83  17187100.0          0.0   \n",
       "2 2010-07-01  25.00  25.9200  20.27  21.96   8218800.0          0.0   \n",
       "3 2010-07-02  23.00  23.1000  18.71  19.20   5139800.0          0.0   \n",
       "4 2010-07-06  20.00  20.0000  15.83  16.11   6866900.0          0.0   \n",
       "\n",
       "   Split Ratio  Adj. Open  Adj. High  Adj. Low      y  Adj. Volume  Year  \n",
       "0          1.0      19.00    25.0000     17.54  23.89   18766300.0  2010  \n",
       "1          1.0      25.79    30.4192     23.30  23.83   17187100.0  2010  \n",
       "2          1.0      25.00    25.9200     20.27  21.96    8218800.0  2010  \n",
       "3          1.0      23.00    23.1000     18.71  19.20    5139800.0  2010  \n",
       "4          1.0      20.00    20.0000     15.83  16.11    6866900.0  2010  "
      ]
     },
     "execution_count": 14,
     "metadata": {},
     "output_type": "execute_result"
    }
   ],
   "source": [
    "tesla_stocks.head()"
   ]
  },
  {
   "cell_type": "code",
   "execution_count": 24,
   "metadata": {
    "collapsed": false
   },
   "outputs": [
    {
     "name": "stderr",
     "output_type": "stream",
     "text": [
      "INFO:fbprophet.forecaster:Disabling daily seasonality. Run prophet with daily_seasonality=True to override this.\n"
     ]
    }
   ],
   "source": [
    "# Create a new dataframe with the relevant information\n",
    "tesla_data = tesla_stocks[['ds', 'Year', 'y']]\n",
    "\n",
    "# Training and testing data\n",
    "tesla_train = tesla_data[tesla_data['Year'] < 2017]\n",
    "tesla_test = tesla_data[tesla_data['Year'] > 2016]"
   ]
  },
  {
   "cell_type": "code",
   "execution_count": 31,
   "metadata": {
    "collapsed": false
   },
   "outputs": [
    {
     "name": "stderr",
     "output_type": "stream",
     "text": [
      "INFO:fbprophet.forecaster:Disabling daily seasonality. Run prophet with daily_seasonality=True to override this.\n"
     ]
    }
   ],
   "source": [
    "# Create a new model \n",
    "tesla_prophet = fbprophet.Prophet(changepoint_prior_scale=0.2)\n",
    "\n",
    "# Train the model\n",
    "tesla_prophet.fit(tesla_train)\n",
    "\n",
    "# Number of days to make predictions \n",
    "days = (max(tesla_test['ds']) - min(tesla_test['ds'])).days\n",
    "\n",
    "# Future dataframe\n",
    "tesla_forecast = tesla_prophet.make_future_dataframe(periods = days, freq = 'D')\n",
    "\n",
    "# Make forecasts\n",
    "tesla_forecast = tesla_prophet.predict(tesla_forecast)"
   ]
  },
  {
   "cell_type": "code",
   "execution_count": 51,
   "metadata": {
    "collapsed": false
   },
   "outputs": [],
   "source": [
    "tesla_results = tesla_forecast.merge(tesla_test, how = 'inner', on = 'ds')\n",
    "tesla_results = tesla_results[['ds', 'y', 'yhat']]\n",
    "\n",
    "# Predicted difference between stock prices\n",
    "tesla_results['pred_diff'] = (tesla_results['yhat']).diff()\n",
    "\n",
    "# Actual difference between stock prices\n",
    "tesla_results['real_diff'] = (tesla_results['y']).diff()"
   ]
  },
  {
   "cell_type": "code",
   "execution_count": 55,
   "metadata": {
    "collapsed": true
   },
   "outputs": [],
   "source": [
    "# Correct direction column\n",
    "tesla_results['correct'] = (np.sign(tesla_results['pred_diff']) == np.sign(tesla_results['real_diff'])) * 1"
   ]
  },
  {
   "cell_type": "code",
   "execution_count": 56,
   "metadata": {
    "collapsed": false
   },
   "outputs": [
    {
     "data": {
      "text/html": [
       "<div>\n",
       "<style scoped>\n",
       "    .dataframe tbody tr th:only-of-type {\n",
       "        vertical-align: middle;\n",
       "    }\n",
       "\n",
       "    .dataframe tbody tr th {\n",
       "        vertical-align: top;\n",
       "    }\n",
       "\n",
       "    .dataframe thead th {\n",
       "        text-align: right;\n",
       "    }\n",
       "</style>\n",
       "<table border=\"1\" class=\"dataframe\">\n",
       "  <thead>\n",
       "    <tr style=\"text-align: right;\">\n",
       "      <th></th>\n",
       "      <th>ds</th>\n",
       "      <th>y</th>\n",
       "      <th>yhat</th>\n",
       "      <th>pred_diff</th>\n",
       "      <th>real_diff</th>\n",
       "      <th>correct</th>\n",
       "    </tr>\n",
       "  </thead>\n",
       "  <tbody>\n",
       "    <tr>\n",
       "      <th>0</th>\n",
       "      <td>2017-01-03</td>\n",
       "      <td>216.99</td>\n",
       "      <td>186.828281</td>\n",
       "      <td>NaN</td>\n",
       "      <td>NaN</td>\n",
       "      <td>0</td>\n",
       "    </tr>\n",
       "    <tr>\n",
       "      <th>1</th>\n",
       "      <td>2017-01-04</td>\n",
       "      <td>226.99</td>\n",
       "      <td>186.063539</td>\n",
       "      <td>-0.764742</td>\n",
       "      <td>10.00</td>\n",
       "      <td>0</td>\n",
       "    </tr>\n",
       "    <tr>\n",
       "      <th>2</th>\n",
       "      <td>2017-01-05</td>\n",
       "      <td>226.75</td>\n",
       "      <td>185.533523</td>\n",
       "      <td>-0.530017</td>\n",
       "      <td>-0.24</td>\n",
       "      <td>1</td>\n",
       "    </tr>\n",
       "    <tr>\n",
       "      <th>3</th>\n",
       "      <td>2017-01-06</td>\n",
       "      <td>229.01</td>\n",
       "      <td>184.832816</td>\n",
       "      <td>-0.700706</td>\n",
       "      <td>2.26</td>\n",
       "      <td>0</td>\n",
       "    </tr>\n",
       "    <tr>\n",
       "      <th>4</th>\n",
       "      <td>2017-01-09</td>\n",
       "      <td>231.28</td>\n",
       "      <td>183.398138</td>\n",
       "      <td>-1.434679</td>\n",
       "      <td>2.27</td>\n",
       "      <td>0</td>\n",
       "    </tr>\n",
       "  </tbody>\n",
       "</table>\n",
       "</div>"
      ],
      "text/plain": [
       "          ds       y        yhat  pred_diff  real_diff  correct\n",
       "0 2017-01-03  216.99  186.828281        NaN        NaN        0\n",
       "1 2017-01-04  226.99  186.063539  -0.764742      10.00        0\n",
       "2 2017-01-05  226.75  185.533523  -0.530017      -0.24        1\n",
       "3 2017-01-06  229.01  184.832816  -0.700706       2.26        0\n",
       "4 2017-01-09  231.28  183.398138  -1.434679       2.27        0"
      ]
     },
     "execution_count": 56,
     "metadata": {},
     "output_type": "execute_result"
    }
   ],
   "source": [
    "tesla_results.head()"
   ]
  },
  {
   "cell_type": "code",
   "execution_count": 57,
   "metadata": {
    "collapsed": false
   },
   "outputs": [
    {
     "data": {
      "text/plain": [
       "0.4823529411764706"
      ]
     },
     "execution_count": 57,
     "metadata": {},
     "output_type": "execute_result"
    }
   ],
   "source": [
    "np.mean(tesla_results['correct'])"
   ]
  },
  {
   "cell_type": "code",
   "execution_count": 36,
   "metadata": {
    "collapsed": false
   },
   "outputs": [
    {
     "data": {
      "image/png": "[encoded data removed]",
      "text/plain": [
       "<matplotlib.figure.Figure at 0x19138c1d128>"
      ]
     },
     "metadata": {},
     "output_type": "display_data"
    }
   ],
   "source": [
    "tesla_prophet.plot(tesla_forecast)\n",
    "plt.title('Tesla Stock Forecast'); plt.ylabel('Stock Price ($)'); plt.xlabel('Year');\n",
    "plt.plot(tesla_test['ds'], tesla_test['y'], 'k', label = 'actual')\n",
    "plt.legend();"
   ]
  },
  {
   "cell_type": "code",
   "execution_count": 20,
   "metadata": {
    "collapsed": true
   },
   "outputs": [],
   "source": [
    "def stock_predictor(ticker='TSLA'):\n",
    "    try:\n",
    "        stock = quandl.get('WIKI/%s' % ticker)\n",
    "    except Exception as e:\n",
    "        print('Invalid Stock Ticker')\n",
    "        print(e)\n",
    "        return\n",
    "    \n",
    "    # Change the index to a Date column\n",
    "    stock_clean = stock.reset_index()[['Date', 'Adj. Close']]\n",
    "    # Create a year column\n",
    "    stock_clean['Year'] = [date.year for date in stock_clean['Date']]\n",
    "    \n",
    "    # Training and Testing Sets\n",
    "    stock_train = stock_clean[stock_clean['Year'] < 2017].rename(columns={'Date': 'ds', 'Adj. Close': 'y'})\n",
    "    stock_test = stock_clean[stock_clean['Year'] > 2016]\n",
    "    \n",
    "    # Create the prophet model and fit on training set\n",
    "    stock_prophet = fbprophet.Prophet(changepoint_prior_scale=0.15)\n",
    "    stock_prophet.fit(stock_train)\n",
    "    \n",
    "    # Number of days to predict\n",
    "    days = (max(stock_test['ds']) - min(stock_test['ds'])).days\n",
    "    \n",
    "    # Make forecasts for entire length of test set + one week\n",
    "    stock_forecast = stock_prophet.make_future_dataframe(periods=days, freq = 'D')\n",
    "    stock_forecast = stock_prophet.predict(stock_forecast)\n",
    "    \n",
    "    # Plot the entire series\n",
    "    stock_prophet.plot(stock_forecast); plt.xlabel('Year'); plt.ylabel('Price (US $)');\n",
    "    plt.title('%s Stock Price and Predictions' % ticker)\n",
    "    \n",
    "    \n",
    "    # Dataframe for predictions and test values\n",
    "    results = stock_forecast[['ds', 'yhat', 'trend', 'seasonal', 'seasonalities', 'weekly', 'yearly', 'yhat_upper', 'yhat_lower']]\n",
    "    results = pd.merge(results, stock_test[['Date', 'Adj. Close']], left_on='ds', right_on='Date', how='right')\n",
    "    \n",
    "    all_pred = results[['trend', 'seasonal', 'seasonalities', 'weekly', 'yearly']]\n",
    "    # results['yhat'] = list(np.sum(np.array(all_pred), axis=1))\n",
    "    \n",
    "    \n",
    "    xvalues = list(range(len(results['Date'])))\n",
    "\n",
    "    xlabels = list(range(13))\n",
    "    xlabels.append(1)\n",
    "    \n",
    "    \n",
    "    fig, ax = plt.subplots(1, 1, figsize=(10, 8));\n",
    "    ax.plot(xvalues, results['Adj. Close'], 'b-', label = 'Actual');\n",
    "    ax.plot(xvalues, results['yhat'], 'r*', label = 'Predicted');\n",
    "    ax.fill_between(xvalues, results['yhat_upper'], results['yhat_lower'], alpha=0.6, edgecolor = 'k');\n",
    "    ax.set_xticks(ticks = list(range(0, max(xvalues), int(max(xvalues) / 12))));\n",
    "    ax.set_xticklabels(labels = xlabels);\n",
    "    plt.legend();\n",
    "    plt.xlabel('2017'); plt.ylabel('Billions $'); plt.title('Stock Price Prediction for %s' % ticker)\n",
    "    plt.show()\n",
    "                  \n",
    "    # Columns of daily changes\n",
    "    results['pred_diff'] = results['yhat'].diff()\n",
    "    results['actual_diff'] = results['Adj. Close'].diff()\n",
    "    \n",
    "    # Whether the prediction was right or wrong\n",
    "    results['pred_right'] = np.array((np.sign(results['pred_diff']) == np.sign(results['actual_diff'])).astype('int')).astype(int)\n",
    "    \n",
    "    plt.figure(figsize = (10, 8))\n",
    "    plt.plot(results['Date'], results['actual_diff'], 'bo-', label = 'Actual')\n",
    "    plt.plot(results['Date'], results['pred_diff'], 'r*-', label = 'Predicted')\n",
    "    plt.legend(); plt.xlabel('Date'); plt.ylabel('Change (US $)'); plt.title('Actual vs. Predicted Daily Change');\n",
    "    plt.show();\n",
    "    \n",
    "    # Percentage of time direction lined up\n",
    "    direction_accuracy = np.mean(results['pred_right'])\n",
    "                                         \n",
    "    # Performance metrics\n",
    "    errors = abs(results['yhat'] - results['Adj. Close'])\n",
    "    mean_error = np.mean(errors)\n",
    "    mape = np.mean(errors / results['Adj. Close'])\n",
    "    accuracy = 100 - (100 * mape)\n",
    "    \n",
    "    print('Actual and Predicted Difference Aligned {:0.2f}%.'.format(direction_accuracy * 100))\n",
    "    \n",
    "    performance = {'error': mean_error, 'accuracy': accuracy, 'dir_acc': direction_accuracy, 'predictions': results}\n",
    "    return performance"
   ]
  },
  {
   "cell_type": "code",
   "execution_count": null,
   "metadata": {
    "collapsed": true
   },
   "outputs": [],
   "source": []
  }
 ],
 "metadata": {
  "kernelspec": {
   "display_name": "Python 3",
   "language": "python",
   "name": "python3"
  },
  "language_info": {
   "codemirror_mode": {
    "name": "ipython",
    "version": 3
   },
   "file_extension": ".py",
   "mimetype": "text/x-python",
   "name": "python",
   "nbconvert_exporter": "python",
   "pygments_lexer": "ipython3",
   "version": "3.6.0"
  }
 },
 "nbformat": 4,
 "nbformat_minor": 2
}
