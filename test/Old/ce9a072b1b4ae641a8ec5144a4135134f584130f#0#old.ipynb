{
 "cells": [
  {
   "cell_type": "markdown",
   "metadata": {},
   "source": [
    "# Purpose\n",
    "\n",
    "Weighter is designed to be a hacky weight tracking app using Slack as a frontend and Google Sheets as a database! \n",
    "Weights are entered through a Slack Channel, stored in a Google Sheet, and reported back to users through Slack. Users will have the option to view various stats and graphs by sending different slack messages. \n",
    "\n",
    "Weighter also features additive modeling forecasts using the Facebook Prophet library. "
   ]
  },
  {
   "cell_type": "markdown",
   "metadata": {},
   "source": [
    "## Setup Libraries and Access to the Google Sheet"
   ]
  },
  {
   "cell_type": "code",
   "execution_count": 1,
   "metadata": {
    "collapsed": false
   },
   "outputs": [],
   "source": [
    "# pandas and numpy for data manipulation\n",
    "import pandas as pd\n",
    "import numpy as np\n",
    "\n",
    "# fbprophet for additive models\n",
    "import fbprophet\n",
    "\n",
    "# gspread for Google Sheets access\n",
    "import gspread\n",
    "\n",
    "# slacker for interacting with Slack\n",
    "from slacker import Slacker\n",
    "\n",
    "# oauth2client for authorizing access to Google Sheets\n",
    "from oauth2client.service_account import ServiceAccountCredentials"
   ]
  },
  {
   "cell_type": "code",
   "execution_count": 2,
   "metadata": {
    "collapsed": true
   },
   "outputs": [],
   "source": [
    "# matplotlib for plotting in the notebook\n",
    "import matplotlib.pyplot as plt\n",
    "%matplotlib inline\n",
    "\n",
    "import matplotlib"
   ]
  },
  {
   "cell_type": "markdown",
   "metadata": {},
   "source": [
    "### Google Sheet Access\n",
    "\n",
    "The json file is the credentials for accessing the google sheet generated from the Google Developers API. To access a specific sheet, you need to share the sheet with the email address in the json file. "
   ]
  },
  {
   "cell_type": "code",
   "execution_count": 69,
   "metadata": {
    "collapsed": false
   },
   "outputs": [
    {
     "name": "stderr",
     "output_type": "stream",
     "text": [
      "INFO:oauth2client.client:Refreshing access_token\n"
     ]
    }
   ],
   "source": [
    "# google sheets access\n",
    "scope = ['https://spreadsheets.google.com/feeds']\n",
    "\n",
    "# Use local stored credentials in json file\n",
    "# make sure to first share the sheet with the email in the json file\n",
    "credentials = ServiceAccountCredentials.from_json_keyfile_name('C:/Users/Will Koehrsen/Desktop/weighter-2038ffb4e5a6.json', scope)\n",
    "\n",
    "# Authorize access\n",
    "gc = gspread.authorize(credentials);"
   ]
  },
  {
   "cell_type": "markdown",
   "metadata": {},
   "source": [
    "## Set up Slack Access"
   ]
  },
  {
   "cell_type": "code",
   "execution_count": 70,
   "metadata": {
    "collapsed": true
   },
   "outputs": [],
   "source": [
    "# Slack api key is stored as text file\n",
    "with open('C:/Users/Will Koehrsen/Desktop/slack_api.txt', 'r') as f:\n",
    "    slack_api_key = f.read()"
   ]
  },
  {
   "cell_type": "code",
   "execution_count": 72,
   "metadata": {
    "collapsed": false
   },
   "outputs": [],
   "source": [
    "slack = Slacker(slack_api_key)"
   ]
  },
  {
   "cell_type": "code",
   "execution_count": 16,
   "metadata": {
    "collapsed": false
   },
   "outputs": [
    {
     "data": {
      "text/plain": [
       "<slacker.Response at 0x1787af30a20>"
      ]
     },
     "execution_count": 16,
     "metadata": {},
     "output_type": "execute_result"
    }
   ],
   "source": [
    "slack.chat.post_message('#test_python', 'Hello Fellow Slackers')"
   ]
  },
  {
   "cell_type": "markdown",
   "metadata": {},
   "source": [
    "### Open the sheet and convert to a pandas dataframe"
   ]
  },
  {
   "cell_type": "code",
   "execution_count": 4,
   "metadata": {
    "collapsed": true
   },
   "outputs": [],
   "source": [
    "# Open the sheet, need to share the sheet with email specified in json file\n",
    "gsheet = gc.open('Auto Weight Challenge').sheet1\n",
    "\n",
    "# List of lists with each row in the sheet as a list\n",
    "weight_lists = gsheet.get_all_values()\n",
    "\n",
    "# Headers are the first list\n",
    "# Pop returns the element (list in this case) and removes it from the list\n",
    "headers = weight_lists.pop(0)\n",
    "\n",
    "# Convert list of lists to a dataframe with specified column header\n",
    "weights = pd.DataFrame(weight_lists, columns=headers)\n",
    "\n",
    "# Record column should be a boolean\n",
    "weights['Record'] = weights['Record'].astype(bool)\n",
    "\n",
    "# Name column is a string\n",
    "weights['Name'] = weights['Name'].astype(str)\n",
    "\n",
    "# Convert dates to datetime, then set as index, then set the time zone\n",
    "weights['Date'] = pd.to_datetime(weights['Date'], unit='s')\n",
    "weights  = weights.set_index('Date', drop = True).tz_localize(tz='US/Eastern')"
   ]
  },
  {
   "cell_type": "code",
   "execution_count": 5,
   "metadata": {
    "collapsed": false
   },
   "outputs": [
    {
     "data": {
      "text/html": [
       "<div>\n",
       "<style scoped>\n",
       "    .dataframe tbody tr th:only-of-type {\n",
       "        vertical-align: middle;\n",
       "    }\n",
       "\n",
       "    .dataframe tbody tr th {\n",
       "        vertical-align: top;\n",
       "    }\n",
       "\n",
       "    .dataframe thead th {\n",
       "        text-align: right;\n",
       "    }\n",
       "</style>\n",
       "<table border=\"1\" class=\"dataframe\">\n",
       "  <thead>\n",
       "    <tr style=\"text-align: right;\">\n",
       "      <th></th>\n",
       "      <th>Name</th>\n",
       "      <th>Entry</th>\n",
       "      <th>Record</th>\n",
       "    </tr>\n",
       "    <tr>\n",
       "      <th>Date</th>\n",
       "      <th></th>\n",
       "      <th></th>\n",
       "      <th></th>\n",
       "    </tr>\n",
       "  </thead>\n",
       "  <tbody>\n",
       "    <tr>\n",
       "      <th>2017-08-18 00:00:00-04:00</th>\n",
       "      <td>koehrcl</td>\n",
       "      <td>235.2</td>\n",
       "      <td>True</td>\n",
       "    </tr>\n",
       "    <tr>\n",
       "      <th>2017-08-19 00:00:00-04:00</th>\n",
       "      <td>koehrcl</td>\n",
       "      <td>235.6</td>\n",
       "      <td>True</td>\n",
       "    </tr>\n",
       "    <tr>\n",
       "      <th>2017-08-20 00:00:00-04:00</th>\n",
       "      <td>koehrcl</td>\n",
       "      <td>233</td>\n",
       "      <td>True</td>\n",
       "    </tr>\n",
       "    <tr>\n",
       "      <th>2017-08-21 00:00:00-04:00</th>\n",
       "      <td>koehrcl</td>\n",
       "      <td>232.6</td>\n",
       "      <td>True</td>\n",
       "    </tr>\n",
       "    <tr>\n",
       "      <th>2017-08-22 00:00:00-04:00</th>\n",
       "      <td>koehrcl</td>\n",
       "      <td>234.4</td>\n",
       "      <td>True</td>\n",
       "    </tr>\n",
       "  </tbody>\n",
       "</table>\n",
       "</div>"
      ],
      "text/plain": [
       "                              Name  Entry  Record\n",
       "Date                                             \n",
       "2017-08-18 00:00:00-04:00  koehrcl  235.2    True\n",
       "2017-08-19 00:00:00-04:00  koehrcl  235.6    True\n",
       "2017-08-20 00:00:00-04:00  koehrcl    233    True\n",
       "2017-08-21 00:00:00-04:00  koehrcl  232.6    True\n",
       "2017-08-22 00:00:00-04:00  koehrcl  234.4    True"
      ]
     },
     "execution_count": 5,
     "metadata": {},
     "output_type": "execute_result"
    }
   ],
   "source": [
    "weights.head()"
   ]
  },
  {
   "cell_type": "code",
   "execution_count": 6,
   "metadata": {
    "collapsed": false
   },
   "outputs": [
    {
     "data": {
      "text/html": [
       "<div>\n",
       "<style scoped>\n",
       "    .dataframe tbody tr th:only-of-type {\n",
       "        vertical-align: middle;\n",
       "    }\n",
       "\n",
       "    .dataframe tbody tr th {\n",
       "        vertical-align: top;\n",
       "    }\n",
       "\n",
       "    .dataframe thead th {\n",
       "        text-align: right;\n",
       "    }\n",
       "</style>\n",
       "<table border=\"1\" class=\"dataframe\">\n",
       "  <thead>\n",
       "    <tr style=\"text-align: right;\">\n",
       "      <th></th>\n",
       "      <th>Name</th>\n",
       "      <th>Entry</th>\n",
       "      <th>Record</th>\n",
       "    </tr>\n",
       "    <tr>\n",
       "      <th>Date</th>\n",
       "      <th></th>\n",
       "      <th></th>\n",
       "      <th></th>\n",
       "    </tr>\n",
       "  </thead>\n",
       "  <tbody>\n",
       "    <tr>\n",
       "      <th>2018-01-19 14:34:56-05:00</th>\n",
       "      <td>koehrcl</td>\n",
       "      <td>221.1</td>\n",
       "      <td>False</td>\n",
       "    </tr>\n",
       "    <tr>\n",
       "      <th>2018-01-19 15:30:25-05:00</th>\n",
       "      <td>willkoehrsen</td>\n",
       "      <td>137.3</td>\n",
       "      <td>False</td>\n",
       "    </tr>\n",
       "    <tr>\n",
       "      <th>2018-01-19 18:11:49-05:00</th>\n",
       "      <td>fletcher</td>\n",
       "      <td>188.4</td>\n",
       "      <td>False</td>\n",
       "    </tr>\n",
       "    <tr>\n",
       "      <th>2018-01-20 15:39:12-05:00</th>\n",
       "      <td>willkoehrsen</td>\n",
       "      <td>137</td>\n",
       "      <td>False</td>\n",
       "    </tr>\n",
       "    <tr>\n",
       "      <th>2018-01-20 15:49:52-05:00</th>\n",
       "      <td>koehrcl</td>\n",
       "      <td>220.4</td>\n",
       "      <td>False</td>\n",
       "    </tr>\n",
       "  </tbody>\n",
       "</table>\n",
       "</div>"
      ],
      "text/plain": [
       "                                   Name  Entry  Record\n",
       "Date                                                  \n",
       "2018-01-19 14:34:56-05:00       koehrcl  221.1   False\n",
       "2018-01-19 15:30:25-05:00  willkoehrsen  137.3   False\n",
       "2018-01-19 18:11:49-05:00      fletcher  188.4   False\n",
       "2018-01-20 15:39:12-05:00  willkoehrsen    137   False\n",
       "2018-01-20 15:49:52-05:00       koehrcl  220.4   False"
      ]
     },
     "execution_count": 6,
     "metadata": {},
     "output_type": "execute_result"
    }
   ],
   "source": [
    "weights.tail()"
   ]
  },
  {
   "cell_type": "markdown",
   "metadata": {},
   "source": [
    "+ Date is the index (in Eastern time here)\n",
    "+ Name is the slack username\n",
    "+ Entry is either weight or a string to display results\n",
    "+ Record is whether or not the entry has been processed by weighter"
   ]
  },
  {
   "cell_type": "markdown",
   "metadata": {},
   "source": [
    "# Weighter Class\n",
    "\n",
    "The class will include a number of different methods for analyzing the data and graphing results. These results can then be sent back to Slack depending on the message entered by the user."
   ]
  },
  {
   "cell_type": "code",
   "execution_count": 66,
   "metadata": {
    "collapsed": false
   },
   "outputs": [],
   "source": [
    "class Weighter():\n",
    "    \n",
    "    \"\"\"\n",
    "    When weighter is initialized, we need to convert the usernames,\n",
    "    get a dictionary of the unrecorded entries, construct a dictionary\n",
    "    of the actions to take, and make sure all data is formatted correctly\n",
    "    \"\"\"\n",
    "    \n",
    "    def __init__(self, weights):\n",
    "        \n",
    "        # Weights is a dataframe\n",
    "        self.weights = weights.copy()\n",
    "        \n",
    "        # Users is a list of the unique users in the data\n",
    "        self.users = list(set(self.weights['Name']))\n",
    "        \n",
    "        correct_names = []\n",
    "        # Name changes\n",
    "        for user in self.weights['Name']:\n",
    "            \n",
    "            # Have to hardcode in name changes\n",
    "            if user == 'koehrcl':\n",
    "                correct_names.append('Craig')\n",
    "            elif user == 'willkoehrsen':\n",
    "                correct_names.append('Will')\n",
    "            elif user == 'fletcher':\n",
    "                correct_names.append('Fletcher')\n",
    "            \n",
    "            # Currently do not handle new users\n",
    "            else:\n",
    "                print('New User Detected')\n",
    "                return\n",
    "            \n",
    "        self.weights['Name'] = correct_names\n",
    "        \n",
    "        # Users is a list of the unique users in the data\n",
    "        self.users = list(set(self.weights['Name']))\n",
    "        \n",
    "        # Create a dataframe of the unrecorded entries\n",
    "        self.unrecorded = self.weights[self.weights['Record'] != True]\n",
    "        \n",
    "        # Process the unrecorded entries\n",
    "        self.process_unrecorded()\n",
    "        \n",
    "        # The remaning entries will all be weights\n",
    "        self.weights['Entry'] = [float(weight) for weight in self.weights['Entry']]\n",
    "        \n",
    "        # Build the user dictionary\n",
    "        self.build_user_dict()\n",
    "        \n",
    "        \n",
    "    \"\"\" \n",
    "    Constructs a dictionary for each user with critical information\n",
    "    This forms the basis for the summarize function\n",
    "    \"\"\"\n",
    "    \n",
    "    def build_user_dict(self):\n",
    "        \n",
    "        user_dict = {}\n",
    "        \n",
    "        user_goals = {'Craig': 215.0, 'Fletcher': 200.0, 'Will': 155.0}\n",
    "        \n",
    "        for i, user in enumerate(self.users):\n",
    "            \n",
    "            user_weights = self.weights[self.weights['Name'] == user]\n",
    "            goal = user_goals.get(user)\n",
    "\n",
    "            start_weight = user_weights.ix[min(user_weights.index), 'Entry']   \n",
    "            start_date = min(user_weights.index)\n",
    "            \n",
    "            # Find minimum weight and date on which it occurs\n",
    "            min_weight =  min(user_weights['Entry'])\n",
    "            min_weight_date = ((user_weights[user_weights['Entry'] == min_weight].index)[0])\n",
    "            \n",
    "            # Find maximum weight and date on which it occurs\n",
    "            max_weight = max(user_weights['Entry'])\n",
    "            max_weight_date = ((user_weights[user_weights['Entry'] == max_weight].index)[0])\n",
    "            \n",
    "            most_recent_weight = user_weights.ix[max(user_weights.index), 'Entry']\n",
    "            \n",
    "            if goal < start_weight:\n",
    "                change = start_weight - most_recent_weight\n",
    "                obj = 'lose'\n",
    "            elif goal > start_weight:\n",
    "                change = most_recent_weight - start_weight\n",
    "                obj = 'gain'\n",
    "                \n",
    "            pct_change = 100 *change / start_weight\n",
    "            \n",
    "            pct_to_goal = 100 * (change / abs(start_weight - goal) )\n",
    "            \n",
    "            user_dict[user] = {'min_weight': min_weight, 'max_weight': max_weight,\n",
    "                               'min_date': min_weight_date, 'max_date': max_weight_date,\n",
    "                               'recent': most_recent_weight, 'abs_change': change,\n",
    "                               'pct_change': pct_change, 'pct_towards_goal': pct_to_goal,\n",
    "                               'start_weight': start_weight, 'start_date': start_date,\n",
    "                               'goal_weight': goal, 'objective': obj}\n",
    "       \n",
    "        self.user_dict = user_dict\n",
    "             \n",
    "    \"\"\"\n",
    "    Builds a dictionary of unrecorded entries where each key is the user\n",
    "    and the value is a list of weights and methods called for by the user.\n",
    "    This dictionary is saved as the entries attribute of the class.\n",
    "    \"\"\"\n",
    "    \n",
    "    def process_unrecorded(self):\n",
    "        \n",
    "        entries = {name:[] for name in self.users}\n",
    "        drop = []\n",
    "        \n",
    "        for index in self.unrecorded.index:\n",
    "\n",
    "            entry = self.unrecorded.ix[index, 'Entry']\n",
    "            user = str(self.unrecorded.ix[index, 'Name'])\n",
    "            \n",
    "            # Try and except does not seem like the best way to handle this\n",
    "            try:\n",
    "                entry = float(entry)\n",
    "                entries[user].append(entry)\n",
    "                \n",
    "            except:  \n",
    "                entry = str(entry)\n",
    "                entries[user].append(entry)\n",
    "                \n",
    "                drop.append(index)\n",
    "                \n",
    "            self.weights.ix[index, 'Record'] = True\n",
    "        # Drop the rows which do not contain a weight\n",
    "        self.weights.drop(drop, axis=0, inplace=True)\n",
    "        \n",
    "        # Entries is all of the new entries\n",
    "        self.entries = entries\n",
    "        \n",
    "    \"\"\" \n",
    "    Iterates through the unrecorded entries and delegates \n",
    "    each one to the appropriate method.\n",
    "    \"\"\"\n",
    "    def process_entries(self):\n",
    "        for user, user_entries in self.entries.items():\n",
    "            for entry in user_entries:\n",
    "                if type(entry) == float:\n",
    "                    self.basic_message(user, entry)\n",
    "                \n",
    "                elif entry.lower() == 'summary':\n",
    "                    self.summary(user)\n",
    "                \n",
    "    \"\"\" \n",
    "    This method is automatically run for each new weight\n",
    "    \"\"\"\n",
    "    def basic_message(self, user, entry):\n",
    "    \n",
    "        # Find information for user, construct message, post message to Slack\n",
    "        user_info = self.user_dict.get(user)\n",
    "\n",
    "        message = (\"\\n{}: Total Weight Change = {:.2f} lbs.\\n\\n\"\n",
    "                    \"Percentage Weight Change = {:.2f}%\").format(user, user_info['abs_change'],\n",
    "                                                     user_info['pct_change'])\n",
    "\n",
    "        slack.chat.post_message('#test_python', text=message, username='Weight Challenge Update')\n",
    "                        \n",
    "    \"\"\" \n",
    "    Displays comprehensive stats about the user\n",
    "    Only run on a summary message in the slack channel\n",
    "    \"\"\"\n",
    "    \n",
    "    def summary(self, user):\n",
    "        user_info = self.user_dict.get(user)\n",
    "        message = (\"\\n{}, your most recent weight was {:.2f} lbs.\\n\\n\"\n",
    "                   \"Absolute weight change = {:.2f} lbs, percentage weight change = {:.2f}%.\\n\\n\"\n",
    "                   \"Minimum weight = {:.2f} lbs on {} and maximum weight = {:.2f} lbs on {}.\\n\\n\"\n",
    "                   \"Your goal weight = {:.2f} lbs. and you are {:.2f}% of the way there.\\n\\n\"\n",
    "                   \"You started at {:.2f} lbs on {}. Congratulations on the progress!\").format(user, \n",
    "                     user_info['recent'], user_info['abs_change'], user_info['pct_change'], \n",
    "                     user_info['min_weight'], str(user_info['min_date'].date()),\n",
    "                     user_info['max_weight'], str(user_info['max_date'].date()),\n",
    "                     user_info['goal_weight'], user_info['pct_towards_goal'],                                                       \n",
    "                     user_info['start_weight'], str(user_info['start_date'].date()))\n",
    "        \n",
    "        slack.chat.post_message('#test_python', text=message, username='%s Summary' % user)\n",
    "        \n",
    "    "
   ]
  },
  {
   "cell_type": "code",
   "execution_count": 67,
   "metadata": {
    "collapsed": false,
    "scrolled": false
   },
   "outputs": [],
   "source": [
    "weighter = Weighter(weights)"
   ]
  },
  {
   "cell_type": "code",
   "execution_count": 68,
   "metadata": {
    "collapsed": false
   },
   "outputs": [
    {
     "data": {
      "text/html": [
       "<div>\n",
       "<style scoped>\n",
       "    .dataframe tbody tr th:only-of-type {\n",
       "        vertical-align: middle;\n",
       "    }\n",
       "\n",
       "    .dataframe tbody tr th {\n",
       "        vertical-align: top;\n",
       "    }\n",
       "\n",
       "    .dataframe thead th {\n",
       "        text-align: right;\n",
       "    }\n",
       "</style>\n",
       "<table border=\"1\" class=\"dataframe\">\n",
       "  <thead>\n",
       "    <tr style=\"text-align: right;\">\n",
       "      <th></th>\n",
       "      <th>Name</th>\n",
       "      <th>Entry</th>\n",
       "      <th>Record</th>\n",
       "    </tr>\n",
       "    <tr>\n",
       "      <th>Date</th>\n",
       "      <th></th>\n",
       "      <th></th>\n",
       "      <th></th>\n",
       "    </tr>\n",
       "  </thead>\n",
       "  <tbody>\n",
       "    <tr>\n",
       "      <th>2018-01-19 14:34:56-05:00</th>\n",
       "      <td>Craig</td>\n",
       "      <td>221.1</td>\n",
       "      <td>True</td>\n",
       "    </tr>\n",
       "    <tr>\n",
       "      <th>2018-01-19 15:30:25-05:00</th>\n",
       "      <td>Will</td>\n",
       "      <td>137.3</td>\n",
       "      <td>True</td>\n",
       "    </tr>\n",
       "    <tr>\n",
       "      <th>2018-01-19 18:11:49-05:00</th>\n",
       "      <td>Fletcher</td>\n",
       "      <td>188.4</td>\n",
       "      <td>True</td>\n",
       "    </tr>\n",
       "    <tr>\n",
       "      <th>2018-01-20 15:39:12-05:00</th>\n",
       "      <td>Will</td>\n",
       "      <td>137.0</td>\n",
       "      <td>True</td>\n",
       "    </tr>\n",
       "    <tr>\n",
       "      <th>2018-01-20 15:49:52-05:00</th>\n",
       "      <td>Craig</td>\n",
       "      <td>220.4</td>\n",
       "      <td>True</td>\n",
       "    </tr>\n",
       "  </tbody>\n",
       "</table>\n",
       "</div>"
      ],
      "text/plain": [
       "                               Name  Entry  Record\n",
       "Date                                              \n",
       "2018-01-19 14:34:56-05:00     Craig  221.1    True\n",
       "2018-01-19 15:30:25-05:00      Will  137.3    True\n",
       "2018-01-19 18:11:49-05:00  Fletcher  188.4    True\n",
       "2018-01-20 15:39:12-05:00      Will  137.0    True\n",
       "2018-01-20 15:49:52-05:00     Craig  220.4    True"
      ]
     },
     "execution_count": 68,
     "metadata": {},
     "output_type": "execute_result"
    }
   ],
   "source": [
    "weighter.weights.tail()"
   ]
  },
  {
   "cell_type": "code",
   "execution_count": 65,
   "metadata": {
    "collapsed": false
   },
   "outputs": [],
   "source": [
    "weighter.process_entries()"
   ]
  },
  {
   "cell_type": "code",
   "execution_count": 47,
   "metadata": {
    "collapsed": false
   },
   "outputs": [
    {
     "name": "stdout",
     "output_type": "stream",
     "text": [
      "\n",
      "Craig, your most recent weight was 220.40 lbs.\n",
      "\n",
      "Absolute weight change = 14.80 lbs and percentage weight change = 6.29%.\n",
      "\n",
      "Your goal weight = 215.00 lbs. and you are 73.27% of the way there.\n",
      "\n",
      "Minimum weight = 219.60 lbs on 2017-12-27 and maximum weight = 235.60 lbs on 2017-08-19.\n",
      "\n",
      "You started at 235.20 lbs on 2017-08-18. Congratulations on the progress!\n"
     ]
    }
   ],
   "source": [
    "weighter.summary('Craig')"
   ]
  },
  {
   "cell_type": "code",
   "execution_count": 9,
   "metadata": {
    "collapsed": false
   },
   "outputs": [
    {
     "name": "stdout",
     "output_type": "stream",
     "text": [
      "\n",
      "User: Fletcher\n",
      "Total Weight Change = 4.00 lbs.\n",
      "Percentage Weight Change = %2.17.\n",
      "\n",
      "User: Fletcher\n",
      "Total Weight Change = 3.80 lbs.\n",
      "Percentage Weight Change = %2.06.\n",
      "\n",
      "User: Craig\n",
      "Total Weight Change = 15.40 lbs.\n",
      "Percentage Weight Change = %6.54.\n",
      "\n",
      "User: Craig\n",
      "Total Weight Change = 14.50 lbs.\n",
      "Percentage Weight Change = %6.15.\n",
      "\n",
      "User: Craig\n",
      "Total Weight Change = 15.20 lbs.\n",
      "Percentage Weight Change = %6.45.\n",
      "\n",
      "User: Will\n",
      "Total Weight Change = 14.20 lbs.\n",
      "Percentage Weight Change = %11.49.\n",
      "\n",
      "User: Will\n",
      "Total Weight Change = 13.70 lbs.\n",
      "Percentage Weight Change = %11.08.\n",
      "\n",
      "User: Will\n",
      "Total Weight Change = 13.40 lbs.\n",
      "Percentage Weight Change = %10.84.\n"
     ]
    }
   ],
   "source": [
    "weighter.basic_message()"
   ]
  },
  {
   "cell_type": "code",
   "execution_count": 10,
   "metadata": {
    "collapsed": false
   },
   "outputs": [
    {
     "name": "stdout",
     "output_type": "stream",
     "text": [
      "{'min_weight': 219.6, 'max_weight': 235.6, 'min_date': Timestamp('2017-12-27 15:14:17-0500', tz='US/Eastern'), 'max_date': Timestamp('2017-08-19 00:00:00-0400', tz='US/Eastern'), 'recent': 220.40000000000001, 'abs_change': 14.799999999999983, 'pct_change': 6.2925170068027141, 'pct_towards_goal': 73.267326732673226, 'objective': 'lose'}\n"
     ]
    }
   ],
   "source": [
    "weighter.summary('Craig')"
   ]
  }
 ],
 "metadata": {
  "kernelspec": {
   "display_name": "Python 3",
   "language": "python",
   "name": "python3"
  },
  "language_info": {
   "codemirror_mode": {
    "name": "ipython",
    "version": 3
   },
   "file_extension": ".py",
   "mimetype": "text/x-python",
   "name": "python",
   "nbconvert_exporter": "python",
   "pygments_lexer": "ipython3",
   "version": "3.6.0"
  }
 },
 "nbformat": 4,
 "nbformat_minor": 2
}
