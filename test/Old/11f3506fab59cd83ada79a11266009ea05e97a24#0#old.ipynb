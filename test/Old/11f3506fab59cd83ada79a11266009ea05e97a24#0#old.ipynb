{
 "cells": [
  {
   "cell_type": "markdown",
   "metadata": {},
   "source": [
    "# Introduction: Encoding Time Series Features\n",
    "\n",
    "In this notebook, we will explore the options for encoding times and dates in a time series problem. The primary objective is to determine the optimal method for representing time in a time-series problem, particularly as it relates to building energy data."
   ]
  },
  {
   "cell_type": "code",
   "execution_count": 1,
   "metadata": {
    "ExecuteTime": {
     "end_time": "2019-02-14T01:22:07.088262Z",
     "start_time": "2019-02-14T01:21:43.315411Z"
    }
   },
   "outputs": [
    {
     "data": {
      "text/html": [
       "<script type=\"text/javascript\">window.PlotlyConfig = {MathJaxConfig: 'local'};</script><script type=\"text/javascript\">if (window.MathJax) {MathJax.Hub.Config({SVG: {font: \"STIX-Web\"}});}</script><script>requirejs.config({paths: { 'plotly': ['https://cdn.plot.ly/plotly-latest.min']},});if(!window._Plotly) {require(['plotly'],function(plotly) {window._Plotly=plotly;});}</script>"
      ],
      "text/vnd.plotly.v1+html": [
       "<script type=\"text/javascript\">window.PlotlyConfig = {MathJaxConfig: 'local'};</script><script type=\"text/javascript\">if (window.MathJax) {MathJax.Hub.Config({SVG: {font: \"STIX-Web\"}});}</script><script>requirejs.config({paths: { 'plotly': ['https://cdn.plot.ly/plotly-latest.min']},});if(!window._Plotly) {require(['plotly'],function(plotly) {window._Plotly=plotly;});}</script>"
      ]
     },
     "metadata": {},
     "output_type": "display_data"
    },
    {
     "data": {
      "text/html": [
       "<script type=\"text/javascript\">window.PlotlyConfig = {MathJaxConfig: 'local'};</script><script type=\"text/javascript\">if (window.MathJax) {MathJax.Hub.Config({SVG: {font: \"STIX-Web\"}});}</script><script>requirejs.config({paths: { 'plotly': ['https://cdn.plot.ly/plotly-latest.min']},});if(!window._Plotly) {require(['plotly'],function(plotly) {window._Plotly=plotly;});}</script>"
      ],
      "text/vnd.plotly.v1+html": [
       "<script type=\"text/javascript\">window.PlotlyConfig = {MathJaxConfig: 'local'};</script><script type=\"text/javascript\">if (window.MathJax) {MathJax.Hub.Config({SVG: {font: \"STIX-Web\"}});}</script><script>requirejs.config({paths: { 'plotly': ['https://cdn.plot.ly/plotly-latest.min']},});if(!window._Plotly) {require(['plotly'],function(plotly) {window._Plotly=plotly;});}</script>"
      ]
     },
     "metadata": {},
     "output_type": "display_data"
    }
   ],
   "source": [
    "# Standard Data Science Helpers\n",
    "import numpy as np\n",
    "import pandas as pd\n",
    "import os\n",
    "\n",
    "import plotly.plotly as py\n",
    "import plotly.graph_objs as go\n",
    "from plotly.offline import iplot, init_notebook_mode\n",
    "init_notebook_mode(connected=True)\n",
    "\n",
    "import cufflinks as cf\n",
    "cf.set_config_file(world_readable=True, theme=\"pearl\")\n",
    "cf.go_offline(connected=True)\n",
    "\n",
    "# Extra options\n",
    "pd.options.display.max_rows = 10\n",
    "pd.options.display.max_columns = 30\n",
    "# Show all code cells outputs\n",
    "from IPython.core.interactiveshell import InteractiveShell\n",
    "InteractiveShell.ast_node_interactivity = 'all'"
   ]
  },
  {
   "cell_type": "code",
   "execution_count": 2,
   "metadata": {
    "ExecuteTime": {
     "end_time": "2019-02-14T01:22:07.381477Z",
     "start_time": "2019-02-14T01:22:07.103222Z"
    }
   },
   "outputs": [],
   "source": [
    "%load_ext autoreload\n",
    "%autoreload 2"
   ]
  },
  {
   "cell_type": "code",
   "execution_count": 3,
   "metadata": {
    "ExecuteTime": {
     "end_time": "2019-02-14T01:22:07.965944Z",
     "start_time": "2019-02-14T01:22:07.633805Z"
    }
   },
   "outputs": [],
   "source": [
    "from time_features_utils import *"
   ]
  },
  {
   "cell_type": "code",
   "execution_count": 10,
   "metadata": {
    "ExecuteTime": {
     "end_time": "2019-02-14T01:53:13.840560Z",
     "start_time": "2019-02-14T01:53:13.412582Z"
    }
   },
   "outputs": [
    {
     "data": {
      "text/html": [
       "<div>\n",
       "<style scoped>\n",
       "    .dataframe tbody tr th:only-of-type {\n",
       "        vertical-align: middle;\n",
       "    }\n",
       "\n",
       "    .dataframe tbody tr th {\n",
       "        vertical-align: top;\n",
       "    }\n",
       "\n",
       "    .dataframe thead th {\n",
       "        text-align: right;\n",
       "    }\n",
       "</style>\n",
       "<table border=\"1\" class=\"dataframe\">\n",
       "  <thead>\n",
       "    <tr style=\"text-align: right;\">\n",
       "      <th></th>\n",
       "      <th>timestamp</th>\n",
       "      <th>energy</th>\n",
       "    </tr>\n",
       "  </thead>\n",
       "  <tbody>\n",
       "    <tr>\n",
       "      <th>0</th>\n",
       "      <td>2014-01-01 06:15:00</td>\n",
       "      <td>43.012862</td>\n",
       "    </tr>\n",
       "    <tr>\n",
       "      <th>1</th>\n",
       "      <td>2014-01-01 06:30:00</td>\n",
       "      <td>43.780204</td>\n",
       "    </tr>\n",
       "    <tr>\n",
       "      <th>2</th>\n",
       "      <td>2014-01-01 06:45:00</td>\n",
       "      <td>43.012709</td>\n",
       "    </tr>\n",
       "    <tr>\n",
       "      <th>3</th>\n",
       "      <td>2014-01-01 07:00:00</td>\n",
       "      <td>42.631804</td>\n",
       "    </tr>\n",
       "    <tr>\n",
       "      <th>4</th>\n",
       "      <td>2014-01-01 07:15:00</td>\n",
       "      <td>42.627307</td>\n",
       "    </tr>\n",
       "  </tbody>\n",
       "</table>\n",
       "</div>"
      ],
      "text/plain": [
       "            timestamp     energy\n",
       "0 2014-01-01 06:15:00  43.012862\n",
       "1 2014-01-01 06:30:00  43.780204\n",
       "2 2014-01-01 06:45:00  43.012709\n",
       "3 2014-01-01 07:00:00  42.631804\n",
       "4 2014-01-01 07:15:00  42.627307"
      ]
     },
     "execution_count": 10,
     "metadata": {},
     "output_type": "execute_result"
    }
   ],
   "source": [
    "data = pd.read_csv('data/building_1.csv', parse_dates=['timestamp'], \n",
    "                    usecols=['timestamp', 'energy'])\n",
    "data.head()"
   ]
  },
  {
   "cell_type": "code",
   "execution_count": 11,
   "metadata": {
    "ExecuteTime": {
     "end_time": "2019-02-14T01:53:27.666943Z",
     "start_time": "2019-02-14T01:53:27.405606Z"
    }
   },
   "outputs": [
    {
     "data": {
      "text/plain": [
       "15"
      ]
     },
     "execution_count": 11,
     "metadata": {},
     "output_type": "execute_result"
    }
   ],
   "source": [
    "# Remove missing values\n",
    "data = data.dropna(subset=['energy'])\n",
    "\n",
    "# Count frequencies\n",
    "freq_counts = data['timestamp'].diff(1).value_counts()\n",
    "# Most common frequency in minutes\n",
    "freq = round(freq_counts.idxmax().total_seconds() / 60)\n",
    "freq"
   ]
  },
  {
   "cell_type": "code",
   "execution_count": 18,
   "metadata": {
    "ExecuteTime": {
     "end_time": "2019-02-14T02:00:49.619380Z",
     "start_time": "2019-02-14T02:00:49.379481Z"
    }
   },
   "outputs": [],
   "source": [
    "def data_reading(building_filename):\n",
    "    \"\"\"\n",
    "    Read in building energy data from csv file\n",
    "    \"\"\"\n",
    "    data = pd.read_csv(building_filename, parse_dates=['timestamp'], \n",
    "                    usecols=['timestamp', 'energy'])\n",
    "    # Remove missing values\n",
    "    data = data.dropna(subset=['energy'])\n",
    "    \n",
    "    # Count frequencies\n",
    "    freq_counts = data['timestamp'].diff(1).value_counts()\n",
    "    # Most common frequency in minutes\n",
    "    freq = round(freq_counts.idxmax().total_seconds() / 60)\n",
    "    \n",
    "    # Set the index\n",
    "    data = data.set_index('timestamp').sort_index()\n",
    "    return data, freq, len(data)"
   ]
  },
  {
   "cell_type": "code",
   "execution_count": 19,
   "metadata": {
    "ExecuteTime": {
     "end_time": "2019-02-14T02:00:50.307193Z",
     "start_time": "2019-02-14T02:00:50.101777Z"
    }
   },
   "outputs": [],
   "source": [
    "def data_testing(building_filename, model):\n",
    "    \"\"\"\n",
    "    Test the model on the building energy data in a csv file\n",
    "    \n",
    "    :param filename: string filename of building\n",
    "    :param model: sklearn compatible model\n",
    "    \n",
    "    :return: dataframe of results\n",
    "    \"\"\"\n",
    "    # File the building id for indexing\n",
    "    building_id = building_filename.split('_')[-1].split('.csv')[0]\n",
    "    # Read in the file\n",
    "    data, freq, dpoints = data_reading(building_filename)\n",
    "    # Test the model on the data\n",
    "    results = test_time_features(data, model)\n",
    "    # Record the results\n",
    "    results['freq'] = freq\n",
    "    results['dpoints'] = dpoints\n",
    "    results['building_id'] = building_id\n",
    "    return results"
   ]
  },
  {
   "cell_type": "code",
   "execution_count": 37,
   "metadata": {
    "ExecuteTime": {
     "end_time": "2019-02-14T02:07:20.924012Z",
     "start_time": "2019-02-14T02:07:20.629799Z"
    }
   },
   "outputs": [],
   "source": [
    "def test_time_features(data, model):\n",
    "\n",
    "    data = pd.concat(\n",
    "        [data, create_time_features(data.index, cyc_encode=True)], axis=1)\n",
    "\n",
    "    scores = []\n",
    "    methods = []\n",
    "\n",
    "    y = data.pop('energy')\n",
    "\n",
    "    normal_features = [\n",
    "        'timestamp_' + t\n",
    "        for t in ['hour', 'dayofweek', 'month', 'dayofyear', 'year']\n",
    "    ]\n",
    "    normal_cyc_features = [\n",
    "        'sin_' + t for t in normal_features\n",
    "        if t not in ['timestamp_dayofyear', 'timestamp_year']\n",
    "    ] + [\n",
    "        'cos_' + t for t in normal_features\n",
    "        if t not in ['timestamp_dayofyear', 'timestamp_year']\n",
    "    ]\n",
    "\n",
    "    frac_features = [\n",
    "        'timestamp_' + t\n",
    "        for t in ['fracday', 'fracweek', 'fracmonth', 'fracyear']\n",
    "    ]\n",
    "    \n",
    "    frac_cyc_features = ['sin_' + t for t in frac_features\n",
    "                         ] + ['cos_' + t for t in frac_features]\n",
    "\n",
    "    domain_features = [\n",
    "        'sin_timestamp_fracday', 'cos_timestamp_fracday', 'timestamp_dayofweek',\n",
    "        'sin_timestamp_fracyear', 'cos_timestamp_fracyear'\n",
    "    ]\n",
    "\n",
    "    results = {}\n",
    "    dataset_names = ['normal', 'normal_cyc', 'frac', 'frac_cyc', 'domain']\n",
    "\n",
    "    for features, name in zip(\n",
    "        [normal_features, normal_cyc_features, frac_features, frac_cyc_features, domain_features],\n",
    "            dataset_names):\n",
    "        \n",
    "        dataset = data[features].copy()\n",
    "        \n",
    "        # Drop any columns with only 1 value\n",
    "        to_drop = dataset.columns[(dataset.nunique() == 1)]\n",
    "        dataset = dataset.drop(columns=to_drop)\n",
    "        \n",
    "        # Set the y value\n",
    "        dataset['energy'] = y.copy()\n",
    "        tss = TimeSeriesSplit(10)\n",
    "        print(cross_val_score(model, dataset, y, cv=tss))\n",
    "        try:\n",
    "            data_results = monthly_validation(dataset, model)\n",
    "            scores.append(data_results['score'])\n",
    "            methods.append(name)\n",
    "        \n",
    "        except Exception as e:\n",
    "            print(e, name)\n",
    "\n",
    "    results = pd.DataFrame(dict(score=scores, method=methods))\n",
    "    return results"
   ]
  },
  {
   "cell_type": "code",
   "execution_count": 38,
   "metadata": {
    "ExecuteTime": {
     "end_time": "2019-02-14T02:07:30.800219Z",
     "start_time": "2019-02-14T02:07:21.671973Z"
    }
   },
   "outputs": [
    {
     "name": "stdout",
     "output_type": "stream",
     "text": [
      "[1. 1. 1. 1. 1. 1. 1. 1. 1. 1.]\n",
      "[1. 1. 1. 1. 1. 1. 1. 1. 1. 1.]\n",
      "[1. 1. 1. 1. 1. 1. 1. 1. 1. 1.]\n",
      "[1. 1. 1. 1. 1. 1. 1. 1. 1. 1.]\n",
      "[1. 1. 1. 1. 1. 1. 1. 1. 1. 1.]\n"
     ]
    }
   ],
   "source": [
    "from sklearn.linear_model import LinearRegression\n",
    "\n",
    "linear_model = LinearRegression()\n",
    "\n",
    "data = data_testing('data/building_10.csv', linear_model)"
   ]
  },
  {
   "cell_type": "code",
   "execution_count": 31,
   "metadata": {
    "ExecuteTime": {
     "end_time": "2019-02-14T02:03:23.997802Z",
     "start_time": "2019-02-14T02:03:23.737498Z"
    }
   },
   "outputs": [
    {
     "data": {
      "text/html": [
       "<div>\n",
       "<style scoped>\n",
       "    .dataframe tbody tr th:only-of-type {\n",
       "        vertical-align: middle;\n",
       "    }\n",
       "\n",
       "    .dataframe tbody tr th {\n",
       "        vertical-align: top;\n",
       "    }\n",
       "\n",
       "    .dataframe thead th {\n",
       "        text-align: right;\n",
       "    }\n",
       "</style>\n",
       "<table border=\"1\" class=\"dataframe\">\n",
       "  <thead>\n",
       "    <tr style=\"text-align: right;\">\n",
       "      <th></th>\n",
       "      <th>score</th>\n",
       "      <th>method</th>\n",
       "      <th>freq</th>\n",
       "      <th>dpoints</th>\n",
       "      <th>building_id</th>\n",
       "    </tr>\n",
       "  </thead>\n",
       "  <tbody>\n",
       "    <tr>\n",
       "      <th>0</th>\n",
       "      <td>0.767523</td>\n",
       "      <td>normal</td>\n",
       "      <td>15</td>\n",
       "      <td>105286</td>\n",
       "      <td>10</td>\n",
       "    </tr>\n",
       "    <tr>\n",
       "      <th>1</th>\n",
       "      <td>0.792206</td>\n",
       "      <td>normal_cyc</td>\n",
       "      <td>15</td>\n",
       "      <td>105286</td>\n",
       "      <td>10</td>\n",
       "    </tr>\n",
       "    <tr>\n",
       "      <th>2</th>\n",
       "      <td>0.768929</td>\n",
       "      <td>frac</td>\n",
       "      <td>15</td>\n",
       "      <td>105286</td>\n",
       "      <td>10</td>\n",
       "    </tr>\n",
       "    <tr>\n",
       "      <th>3</th>\n",
       "      <td>0.252185</td>\n",
       "      <td>frac_cyc</td>\n",
       "      <td>15</td>\n",
       "      <td>105286</td>\n",
       "      <td>10</td>\n",
       "    </tr>\n",
       "    <tr>\n",
       "      <th>4</th>\n",
       "      <td>0.539980</td>\n",
       "      <td>domain</td>\n",
       "      <td>15</td>\n",
       "      <td>105286</td>\n",
       "      <td>10</td>\n",
       "    </tr>\n",
       "  </tbody>\n",
       "</table>\n",
       "</div>"
      ],
      "text/plain": [
       "      score      method  freq  dpoints building_id\n",
       "0  0.767523      normal    15   105286          10\n",
       "1  0.792206  normal_cyc    15   105286          10\n",
       "2  0.768929        frac    15   105286          10\n",
       "3  0.252185    frac_cyc    15   105286          10\n",
       "4  0.539980      domain    15   105286          10"
      ]
     },
     "execution_count": 31,
     "metadata": {},
     "output_type": "execute_result"
    }
   ],
   "source": [
    "data"
   ]
  },
  {
   "cell_type": "code",
   "execution_count": null,
   "metadata": {},
   "outputs": [],
   "source": [
    "data"
   ]
  },
  {
   "cell_type": "code",
   "execution_count": 35,
   "metadata": {
    "ExecuteTime": {
     "end_time": "2019-02-14T02:06:18.491931Z",
     "start_time": "2019-02-14T02:06:18.303154Z"
    }
   },
   "outputs": [],
   "source": [
    "from sklearn.model_selection import cross_val_score\n",
    "from sklearn.model_selection import TimeSeriesSplit\n",
    "\n",
    "\n",
    "# cross_val_score(model, dataset, y, cv=tss)"
   ]
  },
  {
   "cell_type": "code",
   "execution_count": 92,
   "metadata": {
    "ExecuteTime": {
     "end_time": "2019-02-12T14:18:58.006740Z",
     "start_time": "2019-02-12T14:14:56.245480Z"
    }
   },
   "outputs": [
    {
     "data": {
      "application/vnd.jupyter.widget-view+json": {
       "model_id": "76e0b8dcabb94eee887c71439d651741",
       "version_major": 2,
       "version_minor": 0
      },
      "text/plain": [
       "HBox(children=(IntProgress(value=0, max=602), HTML(value='')))"
      ]
     },
     "metadata": {},
     "output_type": "display_data"
    },
    {
     "name": "stdout",
     "output_type": "stream",
     "text": [
      "Found array with 0 sample(s) (shape=(0, 5)) while a minimum of 1 is required. normal\n",
      "Found array with 0 sample(s) (shape=(0, 6)) while a minimum of 1 is required. normal_cyc\n",
      "Found array with 0 sample(s) (shape=(0, 3)) while a minimum of 1 is required. frac\n",
      "Found array with 0 sample(s) (shape=(0, 8)) while a minimum of 1 is required. frac_cyc\n",
      "Found array with 0 sample(s) (shape=(0, 5)) while a minimum of 1 is required. normal\n",
      "Found array with 0 sample(s) (shape=(0, 6)) while a minimum of 1 is required. normal_cyc\n",
      "Found array with 0 sample(s) (shape=(0, 3)) while a minimum of 1 is required. frac\n",
      "Found array with 0 sample(s) (shape=(0, 8)) while a minimum of 1 is required. frac_cyc\n",
      "Found array with 0 sample(s) (shape=(0, 5)) while a minimum of 1 is required. normal\n",
      "Found array with 0 sample(s) (shape=(0, 6)) while a minimum of 1 is required. normal_cyc\n",
      "Found array with 0 sample(s) (shape=(0, 3)) while a minimum of 1 is required. frac\n",
      "Found array with 0 sample(s) (shape=(0, 8)) while a minimum of 1 is required. frac_cyc\n",
      "Found array with 0 sample(s) (shape=(0, 5)) while a minimum of 1 is required. normal\n",
      "Found array with 0 sample(s) (shape=(0, 6)) while a minimum of 1 is required. normal_cyc\n",
      "Found array with 0 sample(s) (shape=(0, 3)) while a minimum of 1 is required. frac\n",
      "Found array with 0 sample(s) (shape=(0, 8)) while a minimum of 1 is required. frac_cyc\n",
      "Found array with 0 sample(s) (shape=(0, 5)) while a minimum of 1 is required. normal\n",
      "Found array with 0 sample(s) (shape=(0, 6)) while a minimum of 1 is required. normal_cyc\n",
      "Found array with 0 sample(s) (shape=(0, 4)) while a minimum of 1 is required. frac\n",
      "Found array with 0 sample(s) (shape=(0, 8)) while a minimum of 1 is required. frac_cyc\n",
      "Found array with 0 sample(s) (shape=(0, 5)) while a minimum of 1 is required. normal\n",
      "Found array with 0 sample(s) (shape=(0, 6)) while a minimum of 1 is required. normal_cyc\n",
      "Found array with 0 sample(s) (shape=(0, 4)) while a minimum of 1 is required. frac\n",
      "Found array with 0 sample(s) (shape=(0, 8)) while a minimum of 1 is required. frac_cyc\n",
      "Found array with 0 sample(s) (shape=(0, 5)) while a minimum of 1 is required. normal\n",
      "Found array with 0 sample(s) (shape=(0, 6)) while a minimum of 1 is required. normal_cyc\n",
      "Found array with 0 sample(s) (shape=(0, 3)) while a minimum of 1 is required. frac\n",
      "Found array with 0 sample(s) (shape=(0, 8)) while a minimum of 1 is required. frac_cyc\n",
      "Found array with 0 sample(s) (shape=(0, 5)) while a minimum of 1 is required. normal\n",
      "Found array with 0 sample(s) (shape=(0, 6)) while a minimum of 1 is required. normal_cyc\n",
      "Found array with 0 sample(s) (shape=(0, 3)) while a minimum of 1 is required. frac\n",
      "Found array with 0 sample(s) (shape=(0, 8)) while a minimum of 1 is required. frac_cyc\n",
      "Found array with 0 sample(s) (shape=(0, 5)) while a minimum of 1 is required. normal\n",
      "Found array with 0 sample(s) (shape=(0, 6)) while a minimum of 1 is required. normal_cyc\n",
      "Found array with 0 sample(s) (shape=(0, 3)) while a minimum of 1 is required. frac\n",
      "Found array with 0 sample(s) (shape=(0, 8)) while a minimum of 1 is required. frac_cyc\n",
      "Found array with 0 sample(s) (shape=(0, 5)) while a minimum of 1 is required. normal\n",
      "Found array with 0 sample(s) (shape=(0, 6)) while a minimum of 1 is required. normal_cyc\n",
      "Found array with 0 sample(s) (shape=(0, 3)) while a minimum of 1 is required. frac\n",
      "Found array with 0 sample(s) (shape=(0, 8)) while a minimum of 1 is required. frac_cyc\n",
      "Found array with 0 sample(s) (shape=(0, 5)) while a minimum of 1 is required. normal\n",
      "Found array with 0 sample(s) (shape=(0, 6)) while a minimum of 1 is required. normal_cyc\n",
      "Found array with 0 sample(s) (shape=(0, 3)) while a minimum of 1 is required. frac\n",
      "Found array with 0 sample(s) (shape=(0, 8)) while a minimum of 1 is required. frac_cyc\n",
      "Found array with 0 sample(s) (shape=(0, 5)) while a minimum of 1 is required. normal\n",
      "Found array with 0 sample(s) (shape=(0, 6)) while a minimum of 1 is required. normal_cyc\n",
      "Found array with 0 sample(s) (shape=(0, 3)) while a minimum of 1 is required. frac\n",
      "Found array with 0 sample(s) (shape=(0, 8)) while a minimum of 1 is required. frac_cyc\n",
      "Found array with 0 sample(s) (shape=(0, 5)) while a minimum of 1 is required. normal\n",
      "Found array with 0 sample(s) (shape=(0, 6)) while a minimum of 1 is required. normal_cyc\n",
      "Found array with 0 sample(s) (shape=(0, 3)) while a minimum of 1 is required. frac\n",
      "Found array with 0 sample(s) (shape=(0, 8)) while a minimum of 1 is required. frac_cyc\n",
      "Found array with 0 sample(s) (shape=(0, 5)) while a minimum of 1 is required. normal\n",
      "Found array with 0 sample(s) (shape=(0, 6)) while a minimum of 1 is required. normal_cyc\n",
      "Found array with 0 sample(s) (shape=(0, 3)) while a minimum of 1 is required. frac\n",
      "Found array with 0 sample(s) (shape=(0, 8)) while a minimum of 1 is required. frac_cyc\n",
      "\n"
     ]
    }
   ],
   "source": [
    "linear_results = []\n",
    "\n",
    "for file in tqdm_notebook(os.listdir('data/')):\n",
    "    if file.endswith('.csv'):\n",
    "        linear_results.append(data_testing(f'data/{file}', linear_model))\n",
    "        \n",
    "        \n",
    "all_linear_results = pd.concat(linear_results)\n",
    "all_linear_results.to_csv('results/linear_model.csv')"
   ]
  },
  {
   "cell_type": "code",
   "execution_count": 94,
   "metadata": {
    "ExecuteTime": {
     "end_time": "2019-02-12T14:31:49.306005Z",
     "start_time": "2019-02-12T14:31:49.170023Z"
    }
   },
   "outputs": [
    {
     "data": {
      "text/plain": [
       "frac          413\n",
       "normal_cyc    140\n",
       "normal         30\n",
       "frac_cyc        5\n",
       "dtype: int64"
      ]
     },
     "execution_count": 94,
     "metadata": {},
     "output_type": "execute_result"
    }
   ],
   "source": [
    "all_linear_results.groupby('building_id').apply(lambda x: x.loc[x['score'].idxmax(), 'method']).value_counts()"
   ]
  },
  {
   "cell_type": "code",
   "execution_count": 103,
   "metadata": {
    "ExecuteTime": {
     "end_time": "2019-02-12T14:35:43.696148Z",
     "start_time": "2019-02-12T14:35:43.617095Z"
    }
   },
   "outputs": [
    {
     "ename": "DataError",
     "evalue": "No numeric types to aggregate",
     "output_type": "error",
     "traceback": [
      "\u001b[0;31m---------------------------------------------------------------------------\u001b[0m",
      "\u001b[0;31mDataError\u001b[0m                                 Traceback (most recent call last)",
      "\u001b[0;32m<ipython-input-103-2426eb0973f5>\u001b[0m in \u001b[0;36m<module>\u001b[0;34m\u001b[0m\n\u001b[0;32m----> 1\u001b[0;31m \u001b[0mall_linear_results\u001b[0m\u001b[0;34m.\u001b[0m\u001b[0mpivot_table\u001b[0m\u001b[0;34m(\u001b[0m\u001b[0mindex\u001b[0m\u001b[0;34m=\u001b[0m\u001b[0;34m'building_id'\u001b[0m\u001b[0;34m,\u001b[0m \u001b[0mcolumns\u001b[0m\u001b[0;34m=\u001b[0m\u001b[0;34m'method'\u001b[0m\u001b[0;34m,\u001b[0m \u001b[0mvalues\u001b[0m\u001b[0;34m=\u001b[0m\u001b[0;34m'score'\u001b[0m\u001b[0;34m)\u001b[0m\u001b[0;34m.\u001b[0m\u001b[0miplot\u001b[0m\u001b[0;34m(\u001b[0m\u001b[0;34m)\u001b[0m\u001b[0;34m\u001b[0m\u001b[0m\n\u001b[0m",
      "\u001b[0;32m/usr/local/lib/python3.6/site-packages/pandas/core/frame.py\u001b[0m in \u001b[0;36mpivot_table\u001b[0;34m(self, values, index, columns, aggfunc, fill_value, margins, dropna, margins_name)\u001b[0m\n\u001b[1;32m   4466\u001b[0m                            \u001b[0maggfunc\u001b[0m\u001b[0;34m=\u001b[0m\u001b[0maggfunc\u001b[0m\u001b[0;34m,\u001b[0m \u001b[0mfill_value\u001b[0m\u001b[0;34m=\u001b[0m\u001b[0mfill_value\u001b[0m\u001b[0;34m,\u001b[0m\u001b[0;34m\u001b[0m\u001b[0m\n\u001b[1;32m   4467\u001b[0m                            \u001b[0mmargins\u001b[0m\u001b[0;34m=\u001b[0m\u001b[0mmargins\u001b[0m\u001b[0;34m,\u001b[0m \u001b[0mdropna\u001b[0m\u001b[0;34m=\u001b[0m\u001b[0mdropna\u001b[0m\u001b[0;34m,\u001b[0m\u001b[0;34m\u001b[0m\u001b[0m\n\u001b[0;32m-> 4468\u001b[0;31m                            margins_name=margins_name)\n\u001b[0m\u001b[1;32m   4469\u001b[0m \u001b[0;34m\u001b[0m\u001b[0m\n\u001b[1;32m   4470\u001b[0m     \u001b[0;32mdef\u001b[0m \u001b[0mstack\u001b[0m\u001b[0;34m(\u001b[0m\u001b[0mself\u001b[0m\u001b[0;34m,\u001b[0m \u001b[0mlevel\u001b[0m\u001b[0;34m=\u001b[0m\u001b[0;34m-\u001b[0m\u001b[0;36m1\u001b[0m\u001b[0;34m,\u001b[0m \u001b[0mdropna\u001b[0m\u001b[0;34m=\u001b[0m\u001b[0;32mTrue\u001b[0m\u001b[0;34m)\u001b[0m\u001b[0;34m:\u001b[0m\u001b[0;34m\u001b[0m\u001b[0m\n",
      "\u001b[0;32m/usr/local/lib/python3.6/site-packages/pandas/core/reshape/pivot.py\u001b[0m in \u001b[0;36mpivot_table\u001b[0;34m(data, values, index, columns, aggfunc, fill_value, margins, dropna, margins_name)\u001b[0m\n\u001b[1;32m     80\u001b[0m \u001b[0;34m\u001b[0m\u001b[0m\n\u001b[1;32m     81\u001b[0m     \u001b[0mgrouped\u001b[0m \u001b[0;34m=\u001b[0m \u001b[0mdata\u001b[0m\u001b[0;34m.\u001b[0m\u001b[0mgroupby\u001b[0m\u001b[0;34m(\u001b[0m\u001b[0mkeys\u001b[0m\u001b[0;34m)\u001b[0m\u001b[0;34m\u001b[0m\u001b[0m\n\u001b[0;32m---> 82\u001b[0;31m     \u001b[0magged\u001b[0m \u001b[0;34m=\u001b[0m \u001b[0mgrouped\u001b[0m\u001b[0;34m.\u001b[0m\u001b[0magg\u001b[0m\u001b[0;34m(\u001b[0m\u001b[0maggfunc\u001b[0m\u001b[0;34m)\u001b[0m\u001b[0;34m\u001b[0m\u001b[0m\n\u001b[0m\u001b[1;32m     83\u001b[0m \u001b[0;34m\u001b[0m\u001b[0m\n\u001b[1;32m     84\u001b[0m     \u001b[0mtable\u001b[0m \u001b[0;34m=\u001b[0m \u001b[0magged\u001b[0m\u001b[0;34m\u001b[0m\u001b[0m\n",
      "\u001b[0;32m/usr/local/lib/python3.6/site-packages/pandas/core/groupby.py\u001b[0m in \u001b[0;36maggregate\u001b[0;34m(self, arg, *args, **kwargs)\u001b[0m\n\u001b[1;32m   4289\u001b[0m         versionadded=''))\n\u001b[1;32m   4290\u001b[0m     \u001b[0;32mdef\u001b[0m \u001b[0maggregate\u001b[0m\u001b[0;34m(\u001b[0m\u001b[0mself\u001b[0m\u001b[0;34m,\u001b[0m \u001b[0marg\u001b[0m\u001b[0;34m,\u001b[0m \u001b[0;34m*\u001b[0m\u001b[0margs\u001b[0m\u001b[0;34m,\u001b[0m \u001b[0;34m**\u001b[0m\u001b[0mkwargs\u001b[0m\u001b[0;34m)\u001b[0m\u001b[0;34m:\u001b[0m\u001b[0;34m\u001b[0m\u001b[0m\n\u001b[0;32m-> 4291\u001b[0;31m         \u001b[0;32mreturn\u001b[0m \u001b[0msuper\u001b[0m\u001b[0;34m(\u001b[0m\u001b[0mDataFrameGroupBy\u001b[0m\u001b[0;34m,\u001b[0m \u001b[0mself\u001b[0m\u001b[0;34m)\u001b[0m\u001b[0;34m.\u001b[0m\u001b[0maggregate\u001b[0m\u001b[0;34m(\u001b[0m\u001b[0marg\u001b[0m\u001b[0;34m,\u001b[0m \u001b[0;34m*\u001b[0m\u001b[0margs\u001b[0m\u001b[0;34m,\u001b[0m \u001b[0;34m**\u001b[0m\u001b[0mkwargs\u001b[0m\u001b[0;34m)\u001b[0m\u001b[0;34m\u001b[0m\u001b[0m\n\u001b[0m\u001b[1;32m   4292\u001b[0m \u001b[0;34m\u001b[0m\u001b[0m\n\u001b[1;32m   4293\u001b[0m     \u001b[0magg\u001b[0m \u001b[0;34m=\u001b[0m \u001b[0maggregate\u001b[0m\u001b[0;34m\u001b[0m\u001b[0m\n",
      "\u001b[0;32m/usr/local/lib/python3.6/site-packages/pandas/core/groupby.py\u001b[0m in \u001b[0;36maggregate\u001b[0;34m(self, arg, *args, **kwargs)\u001b[0m\n\u001b[1;32m   3722\u001b[0m \u001b[0;34m\u001b[0m\u001b[0m\n\u001b[1;32m   3723\u001b[0m         \u001b[0m_level\u001b[0m \u001b[0;34m=\u001b[0m \u001b[0mkwargs\u001b[0m\u001b[0;34m.\u001b[0m\u001b[0mpop\u001b[0m\u001b[0;34m(\u001b[0m\u001b[0;34m'_level'\u001b[0m\u001b[0;34m,\u001b[0m \u001b[0;32mNone\u001b[0m\u001b[0;34m)\u001b[0m\u001b[0;34m\u001b[0m\u001b[0m\n\u001b[0;32m-> 3724\u001b[0;31m         \u001b[0mresult\u001b[0m\u001b[0;34m,\u001b[0m \u001b[0mhow\u001b[0m \u001b[0;34m=\u001b[0m \u001b[0mself\u001b[0m\u001b[0;34m.\u001b[0m\u001b[0m_aggregate\u001b[0m\u001b[0;34m(\u001b[0m\u001b[0marg\u001b[0m\u001b[0;34m,\u001b[0m \u001b[0m_level\u001b[0m\u001b[0;34m=\u001b[0m\u001b[0m_level\u001b[0m\u001b[0;34m,\u001b[0m \u001b[0;34m*\u001b[0m\u001b[0margs\u001b[0m\u001b[0;34m,\u001b[0m \u001b[0;34m**\u001b[0m\u001b[0mkwargs\u001b[0m\u001b[0;34m)\u001b[0m\u001b[0;34m\u001b[0m\u001b[0m\n\u001b[0m\u001b[1;32m   3725\u001b[0m         \u001b[0;32mif\u001b[0m \u001b[0mhow\u001b[0m \u001b[0;32mis\u001b[0m \u001b[0;32mNone\u001b[0m\u001b[0;34m:\u001b[0m\u001b[0;34m\u001b[0m\u001b[0m\n\u001b[1;32m   3726\u001b[0m             \u001b[0;32mreturn\u001b[0m \u001b[0mresult\u001b[0m\u001b[0;34m\u001b[0m\u001b[0m\n",
      "\u001b[0;32m/usr/local/lib/python3.6/site-packages/pandas/core/base.py\u001b[0m in \u001b[0;36m_aggregate\u001b[0;34m(self, arg, *args, **kwargs)\u001b[0m\n\u001b[1;32m    338\u001b[0m         \u001b[0;32mif\u001b[0m \u001b[0misinstance\u001b[0m\u001b[0;34m(\u001b[0m\u001b[0marg\u001b[0m\u001b[0;34m,\u001b[0m \u001b[0mcompat\u001b[0m\u001b[0;34m.\u001b[0m\u001b[0mstring_types\u001b[0m\u001b[0;34m)\u001b[0m\u001b[0;34m:\u001b[0m\u001b[0;34m\u001b[0m\u001b[0m\n\u001b[1;32m    339\u001b[0m             return self._try_aggregate_string_function(arg, *args,\n\u001b[0;32m--> 340\u001b[0;31m                                                        **kwargs), None\n\u001b[0m\u001b[1;32m    341\u001b[0m \u001b[0;34m\u001b[0m\u001b[0m\n\u001b[1;32m    342\u001b[0m         \u001b[0;32mif\u001b[0m \u001b[0misinstance\u001b[0m\u001b[0;34m(\u001b[0m\u001b[0marg\u001b[0m\u001b[0;34m,\u001b[0m \u001b[0mdict\u001b[0m\u001b[0;34m)\u001b[0m\u001b[0;34m:\u001b[0m\u001b[0;34m\u001b[0m\u001b[0m\n",
      "\u001b[0;32m/usr/local/lib/python3.6/site-packages/pandas/core/base.py\u001b[0m in \u001b[0;36m_try_aggregate_string_function\u001b[0;34m(self, arg, *args, **kwargs)\u001b[0m\n\u001b[1;32m    294\u001b[0m         \u001b[0;32mif\u001b[0m \u001b[0mf\u001b[0m \u001b[0;32mis\u001b[0m \u001b[0;32mnot\u001b[0m \u001b[0;32mNone\u001b[0m\u001b[0;34m:\u001b[0m\u001b[0;34m\u001b[0m\u001b[0m\n\u001b[1;32m    295\u001b[0m             \u001b[0;32mif\u001b[0m \u001b[0mcallable\u001b[0m\u001b[0;34m(\u001b[0m\u001b[0mf\u001b[0m\u001b[0;34m)\u001b[0m\u001b[0;34m:\u001b[0m\u001b[0;34m\u001b[0m\u001b[0m\n\u001b[0;32m--> 296\u001b[0;31m                 \u001b[0;32mreturn\u001b[0m \u001b[0mf\u001b[0m\u001b[0;34m(\u001b[0m\u001b[0;34m*\u001b[0m\u001b[0margs\u001b[0m\u001b[0;34m,\u001b[0m \u001b[0;34m**\u001b[0m\u001b[0mkwargs\u001b[0m\u001b[0;34m)\u001b[0m\u001b[0;34m\u001b[0m\u001b[0m\n\u001b[0m\u001b[1;32m    297\u001b[0m \u001b[0;34m\u001b[0m\u001b[0m\n\u001b[1;32m    298\u001b[0m             \u001b[0;31m# people may try to aggregate on a non-callable attribute\u001b[0m\u001b[0;34m\u001b[0m\u001b[0;34m\u001b[0m\u001b[0m\n",
      "\u001b[0;32m/usr/local/lib/python3.6/site-packages/pandas/core/groupby.py\u001b[0m in \u001b[0;36mmean\u001b[0;34m(self, *args, **kwargs)\u001b[0m\n\u001b[1;32m   1126\u001b[0m         \u001b[0mnv\u001b[0m\u001b[0;34m.\u001b[0m\u001b[0mvalidate_groupby_func\u001b[0m\u001b[0;34m(\u001b[0m\u001b[0;34m'mean'\u001b[0m\u001b[0;34m,\u001b[0m \u001b[0margs\u001b[0m\u001b[0;34m,\u001b[0m \u001b[0mkwargs\u001b[0m\u001b[0;34m,\u001b[0m \u001b[0;34m[\u001b[0m\u001b[0;34m'numeric_only'\u001b[0m\u001b[0;34m]\u001b[0m\u001b[0;34m)\u001b[0m\u001b[0;34m\u001b[0m\u001b[0m\n\u001b[1;32m   1127\u001b[0m         \u001b[0;32mtry\u001b[0m\u001b[0;34m:\u001b[0m\u001b[0;34m\u001b[0m\u001b[0m\n\u001b[0;32m-> 1128\u001b[0;31m             \u001b[0;32mreturn\u001b[0m \u001b[0mself\u001b[0m\u001b[0;34m.\u001b[0m\u001b[0m_cython_agg_general\u001b[0m\u001b[0;34m(\u001b[0m\u001b[0;34m'mean'\u001b[0m\u001b[0;34m,\u001b[0m \u001b[0;34m**\u001b[0m\u001b[0mkwargs\u001b[0m\u001b[0;34m)\u001b[0m\u001b[0;34m\u001b[0m\u001b[0m\n\u001b[0m\u001b[1;32m   1129\u001b[0m         \u001b[0;32mexcept\u001b[0m \u001b[0mGroupByError\u001b[0m\u001b[0;34m:\u001b[0m\u001b[0;34m\u001b[0m\u001b[0m\n\u001b[1;32m   1130\u001b[0m             \u001b[0;32mraise\u001b[0m\u001b[0;34m\u001b[0m\u001b[0m\n",
      "\u001b[0;32m/usr/local/lib/python3.6/site-packages/pandas/core/groupby.py\u001b[0m in \u001b[0;36m_cython_agg_general\u001b[0;34m(self, how, alt, numeric_only, min_count)\u001b[0m\n\u001b[1;32m   3607\u001b[0m                             min_count=-1):\n\u001b[1;32m   3608\u001b[0m         new_items, new_blocks = self._cython_agg_blocks(\n\u001b[0;32m-> 3609\u001b[0;31m             how, alt=alt, numeric_only=numeric_only, min_count=min_count)\n\u001b[0m\u001b[1;32m   3610\u001b[0m         \u001b[0;32mreturn\u001b[0m \u001b[0mself\u001b[0m\u001b[0;34m.\u001b[0m\u001b[0m_wrap_agged_blocks\u001b[0m\u001b[0;34m(\u001b[0m\u001b[0mnew_items\u001b[0m\u001b[0;34m,\u001b[0m \u001b[0mnew_blocks\u001b[0m\u001b[0;34m)\u001b[0m\u001b[0;34m\u001b[0m\u001b[0m\n\u001b[1;32m   3611\u001b[0m \u001b[0;34m\u001b[0m\u001b[0m\n",
      "\u001b[0;32m/usr/local/lib/python3.6/site-packages/pandas/core/groupby.py\u001b[0m in \u001b[0;36m_cython_agg_blocks\u001b[0;34m(self, how, alt, numeric_only, min_count)\u001b[0m\n\u001b[1;32m   3679\u001b[0m \u001b[0;34m\u001b[0m\u001b[0m\n\u001b[1;32m   3680\u001b[0m         \u001b[0;32mif\u001b[0m \u001b[0mlen\u001b[0m\u001b[0;34m(\u001b[0m\u001b[0mnew_blocks\u001b[0m\u001b[0;34m)\u001b[0m \u001b[0;34m==\u001b[0m \u001b[0;36m0\u001b[0m\u001b[0;34m:\u001b[0m\u001b[0;34m\u001b[0m\u001b[0m\n\u001b[0;32m-> 3681\u001b[0;31m             \u001b[0;32mraise\u001b[0m \u001b[0mDataError\u001b[0m\u001b[0;34m(\u001b[0m\u001b[0;34m'No numeric types to aggregate'\u001b[0m\u001b[0;34m)\u001b[0m\u001b[0;34m\u001b[0m\u001b[0m\n\u001b[0m\u001b[1;32m   3682\u001b[0m \u001b[0;34m\u001b[0m\u001b[0m\n\u001b[1;32m   3683\u001b[0m         \u001b[0;31m# reset the locs in the blocks to correspond to our\u001b[0m\u001b[0;34m\u001b[0m\u001b[0;34m\u001b[0m\u001b[0m\n",
      "\u001b[0;31mDataError\u001b[0m: No numeric types to aggregate"
     ]
    }
   ],
   "source": [
    "all_linear_results.pivot_table(index='building_id', columns='method', values='score').iplot()"
   ]
  },
  {
   "cell_type": "code",
   "execution_count": 95,
   "metadata": {
    "ExecuteTime": {
     "end_time": "2019-02-12T14:33:13.884874Z",
     "start_time": "2019-02-12T14:33:13.715101Z"
    }
   },
   "outputs": [
    {
     "ename": "KeyError",
     "evalue": "''",
     "output_type": "error",
     "traceback": [
      "\u001b[0;31m---------------------------------------------------------------------------\u001b[0m",
      "\u001b[0;31mKeyError\u001b[0m                                  Traceback (most recent call last)",
      "\u001b[0;32m/usr/local/lib/python3.6/site-packages/pandas/core/indexes/base.py\u001b[0m in \u001b[0;36mget_loc\u001b[0;34m(self, key, method, tolerance)\u001b[0m\n\u001b[1;32m   2524\u001b[0m             \u001b[0;32mtry\u001b[0m\u001b[0;34m:\u001b[0m\u001b[0;34m\u001b[0m\u001b[0m\n\u001b[0;32m-> 2525\u001b[0;31m                 \u001b[0;32mreturn\u001b[0m \u001b[0mself\u001b[0m\u001b[0;34m.\u001b[0m\u001b[0m_engine\u001b[0m\u001b[0;34m.\u001b[0m\u001b[0mget_loc\u001b[0m\u001b[0;34m(\u001b[0m\u001b[0mkey\u001b[0m\u001b[0;34m)\u001b[0m\u001b[0;34m\u001b[0m\u001b[0m\n\u001b[0m\u001b[1;32m   2526\u001b[0m             \u001b[0;32mexcept\u001b[0m \u001b[0mKeyError\u001b[0m\u001b[0;34m:\u001b[0m\u001b[0;34m\u001b[0m\u001b[0m\n",
      "\u001b[0;32mpandas/_libs/index.pyx\u001b[0m in \u001b[0;36mpandas._libs.index.IndexEngine.get_loc\u001b[0;34m()\u001b[0m\n",
      "\u001b[0;32mpandas/_libs/index.pyx\u001b[0m in \u001b[0;36mpandas._libs.index.IndexEngine.get_loc\u001b[0;34m()\u001b[0m\n",
      "\u001b[0;32mpandas/_libs/hashtable_class_helper.pxi\u001b[0m in \u001b[0;36mpandas._libs.hashtable.PyObjectHashTable.get_item\u001b[0;34m()\u001b[0m\n",
      "\u001b[0;32mpandas/_libs/hashtable_class_helper.pxi\u001b[0m in \u001b[0;36mpandas._libs.hashtable.PyObjectHashTable.get_item\u001b[0;34m()\u001b[0m\n",
      "\u001b[0;31mKeyError\u001b[0m: ''",
      "\nDuring handling of the above exception, another exception occurred:\n",
      "\u001b[0;31mKeyError\u001b[0m                                  Traceback (most recent call last)",
      "\u001b[0;32m<ipython-input-95-7c83306d114b>\u001b[0m in \u001b[0;36m<module>\u001b[0;34m\u001b[0m\n\u001b[0;32m----> 1\u001b[0;31m \u001b[0mall_linear_results\u001b[0m\u001b[0;34m.\u001b[0m\u001b[0mset_index\u001b[0m\u001b[0;34m(\u001b[0m\u001b[0;34m'building_id'\u001b[0m\u001b[0;34m)\u001b[0m\u001b[0;34m.\u001b[0m\u001b[0miplot\u001b[0m\u001b[0;34m(\u001b[0m\u001b[0my\u001b[0m\u001b[0;34m=\u001b[0m\u001b[0;34m'score'\u001b[0m\u001b[0;34m,\u001b[0m \u001b[0mcategories\u001b[0m\u001b[0;34m=\u001b[0m\u001b[0;34m'method'\u001b[0m\u001b[0;34m)\u001b[0m\u001b[0;34m\u001b[0m\u001b[0m\n\u001b[0m",
      "\u001b[0;32m/usr/local/lib/python3.6/site-packages/cufflinks/plotlytools.py\u001b[0m in \u001b[0;36m_iplot\u001b[0;34m(self, kind, data, layout, filename, sharing, title, xTitle, yTitle, zTitle, theme, colors, colorscale, fill, width, dash, mode, interpolation, symbol, size, barmode, sortbars, bargap, bargroupgap, bins, histnorm, histfunc, orientation, boxpoints, annotations, keys, bestfit, bestfit_colors, mean, mean_colors, categories, x, y, z, text, gridcolor, zerolinecolor, margin, labels, values, secondary_y, secondary_y_title, subplots, shape, error_x, error_y, error_type, locations, lon, lat, asFrame, asDates, asFigure, asImage, dimensions, asPlot, asUrl, online, **kwargs)\u001b[0m\n\u001b[1;32m    776\u001b[0m                                         \u001b[0;32mif\u001b[0m \u001b[0mtext\u001b[0m\u001b[0;34m:\u001b[0m\u001b[0;34m\u001b[0m\u001b[0m\n\u001b[1;32m    777\u001b[0m                                                 \u001b[0m_text\u001b[0m\u001b[0;34m=\u001b[0m\u001b[0m__\u001b[0m\u001b[0;34m[\u001b[0m\u001b[0mtext\u001b[0m\u001b[0;34m]\u001b[0m \u001b[0;32mif\u001b[0m \u001b[0masFrame\u001b[0m \u001b[0;32melse\u001b[0m \u001b[0m__\u001b[0m\u001b[0;34m[\u001b[0m\u001b[0mtext\u001b[0m\u001b[0;34m]\u001b[0m\u001b[0;34m.\u001b[0m\u001b[0mvalues\u001b[0m\u001b[0;34m\u001b[0m\u001b[0m\n\u001b[0;32m--> 778\u001b[0;31m                                         \u001b[0m_x\u001b[0m\u001b[0;34m=\u001b[0m\u001b[0m__\u001b[0m\u001b[0;34m[\u001b[0m\u001b[0mx\u001b[0m\u001b[0;34m]\u001b[0m \u001b[0;32mif\u001b[0m \u001b[0masFrame\u001b[0m \u001b[0;32melse\u001b[0m \u001b[0m__\u001b[0m\u001b[0;34m[\u001b[0m\u001b[0mx\u001b[0m\u001b[0;34m]\u001b[0m\u001b[0;34m.\u001b[0m\u001b[0mvalues\u001b[0m\u001b[0;34m\u001b[0m\u001b[0m\n\u001b[0m\u001b[1;32m    779\u001b[0m                                         \u001b[0m_y\u001b[0m\u001b[0;34m=\u001b[0m\u001b[0m__\u001b[0m\u001b[0;34m[\u001b[0m\u001b[0my\u001b[0m\u001b[0;34m]\u001b[0m \u001b[0;32mif\u001b[0m \u001b[0masFrame\u001b[0m \u001b[0;32melse\u001b[0m \u001b[0m__\u001b[0m\u001b[0;34m[\u001b[0m\u001b[0my\u001b[0m\u001b[0;34m]\u001b[0m\u001b[0;34m.\u001b[0m\u001b[0mvalues\u001b[0m\u001b[0;34m\u001b[0m\u001b[0m\n\u001b[1;32m    780\u001b[0m                                         \u001b[0;32mif\u001b[0m \u001b[0mz\u001b[0m\u001b[0;34m:\u001b[0m\u001b[0;34m\u001b[0m\u001b[0m\n",
      "\u001b[0;32m/usr/local/lib/python3.6/site-packages/pandas/core/frame.py\u001b[0m in \u001b[0;36m__getitem__\u001b[0;34m(self, key)\u001b[0m\n\u001b[1;32m   2137\u001b[0m             \u001b[0;32mreturn\u001b[0m \u001b[0mself\u001b[0m\u001b[0;34m.\u001b[0m\u001b[0m_getitem_multilevel\u001b[0m\u001b[0;34m(\u001b[0m\u001b[0mkey\u001b[0m\u001b[0;34m)\u001b[0m\u001b[0;34m\u001b[0m\u001b[0m\n\u001b[1;32m   2138\u001b[0m         \u001b[0;32melse\u001b[0m\u001b[0;34m:\u001b[0m\u001b[0;34m\u001b[0m\u001b[0m\n\u001b[0;32m-> 2139\u001b[0;31m             \u001b[0;32mreturn\u001b[0m \u001b[0mself\u001b[0m\u001b[0;34m.\u001b[0m\u001b[0m_getitem_column\u001b[0m\u001b[0;34m(\u001b[0m\u001b[0mkey\u001b[0m\u001b[0;34m)\u001b[0m\u001b[0;34m\u001b[0m\u001b[0m\n\u001b[0m\u001b[1;32m   2140\u001b[0m \u001b[0;34m\u001b[0m\u001b[0m\n\u001b[1;32m   2141\u001b[0m     \u001b[0;32mdef\u001b[0m \u001b[0m_getitem_column\u001b[0m\u001b[0;34m(\u001b[0m\u001b[0mself\u001b[0m\u001b[0;34m,\u001b[0m \u001b[0mkey\u001b[0m\u001b[0;34m)\u001b[0m\u001b[0;34m:\u001b[0m\u001b[0;34m\u001b[0m\u001b[0m\n",
      "\u001b[0;32m/usr/local/lib/python3.6/site-packages/pandas/core/frame.py\u001b[0m in \u001b[0;36m_getitem_column\u001b[0;34m(self, key)\u001b[0m\n\u001b[1;32m   2144\u001b[0m         \u001b[0;31m# get column\u001b[0m\u001b[0;34m\u001b[0m\u001b[0;34m\u001b[0m\u001b[0m\n\u001b[1;32m   2145\u001b[0m         \u001b[0;32mif\u001b[0m \u001b[0mself\u001b[0m\u001b[0;34m.\u001b[0m\u001b[0mcolumns\u001b[0m\u001b[0;34m.\u001b[0m\u001b[0mis_unique\u001b[0m\u001b[0;34m:\u001b[0m\u001b[0;34m\u001b[0m\u001b[0m\n\u001b[0;32m-> 2146\u001b[0;31m             \u001b[0;32mreturn\u001b[0m \u001b[0mself\u001b[0m\u001b[0;34m.\u001b[0m\u001b[0m_get_item_cache\u001b[0m\u001b[0;34m(\u001b[0m\u001b[0mkey\u001b[0m\u001b[0;34m)\u001b[0m\u001b[0;34m\u001b[0m\u001b[0m\n\u001b[0m\u001b[1;32m   2147\u001b[0m \u001b[0;34m\u001b[0m\u001b[0m\n\u001b[1;32m   2148\u001b[0m         \u001b[0;31m# duplicate columns & possible reduce dimensionality\u001b[0m\u001b[0;34m\u001b[0m\u001b[0;34m\u001b[0m\u001b[0m\n",
      "\u001b[0;32m/usr/local/lib/python3.6/site-packages/pandas/core/generic.py\u001b[0m in \u001b[0;36m_get_item_cache\u001b[0;34m(self, item)\u001b[0m\n\u001b[1;32m   1840\u001b[0m         \u001b[0mres\u001b[0m \u001b[0;34m=\u001b[0m \u001b[0mcache\u001b[0m\u001b[0;34m.\u001b[0m\u001b[0mget\u001b[0m\u001b[0;34m(\u001b[0m\u001b[0mitem\u001b[0m\u001b[0;34m)\u001b[0m\u001b[0;34m\u001b[0m\u001b[0m\n\u001b[1;32m   1841\u001b[0m         \u001b[0;32mif\u001b[0m \u001b[0mres\u001b[0m \u001b[0;32mis\u001b[0m \u001b[0;32mNone\u001b[0m\u001b[0;34m:\u001b[0m\u001b[0;34m\u001b[0m\u001b[0m\n\u001b[0;32m-> 1842\u001b[0;31m             \u001b[0mvalues\u001b[0m \u001b[0;34m=\u001b[0m \u001b[0mself\u001b[0m\u001b[0;34m.\u001b[0m\u001b[0m_data\u001b[0m\u001b[0;34m.\u001b[0m\u001b[0mget\u001b[0m\u001b[0;34m(\u001b[0m\u001b[0mitem\u001b[0m\u001b[0;34m)\u001b[0m\u001b[0;34m\u001b[0m\u001b[0m\n\u001b[0m\u001b[1;32m   1843\u001b[0m             \u001b[0mres\u001b[0m \u001b[0;34m=\u001b[0m \u001b[0mself\u001b[0m\u001b[0;34m.\u001b[0m\u001b[0m_box_item_values\u001b[0m\u001b[0;34m(\u001b[0m\u001b[0mitem\u001b[0m\u001b[0;34m,\u001b[0m \u001b[0mvalues\u001b[0m\u001b[0;34m)\u001b[0m\u001b[0;34m\u001b[0m\u001b[0m\n\u001b[1;32m   1844\u001b[0m             \u001b[0mcache\u001b[0m\u001b[0;34m[\u001b[0m\u001b[0mitem\u001b[0m\u001b[0;34m]\u001b[0m \u001b[0;34m=\u001b[0m \u001b[0mres\u001b[0m\u001b[0;34m\u001b[0m\u001b[0m\n",
      "\u001b[0;32m/usr/local/lib/python3.6/site-packages/pandas/core/internals.py\u001b[0m in \u001b[0;36mget\u001b[0;34m(self, item, fastpath)\u001b[0m\n\u001b[1;32m   3841\u001b[0m \u001b[0;34m\u001b[0m\u001b[0m\n\u001b[1;32m   3842\u001b[0m             \u001b[0;32mif\u001b[0m \u001b[0;32mnot\u001b[0m \u001b[0misna\u001b[0m\u001b[0;34m(\u001b[0m\u001b[0mitem\u001b[0m\u001b[0;34m)\u001b[0m\u001b[0;34m:\u001b[0m\u001b[0;34m\u001b[0m\u001b[0m\n\u001b[0;32m-> 3843\u001b[0;31m                 \u001b[0mloc\u001b[0m \u001b[0;34m=\u001b[0m \u001b[0mself\u001b[0m\u001b[0;34m.\u001b[0m\u001b[0mitems\u001b[0m\u001b[0;34m.\u001b[0m\u001b[0mget_loc\u001b[0m\u001b[0;34m(\u001b[0m\u001b[0mitem\u001b[0m\u001b[0;34m)\u001b[0m\u001b[0;34m\u001b[0m\u001b[0m\n\u001b[0m\u001b[1;32m   3844\u001b[0m             \u001b[0;32melse\u001b[0m\u001b[0;34m:\u001b[0m\u001b[0;34m\u001b[0m\u001b[0m\n\u001b[1;32m   3845\u001b[0m                 \u001b[0mindexer\u001b[0m \u001b[0;34m=\u001b[0m \u001b[0mnp\u001b[0m\u001b[0;34m.\u001b[0m\u001b[0marange\u001b[0m\u001b[0;34m(\u001b[0m\u001b[0mlen\u001b[0m\u001b[0;34m(\u001b[0m\u001b[0mself\u001b[0m\u001b[0;34m.\u001b[0m\u001b[0mitems\u001b[0m\u001b[0;34m)\u001b[0m\u001b[0;34m)\u001b[0m\u001b[0;34m[\u001b[0m\u001b[0misna\u001b[0m\u001b[0;34m(\u001b[0m\u001b[0mself\u001b[0m\u001b[0;34m.\u001b[0m\u001b[0mitems\u001b[0m\u001b[0;34m)\u001b[0m\u001b[0;34m]\u001b[0m\u001b[0;34m\u001b[0m\u001b[0m\n",
      "\u001b[0;32m/usr/local/lib/python3.6/site-packages/pandas/core/indexes/base.py\u001b[0m in \u001b[0;36mget_loc\u001b[0;34m(self, key, method, tolerance)\u001b[0m\n\u001b[1;32m   2525\u001b[0m                 \u001b[0;32mreturn\u001b[0m \u001b[0mself\u001b[0m\u001b[0;34m.\u001b[0m\u001b[0m_engine\u001b[0m\u001b[0;34m.\u001b[0m\u001b[0mget_loc\u001b[0m\u001b[0;34m(\u001b[0m\u001b[0mkey\u001b[0m\u001b[0;34m)\u001b[0m\u001b[0;34m\u001b[0m\u001b[0m\n\u001b[1;32m   2526\u001b[0m             \u001b[0;32mexcept\u001b[0m \u001b[0mKeyError\u001b[0m\u001b[0;34m:\u001b[0m\u001b[0;34m\u001b[0m\u001b[0m\n\u001b[0;32m-> 2527\u001b[0;31m                 \u001b[0;32mreturn\u001b[0m \u001b[0mself\u001b[0m\u001b[0;34m.\u001b[0m\u001b[0m_engine\u001b[0m\u001b[0;34m.\u001b[0m\u001b[0mget_loc\u001b[0m\u001b[0;34m(\u001b[0m\u001b[0mself\u001b[0m\u001b[0;34m.\u001b[0m\u001b[0m_maybe_cast_indexer\u001b[0m\u001b[0;34m(\u001b[0m\u001b[0mkey\u001b[0m\u001b[0;34m)\u001b[0m\u001b[0;34m)\u001b[0m\u001b[0;34m\u001b[0m\u001b[0m\n\u001b[0m\u001b[1;32m   2528\u001b[0m \u001b[0;34m\u001b[0m\u001b[0m\n\u001b[1;32m   2529\u001b[0m         \u001b[0mindexer\u001b[0m \u001b[0;34m=\u001b[0m \u001b[0mself\u001b[0m\u001b[0;34m.\u001b[0m\u001b[0mget_indexer\u001b[0m\u001b[0;34m(\u001b[0m\u001b[0;34m[\u001b[0m\u001b[0mkey\u001b[0m\u001b[0;34m]\u001b[0m\u001b[0;34m,\u001b[0m \u001b[0mmethod\u001b[0m\u001b[0;34m=\u001b[0m\u001b[0mmethod\u001b[0m\u001b[0;34m,\u001b[0m \u001b[0mtolerance\u001b[0m\u001b[0;34m=\u001b[0m\u001b[0mtolerance\u001b[0m\u001b[0;34m)\u001b[0m\u001b[0;34m\u001b[0m\u001b[0m\n",
      "\u001b[0;32mpandas/_libs/index.pyx\u001b[0m in \u001b[0;36mpandas._libs.index.IndexEngine.get_loc\u001b[0;34m()\u001b[0m\n",
      "\u001b[0;32mpandas/_libs/index.pyx\u001b[0m in \u001b[0;36mpandas._libs.index.IndexEngine.get_loc\u001b[0;34m()\u001b[0m\n",
      "\u001b[0;32mpandas/_libs/hashtable_class_helper.pxi\u001b[0m in \u001b[0;36mpandas._libs.hashtable.PyObjectHashTable.get_item\u001b[0;34m()\u001b[0m\n",
      "\u001b[0;32mpandas/_libs/hashtable_class_helper.pxi\u001b[0m in \u001b[0;36mpandas._libs.hashtable.PyObjectHashTable.get_item\u001b[0;34m()\u001b[0m\n",
      "\u001b[0;31mKeyError\u001b[0m: ''"
     ]
    }
   ],
   "source": [
    "all_linear_results.set_index('building_id').iplot(y='score', categories='method')"
   ]
  },
  {
   "cell_type": "code",
   "execution_count": 105,
   "metadata": {
    "ExecuteTime": {
     "end_time": "2019-02-12T14:39:20.422886Z",
     "start_time": "2019-02-12T14:37:00.517897Z"
    }
   },
   "outputs": [
    {
     "data": {
      "text/html": [
       "<div>\n",
       "<style scoped>\n",
       "    .dataframe tbody tr th:only-of-type {\n",
       "        vertical-align: middle;\n",
       "    }\n",
       "\n",
       "    .dataframe tbody tr th {\n",
       "        vertical-align: top;\n",
       "    }\n",
       "\n",
       "    .dataframe thead th {\n",
       "        text-align: right;\n",
       "    }\n",
       "</style>\n",
       "<table border=\"1\" class=\"dataframe\">\n",
       "  <thead>\n",
       "    <tr style=\"text-align: right;\">\n",
       "      <th></th>\n",
       "      <th>method</th>\n",
       "      <th>score</th>\n",
       "      <th>freq</th>\n",
       "      <th>dpoints</th>\n",
       "      <th>building_id</th>\n",
       "    </tr>\n",
       "  </thead>\n",
       "  <tbody>\n",
       "    <tr>\n",
       "      <th>0</th>\n",
       "      <td>normal</td>\n",
       "      <td>0.818540</td>\n",
       "      <td>15</td>\n",
       "      <td>105286</td>\n",
       "      <td>10</td>\n",
       "    </tr>\n",
       "    <tr>\n",
       "      <th>1</th>\n",
       "      <td>normal_cyc</td>\n",
       "      <td>0.812786</td>\n",
       "      <td>15</td>\n",
       "      <td>105286</td>\n",
       "      <td>10</td>\n",
       "    </tr>\n",
       "    <tr>\n",
       "      <th>2</th>\n",
       "      <td>frac</td>\n",
       "      <td>0.818358</td>\n",
       "      <td>15</td>\n",
       "      <td>105286</td>\n",
       "      <td>10</td>\n",
       "    </tr>\n",
       "    <tr>\n",
       "      <th>3</th>\n",
       "      <td>frac_cyc</td>\n",
       "      <td>0.822429</td>\n",
       "      <td>15</td>\n",
       "      <td>105286</td>\n",
       "      <td>10</td>\n",
       "    </tr>\n",
       "  </tbody>\n",
       "</table>\n",
       "</div>"
      ],
      "text/plain": [
       "       method     score  freq  dpoints building_id\n",
       "0      normal  0.818540    15   105286          10\n",
       "1  normal_cyc  0.812786    15   105286          10\n",
       "2        frac  0.818358    15   105286          10\n",
       "3    frac_cyc  0.822429    15   105286          10"
      ]
     },
     "execution_count": 105,
     "metadata": {},
     "output_type": "execute_result"
    }
   ],
   "source": [
    "from sklearn.ensemble import RandomForestRegressor\n",
    "\n",
    "random_model = RandomForestRegressor(random_state=42, n_estimators=100, max_depth=10, n_jobs=-1)\n",
    "data_testing('data/building_10.csv', random_model)"
   ]
  },
  {
   "cell_type": "code",
   "execution_count": 106,
   "metadata": {
    "ExecuteTime": {
     "end_time": "2019-02-12T20:06:56.724053Z",
     "start_time": "2019-02-12T14:39:22.268851Z"
    }
   },
   "outputs": [
    {
     "data": {
      "application/vnd.jupyter.widget-view+json": {
       "model_id": "e3e6f6e2013d4799b6dc5af04e327e7c",
       "version_major": 2,
       "version_minor": 0
      },
      "text/plain": [
       "HBox(children=(IntProgress(value=0, max=602), HTML(value='')))"
      ]
     },
     "metadata": {},
     "output_type": "display_data"
    },
    {
     "name": "stdout",
     "output_type": "stream",
     "text": [
      "Found array with 0 sample(s) (shape=(0, 5)) while a minimum of 1 is required. normal\n",
      "Found array with 0 sample(s) (shape=(0, 6)) while a minimum of 1 is required. normal_cyc\n",
      "Found array with 0 sample(s) (shape=(0, 3)) while a minimum of 1 is required. frac\n",
      "Found array with 0 sample(s) (shape=(0, 8)) while a minimum of 1 is required. frac_cyc\n",
      "Found array with 0 sample(s) (shape=(0, 5)) while a minimum of 1 is required. normal\n",
      "Found array with 0 sample(s) (shape=(0, 6)) while a minimum of 1 is required. normal_cyc\n",
      "Found array with 0 sample(s) (shape=(0, 3)) while a minimum of 1 is required. frac\n",
      "Found array with 0 sample(s) (shape=(0, 8)) while a minimum of 1 is required. frac_cyc\n",
      "Found array with 0 sample(s) (shape=(0, 5)) while a minimum of 1 is required. normal\n",
      "Found array with 0 sample(s) (shape=(0, 6)) while a minimum of 1 is required. normal_cyc\n",
      "Found array with 0 sample(s) (shape=(0, 3)) while a minimum of 1 is required. frac\n",
      "Found array with 0 sample(s) (shape=(0, 8)) while a minimum of 1 is required. frac_cyc\n",
      "Found array with 0 sample(s) (shape=(0, 5)) while a minimum of 1 is required. normal\n",
      "Found array with 0 sample(s) (shape=(0, 6)) while a minimum of 1 is required. normal_cyc\n",
      "Found array with 0 sample(s) (shape=(0, 3)) while a minimum of 1 is required. frac\n",
      "Found array with 0 sample(s) (shape=(0, 8)) while a minimum of 1 is required. frac_cyc\n",
      "Found array with 0 sample(s) (shape=(0, 5)) while a minimum of 1 is required. normal\n",
      "Found array with 0 sample(s) (shape=(0, 6)) while a minimum of 1 is required. normal_cyc\n",
      "Found array with 0 sample(s) (shape=(0, 4)) while a minimum of 1 is required. frac\n",
      "Found array with 0 sample(s) (shape=(0, 8)) while a minimum of 1 is required. frac_cyc\n",
      "Found array with 0 sample(s) (shape=(0, 5)) while a minimum of 1 is required. normal\n",
      "Found array with 0 sample(s) (shape=(0, 6)) while a minimum of 1 is required. normal_cyc\n",
      "Found array with 0 sample(s) (shape=(0, 4)) while a minimum of 1 is required. frac\n",
      "Found array with 0 sample(s) (shape=(0, 8)) while a minimum of 1 is required. frac_cyc\n",
      "Found array with 0 sample(s) (shape=(0, 5)) while a minimum of 1 is required. normal\n",
      "Found array with 0 sample(s) (shape=(0, 6)) while a minimum of 1 is required. normal_cyc\n",
      "Found array with 0 sample(s) (shape=(0, 3)) while a minimum of 1 is required. frac\n",
      "Found array with 0 sample(s) (shape=(0, 8)) while a minimum of 1 is required. frac_cyc\n",
      "Found array with 0 sample(s) (shape=(0, 5)) while a minimum of 1 is required. normal\n",
      "Found array with 0 sample(s) (shape=(0, 6)) while a minimum of 1 is required. normal_cyc\n",
      "Found array with 0 sample(s) (shape=(0, 3)) while a minimum of 1 is required. frac\n",
      "Found array with 0 sample(s) (shape=(0, 8)) while a minimum of 1 is required. frac_cyc\n",
      "Found array with 0 sample(s) (shape=(0, 5)) while a minimum of 1 is required. normal\n",
      "Found array with 0 sample(s) (shape=(0, 6)) while a minimum of 1 is required. normal_cyc\n",
      "Found array with 0 sample(s) (shape=(0, 3)) while a minimum of 1 is required. frac\n",
      "Found array with 0 sample(s) (shape=(0, 8)) while a minimum of 1 is required. frac_cyc\n",
      "Found array with 0 sample(s) (shape=(0, 5)) while a minimum of 1 is required. normal\n",
      "Found array with 0 sample(s) (shape=(0, 6)) while a minimum of 1 is required. normal_cyc\n",
      "Found array with 0 sample(s) (shape=(0, 3)) while a minimum of 1 is required. frac\n",
      "Found array with 0 sample(s) (shape=(0, 8)) while a minimum of 1 is required. frac_cyc\n",
      "Found array with 0 sample(s) (shape=(0, 5)) while a minimum of 1 is required. normal\n",
      "Found array with 0 sample(s) (shape=(0, 6)) while a minimum of 1 is required. normal_cyc\n",
      "Found array with 0 sample(s) (shape=(0, 3)) while a minimum of 1 is required. frac\n",
      "Found array with 0 sample(s) (shape=(0, 8)) while a minimum of 1 is required. frac_cyc\n",
      "Found array with 0 sample(s) (shape=(0, 5)) while a minimum of 1 is required. normal\n",
      "Found array with 0 sample(s) (shape=(0, 6)) while a minimum of 1 is required. normal_cyc\n",
      "Found array with 0 sample(s) (shape=(0, 3)) while a minimum of 1 is required. frac\n",
      "Found array with 0 sample(s) (shape=(0, 8)) while a minimum of 1 is required. frac_cyc\n",
      "Found array with 0 sample(s) (shape=(0, 5)) while a minimum of 1 is required. normal\n",
      "Found array with 0 sample(s) (shape=(0, 6)) while a minimum of 1 is required. normal_cyc\n",
      "Found array with 0 sample(s) (shape=(0, 3)) while a minimum of 1 is required. frac\n",
      "Found array with 0 sample(s) (shape=(0, 8)) while a minimum of 1 is required. frac_cyc\n",
      "Found array with 0 sample(s) (shape=(0, 5)) while a minimum of 1 is required. normal\n",
      "Found array with 0 sample(s) (shape=(0, 6)) while a minimum of 1 is required. normal_cyc\n",
      "Found array with 0 sample(s) (shape=(0, 3)) while a minimum of 1 is required. frac\n",
      "Found array with 0 sample(s) (shape=(0, 8)) while a minimum of 1 is required. frac_cyc\n",
      "\n"
     ]
    }
   ],
   "source": [
    "random_results = []\n",
    "\n",
    "for file in tqdm_notebook(os.listdir('data/')):\n",
    "    if file.endswith('.csv'):\n",
    "        random_results.append(data_testing(f'data/{file}', random_model))\n",
    "        \n",
    "        \n",
    "all_random_results = pd.concat(random_results)\n",
    "all_random_results.to_csv('results/random_forest_model.csv')"
   ]
  },
  {
   "cell_type": "code",
   "execution_count": 107,
   "metadata": {
    "ExecuteTime": {
     "end_time": "2019-02-12T20:33:03.462743Z",
     "start_time": "2019-02-12T20:33:03.250571Z"
    }
   },
   "outputs": [
    {
     "data": {
      "text/plain": [
       "frac_cyc      271\n",
       "normal        170\n",
       "normal_cyc     87\n",
       "frac           60\n",
       "dtype: int64"
      ]
     },
     "execution_count": 107,
     "metadata": {},
     "output_type": "execute_result"
    }
   ],
   "source": [
    "all_random_results.groupby('building_id').apply(lambda x: x.loc[x['score'].idxmax, 'method']).value_counts()"
   ]
  },
  {
   "cell_type": "code",
   "execution_count": null,
   "metadata": {},
   "outputs": [],
   "source": []
  }
 ],
 "metadata": {
  "hide_input": false,
  "kernelspec": {
   "display_name": "Python 3",
   "language": "python",
   "name": "python3"
  },
  "language_info": {
   "codemirror_mode": {
    "name": "ipython",
    "version": 3
   },
   "file_extension": ".py",
   "mimetype": "text/x-python",
   "name": "python",
   "nbconvert_exporter": "python",
   "pygments_lexer": "ipython3",
   "version": "3.6.5"
  },
  "toc": {
   "base_numbering": 1,
   "nav_menu": {},
   "number_sections": true,
   "sideBar": true,
   "skip_h1_title": false,
   "title_cell": "Table of Contents",
   "title_sidebar": "Contents",
   "toc_cell": false,
   "toc_position": {},
   "toc_section_display": true,
   "toc_window_display": false
  },
  "varInspector": {
   "cols": {
    "lenName": 16,
    "lenType": 16,
    "lenVar": 40
   },
   "kernels_config": {
    "python": {
     "delete_cmd_postfix": "",
     "delete_cmd_prefix": "del ",
     "library": "var_list.py",
     "varRefreshCmd": "print(var_dic_list())"
    },
    "r": {
     "delete_cmd_postfix": ") ",
     "delete_cmd_prefix": "rm(",
     "library": "var_list.r",
     "varRefreshCmd": "cat(var_dic_list()) "
    }
   },
   "types_to_exclude": [
    "module",
    "function",
    "builtin_function_or_method",
    "instance",
    "_Feature"
   ],
   "window_display": false
  }
 },
 "nbformat": 4,
 "nbformat_minor": 2
}
