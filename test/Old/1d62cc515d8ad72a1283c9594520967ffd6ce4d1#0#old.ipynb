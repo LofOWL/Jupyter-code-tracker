{
 "cells": [
  {
   "cell_type": "markdown",
   "metadata": {},
   "source": [
    "# Introduction: Plotting Bus Stops as Connected Graphs\n",
    "\n",
    "Using real-world data for learning graphs. The most effective way to learn is to apply a topic to actual data!"
   ]
  },
  {
   "cell_type": "code",
   "execution_count": 1,
   "metadata": {},
   "outputs": [],
   "source": [
    "# import geopandas as gpd\n",
    "import pandas as pd\n",
    "import numpy as np"
   ]
  },
  {
   "cell_type": "code",
   "execution_count": 2,
   "metadata": {},
   "outputs": [
    {
     "data": {
      "text/plain": [
       "['.ipynb_checkpoints',\n",
       " 'Bus Stop Shelters',\n",
       " 'Bus_Stop_Shelter.csv',\n",
       " 'Chapter2-Graphs.ipynb',\n",
       " 'Chapter3-SmallWorldGraphs.ipynb',\n",
       " 'Graphing Bus Stops.ipynb']"
      ]
     },
     "execution_count": 2,
     "metadata": {},
     "output_type": "execute_result"
    }
   ],
   "source": [
    "import os; os.listdir('.')"
   ]
  },
  {
   "cell_type": "code",
   "execution_count": 4,
   "metadata": {},
   "outputs": [
    {
     "name": "stdout",
     "output_type": "stream",
     "text": [
      "<class 'pandas.core.frame.DataFrame'>\n",
      "RangeIndex: 3428 entries, 0 to 3427\n",
      "Data columns (total 18 columns):\n",
      "CounDist      3428 non-null int64\n",
      "BoroCD        3428 non-null int64\n",
      "AssemDist     3428 non-null int64\n",
      "the_geom      3428 non-null object\n",
      "CongDist      3428 non-null int64\n",
      "StSenDist     3428 non-null int64\n",
      "SHELTER_ID    3428 non-null object\n",
      "LOCATION      3428 non-null object\n",
      "AT_BETWEEN    3428 non-null object\n",
      "LONGITUDE     3428 non-null float64\n",
      "LATITUDE      3428 non-null float64\n",
      "AssetID       3428 non-null int64\n",
      "BoroCode      3428 non-null int64\n",
      "BoroName      3428 non-null object\n",
      "Street        3424 non-null object\n",
      "SegmentID     3424 non-null float64\n",
      "PhysicalID    3428 non-null int64\n",
      "NODEID        3428 non-null int64\n",
      "dtypes: float64(3), int64(9), object(6)\n",
      "memory usage: 482.1+ KB\n"
     ]
    }
   ],
   "source": [
    "\n",
    "bus_stops = pd.read_csv('Bus_Stop_Shelter.csv')\n",
    "bus_stops.info()"
   ]
  },
  {
   "cell_type": "code",
   "execution_count": null,
   "metadata": {},
   "outputs": [],
   "source": [
    "bus_stops.head()"
   ]
  },
  {
   "cell_type": "code",
   "execution_count": 6,
   "metadata": {},
   "outputs": [
    {
     "ename": "ModuleNotFoundError",
     "evalue": "No module named 'plotly_express'",
     "output_type": "error",
     "traceback": [
      "\u001b[1;31m---------------------------------------------------------------------------\u001b[0m",
      "\u001b[1;31mModuleNotFoundError\u001b[0m                       Traceback (most recent call last)",
      "\u001b[1;32m<ipython-input-6-f1448fef2856>\u001b[0m in \u001b[0;36m<module>\u001b[1;34m\u001b[0m\n\u001b[1;32m----> 1\u001b[1;33m \u001b[1;32mimport\u001b[0m \u001b[0mplotly_express\u001b[0m \u001b[1;32mas\u001b[0m \u001b[0mpx\u001b[0m\u001b[1;33m\u001b[0m\u001b[1;33m\u001b[0m\u001b[0m\n\u001b[0m",
      "\u001b[1;31mModuleNotFoundError\u001b[0m: No module named 'plotly_express'"
     ]
    }
   ],
   "source": [
    "import plotly_express as px"
   ]
  },
  {
   "cell_type": "code",
   "execution_count": 7,
   "metadata": {},
   "outputs": [
    {
     "ename": "NameError",
     "evalue": "name 'px' is not defined",
     "output_type": "error",
     "traceback": [
      "\u001b[1;31m---------------------------------------------------------------------------\u001b[0m",
      "\u001b[1;31mNameError\u001b[0m                                 Traceback (most recent call last)",
      "\u001b[1;32m<ipython-input-7-a11ee2e6fae2>\u001b[0m in \u001b[0;36m<module>\u001b[1;34m\u001b[0m\n\u001b[1;32m----> 1\u001b[1;33m \u001b[0mpx\u001b[0m\u001b[1;33m.\u001b[0m\u001b[0mscatter\u001b[0m\u001b[1;33m(\u001b[0m\u001b[0mbus_stops\u001b[0m\u001b[1;33m,\u001b[0m \u001b[1;34m'LONGITUDE'\u001b[0m\u001b[1;33m,\u001b[0m \u001b[1;34m'LATITUDE'\u001b[0m\u001b[1;33m)\u001b[0m\u001b[1;33m\u001b[0m\u001b[1;33m\u001b[0m\u001b[0m\n\u001b[0m",
      "\u001b[1;31mNameError\u001b[0m: name 'px' is not defined"
     ]
    }
   ],
   "source": [
    "px.scatter(bus_stops, 'LONGITUDE', 'LATITUDE')"
   ]
  },
  {
   "cell_type": "code",
   "execution_count": null,
   "metadata": {},
   "outputs": [],
   "source": []
  }
 ],
 "metadata": {
  "kernelspec": {
   "display_name": "Python 3",
   "language": "python",
   "name": "python3"
  },
  "language_info": {
   "codemirror_mode": {
    "name": "ipython",
    "version": 3
   },
   "file_extension": ".py",
   "mimetype": "text/x-python",
   "name": "python",
   "nbconvert_exporter": "python",
   "pygments_lexer": "ipython3",
   "version": "3.7.3"
  }
 },
 "nbformat": 4,
 "nbformat_minor": 2
}
